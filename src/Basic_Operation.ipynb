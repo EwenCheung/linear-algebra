{
 "cells": [
  {
   "cell_type": "markdown",
   "id": "5f13ff3d",
   "metadata": {},
   "source": [
    "## REF and RREF"
   ]
  },
  {
   "cell_type": "code",
   "execution_count": 1,
   "id": "979e0f6e",
   "metadata": {},
   "outputs": [],
   "source": [
    "# Required imports\n",
    "import sympy as sym\n",
    "import sys, os\n",
    "from ma1522.symbolic import Matrix\n"
   ]
  },
  {
   "cell_type": "code",
   "execution_count": 2,
   "id": "ebaefa63",
   "metadata": {},
   "outputs": [
    {
     "data": {
      "text/latex": [
       "$\\displaystyle \\left[\\begin{array}{ccc|c}3 & 2 & -4 & 3\\\\2 & 3 & 3 & 15\\\\5 & -3 & 1 & 14\\end{array}\\right]$"
      ],
      "text/plain": [
       "Matrix([\n",
       "[3,  2, -4 |  3]\n",
       "[2,  3,  3 | 15]\n",
       "[5, -3,  1 | 14]\n",
       "])"
      ]
     },
     "execution_count": 2,
     "metadata": {},
     "output_type": "execute_result"
    }
   ],
   "source": [
    "A = Matrix([[3, 2, -4],\n",
    "              [2, 3, 3],\n",
    "              [5, -3, 1]])\n",
    "B = Matrix([3, 15, 14])\n",
    "\n",
    "R = A.row_join(B)\n",
    "R"
   ]
  },
  {
   "cell_type": "code",
   "execution_count": 3,
   "id": "a71be827",
   "metadata": {},
   "outputs": [
    {
     "data": {
      "text/latex": [
       "$\\displaystyle \\left[\\begin{array}{ccc|c}3 & 2 & -4 & 3\\\\2 & 3 & 3 & 15\\\\5 & -3 & 1 & 14\\end{array}\\right]$"
      ],
      "text/plain": [
       "Matrix([\n",
       "[3,  2, -4 |  3]\n",
       "[2,  3,  3 | 15]\n",
       "[5, -3,  1 | 14]\n",
       "])"
      ]
     },
     "execution_count": 3,
     "metadata": {},
     "output_type": "execute_result"
    }
   ],
   "source": [
    "# there is some bug in the from str , so better not using this \n",
    "R = Matrix.from_str(\"3 2 -4 3; 2 3 3 15; 5 -3 1 14\", aug_pos=2)\n",
    "R"
   ]
  },
  {
   "cell_type": "code",
   "execution_count": 4,
   "id": "566c3c86",
   "metadata": {},
   "outputs": [
    {
     "data": {
      "text/latex": [
       "$\\displaystyle \\left[\\begin{array}{ccc|c}3 & 2 & -4 & 3\\\\2 & 3 & 3 & 15\\\\5 & -3 & 1 & 14\\end{array}\\right]$"
      ],
      "text/plain": [
       "Matrix([\n",
       "[3,  2, -4 |  3]\n",
       "[2,  3,  3 | 15]\n",
       "[5, -3,  1 | 14]\n",
       "])"
      ]
     },
     "execution_count": 4,
     "metadata": {},
     "output_type": "execute_result"
    }
   ],
   "source": [
    "A = Matrix.from_str(\"3 2 -4; 2 3 3; 5 -3 1\")\n",
    "B = Matrix.from_str(\"3; 15; 14\")\n",
    "\n",
    "R = A.row_join(B)\n",
    "R"
   ]
  },
  {
   "cell_type": "markdown",
   "id": "2398a823",
   "metadata": {},
   "source": [
    "### Methods to slice a Matrix"
   ]
  },
  {
   "cell_type": "code",
   "execution_count": 5,
   "id": "6ff4c754",
   "metadata": {},
   "outputs": [
    {
     "data": {
      "text/latex": [
       "$\\displaystyle \\left[\\begin{array}{cccc}3 & 2 & -4 & 3\\\\2 & 3 & 3 & 15\\end{array}\\right]$"
      ],
      "text/plain": [
       "Matrix([\n",
       "[3, 2, -4,  3]\n",
       "[2, 3,  3, 15]\n",
       "])"
      ]
     },
     "metadata": {},
     "output_type": "display_data"
    },
    {
     "data": {
      "text/latex": [
       "$\\displaystyle \\left[\\begin{array}{ccc}3 & 2 & -4\\\\2 & 3 & 3\\\\5 & -3 & 1\\end{array}\\right]$"
      ],
      "text/plain": [
       "Matrix([\n",
       "[3,  2, -4]\n",
       "[2,  3,  3]\n",
       "[5, -3,  1]\n",
       "])"
      ]
     },
     "metadata": {},
     "output_type": "display_data"
    }
   ],
   "source": [
    "display(R.select_rows(0, 1))\n",
    "display(R.select_cols(0, 1, 2))"
   ]
  },
  {
   "cell_type": "code",
   "execution_count": 6,
   "id": "7a7a2775",
   "metadata": {},
   "outputs": [
    {
     "data": {
      "text/latex": [
       "$\\displaystyle \\left[\\begin{array}{cc|cc}-4 & 3 & 3 & 2\\\\3 & 15 & 2 & 3\\\\1 & 14 & 5 & -3\\end{array}\\right]$"
      ],
      "text/plain": [
       "Matrix([\n",
       "[-4,  3 | 3,  2]\n",
       "[ 3, 15 | 2,  3]\n",
       "[ 1, 14 | 5, -3]\n",
       "])"
      ]
     },
     "execution_count": 6,
     "metadata": {},
     "output_type": "execute_result"
    }
   ],
   "source": [
    "R = R[:,2:].row_join(R[:,:2])\n",
    "R"
   ]
  },
  {
   "cell_type": "markdown",
   "id": "7a9494e0",
   "metadata": {},
   "source": [
    "### REF\n",
    "\n",
    "only ref can use verbose, but rref cannot"
   ]
  },
  {
   "cell_type": "code",
   "execution_count": 7,
   "id": "f99d87aa",
   "metadata": {},
   "outputs": [
    {
     "data": {
      "text/latex": [
       "$\\left[\\begin{array}{ccc}1 & 0 & 0\\\\0 & 1 & 0\\\\0 & 0 & 1\\end{array}\\right]\\left[\\begin{array}{ccc}1 & 0 & 0\\\\- \\frac{3}{4} & 1 & 0\\\\- \\frac{1}{4} & \\frac{59}{69} & 1\\end{array}\\right]\\left[\\begin{array}{cc|cc}-4 & 3 & 3 & 2\\\\0 & \\frac{69}{4} & \\frac{17}{4} & \\frac{9}{2}\\\\0 & 0 & \\frac{146}{69} & - \\frac{146}{23}\\end{array}\\right]$"
      ],
      "text/plain": [
       "PLU(P=Matrix([\n",
       "[1, 0, 0]\n",
       "[0, 1, 0]\n",
       "[0, 0, 1]\n",
       "]), L=Matrix([\n",
       "[   1,     0, 0]\n",
       "[-3/4,     1, 0]\n",
       "[-1/4, 59/69, 1]\n",
       "]), U=Matrix([\n",
       "[-4,    3 |      3,       2]\n",
       "[ 0, 69/4 |   17/4,     9/2]\n",
       "[ 0,    0 | 146/69, -146/23]\n",
       "]))"
      ]
     },
     "execution_count": 7,
     "metadata": {},
     "output_type": "execute_result"
    }
   ],
   "source": [
    "ref = R.ref(verbosity=0) # 0 means no step, 1 for Row , 2 for detailed steps\n",
    "ref"
   ]
  },
  {
   "cell_type": "markdown",
   "id": "461bd087",
   "metadata": {},
   "source": [
    "### RREF"
   ]
  },
  {
   "cell_type": "code",
   "execution_count": 8,
   "id": "32bd6f6a",
   "metadata": {},
   "outputs": [
    {
     "data": {
      "text/latex": [
       "$\\text{RREF}\\left\\{\\text{rref} = \\left[\\begin{array}{cc|cc}1 & 0 & 0 & -2\\\\0 & 1 & 0 & 1\\\\0 & 0 & 1 & -3\\end{array}\\right], \\quad\\text{pivots} = (0, 1, 2)\\right\\}$"
      ],
      "text/plain": [
       "RREF(rref=Matrix([\n",
       "[1, 0 | 0, -2]\n",
       "[0, 1 | 0,  1]\n",
       "[0, 0 | 1, -3]\n",
       "]), pivots=(0, 1, 2))"
      ]
     },
     "execution_count": 8,
     "metadata": {},
     "output_type": "execute_result"
    }
   ],
   "source": [
    "# rref from augmented matrix\n",
    "rref1 = R.rref()\n",
    "rref1"
   ]
  },
  {
   "cell_type": "code",
   "execution_count": 9,
   "id": "b871cb33",
   "metadata": {},
   "outputs": [
    {
     "data": {
      "text/latex": [
       "$\\text{RREF}\\left\\{\\text{rref} = \\left[\\begin{array}{cc|cc}1 & 0 & 0 & -2\\\\0 & 1 & 0 & 1\\\\0 & 0 & 1 & -3\\end{array}\\right], \\quad\\text{pivots} = (0, 1, 2)\\right\\}$"
      ],
      "text/plain": [
       "RREF(rref=Matrix([\n",
       "[1, 0 | 0, -2]\n",
       "[0, 1 | 0,  1]\n",
       "[0, 0 | 1, -3]\n",
       "]), pivots=(0, 1, 2))"
      ]
     },
     "execution_count": 9,
     "metadata": {},
     "output_type": "execute_result"
    }
   ],
   "source": [
    "# rref from ref\n",
    "ref.U.rref()"
   ]
  },
  {
   "cell_type": "markdown",
   "id": "728360d6",
   "metadata": {},
   "source": [
    "### Identity Matrix / Zero Matrix / Symbolic Matrix"
   ]
  },
  {
   "cell_type": "code",
   "execution_count": 10,
   "id": "916edafc",
   "metadata": {},
   "outputs": [
    {
     "data": {
      "text/latex": [
       "$\\displaystyle \\left[\\begin{array}{ccc}1 & 0 & 0\\\\0 & 1 & 0\\\\0 & 0 & 1\\end{array}\\right]$"
      ],
      "text/plain": [
       "Matrix([\n",
       "[1, 0, 0]\n",
       "[0, 1, 0]\n",
       "[0, 0, 1]\n",
       "])"
      ]
     },
     "metadata": {},
     "output_type": "display_data"
    }
   ],
   "source": [
    "I = Matrix.eye(3)\n",
    "display(I)"
   ]
  },
  {
   "cell_type": "code",
   "execution_count": 11,
   "id": "e6a49c1b",
   "metadata": {},
   "outputs": [
    {
     "data": {
      "text/latex": [
       "$\\displaystyle \\left[\\begin{array}{ccc}0 & 0 & 0\\\\0 & 0 & 0\\end{array}\\right]$"
      ],
      "text/plain": [
       "Matrix([\n",
       "[0, 0, 0]\n",
       "[0, 0, 0]\n",
       "])"
      ]
     },
     "metadata": {},
     "output_type": "display_data"
    }
   ],
   "source": [
    "Z = Matrix.zeros(2, 3)\n",
    "display(Z)"
   ]
  },
  {
   "cell_type": "markdown",
   "id": "b70aff38",
   "metadata": {},
   "source": [
    "Symbolic matrix : Create a matrix with symbolic entries. This is useful to solve matrices whose entries are not known ahead of time."
   ]
  },
  {
   "cell_type": "code",
   "execution_count": 12,
   "id": "86f020e9",
   "metadata": {},
   "outputs": [
    {
     "data": {
      "text/latex": [
       "$\\displaystyle \\left[\\begin{matrix}s_{1,1} & s_{1,2}\\\\s_{2,1} & s_{2,2}\\end{matrix}\\right]$"
      ],
      "text/plain": [
       "Matrix([\n",
       "[s_1,1, s_1,2],\n",
       "[s_2,1, s_2,2]])"
      ]
     },
     "metadata": {},
     "output_type": "display_data"
    }
   ],
   "source": [
    "S = Matrix.create_unk_matrix(2, 2, 's')\n",
    "display(S)"
   ]
  },
  {
   "cell_type": "markdown",
   "id": "cec6a15a",
   "metadata": {},
   "source": [
    "### Basic Operation ( + , - , *, @, transpose)"
   ]
  },
  {
   "cell_type": "code",
   "execution_count": 13,
   "id": "4437d767",
   "metadata": {},
   "outputs": [
    {
     "name": "stdout",
     "output_type": "stream",
     "text": [
      "A - 2B =\n"
     ]
    },
    {
     "data": {
      "text/latex": [
       "$\\displaystyle \\left[\\begin{array}{cc}-9 & -10\\\\-11 & -12\\end{array}\\right]$"
      ],
      "text/plain": [
       "Matrix([\n",
       "[ -9, -10]\n",
       "[-11, -12]\n",
       "])"
      ]
     },
     "metadata": {},
     "output_type": "display_data"
    },
    {
     "name": "stdout",
     "output_type": "stream",
     "text": [
      "2 * A =\n"
     ]
    },
    {
     "data": {
      "text/latex": [
       "$\\displaystyle \\left[\\begin{array}{cc}2 & 4\\\\6 & 8\\end{array}\\right]$"
      ],
      "text/plain": [
       "Matrix([\n",
       "[2, 4]\n",
       "[6, 8]\n",
       "])"
      ]
     },
     "metadata": {},
     "output_type": "display_data"
    },
    {
     "name": "stdout",
     "output_type": "stream",
     "text": [
      "A @ B =\n"
     ]
    },
    {
     "data": {
      "text/latex": [
       "$\\displaystyle \\left[\\begin{array}{cc}19 & 22\\\\43 & 50\\end{array}\\right]$"
      ],
      "text/plain": [
       "Matrix([\n",
       "[19, 22]\n",
       "[43, 50]\n",
       "])"
      ]
     },
     "metadata": {},
     "output_type": "display_data"
    },
    {
     "name": "stdout",
     "output_type": "stream",
     "text": [
      "A^T =\n"
     ]
    },
    {
     "data": {
      "text/latex": [
       "$\\displaystyle \\left[\\begin{array}{cc}1 & 3\\\\2 & 4\\end{array}\\right]$"
      ],
      "text/plain": [
       "Matrix([\n",
       "[1, 3]\n",
       "[2, 4]\n",
       "])"
      ]
     },
     "metadata": {},
     "output_type": "display_data"
    }
   ],
   "source": [
    "A = Matrix([[1, 2], \n",
    "            [3, 4]])\n",
    "B = Matrix([[5, 6], \n",
    "            [7, 8]])\n",
    "\n",
    "# Addition\n",
    "print(\"A - 2B =\")\n",
    "display(A - 2* B)\n",
    "\n",
    "# Scalar Multiplication ( for divide , only can A/n , can also use 1/n * A) \n",
    "print(\"2 * A =\")\n",
    "display(2 * A)\n",
    "\n",
    "# Matrix Multiplication\n",
    "print(\"A @ B =\")\n",
    "display(A @ B)\n",
    "\n",
    "# Transpose\n",
    "print(\"A^T =\")\n",
    "display(A.T)"
   ]
  },
  {
   "cell_type": "markdown",
   "id": "4daefaca",
   "metadata": {},
   "source": [
    "### Solve Linear System"
   ]
  },
  {
   "cell_type": "code",
   "execution_count": 14,
   "id": "fc1d8259",
   "metadata": {},
   "outputs": [
    {
     "data": {
      "text/latex": [
       "$\\text{RREF}\\left\\{\\text{rref} = \\left[\\begin{array}{ccc|c}1 & 0 & 0 & - \\frac{1}{3}\\\\0 & 1 & 0 & \\frac{2}{3}\\\\0 & 0 & 1 & 0\\end{array}\\right], \\quad\\text{pivots} = (0, 1, 2)\\right\\}$"
      ],
      "text/plain": [
       "RREF(rref=Matrix([\n",
       "[1, 0, 0 | -1/3]\n",
       "[0, 1, 0 |  2/3]\n",
       "[0, 0, 1 |    0]\n",
       "]), pivots=(0, 1, 2))"
      ]
     },
     "metadata": {},
     "output_type": "display_data"
    },
    {
     "data": {
      "text/latex": [
       "$\\displaystyle \\left[\\begin{array}{c}- \\frac{1}{3}\\\\\\frac{2}{3}\\\\0\\end{array}\\right]$"
      ],
      "text/plain": [
       "Matrix([\n",
       "[-1/3]\n",
       "[ 2/3]\n",
       "[   0]\n",
       "])"
      ]
     },
     "metadata": {},
     "output_type": "display_data"
    }
   ],
   "source": [
    "A = Matrix([[1, 2, 3], \n",
    "            [4, 5, 5], \n",
    "            [7, 8, 9]])\n",
    "\n",
    "b = Matrix([1, \n",
    "            2, \n",
    "            3])\n",
    "\n",
    "A.row_join(b).rref()\n",
    "display(A.row_join(b).rref()) # can view answer by rref or \n",
    "x = A.solve(rhs=b)[0] # directly use solve function\n",
    "display(x)"
   ]
  },
  {
   "cell_type": "code",
   "execution_count": 15,
   "id": "04e1983b",
   "metadata": {},
   "outputs": [
    {
     "data": {
      "text/latex": [
       "$\\text{RREF}\\left\\{\\text{rref} = \\left[\\begin{array}{ccccc|c}1 & 0 & 0 & - \\frac{5}{3} & - \\frac{11}{2} & - \\frac{1}{3}\\\\0 & 1 & 0 & \\frac{4}{3} & \\frac{13}{2} & \\frac{2}{3}\\\\0 & 0 & 1 & 1 & - \\frac{1}{2} & 0\\end{array}\\right], \\quad\\text{pivots} = (0, 1, 2)\\right\\}$"
      ],
      "text/plain": [
       "RREF(rref=Matrix([\n",
       "[1, 0, 0, -5/3, -11/2 | -1/3]\n",
       "[0, 1, 0,  4/3,  13/2 |  2/3]\n",
       "[0, 0, 1,    1,  -1/2 |    0]\n",
       "]), pivots=(0, 1, 2))"
      ]
     },
     "metadata": {},
     "output_type": "display_data"
    },
    {
     "data": {
      "text/latex": [
       "$\\displaystyle \\left[\\begin{array}{c}\\frac{5 y}{3} + \\frac{11 z}{2} - \\frac{1}{3}\\\\- \\frac{4 y}{3} - \\frac{13 z}{2} + \\frac{2}{3}\\\\- y + \\frac{z}{2}\\\\y\\\\z\\end{array}\\right]$"
      ],
      "text/plain": [
       "Matrix([\n",
       "[ 5*y/3 + 11*z/2 - 1/3]\n",
       "[-4*y/3 - 13*z/2 + 2/3]\n",
       "[             -y + z/2]\n",
       "[                    y]\n",
       "[                    z]\n",
       "])"
      ]
     },
     "metadata": {},
     "output_type": "display_data"
    }
   ],
   "source": [
    "A = Matrix([[1, 2, 3, 4, 6], \n",
    "            [4, 5, 5, 5, 8], \n",
    "            [7, 8, 9, 8, 9]])\n",
    "\n",
    "b = Matrix([1, \n",
    "            2, \n",
    "            3])\n",
    "\n",
    "# Solve directly\n",
    "display(A.row_join(b).rref())\n",
    "x = A.solve(rhs=b)[0]\n",
    "display(x)"
   ]
  },
  {
   "cell_type": "markdown",
   "id": "aede7e11",
   "metadata": {},
   "source": [
    "### Aug Line"
   ]
  },
  {
   "cell_type": "code",
   "execution_count": 16,
   "id": "f88f3c14",
   "metadata": {},
   "outputs": [
    {
     "data": {
      "text/latex": [
       "$\\displaystyle \\left[\\begin{array}{c|cccc}1 & 2 & 3 & 4 & 6\\\\4 & 5 & 5 & 5 & 8\\\\7 & 8 & 9 & 8 & 9\\end{array}\\right]$"
      ],
      "text/plain": [
       "Matrix([ \n",
       "[1 | 2, 3, 4, 6] \n",
       "[4 | 5, 5, 5, 8] \n",
       "[7 | 8, 9, 8, 9] \n",
       "])"
      ]
     },
     "execution_count": 16,
     "metadata": {},
     "output_type": "execute_result"
    }
   ],
   "source": [
    "A.aug_line(0) # update A, and add a line at poition"
   ]
  }
 ],
 "metadata": {
  "kernelspec": {
   "display_name": "ma1522-linear-algebra (3.10.18)",
   "language": "python",
   "name": "python3"
  },
  "language_info": {
   "codemirror_mode": {
    "name": "ipython",
    "version": 3
   },
   "file_extension": ".py",
   "mimetype": "text/x-python",
   "name": "python",
   "nbconvert_exporter": "python",
   "pygments_lexer": "ipython3",
   "version": "3.10.18"
  }
 },
 "nbformat": 4,
 "nbformat_minor": 5
}

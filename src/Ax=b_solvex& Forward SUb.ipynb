{
 "cells": [
  {
   "cell_type": "code",
   "execution_count": 2,
   "id": "8df6b780",
   "metadata": {},
   "outputs": [],
   "source": [
    "# Required imports\n",
    "import sympy as sym\n",
    "import sys, os\n",
    "from ma1522 import Matrix\n"
   ]
  },
  {
   "cell_type": "markdown",
   "id": "90a0d1a1",
   "metadata": {},
   "source": [
    "## Solving Linear Systems\n",
    "\n",
    "Let's solve the matrix equation $\\mathbf{Ax} = \\mathbf{b}$.\n",
    "\n",
    "Find x for Ax = b , with A and b"
   ]
  },
  {
   "cell_type": "markdown",
   "id": "93bf44c8",
   "metadata": {},
   "source": [
    "Normally in matlab:\n",
    "- A = [1 2 3; 4 5 5; 7 8 9]\n",
    "- B = [1;2;3]\n",
    "- R = [A B]\n",
    "- rref(R), then find what is each x1 x2 x3"
   ]
  },
  {
   "cell_type": "code",
   "execution_count": 3,
   "id": "28d6a03f",
   "metadata": {},
   "outputs": [
    {
     "data": {
      "text/latex": [
       "$\\displaystyle \\left[\\begin{array}{c}- \\frac{1}{3}\\\\\\frac{2}{3}\\\\0\\end{array}\\right]$"
      ],
      "text/plain": [
       "Matrix([\n",
       "[-1/3]\n",
       "[ 2/3]\n",
       "[   0]\n",
       "])"
      ]
     },
     "metadata": {},
     "output_type": "display_data"
    }
   ],
   "source": [
    "A = Matrix([[1, 2, 3], \n",
    "            [4, 5, 5], \n",
    "            [7, 8, 9]])\n",
    "\n",
    "b = Matrix([1, \n",
    "            2, \n",
    "            3])\n",
    "\n",
    "# Solve directly\n",
    "x = A.solve(rhs=b)[0]\n",
    "display(x)"
   ]
  },
  {
   "cell_type": "code",
   "execution_count": 4,
   "id": "9c65cdce",
   "metadata": {},
   "outputs": [
    {
     "data": {
      "text/latex": [
       "$\\displaystyle \\left[\\begin{array}{c}- 3 z - 2\\\\\\frac{19 z}{2} + 2\\\\\\frac{9 z}{2}\\\\z\\end{array}\\right]$"
      ],
      "text/plain": [
       "Matrix([\n",
       "[  -3*z - 2]\n",
       "[19*z/2 + 2]\n",
       "[     9*z/2]\n",
       "[         z]\n",
       "])"
      ]
     },
     "execution_count": 4,
     "metadata": {},
     "output_type": "execute_result"
    }
   ],
   "source": [
    "mat = Matrix([[1, 1, -1, -2],\n",
    "              [2, 1, -1, 1],\n",
    "              [-1, 1, -3, 1]])\n",
    "\n",
    "aug = Matrix([0, -2, 4])\n",
    "\n",
    "mat.solve(rhs=aug)[0]"
   ]
  },
  {
   "cell_type": "markdown",
   "id": "7061f9b4",
   "metadata": {},
   "source": [
    "## Tut 3 Question 2 Forward Sub\n",
    "\n",
    "Find an LU factorization for the matrices $\\mathbf{A}$, and solve the equation $\\mathbf{A}x = b$."
   ]
  },
  {
   "cell_type": "markdown",
   "id": "934c49a6",
   "metadata": {},
   "source": [
    "### (a)\n",
    "\n",
    "$\\mathbf{A} = \\begin{pmatrix} 2 & -1 & 2 \\\\ -6 & 0 & -2 \\\\ 8 & -1 & 5 \\end{pmatrix}$ and $b = \\begin{pmatrix} 1 \\\\ 0 \\\\ 4 \\end{pmatrix}$. Find LU Factoization for matrix A, Ax = b"
   ]
  },
  {
   "cell_type": "code",
   "execution_count": 5,
   "id": "823ccdc0",
   "metadata": {},
   "outputs": [
    {
     "data": {
      "text/latex": [
       "$\\displaystyle \\left[\\begin{array}{ccc|c}2 & -1 & 2 & 1\\\\-6 & 0 & -2 & 0\\\\8 & -1 & 5 & 4\\end{array}\\right]$"
      ],
      "text/plain": [
       "Matrix([\n",
       "[ 2, -1,  2 | 1]\n",
       "[-6,  0, -2 | 0]\n",
       "[ 8, -1,  5 | 4]\n",
       "])"
      ]
     },
     "execution_count": 5,
     "metadata": {},
     "output_type": "execute_result"
    }
   ],
   "source": [
    "A = Matrix([[2, -1, 2],\n",
    "            [-6, 0, -2],\n",
    "            [8, -1, 5]])\n",
    "b = Matrix([[1],\n",
    "            [0],\n",
    "            [4]])\n",
    "\n",
    "aug_mat = A.row_join(b)\n",
    "aug_mat"
   ]
  },
  {
   "cell_type": "markdown",
   "id": "348d1cf6",
   "metadata": {},
   "source": [
    "## Forward Sub\n",
    "\n",
    "1. Ax = LUx = b\n",
    "2. sub Ux = y\n",
    "3. LUx = b -> Ly = b\n",
    "4. solve y from L and b\n",
    "5. Get y\n",
    "6. Solve x from U and y"
   ]
  },
  {
   "cell_type": "code",
   "execution_count": 6,
   "id": "4b1dab06",
   "metadata": {},
   "outputs": [
    {
     "data": {
      "text/latex": [
       "$\\left[\\begin{array}{ccc}1 & 0 & 0\\\\0 & 1 & 0\\\\0 & 0 & 1\\end{array}\\right]\\left[\\begin{array}{ccc}1 & 0 & 0\\\\-3 & 1 & 0\\\\4 & -1 & 1\\end{array}\\right]\\left[\\begin{array}{ccc}2 & -1 & 2\\\\0 & -3 & 4\\\\0 & 0 & 1\\end{array}\\right]$"
      ],
      "text/plain": [
       "PLU(P=Matrix([\n",
       "[1, 0, 0]\n",
       "[0, 1, 0]\n",
       "[0, 0, 1]\n",
       "]), L=Matrix([\n",
       "[ 1,  0, 0]\n",
       "[-3,  1, 0]\n",
       "[ 4, -1, 1]\n",
       "]), U=Matrix([\n",
       "[2, -1, 2] \n",
       "[0, -3, 4] \n",
       "[0,  0, 1] \n",
       "]))"
      ]
     },
     "execution_count": 6,
     "metadata": {},
     "output_type": "execute_result"
    }
   ],
   "source": [
    "plu = A.ref(verbosity=0)\n",
    "plu # The LU factorization of A is given by the matrices L and U\n",
    "# You may ignore P as it is the identity matrix, which suggest that it is LU factorisable."
   ]
  },
  {
   "cell_type": "code",
   "execution_count": 7,
   "id": "2afff1a4",
   "metadata": {},
   "outputs": [
    {
     "data": {
      "text/latex": [
       "$\\displaystyle \\left[\\begin{array}{c}1\\\\3\\\\3\\end{array}\\right]$"
      ],
      "text/plain": [
       "Matrix([\n",
       "[1]\n",
       "[3]\n",
       "[3]\n",
       "])"
      ]
     },
     "execution_count": 7,
     "metadata": {},
     "output_type": "execute_result"
    }
   ],
   "source": [
    "y = plu.L.solve(b)[0]\n",
    "y"
   ]
  },
  {
   "cell_type": "code",
   "execution_count": 8,
   "id": "0b409ed4",
   "metadata": {},
   "outputs": [
    {
     "data": {
      "text/latex": [
       "$\\displaystyle \\left[\\begin{array}{c}-1\\\\3\\\\3\\end{array}\\right]$"
      ],
      "text/plain": [
       "Matrix([\n",
       "[-1]\n",
       "[ 3]\n",
       "[ 3]\n",
       "])"
      ]
     },
     "execution_count": 8,
     "metadata": {},
     "output_type": "execute_result"
    }
   ],
   "source": [
    "x = plu.U.solve(y)[0]\n",
    "x"
   ]
  },
  {
   "cell_type": "markdown",
   "id": "0a23029f",
   "metadata": {},
   "source": [
    "Found x , for Ax = b using LU"
   ]
  },
  {
   "cell_type": "markdown",
   "id": "ea1e4d0e",
   "metadata": {},
   "source": [
    "## Ax = b , given x and b, find A"
   ]
  },
  {
   "cell_type": "markdown",
   "id": "c0d7049e",
   "metadata": {},
   "source": [
    "<img src=\"/Users/ewencheung/Documents/GitHub/linear-algebra/docs/assets/images/2324 17.png\" alt=\"Tutorial 1 Question 7: Traffic Network\">"
   ]
  },
  {
   "cell_type": "markdown",
   "id": "44ed5927",
   "metadata": {},
   "source": [
    "1. Ax = b\n",
    "2. A = b @ x.inv() # but x only can inverse if it is square matrix, hence merge"
   ]
  },
  {
   "cell_type": "code",
   "execution_count": 9,
   "id": "399aea34",
   "metadata": {},
   "outputs": [],
   "source": [
    "B = Matrix.from_str(\"2 6 3 7 5; 2 4 4 8 2; -1 6 2 4 0\").T\n",
    "# Because inverse must be square matrix, so combine them\n",
    "x = Matrix.from_str(\"1 1 1; 1 1 0; 0 1 1\").T\n"
   ]
  },
  {
   "cell_type": "code",
   "execution_count": 10,
   "id": "8b56be54",
   "metadata": {},
   "outputs": [
    {
     "data": {
      "text/latex": [
       "$\\displaystyle \\left[\\begin{array}{ccc}3 & -1 & 0\\\\0 & 4 & 2\\\\1 & 3 & -1\\\\3 & 5 & -1\\\\5 & -3 & 3\\end{array}\\right]$"
      ],
      "text/plain": [
       "Matrix([\n",
       "[3, -1,  0]\n",
       "[0,  4,  2]\n",
       "[1,  3, -1]\n",
       "[3,  5, -1]\n",
       "[5, -3,  3]\n",
       "])"
      ]
     },
     "execution_count": 10,
     "metadata": {},
     "output_type": "execute_result"
    }
   ],
   "source": [
    "A = B@x.inv()\n",
    "A\n"
   ]
  },
  {
   "cell_type": "code",
   "execution_count": 11,
   "id": "476b26fc",
   "metadata": {},
   "outputs": [
    {
     "data": {
      "text/latex": [
       "$\\displaystyle \\left[\\begin{array}{c}3\\\\2\\\\0\\\\2\\\\8\\end{array}\\right]$"
      ],
      "text/plain": [
       "Matrix([\n",
       "[3]\n",
       "[2]\n",
       "[0]\n",
       "[2]\n",
       "[8]\n",
       "])"
      ]
     },
     "execution_count": 11,
     "metadata": {},
     "output_type": "execute_result"
    }
   ],
   "source": [
    "# Check\n",
    "x4 = Matrix.from_str(\"1 0 1\").T\n",
    "A @ x4 # correct"
   ]
  },
  {
   "cell_type": "code",
   "execution_count": 13,
   "id": "947f67c7",
   "metadata": {},
   "outputs": [
    {
     "data": {
      "text/latex": [
       "$\\displaystyle \\left[\\begin{array}{c}1\\\\10\\\\6\\\\12\\\\2\\end{array}\\right]$"
      ],
      "text/plain": [
       "Matrix([\n",
       "[ 1]\n",
       "[10]\n",
       "[ 6]\n",
       "[12]\n",
       "[ 2]\n",
       "])"
      ]
     },
     "execution_count": 13,
     "metadata": {},
     "output_type": "execute_result"
    }
   ],
   "source": [
    "Ans = A @ Matrix.from_str(\"1 2 1\").T\n",
    "Ans"
   ]
  },
  {
   "cell_type": "code",
   "execution_count": null,
   "id": "27920a47",
   "metadata": {},
   "outputs": [],
   "source": []
  },
  {
   "cell_type": "code",
   "execution_count": null,
   "id": "eefb07bb",
   "metadata": {},
   "outputs": [],
   "source": []
  }
 ],
 "metadata": {
  "kernelspec": {
   "display_name": "ma1522-linear-algebra (3.10.18)",
   "language": "python",
   "name": "python3"
  },
  "language_info": {
   "codemirror_mode": {
    "name": "ipython",
    "version": 3
   },
   "file_extension": ".py",
   "mimetype": "text/x-python",
   "name": "python",
   "nbconvert_exporter": "python",
   "pygments_lexer": "ipython3",
   "version": "3.10.18"
  }
 },
 "nbformat": 4,
 "nbformat_minor": 5
}

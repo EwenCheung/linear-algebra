{
 "cells": [
  {
   "cell_type": "code",
   "execution_count": 2,
   "id": "5c85dbae",
   "metadata": {},
   "outputs": [],
   "source": [
    "# Required imports\n",
    "import sympy as sym\n",
    "import sys, os\n",
    "from ma1522.symbolic import Matrix\n"
   ]
  },
  {
   "cell_type": "code",
   "execution_count": 3,
   "id": "d5202480",
   "metadata": {},
   "outputs": [
    {
     "data": {
      "text/latex": [
       "$\\displaystyle \\left[\\begin{array}{cccc|c}a & 2 & a & a + b & a - b\\\\a & 2 & a & a & a - b\\\\3 & 3 & - b & 3 & - b\\\\a + 1 & 3 & a + 1 & a + 1 & a - b + 1\\end{array}\\right]$"
      ],
      "text/plain": [
       "Matrix([\n",
       "[    a, 2,     a, a + b |     a - b]\n",
       "[    a, 2,     a,     a |     a - b]\n",
       "[    3, 3,    -b,     3 |        -b]\n",
       "[a + 1, 3, a + 1, a + 1 | a - b + 1]\n",
       "])"
      ]
     },
     "execution_count": 3,
     "metadata": {},
     "output_type": "execute_result"
    }
   ],
   "source": [
    "a, b = sym.symbols('a b')\n",
    "\n",
    "A = Matrix([[a, 2, a, a+b],\n",
    "            [a, 2, a, a ],\n",
    "            [3, 3, -b, 3],\n",
    "            [a+1, 3, a+1, a+1]])\n",
    "\n",
    "B = Matrix([[a-b],\n",
    "            [a-b],\n",
    "            [-b],\n",
    "            [a-b+1]])\n",
    "R = A.row_join(B)\n",
    "R"
   ]
  },
  {
   "cell_type": "code",
   "execution_count": 4,
   "id": "d8de0f3f",
   "metadata": {},
   "outputs": [
    {
     "data": {
      "text/latex": [
       "$\\displaystyle R_1 \\leftrightarrow R_3$"
      ],
      "text/plain": [
       "<IPython.core.display.Math object>"
      ]
     },
     "metadata": {},
     "output_type": "display_data"
    },
    {
     "data": {
      "text/latex": [
       "$\\displaystyle R_2 - \\left(\\frac{a}{3}\\right)R_1 \\rightarrow R_2$"
      ],
      "text/plain": [
       "<IPython.core.display.Math object>"
      ]
     },
     "metadata": {},
     "output_type": "display_data"
    },
    {
     "data": {
      "text/latex": [
       "$\\displaystyle R_3 - \\left(\\frac{a}{3}\\right)R_1 \\rightarrow R_3$"
      ],
      "text/plain": [
       "<IPython.core.display.Math object>"
      ]
     },
     "metadata": {},
     "output_type": "display_data"
    },
    {
     "data": {
      "text/latex": [
       "$\\displaystyle R_4 - \\left(\\frac{1}{3}\\right)R_1 \\rightarrow R_4$"
      ],
      "text/plain": [
       "<IPython.core.display.Math object>"
      ]
     },
     "metadata": {},
     "output_type": "display_data"
    },
    {
     "data": {
      "text/latex": [
       "$\\displaystyle R_4 - \\left(\\frac{a}{3}\\right)R_1 \\rightarrow R_4$"
      ],
      "text/plain": [
       "<IPython.core.display.Math object>"
      ]
     },
     "metadata": {},
     "output_type": "display_data"
    },
    {
     "data": {
      "text/latex": [
       "$\\displaystyle R_3 - \\left(1\\right)R_2 \\rightarrow R_3$"
      ],
      "text/plain": [
       "<IPython.core.display.Math object>"
      ]
     },
     "metadata": {},
     "output_type": "display_data"
    },
    {
     "data": {
      "text/latex": [
       "$\\displaystyle R_4 - \\left(1\\right)R_2 \\rightarrow R_4$"
      ],
      "text/plain": [
       "<IPython.core.display.Math object>"
      ]
     },
     "metadata": {},
     "output_type": "display_data"
    },
    {
     "data": {
      "text/latex": [
       "$\\displaystyle R_3 \\leftrightarrow R_4$"
      ],
      "text/plain": [
       "<IPython.core.display.Math object>"
      ]
     },
     "metadata": {},
     "output_type": "display_data"
    }
   ],
   "source": [
    "plu = R.ref(verbosity=1)"
   ]
  },
  {
   "cell_type": "code",
   "execution_count": 9,
   "id": "ebbda456",
   "metadata": {},
   "outputs": [
    {
     "data": {
      "text/latex": [
       "$\\displaystyle \\left[\\begin{array}{cccc|c}3 & 3 & - b & 3 & - b\\\\0 & 2 - a & \\frac{a b}{3} + a & 0 & \\frac{a b}{3} + a - b\\\\0 & 0 & \\frac{b}{3} + 1 & 0 & \\frac{b}{3} + 1\\\\0 & 0 & 0 & b & 0\\end{array}\\right]$"
      ],
      "text/plain": [
       "Matrix([\n",
       "[3,     3,        -b, 3 |            -b]\n",
       "[0, 2 - a, a*b/3 + a, 0 | a*b/3 + a - b]\n",
       "[0,     0,   b/3 + 1, 0 |       b/3 + 1]\n",
       "[0,     0,         0, b |             0]\n",
       "])"
      ]
     },
     "execution_count": 9,
     "metadata": {},
     "output_type": "execute_result"
    }
   ],
   "source": [
    "plu.U"
   ]
  },
  {
   "cell_type": "code",
   "execution_count": 10,
   "id": "d52dc2ee",
   "metadata": {},
   "outputs": [
    {
     "data": {
      "text/latex": [
       "$\\displaystyle \\left[\\begin{array}{cccc|c}3 & 3 & 0 & 3 & 0\\\\0 & 1 & 1 & 0 & 1\\\\0 & 0 & 1 & 0 & 1\\\\0 & 0 & 0 & 0 & 0\\end{array}\\right]$"
      ],
      "text/plain": [
       "Matrix([\n",
       "[3, 3, 0, 3 | 0]\n",
       "[0, 1, 1, 0 | 1]\n",
       "[0, 0, 1, 0 | 1]\n",
       "[0, 0, 0, 0 | 0]\n",
       "])"
      ]
     },
     "execution_count": 10,
     "metadata": {},
     "output_type": "execute_result"
    }
   ],
   "source": [
    "plu.U.subs({b: 0, a:1})"
   ]
  },
  {
   "cell_type": "code",
   "execution_count": 6,
   "id": "e8f7cd91",
   "metadata": {},
   "outputs": [
    {
     "data": {
      "text/latex": [
       "$\\text{RREF}\\left\\{\\text{rref} = \\left[\\begin{array}{cccc|c}1 & 0 & 0 & 1 & 0\\\\0 & 1 & 0 & 0 & 0\\\\0 & 0 & 1 & 0 & 1\\\\0 & 0 & 0 & 0 & 0\\end{array}\\right], \\quad\\text{pivots} = (0, 1, 2)\\right\\}$"
      ],
      "text/plain": [
       "RREF(rref=Matrix([\n",
       "[1, 0, 0, 1 | 0]\n",
       "[0, 1, 0, 0 | 0]\n",
       "[0, 0, 1, 0 | 1]\n",
       "[0, 0, 0, 0 | 0]\n",
       "]), pivots=(0, 1, 2))"
      ]
     },
     "execution_count": 6,
     "metadata": {},
     "output_type": "execute_result"
    }
   ],
   "source": [
    "plu.U.subs({b: 0}).rref()"
   ]
  },
  {
   "cell_type": "code",
   "execution_count": 7,
   "id": "bf418d1a",
   "metadata": {},
   "outputs": [
    {
     "data": {
      "text/latex": [
       "$\\text{RREF}\\left\\{\\text{rref} = \\left[\\begin{array}{cccc|c}1 & 0 & 0 & 0 & - \\frac{b}{a - 2}\\\\0 & 1 & 0 & 0 & \\frac{b}{a - 2}\\\\0 & 0 & 1 & 0 & 1\\\\0 & 0 & 0 & 1 & 0\\end{array}\\right], \\quad\\text{pivots} = (0, 1, 2, 3)\\right\\}$"
      ],
      "text/plain": [
       "RREF(rref=Matrix([\n",
       "[1, 0, 0, 0 | -b/(a - 2)]\n",
       "[0, 1, 0, 0 |  b/(a - 2)]\n",
       "[0, 0, 1, 0 |          1]\n",
       "[0, 0, 0, 1 |          0]\n",
       "]), pivots=(0, 1, 2, 3))"
      ]
     },
     "execution_count": 7,
     "metadata": {},
     "output_type": "execute_result"
    }
   ],
   "source": [
    "plu.U.rref()"
   ]
  },
  {
   "cell_type": "markdown",
   "id": "96efb6c8",
   "metadata": {},
   "source": [
    "<img src=\"/Users/ewencheung/Documents/GitHub/linear-algebra/docs/assets/images/2324 14.png\" alt=\"Tutorial 1 Question 7: Traffic Network\">"
   ]
  },
  {
   "cell_type": "code",
   "execution_count": 37,
   "id": "93c4e3cc",
   "metadata": {},
   "outputs": [
    {
     "data": {
      "text/latex": [
       "$\\displaystyle \\left[\\begin{array}{cccc|c}1 & a & b & a & 1\\\\1 & 2 & b & a & 1\\\\1 & a & 0 & 2 - b & 1\\\\1 & 2 & - a + b & 0 & 0\\end{array}\\right]$"
      ],
      "text/plain": [
       "Matrix([\n",
       "[1, a,      b,     a | 1]\n",
       "[1, 2,      b,     a | 1]\n",
       "[1, a,      0, 2 - b | 1]\n",
       "[1, 2, -a + b,     0 | 0]\n",
       "])"
      ]
     },
     "execution_count": 37,
     "metadata": {},
     "output_type": "execute_result"
    }
   ],
   "source": [
    "a, b = sym.symbols('a b')\n",
    "\n",
    "A = Matrix([[1, a, b, a],\n",
    "            [1, 2, b, a],\n",
    "            [1, a, 0, -b+2],\n",
    "            [1, 2, b-a, 0]])\n",
    "\n",
    "B = Matrix([[1],\n",
    "            [1],\n",
    "            [1],\n",
    "            [0]])\n",
    "R = A.row_join(B)\n",
    "R"
   ]
  },
  {
   "cell_type": "code",
   "execution_count": 39,
   "id": "01ed5969",
   "metadata": {},
   "outputs": [
    {
     "data": {
      "text/latex": [
       "$\\displaystyle R_2 - \\left(1\\right)R_1 \\rightarrow R_2$"
      ],
      "text/plain": [
       "<IPython.core.display.Math object>"
      ]
     },
     "metadata": {},
     "output_type": "display_data"
    },
    {
     "data": {
      "text/latex": [
       "$\\displaystyle R_3 - \\left(1\\right)R_1 \\rightarrow R_3$"
      ],
      "text/plain": [
       "<IPython.core.display.Math object>"
      ]
     },
     "metadata": {},
     "output_type": "display_data"
    },
    {
     "data": {
      "text/latex": [
       "$\\displaystyle R_4 - \\left(1\\right)R_1 \\rightarrow R_4$"
      ],
      "text/plain": [
       "<IPython.core.display.Math object>"
      ]
     },
     "metadata": {},
     "output_type": "display_data"
    },
    {
     "data": {
      "text/latex": [
       "$\\displaystyle R_4 - \\left(1\\right)R_2 \\rightarrow R_4$"
      ],
      "text/plain": [
       "<IPython.core.display.Math object>"
      ]
     },
     "metadata": {},
     "output_type": "display_data"
    },
    {
     "name": "stderr",
     "output_type": "stream",
     "text": [
      "/var/folders/mf/_jc27bj14xv68vqy0mj9_w540000gn/T/ipykernel_95558/3648783178.py:1: RuntimeWarning: ERROR: Max tries exceeded to reduce row 4 with row 3\n",
      "  plu = R.ref(verbosity=1)\n"
     ]
    }
   ],
   "source": [
    "plu = R.ref(verbosity=1)"
   ]
  },
  {
   "cell_type": "code",
   "execution_count": 40,
   "id": "3cf09d37",
   "metadata": {},
   "outputs": [
    {
     "data": {
      "text/latex": [
       "$\\displaystyle \\left[\\begin{array}{cccc|c}1 & a & b & a & 1\\\\0 & 2 - a & 0 & 0 & 0\\\\0 & 0 & - b & - a - b + 2 & 0\\\\0 & 0 & - a & - a & -1\\end{array}\\right]$"
      ],
      "text/plain": [
       "Matrix([\n",
       "[1,     a,  b,          a |  1]\n",
       "[0, 2 - a,  0,          0 |  0]\n",
       "[0,     0, -b, -a - b + 2 |  0]\n",
       "[0,     0, -a,         -a | -1]\n",
       "])"
      ]
     },
     "execution_count": 40,
     "metadata": {},
     "output_type": "execute_result"
    }
   ],
   "source": [
    "plu.U"
   ]
  },
  {
   "cell_type": "code",
   "execution_count": 41,
   "id": "0136fd7f",
   "metadata": {},
   "outputs": [
    {
     "data": {
      "text/latex": [
       "$\\text{RREF}\\left\\{\\text{rref} = \\left[\\begin{array}{cccc|c}1 & 2 & 0 & 2 & 1\\\\0 & 0 & 1 & 1 & \\frac{1}{2}\\\\0 & 0 & 0 & 0 & 0\\\\0 & 0 & 0 & 0 & 0\\end{array}\\right], \\quad\\text{pivots} = (0, 2)\\right\\}$"
      ],
      "text/plain": [
       "RREF(rref=Matrix([\n",
       "[1, 2, 0, 2 |   1]\n",
       "[0, 0, 1, 1 | 1/2]\n",
       "[0, 0, 0, 0 |   0]\n",
       "[0, 0, 0, 0 |   0]\n",
       "]), pivots=(0, 2))"
      ]
     },
     "execution_count": 41,
     "metadata": {},
     "output_type": "execute_result"
    }
   ],
   "source": [
    "plu.U.subs({a:2, b: 0}).rref()"
   ]
  },
  {
   "cell_type": "code",
   "execution_count": null,
   "id": "25222a6e",
   "metadata": {},
   "outputs": [],
   "source": []
  },
  {
   "cell_type": "code",
   "execution_count": null,
   "id": "a1e74769",
   "metadata": {},
   "outputs": [],
   "source": []
  },
  {
   "cell_type": "code",
   "execution_count": null,
   "id": "43f83572",
   "metadata": {},
   "outputs": [],
   "source": []
  },
  {
   "cell_type": "code",
   "execution_count": null,
   "id": "72c073a5",
   "metadata": {},
   "outputs": [],
   "source": []
  }
 ],
 "metadata": {
  "kernelspec": {
   "display_name": "ma1522-linear-algebra (3.10.18)",
   "language": "python",
   "name": "python3"
  },
  "language_info": {
   "codemirror_mode": {
    "name": "ipython",
    "version": 3
   },
   "file_extension": ".py",
   "mimetype": "text/x-python",
   "name": "python",
   "nbconvert_exporter": "python",
   "pygments_lexer": "ipython3",
   "version": "3.10.18"
  }
 },
 "nbformat": 4,
 "nbformat_minor": 5
}

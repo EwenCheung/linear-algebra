{
 "cells": [
  {
   "cell_type": "markdown",
   "id": "1df4c912",
   "metadata": {},
   "source": [
    "# Tutorial 4 (AY24/25 Sem 1)"
   ]
  },
  {
   "cell_type": "code",
   "execution_count": 1,
   "id": "ddae14ab",
   "metadata": {},
   "outputs": [],
   "source": [
    "# Required imports\n",
    "import sympy as sym\n",
    "from ma1522 import Matrix"
   ]
  },
  {
   "cell_type": "markdown",
   "id": "397e26a4",
   "metadata": {},
   "source": [
    "## Question 2\n",
    "\n",
    "Let $u_1 = \\begin{pmatrix} 2 \\\\ 1 \\\\ 0 \\\\ 3 \\end{pmatrix}$, $u_2 = \\begin{pmatrix} 3 \\\\ -1 \\\\ 5 \\\\ 2 \\end{pmatrix}$, and $u_3 = \\begin{pmatrix} -1 \\\\ 0 \\\\ 2 \\\\ 1 \\end{pmatrix}$."
   ]
  },
  {
   "cell_type": "markdown",
   "id": "1f7bd67f",
   "metadata": {},
   "source": [
    "### (a)\n",
    "\n",
    "If possible, express each of the following vectors as a linear combination of $u_1$, $u_2$, $u_3$.\n",
    "\n",
    "(i) $\\begin{pmatrix} 2 \\\\ 3 \\\\ -7 \\\\ 3 \\end{pmatrix}$\n",
    "\n",
    "(ii) $\\begin{pmatrix} 0 \\\\ 0 \\\\ 0 \\\\ 0 \\end{pmatrix}$\n",
    "\n",
    "(iii) $\\begin{pmatrix} 1 \\\\ 1 \\\\ 1 \\\\ 1 \\end{pmatrix}$\n",
    "\n",
    "(iv) $\\begin{pmatrix} -4 \\\\ 6 \\\\ -13 \\\\ 4 \\end{pmatrix}$\n"
   ]
  },
  {
   "cell_type": "code",
   "execution_count": 2,
   "id": "6d1134c3",
   "metadata": {},
   "outputs": [
    {
     "data": {
      "text/latex": [
       "$\\displaystyle \\left[\\begin{array}{ccc}2 & 3 & -1\\\\1 & -1 & 0\\\\0 & 5 & 2\\\\3 & 2 & 1\\end{array}\\right]$"
      ],
      "text/plain": [
       "Matrix([\n",
       "[2,  3, -1]\n",
       "[1, -1,  0]\n",
       "[0,  5,  2]\n",
       "[3,  2,  1]\n",
       "])"
      ]
     },
     "execution_count": 2,
     "metadata": {},
     "output_type": "execute_result"
    }
   ],
   "source": [
    "U = Matrix.from_str(\"2 1 0 3; 3 -1 5 2; -1 0 2 1\").T\n",
    "U"
   ]
  },
  {
   "cell_type": "code",
   "execution_count": 3,
   "id": "f8bdd01b",
   "metadata": {},
   "outputs": [
    {
     "data": {
      "text/latex": [
       "$\\displaystyle \\left[\\begin{array}{c|c|c|c}2 & 0 & 1 & -4\\\\3 & 0 & 1 & 6\\\\-7 & 0 & 1 & -13\\\\3 & 0 & 1 & 4\\end{array}\\right]$"
      ],
      "text/plain": [
       "Matrix([ \n",
       "[ 2 | 0 | 1 |  -4]\n",
       "[ 3 | 0 | 1 |   6]\n",
       "[-7 | 0 | 1 | -13]\n",
       "[ 3 | 0 | 1 |   4]\n",
       "])"
      ]
     },
     "execution_count": 3,
     "metadata": {},
     "output_type": "execute_result"
    }
   ],
   "source": [
    "rhs = Matrix.from_str(\"2 3 -7 3; 0 0 0 0; 1 1 1 1; -4 6 -13 4\").T\n",
    "rhs = Matrix(rhs, aug_pos=range(3))\n",
    "rhs"
   ]
  },
  {
   "cell_type": "code",
   "execution_count": 4,
   "id": "7217438f",
   "metadata": {},
   "outputs": [
    {
     "data": {
      "text/latex": [
       "$\\displaystyle \\left[\\begin{array}{ccc|c|c|c|c}2 & 3 & -1 & 2 & 0 & 1 & -4\\\\1 & -1 & 0 & 3 & 0 & 1 & 6\\\\0 & 5 & 2 & -7 & 0 & 1 & -13\\\\3 & 2 & 1 & 3 & 0 & 1 & 4\\end{array}\\right]$"
      ],
      "text/plain": [
       "Matrix([\n",
       "[2,  3, -1 |  2 | 0 | 1 |  -4]\n",
       "[1, -1,  0 |  3 | 0 | 1 |   6]\n",
       "[0,  5,  2 | -7 | 0 | 1 | -13]\n",
       "[3,  2,  1 |  3 | 0 | 1 |   4]\n",
       "])"
      ]
     },
     "execution_count": 4,
     "metadata": {},
     "output_type": "execute_result"
    }
   ],
   "source": [
    "aug_mat = U.row_join(rhs)\n",
    "aug_mat"
   ]
  },
  {
   "cell_type": "code",
   "execution_count": 5,
   "id": "c9d81aa9",
   "metadata": {},
   "outputs": [
    {
     "data": {
      "text/latex": [
       "$\\text{RREF}\\left\\{\\text{rref} = \\left[\\begin{array}{ccc|c|c|c|c}1 & 0 & 0 & 2 & 0 & 0 & 3\\\\0 & 1 & 0 & -1 & 0 & 0 & -3\\\\0 & 0 & 1 & -1 & 0 & 0 & 1\\\\0 & 0 & 0 & 0 & 0 & 1 & 0\\end{array}\\right], \\quad\\text{pivots} = (0, 1, 2, 5)\\right\\}$"
      ],
      "text/plain": [
       "RREF(rref=Matrix([\n",
       "[1, 0, 0 |  2 | 0 | 0 |  3]\n",
       "[0, 1, 0 | -1 | 0 | 0 | -3]\n",
       "[0, 0, 1 | -1 | 0 | 0 |  1]\n",
       "[0, 0, 0 |  0 | 0 | 1 |  0]\n",
       "]), pivots=(0, 1, 2, 5))"
      ]
     },
     "execution_count": 5,
     "metadata": {},
     "output_type": "execute_result"
    }
   ],
   "source": [
    "aug_mat.rref()"
   ]
  },
  {
   "cell_type": "code",
   "execution_count": 6,
   "id": "a5de036e",
   "metadata": {},
   "outputs": [
    {
     "name": "stdout",
     "output_type": "stream",
     "text": [
      "Before RREF: [self | vec]\n"
     ]
    },
    {
     "data": {
      "text/latex": [
       "$\\displaystyle \\left[\\begin{array}{ccc|c}2 & 3 & -1 & x_{1}\\\\1 & -1 & 0 & x_{2}\\\\0 & 5 & 2 & x_{3}\\\\3 & 2 & 1 & x_{4}\\end{array}\\right]$"
      ],
      "text/plain": [
       "Matrix([\n",
       "[2,  3, -1 | x_1]\n",
       "[1, -1,  0 | x_2]\n",
       "[0,  5,  2 | x_3]\n",
       "[3,  2,  1 | x_4]\n",
       "])"
      ]
     },
     "metadata": {},
     "output_type": "display_data"
    },
    {
     "name": "stdout",
     "output_type": "stream",
     "text": [
      "After RREF\n"
     ]
    },
    {
     "data": {
      "text/latex": [
       "$\\displaystyle \\left[\\begin{array}{ccc|c}1 & 0 & 0 & - \\frac{x_{2}}{5} - \\frac{x_{3}}{5} + \\frac{2 x_{4}}{5}\\\\0 & 1 & 0 & - \\frac{6 x_{2}}{5} - \\frac{x_{3}}{5} + \\frac{2 x_{4}}{5}\\\\0 & 0 & 1 & 3 x_{2} + x_{3} - x_{4}\\\\0 & 0 & 0 & x_{1} + 7 x_{2} + 2 x_{3} - 3 x_{4}\\end{array}\\right]$"
      ],
      "text/plain": [
       "Matrix([\n",
       "[1, 0, 0 |    -x_2/5 - x_3/5 + 2*x_4/5]\n",
       "[0, 1, 0 |  -6*x_2/5 - x_3/5 + 2*x_4/5]\n",
       "[0, 0, 1 |           3*x_2 + x_3 - x_4]\n",
       "[0, 0, 0 | x_1 + 7*x_2 + 2*x_3 - 3*x_4]\n",
       "])"
      ]
     },
     "metadata": {},
     "output_type": "display_data"
    },
    {
     "name": "stdout",
     "output_type": "stream",
     "text": [
      "For the system to be consistent, the following constraints must be satisfied.\n"
     ]
    },
    {
     "data": {
      "text/latex": [
       "$\\displaystyle x_{1} + 7 x_{2} + 2 x_{3} - 3 x_{4} = 0$"
      ],
      "text/plain": [
       "x₁ + 7⋅x₂ + 2⋅x₃ - 3⋅x₄ = 0"
      ]
     },
     "metadata": {},
     "output_type": "display_data"
    },
    {
     "data": {
      "text/latex": [
       "$\\displaystyle \\left[\\begin{array}{ccc|c}1 & 0 & 0 & - \\frac{x_{2}}{5} - \\frac{x_{3}}{5} + \\frac{2 x_{4}}{5}\\\\0 & 1 & 0 & - \\frac{6 x_{2}}{5} - \\frac{x_{3}}{5} + \\frac{2 x_{4}}{5}\\\\0 & 0 & 1 & 3 x_{2} + x_{3} - x_{4}\\\\0 & 0 & 0 & x_{1} + 7 x_{2} + 2 x_{3} - 3 x_{4}\\end{array}\\right]$"
      ],
      "text/plain": [
       "Matrix([\n",
       "[1, 0, 0 |    -x_2/5 - x_3/5 + 2*x_4/5]\n",
       "[0, 1, 0 |  -6*x_2/5 - x_3/5 + 2*x_4/5]\n",
       "[0, 0, 1 |           3*x_2 + x_3 - x_4]\n",
       "[0, 0, 0 | x_1 + 7*x_2 + 2*x_3 - 3*x_4]\n",
       "])"
      ]
     },
     "execution_count": 6,
     "metadata": {},
     "output_type": "execute_result"
    }
   ],
   "source": [
    "## Alternative way to find column constraints based on U's properties\n",
    "U.column_constraints(verbosity=1)"
   ]
  },
  {
   "cell_type": "markdown",
   "id": "6fe18cdc",
   "metadata": {},
   "source": [
    "## Question 3\n",
    "\n",
    "Let $V = \\left\\{ \\begin{pmatrix} x \\\\ y \\\\ z \\end{pmatrix} \\middle| x - y - z = 0 \\right\\}$ be a subset of $\\mathbb{R}^3$.\n",
    "\n",
    "### (a)\n",
    "\n",
    "Let $S = \\left\\{\\begin{pmatrix} 1 \\\\ 1 \\\\ 0 \\end{pmatrix}, \\begin{pmatrix} 5 \\\\ 2 \\\\ 3 \\end{pmatrix} \\right\\}$. Show that $\\text{span}(S) = V$.\n"
   ]
  },
  {
   "cell_type": "code",
   "execution_count": null,
   "id": "f99099a6",
   "metadata": {},
   "outputs": [
    {
     "data": {
      "text/latex": [
       "$\\displaystyle \\left[ \\left[\\begin{matrix}1\\\\1\\\\0\\end{matrix}\\right], \\  \\left[\\begin{matrix}1\\\\0\\\\1\\end{matrix}\\right]\\right]$"
      ],
      "text/plain": [
       "⎡⎡1⎤  ⎡1⎤⎤\n",
       "⎢⎢ ⎥  ⎢ ⎥⎥\n",
       "⎢⎢1⎥, ⎢0⎥⎥\n",
       "⎢⎢ ⎥  ⎢ ⎥⎥\n",
       "⎣⎣0⎦  ⎣1⎦⎦"
      ]
     },
     "execution_count": 9,
     "metadata": {},
     "output_type": "execute_result"
    }
   ],
   "source": [
    "# nullspcade is the set of all solutions to Ax = 0\n",
    "V = Matrix([[1, -1, -1]]).nullspace()\n",
    "V"
   ]
  },
  {
   "cell_type": "code",
   "execution_count": 8,
   "id": "c4d879b0",
   "metadata": {},
   "outputs": [
    {
     "name": "stdout",
     "output_type": "stream",
     "text": [
      "Check if span(self) is subspace of span(other), and vice versa.\n",
      "Check if span(self) is subspace of span(other)\n",
      "\n",
      "Before RREF: [other | self]\n"
     ]
    },
    {
     "data": {
      "text/latex": [
       "$\\displaystyle \\left[\\begin{array}{cc|cc}1 & 1 & 1 & 5\\\\1 & 0 & 1 & 2\\\\0 & 1 & 0 & 3\\end{array}\\right]$"
      ],
      "text/plain": [
       "Matrix([\n",
       "[1, 1 | 1, 5]\n",
       "[1, 0 | 1, 2]\n",
       "[0, 1 | 0, 3]\n",
       "])"
      ]
     },
     "metadata": {},
     "output_type": "display_data"
    },
    {
     "name": "stdout",
     "output_type": "stream",
     "text": [
      "\n",
      "After RREF:\n"
     ]
    },
    {
     "data": {
      "text/latex": [
       "$\\text{RREF}\\left\\{\\text{rref} = \\left[\\begin{array}{cc|cc}1 & 0 & 1 & 2\\\\0 & 1 & 0 & 3\\\\0 & 0 & 0 & 0\\end{array}\\right], \\quad\\text{pivots} = (0, 1)\\right\\}$"
      ],
      "text/plain": [
       "RREF(rref=Matrix([\n",
       "[1, 0 | 1, 2]\n",
       "[0, 1 | 0, 3]\n",
       "[0, 0 | 0, 0]\n",
       "]), pivots=(0, 1))"
      ]
     },
     "metadata": {},
     "output_type": "display_data"
    },
    {
     "name": "stdout",
     "output_type": "stream",
     "text": [
      "Span(self) is a subspace of span(other).\n",
      "\n",
      "Check if span(self) is subspace of span(other)\n",
      "\n",
      "Before RREF: [other | self]\n"
     ]
    },
    {
     "data": {
      "text/latex": [
       "$\\displaystyle \\left[\\begin{array}{cc|cc}1 & 5 & 1 & 1\\\\1 & 2 & 1 & 0\\\\0 & 3 & 0 & 1\\end{array}\\right]$"
      ],
      "text/plain": [
       "Matrix([\n",
       "[1, 5 | 1, 1]\n",
       "[1, 2 | 1, 0]\n",
       "[0, 3 | 0, 1]\n",
       "])"
      ]
     },
     "metadata": {},
     "output_type": "display_data"
    },
    {
     "name": "stdout",
     "output_type": "stream",
     "text": [
      "\n",
      "After RREF:\n"
     ]
    },
    {
     "data": {
      "text/latex": [
       "$\\text{RREF}\\left\\{\\text{rref} = \\left[\\begin{array}{cc|cc}1 & 0 & 1 & - \\frac{2}{3}\\\\0 & 1 & 0 & \\frac{1}{3}\\\\0 & 0 & 0 & 0\\end{array}\\right], \\quad\\text{pivots} = (0, 1)\\right\\}$"
      ],
      "text/plain": [
       "RREF(rref=Matrix([\n",
       "[1, 0 | 1, -2/3]\n",
       "[0, 1 | 0,  1/3]\n",
       "[0, 0 | 0,    0]\n",
       "]), pivots=(0, 1))"
      ]
     },
     "metadata": {},
     "output_type": "display_data"
    },
    {
     "name": "stdout",
     "output_type": "stream",
     "text": [
      "Span(self) is a subspace of span(other).\n",
      "\n"
     ]
    },
    {
     "data": {
      "text/plain": [
       "True"
      ]
     },
     "execution_count": 8,
     "metadata": {},
     "output_type": "execute_result"
    }
   ],
   "source": [
    "S = Matrix.from_str(\"1 1 0; 5 2 3\").T\n",
    "\n",
    "# Check if Span(S) = V = Span(1 1 0, 1 0 1)\n",
    "S.is_same_subspace(Matrix.from_list(V), verbosity=2)"
   ]
  },
  {
   "cell_type": "markdown",
   "id": "fb5e0418",
   "metadata": {},
   "source": [
    "### (b)\n",
    "\n",
    "Let $T = S \\cup \\left\\{\\begin{pmatrix} 0 \\\\ 0 \\\\ 1 \\end{pmatrix}\\right\\}$. Show that $\\text{span}(T) = \\mathbb{R}^3$.\n"
   ]
  },
  {
   "cell_type": "code",
   "execution_count": 9,
   "id": "0f5482bc",
   "metadata": {},
   "outputs": [
    {
     "data": {
      "text/latex": [
       "$\\displaystyle \\left[\\begin{array}{cc}1 & 5\\\\1 & 2\\\\0 & 3\\end{array}\\right]$"
      ],
      "text/plain": [
       "Matrix([\n",
       "[1, 5]\n",
       "[1, 2]\n",
       "[0, 3]\n",
       "])"
      ]
     },
     "execution_count": 9,
     "metadata": {},
     "output_type": "execute_result"
    }
   ],
   "source": [
    "S"
   ]
  },
  {
   "cell_type": "code",
   "execution_count": 10,
   "id": "636b368e",
   "metadata": {},
   "outputs": [
    {
     "name": "stdout",
     "output_type": "stream",
     "text": [
      "Check rref(self) does not have zero rows\n",
      "Before RREF: self\n"
     ]
    },
    {
     "data": {
      "text/latex": [
       "$\\displaystyle \\left[\\begin{array}{ccc}1 & 5 & 0\\\\1 & 2 & 0\\\\0 & 3 & 1\\end{array}\\right]$"
      ],
      "text/plain": [
       "Matrix([\n",
       "[1, 5, 0]\n",
       "[1, 2, 0]\n",
       "[0, 3, 1]\n",
       "])"
      ]
     },
     "metadata": {},
     "output_type": "display_data"
    },
    {
     "name": "stdout",
     "output_type": "stream",
     "text": [
      "\n",
      "After RREF:\n"
     ]
    },
    {
     "data": {
      "text/latex": [
       "$\\displaystyle \\left[\\begin{array}{ccc}1 & 0 & 0\\\\0 & 1 & 0\\\\0 & 0 & 1\\end{array}\\right]$"
      ],
      "text/plain": [
       "Matrix([\n",
       "[1, 0, 0]\n",
       "[0, 1, 0]\n",
       "[0, 0, 1]\n",
       "])"
      ]
     },
     "metadata": {},
     "output_type": "display_data"
    },
    {
     "data": {
      "text/plain": [
       "True"
      ]
     },
     "execution_count": 10,
     "metadata": {},
     "output_type": "execute_result"
    }
   ],
   "source": [
    "T = S.row_join(Matrix([[0, 0, 1]]).T)\n",
    "T.rm_aug_line()\n",
    "\n",
    "# If no `other` subspace is provided, it is assumed to be the entire R^n\n",
    "T.is_same_subspace(verbosity=2)"
   ]
  },
  {
   "cell_type": "markdown",
   "id": "32681a07",
   "metadata": {},
   "source": [
    "## Question 4\n",
    "\n",
    "Which of the following sets $S$ spans $\\mathbb{R}^4$?"
   ]
  },
  {
   "cell_type": "markdown",
   "id": "e4f837b0",
   "metadata": {},
   "source": [
    "### (i)\n",
    "\n",
    "$S = \\left\\{\\begin{pmatrix} 1 \\\\ 0 \\\\ 0 \\\\ 1 \\end{pmatrix}, \\begin{pmatrix} 0 \\\\ 1 \\\\ 0 \\\\ 0 \\end{pmatrix}, \\begin{pmatrix} 1 \\\\ 1 \\\\ 1 \\\\ 1 \\end{pmatrix}, \\begin{pmatrix} 1 \\\\ 1 \\\\ 1 \\\\ 0 \\end{pmatrix}\\right\\}$."
   ]
  },
  {
   "cell_type": "code",
   "execution_count": 11,
   "id": "40da7054",
   "metadata": {},
   "outputs": [
    {
     "data": {
      "text/latex": [
       "$\\displaystyle \\left[\\begin{array}{cccc}1 & 0 & 1 & 1\\\\0 & 1 & 1 & 1\\\\0 & 0 & 1 & 1\\\\1 & 0 & 1 & 0\\end{array}\\right]$"
      ],
      "text/plain": [
       "Matrix([\n",
       "[1, 0, 1, 1]\n",
       "[0, 1, 1, 1]\n",
       "[0, 0, 1, 1]\n",
       "[1, 0, 1, 0]\n",
       "])"
      ]
     },
     "execution_count": 11,
     "metadata": {},
     "output_type": "execute_result"
    }
   ],
   "source": [
    "S = Matrix.from_str(\"1 0 0 1; 0 1 0 0; 1 1 1 1; 1 1 1 0\").T\n",
    "S"
   ]
  },
  {
   "cell_type": "code",
   "execution_count": 12,
   "id": "b204de98",
   "metadata": {},
   "outputs": [
    {
     "name": "stdout",
     "output_type": "stream",
     "text": [
      "Check rref(self) does not have zero rows\n",
      "Before RREF: self\n"
     ]
    },
    {
     "data": {
      "text/latex": [
       "$\\displaystyle \\left[\\begin{array}{cccc}1 & 0 & 1 & 1\\\\0 & 1 & 1 & 1\\\\0 & 0 & 1 & 1\\\\1 & 0 & 1 & 0\\end{array}\\right]$"
      ],
      "text/plain": [
       "Matrix([\n",
       "[1, 0, 1, 1]\n",
       "[0, 1, 1, 1]\n",
       "[0, 0, 1, 1]\n",
       "[1, 0, 1, 0]\n",
       "])"
      ]
     },
     "metadata": {},
     "output_type": "display_data"
    },
    {
     "name": "stdout",
     "output_type": "stream",
     "text": [
      "\n",
      "After RREF:\n"
     ]
    },
    {
     "data": {
      "text/latex": [
       "$\\displaystyle \\left[\\begin{array}{cccc}1 & 0 & 0 & 0\\\\0 & 1 & 0 & 0\\\\0 & 0 & 1 & 0\\\\0 & 0 & 0 & 1\\end{array}\\right]$"
      ],
      "text/plain": [
       "Matrix([\n",
       "[1, 0, 0, 0]\n",
       "[0, 1, 0, 0]\n",
       "[0, 0, 1, 0]\n",
       "[0, 0, 0, 1]\n",
       "])"
      ]
     },
     "metadata": {},
     "output_type": "display_data"
    },
    {
     "data": {
      "text/plain": [
       "True"
      ]
     },
     "execution_count": 12,
     "metadata": {},
     "output_type": "execute_result"
    }
   ],
   "source": [
    "S.is_same_subspace(verbosity=2)"
   ]
  },
  {
   "cell_type": "markdown",
   "id": "bdecec71",
   "metadata": {},
   "source": [
    "### (ii)\n",
    "\n",
    "$S = \\left\\{\\begin{pmatrix} 1 \\\\ 2 \\\\ 1 \\\\ 0 \\end{pmatrix}, \\begin{pmatrix} 1 \\\\ 1 \\\\ -1 \\\\ 0 \\end{pmatrix}, \\begin{pmatrix} 0 \\\\ 0 \\\\ 0 \\\\ 1 \\end{pmatrix}\\right\\}$"
   ]
  },
  {
   "cell_type": "code",
   "execution_count": 13,
   "id": "d458acec",
   "metadata": {},
   "outputs": [
    {
     "data": {
      "text/latex": [
       "$\\displaystyle \\left[\\begin{array}{ccc}1 & 1 & 0\\\\2 & 1 & 0\\\\1 & -1 & 0\\\\0 & 0 & 1\\end{array}\\right]$"
      ],
      "text/plain": [
       "Matrix([\n",
       "[1,  1, 0]\n",
       "[2,  1, 0]\n",
       "[1, -1, 0]\n",
       "[0,  0, 1]\n",
       "])"
      ]
     },
     "execution_count": 13,
     "metadata": {},
     "output_type": "execute_result"
    }
   ],
   "source": [
    "S = Matrix.from_str(\"1 2 1 0; 1 1 -1 0; 0 0 0 1\").T\n",
    "S"
   ]
  },
  {
   "cell_type": "code",
   "execution_count": 14,
   "id": "7ed7523c",
   "metadata": {},
   "outputs": [
    {
     "name": "stdout",
     "output_type": "stream",
     "text": [
      "Check rref(self) does not have zero rows\n",
      "Before RREF: self\n"
     ]
    },
    {
     "data": {
      "text/latex": [
       "$\\displaystyle \\left[\\begin{array}{ccc}1 & 1 & 0\\\\2 & 1 & 0\\\\1 & -1 & 0\\\\0 & 0 & 1\\end{array}\\right]$"
      ],
      "text/plain": [
       "Matrix([\n",
       "[1,  1, 0]\n",
       "[2,  1, 0]\n",
       "[1, -1, 0]\n",
       "[0,  0, 1]\n",
       "])"
      ]
     },
     "metadata": {},
     "output_type": "display_data"
    },
    {
     "name": "stdout",
     "output_type": "stream",
     "text": [
      "\n",
      "After RREF:\n"
     ]
    },
    {
     "data": {
      "text/latex": [
       "$\\displaystyle \\left[\\begin{array}{ccc}1 & 0 & 0\\\\0 & 1 & 0\\\\0 & 0 & 1\\\\0 & 0 & 0\\end{array}\\right]$"
      ],
      "text/plain": [
       "Matrix([\n",
       "[1, 0, 0]\n",
       "[0, 1, 0]\n",
       "[0, 0, 1]\n",
       "[0, 0, 0]\n",
       "])"
      ]
     },
     "metadata": {},
     "output_type": "display_data"
    },
    {
     "data": {
      "text/plain": [
       "False"
      ]
     },
     "execution_count": 14,
     "metadata": {},
     "output_type": "execute_result"
    }
   ],
   "source": [
    "S.is_same_subspace(verbosity=2)"
   ]
  },
  {
   "cell_type": "markdown",
   "id": "9b3243a9",
   "metadata": {},
   "source": [
    "### (iii)\n",
    "\n",
    "$S = \\left\\{\\begin{pmatrix} 6 \\\\ 4 \\\\ -2 \\\\ 4 \\end{pmatrix}, \\begin{pmatrix} 2 \\\\ 0 \\\\ 0 \\\\ 1 \\end{pmatrix}, \\begin{pmatrix} 3 \\\\ 2 \\\\ -1 \\\\ 2 \\end{pmatrix}, \\begin{pmatrix} 5 \\\\ 6 \\\\ -3 \\\\ 2 \\end{pmatrix}, \\begin{pmatrix} 0 \\\\ 4 \\\\ -2 \\\\ -1 \\end{pmatrix}\\right\\}$."
   ]
  },
  {
   "cell_type": "code",
   "execution_count": 15,
   "id": "aa50c4a8",
   "metadata": {},
   "outputs": [
    {
     "data": {
      "text/latex": [
       "$\\displaystyle \\left[\\begin{array}{ccccc}6 & 2 & 3 & 5 & 0\\\\4 & 0 & 2 & 6 & 4\\\\-2 & 0 & -1 & -3 & -2\\\\4 & 1 & 2 & 2 & -1\\end{array}\\right]$"
      ],
      "text/plain": [
       "Matrix([\n",
       "[ 6, 2,  3,  5,  0]\n",
       "[ 4, 0,  2,  6,  4]\n",
       "[-2, 0, -1, -3, -2]\n",
       "[ 4, 1,  2,  2, -1]\n",
       "])"
      ]
     },
     "execution_count": 15,
     "metadata": {},
     "output_type": "execute_result"
    }
   ],
   "source": [
    "S = Matrix.from_str(\"6 4 -2 4; 2 0 0 1; 3 2 -1 2; 5 6 -3 2; 0 4 -2 -1\").T\n",
    "S"
   ]
  },
  {
   "cell_type": "code",
   "execution_count": 16,
   "id": "b9c1832c",
   "metadata": {},
   "outputs": [
    {
     "name": "stdout",
     "output_type": "stream",
     "text": [
      "Check rref(self) does not have zero rows\n",
      "Before RREF: self\n"
     ]
    },
    {
     "data": {
      "text/latex": [
       "$\\displaystyle \\left[\\begin{array}{ccccc}6 & 2 & 3 & 5 & 0\\\\4 & 0 & 2 & 6 & 4\\\\-2 & 0 & -1 & -3 & -2\\\\4 & 1 & 2 & 2 & -1\\end{array}\\right]$"
      ],
      "text/plain": [
       "Matrix([\n",
       "[ 6, 2,  3,  5,  0]\n",
       "[ 4, 0,  2,  6,  4]\n",
       "[-2, 0, -1, -3, -2]\n",
       "[ 4, 1,  2,  2, -1]\n",
       "])"
      ]
     },
     "metadata": {},
     "output_type": "display_data"
    },
    {
     "name": "stdout",
     "output_type": "stream",
     "text": [
      "\n",
      "After RREF:\n"
     ]
    },
    {
     "data": {
      "text/latex": [
       "$\\displaystyle \\left[\\begin{array}{ccccc}1 & 0 & \\frac{1}{2} & 0 & - \\frac{1}{2}\\\\0 & 1 & 0 & 0 & -1\\\\0 & 0 & 0 & 1 & 1\\\\0 & 0 & 0 & 0 & 0\\end{array}\\right]$"
      ],
      "text/plain": [
       "Matrix([\n",
       "[1, 0, 1/2, 0, -1/2]\n",
       "[0, 1,   0, 0,   -1]\n",
       "[0, 0,   0, 1,    1]\n",
       "[0, 0,   0, 0,    0]\n",
       "])"
      ]
     },
     "metadata": {},
     "output_type": "display_data"
    },
    {
     "data": {
      "text/plain": [
       "False"
      ]
     },
     "execution_count": 16,
     "metadata": {},
     "output_type": "execute_result"
    }
   ],
   "source": [
    "S.is_same_subspace(verbosity=2)"
   ]
  },
  {
   "cell_type": "markdown",
   "id": "99022317",
   "metadata": {},
   "source": [
    "### (iv)\n",
    "\n",
    "$S = \\left\\{\\begin{pmatrix} 1 \\\\ 1 \\\\ 0 \\\\ 0 \\end{pmatrix}, \\begin{pmatrix} 1 \\\\ 2 \\\\ -1 \\\\ 1 \\end{pmatrix}, \\begin{pmatrix} 0 \\\\ 0 \\\\ 1 \\\\ 1 \\end{pmatrix}, \\begin{pmatrix} 2 \\\\ 1 \\\\ 2 \\\\ 1 \\end{pmatrix}, \\begin{pmatrix} 1 \\\\ 2 \\\\ 3 \\\\ 4 \\end{pmatrix}\\right\\}$."
   ]
  },
  {
   "cell_type": "code",
   "execution_count": 17,
   "id": "24f01ddc",
   "metadata": {},
   "outputs": [
    {
     "data": {
      "text/latex": [
       "$\\displaystyle \\left[\\begin{array}{ccccc}1 & 1 & 0 & 2 & 1\\\\1 & 2 & 0 & 1 & 2\\\\0 & -1 & 1 & 2 & 3\\\\0 & 1 & 1 & 1 & 4\\end{array}\\right]$"
      ],
      "text/plain": [
       "Matrix([\n",
       "[1,  1, 0, 2, 1]\n",
       "[1,  2, 0, 1, 2]\n",
       "[0, -1, 1, 2, 3]\n",
       "[0,  1, 1, 1, 4]\n",
       "])"
      ]
     },
     "execution_count": 17,
     "metadata": {},
     "output_type": "execute_result"
    }
   ],
   "source": [
    "S = Matrix.from_str(\"1 1 0 0; 1 2 -1 1; 0 0 1 1; 2 1 2 1; 1 2 3 4\").T\n",
    "S"
   ]
  },
  {
   "cell_type": "code",
   "execution_count": 18,
   "id": "c0d90af6",
   "metadata": {},
   "outputs": [
    {
     "name": "stdout",
     "output_type": "stream",
     "text": [
      "Check rref(self) does not have zero rows\n",
      "Before RREF: self\n"
     ]
    },
    {
     "data": {
      "text/latex": [
       "$\\displaystyle \\left[\\begin{array}{ccccc}1 & 1 & 0 & 2 & 1\\\\1 & 2 & 0 & 1 & 2\\\\0 & -1 & 1 & 2 & 3\\\\0 & 1 & 1 & 1 & 4\\end{array}\\right]$"
      ],
      "text/plain": [
       "Matrix([\n",
       "[1,  1, 0, 2, 1]\n",
       "[1,  2, 0, 1, 2]\n",
       "[0, -1, 1, 2, 3]\n",
       "[0,  1, 1, 1, 4]\n",
       "])"
      ]
     },
     "metadata": {},
     "output_type": "display_data"
    },
    {
     "name": "stdout",
     "output_type": "stream",
     "text": [
      "\n",
      "After RREF:\n"
     ]
    },
    {
     "data": {
      "text/latex": [
       "$\\displaystyle \\left[\\begin{array}{ccccc}1 & 0 & 0 & 0 & 3\\\\0 & 1 & 0 & 0 & 0\\\\0 & 0 & 1 & 0 & 5\\\\0 & 0 & 0 & 1 & -1\\end{array}\\right]$"
      ],
      "text/plain": [
       "Matrix([\n",
       "[1, 0, 0, 0,  3]\n",
       "[0, 1, 0, 0,  0]\n",
       "[0, 0, 1, 0,  5]\n",
       "[0, 0, 0, 1, -1]\n",
       "])"
      ]
     },
     "metadata": {},
     "output_type": "display_data"
    },
    {
     "data": {
      "text/plain": [
       "True"
      ]
     },
     "execution_count": 18,
     "metadata": {},
     "output_type": "execute_result"
    }
   ],
   "source": [
    "S.is_same_subspace(verbosity=2)"
   ]
  },
  {
   "cell_type": "markdown",
   "id": "347eec5c",
   "metadata": {},
   "source": [
    "## Question 5\n",
    "\n",
    "Determine whether $\\text{span}\\{u_1, u_2, u_3\\} \\subseteq \\text{span}\\{v_1, v_2\\}$ and/or $\\text{span}\\{v_1, v_2\\} \\subseteq \\text{span}\\{u_1, u_2, u_3\\}$ if"
   ]
  },
  {
   "cell_type": "markdown",
   "id": "62c01a2a",
   "metadata": {},
   "source": [
    "### (a)\n",
    "\n",
    "$u_1 = \\begin{pmatrix} 2 \\\\ -2 \\\\ 0 \\end{pmatrix}$, $u_2 = \\begin{pmatrix} -1 \\\\ 1 \\\\ -1 \\end{pmatrix}$, $u_3 = \\begin{pmatrix} 0 \\\\ 0 \\\\ 9 \\end{pmatrix}$, $v_1 = \\begin{pmatrix} 1 \\\\ -1 \\\\ -5 \\end{pmatrix}$, $v_2 = \\begin{pmatrix} 0 \\\\ 1 \\\\ 1 \\end{pmatrix}$."
   ]
  },
  {
   "cell_type": "code",
   "execution_count": 19,
   "id": "85332680",
   "metadata": {},
   "outputs": [
    {
     "data": {
      "text/latex": [
       "$\\displaystyle \\left( \\left[\\begin{array}{ccc}2 & -1 & 0\\\\-2 & 1 & 0\\\\0 & -1 & 9\\end{array}\\right], \\  \\left[\\begin{array}{cc}1 & 0\\\\-1 & 1\\\\-5 & 1\\end{array}\\right]\\right)$"
      ],
      "text/plain": [
       "⎛⎡2   -1  0⎤  ⎡1   0⎤⎞\n",
       "⎜⎢         ⎥  ⎢     ⎥⎟\n",
       "⎜⎢-2  1   0⎥, ⎢-1  1⎥⎟\n",
       "⎜⎢         ⎥  ⎢     ⎥⎟\n",
       "⎝⎣0   -1  9⎦  ⎣-5  1⎦⎠"
      ]
     },
     "execution_count": 19,
     "metadata": {},
     "output_type": "execute_result"
    }
   ],
   "source": [
    "U = Matrix.from_str(\"2 -2 0; -1 1 -1; 0 0 9\").T\n",
    "V = Matrix.from_str(\"1 -1 -5; 0 1 1\").T\n",
    "U, V"
   ]
  },
  {
   "cell_type": "code",
   "execution_count": 20,
   "id": "9e90ec2c",
   "metadata": {},
   "outputs": [
    {
     "name": "stdout",
     "output_type": "stream",
     "text": [
      "Check if span(self) is subspace of span(other), and vice versa.\n",
      "Check if span(self) is subspace of span(other)\n",
      "\n",
      "Before RREF: [other | self]\n"
     ]
    },
    {
     "data": {
      "text/latex": [
       "$\\displaystyle \\left[\\begin{array}{cc|ccc}1 & 0 & 2 & -1 & 0\\\\-1 & 1 & -2 & 1 & 0\\\\-5 & 1 & 0 & -1 & 9\\end{array}\\right]$"
      ],
      "text/plain": [
       "Matrix([\n",
       "[ 1, 0 |  2, -1, 0]\n",
       "[-1, 1 | -2,  1, 0]\n",
       "[-5, 1 |  0, -1, 9]\n",
       "])"
      ]
     },
     "metadata": {},
     "output_type": "display_data"
    },
    {
     "name": "stdout",
     "output_type": "stream",
     "text": [
      "\n",
      "After RREF:\n"
     ]
    },
    {
     "data": {
      "text/latex": [
       "$\\text{RREF}\\left\\{\\text{rref} = \\left[\\begin{array}{cc|ccc}1 & 0 & 0 & \\frac{1}{5} & - \\frac{9}{5}\\\\0 & 1 & 0 & 0 & 0\\\\0 & 0 & 1 & - \\frac{3}{5} & \\frac{9}{10}\\end{array}\\right], \\quad\\text{pivots} = (0, 1, 2)\\right\\}$"
      ],
      "text/plain": [
       "RREF(rref=Matrix([\n",
       "[1, 0 | 0,  1/5, -9/5]\n",
       "[0, 1 | 0,    0,    0]\n",
       "[0, 0 | 1, -3/5, 9/10]\n",
       "]), pivots=(0, 1, 2))"
      ]
     },
     "metadata": {},
     "output_type": "display_data"
    },
    {
     "name": "stdout",
     "output_type": "stream",
     "text": [
      "Span(self) is not a subspace of span(other).\n",
      "\n"
     ]
    },
    {
     "data": {
      "text/plain": [
       "False"
      ]
     },
     "execution_count": 20,
     "metadata": {},
     "output_type": "execute_result"
    }
   ],
   "source": [
    "U.is_same_subspace(V, verbosity=2)"
   ]
  },
  {
   "cell_type": "markdown",
   "id": "cd24b335",
   "metadata": {},
   "source": [
    "### (b)\n",
    "\n",
    "$u_1 = \\begin{pmatrix} 1 \\\\ 6 \\\\ 4 \\end{pmatrix}$, $u_2 = \\begin{pmatrix} 2 \\\\ 4 \\\\ -1 \\end{pmatrix}$, $u_3 = \\begin{pmatrix} -1 \\\\ 2 \\\\ 5 \\end{pmatrix}$, $v_1 = \\begin{pmatrix} 1 \\\\ -2 \\\\ -5 \\end{pmatrix}$, $v_2 = \\begin{pmatrix} 0 \\\\ 8 \\\\ 9 \\end{pmatrix}$."
   ]
  },
  {
   "cell_type": "code",
   "execution_count": 21,
   "id": "64284b8c",
   "metadata": {},
   "outputs": [
    {
     "data": {
      "text/latex": [
       "$\\displaystyle \\left( \\left[\\begin{array}{ccc}1 & 2 & -1\\\\6 & 4 & 2\\\\4 & -1 & 5\\end{array}\\right], \\  \\left[\\begin{array}{cc}1 & 0\\\\-2 & 8\\\\-5 & 9\\end{array}\\right]\\right)$"
      ],
      "text/plain": [
       "⎛⎡1  2   -1⎤  ⎡1   0⎤⎞\n",
       "⎜⎢         ⎥  ⎢     ⎥⎟\n",
       "⎜⎢6  4   2 ⎥, ⎢-2  8⎥⎟\n",
       "⎜⎢         ⎥  ⎢     ⎥⎟\n",
       "⎝⎣4  -1  5 ⎦  ⎣-5  9⎦⎠"
      ]
     },
     "execution_count": 21,
     "metadata": {},
     "output_type": "execute_result"
    }
   ],
   "source": [
    "U = Matrix.from_str(\"1 6 4; 2 4 -1; -1 2 5\").T\n",
    "V = Matrix.from_str(\"1 -2 -5; 0 8 9\").T\n",
    "U, V"
   ]
  },
  {
   "cell_type": "code",
   "execution_count": 22,
   "id": "7a537c6d",
   "metadata": {},
   "outputs": [
    {
     "name": "stdout",
     "output_type": "stream",
     "text": [
      "Check if span(self) is subspace of span(other), and vice versa.\n",
      "Check if span(self) is subspace of span(other)\n",
      "\n",
      "Before RREF: [other | self]\n"
     ]
    },
    {
     "data": {
      "text/latex": [
       "$\\displaystyle \\left[\\begin{array}{cc|ccc}1 & 0 & 1 & 2 & -1\\\\-2 & 8 & 6 & 4 & 2\\\\-5 & 9 & 4 & -1 & 5\\end{array}\\right]$"
      ],
      "text/plain": [
       "Matrix([\n",
       "[ 1, 0 | 1,  2, -1]\n",
       "[-2, 8 | 6,  4,  2]\n",
       "[-5, 9 | 4, -1,  5]\n",
       "])"
      ]
     },
     "metadata": {},
     "output_type": "display_data"
    },
    {
     "name": "stdout",
     "output_type": "stream",
     "text": [
      "\n",
      "After RREF:\n"
     ]
    },
    {
     "data": {
      "text/latex": [
       "$\\text{RREF}\\left\\{\\text{rref} = \\left[\\begin{array}{cc|ccc}1 & 0 & 1 & 2 & -1\\\\0 & 1 & 1 & 1 & 0\\\\0 & 0 & 0 & 0 & 0\\end{array}\\right], \\quad\\text{pivots} = (0, 1)\\right\\}$"
      ],
      "text/plain": [
       "RREF(rref=Matrix([\n",
       "[1, 0 | 1, 2, -1]\n",
       "[0, 1 | 1, 1,  0]\n",
       "[0, 0 | 0, 0,  0]\n",
       "]), pivots=(0, 1))"
      ]
     },
     "metadata": {},
     "output_type": "display_data"
    },
    {
     "name": "stdout",
     "output_type": "stream",
     "text": [
      "Span(self) is a subspace of span(other).\n",
      "\n",
      "Check if span(self) is subspace of span(other)\n",
      "\n",
      "Before RREF: [other | self]\n"
     ]
    },
    {
     "data": {
      "text/latex": [
       "$\\displaystyle \\left[\\begin{array}{ccc|cc}1 & 2 & -1 & 1 & 0\\\\6 & 4 & 2 & -2 & 8\\\\4 & -1 & 5 & -5 & 9\\end{array}\\right]$"
      ],
      "text/plain": [
       "Matrix([\n",
       "[1,  2, -1 |  1, 0]\n",
       "[6,  4,  2 | -2, 8]\n",
       "[4, -1,  5 | -5, 9]\n",
       "])"
      ]
     },
     "metadata": {},
     "output_type": "display_data"
    },
    {
     "name": "stdout",
     "output_type": "stream",
     "text": [
      "\n",
      "After RREF:\n"
     ]
    },
    {
     "data": {
      "text/latex": [
       "$\\text{RREF}\\left\\{\\text{rref} = \\left[\\begin{array}{ccc|cc}1 & 0 & 1 & -1 & 2\\\\0 & 1 & -1 & 1 & -1\\\\0 & 0 & 0 & 0 & 0\\end{array}\\right], \\quad\\text{pivots} = (0, 1)\\right\\}$"
      ],
      "text/plain": [
       "RREF(rref=Matrix([\n",
       "[1, 0,  1 | -1,  2]\n",
       "[0, 1, -1 |  1, -1]\n",
       "[0, 0,  0 |  0,  0]\n",
       "]), pivots=(0, 1))"
      ]
     },
     "metadata": {},
     "output_type": "display_data"
    },
    {
     "name": "stdout",
     "output_type": "stream",
     "text": [
      "Span(self) is a subspace of span(other).\n",
      "\n"
     ]
    },
    {
     "data": {
      "text/plain": [
       "True"
      ]
     },
     "execution_count": 22,
     "metadata": {},
     "output_type": "execute_result"
    }
   ],
   "source": [
    "U.is_same_subspace(V, verbosity=2)"
   ]
  }
 ],
 "metadata": {
  "kernelspec": {
   "display_name": "ma1522-linear-algebra (3.10.18)",
   "language": "python",
   "name": "python3"
  },
  "language_info": {
   "codemirror_mode": {
    "name": "ipython",
    "version": 3
   },
   "file_extension": ".py",
   "mimetype": "text/x-python",
   "name": "python",
   "nbconvert_exporter": "python",
   "pygments_lexer": "ipython3",
   "version": "3.10.18"
  }
 },
 "nbformat": 4,
 "nbformat_minor": 5
}

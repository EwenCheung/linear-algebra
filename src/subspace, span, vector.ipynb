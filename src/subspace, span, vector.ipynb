{
 "cells": [
  {
   "cell_type": "code",
   "execution_count": 1,
   "id": "cf038410",
   "metadata": {},
   "outputs": [],
   "source": [
    "# Required imports\n",
    "import sympy as sym\n",
    "import sys, os\n",
    "from ma1522.symbolic import Matrix\n"
   ]
  },
  {
   "cell_type": "markdown",
   "id": "3999e345",
   "metadata": {},
   "source": [
    "# if S and V is_same_subspace means span(S) = span(V)"
   ]
  },
  {
   "cell_type": "markdown",
   "id": "3f15d236",
   "metadata": {},
   "source": [
    "## Question 3\n",
    "\n",
    "Let $V = \\left\\{ \\begin{pmatrix} x \\\\ y \\\\ z \\end{pmatrix} \\middle| x - y - z = 0 \\right\\}$ be a subset of $\\mathbb{R}^3$.\n",
    "\n",
    "### (a)\n",
    "\n",
    "Let $S = \\left\\{\\begin{pmatrix} 1 \\\\ 1 \\\\ 0 \\end{pmatrix}, \\begin{pmatrix} 5 \\\\ 2 \\\\ 3 \\end{pmatrix} \\right\\}$. Show that $\\text{span}(S) = V$.\n"
   ]
  },
  {
   "cell_type": "code",
   "execution_count": 2,
   "id": "6342c741",
   "metadata": {},
   "outputs": [
    {
     "data": {
      "text/latex": [
       "$\\displaystyle \\left[ \\left[\\begin{matrix}1\\\\1\\\\0\\end{matrix}\\right], \\  \\left[\\begin{matrix}1\\\\0\\\\1\\end{matrix}\\right]\\right]$"
      ],
      "text/plain": [
       "⎡⎡1⎤  ⎡1⎤⎤\n",
       "⎢⎢ ⎥  ⎢ ⎥⎥\n",
       "⎢⎢1⎥, ⎢0⎥⎥\n",
       "⎢⎢ ⎥  ⎢ ⎥⎥\n",
       "⎣⎣0⎦  ⎣1⎦⎦"
      ]
     },
     "execution_count": 2,
     "metadata": {},
     "output_type": "execute_result"
    }
   ],
   "source": [
    "# nullspcade is the set of all solutions to Ax = 0\n",
    "# only applicable for homogeneous system\n",
    "V = Matrix([[1, -1, -1]]).nullspace()\n",
    "V"
   ]
  },
  {
   "cell_type": "code",
   "execution_count": 3,
   "id": "a7c4434f",
   "metadata": {},
   "outputs": [
    {
     "data": {
      "text/latex": [
       "$\\displaystyle \\left[\\begin{array}{cc}1 & 5\\\\1 & 2\\\\0 & 3\\end{array}\\right]$"
      ],
      "text/plain": [
       "Matrix([\n",
       "[1, 5]\n",
       "[1, 2]\n",
       "[0, 3]\n",
       "])"
      ]
     },
     "metadata": {},
     "output_type": "display_data"
    },
    {
     "name": "stdout",
     "output_type": "stream",
     "text": [
      "Check if span(self) is subspace of span(other), and vice versa.\n",
      "Check rref([other | self])\n",
      "Check rref([other | self])\n"
     ]
    },
    {
     "data": {
      "text/plain": [
       "True"
      ]
     },
     "execution_count": 3,
     "metadata": {},
     "output_type": "execute_result"
    }
   ],
   "source": [
    "S = Matrix.from_str(\"1 1 0; 5 2 3\").T\n",
    "display(S)\n",
    "# Check if Span(S) = V = Span(1 1 0, 1 0 1)\n",
    "# V will get updated, so each run should recreate V\n",
    "S.is_same_subspace(Matrix.from_list(V), verbosity=1)"
   ]
  },
  {
   "cell_type": "markdown",
   "id": "c194a423",
   "metadata": {},
   "source": [
    "## Check if span(T) = Rn"
   ]
  },
  {
   "cell_type": "code",
   "execution_count": 4,
   "id": "9755d695",
   "metadata": {},
   "outputs": [
    {
     "name": "stdout",
     "output_type": "stream",
     "text": [
      "Check rref(self) does not have zero rows\n",
      "Before RREF: self\n"
     ]
    },
    {
     "data": {
      "text/latex": [
       "$\\displaystyle \\left[\\begin{array}{ccc}1 & 1 & 0\\\\1 & 0 & 1\\\\2 & 3 & 5\\end{array}\\right]$"
      ],
      "text/plain": [
       "Matrix([\n",
       "[1, 1, 0]\n",
       "[1, 0, 1]\n",
       "[2, 3, 5]\n",
       "])"
      ]
     },
     "metadata": {},
     "output_type": "display_data"
    },
    {
     "name": "stdout",
     "output_type": "stream",
     "text": [
      "\n",
      "After RREF:\n"
     ]
    },
    {
     "data": {
      "text/latex": [
       "$\\displaystyle \\left[\\begin{array}{ccc}1 & 0 & 0\\\\0 & 1 & 0\\\\0 & 0 & 1\\end{array}\\right]$"
      ],
      "text/plain": [
       "Matrix([\n",
       "[1, 0, 0]\n",
       "[0, 1, 0]\n",
       "[0, 0, 1]\n",
       "])"
      ]
     },
     "metadata": {},
     "output_type": "display_data"
    },
    {
     "data": {
      "text/plain": [
       "True"
      ]
     },
     "execution_count": 4,
     "metadata": {},
     "output_type": "execute_result"
    }
   ],
   "source": [
    "T = Matrix.from_str(\"1 1 0; 1 0 1; 2 3 5\")\n",
    "# If no `other` subspace is provided, it is assumed to be the entire R^n\n",
    "T.is_same_subspace(verbosity=2)"
   ]
  },
  {
   "cell_type": "markdown",
   "id": "785467b6",
   "metadata": {},
   "source": [
    "<img src=\"/Users/ewencheung/Documents/GitHub/linear-algebra/docs/assets/images/2324 18.png\" alt=\"Tutorial 1 Question 7: Traffic Network\">"
   ]
  },
  {
   "cell_type": "code",
   "execution_count": 5,
   "id": "6bfef137",
   "metadata": {},
   "outputs": [
    {
     "data": {
      "text/latex": [
       "$\\displaystyle \\left[\\begin{array}{ccccc}1 & 2 & -2 & 0 & 2\\\\1 & -1 & 1 & 3 & -1\\\\1 & 1 & -1 & 1 & 1\\\\1 & 0 & 0 & 2 & 0\\end{array}\\right]$"
      ],
      "text/plain": [
       "Matrix([\n",
       "[1,  2, -2, 0,  2]\n",
       "[1, -1,  1, 3, -1]\n",
       "[1,  1, -1, 1,  1]\n",
       "[1,  0,  0, 2,  0]\n",
       "])"
      ]
     },
     "execution_count": 5,
     "metadata": {},
     "output_type": "execute_result"
    }
   ],
   "source": [
    "A = Matrix.from_str(\"1 2 -2 0 2; 1 -1 1 3 -1; 1 1 -1 1 1; 1 0 0 2 0\")\n",
    "A"
   ]
  },
  {
   "cell_type": "code",
   "execution_count": null,
   "id": "a6e3dc8d",
   "metadata": {},
   "outputs": [],
   "source": []
  },
  {
   "cell_type": "code",
   "execution_count": 6,
   "id": "18e8bce7",
   "metadata": {},
   "outputs": [
    {
     "data": {
      "text/latex": [
       "$\\displaystyle \\left[\\begin{array}{ccc}0 & -2 & 0\\\\1 & 1 & -1\\\\1 & 0 & 0\\\\0 & 1 & 0\\\\0 & 0 & 1\\end{array}\\right]$"
      ],
      "text/plain": [
       "Matrix([\n",
       "[0, -2,  0]\n",
       "[1,  1, -1]\n",
       "[1,  0,  0]\n",
       "[0,  1,  0]\n",
       "[0,  0,  1]\n",
       "])"
      ]
     },
     "execution_count": 6,
     "metadata": {},
     "output_type": "execute_result"
    }
   ],
   "source": [
    "# general solution to the system\n",
    "solution = A.nullspace()\n",
    "# V = span(A.nullspace())\n",
    "V = Matrix.from_list(solution)\n",
    "V"
   ]
  },
  {
   "cell_type": "code",
   "execution_count": 7,
   "id": "60d7d33a",
   "metadata": {},
   "outputs": [
    {
     "data": {
      "text/latex": [
       "$\\displaystyle \\left[\\begin{array}{cccc}2 & 2 & -2 & 2\\\\-1 & 0 & 2 & -1\\\\2 & 2 & 1 & 1\\\\-1 & -1 & 1 & -1\\\\2 & 1 & 0 & 1\\end{array}\\right]$"
      ],
      "text/plain": [
       "Matrix([\n",
       "[ 2,  2, -2,  2]\n",
       "[-1,  0,  2, -1]\n",
       "[ 2,  2,  1,  1]\n",
       "[-1, -1,  1, -1]\n",
       "[ 2,  1,  0,  1]\n",
       "])"
      ]
     },
     "execution_count": 7,
     "metadata": {},
     "output_type": "execute_result"
    }
   ],
   "source": [
    "optionA = Matrix.from_str(\"2 2 -2 2; -1 0 2 -1; 2 2 1 1; -1 -1 1 -1; 2 1 0 1\")\n",
    "optionA"
   ]
  },
  {
   "cell_type": "markdown",
   "id": "cf439236",
   "metadata": {},
   "source": [
    "Answer Found A"
   ]
  },
  {
   "cell_type": "code",
   "execution_count": 8,
   "id": "4deda85d",
   "metadata": {},
   "outputs": [
    {
     "name": "stdout",
     "output_type": "stream",
     "text": [
      "Check if span(self) is subspace of span(other), and vice versa.\n",
      "Check rref([other | self])\n",
      "Check rref([other | self])\n"
     ]
    },
    {
     "data": {
      "text/plain": [
       "True"
      ]
     },
     "execution_count": 8,
     "metadata": {},
     "output_type": "execute_result"
    }
   ],
   "source": [
    "V.is_same_subspace(optionA, verbosity = 1)"
   ]
  },
  {
   "cell_type": "code",
   "execution_count": 9,
   "id": "52f4e566",
   "metadata": {},
   "outputs": [
    {
     "data": {
      "text/latex": [
       "$\\displaystyle \\left[\\begin{array}{ccc}2 & 4 & 2\\\\-3 & -4 & -1\\\\-1 & -1 & 0\\\\-1 & -2 & -1\\\\1 & 1 & 0\\end{array}\\right]$"
      ],
      "text/plain": [
       "Matrix([\n",
       "[ 2,  4,  2]\n",
       "[-3, -4, -1]\n",
       "[-1, -1,  0]\n",
       "[-1, -2, -1]\n",
       "[ 1,  1,  0]\n",
       "])"
      ]
     },
     "execution_count": 9,
     "metadata": {},
     "output_type": "execute_result"
    }
   ],
   "source": [
    "optionB = Matrix.from_str(\"2 4 2; -3 -4 -1; -1 -1 0; -1 -2 -1; 1 1 0\")\n",
    "optionB"
   ]
  },
  {
   "cell_type": "code",
   "execution_count": 10,
   "id": "b5ca75ae",
   "metadata": {},
   "outputs": [
    {
     "name": "stdout",
     "output_type": "stream",
     "text": [
      "Check if span(self) is subspace of span(other), and vice versa.\n",
      "Check rref([other | self])\n"
     ]
    },
    {
     "data": {
      "text/plain": [
       "False"
      ]
     },
     "execution_count": 10,
     "metadata": {},
     "output_type": "execute_result"
    }
   ],
   "source": [
    "V.is_same_subspace(optionB, verbosity = 1)"
   ]
  },
  {
   "cell_type": "markdown",
   "id": "9bd79d8b",
   "metadata": {},
   "source": [
    "### Check is this span R4\n",
    "\n",
    "$S = \\left\\{\\begin{pmatrix} 6 \\\\ 4 \\\\ -2 \\\\ 4 \\end{pmatrix}, \\begin{pmatrix} 2 \\\\ 0 \\\\ 0 \\\\ 1 \\end{pmatrix}, \\begin{pmatrix} 3 \\\\ 2 \\\\ -1 \\\\ 2 \\end{pmatrix}, \\begin{pmatrix} 5 \\\\ 6 \\\\ -3 \\\\ 2 \\end{pmatrix}, \\begin{pmatrix} 0 \\\\ 4 \\\\ -2 \\\\ -1 \\end{pmatrix}\\right\\}$."
   ]
  },
  {
   "cell_type": "code",
   "execution_count": 11,
   "id": "30b8705c",
   "metadata": {},
   "outputs": [
    {
     "data": {
      "text/latex": [
       "$\\displaystyle \\left[\\begin{array}{ccccc}6 & 2 & 3 & 5 & 0\\\\4 & 0 & 2 & 6 & 4\\\\-2 & 0 & -1 & -3 & -2\\\\4 & 1 & 2 & 2 & -1\\end{array}\\right]$"
      ],
      "text/plain": [
       "Matrix([\n",
       "[ 6, 2,  3,  5,  0]\n",
       "[ 4, 0,  2,  6,  4]\n",
       "[-2, 0, -1, -3, -2]\n",
       "[ 4, 1,  2,  2, -1]\n",
       "])"
      ]
     },
     "execution_count": 11,
     "metadata": {},
     "output_type": "execute_result"
    }
   ],
   "source": [
    "S = Matrix.from_str(\"6 4 -2 4; 2 0 0 1; 3 2 -1 2; 5 6 -3 2; 0 4 -2 -1\").T\n",
    "S"
   ]
  },
  {
   "cell_type": "code",
   "execution_count": 12,
   "id": "a9a99b7c",
   "metadata": {},
   "outputs": [
    {
     "name": "stdout",
     "output_type": "stream",
     "text": [
      "Check rref(self) does not have zero rows\n",
      "Before RREF: self\n"
     ]
    },
    {
     "data": {
      "text/latex": [
       "$\\displaystyle \\left[\\begin{array}{ccccc}6 & 2 & 3 & 5 & 0\\\\4 & 0 & 2 & 6 & 4\\\\-2 & 0 & -1 & -3 & -2\\\\4 & 1 & 2 & 2 & -1\\end{array}\\right]$"
      ],
      "text/plain": [
       "Matrix([\n",
       "[ 6, 2,  3,  5,  0]\n",
       "[ 4, 0,  2,  6,  4]\n",
       "[-2, 0, -1, -3, -2]\n",
       "[ 4, 1,  2,  2, -1]\n",
       "])"
      ]
     },
     "metadata": {},
     "output_type": "display_data"
    },
    {
     "name": "stdout",
     "output_type": "stream",
     "text": [
      "\n",
      "After RREF:\n"
     ]
    },
    {
     "data": {
      "text/latex": [
       "$\\displaystyle \\left[\\begin{array}{ccccc}1 & 0 & \\frac{1}{2} & 0 & - \\frac{1}{2}\\\\0 & 1 & 0 & 0 & -1\\\\0 & 0 & 0 & 1 & 1\\\\0 & 0 & 0 & 0 & 0\\end{array}\\right]$"
      ],
      "text/plain": [
       "Matrix([\n",
       "[1, 0, 1/2, 0, -1/2]\n",
       "[0, 1,   0, 0,   -1]\n",
       "[0, 0,   0, 1,    1]\n",
       "[0, 0,   0, 0,    0]\n",
       "])"
      ]
     },
     "metadata": {},
     "output_type": "display_data"
    },
    {
     "data": {
      "text/plain": [
       "False"
      ]
     },
     "execution_count": 12,
     "metadata": {},
     "output_type": "execute_result"
    }
   ],
   "source": [
    "S.is_same_subspace(verbosity=2)"
   ]
  },
  {
   "cell_type": "markdown",
   "id": "294a65bc",
   "metadata": {},
   "source": [
    "### Subspace\n",
    "\n",
    "<img src=\"/Users/ewencheung/Documents/GitHub/linear-algebra/docs/assets/images/2424 Vector subspace 19.png\" alt=\"Tutorial 1 Question 7: Traffic Network\">\n",
    "\n"
   ]
  },
  {
   "cell_type": "code",
   "execution_count": 13,
   "id": "2dd31853",
   "metadata": {},
   "outputs": [
    {
     "data": {
      "text/latex": [
       "$\\displaystyle \\left[\\begin{array}{cc}-1 & 1\\\\1 & -1\\\\1 & 0\\\\0 & 1\\end{array}\\right]$"
      ],
      "text/plain": [
       "Matrix([\n",
       "[-1,  1]\n",
       "[ 1, -1]\n",
       "[ 1,  0]\n",
       "[ 0,  1]\n",
       "])"
      ]
     },
     "execution_count": 13,
     "metadata": {},
     "output_type": "execute_result"
    }
   ],
   "source": [
    "V = Matrix.from_str(\"1 1 0 0; 0 1 -1 1\")\n",
    "V = Matrix.from_list(V.nullspace())\n",
    "V"
   ]
  },
  {
   "cell_type": "code",
   "execution_count": 14,
   "id": "d8abda8d",
   "metadata": {},
   "outputs": [],
   "source": [
    "a = Matrix.from_str(\"1 -1 1 2; 3 -3 -1 2; 0 0 1 1\").T\n",
    "b = Matrix.from_str(\"1 -1 0 1; 0 0 1 1; 1 -1 1 2\").T\n",
    "c = Matrix.from_str(\"-1 1 1 0; 1 -1 1 0; 1 -1 1 2\").T\n",
    "d = Matrix.from_str(\"1 -1 0 0; -1 1 0 0; 0 0 1 1\").T\n",
    "e = Matrix.from_str(\"-1 1 1 0; 1 -1 -1 0; 0 0 0 1\").T"
   ]
  },
  {
   "cell_type": "markdown",
   "id": "5b4b1a9b",
   "metadata": {},
   "source": []
  },
  {
   "cell_type": "code",
   "execution_count": 15,
   "id": "682064cd",
   "metadata": {},
   "outputs": [
    {
     "name": "stdout",
     "output_type": "stream",
     "text": [
      "True\n",
      "True\n",
      "False\n",
      "False\n",
      "False\n"
     ]
    }
   ],
   "source": [
    "print(a.is_same_subspace(V, verbosity=0))\n",
    "print(b.is_same_subspace(V, verbosity=0))\n",
    "print(c.is_same_subspace(V, verbosity=0))\n",
    "print(d.is_same_subspace(V, verbosity=0))\n",
    "print(e.is_same_subspace(V, verbosity=0))\n",
    "\n",
    "\n",
    "# print(a.is_same_subspace(verbosity=0))\n",
    "# print(b.is_same_subspace(verbosity=0))\n",
    "# print(c.is_same_subspace(verbosity=0))\n",
    "# print(d.is_same_subspace(verbosity=0))\n",
    "# print(e.is_same_subspace(verbosity=0))"
   ]
  }
 ],
 "metadata": {
  "kernelspec": {
   "display_name": "ma1522-linear-algebra (3.10.18)",
   "language": "python",
   "name": "python3"
  },
  "language_info": {
   "codemirror_mode": {
    "name": "ipython",
    "version": 3
   },
   "file_extension": ".py",
   "mimetype": "text/x-python",
   "name": "python",
   "nbconvert_exporter": "python",
   "pygments_lexer": "ipython3",
   "version": "3.10.18"
  }
 },
 "nbformat": 4,
 "nbformat_minor": 5
}

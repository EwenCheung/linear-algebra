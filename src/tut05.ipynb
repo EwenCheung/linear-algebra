{
 "cells": [
  {
   "cell_type": "markdown",
   "id": "bbc27375",
   "metadata": {},
   "source": [
    "# Tutorial 5 (AY24/25 Sem 1)"
   ]
  },
  {
   "cell_type": "code",
   "execution_count": 1,
   "id": "46fd958b",
   "metadata": {},
   "outputs": [],
   "source": [
    "# Required imports\n",
    "import sympy as sym\n",
    "from ma1522 import Matrix"
   ]
  },
  {
   "cell_type": "markdown",
   "id": "9224a408",
   "metadata": {},
   "source": [
    "## Question 1\n",
    "\n",
    "For each of the following sets of vectors $S$,\n",
    "\n",
    "(i) Determine if $S$ is linearly independent.\n",
    "\n",
    "(ii) If $S$ is linearly dependent, express one of the vectors in $S$ as a linear combination of the others."
   ]
  },
  {
   "cell_type": "markdown",
   "id": "600af412",
   "metadata": {},
   "source": [
    "### (a)\n",
    "\n",
    "$S = \\left\\{\\begin{pmatrix} 2 \\\\ -1 \\\\ 0 \\end{pmatrix}, \\begin{pmatrix} 0 \\\\ 3 \\\\ 2 \\end{pmatrix}, \\begin{pmatrix} 2 \\\\ 4 \\\\ 3 \\end{pmatrix}, \\begin{pmatrix} 3 \\\\ 6 \\\\ 6 \\end{pmatrix}\\right\\}$."
   ]
  },
  {
   "cell_type": "code",
   "execution_count": 2,
   "id": "adba541d",
   "metadata": {},
   "outputs": [
    {
     "data": {
      "text/latex": [
       "$\\displaystyle \\left[\\begin{array}{cccc}2 & 0 & 2 & 3\\\\-1 & 3 & 4 & 6\\\\0 & 2 & 3 & 6\\end{array}\\right]$"
      ],
      "text/plain": [
       "Matrix([\n",
       "[ 2, 0, 2, 3]\n",
       "[-1, 3, 4, 6]\n",
       "[ 0, 2, 3, 6]\n",
       "])"
      ]
     },
     "execution_count": 2,
     "metadata": {},
     "output_type": "execute_result"
    }
   ],
   "source": [
    "S = Matrix.from_str(\"2 -1 0; 0 3 2; 2 4 3; 3 6 6\").T\n",
    "S"
   ]
  },
  {
   "cell_type": "code",
   "execution_count": 3,
   "id": "b3f93746",
   "metadata": {},
   "outputs": [
    {
     "name": "stdout",
     "output_type": "stream",
     "text": [
      "Before RREF: self\n"
     ]
    },
    {
     "data": {
      "text/latex": [
       "$\\displaystyle \\left[\\begin{array}{cccc}2 & 0 & 2 & 3\\\\-1 & 3 & 4 & 6\\\\0 & 2 & 3 & 6\\end{array}\\right]$"
      ],
      "text/plain": [
       "Matrix([\n",
       "[ 2, 0, 2, 3]\n",
       "[-1, 3, 4, 6]\n",
       "[ 0, 2, 3, 6]\n",
       "])"
      ]
     },
     "metadata": {},
     "output_type": "display_data"
    },
    {
     "name": "stdout",
     "output_type": "stream",
     "text": [
      "\n",
      "After RREF:\n"
     ]
    },
    {
     "data": {
      "text/latex": [
       "$\\displaystyle \\left[\\begin{array}{cccc}1 & 0 & 0 & \\frac{9}{2}\\\\0 & 1 & 0 & \\frac{15}{2}\\\\0 & 0 & 1 & -3\\end{array}\\right]$"
      ],
      "text/plain": [
       "Matrix([\n",
       "[1, 0, 0,  9/2]\n",
       "[0, 1, 0, 15/2]\n",
       "[0, 0, 1,   -3]\n",
       "])"
      ]
     },
     "metadata": {},
     "output_type": "display_data"
    },
    {
     "name": "stdout",
     "output_type": "stream",
     "text": [
      "Check if Number of columns (4) == Number of pivot columns (3)\n"
     ]
    },
    {
     "data": {
      "text/plain": [
       "False"
      ]
     },
     "execution_count": 3,
     "metadata": {},
     "output_type": "execute_result"
    }
   ],
   "source": [
    "S.is_linearly_independent(verbosity=2)"
   ]
  },
  {
   "cell_type": "markdown",
   "id": "c689f733",
   "metadata": {},
   "source": [
    "Based on the RREF, the last column can be expressed as a linear combination of the first three columns"
   ]
  },
  {
   "cell_type": "markdown",
   "id": "467fc873",
   "metadata": {},
   "source": [
    "### (b)\n",
    "\n",
    "$S = \\left\\{\\begin{pmatrix} 1 \\\\ 1 \\\\ 0 \\end{pmatrix}, \\begin{pmatrix} 3 \\\\ 4 \\\\ 2 \\end{pmatrix}\\right\\}$."
   ]
  },
  {
   "cell_type": "code",
   "execution_count": 4,
   "id": "51bd05dd",
   "metadata": {},
   "outputs": [
    {
     "data": {
      "text/latex": [
       "$\\displaystyle \\left[\\begin{array}{cc}1 & 3\\\\1 & 4\\\\0 & 2\\end{array}\\right]$"
      ],
      "text/plain": [
       "Matrix([\n",
       "[1, 3]\n",
       "[1, 4]\n",
       "[0, 2]\n",
       "])"
      ]
     },
     "execution_count": 4,
     "metadata": {},
     "output_type": "execute_result"
    }
   ],
   "source": [
    "S = Matrix.from_str(\"1 1 0; 3 4 2\").T\n",
    "S"
   ]
  },
  {
   "cell_type": "code",
   "execution_count": 5,
   "id": "ec240017",
   "metadata": {},
   "outputs": [
    {
     "name": "stdout",
     "output_type": "stream",
     "text": [
      "Before RREF: self\n"
     ]
    },
    {
     "data": {
      "text/latex": [
       "$\\displaystyle \\left[\\begin{array}{cc}1 & 3\\\\1 & 4\\\\0 & 2\\end{array}\\right]$"
      ],
      "text/plain": [
       "Matrix([\n",
       "[1, 3]\n",
       "[1, 4]\n",
       "[0, 2]\n",
       "])"
      ]
     },
     "metadata": {},
     "output_type": "display_data"
    },
    {
     "name": "stdout",
     "output_type": "stream",
     "text": [
      "\n",
      "After RREF:\n"
     ]
    },
    {
     "data": {
      "text/latex": [
       "$\\displaystyle \\left[\\begin{array}{cc}1 & 0\\\\0 & 1\\\\0 & 0\\end{array}\\right]$"
      ],
      "text/plain": [
       "Matrix([\n",
       "[1, 0]\n",
       "[0, 1]\n",
       "[0, 0]\n",
       "])"
      ]
     },
     "metadata": {},
     "output_type": "display_data"
    },
    {
     "name": "stdout",
     "output_type": "stream",
     "text": [
      "Check if Number of columns (2) == Number of pivot columns (2)\n"
     ]
    },
    {
     "data": {
      "text/plain": [
       "True"
      ]
     },
     "execution_count": 5,
     "metadata": {},
     "output_type": "execute_result"
    }
   ],
   "source": [
    "S.is_linearly_independent(verbosity=2)"
   ]
  },
  {
   "cell_type": "markdown",
   "id": "311fe97a",
   "metadata": {},
   "source": [
    "### (c)\n",
    "\n",
    "$S = \\left\\{\\begin{pmatrix} 1 \\\\ 1 \\\\ 0 \\end{pmatrix}, \\begin{pmatrix} 3 \\\\ 4 \\\\ 2 \\end{pmatrix}, \\begin{pmatrix} 0 \\\\ 0 \\\\ 0 \\end{pmatrix}\\right\\}$."
   ]
  },
  {
   "cell_type": "code",
   "execution_count": 6,
   "id": "381ef143",
   "metadata": {},
   "outputs": [
    {
     "data": {
      "text/latex": [
       "$\\displaystyle \\left[\\begin{array}{ccc}1 & 3 & 0\\\\1 & 4 & 0\\\\0 & 2 & 0\\end{array}\\right]$"
      ],
      "text/plain": [
       "Matrix([\n",
       "[1, 3, 0]\n",
       "[1, 4, 0]\n",
       "[0, 2, 0]\n",
       "])"
      ]
     },
     "execution_count": 6,
     "metadata": {},
     "output_type": "execute_result"
    }
   ],
   "source": [
    "S = Matrix.from_str(\"1 1 0; 3 4 2; 0 0 0\").T\n",
    "S"
   ]
  },
  {
   "cell_type": "code",
   "execution_count": 7,
   "id": "bbab672a",
   "metadata": {},
   "outputs": [
    {
     "name": "stdout",
     "output_type": "stream",
     "text": [
      "Before RREF: self\n"
     ]
    },
    {
     "data": {
      "text/latex": [
       "$\\displaystyle \\left[\\begin{array}{ccc}1 & 3 & 0\\\\1 & 4 & 0\\\\0 & 2 & 0\\end{array}\\right]$"
      ],
      "text/plain": [
       "Matrix([\n",
       "[1, 3, 0]\n",
       "[1, 4, 0]\n",
       "[0, 2, 0]\n",
       "])"
      ]
     },
     "metadata": {},
     "output_type": "display_data"
    },
    {
     "name": "stdout",
     "output_type": "stream",
     "text": [
      "\n",
      "After RREF:\n"
     ]
    },
    {
     "data": {
      "text/latex": [
       "$\\displaystyle \\left[\\begin{array}{ccc}1 & 0 & 0\\\\0 & 1 & 0\\\\0 & 0 & 0\\end{array}\\right]$"
      ],
      "text/plain": [
       "Matrix([\n",
       "[1, 0, 0]\n",
       "[0, 1, 0]\n",
       "[0, 0, 0]\n",
       "])"
      ]
     },
     "metadata": {},
     "output_type": "display_data"
    },
    {
     "name": "stdout",
     "output_type": "stream",
     "text": [
      "Check if Number of columns (3) == Number of pivot columns (2)\n"
     ]
    },
    {
     "data": {
      "text/plain": [
       "False"
      ]
     },
     "execution_count": 7,
     "metadata": {},
     "output_type": "execute_result"
    }
   ],
   "source": [
    "S.is_linearly_independent(verbosity=2)"
   ]
  },
  {
   "cell_type": "markdown",
   "id": "fc78a911",
   "metadata": {},
   "source": [
    "### (d)\n",
    "\n",
    "$S = \\left\\{\\begin{pmatrix} 1 \\\\ 0 \\\\ 0 \\end{pmatrix}, \\begin{pmatrix} 0 \\\\ 1 \\\\ 1 \\end{pmatrix}, \\begin{pmatrix} 1 \\\\ 2 \\\\ -1 \\end{pmatrix}\\right\\}$."
   ]
  },
  {
   "cell_type": "code",
   "execution_count": 8,
   "id": "c8f9a2f5",
   "metadata": {},
   "outputs": [
    {
     "data": {
      "text/latex": [
       "$\\displaystyle \\left[\\begin{array}{ccc}1 & 0 & 1\\\\0 & 1 & 2\\\\0 & 1 & -1\\end{array}\\right]$"
      ],
      "text/plain": [
       "Matrix([\n",
       "[1, 0,  1]\n",
       "[0, 1,  2]\n",
       "[0, 1, -1]\n",
       "])"
      ]
     },
     "execution_count": 8,
     "metadata": {},
     "output_type": "execute_result"
    }
   ],
   "source": [
    "S = Matrix.from_str(\"1 0 0; 0 1 1; 1 2 -1\").T\n",
    "S"
   ]
  },
  {
   "cell_type": "code",
   "execution_count": 9,
   "id": "fef7d0ed",
   "metadata": {},
   "outputs": [
    {
     "name": "stdout",
     "output_type": "stream",
     "text": [
      "Before RREF: self\n"
     ]
    },
    {
     "data": {
      "text/latex": [
       "$\\displaystyle \\left[\\begin{array}{ccc}1 & 0 & 1\\\\0 & 1 & 2\\\\0 & 1 & -1\\end{array}\\right]$"
      ],
      "text/plain": [
       "Matrix([\n",
       "[1, 0,  1]\n",
       "[0, 1,  2]\n",
       "[0, 1, -1]\n",
       "])"
      ]
     },
     "metadata": {},
     "output_type": "display_data"
    },
    {
     "name": "stdout",
     "output_type": "stream",
     "text": [
      "\n",
      "After RREF:\n"
     ]
    },
    {
     "data": {
      "text/latex": [
       "$\\displaystyle \\left[\\begin{array}{ccc}1 & 0 & 0\\\\0 & 1 & 0\\\\0 & 0 & 1\\end{array}\\right]$"
      ],
      "text/plain": [
       "Matrix([\n",
       "[1, 0, 0]\n",
       "[0, 1, 0]\n",
       "[0, 0, 1]\n",
       "])"
      ]
     },
     "metadata": {},
     "output_type": "display_data"
    },
    {
     "name": "stdout",
     "output_type": "stream",
     "text": [
      "Check if Number of columns (3) == Number of pivot columns (3)\n"
     ]
    },
    {
     "data": {
      "text/plain": [
       "True"
      ]
     },
     "execution_count": 9,
     "metadata": {},
     "output_type": "execute_result"
    }
   ],
   "source": [
    "S.is_linearly_independent(verbosity=2)"
   ]
  },
  {
   "cell_type": "markdown",
   "id": "52020067",
   "metadata": {},
   "source": [
    "## Question 2\n",
    "\n",
    "Suppose $u$, $v$, $w$ are linearly independent vectors in $\\mathbb{R}^n$. Determine which of the sets $S_1$ to $S_5$ are linearly independent."
   ]
  },
  {
   "cell_type": "markdown",
   "id": "2d826bbd",
   "metadata": {},
   "source": [
    "### (d)\n",
    "\n",
    "$S_4 = \\{u, u + v, u + v + w\\}$."
   ]
  },
  {
   "cell_type": "code",
   "execution_count": 10,
   "id": "4b093664",
   "metadata": {},
   "outputs": [
    {
     "data": {
      "text/latex": [
       "$\\displaystyle \\left\\{ a : 0, \\  b : 0, \\  c : 0\\right\\}$"
      ],
      "text/plain": [
       "{a: 0, b: 0, c: 0}"
      ]
     },
     "execution_count": 10,
     "metadata": {},
     "output_type": "execute_result"
    }
   ],
   "source": [
    "# Tip: Use `sympy.solve` to help you find non-trivial solutions\n",
    "\n",
    "a, b, c = sym.symbols(\"a b c\")\n",
    "u, v, w = sym.symbols(\"u v w\")\n",
    "\n",
    "v1 = u\n",
    "v2 = u + v\n",
    "v3 = u + v + w\n",
    "\n",
    "# Solve the system of equations to find the coefficients a, b, c\n",
    "sols = sym.solve(a*v1 + b*v2 + c*v3, (a, b, c))\n",
    "sols # only trivial solution exists -> the set is linearly independent"
   ]
  },
  {
   "cell_type": "markdown",
   "id": "666f5b49",
   "metadata": {},
   "source": [
    "### (e)\n",
    "\n",
    "$S_5 = \\{u + v, v + w, u + w, u + v + w\\}$."
   ]
  },
  {
   "cell_type": "code",
   "execution_count": 11,
   "id": "770153df",
   "metadata": {},
   "outputs": [
    {
     "data": {
      "text/latex": [
       "$\\displaystyle \\left[ \\left( - \\frac{d}{2}, \\  - \\frac{d}{2}, \\  - \\frac{d}{2}, \\  d\\right)\\right]$"
      ],
      "text/plain": [
       "⎡⎛-d   -d   -d    ⎞⎤\n",
       "⎢⎜───, ───, ───, d⎟⎥\n",
       "⎣⎝ 2    2    2    ⎠⎦"
      ]
     },
     "execution_count": 11,
     "metadata": {},
     "output_type": "execute_result"
    }
   ],
   "source": [
    "a, b, c, d = sym.symbols(\"a b c d\")\n",
    "u, v, w = sym.symbols(\"u v w\")\n",
    "\n",
    "v1 = u + v\n",
    "v2 = v + w\n",
    "v3 = u + w\n",
    "v4 = u + v + w\n",
    "\n",
    "# Solve the system of equations to find the coefficients a, b, c, d\n",
    "sols = sym.solve(a*v1 + b*v2 + c*v3 + d*v4, (a, b, c, d))\n",
    "sols # non-trivial solution exists -> the set is linearly dependent"
   ]
  },
  {
   "cell_type": "markdown",
   "id": "8288d864",
   "metadata": {},
   "source": [
    "## Question 3\n",
    "\n",
    "For each of the following subspaces $V$, write down a basis for $V$.\n",
    "\n",
    "### (a)\n",
    "\n",
    " $V = \\left\\{\\begin{pmatrix} a + b \\\\ a + c \\\\ c + d \\\\ b + d \\end{pmatrix} \\middle| \\, a, b, c, d \\in \\mathbb{R}\\right\\}$."
   ]
  },
  {
   "cell_type": "code",
   "execution_count": 12,
   "id": "a9914a36",
   "metadata": {},
   "outputs": [
    {
     "data": {
      "text/latex": [
       "$\\displaystyle \\left\\{ a : \\left[\\begin{array}{c}1\\\\1\\\\0\\\\0\\end{array}\\right], \\  b : \\left[\\begin{array}{c}1\\\\0\\\\0\\\\1\\end{array}\\right], \\  c : \\left[\\begin{array}{c}0\\\\1\\\\1\\\\0\\end{array}\\right], \\  d : \\left[\\begin{array}{c}0\\\\0\\\\1\\\\1\\end{array}\\right]\\right\\}$"
      ],
      "text/plain": [
       "defaultdict(ma1522.symbolic.Matrix,\n",
       "            ⎧   ⎡1⎤     ⎡1⎤     ⎡0⎤     ⎡0⎤⎫\n",
       "⎪   ⎢ ⎥     ⎢ ⎥     ⎢ ⎥     ⎢ ⎥⎪\n",
       "⎪   ⎢1⎥     ⎢0⎥     ⎢1⎥     ⎢0⎥⎪\n",
       "⎨a: ⎢ ⎥, b: ⎢ ⎥, c: ⎢ ⎥, d: ⎢ ⎥⎬\n",
       "⎪   ⎢0⎥     ⎢0⎥     ⎢1⎥     ⎢1⎥⎪\n",
       "⎪   ⎢ ⎥     ⎢ ⎥     ⎢ ⎥     ⎢ ⎥⎪\n",
       "⎩   ⎣0⎦     ⎣1⎦     ⎣0⎦     ⎣1⎦⎭)"
      ]
     },
     "execution_count": 12,
     "metadata": {},
     "output_type": "execute_result"
    }
   ],
   "source": [
    "V = Matrix.from_str(\"a+b; a+c; c+d; b+d\")\n",
    "vecs = V.sep_unk()\n",
    "vecs"
   ]
  },
  {
   "cell_type": "code",
   "execution_count": 13,
   "id": "b298d030",
   "metadata": {},
   "outputs": [
    {
     "data": {
      "text/latex": [
       "$\\displaystyle \\left[\\begin{array}{cccc}1 & 1 & 0 & 0\\\\0 & 1 & 0 & 1\\\\0 & 0 & 1 & 1\\\\1 & 0 & 1 & 0\\end{array}\\right]$"
      ],
      "text/plain": [
       "Matrix([\n",
       "[1, 1, 0, 0]\n",
       "[0, 1, 0, 1]\n",
       "[0, 0, 1, 1]\n",
       "[1, 0, 1, 0]\n",
       "])"
      ]
     },
     "execution_count": 13,
     "metadata": {},
     "output_type": "execute_result"
    }
   ],
   "source": [
    "V = Matrix.from_list([*vecs.values()])\n",
    "V"
   ]
  },
  {
   "cell_type": "code",
   "execution_count": 14,
   "id": "640fe7e1",
   "metadata": {},
   "outputs": [
    {
     "name": "stdout",
     "output_type": "stream",
     "text": [
      "Before RREF: [self]\n"
     ]
    },
    {
     "data": {
      "text/latex": [
       "$\\displaystyle \\left[\\begin{array}{cccc}1 & 1 & 0 & 0\\\\0 & 1 & 0 & 1\\\\0 & 0 & 1 & 1\\\\1 & 0 & 1 & 0\\end{array}\\right]$"
      ],
      "text/plain": [
       "Matrix([\n",
       "[1, 1, 0, 0]\n",
       "[0, 1, 0, 1]\n",
       "[0, 0, 1, 1]\n",
       "[1, 0, 1, 0]\n",
       "])"
      ]
     },
     "metadata": {},
     "output_type": "display_data"
    },
    {
     "name": "stdout",
     "output_type": "stream",
     "text": [
      "\n",
      "After RREF:\n"
     ]
    },
    {
     "data": {
      "text/latex": [
       "$\\text{RREF}\\left\\{\\text{rref} = \\left[\\begin{array}{cccc}1 & 0 & 0 & -1\\\\0 & 1 & 0 & 1\\\\0 & 0 & 1 & 1\\\\0 & 0 & 0 & 0\\end{array}\\right], \\quad\\text{pivots} = (0, 1, 2)\\right\\}$"
      ],
      "text/plain": [
       "RREF(rref=Matrix([\n",
       "[1, 0, 0, -1]\n",
       "[0, 1, 0,  1]\n",
       "[0, 0, 1,  1]\n",
       "[0, 0, 0,  0]\n",
       "]), pivots=(0, 1, 2))"
      ]
     },
     "metadata": {},
     "output_type": "display_data"
    },
    {
     "name": "stdout",
     "output_type": "stream",
     "text": [
      "Select columns of self corresponding to pivot positions.\n"
     ]
    },
    {
     "data": {
      "text/latex": [
       "$\\displaystyle \\left[\\begin{array}{ccc}1 & 1 & 0\\\\0 & 1 & 0\\\\0 & 0 & 1\\\\1 & 0 & 1\\end{array}\\right]$"
      ],
      "text/plain": [
       "Matrix([\n",
       "[1, 1, 0]\n",
       "[0, 1, 0]\n",
       "[0, 0, 1]\n",
       "[1, 0, 1]\n",
       "])"
      ]
     },
     "execution_count": 14,
     "metadata": {},
     "output_type": "execute_result"
    }
   ],
   "source": [
    "# Tip: Use pivots in the RREF to get linearly independent vectors\n",
    "V.get_linearly_independent_vectors(verbosity=1)"
   ]
  },
  {
   "cell_type": "markdown",
   "id": "0c691f0a",
   "metadata": {},
   "source": [
    "### (b)\n",
    "\n",
    "$V = \\text{span}\\left\\{\\begin{pmatrix} 1 \\\\ 0 \\\\ -1 \\end{pmatrix}, \\begin{pmatrix} -1 \\\\ 2 \\\\ 3 \\end{pmatrix}, \\begin{pmatrix} 0 \\\\ 3 \\\\ 0 \\end{pmatrix}, \\begin{pmatrix} 1 \\\\ -1 \\\\ 1 \\end{pmatrix}\\right\\}$."
   ]
  },
  {
   "cell_type": "code",
   "execution_count": 15,
   "id": "bca40b1b",
   "metadata": {},
   "outputs": [
    {
     "data": {
      "text/latex": [
       "$\\displaystyle \\left[\\begin{array}{cccc}1 & -1 & 0 & 1\\\\0 & 2 & 3 & -1\\\\-1 & 3 & 0 & 1\\end{array}\\right]$"
      ],
      "text/plain": [
       "Matrix([\n",
       "[ 1, -1, 0,  1]\n",
       "[ 0,  2, 3, -1]\n",
       "[-1,  3, 0,  1]\n",
       "])"
      ]
     },
     "execution_count": 15,
     "metadata": {},
     "output_type": "execute_result"
    }
   ],
   "source": [
    "V = Matrix.from_str(\"1 0 -1; -1 2 3; 0 3 0; 1 -1 1\").T\n",
    "V"
   ]
  },
  {
   "cell_type": "code",
   "execution_count": 16,
   "id": "5c312a8c",
   "metadata": {},
   "outputs": [
    {
     "name": "stdout",
     "output_type": "stream",
     "text": [
      "Before RREF: [self]\n"
     ]
    },
    {
     "data": {
      "text/latex": [
       "$\\displaystyle \\left[\\begin{array}{cccc}1 & -1 & 0 & 1\\\\0 & 2 & 3 & -1\\\\-1 & 3 & 0 & 1\\end{array}\\right]$"
      ],
      "text/plain": [
       "Matrix([\n",
       "[ 1, -1, 0,  1]\n",
       "[ 0,  2, 3, -1]\n",
       "[-1,  3, 0,  1]\n",
       "])"
      ]
     },
     "metadata": {},
     "output_type": "display_data"
    },
    {
     "name": "stdout",
     "output_type": "stream",
     "text": [
      "\n",
      "After RREF:\n"
     ]
    },
    {
     "data": {
      "text/latex": [
       "$\\text{RREF}\\left\\{\\text{rref} = \\left[\\begin{array}{cccc}1 & 0 & 0 & 2\\\\0 & 1 & 0 & 1\\\\0 & 0 & 1 & -1\\end{array}\\right], \\quad\\text{pivots} = (0, 1, 2)\\right\\}$"
      ],
      "text/plain": [
       "RREF(rref=Matrix([\n",
       "[1, 0, 0,  2]\n",
       "[0, 1, 0,  1]\n",
       "[0, 0, 1, -1]\n",
       "]), pivots=(0, 1, 2))"
      ]
     },
     "metadata": {},
     "output_type": "display_data"
    },
    {
     "name": "stdout",
     "output_type": "stream",
     "text": [
      "Select columns of self corresponding to pivot positions.\n"
     ]
    },
    {
     "data": {
      "text/latex": [
       "$\\displaystyle \\left[\\begin{array}{ccc}1 & -1 & 0\\\\0 & 2 & 3\\\\-1 & 3 & 0\\end{array}\\right]$"
      ],
      "text/plain": [
       "Matrix([\n",
       "[ 1, -1, 0]\n",
       "[ 0,  2, 3]\n",
       "[-1,  3, 0]\n",
       "])"
      ]
     },
     "execution_count": 16,
     "metadata": {},
     "output_type": "execute_result"
    }
   ],
   "source": [
    "V.get_linearly_independent_vectors(verbosity=1)"
   ]
  },
  {
   "cell_type": "markdown",
   "id": "ebe0f1fd",
   "metadata": {},
   "source": [
    "### (c)\n",
    "\n",
    " $V$ is the solution space of the following homogeneous linear system $$\\begin{cases} a_1 && &+& a_3 &+& a_4 &-& a_5 &=& 0 \\\\\n",
    "&& a_2 &+& a_3 &+& 2a_4 &+& a_5 &=& 0 \\\\\n",
    "a_1 &+& a_2 &+& 2a_3 &+& a_4 &-& 2a_5 &=& 0 \\end{cases}$$"
   ]
  },
  {
   "cell_type": "code",
   "execution_count": 17,
   "id": "dbdab272",
   "metadata": {},
   "outputs": [
    {
     "data": {
      "text/latex": [
       "$\\displaystyle \\left[\\begin{array}{ccccc}1 & 0 & 1 & 1 & -1\\\\0 & 1 & 1 & 2 & 1\\\\1 & 1 & 2 & 1 & -2\\end{array}\\right]$"
      ],
      "text/plain": [
       "Matrix([\n",
       "[1, 0, 1, 1, -1]\n",
       "[0, 1, 1, 2,  1]\n",
       "[1, 1, 2, 1, -2]\n",
       "])"
      ]
     },
     "execution_count": 17,
     "metadata": {},
     "output_type": "execute_result"
    }
   ],
   "source": [
    "mat = Matrix.from_str(\"1 0 1 1 -1; 0 1 1 2 1; 1 1 2 1 -2\")\n",
    "mat"
   ]
  },
  {
   "cell_type": "code",
   "execution_count": 18,
   "id": "ef57f529",
   "metadata": {},
   "outputs": [
    {
     "data": {
      "text/latex": [
       "$\\displaystyle \\left[ \\left[\\begin{matrix}-1\\\\-1\\\\1\\\\0\\\\0\\end{matrix}\\right], \\  \\left[\\begin{matrix}2\\\\1\\\\0\\\\-1\\\\1\\end{matrix}\\right]\\right]$"
      ],
      "text/plain": [
       "⎡⎡-1⎤  ⎡2 ⎤⎤\n",
       "⎢⎢  ⎥  ⎢  ⎥⎥\n",
       "⎢⎢-1⎥  ⎢1 ⎥⎥\n",
       "⎢⎢  ⎥  ⎢  ⎥⎥\n",
       "⎢⎢1 ⎥, ⎢0 ⎥⎥\n",
       "⎢⎢  ⎥  ⎢  ⎥⎥\n",
       "⎢⎢0 ⎥  ⎢-1⎥⎥\n",
       "⎢⎢  ⎥  ⎢  ⎥⎥\n",
       "⎣⎣0 ⎦  ⎣1 ⎦⎦"
      ]
     },
     "execution_count": 18,
     "metadata": {},
     "output_type": "execute_result"
    }
   ],
   "source": [
    "V = mat.nullspace()\n",
    "V"
   ]
  },
  {
   "cell_type": "code",
   "execution_count": 19,
   "id": "bd107f56",
   "metadata": {},
   "outputs": [
    {
     "name": "stdout",
     "output_type": "stream",
     "text": [
      "Before RREF: [self]\n"
     ]
    },
    {
     "data": {
      "text/latex": [
       "$\\displaystyle \\left[\\begin{array}{cc}-1 & 2\\\\-1 & 1\\\\1 & 0\\\\0 & -1\\\\0 & 1\\end{array}\\right]$"
      ],
      "text/plain": [
       "Matrix([\n",
       "[-1,  2]\n",
       "[-1,  1]\n",
       "[ 1,  0]\n",
       "[ 0, -1]\n",
       "[ 0,  1]\n",
       "])"
      ]
     },
     "metadata": {},
     "output_type": "display_data"
    },
    {
     "name": "stdout",
     "output_type": "stream",
     "text": [
      "\n",
      "After RREF:\n"
     ]
    },
    {
     "data": {
      "text/latex": [
       "$\\text{RREF}\\left\\{\\text{rref} = \\left[\\begin{array}{cc}1 & 0\\\\0 & 1\\\\0 & 0\\\\0 & 0\\\\0 & 0\\end{array}\\right], \\quad\\text{pivots} = (0, 1)\\right\\}$"
      ],
      "text/plain": [
       "RREF(rref=Matrix([\n",
       "[1, 0]\n",
       "[0, 1]\n",
       "[0, 0]\n",
       "[0, 0]\n",
       "[0, 0]\n",
       "]), pivots=(0, 1))"
      ]
     },
     "metadata": {},
     "output_type": "display_data"
    },
    {
     "name": "stdout",
     "output_type": "stream",
     "text": [
      "Select columns of self corresponding to pivot positions.\n"
     ]
    },
    {
     "data": {
      "text/latex": [
       "$\\displaystyle \\left[\\begin{array}{cc}-1 & 2\\\\-1 & 1\\\\1 & 0\\\\0 & -1\\\\0 & 1\\end{array}\\right]$"
      ],
      "text/plain": [
       "Matrix([\n",
       "[-1,  2]\n",
       "[-1,  1]\n",
       "[ 1,  0]\n",
       "[ 0, -1]\n",
       "[ 0,  1]\n",
       "])"
      ]
     },
     "execution_count": 19,
     "metadata": {},
     "output_type": "execute_result"
    }
   ],
   "source": [
    "Matrix.from_list(V).get_linearly_independent_vectors(verbosity=1)"
   ]
  },
  {
   "cell_type": "markdown",
   "id": "7945a5d8",
   "metadata": {},
   "source": [
    "## Question 4\n",
    "\n",
    "For what values of $a$ will $u_1 = \\begin{pmatrix} a \\\\ 1 \\\\ -1 \\end{pmatrix}$, $u_2 = \\begin{pmatrix} -1 \\\\ a \\\\ 1 \\end{pmatrix}$, $u_3 = \\begin{pmatrix} 1 \\\\ -1 \\\\ a \\end{pmatrix}$ form a basis for $\\mathbb{R}^3$?"
   ]
  },
  {
   "cell_type": "code",
   "execution_count": 20,
   "id": "8679ead6",
   "metadata": {},
   "outputs": [
    {
     "data": {
      "text/latex": [
       "$\\displaystyle \\left[\\begin{array}{ccc}a & -1 & 1\\\\1 & a & -1\\\\-1 & 1 & a\\end{array}\\right]$"
      ],
      "text/plain": [
       "Matrix([\n",
       "[ a, -1,  1]\n",
       "[ 1,  a, -1]\n",
       "[-1,  1,  a]\n",
       "])"
      ]
     },
     "execution_count": 20,
     "metadata": {},
     "output_type": "execute_result"
    }
   ],
   "source": [
    "a = sym.symbols(\"a\", real=True) # remember to set real=True for real numbers only\n",
    "U = Matrix([[a, 1, -1], [-1, a, 1], [1, -1, a]]).T\n",
    "U"
   ]
  },
  {
   "cell_type": "code",
   "execution_count": 21,
   "id": "c4e7b0bc",
   "metadata": {},
   "outputs": [
    {
     "data": {
      "text/latex": [
       "$\\displaystyle \\left[ 0\\right]$"
      ],
      "text/plain": [
       "[0]"
      ]
     },
     "execution_count": 21,
     "metadata": {},
     "output_type": "execute_result"
    }
   ],
   "source": [
    "sym.solve(U.det()) # basis for R^3 if a != 0"
   ]
  },
  {
   "cell_type": "markdown",
   "id": "cc5b60e3",
   "metadata": {},
   "source": [
    "## Question 5\n",
    "\n",
    "Let $U$ and $V$ be subspaces of $\\mathbb{R}^n$. We define the sum $U + V$ to be the set of vectors $\\{u + v \\mid u \\in U \\text{ and } v \\in V\\}$.\n",
    "\n",
    "Suppose $U = \\text{span}\\left\\{\\begin{pmatrix} 1 \\\\ 1 \\\\ 1 \\\\ 1 \\end{pmatrix}, \\begin{pmatrix} 1 \\\\ 2 \\\\ 2 \\\\ 1 \\end{pmatrix}\\right\\}$, $V = \\text{span}\\left\\{\\begin{pmatrix} 1 \\\\ 0 \\\\ 1 \\\\ 0 \\end{pmatrix}, \\begin{pmatrix} 1 \\\\ 0 \\\\ 2 \\\\ -1 \\end{pmatrix}\\right\\}$."
   ]
  },
  {
   "cell_type": "markdown",
   "id": "54b25625",
   "metadata": {},
   "source": [
    "### (b)\n",
    "\n",
    "Show that $U + V$ is a subspace of $\\mathbb{R}^n$ by showing that it can be written as a span of a set. What is the dimension?"
   ]
  },
  {
   "cell_type": "code",
   "execution_count": 22,
   "id": "9f0f9d96",
   "metadata": {},
   "outputs": [
    {
     "data": {
      "text/latex": [
       "$\\displaystyle \\left( \\left[\\begin{array}{cc}1 & 1\\\\1 & 2\\\\1 & 2\\\\1 & 1\\end{array}\\right], \\  \\left[\\begin{array}{cc}1 & 1\\\\0 & 0\\\\1 & 2\\\\0 & -1\\end{array}\\right]\\right)$"
      ],
      "text/plain": [
       "⎛⎡1  1⎤  ⎡1  1 ⎤⎞\n",
       "⎜⎢    ⎥  ⎢     ⎥⎟\n",
       "⎜⎢1  2⎥  ⎢0  0 ⎥⎟\n",
       "⎜⎢    ⎥, ⎢     ⎥⎟\n",
       "⎜⎢1  2⎥  ⎢1  2 ⎥⎟\n",
       "⎜⎢    ⎥  ⎢     ⎥⎟\n",
       "⎝⎣1  1⎦  ⎣0  -1⎦⎠"
      ]
     },
     "execution_count": 22,
     "metadata": {},
     "output_type": "execute_result"
    }
   ],
   "source": [
    "U = Matrix.from_str(\"1 1 1 1; 1 2 2 1\").T\n",
    "V = Matrix.from_str(\"1 0 1 0; 1 0 2 -1\").T\n",
    "\n",
    "U, V"
   ]
  },
  {
   "cell_type": "code",
   "execution_count": 23,
   "id": "80264f15",
   "metadata": {},
   "outputs": [
    {
     "name": "stdout",
     "output_type": "stream",
     "text": [
      "Before RREF: [self]\n"
     ]
    },
    {
     "data": {
      "text/latex": [
       "$\\displaystyle \\left[\\begin{array}{cc|cc}1 & 1 & 1 & 1\\\\1 & 2 & 0 & 0\\\\1 & 2 & 1 & 2\\\\1 & 1 & 0 & -1\\end{array}\\right]$"
      ],
      "text/plain": [
       "Matrix([\n",
       "[1, 1 | 1,  1]\n",
       "[1, 2 | 0,  0]\n",
       "[1, 2 | 1,  2]\n",
       "[1, 1 | 0, -1]\n",
       "])"
      ]
     },
     "metadata": {},
     "output_type": "display_data"
    },
    {
     "name": "stdout",
     "output_type": "stream",
     "text": [
      "\n",
      "After RREF:\n"
     ]
    },
    {
     "data": {
      "text/latex": [
       "$\\text{RREF}\\left\\{\\text{rref} = \\left[\\begin{array}{cc|cc}1 & 0 & 0 & -2\\\\0 & 1 & 0 & 1\\\\0 & 0 & 1 & 2\\\\0 & 0 & 0 & 0\\end{array}\\right], \\quad\\text{pivots} = (0, 1, 2)\\right\\}$"
      ],
      "text/plain": [
       "RREF(rref=Matrix([\n",
       "[1, 0 | 0, -2]\n",
       "[0, 1 | 0,  1]\n",
       "[0, 0 | 1,  2]\n",
       "[0, 0 | 0,  0]\n",
       "]), pivots=(0, 1, 2))"
      ]
     },
     "metadata": {},
     "output_type": "display_data"
    },
    {
     "name": "stdout",
     "output_type": "stream",
     "text": [
      "Select columns of self corresponding to pivot positions.\n"
     ]
    },
    {
     "data": {
      "text/latex": [
       "$\\displaystyle \\left[\\begin{array}{ccc}1 & 1 & 1\\\\1 & 2 & 0\\\\1 & 2 & 1\\\\1 & 1 & 0\\end{array}\\right]$"
      ],
      "text/plain": [
       "Matrix([\n",
       "[1, 1, 1]\n",
       "[1, 2, 0]\n",
       "[1, 2, 1]\n",
       "[1, 1, 0]\n",
       "])"
      ]
     },
     "execution_count": 23,
     "metadata": {},
     "output_type": "execute_result"
    }
   ],
   "source": [
    "U.row_join(V).get_linearly_independent_vectors(verbosity=1)"
   ]
  },
  {
   "cell_type": "markdown",
   "id": "7b4f6bff",
   "metadata": {},
   "source": [
    "### (e) \n",
    "Show that $U \\cap V$ a subspace by showing that it can be written as a span of a set. What is the dimension?"
   ]
  },
  {
   "cell_type": "code",
   "execution_count": 24,
   "id": "bdbe6db5",
   "metadata": {},
   "outputs": [
    {
     "name": "stdout",
     "output_type": "stream",
     "text": [
      "A linear system whose solution space is the subspace of self. Null(self^T)^T\n"
     ]
    },
    {
     "data": {
      "text/latex": [
       "$\\displaystyle \\left[\\begin{array}{cccc}0 & -1 & 1 & 0\\\\-1 & 0 & 0 & 1\\end{array}\\right]$"
      ],
      "text/plain": [
       "Matrix([\n",
       "[ 0, -1, 1, 0]\n",
       "[-1,  0, 0, 1]\n",
       "])"
      ]
     },
     "metadata": {},
     "output_type": "display_data"
    },
    {
     "name": "stdout",
     "output_type": "stream",
     "text": [
      "\n",
      "A linear system whose solution space is the subspace of other. Null(other^T)^T\n"
     ]
    },
    {
     "data": {
      "text/latex": [
       "$\\displaystyle \\left[\\begin{array}{cccc}0 & 1 & 0 & 0\\\\-1 & 0 & 1 & 1\\end{array}\\right]$"
      ],
      "text/plain": [
       "Matrix([\n",
       "[ 0, 1, 0, 0]\n",
       "[-1, 0, 1, 1]\n",
       "])"
      ]
     },
     "metadata": {},
     "output_type": "display_data"
    },
    {
     "name": "stdout",
     "output_type": "stream",
     "text": [
      "\n",
      "Before RREF: [self ; other]\n"
     ]
    },
    {
     "data": {
      "text/latex": [
       "$\\displaystyle \\left[\\begin{array}{cccc}0 & -1 & 1 & 0\\\\-1 & 0 & 0 & 1\\\\0 & 1 & 0 & 0\\\\-1 & 0 & 1 & 1\\end{array}\\right]$"
      ],
      "text/plain": [
       "Matrix([\n",
       "[ 0, -1, 1, 0]\n",
       "[-1,  0, 0, 1]\n",
       "[ 0,  1, 0, 0]\n",
       "[-1,  0, 1, 1]\n",
       "])"
      ]
     },
     "metadata": {},
     "output_type": "display_data"
    },
    {
     "name": "stdout",
     "output_type": "stream",
     "text": [
      "\n",
      "After RREF:\n"
     ]
    },
    {
     "data": {
      "text/latex": [
       "$\\text{RREF}\\left\\{\\text{rref} = \\left[\\begin{array}{cccc}1 & 0 & 0 & -1\\\\0 & 1 & 0 & 0\\\\0 & 0 & 1 & 0\\\\0 & 0 & 0 & 0\\end{array}\\right], \\quad\\text{pivots} = (0, 1, 2)\\right\\}$"
      ],
      "text/plain": [
       "RREF(rref=Matrix([\n",
       "[1, 0, 0, -1]\n",
       "[0, 1, 0,  0]\n",
       "[0, 0, 1,  0]\n",
       "[0, 0, 0,  0]\n",
       "]), pivots=(0, 1, 2))"
      ]
     },
     "metadata": {},
     "output_type": "display_data"
    },
    {
     "data": {
      "text/latex": [
       "$\\displaystyle \\left[\\begin{array}{c}1\\\\0\\\\0\\\\1\\end{array}\\right]$"
      ],
      "text/plain": [
       "Matrix([\n",
       "[1]\n",
       "[0]\n",
       "[0]\n",
       "[1]\n",
       "])"
      ]
     },
     "execution_count": 24,
     "metadata": {},
     "output_type": "execute_result"
    }
   ],
   "source": [
    "U.intersect_subspace(V, verbosity=2) # intersection of U and V"
   ]
  }
 ],
 "metadata": {
  "kernelspec": {
   "display_name": "ma1522-linear-algebra (3.10.18)",
   "language": "python",
   "name": "python3"
  },
  "language_info": {
   "codemirror_mode": {
    "name": "ipython",
    "version": 3
   },
   "file_extension": ".py",
   "mimetype": "text/x-python",
   "name": "python",
   "nbconvert_exporter": "python",
   "pygments_lexer": "ipython3",
   "version": "3.10.18"
  }
 },
 "nbformat": 4,
 "nbformat_minor": 5
}

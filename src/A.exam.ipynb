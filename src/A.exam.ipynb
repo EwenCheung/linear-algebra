{
 "cells": [
  {
   "cell_type": "code",
   "execution_count": 2,
   "id": "c27c6e2e",
   "metadata": {},
   "outputs": [],
   "source": [
    "# Required imports\n",
    "import sympy as sym\n",
    "import sys, os\n",
    "from ma1522 import Matrix\n"
   ]
  },
  {
   "cell_type": "markdown",
   "id": "e1fdcf92",
   "metadata": {},
   "source": [
    "2. "
   ]
  },
  {
   "cell_type": "code",
   "execution_count": 4,
   "id": "03c79910",
   "metadata": {},
   "outputs": [
    {
     "data": {
      "text/latex": [
       "$\\displaystyle R_2 - \\left(1\\right)R_1 \\rightarrow R_2$"
      ],
      "text/plain": [
       "<IPython.core.display.Math object>"
      ]
     },
     "metadata": {},
     "output_type": "display_data"
    },
    {
     "data": {
      "text/latex": [
       "$\\displaystyle \\left[\\begin{array}{cccc|c}1 & - a & 2 - a & - a - 1 & - a - 1\\\\0 & 0 & 2 a - 2 & a & a + 2\\\\-1 & -1 & a - 2 & a + 1 & 1\\\\1 & a + 2 & 1 & a - 1 & 3 a\\\\0 & a + 1 & a - 1 & a & 2 a + 1\\end{array}\\right]$"
      ],
      "text/plain": [
       "Matrix([\n",
       "[ 1,    -a,   2 - a, -a - 1 |  -a - 1]\n",
       "[ 0,     0, 2*a - 2,      a |   a + 2]\n",
       "[-1,    -1,   a - 2,  a + 1 |       1]\n",
       "[ 1, a + 2,       1,  a - 1 |     3*a]\n",
       "[ 0, a + 1,   a - 1,      a | 2*a + 1]\n",
       "])"
      ]
     },
     "metadata": {},
     "output_type": "display_data"
    },
    {
     "name": "stdout",
     "output_type": "stream",
     "text": [
      "\n",
      "\n"
     ]
    },
    {
     "data": {
      "text/latex": [
       "$\\displaystyle R_3 - \\left(-1\\right)R_1 \\rightarrow R_3$"
      ],
      "text/plain": [
       "<IPython.core.display.Math object>"
      ]
     },
     "metadata": {},
     "output_type": "display_data"
    },
    {
     "data": {
      "text/latex": [
       "$\\displaystyle \\left[\\begin{array}{cccc|c}1 & - a & 2 - a & - a - 1 & - a - 1\\\\0 & 0 & 2 a - 2 & a & a + 2\\\\0 & - a - 1 & 0 & 0 & - a\\\\1 & a + 2 & 1 & a - 1 & 3 a\\\\0 & a + 1 & a - 1 & a & 2 a + 1\\end{array}\\right]$"
      ],
      "text/plain": [
       "Matrix([\n",
       "[1,     -a,   2 - a, -a - 1 |  -a - 1]\n",
       "[0,      0, 2*a - 2,      a |   a + 2]\n",
       "[0, -a - 1,       0,      0 |      -a]\n",
       "[1,  a + 2,       1,  a - 1 |     3*a]\n",
       "[0,  a + 1,   a - 1,      a | 2*a + 1]\n",
       "])"
      ]
     },
     "metadata": {},
     "output_type": "display_data"
    },
    {
     "name": "stdout",
     "output_type": "stream",
     "text": [
      "\n",
      "\n"
     ]
    },
    {
     "data": {
      "text/latex": [
       "$\\displaystyle R_4 - \\left(1\\right)R_1 \\rightarrow R_4$"
      ],
      "text/plain": [
       "<IPython.core.display.Math object>"
      ]
     },
     "metadata": {},
     "output_type": "display_data"
    },
    {
     "data": {
      "text/latex": [
       "$\\displaystyle \\left[\\begin{array}{cccc|c}1 & - a & 2 - a & - a - 1 & - a - 1\\\\0 & 0 & 2 a - 2 & a & a + 2\\\\0 & - a - 1 & 0 & 0 & - a\\\\0 & 2 a + 2 & a - 1 & 2 a & 4 a + 1\\\\0 & a + 1 & a - 1 & a & 2 a + 1\\end{array}\\right]$"
      ],
      "text/plain": [
       "Matrix([\n",
       "[1,      -a,   2 - a, -a - 1 |  -a - 1]\n",
       "[0,       0, 2*a - 2,      a |   a + 2]\n",
       "[0,  -a - 1,       0,      0 |      -a]\n",
       "[0, 2*a + 2,   a - 1,    2*a | 4*a + 1]\n",
       "[0,   a + 1,   a - 1,      a | 2*a + 1]\n",
       "])"
      ]
     },
     "metadata": {},
     "output_type": "display_data"
    },
    {
     "name": "stdout",
     "output_type": "stream",
     "text": [
      "\n",
      "\n"
     ]
    },
    {
     "data": {
      "text/latex": [
       "$\\displaystyle R_2 \\leftrightarrow R_3$"
      ],
      "text/plain": [
       "<IPython.core.display.Math object>"
      ]
     },
     "metadata": {},
     "output_type": "display_data"
    },
    {
     "data": {
      "text/latex": [
       "$\\displaystyle \\left[\\begin{array}{cccc|c}1 & - a & 2 - a & - a - 1 & - a - 1\\\\0 & - a - 1 & 0 & 0 & - a\\\\0 & 0 & 2 a - 2 & a & a + 2\\\\0 & 2 a + 2 & a - 1 & 2 a & 4 a + 1\\\\0 & a + 1 & a - 1 & a & 2 a + 1\\end{array}\\right]$"
      ],
      "text/plain": [
       "Matrix([\n",
       "[1,      -a,   2 - a, -a - 1 |  -a - 1]\n",
       "[0,  -a - 1,       0,      0 |      -a]\n",
       "[0,       0, 2*a - 2,      a |   a + 2]\n",
       "[0, 2*a + 2,   a - 1,    2*a | 4*a + 1]\n",
       "[0,   a + 1,   a - 1,      a | 2*a + 1]\n",
       "])"
      ]
     },
     "metadata": {},
     "output_type": "display_data"
    },
    {
     "name": "stdout",
     "output_type": "stream",
     "text": [
      "\n",
      "\n"
     ]
    },
    {
     "data": {
      "text/latex": [
       "$\\displaystyle R_4 - \\left(-2\\right)R_2 \\rightarrow R_4$"
      ],
      "text/plain": [
       "<IPython.core.display.Math object>"
      ]
     },
     "metadata": {},
     "output_type": "display_data"
    },
    {
     "data": {
      "text/latex": [
       "$\\displaystyle \\left[\\begin{array}{cccc|c}1 & - a & 2 - a & - a - 1 & - a - 1\\\\0 & - a - 1 & 0 & 0 & - a\\\\0 & 0 & 2 a - 2 & a & a + 2\\\\0 & 0 & a - 1 & 2 a & 2 a + 1\\\\0 & a + 1 & a - 1 & a & 2 a + 1\\end{array}\\right]$"
      ],
      "text/plain": [
       "Matrix([\n",
       "[1,     -a,   2 - a, -a - 1 |  -a - 1]\n",
       "[0, -a - 1,       0,      0 |      -a]\n",
       "[0,      0, 2*a - 2,      a |   a + 2]\n",
       "[0,      0,   a - 1,    2*a | 2*a + 1]\n",
       "[0,  a + 1,   a - 1,      a | 2*a + 1]\n",
       "])"
      ]
     },
     "metadata": {},
     "output_type": "display_data"
    },
    {
     "name": "stdout",
     "output_type": "stream",
     "text": [
      "\n",
      "\n"
     ]
    },
    {
     "data": {
      "text/latex": [
       "$\\displaystyle R_5 - \\left(-1\\right)R_2 \\rightarrow R_5$"
      ],
      "text/plain": [
       "<IPython.core.display.Math object>"
      ]
     },
     "metadata": {},
     "output_type": "display_data"
    },
    {
     "data": {
      "text/latex": [
       "$\\displaystyle \\left[\\begin{array}{cccc|c}1 & - a & 2 - a & - a - 1 & - a - 1\\\\0 & - a - 1 & 0 & 0 & - a\\\\0 & 0 & 2 a - 2 & a & a + 2\\\\0 & 0 & a - 1 & 2 a & 2 a + 1\\\\0 & 0 & a - 1 & a & a + 1\\end{array}\\right]$"
      ],
      "text/plain": [
       "Matrix([\n",
       "[1,     -a,   2 - a, -a - 1 |  -a - 1]\n",
       "[0, -a - 1,       0,      0 |      -a]\n",
       "[0,      0, 2*a - 2,      a |   a + 2]\n",
       "[0,      0,   a - 1,    2*a | 2*a + 1]\n",
       "[0,      0,   a - 1,      a |   a + 1]\n",
       "])"
      ]
     },
     "metadata": {},
     "output_type": "display_data"
    },
    {
     "name": "stdout",
     "output_type": "stream",
     "text": [
      "\n",
      "\n"
     ]
    },
    {
     "data": {
      "text/latex": [
       "$\\displaystyle R_4 - \\left(\\frac{1}{2}\\right)R_3 \\rightarrow R_4$"
      ],
      "text/plain": [
       "<IPython.core.display.Math object>"
      ]
     },
     "metadata": {},
     "output_type": "display_data"
    },
    {
     "data": {
      "text/latex": [
       "$\\displaystyle \\left[\\begin{array}{cccc|c}1 & - a & 2 - a & - a - 1 & - a - 1\\\\0 & - a - 1 & 0 & 0 & - a\\\\0 & 0 & 2 a - 2 & a & a + 2\\\\0 & 0 & 0 & \\frac{3 a}{2} & \\frac{3 a}{2}\\\\0 & 0 & a - 1 & a & a + 1\\end{array}\\right]$"
      ],
      "text/plain": [
       "Matrix([\n",
       "[1,     -a,   2 - a, -a - 1 | -a - 1]\n",
       "[0, -a - 1,       0,      0 |     -a]\n",
       "[0,      0, 2*a - 2,      a |  a + 2]\n",
       "[0,      0,       0,  3*a/2 |  3*a/2]\n",
       "[0,      0,   a - 1,      a |  a + 1]\n",
       "])"
      ]
     },
     "metadata": {},
     "output_type": "display_data"
    },
    {
     "name": "stdout",
     "output_type": "stream",
     "text": [
      "\n",
      "\n"
     ]
    },
    {
     "data": {
      "text/latex": [
       "$\\displaystyle R_5 - \\left(\\frac{1}{2}\\right)R_3 \\rightarrow R_5$"
      ],
      "text/plain": [
       "<IPython.core.display.Math object>"
      ]
     },
     "metadata": {},
     "output_type": "display_data"
    },
    {
     "data": {
      "text/latex": [
       "$\\displaystyle \\left[\\begin{array}{cccc|c}1 & - a & 2 - a & - a - 1 & - a - 1\\\\0 & - a - 1 & 0 & 0 & - a\\\\0 & 0 & 2 a - 2 & a & a + 2\\\\0 & 0 & 0 & \\frac{3 a}{2} & \\frac{3 a}{2}\\\\0 & 0 & 0 & \\frac{a}{2} & \\frac{a}{2}\\end{array}\\right]$"
      ],
      "text/plain": [
       "Matrix([\n",
       "[1,     -a,   2 - a, -a - 1 | -a - 1]\n",
       "[0, -a - 1,       0,      0 |     -a]\n",
       "[0,      0, 2*a - 2,      a |  a + 2]\n",
       "[0,      0,       0,  3*a/2 |  3*a/2]\n",
       "[0,      0,       0,    a/2 |    a/2]\n",
       "])"
      ]
     },
     "metadata": {},
     "output_type": "display_data"
    },
    {
     "name": "stdout",
     "output_type": "stream",
     "text": [
      "\n",
      "\n"
     ]
    },
    {
     "data": {
      "text/latex": [
       "$\\displaystyle R_5 - \\left(\\frac{1}{3}\\right)R_4 \\rightarrow R_5$"
      ],
      "text/plain": [
       "<IPython.core.display.Math object>"
      ]
     },
     "metadata": {},
     "output_type": "display_data"
    },
    {
     "data": {
      "text/latex": [
       "$\\displaystyle \\left[\\begin{array}{cccc|c}1 & - a & 2 - a & - a - 1 & - a - 1\\\\0 & - a - 1 & 0 & 0 & - a\\\\0 & 0 & 2 a - 2 & a & a + 2\\\\0 & 0 & 0 & \\frac{3 a}{2} & \\frac{3 a}{2}\\\\0 & 0 & 0 & 0 & 0\\end{array}\\right]$"
      ],
      "text/plain": [
       "Matrix([\n",
       "[1,     -a,   2 - a, -a - 1 | -a - 1]\n",
       "[0, -a - 1,       0,      0 |     -a]\n",
       "[0,      0, 2*a - 2,      a |  a + 2]\n",
       "[0,      0,       0,  3*a/2 |  3*a/2]\n",
       "[0,      0,       0,      0 |      0]\n",
       "])"
      ]
     },
     "metadata": {},
     "output_type": "display_data"
    },
    {
     "name": "stdout",
     "output_type": "stream",
     "text": [
      "\n",
      "\n"
     ]
    },
    {
     "data": {
      "text/latex": [
       "$\\displaystyle \\left[\\begin{array}{cccc|c}1 & - a & 2 - a & - a - 1 & - a - 1\\\\0 & - a - 1 & 0 & 0 & - a\\\\0 & 0 & 2 a - 2 & a & a + 2\\\\0 & 0 & 0 & \\frac{3 a}{2} & \\frac{3 a}{2}\\\\0 & 0 & 0 & 0 & 0\\end{array}\\right]$"
      ],
      "text/plain": [
       "Matrix([\n",
       "[1,     -a,   2 - a, -a - 1 | -a - 1]\n",
       "[0, -a - 1,       0,      0 |     -a]\n",
       "[0,      0, 2*a - 2,      a |  a + 2]\n",
       "[0,      0,       0,  3*a/2 |  3*a/2]\n",
       "[0,      0,       0,      0 |      0]\n",
       "])"
      ]
     },
     "execution_count": 4,
     "metadata": {},
     "output_type": "execute_result"
    }
   ],
   "source": [
    "a = sym.symbols(\"a\")\n",
    "A = Matrix([[1, -a, 2-a, -a-1],\n",
    "            [1, -a, a, -1],\n",
    "            [-1, -1, a-2, a+1],\n",
    "            [1, a+2, 1, a-1],\n",
    "            [0, a+1, a-1, a]])\n",
    "B = Matrix([[-a-1, 1, 1, 3*a, 2*a+1]]).T\n",
    "\n",
    "plu = A.row_join(B).ref()\n",
    "plu.U"
   ]
  },
  {
   "cell_type": "markdown",
   "id": "f6a5eba1",
   "metadata": {},
   "source": [
    "3."
   ]
  },
  {
   "cell_type": "code",
   "execution_count": 7,
   "id": "292f8096",
   "metadata": {},
   "outputs": [],
   "source": [
    "A = Matrix.from_str(\"-2 1 1 1\").T\n",
    "B = Matrix.from_str(\"-1 0 1 1\").T\n",
    "\n",
    "C = A-B"
   ]
  },
  {
   "cell_type": "code",
   "execution_count": 11,
   "id": "601a6579",
   "metadata": {},
   "outputs": [
    {
     "data": {
      "text/latex": [
       "$\\displaystyle \\left[\\begin{array}{c}1\\\\1\\\\2\\\\-3\\end{array}\\right]$"
      ],
      "text/plain": [
       "Matrix([\n",
       "[ 1]\n",
       "[ 1]\n",
       "[ 2]\n",
       "[-3]\n",
       "])"
      ]
     },
     "execution_count": 11,
     "metadata": {},
     "output_type": "execute_result"
    }
   ],
   "source": [
    "D = Matrix.from_str(\"2 0 2 -3\").T\n",
    "D + C"
   ]
  },
  {
   "cell_type": "markdown",
   "id": "09d4dfd8",
   "metadata": {},
   "source": [
    "4."
   ]
  },
  {
   "cell_type": "code",
   "execution_count": 16,
   "id": "ffe76480",
   "metadata": {},
   "outputs": [
    {
     "data": {
      "text/latex": [
       "$\\text{RREF}\\left\\{\\text{rref} = \\left[\\begin{array}{ccc|cc}1 & 0 & 1 & 0 & 1\\\\0 & 1 & -2 & 0 & -1\\\\0 & 0 & 0 & 1 & 0\\\\0 & 0 & 0 & 0 & 0\\end{array}\\right], \\quad\\text{pivots} = (0, 1, 3)\\right\\}$"
      ],
      "text/plain": [
       "RREF(rref=Matrix([\n",
       "[1, 0,  1 | 0,  1]\n",
       "[0, 1, -2 | 0, -1]\n",
       "[0, 0,  0 | 1,  0]\n",
       "[0, 0,  0 | 0,  0]\n",
       "]), pivots=(0, 1, 3))"
      ]
     },
     "execution_count": 16,
     "metadata": {},
     "output_type": "execute_result"
    }
   ],
   "source": [
    "U = Matrix.from_str(\"1 0 1 2; 0 1 -1 1; 1 -2 3 0\").T\n",
    "V = Matrix.from_str(\"1 1 0 1; 1 -1 2 1\").T\n",
    "\n",
    "U.row_join(V).rref()"
   ]
  },
  {
   "cell_type": "code",
   "execution_count": 17,
   "id": "0e360f73",
   "metadata": {},
   "outputs": [
    {
     "data": {
      "text/latex": [
       "$\\text{RREF}\\left\\{\\text{rref} = \\left[\\begin{array}{cc|ccc}1 & 0 & 0 & 0 & 0\\\\0 & 1 & 0 & -1 & 2\\\\0 & 0 & 1 & 1 & -1\\\\0 & 0 & 0 & 0 & 0\\end{array}\\right], \\quad\\text{pivots} = (0, 1, 2)\\right\\}$"
      ],
      "text/plain": [
       "RREF(rref=Matrix([\n",
       "[1, 0 | 0,  0,  0]\n",
       "[0, 1 | 0, -1,  2]\n",
       "[0, 0 | 1,  1, -1]\n",
       "[0, 0 | 0,  0,  0]\n",
       "]), pivots=(0, 1, 2))"
      ]
     },
     "execution_count": 17,
     "metadata": {},
     "output_type": "execute_result"
    }
   ],
   "source": [
    "U = Matrix.from_str(\"1 0 1 2; 0 1 -1 1; 1 -2 3 0\").T\n",
    "V = Matrix.from_str(\"1 1 0 1; 1 -1 2 1\").T\n",
    "\n",
    "V.row_join(U).rref()"
   ]
  },
  {
   "cell_type": "markdown",
   "id": "6205ceb0",
   "metadata": {},
   "source": [
    "5."
   ]
  },
  {
   "cell_type": "code",
   "execution_count": 22,
   "id": "c92b96b4",
   "metadata": {},
   "outputs": [],
   "source": [
    "a = sym.symbols(\"a\")\n",
    "S = Matrix([[1, a, 1, a+2],\n",
    "            [a, 1, 1, a+2],\n",
    "            [1, 1, a, a+2]]).T\n",
    "T = Matrix([[1, 0, 0, 1],\n",
    "            [0, 1, 0, 1],\n",
    "            [0, 0, 1, 1]]).T"
   ]
  },
  {
   "cell_type": "code",
   "execution_count": null,
   "id": "673bf307",
   "metadata": {},
   "outputs": [
    {
     "data": {
      "text/latex": [
       "$\\text{RREF}\\left\\{\\text{rref} = \\left[\\begin{array}{ccc|ccc}1 & 0 & 0 & 1 & 0 & 1\\\\0 & 1 & 0 & 0 & 1 & 1\\\\0 & 0 & 1 & 1 & 1 & 0\\\\0 & 0 & 0 & 0 & 0 & 0\\end{array}\\right], \\quad\\text{pivots} = (0, 1, 2)\\right\\}$"
      ],
      "text/plain": [
       "RREF(rref=Matrix([\n",
       "[1, 0, 0 | 1, 0, 1] \n",
       "[0, 1, 0 | 0, 1, 1] \n",
       "[0, 0, 1 | 1, 1, 0] \n",
       "[0, 0, 0 | 0, 0, 0] \n",
       "]), pivots=(0, 1, 2))"
      ]
     },
     "execution_count": 28,
     "metadata": {},
     "output_type": "execute_result"
    }
   ],
   "source": [
    "T.row_join(S).rref()"
   ]
  },
  {
   "cell_type": "code",
   "execution_count": 30,
   "id": "3e2cfb23",
   "metadata": {},
   "outputs": [
    {
     "data": {
      "text/latex": [
       "$\\text{RREF}\\left\\{\\text{rref} = \\left[\\begin{array}{ccc|ccc}1 & 1 & 1 & 0 & 0 & 1\\\\0 & 0 & 0 & 1 & 0 & -1\\\\0 & 0 & 0 & 0 & 1 & -1\\\\0 & 0 & 0 & 0 & 0 & 0\\end{array}\\right], \\quad\\text{pivots} = (0, 3, 4)\\right\\}$"
      ],
      "text/plain": [
       "RREF(rref=Matrix([\n",
       "[1, 1, 1 | 0, 0,  1] \n",
       "[0, 0, 0 | 1, 0, -1] \n",
       "[0, 0, 0 | 0, 1, -1] \n",
       "[0, 0, 0 | 0, 0,  0] \n",
       "]), pivots=(0, 3, 4))"
      ]
     },
     "execution_count": 30,
     "metadata": {},
     "output_type": "execute_result"
    }
   ],
   "source": [
    "S.row_join(T).subs({a:1}).rref()"
   ]
  },
  {
   "cell_type": "code",
   "execution_count": 25,
   "id": "6ab452ed",
   "metadata": {},
   "outputs": [
    {
     "data": {
      "text/latex": [
       "$\\displaystyle \\left(a - 1\\right) \\left(a + 2\\right)$"
      ],
      "text/plain": [
       "(a - 1)⋅(a + 2)"
      ]
     },
     "execution_count": 25,
     "metadata": {},
     "output_type": "execute_result"
    }
   ],
   "source": [
    "(a**2+a-2).factor()"
   ]
  },
  {
   "cell_type": "markdown",
   "id": "a7a8a4fb",
   "metadata": {},
   "source": [
    "7."
   ]
  },
  {
   "cell_type": "code",
   "execution_count": 36,
   "id": "7ad9b994",
   "metadata": {},
   "outputs": [
    {
     "data": {
      "text/latex": [
       "$\\displaystyle R_3 - \\left(1\\right)R_1 \\rightarrow R_3$"
      ],
      "text/plain": [
       "<IPython.core.display.Math object>"
      ]
     },
     "metadata": {},
     "output_type": "display_data"
    },
    {
     "data": {
      "text/latex": [
       "$\\displaystyle \\left[\\begin{array}{cccc}1 & a & 2 & 0\\\\0 & 1 & a & 3\\\\0 & 1 - a & a - 2 & 1\\end{array}\\right]$"
      ],
      "text/plain": [
       "Matrix([\n",
       "[1,     a,     2, 0]\n",
       "[0,     1,     a, 3]\n",
       "[0, 1 - a, a - 2, 1]\n",
       "])"
      ]
     },
     "metadata": {},
     "output_type": "display_data"
    },
    {
     "name": "stdout",
     "output_type": "stream",
     "text": [
      "\n",
      "\n"
     ]
    },
    {
     "data": {
      "text/latex": [
       "$\\displaystyle R_3 - \\left(1\\right)R_2 \\rightarrow R_3$"
      ],
      "text/plain": [
       "<IPython.core.display.Math object>"
      ]
     },
     "metadata": {},
     "output_type": "display_data"
    },
    {
     "data": {
      "text/latex": [
       "$\\displaystyle \\left[\\begin{array}{cccc}1 & a & 2 & 0\\\\0 & 1 & a & 3\\\\0 & - a & -2 & -2\\end{array}\\right]$"
      ],
      "text/plain": [
       "Matrix([\n",
       "[1,  a,  2,  0]\n",
       "[0,  1,  a,  3]\n",
       "[0, -a, -2, -2]\n",
       "])"
      ]
     },
     "metadata": {},
     "output_type": "display_data"
    },
    {
     "name": "stdout",
     "output_type": "stream",
     "text": [
      "\n",
      "\n"
     ]
    },
    {
     "data": {
      "text/latex": [
       "$\\displaystyle R_3 - \\left(- a\\right)R_2 \\rightarrow R_3$"
      ],
      "text/plain": [
       "<IPython.core.display.Math object>"
      ]
     },
     "metadata": {},
     "output_type": "display_data"
    },
    {
     "data": {
      "text/latex": [
       "$\\displaystyle \\left[\\begin{array}{cccc}1 & a & 2 & 0\\\\0 & 1 & a & 3\\\\0 & 0 & a^{2} - 2 & 3 a - 2\\end{array}\\right]$"
      ],
      "text/plain": [
       "Matrix([\n",
       "[1, a,        2,       0]\n",
       "[0, 1,        a,       3]\n",
       "[0, 0, a**2 - 2, 3*a - 2]\n",
       "])"
      ]
     },
     "metadata": {},
     "output_type": "display_data"
    },
    {
     "name": "stdout",
     "output_type": "stream",
     "text": [
      "\n",
      "\n"
     ]
    },
    {
     "data": {
      "text/latex": [
       "$\\displaystyle \\left[\\begin{array}{cccc}1 & a & 2 & 0\\\\0 & 1 & a & 3\\\\0 & 0 & a^{2} - 2 & 3 a - 2\\end{array}\\right]$"
      ],
      "text/plain": [
       "Matrix([\n",
       "[1, a,        2,       0]\n",
       "[0, 1,        a,       3]\n",
       "[0, 0, a**2 - 2, 3*a - 2]\n",
       "])"
      ]
     },
     "execution_count": 36,
     "metadata": {},
     "output_type": "execute_result"
    }
   ],
   "source": [
    "a = sym.symbols(\"a\")\n",
    "A = Matrix([[1, a, 2, 0],\n",
    "            [0, 1, a, 3],\n",
    "            [1, 1, a, 1]])\n",
    "\n",
    "A.ref().U"
   ]
  },
  {
   "cell_type": "code",
   "execution_count": 38,
   "id": "e1511b7d",
   "metadata": {},
   "outputs": [
    {
     "name": "stdout",
     "output_type": "stream",
     "text": [
      "Before RREF: [self | eye]\n"
     ]
    },
    {
     "data": {
      "text/latex": [
       "$\\displaystyle \\left[\\begin{array}{cccc|c|c|c}1 & a & 2 & 0 & 1 & 0 & 0\\\\0 & 1 & a & 3 & 0 & 1 & 0\\\\1 & 1 & a & 1 & 0 & 0 & 1\\end{array}\\right]$"
      ],
      "text/plain": [
       "Matrix([\n",
       "[1, a, 2, 0 | 1 | 0 | 0] \n",
       "[0, 1, a, 3 | 0 | 1 | 0] \n",
       "[1, 1, a, 1 | 0 | 0 | 1] \n",
       "])"
      ]
     },
     "metadata": {},
     "output_type": "display_data"
    },
    {
     "name": "stdout",
     "output_type": "stream",
     "text": [
      "\n",
      "After RREF:\n"
     ]
    },
    {
     "data": {
      "text/latex": [
       "$\\text{RREF}\\left\\{\\text{rref} = \\left[\\begin{array}{cccc|c|c|c}1 & 0 & 0 & -2 & 0 & -1 & 1\\\\0 & 1 & 0 & \\frac{2 a - 6}{a^{2} - 2} & \\frac{a}{a^{2} - 2} & \\frac{a - 2}{a^{2} - 2} & - \\frac{a}{a^{2} - 2}\\\\0 & 0 & 1 & \\frac{3 a - 2}{a^{2} - 2} & - \\frac{1}{a^{2} - 2} & \\frac{a - 1}{a^{2} - 2} & \\frac{1}{a^{2} - 2}\\end{array}\\right], \\quad\\text{pivots} = (0, 1, 2)\\right\\}$"
      ],
      "text/plain": [
       "RREF(rref=Matrix([\n",
       "[1, 0, 0,                   -2 |             0 |                 -1 |             1] \n",
       "[0, 1, 0, (2*a - 6)/(a**2 - 2) |  a/(a**2 - 2) | (a - 2)/(a**2 - 2) | -a/(a**2 - 2)] \n",
       "[0, 0, 1, (3*a - 2)/(a**2 - 2) | -1/(a**2 - 2) | (a - 1)/(a**2 - 2) |  1/(a**2 - 2)] \n",
       "]), pivots=(0, 1, 2))"
      ]
     },
     "metadata": {},
     "output_type": "display_data"
    },
    {
     "data": {
      "text/latex": [
       "$\\displaystyle \\left[\\begin{array}{ccc}2 x_{4,1} & 2 x_{4,2} - 1 & 2 x_{4,3} + 1\\\\\\frac{a}{a^{2} - 2} + \\frac{x_{4,1} \\left(6 - 2 a\\right)}{a^{2} - 2} & \\frac{x_{4,2} \\left(6 - 2 a\\right)}{a^{2} - 2} + \\frac{a - 2}{a^{2} - 2} & - \\frac{a}{a^{2} - 2} + \\frac{x_{4,3} \\left(6 - 2 a\\right)}{a^{2} - 2}\\\\\\frac{x_{4,1} \\left(2 - 3 a\\right)}{a^{2} - 2} - \\frac{1}{a^{2} - 2} & \\frac{x_{4,2} \\left(2 - 3 a\\right)}{a^{2} - 2} + \\frac{a - 1}{a^{2} - 2} & \\frac{x_{4,3} \\left(2 - 3 a\\right)}{a^{2} - 2} + \\frac{1}{a^{2} - 2}\\\\x_{4,1} & x_{4,2} & x_{4,3}\\end{array}\\right]$"
      ],
      "text/plain": [
       "Matrix([\n",
       "[                                  2*x_4,1,                                     2*x_4,2 - 1,                                2*x_4,3 + 1]\n",
       "[a/(a**2 - 2) + x_4,1*(6 - 2*a)/(a**2 - 2), x_4,2*(6 - 2*a)/(a**2 - 2) + (a - 2)/(a**2 - 2), -a/(a**2 - 2) + x_4,3*(6 - 2*a)/(a**2 - 2)]\n",
       "[x_4,1*(2 - 3*a)/(a**2 - 2) - 1/(a**2 - 2), x_4,2*(2 - 3*a)/(a**2 - 2) + (a - 1)/(a**2 - 2),  x_4,3*(2 - 3*a)/(a**2 - 2) + 1/(a**2 - 2)]\n",
       "[                                    x_4,1,                                           x_4,2,                                      x_4,3]\n",
       "])"
      ]
     },
     "execution_count": 38,
     "metadata": {},
     "output_type": "execute_result"
    }
   ],
   "source": [
    "A.inverse(\"right\", matrices=1, verbosity=1)"
   ]
  },
  {
   "cell_type": "code",
   "execution_count": 39,
   "id": "d2a12810",
   "metadata": {},
   "outputs": [
    {
     "name": "stdout",
     "output_type": "stream",
     "text": [
      "Before RREF: [self^T | eye]\n"
     ]
    },
    {
     "data": {
      "text/latex": [
       "$\\displaystyle \\left[\\begin{array}{ccc|c|c|c|c}1 & 0 & 1 & 1 & 0 & 0 & 0\\\\a & 1 & 1 & 0 & 1 & 0 & 0\\\\2 & a & a & 0 & 0 & 1 & 0\\\\0 & 3 & 1 & 0 & 0 & 0 & 1\\end{array}\\right]$"
      ],
      "text/plain": [
       "Matrix([\n",
       "[1, 0, 1 | 1 | 0 | 0 | 0] \n",
       "[a, 1, 1 | 0 | 1 | 0 | 0] \n",
       "[2, a, a | 0 | 0 | 1 | 0] \n",
       "[0, 3, 1 | 0 | 0 | 0 | 1] \n",
       "])"
      ]
     },
     "metadata": {},
     "output_type": "display_data"
    },
    {
     "name": "stdout",
     "output_type": "stream",
     "text": [
      "\n",
      "After RREF:\n"
     ]
    },
    {
     "data": {
      "text/latex": [
       "$\\text{RREF}\\left\\{\\text{rref} = \\left[\\begin{array}{ccc|c|c|c|c}1 & 0 & 0 & 0 & \\frac{a}{a^{2} - 2} & - \\frac{1}{a^{2} - 2} & 0\\\\0 & 1 & 0 & 0 & \\frac{1}{a^{2} - 2} & - \\frac{a}{2 a^{2} - 4} & \\frac{1}{2}\\\\0 & 0 & 1 & 0 & - \\frac{3}{a^{2} - 2} & \\frac{3 a}{2 a^{2} - 4} & - \\frac{1}{2}\\\\0 & 0 & 0 & 1 & \\frac{3 - a}{a^{2} - 2} & \\frac{2 - 3 a}{2 a^{2} - 4} & \\frac{1}{2}\\end{array}\\right], \\quad\\text{pivots} = (0, 1, 2, 3)\\right\\}$"
      ],
      "text/plain": [
       "RREF(rref=Matrix([\n",
       "[1, 0, 0 | 0 |       a/(a**2 - 2) |          -1/(a**2 - 2) |    0] \n",
       "[0, 1, 0 | 0 |       1/(a**2 - 2) |        -a/(2*a**2 - 4) |  1/2] \n",
       "[0, 0, 1 | 0 |      -3/(a**2 - 2) |       3*a/(2*a**2 - 4) | -1/2] \n",
       "[0, 0, 0 | 1 | (3 - a)/(a**2 - 2) | (2 - 3*a)/(2*a**2 - 4) |  1/2] \n",
       "]), pivots=(0, 1, 2, 3))"
      ]
     },
     "metadata": {},
     "output_type": "display_data"
    },
    {
     "ename": "ValueError",
     "evalue": "No left inverse found! Try pseudo-inverse: .pinv()",
     "output_type": "error",
     "traceback": [
      "\u001b[0;31m---------------------------------------------------------------------------\u001b[0m",
      "\u001b[0;31mValueError\u001b[0m                                Traceback (most recent call last)",
      "Cell \u001b[0;32mIn[39], line 1\u001b[0m\n\u001b[0;32m----> 1\u001b[0m \u001b[43mA\u001b[49m\u001b[38;5;241;43m.\u001b[39;49m\u001b[43minverse\u001b[49m\u001b[43m(\u001b[49m\u001b[38;5;124;43m\"\u001b[39;49m\u001b[38;5;124;43mleft\u001b[39;49m\u001b[38;5;124;43m\"\u001b[39;49m\u001b[43m,\u001b[49m\u001b[43m \u001b[49m\u001b[43mmatrices\u001b[49m\u001b[38;5;241;43m=\u001b[39;49m\u001b[38;5;241;43m1\u001b[39;49m\u001b[43m,\u001b[49m\u001b[43m \u001b[49m\u001b[43mverbosity\u001b[49m\u001b[38;5;241;43m=\u001b[39;49m\u001b[38;5;241;43m1\u001b[39;49m\u001b[43m)\u001b[49m\n",
      "File \u001b[0;32m~/Documents/GitHub/linear-algebra/src/ma1522/symbolic.py:1971\u001b[0m, in \u001b[0;36mMatrix.inverse\u001b[0;34m(self, option, matrices, verbosity)\u001b[0m\n\u001b[1;32m   1969\u001b[0m     X \u001b[38;5;241m=\u001b[39m X\u001b[38;5;241m.\u001b[39msubs(sol)\n\u001b[1;32m   1970\u001b[0m \u001b[38;5;28;01melse\u001b[39;00m:\n\u001b[0;32m-> 1971\u001b[0m     \u001b[38;5;28;01mraise\u001b[39;00m \u001b[38;5;167;01mValueError\u001b[39;00m(\n\u001b[1;32m   1972\u001b[0m         \u001b[38;5;124mf\u001b[39m\u001b[38;5;124m\"\u001b[39m\u001b[38;5;124mNo \u001b[39m\u001b[38;5;132;01m{\u001b[39;00moption\u001b[38;5;132;01m}\u001b[39;00m\u001b[38;5;124m inverse found! Try pseudo-inverse: .pinv()\u001b[39m\u001b[38;5;124m\"\u001b[39m\n\u001b[1;32m   1973\u001b[0m     )\n\u001b[1;32m   1975\u001b[0m \u001b[38;5;28;01mif\u001b[39;00m matrices \u001b[38;5;241m==\u001b[39m \u001b[38;5;241m1\u001b[39m:\n\u001b[1;32m   1976\u001b[0m     \u001b[38;5;28;01mreturn\u001b[39;00m X\n",
      "\u001b[0;31mValueError\u001b[0m: No left inverse found! Try pseudo-inverse: .pinv()"
     ]
    }
   ],
   "source": [
    "A.inverse(\"left\", matrices=1, verbosity=1)"
   ]
  },
  {
   "cell_type": "markdown",
   "id": "7d504dab",
   "metadata": {},
   "source": [
    "8. Not a scalar vector "
   ]
  },
  {
   "cell_type": "code",
   "execution_count": 40,
   "id": "ec1572cc",
   "metadata": {},
   "outputs": [
    {
     "data": {
      "text/latex": [
       "$\\displaystyle \\left(a - 1\\right) \\left(a + 3\\right)$"
      ],
      "text/plain": [
       "(a - 1)⋅(a + 3)"
      ]
     },
     "execution_count": 40,
     "metadata": {},
     "output_type": "execute_result"
    }
   ],
   "source": [
    "(a**2+2*a-3).factor()"
   ]
  },
  {
   "cell_type": "markdown",
   "id": "9599cf46",
   "metadata": {},
   "source": [
    "10."
   ]
  },
  {
   "cell_type": "code",
   "execution_count": 47,
   "id": "c157e3a1",
   "metadata": {},
   "outputs": [
    {
     "data": {
      "text/latex": [
       "$\\text{RREF}\\left\\{\\text{rref} = \\left[\\begin{array}{ccc|c}1 & 0 & 0 & 0\\\\0 & 1 & 4 & 0\\\\0 & 0 & 0 & 1\\end{array}\\right], \\quad\\text{pivots} = (0, 1, 3)\\right\\}$"
      ],
      "text/plain": [
       "RREF(rref=Matrix([\n",
       "[1, 0, 0 | 0]\n",
       "[0, 1, 4 | 0]\n",
       "[0, 0, 0 | 1]\n",
       "]), pivots=(0, 1, 3))"
      ]
     },
     "metadata": {},
     "output_type": "display_data"
    },
    {
     "ename": "ValueError",
     "evalue": "No solution found for the linear system. The system may be inconsistent.",
     "output_type": "error",
     "traceback": [
      "\u001b[0;31m---------------------------------------------------------------------------\u001b[0m",
      "\u001b[0;31mValueError\u001b[0m                                Traceback (most recent call last)",
      "Cell \u001b[0;32mIn[47], line 6\u001b[0m\n\u001b[1;32m      4\u001b[0m U \u001b[38;5;241m=\u001b[39m (L\u001b[38;5;241m*\u001b[39m\u001b[38;5;241m*\u001b[39m\u001b[38;5;241m-\u001b[39m\u001b[38;5;241m1\u001b[39m)\u001b[38;5;129m@A\u001b[39m\n\u001b[1;32m      5\u001b[0m y \u001b[38;5;241m=\u001b[39m Matrix\u001b[38;5;241m.\u001b[39mfrom_str(\u001b[38;5;124m\"\u001b[39m\u001b[38;5;124m3 8 -3\u001b[39m\u001b[38;5;124m\"\u001b[39m)\u001b[38;5;241m.\u001b[39mT\n\u001b[0;32m----> 6\u001b[0m \u001b[43mU\u001b[49m\u001b[38;5;241;43m.\u001b[39;49m\u001b[43msolve\u001b[49m\u001b[43m(\u001b[49m\u001b[43my\u001b[49m\u001b[43m)\u001b[49m\n",
      "File \u001b[0;32m~/Documents/GitHub/linear-algebra/src/ma1522/symbolic.py:1859\u001b[0m, in \u001b[0;36mMatrix.solve\u001b[0;34m(self, rhs)\u001b[0m\n\u001b[1;32m   1856\u001b[0m \u001b[38;5;28;01mif\u001b[39;00m \u001b[38;5;28mlen\u001b[39m(solution) \u001b[38;5;241m==\u001b[39m \u001b[38;5;241m0\u001b[39m:\n\u001b[1;32m   1857\u001b[0m     \u001b[38;5;66;03m# If no solution is found (e.g., inconsistent system or empty list), raise an error\u001b[39;00m\n\u001b[1;32m   1858\u001b[0m     display(\u001b[38;5;28mself\u001b[39m\u001b[38;5;241m.\u001b[39mrow_join(rhs, aug_line\u001b[38;5;241m=\u001b[39m\u001b[38;5;28;01mTrue\u001b[39;00m)\u001b[38;5;241m.\u001b[39mrref())\n\u001b[0;32m-> 1859\u001b[0m     \u001b[38;5;28;01mraise\u001b[39;00m \u001b[38;5;167;01mValueError\u001b[39;00m(\n\u001b[1;32m   1860\u001b[0m         \u001b[38;5;124m\"\u001b[39m\u001b[38;5;124mNo solution found for the linear system. The system may be inconsistent.\u001b[39m\u001b[38;5;124m\"\u001b[39m\n\u001b[1;32m   1861\u001b[0m     )\n\u001b[1;32m   1862\u001b[0m \u001b[38;5;28;01melse\u001b[39;00m:\n\u001b[1;32m   1863\u001b[0m     \u001b[38;5;28;01mreturn\u001b[39;00m [x\u001b[38;5;241m.\u001b[39msubs(sol) \u001b[38;5;28;01mfor\u001b[39;00m sol \u001b[38;5;129;01min\u001b[39;00m solution]\n",
      "\u001b[0;31mValueError\u001b[0m: No solution found for the linear system. The system may be inconsistent."
     ]
    }
   ],
   "source": [
    "A = Matrix.from_str(\"1 0 0; 2 1 4; 1 -3 -12\")\n",
    "L = Matrix.from_str(\"1 0 0; 2 1 0; 1 -3 1\")\n",
    "\n",
    "U = (L**-1)@A\n",
    "y = Matrix.from_str(\"3 8 -3\").T\n",
    "U.solve(y)"
   ]
  },
  {
   "cell_type": "code",
   "execution_count": 48,
   "id": "7f98e8b8",
   "metadata": {},
   "outputs": [
    {
     "ename": "SyntaxError",
     "evalue": "invalid syntax (1660919778.py, line 1)",
     "output_type": "error",
     "traceback": [
      "\u001b[0;36m  Cell \u001b[0;32mIn[48], line 1\u001b[0;36m\u001b[0m\n\u001b[0;31m    U from A, Ux = 0\u001b[0m\n\u001b[0m      ^\u001b[0m\n\u001b[0;31mSyntaxError\u001b[0m\u001b[0;31m:\u001b[0m invalid syntax\n"
     ]
    }
   ],
   "source": [
    "U from A, Ux = 0"
   ]
  },
  {
   "cell_type": "markdown",
   "id": "9b5c208c",
   "metadata": {},
   "source": [
    "11."
   ]
  },
  {
   "cell_type": "code",
   "execution_count": null,
   "id": "db32ce5a",
   "metadata": {},
   "outputs": [],
   "source": []
  },
  {
   "cell_type": "code",
   "execution_count": 58,
   "id": "d03cc2d4",
   "metadata": {},
   "outputs": [],
   "source": [
    "a, b, c = sym.symbols(\"a b c\")\n",
    "v = Matrix([[a, b, c]]).T\n",
    "v1 = Matrix.from_str(\"-2 4 4\").T\n",
    "v2 = Matrix.from_str(\"6 -3 2\").T"
   ]
  },
  {
   "cell_type": "code",
   "execution_count": 59,
   "id": "4eb01f3b",
   "metadata": {},
   "outputs": [
    {
     "data": {
      "text/latex": [
       "$\\displaystyle \\sqrt{\\left|{a + 2}\\right|^{2} + \\left|{b - 4}\\right|^{2} + \\left|{c - 4}\\right|^{2}}$"
      ],
      "text/plain": [
       "   ________________________________\n",
       "  ╱        2          2          2 \n",
       "╲╱  │a + 2│  + │b - 4│  + │c - 4│  "
      ]
     },
     "execution_count": 59,
     "metadata": {},
     "output_type": "execute_result"
    }
   ],
   "source": [
    "(v-v1).norm()"
   ]
  },
  {
   "cell_type": "code",
   "execution_count": 60,
   "id": "ab4fba48",
   "metadata": {},
   "outputs": [
    {
     "data": {
      "text/latex": [
       "$\\displaystyle \\sqrt{\\left|{a - 6}\\right|^{2} + \\left|{b + 3}\\right|^{2} + \\left|{c - 2}\\right|^{2}}$"
      ],
      "text/plain": [
       "   ________________________________\n",
       "  ╱        2          2          2 \n",
       "╲╱  │a - 6│  + │b + 3│  + │c - 2│  "
      ]
     },
     "execution_count": 60,
     "metadata": {},
     "output_type": "execute_result"
    }
   ],
   "source": [
    "(v-v2).norm()"
   ]
  },
  {
   "cell_type": "markdown",
   "id": "18e9fe8a",
   "metadata": {},
   "source": [
    "13."
   ]
  },
  {
   "cell_type": "code",
   "execution_count": 61,
   "id": "57801159",
   "metadata": {},
   "outputs": [
    {
     "data": {
      "text/latex": [
       "$\\displaystyle \\left[ \\left[\\begin{array}{c}5 z - 4\\\\5 - 3 z\\\\z\\end{array}\\right]\\right]$"
      ],
      "text/plain": [
       "⎡⎡5⋅z - 4⎤⎤\n",
       "⎢⎢       ⎥⎥\n",
       "⎢⎢5 - 3⋅z⎥⎥\n",
       "⎢⎢       ⎥⎥\n",
       "⎣⎣   z   ⎦⎦"
      ]
     },
     "execution_count": 61,
     "metadata": {},
     "output_type": "execute_result"
    }
   ],
   "source": [
    "A = Matrix.from_str(\"1 2 1; 1 3 4; 2 3 -1\")\n",
    "b = Matrix.from_str(\"6 11 7\").T\n",
    "A.solve(b)"
   ]
  },
  {
   "cell_type": "code",
   "execution_count": 62,
   "id": "9560e627",
   "metadata": {},
   "outputs": [
    {
     "data": {
      "text/latex": [
       "$\\displaystyle \\left[ \\left[\\begin{array}{c}2 - z\\\\2 z\\\\z\\end{array}\\right]\\right]$"
      ],
      "text/plain": [
       "⎡⎡2 - z⎤⎤\n",
       "⎢⎢     ⎥⎥\n",
       "⎢⎢ 2⋅z ⎥⎥\n",
       "⎢⎢     ⎥⎥\n",
       "⎣⎣  z  ⎦⎦"
      ]
     },
     "execution_count": 62,
     "metadata": {},
     "output_type": "execute_result"
    }
   ],
   "source": [
    "C = Matrix.from_str(\"0 -2 4; 1 1 -1; 1 -3 7\")\n",
    "d = Matrix.from_str(\"0 2 2\").T\n",
    "C.solve(d)"
   ]
  },
  {
   "cell_type": "code",
   "execution_count": null,
   "id": "dcae7a6f",
   "metadata": {},
   "outputs": [],
   "source": [
    "1 2 1"
   ]
  },
  {
   "cell_type": "markdown",
   "id": "027dbc66",
   "metadata": {},
   "source": [
    "14."
   ]
  },
  {
   "cell_type": "code",
   "execution_count": 68,
   "id": "c3bca652",
   "metadata": {},
   "outputs": [
    {
     "data": {
      "text/latex": [
       "$\\displaystyle \\left[\\begin{array}{cccc}1 & 0 & 1 & 1\\\\1 & 1 & -1 & 2\\\\2 & 0 & 1 & 0\\\\0 & -1 & 1 & -3\\end{array}\\right]$"
      ],
      "text/plain": [
       "Matrix([\n",
       "[1,  0,  1,  1]\n",
       "[1,  1, -1,  2]\n",
       "[2,  0,  1,  0]\n",
       "[0, -1,  1, -3]\n",
       "])"
      ]
     },
     "execution_count": 68,
     "metadata": {},
     "output_type": "execute_result"
    }
   ],
   "source": [
    "x = Matrix.from_str(\"1 0 1 1; 1 1 -1 2; 2 0 1 0; 0 -1 1 -3\")\n",
    "x"
   ]
  },
  {
   "cell_type": "code",
   "execution_count": 69,
   "id": "dffa0f9f",
   "metadata": {},
   "outputs": [
    {
     "data": {
      "text/latex": [
       "$\\displaystyle \\left[\\begin{array}{cccc}5 & 2 & 0 & 5\\\\17 & 4 & 3 & 9\\\\-5 & -6 & 4 & -17\\\\-19 & 6 & -14 & 21\\end{array}\\right]$"
      ],
      "text/plain": [
       "Matrix([\n",
       "[  5,  2,   0,   5]\n",
       "[ 17,  4,   3,   9]\n",
       "[ -5, -6,   4, -17]\n",
       "[-19,  6, -14,  21]\n",
       "])"
      ]
     },
     "execution_count": 69,
     "metadata": {},
     "output_type": "execute_result"
    }
   ],
   "source": [
    "b = Matrix.from_str(\"5 2 0 5; 17 4 3 9; -5 -6 4 -17; -19 6 -14 21\")\n",
    "b"
   ]
  },
  {
   "cell_type": "code",
   "execution_count": 70,
   "id": "14441c44",
   "metadata": {},
   "outputs": [
    {
     "ename": "NonInvertibleMatrixError",
     "evalue": "Matrix det == 0; not invertible.",
     "output_type": "error",
     "traceback": [
      "\u001b[0;31m---------------------------------------------------------------------------\u001b[0m",
      "\u001b[0;31mDMNonInvertibleMatrixError\u001b[0m                Traceback (most recent call last)",
      "File \u001b[0;32m~/Documents/GitHub/linear-algebra/.venv/lib/python3.10/site-packages/sympy/matrices/inverse.py:326\u001b[0m, in \u001b[0;36m_inv_DM\u001b[0;34m(dM, cancel)\u001b[0m\n\u001b[1;32m    325\u001b[0m \u001b[38;5;28;01mtry\u001b[39;00m:\n\u001b[0;32m--> 326\u001b[0m     dMi, den \u001b[38;5;241m=\u001b[39m \u001b[43mdM\u001b[49m\u001b[38;5;241;43m.\u001b[39;49m\u001b[43minv_den\u001b[49m\u001b[43m(\u001b[49m\u001b[43m)\u001b[49m\n\u001b[1;32m    327\u001b[0m \u001b[38;5;28;01mexcept\u001b[39;00m DMNonInvertibleMatrixError:\n",
      "File \u001b[0;32m~/Documents/GitHub/linear-algebra/.venv/lib/python3.10/site-packages/sympy/polys/matrices/domainmatrix.py:2743\u001b[0m, in \u001b[0;36mDomainMatrix.inv_den\u001b[0;34m(self, method)\u001b[0m\n\u001b[1;32m   2742\u001b[0m I \u001b[38;5;241m=\u001b[39m \u001b[38;5;28mself\u001b[39m\u001b[38;5;241m.\u001b[39meye(\u001b[38;5;28mself\u001b[39m\u001b[38;5;241m.\u001b[39mshape, \u001b[38;5;28mself\u001b[39m\u001b[38;5;241m.\u001b[39mdomain)\n\u001b[0;32m-> 2743\u001b[0m \u001b[38;5;28;01mreturn\u001b[39;00m \u001b[38;5;28;43mself\u001b[39;49m\u001b[38;5;241;43m.\u001b[39;49m\u001b[43msolve_den\u001b[49m\u001b[43m(\u001b[49m\u001b[43mI\u001b[49m\u001b[43m,\u001b[49m\u001b[43m \u001b[49m\u001b[43mmethod\u001b[49m\u001b[38;5;241;43m=\u001b[39;49m\u001b[43mmethod\u001b[49m\u001b[43m)\u001b[49m\n",
      "File \u001b[0;32m~/Documents/GitHub/linear-algebra/.venv/lib/python3.10/site-packages/sympy/polys/matrices/domainmatrix.py:2883\u001b[0m, in \u001b[0;36mDomainMatrix.solve_den\u001b[0;34m(self, b, method)\u001b[0m\n\u001b[1;32m   2882\u001b[0m \u001b[38;5;28;01melif\u001b[39;00m method \u001b[38;5;241m==\u001b[39m \u001b[38;5;124m'\u001b[39m\u001b[38;5;124mrref\u001b[39m\u001b[38;5;124m'\u001b[39m:\n\u001b[0;32m-> 2883\u001b[0m     xnum, xden \u001b[38;5;241m=\u001b[39m \u001b[38;5;28;43mself\u001b[39;49m\u001b[38;5;241;43m.\u001b[39;49m\u001b[43msolve_den_rref\u001b[49m\u001b[43m(\u001b[49m\u001b[43mb\u001b[49m\u001b[43m)\u001b[49m\n\u001b[1;32m   2884\u001b[0m \u001b[38;5;28;01melse\u001b[39;00m:\n",
      "File \u001b[0;32m~/Documents/GitHub/linear-algebra/.venv/lib/python3.10/site-packages/sympy/polys/matrices/domainmatrix.py:2935\u001b[0m, in \u001b[0;36mDomainMatrix.solve_den_rref\u001b[0;34m(self, b)\u001b[0m\n\u001b[1;32m   2934\u001b[0m \u001b[38;5;28;01mif\u001b[39;00m \u001b[38;5;28mlen\u001b[39m(pivots) \u001b[38;5;241m!=\u001b[39m n \u001b[38;5;129;01mor\u001b[39;00m pivots \u001b[38;5;129;01mand\u001b[39;00m pivots[\u001b[38;5;241m-\u001b[39m\u001b[38;5;241m1\u001b[39m] \u001b[38;5;241m>\u001b[39m\u001b[38;5;241m=\u001b[39m n:\n\u001b[0;32m-> 2935\u001b[0m     \u001b[38;5;28;01mraise\u001b[39;00m DMNonInvertibleMatrixError(\u001b[38;5;124m\"\u001b[39m\u001b[38;5;124mNon-unique solution.\u001b[39m\u001b[38;5;124m\"\u001b[39m)\n\u001b[1;32m   2937\u001b[0m xnum \u001b[38;5;241m=\u001b[39m Aaug_rref[:n, n:]\n",
      "\u001b[0;31mDMNonInvertibleMatrixError\u001b[0m: Non-unique solution.",
      "\nDuring handling of the above exception, another exception occurred:\n",
      "\u001b[0;31mNonInvertibleMatrixError\u001b[0m                  Traceback (most recent call last)",
      "Cell \u001b[0;32mIn[70], line 1\u001b[0m\n\u001b[0;32m----> 1\u001b[0m A \u001b[38;5;241m=\u001b[39m b \u001b[38;5;241m@\u001b[39m (\u001b[43mx\u001b[49m\u001b[38;5;241;43m*\u001b[39;49m\u001b[38;5;241;43m*\u001b[39;49m\u001b[38;5;241;43m-\u001b[39;49m\u001b[38;5;241;43m1\u001b[39;49m)\n",
      "File \u001b[0;32m~/Documents/GitHub/linear-algebra/.venv/lib/python3.10/site-packages/sympy/core/decorators.py:106\u001b[0m, in \u001b[0;36mcall_highest_priority.<locals>.priority_decorator.<locals>.binary_op_wrapper\u001b[0;34m(self, other)\u001b[0m\n\u001b[1;32m    104\u001b[0m         \u001b[38;5;28;01mif\u001b[39;00m f \u001b[38;5;129;01mis\u001b[39;00m \u001b[38;5;129;01mnot\u001b[39;00m \u001b[38;5;28;01mNone\u001b[39;00m:\n\u001b[1;32m    105\u001b[0m             \u001b[38;5;28;01mreturn\u001b[39;00m f(\u001b[38;5;28mself\u001b[39m)\n\u001b[0;32m--> 106\u001b[0m \u001b[38;5;28;01mreturn\u001b[39;00m \u001b[43mfunc\u001b[49m\u001b[43m(\u001b[49m\u001b[38;5;28;43mself\u001b[39;49m\u001b[43m,\u001b[49m\u001b[43m \u001b[49m\u001b[43mother\u001b[49m\u001b[43m)\u001b[49m\n",
      "File \u001b[0;32m~/Documents/GitHub/linear-algebra/.venv/lib/python3.10/site-packages/sympy/matrices/matrixbase.py:2893\u001b[0m, in \u001b[0;36mMatrixBase.__pow__\u001b[0;34m(self, exp)\u001b[0m\n\u001b[1;32m   2889\u001b[0m \u001b[38;5;129m@call_highest_priority\u001b[39m(\u001b[38;5;124m'\u001b[39m\u001b[38;5;124m__rpow__\u001b[39m\u001b[38;5;124m'\u001b[39m)\n\u001b[1;32m   2890\u001b[0m \u001b[38;5;28;01mdef\u001b[39;00m\u001b[38;5;250m \u001b[39m\u001b[38;5;21m__pow__\u001b[39m(\u001b[38;5;28mself\u001b[39m, exp):\n\u001b[1;32m   2891\u001b[0m \u001b[38;5;250m    \u001b[39m\u001b[38;5;124;03m\"\"\"Return self**exp a scalar or symbol.\"\"\"\u001b[39;00m\n\u001b[0;32m-> 2893\u001b[0m     \u001b[38;5;28;01mreturn\u001b[39;00m \u001b[38;5;28;43mself\u001b[39;49m\u001b[38;5;241;43m.\u001b[39;49m\u001b[43mpow\u001b[49m\u001b[43m(\u001b[49m\u001b[43mexp\u001b[49m\u001b[43m)\u001b[49m\n",
      "File \u001b[0;32m~/Documents/GitHub/linear-algebra/.venv/lib/python3.10/site-packages/sympy/matrices/matrixbase.py:2937\u001b[0m, in \u001b[0;36mMatrixBase.pow\u001b[0;34m(self, exp, method)\u001b[0m\n\u001b[1;32m   2935\u001b[0m     \u001b[38;5;28;01mif\u001b[39;00m exp \u001b[38;5;241m<\u001b[39m \u001b[38;5;241m0\u001b[39m:\n\u001b[1;32m   2936\u001b[0m         exp \u001b[38;5;241m=\u001b[39m \u001b[38;5;241m-\u001b[39mexp\n\u001b[0;32m-> 2937\u001b[0m         a \u001b[38;5;241m=\u001b[39m \u001b[43ma\u001b[49m\u001b[38;5;241;43m.\u001b[39;49m\u001b[43minv\u001b[49m\u001b[43m(\u001b[49m\u001b[43m)\u001b[49m\n\u001b[1;32m   2938\u001b[0m \u001b[38;5;66;03m# When certain conditions are met,\u001b[39;00m\n\u001b[1;32m   2939\u001b[0m \u001b[38;5;66;03m# Jordan block algorithm is faster than\u001b[39;00m\n\u001b[1;32m   2940\u001b[0m \u001b[38;5;66;03m# computation by recursion.\u001b[39;00m\n\u001b[1;32m   2941\u001b[0m \u001b[38;5;28;01mif\u001b[39;00m method \u001b[38;5;241m==\u001b[39m \u001b[38;5;124m'\u001b[39m\u001b[38;5;124mjordan\u001b[39m\u001b[38;5;124m'\u001b[39m:\n",
      "File \u001b[0;32m~/Documents/GitHub/linear-algebra/.venv/lib/python3.10/site-packages/sympy/matrices/matrixbase.py:5225\u001b[0m, in \u001b[0;36mMatrixBase.inv\u001b[0;34m(self, method, iszerofunc, try_block_diag)\u001b[0m\n\u001b[1;32m   5224\u001b[0m \u001b[38;5;28;01mdef\u001b[39;00m\u001b[38;5;250m \u001b[39m\u001b[38;5;21minv\u001b[39m(\u001b[38;5;28mself\u001b[39m, method\u001b[38;5;241m=\u001b[39m\u001b[38;5;28;01mNone\u001b[39;00m, iszerofunc\u001b[38;5;241m=\u001b[39m_iszero, try_block_diag\u001b[38;5;241m=\u001b[39m\u001b[38;5;28;01mFalse\u001b[39;00m):\n\u001b[0;32m-> 5225\u001b[0m     \u001b[38;5;28;01mreturn\u001b[39;00m \u001b[43m_inv\u001b[49m\u001b[43m(\u001b[49m\u001b[38;5;28;43mself\u001b[39;49m\u001b[43m,\u001b[49m\u001b[43m \u001b[49m\u001b[43mmethod\u001b[49m\u001b[38;5;241;43m=\u001b[39;49m\u001b[43mmethod\u001b[49m\u001b[43m,\u001b[49m\u001b[43m \u001b[49m\u001b[43miszerofunc\u001b[49m\u001b[38;5;241;43m=\u001b[39;49m\u001b[43miszerofunc\u001b[49m\u001b[43m,\u001b[49m\n\u001b[1;32m   5226\u001b[0m \u001b[43m            \u001b[49m\u001b[43mtry_block_diag\u001b[49m\u001b[38;5;241;43m=\u001b[39;49m\u001b[43mtry_block_diag\u001b[49m\u001b[43m)\u001b[49m\n",
      "File \u001b[0;32m~/Documents/GitHub/linear-algebra/.venv/lib/python3.10/site-packages/sympy/matrices/inverse.py:504\u001b[0m, in \u001b[0;36m_inv\u001b[0;34m(M, method, iszerofunc, try_block_diag)\u001b[0m\n\u001b[1;32m    501\u001b[0m         method \u001b[38;5;241m=\u001b[39m \u001b[38;5;124m'\u001b[39m\u001b[38;5;124mGE\u001b[39m\u001b[38;5;124m'\u001b[39m\n\u001b[1;32m    503\u001b[0m \u001b[38;5;28;01mif\u001b[39;00m method \u001b[38;5;241m==\u001b[39m \u001b[38;5;124m\"\u001b[39m\u001b[38;5;124mDM\u001b[39m\u001b[38;5;124m\"\u001b[39m:\n\u001b[0;32m--> 504\u001b[0m     rv \u001b[38;5;241m=\u001b[39m \u001b[43m_inv_DM\u001b[49m\u001b[43m(\u001b[49m\u001b[43mdM\u001b[49m\u001b[43m)\u001b[49m\n\u001b[1;32m    505\u001b[0m \u001b[38;5;28;01melif\u001b[39;00m method \u001b[38;5;241m==\u001b[39m \u001b[38;5;124m\"\u001b[39m\u001b[38;5;124mDMNC\u001b[39m\u001b[38;5;124m\"\u001b[39m:\n\u001b[1;32m    506\u001b[0m     rv \u001b[38;5;241m=\u001b[39m _inv_DM(dM, cancel\u001b[38;5;241m=\u001b[39m\u001b[38;5;28;01mFalse\u001b[39;00m)\n",
      "File \u001b[0;32m~/Documents/GitHub/linear-algebra/.venv/lib/python3.10/site-packages/sympy/matrices/inverse.py:328\u001b[0m, in \u001b[0;36m_inv_DM\u001b[0;34m(dM, cancel)\u001b[0m\n\u001b[1;32m    326\u001b[0m     dMi, den \u001b[38;5;241m=\u001b[39m dM\u001b[38;5;241m.\u001b[39minv_den()\n\u001b[1;32m    327\u001b[0m \u001b[38;5;28;01mexcept\u001b[39;00m DMNonInvertibleMatrixError:\n\u001b[0;32m--> 328\u001b[0m     \u001b[38;5;28;01mraise\u001b[39;00m NonInvertibleMatrixError(\u001b[38;5;124m\"\u001b[39m\u001b[38;5;124mMatrix det == 0; not invertible.\u001b[39m\u001b[38;5;124m\"\u001b[39m)\n\u001b[1;32m    330\u001b[0m \u001b[38;5;28;01mif\u001b[39;00m use_exact:\n\u001b[1;32m    331\u001b[0m     dMi \u001b[38;5;241m=\u001b[39m dMi\u001b[38;5;241m.\u001b[39mconvert_to(dom)\n",
      "\u001b[0;31mNonInvertibleMatrixError\u001b[0m: Matrix det == 0; not invertible."
     ]
    }
   ],
   "source": [
    "A = b @ (x**-1)"
   ]
  },
  {
   "cell_type": "code",
   "execution_count": 74,
   "id": "e34e94d7",
   "metadata": {},
   "outputs": [
    {
     "data": {
      "text/latex": [
       "$\\displaystyle \\left[\\begin{array}{ccc}-6 & -1 & 2\\\\6 & 2 & 0\\\\9 & 1 & -4\\end{array}\\right]$"
      ],
      "text/plain": [
       "Matrix([\n",
       "[-6, -1,  2]\n",
       "[ 6,  2,  0]\n",
       "[ 9,  1, -4]\n",
       "])"
      ]
     },
     "execution_count": 74,
     "metadata": {},
     "output_type": "execute_result"
    }
   ],
   "source": [
    "L = Matrix.from_str(\"-6 -1 2; 6 2 0; 9 1 -4\")\n",
    "R = Matrix.from_str(\"3 0 0; 0 1 1; 0 0 -1\")\n",
    "L"
   ]
  },
  {
   "cell_type": "code",
   "execution_count": 76,
   "id": "eccbbd9c",
   "metadata": {},
   "outputs": [
    {
     "data": {
      "text/latex": [
       "$\\displaystyle \\left[\\begin{array}{ccc}-2 & -1 & -3\\\\2 & 2 & 2\\\\3 & 1 & 5\\end{array}\\right]$"
      ],
      "text/plain": [
       "Matrix([\n",
       "[-2, -1, -3]\n",
       "[ 2,  2,  2]\n",
       "[ 3,  1,  5]\n",
       "])"
      ]
     },
     "execution_count": 76,
     "metadata": {},
     "output_type": "execute_result"
    }
   ],
   "source": [
    "A = L @(R**-1)\n",
    "A"
   ]
  },
  {
   "cell_type": "code",
   "execution_count": 78,
   "id": "faafa8fc",
   "metadata": {},
   "outputs": [
    {
     "ename": "NonInvertibleMatrixError",
     "evalue": "Matrix det == 0; not invertible.",
     "output_type": "error",
     "traceback": [
      "\u001b[0;31m---------------------------------------------------------------------------\u001b[0m",
      "\u001b[0;31mDMNonInvertibleMatrixError\u001b[0m                Traceback (most recent call last)",
      "File \u001b[0;32m~/Documents/GitHub/linear-algebra/.venv/lib/python3.10/site-packages/sympy/matrices/inverse.py:326\u001b[0m, in \u001b[0;36m_inv_DM\u001b[0;34m(dM, cancel)\u001b[0m\n\u001b[1;32m    325\u001b[0m \u001b[38;5;28;01mtry\u001b[39;00m:\n\u001b[0;32m--> 326\u001b[0m     dMi, den \u001b[38;5;241m=\u001b[39m \u001b[43mdM\u001b[49m\u001b[38;5;241;43m.\u001b[39;49m\u001b[43minv_den\u001b[49m\u001b[43m(\u001b[49m\u001b[43m)\u001b[49m\n\u001b[1;32m    327\u001b[0m \u001b[38;5;28;01mexcept\u001b[39;00m DMNonInvertibleMatrixError:\n",
      "File \u001b[0;32m~/Documents/GitHub/linear-algebra/.venv/lib/python3.10/site-packages/sympy/polys/matrices/domainmatrix.py:2743\u001b[0m, in \u001b[0;36mDomainMatrix.inv_den\u001b[0;34m(self, method)\u001b[0m\n\u001b[1;32m   2742\u001b[0m I \u001b[38;5;241m=\u001b[39m \u001b[38;5;28mself\u001b[39m\u001b[38;5;241m.\u001b[39meye(\u001b[38;5;28mself\u001b[39m\u001b[38;5;241m.\u001b[39mshape, \u001b[38;5;28mself\u001b[39m\u001b[38;5;241m.\u001b[39mdomain)\n\u001b[0;32m-> 2743\u001b[0m \u001b[38;5;28;01mreturn\u001b[39;00m \u001b[38;5;28;43mself\u001b[39;49m\u001b[38;5;241;43m.\u001b[39;49m\u001b[43msolve_den\u001b[49m\u001b[43m(\u001b[49m\u001b[43mI\u001b[49m\u001b[43m,\u001b[49m\u001b[43m \u001b[49m\u001b[43mmethod\u001b[49m\u001b[38;5;241;43m=\u001b[39;49m\u001b[43mmethod\u001b[49m\u001b[43m)\u001b[49m\n",
      "File \u001b[0;32m~/Documents/GitHub/linear-algebra/.venv/lib/python3.10/site-packages/sympy/polys/matrices/domainmatrix.py:2883\u001b[0m, in \u001b[0;36mDomainMatrix.solve_den\u001b[0;34m(self, b, method)\u001b[0m\n\u001b[1;32m   2882\u001b[0m \u001b[38;5;28;01melif\u001b[39;00m method \u001b[38;5;241m==\u001b[39m \u001b[38;5;124m'\u001b[39m\u001b[38;5;124mrref\u001b[39m\u001b[38;5;124m'\u001b[39m:\n\u001b[0;32m-> 2883\u001b[0m     xnum, xden \u001b[38;5;241m=\u001b[39m \u001b[38;5;28;43mself\u001b[39;49m\u001b[38;5;241;43m.\u001b[39;49m\u001b[43msolve_den_rref\u001b[49m\u001b[43m(\u001b[49m\u001b[43mb\u001b[49m\u001b[43m)\u001b[49m\n\u001b[1;32m   2884\u001b[0m \u001b[38;5;28;01melse\u001b[39;00m:\n",
      "File \u001b[0;32m~/Documents/GitHub/linear-algebra/.venv/lib/python3.10/site-packages/sympy/polys/matrices/domainmatrix.py:2935\u001b[0m, in \u001b[0;36mDomainMatrix.solve_den_rref\u001b[0;34m(self, b)\u001b[0m\n\u001b[1;32m   2934\u001b[0m \u001b[38;5;28;01mif\u001b[39;00m \u001b[38;5;28mlen\u001b[39m(pivots) \u001b[38;5;241m!=\u001b[39m n \u001b[38;5;129;01mor\u001b[39;00m pivots \u001b[38;5;129;01mand\u001b[39;00m pivots[\u001b[38;5;241m-\u001b[39m\u001b[38;5;241m1\u001b[39m] \u001b[38;5;241m>\u001b[39m\u001b[38;5;241m=\u001b[39m n:\n\u001b[0;32m-> 2935\u001b[0m     \u001b[38;5;28;01mraise\u001b[39;00m DMNonInvertibleMatrixError(\u001b[38;5;124m\"\u001b[39m\u001b[38;5;124mNon-unique solution.\u001b[39m\u001b[38;5;124m\"\u001b[39m)\n\u001b[1;32m   2937\u001b[0m xnum \u001b[38;5;241m=\u001b[39m Aaug_rref[:n, n:]\n",
      "\u001b[0;31mDMNonInvertibleMatrixError\u001b[0m: Non-unique solution.",
      "\nDuring handling of the above exception, another exception occurred:\n",
      "\u001b[0;31mNonInvertibleMatrixError\u001b[0m                  Traceback (most recent call last)",
      "Cell \u001b[0;32mIn[78], line 1\u001b[0m\n\u001b[0;32m----> 1\u001b[0m \u001b[43mA\u001b[49m\u001b[38;5;241;43m*\u001b[39;49m\u001b[38;5;241;43m*\u001b[39;49m\u001b[38;5;241;43m-\u001b[39;49m\u001b[38;5;241;43m1\u001b[39;49m\n",
      "File \u001b[0;32m~/Documents/GitHub/linear-algebra/.venv/lib/python3.10/site-packages/sympy/core/decorators.py:106\u001b[0m, in \u001b[0;36mcall_highest_priority.<locals>.priority_decorator.<locals>.binary_op_wrapper\u001b[0;34m(self, other)\u001b[0m\n\u001b[1;32m    104\u001b[0m         \u001b[38;5;28;01mif\u001b[39;00m f \u001b[38;5;129;01mis\u001b[39;00m \u001b[38;5;129;01mnot\u001b[39;00m \u001b[38;5;28;01mNone\u001b[39;00m:\n\u001b[1;32m    105\u001b[0m             \u001b[38;5;28;01mreturn\u001b[39;00m f(\u001b[38;5;28mself\u001b[39m)\n\u001b[0;32m--> 106\u001b[0m \u001b[38;5;28;01mreturn\u001b[39;00m \u001b[43mfunc\u001b[49m\u001b[43m(\u001b[49m\u001b[38;5;28;43mself\u001b[39;49m\u001b[43m,\u001b[49m\u001b[43m \u001b[49m\u001b[43mother\u001b[49m\u001b[43m)\u001b[49m\n",
      "File \u001b[0;32m~/Documents/GitHub/linear-algebra/.venv/lib/python3.10/site-packages/sympy/matrices/matrixbase.py:2893\u001b[0m, in \u001b[0;36mMatrixBase.__pow__\u001b[0;34m(self, exp)\u001b[0m\n\u001b[1;32m   2889\u001b[0m \u001b[38;5;129m@call_highest_priority\u001b[39m(\u001b[38;5;124m'\u001b[39m\u001b[38;5;124m__rpow__\u001b[39m\u001b[38;5;124m'\u001b[39m)\n\u001b[1;32m   2890\u001b[0m \u001b[38;5;28;01mdef\u001b[39;00m\u001b[38;5;250m \u001b[39m\u001b[38;5;21m__pow__\u001b[39m(\u001b[38;5;28mself\u001b[39m, exp):\n\u001b[1;32m   2891\u001b[0m \u001b[38;5;250m    \u001b[39m\u001b[38;5;124;03m\"\"\"Return self**exp a scalar or symbol.\"\"\"\u001b[39;00m\n\u001b[0;32m-> 2893\u001b[0m     \u001b[38;5;28;01mreturn\u001b[39;00m \u001b[38;5;28;43mself\u001b[39;49m\u001b[38;5;241;43m.\u001b[39;49m\u001b[43mpow\u001b[49m\u001b[43m(\u001b[49m\u001b[43mexp\u001b[49m\u001b[43m)\u001b[49m\n",
      "File \u001b[0;32m~/Documents/GitHub/linear-algebra/.venv/lib/python3.10/site-packages/sympy/matrices/matrixbase.py:2937\u001b[0m, in \u001b[0;36mMatrixBase.pow\u001b[0;34m(self, exp, method)\u001b[0m\n\u001b[1;32m   2935\u001b[0m     \u001b[38;5;28;01mif\u001b[39;00m exp \u001b[38;5;241m<\u001b[39m \u001b[38;5;241m0\u001b[39m:\n\u001b[1;32m   2936\u001b[0m         exp \u001b[38;5;241m=\u001b[39m \u001b[38;5;241m-\u001b[39mexp\n\u001b[0;32m-> 2937\u001b[0m         a \u001b[38;5;241m=\u001b[39m \u001b[43ma\u001b[49m\u001b[38;5;241;43m.\u001b[39;49m\u001b[43minv\u001b[49m\u001b[43m(\u001b[49m\u001b[43m)\u001b[49m\n\u001b[1;32m   2938\u001b[0m \u001b[38;5;66;03m# When certain conditions are met,\u001b[39;00m\n\u001b[1;32m   2939\u001b[0m \u001b[38;5;66;03m# Jordan block algorithm is faster than\u001b[39;00m\n\u001b[1;32m   2940\u001b[0m \u001b[38;5;66;03m# computation by recursion.\u001b[39;00m\n\u001b[1;32m   2941\u001b[0m \u001b[38;5;28;01mif\u001b[39;00m method \u001b[38;5;241m==\u001b[39m \u001b[38;5;124m'\u001b[39m\u001b[38;5;124mjordan\u001b[39m\u001b[38;5;124m'\u001b[39m:\n",
      "File \u001b[0;32m~/Documents/GitHub/linear-algebra/.venv/lib/python3.10/site-packages/sympy/matrices/matrixbase.py:5225\u001b[0m, in \u001b[0;36mMatrixBase.inv\u001b[0;34m(self, method, iszerofunc, try_block_diag)\u001b[0m\n\u001b[1;32m   5224\u001b[0m \u001b[38;5;28;01mdef\u001b[39;00m\u001b[38;5;250m \u001b[39m\u001b[38;5;21minv\u001b[39m(\u001b[38;5;28mself\u001b[39m, method\u001b[38;5;241m=\u001b[39m\u001b[38;5;28;01mNone\u001b[39;00m, iszerofunc\u001b[38;5;241m=\u001b[39m_iszero, try_block_diag\u001b[38;5;241m=\u001b[39m\u001b[38;5;28;01mFalse\u001b[39;00m):\n\u001b[0;32m-> 5225\u001b[0m     \u001b[38;5;28;01mreturn\u001b[39;00m \u001b[43m_inv\u001b[49m\u001b[43m(\u001b[49m\u001b[38;5;28;43mself\u001b[39;49m\u001b[43m,\u001b[49m\u001b[43m \u001b[49m\u001b[43mmethod\u001b[49m\u001b[38;5;241;43m=\u001b[39;49m\u001b[43mmethod\u001b[49m\u001b[43m,\u001b[49m\u001b[43m \u001b[49m\u001b[43miszerofunc\u001b[49m\u001b[38;5;241;43m=\u001b[39;49m\u001b[43miszerofunc\u001b[49m\u001b[43m,\u001b[49m\n\u001b[1;32m   5226\u001b[0m \u001b[43m            \u001b[49m\u001b[43mtry_block_diag\u001b[49m\u001b[38;5;241;43m=\u001b[39;49m\u001b[43mtry_block_diag\u001b[49m\u001b[43m)\u001b[49m\n",
      "File \u001b[0;32m~/Documents/GitHub/linear-algebra/.venv/lib/python3.10/site-packages/sympy/matrices/inverse.py:504\u001b[0m, in \u001b[0;36m_inv\u001b[0;34m(M, method, iszerofunc, try_block_diag)\u001b[0m\n\u001b[1;32m    501\u001b[0m         method \u001b[38;5;241m=\u001b[39m \u001b[38;5;124m'\u001b[39m\u001b[38;5;124mGE\u001b[39m\u001b[38;5;124m'\u001b[39m\n\u001b[1;32m    503\u001b[0m \u001b[38;5;28;01mif\u001b[39;00m method \u001b[38;5;241m==\u001b[39m \u001b[38;5;124m\"\u001b[39m\u001b[38;5;124mDM\u001b[39m\u001b[38;5;124m\"\u001b[39m:\n\u001b[0;32m--> 504\u001b[0m     rv \u001b[38;5;241m=\u001b[39m \u001b[43m_inv_DM\u001b[49m\u001b[43m(\u001b[49m\u001b[43mdM\u001b[49m\u001b[43m)\u001b[49m\n\u001b[1;32m    505\u001b[0m \u001b[38;5;28;01melif\u001b[39;00m method \u001b[38;5;241m==\u001b[39m \u001b[38;5;124m\"\u001b[39m\u001b[38;5;124mDMNC\u001b[39m\u001b[38;5;124m\"\u001b[39m:\n\u001b[1;32m    506\u001b[0m     rv \u001b[38;5;241m=\u001b[39m _inv_DM(dM, cancel\u001b[38;5;241m=\u001b[39m\u001b[38;5;28;01mFalse\u001b[39;00m)\n",
      "File \u001b[0;32m~/Documents/GitHub/linear-algebra/.venv/lib/python3.10/site-packages/sympy/matrices/inverse.py:328\u001b[0m, in \u001b[0;36m_inv_DM\u001b[0;34m(dM, cancel)\u001b[0m\n\u001b[1;32m    326\u001b[0m     dMi, den \u001b[38;5;241m=\u001b[39m dM\u001b[38;5;241m.\u001b[39minv_den()\n\u001b[1;32m    327\u001b[0m \u001b[38;5;28;01mexcept\u001b[39;00m DMNonInvertibleMatrixError:\n\u001b[0;32m--> 328\u001b[0m     \u001b[38;5;28;01mraise\u001b[39;00m NonInvertibleMatrixError(\u001b[38;5;124m\"\u001b[39m\u001b[38;5;124mMatrix det == 0; not invertible.\u001b[39m\u001b[38;5;124m\"\u001b[39m)\n\u001b[1;32m    330\u001b[0m \u001b[38;5;28;01mif\u001b[39;00m use_exact:\n\u001b[1;32m    331\u001b[0m     dMi \u001b[38;5;241m=\u001b[39m dMi\u001b[38;5;241m.\u001b[39mconvert_to(dom)\n",
      "\u001b[0;31mNonInvertibleMatrixError\u001b[0m: Matrix det == 0; not invertible."
     ]
    }
   ],
   "source": [
    "A**-1"
   ]
  },
  {
   "cell_type": "code",
   "execution_count": 81,
   "id": "1a04b250",
   "metadata": {},
   "outputs": [
    {
     "name": "stderr",
     "output_type": "stream",
     "text": [
      "/var/folders/mf/_jc27bj14xv68vqy0mj9_w540000gn/T/ipykernel_11125/3608077471.py:6: RuntimeWarning: ERROR: Max tries exceeded to reduce row 2 with row 1\n",
      "  A.ref()\n",
      "/var/folders/mf/_jc27bj14xv68vqy0mj9_w540000gn/T/ipykernel_11125/3608077471.py:6: RuntimeWarning: ERROR: Max tries exceeded to reduce row 3 with row 1\n",
      "  A.ref()\n"
     ]
    },
    {
     "data": {
      "text/latex": [
       "$\\displaystyle R_3 - \\left(- \\frac{1}{2}\\right)R_2 \\rightarrow R_3$"
      ],
      "text/plain": [
       "<IPython.core.display.Math object>"
      ]
     },
     "metadata": {},
     "output_type": "display_data"
    },
    {
     "data": {
      "text/latex": [
       "$\\displaystyle \\left[\\begin{array}{cccc}a & 1 & 2 & 0\\\\b & -2 & 3 & 0\\\\\\frac{b}{2} + c & 0 & \\frac{3}{2} & 0\\end{array}\\right]$"
      ],
      "text/plain": [
       "Matrix([\n",
       "[      a,  1,   2, 0]\n",
       "[      b, -2,   3, 0]\n",
       "[b/2 + c,  0, 3/2, 0]\n",
       "])"
      ]
     },
     "metadata": {},
     "output_type": "display_data"
    },
    {
     "name": "stdout",
     "output_type": "stream",
     "text": [
      "\n",
      "\n"
     ]
    },
    {
     "data": {
      "text/latex": [
       "$\\left[\\begin{array}{ccc}1 & 0 & 0\\\\0 & 1 & 0\\\\0 & 0 & 1\\end{array}\\right]\\left[\\begin{array}{ccc}1 & 0 & 0\\\\0 & 1 & 0\\\\0 & - \\frac{1}{2} & 1\\end{array}\\right]\\left[\\begin{array}{cccc}a & 1 & 2 & 0\\\\b & -2 & 3 & 0\\\\\\frac{b}{2} + c & 0 & \\frac{3}{2} & 0\\end{array}\\right]$"
      ],
      "text/plain": [
       "PLU(P=Matrix([\n",
       "[1, 0, 0]\n",
       "[0, 1, 0]\n",
       "[0, 0, 1]\n",
       "]), L=Matrix([\n",
       "[1,    0, 0]\n",
       "[0,    1, 0]\n",
       "[0, -1/2, 1]\n",
       "]), U=Matrix([\n",
       "[      a,  1,   2, 0]\n",
       "[      b, -2,   3, 0]\n",
       "[b/2 + c,  0, 3/2, 0]\n",
       "]))"
      ]
     },
     "execution_count": 81,
     "metadata": {},
     "output_type": "execute_result"
    }
   ],
   "source": [
    "a, b, c = sym.symbols(\"a b c\")\n",
    "\n",
    "A = Matrix([[a, 1, 2, 0],\n",
    "            [b, -2, 3, 0],\n",
    "            [c, 1, 0, 0]])\n",
    "A.ref()"
   ]
  },
  {
   "cell_type": "code",
   "execution_count": null,
   "id": "872946e8",
   "metadata": {},
   "outputs": [],
   "source": []
  }
 ],
 "metadata": {
  "kernelspec": {
   "display_name": "ma1522-linear-algebra (3.10.18)",
   "language": "python",
   "name": "python3"
  },
  "language_info": {
   "codemirror_mode": {
    "name": "ipython",
    "version": 3
   },
   "file_extension": ".py",
   "mimetype": "text/x-python",
   "name": "python",
   "nbconvert_exporter": "python",
   "pygments_lexer": "ipython3",
   "version": "3.10.18"
  }
 },
 "nbformat": 4,
 "nbformat_minor": 5
}

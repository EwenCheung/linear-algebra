{
 "cells": [
  {
   "cell_type": "code",
   "execution_count": 1,
   "id": "4f1f0065",
   "metadata": {},
   "outputs": [],
   "source": [
    "# Required imports\n",
    "import sympy as sym\n",
    "from ma1522.symbolic import Matrix\n"
   ]
  },
  {
   "cell_type": "code",
   "execution_count": null,
   "id": "e3857142",
   "metadata": {},
   "outputs": [],
   "source": []
  },
  {
   "cell_type": "markdown",
   "id": "5f2835a0",
   "metadata": {},
   "source": [
    "## Question 3\n",
    "Solve the following linear systems.\n",
    "\n",
    "### Question 3(a)\n",
    "$$\\begin{cases} 3x_1 & + & 2x_2 & - & 4x_3 & = & 3 \\\\\n",
    "2x_1 & + & 3x_2 & + & 3x_3 & = & 15  \\\\\n",
    "5x_1 & - & 3x_2 & + & x_3 & = & 14 \\end{cases}$$"
   ]
  },
  {
   "cell_type": "code",
   "execution_count": 2,
   "id": "7463677a",
   "metadata": {},
   "outputs": [
    {
     "data": {
      "text/latex": [
       "$\\text{RREF}\\left\\{\\text{rref} = \\left[\\begin{array}{ccc|c}1 & 0 & 0 & 3\\\\0 & 1 & 0 & 1\\\\0 & 0 & 1 & 2\\end{array}\\right], \\quad\\text{pivots} = (0, 1, 2)\\right\\}$"
      ],
      "text/plain": [
       "RREF(rref=Matrix([\n",
       "[1, 0, 0 | 3]\n",
       "[0, 1, 0 | 1]\n",
       "[0, 0, 1 | 2]\n",
       "]), pivots=(0, 1, 2))"
      ]
     },
     "execution_count": 2,
     "metadata": {},
     "output_type": "execute_result"
    }
   ],
   "source": [
    "A = Matrix([[3, 2, -4],\n",
    "              [2, 3, 3],\n",
    "              [5, -3, 1]])\n",
    "\n",
    "B = Matrix([3, 15, 14])\n",
    "\n",
    "R = A.row_join(B)\n",
    "R.rref()"
   ]
  },
  {
   "cell_type": "markdown",
   "id": "f73caaff",
   "metadata": {},
   "source": [
    "### Question 3(b) \n",
    "\n",
    "$$\\begin{cases} a &+& b &-& c &-& 2d &=& 0  \\\\\n",
    " 2a &+& b &-& c &+& d &=& -2  \\\\\n",
    " -a &+& b &-& 3c &+& d &=& 4 \\end{cases}$$\n",
    "\n"
   ]
  },
  {
   "cell_type": "code",
   "execution_count": 3,
   "id": "bd7767a0",
   "metadata": {},
   "outputs": [
    {
     "data": {
      "text/latex": [
       "$\\displaystyle \\left[\\begin{array}{cccc|c}1 & 1 & -1 & -2 & 0\\\\2 & 1 & -1 & 1 & -2\\\\-1 & 1 & -3 & 1 & 4\\end{array}\\right]$"
      ],
      "text/plain": [
       "Matrix([\n",
       "[ 1, 1, -1, -2 |  0]\n",
       "[ 2, 1, -1,  1 | -2]\n",
       "[-1, 1, -3,  1 |  4]\n",
       "])"
      ]
     },
     "execution_count": 3,
     "metadata": {},
     "output_type": "execute_result"
    }
   ],
   "source": [
    "A = Matrix([[1, 1, -1, -2],\n",
    "              [2, 1, -1, 1],\n",
    "              [-1, 1, -3, 1]])\n",
    "\n",
    "B = Matrix([0, -2, 4])\n",
    "\n",
    "R = A.row_join(B)\n",
    "R"
   ]
  },
  {
   "cell_type": "code",
   "execution_count": 4,
   "id": "86032427",
   "metadata": {},
   "outputs": [
    {
     "data": {
      "text/latex": [
       "$\\text{RREF}\\left\\{\\text{rref} = \\left[\\begin{array}{cccc|c}1 & 0 & 0 & 3 & -2\\\\0 & 1 & 0 & - \\frac{19}{2} & 2\\\\0 & 0 & 1 & - \\frac{9}{2} & 0\\end{array}\\right], \\quad\\text{pivots} = (0, 1, 2)\\right\\}$"
      ],
      "text/plain": [
       "RREF(rref=Matrix([\n",
       "[1, 0, 0,     3 | -2]\n",
       "[0, 1, 0, -19/2 |  2]\n",
       "[0, 0, 1,  -9/2 |  0]\n",
       "]), pivots=(0, 1, 2))"
      ]
     },
     "execution_count": 4,
     "metadata": {},
     "output_type": "execute_result"
    }
   ],
   "source": [
    "R.rref() # Find Reduced Row Echelon Form"
   ]
  },
  {
   "cell_type": "code",
   "execution_count": 5,
   "id": "d46e8dd4",
   "metadata": {},
   "outputs": [
    {
     "data": {
      "text/latex": [
       "$\\displaystyle \\left[\\begin{array}{c}- 3 z - 2\\\\\\frac{19 z}{2} + 2\\\\\\frac{9 z}{2}\\\\z\\end{array}\\right]$"
      ],
      "text/plain": [
       "Matrix([\n",
       "[  -3*z - 2]\n",
       "[19*z/2 + 2]\n",
       "[     9*z/2]\n",
       "[         z]\n",
       "])"
      ]
     },
     "execution_count": 5,
     "metadata": {},
     "output_type": "execute_result"
    }
   ],
   "source": [
    "A.solve(B)[0]  # Solve the system of equations represented by the augmented matrix"
   ]
  },
  {
   "cell_type": "markdown",
   "id": "782167ec",
   "metadata": {},
   "source": [
    "### Question 3(c)\n",
    "\n",
    "$$\\begin{cases} x &-& 4y &+& 2z &=& -2  \\\\\n",
    " x &+& 2y &-& 2z &=& -3  \\\\\n",
    " x &-& y && &=& 4 \\end{cases}$$\n"
   ]
  },
  {
   "cell_type": "code",
   "execution_count": 6,
   "id": "79d63aa8",
   "metadata": {},
   "outputs": [
    {
     "data": {
      "text/latex": [
       "$\\displaystyle \\left[\\begin{array}{ccc|c}1 & -4 & 2 & -2\\\\1 & 2 & -2 & -3\\\\1 & -1 & 0 & 4\\end{array}\\right]$"
      ],
      "text/plain": [
       "Matrix([\n",
       "[1, -4,  2 | -2]\n",
       "[1,  2, -2 | -3]\n",
       "[1, -1,  0 |  4]\n",
       "])"
      ]
     },
     "execution_count": 6,
     "metadata": {},
     "output_type": "execute_result"
    }
   ],
   "source": [
    "# add aug_pos to specify the position of the augmented column\n",
    "R = Matrix([[1, -4, 2, -2],\n",
    "            [1, 2, -2, -3],\n",
    "            [1, -1, 0, 4]], aug_pos = 2)\n",
    "\n",
    "R"
   ]
  },
  {
   "cell_type": "code",
   "execution_count": 7,
   "id": "0f29884b",
   "metadata": {},
   "outputs": [
    {
     "data": {
      "text/latex": [
       "$\\text{RREF}\\left\\{\\text{rref} = \\left[\\begin{array}{ccc|c}1 & 0 & - \\frac{2}{3} & 0\\\\0 & 1 & - \\frac{2}{3} & 0\\\\0 & 0 & 0 & 1\\end{array}\\right], \\quad\\text{pivots} = (0, 1, 3)\\right\\}$"
      ],
      "text/plain": [
       "RREF(rref=Matrix([\n",
       "[1, 0, -2/3 | 0]\n",
       "[0, 1, -2/3 | 0]\n",
       "[0, 0,    0 | 1]\n",
       "]), pivots=(0, 1, 3))"
      ]
     },
     "execution_count": 7,
     "metadata": {},
     "output_type": "execute_result"
    }
   ],
   "source": [
    "R.rref()"
   ]
  },
  {
   "cell_type": "code",
   "execution_count": 8,
   "id": "8d5afaf6",
   "metadata": {},
   "outputs": [
    {
     "data": {
      "text/latex": [
       "$\\text{RREF}\\left\\{\\text{rref} = \\left[\\begin{array}{ccc|c}1 & 0 & - \\frac{2}{3} & 0\\\\0 & 1 & - \\frac{2}{3} & 0\\\\0 & 0 & 0 & 1\\end{array}\\right], \\quad\\text{pivots} = (0, 1, 3)\\right\\}$"
      ],
      "text/plain": [
       "RREF(rref=Matrix([\n",
       "[1, 0, -2/3 | 0]\n",
       "[0, 1, -2/3 | 0]\n",
       "[0, 0,    0 | 1]\n",
       "]), pivots=(0, 1, 3))"
      ]
     },
     "metadata": {},
     "output_type": "display_data"
    },
    {
     "name": "stdout",
     "output_type": "stream",
     "text": [
      "Error raised due to inconsistent system: No solution found for the linear system. The system may be inconsistent.\n"
     ]
    }
   ],
   "source": [
    "A = R.select_cols(0, 1, 2)  # Remove the augmented column\n",
    "B = R.select_cols(3)  # Select the augmented column\n",
    "# Solve the system of equations represented by the augmented matrix\n",
    "try:\n",
    "    A.solve(B)\n",
    "except ValueError as e:\n",
    "    print(\"Error raised due to inconsistent system:\", e)"
   ]
  },
  {
   "cell_type": "markdown",
   "id": "61cb98ea",
   "metadata": {},
   "source": [
    "## Question 4\n",
    "\n",
    "Determine the values of $a$ and $b$ so that the linear system\n",
    "\n",
    "$$\\begin{cases} ax && &+& bz &=& 2  \\\\\n",
    " ax &+& ay &+& 4z &=& 4  \\\\\n",
    " && ay &+& 2z &=& b \\end{cases}$$\n",
    "\n",
    " a) has no solution \n",
    "\n",
    " b) has only one solution\n",
    " \n",
    " c) has infinite solution\n"
   ]
  },
  {
   "cell_type": "code",
   "execution_count": 9,
   "id": "bed828fd",
   "metadata": {},
   "outputs": [
    {
     "data": {
      "text/latex": [
       "$\\displaystyle \\left[\\begin{array}{ccc|c}a & 0 & b & 2\\\\a & a & 4 & 4\\\\0 & a & 2 & b\\end{array}\\right]$"
      ],
      "text/plain": [
       "Matrix([\n",
       "[a, 0, b | 2]\n",
       "[a, a, 4 | 4]\n",
       "[0, a, 2 | b]\n",
       "])"
      ]
     },
     "execution_count": 9,
     "metadata": {},
     "output_type": "execute_result"
    }
   ],
   "source": [
    "a, b = sym.symbols('a b') # Define symbolic variables\n",
    "\n",
    "mat = Matrix([[a, 0, b, 2],\n",
    "              [a, a, 4, 4],\n",
    "              [0, a, 2, b]], aug_pos=2)\n",
    "\n",
    "mat"
   ]
  },
  {
   "cell_type": "code",
   "execution_count": 10,
   "id": "10351e50",
   "metadata": {},
   "outputs": [
    {
     "data": {
      "text/latex": [
       "$\\displaystyle R_2 - \\left(1\\right)R_1 \\rightarrow R_2$"
      ],
      "text/plain": [
       "<IPython.core.display.Math object>"
      ]
     },
     "metadata": {},
     "output_type": "display_data"
    },
    {
     "data": {
      "text/latex": [
       "$\\displaystyle \\left[\\begin{array}{ccc|c}a & 0 & b & 2\\\\0 & a & 4 - b & 2\\\\0 & a & 2 & b\\end{array}\\right]$"
      ],
      "text/plain": [
       "Matrix([\n",
       "[a, 0,     b | 2]\n",
       "[0, a, 4 - b | 2]\n",
       "[0, a,     2 | b]\n",
       "])"
      ]
     },
     "metadata": {},
     "output_type": "display_data"
    },
    {
     "name": "stdout",
     "output_type": "stream",
     "text": [
      "\n",
      "\n"
     ]
    },
    {
     "data": {
      "text/latex": [
       "$\\displaystyle R_3 - \\left(1\\right)R_2 \\rightarrow R_3$"
      ],
      "text/plain": [
       "<IPython.core.display.Math object>"
      ]
     },
     "metadata": {},
     "output_type": "display_data"
    },
    {
     "data": {
      "text/latex": [
       "$\\displaystyle \\left[\\begin{array}{ccc|c}a & 0 & b & 2\\\\0 & a & 4 - b & 2\\\\0 & 0 & b - 2 & b - 2\\end{array}\\right]$"
      ],
      "text/plain": [
       "Matrix([\n",
       "[a, 0,     b |     2]\n",
       "[0, a, 4 - b |     2]\n",
       "[0, 0, b - 2 | b - 2]\n",
       "])"
      ]
     },
     "metadata": {},
     "output_type": "display_data"
    },
    {
     "name": "stdout",
     "output_type": "stream",
     "text": [
      "\n",
      "\n"
     ]
    }
   ],
   "source": [
    "plu = mat.ref()"
   ]
  },
  {
   "cell_type": "markdown",
   "id": "07a57646",
   "metadata": {},
   "source": [
    "### a) has no solution"
   ]
  },
  {
   "cell_type": "code",
   "execution_count": 11,
   "id": "ed888cda",
   "metadata": {},
   "outputs": [
    {
     "data": {
      "text/latex": [
       "$\\displaystyle \\left[\\begin{array}{ccc|c}0 & 0 & b & 2\\\\0 & 0 & 4 - b & 2\\\\0 & 0 & b - 2 & b - 2\\end{array}\\right]$"
      ],
      "text/plain": [
       "Matrix([\n",
       "[0, 0,     b |     2]\n",
       "[0, 0, 4 - b |     2]\n",
       "[0, 0, b - 2 | b - 2]\n",
       "])"
      ]
     },
     "execution_count": 11,
     "metadata": {},
     "output_type": "execute_result"
    }
   ],
   "source": [
    "# Case 1: b != 2, a = 0\n",
    "plu.U.subs({a: 0})"
   ]
  },
  {
   "cell_type": "code",
   "execution_count": 12,
   "id": "85956a4d",
   "metadata": {},
   "outputs": [
    {
     "data": {
      "text/latex": [
       "$\\text{RREF}\\left\\{\\text{rref} = \\left[\\begin{array}{ccc|c}0 & 0 & 1 & 0\\\\0 & 0 & 0 & 1\\\\0 & 0 & 0 & 0\\end{array}\\right], \\quad\\text{pivots} = (2, 3)\\right\\}$"
      ],
      "text/plain": [
       "RREF(rref=Matrix([\n",
       "[0, 0, 1 | 0]\n",
       "[0, 0, 0 | 1]\n",
       "[0, 0, 0 | 0]\n",
       "]), pivots=(2, 3))"
      ]
     },
     "execution_count": 12,
     "metadata": {},
     "output_type": "execute_result"
    }
   ],
   "source": [
    "plu.U.subs({a: 0}).rref()"
   ]
  },
  {
   "cell_type": "markdown",
   "id": "8731a1c5",
   "metadata": {},
   "source": [
    "### b) has only one solution"
   ]
  },
  {
   "cell_type": "code",
   "execution_count": 13,
   "id": "4d7e6bbd",
   "metadata": {},
   "outputs": [
    {
     "data": {
      "text/latex": [
       "$\\text{RREF}\\left\\{\\text{rref} = \\left[\\begin{array}{ccc|c}1 & 0 & 0 & \\frac{2 - b}{a}\\\\0 & 1 & 0 & \\frac{b - 2}{a}\\\\0 & 0 & 1 & 1\\end{array}\\right], \\quad\\text{pivots} = (0, 1, 2)\\right\\}$"
      ],
      "text/plain": [
       "RREF(rref=Matrix([\n",
       "[1, 0, 0 | (2 - b)/a]\n",
       "[0, 1, 0 | (b - 2)/a]\n",
       "[0, 0, 1 |         1]\n",
       "]), pivots=(0, 1, 2))"
      ]
     },
     "execution_count": 13,
     "metadata": {},
     "output_type": "execute_result"
    }
   ],
   "source": [
    "# Case 2: b != 2, a != 0\n",
    "\n",
    "plu.U.rref()"
   ]
  },
  {
   "cell_type": "markdown",
   "id": "273b85cb",
   "metadata": {},
   "source": [
    "### c) has infinitely many solutions and a general solution has one arbitrary parameter"
   ]
  },
  {
   "cell_type": "code",
   "execution_count": 14,
   "id": "91be3816",
   "metadata": {},
   "outputs": [
    {
     "data": {
      "text/latex": [
       "$\\text{RREF}\\left\\{\\text{rref} = \\left[\\begin{array}{ccc|c}1 & 0 & \\frac{2}{a} & \\frac{2}{a}\\\\0 & 1 & \\frac{2}{a} & \\frac{2}{a}\\\\0 & 0 & 0 & 0\\end{array}\\right], \\quad\\text{pivots} = (0, 1)\\right\\}$"
      ],
      "text/plain": [
       "RREF(rref=Matrix([\n",
       "[1, 0, 2/a | 2/a]\n",
       "[0, 1, 2/a | 2/a]\n",
       "[0, 0,   0 |   0]\n",
       "]), pivots=(0, 1))"
      ]
     },
     "execution_count": 14,
     "metadata": {},
     "output_type": "execute_result"
    }
   ],
   "source": [
    "# Case 3: b = 2, a != 0\n",
    "plu.U.subs({b: 2}).rref()  # substitute b = 2"
   ]
  },
  {
   "cell_type": "markdown",
   "id": "ad1e564b",
   "metadata": {},
   "source": [
    "### d) has infinitely many solutions and a general solution has two arbitrary parameters."
   ]
  },
  {
   "cell_type": "code",
   "execution_count": 15,
   "id": "3d376f77",
   "metadata": {},
   "outputs": [
    {
     "data": {
      "text/latex": [
       "$\\text{RREF}\\left\\{\\text{rref} = \\left[\\begin{array}{ccc|c}0 & 0 & 1 & 1\\\\0 & 0 & 0 & 0\\\\0 & 0 & 0 & 0\\end{array}\\right], \\quad\\text{pivots} = (2,)\\right\\}$"
      ],
      "text/plain": [
       "RREF(rref=Matrix([\n",
       "[0, 0, 1 | 1]\n",
       "[0, 0, 0 | 0]\n",
       "[0, 0, 0 | 0]\n",
       "]), pivots=(2,))"
      ]
     },
     "execution_count": 15,
     "metadata": {},
     "output_type": "execute_result"
    }
   ],
   "source": [
    "# Case 4: b = 2, a = 0\n",
    "plu.U.subs({a: 0, b: 2}).rref()  # substitute a = 0 and b = 2"
   ]
  },
  {
   "cell_type": "markdown",
   "id": "cbbc0bbc",
   "metadata": {},
   "source": [
    "## Question 6\n",
    "\n",
    "Solve the following system of non-linear equations:\n",
    "\n",
    "$$\\begin{cases} x^2 &-& y^2 &+& 2z^2 &=& 6  \\\\\n",
    " 2x^2 &+& 2y^2 &-& 5z^2 &=& 3  \\\\\n",
    " 2x^2 &+& 5y^2 &+& z^2 &=& 9 \\end{cases}$$"
   ]
  },
  {
   "cell_type": "code",
   "execution_count": 16,
   "id": "d4fe0dae",
   "metadata": {},
   "outputs": [
    {
     "data": {
      "text/latex": [
       "$\\displaystyle \\left[\\begin{array}{ccc|c}1 & -1 & 2 & 6\\\\2 & 2 & -5 & 3\\\\2 & 5 & 1 & 9\\end{array}\\right]$"
      ],
      "text/plain": [
       "Matrix([\n",
       "[1, -1,  2 | 6]\n",
       "[2,  2, -5 | 3]\n",
       "[2,  5,  1 | 9]\n",
       "])"
      ]
     },
     "execution_count": 16,
     "metadata": {},
     "output_type": "execute_result"
    }
   ],
   "source": [
    "mat = Matrix([[1, -1, 2, 6],\n",
    "              [2, 2, -5, 3],\n",
    "              [2, 5, 1, 9]], aug_pos=2)\n",
    "\n",
    "mat"
   ]
  },
  {
   "cell_type": "code",
   "execution_count": 17,
   "id": "236d33fc",
   "metadata": {},
   "outputs": [
    {
     "data": {
      "text/latex": [
       "$\\text{RREF}\\left\\{\\text{rref} = \\left[\\begin{array}{ccc|c}1 & 0 & 0 & 4\\\\0 & 1 & 0 & 0\\\\0 & 0 & 1 & 1\\end{array}\\right], \\quad\\text{pivots} = (0, 1, 2)\\right\\}$"
      ],
      "text/plain": [
       "RREF(rref=Matrix([\n",
       "[1, 0, 0 | 4]\n",
       "[0, 1, 0 | 0]\n",
       "[0, 0, 1 | 1]\n",
       "]), pivots=(0, 1, 2))"
      ]
     },
     "execution_count": 17,
     "metadata": {},
     "output_type": "execute_result"
    }
   ],
   "source": [
    "mat.rref()"
   ]
  },
  {
   "cell_type": "code",
   "execution_count": 18,
   "id": "c319ad8f",
   "metadata": {},
   "outputs": [
    {
     "data": {
      "text/latex": [
       "$\\displaystyle \\left( \\left[\\begin{array}{ccc}1 & -1 & 2\\\\2 & 2 & -5\\\\2 & 5 & 1\\end{array}\\right], \\  \\left[\\begin{array}{c}x^{2}\\\\y^{2}\\\\z^{2}\\end{array}\\right], \\  \\left[\\begin{array}{c}6\\\\3\\\\9\\end{array}\\right]\\right)$"
      ],
      "text/plain": [
       "⎛             ⎡ 2⎤     ⎞\n",
       "⎜             ⎢x ⎥     ⎟\n",
       "⎜⎡1  -1  2 ⎤  ⎢  ⎥  ⎡6⎤⎟\n",
       "⎜⎢         ⎥  ⎢ 2⎥  ⎢ ⎥⎟\n",
       "⎜⎢2  2   -5⎥, ⎢y ⎥, ⎢3⎥⎟\n",
       "⎜⎢         ⎥  ⎢  ⎥  ⎢ ⎥⎟\n",
       "⎜⎣2  5   1 ⎦  ⎢ 2⎥  ⎣9⎦⎟\n",
       "⎝             ⎣z ⎦     ⎠"
      ]
     },
     "execution_count": 18,
     "metadata": {},
     "output_type": "execute_result"
    }
   ],
   "source": [
    "# Alternative Method: Using sym.solve\n",
    "\n",
    "x, y, z = sym.symbols('x y z')  # Define symbolic variables for the solution\n",
    "\n",
    "vec = Matrix([x**2, y**2, z**2])  # Define a vector of symbolic variables\n",
    "\n",
    "mat = Matrix([[1, -1, 2],\n",
    "              [2, 2, -5],\n",
    "              [2, 5, 1]])\n",
    "\n",
    "aug = Matrix([6, 3, 9])\n",
    "\n",
    "mat, vec, aug"
   ]
  },
  {
   "cell_type": "code",
   "execution_count": 19,
   "id": "4ce0523b",
   "metadata": {},
   "outputs": [
    {
     "data": {
      "text/latex": [
       "$\\displaystyle \\left\\{ x : -2, \\  y : 0, \\  z : -1\\right\\}$"
      ],
      "text/plain": [
       "{x: -2, y: 0, z: -1}"
      ]
     },
     "metadata": {},
     "output_type": "display_data"
    },
    {
     "data": {
      "text/latex": [
       "$\\displaystyle \\left\\{ x : -2, \\  y : 0, \\  z : 1\\right\\}$"
      ],
      "text/plain": [
       "{x: -2, y: 0, z: 1}"
      ]
     },
     "metadata": {},
     "output_type": "display_data"
    },
    {
     "data": {
      "text/latex": [
       "$\\displaystyle \\left\\{ x : 2, \\  y : 0, \\  z : -1\\right\\}$"
      ],
      "text/plain": [
       "{x: 2, y: 0, z: -1}"
      ]
     },
     "metadata": {},
     "output_type": "display_data"
    },
    {
     "data": {
      "text/latex": [
       "$\\displaystyle \\left\\{ x : 2, \\  y : 0, \\  z : 1\\right\\}$"
      ],
      "text/plain": [
       "{x: 2, y: 0, z: 1}"
      ]
     },
     "metadata": {},
     "output_type": "display_data"
    }
   ],
   "source": [
    "# mat @ vec = aug\n",
    "# mat @ vec - aug = 0 ( solve linear by letting = 0)\n",
    "sols = sym.solve(mat @ vec - aug)  # Solve the system of equations\n",
    "for sol in sols:\n",
    "    display(sol)  # Print the solutions for each variable"
   ]
  },
  {
   "cell_type": "markdown",
   "id": "0a053d03",
   "metadata": {},
   "source": [
    "## Question 7\n",
    "\n",
    "A network of one-way streets of a downtown section can be represented by the diagram below, with traffic flowing in the direction indicated. The average hourly volume of traffic entering and leaving this section during rush hour is given in the diagram.\n",
    "\n",
    "<img src=\"https://raw.githubusercontent.com/YeeShin504/linear-algebra/master/docs/assets/images/Tut01Q7.png\" alt=\"Tutorial 1 Question 7: Traffic Network\">"
   ]
  },
  {
   "cell_type": "markdown",
   "id": "2c0cc310",
   "metadata": {},
   "source": [
    "### (a)\n",
    "Do we have enough information to find the traffic volumes $x_1$, $x_2$, $x_3$, $x_4$, $x_5$, $x_6$, and $x_7$?"
   ]
  },
  {
   "cell_type": "code",
   "execution_count": 20,
   "id": "cb96102c",
   "metadata": {},
   "outputs": [
    {
     "data": {
      "text/latex": [
       "$\\displaystyle \\left[\\begin{array}{ccccccc|c}1 & 0 & 1 & 0 & 0 & 0 & 0 & 800\\\\1 & -1 & 0 & 1 & 0 & 0 & 0 & 200\\\\0 & 1 & 0 & 0 & -1 & 0 & 0 & 500\\\\0 & 0 & 1 & 0 & 0 & 1 & 0 & 750\\\\0 & 0 & 0 & -1 & 0 & -1 & 1 & -600\\\\0 & 0 & 0 & 0 & 1 & 0 & -1 & -50\\end{array}\\right]$"
      ],
      "text/plain": [
       "Matrix([\n",
       "[1,  0, 1,  0,  0,  0,  0 |  800]\n",
       "[1, -1, 0,  1,  0,  0,  0 |  200]\n",
       "[0,  1, 0,  0, -1,  0,  0 |  500]\n",
       "[0,  0, 1,  0,  0,  1,  0 |  750]\n",
       "[0,  0, 0, -1,  0, -1,  1 | -600]\n",
       "[0,  0, 0,  0,  1,  0, -1 |  -50]\n",
       "])"
      ]
     },
     "execution_count": 20,
     "metadata": {},
     "output_type": "execute_result"
    }
   ],
   "source": [
    "aug_mat = Matrix([[1, 0, 1, 0, 0, 0, 0, 800],\n",
    "                  [1, -1, 0, 1, 0, 0, 0, 200],\n",
    "                  [0, 1, 0, 0, -1, 0, 0, 500],\n",
    "                  [0, 0, 1, 0, 0, 1, 0, 750],\n",
    "                  [0, 0, 0, -1, 0, -1, 1, -600],\n",
    "                  [0, 0, 0, 0, 1, 0, -1, -50]], aug_pos=6)\n",
    "\n",
    "aug_mat"
   ]
  },
  {
   "cell_type": "code",
   "execution_count": 21,
   "id": "24ad7bd0",
   "metadata": {},
   "outputs": [
    {
     "data": {
      "text/latex": [
       "$\\text{RREF}\\left\\{\\text{rref} = \\left[\\begin{array}{ccccccc|c}1 & 0 & 0 & 0 & 0 & -1 & 0 & 50\\\\0 & 1 & 0 & 0 & 0 & 0 & -1 & 450\\\\0 & 0 & 1 & 0 & 0 & 1 & 0 & 750\\\\0 & 0 & 0 & 1 & 0 & 1 & -1 & 600\\\\0 & 0 & 0 & 0 & 1 & 0 & -1 & -50\\\\0 & 0 & 0 & 0 & 0 & 0 & 0 & 0\\end{array}\\right], \\quad\\text{pivots} = (0, 1, 2, 3, 4)\\right\\}$"
      ],
      "text/plain": [
       "RREF(rref=Matrix([\n",
       "[1, 0, 0, 0, 0, -1,  0 |  50]\n",
       "[0, 1, 0, 0, 0,  0, -1 | 450]\n",
       "[0, 0, 1, 0, 0,  1,  0 | 750]\n",
       "[0, 0, 0, 1, 0,  1, -1 | 600]\n",
       "[0, 0, 0, 0, 1,  0, -1 | -50]\n",
       "[0, 0, 0, 0, 0,  0,  0 |   0]\n",
       "]), pivots=(0, 1, 2, 3, 4))"
      ]
     },
     "execution_count": 21,
     "metadata": {},
     "output_type": "execute_result"
    }
   ],
   "source": [
    "aug_mat.rref()"
   ]
  },
  {
   "cell_type": "code",
   "execution_count": 25,
   "id": "53ea946f",
   "metadata": {},
   "outputs": [
    {
     "data": {
      "text/latex": [
       "$\\displaystyle \\left[\\begin{array}{c}y + 50\\\\z + 450\\\\750 - y\\\\- y + z + 600\\\\z - 50\\\\y\\\\z\\end{array}\\right]$"
      ],
      "text/plain": [
       "Matrix([\n",
       "[      y + 50]\n",
       "[     z + 450]\n",
       "[     750 - y]\n",
       "[-y + z + 600]\n",
       "[      z - 50]\n",
       "[           y]\n",
       "[           z]\n",
       "])"
      ]
     },
     "execution_count": 25,
     "metadata": {},
     "output_type": "execute_result"
    }
   ],
   "source": [
    "mat = aug_mat.select_cols(*range(7))\n",
    "aug = aug_mat.select_cols(7)\n",
    "\n",
    "sol = mat.solve(aug)[0]\n",
    "sol"
   ]
  },
  {
   "cell_type": "markdown",
   "id": "facae8b9",
   "metadata": {},
   "source": [
    "### (b)\n",
    "Suppose $x_6 = 50$ and $x_7 = 100$. What is $x_1$, $x_2$, $x_3$, $x_4$, and $x_5$?"
   ]
  },
  {
   "cell_type": "code",
   "execution_count": 23,
   "id": "81e7cd76",
   "metadata": {},
   "outputs": [
    {
     "data": {
      "text/latex": [
       "$\\displaystyle \\left[\\begin{array}{c}100\\\\550\\\\700\\\\650\\\\50\\\\50\\\\100\\end{array}\\right]$"
      ],
      "text/plain": [
       "Matrix([\n",
       "[100]\n",
       "[550]\n",
       "[700]\n",
       "[650]\n",
       "[ 50]\n",
       "[ 50]\n",
       "[100]\n",
       "])"
      ]
     },
     "execution_count": 23,
     "metadata": {},
     "output_type": "execute_result"
    }
   ],
   "source": [
    "y = sol[5]\n",
    "z = sol[6]\n",
    "sol.subs({y: 50, z: 100})  # Substitute y and z with specified values"
   ]
  },
  {
   "cell_type": "markdown",
   "id": "160d87f6",
   "metadata": {},
   "source": [
    "### (c) \n",
    "Can the road between junction A and B be closed for construction while still keeping the traffic flowing in the same directions on the other streets? Explain."
   ]
  },
  {
   "cell_type": "code",
   "execution_count": 24,
   "id": "88fb9f95",
   "metadata": {},
   "outputs": [
    {
     "data": {
      "text/latex": [
       "$\\displaystyle \\left[\\begin{array}{c}0\\\\z + 450\\\\800\\\\z + 650\\\\z - 50\\\\-50\\\\z\\end{array}\\right]$"
      ],
      "text/plain": [
       "Matrix([\n",
       "[      0]\n",
       "[z + 450]\n",
       "[    800]\n",
       "[z + 650]\n",
       "[ z - 50]\n",
       "[    -50]\n",
       "[      z]\n",
       "])"
      ]
     },
     "execution_count": 24,
     "metadata": {},
     "output_type": "execute_result"
    }
   ],
   "source": [
    "sol.subs({y: -50}) # Set sol[0] = 0"
   ]
  },
  {
   "cell_type": "code",
   "execution_count": null,
   "id": "72414028",
   "metadata": {},
   "outputs": [],
   "source": []
  }
 ],
 "metadata": {
  "kernelspec": {
   "display_name": "ma1522-linear-algebra (3.10.18)",
   "language": "python",
   "name": "python3"
  },
  "language_info": {
   "codemirror_mode": {
    "name": "ipython",
    "version": 3
   },
   "file_extension": ".py",
   "mimetype": "text/x-python",
   "name": "python",
   "nbconvert_exporter": "python",
   "pygments_lexer": "ipython3",
   "version": "3.10.18"
  }
 },
 "nbformat": 4,
 "nbformat_minor": 5
}

{
 "cells": [
  {
   "cell_type": "code",
   "execution_count": 1,
   "id": "4db6ac53",
   "metadata": {},
   "outputs": [],
   "source": [
    "# Required imports\n",
    "import sympy as sym\n",
    "import sys, os\n",
    "from ma1522 import Matrix\n"
   ]
  },
  {
   "cell_type": "markdown",
   "id": "e30ebc7f",
   "metadata": {},
   "source": [
    "### A is left inverse of X\n",
    "### X is the right inverse of A\n",
    "#### Find X"
   ]
  },
  {
   "cell_type": "code",
   "execution_count": 2,
   "id": "919cf1d2",
   "metadata": {},
   "outputs": [
    {
     "name": "stdout",
     "output_type": "stream",
     "text": [
      "Before RREF: [self | eye]\n"
     ]
    },
    {
     "data": {
      "text/latex": [
       "$\\displaystyle \\left[\\begin{array}{cccc|c|c|c}1 & 1 & 0 & 1 & 1 & 0 & 0\\\\0 & 1 & 1 & 0 & 0 & 1 & 0\\\\0 & 0 & 1 & 1 & 0 & 0 & 1\\end{array}\\right]$"
      ],
      "text/plain": [
       "Matrix([\n",
       "[1, 1, 0, 1 | 1 | 0 | 0] \n",
       "[0, 1, 1, 0 | 0 | 1 | 0] \n",
       "[0, 0, 1, 1 | 0 | 0 | 1] \n",
       "])"
      ]
     },
     "metadata": {},
     "output_type": "display_data"
    },
    {
     "name": "stdout",
     "output_type": "stream",
     "text": [
      "\n",
      "After RREF:\n"
     ]
    },
    {
     "data": {
      "text/latex": [
       "$\\text{RREF}\\left\\{\\text{rref} = \\left[\\begin{array}{cccc|c|c|c}1 & 0 & 0 & 2 & 1 & -1 & 1\\\\0 & 1 & 0 & -1 & 0 & 1 & -1\\\\0 & 0 & 1 & 1 & 0 & 0 & 1\\end{array}\\right], \\quad\\text{pivots} = (0, 1, 2)\\right\\}$"
      ],
      "text/plain": [
       "RREF(rref=Matrix([\n",
       "[1, 0, 0,  2 | 1 | -1 |  1] \n",
       "[0, 1, 0, -1 | 0 |  1 | -1] \n",
       "[0, 0, 1,  1 | 0 |  0 |  1] \n",
       "]), pivots=(0, 1, 2))"
      ]
     },
     "metadata": {},
     "output_type": "display_data"
    },
    {
     "data": {
      "text/latex": [
       "$\\displaystyle \\left[\\begin{array}{ccc}1 - 2 x_{4,1} & - 2 x_{4,2} - 1 & 1 - 2 x_{4,3}\\\\x_{4,1} & x_{4,2} + 1 & x_{4,3} - 1\\\\- x_{4,1} & - x_{4,2} & 1 - x_{4,3}\\\\x_{4,1} & x_{4,2} & x_{4,3}\\end{array}\\right]$"
      ],
      "text/plain": [
       "Matrix([\n",
       "[1 - 2*x_4,1, -2*x_4,2 - 1, 1 - 2*x_4,3]\n",
       "[      x_4,1,    x_4,2 + 1,   x_4,3 - 1]\n",
       "[     -x_4,1,       -x_4,2,   1 - x_4,3]\n",
       "[      x_4,1,        x_4,2,       x_4,3]\n",
       "])"
      ]
     },
     "execution_count": 2,
     "metadata": {},
     "output_type": "execute_result"
    }
   ],
   "source": [
    "A = Matrix([[1, 1, 0, 1],\n",
    "            [0, 1, 1, 0],\n",
    "            [0, 0, 1, 1]])\n",
    "X = A.inverse(\"right\", matrices=1, verbosity=1) \n",
    "X\n",
    "# matrices=2 separates X into two matrices, \n",
    "# the particular and general solution to see the results clearly"
   ]
  },
  {
   "cell_type": "markdown",
   "id": "96e24d43",
   "metadata": {},
   "source": [
    "### B is right inverse of X\n",
    "### X is the left inverse of B\n",
    "#### Find X"
   ]
  },
  {
   "cell_type": "code",
   "execution_count": 3,
   "id": "f4255c2f",
   "metadata": {},
   "outputs": [
    {
     "name": "stdout",
     "output_type": "stream",
     "text": [
      "Before RREF: [self^T | eye]\n"
     ]
    },
    {
     "data": {
      "text/latex": [
       "$\\displaystyle \\left[\\begin{array}{cccc|c|c|c}1 & 1 & 0 & 0 & 1 & 0 & 0\\\\0 & 1 & 1 & 0 & 0 & 1 & 0\\\\1 & 0 & 1 & 1 & 0 & 0 & 1\\end{array}\\right]$"
      ],
      "text/plain": [
       "Matrix([\n",
       "[1, 1, 0, 0 | 1 | 0 | 0] \n",
       "[0, 1, 1, 0 | 0 | 1 | 0] \n",
       "[1, 0, 1, 1 | 0 | 0 | 1] \n",
       "])"
      ]
     },
     "metadata": {},
     "output_type": "display_data"
    },
    {
     "name": "stdout",
     "output_type": "stream",
     "text": [
      "\n",
      "After RREF:\n"
     ]
    },
    {
     "data": {
      "text/latex": [
       "$\\text{RREF}\\left\\{\\text{rref} = \\left[\\begin{array}{cccc|c|c|c}1 & 0 & 0 & \\frac{1}{2} & \\frac{1}{2} & - \\frac{1}{2} & \\frac{1}{2}\\\\0 & 1 & 0 & - \\frac{1}{2} & \\frac{1}{2} & \\frac{1}{2} & - \\frac{1}{2}\\\\0 & 0 & 1 & \\frac{1}{2} & - \\frac{1}{2} & \\frac{1}{2} & \\frac{1}{2}\\end{array}\\right], \\quad\\text{pivots} = (0, 1, 2)\\right\\}$"
      ],
      "text/plain": [
       "RREF(rref=Matrix([\n",
       "[1, 0, 0,  1/2 |  1/2 | -1/2 |  1/2] \n",
       "[0, 1, 0, -1/2 |  1/2 |  1/2 | -1/2] \n",
       "[0, 0, 1,  1/2 | -1/2 |  1/2 |  1/2] \n",
       "]), pivots=(0, 1, 2))"
      ]
     },
     "metadata": {},
     "output_type": "display_data"
    },
    {
     "data": {
      "text/latex": [
       "$\\displaystyle \\left[\\begin{array}{cccc}\\frac{1}{2} - \\frac{x_{1,4}}{2} & \\frac{x_{1,4}}{2} + \\frac{1}{2} & - \\frac{x_{1,4}}{2} - \\frac{1}{2} & x_{1,4}\\\\- \\frac{x_{2,4}}{2} - \\frac{1}{2} & \\frac{x_{2,4}}{2} + \\frac{1}{2} & \\frac{1}{2} - \\frac{x_{2,4}}{2} & x_{2,4}\\\\\\frac{1}{2} - \\frac{x_{3,4}}{2} & \\frac{x_{3,4}}{2} - \\frac{1}{2} & \\frac{1}{2} - \\frac{x_{3,4}}{2} & x_{3,4}\\end{array}\\right]$"
      ],
      "text/plain": [
       "Matrix([\n",
       "[ 1/2 - x_1,4/2, x_1,4/2 + 1/2, -x_1,4/2 - 1/2, x_1,4]\n",
       "[-x_2,4/2 - 1/2, x_2,4/2 + 1/2,  1/2 - x_2,4/2, x_2,4]\n",
       "[ 1/2 - x_3,4/2, x_3,4/2 - 1/2,  1/2 - x_3,4/2, x_3,4]\n",
       "])"
      ]
     },
     "execution_count": 3,
     "metadata": {},
     "output_type": "execute_result"
    }
   ],
   "source": [
    "B = Matrix([[1, 0, 1],\n",
    "            [1, 1, 0],\n",
    "            [0, 1, 1],\n",
    "            [0, 0, 1]])\n",
    "Y = B.inverse(\"left\", matrices=1, verbosity=1)  # Find the left inverse of B\n",
    "Y"
   ]
  },
  {
   "cell_type": "markdown",
   "id": "26528c93",
   "metadata": {},
   "source": [
    "## Problem Solving Week 3 2a)"
   ]
  },
  {
   "cell_type": "markdown",
   "id": "4884ae1e",
   "metadata": {},
   "source": [
    "Find B, B is right inverse of A"
   ]
  },
  {
   "cell_type": "code",
   "execution_count": 4,
   "id": "5fb0a63f",
   "metadata": {},
   "outputs": [
    {
     "name": "stdout",
     "output_type": "stream",
     "text": [
      "Before RREF: [self | eye]\n"
     ]
    },
    {
     "data": {
      "text/latex": [
       "$\\displaystyle \\left[\\begin{array}{ccc|c|c}1 & 2 & 3 & 1 & 0\\\\1 & -1 & 0 & 0 & 1\\end{array}\\right]$"
      ],
      "text/plain": [
       "Matrix([\n",
       "[1,  2, 3 | 1 | 0] \n",
       "[1, -1, 0 | 0 | 1] \n",
       "])"
      ]
     },
     "metadata": {},
     "output_type": "display_data"
    },
    {
     "name": "stdout",
     "output_type": "stream",
     "text": [
      "\n",
      "After RREF:\n"
     ]
    },
    {
     "data": {
      "text/latex": [
       "$\\text{RREF}\\left\\{\\text{rref} = \\left[\\begin{array}{ccc|c|c}1 & 0 & 1 & \\frac{1}{3} & \\frac{2}{3}\\\\0 & 1 & 1 & \\frac{1}{3} & - \\frac{1}{3}\\end{array}\\right], \\quad\\text{pivots} = (0, 1)\\right\\}$"
      ],
      "text/plain": [
       "RREF(rref=Matrix([\n",
       "[1, 0, 1 | 1/3 |  2/3] \n",
       "[0, 1, 1 | 1/3 | -1/3] \n",
       "]), pivots=(0, 1))"
      ]
     },
     "metadata": {},
     "output_type": "display_data"
    },
    {
     "data": {
      "text/latex": [
       "$\\displaystyle \\left[\\begin{array}{cc}\\frac{1}{3} - x_{3,1} & \\frac{2}{3} - x_{3,2}\\\\\\frac{1}{3} - x_{3,1} & - x_{3,2} - \\frac{1}{3}\\\\x_{3,1} & x_{3,2}\\end{array}\\right]$"
      ],
      "text/plain": [
       "Matrix([\n",
       "[1/3 - x_3,1,  2/3 - x_3,2]\n",
       "[1/3 - x_3,1, -x_3,2 - 1/3]\n",
       "[      x_3,1,        x_3,2]\n",
       "])"
      ]
     },
     "execution_count": 4,
     "metadata": {},
     "output_type": "execute_result"
    }
   ],
   "source": [
    "A = Matrix.from_str(\"1 2 3; 1 -1 0\")\n",
    "A.inverse(\"right\", matrices=1, verbosity=1)"
   ]
  },
  {
   "cell_type": "code",
   "execution_count": 5,
   "id": "356cfb4b",
   "metadata": {},
   "outputs": [
    {
     "data": {
      "text/latex": [
       "$\\displaystyle \\left[\\begin{array}{cc}0.333333333333333 - s_{1} & 0.666666666666667 - s_{2}\\\\0.333333333333333 - s_{1} & - s_{2} - 0.333333333333333\\\\s_{1} & s_{2}\\end{array}\\right]$"
      ],
      "text/plain": [
       "Matrix([\n",
       "[0.333333333333333 - s1,  0.666666666666667 - s2]\n",
       "[0.333333333333333 - s1, -s2 - 0.333333333333333]\n",
       "[                    s1,                      s2]\n",
       "])"
      ]
     },
     "execution_count": 5,
     "metadata": {},
     "output_type": "execute_result"
    }
   ],
   "source": [
    "s1, s2 = sym.symbols('s1 s2')\n",
    "\n",
    "R = Matrix([[(1/3)-s1, (2/3)-s2],\n",
    "            [(1/3)-s1, -s2-(1/3)],\n",
    "            [s1, s2]])\n",
    "R"
   ]
  },
  {
   "cell_type": "code",
   "execution_count": 6,
   "id": "0c96f094",
   "metadata": {},
   "outputs": [
    {
     "data": {
      "text/latex": [
       "$\\displaystyle \\left[\\begin{array}{cc}1.0 & 0\\\\0 & 1.0\\end{array}\\right]$"
      ],
      "text/plain": [
       "Matrix([\n",
       "[1.0,   0]\n",
       "[  0, 1.0]\n",
       "])"
      ]
     },
     "execution_count": 6,
     "metadata": {},
     "output_type": "execute_result"
    }
   ],
   "source": [
    "A@R.subs({s1:1, s2:1})"
   ]
  },
  {
   "cell_type": "code",
   "execution_count": 7,
   "id": "9ebe925a",
   "metadata": {},
   "outputs": [
    {
     "data": {
      "text/latex": [
       "$\\displaystyle \\left[\\begin{array}{ccc}-1.0 & -1.0 & -2.0\\\\-2.0 & -2.22044604925031 \\cdot 10^{-16} & -2.0\\\\2 & 1 & 3\\end{array}\\right]$"
      ],
      "text/plain": [
       "Matrix([\n",
       "[-1.0,                  -1.0, -2.0]\n",
       "[-2.0, -2.22044604925031e-16, -2.0]\n",
       "[   2,                     1,    3]\n",
       "])"
      ]
     },
     "execution_count": 7,
     "metadata": {},
     "output_type": "execute_result"
    }
   ],
   "source": [
    "R.subs({s1:1, s2:1})@A"
   ]
  },
  {
   "cell_type": "code",
   "execution_count": 8,
   "id": "808d5a80",
   "metadata": {},
   "outputs": [
    {
     "name": "stdout",
     "output_type": "stream",
     "text": [
      "Before RREF: [self^T | eye]\n"
     ]
    },
    {
     "data": {
      "text/latex": [
       "$\\displaystyle \\left[\\begin{array}{cc|c|c|c}1 & 1 & 1 & 0 & 0\\\\2 & -1 & 0 & 1 & 0\\\\3 & 0 & 0 & 0 & 1\\end{array}\\right]$"
      ],
      "text/plain": [
       "Matrix([\n",
       "[1,  1 | 1 | 0 | 0] \n",
       "[2, -1 | 0 | 1 | 0] \n",
       "[3,  0 | 0 | 0 | 1] \n",
       "])"
      ]
     },
     "metadata": {},
     "output_type": "display_data"
    },
    {
     "name": "stdout",
     "output_type": "stream",
     "text": [
      "\n",
      "After RREF:\n"
     ]
    },
    {
     "data": {
      "text/latex": [
       "$\\text{RREF}\\left\\{\\text{rref} = \\left[\\begin{array}{cc|c|c|c}1 & 0 & 0 & 0 & \\frac{1}{3}\\\\0 & 1 & 0 & -1 & \\frac{2}{3}\\\\0 & 0 & 1 & 1 & -1\\end{array}\\right], \\quad\\text{pivots} = (0, 1, 2)\\right\\}$"
      ],
      "text/plain": [
       "RREF(rref=Matrix([\n",
       "[1, 0 | 0 |  0 | 1/3] \n",
       "[0, 1 | 0 | -1 | 2/3] \n",
       "[0, 0 | 1 |  1 |  -1] \n",
       "]), pivots=(0, 1, 2))"
      ]
     },
     "metadata": {},
     "output_type": "display_data"
    },
    {
     "ename": "ValueError",
     "evalue": "No left inverse found! Try pseudo-inverse: .pinv()",
     "output_type": "error",
     "traceback": [
      "\u001b[0;31m---------------------------------------------------------------------------\u001b[0m",
      "\u001b[0;31mValueError\u001b[0m                                Traceback (most recent call last)",
      "Cell \u001b[0;32mIn[8], line 1\u001b[0m\n\u001b[0;32m----> 1\u001b[0m \u001b[43mA\u001b[49m\u001b[38;5;241;43m.\u001b[39;49m\u001b[43minverse\u001b[49m\u001b[43m(\u001b[49m\u001b[38;5;124;43m\"\u001b[39;49m\u001b[38;5;124;43mleft\u001b[39;49m\u001b[38;5;124;43m\"\u001b[39;49m\u001b[43m,\u001b[49m\u001b[43m \u001b[49m\u001b[43mmatrices\u001b[49m\u001b[38;5;241;43m=\u001b[39;49m\u001b[38;5;241;43m1\u001b[39;49m\u001b[43m,\u001b[49m\u001b[43m \u001b[49m\u001b[43mverbosity\u001b[49m\u001b[38;5;241;43m=\u001b[39;49m\u001b[38;5;241;43m1\u001b[39;49m\u001b[43m)\u001b[49m\n",
      "File \u001b[0;32m~/Documents/GitHub/linear-algebra/src/ma1522/symbolic.py:1971\u001b[0m, in \u001b[0;36mMatrix.inverse\u001b[0;34m(self, option, matrices, verbosity)\u001b[0m\n\u001b[1;32m   1969\u001b[0m     X \u001b[38;5;241m=\u001b[39m X\u001b[38;5;241m.\u001b[39msubs(sol)\n\u001b[1;32m   1970\u001b[0m \u001b[38;5;28;01melse\u001b[39;00m:\n\u001b[0;32m-> 1971\u001b[0m     \u001b[38;5;28;01mraise\u001b[39;00m \u001b[38;5;167;01mValueError\u001b[39;00m(\n\u001b[1;32m   1972\u001b[0m         \u001b[38;5;124mf\u001b[39m\u001b[38;5;124m\"\u001b[39m\u001b[38;5;124mNo \u001b[39m\u001b[38;5;132;01m{\u001b[39;00moption\u001b[38;5;132;01m}\u001b[39;00m\u001b[38;5;124m inverse found! Try pseudo-inverse: .pinv()\u001b[39m\u001b[38;5;124m\"\u001b[39m\n\u001b[1;32m   1973\u001b[0m     )\n\u001b[1;32m   1975\u001b[0m \u001b[38;5;28;01mif\u001b[39;00m matrices \u001b[38;5;241m==\u001b[39m \u001b[38;5;241m1\u001b[39m:\n\u001b[1;32m   1976\u001b[0m     \u001b[38;5;28;01mreturn\u001b[39;00m X\n",
      "\u001b[0;31mValueError\u001b[0m: No left inverse found! Try pseudo-inverse: .pinv()"
     ]
    }
   ],
   "source": [
    "A.inverse(\"left\", matrices=1, verbosity=1)"
   ]
  },
  {
   "cell_type": "markdown",
   "id": "2e5a472e",
   "metadata": {},
   "source": [
    "Error means no left innverse for A, since the system is inconsistent"
   ]
  },
  {
   "cell_type": "code",
   "execution_count": null,
   "id": "3aee19fa",
   "metadata": {},
   "outputs": [],
   "source": []
  }
 ],
 "metadata": {
  "kernelspec": {
   "display_name": "ma1522-linear-algebra (3.10.18)",
   "language": "python",
   "name": "python3"
  },
  "language_info": {
   "codemirror_mode": {
    "name": "ipython",
    "version": 3
   },
   "file_extension": ".py",
   "mimetype": "text/x-python",
   "name": "python",
   "nbconvert_exporter": "python",
   "pygments_lexer": "ipython3",
   "version": "3.10.18"
  }
 },
 "nbformat": 4,
 "nbformat_minor": 5
}

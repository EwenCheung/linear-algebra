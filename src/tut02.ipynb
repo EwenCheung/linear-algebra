{
 "cells": [
  {
   "cell_type": "markdown",
   "id": "21a764c9",
   "metadata": {},
   "source": [
    "# Tutorial 2 (AY24/25 Sem 1)"
   ]
  },
  {
   "cell_type": "code",
   "execution_count": 1,
   "id": "d5e1951c",
   "metadata": {},
   "outputs": [],
   "source": [
    "# Required imports\n",
    "import sympy as sym\n",
    "from ma1522 import Matrix, PartGen"
   ]
  },
  {
   "cell_type": "markdown",
   "id": "0eacceb6",
   "metadata": {},
   "source": [
    "## Question 2\n",
    "\n",
    "### (a)\n",
    "Let $A = \\begin{pmatrix} 1 & 1 & 0 & 1  \\\\  0 & 1 & 1 & 0  \\\\  0 & 0 & 1 & 1 \\end{pmatrix}$. Find a $4 \\times 3$ matrix $X$ such that $AX = I_3$."
   ]
  },
  {
   "cell_type": "code",
   "execution_count": 2,
   "id": "a7e2a69f",
   "metadata": {},
   "outputs": [
    {
     "data": {
      "text/latex": [
       "$\\displaystyle \\left[\\begin{array}{cccc}1 & 1 & 0 & 1\\\\0 & 1 & 1 & 0\\\\0 & 0 & 1 & 1\\end{array}\\right]$"
      ],
      "text/plain": [
       "Matrix([\n",
       "[1, 1, 0, 1]\n",
       "[0, 1, 1, 0]\n",
       "[0, 0, 1, 1]\n",
       "])"
      ]
     },
     "execution_count": 2,
     "metadata": {},
     "output_type": "execute_result"
    }
   ],
   "source": [
    "A = Matrix([[1, 1, 0, 1],\n",
    "            [0, 1, 1, 0],\n",
    "            [0, 0, 1, 1]])\n",
    "A"
   ]
  },
  {
   "cell_type": "code",
   "execution_count": 3,
   "id": "2cedc1e4",
   "metadata": {},
   "outputs": [
    {
     "name": "stdout",
     "output_type": "stream",
     "text": [
      "Before RREF: [self | eye]\n"
     ]
    },
    {
     "data": {
      "text/latex": [
       "$\\displaystyle \\left[\\begin{array}{cccc|c|c|c}1 & 1 & 0 & 1 & 1 & 0 & 0\\\\0 & 1 & 1 & 0 & 0 & 1 & 0\\\\0 & 0 & 1 & 1 & 0 & 0 & 1\\end{array}\\right]$"
      ],
      "text/plain": [
       "Matrix([\n",
       "[1, 1, 0, 1 | 1 | 0 | 0] \n",
       "[0, 1, 1, 0 | 0 | 1 | 0] \n",
       "[0, 0, 1, 1 | 0 | 0 | 1] \n",
       "])"
      ]
     },
     "metadata": {},
     "output_type": "display_data"
    },
    {
     "name": "stdout",
     "output_type": "stream",
     "text": [
      "\n",
      "After RREF:\n"
     ]
    },
    {
     "data": {
      "text/latex": [
       "$\\text{RREF}\\left\\{\\text{rref} = \\left[\\begin{array}{cccc|c|c|c}1 & 0 & 0 & 2 & 1 & -1 & 1\\\\0 & 1 & 0 & -1 & 0 & 1 & -1\\\\0 & 0 & 1 & 1 & 0 & 0 & 1\\end{array}\\right], \\quad\\text{pivots} = (0, 1, 2)\\right\\}$"
      ],
      "text/plain": [
       "RREF(rref=Matrix([\n",
       "[1, 0, 0,  2 | 1 | -1 |  1] \n",
       "[0, 1, 0, -1 | 0 |  1 | -1] \n",
       "[0, 0, 1,  1 | 0 |  0 |  1] \n",
       "]), pivots=(0, 1, 2))"
      ]
     },
     "metadata": {},
     "output_type": "display_data"
    },
    {
     "data": {
      "text/latex": [
       "$\\left(\\left[\\begin{array}{ccc}1 & -1 & 1\\\\0 & 1 & -1\\\\0 & 0 & 1\\\\0 & 0 & 0\\end{array}\\right] + \\left[\\begin{array}{ccc}- 2 x_{4,1} & - 2 x_{4,2} & - 2 x_{4,3}\\\\x_{4,1} & x_{4,2} & x_{4,3}\\\\- x_{4,1} & - x_{4,2} & - x_{4,3}\\\\x_{4,1} & x_{4,2} & x_{4,3}\\end{array}\\right]\\right)$"
      ],
      "text/plain": [
       "PartGen(part_sol=Matrix([\n",
       "[1, -1,  1]\n",
       "[0,  1, -1]\n",
       "[0,  0,  1]\n",
       "[0,  0,  0]\n",
       "]), gen_sol=Matrix([\n",
       "[-2*x_4,1, -2*x_4,2, -2*x_4,3]\n",
       "[   x_4,1,    x_4,2,    x_4,3]\n",
       "[  -x_4,1,   -x_4,2,   -x_4,3]\n",
       "[   x_4,1,    x_4,2,    x_4,3]\n",
       "]))"
      ]
     },
     "execution_count": 3,
     "metadata": {},
     "output_type": "execute_result"
    }
   ],
   "source": [
    "X = A.inverse(\"right\", matrices=2, verbosity=1) \n",
    "X\n",
    "# matrices=2 separates X into two matrices, the particular and general solution to see the results clearly"
   ]
  },
  {
   "cell_type": "markdown",
   "id": "300b50dd",
   "metadata": {},
   "source": [
    "### (b)\n",
    "\n",
    "Let $B = \\begin{pmatrix} 1 & 0 & 1  \\\\  1 & 1 & 0  \\\\  0 & 1 & 1  \\\\  0 & 0 & 1 \\end{pmatrix}$. Find a $3 \\times 4$ matrix $Y$ such that $YB = I_3$.\n"
   ]
  },
  {
   "cell_type": "code",
   "execution_count": 4,
   "id": "1b00ef6f",
   "metadata": {},
   "outputs": [
    {
     "data": {
      "text/latex": [
       "$\\displaystyle \\left[\\begin{array}{ccc}1 & 0 & 1\\\\1 & 1 & 0\\\\0 & 1 & 1\\\\0 & 0 & 1\\end{array}\\right]$"
      ],
      "text/plain": [
       "Matrix([\n",
       "[1, 0, 1]\n",
       "[1, 1, 0]\n",
       "[0, 1, 1]\n",
       "[0, 0, 1]\n",
       "])"
      ]
     },
     "execution_count": 4,
     "metadata": {},
     "output_type": "execute_result"
    }
   ],
   "source": [
    "B = Matrix.from_str(\"1 0 1; 1 1 0; 0 1 1; 0 0 1\", col_sep=\" \", row_sep=\";\")\n",
    "B = Matrix([[1, 0, 1],\n",
    "            [1, 1, 0],\n",
    "            [0, 1, 1],\n",
    "            [0, 0, 1]])\n",
    "B"
   ]
  },
  {
   "cell_type": "code",
   "execution_count": 5,
   "id": "1107b0de",
   "metadata": {},
   "outputs": [
    {
     "name": "stdout",
     "output_type": "stream",
     "text": [
      "Before RREF: [self^T | eye]\n"
     ]
    },
    {
     "data": {
      "text/latex": [
       "$\\displaystyle \\left[\\begin{array}{cccc|c|c|c}1 & 1 & 0 & 0 & 1 & 0 & 0\\\\0 & 1 & 1 & 0 & 0 & 1 & 0\\\\1 & 0 & 1 & 1 & 0 & 0 & 1\\end{array}\\right]$"
      ],
      "text/plain": [
       "Matrix([\n",
       "[1, 1, 0, 0 | 1 | 0 | 0] \n",
       "[0, 1, 1, 0 | 0 | 1 | 0] \n",
       "[1, 0, 1, 1 | 0 | 0 | 1] \n",
       "])"
      ]
     },
     "metadata": {},
     "output_type": "display_data"
    },
    {
     "name": "stdout",
     "output_type": "stream",
     "text": [
      "\n",
      "After RREF:\n"
     ]
    },
    {
     "data": {
      "text/latex": [
       "$\\text{RREF}\\left\\{\\text{rref} = \\left[\\begin{array}{cccc|c|c|c}1 & 0 & 0 & \\frac{1}{2} & \\frac{1}{2} & - \\frac{1}{2} & \\frac{1}{2}\\\\0 & 1 & 0 & - \\frac{1}{2} & \\frac{1}{2} & \\frac{1}{2} & - \\frac{1}{2}\\\\0 & 0 & 1 & \\frac{1}{2} & - \\frac{1}{2} & \\frac{1}{2} & \\frac{1}{2}\\end{array}\\right], \\quad\\text{pivots} = (0, 1, 2)\\right\\}$"
      ],
      "text/plain": [
       "RREF(rref=Matrix([\n",
       "[1, 0, 0,  1/2 |  1/2 | -1/2 |  1/2] \n",
       "[0, 1, 0, -1/2 |  1/2 |  1/2 | -1/2] \n",
       "[0, 0, 1,  1/2 | -1/2 |  1/2 |  1/2] \n",
       "]), pivots=(0, 1, 2))"
      ]
     },
     "metadata": {},
     "output_type": "display_data"
    },
    {
     "data": {
      "text/latex": [
       "$\\left(\\left[\\begin{array}{cccc}\\frac{1}{2} & \\frac{1}{2} & - \\frac{1}{2} & 0\\\\- \\frac{1}{2} & \\frac{1}{2} & \\frac{1}{2} & 0\\\\\\frac{1}{2} & - \\frac{1}{2} & \\frac{1}{2} & 0\\end{array}\\right] + \\left[\\begin{array}{cccc}- \\frac{x_{1,4}}{2} & \\frac{x_{1,4}}{2} & - \\frac{x_{1,4}}{2} & x_{1,4}\\\\- \\frac{x_{2,4}}{2} & \\frac{x_{2,4}}{2} & - \\frac{x_{2,4}}{2} & x_{2,4}\\\\- \\frac{x_{3,4}}{2} & \\frac{x_{3,4}}{2} & - \\frac{x_{3,4}}{2} & x_{3,4}\\end{array}\\right]\\right)$"
      ],
      "text/plain": [
       "PartGen(part_sol=Matrix([\n",
       "[ 1/2,  1/2, -1/2, 0]\n",
       "[-1/2,  1/2,  1/2, 0]\n",
       "[ 1/2, -1/2,  1/2, 0]\n",
       "]), gen_sol=Matrix([\n",
       "[-x_1,4/2, x_1,4/2, -x_1,4/2, x_1,4]\n",
       "[-x_2,4/2, x_2,4/2, -x_2,4/2, x_2,4]\n",
       "[-x_3,4/2, x_3,4/2, -x_3,4/2, x_3,4]\n",
       "]))"
      ]
     },
     "execution_count": 5,
     "metadata": {},
     "output_type": "execute_result"
    }
   ],
   "source": [
    "Y = B.inverse(\"left\", matrices=2, verbosity=1)  # Find the left inverse of B\n",
    "Y"
   ]
  },
  {
   "cell_type": "markdown",
   "id": "07d7590c",
   "metadata": {},
   "source": [
    "## Question 3\n",
    "\n",
    "(i) Reduce the following matrices $A$ to its reduced row-echelon form $R$.\n",
    "\n",
    "(ii) For each of the elementary row operation, write the corresponding elementary matrix.\n",
    "\n",
    "(iii) Write the matrices $A$ in the form $E_1 E_2 \\ldots E_n R$ where $E_1, E_2, \\ldots, E_n$ are elementary matrices and $R$ is the reduced row-echelon form of $A$."
   ]
  },
  {
   "cell_type": "markdown",
   "id": "bb0ad099",
   "metadata": {},
   "source": [
    "### (a)\n",
    "\n",
    "\n",
    "$A = \\begin{pmatrix} 5 & -2 & 6 & 0 \\\\ -2 & 1 & 3 & 1 \\end{pmatrix}$.\n"
   ]
  },
  {
   "cell_type": "code",
   "execution_count": 6,
   "id": "62cbd7cb",
   "metadata": {},
   "outputs": [
    {
     "data": {
      "text/latex": [
       "$\\displaystyle \\left[\\begin{array}{cccc}5 & -2 & 6 & 0\\\\-2 & 1 & 3 & 1\\end{array}\\right]$"
      ],
      "text/plain": [
       "Matrix([\n",
       "[ 5, -2, 6, 0]\n",
       "[-2,  1, 3, 1]\n",
       "])"
      ]
     },
     "execution_count": 6,
     "metadata": {},
     "output_type": "execute_result"
    }
   ],
   "source": [
    "A = Matrix([[5, -2, 6, 0],\n",
    "            [-2, 1, 3, 1]])\n",
    "A"
   ]
  },
  {
   "cell_type": "code",
   "execution_count": 7,
   "id": "9fffa482",
   "metadata": {},
   "outputs": [
    {
     "data": {
      "text/latex": [
       "$\\displaystyle R_2 - \\left(-0.4\\right)R_1 \\rightarrow R_2$"
      ],
      "text/plain": [
       "<IPython.core.display.Math object>"
      ]
     },
     "metadata": {},
     "output_type": "display_data"
    },
    {
     "data": {
      "text/latex": [
       "$\\displaystyle \\left[\\begin{array}{cccc}5 & -2 & 6 & 0\\\\0 & \\frac{1}{5} & \\frac{27}{5} & 1\\end{array}\\right]$"
      ],
      "text/plain": [
       "Matrix([\n",
       "[5,  -2,    6, 0]\n",
       "[0, 1/5, 27/5, 1]\n",
       "])"
      ]
     },
     "metadata": {},
     "output_type": "display_data"
    },
    {
     "name": "stdout",
     "output_type": "stream",
     "text": [
      "\n",
      "\n"
     ]
    },
    {
     "data": {
      "text/latex": [
       "$\\displaystyle \\left(0.2\\right) R_1 \\rightarrow R_1$"
      ],
      "text/plain": [
       "<IPython.core.display.Math object>"
      ]
     },
     "metadata": {},
     "output_type": "display_data"
    },
    {
     "data": {
      "text/latex": [
       "$\\displaystyle \\left[\\begin{array}{cccc}1 & - \\frac{2}{5} & \\frac{6}{5} & 0\\\\0 & \\frac{1}{5} & \\frac{27}{5} & 1\\end{array}\\right]$"
      ],
      "text/plain": [
       "Matrix([\n",
       "[1, -2/5,  6/5, 0]\n",
       "[0,  1/5, 27/5, 1]\n",
       "])"
      ]
     },
     "metadata": {},
     "output_type": "display_data"
    },
    {
     "name": "stdout",
     "output_type": "stream",
     "text": [
      "\n",
      "\n"
     ]
    },
    {
     "data": {
      "text/latex": [
       "$\\displaystyle \\left(5\\right) R_2 \\rightarrow R_2$"
      ],
      "text/plain": [
       "<IPython.core.display.Math object>"
      ]
     },
     "metadata": {},
     "output_type": "display_data"
    },
    {
     "data": {
      "text/latex": [
       "$\\displaystyle \\left[\\begin{array}{cccc}1 & - \\frac{2}{5} & \\frac{6}{5} & 0\\\\0 & 1 & 27 & 5\\end{array}\\right]$"
      ],
      "text/plain": [
       "Matrix([\n",
       "[1, -2/5, 6/5, 0]\n",
       "[0,    1,  27, 5]\n",
       "])"
      ]
     },
     "metadata": {},
     "output_type": "display_data"
    },
    {
     "name": "stdout",
     "output_type": "stream",
     "text": [
      "\n",
      "\n"
     ]
    },
    {
     "data": {
      "text/latex": [
       "$\\displaystyle R_1 - \\left(-0.4\\right)R_2 \\rightarrow R_1$"
      ],
      "text/plain": [
       "<IPython.core.display.Math object>"
      ]
     },
     "metadata": {},
     "output_type": "display_data"
    },
    {
     "data": {
      "text/latex": [
       "$\\displaystyle \\left[\\begin{array}{cccc}1 & 0 & 12 & 2\\\\0 & 1 & 27 & 5\\end{array}\\right]$"
      ],
      "text/plain": [
       "Matrix([\n",
       "[1, 0, 12, 2]\n",
       "[0, 1, 27, 5]\n",
       "])"
      ]
     },
     "metadata": {},
     "output_type": "display_data"
    },
    {
     "name": "stdout",
     "output_type": "stream",
     "text": [
      "\n",
      "\n"
     ]
    },
    {
     "data": {
      "text/latex": [
       "$\\displaystyle \\left[\\begin{array}{cccc}1 & 0 & 12 & 2\\\\0 & 1 & 27 & 5\\end{array}\\right]$"
      ],
      "text/plain": [
       "Matrix([\n",
       "[1, 0, 12, 2]\n",
       "[0, 1, 27, 5]\n",
       "])"
      ]
     },
     "execution_count": 7,
     "metadata": {},
     "output_type": "execute_result"
    }
   ],
   "source": [
    "# Tip: Use `copy()` to avoid modifying the original matrix so that \n",
    "# the same cell can be ran multiple times without side effects.\n",
    "\n",
    "(A.copy()\n",
    " .reduce_row(1, -2/5, 0) # R2 -> R2 - (-2/5)R1\n",
    " .scale_row(0, 1/5) # R1 -> (1/5)R1\n",
    " .scale_row(1, 5)\n",
    " .reduce_row(0, -2/5, 1))"
   ]
  },
  {
   "cell_type": "markdown",
   "id": "289efe86",
   "metadata": {},
   "source": [
    "### (b)\n",
    "$A = \\begin{pmatrix} -1 & 3 & -4 \\\\ 2 & 4 & 1 \\\\ -4 & 2 & -9 \\end{pmatrix}$."
   ]
  },
  {
   "cell_type": "code",
   "execution_count": 8,
   "id": "bb10c003",
   "metadata": {},
   "outputs": [
    {
     "data": {
      "text/latex": [
       "$\\displaystyle \\left[\\begin{array}{ccc}-1 & 3 & -4\\\\2 & 4 & 1\\\\-4 & 2 & -9\\end{array}\\right]$"
      ],
      "text/plain": [
       "Matrix([\n",
       "[-1, 3, -4]\n",
       "[ 2, 4,  1]\n",
       "[-4, 2, -9]\n",
       "])"
      ]
     },
     "execution_count": 8,
     "metadata": {},
     "output_type": "execute_result"
    }
   ],
   "source": [
    "A = Matrix([[-1, 3, -4],\n",
    "            [2, 4, 1],\n",
    "            [-4, 2, -9]])\n",
    "A"
   ]
  },
  {
   "cell_type": "code",
   "execution_count": 9,
   "id": "73dfb100",
   "metadata": {},
   "outputs": [
    {
     "data": {
      "text/latex": [
       "$\\displaystyle R_2 - \\left(-2\\right)R_1 \\rightarrow R_2$"
      ],
      "text/plain": [
       "<IPython.core.display.Math object>"
      ]
     },
     "metadata": {},
     "output_type": "display_data"
    },
    {
     "data": {
      "text/latex": [
       "$\\displaystyle \\left[\\begin{array}{ccc}-1 & 3 & -4\\\\0 & 10 & -7\\\\-4 & 2 & -9\\end{array}\\right]$"
      ],
      "text/plain": [
       "Matrix([\n",
       "[-1,  3, -4]\n",
       "[ 0, 10, -7]\n",
       "[-4,  2, -9]\n",
       "])"
      ]
     },
     "metadata": {},
     "output_type": "display_data"
    },
    {
     "name": "stdout",
     "output_type": "stream",
     "text": [
      "\n",
      "\n"
     ]
    },
    {
     "data": {
      "text/latex": [
       "$\\displaystyle R_3 - \\left(4\\right)R_1 \\rightarrow R_3$"
      ],
      "text/plain": [
       "<IPython.core.display.Math object>"
      ]
     },
     "metadata": {},
     "output_type": "display_data"
    },
    {
     "data": {
      "text/latex": [
       "$\\displaystyle \\left[\\begin{array}{ccc}-1 & 3 & -4\\\\0 & 10 & -7\\\\0 & -10 & 7\\end{array}\\right]$"
      ],
      "text/plain": [
       "Matrix([\n",
       "[-1,   3, -4]\n",
       "[ 0,  10, -7]\n",
       "[ 0, -10,  7]\n",
       "])"
      ]
     },
     "metadata": {},
     "output_type": "display_data"
    },
    {
     "name": "stdout",
     "output_type": "stream",
     "text": [
      "\n",
      "\n"
     ]
    },
    {
     "data": {
      "text/latex": [
       "$\\displaystyle R_3 - \\left(-1\\right)R_2 \\rightarrow R_3$"
      ],
      "text/plain": [
       "<IPython.core.display.Math object>"
      ]
     },
     "metadata": {},
     "output_type": "display_data"
    },
    {
     "data": {
      "text/latex": [
       "$\\displaystyle \\left[\\begin{array}{ccc}-1 & 3 & -4\\\\0 & 10 & -7\\\\0 & 0 & 0\\end{array}\\right]$"
      ],
      "text/plain": [
       "Matrix([\n",
       "[-1,  3, -4]\n",
       "[ 0, 10, -7]\n",
       "[ 0,  0,  0]\n",
       "])"
      ]
     },
     "metadata": {},
     "output_type": "display_data"
    },
    {
     "name": "stdout",
     "output_type": "stream",
     "text": [
      "\n",
      "\n"
     ]
    },
    {
     "data": {
      "text/latex": [
       "$\\displaystyle \\left(-1\\right) R_1 \\rightarrow R_1$"
      ],
      "text/plain": [
       "<IPython.core.display.Math object>"
      ]
     },
     "metadata": {},
     "output_type": "display_data"
    },
    {
     "data": {
      "text/latex": [
       "$\\displaystyle \\left[\\begin{array}{ccc}1 & -3 & 4\\\\0 & 10 & -7\\\\0 & 0 & 0\\end{array}\\right]$"
      ],
      "text/plain": [
       "Matrix([\n",
       "[1, -3,  4]\n",
       "[0, 10, -7]\n",
       "[0,  0,  0]\n",
       "])"
      ]
     },
     "metadata": {},
     "output_type": "display_data"
    },
    {
     "name": "stdout",
     "output_type": "stream",
     "text": [
      "\n",
      "\n"
     ]
    },
    {
     "data": {
      "text/latex": [
       "$\\displaystyle \\left(0.1\\right) R_2 \\rightarrow R_2$"
      ],
      "text/plain": [
       "<IPython.core.display.Math object>"
      ]
     },
     "metadata": {},
     "output_type": "display_data"
    },
    {
     "data": {
      "text/latex": [
       "$\\displaystyle \\left[\\begin{array}{ccc}1 & -3 & 4\\\\0 & 1 & - \\frac{7}{10}\\\\0 & 0 & 0\\end{array}\\right]$"
      ],
      "text/plain": [
       "Matrix([\n",
       "[1, -3,     4]\n",
       "[0,  1, -7/10]\n",
       "[0,  0,     0]\n",
       "])"
      ]
     },
     "metadata": {},
     "output_type": "display_data"
    },
    {
     "name": "stdout",
     "output_type": "stream",
     "text": [
      "\n",
      "\n"
     ]
    },
    {
     "data": {
      "text/latex": [
       "$\\displaystyle R_1 - \\left(-3\\right)R_2 \\rightarrow R_1$"
      ],
      "text/plain": [
       "<IPython.core.display.Math object>"
      ]
     },
     "metadata": {},
     "output_type": "display_data"
    },
    {
     "data": {
      "text/latex": [
       "$\\displaystyle \\left[\\begin{array}{ccc}1 & 0 & \\frac{19}{10}\\\\0 & 1 & - \\frac{7}{10}\\\\0 & 0 & 0\\end{array}\\right]$"
      ],
      "text/plain": [
       "Matrix([\n",
       "[1, 0, 19/10]\n",
       "[0, 1, -7/10]\n",
       "[0, 0,     0]\n",
       "])"
      ]
     },
     "metadata": {},
     "output_type": "display_data"
    },
    {
     "name": "stdout",
     "output_type": "stream",
     "text": [
      "\n",
      "\n"
     ]
    },
    {
     "data": {
      "text/latex": [
       "$\\displaystyle \\left[\\begin{array}{ccc}1 & 0 & \\frac{19}{10}\\\\0 & 1 & - \\frac{7}{10}\\\\0 & 0 & 0\\end{array}\\right]$"
      ],
      "text/plain": [
       "Matrix([\n",
       "[1, 0, 19/10]\n",
       "[0, 1, -7/10]\n",
       "[0, 0,     0]\n",
       "])"
      ]
     },
     "execution_count": 9,
     "metadata": {},
     "output_type": "execute_result"
    }
   ],
   "source": [
    "(A.copy()\n",
    " .reduce_row(1, -2, 0)\n",
    " .reduce_row(2, 4, 0)\n",
    " .reduce_row(2, -1, 1)\n",
    " .scale_row(0, -1)\n",
    " .scale_row(1, 1/10)\n",
    " .reduce_row(0, -3, 1)\n",
    ")"
   ]
  },
  {
   "cell_type": "markdown",
   "id": "c4ef7e0e",
   "metadata": {},
   "source": [
    "### (c)\n",
    "\n",
    "$A = \\begin{pmatrix} 1 & -1 & 0 \\\\ 2 & -2 & 1 \\\\ 1 & 2 & 3 \\end{pmatrix}$."
   ]
  },
  {
   "cell_type": "code",
   "execution_count": 10,
   "id": "b3c48a60",
   "metadata": {},
   "outputs": [
    {
     "data": {
      "text/latex": [
       "$\\displaystyle \\left[\\begin{array}{ccc}1 & -1 & 0\\\\2 & -2 & 1\\\\1 & 2 & 3\\end{array}\\right]$"
      ],
      "text/plain": [
       "Matrix([\n",
       "[1, -1, 0]\n",
       "[2, -2, 1]\n",
       "[1,  2, 3]\n",
       "])"
      ]
     },
     "execution_count": 10,
     "metadata": {},
     "output_type": "execute_result"
    }
   ],
   "source": [
    "A = Matrix.from_str(\"1 -1 0; 2 -2 1; 1 2 3\")\n",
    "A"
   ]
  },
  {
   "cell_type": "code",
   "execution_count": 11,
   "id": "7ec9f97d",
   "metadata": {},
   "outputs": [
    {
     "data": {
      "text/latex": [
       "$\\displaystyle R_2 - \\left(2\\right)R_1 \\rightarrow R_2$"
      ],
      "text/plain": [
       "<IPython.core.display.Math object>"
      ]
     },
     "metadata": {},
     "output_type": "display_data"
    },
    {
     "data": {
      "text/latex": [
       "$\\displaystyle \\left[\\begin{array}{ccc}1 & -1 & 0\\\\0 & 0 & 1\\\\1 & 2 & 3\\end{array}\\right]$"
      ],
      "text/plain": [
       "Matrix([\n",
       "[1, -1, 0]\n",
       "[0,  0, 1]\n",
       "[1,  2, 3]\n",
       "])"
      ]
     },
     "metadata": {},
     "output_type": "display_data"
    },
    {
     "name": "stdout",
     "output_type": "stream",
     "text": [
      "\n",
      "\n"
     ]
    },
    {
     "data": {
      "text/latex": [
       "$\\displaystyle R_3 - \\left(1\\right)R_1 \\rightarrow R_3$"
      ],
      "text/plain": [
       "<IPython.core.display.Math object>"
      ]
     },
     "metadata": {},
     "output_type": "display_data"
    },
    {
     "data": {
      "text/latex": [
       "$\\displaystyle \\left[\\begin{array}{ccc}1 & -1 & 0\\\\0 & 0 & 1\\\\0 & 3 & 3\\end{array}\\right]$"
      ],
      "text/plain": [
       "Matrix([\n",
       "[1, -1, 0]\n",
       "[0,  0, 1]\n",
       "[0,  3, 3]\n",
       "])"
      ]
     },
     "metadata": {},
     "output_type": "display_data"
    },
    {
     "name": "stdout",
     "output_type": "stream",
     "text": [
      "\n",
      "\n"
     ]
    },
    {
     "data": {
      "text/latex": [
       "$\\displaystyle R_2 \\leftrightarrow R_3$"
      ],
      "text/plain": [
       "<IPython.core.display.Math object>"
      ]
     },
     "metadata": {},
     "output_type": "display_data"
    },
    {
     "data": {
      "text/latex": [
       "$\\displaystyle \\left[\\begin{array}{ccc}1 & -1 & 0\\\\0 & 3 & 3\\\\0 & 0 & 1\\end{array}\\right]$"
      ],
      "text/plain": [
       "Matrix([\n",
       "[1, -1, 0]\n",
       "[0,  3, 3]\n",
       "[0,  0, 1]\n",
       "])"
      ]
     },
     "metadata": {},
     "output_type": "display_data"
    },
    {
     "name": "stdout",
     "output_type": "stream",
     "text": [
      "\n",
      "\n"
     ]
    },
    {
     "data": {
      "text/latex": [
       "$\\displaystyle \\left(\\frac{1}{3}\\right) R_2 \\rightarrow R_2$"
      ],
      "text/plain": [
       "<IPython.core.display.Math object>"
      ]
     },
     "metadata": {},
     "output_type": "display_data"
    },
    {
     "data": {
      "text/latex": [
       "$\\displaystyle \\left[\\begin{array}{ccc}1 & -1 & 0\\\\0 & 1 & 1\\\\0 & 0 & 1\\end{array}\\right]$"
      ],
      "text/plain": [
       "Matrix([\n",
       "[1, -1, 0]\n",
       "[0,  1, 1]\n",
       "[0,  0, 1]\n",
       "])"
      ]
     },
     "metadata": {},
     "output_type": "display_data"
    },
    {
     "name": "stdout",
     "output_type": "stream",
     "text": [
      "\n",
      "\n"
     ]
    },
    {
     "data": {
      "text/latex": [
       "$\\displaystyle R_2 - \\left(1\\right)R_3 \\rightarrow R_2$"
      ],
      "text/plain": [
       "<IPython.core.display.Math object>"
      ]
     },
     "metadata": {},
     "output_type": "display_data"
    },
    {
     "data": {
      "text/latex": [
       "$\\displaystyle \\left[\\begin{array}{ccc}1 & -1 & 0\\\\0 & 1 & 0\\\\0 & 0 & 1\\end{array}\\right]$"
      ],
      "text/plain": [
       "Matrix([\n",
       "[1, -1, 0]\n",
       "[0,  1, 0]\n",
       "[0,  0, 1]\n",
       "])"
      ]
     },
     "metadata": {},
     "output_type": "display_data"
    },
    {
     "name": "stdout",
     "output_type": "stream",
     "text": [
      "\n",
      "\n"
     ]
    },
    {
     "data": {
      "text/latex": [
       "$\\displaystyle R_1 - \\left(-1\\right)R_2 \\rightarrow R_1$"
      ],
      "text/plain": [
       "<IPython.core.display.Math object>"
      ]
     },
     "metadata": {},
     "output_type": "display_data"
    },
    {
     "data": {
      "text/latex": [
       "$\\displaystyle \\left[\\begin{array}{ccc}1 & 0 & 0\\\\0 & 1 & 0\\\\0 & 0 & 1\\end{array}\\right]$"
      ],
      "text/plain": [
       "Matrix([\n",
       "[1, 0, 0]\n",
       "[0, 1, 0]\n",
       "[0, 0, 1]\n",
       "])"
      ]
     },
     "metadata": {},
     "output_type": "display_data"
    },
    {
     "name": "stdout",
     "output_type": "stream",
     "text": [
      "\n",
      "\n"
     ]
    },
    {
     "data": {
      "text/latex": [
       "$\\displaystyle \\left[\\begin{array}{ccc}1 & 0 & 0\\\\0 & 1 & 0\\\\0 & 0 & 1\\end{array}\\right]$"
      ],
      "text/plain": [
       "Matrix([\n",
       "[1, 0, 0]\n",
       "[0, 1, 0]\n",
       "[0, 0, 1]\n",
       "])"
      ]
     },
     "execution_count": 11,
     "metadata": {},
     "output_type": "execute_result"
    }
   ],
   "source": [
    "(A.copy()\n",
    " .reduce_row(1, 2, 0)\n",
    " .reduce_row(2, 1, 0)\n",
    " .swap_row(1, 2)\n",
    " .scale_row(1, sym.Rational(1, 3)) # To avoid floating point errors\n",
    " .reduce_row(1, 1, 2)\n",
    " .reduce_row(0, -1, 1)\n",
    ")"
   ]
  },
  {
   "cell_type": "markdown",
   "id": "075d1d99",
   "metadata": {},
   "source": [
    "## Question 4\n",
    "\n",
    "Determine if the following matrices are invertible. If the matrix is invertible, find its inverse."
   ]
  },
  {
   "cell_type": "markdown",
   "id": "65bd2c83",
   "metadata": {},
   "source": [
    "### (a)\n",
    "\n",
    "$\\begin{pmatrix} -1 & 3 \\\\ 3 & -2 \\end{pmatrix}$."
   ]
  },
  {
   "cell_type": "code",
   "execution_count": 12,
   "id": "933c6dc6",
   "metadata": {},
   "outputs": [
    {
     "name": "stdout",
     "output_type": "stream",
     "text": [
      "Left inverse found!\n",
      "Right inverse found!\n",
      "Before RREF: [self | eye]\n"
     ]
    },
    {
     "data": {
      "text/latex": [
       "$\\displaystyle \\left[\\begin{array}{cc|c|c}-1 & 3 & 1 & 0\\\\3 & -2 & 0 & 1\\end{array}\\right]$"
      ],
      "text/plain": [
       "Matrix([\n",
       "[-1,  3 | 1 | 0] \n",
       "[ 3, -2 | 0 | 1] \n",
       "])"
      ]
     },
     "metadata": {},
     "output_type": "display_data"
    },
    {
     "name": "stdout",
     "output_type": "stream",
     "text": [
      "\n",
      "After RREF:\n"
     ]
    },
    {
     "data": {
      "text/latex": [
       "$\\text{RREF}\\left\\{\\text{rref} = \\left[\\begin{array}{cc|c|c}1 & 0 & \\frac{2}{7} & \\frac{3}{7}\\\\0 & 1 & \\frac{3}{7} & \\frac{1}{7}\\end{array}\\right], \\quad\\text{pivots} = (0, 1)\\right\\}$"
      ],
      "text/plain": [
       "RREF(rref=Matrix([\n",
       "[1, 0 | 2/7 | 3/7] \n",
       "[0, 1 | 3/7 | 1/7] \n",
       "]), pivots=(0, 1))"
      ]
     },
     "metadata": {},
     "output_type": "display_data"
    },
    {
     "data": {
      "text/latex": [
       "$\\displaystyle \\left[\\begin{array}{cc}\\frac{2}{7} & \\frac{3}{7}\\\\\\frac{3}{7} & \\frac{1}{7}\\end{array}\\right]$"
      ],
      "text/plain": [
       "Matrix([\n",
       "[2/7, 3/7]\n",
       "[3/7, 1/7]\n",
       "])"
      ]
     },
     "execution_count": 12,
     "metadata": {},
     "output_type": "execute_result"
    }
   ],
   "source": [
    "mat = Matrix([[-1, 3],\n",
    "              [3, -2]])\n",
    "mat.inverse(verbosity=2)"
   ]
  },
  {
   "cell_type": "markdown",
   "id": "b9310d97",
   "metadata": {},
   "source": [
    "### (b)\n",
    "\n",
    "$\\begin{pmatrix} -1 & 3 & -4 \\\\ 2 & 4 & 1 \\\\ -4 & 2 & -9 \\end{pmatrix}$."
   ]
  },
  {
   "cell_type": "code",
   "execution_count": 13,
   "id": "f6e1dc98",
   "metadata": {},
   "outputs": [
    {
     "name": "stdout",
     "output_type": "stream",
     "text": [
      "Error: No inverse found! Rank: 2, Rows: 3, Columns: 3. Try pseudo-inverse: .pinv()\n"
     ]
    }
   ],
   "source": [
    "mat = Matrix.from_str(\"-1 3 -4; 2 4 1; -4 2 -9\")\n",
    "\n",
    "try:\n",
    "    mat.inverse(verbosity=2) # without specifying the option, no rref will be shown\n",
    "except ValueError as e:\n",
    "    print(f\"Error: {e}\")"
   ]
  },
  {
   "cell_type": "code",
   "execution_count": 14,
   "id": "1d009382",
   "metadata": {},
   "outputs": [
    {
     "name": "stdout",
     "output_type": "stream",
     "text": [
      "Before RREF: [self | eye]\n"
     ]
    },
    {
     "data": {
      "text/latex": [
       "$\\displaystyle \\left[\\begin{array}{ccc|c|c|c}-1 & 3 & -4 & 1 & 0 & 0\\\\2 & 4 & 1 & 0 & 1 & 0\\\\-4 & 2 & -9 & 0 & 0 & 1\\end{array}\\right]$"
      ],
      "text/plain": [
       "Matrix([\n",
       "[-1, 3, -4 | 1 | 0 | 0] \n",
       "[ 2, 4,  1 | 0 | 1 | 0] \n",
       "[-4, 2, -9 | 0 | 0 | 1] \n",
       "])"
      ]
     },
     "metadata": {},
     "output_type": "display_data"
    },
    {
     "name": "stdout",
     "output_type": "stream",
     "text": [
      "\n",
      "After RREF:\n"
     ]
    },
    {
     "data": {
      "text/latex": [
       "$\\text{RREF}\\left\\{\\text{rref} = \\left[\\begin{array}{ccc|c|c|c}1 & 0 & \\frac{19}{10} & 0 & \\frac{1}{10} & - \\frac{1}{5}\\\\0 & 1 & - \\frac{7}{10} & 0 & \\frac{1}{5} & \\frac{1}{10}\\\\0 & 0 & 0 & 1 & - \\frac{1}{2} & - \\frac{1}{2}\\end{array}\\right], \\quad\\text{pivots} = (0, 1, 3)\\right\\}$"
      ],
      "text/plain": [
       "RREF(rref=Matrix([\n",
       "[1, 0, 19/10 | 0 | 1/10 | -1/5] \n",
       "[0, 1, -7/10 | 0 |  1/5 | 1/10] \n",
       "[0, 0,     0 | 1 | -1/2 | -1/2] \n",
       "]), pivots=(0, 1, 3))"
      ]
     },
     "metadata": {},
     "output_type": "display_data"
    },
    {
     "name": "stdout",
     "output_type": "stream",
     "text": [
      "Error: No both inverse found! Try pseudo-inverse: .pinv()\n"
     ]
    }
   ],
   "source": [
    "try:\n",
    "    mat.inverse(\"both\", verbosity=2)\n",
    "except ValueError as e:\n",
    "    print(f\"Error: {e}\")"
   ]
  },
  {
   "cell_type": "markdown",
   "id": "e272f1b4",
   "metadata": {},
   "source": [
    "## Question 5\n",
    "\n",
    "Write down the conditions so that the matrix $\\begin{pmatrix} 1 & 1 & 1 \\\\ a & b & c \\\\ a^2 & b^2 & c^2 \\end{pmatrix}$ is invertible."
   ]
  },
  {
   "cell_type": "code",
   "execution_count": 15,
   "id": "769c9fff",
   "metadata": {},
   "outputs": [
    {
     "data": {
      "text/latex": [
       "$\\displaystyle \\left[\\begin{array}{ccc}1 & 1 & 1\\\\a & b & c\\\\a^{2} & b^{2} & c^{2}\\end{array}\\right]$"
      ],
      "text/plain": [
       "Matrix([\n",
       "[   1,    1,    1]\n",
       "[   a,    b,    c]\n",
       "[a**2, b**2, c**2]\n",
       "])"
      ]
     },
     "execution_count": 15,
     "metadata": {},
     "output_type": "execute_result"
    }
   ],
   "source": [
    "a, b, c = sym.symbols(\"a b c\")\n",
    "mat = Matrix.from_str(\"1 1 1; a b c; a**2 b**2 c**2\")\n",
    "mat"
   ]
  },
  {
   "cell_type": "code",
   "execution_count": 16,
   "id": "d921c693",
   "metadata": {},
   "outputs": [
    {
     "name": "stdout",
     "output_type": "stream",
     "text": [
      "Left inverse found!\n",
      "Right inverse found!\n",
      "Before RREF: [self | eye]\n"
     ]
    },
    {
     "data": {
      "text/latex": [
       "$\\displaystyle \\left[\\begin{array}{ccc|c|c|c}1 & 1 & 1 & 1 & 0 & 0\\\\a & b & c & 0 & 1 & 0\\\\a^{2} & b^{2} & c^{2} & 0 & 0 & 1\\end{array}\\right]$"
      ],
      "text/plain": [
       "Matrix([\n",
       "[   1,    1,    1 | 1 | 0 | 0] \n",
       "[   a,    b,    c | 0 | 1 | 0] \n",
       "[a**2, b**2, c**2 | 0 | 0 | 1] \n",
       "])"
      ]
     },
     "metadata": {},
     "output_type": "display_data"
    },
    {
     "name": "stdout",
     "output_type": "stream",
     "text": [
      "\n",
      "After RREF:\n"
     ]
    },
    {
     "data": {
      "text/latex": [
       "$\\text{RREF}\\left\\{\\text{rref} = \\left[\\begin{array}{ccc|c|c|c}1 & 0 & 0 & \\frac{b c}{a^{2} - a b - a c + b c} & \\frac{- b - c}{a^{2} - a b - a c + b c} & \\frac{1}{a^{2} - a b - a c + b c}\\\\0 & 1 & 0 & - \\frac{a c}{a b - a c - b^{2} + b c} & \\frac{a + c}{a b - a c - b^{2} + b c} & - \\frac{1}{a b - a c - b^{2} + b c}\\\\0 & 0 & 1 & \\frac{a b}{a b - a c - b c + c^{2}} & \\frac{- a - b}{a b - a c - b c + c^{2}} & \\frac{1}{a b - a c - b c + c^{2}}\\end{array}\\right], \\quad\\text{pivots} = (0, 1, 2)\\right\\}$"
      ],
      "text/plain": [
       "RREF(rref=Matrix([\n",
       "[1, 0, 0 |  b*c/(a**2 - a*b - a*c + b*c) | (-b - c)/(a**2 - a*b - a*c + b*c) |  1/(a**2 - a*b - a*c + b*c)] \n",
       "[0, 1, 0 | -a*c/(a*b - a*c - b**2 + b*c) |  (a + c)/(a*b - a*c - b**2 + b*c) | -1/(a*b - a*c - b**2 + b*c)] \n",
       "[0, 0, 1 |  a*b/(a*b - a*c - b*c + c**2) | (-a - b)/(a*b - a*c - b*c + c**2) |  1/(a*b - a*c - b*c + c**2)] \n",
       "]), pivots=(0, 1, 2))"
      ]
     },
     "metadata": {},
     "output_type": "display_data"
    },
    {
     "data": {
      "text/latex": [
       "$\\displaystyle \\left[\\begin{array}{ccc}\\frac{b c}{a^{2} - a b - a c + b c} & \\frac{- b - c}{a^{2} - a b - a c + b c} & \\frac{1}{a^{2} - a b - a c + b c}\\\\- \\frac{a c}{a b - a c - b^{2} + b c} & \\frac{a + c}{a b - a c - b^{2} + b c} & - \\frac{1}{a b - a c - b^{2} + b c}\\\\\\frac{a b}{a b - a c - b c + c^{2}} & \\frac{- a - b}{a b - a c - b c + c^{2}} & \\frac{1}{a b - a c - b c + c^{2}}\\end{array}\\right]$"
      ],
      "text/plain": [
       "Matrix([\n",
       "[ b*c/(a**2 - a*b - a*c + b*c), (-b - c)/(a**2 - a*b - a*c + b*c),  1/(a**2 - a*b - a*c + b*c)]\n",
       "[-a*c/(a*b - a*c - b**2 + b*c),  (a + c)/(a*b - a*c - b**2 + b*c), -1/(a*b - a*c - b**2 + b*c)]\n",
       "[ a*b/(a*b - a*c - b*c + c**2), (-a - b)/(a*b - a*c - b*c + c**2),  1/(a*b - a*c - b*c + c**2)]\n",
       "])"
      ]
     },
     "execution_count": 16,
     "metadata": {},
     "output_type": "execute_result"
    }
   ],
   "source": [
    "inv = mat.inverse(verbosity=2)\n",
    "inv"
   ]
  },
  {
   "cell_type": "code",
   "execution_count": 17,
   "id": "36dd32e3",
   "metadata": {},
   "outputs": [
    {
     "data": {
      "text/latex": [
       "$\\displaystyle \\left[ \\left\\{ a : b\\right\\}, \\  \\left\\{ a : c\\right\\}, \\  \\left\\{ b : c\\right\\}\\right]$"
      ],
      "text/plain": [
       "[{a: b}, {a: c}, {b: c}]"
      ]
     },
     "execution_count": 17,
     "metadata": {},
     "output_type": "execute_result"
    }
   ],
   "source": [
    "# For inverse to exist, all the divisors must be non-zero\n",
    "\n",
    "divisors = 1\n",
    "for entry in inv.select_cols(0): # same divisor along columns\n",
    "    _, divisor = sym.fraction(entry)\n",
    "    divisors *= divisor\n",
    "\n",
    "sym.solve(divisors)\n",
    "# This means that a != b and a != c and b != c for the inverse to exist"
   ]
  },
  {
   "cell_type": "code",
   "execution_count": 18,
   "id": "6f0b31c2",
   "metadata": {},
   "outputs": [
    {
     "data": {
      "text/latex": [
       "$\\displaystyle - \\left(a - b\\right) \\left(a - c\\right) \\left(b - c\\right)$"
      ],
      "text/plain": [
       "-(a - b)⋅(a - c)⋅(b - c)"
      ]
     },
     "execution_count": 18,
     "metadata": {},
     "output_type": "execute_result"
    }
   ],
   "source": [
    "# Alternative Method via determinant\n",
    "# det = 0 --> singular --> no inverse\n",
    "# det != 0 --> non-singular --> inverse exists\n",
    "det = mat.det()\n",
    "det.factor() # if can factor then factor, if cant then remain"
   ]
  }
 ],
 "metadata": {
  "kernelspec": {
   "display_name": "ma1522-linear-algebra (3.10.18)",
   "language": "python",
   "name": "python3"
  },
  "language_info": {
   "codemirror_mode": {
    "name": "ipython",
    "version": 3
   },
   "file_extension": ".py",
   "mimetype": "text/x-python",
   "name": "python",
   "nbconvert_exporter": "python",
   "pygments_lexer": "ipython3",
   "version": "3.10.18"
  }
 },
 "nbformat": 4,
 "nbformat_minor": 5
}

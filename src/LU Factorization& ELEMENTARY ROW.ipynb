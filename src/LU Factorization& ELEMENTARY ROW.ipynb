{
 "cells": [
  {
   "cell_type": "markdown",
   "id": "d5fc5791",
   "metadata": {},
   "source": [
    "## LU Factorization\n"
   ]
  },
  {
   "cell_type": "code",
   "execution_count": 5,
   "id": "9a394353",
   "metadata": {},
   "outputs": [],
   "source": [
    "import sympy as sym\n",
    "from ma1522 import Matrix"
   ]
  },
  {
   "cell_type": "markdown",
   "id": "5ede4b11",
   "metadata": {},
   "source": [
    "## Question 1\n",
    "\n",
    "Let $\\mathbf{A}$ be the $4 \\times 4$ matrix obtained from $\\mathbf{I}$ by the following sequence of elementary row operations:\n",
    "\n",
    "$$\\mathbf{I} \\xrightarrow{\\frac{1}{2}R_2} \\xrightarrow{R_1 - R_2} \\xrightarrow{R_2 \\leftrightarrow R_4} \\xrightarrow{R_3 + 3R_1} \\mathbf{A}$$\n",
    "\n",
    "Write $\\mathbf{A}^{-1}$ as a product of four elementary matrices."
   ]
  },
  {
   "cell_type": "code",
   "execution_count": 6,
   "id": "8aafa391",
   "metadata": {},
   "outputs": [
    {
     "data": {
      "text/latex": [
       "$\\displaystyle \\left(0.5\\right) R_2 \\rightarrow R_2$"
      ],
      "text/plain": [
       "<IPython.core.display.Math object>"
      ]
     },
     "metadata": {},
     "output_type": "display_data"
    },
    {
     "data": {
      "text/latex": [
       "$\\displaystyle R_1 - \\left(1\\right)R_2 \\rightarrow R_1$"
      ],
      "text/plain": [
       "<IPython.core.display.Math object>"
      ]
     },
     "metadata": {},
     "output_type": "display_data"
    },
    {
     "data": {
      "text/latex": [
       "$\\displaystyle R_2 \\leftrightarrow R_4$"
      ],
      "text/plain": [
       "<IPython.core.display.Math object>"
      ]
     },
     "metadata": {},
     "output_type": "display_data"
    },
    {
     "data": {
      "text/latex": [
       "$\\displaystyle R_3 - \\left(-3\\right)R_1 \\rightarrow R_3$"
      ],
      "text/plain": [
       "<IPython.core.display.Math object>"
      ]
     },
     "metadata": {},
     "output_type": "display_data"
    }
   ],
   "source": [
    "E_1 = Matrix.eye(4).scale_row(1, 1/2, verbosity=1)\n",
    "# reduce_row(row_i, scale, row_j)\n",
    "# R1 - R2 -> (0, 1, 0) means row1 minus 1*row2\n",
    "E_2 = Matrix.eye(4).reduce_row(0, 1, 1, verbosity=1)\n",
    "E_3 = Matrix.eye(4).swap_row(1, 3, verbosity=1)\n",
    "E_4 = Matrix.eye(4).reduce_row(2, -3, 0, verbosity=1)"
   ]
  },
  {
   "cell_type": "code",
   "execution_count": 7,
   "id": "99f216d9",
   "metadata": {},
   "outputs": [
    {
     "data": {
      "text/latex": [
       "$\\displaystyle \\left( \\left[\\begin{matrix}1 & 0 & 0 & 0\\\\0 & 2 & 0 & 0\\\\0 & 0 & 1 & 0\\\\0 & 0 & 0 & 1\\end{matrix}\\right], \\  \\left[\\begin{matrix}1 & 1 & 0 & 0\\\\0 & 1 & 0 & 0\\\\0 & 0 & 1 & 0\\\\0 & 0 & 0 & 1\\end{matrix}\\right], \\  \\left[\\begin{matrix}1 & 0 & 0 & 0\\\\0 & 0 & 0 & 1\\\\0 & 0 & 1 & 0\\\\0 & 1 & 0 & 0\\end{matrix}\\right], \\  \\left[\\begin{matrix}1 & 0 & 0 & 0\\\\0 & 1 & 0 & 0\\\\-3 & 0 & 1 & 0\\\\0 & 0 & 0 & 1\\end{matrix}\\right]\\right)$"
      ],
      "text/plain": [
       "⎛⎡1  0  0  0⎤  ⎡1  1  0  0⎤  ⎡1  0  0  0⎤  ⎡1   0  0  0⎤⎞\n",
       "⎜⎢          ⎥  ⎢          ⎥  ⎢          ⎥  ⎢           ⎥⎟\n",
       "⎜⎢0  2  0  0⎥  ⎢0  1  0  0⎥  ⎢0  0  0  1⎥  ⎢0   1  0  0⎥⎟\n",
       "⎜⎢          ⎥, ⎢          ⎥, ⎢          ⎥, ⎢           ⎥⎟\n",
       "⎜⎢0  0  1  0⎥  ⎢0  0  1  0⎥  ⎢0  0  1  0⎥  ⎢-3  0  1  0⎥⎟\n",
       "⎜⎢          ⎥  ⎢          ⎥  ⎢          ⎥  ⎢           ⎥⎟\n",
       "⎝⎣0  0  0  1⎦  ⎣0  0  0  1⎦  ⎣0  1  0  0⎦  ⎣0   0  0  1⎦⎠"
      ]
     },
     "execution_count": 7,
     "metadata": {},
     "output_type": "execute_result"
    }
   ],
   "source": [
    "# The matrix A^-1 is the product of these elementary matrices\n",
    "E_1**-1, E_2**-1, E_3**-1, E_4**-1"
   ]
  },
  {
   "cell_type": "markdown",
   "id": "1a3eb67e",
   "metadata": {},
   "source": [
    "#### Additional "
   ]
  },
  {
   "cell_type": "code",
   "execution_count": 9,
   "id": "8fa2fb45",
   "metadata": {},
   "outputs": [
    {
     "data": {
      "text/latex": [
       "$\\displaystyle \\left[\\begin{array}{cccc}1 & 0 & 0 & 1\\\\0 & 0 & 0 & 2\\\\-3 & 0 & 1 & 0\\\\0 & 1 & 0 & 0\\end{array}\\right]$"
      ],
      "text/plain": [
       "Matrix([\n",
       "[ 1, 0, 0, 1]\n",
       "[ 0, 0, 0, 2]\n",
       "[-3, 0, 1, 0]\n",
       "[ 0, 1, 0, 0]\n",
       "])"
      ]
     },
     "execution_count": 9,
     "metadata": {},
     "output_type": "execute_result"
    }
   ],
   "source": [
    "A = E_1**-1 @ E_2**-1 @ E_3**-1 @ E_4**-1\n",
    "A"
   ]
  },
  {
   "cell_type": "code",
   "execution_count": 10,
   "id": "f80f46f2",
   "metadata": {},
   "outputs": [
    {
     "data": {
      "text/latex": [
       "$\\displaystyle \\left[\\begin{array}{cccc}1 & 0 & 0 & 0\\\\0 & 1 & 0 & 0\\\\0 & 0 & 1 & 0\\\\0 & 0 & 0 & 1\\end{array}\\right]$"
      ],
      "text/plain": [
       "Matrix([\n",
       "[1, 0, 0, 0]\n",
       "[0, 1, 0, 0]\n",
       "[0, 0, 1, 0]\n",
       "[0, 0, 0, 1]\n",
       "])"
      ]
     },
     "execution_count": 10,
     "metadata": {},
     "output_type": "execute_result"
    }
   ],
   "source": [
    "E_4 @ E_3 @ E_2 @ E_1 @ A  # should give identity matrix"
   ]
  },
  {
   "cell_type": "markdown",
   "id": "4864e76f",
   "metadata": {},
   "source": [
    "## Problem Solving Week 4 Problem 2\n",
    "A = M (1 1 2; 0 2 1; 0 0 0)\n",
    "\n",
    "From here we can see M is L from LU. Hence\n",
    "\n",
    "L is the E operation from A to U"
   ]
  },
  {
   "cell_type": "code",
   "execution_count": null,
   "id": "6af489ba",
   "metadata": {},
   "outputs": [
    {
     "data": {
      "text/latex": [
       "$\\displaystyle R_2 - \\left(3\\right)R_1 \\rightarrow R_2$"
      ],
      "text/plain": [
       "<IPython.core.display.Math object>"
      ]
     },
     "metadata": {},
     "output_type": "display_data"
    },
    {
     "data": {
      "text/latex": [
       "$\\displaystyle \\left[\\begin{array}{ccc}1 & 0 & 0\\\\-3 & 1 & 0\\\\0 & 0 & 1\\end{array}\\right]$"
      ],
      "text/plain": [
       "Matrix([\n",
       "[ 1, 0, 0]\n",
       "[-3, 1, 0]\n",
       "[ 0, 0, 1]\n",
       "])"
      ]
     },
     "metadata": {},
     "output_type": "display_data"
    },
    {
     "name": "stdout",
     "output_type": "stream",
     "text": [
      "\n",
      "\n"
     ]
    },
    {
     "data": {
      "text/latex": [
       "$\\displaystyle R_3 - \\left(-5\\right)R_1 \\rightarrow R_3$"
      ],
      "text/plain": [
       "<IPython.core.display.Math object>"
      ]
     },
     "metadata": {},
     "output_type": "display_data"
    },
    {
     "data": {
      "text/latex": [
       "$\\displaystyle \\left[\\begin{array}{ccc}1 & 0 & 0\\\\0 & 1 & 0\\\\5 & 0 & 1\\end{array}\\right]$"
      ],
      "text/plain": [
       "Matrix([\n",
       "[1, 0, 0]\n",
       "[0, 1, 0]\n",
       "[5, 0, 1]\n",
       "])"
      ]
     },
     "metadata": {},
     "output_type": "display_data"
    },
    {
     "name": "stdout",
     "output_type": "stream",
     "text": [
      "\n",
      "\n"
     ]
    },
    {
     "data": {
      "text/latex": [
       "$\\displaystyle R_3 - \\left(1\\right)R_2 \\rightarrow R_3$"
      ],
      "text/plain": [
       "<IPython.core.display.Math object>"
      ]
     },
     "metadata": {},
     "output_type": "display_data"
    },
    {
     "data": {
      "text/latex": [
       "$\\displaystyle \\left[\\begin{array}{ccc}1 & 0 & 0\\\\0 & 1 & 0\\\\0 & -1 & 1\\end{array}\\right]$"
      ],
      "text/plain": [
       "Matrix([\n",
       "[1,  0, 0]\n",
       "[0,  1, 0]\n",
       "[0, -1, 1]\n",
       "])"
      ]
     },
     "metadata": {},
     "output_type": "display_data"
    },
    {
     "name": "stdout",
     "output_type": "stream",
     "text": [
      "\n",
      "\n"
     ]
    }
   ],
   "source": [
    "E_1 = Matrix.eye(3).reduce_row(1, 3, 0)\n",
    "E_2 = Matrix.eye(3).reduce_row(2, -5, 0)\n",
    "E_3 = Matrix.eye(3).reduce_row(2, 1, 1)"
   ]
  },
  {
   "cell_type": "code",
   "execution_count": null,
   "id": "01b32f04",
   "metadata": {},
   "outputs": [
    {
     "data": {
      "text/latex": [
       "$\\displaystyle \\left[\\begin{array}{ccc}1 & 0 & 0\\\\3 & 1 & 0\\\\-5 & 1 & 1\\end{array}\\right]$"
      ],
      "text/plain": [
       "Matrix([\n",
       "[ 1, 0, 0]\n",
       "[ 3, 1, 0]\n",
       "[-5, 1, 1]\n",
       "])"
      ]
     },
     "execution_count": 8,
     "metadata": {},
     "output_type": "execute_result"
    }
   ],
   "source": [
    "L = E_1**-1 @ E_2**-1 @ E_3**-1\n",
    "L"
   ]
  },
  {
   "cell_type": "markdown",
   "id": "8f76c61e",
   "metadata": {},
   "source": [
    "Suppose A ->those operation -> (1 1 2; 0 2 1; 0 0 0)\n",
    "\n",
    "b -> those operation-> (0; 1; 0)\n",
    "\n",
    "Solve Ax = b"
   ]
  },
  {
   "cell_type": "code",
   "execution_count": null,
   "id": "558f0a95",
   "metadata": {},
   "outputs": [],
   "source": [
    "U = Matrix.from_str(\"1 1 2; 0 2 -1; 0 0 0\")\n",
    "c = Matrix.from_str(\"0; 1; 0\")"
   ]
  },
  {
   "cell_type": "code",
   "execution_count": null,
   "id": "6115c930",
   "metadata": {},
   "outputs": [
    {
     "data": {
      "text/latex": [
       "$\\displaystyle \\left( \\left[\\begin{array}{ccc}1 & 1 & 2\\\\3 & 5 & 5\\\\-5 & -3 & -11\\end{array}\\right], \\  \\left[\\begin{array}{c}0\\\\1\\\\1\\end{array}\\right], \\  \\left[\\begin{array}{ccc}1 & 1 & 2\\\\0 & 2 & -1\\\\0 & 0 & 0\\end{array}\\right]\\right)$"
      ],
      "text/plain": [
       "⎛⎡1   1    2 ⎤  ⎡0⎤  ⎡1  1  2 ⎤⎞\n",
       "⎜⎢           ⎥  ⎢ ⎥  ⎢        ⎥⎟\n",
       "⎜⎢3   5    5 ⎥, ⎢1⎥, ⎢0  2  -1⎥⎟\n",
       "⎜⎢           ⎥  ⎢ ⎥  ⎢        ⎥⎟\n",
       "⎝⎣-5  -3  -11⎦  ⎣1⎦  ⎣0  0  0 ⎦⎠"
      ]
     },
     "execution_count": 10,
     "metadata": {},
     "output_type": "execute_result"
    }
   ],
   "source": [
    "A = L@U\n",
    "b = L@c\n",
    "A, b, U # now solve Ax = b"
   ]
  },
  {
   "cell_type": "code",
   "execution_count": null,
   "id": "8895bbb4",
   "metadata": {},
   "outputs": [
    {
     "data": {
      "text/latex": [
       "$\\displaystyle \\left[\\begin{array}{c}- \\frac{5 z}{2} - \\frac{1}{2}\\\\\\frac{z}{2} + \\frac{1}{2}\\\\z\\end{array}\\right]$"
      ],
      "text/plain": [
       "Matrix([\n",
       "[-5*z/2 - 1/2]\n",
       "[   z/2 + 1/2]\n",
       "[           z]\n",
       "])"
      ]
     },
     "execution_count": 11,
     "metadata": {},
     "output_type": "execute_result"
    }
   ],
   "source": [
    "A.solve(b)[0]"
   ]
  },
  {
   "cell_type": "markdown",
   "id": "a589614b",
   "metadata": {},
   "source": [
    "<img src=\"/Users/ewencheung/Documents/GitHub/linear-algebra/docs/assets/images/2324 15.png\n",
    "\" alt=\"Tutorial 1 Question 7: Traffic Network\">"
   ]
  },
  {
   "cell_type": "code",
   "execution_count": null,
   "id": "f5f888c3",
   "metadata": {},
   "outputs": [
    {
     "data": {
      "text/latex": [
       "$\\displaystyle R_2 - \\left(-1\\right)R_1 \\rightarrow R_2$"
      ],
      "text/plain": [
       "<IPython.core.display.Math object>"
      ]
     },
     "metadata": {},
     "output_type": "display_data"
    },
    {
     "data": {
      "text/latex": [
       "$\\displaystyle R_2 \\leftrightarrow R_5$"
      ],
      "text/plain": [
       "<IPython.core.display.Math object>"
      ]
     },
     "metadata": {},
     "output_type": "display_data"
    },
    {
     "data": {
      "text/latex": [
       "$\\displaystyle R_2 \\leftrightarrow R_4$"
      ],
      "text/plain": [
       "<IPython.core.display.Math object>"
      ]
     },
     "metadata": {},
     "output_type": "display_data"
    },
    {
     "data": {
      "text/latex": [
       "$\\displaystyle R_2 \\leftrightarrow R_3$"
      ],
      "text/plain": [
       "<IPython.core.display.Math object>"
      ]
     },
     "metadata": {},
     "output_type": "display_data"
    }
   ],
   "source": [
    "E_1 = Matrix.eye(5).reduce_row(1, -1, 0, verbosity=1)\n",
    "E_2 = Matrix.eye(5).swap_row(1, 4, verbosity=1)\n",
    "E_3 = Matrix.eye(5).swap_row(1, 3, verbosity=1)\n",
    "E_4 = Matrix.eye(5).swap_row(1, 2, verbosity=1)"
   ]
  },
  {
   "cell_type": "code",
   "execution_count": null,
   "id": "1089d227",
   "metadata": {},
   "outputs": [],
   "source": [
    "E = E_4 @ E_3 @ E_2 @ E_1"
   ]
  },
  {
   "cell_type": "code",
   "execution_count": null,
   "id": "331ae0fa",
   "metadata": {},
   "outputs": [
    {
     "data": {
      "text/latex": [
       "$\\displaystyle \\left[\\begin{matrix}1 & 0 & 0 & 0 & 0\\\\1 & 1 & 0 & 0 & 0\\\\1 & 0 & 1 & 0 & 0\\\\1 & 0 & 0 & 1 & 0\\\\1 & 0 & 0 & 0 & 1\\end{matrix}\\right]$"
      ],
      "text/plain": [
       "Matrix([\n",
       "[1, 0, 0, 0, 0],\n",
       "[1, 1, 0, 0, 0],\n",
       "[1, 0, 1, 0, 0],\n",
       "[1, 0, 0, 1, 0],\n",
       "[1, 0, 0, 0, 1]])"
      ]
     },
     "execution_count": 15,
     "metadata": {},
     "output_type": "execute_result"
    }
   ],
   "source": [
    "E**4"
   ]
  },
  {
   "cell_type": "code",
   "execution_count": null,
   "id": "81e1f038",
   "metadata": {},
   "outputs": [],
   "source": []
  },
  {
   "cell_type": "code",
   "execution_count": null,
   "id": "41eb7bf7",
   "metadata": {},
   "outputs": [],
   "source": []
  },
  {
   "cell_type": "code",
   "execution_count": null,
   "id": "38d47b06",
   "metadata": {},
   "outputs": [],
   "source": []
  },
  {
   "cell_type": "code",
   "execution_count": null,
   "id": "e99da032",
   "metadata": {},
   "outputs": [],
   "source": []
  },
  {
   "cell_type": "code",
   "execution_count": null,
   "id": "89ea6c1b",
   "metadata": {},
   "outputs": [],
   "source": []
  },
  {
   "cell_type": "code",
   "execution_count": null,
   "id": "14bb8703",
   "metadata": {},
   "outputs": [],
   "source": []
  }
 ],
 "metadata": {
  "kernelspec": {
   "display_name": "ma1522-linear-algebra (3.10.18)",
   "language": "python",
   "name": "python3"
  },
  "language_info": {
   "codemirror_mode": {
    "name": "ipython",
    "version": 3
   },
   "file_extension": ".py",
   "mimetype": "text/x-python",
   "name": "python",
   "nbconvert_exporter": "python",
   "pygments_lexer": "ipython3",
   "version": "3.10.18"
  }
 },
 "nbformat": 4,
 "nbformat_minor": 5
}

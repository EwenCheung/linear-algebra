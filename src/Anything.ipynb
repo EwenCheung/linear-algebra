{
 "cells": [
  {
   "cell_type": "code",
   "execution_count": 3,
   "id": "b0323e8a",
   "metadata": {},
   "outputs": [],
   "source": [
    "# Required imports\n",
    "import sympy as sym\n",
    "import sys, os\n",
    "from ma1522 import Matrix\n"
   ]
  },
  {
   "cell_type": "code",
   "execution_count": 5,
   "id": "6ba8df60",
   "metadata": {},
   "outputs": [
    {
     "data": {
      "text/latex": [
       "$\\text{RREF}\\left\\{\\text{rref} = \\left[\\begin{array}{ccccc|c}1 & 0 & 0 & 0 & 0 & 1\\\\0 & 1 & 0 & 0 & 0 & 4\\\\0 & 0 & 1 & 0 & 0 & 4\\\\0 & 0 & 0 & 1 & 0 & -2\\\\0 & 0 & 0 & 0 & 1 & 2\\end{array}\\right], \\quad\\text{pivots} = (0, 1, 2, 3, 4)\\right\\}$"
      ],
      "text/plain": [
       "RREF(rref=Matrix([\n",
       "[1, 0, 0, 0, 0 |  1]\n",
       "[0, 1, 0, 0, 0 |  4]\n",
       "[0, 0, 1, 0, 0 |  4]\n",
       "[0, 0, 0, 1, 0 | -2]\n",
       "[0, 0, 0, 0, 1 |  2]\n",
       "]), pivots=(0, 1, 2, 3, 4))"
      ]
     },
     "execution_count": 5,
     "metadata": {},
     "output_type": "execute_result"
    }
   ],
   "source": [
    "A = Matrix.from_str(\"1 2 -1 1 -1; 1 1 2 1 0; 1 2 0 -1 -1; 2 1 2 1 -1; 2 -1 -1 0 -1\")\n",
    "B = Matrix.from_str(\"1 11 9 10 -8\").T\n",
    "R = A.row_join(B)\n",
    "R.rref()"
   ]
  },
  {
   "cell_type": "code",
   "execution_count": 6,
   "id": "fc7c288f",
   "metadata": {},
   "outputs": [
    {
     "data": {
      "text/latex": [
       "$\\text{RREF}\\left\\{\\text{rref} = \\left[\\begin{array}{cccc|c}1 & 0 & 0 & 1 & 0\\\\0 & 1 & 0 & 1 & 0\\\\0 & 0 & 1 & 1 & 0\\\\0 & 0 & 0 & 0 & 1\\\\0 & 0 & 0 & 0 & 0\\end{array}\\right], \\quad\\text{pivots} = (0, 1, 2, 4)\\right\\}$"
      ],
      "text/plain": [
       "RREF(rref=Matrix([\n",
       "[1, 0, 0, 1 | 0]\n",
       "[0, 1, 0, 1 | 0]\n",
       "[0, 0, 1, 1 | 0]\n",
       "[0, 0, 0, 0 | 1]\n",
       "[0, 0, 0, 0 | 0]\n",
       "]), pivots=(0, 1, 2, 4))"
      ]
     },
     "execution_count": 6,
     "metadata": {},
     "output_type": "execute_result"
    }
   ],
   "source": [
    "D = Matrix.from_str(\"0 -3 1 -2; 1 -2 0 -1; -1 1 -1 -1; 1 -1 -1 -1; 0 1 1 2\")\n",
    "c = Matrix.from_str(\"-1 -1 2 0 1\").T\n",
    "R = D.row_join(c)\n",
    "\n",
    "R.rref()"
   ]
  },
  {
   "cell_type": "code",
   "execution_count": 16,
   "id": "042937ea",
   "metadata": {},
   "outputs": [
    {
     "data": {
      "text/latex": [
       "$\\displaystyle R_2 - \\left(1\\right)R_1 \\rightarrow R_2$"
      ],
      "text/plain": [
       "<IPython.core.display.Math object>"
      ]
     },
     "metadata": {},
     "output_type": "display_data"
    },
    {
     "data": {
      "text/latex": [
       "$\\displaystyle \\left[\\begin{array}{cccc|c}1 & a & b & a & 1\\\\0 & 2 - a & 0 & 0 & 0\\\\1 & a & 0 & 2 - b & 1\\\\1 & 2 & - a + b & 0 & 0\\end{array}\\right]$"
      ],
      "text/plain": [
       "Matrix([\n",
       "[1,     a,      b,     a | 1]\n",
       "[0, 2 - a,      0,     0 | 0]\n",
       "[1,     a,      0, 2 - b | 1]\n",
       "[1,     2, -a + b,     0 | 0]\n",
       "])"
      ]
     },
     "metadata": {},
     "output_type": "display_data"
    },
    {
     "name": "stdout",
     "output_type": "stream",
     "text": [
      "\n",
      "\n"
     ]
    },
    {
     "data": {
      "text/latex": [
       "$\\displaystyle R_3 - \\left(1\\right)R_1 \\rightarrow R_3$"
      ],
      "text/plain": [
       "<IPython.core.display.Math object>"
      ]
     },
     "metadata": {},
     "output_type": "display_data"
    },
    {
     "data": {
      "text/latex": [
       "$\\displaystyle \\left[\\begin{array}{cccc|c}1 & a & b & a & 1\\\\0 & 2 - a & 0 & 0 & 0\\\\0 & 0 & - b & - a - b + 2 & 0\\\\1 & 2 & - a + b & 0 & 0\\end{array}\\right]$"
      ],
      "text/plain": [
       "Matrix([\n",
       "[1,     a,      b,          a | 1]\n",
       "[0, 2 - a,      0,          0 | 0]\n",
       "[0,     0,     -b, -a - b + 2 | 0]\n",
       "[1,     2, -a + b,          0 | 0]\n",
       "])"
      ]
     },
     "metadata": {},
     "output_type": "display_data"
    },
    {
     "name": "stdout",
     "output_type": "stream",
     "text": [
      "\n",
      "\n"
     ]
    },
    {
     "data": {
      "text/latex": [
       "$\\displaystyle R_4 - \\left(1\\right)R_1 \\rightarrow R_4$"
      ],
      "text/plain": [
       "<IPython.core.display.Math object>"
      ]
     },
     "metadata": {},
     "output_type": "display_data"
    },
    {
     "data": {
      "text/latex": [
       "$\\displaystyle \\left[\\begin{array}{cccc|c}1 & a & b & a & 1\\\\0 & 2 - a & 0 & 0 & 0\\\\0 & 0 & - b & - a - b + 2 & 0\\\\0 & 2 - a & - a & - a & -1\\end{array}\\right]$"
      ],
      "text/plain": [
       "Matrix([\n",
       "[1,     a,  b,          a |  1]\n",
       "[0, 2 - a,  0,          0 |  0]\n",
       "[0,     0, -b, -a - b + 2 |  0]\n",
       "[0, 2 - a, -a,         -a | -1]\n",
       "])"
      ]
     },
     "metadata": {},
     "output_type": "display_data"
    },
    {
     "name": "stdout",
     "output_type": "stream",
     "text": [
      "\n",
      "\n"
     ]
    },
    {
     "data": {
      "text/latex": [
       "$\\displaystyle R_4 - \\left(1\\right)R_2 \\rightarrow R_4$"
      ],
      "text/plain": [
       "<IPython.core.display.Math object>"
      ]
     },
     "metadata": {},
     "output_type": "display_data"
    },
    {
     "data": {
      "text/latex": [
       "$\\displaystyle \\left[\\begin{array}{cccc|c}1 & a & b & a & 1\\\\0 & 2 - a & 0 & 0 & 0\\\\0 & 0 & - b & - a - b + 2 & 0\\\\0 & 0 & - a & - a & -1\\end{array}\\right]$"
      ],
      "text/plain": [
       "Matrix([\n",
       "[1,     a,  b,          a |  1]\n",
       "[0, 2 - a,  0,          0 |  0]\n",
       "[0,     0, -b, -a - b + 2 |  0]\n",
       "[0,     0, -a,         -a | -1]\n",
       "])"
      ]
     },
     "metadata": {},
     "output_type": "display_data"
    },
    {
     "name": "stdout",
     "output_type": "stream",
     "text": [
      "\n",
      "\n"
     ]
    },
    {
     "name": "stderr",
     "output_type": "stream",
     "text": [
      "/var/folders/mf/_jc27bj14xv68vqy0mj9_w540000gn/T/ipykernel_9007/2570935957.py:11: RuntimeWarning: ERROR: Max tries exceeded to reduce row 4 with row 3\n",
      "  plu = R.ref()\n"
     ]
    },
    {
     "data": {
      "text/latex": [
       "$\\displaystyle \\left[\\begin{array}{cccc|c}1 & a & b & a & 1\\\\0 & 2 - a & 0 & 0 & 0\\\\0 & 0 & - b & - a - b + 2 & 0\\\\0 & 0 & - a & - a & -1\\end{array}\\right]$"
      ],
      "text/plain": [
       "Matrix([\n",
       "[1,     a,  b,          a |  1]\n",
       "[0, 2 - a,  0,          0 |  0]\n",
       "[0,     0, -b, -a - b + 2 |  0]\n",
       "[0,     0, -a,         -a | -1]\n",
       "])"
      ]
     },
     "execution_count": 16,
     "metadata": {},
     "output_type": "execute_result"
    }
   ],
   "source": [
    "a, b = sym.symbols(\"a b\")\n",
    "\n",
    "A = Matrix([[1, a, b, a],\n",
    "            [1, 2, b, a],\n",
    "            [1, a, 0, -b+2],\n",
    "            [1, 2, b-a, 0]])\n",
    "\n",
    "B = Matrix.from_str(\"1 1 1 0\").T\n",
    "\n",
    "R = A.row_join(B)\n",
    "plu = R.ref()\n",
    "plu.U"
   ]
  },
  {
   "cell_type": "code",
   "execution_count": 18,
   "id": "616c4e44",
   "metadata": {},
   "outputs": [
    {
     "data": {
      "text/latex": [
       "$\\text{RREF}\\left\\{\\text{rref} = \\left[\\begin{array}{cccc|c}1 & 2 & 0 & 2 & 1\\\\0 & 0 & 1 & 1 & \\frac{1}{2}\\\\0 & 0 & 0 & 0 & 0\\\\0 & 0 & 0 & 0 & 0\\end{array}\\right], \\quad\\text{pivots} = (0, 2)\\right\\}$"
      ],
      "text/plain": [
       "RREF(rref=Matrix([\n",
       "[1, 2, 0, 2 |   1]\n",
       "[0, 0, 1, 1 | 1/2]\n",
       "[0, 0, 0, 0 |   0]\n",
       "[0, 0, 0, 0 |   0]\n",
       "]), pivots=(0, 2))"
      ]
     },
     "execution_count": 18,
     "metadata": {},
     "output_type": "execute_result"
    }
   ],
   "source": [
    "plu.U.subs({a:2, b:0}).rref()"
   ]
  },
  {
   "cell_type": "code",
   "execution_count": null,
   "id": "111a0e3e",
   "metadata": {},
   "outputs": [],
   "source": [
    "E_1 = Matrix.eye(4).scale_row(1, 1/2, verbosity=1)\n",
    "# reduce_row(row_i, scale, row_j)\n",
    "# R1 - R2 -> (0, 1, 0) means row1 minus 1*row2\n",
    "E_2 = Matrix.eye(4).reduce_row(0, 1, 1, verbosity=1)\n",
    "E_3 = Matrix.eye(4).swap_row(1, 3, verbosity=1)\n",
    "E_4 = Matrix.eye(4).reduce_row(2, -3, 0, verbosity=1)"
   ]
  },
  {
   "cell_type": "code",
   "execution_count": 21,
   "id": "eb20554f",
   "metadata": {},
   "outputs": [
    {
     "data": {
      "text/latex": [
       "$\\displaystyle R_2 - \\left(-1\\right)R_1 \\rightarrow R_2$"
      ],
      "text/plain": [
       "<IPython.core.display.Math object>"
      ]
     },
     "metadata": {},
     "output_type": "display_data"
    },
    {
     "data": {
      "text/latex": [
       "$\\displaystyle R_2 \\leftrightarrow R_5$"
      ],
      "text/plain": [
       "<IPython.core.display.Math object>"
      ]
     },
     "metadata": {},
     "output_type": "display_data"
    },
    {
     "data": {
      "text/latex": [
       "$\\displaystyle R_2 \\leftrightarrow R_4$"
      ],
      "text/plain": [
       "<IPython.core.display.Math object>"
      ]
     },
     "metadata": {},
     "output_type": "display_data"
    },
    {
     "data": {
      "text/latex": [
       "$\\displaystyle R_2 \\leftrightarrow R_3$"
      ],
      "text/plain": [
       "<IPython.core.display.Math object>"
      ]
     },
     "metadata": {},
     "output_type": "display_data"
    }
   ],
   "source": [
    "E_1 = Matrix.eye(5).reduce_row(1, -1, 0, verbosity=1)\n",
    "E_2 = Matrix.eye(5).swap_row(1, 4, verbosity=1)\n",
    "E_3 = Matrix.eye(5).swap_row(1, 3, verbosity=1)\n",
    "E_4 = Matrix.eye(5).swap_row(1, 2, verbosity=1)\n",
    "E = E_4 @ E_3 @ E_2 @ E_1"
   ]
  },
  {
   "cell_type": "code",
   "execution_count": 22,
   "id": "0ee4ec01",
   "metadata": {},
   "outputs": [
    {
     "data": {
      "text/latex": [
       "$\\displaystyle \\left[\\begin{matrix}1 & 0 & 0 & 0 & 0\\\\1 & 1 & 0 & 0 & 0\\\\1 & 0 & 1 & 0 & 0\\\\1 & 0 & 0 & 1 & 0\\\\1 & 0 & 0 & 0 & 1\\end{matrix}\\right]$"
      ],
      "text/plain": [
       "Matrix([\n",
       "[1, 0, 0, 0, 0],\n",
       "[1, 1, 0, 0, 0],\n",
       "[1, 0, 1, 0, 0],\n",
       "[1, 0, 0, 1, 0],\n",
       "[1, 0, 0, 0, 1]])"
      ]
     },
     "execution_count": 22,
     "metadata": {},
     "output_type": "execute_result"
    }
   ],
   "source": [
    "E**4"
   ]
  },
  {
   "cell_type": "code",
   "execution_count": 31,
   "id": "f623824d",
   "metadata": {},
   "outputs": [
    {
     "data": {
      "text/latex": [
       "$\\displaystyle R_2 - \\left(1\\right)R_1 \\rightarrow R_2$"
      ],
      "text/plain": [
       "<IPython.core.display.Math object>"
      ]
     },
     "metadata": {},
     "output_type": "display_data"
    },
    {
     "data": {
      "text/latex": [
       "$\\displaystyle \\left[\\begin{array}{cccc}a & 1 & 1 & 1\\\\0 & a - 1 & 0 & 0\\\\a & a & - a & 1\\\\- a^{2} & - a & - a & -2\\end{array}\\right]$"
      ],
      "text/plain": [
       "Matrix([\n",
       "[    a,     1,  1,  1]\n",
       "[    0, a - 1,  0,  0]\n",
       "[    a,     a, -a,  1]\n",
       "[-a**2,    -a, -a, -2]\n",
       "])"
      ]
     },
     "metadata": {},
     "output_type": "display_data"
    },
    {
     "name": "stdout",
     "output_type": "stream",
     "text": [
      "\n",
      "\n"
     ]
    },
    {
     "data": {
      "text/latex": [
       "$\\displaystyle R_3 - \\left(1\\right)R_1 \\rightarrow R_3$"
      ],
      "text/plain": [
       "<IPython.core.display.Math object>"
      ]
     },
     "metadata": {},
     "output_type": "display_data"
    },
    {
     "data": {
      "text/latex": [
       "$\\displaystyle \\left[\\begin{array}{cccc}a & 1 & 1 & 1\\\\0 & a - 1 & 0 & 0\\\\0 & a - 1 & - a - 1 & 0\\\\- a^{2} & - a & - a & -2\\end{array}\\right]$"
      ],
      "text/plain": [
       "Matrix([\n",
       "[    a,     1,      1,  1]\n",
       "[    0, a - 1,      0,  0]\n",
       "[    0, a - 1, -a - 1,  0]\n",
       "[-a**2,    -a,     -a, -2]\n",
       "])"
      ]
     },
     "metadata": {},
     "output_type": "display_data"
    },
    {
     "name": "stdout",
     "output_type": "stream",
     "text": [
      "\n",
      "\n"
     ]
    },
    {
     "data": {
      "text/latex": [
       "$\\displaystyle R_4 - \\left(- a\\right)R_1 \\rightarrow R_4$"
      ],
      "text/plain": [
       "<IPython.core.display.Math object>"
      ]
     },
     "metadata": {},
     "output_type": "display_data"
    },
    {
     "data": {
      "text/latex": [
       "$\\displaystyle \\left[\\begin{array}{cccc}a & 1 & 1 & 1\\\\0 & a - 1 & 0 & 0\\\\0 & a - 1 & - a - 1 & 0\\\\0 & 0 & 0 & a - 2\\end{array}\\right]$"
      ],
      "text/plain": [
       "Matrix([\n",
       "[a,     1,      1,     1]\n",
       "[0, a - 1,      0,     0]\n",
       "[0, a - 1, -a - 1,     0]\n",
       "[0,     0,      0, a - 2]\n",
       "])"
      ]
     },
     "metadata": {},
     "output_type": "display_data"
    },
    {
     "name": "stdout",
     "output_type": "stream",
     "text": [
      "\n",
      "\n"
     ]
    },
    {
     "data": {
      "text/latex": [
       "$\\displaystyle R_3 - \\left(1\\right)R_2 \\rightarrow R_3$"
      ],
      "text/plain": [
       "<IPython.core.display.Math object>"
      ]
     },
     "metadata": {},
     "output_type": "display_data"
    },
    {
     "data": {
      "text/latex": [
       "$\\displaystyle \\left[\\begin{array}{cccc}a & 1 & 1 & 1\\\\0 & a - 1 & 0 & 0\\\\0 & 0 & - a - 1 & 0\\\\0 & 0 & 0 & a - 2\\end{array}\\right]$"
      ],
      "text/plain": [
       "Matrix([\n",
       "[a,     1,      1,     1]\n",
       "[0, a - 1,      0,     0]\n",
       "[0,     0, -a - 1,     0]\n",
       "[0,     0,      0, a - 2]\n",
       "])"
      ]
     },
     "metadata": {},
     "output_type": "display_data"
    },
    {
     "name": "stdout",
     "output_type": "stream",
     "text": [
      "\n",
      "\n"
     ]
    }
   ],
   "source": [
    "A = Matrix([[a, 1, 1, 1],\n",
    "            [a, a, 1, 1],\n",
    "            [a, a, -a, 1],\n",
    "            [-(a**2), -a, -a, -2]])\n",
    "plu = A.ref()"
   ]
  },
  {
   "cell_type": "code",
   "execution_count": 34,
   "id": "83c2075a",
   "metadata": {},
   "outputs": [],
   "source": [
    "x = Matrix.from_str(\"1 1 1; 1 1 0; 0 1 1\").T\n",
    "b = Matrix.from_str(\"2 6 3 7 5; 2 4 4 8 2; -1 6 2 4 0\").T\n",
    "\n",
    "A = b@(x**-1)"
   ]
  },
  {
   "cell_type": "code",
   "execution_count": 37,
   "id": "ac9980d0",
   "metadata": {},
   "outputs": [
    {
     "data": {
      "text/latex": [
       "$\\displaystyle \\left[\\begin{array}{c}1\\\\10\\\\6\\\\12\\\\2\\end{array}\\right]$"
      ],
      "text/plain": [
       "Matrix([\n",
       "[ 1]\n",
       "[10]\n",
       "[ 6]\n",
       "[12]\n",
       "[ 2]\n",
       "])"
      ]
     },
     "execution_count": 37,
     "metadata": {},
     "output_type": "execute_result"
    }
   ],
   "source": [
    "A @ Matrix.from_str(\"1 2 1\").T"
   ]
  },
  {
   "cell_type": "code",
   "execution_count": 47,
   "id": "8c7fde45",
   "metadata": {},
   "outputs": [
    {
     "data": {
      "text/latex": [
       "$\\displaystyle \\left[\\begin{array}{ccc}0 & -2 & 0\\\\1 & 1 & -1\\\\1 & 0 & 0\\\\0 & 1 & 0\\\\0 & 0 & 1\\end{array}\\right]$"
      ],
      "text/plain": [
       "Matrix([\n",
       "[0, -2,  0]\n",
       "[1,  1, -1]\n",
       "[1,  0,  0]\n",
       "[0,  1,  0]\n",
       "[0,  0,  1]\n",
       "])"
      ]
     },
     "execution_count": 47,
     "metadata": {},
     "output_type": "execute_result"
    }
   ],
   "source": [
    "A = Matrix.from_str(\"1 2 -2 0 2; 1 -1 1 3 -1; 1 1 -1 1 1; 1 -0 0 2 0\")\n",
    "B = Matrix.from_str(\"0 0 0 0\").T\n",
    "\n",
    "Vl = A.nullspace()\n",
    "V = Matrix.from_list(Vl)\n",
    "V\n"
   ]
  },
  {
   "cell_type": "code",
   "execution_count": 49,
   "id": "05d764da",
   "metadata": {},
   "outputs": [
    {
     "data": {
      "text/latex": [
       "$\\displaystyle \\left[\\begin{array}{cccc}2 & 2 & -2 & 2\\\\-1 & 0 & 2 & -1\\\\2 & 2 & 1 & 1\\\\-1 & -1 & 1 & -1\\\\2 & 1 & 0 & 1\\end{array}\\right]$"
      ],
      "text/plain": [
       "Matrix([\n",
       "[ 2,  2, -2,  2]\n",
       "[-1,  0,  2, -1]\n",
       "[ 2,  2,  1,  1]\n",
       "[-1, -1,  1, -1]\n",
       "[ 2,  1,  0,  1]\n",
       "])"
      ]
     },
     "execution_count": 49,
     "metadata": {},
     "output_type": "execute_result"
    }
   ],
   "source": [
    "A = Matrix.from_str(\"2 -1 2 -1 2; 2 0 2 -1 1; -2 2 1 1 0; 2 -1 1 -1 1\").T\n",
    "A"
   ]
  },
  {
   "cell_type": "code",
   "execution_count": 50,
   "id": "d99f4541",
   "metadata": {},
   "outputs": [
    {
     "name": "stdout",
     "output_type": "stream",
     "text": [
      "Check if span(self) is subspace of span(other), and vice versa.\n",
      "Check if span(self) is subspace of span(other)\n",
      "\n",
      "Before RREF: [other | self]\n"
     ]
    },
    {
     "data": {
      "text/latex": [
       "$\\displaystyle \\left[\\begin{array}{cccc|ccc}2 & 2 & -2 & 2 & 0 & -2 & 0\\\\-1 & 0 & 2 & -1 & 1 & 1 & -1\\\\2 & 2 & 1 & 1 & 1 & 0 & 0\\\\-1 & -1 & 1 & -1 & 0 & 1 & 0\\\\2 & 1 & 0 & 1 & 0 & 0 & 1\\end{array}\\right]$"
      ],
      "text/plain": [
       "Matrix([\n",
       "[ 2,  2, -2,  2 | 0, -2,  0]\n",
       "[-1,  0,  2, -1 | 1,  1, -1]\n",
       "[ 2,  2,  1,  1 | 1,  0,  0]\n",
       "[-1, -1,  1, -1 | 0,  1,  0]\n",
       "[ 2,  1,  0,  1 | 0,  0,  1]\n",
       "])"
      ]
     },
     "metadata": {},
     "output_type": "display_data"
    },
    {
     "name": "stdout",
     "output_type": "stream",
     "text": [
      "\n",
      "After RREF:\n"
     ]
    },
    {
     "data": {
      "text/latex": [
       "$\\text{RREF}\\left\\{\\text{rref} = \\left[\\begin{array}{cccc|ccc}1 & 0 & 0 & \\frac{1}{3} & - \\frac{1}{3} & \\frac{1}{3} & 1\\\\0 & 1 & 0 & \\frac{1}{3} & \\frac{2}{3} & - \\frac{2}{3} & -1\\\\0 & 0 & 1 & - \\frac{1}{3} & \\frac{1}{3} & \\frac{2}{3} & 0\\\\0 & 0 & 0 & 0 & 0 & 0 & 0\\\\0 & 0 & 0 & 0 & 0 & 0 & 0\\end{array}\\right], \\quad\\text{pivots} = (0, 1, 2)\\right\\}$"
      ],
      "text/plain": [
       "RREF(rref=Matrix([\n",
       "[1, 0, 0,  1/3 | -1/3,  1/3,  1]\n",
       "[0, 1, 0,  1/3 |  2/3, -2/3, -1]\n",
       "[0, 0, 1, -1/3 |  1/3,  2/3,  0]\n",
       "[0, 0, 0,    0 |    0,    0,  0]\n",
       "[0, 0, 0,    0 |    0,    0,  0]\n",
       "]), pivots=(0, 1, 2))"
      ]
     },
     "metadata": {},
     "output_type": "display_data"
    },
    {
     "name": "stdout",
     "output_type": "stream",
     "text": [
      "Span(self) is a subspace of span(other).\n",
      "\n",
      "Check if span(self) is subspace of span(other)\n",
      "\n",
      "Before RREF: [other | self]\n"
     ]
    },
    {
     "data": {
      "text/latex": [
       "$\\displaystyle \\left[\\begin{array}{ccc|cccc}0 & -2 & 0 & 2 & 2 & -2 & 2\\\\1 & 1 & -1 & -1 & 0 & 2 & -1\\\\1 & 0 & 0 & 2 & 2 & 1 & 1\\\\0 & 1 & 0 & -1 & -1 & 1 & -1\\\\0 & 0 & 1 & 2 & 1 & 0 & 1\\end{array}\\right]$"
      ],
      "text/plain": [
       "Matrix([\n",
       "[0, -2,  0 |  2,  2, -2,  2]\n",
       "[1,  1, -1 | -1,  0,  2, -1]\n",
       "[1,  0,  0 |  2,  2,  1,  1]\n",
       "[0,  1,  0 | -1, -1,  1, -1]\n",
       "[0,  0,  1 |  2,  1,  0,  1]\n",
       "])"
      ]
     },
     "metadata": {},
     "output_type": "display_data"
    },
    {
     "name": "stdout",
     "output_type": "stream",
     "text": [
      "\n",
      "After RREF:\n"
     ]
    },
    {
     "data": {
      "text/latex": [
       "$\\text{RREF}\\left\\{\\text{rref} = \\left[\\begin{array}{ccc|cccc}1 & 0 & 0 & 2 & 2 & 1 & 1\\\\0 & 1 & 0 & -1 & -1 & 1 & -1\\\\0 & 0 & 1 & 2 & 1 & 0 & 1\\\\0 & 0 & 0 & 0 & 0 & 0 & 0\\\\0 & 0 & 0 & 0 & 0 & 0 & 0\\end{array}\\right], \\quad\\text{pivots} = (0, 1, 2)\\right\\}$"
      ],
      "text/plain": [
       "RREF(rref=Matrix([\n",
       "[1, 0, 0 |  2,  2, 1,  1]\n",
       "[0, 1, 0 | -1, -1, 1, -1]\n",
       "[0, 0, 1 |  2,  1, 0,  1]\n",
       "[0, 0, 0 |  0,  0, 0,  0]\n",
       "[0, 0, 0 |  0,  0, 0,  0]\n",
       "]), pivots=(0, 1, 2))"
      ]
     },
     "metadata": {},
     "output_type": "display_data"
    },
    {
     "name": "stdout",
     "output_type": "stream",
     "text": [
      "Span(self) is a subspace of span(other).\n",
      "\n"
     ]
    },
    {
     "data": {
      "text/plain": [
       "True"
      ]
     },
     "execution_count": 50,
     "metadata": {},
     "output_type": "execute_result"
    }
   ],
   "source": [
    "V.is_same_subspace(A)"
   ]
  },
  {
   "cell_type": "code",
   "execution_count": 65,
   "id": "49d0c974",
   "metadata": {},
   "outputs": [
    {
     "data": {
      "text/latex": [
       "$\\displaystyle R_2 - \\left(1\\right)R_1 \\rightarrow R_2$"
      ],
      "text/plain": [
       "<IPython.core.display.Math object>"
      ]
     },
     "metadata": {},
     "output_type": "display_data"
    },
    {
     "data": {
      "text/latex": [
       "$\\displaystyle \\left[\\begin{array}{ccc}1 & 1 & 1\\\\0 & a & a - 1\\\\-1 & -1 & - a\\\\2 & 2 & a + 1\\end{array}\\right]$"
      ],
      "text/plain": [
       "Matrix([\n",
       "[ 1,  1,     1]\n",
       "[ 0,  a, a - 1]\n",
       "[-1, -1,    -a]\n",
       "[ 2,  2, a + 1]\n",
       "])"
      ]
     },
     "metadata": {},
     "output_type": "display_data"
    },
    {
     "name": "stdout",
     "output_type": "stream",
     "text": [
      "\n",
      "\n"
     ]
    },
    {
     "data": {
      "text/latex": [
       "$\\displaystyle R_3 - \\left(-1\\right)R_1 \\rightarrow R_3$"
      ],
      "text/plain": [
       "<IPython.core.display.Math object>"
      ]
     },
     "metadata": {},
     "output_type": "display_data"
    },
    {
     "data": {
      "text/latex": [
       "$\\displaystyle \\left[\\begin{array}{ccc}1 & 1 & 1\\\\0 & a & a - 1\\\\0 & 0 & 1 - a\\\\2 & 2 & a + 1\\end{array}\\right]$"
      ],
      "text/plain": [
       "Matrix([\n",
       "[1, 1,     1]\n",
       "[0, a, a - 1]\n",
       "[0, 0, 1 - a]\n",
       "[2, 2, a + 1]\n",
       "])"
      ]
     },
     "metadata": {},
     "output_type": "display_data"
    },
    {
     "name": "stdout",
     "output_type": "stream",
     "text": [
      "\n",
      "\n"
     ]
    },
    {
     "data": {
      "text/latex": [
       "$\\displaystyle R_4 - \\left(2\\right)R_1 \\rightarrow R_4$"
      ],
      "text/plain": [
       "<IPython.core.display.Math object>"
      ]
     },
     "metadata": {},
     "output_type": "display_data"
    },
    {
     "data": {
      "text/latex": [
       "$\\displaystyle \\left[\\begin{array}{ccc}1 & 1 & 1\\\\0 & a & a - 1\\\\0 & 0 & 1 - a\\\\0 & 0 & a - 1\\end{array}\\right]$"
      ],
      "text/plain": [
       "Matrix([\n",
       "[1, 1,     1]\n",
       "[0, a, a - 1]\n",
       "[0, 0, 1 - a]\n",
       "[0, 0, a - 1]\n",
       "])"
      ]
     },
     "metadata": {},
     "output_type": "display_data"
    },
    {
     "name": "stdout",
     "output_type": "stream",
     "text": [
      "\n",
      "\n"
     ]
    },
    {
     "data": {
      "text/latex": [
       "$\\displaystyle R_4 - \\left(-1\\right)R_3 \\rightarrow R_4$"
      ],
      "text/plain": [
       "<IPython.core.display.Math object>"
      ]
     },
     "metadata": {},
     "output_type": "display_data"
    },
    {
     "data": {
      "text/latex": [
       "$\\displaystyle \\left[\\begin{array}{ccc}1 & 1 & 1\\\\0 & a & a - 1\\\\0 & 0 & 1 - a\\\\0 & 0 & 0\\end{array}\\right]$"
      ],
      "text/plain": [
       "Matrix([\n",
       "[1, 1,     1]\n",
       "[0, a, a - 1]\n",
       "[0, 0, 1 - a]\n",
       "[0, 0,     0]\n",
       "])"
      ]
     },
     "metadata": {},
     "output_type": "display_data"
    },
    {
     "name": "stdout",
     "output_type": "stream",
     "text": [
      "\n",
      "\n"
     ]
    },
    {
     "data": {
      "text/latex": [
       "$\\displaystyle \\left[\\begin{array}{ccc}1 & 1 & 1\\\\0 & a & a - 1\\\\0 & 0 & 1 - a\\\\0 & 0 & 0\\end{array}\\right]$"
      ],
      "text/plain": [
       "Matrix([\n",
       "[1, 1,     1]\n",
       "[0, a, a - 1]\n",
       "[0, 0, 1 - a]\n",
       "[0, 0,     0]\n",
       "])"
      ]
     },
     "execution_count": 65,
     "metadata": {},
     "output_type": "execute_result"
    }
   ],
   "source": [
    "A = Matrix.from_str(\"1 1 -1 2; 1 a+1 -1 2; 1 a -a a+1\").T\n",
    "A.ref().U"
   ]
  },
  {
   "cell_type": "code",
   "execution_count": 58,
   "id": "a21e400f",
   "metadata": {},
   "outputs": [
    {
     "data": {
      "text/latex": [
       "$\\displaystyle \\left[\\begin{array}{cccc}1 & 2 & 3 & 4\\\\0 & 3 & 1 & 2\\\\0 & 0 & -1 & -1\\\\0 & 0 & 0 & -2\\end{array}\\right]$"
      ],
      "text/plain": [
       "Matrix([\n",
       "[1, 2,  3,  4]\n",
       "[0, 3,  1,  2]\n",
       "[0, 0, -1, -1]\n",
       "[0, 0,  0, -2]\n",
       "])"
      ]
     },
     "execution_count": 58,
     "metadata": {},
     "output_type": "execute_result"
    }
   ],
   "source": [
    "a1, a2, a3, a4, b1, b2, b3, b4, c1, c2, c3, c4, d1, d2, d3, d4 = sym.symbols(\"a1 a2 a3 a4 b1 b2 b3 b4 c1 c2 c3 c4 d1 d2 d3 d4\")\n",
    "P = Matrix.from_str(\"1 2 3 4; 0 3 1 2; 0 0 -1 -1; 0 0 0 -2\")\n",
    "Q = Matrix.from_str(\"0 0 1 2; 0 0 3 4; 1 -3 0 0 ; -2 4 0 0 \")\n",
    "X = Matrix([[a1, a2, a3, a4], \n",
    "            [b1, b2, b3, b4],\n",
    "            [c1, c2, c3, c4],\n",
    "            [d1, d2, d3, d4]])\n",
    "\n",
    "LHS = P\n",
    "LHS"
   ]
  },
  {
   "cell_type": "code",
   "execution_count": 59,
   "id": "426aac3a",
   "metadata": {},
   "outputs": [
    {
     "data": {
      "text/latex": [
       "$\\displaystyle \\left[\\begin{array}{cccc}- a_{3} + 2 a_{4} + c_{1} + 2 d_{1} & 3 a_{3} - 4 a_{4} + c_{2} + 2 d_{2} & - a_{1} - 3 a_{2} + c_{3} + 2 d_{3} & - 2 a_{1} - 4 a_{2} + c_{4} + 2 d_{4}\\\\- b_{3} + 2 b_{4} + 3 c_{1} + 4 d_{1} & 3 b_{3} - 4 b_{4} + 3 c_{2} + 4 d_{2} & - b_{1} - 3 b_{2} + 3 c_{3} + 4 d_{3} & - 2 b_{1} - 4 b_{2} + 3 c_{4} + 4 d_{4}\\\\a_{1} - 3 b_{1} - c_{3} + 2 c_{4} & a_{2} - 3 b_{2} + 3 c_{3} - 4 c_{4} & a_{3} - 3 b_{3} - c_{1} - 3 c_{2} & a_{4} - 3 b_{4} - 2 c_{1} - 4 c_{2}\\\\- 2 a_{1} + 4 b_{1} - d_{3} + 2 d_{4} & - 2 a_{2} + 4 b_{2} + 3 d_{3} - 4 d_{4} & - 2 a_{3} + 4 b_{3} - d_{1} - 3 d_{2} & - 2 a_{4} + 4 b_{4} - 2 d_{1} - 4 d_{2}\\end{array}\\right]$"
      ],
      "text/plain": [
       "Matrix([\n",
       "[  -a3 + 2*a4 + c1 + 2*d1,    3*a3 - 4*a4 + c2 + 2*d2,   -a1 - 3*a2 + c3 + 2*d3,   -2*a1 - 4*a2 + c4 + 2*d4]\n",
       "[-b3 + 2*b4 + 3*c1 + 4*d1,  3*b3 - 4*b4 + 3*c2 + 4*d2, -b1 - 3*b2 + 3*c3 + 4*d3, -2*b1 - 4*b2 + 3*c4 + 4*d4]\n",
       "[   a1 - 3*b1 - c3 + 2*c4,    a2 - 3*b2 + 3*c3 - 4*c4,    a3 - 3*b3 - c1 - 3*c2,    a4 - 3*b4 - 2*c1 - 4*c2]\n",
       "[-2*a1 + 4*b1 - d3 + 2*d4, -2*a2 + 4*b2 + 3*d3 - 4*d4, -2*a3 + 4*b3 - d1 - 3*d2, -2*a4 + 4*b4 - 2*d1 - 4*d2]\n",
       "])"
      ]
     },
     "execution_count": 59,
     "metadata": {},
     "output_type": "execute_result"
    }
   ],
   "source": [
    "RHS = Q@X - X@Q\n",
    "RHS"
   ]
  },
  {
   "cell_type": "code",
   "execution_count": null,
   "id": "14a03518",
   "metadata": {},
   "outputs": [],
   "source": [
    "Matrix.from_str(\"\"\"\n",
    "                0 0 -1 2 0 0 0 0 1 0 0 0 2 0 0 0 1;\n",
    "                0 0 3 -4 0 0 0 0 0 1 0 0 0 2 0 0 2;\n",
    "                -1 -3 0 \n",
    "                \"\"\")"
   ]
  },
  {
   "cell_type": "code",
   "execution_count": 71,
   "id": "40bb3b01",
   "metadata": {},
   "outputs": [
    {
     "data": {
      "text/latex": [
       "$\\displaystyle \\left[\\begin{array}{c}- a + 2 b - 9\\\\- 5 a + b + 7\\\\- 5 a + b + 1\\\\3 a - b + 2\\end{array}\\right]$"
      ],
      "text/plain": [
       "Matrix([\n",
       "[-a + 2*b - 9]\n",
       "[-5*a + b + 7]\n",
       "[-5*a + b + 1]\n",
       "[ 3*a - b + 2]\n",
       "])"
      ]
     },
     "execution_count": 71,
     "metadata": {},
     "output_type": "execute_result"
    }
   ],
   "source": [
    "a, b = sym.symbols(\"a b\")\n",
    "A = Matrix([[a, 1-2*b-2*a, -2*a-4],\n",
    "            [-a, 2*a-b-1, 3-a],\n",
    "            [-a, 2*a-b-1, -a],\n",
    "            [2*a, a+b+2, a+2]])\n",
    "c = Matrix.from_str(\"-4 5 2 2\").T\n",
    "x = Matrix.from_str(\"1 -1 2\").T\n",
    "\n",
    "A@x"
   ]
  },
  {
   "cell_type": "code",
   "execution_count": 73,
   "id": "cffd66ae",
   "metadata": {},
   "outputs": [
    {
     "data": {
      "text/latex": [
       "$\\text{RREF}\\left\\{\\text{rref} = \\left[\\begin{array}{cccccc|c}1 & 0 & 0 & 0 & 0 & 0 & 1\\\\0 & 1 & 0 & 0 & 0 & 0 & -1\\\\0 & 0 & 1 & 0 & 0 & 0 & -2\\\\0 & 0 & 0 & 1 & 0 & 0 & 1\\\\0 & 0 & 0 & 0 & 1 & 0 & 2\\\\0 & 0 & 0 & 0 & 0 & 1 & 4\\end{array}\\right], \\quad\\text{pivots} = (0, 1, 2, 3, 4, 5)\\right\\}$"
      ],
      "text/plain": [
       "RREF(rref=Matrix([\n",
       "[1, 0, 0, 0, 0, 0 |  1]\n",
       "[0, 1, 0, 0, 0, 0 | -1]\n",
       "[0, 0, 1, 0, 0, 0 | -2]\n",
       "[0, 0, 0, 1, 0, 0 |  1]\n",
       "[0, 0, 0, 0, 1, 0 |  2]\n",
       "[0, 0, 0, 0, 0, 1 |  4]\n",
       "]), pivots=(0, 1, 2, 3, 4, 5))"
      ]
     },
     "execution_count": 73,
     "metadata": {},
     "output_type": "execute_result"
    }
   ],
   "source": [
    "A = Matrix.from_str(\"1 4 4 5 4 5; 1 -1 -1 5 2 4; 5 0 3 1 2 3; -1 1 2 3 5 0; 5 3 4 0 3 0; 5 -1 4 -1 3 5\")\n",
    "B = Matrix.from_str(\"22 29 16 7 0 23\").T\n",
    "\n",
    "R = A.row_join(B)\n",
    "R.rref()"
   ]
  },
  {
   "cell_type": "code",
   "execution_count": 75,
   "id": "67461b96",
   "metadata": {},
   "outputs": [
    {
     "data": {
      "text/latex": [
       "$\\displaystyle R_2 - \\left(\\frac{a}{2}\\right)R_1 \\rightarrow R_2$"
      ],
      "text/plain": [
       "<IPython.core.display.Math object>"
      ]
     },
     "metadata": {},
     "output_type": "display_data"
    },
    {
     "data": {
      "text/latex": [
       "$\\displaystyle \\left[\\begin{array}{ccc|c}2 a & b + 2 & 3 & 3\\\\0 & - \\frac{a b}{2} - a + b & - \\frac{a}{2} & 1 - \\frac{a}{2}\\\\a & b + 1 & 2 & 2\\end{array}\\right]$"
      ],
      "text/plain": [
       "Matrix([\n",
       "[2*a,          b + 2,    3 |       3]\n",
       "[  0, -a*b/2 - a + b, -a/2 | 1 - a/2]\n",
       "[  a,          b + 1,    2 |       2]\n",
       "])"
      ]
     },
     "metadata": {},
     "output_type": "display_data"
    },
    {
     "name": "stdout",
     "output_type": "stream",
     "text": [
      "\n",
      "\n"
     ]
    },
    {
     "data": {
      "text/latex": [
       "$\\displaystyle R_3 - \\left(\\frac{1}{2}\\right)R_1 \\rightarrow R_3$"
      ],
      "text/plain": [
       "<IPython.core.display.Math object>"
      ]
     },
     "metadata": {},
     "output_type": "display_data"
    },
    {
     "data": {
      "text/latex": [
       "$\\displaystyle \\left[\\begin{array}{ccc|c}2 a & b + 2 & 3 & 3\\\\0 & - \\frac{a b}{2} - a + b & - \\frac{a}{2} & 1 - \\frac{a}{2}\\\\0 & \\frac{b}{2} & \\frac{1}{2} & \\frac{1}{2}\\end{array}\\right]$"
      ],
      "text/plain": [
       "Matrix([\n",
       "[2*a,          b + 2,    3 |       3]\n",
       "[  0, -a*b/2 - a + b, -a/2 | 1 - a/2]\n",
       "[  0,            b/2,  1/2 |     1/2]\n",
       "])"
      ]
     },
     "metadata": {},
     "output_type": "display_data"
    },
    {
     "name": "stdout",
     "output_type": "stream",
     "text": [
      "\n",
      "\n"
     ]
    },
    {
     "name": "stderr",
     "output_type": "stream",
     "text": [
      "/var/folders/mf/_jc27bj14xv68vqy0mj9_w540000gn/T/ipykernel_9007/809919330.py:7: RuntimeWarning: ERROR: Max tries exceeded to reduce row 3 with row 2\n",
      "  plu = A.row_join(B).ref()\n"
     ]
    }
   ],
   "source": [
    "a, b = sym.symbols(\"a b\")\n",
    "A = Matrix([[2*a, b+2, 3],\n",
    "            [a**2, b, a],\n",
    "            [a, b+1, 2]])\n",
    "B = Matrix([[3, a+1, 2]]).T\n",
    "\n",
    "plu = A.row_join(B).ref()"
   ]
  },
  {
   "cell_type": "code",
   "execution_count": 76,
   "id": "669cf7f4",
   "metadata": {},
   "outputs": [
    {
     "data": {
      "text/latex": [
       "$\\displaystyle \\left[\\begin{array}{ccc|c}2 a & b + 2 & 3 & 3\\\\0 & - \\frac{a b}{2} - a + b & - \\frac{a}{2} & 1 - \\frac{a}{2}\\\\0 & \\frac{b}{2} & \\frac{1}{2} & \\frac{1}{2}\\end{array}\\right]$"
      ],
      "text/plain": [
       "Matrix([\n",
       "[2*a,          b + 2,    3 |       3]\n",
       "[  0, -a*b/2 - a + b, -a/2 | 1 - a/2]\n",
       "[  0,            b/2,  1/2 |     1/2]\n",
       "])"
      ]
     },
     "execution_count": 76,
     "metadata": {},
     "output_type": "execute_result"
    }
   ],
   "source": [
    "plu.U"
   ]
  },
  {
   "cell_type": "code",
   "execution_count": 77,
   "id": "d20b0929",
   "metadata": {},
   "outputs": [
    {
     "data": {
      "text/latex": [
       "$\\displaystyle R_3 - \\left(-1\\right)R_1 \\rightarrow R_3$"
      ],
      "text/plain": [
       "<IPython.core.display.Math object>"
      ]
     },
     "metadata": {},
     "output_type": "display_data"
    },
    {
     "data": {
      "text/latex": [
       "$\\displaystyle R_4 - \\left(-1\\right)R_3 \\rightarrow R_4$"
      ],
      "text/plain": [
       "<IPython.core.display.Math object>"
      ]
     },
     "metadata": {},
     "output_type": "display_data"
    },
    {
     "data": {
      "text/latex": [
       "$\\displaystyle R_4 - \\left(1\\right)R_2 \\rightarrow R_4$"
      ],
      "text/plain": [
       "<IPython.core.display.Math object>"
      ]
     },
     "metadata": {},
     "output_type": "display_data"
    },
    {
     "data": {
      "text/latex": [
       "$\\displaystyle R_3 - \\left(-1\\right)R_1 \\rightarrow R_3$"
      ],
      "text/plain": [
       "<IPython.core.display.Math object>"
      ]
     },
     "metadata": {},
     "output_type": "display_data"
    }
   ],
   "source": [
    "E_1 = Matrix.eye(4).reduce_row(2, -1, 0, verbosity=1)\n",
    "E_2 = Matrix.eye(4).reduce_row(3, -1, 2, verbosity=1)\n",
    "E_3 = Matrix.eye(4).reduce_row(3, 1, 1, verbosity=1)\n",
    "E_4 = Matrix.eye(4).reduce_row(2, -1, 0, verbosity=1)\n",
    "L = E_1**-1@ E_2**-1@ E_3**-1@ E_4**-1"
   ]
  },
  {
   "cell_type": "code",
   "execution_count": 79,
   "id": "d36c7067",
   "metadata": {},
   "outputs": [],
   "source": [
    "U = Matrix.from_str(\"1 1 -1; 0 1 -3; 0 0 0; 0 0 0\")\n",
    "b = Matrix.from_str(\"0 1 0 1\").T"
   ]
  },
  {
   "cell_type": "code",
   "execution_count": 82,
   "id": "a2ce7ea6",
   "metadata": {},
   "outputs": [],
   "source": [
    "y= L.solve(b)[0]"
   ]
  },
  {
   "cell_type": "code",
   "execution_count": 87,
   "id": "fab1b9cf",
   "metadata": {},
   "outputs": [
    {
     "data": {
      "text/latex": [
       "$\\displaystyle \\left[\\begin{array}{c}- 2 z - 1\\\\3 z + 1\\\\z\\end{array}\\right]$"
      ],
      "text/plain": [
       "Matrix([\n",
       "[-2*z - 1]\n",
       "[ 3*z + 1]\n",
       "[       z]\n",
       "])"
      ]
     },
     "execution_count": 87,
     "metadata": {},
     "output_type": "execute_result"
    }
   ],
   "source": [
    "U.solve(y)[0]"
   ]
  },
  {
   "cell_type": "code",
   "execution_count": 88,
   "id": "1d73f35b",
   "metadata": {},
   "outputs": [
    {
     "data": {
      "text/latex": [
       "$\\displaystyle \\left[\\begin{array}{cc}- b_{2} + 3 b_{3} & - 3 b_{1} + 3 b_{2} + 3 b_{4}\\\\b_{1} - 3 b_{3} - b_{4} & b_{2} - 3 b_{3}\\end{array}\\right]$"
      ],
      "text/plain": [
       "Matrix([\n",
       "[    -b2 + 3*b3, -3*b1 + 3*b2 + 3*b4]\n",
       "[b1 - 3*b3 - b4,           b2 - 3*b3]\n",
       "])"
      ]
     },
     "execution_count": 88,
     "metadata": {},
     "output_type": "execute_result"
    }
   ],
   "source": [
    "b1, b2, b3, b4 = sym.symbols(\"b1 b2 b3 b4\")\n",
    "A = Matrix.from_str(\"2 3; 1 -1\")\n",
    "B = Matrix([[b1 ,b2],[b3, b4]])\n",
    "\n",
    "A@B -B@A"
   ]
  },
  {
   "cell_type": "code",
   "execution_count": null,
   "id": "38221f8e",
   "metadata": {},
   "outputs": [
    {
     "data": {
      "text/latex": [
       "$\\displaystyle \\left[\\begin{array}{ccc}2 & 2 & 1\\\\0 & -1 & 3\\\\2 & -1 & 0\\end{array}\\right]$"
      ],
      "text/plain": [
       "Matrix([\n",
       "[2,  2, 1]\n",
       "[0, -1, 3]\n",
       "[2, -1, 0]\n",
       "])"
      ]
     },
     "execution_count": 90,
     "metadata": {},
     "output_type": "execute_result"
    }
   ],
   "source": [
    "x = Matrix.from_str(\"1 -1 2; -1 1 2; -2 -2 -1\").T\n",
    "b = Matrix.from_str(\"2 7 3; 2 5 -3; -9 -1 -2\").T\n",
    "\n",
    "b @ (x**-1)"
   ]
  },
  {
   "cell_type": "code",
   "execution_count": 91,
   "id": "e20a6535",
   "metadata": {},
   "outputs": [
    {
     "data": {
      "text/latex": [
       "$\\displaystyle 8$"
      ],
      "text/plain": [
       "8"
      ]
     },
     "execution_count": 91,
     "metadata": {},
     "output_type": "execute_result"
    }
   ],
   "source": [
    "2+2+1-1+3+2-1"
   ]
  },
  {
   "cell_type": "code",
   "execution_count": 93,
   "id": "4d1cd8c2",
   "metadata": {},
   "outputs": [
    {
     "data": {
      "text/latex": [
       "$\\displaystyle \\left[\\begin{array}{c}\\frac{3 z}{10}\\\\\\frac{21 z}{10}\\\\\\frac{7 z}{10}\\\\z\\end{array}\\right]$"
      ],
      "text/plain": [
       "Matrix([\n",
       "[ 3*z/10]\n",
       "[21*z/10]\n",
       "[ 7*z/10]\n",
       "[      z]\n",
       "])"
      ]
     },
     "execution_count": 93,
     "metadata": {},
     "output_type": "execute_result"
    }
   ],
   "source": [
    "U = Matrix.from_str(\"3 0 3 -3; 0 2 -6 0; 0 0 -10 7\")\n",
    "b = Matrix.from_str(\"0 0 0\").T\n",
    "U.solve(b)[0]"
   ]
  },
  {
   "cell_type": "code",
   "execution_count": 97,
   "id": "87ca0744",
   "metadata": {},
   "outputs": [
    {
     "data": {
      "text/latex": [
       "$\\displaystyle R_1 \\leftrightarrow R_2$"
      ],
      "text/plain": [
       "<IPython.core.display.Math object>"
      ]
     },
     "metadata": {},
     "output_type": "display_data"
    },
    {
     "data": {
      "text/latex": [
       "$\\displaystyle \\left[\\begin{array}{cccc|c}-1 & -1 & 1 & -2 & 0\\\\0 & a & 1 & -1 & 0\\\\-1 & 2 a - 1 & 2 a + 1 & 0 & 0\\\\2 & 2 - a & 2 a - 5 & 7 & 0\\end{array}\\right]$"
      ],
      "text/plain": [
       "Matrix([\n",
       "[-1,      -1,       1, -2 | 0]\n",
       "[ 0,       a,       1, -1 | 0]\n",
       "[-1, 2*a - 1, 2*a + 1,  0 | 0]\n",
       "[ 2,   2 - a, 2*a - 5,  7 | 0]\n",
       "])"
      ]
     },
     "metadata": {},
     "output_type": "display_data"
    },
    {
     "name": "stdout",
     "output_type": "stream",
     "text": [
      "\n",
      "\n"
     ]
    },
    {
     "data": {
      "text/latex": [
       "$\\displaystyle R_3 - \\left(1\\right)R_1 \\rightarrow R_3$"
      ],
      "text/plain": [
       "<IPython.core.display.Math object>"
      ]
     },
     "metadata": {},
     "output_type": "display_data"
    },
    {
     "data": {
      "text/latex": [
       "$\\displaystyle \\left[\\begin{array}{cccc|c}-1 & -1 & 1 & -2 & 0\\\\0 & a & 1 & -1 & 0\\\\0 & 2 a & 2 a & 2 & 0\\\\2 & 2 - a & 2 a - 5 & 7 & 0\\end{array}\\right]$"
      ],
      "text/plain": [
       "Matrix([\n",
       "[-1,    -1,       1, -2 | 0]\n",
       "[ 0,     a,       1, -1 | 0]\n",
       "[ 0,   2*a,     2*a,  2 | 0]\n",
       "[ 2, 2 - a, 2*a - 5,  7 | 0]\n",
       "])"
      ]
     },
     "metadata": {},
     "output_type": "display_data"
    },
    {
     "name": "stdout",
     "output_type": "stream",
     "text": [
      "\n",
      "\n"
     ]
    },
    {
     "data": {
      "text/latex": [
       "$\\displaystyle R_4 - \\left(-2\\right)R_1 \\rightarrow R_4$"
      ],
      "text/plain": [
       "<IPython.core.display.Math object>"
      ]
     },
     "metadata": {},
     "output_type": "display_data"
    },
    {
     "data": {
      "text/latex": [
       "$\\displaystyle \\left[\\begin{array}{cccc|c}-1 & -1 & 1 & -2 & 0\\\\0 & a & 1 & -1 & 0\\\\0 & 2 a & 2 a & 2 & 0\\\\0 & - a & 2 a - 3 & 3 & 0\\end{array}\\right]$"
      ],
      "text/plain": [
       "Matrix([\n",
       "[-1,  -1,       1, -2 | 0]\n",
       "[ 0,   a,       1, -1 | 0]\n",
       "[ 0, 2*a,     2*a,  2 | 0]\n",
       "[ 0,  -a, 2*a - 3,  3 | 0]\n",
       "])"
      ]
     },
     "metadata": {},
     "output_type": "display_data"
    },
    {
     "name": "stdout",
     "output_type": "stream",
     "text": [
      "\n",
      "\n"
     ]
    },
    {
     "data": {
      "text/latex": [
       "$\\displaystyle R_3 - \\left(2\\right)R_2 \\rightarrow R_3$"
      ],
      "text/plain": [
       "<IPython.core.display.Math object>"
      ]
     },
     "metadata": {},
     "output_type": "display_data"
    },
    {
     "data": {
      "text/latex": [
       "$\\displaystyle \\left[\\begin{array}{cccc|c}-1 & -1 & 1 & -2 & 0\\\\0 & a & 1 & -1 & 0\\\\0 & 0 & 2 a - 2 & 4 & 0\\\\0 & - a & 2 a - 3 & 3 & 0\\end{array}\\right]$"
      ],
      "text/plain": [
       "Matrix([\n",
       "[-1, -1,       1, -2 | 0]\n",
       "[ 0,  a,       1, -1 | 0]\n",
       "[ 0,  0, 2*a - 2,  4 | 0]\n",
       "[ 0, -a, 2*a - 3,  3 | 0]\n",
       "])"
      ]
     },
     "metadata": {},
     "output_type": "display_data"
    },
    {
     "name": "stdout",
     "output_type": "stream",
     "text": [
      "\n",
      "\n"
     ]
    },
    {
     "data": {
      "text/latex": [
       "$\\displaystyle R_4 - \\left(-1\\right)R_2 \\rightarrow R_4$"
      ],
      "text/plain": [
       "<IPython.core.display.Math object>"
      ]
     },
     "metadata": {},
     "output_type": "display_data"
    },
    {
     "data": {
      "text/latex": [
       "$\\displaystyle \\left[\\begin{array}{cccc|c}-1 & -1 & 1 & -2 & 0\\\\0 & a & 1 & -1 & 0\\\\0 & 0 & 2 a - 2 & 4 & 0\\\\0 & 0 & 2 a - 2 & 2 & 0\\end{array}\\right]$"
      ],
      "text/plain": [
       "Matrix([\n",
       "[-1, -1,       1, -2 | 0]\n",
       "[ 0,  a,       1, -1 | 0]\n",
       "[ 0,  0, 2*a - 2,  4 | 0]\n",
       "[ 0,  0, 2*a - 2,  2 | 0]\n",
       "])"
      ]
     },
     "metadata": {},
     "output_type": "display_data"
    },
    {
     "name": "stdout",
     "output_type": "stream",
     "text": [
      "\n",
      "\n"
     ]
    },
    {
     "data": {
      "text/latex": [
       "$\\displaystyle R_4 - \\left(1\\right)R_3 \\rightarrow R_4$"
      ],
      "text/plain": [
       "<IPython.core.display.Math object>"
      ]
     },
     "metadata": {},
     "output_type": "display_data"
    },
    {
     "data": {
      "text/latex": [
       "$\\displaystyle \\left[\\begin{array}{cccc|c}-1 & -1 & 1 & -2 & 0\\\\0 & a & 1 & -1 & 0\\\\0 & 0 & 2 a - 2 & 4 & 0\\\\0 & 0 & 0 & -2 & 0\\end{array}\\right]$"
      ],
      "text/plain": [
       "Matrix([\n",
       "[-1, -1,       1, -2 | 0]\n",
       "[ 0,  a,       1, -1 | 0]\n",
       "[ 0,  0, 2*a - 2,  4 | 0]\n",
       "[ 0,  0,       0, -2 | 0]\n",
       "])"
      ]
     },
     "metadata": {},
     "output_type": "display_data"
    },
    {
     "name": "stdout",
     "output_type": "stream",
     "text": [
      "\n",
      "\n"
     ]
    },
    {
     "data": {
      "text/latex": [
       "$\\left[\\begin{array}{cccc}0 & 1 & 0 & 0\\\\1 & 0 & 0 & 0\\\\0 & 0 & 1 & 0\\\\0 & 0 & 0 & 1\\end{array}\\right]\\left[\\begin{array}{cccc}1 & 0 & 0 & 0\\\\0 & 1 & 0 & 0\\\\1 & 2 & 1 & 0\\\\-2 & -1 & 1 & 1\\end{array}\\right]\\left[\\begin{array}{cccc|c}-1 & -1 & 1 & -2 & 0\\\\0 & a & 1 & -1 & 0\\\\0 & 0 & 2 a - 2 & 4 & 0\\\\0 & 0 & 0 & -2 & 0\\end{array}\\right]$"
      ],
      "text/plain": [
       "PLU(P=Matrix([\n",
       "[0, 1, 0, 0]\n",
       "[1, 0, 0, 0]\n",
       "[0, 0, 1, 0]\n",
       "[0, 0, 0, 1]\n",
       "]), L=Matrix([\n",
       "[ 1,  0, 0, 0]\n",
       "[ 0,  1, 0, 0]\n",
       "[ 1,  2, 1, 0]\n",
       "[-2, -1, 1, 1]\n",
       "]), U=Matrix([\n",
       "[-1, -1,       1, -2 | 0]\n",
       "[ 0,  a,       1, -1 | 0]\n",
       "[ 0,  0, 2*a - 2,  4 | 0]\n",
       "[ 0,  0,       0, -2 | 0]\n",
       "]))"
      ]
     },
     "execution_count": 97,
     "metadata": {},
     "output_type": "execute_result"
    }
   ],
   "source": [
    "a = sym.symbols(\"a\")\n",
    "A = Matrix([[0, a, 1, -1],\n",
    "            [-1, -1, 1, -2],\n",
    "            [-1, 2*a-1, 2*a+1, 0],\n",
    "            [2, 2-a, 2*a-5, 7]])\n",
    "b = Matrix.from_str(\"0 0 0 0\").T\n",
    "\n",
    "A.row_join(b).ref()"
   ]
  },
  {
   "cell_type": "code",
   "execution_count": 102,
   "id": "488874cb",
   "metadata": {},
   "outputs": [
    {
     "data": {
      "text/latex": [
       "$\\text{RREF}\\left\\{\\text{rref} = \\left[\\begin{array}{ccccccc}1 & 0 & 0 & -1 & 0 & - \\frac{1}{17} & - \\frac{48}{17}\\\\0 & 1 & 0 & 2 & 0 & - \\frac{18}{17} & - \\frac{31}{17}\\\\0 & 0 & 1 & -1 & 0 & - \\frac{30}{17} & - \\frac{63}{17}\\\\0 & 0 & 0 & 0 & 1 & \\frac{27}{17} & \\frac{55}{17}\\end{array}\\right], \\quad\\text{pivots} = (0, 1, 2, 4)\\right\\}$"
      ],
      "text/plain": [
       "RREF(rref=Matrix([\n",
       "[1, 0, 0, -1, 0,  -1/17, -48/17]\n",
       "[0, 1, 0,  2, 0, -18/17, -31/17]\n",
       "[0, 0, 1, -1, 0, -30/17, -63/17]\n",
       "[0, 0, 0,  0, 1,  27/17,  55/17]\n",
       "]), pivots=(0, 1, 2, 4))"
      ]
     },
     "execution_count": 102,
     "metadata": {},
     "output_type": "execute_result"
    }
   ],
   "source": [
    "A = Matrix.from_str(\"1 2 0 3; -1 3 3 3; 0 -2 1 1; -3 6 5 2; 0 3 5 7; 1 5 3 6; -1 6 7 5\").T\n",
    "A.rref()"
   ]
  },
  {
   "cell_type": "code",
   "execution_count": 105,
   "id": "948b724a",
   "metadata": {},
   "outputs": [],
   "source": [
    "a = sym.symbols(\"a\")\n",
    "A = Matrix.from_str(\"\"\"\n",
    "3 3 -3 2;\n",
    "7 1 5 2;\n",
    "2 -1 4 2\n",
    "\"\"\").T\n",
    "U = Matrix([[1, a, -a, 4]]).T"
   ]
  },
  {
   "cell_type": "code",
   "execution_count": 106,
   "id": "7964e05e",
   "metadata": {},
   "outputs": [
    {
     "data": {
      "text/latex": [
       "$\\displaystyle R_2 - \\left(1\\right)R_1 \\rightarrow R_2$"
      ],
      "text/plain": [
       "<IPython.core.display.Math object>"
      ]
     },
     "metadata": {},
     "output_type": "display_data"
    },
    {
     "data": {
      "text/latex": [
       "$\\displaystyle \\left[\\begin{array}{ccc|c}3 & 7 & 2 & 1\\\\0 & -6 & -3 & a - 1\\\\-3 & 5 & 4 & - a\\\\2 & 2 & 2 & 4\\end{array}\\right]$"
      ],
      "text/plain": [
       "Matrix([\n",
       "[ 3,  7,  2 |     1]\n",
       "[ 0, -6, -3 | a - 1]\n",
       "[-3,  5,  4 |    -a]\n",
       "[ 2,  2,  2 |     4]\n",
       "])"
      ]
     },
     "metadata": {},
     "output_type": "display_data"
    },
    {
     "name": "stdout",
     "output_type": "stream",
     "text": [
      "\n",
      "\n"
     ]
    },
    {
     "data": {
      "text/latex": [
       "$\\displaystyle R_3 - \\left(-1\\right)R_1 \\rightarrow R_3$"
      ],
      "text/plain": [
       "<IPython.core.display.Math object>"
      ]
     },
     "metadata": {},
     "output_type": "display_data"
    },
    {
     "data": {
      "text/latex": [
       "$\\displaystyle \\left[\\begin{array}{ccc|c}3 & 7 & 2 & 1\\\\0 & -6 & -3 & a - 1\\\\0 & 12 & 6 & 1 - a\\\\2 & 2 & 2 & 4\\end{array}\\right]$"
      ],
      "text/plain": [
       "Matrix([\n",
       "[3,  7,  2 |     1]\n",
       "[0, -6, -3 | a - 1]\n",
       "[0, 12,  6 | 1 - a]\n",
       "[2,  2,  2 |     4]\n",
       "])"
      ]
     },
     "metadata": {},
     "output_type": "display_data"
    },
    {
     "name": "stdout",
     "output_type": "stream",
     "text": [
      "\n",
      "\n"
     ]
    },
    {
     "data": {
      "text/latex": [
       "$\\displaystyle R_4 - \\left(\\frac{2}{3}\\right)R_1 \\rightarrow R_4$"
      ],
      "text/plain": [
       "<IPython.core.display.Math object>"
      ]
     },
     "metadata": {},
     "output_type": "display_data"
    },
    {
     "data": {
      "text/latex": [
       "$\\displaystyle \\left[\\begin{array}{ccc|c}3 & 7 & 2 & 1\\\\0 & -6 & -3 & a - 1\\\\0 & 12 & 6 & 1 - a\\\\0 & - \\frac{8}{3} & \\frac{2}{3} & \\frac{10}{3}\\end{array}\\right]$"
      ],
      "text/plain": [
       "Matrix([\n",
       "[3,    7,   2 |     1]\n",
       "[0,   -6,  -3 | a - 1]\n",
       "[0,   12,   6 | 1 - a]\n",
       "[0, -8/3, 2/3 |  10/3]\n",
       "])"
      ]
     },
     "metadata": {},
     "output_type": "display_data"
    },
    {
     "name": "stdout",
     "output_type": "stream",
     "text": [
      "\n",
      "\n"
     ]
    },
    {
     "data": {
      "text/latex": [
       "$\\displaystyle R_3 - \\left(-2\\right)R_2 \\rightarrow R_3$"
      ],
      "text/plain": [
       "<IPython.core.display.Math object>"
      ]
     },
     "metadata": {},
     "output_type": "display_data"
    },
    {
     "data": {
      "text/latex": [
       "$\\displaystyle \\left[\\begin{array}{ccc|c}3 & 7 & 2 & 1\\\\0 & -6 & -3 & a - 1\\\\0 & 0 & 0 & a - 1\\\\0 & - \\frac{8}{3} & \\frac{2}{3} & \\frac{10}{3}\\end{array}\\right]$"
      ],
      "text/plain": [
       "Matrix([\n",
       "[3,    7,   2 |     1]\n",
       "[0,   -6,  -3 | a - 1]\n",
       "[0,    0,   0 | a - 1]\n",
       "[0, -8/3, 2/3 |  10/3]\n",
       "])"
      ]
     },
     "metadata": {},
     "output_type": "display_data"
    },
    {
     "name": "stdout",
     "output_type": "stream",
     "text": [
      "\n",
      "\n"
     ]
    },
    {
     "data": {
      "text/latex": [
       "$\\displaystyle R_4 - \\left(\\frac{4}{9}\\right)R_2 \\rightarrow R_4$"
      ],
      "text/plain": [
       "<IPython.core.display.Math object>"
      ]
     },
     "metadata": {},
     "output_type": "display_data"
    },
    {
     "data": {
      "text/latex": [
       "$\\displaystyle \\left[\\begin{array}{ccc|c}3 & 7 & 2 & 1\\\\0 & -6 & -3 & a - 1\\\\0 & 0 & 0 & a - 1\\\\0 & 0 & 2 & \\frac{34}{9} - \\frac{4 a}{9}\\end{array}\\right]$"
      ],
      "text/plain": [
       "Matrix([\n",
       "[3,  7,  2 |            1]\n",
       "[0, -6, -3 |        a - 1]\n",
       "[0,  0,  0 |        a - 1]\n",
       "[0,  0,  2 | 34/9 - 4*a/9]\n",
       "])"
      ]
     },
     "metadata": {},
     "output_type": "display_data"
    },
    {
     "name": "stdout",
     "output_type": "stream",
     "text": [
      "\n",
      "\n"
     ]
    },
    {
     "data": {
      "text/latex": [
       "$\\displaystyle R_3 \\leftrightarrow R_4$"
      ],
      "text/plain": [
       "<IPython.core.display.Math object>"
      ]
     },
     "metadata": {},
     "output_type": "display_data"
    },
    {
     "data": {
      "text/latex": [
       "$\\displaystyle \\left[\\begin{array}{ccc|c}3 & 7 & 2 & 1\\\\0 & -6 & -3 & a - 1\\\\0 & 0 & 2 & \\frac{34}{9} - \\frac{4 a}{9}\\\\0 & 0 & 0 & a - 1\\end{array}\\right]$"
      ],
      "text/plain": [
       "Matrix([\n",
       "[3,  7,  2 |            1]\n",
       "[0, -6, -3 |        a - 1]\n",
       "[0,  0,  2 | 34/9 - 4*a/9]\n",
       "[0,  0,  0 |        a - 1]\n",
       "])"
      ]
     },
     "metadata": {},
     "output_type": "display_data"
    },
    {
     "name": "stdout",
     "output_type": "stream",
     "text": [
      "\n",
      "\n"
     ]
    },
    {
     "data": {
      "text/latex": [
       "$\\left[\\begin{array}{cccc}1 & 0 & 0 & 0\\\\0 & 1 & 0 & 0\\\\0 & 0 & 0 & 1\\\\0 & 0 & 1 & 0\\end{array}\\right]\\left[\\begin{array}{cccc}1 & 0 & 0 & 0\\\\1 & 1 & 0 & 0\\\\\\frac{2}{3} & \\frac{4}{9} & 1 & 0\\\\-1 & -2 & 0 & 1\\end{array}\\right]\\left[\\begin{array}{ccc|c}3 & 7 & 2 & 1\\\\0 & -6 & -3 & a - 1\\\\0 & 0 & 2 & \\frac{34}{9} - \\frac{4 a}{9}\\\\0 & 0 & 0 & a - 1\\end{array}\\right]$"
      ],
      "text/plain": [
       "PLU(P=Matrix([\n",
       "[1, 0, 0, 0]\n",
       "[0, 1, 0, 0]\n",
       "[0, 0, 0, 1]\n",
       "[0, 0, 1, 0]\n",
       "]), L=Matrix([\n",
       "[  1,   0, 0, 0]\n",
       "[  1,   1, 0, 0]\n",
       "[2/3, 4/9, 1, 0]\n",
       "[ -1,  -2, 0, 1]\n",
       "]), U=Matrix([\n",
       "[3,  7,  2 |            1]\n",
       "[0, -6, -3 |        a - 1]\n",
       "[0,  0,  2 | 34/9 - 4*a/9]\n",
       "[0,  0,  0 |        a - 1]\n",
       "]))"
      ]
     },
     "execution_count": 106,
     "metadata": {},
     "output_type": "execute_result"
    }
   ],
   "source": [
    "A.row_join(U).ref()"
   ]
  },
  {
   "cell_type": "code",
   "execution_count": null,
   "id": "27b7fffe",
   "metadata": {},
   "outputs": [],
   "source": []
  },
  {
   "cell_type": "code",
   "execution_count": null,
   "id": "1ed2b49e",
   "metadata": {},
   "outputs": [],
   "source": []
  },
  {
   "cell_type": "code",
   "execution_count": 124,
   "id": "ac6dbf6a",
   "metadata": {},
   "outputs": [
    {
     "data": {
      "text/latex": [
       "$\\displaystyle \\left[\\begin{array}{cc}a - 2 x_{1} & - a + 2 x_{1}\\\\x_{2} - 2 x_{3} & - x_{2} + 2 x_{3}\\end{array}\\right]$"
      ],
      "text/plain": [
       "Matrix([\n",
       "[ a - 2*x1,  -a + 2*x1]\n",
       "[x2 - 2*x3, -x2 + 2*x3]\n",
       "])"
      ]
     },
     "execution_count": 124,
     "metadata": {},
     "output_type": "execute_result"
    }
   ],
   "source": [
    "a, x1, x2, x3 = sym.symbols(\"a x1 x2 x3\")\n",
    "A = Matrix([[a, x1],\n",
    "            [x2, x3]])\n",
    "x = Matrix.from_str(\"1 -1; -2 2\")\n",
    "\n",
    "A@x"
   ]
  },
  {
   "cell_type": "code",
   "execution_count": 125,
   "id": "d3963978",
   "metadata": {},
   "outputs": [],
   "source": [
    "a = Matrix.from_str(\"1 2 0; 3 -1 2; 1 2 2; 1 1 -1\").T\n",
    "b = Matrix.from_str(\"1 1 1; 2 -1 2; 1 1 2; 1 1 -2\").T\n",
    "c = Matrix.from_str(\"1 1 0; 2 2 0; 0 0 1; 1 1 1\").T\n",
    "d = Matrix.from_str(\"1 0 0; 0 0 1; 0 0 0; 1 0 -1\").T\n",
    "e = Matrix.from_str(\"1 -1 0; 1 0 0; -2 2 0; 2 0 0\").T"
   ]
  },
  {
   "cell_type": "code",
   "execution_count": 126,
   "id": "12748c36",
   "metadata": {},
   "outputs": [
    {
     "name": "stdout",
     "output_type": "stream",
     "text": [
      "True\n",
      "True\n",
      "False\n",
      "False\n",
      "False\n"
     ]
    }
   ],
   "source": [
    "print(a.is_same_subspace(verbosity=0))\n",
    "print(b.is_same_subspace(verbosity=0))\n",
    "print(c.is_same_subspace(verbosity=0))\n",
    "print(d.is_same_subspace(verbosity=0))\n",
    "print(e.is_same_subspace(verbosity=0))"
   ]
  },
  {
   "cell_type": "code",
   "execution_count": 127,
   "id": "8c0afb95",
   "metadata": {},
   "outputs": [
    {
     "data": {
      "text/latex": [
       "$\\displaystyle \\left[\\begin{array}{cc}-1 & 1\\\\1 & -1\\\\1 & 0\\\\0 & 1\\end{array}\\right]$"
      ],
      "text/plain": [
       "Matrix([\n",
       "[-1,  1]\n",
       "[ 1, -1]\n",
       "[ 1,  0]\n",
       "[ 0,  1]\n",
       "])"
      ]
     },
     "execution_count": 127,
     "metadata": {},
     "output_type": "execute_result"
    }
   ],
   "source": [
    "V = Matrix.from_str(\"1 1 0 0; 0 1 -1 1\")\n",
    "V = Matrix.from_list(V.nullspace())\n",
    "V"
   ]
  },
  {
   "cell_type": "code",
   "execution_count": 121,
   "id": "7b9ce363",
   "metadata": {},
   "outputs": [],
   "source": [
    "a = Matrix.from_str(\"1 -1 1 2; 3 -3 -1 2; 0 0 1 1\").T\n",
    "b = Matrix.from_str(\"1 -1 0 1; 0 0 1 1; 1 -1 1 2\").T\n",
    "c = Matrix.from_str(\"-1 1 1 0; 1 -1 1 0; 1 -1 1 2\").T\n",
    "d = Matrix.from_str(\"1 -1 0 0; -1 1 0 0; 0 0 1 1\").T\n",
    "e = Matrix.from_str(\"-1 1 1 0; 1 -1 -1 0; 0 0 0 1\").T"
   ]
  },
  {
   "cell_type": "code",
   "execution_count": 122,
   "id": "90d4eb88",
   "metadata": {},
   "outputs": [
    {
     "name": "stdout",
     "output_type": "stream",
     "text": [
      "True\n",
      "True\n",
      "False\n",
      "False\n",
      "False\n"
     ]
    }
   ],
   "source": [
    "print(a.is_same_subspace(V, verbosity=0))\n",
    "print(b.is_same_subspace(V, verbosity=0))\n",
    "print(c.is_same_subspace(V, verbosity=0))\n",
    "print(d.is_same_subspace(V, verbosity=0))\n",
    "print(e.is_same_subspace(V, verbosity=0))"
   ]
  },
  {
   "cell_type": "code",
   "execution_count": null,
   "id": "2e666539",
   "metadata": {},
   "outputs": [],
   "source": []
  }
 ],
 "metadata": {
  "kernelspec": {
   "display_name": "ma1522-linear-algebra (3.10.18)",
   "language": "python",
   "name": "python3"
  },
  "language_info": {
   "codemirror_mode": {
    "name": "ipython",
    "version": 3
   },
   "file_extension": ".py",
   "mimetype": "text/x-python",
   "name": "python",
   "nbconvert_exporter": "python",
   "pygments_lexer": "ipython3",
   "version": "3.10.18"
  }
 },
 "nbformat": 4,
 "nbformat_minor": 5
}

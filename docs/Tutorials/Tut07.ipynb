{
 "cells": [
  {
   "cell_type": "code",
   "execution_count": null,
   "id": "174817bb",
   "metadata": {},
   "outputs": [],
   "source": [
    "pass"
   ]
  }
 ],
 "metadata": {
  "language_info": {
   "name": "python"
  }
 },
 "nbformat": 4,
 "nbformat_minor": 5
}

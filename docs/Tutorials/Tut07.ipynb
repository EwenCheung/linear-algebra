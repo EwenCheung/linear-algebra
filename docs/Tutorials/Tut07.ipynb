{
 "cells": [
  {
   "cell_type": "markdown",
   "id": "a15e3e3f",
   "metadata": {},
   "source": [
    "# Tutorial 07 (AY24/25 Sem 1)"
   ]
  },
  {
   "cell_type": "code",
   "execution_count": 1,
   "id": "174817bb",
   "metadata": {},
   "outputs": [],
   "source": [
    "# For loading the ma1522 package from the src directory\n",
    "# This is not required if you install the package using pip.\n",
    "import sys\n",
    "from pathlib import Path\n",
    "\n",
    "# Navigate to src directory\n",
    "src_path = Path.cwd().parent.parent / \"src\"\n",
    "sys.path.insert(0, str(src_path))\n",
    "\n",
    "# Required imports\n",
    "import sympy as sym\n",
    "from ma1522 import Matrix"
   ]
  },
  {
   "cell_type": "markdown",
   "id": "76664256",
   "metadata": {},
   "source": [
    "## Question 1\n",
    "\n",
    "### (a)\n",
    "\n",
    "Let $a_1 x_1 + a_2 x_2 + \\cdots + a_n x_n = b$ be a linear equation. Express this linear system as $\\mathbf{a} \\cdot \\mathbf{x} = b$ for some (column) vectors $\\mathbf{a}$ and $\\mathbf{x}$.\n"
   ]
  },
  {
   "cell_type": "code",
   "execution_count": 2,
   "id": "961da447",
   "metadata": {},
   "outputs": [
    {
     "data": {
      "text/latex": [
       "$\\displaystyle \\left( \\left[\\begin{array}{c}a_{1}\\\\a_{2}\\\\a_{3}\\\\a_{4}\\end{array}\\right], \\  \\left[\\begin{array}{c}x_{1}\\\\x_{2}\\\\x_{3}\\\\x_{4}\\end{array}\\right]\\right)$"
      ],
      "text/plain": [
       "⎛⎡a₁⎤  ⎡x₁⎤⎞\n",
       "⎜⎢  ⎥  ⎢  ⎥⎟\n",
       "⎜⎢a₂⎥  ⎢x₂⎥⎟\n",
       "⎜⎢  ⎥, ⎢  ⎥⎟\n",
       "⎜⎢a₃⎥  ⎢x₃⎥⎟\n",
       "⎜⎢  ⎥  ⎢  ⎥⎟\n",
       "⎝⎣a₄⎦  ⎣x₄⎦⎠"
      ]
     },
     "execution_count": 2,
     "metadata": {},
     "output_type": "execute_result"
    }
   ],
   "source": [
    "# set n = 4\n",
    "a = Matrix.create_unk_matrix(r=4, symbol=\"a\")\n",
    "x = Matrix.create_unk_matrix(r=4, symbol=\"x\")\n",
    "a, x"
   ]
  },
  {
   "cell_type": "markdown",
   "id": "53609e31",
   "metadata": {},
   "source": [
    "### (b)\n",
    "\n",
    "Find the solution set of the linear system $$\\begin{cases}\n",
    "x_1 &+& 3x_2 &-& 2x_3 &&  &=& 0 \\\\\n",
    "2x_1 &+& 6x_2 &-& 5x_3 &-& 2x_4 &=& 0  \\\\\n",
    "&& && 5x_3 &+& 10x_4 &=& 0  \n",
    "\\end{cases}$$"
   ]
  },
  {
   "cell_type": "code",
   "execution_count": 3,
   "id": "48bf99fd",
   "metadata": {},
   "outputs": [
    {
     "data": {
      "text/latex": [
       "$\\displaystyle \\left( \\left[\\begin{array}{cccc}1 & 3 & -2 & 0\\\\2 & 6 & -5 & -2\\\\0 & 0 & 5 & 10\\end{array}\\right], \\  \\left[\\begin{array}{c}0\\\\0\\\\0\\end{array}\\right]\\right)$"
      ],
      "text/plain": [
       "⎛⎡1  3  -2  0 ⎤  ⎡0⎤⎞\n",
       "⎜⎢            ⎥  ⎢ ⎥⎟\n",
       "⎜⎢2  6  -5  -2⎥, ⎢0⎥⎟\n",
       "⎜⎢            ⎥  ⎢ ⎥⎟\n",
       "⎝⎣0  0  5   10⎦  ⎣0⎦⎠"
      ]
     },
     "execution_count": 3,
     "metadata": {},
     "output_type": "execute_result"
    }
   ],
   "source": [
    "mat = Matrix.from_str(\"1 3 -2 0; 2 6 -5 -2; 0 0 5 10\")\n",
    "aug = Matrix.zeros(rows=3, cols=1)\n",
    "mat, aug"
   ]
  },
  {
   "cell_type": "code",
   "execution_count": 4,
   "id": "db1d293b",
   "metadata": {},
   "outputs": [
    {
     "data": {
      "text/latex": [
       "$\\displaystyle \\left[\\begin{array}{c}- 3 x - 4 z\\\\x\\\\- 2 z\\\\z\\end{array}\\right]$"
      ],
      "text/plain": [
       "Matrix([\n",
       "[-3*x - 4*z]\n",
       "[         x]\n",
       "[      -2*z]\n",
       "[         z]\n",
       "])"
      ]
     },
     "execution_count": 4,
     "metadata": {},
     "output_type": "execute_result"
    }
   ],
   "source": [
    "sol = mat.solve(aug)\n",
    "sol"
   ]
  },
  {
   "cell_type": "code",
   "execution_count": 5,
   "id": "093752c6",
   "metadata": {},
   "outputs": [
    {
     "data": {
      "text/latex": [
       "$\\displaystyle \\left\\{ x : \\left[\\begin{array}{c}-3\\\\1\\\\0\\\\0\\end{array}\\right], \\  z : \\left[\\begin{array}{c}-4\\\\0\\\\-2\\\\1\\end{array}\\right]\\right\\}$"
      ],
      "text/plain": [
       "defaultdict(ma1522.symbolic.Matrix,\n",
       "            ⎧   ⎡-3⎤     ⎡-4⎤⎫\n",
       "⎪   ⎢  ⎥     ⎢  ⎥⎪\n",
       "⎪   ⎢1 ⎥     ⎢0 ⎥⎪\n",
       "⎨x: ⎢  ⎥, z: ⎢  ⎥⎬\n",
       "⎪   ⎢0 ⎥     ⎢-2⎥⎪\n",
       "⎪   ⎢  ⎥     ⎢  ⎥⎪\n",
       "⎩   ⎣0 ⎦     ⎣1 ⎦⎭)"
      ]
     },
     "execution_count": 5,
     "metadata": {},
     "output_type": "execute_result"
    }
   ],
   "source": [
    "sol.sep_unk()"
   ]
  },
  {
   "cell_type": "code",
   "execution_count": 6,
   "id": "5048f81d",
   "metadata": {},
   "outputs": [
    {
     "name": "stdout",
     "output_type": "stream",
     "text": [
      "Before RREF: [self]\n"
     ]
    },
    {
     "data": {
      "text/latex": [
       "$\\displaystyle \\left[\\begin{array}{cccc}1 & 3 & -2 & 0\\\\2 & 6 & -5 & -2\\\\0 & 0 & 5 & 10\\end{array}\\right]$"
      ],
      "text/plain": [
       "Matrix([\n",
       "[1, 3, -2,  0]\n",
       "[2, 6, -5, -2]\n",
       "[0, 0,  5, 10]\n",
       "])"
      ]
     },
     "metadata": {},
     "output_type": "display_data"
    },
    {
     "name": "stdout",
     "output_type": "stream",
     "text": [
      "\n",
      "After RREF:\n"
     ]
    },
    {
     "data": {
      "text/latex": [
       "$\\text{RREF}\\left\\{\\text{rref} = \\left[\\begin{array}{cccc}1 & 3 & 0 & 4\\\\0 & 0 & 1 & 2\\\\0 & 0 & 0 & 0\\end{array}\\right], \\quad\\text{pivots} = (0, 2)\\right\\}$"
      ],
      "text/plain": [
       "RREF(rref=Matrix([\n",
       "[1, 3, 0, 4]\n",
       "[0, 0, 1, 2]\n",
       "[0, 0, 0, 0]\n",
       "]), pivots=(0, 2))"
      ]
     },
     "metadata": {},
     "output_type": "display_data"
    },
    {
     "data": {
      "text/latex": [
       "$\\displaystyle \\left[ \\left[\\begin{matrix}-3\\\\1\\\\0\\\\0\\end{matrix}\\right], \\  \\left[\\begin{matrix}-4\\\\0\\\\-2\\\\1\\end{matrix}\\right]\\right]$"
      ],
      "text/plain": [
       "⎡⎡-3⎤  ⎡-4⎤⎤\n",
       "⎢⎢  ⎥  ⎢  ⎥⎥\n",
       "⎢⎢1 ⎥  ⎢0 ⎥⎥\n",
       "⎢⎢  ⎥, ⎢  ⎥⎥\n",
       "⎢⎢0 ⎥  ⎢-2⎥⎥\n",
       "⎢⎢  ⎥  ⎢  ⎥⎥\n",
       "⎣⎣0 ⎦  ⎣1 ⎦⎦"
      ]
     },
     "execution_count": 6,
     "metadata": {},
     "output_type": "execute_result"
    }
   ],
   "source": [
    "# Alternatively, use nullspace to find the solution set\n",
    "mat.nullspace(verbosity=1) "
   ]
  },
  {
   "cell_type": "markdown",
   "id": "fecffa65",
   "metadata": {},
   "source": [
    "### (c)\n",
    "\n",
    "Find a nonzero vector $\\mathbf{v} \\in \\mathbb{R}^4$ such that $\\mathbf{a}_1 \\cdot \\mathbf{v} = 0$, $\\mathbf{a}_2 \\cdot \\mathbf{v} = 0$, and $\\mathbf{a}_3 \\cdot \\mathbf{v} = 0$, where $$\\mathbf{a}_1 = \\begin{pmatrix} 1 \\\\ 3 \\\\ -2 \\\\ 0 \\end{pmatrix}, \\quad \\mathbf{a}_2 = \\begin{pmatrix} 2 \\\\ 6 \\\\ -5 \\\\ -2 \\end{pmatrix}, \\quad \\mathbf{a}_3 = \\begin{pmatrix} 0 \\\\ 0 \\\\ 5 \\\\ 10 \\end{pmatrix}$$"
   ]
  },
  {
   "cell_type": "code",
   "execution_count": 7,
   "id": "9224fc4a",
   "metadata": {},
   "outputs": [
    {
     "data": {
      "text/latex": [
       "$\\displaystyle \\left( \\left[\\begin{array}{ccc}1 & 2 & 0\\\\3 & 6 & 0\\\\-2 & -5 & 5\\\\0 & -2 & 10\\end{array}\\right], \\  \\left[\\begin{array}{c}v_{1}\\\\v_{2}\\\\v_{3}\\\\v_{4}\\end{array}\\right]\\right)$"
      ],
      "text/plain": [
       "⎛⎡1   2   0 ⎤  ⎡v₁⎤⎞\n",
       "⎜⎢          ⎥  ⎢  ⎥⎟\n",
       "⎜⎢3   6   0 ⎥  ⎢v₂⎥⎟\n",
       "⎜⎢          ⎥, ⎢  ⎥⎟\n",
       "⎜⎢-2  -5  5 ⎥  ⎢v₃⎥⎟\n",
       "⎜⎢          ⎥  ⎢  ⎥⎟\n",
       "⎝⎣0   -2  10⎦  ⎣v₄⎦⎠"
      ]
     },
     "execution_count": 7,
     "metadata": {},
     "output_type": "execute_result"
    }
   ],
   "source": [
    "A = Matrix.from_str(\"1 3 -2 0; 2 6 -5 -2; 0 0 5 10\").T\n",
    "v = Matrix.create_unk_matrix(r=4, symbol=\"v\")\n",
    "A, v"
   ]
  },
  {
   "cell_type": "code",
   "execution_count": 8,
   "id": "2b7667c8",
   "metadata": {},
   "outputs": [
    {
     "data": {
      "text/latex": [
       "$\\displaystyle \\left[\\begin{array}{c}- 3 v_{2} - 4 v_{4}\\\\v_{2}\\\\- 2 v_{4}\\\\v_{4}\\end{array}\\right]$"
      ],
      "text/plain": [
       "Matrix([\n",
       "[-3*v_2 - 4*v_4]\n",
       "[           v_2]\n",
       "[        -2*v_4]\n",
       "[           v_4]\n",
       "])"
      ]
     },
     "execution_count": 8,
     "metadata": {},
     "output_type": "execute_result"
    }
   ],
   "source": [
    "# Fast method to find v without showing the steps\n",
    "sol = sym.solve(A.T @ v, v)\n",
    "v.subs(sol)"
   ]
  },
  {
   "cell_type": "code",
   "execution_count": 9,
   "id": "c5726889",
   "metadata": {},
   "outputs": [
    {
     "name": "stdout",
     "output_type": "stream",
     "text": [
      "Before RREF: [self]\n"
     ]
    },
    {
     "data": {
      "text/latex": [
       "$\\displaystyle \\left[\\begin{matrix}1 & 3 & -2 & 0\\\\2 & 6 & -5 & -2\\\\0 & 0 & 5 & 10\\end{matrix}\\right]$"
      ],
      "text/plain": [
       "Matrix([\n",
       "[1, 3, -2,  0],\n",
       "[2, 6, -5, -2],\n",
       "[0, 0,  5, 10]])"
      ]
     },
     "metadata": {},
     "output_type": "display_data"
    },
    {
     "name": "stdout",
     "output_type": "stream",
     "text": [
      "\n",
      "After RREF:\n"
     ]
    },
    {
     "data": {
      "text/latex": [
       "$\\text{RREF}\\left\\{\\text{rref} = \\left[\\begin{array}{cccc}1 & 3 & 0 & 4\\\\0 & 0 & 1 & 2\\\\0 & 0 & 0 & 0\\end{array}\\right], \\quad\\text{pivots} = (0, 2)\\right\\}$"
      ],
      "text/plain": [
       "RREF(rref=Matrix([\n",
       "[1, 3, 0, 4]\n",
       "[0, 0, 1, 2]\n",
       "[0, 0, 0, 0]\n",
       "]), pivots=(0, 2))"
      ]
     },
     "metadata": {},
     "output_type": "display_data"
    },
    {
     "data": {
      "text/latex": [
       "$\\displaystyle \\left[\\begin{array}{cc}-3 & -4\\\\1 & 0\\\\0 & -2\\\\0 & 1\\end{array}\\right]$"
      ],
      "text/plain": [
       "Matrix([\n",
       "[-3, -4]\n",
       "[ 1,  0]\n",
       "[ 0, -2]\n",
       "[ 0,  1]\n",
       "])"
      ]
     },
     "execution_count": 9,
     "metadata": {},
     "output_type": "execute_result"
    }
   ],
   "source": [
    "# Alternative method using `orthogonal_complement`\n",
    "mat = A.orthogonal_complement(verbosity=1)\n",
    "mat"
   ]
  },
  {
   "cell_type": "code",
   "execution_count": 10,
   "id": "5be79f4b",
   "metadata": {},
   "outputs": [
    {
     "data": {
      "text/latex": [
       "$\\displaystyle \\left[\\begin{array}{c}- 3 x - 4 y\\\\x\\\\- 2 y\\\\y\\end{array}\\right]$"
      ],
      "text/plain": [
       "Matrix([\n",
       "[-3*x - 4*y]\n",
       "[         x]\n",
       "[      -2*y]\n",
       "[         y]\n",
       "])"
      ]
     },
     "execution_count": 10,
     "metadata": {},
     "output_type": "execute_result"
    }
   ],
   "source": [
    "free_params = Matrix.create_unk_matrix(r=2)\n",
    "mat @ free_params"
   ]
  },
  {
   "cell_type": "markdown",
   "id": "ef4d3f67",
   "metadata": {},
   "source": [
    "## Question 3\n",
    "\n",
    "Let $\\mathbf{v}_1 = \\begin{pmatrix} 1 \\\\ 2  \\\\ \\ -1 \\end{pmatrix}$, $\\mathbf{v}_2 = \\begin{pmatrix} 1  \\\\ 0 \\\\ 1 \\end{pmatrix}$, and $\\mathbf{V} = \\begin{pmatrix} \\mathbf{v}_1 & \\mathbf{v}_2 \\end{pmatrix}$."
   ]
  },
  {
   "cell_type": "markdown",
   "id": "57c536e5",
   "metadata": {},
   "source": [
    "### (a)\n",
    "\n",
    "Compute $\\mathbf{v}_1 \\cdot \\mathbf{v}_1$, $\\mathbf{v}_1 \\cdot \\mathbf{v}_2$, $\\mathbf{v}_2 \\cdot \\mathbf{v}_1$ and $\\mathbf{v}_2 \\cdot \\mathbf{v}_2$."
   ]
  },
  {
   "cell_type": "code",
   "execution_count": 11,
   "id": "ffe70a2f",
   "metadata": {},
   "outputs": [
    {
     "data": {
      "text/latex": [
       "$\\displaystyle \\left( \\left[\\begin{array}{c}1\\\\2\\\\-1\\end{array}\\right], \\  \\left[\\begin{array}{c}1\\\\0\\\\1\\end{array}\\right]\\right)$"
      ],
      "text/plain": [
       "⎛⎡1 ⎤  ⎡1⎤⎞\n",
       "⎜⎢  ⎥  ⎢ ⎥⎟\n",
       "⎜⎢2 ⎥, ⎢0⎥⎟\n",
       "⎜⎢  ⎥  ⎢ ⎥⎟\n",
       "⎝⎣-1⎦  ⎣1⎦⎠"
      ]
     },
     "execution_count": 11,
     "metadata": {},
     "output_type": "execute_result"
    }
   ],
   "source": [
    "v1 = Matrix.from_str(\"1; 2; -1\")\n",
    "v2 = Matrix.from_str(\"1; 0; 1\")\n",
    "v1, v2"
   ]
  },
  {
   "cell_type": "code",
   "execution_count": 12,
   "id": "e1451fa1",
   "metadata": {},
   "outputs": [
    {
     "data": {
      "text/latex": [
       "$\\displaystyle \\left( 6, \\  0, \\  0, \\  2\\right)$"
      ],
      "text/plain": [
       "(6, 0, 0, 2)"
      ]
     },
     "execution_count": 12,
     "metadata": {},
     "output_type": "execute_result"
    }
   ],
   "source": [
    "# use `dot` method for explicit dot product\n",
    "v1.dot(v1), v1.dot(v2), v2.dot(v1), v2.dot(v2)"
   ]
  },
  {
   "cell_type": "markdown",
   "id": "c401078b",
   "metadata": {},
   "source": [
    "### (b)\n",
    "\n",
    "Compute $\\mathbf{V}^T \\mathbf{V}$. What do the entries of $\\mathbf{V}^T \\mathbf{V}$ represent?"
   ]
  },
  {
   "cell_type": "code",
   "execution_count": 13,
   "id": "f5779284",
   "metadata": {},
   "outputs": [
    {
     "data": {
      "text/latex": [
       "$\\displaystyle \\left[\\begin{array}{cc}6 & 0\\\\0 & 2\\end{array}\\right]$"
      ],
      "text/plain": [
       "Matrix([\n",
       "[6, 0]\n",
       "[0, 2]\n",
       "])"
      ]
     },
     "execution_count": 13,
     "metadata": {},
     "output_type": "execute_result"
    }
   ],
   "source": [
    "V = v1.row_join(v2)\n",
    "V.T @ V"
   ]
  },
  {
   "cell_type": "markdown",
   "id": "c7c9e2ed",
   "metadata": {},
   "source": [
    "## Question 4\n",
    "\n",
    "Let $W$ be a subspace of $\\mathbb{R}^n$. The orthogonal complement of $W$, denoted as $W^{\\perp}$, is defined to be $$W^{\\perp} := \\{ \\mathbf{v} \\in \\mathbb{R}^n : \\mathbf{v} \\cdot \\mathbf{w} = 0 \\text{ for all } \\mathbf{w} \\in W \\}$$\n",
    "\n",
    "Let $\\mathbf{w}_1 = \\begin{pmatrix} 1 \\\\ 1 \\\\ 1 \\\\ 1 \\\\ 1 \\end{pmatrix}$, $\\mathbf{w}_2 = \\begin{pmatrix} 1 \\\\ 2 \\\\ -1 \\\\ -2 \\\\ 0 \\end{pmatrix}$, and $\\mathbf{w}_3 = \\begin{pmatrix} 1 \\\\ -1 \\\\ 1 \\\\ -1 \\\\ 0 \\end{pmatrix}$, and $W = \\text{span}\\{\\mathbf{w}_1, \\mathbf{w}_2, \\mathbf{w}_3\\}$."
   ]
  },
  {
   "cell_type": "markdown",
   "id": "4db960cd",
   "metadata": {},
   "source": [
    "### (a)\n",
    "\n",
    "Show that $S = \\{\\mathbf{w}_1, \\mathbf{w}_2, \\mathbf{w}_3\\}$ is linearly independent."
   ]
  },
  {
   "cell_type": "code",
   "execution_count": 14,
   "id": "410ede1b",
   "metadata": {},
   "outputs": [
    {
     "data": {
      "text/latex": [
       "$\\displaystyle \\left[\\begin{array}{ccc}1 & 1 & 1\\\\1 & 2 & -1\\\\1 & -1 & 1\\\\1 & -2 & -1\\\\1 & 0 & 0\\end{array}\\right]$"
      ],
      "text/plain": [
       "Matrix([\n",
       "[1,  1,  1]\n",
       "[1,  2, -1]\n",
       "[1, -1,  1]\n",
       "[1, -2, -1]\n",
       "[1,  0,  0]\n",
       "])"
      ]
     },
     "execution_count": 14,
     "metadata": {},
     "output_type": "execute_result"
    }
   ],
   "source": [
    "S = Matrix.from_str(\"1 1 1 1 1; 1 2 -1 -2 0; 1 -1 1 -1 0\").T\n",
    "S"
   ]
  },
  {
   "cell_type": "code",
   "execution_count": 15,
   "id": "34d29d8e",
   "metadata": {},
   "outputs": [
    {
     "name": "stdout",
     "output_type": "stream",
     "text": [
      "Before RREF: self\n"
     ]
    },
    {
     "data": {
      "text/latex": [
       "$\\displaystyle \\left[\\begin{array}{ccc}1 & 1 & 1\\\\1 & 2 & -1\\\\1 & -1 & 1\\\\1 & -2 & -1\\\\1 & 0 & 0\\end{array}\\right]$"
      ],
      "text/plain": [
       "Matrix([\n",
       "[1,  1,  1]\n",
       "[1,  2, -1]\n",
       "[1, -1,  1]\n",
       "[1, -2, -1]\n",
       "[1,  0,  0]\n",
       "])"
      ]
     },
     "metadata": {},
     "output_type": "display_data"
    },
    {
     "name": "stdout",
     "output_type": "stream",
     "text": [
      "\n",
      "After RREF:\n"
     ]
    },
    {
     "data": {
      "text/latex": [
       "$\\displaystyle \\left[\\begin{array}{ccc}1 & 0 & 0\\\\0 & 1 & 0\\\\0 & 0 & 1\\\\0 & 0 & 0\\\\0 & 0 & 0\\end{array}\\right]$"
      ],
      "text/plain": [
       "Matrix([\n",
       "[1, 0, 0]\n",
       "[0, 1, 0]\n",
       "[0, 0, 1]\n",
       "[0, 0, 0]\n",
       "[0, 0, 0]\n",
       "])"
      ]
     },
     "metadata": {},
     "output_type": "display_data"
    },
    {
     "name": "stdout",
     "output_type": "stream",
     "text": [
      "Check if Number of columns (3) == Number of pivot columns (3)\n"
     ]
    },
    {
     "data": {
      "text/plain": [
       "True"
      ]
     },
     "execution_count": 15,
     "metadata": {},
     "output_type": "execute_result"
    }
   ],
   "source": [
    "S.is_linearly_independent(verbosity=2)"
   ]
  },
  {
   "cell_type": "markdown",
   "id": "3e1d0a11",
   "metadata": {},
   "source": [
    "### (b)\n",
    "\n",
    "Show that $S$ is orthogonal."
   ]
  },
  {
   "cell_type": "code",
   "execution_count": 16,
   "id": "0a08f10d",
   "metadata": {},
   "outputs": [
    {
     "name": "stdout",
     "output_type": "stream",
     "text": [
      "Check if [self^T @ self] is a diagonal matrix\n"
     ]
    },
    {
     "data": {
      "text/latex": [
       "$\\displaystyle \\left[\\begin{array}{ccc}5 & 0 & 0\\\\0 & 10 & 0\\\\0 & 0 & 4\\end{array}\\right]$"
      ],
      "text/plain": [
       "Matrix([\n",
       "[5,  0, 0]\n",
       "[0, 10, 0]\n",
       "[0,  0, 4]\n",
       "])"
      ]
     },
     "metadata": {},
     "output_type": "display_data"
    },
    {
     "data": {
      "text/plain": [
       "True"
      ]
     },
     "execution_count": 16,
     "metadata": {},
     "output_type": "execute_result"
    }
   ],
   "source": [
    "S.is_vec_orthogonal(verbosity=1)"
   ]
  },
  {
   "cell_type": "markdown",
   "id": "a0e5559d",
   "metadata": {},
   "source": [
    "### (c)\n",
    "\n",
    "Show that $W^{\\perp}$ is a subspace of $\\mathbb{R}^5$ by showing that it is a span of a set. What is the dimension? (Hint: See Question 1.)"
   ]
  },
  {
   "cell_type": "code",
   "execution_count": 17,
   "id": "f72e37fe",
   "metadata": {},
   "outputs": [
    {
     "name": "stdout",
     "output_type": "stream",
     "text": [
      "Before RREF: [self]\n"
     ]
    },
    {
     "data": {
      "text/latex": [
       "$\\displaystyle \\left[\\begin{matrix}1 & 1 & 1 & 1 & 1\\\\1 & 2 & -1 & -2 & 0\\\\1 & -1 & 1 & -1 & 0\\end{matrix}\\right]$"
      ],
      "text/plain": [
       "Matrix([\n",
       "[1,  1,  1,  1, 1],\n",
       "[1,  2, -1, -2, 0],\n",
       "[1, -1,  1, -1, 0]])"
      ]
     },
     "metadata": {},
     "output_type": "display_data"
    },
    {
     "name": "stdout",
     "output_type": "stream",
     "text": [
      "\n",
      "After RREF:\n"
     ]
    },
    {
     "data": {
      "text/latex": [
       "$\\text{RREF}\\left\\{\\text{rref} = \\left[\\begin{array}{ccccc}1 & 0 & 0 & -2 & - \\frac{1}{4}\\\\0 & 1 & 0 & 1 & \\frac{1}{2}\\\\0 & 0 & 1 & 2 & \\frac{3}{4}\\end{array}\\right], \\quad\\text{pivots} = (0, 1, 2)\\right\\}$"
      ],
      "text/plain": [
       "RREF(rref=Matrix([\n",
       "[1, 0, 0, -2, -1/4]\n",
       "[0, 1, 0,  1,  1/2]\n",
       "[0, 0, 1,  2,  3/4]\n",
       "]), pivots=(0, 1, 2))"
      ]
     },
     "metadata": {},
     "output_type": "display_data"
    },
    {
     "data": {
      "text/latex": [
       "$\\displaystyle \\left[\\begin{array}{cc}2 & \\frac{1}{4}\\\\-1 & - \\frac{1}{2}\\\\-2 & - \\frac{3}{4}\\\\1 & 0\\\\0 & 1\\end{array}\\right]$"
      ],
      "text/plain": [
       "Matrix([\n",
       "[ 2,  1/4]\n",
       "[-1, -1/2]\n",
       "[-2, -3/4]\n",
       "[ 1,    0]\n",
       "[ 0,    1]\n",
       "])"
      ]
     },
     "execution_count": 17,
     "metadata": {},
     "output_type": "execute_result"
    }
   ],
   "source": [
    "W_perp = S.orthogonal_complement(verbosity=1)\n",
    "W_perp"
   ]
  },
  {
   "cell_type": "markdown",
   "id": "d8cd973a",
   "metadata": {},
   "source": [
    "### (d)\n",
    "\n",
    "Obtain an orthonormal set $T$ by normalizing $\\mathbf{w}_1$, $\\mathbf{w}_2$, $\\mathbf{w}_3$."
   ]
  },
  {
   "cell_type": "code",
   "execution_count": 18,
   "id": "de12e767",
   "metadata": {},
   "outputs": [
    {
     "data": {
      "text/latex": [
       "$\\displaystyle \\left[\\begin{array}{ccc}\\frac{\\sqrt{5}}{5} & \\frac{\\sqrt{10}}{10} & \\frac{1}{2}\\\\\\frac{\\sqrt{5}}{5} & \\frac{\\sqrt{10}}{5} & - \\frac{1}{2}\\\\\\frac{\\sqrt{5}}{5} & - \\frac{\\sqrt{10}}{10} & \\frac{1}{2}\\\\\\frac{\\sqrt{5}}{5} & - \\frac{\\sqrt{10}}{5} & - \\frac{1}{2}\\\\\\frac{\\sqrt{5}}{5} & 0 & 0\\end{array}\\right]$"
      ],
      "text/plain": [
       "Matrix([\n",
       "[sqrt(5)/5,  sqrt(10)/10,  1/2]\n",
       "[sqrt(5)/5,   sqrt(10)/5, -1/2]\n",
       "[sqrt(5)/5, -sqrt(10)/10,  1/2]\n",
       "[sqrt(5)/5,  -sqrt(10)/5, -1/2]\n",
       "[sqrt(5)/5,            0,    0]\n",
       "])"
      ]
     },
     "execution_count": 18,
     "metadata": {},
     "output_type": "execute_result"
    }
   ],
   "source": [
    "# `normalized` is a mutable method, so use `copy` to avoid modifying S\n",
    "T = S.copy().normalized()\n",
    "T"
   ]
  },
  {
   "cell_type": "code",
   "execution_count": 19,
   "id": "70f987cf",
   "metadata": {},
   "outputs": [
    {
     "data": {
      "text/latex": [
       "$\\left[\\begin{array}{ccc}1 & \\frac{1}{10} & 1\\\\1 & \\frac{1}{5} & -1\\\\1 & - \\frac{1}{10} & 1\\\\1 & - \\frac{1}{5} & -1\\\\1 & 0 & 0\\end{array}\\right]\\left[\\begin{array}{ccc}\\frac{\\sqrt{5}}{5} & 0 & 0\\\\0 & \\sqrt{10} & 0\\\\0 & 0 & \\frac{1}{2}\\end{array}\\right]$"
      ],
      "text/plain": [
       "ScalarFactor(diag=Matrix([\n",
       "[sqrt(5)/5,        0,   0]\n",
       "[        0, sqrt(10),   0]\n",
       "[        0,        0, 1/2]\n",
       "]), full=Matrix([\n",
       "[1,  1/10,  1]\n",
       "[1,   1/5, -1]\n",
       "[1, -1/10,  1]\n",
       "[1,  -1/5, -1]\n",
       "[1,     0,  0]\n",
       "]), order='FD')"
      ]
     },
     "execution_count": 19,
     "metadata": {},
     "output_type": "execute_result"
    }
   ],
   "source": [
    "# Use ScalarFactor so that it is easier to read the matrix\n",
    "T = S.copy().normalized(factor=True)\n",
    "T"
   ]
  },
  {
   "cell_type": "markdown",
   "id": "32182263",
   "metadata": {},
   "source": [
    "### (e)\n",
    "\n",
    "Let $\\mathbf{v} = \\begin{pmatrix} 2 \\\\ 0 \\\\ 1 \\\\ 1 \\\\ -1 \\end{pmatrix}$. Find the projection of $\\mathbf{v}$ onto $W$."
   ]
  },
  {
   "cell_type": "code",
   "execution_count": 20,
   "id": "03724a36",
   "metadata": {},
   "outputs": [
    {
     "name": "stdout",
     "output_type": "stream",
     "text": [
      "Before RREF: [self.T @ self | self.T @ rhs]\n"
     ]
    },
    {
     "data": {
      "text/latex": [
       "$\\displaystyle \\left[\\begin{array}{ccc|c}5 & 0 & 0 & 3\\\\0 & 10 & 0 & -1\\\\0 & 0 & 4 & 2\\end{array}\\right]$"
      ],
      "text/plain": [
       "Matrix([\n",
       "[5,  0, 0 |  3]\n",
       "[0, 10, 0 | -1]\n",
       "[0,  0, 4 |  2]\n",
       "])"
      ]
     },
     "metadata": {},
     "output_type": "display_data"
    },
    {
     "name": "stdout",
     "output_type": "stream",
     "text": [
      "\n",
      "After RREF\n"
     ]
    },
    {
     "data": {
      "text/latex": [
       "$\\text{RREF}\\left\\{\\text{rref} = \\left[\\begin{array}{ccc|c}1 & 0 & 0 & \\frac{3}{5}\\\\0 & 1 & 0 & - \\frac{1}{10}\\\\0 & 0 & 1 & \\frac{1}{2}\\end{array}\\right], \\quad\\text{pivots} = (0, 1, 2)\\right\\}$"
      ],
      "text/plain": [
       "RREF(rref=Matrix([\n",
       "[1, 0, 0 |   3/5]\n",
       "[0, 1, 0 | -1/10]\n",
       "[0, 0, 1 |   1/2]\n",
       "]), pivots=(0, 1, 2))"
      ]
     },
     "metadata": {},
     "output_type": "display_data"
    },
    {
     "name": "stdout",
     "output_type": "stream",
     "text": [
      "Projected component: Au\n"
     ]
    },
    {
     "data": {
      "text/latex": [
       "$\\displaystyle \\left[\\begin{array}{c}1\\\\- \\frac{1}{10}\\\\\\frac{6}{5}\\\\\\frac{3}{10}\\\\\\frac{3}{5}\\end{array}\\right]$"
      ],
      "text/plain": [
       "Matrix([\n",
       "[    1]\n",
       "[-1/10]\n",
       "[  6/5]\n",
       "[ 3/10]\n",
       "[  3/5]\n",
       "])"
      ]
     },
     "metadata": {},
     "output_type": "display_data"
    },
    {
     "name": "stdout",
     "output_type": "stream",
     "text": [
      "Normal component: b - b_proj\n"
     ]
    },
    {
     "data": {
      "text/latex": [
       "$\\displaystyle \\left[\\begin{array}{c}1\\\\\\frac{1}{10}\\\\- \\frac{1}{5}\\\\\\frac{7}{10}\\\\- \\frac{8}{5}\\end{array}\\right]$"
      ],
      "text/plain": [
       "Matrix([\n",
       "[   1]\n",
       "[1/10]\n",
       "[-1/5]\n",
       "[7/10]\n",
       "[-8/5]\n",
       "])"
      ]
     },
     "metadata": {},
     "output_type": "display_data"
    }
   ],
   "source": [
    "v = Matrix.from_str(\"2; 0; 1; 1; -1\")\n",
    "W = S # W is the subspace spanned by S\n",
    "# `proj_comp` solves least squares solution under the hood and \n",
    "# does not require W to be a set of orthonormal column vectors\n",
    "v_proj = v.proj_comp(W, verbosity=1)"
   ]
  },
  {
   "cell_type": "markdown",
   "id": "3acfe886",
   "metadata": {},
   "source": [
    "### (f)\n",
    "\n",
    "Let $\\mathbf{v}_W$ be the projection of $\\mathbf{v}$ onto $W$. Show that $\\mathbf{v} - \\mathbf{v}_W$ is in $W^{\\perp}$."
   ]
  },
  {
   "cell_type": "code",
   "execution_count": 21,
   "id": "24f7e02c",
   "metadata": {},
   "outputs": [
    {
     "data": {
      "text/latex": [
       "$\\displaystyle \\left[\\begin{array}{cc|c}2 & \\frac{1}{4} & 1\\\\-1 & - \\frac{1}{2} & \\frac{1}{10}\\\\-2 & - \\frac{3}{4} & - \\frac{1}{5}\\\\1 & 0 & \\frac{7}{10}\\\\0 & 1 & - \\frac{8}{5}\\end{array}\\right]$"
      ],
      "text/plain": [
       "Matrix([\n",
       "[ 2,  1/4 |    1]\n",
       "[-1, -1/2 | 1/10]\n",
       "[-2, -3/4 | -1/5]\n",
       "[ 1,    0 | 7/10]\n",
       "[ 0,    1 | -8/5]\n",
       "])"
      ]
     },
     "execution_count": 21,
     "metadata": {},
     "output_type": "execute_result"
    }
   ],
   "source": [
    "v_norm = v - v_proj\n",
    "aug_mat = W_perp.row_join(v_norm)\n",
    "aug_mat"
   ]
  },
  {
   "cell_type": "code",
   "execution_count": 22,
   "id": "89e6425b",
   "metadata": {},
   "outputs": [
    {
     "data": {
      "text/latex": [
       "$\\text{RREF}\\left\\{\\text{rref} = \\left[\\begin{array}{cc|c}1 & 0 & \\frac{7}{10}\\\\0 & 1 & - \\frac{8}{5}\\\\0 & 0 & 0\\\\0 & 0 & 0\\\\0 & 0 & 0\\end{array}\\right], \\quad\\text{pivots} = (0, 1)\\right\\}$"
      ],
      "text/plain": [
       "RREF(rref=Matrix([\n",
       "[1, 0 | 7/10]\n",
       "[0, 1 | -8/5]\n",
       "[0, 0 |    0]\n",
       "[0, 0 |    0]\n",
       "[0, 0 |    0]\n",
       "]), pivots=(0, 1))"
      ]
     },
     "execution_count": 22,
     "metadata": {},
     "output_type": "execute_result"
    }
   ],
   "source": [
    "aug_mat.rref() # consistent system, so v_norm is in W_perp"
   ]
  },
  {
   "cell_type": "markdown",
   "id": "cccb1781",
   "metadata": {},
   "source": [
    "## Question 5\n",
    "\n",
    "Let $S = \\{\\mathbf{u}_1, \\mathbf{u}_2, \\mathbf{u}_3, \\mathbf{u}_4\\}$ where $$\\mathbf{u}_1 = \\begin{pmatrix} 1 \\\\ 2 \\\\ 2 \\\\ -1 \\end{pmatrix}, \\quad \\mathbf{u}_2 = \\begin{pmatrix} 1 \\\\ 1 \\\\ -1 \\\\ 1 \\end{pmatrix}, \\quad \\mathbf{u}_3 = \\begin{pmatrix} -1 \\\\ 1 \\\\ -1 \\\\ -1 \\end{pmatrix}, \\quad \\mathbf{u}_4 = \\begin{pmatrix} -2 \\\\ 1 \\\\ 1 \\\\ 2 \\end{pmatrix}$$\n"
   ]
  },
  {
   "cell_type": "markdown",
   "id": "344bda21",
   "metadata": {},
   "source": [
    "### (a)\n",
    "\n",
    "Check that $S$ is an orthogonal basis for $\\mathbb{R}^4$."
   ]
  },
  {
   "cell_type": "code",
   "execution_count": 23,
   "id": "653fbdc0",
   "metadata": {},
   "outputs": [
    {
     "data": {
      "text/latex": [
       "$\\displaystyle \\left[\\begin{array}{cccc}1 & 1 & -1 & -2\\\\2 & 1 & 1 & 1\\\\2 & -1 & -1 & 1\\\\-1 & 1 & -1 & 2\\end{array}\\right]$"
      ],
      "text/plain": [
       "Matrix([\n",
       "[ 1,  1, -1, -2]\n",
       "[ 2,  1,  1,  1]\n",
       "[ 2, -1, -1,  1]\n",
       "[-1,  1, -1,  2]\n",
       "])"
      ]
     },
     "execution_count": 23,
     "metadata": {},
     "output_type": "execute_result"
    }
   ],
   "source": [
    "S = Matrix.from_str(\"1 2 2 -1; 1 1 -1 1; -1 1 -1 -1; -2 1 1 2\").T\n",
    "S"
   ]
  },
  {
   "cell_type": "code",
   "execution_count": 24,
   "id": "bcbe3b16",
   "metadata": {},
   "outputs": [
    {
     "name": "stdout",
     "output_type": "stream",
     "text": [
      "Check if [self^T @ self] is a diagonal matrix\n"
     ]
    },
    {
     "data": {
      "text/latex": [
       "$\\displaystyle \\left[\\begin{array}{cccc}10 & 0 & 0 & 0\\\\0 & 4 & 0 & 0\\\\0 & 0 & 4 & 0\\\\0 & 0 & 0 & 10\\end{array}\\right]$"
      ],
      "text/plain": [
       "Matrix([\n",
       "[10, 0, 0,  0]\n",
       "[ 0, 4, 0,  0]\n",
       "[ 0, 0, 4,  0]\n",
       "[ 0, 0, 0, 10]\n",
       "])"
      ]
     },
     "metadata": {},
     "output_type": "display_data"
    },
    {
     "data": {
      "text/plain": [
       "True"
      ]
     },
     "execution_count": 24,
     "metadata": {},
     "output_type": "execute_result"
    }
   ],
   "source": [
    "S.is_vec_orthogonal(verbosity=1)"
   ]
  },
  {
   "cell_type": "markdown",
   "id": "79d6769a",
   "metadata": {},
   "source": [
    "### (b)\n",
    "\n",
    "Is it possible to find a nonzero vector $\\mathbf{w}$ in $\\mathbb{R}^4$ such that $S \\cup {\\mathbf{w}}$ is an orthogonal set?"
   ]
  },
  {
   "cell_type": "code",
   "execution_count": 25,
   "id": "8cfeee2b",
   "metadata": {},
   "outputs": [
    {
     "name": "stdout",
     "output_type": "stream",
     "text": [
      "Before RREF: [self]\n"
     ]
    },
    {
     "data": {
      "text/latex": [
       "$\\displaystyle \\left[\\begin{matrix}1 & 2 & 2 & -1\\\\1 & 1 & -1 & 1\\\\-1 & 1 & -1 & -1\\\\-2 & 1 & 1 & 2\\end{matrix}\\right]$"
      ],
      "text/plain": [
       "Matrix([\n",
       "[ 1, 2,  2, -1],\n",
       "[ 1, 1, -1,  1],\n",
       "[-1, 1, -1, -1],\n",
       "[-2, 1,  1,  2]])"
      ]
     },
     "metadata": {},
     "output_type": "display_data"
    },
    {
     "name": "stdout",
     "output_type": "stream",
     "text": [
      "\n",
      "After RREF:\n"
     ]
    },
    {
     "data": {
      "text/latex": [
       "$\\text{RREF}\\left\\{\\text{rref} = \\left[\\begin{array}{cccc}1 & 0 & 0 & 0\\\\0 & 1 & 0 & 0\\\\0 & 0 & 1 & 0\\\\0 & 0 & 0 & 1\\end{array}\\right], \\quad\\text{pivots} = (0, 1, 2, 3)\\right\\}$"
      ],
      "text/plain": [
       "RREF(rref=Matrix([\n",
       "[1, 0, 0, 0]\n",
       "[0, 1, 0, 0]\n",
       "[0, 0, 1, 0]\n",
       "[0, 0, 0, 1]\n",
       "]), pivots=(0, 1, 2, 3))"
      ]
     },
     "metadata": {},
     "output_type": "display_data"
    },
    {
     "name": "stderr",
     "output_type": "stream",
     "text": [
      "c:\\Github\\linear-algebra\\src\\ma1522\\symbolic.py:2770: UserWarning: Only trivial nullspace (0-vector) detected!\n",
      "  return Matrix.from_list(self.transpose().nullspace(verbosity))\n"
     ]
    }
   ],
   "source": [
    "w = Matrix.orthogonal_complement(S, verbosity=1) # No orthogonal complement found"
   ]
  },
  {
   "cell_type": "markdown",
   "id": "efed1c2c",
   "metadata": {},
   "source": [
    "### (c)\n",
    "\n",
    "Obtain an orthonormal set $T$ by normalizing $\\mathbf{u}_1$, $\\mathbf{u}_2$, $\\mathbf{u}_3$, $\\mathbf{u}_4$."
   ]
  },
  {
   "cell_type": "code",
   "execution_count": 26,
   "id": "eb73c7d7",
   "metadata": {},
   "outputs": [
    {
     "data": {
      "text/latex": [
       "$\\left[\\begin{array}{cccc}1 & 1 & -1 & -2\\\\2 & 1 & 1 & 1\\\\2 & -1 & -1 & 1\\\\-1 & 1 & -1 & 2\\end{array}\\right]\\left[\\begin{array}{cccc}\\frac{\\sqrt{10}}{10} & 0 & 0 & 0\\\\0 & \\frac{1}{2} & 0 & 0\\\\0 & 0 & \\frac{1}{2} & 0\\\\0 & 0 & 0 & \\frac{\\sqrt{10}}{10}\\end{array}\\right]$"
      ],
      "text/plain": [
       "ScalarFactor(diag=Matrix([\n",
       "[sqrt(10)/10,   0,   0,           0]\n",
       "[          0, 1/2,   0,           0]\n",
       "[          0,   0, 1/2,           0]\n",
       "[          0,   0,   0, sqrt(10)/10]\n",
       "]), full=Matrix([\n",
       "[ 1,  1, -1, -2]\n",
       "[ 2,  1,  1,  1]\n",
       "[ 2, -1, -1,  1]\n",
       "[-1,  1, -1,  2]\n",
       "]), order='FD')"
      ]
     },
     "execution_count": 26,
     "metadata": {},
     "output_type": "execute_result"
    }
   ],
   "source": [
    "T = S.copy().normalized(factor=True)\n",
    "T"
   ]
  },
  {
   "cell_type": "markdown",
   "id": "82b6cf06",
   "metadata": {},
   "source": [
    "### (d)\n",
    "\n",
    "Let $\\mathbf{v} = \\begin{pmatrix} 0 \\\\ 1 \\\\ 2 \\\\ 3 \\end{pmatrix}$. Find $[\\mathbf{v}]_S$ and $[\\mathbf{v}]_T$."
   ]
  },
  {
   "cell_type": "code",
   "execution_count": 27,
   "id": "949cbf84",
   "metadata": {},
   "outputs": [
    {
     "data": {
      "text/latex": [
       "$\\displaystyle \\left[\\begin{array}{c}0\\\\1\\\\2\\\\3\\end{array}\\right]$"
      ],
      "text/plain": [
       "Matrix([\n",
       "[0]\n",
       "[1]\n",
       "[2]\n",
       "[3]\n",
       "])"
      ]
     },
     "execution_count": 27,
     "metadata": {},
     "output_type": "execute_result"
    }
   ],
   "source": [
    "v = Matrix.from_str(\"0; 1; 2; 3\")\n",
    "v"
   ]
  },
  {
   "cell_type": "code",
   "execution_count": 28,
   "id": "d6da61b1",
   "metadata": {},
   "outputs": [
    {
     "name": "stdout",
     "output_type": "stream",
     "text": [
      "Before RREF: [to | self]\n"
     ]
    },
    {
     "data": {
      "text/latex": [
       "$\\displaystyle \\left[\\begin{array}{cccc|c}1 & 1 & -1 & -2 & 0\\\\2 & 1 & 1 & 1 & 1\\\\2 & -1 & -1 & 1 & 2\\\\-1 & 1 & -1 & 2 & 3\\end{array}\\right]$"
      ],
      "text/plain": [
       "Matrix([\n",
       "[ 1,  1, -1, -2 | 0]\n",
       "[ 2,  1,  1,  1 | 1]\n",
       "[ 2, -1, -1,  1 | 2]\n",
       "[-1,  1, -1,  2 | 3]\n",
       "])"
      ]
     },
     "metadata": {},
     "output_type": "display_data"
    },
    {
     "name": "stdout",
     "output_type": "stream",
     "text": [
      "\n",
      "After RREF:\n"
     ]
    },
    {
     "data": {
      "text/latex": [
       "$\\displaystyle \\left[\\begin{array}{cccc|c}1 & 0 & 0 & 0 & \\frac{3}{10}\\\\0 & 1 & 0 & 0 & \\frac{1}{2}\\\\0 & 0 & 1 & 0 & -1\\\\0 & 0 & 0 & 1 & \\frac{9}{10}\\end{array}\\right]$"
      ],
      "text/plain": [
       "Matrix([\n",
       "[1, 0, 0, 0 | 3/10]\n",
       "[0, 1, 0, 0 |  1/2]\n",
       "[0, 0, 1, 0 |   -1]\n",
       "[0, 0, 0, 1 | 9/10]\n",
       "])"
      ]
     },
     "metadata": {},
     "output_type": "display_data"
    },
    {
     "data": {
      "text/latex": [
       "$\\displaystyle \\left[\\begin{array}{c}\\frac{3}{10}\\\\\\frac{1}{2}\\\\-1\\\\\\frac{9}{10}\\end{array}\\right]$"
      ],
      "text/plain": [
       "Matrix([\n",
       "[3/10]\n",
       "[ 1/2]\n",
       "[  -1]\n",
       "[9/10]\n",
       "])"
      ]
     },
     "execution_count": 28,
     "metadata": {},
     "output_type": "execute_result"
    }
   ],
   "source": [
    "v_S = v.coords_relative(S, verbosity=2)\n",
    "v_S"
   ]
  },
  {
   "cell_type": "code",
   "execution_count": 29,
   "id": "ada007db",
   "metadata": {},
   "outputs": [
    {
     "name": "stdout",
     "output_type": "stream",
     "text": [
      "Before RREF: [to | self]\n"
     ]
    },
    {
     "data": {
      "text/latex": [
       "$\\displaystyle \\left[\\begin{array}{cccc|c}\\frac{\\sqrt{10}}{10} & \\frac{1}{2} & - \\frac{1}{2} & - \\frac{\\sqrt{10}}{5} & 0\\\\\\frac{\\sqrt{10}}{5} & \\frac{1}{2} & \\frac{1}{2} & \\frac{\\sqrt{10}}{10} & 1\\\\\\frac{\\sqrt{10}}{5} & - \\frac{1}{2} & - \\frac{1}{2} & \\frac{\\sqrt{10}}{10} & 2\\\\- \\frac{\\sqrt{10}}{10} & \\frac{1}{2} & - \\frac{1}{2} & \\frac{\\sqrt{10}}{5} & 3\\end{array}\\right]$"
      ],
      "text/plain": [
       "Matrix([\n",
       "[ sqrt(10)/10,  1/2, -1/2, -sqrt(10)/5 | 0]\n",
       "[  sqrt(10)/5,  1/2,  1/2, sqrt(10)/10 | 1]\n",
       "[  sqrt(10)/5, -1/2, -1/2, sqrt(10)/10 | 2]\n",
       "[-sqrt(10)/10,  1/2, -1/2,  sqrt(10)/5 | 3]\n",
       "])"
      ]
     },
     "metadata": {},
     "output_type": "display_data"
    },
    {
     "name": "stdout",
     "output_type": "stream",
     "text": [
      "\n",
      "After RREF:\n"
     ]
    },
    {
     "data": {
      "text/latex": [
       "$\\displaystyle \\left[\\begin{array}{cccc|c}1 & 0 & 0 & 0 & \\frac{3 \\sqrt{10}}{10}\\\\0 & 1 & 0 & 0 & 1\\\\0 & 0 & 1 & 0 & -2\\\\0 & 0 & 0 & 1 & \\frac{9 \\sqrt{10}}{10}\\end{array}\\right]$"
      ],
      "text/plain": [
       "Matrix([\n",
       "[1, 0, 0, 0 | 3*sqrt(10)/10]\n",
       "[0, 1, 0, 0 |             1]\n",
       "[0, 0, 1, 0 |            -2]\n",
       "[0, 0, 0, 1 | 9*sqrt(10)/10]\n",
       "])"
      ]
     },
     "metadata": {},
     "output_type": "display_data"
    },
    {
     "data": {
      "text/latex": [
       "$\\displaystyle \\left[\\begin{array}{c}\\frac{3 \\sqrt{10}}{10}\\\\1\\\\-2\\\\\\frac{9 \\sqrt{10}}{10}\\end{array}\\right]$"
      ],
      "text/plain": [
       "Matrix([\n",
       "[3*sqrt(10)/10]\n",
       "[            1]\n",
       "[           -2]\n",
       "[9*sqrt(10)/10]\n",
       "])"
      ]
     },
     "execution_count": 29,
     "metadata": {},
     "output_type": "execute_result"
    }
   ],
   "source": [
    "T = T.eval() # Convert the ScalarFactor to a regular matrix\n",
    "v_T = v.coords_relative(T, verbosity=2)\n",
    "v_T"
   ]
  },
  {
   "cell_type": "markdown",
   "id": "b234d465",
   "metadata": {},
   "source": [
    "### (e)\n",
    "\n",
    "Suppose $\\mathbf{w}$ is a vector in $\\mathbb{R}^4$ such that $[\\mathbf{w}]_S = \\begin{pmatrix} 1 \\\\ 2 \\\\ 1 \\\\ 1 \\end{pmatrix}$. Find $[\\mathbf{w}]_T$."
   ]
  },
  {
   "cell_type": "code",
   "execution_count": 30,
   "id": "88f961e4",
   "metadata": {},
   "outputs": [
    {
     "data": {
      "text/latex": [
       "$\\displaystyle \\left[\\begin{array}{c}1\\\\2\\\\1\\\\1\\end{array}\\right]$"
      ],
      "text/plain": [
       "Matrix([\n",
       "[1]\n",
       "[2]\n",
       "[1]\n",
       "[1]\n",
       "])"
      ]
     },
     "execution_count": 30,
     "metadata": {},
     "output_type": "execute_result"
    }
   ],
   "source": [
    "w_S = Matrix.from_str(\"1; 2; 1; 1\")\n",
    "w_S"
   ]
  },
  {
   "cell_type": "code",
   "execution_count": 31,
   "id": "ed0f91a0",
   "metadata": {},
   "outputs": [
    {
     "data": {
      "text/latex": [
       "$\\displaystyle \\left[\\begin{array}{c}0\\\\6\\\\0\\\\2\\end{array}\\right]$"
      ],
      "text/plain": [
       "Matrix([\n",
       "[0]\n",
       "[6]\n",
       "[0]\n",
       "[2]\n",
       "])"
      ]
     },
     "execution_count": 31,
     "metadata": {},
     "output_type": "execute_result"
    }
   ],
   "source": [
    "# Quick and dirty way to find w_T\n",
    "w = S @ w_S\n",
    "w"
   ]
  },
  {
   "cell_type": "code",
   "execution_count": 32,
   "id": "9a43335d",
   "metadata": {},
   "outputs": [
    {
     "name": "stdout",
     "output_type": "stream",
     "text": [
      "Before RREF: [to | self]\n"
     ]
    },
    {
     "data": {
      "text/latex": [
       "$\\displaystyle \\left[\\begin{array}{cccc|c}\\frac{\\sqrt{10}}{10} & \\frac{1}{2} & - \\frac{1}{2} & - \\frac{\\sqrt{10}}{5} & 0\\\\\\frac{\\sqrt{10}}{5} & \\frac{1}{2} & \\frac{1}{2} & \\frac{\\sqrt{10}}{10} & 6\\\\\\frac{\\sqrt{10}}{5} & - \\frac{1}{2} & - \\frac{1}{2} & \\frac{\\sqrt{10}}{10} & 0\\\\- \\frac{\\sqrt{10}}{10} & \\frac{1}{2} & - \\frac{1}{2} & \\frac{\\sqrt{10}}{5} & 2\\end{array}\\right]$"
      ],
      "text/plain": [
       "Matrix([\n",
       "[ sqrt(10)/10,  1/2, -1/2, -sqrt(10)/5 | 0]\n",
       "[  sqrt(10)/5,  1/2,  1/2, sqrt(10)/10 | 6]\n",
       "[  sqrt(10)/5, -1/2, -1/2, sqrt(10)/10 | 0]\n",
       "[-sqrt(10)/10,  1/2, -1/2,  sqrt(10)/5 | 2]\n",
       "])"
      ]
     },
     "metadata": {},
     "output_type": "display_data"
    },
    {
     "name": "stdout",
     "output_type": "stream",
     "text": [
      "\n",
      "After RREF:\n"
     ]
    },
    {
     "data": {
      "text/latex": [
       "$\\displaystyle \\left[\\begin{array}{cccc|c}1 & 0 & 0 & 0 & \\sqrt{10}\\\\0 & 1 & 0 & 0 & 4\\\\0 & 0 & 1 & 0 & 2\\\\0 & 0 & 0 & 1 & \\sqrt{10}\\end{array}\\right]$"
      ],
      "text/plain": [
       "Matrix([\n",
       "[1, 0, 0, 0 | sqrt(10)]\n",
       "[0, 1, 0, 0 |        4]\n",
       "[0, 0, 1, 0 |        2]\n",
       "[0, 0, 0, 1 | sqrt(10)]\n",
       "])"
      ]
     },
     "metadata": {},
     "output_type": "display_data"
    },
    {
     "data": {
      "text/latex": [
       "$\\displaystyle \\left[\\begin{array}{c}\\sqrt{10}\\\\4\\\\2\\\\\\sqrt{10}\\end{array}\\right]$"
      ],
      "text/plain": [
       "Matrix([\n",
       "[sqrt(10)]\n",
       "[       4]\n",
       "[       2]\n",
       "[sqrt(10)]\n",
       "])"
      ]
     },
     "execution_count": 32,
     "metadata": {},
     "output_type": "execute_result"
    }
   ],
   "source": [
    "w_T = w.coords_relative(T, verbosity=2)\n",
    "w_T"
   ]
  },
  {
   "cell_type": "code",
   "execution_count": 33,
   "id": "8f233970",
   "metadata": {},
   "outputs": [
    {
     "name": "stdout",
     "output_type": "stream",
     "text": [
      "Before RREF: [to | self]\n"
     ]
    },
    {
     "data": {
      "text/latex": [
       "$\\displaystyle \\left[\\begin{array}{cccc|cccc}\\frac{\\sqrt{10}}{10} & \\frac{1}{2} & - \\frac{1}{2} & - \\frac{\\sqrt{10}}{5} & 1 & 1 & -1 & -2\\\\\\frac{\\sqrt{10}}{5} & \\frac{1}{2} & \\frac{1}{2} & \\frac{\\sqrt{10}}{10} & 2 & 1 & 1 & 1\\\\\\frac{\\sqrt{10}}{5} & - \\frac{1}{2} & - \\frac{1}{2} & \\frac{\\sqrt{10}}{10} & 2 & -1 & -1 & 1\\\\- \\frac{\\sqrt{10}}{10} & \\frac{1}{2} & - \\frac{1}{2} & \\frac{\\sqrt{10}}{5} & -1 & 1 & -1 & 2\\end{array}\\right]$"
      ],
      "text/plain": [
       "Matrix([\n",
       "[ sqrt(10)/10,  1/2, -1/2, -sqrt(10)/5 |  1,  1, -1, -2]\n",
       "[  sqrt(10)/5,  1/2,  1/2, sqrt(10)/10 |  2,  1,  1,  1]\n",
       "[  sqrt(10)/5, -1/2, -1/2, sqrt(10)/10 |  2, -1, -1,  1]\n",
       "[-sqrt(10)/10,  1/2, -1/2,  sqrt(10)/5 | -1,  1, -1,  2]\n",
       "])"
      ]
     },
     "metadata": {},
     "output_type": "display_data"
    },
    {
     "name": "stdout",
     "output_type": "stream",
     "text": [
      "\n",
      "After RREF:\n"
     ]
    },
    {
     "data": {
      "text/latex": [
       "$\\displaystyle \\left[\\begin{array}{cccc|cccc}1 & 0 & 0 & 0 & \\sqrt{10} & 0 & 0 & 0\\\\0 & 1 & 0 & 0 & 0 & 2 & 0 & 0\\\\0 & 0 & 1 & 0 & 0 & 0 & 2 & 0\\\\0 & 0 & 0 & 1 & 0 & 0 & 0 & \\sqrt{10}\\end{array}\\right]$"
      ],
      "text/plain": [
       "Matrix([\n",
       "[1, 0, 0, 0 | sqrt(10), 0, 0,        0]\n",
       "[0, 1, 0, 0 |        0, 2, 0,        0]\n",
       "[0, 0, 1, 0 |        0, 0, 2,        0]\n",
       "[0, 0, 0, 1 |        0, 0, 0, sqrt(10)]\n",
       "])"
      ]
     },
     "metadata": {},
     "output_type": "display_data"
    },
    {
     "data": {
      "text/latex": [
       "$\\displaystyle \\left[\\begin{matrix}\\sqrt{10} & 0 & 0 & 0\\\\0 & 2 & 0 & 0\\\\0 & 0 & 2 & 0\\\\0 & 0 & 0 & \\sqrt{10}\\end{matrix}\\right]$"
      ],
      "text/plain": [
       "Matrix([\n",
       "[sqrt(10), 0, 0,        0],\n",
       "[       0, 2, 0,        0],\n",
       "[       0, 0, 2,        0],\n",
       "[       0, 0, 0, sqrt(10)]])"
      ]
     },
     "execution_count": 33,
     "metadata": {},
     "output_type": "execute_result"
    }
   ],
   "source": [
    "# Alternative way via `transition_matrix`\n",
    "\n",
    "S_to_T = S.transition_matrix(T, verbosity=2)\n",
    "S_to_T"
   ]
  },
  {
   "cell_type": "code",
   "execution_count": 34,
   "id": "f0e4f45a",
   "metadata": {},
   "outputs": [
    {
     "data": {
      "text/latex": [
       "$\\displaystyle \\left[\\begin{array}{c}\\sqrt{10}\\\\4\\\\2\\\\\\sqrt{10}\\end{array}\\right]$"
      ],
      "text/plain": [
       "Matrix([\n",
       "[sqrt(10)]\n",
       "[       4]\n",
       "[       2]\n",
       "[sqrt(10)]\n",
       "])"
      ]
     },
     "execution_count": 34,
     "metadata": {},
     "output_type": "execute_result"
    }
   ],
   "source": [
    "w_T = S_to_T @ w_S\n",
    "w_T"
   ]
  }
 ],
 "metadata": {
  "kernelspec": {
   "display_name": ".venv",
   "language": "python",
   "name": "python3"
  },
  "language_info": {
   "codemirror_mode": {
    "name": "ipython",
    "version": 3
   },
   "file_extension": ".py",
   "mimetype": "text/x-python",
   "name": "python",
   "nbconvert_exporter": "python",
   "pygments_lexer": "ipython3",
   "version": "3.10.11"
  }
 },
 "nbformat": 4,
 "nbformat_minor": 5
}

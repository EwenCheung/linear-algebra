{
 "cells": [
  {
   "cell_type": "markdown",
   "id": "a79d0b8e",
   "metadata": {},
   "source": [
    "# Tutorial 6 (AY24/25 Sem 1)"
   ]
  },
  {
   "cell_type": "code",
   "execution_count": 1,
   "id": "9992e34d",
   "metadata": {},
   "outputs": [],
   "source": [
    "# For loading the ma1522 package from the src directory\n",
    "# This is not required if you install the package using pip.\n",
    "import sys\n",
    "from pathlib import Path\n",
    "\n",
    "# Navigate to src directory\n",
    "src_path = Path.cwd().parent.parent / \"src\"\n",
    "sys.path.insert(0, str(src_path))\n",
    "\n",
    "# Required imports\n",
    "import sympy as sym\n",
    "from ma1522 import Matrix"
   ]
  },
  {
   "cell_type": "markdown",
   "id": "88813a45",
   "metadata": {},
   "source": [
    "## Question 1\n",
    "\n",
    "### (a)\n",
    "Let $\\mathbf{u}_1 = \\begin{pmatrix} 1 \\\\ 2 \\\\ -1 \\end{pmatrix}$, $\\mathbf{u}_2 = \\begin{pmatrix} 0 \\\\ 2 \\\\ 1 \\end{pmatrix}$, $\\mathbf{u}_3 = \\begin{pmatrix} 0 \\\\ -1 \\\\ 3 \\end{pmatrix}$. Show that $S = \\{\\mathbf{u}_1, \\mathbf{u}_2, \\mathbf{u}_3\\}$ forms a basis for $\\mathbb{R}^3$."
   ]
  },
  {
   "cell_type": "code",
   "execution_count": 2,
   "id": "37bee7a5",
   "metadata": {},
   "outputs": [
    {
     "data": {
      "text/latex": [
       "$\\displaystyle \\left[\\begin{array}{ccc}1 & 0 & 0\\\\2 & 2 & -1\\\\-1 & 1 & 3\\end{array}\\right]$"
      ],
      "text/plain": [
       "Matrix([\n",
       "[ 1, 0,  0]\n",
       "[ 2, 2, -1]\n",
       "[-1, 1,  3]\n",
       "])"
      ]
     },
     "execution_count": 2,
     "metadata": {},
     "output_type": "execute_result"
    }
   ],
   "source": [
    "S = Matrix.from_str(\"1 2 -1; 0 2 1; 0 -1 3\").T\n",
    "S"
   ]
  },
  {
   "cell_type": "code",
   "execution_count": 3,
   "id": "7442e650",
   "metadata": {},
   "outputs": [
    {
     "name": "stdout",
     "output_type": "stream",
     "text": [
      "Before RREF: [self]\n"
     ]
    },
    {
     "data": {
      "text/latex": [
       "$\\displaystyle \\left[\\begin{array}{ccc}1 & 0 & 0\\\\2 & 2 & -1\\\\-1 & 1 & 3\\end{array}\\right]$"
      ],
      "text/plain": [
       "Matrix([\n",
       "[ 1, 0,  0]\n",
       "[ 2, 2, -1]\n",
       "[-1, 1,  3]\n",
       "])"
      ]
     },
     "metadata": {},
     "output_type": "display_data"
    },
    {
     "name": "stdout",
     "output_type": "stream",
     "text": [
      "\n",
      "After RREF:\n"
     ]
    },
    {
     "data": {
      "text/latex": [
       "$\\text{RREF}\\left\\{\\text{rref} = \\left[\\begin{array}{ccc}1 & 0 & 0\\\\0 & 1 & 0\\\\0 & 0 & 1\\end{array}\\right], \\quad\\text{pivots} = (0, 1, 2)\\right\\}$"
      ],
      "text/plain": [
       "RREF(rref=Matrix([\n",
       "[1, 0, 0]\n",
       "[0, 1, 0]\n",
       "[0, 0, 1]\n",
       "]), pivots=(0, 1, 2))"
      ]
     },
     "metadata": {},
     "output_type": "display_data"
    },
    {
     "name": "stdout",
     "output_type": "stream",
     "text": [
      "Select columns of self corresponding to pivot positions.\n"
     ]
    },
    {
     "data": {
      "text/latex": [
       "$\\displaystyle \\left[\\begin{array}{ccc}1 & 0 & 0\\\\2 & 2 & -1\\\\-1 & 1 & 3\\end{array}\\right]$"
      ],
      "text/plain": [
       "Matrix([\n",
       "[ 1, 0,  0]\n",
       "[ 2, 2, -1]\n",
       "[-1, 1,  3]\n",
       "])"
      ]
     },
     "execution_count": 3,
     "metadata": {},
     "output_type": "execute_result"
    }
   ],
   "source": [
    "S.get_linearly_independent_vectors(verbosity=1)"
   ]
  },
  {
   "cell_type": "markdown",
   "id": "0e707fb6",
   "metadata": {},
   "source": [
    "### (b)\n",
    "\n",
    "Suppose $\\mathbf{w} = \\begin{pmatrix} 1 \\\\ 1 \\\\ 1 \\end{pmatrix}$. Find the coordinate vector of $\\mathbf{w}$ relative to $S$."
   ]
  },
  {
   "cell_type": "code",
   "execution_count": 4,
   "id": "48f4d18d",
   "metadata": {},
   "outputs": [
    {
     "name": "stdout",
     "output_type": "stream",
     "text": [
      "Before RREF: [to | self]\n"
     ]
    },
    {
     "data": {
      "text/latex": [
       "$\\displaystyle \\left[\\begin{array}{ccc|c}1 & 0 & 0 & 1\\\\2 & 2 & -1 & 1\\\\-1 & 1 & 3 & 1\\end{array}\\right]$"
      ],
      "text/plain": [
       "Matrix([\n",
       "[ 1, 0,  0 | 1]\n",
       "[ 2, 2, -1 | 1]\n",
       "[-1, 1,  3 | 1]\n",
       "])"
      ]
     },
     "metadata": {},
     "output_type": "display_data"
    },
    {
     "name": "stdout",
     "output_type": "stream",
     "text": [
      "\n",
      "After RREF:\n"
     ]
    },
    {
     "data": {
      "text/latex": [
       "$\\displaystyle \\left[\\begin{array}{ccc|c}1 & 0 & 0 & 1\\\\0 & 1 & 0 & - \\frac{1}{7}\\\\0 & 0 & 1 & \\frac{5}{7}\\end{array}\\right]$"
      ],
      "text/plain": [
       "Matrix([\n",
       "[1, 0, 0 |    1]\n",
       "[0, 1, 0 | -1/7]\n",
       "[0, 0, 1 |  5/7]\n",
       "])"
      ]
     },
     "metadata": {},
     "output_type": "display_data"
    },
    {
     "data": {
      "text/latex": [
       "$\\displaystyle \\left[\\begin{array}{c}1\\\\- \\frac{1}{7}\\\\\\frac{5}{7}\\end{array}\\right]$"
      ],
      "text/plain": [
       "Matrix([\n",
       "[   1]\n",
       "[-1/7]\n",
       "[ 5/7]\n",
       "])"
      ]
     },
     "execution_count": 4,
     "metadata": {},
     "output_type": "execute_result"
    }
   ],
   "source": [
    "w = Matrix.from_str(\"1; 1; 1\")\n",
    "\n",
    "w.coords_relative(S, verbosity=2)"
   ]
  },
  {
   "cell_type": "markdown",
   "id": "1195a5b3",
   "metadata": {},
   "source": [
    "### (c)\n",
    "\n",
    "Let $T = \\{\\mathbf{v}_1, \\mathbf{v}_2, \\mathbf{v}_3\\}$ be another basis for $\\mathbb{R}^3$ where $\\mathbf{v}_1 = \\begin{pmatrix} 1 \\\\ 5 \\\\ 4 \\end{pmatrix}$, $\\mathbf{v}_2 = \\begin{pmatrix} -1 \\\\ 3 \\\\ 7 \\end{pmatrix}$, $\\mathbf{v}_3 = \\begin{pmatrix} 2 \\\\ 2 \\\\ 4 \\end{pmatrix}$. Find the transition matrix from $T$ to $S$."
   ]
  },
  {
   "cell_type": "code",
   "execution_count": 5,
   "id": "a6d1ee07",
   "metadata": {},
   "outputs": [
    {
     "name": "stdout",
     "output_type": "stream",
     "text": [
      "Before RREF: [to | self]\n"
     ]
    },
    {
     "data": {
      "text/latex": [
       "$\\displaystyle \\left[\\begin{array}{ccc|ccc}1 & 0 & 0 & 1 & -1 & 2\\\\2 & 2 & -1 & 5 & 3 & 2\\\\-1 & 1 & 3 & 4 & 7 & 4\\end{array}\\right]$"
      ],
      "text/plain": [
       "Matrix([\n",
       "[ 1, 0,  0 | 1, -1, 2]\n",
       "[ 2, 2, -1 | 5,  3, 2]\n",
       "[-1, 1,  3 | 4,  7, 4]\n",
       "])"
      ]
     },
     "metadata": {},
     "output_type": "display_data"
    },
    {
     "name": "stdout",
     "output_type": "stream",
     "text": [
      "\n",
      "After RREF:\n"
     ]
    },
    {
     "data": {
      "text/latex": [
       "$\\displaystyle \\left[\\begin{array}{ccc|ccc}1 & 0 & 0 & 1 & -1 & 2\\\\0 & 1 & 0 & 2 & 3 & 0\\\\0 & 0 & 1 & 1 & 1 & 2\\end{array}\\right]$"
      ],
      "text/plain": [
       "Matrix([\n",
       "[1, 0, 0 | 1, -1, 2]\n",
       "[0, 1, 0 | 2,  3, 0]\n",
       "[0, 0, 1 | 1,  1, 2]\n",
       "])"
      ]
     },
     "metadata": {},
     "output_type": "display_data"
    },
    {
     "data": {
      "text/latex": [
       "$\\displaystyle \\left[\\begin{matrix}1 & -1 & 2\\\\2 & 3 & 0\\\\1 & 1 & 2\\end{matrix}\\right]$"
      ],
      "text/plain": [
       "Matrix([\n",
       "[1, -1, 2],\n",
       "[2,  3, 0],\n",
       "[1,  1, 2]])"
      ]
     },
     "execution_count": 5,
     "metadata": {},
     "output_type": "execute_result"
    }
   ],
   "source": [
    "T = Matrix.from_str(\"1 5 4; -1 3 7; 2 2 4\").T\n",
    "\n",
    "P_T_to_S = T.transition_matrix(S, verbosity=2)\n",
    "P_T_to_S"
   ]
  },
  {
   "cell_type": "markdown",
   "id": "da911ddc",
   "metadata": {},
   "source": [
    "### (d)\n",
    "\n",
    "Find the transition matrix from $S$ to $T$."
   ]
  },
  {
   "cell_type": "code",
   "execution_count": 6,
   "id": "60078fc6",
   "metadata": {},
   "outputs": [
    {
     "name": "stdout",
     "output_type": "stream",
     "text": [
      "Before RREF: [to | self]\n"
     ]
    },
    {
     "data": {
      "text/latex": [
       "$\\displaystyle \\left[\\begin{array}{ccc|ccc}1 & -1 & 2 & 1 & 0 & 0\\\\5 & 3 & 2 & 2 & 2 & -1\\\\4 & 7 & 4 & -1 & 1 & 3\\end{array}\\right]$"
      ],
      "text/plain": [
       "Matrix([\n",
       "[1, -1, 2 |  1, 0,  0]\n",
       "[5,  3, 2 |  2, 2, -1]\n",
       "[4,  7, 4 | -1, 1,  3]\n",
       "])"
      ]
     },
     "metadata": {},
     "output_type": "display_data"
    },
    {
     "name": "stdout",
     "output_type": "stream",
     "text": [
      "\n",
      "After RREF:\n"
     ]
    },
    {
     "data": {
      "text/latex": [
       "$\\displaystyle \\left[\\begin{array}{ccc|ccc}1 & 0 & 0 & \\frac{3}{4} & \\frac{1}{2} & - \\frac{3}{4}\\\\0 & 1 & 0 & - \\frac{1}{2} & 0 & \\frac{1}{2}\\\\0 & 0 & 1 & - \\frac{1}{8} & - \\frac{1}{4} & \\frac{5}{8}\\end{array}\\right]$"
      ],
      "text/plain": [
       "Matrix([\n",
       "[1, 0, 0 |  3/4,  1/2, -3/4]\n",
       "[0, 1, 0 | -1/2,    0,  1/2]\n",
       "[0, 0, 1 | -1/8, -1/4,  5/8]\n",
       "])"
      ]
     },
     "metadata": {},
     "output_type": "display_data"
    },
    {
     "data": {
      "text/latex": [
       "$\\displaystyle \\left[\\begin{matrix}\\frac{3}{4} & \\frac{1}{2} & - \\frac{3}{4}\\\\- \\frac{1}{2} & 0 & \\frac{1}{2}\\\\- \\frac{1}{8} & - \\frac{1}{4} & \\frac{5}{8}\\end{matrix}\\right]$"
      ],
      "text/plain": [
       "Matrix([\n",
       "[ 3/4,  1/2, -3/4],\n",
       "[-1/2,    0,  1/2],\n",
       "[-1/8, -1/4,  5/8]])"
      ]
     },
     "execution_count": 6,
     "metadata": {},
     "output_type": "execute_result"
    }
   ],
   "source": [
    "P_S_to_T = S.transition_matrix(T, verbosity=2)\n",
    "P_S_to_T"
   ]
  },
  {
   "cell_type": "code",
   "execution_count": 7,
   "id": "0d5e605e",
   "metadata": {},
   "outputs": [
    {
     "data": {
      "text/latex": [
       "$\\displaystyle \\left[\\begin{array}{ccc}\\frac{3}{4} & \\frac{1}{2} & - \\frac{3}{4}\\\\- \\frac{1}{2} & 0 & \\frac{1}{2}\\\\- \\frac{1}{8} & - \\frac{1}{4} & \\frac{5}{8}\\end{array}\\right]$"
      ],
      "text/plain": [
       "Matrix([\n",
       "[ 3/4,  1/2, -3/4]\n",
       "[-1/2,    0,  1/2]\n",
       "[-1/8, -1/4,  5/8]\n",
       "])"
      ]
     },
     "execution_count": 7,
     "metadata": {},
     "output_type": "execute_result"
    }
   ],
   "source": [
    "## Alternatively\n",
    "P_S_to_T = P_T_to_S.inverse()\n",
    "P_S_to_T"
   ]
  },
  {
   "cell_type": "markdown",
   "id": "ddf61dd2",
   "metadata": {},
   "source": [
    "### (e)\n",
    "\n",
    "Use the vector $\\mathbf{w}$ in Part (b). Find the coordinate vector of $\\mathbf{w}$ relative to $T$."
   ]
  },
  {
   "cell_type": "code",
   "execution_count": 8,
   "id": "f306f70a",
   "metadata": {},
   "outputs": [
    {
     "name": "stdout",
     "output_type": "stream",
     "text": [
      "Before RREF: [to | self]\n"
     ]
    },
    {
     "data": {
      "text/latex": [
       "$\\displaystyle \\left[\\begin{array}{ccc|c}1 & -1 & 2 & 1\\\\5 & 3 & 2 & 1\\\\4 & 7 & 4 & 1\\end{array}\\right]$"
      ],
      "text/plain": [
       "Matrix([\n",
       "[1, -1, 2 | 1]\n",
       "[5,  3, 2 | 1]\n",
       "[4,  7, 4 | 1]\n",
       "])"
      ]
     },
     "metadata": {},
     "output_type": "display_data"
    },
    {
     "name": "stdout",
     "output_type": "stream",
     "text": [
      "\n",
      "After RREF:\n"
     ]
    },
    {
     "data": {
      "text/latex": [
       "$\\displaystyle \\left[\\begin{array}{ccc|c}1 & 0 & 0 & \\frac{1}{7}\\\\0 & 1 & 0 & - \\frac{1}{7}\\\\0 & 0 & 1 & \\frac{5}{14}\\end{array}\\right]$"
      ],
      "text/plain": [
       "Matrix([\n",
       "[1, 0, 0 |  1/7]\n",
       "[0, 1, 0 | -1/7]\n",
       "[0, 0, 1 | 5/14]\n",
       "])"
      ]
     },
     "metadata": {},
     "output_type": "display_data"
    },
    {
     "data": {
      "text/latex": [
       "$\\displaystyle \\left[\\begin{array}{c}\\frac{1}{7}\\\\- \\frac{1}{7}\\\\\\frac{5}{14}\\end{array}\\right]$"
      ],
      "text/plain": [
       "Matrix([\n",
       "[ 1/7]\n",
       "[-1/7]\n",
       "[5/14]\n",
       "])"
      ]
     },
     "execution_count": 8,
     "metadata": {},
     "output_type": "execute_result"
    }
   ],
   "source": [
    "w.coords_relative(T, verbosity=2)"
   ]
  },
  {
   "cell_type": "markdown",
   "id": "cc420907",
   "metadata": {},
   "source": [
    "## Question 3\n",
    "\n",
    "### (a)\n",
    "\n",
    "Let $\\mathbf{A} = \\begin{pmatrix} 1 & -1 & 1 \\\\ 1 & 1 & -1 \\\\ -1 & -1 & 1 \\end{pmatrix}$ and $\\mathbf{b} = \\begin{pmatrix} 2 \\\\ 1 \\\\ 0 \\end{pmatrix}$. Is $\\mathbf{b}$ in the column space of $\\mathbf{A}$? If it is, express it as a linear combination of the columns of $\\mathbf{A}$."
   ]
  },
  {
   "cell_type": "code",
   "execution_count": 9,
   "id": "05c6506f",
   "metadata": {},
   "outputs": [
    {
     "name": "stdout",
     "output_type": "stream",
     "text": [
      "Before RREF: [to | self]\n"
     ]
    },
    {
     "data": {
      "text/latex": [
       "$\\displaystyle \\left[\\begin{array}{ccc|c}1 & -1 & 1 & 2\\\\1 & 1 & -1 & 1\\\\-1 & -1 & 1 & 0\\end{array}\\right]$"
      ],
      "text/plain": [
       "Matrix([\n",
       "[ 1, -1,  1 | 2]\n",
       "[ 1,  1, -1 | 1]\n",
       "[-1, -1,  1 | 0]\n",
       "])"
      ]
     },
     "metadata": {},
     "output_type": "display_data"
    },
    {
     "name": "stdout",
     "output_type": "stream",
     "text": [
      "\n",
      "After RREF:\n"
     ]
    },
    {
     "data": {
      "text/latex": [
       "$\\displaystyle \\left[\\begin{array}{ccc|c}1 & 0 & 0 & 0\\\\0 & 1 & -1 & 0\\\\0 & 0 & 0 & 1\\end{array}\\right]$"
      ],
      "text/plain": [
       "Matrix([\n",
       "[1, 0,  0 | 0]\n",
       "[0, 1, -1 | 0]\n",
       "[0, 0,  0 | 1]\n",
       "])"
      ]
     },
     "metadata": {},
     "output_type": "display_data"
    },
    {
     "name": "stdout",
     "output_type": "stream",
     "text": [
      "Error: No solution found due to inconsistent system.\n"
     ]
    }
   ],
   "source": [
    "A = Matrix.from_str(\"1 -1 1; 1 1 -1; -1 -1 1\")\n",
    "b = Matrix.from_str(\"2; 1; 0\")\n",
    "\n",
    "try:\n",
    "    b.coords_relative(A, verbosity=2)\n",
    "except ValueError as e:\n",
    "    print(f\"Error: {e}\") # b is not in the column space of A"
   ]
  },
  {
   "cell_type": "markdown",
   "id": "ca236e4a",
   "metadata": {},
   "source": [
    "### (b)\n",
    "\n",
    "Let $\\mathbf{A} = \\begin{pmatrix} 1 & 9 & 1 \\\\ -1 & 3 & 1 \\\\ 1 & 1 & 1 \\end{pmatrix}$ and $\\mathbf{b} = \\begin{pmatrix}5 & 1 & -1\\end{pmatrix}$. Is $\\mathbf{b}$ in the row space of $\\mathbf{A}$? If it is, express it as a linear combination of the rows of $\\mathbf{A}$."
   ]
  },
  {
   "cell_type": "code",
   "execution_count": 10,
   "id": "bcb926af",
   "metadata": {},
   "outputs": [
    {
     "name": "stdout",
     "output_type": "stream",
     "text": [
      "Before RREF: [to | self]\n"
     ]
    },
    {
     "data": {
      "text/latex": [
       "$\\displaystyle \\left[\\begin{array}{ccc|c}1 & -1 & 1 & 5\\\\9 & 3 & 1 & 1\\\\1 & 1 & 1 & -1\\end{array}\\right]$"
      ],
      "text/plain": [
       "Matrix([\n",
       "[1, -1, 1 |  5]\n",
       "[9,  3, 1 |  1]\n",
       "[1,  1, 1 | -1]\n",
       "])"
      ]
     },
     "metadata": {},
     "output_type": "display_data"
    },
    {
     "name": "stdout",
     "output_type": "stream",
     "text": [
      "\n",
      "After RREF:\n"
     ]
    },
    {
     "data": {
      "text/latex": [
       "$\\displaystyle \\left[\\begin{array}{ccc|c}1 & 0 & 0 & 1\\\\0 & 1 & 0 & -3\\\\0 & 0 & 1 & 1\\end{array}\\right]$"
      ],
      "text/plain": [
       "Matrix([\n",
       "[1, 0, 0 |  1]\n",
       "[0, 1, 0 | -3]\n",
       "[0, 0, 1 |  1]\n",
       "])"
      ]
     },
     "metadata": {},
     "output_type": "display_data"
    }
   ],
   "source": [
    "A = Matrix.from_str(\"1 9 1; -1 3 1; 1 1 1\")\n",
    "b = Matrix.from_str(\"5 1 -1\")\n",
    "\n",
    "scalars = b.T.coords_relative(A.T, verbosity=2)"
   ]
  },
  {
   "cell_type": "code",
   "execution_count": 11,
   "id": "6c09d4ed",
   "metadata": {},
   "outputs": [
    {
     "data": {
      "text/latex": [
       "$\\displaystyle \\left[\\begin{array}{c}1\\\\-3\\\\1\\end{array}\\right]$"
      ],
      "text/plain": [
       "Matrix([\n",
       "[ 1]\n",
       "[-3]\n",
       "[ 1]\n",
       "])"
      ]
     },
     "execution_count": 11,
     "metadata": {},
     "output_type": "execute_result"
    }
   ],
   "source": [
    "scalars # coordinates relative gives the coefficients of the linear combination"
   ]
  },
  {
   "cell_type": "markdown",
   "id": "cb3be9e5",
   "metadata": {},
   "source": [
    "### (c)\n",
    "\n",
    "Let $\\mathbf{A} = \\begin{pmatrix} 1 & 2 & 0 & 1 \\\\ 0 & 1 & 2 & 1 \\\\ 1 & 2 & 1 & 3 \\\\ 0 & 1 & 2 & 2 \\end{pmatrix}$. Is the row space and column space of $\\mathbf{A}$ the whole $\\mathbb{R}^4$?"
   ]
  },
  {
   "cell_type": "code",
   "execution_count": 12,
   "id": "6806d9bd",
   "metadata": {},
   "outputs": [
    {
     "data": {
      "text/latex": [
       "$\\displaystyle \\left[\\begin{array}{cccc}1 & 2 & 0 & 1\\\\0 & 1 & 2 & 1\\\\1 & 2 & 1 & 3\\\\0 & 1 & 2 & 2\\end{array}\\right]$"
      ],
      "text/plain": [
       "Matrix([\n",
       "[1, 2, 0, 1]\n",
       "[0, 1, 2, 1]\n",
       "[1, 2, 1, 3]\n",
       "[0, 1, 2, 2]\n",
       "])"
      ]
     },
     "execution_count": 12,
     "metadata": {},
     "output_type": "execute_result"
    }
   ],
   "source": [
    "A = Matrix.from_str(\"1 2 0 1; 0 1 2 1; 1 2 1 3; 0 1 2 2\")\n",
    "A"
   ]
  },
  {
   "cell_type": "code",
   "execution_count": 13,
   "id": "418e1fe2",
   "metadata": {},
   "outputs": [
    {
     "name": "stdout",
     "output_type": "stream",
     "text": [
      "Check rref(self) does not have zero rows\n",
      "Before RREF: self\n"
     ]
    },
    {
     "data": {
      "text/latex": [
       "$\\displaystyle \\left[\\begin{array}{cccc}1 & 2 & 0 & 1\\\\0 & 1 & 2 & 1\\\\1 & 2 & 1 & 3\\\\0 & 1 & 2 & 2\\end{array}\\right]$"
      ],
      "text/plain": [
       "Matrix([\n",
       "[1, 2, 0, 1]\n",
       "[0, 1, 2, 1]\n",
       "[1, 2, 1, 3]\n",
       "[0, 1, 2, 2]\n",
       "])"
      ]
     },
     "metadata": {},
     "output_type": "display_data"
    },
    {
     "name": "stdout",
     "output_type": "stream",
     "text": [
      "\n",
      "After RREF:\n"
     ]
    },
    {
     "data": {
      "text/latex": [
       "$\\displaystyle \\left[\\begin{array}{cccc}1 & 0 & 0 & 0\\\\0 & 1 & 0 & 0\\\\0 & 0 & 1 & 0\\\\0 & 0 & 0 & 1\\end{array}\\right]$"
      ],
      "text/plain": [
       "Matrix([\n",
       "[1, 0, 0, 0]\n",
       "[0, 1, 0, 0]\n",
       "[0, 0, 1, 0]\n",
       "[0, 0, 0, 1]\n",
       "])"
      ]
     },
     "metadata": {},
     "output_type": "display_data"
    },
    {
     "data": {
      "text/plain": [
       "True"
      ]
     },
     "execution_count": 13,
     "metadata": {},
     "output_type": "execute_result"
    }
   ],
   "source": [
    "A.is_same_subspace(verbosity=2) # other defaults to R^n"
   ]
  },
  {
   "cell_type": "code",
   "execution_count": 14,
   "id": "258c98ae",
   "metadata": {},
   "outputs": [
    {
     "name": "stdout",
     "output_type": "stream",
     "text": [
      "Check rref(self) does not have zero rows\n",
      "Before RREF: self\n"
     ]
    },
    {
     "data": {
      "text/latex": [
       "$\\displaystyle \\left[\\begin{array}{cccc}1 & 0 & 1 & 0\\\\2 & 1 & 2 & 1\\\\0 & 2 & 1 & 2\\\\1 & 1 & 3 & 2\\end{array}\\right]$"
      ],
      "text/plain": [
       "Matrix([\n",
       "[1, 0, 1, 0]\n",
       "[2, 1, 2, 1]\n",
       "[0, 2, 1, 2]\n",
       "[1, 1, 3, 2]\n",
       "])"
      ]
     },
     "metadata": {},
     "output_type": "display_data"
    },
    {
     "name": "stdout",
     "output_type": "stream",
     "text": [
      "\n",
      "After RREF:\n"
     ]
    },
    {
     "data": {
      "text/latex": [
       "$\\displaystyle \\left[\\begin{array}{cccc}1 & 0 & 0 & 0\\\\0 & 1 & 0 & 0\\\\0 & 0 & 1 & 0\\\\0 & 0 & 0 & 1\\end{array}\\right]$"
      ],
      "text/plain": [
       "Matrix([\n",
       "[1, 0, 0, 0]\n",
       "[0, 1, 0, 0]\n",
       "[0, 0, 1, 0]\n",
       "[0, 0, 0, 1]\n",
       "])"
      ]
     },
     "metadata": {},
     "output_type": "display_data"
    },
    {
     "data": {
      "text/plain": [
       "True"
      ]
     },
     "execution_count": 14,
     "metadata": {},
     "output_type": "execute_result"
    }
   ],
   "source": [
    "A.T.is_same_subspace(verbosity=2) # other defaults to R^n"
   ]
  },
  {
   "cell_type": "markdown",
   "id": "8adae92d",
   "metadata": {},
   "source": [
    "## Problem 4\n",
    "\n",
    "For each of the following matrices $\\mathbf{A}$,\n",
    "\n",
    "(i) Find a basis for the row space of $\\mathbf{A}$. \n",
    "\n",
    "(ii) Find a basis for the column space of $\\mathbf{A}$. \n",
    "\n",
    "(iii) Find a basis for the nullspace of $\\mathbf{A}$.\n",
    "    \n",
    "(iv) Hence determine $\\text{rank}(\\mathbf{A})$, $\\text{nullity}(\\mathbf{A})$ and verify the dimension theorem for matrices. \n",
    "\n",
    "(v) Is $\\mathbf{A}$ full rank?\n"
   ]
  },
  {
   "cell_type": "markdown",
   "id": "7e91389a",
   "metadata": {},
   "source": [
    "### (a)\n",
    "\n",
    "$\\mathbf{A} = \\begin{pmatrix} 1 & 2 & 5 & 3 \\\\ 1 & -4 & -1 & -9 \\\\ -1 & 0 & -3 & 1 \\\\ 2 & 1 & 7 & 0 \\\\ 0 & 1 & 1 & 2 \\end{pmatrix}$"
   ]
  },
  {
   "cell_type": "code",
   "execution_count": 15,
   "id": "b9ad29ad",
   "metadata": {},
   "outputs": [
    {
     "data": {
      "text/latex": [
       "$\\displaystyle \\left[\\begin{array}{cccc}1 & 2 & 5 & 3\\\\1 & -4 & -1 & -9\\\\-1 & 0 & -3 & 1\\\\2 & 1 & 7 & 0\\\\0 & 1 & 1 & 2\\end{array}\\right]$"
      ],
      "text/plain": [
       "Matrix([\n",
       "[ 1,  2,  5,  3]\n",
       "[ 1, -4, -1, -9]\n",
       "[-1,  0, -3,  1]\n",
       "[ 2,  1,  7,  0]\n",
       "[ 0,  1,  1,  2]\n",
       "])"
      ]
     },
     "execution_count": 15,
     "metadata": {},
     "output_type": "execute_result"
    }
   ],
   "source": [
    "A = Matrix.from_str(\"1 2 5 3; 1 -4 -1 -9; -1 0 -3 1; 2 1 7 0; 0 1 1 2\")\n",
    "A"
   ]
  },
  {
   "cell_type": "code",
   "execution_count": 16,
   "id": "1b33d0fa",
   "metadata": {},
   "outputs": [
    {
     "name": "stdout",
     "output_type": "stream",
     "text": [
      "Before RREF: [self^T]\n"
     ]
    },
    {
     "data": {
      "text/latex": [
       "$\\displaystyle \\left[\\begin{array}{ccccc}1 & 1 & -1 & 2 & 0\\\\2 & -4 & 0 & 1 & 1\\\\5 & -1 & -3 & 7 & 1\\\\3 & -9 & 1 & 0 & 2\\end{array}\\right]$"
      ],
      "text/plain": [
       "Matrix([\n",
       "[1,  1, -1, 2, 0]\n",
       "[2, -4,  0, 1, 1]\n",
       "[5, -1, -3, 7, 1]\n",
       "[3, -9,  1, 0, 2]\n",
       "])"
      ]
     },
     "metadata": {},
     "output_type": "display_data"
    },
    {
     "name": "stdout",
     "output_type": "stream",
     "text": [
      "\n",
      "After RREF:\n"
     ]
    },
    {
     "data": {
      "text/latex": [
       "$\\text{RREF}\\left\\{\\text{rref} = \\left[\\begin{array}{ccccc}1 & 0 & - \\frac{2}{3} & \\frac{3}{2} & \\frac{1}{6}\\\\0 & 1 & - \\frac{1}{3} & \\frac{1}{2} & - \\frac{1}{6}\\\\0 & 0 & 0 & 0 & 0\\\\0 & 0 & 0 & 0 & 0\\end{array}\\right], \\quad\\text{pivots} = (0, 1)\\right\\}$"
      ],
      "text/plain": [
       "RREF(rref=Matrix([\n",
       "[1, 0, -2/3, 3/2,  1/6]\n",
       "[0, 1, -1/3, 1/2, -1/6]\n",
       "[0, 0,    0,   0,    0]\n",
       "[0, 0,    0,   0,    0]\n",
       "]), pivots=(0, 1))"
      ]
     },
     "metadata": {},
     "output_type": "display_data"
    },
    {
     "name": "stdout",
     "output_type": "stream",
     "text": [
      "Select rows of self corresponding to pivot positions.\n"
     ]
    },
    {
     "data": {
      "text/latex": [
       "$\\displaystyle \\left[\\begin{array}{cccc}1 & 2 & 5 & 3\\\\1 & -4 & -1 & -9\\end{array}\\right]$"
      ],
      "text/plain": [
       "Matrix([\n",
       "[1,  2,  5,  3]\n",
       "[1, -4, -1, -9]\n",
       "])"
      ]
     },
     "execution_count": 16,
     "metadata": {},
     "output_type": "execute_result"
    }
   ],
   "source": [
    "# Row space\n",
    "A.get_linearly_independent_vectors(colspace=False, verbosity=2) "
   ]
  },
  {
   "cell_type": "code",
   "execution_count": 17,
   "id": "5896068b",
   "metadata": {},
   "outputs": [
    {
     "name": "stdout",
     "output_type": "stream",
     "text": [
      "Before RREF: [self]\n"
     ]
    },
    {
     "data": {
      "text/latex": [
       "$\\displaystyle \\left[\\begin{array}{cccc}1 & 2 & 5 & 3\\\\1 & -4 & -1 & -9\\\\-1 & 0 & -3 & 1\\\\2 & 1 & 7 & 0\\\\0 & 1 & 1 & 2\\end{array}\\right]$"
      ],
      "text/plain": [
       "Matrix([\n",
       "[ 1,  2,  5,  3]\n",
       "[ 1, -4, -1, -9]\n",
       "[-1,  0, -3,  1]\n",
       "[ 2,  1,  7,  0]\n",
       "[ 0,  1,  1,  2]\n",
       "])"
      ]
     },
     "metadata": {},
     "output_type": "display_data"
    },
    {
     "name": "stdout",
     "output_type": "stream",
     "text": [
      "\n",
      "After RREF:\n"
     ]
    },
    {
     "data": {
      "text/latex": [
       "$\\text{RREF}\\left\\{\\text{rref} = \\left[\\begin{array}{cccc}1 & 0 & 3 & -1\\\\0 & 1 & 1 & 2\\\\0 & 0 & 0 & 0\\\\0 & 0 & 0 & 0\\\\0 & 0 & 0 & 0\\end{array}\\right], \\quad\\text{pivots} = (0, 1)\\right\\}$"
      ],
      "text/plain": [
       "RREF(rref=Matrix([\n",
       "[1, 0, 3, -1]\n",
       "[0, 1, 1,  2]\n",
       "[0, 0, 0,  0]\n",
       "[0, 0, 0,  0]\n",
       "[0, 0, 0,  0]\n",
       "]), pivots=(0, 1))"
      ]
     },
     "metadata": {},
     "output_type": "display_data"
    },
    {
     "name": "stdout",
     "output_type": "stream",
     "text": [
      "Select columns of self corresponding to pivot positions.\n"
     ]
    },
    {
     "data": {
      "text/latex": [
       "$\\displaystyle \\left[\\begin{array}{cc}1 & 2\\\\1 & -4\\\\-1 & 0\\\\2 & 1\\\\0 & 1\\end{array}\\right]$"
      ],
      "text/plain": [
       "Matrix([\n",
       "[ 1,  2]\n",
       "[ 1, -4]\n",
       "[-1,  0]\n",
       "[ 2,  1]\n",
       "[ 0,  1]\n",
       "])"
      ]
     },
     "execution_count": 17,
     "metadata": {},
     "output_type": "execute_result"
    }
   ],
   "source": [
    "# Column space\n",
    "A.get_linearly_independent_vectors(colspace=True, verbosity=2)"
   ]
  },
  {
   "cell_type": "code",
   "execution_count": 18,
   "id": "b76107aa",
   "metadata": {},
   "outputs": [
    {
     "name": "stdout",
     "output_type": "stream",
     "text": [
      "Before RREF: [self]\n"
     ]
    },
    {
     "data": {
      "text/latex": [
       "$\\displaystyle \\left[\\begin{array}{cccc}1 & 2 & 5 & 3\\\\1 & -4 & -1 & -9\\\\-1 & 0 & -3 & 1\\\\2 & 1 & 7 & 0\\\\0 & 1 & 1 & 2\\end{array}\\right]$"
      ],
      "text/plain": [
       "Matrix([\n",
       "[ 1,  2,  5,  3]\n",
       "[ 1, -4, -1, -9]\n",
       "[-1,  0, -3,  1]\n",
       "[ 2,  1,  7,  0]\n",
       "[ 0,  1,  1,  2]\n",
       "])"
      ]
     },
     "metadata": {},
     "output_type": "display_data"
    },
    {
     "name": "stdout",
     "output_type": "stream",
     "text": [
      "\n",
      "After RREF:\n"
     ]
    },
    {
     "data": {
      "text/latex": [
       "$\\text{RREF}\\left\\{\\text{rref} = \\left[\\begin{array}{cccc}1 & 0 & 3 & -1\\\\0 & 1 & 1 & 2\\\\0 & 0 & 0 & 0\\\\0 & 0 & 0 & 0\\\\0 & 0 & 0 & 0\\end{array}\\right], \\quad\\text{pivots} = (0, 1)\\right\\}$"
      ],
      "text/plain": [
       "RREF(rref=Matrix([\n",
       "[1, 0, 3, -1]\n",
       "[0, 1, 1,  2]\n",
       "[0, 0, 0,  0]\n",
       "[0, 0, 0,  0]\n",
       "[0, 0, 0,  0]\n",
       "]), pivots=(0, 1))"
      ]
     },
     "metadata": {},
     "output_type": "display_data"
    },
    {
     "data": {
      "text/latex": [
       "$\\displaystyle \\left[ \\left[\\begin{matrix}-3\\\\-1\\\\1\\\\0\\end{matrix}\\right], \\  \\left[\\begin{matrix}1\\\\-2\\\\0\\\\1\\end{matrix}\\right]\\right]$"
      ],
      "text/plain": [
       "⎡⎡-3⎤  ⎡1 ⎤⎤\n",
       "⎢⎢  ⎥  ⎢  ⎥⎥\n",
       "⎢⎢-1⎥  ⎢-2⎥⎥\n",
       "⎢⎢  ⎥, ⎢  ⎥⎥\n",
       "⎢⎢1 ⎥  ⎢0 ⎥⎥\n",
       "⎢⎢  ⎥  ⎢  ⎥⎥\n",
       "⎣⎣0 ⎦  ⎣1 ⎦⎦"
      ]
     },
     "execution_count": 18,
     "metadata": {},
     "output_type": "execute_result"
    }
   ],
   "source": [
    "A.nullspace(verbosity=2)"
   ]
  },
  {
   "cell_type": "code",
   "execution_count": 19,
   "id": "e7c33b8b",
   "metadata": {},
   "outputs": [
    {
     "data": {
      "text/latex": [
       "$\\displaystyle \\left( 2, \\  2\\right)$"
      ],
      "text/plain": [
       "(2, 2)"
      ]
     },
     "execution_count": 19,
     "metadata": {},
     "output_type": "execute_result"
    }
   ],
   "source": [
    "A.rank(), A.nullity()"
   ]
  },
  {
   "cell_type": "markdown",
   "id": "136a51b0",
   "metadata": {},
   "source": [
    "### (b)\n",
    "\n",
    "$\\mathbf{A} = \\begin{pmatrix} 1 & 3 & 7 \\\\ 2 & 1 & 8 \\\\ 3 & -5 & -1 \\\\ 2 & -2 & 2 \\\\ 1 & 1 & 5 \\end{pmatrix}$\n"
   ]
  },
  {
   "cell_type": "code",
   "execution_count": 20,
   "id": "a82c467f",
   "metadata": {},
   "outputs": [
    {
     "data": {
      "text/latex": [
       "$\\displaystyle \\left[\\begin{array}{ccc}1 & 3 & 7\\\\2 & 1 & 8\\\\3 & -5 & -1\\\\2 & -2 & 2\\\\1 & 1 & 5\\end{array}\\right]$"
      ],
      "text/plain": [
       "Matrix([\n",
       "[1,  3,  7]\n",
       "[2,  1,  8]\n",
       "[3, -5, -1]\n",
       "[2, -2,  2]\n",
       "[1,  1,  5]\n",
       "])"
      ]
     },
     "execution_count": 20,
     "metadata": {},
     "output_type": "execute_result"
    }
   ],
   "source": [
    "A = Matrix.from_str(\"1 3 7; 2 1 8; 3 -5 -1; 2 -2 2; 1 1 5\")\n",
    "A"
   ]
  },
  {
   "cell_type": "code",
   "execution_count": 21,
   "id": "f1b97bb8",
   "metadata": {},
   "outputs": [
    {
     "name": "stdout",
     "output_type": "stream",
     "text": [
      "Before RREF: self\n"
     ]
    },
    {
     "data": {
      "text/latex": [
       "$\\displaystyle \\left[\\begin{array}{ccc}1 & 3 & 7\\\\2 & 1 & 8\\\\3 & -5 & -1\\\\2 & -2 & 2\\\\1 & 1 & 5\\end{array}\\right]$"
      ],
      "text/plain": [
       "Matrix([\n",
       "[1,  3,  7]\n",
       "[2,  1,  8]\n",
       "[3, -5, -1]\n",
       "[2, -2,  2]\n",
       "[1,  1,  5]\n",
       "])"
      ]
     },
     "metadata": {},
     "output_type": "display_data"
    },
    {
     "name": "stdout",
     "output_type": "stream",
     "text": [
      "\n",
      "After RREF:\n"
     ]
    },
    {
     "data": {
      "text/latex": [
       "$\\displaystyle \\left[\\begin{array}{ccc}1 & 0 & 0\\\\0 & 1 & 0\\\\0 & 0 & 1\\\\0 & 0 & 0\\\\0 & 0 & 0\\end{array}\\right]$"
      ],
      "text/plain": [
       "Matrix([\n",
       "[1, 0, 0]\n",
       "[0, 1, 0]\n",
       "[0, 0, 1]\n",
       "[0, 0, 0]\n",
       "[0, 0, 0]\n",
       "])"
      ]
     },
     "metadata": {},
     "output_type": "display_data"
    },
    {
     "data": {
      "text/latex": [
       "$\\displaystyle \\left[\\begin{array}{ccc}1 & 0 & 0\\\\0 & 1 & 0\\\\0 & 0 & 1\\end{array}\\right]$"
      ],
      "text/plain": [
       "Matrix([\n",
       "[1, 0, 0]\n",
       "[0, 1, 0]\n",
       "[0, 0, 1]\n",
       "])"
      ]
     },
     "execution_count": 21,
     "metadata": {},
     "output_type": "execute_result"
    }
   ],
   "source": [
    "# Alternatively, you can use `simplify_basis` to get a simple basis\n",
    "# that is not necessarily a row or column of the original matrix.\n",
    "\n",
    "rowspace = A.simplify_basis(colspace=False, verbosity=2)\n",
    "rowspace"
   ]
  },
  {
   "cell_type": "code",
   "execution_count": 22,
   "id": "29ce210a",
   "metadata": {},
   "outputs": [
    {
     "name": "stdout",
     "output_type": "stream",
     "text": [
      "Before RREF: self^T\n"
     ]
    },
    {
     "data": {
      "text/latex": [
       "$\\displaystyle \\left[\\begin{array}{ccccc}1 & 2 & 3 & 2 & 1\\\\3 & 1 & -5 & -2 & 1\\\\7 & 8 & -1 & 2 & 5\\end{array}\\right]$"
      ],
      "text/plain": [
       "Matrix([\n",
       "[1, 2,  3,  2, 1]\n",
       "[3, 1, -5, -2, 1]\n",
       "[7, 8, -1,  2, 5]\n",
       "])"
      ]
     },
     "metadata": {},
     "output_type": "display_data"
    },
    {
     "name": "stdout",
     "output_type": "stream",
     "text": [
      "\n",
      "After RREF:\n"
     ]
    },
    {
     "data": {
      "text/latex": [
       "$\\displaystyle \\left[\\begin{array}{ccccc}1 & 0 & 0 & 0 & 0\\\\0 & 1 & 0 & \\frac{4}{13} & \\frac{8}{13}\\\\0 & 0 & 1 & \\frac{6}{13} & - \\frac{1}{13}\\end{array}\\right]$"
      ],
      "text/plain": [
       "Matrix([\n",
       "[1, 0, 0,    0,     0]\n",
       "[0, 1, 0, 4/13,  8/13]\n",
       "[0, 0, 1, 6/13, -1/13]\n",
       "])"
      ]
     },
     "metadata": {},
     "output_type": "display_data"
    },
    {
     "data": {
      "text/latex": [
       "$\\displaystyle \\left[\\begin{array}{ccc}1 & 0 & 0\\\\0 & 1 & 0\\\\0 & 0 & 1\\\\0 & \\frac{4}{13} & \\frac{6}{13}\\\\0 & \\frac{8}{13} & - \\frac{1}{13}\\end{array}\\right]$"
      ],
      "text/plain": [
       "Matrix([\n",
       "[1,    0,     0]\n",
       "[0,    1,     0]\n",
       "[0,    0,     1]\n",
       "[0, 4/13,  6/13]\n",
       "[0, 8/13, -1/13]\n",
       "])"
      ]
     },
     "execution_count": 22,
     "metadata": {},
     "output_type": "execute_result"
    }
   ],
   "source": [
    "colspace = A.simplify_basis(colspace=True, verbosity=2)\n",
    "colspace"
   ]
  },
  {
   "cell_type": "code",
   "execution_count": 23,
   "id": "a4fbac91",
   "metadata": {},
   "outputs": [
    {
     "name": "stdout",
     "output_type": "stream",
     "text": [
      "Before RREF: [self]\n"
     ]
    },
    {
     "data": {
      "text/latex": [
       "$\\displaystyle \\left[\\begin{array}{ccc}1 & 3 & 7\\\\2 & 1 & 8\\\\3 & -5 & -1\\\\2 & -2 & 2\\\\1 & 1 & 5\\end{array}\\right]$"
      ],
      "text/plain": [
       "Matrix([\n",
       "[1,  3,  7]\n",
       "[2,  1,  8]\n",
       "[3, -5, -1]\n",
       "[2, -2,  2]\n",
       "[1,  1,  5]\n",
       "])"
      ]
     },
     "metadata": {},
     "output_type": "display_data"
    },
    {
     "name": "stdout",
     "output_type": "stream",
     "text": [
      "\n",
      "After RREF:\n"
     ]
    },
    {
     "data": {
      "text/latex": [
       "$\\text{RREF}\\left\\{\\text{rref} = \\left[\\begin{array}{ccc}1 & 0 & 0\\\\0 & 1 & 0\\\\0 & 0 & 1\\\\0 & 0 & 0\\\\0 & 0 & 0\\end{array}\\right], \\quad\\text{pivots} = (0, 1, 2)\\right\\}$"
      ],
      "text/plain": [
       "RREF(rref=Matrix([\n",
       "[1, 0, 0]\n",
       "[0, 1, 0]\n",
       "[0, 0, 1]\n",
       "[0, 0, 0]\n",
       "[0, 0, 0]\n",
       "]), pivots=(0, 1, 2))"
      ]
     },
     "metadata": {},
     "output_type": "display_data"
    },
    {
     "name": "stderr",
     "output_type": "stream",
     "text": [
      "C:\\Users\\yeesh\\AppData\\Local\\Temp\\ipykernel_25356\\40416061.py:1: UserWarning: Only trivial nullspace (0-vector) detected!\n",
      "  A.nullspace(verbosity=2) # UserWarning if the nullspace is trivial\n"
     ]
    },
    {
     "data": {
      "text/latex": [
       "$\\displaystyle \\left[ \\right]$"
      ],
      "text/plain": [
       "[]"
      ]
     },
     "execution_count": 23,
     "metadata": {},
     "output_type": "execute_result"
    }
   ],
   "source": [
    "A.nullspace(verbosity=2) # UserWarning if the nullspace is trivial"
   ]
  },
  {
   "cell_type": "code",
   "execution_count": 24,
   "id": "215e5546",
   "metadata": {},
   "outputs": [
    {
     "data": {
      "text/latex": [
       "$\\displaystyle \\left( 3, \\  0\\right)$"
      ],
      "text/plain": [
       "(3, 0)"
      ]
     },
     "execution_count": 24,
     "metadata": {},
     "output_type": "execute_result"
    }
   ],
   "source": [
    "A.rank(), A.nullity()"
   ]
  },
  {
   "cell_type": "markdown",
   "id": "b5fa5536",
   "metadata": {},
   "source": [
    "## Question 5\n",
    "\n",
    "Let $W$ be a subspace of $\\mathbb{R}^5$ spanned by the following vectors $$\\mathbf{u}_1 = \\begin{pmatrix} 1 \\\\ -2 \\\\ 0 \\\\ 0 \\\\ 3 \\end{pmatrix}, \\quad \\mathbf{u}_2 = \\begin{pmatrix} 2 \\\\ -5 \\\\ -3 \\\\ -2 \\\\ 6 \\end{pmatrix}, \\quad \\mathbf{u}_3 = \\begin{pmatrix} 0 \\\\ 5 \\\\ 15 \\\\ 10 \\\\ 0 \\end{pmatrix}, \\quad \\mathbf{u}_4 = \\begin{pmatrix} 2 \\\\ 1 \\\\ 15 \\\\ 8 \\\\ 6 \\end{pmatrix}$$"
   ]
  },
  {
   "cell_type": "markdown",
   "id": "fe93e941",
   "metadata": {},
   "source": [
    "### (a)\n",
    "\n",
    "Find a basis for $W$."
   ]
  },
  {
   "cell_type": "code",
   "execution_count": 25,
   "id": "93b20d8b",
   "metadata": {},
   "outputs": [
    {
     "data": {
      "text/latex": [
       "$\\displaystyle \\left[\\begin{array}{cccc}1 & 2 & 0 & 2\\\\-2 & -5 & 5 & 1\\\\0 & -3 & 15 & 15\\\\0 & -2 & 10 & 8\\\\3 & 6 & 0 & 6\\end{array}\\right]$"
      ],
      "text/plain": [
       "Matrix([\n",
       "[ 1,  2,  0,  2]\n",
       "[-2, -5,  5,  1]\n",
       "[ 0, -3, 15, 15]\n",
       "[ 0, -2, 10,  8]\n",
       "[ 3,  6,  0,  6]\n",
       "])"
      ]
     },
     "execution_count": 25,
     "metadata": {},
     "output_type": "execute_result"
    }
   ],
   "source": [
    "W = Matrix.from_str(\"1 -2 0 0 3; 2 -5 -3 -2 6; 0 5 15 10 0; 2 1 15 8 6\").T\n",
    "W"
   ]
  },
  {
   "cell_type": "code",
   "execution_count": 26,
   "id": "b7f4245c",
   "metadata": {},
   "outputs": [
    {
     "name": "stdout",
     "output_type": "stream",
     "text": [
      "Before RREF: [self]\n"
     ]
    },
    {
     "data": {
      "text/latex": [
       "$\\displaystyle \\left[\\begin{array}{cccc}1 & 2 & 0 & 2\\\\-2 & -5 & 5 & 1\\\\0 & -3 & 15 & 15\\\\0 & -2 & 10 & 8\\\\3 & 6 & 0 & 6\\end{array}\\right]$"
      ],
      "text/plain": [
       "Matrix([\n",
       "[ 1,  2,  0,  2]\n",
       "[-2, -5,  5,  1]\n",
       "[ 0, -3, 15, 15]\n",
       "[ 0, -2, 10,  8]\n",
       "[ 3,  6,  0,  6]\n",
       "])"
      ]
     },
     "metadata": {},
     "output_type": "display_data"
    },
    {
     "name": "stdout",
     "output_type": "stream",
     "text": [
      "\n",
      "After RREF:\n"
     ]
    },
    {
     "data": {
      "text/latex": [
       "$\\text{RREF}\\left\\{\\text{rref} = \\left[\\begin{array}{cccc}1 & 0 & 10 & 0\\\\0 & 1 & -5 & 0\\\\0 & 0 & 0 & 1\\\\0 & 0 & 0 & 0\\\\0 & 0 & 0 & 0\\end{array}\\right], \\quad\\text{pivots} = (0, 1, 3)\\right\\}$"
      ],
      "text/plain": [
       "RREF(rref=Matrix([\n",
       "[1, 0, 10, 0]\n",
       "[0, 1, -5, 0]\n",
       "[0, 0,  0, 1]\n",
       "[0, 0,  0, 0]\n",
       "[0, 0,  0, 0]\n",
       "]), pivots=(0, 1, 3))"
      ]
     },
     "metadata": {},
     "output_type": "display_data"
    },
    {
     "name": "stdout",
     "output_type": "stream",
     "text": [
      "Select columns of self corresponding to pivot positions.\n"
     ]
    },
    {
     "data": {
      "text/latex": [
       "$\\displaystyle \\left[\\begin{array}{ccc}1 & 2 & 2\\\\-2 & -5 & 1\\\\0 & -3 & 15\\\\0 & -2 & 8\\\\3 & 6 & 6\\end{array}\\right]$"
      ],
      "text/plain": [
       "Matrix([\n",
       "[ 1,  2,  2]\n",
       "[-2, -5,  1]\n",
       "[ 0, -3, 15]\n",
       "[ 0, -2,  8]\n",
       "[ 3,  6,  6]\n",
       "])"
      ]
     },
     "execution_count": 26,
     "metadata": {},
     "output_type": "execute_result"
    }
   ],
   "source": [
    "W.get_linearly_independent_vectors(colspace=True, verbosity=2)"
   ]
  },
  {
   "cell_type": "code",
   "execution_count": 27,
   "id": "0913c7a8",
   "metadata": {},
   "outputs": [
    {
     "name": "stdout",
     "output_type": "stream",
     "text": [
      "Before RREF: self^T\n"
     ]
    },
    {
     "data": {
      "text/latex": [
       "$\\displaystyle \\left[\\begin{array}{ccccc}1 & -2 & 0 & 0 & 3\\\\2 & -5 & -3 & -2 & 6\\\\0 & 5 & 15 & 10 & 0\\\\2 & 1 & 15 & 8 & 6\\end{array}\\right]$"
      ],
      "text/plain": [
       "Matrix([\n",
       "[1, -2,  0,  0, 3]\n",
       "[2, -5, -3, -2, 6]\n",
       "[0,  5, 15, 10, 0]\n",
       "[2,  1, 15,  8, 6]\n",
       "])"
      ]
     },
     "metadata": {},
     "output_type": "display_data"
    },
    {
     "name": "stdout",
     "output_type": "stream",
     "text": [
      "\n",
      "After RREF:\n"
     ]
    },
    {
     "data": {
      "text/latex": [
       "$\\displaystyle \\left[\\begin{array}{ccccc}1 & 0 & 6 & 0 & 3\\\\0 & 1 & 3 & 0 & 0\\\\0 & 0 & 0 & 1 & 0\\\\0 & 0 & 0 & 0 & 0\\end{array}\\right]$"
      ],
      "text/plain": [
       "Matrix([\n",
       "[1, 0, 6, 0, 3]\n",
       "[0, 1, 3, 0, 0]\n",
       "[0, 0, 0, 1, 0]\n",
       "[0, 0, 0, 0, 0]\n",
       "])"
      ]
     },
     "metadata": {},
     "output_type": "display_data"
    },
    {
     "data": {
      "text/latex": [
       "$\\displaystyle \\left[\\begin{array}{ccc}1 & 0 & 0\\\\0 & 1 & 0\\\\6 & 3 & 0\\\\0 & 0 & 1\\\\3 & 0 & 0\\end{array}\\right]$"
      ],
      "text/plain": [
       "Matrix([\n",
       "[1, 0, 0]\n",
       "[0, 1, 0]\n",
       "[6, 3, 0]\n",
       "[0, 0, 1]\n",
       "[3, 0, 0]\n",
       "])"
      ]
     },
     "execution_count": 27,
     "metadata": {},
     "output_type": "execute_result"
    }
   ],
   "source": [
    "# OR\n",
    "W.simplify_basis(colspace=True, verbosity=2)"
   ]
  },
  {
   "cell_type": "markdown",
   "id": "e3f4eb3a",
   "metadata": {},
   "source": [
    "### (c)\n",
    "\n",
    "Extend the basis $W$ found in (a) to a basis for $\\mathbb{R}^5$."
   ]
  },
  {
   "cell_type": "code",
   "execution_count": 28,
   "id": "0f99851a",
   "metadata": {},
   "outputs": [
    {
     "name": "stdout",
     "output_type": "stream",
     "text": [
      "Before RREF: [self | span_subspace]\n"
     ]
    },
    {
     "data": {
      "text/latex": [
       "$\\displaystyle \\left[\\begin{array}{cccc|ccccc}1 & 2 & 0 & 2 & 1 & 0 & 0 & 0 & 0\\\\-2 & -5 & 5 & 1 & 0 & 1 & 0 & 0 & 0\\\\0 & -3 & 15 & 15 & 0 & 0 & 1 & 0 & 0\\\\0 & -2 & 10 & 8 & 0 & 0 & 0 & 1 & 0\\\\3 & 6 & 0 & 6 & 0 & 0 & 0 & 0 & 1\\end{array}\\right]$"
      ],
      "text/plain": [
       "Matrix([\n",
       "[ 1,  2,  0,  2 | 1, 0, 0, 0, 0]\n",
       "[-2, -5,  5,  1 | 0, 1, 0, 0, 0]\n",
       "[ 0, -3, 15, 15 | 0, 0, 1, 0, 0]\n",
       "[ 0, -2, 10,  8 | 0, 0, 0, 1, 0]\n",
       "[ 3,  6,  0,  6 | 0, 0, 0, 0, 1]\n",
       "])"
      ]
     },
     "metadata": {},
     "output_type": "display_data"
    },
    {
     "name": "stdout",
     "output_type": "stream",
     "text": [
      "\n",
      "After RREF:\n"
     ]
    },
    {
     "data": {
      "text/latex": [
       "$\\text{RREF}\\left\\{\\text{rref} = \\left[\\begin{array}{cccc|ccccc}1 & 0 & 10 & 0 & 0 & 0 & - \\frac{10}{3} & 6 & \\frac{1}{3}\\\\0 & 1 & -5 & 0 & 0 & 0 & \\frac{4}{3} & - \\frac{5}{2} & 0\\\\0 & 0 & 0 & 1 & 0 & 0 & \\frac{1}{3} & - \\frac{1}{2} & 0\\\\0 & 0 & 0 & 0 & 1 & 0 & 0 & 0 & - \\frac{1}{3}\\\\0 & 0 & 0 & 0 & 0 & 1 & - \\frac{1}{3} & 0 & \\frac{2}{3}\\end{array}\\right], \\quad\\text{pivots} = (0, 1, 3, 4, 5)\\right\\}$"
      ],
      "text/plain": [
       "RREF(rref=Matrix([\n",
       "[1, 0, 10, 0 | 0, 0, -10/3,    6,  1/3]\n",
       "[0, 1, -5, 0 | 0, 0,   4/3, -5/2,    0]\n",
       "[0, 0,  0, 1 | 0, 0,   1/3, -1/2,    0]\n",
       "[0, 0,  0, 0 | 1, 0,     0,    0, -1/3]\n",
       "[0, 0,  0, 0 | 0, 1,  -1/3,    0,  2/3]\n",
       "]), pivots=(0, 1, 3, 4, 5))"
      ]
     },
     "metadata": {},
     "output_type": "display_data"
    },
    {
     "name": "stdout",
     "output_type": "stream",
     "text": [
      "Select columns of rref([self | span_subspace]) corresponding to pivot positions.\n"
     ]
    },
    {
     "data": {
      "text/latex": [
       "$\\displaystyle \\left[\\begin{array}{ccccc}1 & 2 & 2 & 1 & 0\\\\-2 & -5 & 1 & 0 & 1\\\\0 & -3 & 15 & 0 & 0\\\\0 & -2 & 8 & 0 & 0\\\\3 & 6 & 6 & 0 & 0\\end{array}\\right]$"
      ],
      "text/plain": [
       "Matrix([\n",
       "[ 1,  2,  2, 1, 0]\n",
       "[-2, -5,  1, 0, 1]\n",
       "[ 0, -3, 15, 0, 0]\n",
       "[ 0, -2,  8, 0, 0]\n",
       "[ 3,  6,  6, 0, 0]\n",
       "])"
      ]
     },
     "execution_count": 28,
     "metadata": {},
     "output_type": "execute_result"
    }
   ],
   "source": [
    "W.extend_basis(verbosity=2)  # span_subspace=None extends to R^n by default"
   ]
  },
  {
   "cell_type": "code",
   "execution_count": 29,
   "id": "bee1a35b",
   "metadata": {},
   "outputs": [
    {
     "name": "stdout",
     "output_type": "stream",
     "text": [
      "Before RREF: [self | span_subspace]\n"
     ]
    },
    {
     "data": {
      "text/latex": [
       "$\\displaystyle \\left[\\begin{array}{ccc|ccccc}1 & 0 & 0 & 1 & 0 & 0 & 0 & 0\\\\0 & 1 & 0 & 0 & 1 & 0 & 0 & 0\\\\6 & 3 & 0 & 0 & 0 & 1 & 0 & 0\\\\0 & 0 & 1 & 0 & 0 & 0 & 1 & 0\\\\3 & 0 & 0 & 0 & 0 & 0 & 0 & 1\\end{array}\\right]$"
      ],
      "text/plain": [
       "Matrix([\n",
       "[1, 0, 0 | 1, 0, 0, 0, 0]\n",
       "[0, 1, 0 | 0, 1, 0, 0, 0]\n",
       "[6, 3, 0 | 0, 0, 1, 0, 0]\n",
       "[0, 0, 1 | 0, 0, 0, 1, 0]\n",
       "[3, 0, 0 | 0, 0, 0, 0, 1]\n",
       "])"
      ]
     },
     "metadata": {},
     "output_type": "display_data"
    },
    {
     "name": "stdout",
     "output_type": "stream",
     "text": [
      "\n",
      "After RREF:\n"
     ]
    },
    {
     "data": {
      "text/latex": [
       "$\\text{RREF}\\left\\{\\text{rref} = \\left[\\begin{array}{ccc|ccccc}1 & 0 & 0 & 0 & 0 & 0 & 0 & \\frac{1}{3}\\\\0 & 1 & 0 & 0 & 0 & \\frac{1}{3} & 0 & - \\frac{2}{3}\\\\0 & 0 & 1 & 0 & 0 & 0 & 1 & 0\\\\0 & 0 & 0 & 1 & 0 & 0 & 0 & - \\frac{1}{3}\\\\0 & 0 & 0 & 0 & 1 & - \\frac{1}{3} & 0 & \\frac{2}{3}\\end{array}\\right], \\quad\\text{pivots} = (0, 1, 2, 3, 4)\\right\\}$"
      ],
      "text/plain": [
       "RREF(rref=Matrix([\n",
       "[1, 0, 0 | 0, 0,    0, 0,  1/3]\n",
       "[0, 1, 0 | 0, 0,  1/3, 0, -2/3]\n",
       "[0, 0, 1 | 0, 0,    0, 1,    0]\n",
       "[0, 0, 0 | 1, 0,    0, 0, -1/3]\n",
       "[0, 0, 0 | 0, 1, -1/3, 0,  2/3]\n",
       "]), pivots=(0, 1, 2, 3, 4))"
      ]
     },
     "metadata": {},
     "output_type": "display_data"
    },
    {
     "name": "stdout",
     "output_type": "stream",
     "text": [
      "Select columns of rref([self | span_subspace]) corresponding to pivot positions.\n"
     ]
    },
    {
     "data": {
      "text/latex": [
       "$\\displaystyle \\left[\\begin{array}{ccccc}1 & 0 & 0 & 1 & 0\\\\0 & 1 & 0 & 0 & 1\\\\6 & 3 & 0 & 0 & 0\\\\0 & 0 & 1 & 0 & 0\\\\3 & 0 & 0 & 0 & 0\\end{array}\\right]$"
      ],
      "text/plain": [
       "Matrix([\n",
       "[1, 0, 0, 1, 0]\n",
       "[0, 1, 0, 0, 1]\n",
       "[6, 3, 0, 0, 0]\n",
       "[0, 0, 1, 0, 0]\n",
       "[3, 0, 0, 0, 0]\n",
       "])"
      ]
     },
     "execution_count": 29,
     "metadata": {},
     "output_type": "execute_result"
    }
   ],
   "source": [
    "# Alternatively, use the `simplify_basis` method first for a simpler basis overall\n",
    "W.simplify_basis(colspace=True, verbosity=0).extend_basis(verbosity=2) "
   ]
  },
  {
   "cell_type": "markdown",
   "id": "0041f164",
   "metadata": {},
   "source": [
    "## Question 6\n",
    "\n",
    "Let $S = \\left\\{ \\begin{pmatrix} 1 \\\\ 0 \\\\ 1 \\\\ 3 \\end{pmatrix}, \\begin{pmatrix} 2 \\\\ -1 \\\\ 0 \\\\ 1 \\end{pmatrix}, \\begin{pmatrix} -1 \\\\ 3 \\\\ 5 \\\\ 12 \\end{pmatrix}, \\begin{pmatrix} 0 \\\\ 1 \\\\ 2 \\\\ 5 \\end{pmatrix}, \\begin{pmatrix} 3 \\\\ -1 \\\\ 1 \\\\ 4 \\end{pmatrix} \\right\\}$ and $V = \\text{span}(S)$. Find a subset $S' \\subseteq S$ such that $S'$ forms a basis for $V$."
   ]
  },
  {
   "cell_type": "code",
   "execution_count": 30,
   "id": "b05c258f",
   "metadata": {},
   "outputs": [
    {
     "data": {
      "text/latex": [
       "$\\displaystyle \\left[\\begin{array}{ccccc}1 & 2 & -1 & 0 & 3\\\\0 & -1 & 3 & 1 & -1\\\\1 & 0 & 5 & 2 & 1\\\\3 & 1 & 12 & 5 & 4\\end{array}\\right]$"
      ],
      "text/plain": [
       "Matrix([\n",
       "[1,  2, -1, 0,  3]\n",
       "[0, -1,  3, 1, -1]\n",
       "[1,  0,  5, 2,  1]\n",
       "[3,  1, 12, 5,  4]\n",
       "])"
      ]
     },
     "execution_count": 30,
     "metadata": {},
     "output_type": "execute_result"
    }
   ],
   "source": [
    "V = Matrix.from_str(\"1 0 1 3; 2 -1 0 1; -1 3 5 12; 0 1 2 5; 3 -1 1 4\").T\n",
    "V"
   ]
  },
  {
   "cell_type": "code",
   "execution_count": 31,
   "id": "58ced72f",
   "metadata": {},
   "outputs": [
    {
     "name": "stdout",
     "output_type": "stream",
     "text": [
      "Before RREF: [self]\n"
     ]
    },
    {
     "data": {
      "text/latex": [
       "$\\displaystyle \\left[\\begin{array}{ccccc}1 & 2 & -1 & 0 & 3\\\\0 & -1 & 3 & 1 & -1\\\\1 & 0 & 5 & 2 & 1\\\\3 & 1 & 12 & 5 & 4\\end{array}\\right]$"
      ],
      "text/plain": [
       "Matrix([\n",
       "[1,  2, -1, 0,  3]\n",
       "[0, -1,  3, 1, -1]\n",
       "[1,  0,  5, 2,  1]\n",
       "[3,  1, 12, 5,  4]\n",
       "])"
      ]
     },
     "metadata": {},
     "output_type": "display_data"
    },
    {
     "name": "stdout",
     "output_type": "stream",
     "text": [
      "\n",
      "After RREF:\n"
     ]
    },
    {
     "data": {
      "text/latex": [
       "$\\text{RREF}\\left\\{\\text{rref} = \\left[\\begin{array}{ccccc}1 & 0 & 5 & 2 & 1\\\\0 & 1 & -3 & -1 & 1\\\\0 & 0 & 0 & 0 & 0\\\\0 & 0 & 0 & 0 & 0\\end{array}\\right], \\quad\\text{pivots} = (0, 1)\\right\\}$"
      ],
      "text/plain": [
       "RREF(rref=Matrix([\n",
       "[1, 0,  5,  2, 1]\n",
       "[0, 1, -3, -1, 1]\n",
       "[0, 0,  0,  0, 0]\n",
       "[0, 0,  0,  0, 0]\n",
       "]), pivots=(0, 1))"
      ]
     },
     "metadata": {},
     "output_type": "display_data"
    },
    {
     "name": "stdout",
     "output_type": "stream",
     "text": [
      "Select columns of self corresponding to pivot positions.\n"
     ]
    },
    {
     "data": {
      "text/latex": [
       "$\\displaystyle \\left[\\begin{array}{cc}1 & 2\\\\0 & -1\\\\1 & 0\\\\3 & 1\\end{array}\\right]$"
      ],
      "text/plain": [
       "Matrix([\n",
       "[1,  2]\n",
       "[0, -1]\n",
       "[1,  0]\n",
       "[3,  1]\n",
       "])"
      ]
     },
     "execution_count": 31,
     "metadata": {},
     "output_type": "execute_result"
    }
   ],
   "source": [
    "S_prime = V.get_linearly_independent_vectors(colspace=True, verbosity=2)\n",
    "S_prime"
   ]
  }
 ],
 "metadata": {
  "kernelspec": {
   "display_name": ".venv",
   "language": "python",
   "name": "python3"
  },
  "language_info": {
   "codemirror_mode": {
    "name": "ipython",
    "version": 3
   },
   "file_extension": ".py",
   "mimetype": "text/x-python",
   "name": "python",
   "nbconvert_exporter": "python",
   "pygments_lexer": "ipython3",
   "version": "3.10.11"
  }
 },
 "nbformat": 4,
 "nbformat_minor": 5
}

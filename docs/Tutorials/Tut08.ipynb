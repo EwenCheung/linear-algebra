{
 "cells": [
  {
   "cell_type": "markdown",
   "id": "2dce61dd",
   "metadata": {},
   "source": [
    "# Tutorial 08 (AY24/25 Sem 1)"
   ]
  },
  {
   "cell_type": "code",
   "execution_count": 1,
   "id": "79ecfe8b",
   "metadata": {},
   "outputs": [],
   "source": [
    "# For loading the ma1522 package from the src directory\n",
    "# This is not required if you install the package using pip.\n",
    "import sys\n",
    "from pathlib import Path\n",
    "\n",
    "# Navigate to src directory\n",
    "src_path = Path.cwd().parent.parent / \"src\"\n",
    "sys.path.insert(0, str(src_path))\n",
    "\n",
    "# Required imports\n",
    "import sympy as sym\n",
    "from ma1522 import Matrix"
   ]
  },
  {
   "cell_type": "markdown",
   "id": "25e9eee3",
   "metadata": {},
   "source": [
    "## Question 1\n",
    "\n",
    "Apply Gram-Schmidt Process to convert\n",
    "\n",
    "\n",
    "### (a)\n",
    "\n",
    "$\\left\\{ \\begin{pmatrix} 1 \\\\ 1 \\\\ 1 \\\\ 1 \\end{pmatrix}, \\begin{pmatrix} 1 \\\\ -1 \\\\ 1 \\\\ 0 \\end{pmatrix}, \\begin{pmatrix} 1 \\\\ 1 \\\\ -1 \\\\ -1 \\end{pmatrix}, \\begin{pmatrix} 1 \\\\ 2 \\\\ 0 \\\\ 1 \\end{pmatrix} \\right\\}$ into an orthonormal basis for $\\mathbb{R}^4$."
   ]
  },
  {
   "cell_type": "code",
   "execution_count": 2,
   "id": "0bb526be",
   "metadata": {},
   "outputs": [
    {
     "data": {
      "text/latex": [
       "$\\displaystyle \\left[\\begin{array}{cccc}1 & 1 & 1 & 1\\\\1 & -1 & 1 & 2\\\\1 & 1 & -1 & 0\\\\1 & 0 & -1 & 1\\end{array}\\right]$"
      ],
      "text/plain": [
       "Matrix([\n",
       "[1,  1,  1, 1]\n",
       "[1, -1,  1, 2]\n",
       "[1,  1, -1, 0]\n",
       "[1,  0, -1, 1]\n",
       "])"
      ]
     },
     "execution_count": 2,
     "metadata": {},
     "output_type": "execute_result"
    }
   ],
   "source": [
    "U = Matrix.from_str(\"1 1 1 1; 1 -1 1 0; 1 1 -1 -1; 1 2 0 1\").T\n",
    "U"
   ]
  },
  {
   "cell_type": "code",
   "execution_count": 3,
   "id": "4108e8d6",
   "metadata": {},
   "outputs": [
    {
     "data": {
      "text/latex": [
       "$\\displaystyle v_1 = \\left[\\begin{array}{c}1\\\\1\\\\1\\\\1\\end{array}\\right]$"
      ],
      "text/plain": [
       "<IPython.core.display.Math object>"
      ]
     },
     "metadata": {},
     "output_type": "display_data"
    },
    {
     "data": {
      "text/latex": [
       "$\\displaystyle v_2 = \\left[\\begin{array}{c}1\\\\-1\\\\1\\\\0\\end{array}\\right]- \\left(\\frac{1}{4}\\right) \\left[\\begin{array}{c}1\\\\1\\\\1\\\\1\\end{array}\\right] = \\left(\\frac{1}{4}\\right) \\left[\\begin{matrix}3\\\\-5\\\\3\\\\-1\\end{matrix}\\right]$"
      ],
      "text/plain": [
       "<IPython.core.display.Math object>"
      ]
     },
     "metadata": {},
     "output_type": "display_data"
    },
    {
     "data": {
      "text/latex": [
       "$\\displaystyle v_3 = \\left[\\begin{array}{c}1\\\\1\\\\-1\\\\-1\\end{array}\\right]- \\left(\\frac{0}{4}\\right) \\left[\\begin{array}{c}1\\\\1\\\\1\\\\1\\end{array}\\right]- \\left(\\frac{-1}{\\frac{11}{4}}\\right) \\left[\\begin{array}{c}\\frac{3}{4}\\\\- \\frac{5}{4}\\\\\\frac{3}{4}\\\\- \\frac{1}{4}\\end{array}\\right] = \\left(\\frac{2}{11}\\right) \\left[\\begin{matrix}7\\\\3\\\\-4\\\\-6\\end{matrix}\\right]$"
      ],
      "text/plain": [
       "<IPython.core.display.Math object>"
      ]
     },
     "metadata": {},
     "output_type": "display_data"
    },
    {
     "data": {
      "text/latex": [
       "$\\displaystyle v_4 = \\left[\\begin{array}{c}1\\\\2\\\\0\\\\1\\end{array}\\right]- \\left(\\frac{4}{4}\\right) \\left[\\begin{array}{c}1\\\\1\\\\1\\\\1\\end{array}\\right]- \\left(\\frac{-2}{\\frac{11}{4}}\\right) \\left[\\begin{array}{c}\\frac{3}{4}\\\\- \\frac{5}{4}\\\\\\frac{3}{4}\\\\- \\frac{1}{4}\\end{array}\\right]- \\left(\\frac{\\frac{14}{11}}{\\frac{40}{11}}\\right) \\left[\\begin{array}{c}\\frac{14}{11}\\\\\\frac{6}{11}\\\\- \\frac{8}{11}\\\\- \\frac{12}{11}\\end{array}\\right] = \\left(\\frac{1}{10}\\right) \\left[\\begin{matrix}1\\\\-1\\\\-2\\\\2\\end{matrix}\\right]$"
      ],
      "text/plain": [
       "<IPython.core.display.Math object>"
      ]
     },
     "metadata": {},
     "output_type": "display_data"
    },
    {
     "data": {
      "text/latex": [
       "$\\left[\\begin{array}{cccc}1 & 3 & 7 & 1\\\\1 & -5 & 3 & -1\\\\1 & 3 & -4 & -2\\\\1 & -1 & -6 & 2\\end{array}\\right]\\left[\\begin{array}{cccc}\\frac{1}{2} & 0 & 0 & 0\\\\0 & \\frac{\\sqrt{11}}{22} & 0 & 0\\\\0 & 0 & \\frac{1}{\\sqrt{110}} & 0\\\\0 & 0 & 0 & \\frac{1}{\\sqrt{10}}\\end{array}\\right]$"
      ],
      "text/plain": [
       "ScalarFactor(diag=Matrix([\n",
       "[1/2,           0,             0,            0]\n",
       "[  0, sqrt(11)/22,             0,            0]\n",
       "[  0,           0, 1/(sqrt(110)),            0]\n",
       "[  0,           0,             0, 1/(sqrt(10))]\n",
       "]), full=Matrix([\n",
       "[1,  3,  7,  1]\n",
       "[1, -5,  3, -1]\n",
       "[1,  3, -4, -2]\n",
       "[1, -1, -6,  2]\n",
       "]), order='FD')"
      ]
     },
     "execution_count": 3,
     "metadata": {},
     "output_type": "execute_result"
    }
   ],
   "source": [
    "U.gram_schmidt(factor=True, verbosity=1)"
   ]
  },
  {
   "cell_type": "markdown",
   "id": "ef662b0d",
   "metadata": {},
   "source": [
    "### (b)\n",
    "\n",
    "$\\left\\{ \\begin{pmatrix} 1 \\\\ 2 \\\\ 2 \\\\ 1 \\end{pmatrix}, \\begin{pmatrix} 1 \\\\ 2 \\\\ 1 \\\\ 0 \\end{pmatrix}, \\begin{pmatrix} 1 \\\\ 0 \\\\ 1 \\\\ 0 \\end{pmatrix}, \\begin{pmatrix} 1 \\\\ 0 \\\\ 2 \\\\ 1 \\end{pmatrix} \\right\\}$ into an orthonormal set. Is the set obtained an orthonormal basis? Why?"
   ]
  },
  {
   "cell_type": "code",
   "execution_count": 4,
   "id": "d8bf75a3",
   "metadata": {},
   "outputs": [
    {
     "data": {
      "text/latex": [
       "$\\displaystyle \\left[\\begin{array}{cccc}1 & 1 & 1 & 1\\\\2 & 2 & 0 & 0\\\\2 & 1 & 1 & 2\\\\1 & 0 & 0 & 1\\end{array}\\right]$"
      ],
      "text/plain": [
       "Matrix([\n",
       "[1, 1, 1, 1]\n",
       "[2, 2, 0, 0]\n",
       "[2, 1, 1, 2]\n",
       "[1, 0, 0, 1]\n",
       "])"
      ]
     },
     "execution_count": 4,
     "metadata": {},
     "output_type": "execute_result"
    }
   ],
   "source": [
    "U = Matrix.from_str(\"1 2 2 1; 1 2 1 0; 1 0 1 0; 1 0 2 1\").T\n",
    "U"
   ]
  },
  {
   "cell_type": "code",
   "execution_count": 5,
   "id": "76712b7e",
   "metadata": {},
   "outputs": [
    {
     "data": {
      "text/latex": [
       "$\\displaystyle v_1 = \\left[\\begin{array}{c}1\\\\2\\\\2\\\\1\\end{array}\\right]$"
      ],
      "text/plain": [
       "<IPython.core.display.Math object>"
      ]
     },
     "metadata": {},
     "output_type": "display_data"
    },
    {
     "data": {
      "text/latex": [
       "$\\displaystyle v_2 = \\left[\\begin{array}{c}1\\\\2\\\\1\\\\0\\end{array}\\right]- \\left(\\frac{7}{10}\\right) \\left[\\begin{array}{c}1\\\\2\\\\2\\\\1\\end{array}\\right] = \\left(\\frac{1}{10}\\right) \\left[\\begin{matrix}3\\\\6\\\\-4\\\\-7\\end{matrix}\\right]$"
      ],
      "text/plain": [
       "<IPython.core.display.Math object>"
      ]
     },
     "metadata": {},
     "output_type": "display_data"
    },
    {
     "data": {
      "text/latex": [
       "$\\displaystyle v_3 = \\left[\\begin{array}{c}1\\\\0\\\\1\\\\0\\end{array}\\right]- \\left(\\frac{3}{10}\\right) \\left[\\begin{array}{c}1\\\\2\\\\2\\\\1\\end{array}\\right]- \\left(\\frac{- \\frac{1}{10}}{\\frac{11}{10}}\\right) \\left[\\begin{array}{c}\\frac{3}{10}\\\\\\frac{3}{5}\\\\- \\frac{2}{5}\\\\- \\frac{7}{10}\\end{array}\\right] = \\left(\\frac{2}{11}\\right) \\left[\\begin{matrix}4\\\\-3\\\\2\\\\-2\\end{matrix}\\right]$"
      ],
      "text/plain": [
       "<IPython.core.display.Math object>"
      ]
     },
     "metadata": {},
     "output_type": "display_data"
    },
    {
     "data": {
      "text/latex": [
       "$\\displaystyle v_4 = \\left[\\begin{array}{c}1\\\\0\\\\2\\\\1\\end{array}\\right]- \\left(\\frac{6}{10}\\right) \\left[\\begin{array}{c}1\\\\2\\\\2\\\\1\\end{array}\\right]- \\left(\\frac{- \\frac{6}{5}}{\\frac{11}{10}}\\right) \\left[\\begin{array}{c}\\frac{3}{10}\\\\\\frac{3}{5}\\\\- \\frac{2}{5}\\\\- \\frac{7}{10}\\end{array}\\right]- \\left(\\frac{\\frac{12}{11}}{\\frac{12}{11}}\\right) \\left[\\begin{array}{c}\\frac{8}{11}\\\\- \\frac{6}{11}\\\\\\frac{4}{11}\\\\- \\frac{4}{11}\\end{array}\\right] = 0 \\left[\\begin{matrix}0\\\\0\\\\0\\\\0\\end{matrix}\\right]$"
      ],
      "text/plain": [
       "<IPython.core.display.Math object>"
      ]
     },
     "metadata": {},
     "output_type": "display_data"
    },
    {
     "name": "stderr",
     "output_type": "stream",
     "text": [
      "C:\\Users\\yeesh\\AppData\\Local\\Temp\\ipykernel_23480\\1175356544.py:1: UserWarning: Vectors are linearly dependent. Note that there is no QR factorisation\n",
      "  U.gram_schmidt(factor=True, verbosity=1) # UserWarning raised because a zero vector is found\n"
     ]
    },
    {
     "data": {
      "text/latex": [
       "$\\left[\\begin{array}{cccc}1 & 3 & 4 & 0\\\\2 & 6 & -3 & 0\\\\2 & -4 & 2 & 0\\\\1 & -7 & -2 & 0\\end{array}\\right]\\left[\\begin{array}{cccc}\\frac{1}{\\sqrt{10}} & 0 & 0 & 0\\\\0 & \\frac{1}{\\sqrt{110}} & 0 & 0\\\\0 & 0 & \\frac{1}{\\sqrt{33}} & 0\\\\0 & 0 & 0 & 0\\end{array}\\right]$"
      ],
      "text/plain": [
       "ScalarFactor(diag=Matrix([\n",
       "[1/(sqrt(10)),             0,            0, 0]\n",
       "[           0, 1/(sqrt(110)),            0, 0]\n",
       "[           0,             0, 1/(sqrt(33)), 0]\n",
       "[           0,             0,            0, 0]\n",
       "]), full=Matrix([\n",
       "[1,  3,  4, 0]\n",
       "[2,  6, -3, 0]\n",
       "[2, -4,  2, 0]\n",
       "[1, -7, -2, 0]\n",
       "]), order='FD')"
      ]
     },
     "execution_count": 5,
     "metadata": {},
     "output_type": "execute_result"
    }
   ],
   "source": [
    "U.gram_schmidt(factor=True, verbosity=1) # UserWarning raised because a zero vector is found"
   ]
  },
  {
   "cell_type": "markdown",
   "id": "c7edb353",
   "metadata": {},
   "source": [
    "## Question 2\n",
    "\n",
    "Let $\\mathbf{A} = \\begin{pmatrix} 0 & 1 & 1 & 0 \\\\ 1 & -1 & 1 & -1 \\\\ 1 & 0 & 1 & 0 \\\\ 1 & 1 & 1 & 1 \\end{pmatrix}$ and $\\mathbf{b} = \\begin{pmatrix} 6 \\\\ 3 \\\\ -1 \\\\ 1 \\end{pmatrix}$."
   ]
  },
  {
   "cell_type": "markdown",
   "id": "12537219",
   "metadata": {},
   "source": [
    "### (a)\n",
    "\n",
    "Is the linear system $\\mathbf{A}\\mathbf{x} = \\mathbf{b}$ inconsistent?"
   ]
  },
  {
   "cell_type": "code",
   "execution_count": 6,
   "id": "f673b037",
   "metadata": {},
   "outputs": [
    {
     "data": {
      "text/latex": [
       "$\\displaystyle \\left( \\left[\\begin{array}{cccc}0 & 1 & 1 & 0\\\\1 & -1 & 1 & -1\\\\1 & 0 & 1 & 0\\\\1 & 1 & 1 & 1\\end{array}\\right], \\  \\left[\\begin{array}{c}6\\\\3\\\\-1\\\\1\\end{array}\\right]\\right)$"
      ],
      "text/plain": [
       "⎛⎡0  1   1  0 ⎤  ⎡6 ⎤⎞\n",
       "⎜⎢            ⎥  ⎢  ⎥⎟\n",
       "⎜⎢1  -1  1  -1⎥  ⎢3 ⎥⎟\n",
       "⎜⎢            ⎥, ⎢  ⎥⎟\n",
       "⎜⎢1  0   1  0 ⎥  ⎢-1⎥⎟\n",
       "⎜⎢            ⎥  ⎢  ⎥⎟\n",
       "⎝⎣1  1   1  1 ⎦  ⎣1 ⎦⎠"
      ]
     },
     "execution_count": 6,
     "metadata": {},
     "output_type": "execute_result"
    }
   ],
   "source": [
    "A = Matrix.from_str(\"0 1 1 0; 1 -1 1 -1; 1 0 1 0; 1 1 1 1\")\n",
    "b = Matrix.from_str(\"6; 3; -1; 1\")\n",
    "A, b"
   ]
  },
  {
   "cell_type": "code",
   "execution_count": 7,
   "id": "0a6f62fb",
   "metadata": {},
   "outputs": [
    {
     "name": "stdout",
     "output_type": "stream",
     "text": [
      "Check if span(self) is subspace of span(other)\n",
      "\n",
      "Before RREF: [other | self]\n"
     ]
    },
    {
     "data": {
      "text/latex": [
       "$\\displaystyle \\left[\\begin{array}{cccc|c}0 & 1 & 1 & 0 & 6\\\\1 & -1 & 1 & -1 & 3\\\\1 & 0 & 1 & 0 & -1\\\\1 & 1 & 1 & 1 & 1\\end{array}\\right]$"
      ],
      "text/plain": [
       "Matrix([\n",
       "[0,  1, 1,  0 |  6]\n",
       "[1, -1, 1, -1 |  3]\n",
       "[1,  0, 1,  0 | -1]\n",
       "[1,  1, 1,  1 |  1]\n",
       "])"
      ]
     },
     "metadata": {},
     "output_type": "display_data"
    },
    {
     "name": "stdout",
     "output_type": "stream",
     "text": [
      "\n",
      "After RREF:\n"
     ]
    },
    {
     "data": {
      "text/latex": [
       "$\\text{RREF}\\left\\{\\text{rref} = \\left[\\begin{array}{cccc|c}1 & 0 & 0 & 1 & 0\\\\0 & 1 & 0 & 1 & 0\\\\0 & 0 & 1 & -1 & 0\\\\0 & 0 & 0 & 0 & 1\\end{array}\\right], \\quad\\text{pivots} = (0, 1, 2, 4)\\right\\}$"
      ],
      "text/plain": [
       "RREF(rref=Matrix([\n",
       "[1, 0, 0,  1 | 0]\n",
       "[0, 1, 0,  1 | 0]\n",
       "[0, 0, 1, -1 | 0]\n",
       "[0, 0, 0,  0 | 1]\n",
       "]), pivots=(0, 1, 2, 4))"
      ]
     },
     "metadata": {},
     "output_type": "display_data"
    },
    {
     "name": "stdout",
     "output_type": "stream",
     "text": [
      "Span(self) is not a subspace of span(other).\n",
      "\n"
     ]
    },
    {
     "data": {
      "text/plain": [
       "False"
      ]
     },
     "execution_count": 7,
     "metadata": {},
     "output_type": "execute_result"
    }
   ],
   "source": [
    "# Check if the system is inconsistent\n",
    "b.is_subspace_of(A, verbosity=2)"
   ]
  },
  {
   "cell_type": "markdown",
   "id": "76fffd77",
   "metadata": {},
   "source": [
    "### (b)\n",
    "\n",
    "Find a least squares solution to the system. Is the solution unique?"
   ]
  },
  {
   "cell_type": "code",
   "execution_count": 8,
   "id": "0d949852",
   "metadata": {},
   "outputs": [
    {
     "name": "stdout",
     "output_type": "stream",
     "text": [
      "Before RREF: [self.T @ self | self.T @ rhs]\n"
     ]
    },
    {
     "data": {
      "text/latex": [
       "$\\displaystyle \\left[\\begin{array}{cccc|c}3 & 0 & 3 & 0 & 3\\\\0 & 3 & 1 & 2 & 4\\\\3 & 1 & 4 & 0 & 9\\\\0 & 2 & 0 & 2 & -2\\end{array}\\right]$"
      ],
      "text/plain": [
       "Matrix([\n",
       "[3, 0, 3, 0 |  3]\n",
       "[0, 3, 1, 2 |  4]\n",
       "[3, 1, 4, 0 |  9]\n",
       "[0, 2, 0, 2 | -2]\n",
       "])"
      ]
     },
     "metadata": {},
     "output_type": "display_data"
    },
    {
     "name": "stdout",
     "output_type": "stream",
     "text": [
      "\n",
      "After RREF\n"
     ]
    },
    {
     "data": {
      "text/latex": [
       "$\\text{RREF}\\left\\{\\text{rref} = \\left[\\begin{array}{cccc|c}1 & 0 & 0 & 1 & -6\\\\0 & 1 & 0 & 1 & -1\\\\0 & 0 & 1 & -1 & 7\\\\0 & 0 & 0 & 0 & 0\\end{array}\\right], \\quad\\text{pivots} = (0, 1, 2)\\right\\}$"
      ],
      "text/plain": [
       "RREF(rref=Matrix([\n",
       "[1, 0, 0,  1 | -6]\n",
       "[0, 1, 0,  1 | -1]\n",
       "[0, 0, 1, -1 |  7]\n",
       "[0, 0, 0,  0 |  0]\n",
       "]), pivots=(0, 1, 2))"
      ]
     },
     "metadata": {},
     "output_type": "display_data"
    },
    {
     "data": {
      "text/latex": [
       "$\\displaystyle \\left[\\begin{array}{c}- z - 6\\\\- z - 1\\\\z + 7\\\\z\\end{array}\\right]$"
      ],
      "text/plain": [
       "Matrix([\n",
       "[-z - 6]\n",
       "[-z - 1]\n",
       "[ z + 7]\n",
       "[     z]\n",
       "])"
      ]
     },
     "execution_count": 8,
     "metadata": {},
     "output_type": "execute_result"
    }
   ],
   "source": [
    "sol = A.solve_least_squares(b, verbosity=2)\n",
    "sol"
   ]
  },
  {
   "cell_type": "code",
   "execution_count": 9,
   "id": "b4954653",
   "metadata": {},
   "outputs": [
    {
     "data": {
      "text/latex": [
       "$\\left(\\left[\\begin{array}{c}-6\\\\-1\\\\7\\\\0\\end{array}\\right] + \\left[\\begin{array}{c}- z\\\\- z\\\\z\\\\z\\end{array}\\right]\\right)$"
      ],
      "text/plain": [
       "PartGen(part_sol=Matrix([\n",
       "[-6]\n",
       "[-1]\n",
       "[ 7]\n",
       "[ 0]\n",
       "]), gen_sol=Matrix([\n",
       "[-z]\n",
       "[-z]\n",
       "[ z]\n",
       "[ z]\n",
       "]))"
      ]
     },
     "execution_count": 9,
     "metadata": {},
     "output_type": "execute_result"
    }
   ],
   "source": [
    "# separate the solution into particular and general solution\n",
    "sol.sep_part_gen() "
   ]
  },
  {
   "cell_type": "markdown",
   "id": "67669935",
   "metadata": {},
   "source": [
    "### (c)\n",
    "\n",
    "Use your answer in (b), compute the projection of $\\mathbf{b}$ onto the column space of $\\mathbf{A}$. Is the solution unique?"
   ]
  },
  {
   "cell_type": "code",
   "execution_count": 10,
   "id": "e2b17791",
   "metadata": {},
   "outputs": [
    {
     "data": {
      "text/latex": [
       "$\\displaystyle \\left[\\begin{array}{c}6\\\\2\\\\1\\\\0\\end{array}\\right]$"
      ],
      "text/plain": [
       "Matrix([\n",
       "[6]\n",
       "[2]\n",
       "[1]\n",
       "[0]\n",
       "])"
      ]
     },
     "execution_count": 10,
     "metadata": {},
     "output_type": "execute_result"
    }
   ],
   "source": [
    "proj = A @ sol\n",
    "proj"
   ]
  },
  {
   "cell_type": "markdown",
   "id": "52e73024",
   "metadata": {},
   "source": [
    "## Question 3 (Application)\n",
    "\n",
    "A line $p(x) = a_1 x + a_0$ is said to be the least squares approximating line for a given set of data points $(x_1, y_1), (x_2, y_2), \\ldots, (x_m, y_m)$ if the sum $$S = [y_1 - p(x_1)]^2 + [y_2 - p(x_2)]^2 + \\cdots + [y_m - p(x_m)]^2$$ is minimized. Writing $$\\mathbf{x} = \\begin{pmatrix} x_1 \\\\ x_2 \\\\ \\vdots \\\\ x_m \\end{pmatrix}, \\quad \\mathbf{y} = \\begin{pmatrix} y_1 \\\\ y_2 \\\\ \\vdots \\\\ y_m \\end{pmatrix}, \\quad \\text{and} \\quad p(\\mathbf{x}) = \\begin{pmatrix} p(x_1) \\\\ p(x_2) \\\\ \\vdots \\\\ p(x_m) \\end{pmatrix} = \\begin{pmatrix} a_1 x_1 + a_0 \\\\ a_1 x_2 + a_0 \\\\ \\vdots \\\\ a_1 x_m + a_0 \\end{pmatrix}$$\n",
    "\n",
    "the problem is now rephrased as finding $a_0, a_1$ such that $$S = ||\\mathbf{y} - p(\\mathbf{x})||^2$$ is minimized. Observe that if we let $$\\mathbf{N} = \\begin{pmatrix} 1 & x_1 \\\\ 1 & x_2 \\\\ \\vdots & \\vdots \\\\ 1 & x_m \\end{pmatrix} \\quad \\text{and} \\quad \\mathbf{a} = \\begin{pmatrix} a_0 \\\\ a_1 \\end{pmatrix}$$\n",
    "\n",
    "then $\\mathbf{N}\\mathbf{a} = p(\\mathbf{x})$. And so our aim is to find $\\mathbf{a}$ that minimizes $||\\mathbf{y} - \\mathbf{N}\\mathbf{a}||^2$.\n",
    "\n",
    "It is known the equation representing the dependency of the resistance of a cylindrically shaped conductor (a wire) at $20°C$ is given by $$R = \\rho \\frac{L}{A}$$ where $R$ is the resistance measured in Ohms $\\Omega$, $L$ is the length of the material in meters $m$, $A$ is the cross-sectional area of the material in meter squared $m^2$, and $\\rho$ is the resistivity of the material in Ohm meters $\\Omega m$.\n",
    "\n",
    "A student wants to measure the resistivity of a certain material. Keeping the cross-sectional area constant at $0.002 m^2$, he connected the power sources along the material at various lengths and measured the resistance and obtained the following data.\n",
    "\n",
    "|$L$|$0.01$|$0.012$|$0.015$|$0.02$|\n",
    "|---|---|---|---|---|\n",
    "|$R$|$2.75 \\times 10^{-4}$|$3.31 \\times 10^{-4}$|$3.92 \\times 10^{-4}$|$4.95 \\times 10^{-4}$|\n",
    "\n",
    "It is known that the Ohm meter might not be calibrated. Taking that into account, the student wants to find a linear graph $R = \\frac{\\rho}{0.002} L + R_0$ from the data obtained to compute the resistivity of the material.\n",
    "\n",
    "### (a)\n",
    "\n",
    "Relabeling, we let $R = y$, $\\frac{\\rho}{0.002} = a_1$ and $R_0 = a_0$. Is it possible to find a graph $y = a_1 x + a_0$ satisfying the points?"
   ]
  },
  {
   "cell_type": "code",
   "execution_count": 11,
   "id": "6f14fddf",
   "metadata": {},
   "outputs": [
    {
     "data": {
      "text/latex": [
       "$\\displaystyle \\left( \\left[\\begin{array}{cc}1 & 0.01\\\\1 & 0.012\\\\1 & 0.015\\\\1 & 0.02\\end{array}\\right], \\  \\left[\\begin{array}{c}0.000275\\\\0.000331\\\\0.000392\\\\0.000495\\end{array}\\right]\\right)$"
      ],
      "text/plain": [
       "⎛⎡1  0.01 ⎤  ⎡0.000275⎤⎞\n",
       "⎜⎢        ⎥  ⎢        ⎥⎟\n",
       "⎜⎢1  0.012⎥  ⎢0.000331⎥⎟\n",
       "⎜⎢        ⎥, ⎢        ⎥⎟\n",
       "⎜⎢1  0.015⎥  ⎢0.000392⎥⎟\n",
       "⎜⎢        ⎥  ⎢        ⎥⎟\n",
       "⎝⎣1  0.02 ⎦  ⎣0.000495⎦⎠"
      ]
     },
     "execution_count": 11,
     "metadata": {},
     "output_type": "execute_result"
    }
   ],
   "source": [
    "A = Matrix.from_str(\"1 0.01; 1 0.012; 1 0.015; 1 0.02\", aug_pos=1)\n",
    "# scientific notation supported using E\n",
    "b = Matrix.from_str(\"2.75E-4; 3.31E-4; 3.92E-4; 4.95E-4\")\n",
    "A, b"
   ]
  },
  {
   "cell_type": "code",
   "execution_count": 12,
   "id": "a28d559d",
   "metadata": {},
   "outputs": [
    {
     "data": {
      "text/latex": [
       "$\\displaystyle \\left( \\left[\\begin{array}{cc}1 & \\frac{1}{100}\\\\1 & \\frac{3}{250}\\\\1 & \\frac{3}{200}\\\\1 & \\frac{1}{50}\\end{array}\\right], \\  \\left[\\begin{array}{c}\\frac{11}{40000}\\\\\\frac{331}{1000000}\\\\\\frac{49}{125000}\\\\\\frac{99}{200000}\\end{array}\\right]\\right)$"
      ],
      "text/plain": [
       "⎛            ⎡  11   ⎤⎞\n",
       "⎜            ⎢ ───── ⎥⎟\n",
       "⎜            ⎢ 40000 ⎥⎟\n",
       "⎜            ⎢       ⎥⎟\n",
       "⎜⎡1  1/100⎤  ⎢  331  ⎥⎟\n",
       "⎜⎢        ⎥  ⎢───────⎥⎟\n",
       "⎜⎢1  3/250⎥  ⎢1000000⎥⎟\n",
       "⎜⎢        ⎥, ⎢       ⎥⎟\n",
       "⎜⎢1  3/200⎥  ⎢  49   ⎥⎟\n",
       "⎜⎢        ⎥  ⎢────── ⎥⎟\n",
       "⎜⎣1  1/50 ⎦  ⎢125000 ⎥⎟\n",
       "⎜            ⎢       ⎥⎟\n",
       "⎜            ⎢  99   ⎥⎟\n",
       "⎜            ⎢────── ⎥⎟\n",
       "⎝            ⎣200000 ⎦⎠"
      ]
     },
     "execution_count": 12,
     "metadata": {},
     "output_type": "execute_result"
    }
   ],
   "source": [
    "# Observe that numbers are represented as decimals\n",
    "# This is bad, because it means that SymPy may not be using \n",
    "# full precision arithmetic. Use the `simplify` method to convert\n",
    "# the numbers to symbolic fractions.\n",
    "A.simplify(tolerance=1e-10)\n",
    "b.simplify(tolerance=1e-10)\n",
    "\n",
    "A, b"
   ]
  },
  {
   "cell_type": "code",
   "execution_count": 13,
   "id": "d0718260",
   "metadata": {},
   "outputs": [
    {
     "name": "stdout",
     "output_type": "stream",
     "text": [
      "Check if span(self) is subspace of span(other)\n",
      "\n",
      "Before RREF: [other | self]\n"
     ]
    },
    {
     "data": {
      "text/latex": [
       "$\\displaystyle \\left[\\begin{array}{cc|c}1 & \\frac{1}{100} & \\frac{11}{40000}\\\\1 & \\frac{3}{250} & \\frac{331}{1000000}\\\\1 & \\frac{3}{200} & \\frac{49}{125000}\\\\1 & \\frac{1}{50} & \\frac{99}{200000}\\end{array}\\right]$"
      ],
      "text/plain": [
       "Matrix([\n",
       "[1, 1/100 |    11/40000]\n",
       "[1, 3/250 | 331/1000000]\n",
       "[1, 3/200 |   49/125000]\n",
       "[1,  1/50 |   99/200000]\n",
       "])"
      ]
     },
     "metadata": {},
     "output_type": "display_data"
    },
    {
     "name": "stdout",
     "output_type": "stream",
     "text": [
      "\n",
      "After RREF:\n"
     ]
    },
    {
     "data": {
      "text/latex": [
       "$\\text{RREF}\\left\\{\\text{rref} = \\left[\\begin{array}{cc|c}1 & 0 & 0\\\\0 & 1 & 0\\\\0 & 0 & 1\\\\0 & 0 & 0\\end{array}\\right], \\quad\\text{pivots} = (0, 1, 2)\\right\\}$"
      ],
      "text/plain": [
       "RREF(rref=Matrix([\n",
       "[1, 0 | 0]\n",
       "[0, 1 | 0]\n",
       "[0, 0 | 1]\n",
       "[0, 0 | 0]\n",
       "]), pivots=(0, 1, 2))"
      ]
     },
     "metadata": {},
     "output_type": "display_data"
    },
    {
     "name": "stdout",
     "output_type": "stream",
     "text": [
      "Span(self) is not a subspace of span(other).\n",
      "\n"
     ]
    },
    {
     "data": {
      "text/plain": [
       "False"
      ]
     },
     "execution_count": 13,
     "metadata": {},
     "output_type": "execute_result"
    }
   ],
   "source": [
    "b.is_subspace_of(A, verbosity=2)"
   ]
  },
  {
   "cell_type": "markdown",
   "id": "49e871b4",
   "metadata": {},
   "source": [
    "### (b)\n",
    "\n",
    "Find the least square approximating line for the data points and hence find the resistivity of the material. Would this material make a good wire?"
   ]
  },
  {
   "cell_type": "code",
   "execution_count": 14,
   "id": "76bca323",
   "metadata": {},
   "outputs": [
    {
     "name": "stdout",
     "output_type": "stream",
     "text": [
      "Before RREF: [self.T @ self | self.T @ rhs]\n"
     ]
    },
    {
     "data": {
      "text/latex": [
       "$\\displaystyle \\left[\\begin{array}{cc|c}4 & \\frac{57}{1000} & \\frac{1493}{1000000}\\\\\\frac{57}{1000} & \\frac{869}{1000000} & \\frac{11251}{500000000}\\end{array}\\right]$"
      ],
      "text/plain": [
       "Matrix([\n",
       "[      4,     57/1000 |    1493/1000000]\n",
       "[57/1000, 869/1000000 | 11251/500000000]\n",
       "])"
      ]
     },
     "metadata": {},
     "output_type": "display_data"
    },
    {
     "name": "stdout",
     "output_type": "stream",
     "text": [
      "\n",
      "After RREF\n"
     ]
    },
    {
     "data": {
      "text/latex": [
       "$\\text{RREF}\\left\\{\\text{rref} = \\left[\\begin{array}{cc|c}1 & 0 & \\frac{14803}{227000000}\\\\0 & 1 & \\frac{4907}{227000}\\end{array}\\right], \\quad\\text{pivots} = (0, 1)\\right\\}$"
      ],
      "text/plain": [
       "RREF(rref=Matrix([\n",
       "[1, 0 | 14803/227000000]\n",
       "[0, 1 |     4907/227000]\n",
       "]), pivots=(0, 1))"
      ]
     },
     "metadata": {},
     "output_type": "display_data"
    },
    {
     "data": {
      "text/latex": [
       "$\\displaystyle \\left[\\begin{array}{c}\\frac{14803}{227000000}\\\\\\frac{4907}{227000}\\end{array}\\right]$"
      ],
      "text/plain": [
       "Matrix([\n",
       "[14803/227000000]\n",
       "[    4907/227000]\n",
       "])"
      ]
     },
     "execution_count": 14,
     "metadata": {},
     "output_type": "execute_result"
    }
   ],
   "source": [
    "sol = A.solve_least_squares(b, verbosity=2)\n",
    "sol"
   ]
  },
  {
   "cell_type": "code",
   "execution_count": 15,
   "id": "e01dbfd8",
   "metadata": {},
   "outputs": [
    {
     "data": {
      "text/latex": [
       "$\\displaystyle \\left[\\begin{matrix}6.521 \\cdot 10^{-5}\\\\0.02162\\end{matrix}\\right]$"
      ],
      "text/plain": [
       "Matrix([\n",
       "[6.521e-5],\n",
       "[ 0.02162]])"
      ]
     },
     "execution_count": 15,
     "metadata": {},
     "output_type": "execute_result"
    }
   ],
   "source": [
    "# Unlike MATLAB, we can get the exact solution with rational numbers\n",
    "# However, as it is unwieldy and MA1522 does not require exact solution,\n",
    "# we can use `evalf(n)` to evaluate the solution to `n` significant values.\n",
    "sol.evalf(4) "
   ]
  },
  {
   "cell_type": "markdown",
   "id": "df3d48f7",
   "metadata": {},
   "source": [
    "## Question 4 (Application)\n",
    "\n",
    "Suppose the equation governing the relation between data pairs is not known. We may want to then find a polynomial $$p(x) = a_0 + a_1 x + a_2 x^2 + \\cdots + a_n x^n$$ of degree $n$, $n \\leq m - 1$, that best approximates the data pairs $(x_1, y_1), (x_2, y_2), \\ldots, (x_m, y_m)$. A least square approximating polynomial of degree $n$ is such that $$||\\mathbf{y} - p(\\mathbf{x})||^2$$ is minimized. If we write $$\\mathbf{x} = \\begin{pmatrix} x_1 \\\\ x_2 \\\\ \\vdots \\\\ x_m \\end{pmatrix}, \\quad \\mathbf{y} = \\begin{pmatrix} y_1 \\\\ y_2 \\\\ \\vdots \\\\ y_m \\end{pmatrix}, \\quad \\mathbf{N} = \\begin{pmatrix} 1 & x_1 & x_1^2 & \\cdots & x_1^n \\\\ 1 & x_2 & x_2^2 & \\cdots & x_2^n \\\\ \\vdots & \\vdots & \\vdots & \\ddots & \\vdots \\\\ 1 & x_m & x_m^2 & \\cdots & x_m^n \\end{pmatrix} \\quad \\text{and} \\quad \\mathbf{a} = \\begin{pmatrix} a_0 \\\\ a_1 \\\\ \\vdots \\\\ a_n \\end{pmatrix}$$\n",
    "\n",
    "then $p(\\mathbf{x}) = \\mathbf{N}\\mathbf{a}$, and the task is to find $\\mathbf{a}$ such that $||\\mathbf{y} - \\mathbf{N}\\mathbf{a}||^2$ is minimized. Observe that $\\mathbf{N}$ is a matrix minor of the Vandermonde matrix. If at least $n + 1$ of the $x$-values $x_1, x_2, \\ldots, x_m$ are distinct, the columns of $\\mathbf{N}$ are linearly independent, and thus $\\mathbf{a}$ is uniquely determined by $$\\mathbf{a} = (\\mathbf{N}^T \\mathbf{N})^{-1} \\mathbf{N}^T \\mathbf{y}$$\n",
    "\n",
    "We shall now find a quartic polynomial $$p(x) = a_0 + a_1 x + a_2 x^2 + a_3 x^3 + a_4 x^4$$ that is a least square approximating polynomial for the following data points\n",
    "\n",
    "|$x$|$4$|$4.5$|$5$|$5.5$|$6$|$6.5$|$7$|$8$|$8.5$|\n",
    "|---|---|---|---|---|---|---|---|---|---|\n",
    "|$y$|$0.8651$|$0.4828$|$2.590$|$-4.389$|$-7.858$|$3.103$|$7.456$|$0.0965$|$4.326$|"
   ]
  },
  {
   "cell_type": "code",
   "execution_count": 16,
   "id": "79d1313f",
   "metadata": {},
   "outputs": [
    {
     "data": {
      "text/latex": [
       "$\\displaystyle \\left( \\left[\\begin{array}{c}4\\\\4.5\\\\5\\\\5.5\\\\6\\\\6.5\\\\7\\\\8\\\\8.5\\end{array}\\right], \\  \\left[\\begin{array}{c}0.8651\\\\0.4828\\\\2.59\\\\-4.389\\\\-7.858\\\\3.103\\\\7.456\\\\0.0965\\\\4.326\\end{array}\\right]\\right)$"
      ],
      "text/plain": [
       "⎛⎡ 4 ⎤  ⎡0.8651⎤⎞\n",
       "⎜⎢   ⎥  ⎢      ⎥⎟\n",
       "⎜⎢4.5⎥  ⎢0.4828⎥⎟\n",
       "⎜⎢   ⎥  ⎢      ⎥⎟\n",
       "⎜⎢ 5 ⎥  ⎢ 2.59 ⎥⎟\n",
       "⎜⎢   ⎥  ⎢      ⎥⎟\n",
       "⎜⎢5.5⎥  ⎢-4.389⎥⎟\n",
       "⎜⎢   ⎥  ⎢      ⎥⎟\n",
       "⎜⎢ 6 ⎥, ⎢-7.858⎥⎟\n",
       "⎜⎢   ⎥  ⎢      ⎥⎟\n",
       "⎜⎢6.5⎥  ⎢3.103 ⎥⎟\n",
       "⎜⎢   ⎥  ⎢      ⎥⎟\n",
       "⎜⎢ 7 ⎥  ⎢7.456 ⎥⎟\n",
       "⎜⎢   ⎥  ⎢      ⎥⎟\n",
       "⎜⎢ 8 ⎥  ⎢0.0965⎥⎟\n",
       "⎜⎢   ⎥  ⎢      ⎥⎟\n",
       "⎝⎣8.5⎦  ⎣4.326 ⎦⎠"
      ]
     },
     "execution_count": 16,
     "metadata": {},
     "output_type": "execute_result"
    }
   ],
   "source": [
    "x = Matrix.from_str(\"4 4.5 5 5.5 6 6.5 7 8 8.5\").T\n",
    "y = Matrix.from_str(\"0.8651 0.4828 2.590 -4.389 -7.858 3.103 7.456 0.0965 4.326\").T\n",
    "\n",
    "x, y"
   ]
  },
  {
   "cell_type": "code",
   "execution_count": 17,
   "id": "d58be332",
   "metadata": {},
   "outputs": [
    {
     "data": {
      "text/latex": [
       "$\\displaystyle \\left( \\left[\\begin{array}{c}4\\\\\\frac{9}{2}\\\\5\\\\\\frac{11}{2}\\\\6\\\\\\frac{13}{2}\\\\7\\\\8\\\\\\frac{17}{2}\\end{array}\\right], \\  \\left[\\begin{array}{c}\\frac{8651}{10000}\\\\\\frac{1207}{2500}\\\\\\frac{259}{100}\\\\- \\frac{4389}{1000}\\\\- \\frac{3929}{500}\\\\\\frac{3103}{1000}\\\\\\frac{932}{125}\\\\\\frac{193}{2000}\\\\\\frac{2163}{500}\\end{array}\\right]\\right)$"
      ],
      "text/plain": [
       "⎛        ⎡8651  ⎤⎞\n",
       "⎜        ⎢───── ⎥⎟\n",
       "⎜        ⎢10000 ⎥⎟\n",
       "⎜        ⎢      ⎥⎟\n",
       "⎜        ⎢ 1207 ⎥⎟\n",
       "⎜        ⎢ ──── ⎥⎟\n",
       "⎜        ⎢ 2500 ⎥⎟\n",
       "⎜        ⎢      ⎥⎟\n",
       "⎜        ⎢ 259  ⎥⎟\n",
       "⎜⎡ 4  ⎤  ⎢ ───  ⎥⎟\n",
       "⎜⎢    ⎥  ⎢ 100  ⎥⎟\n",
       "⎜⎢9/2 ⎥  ⎢      ⎥⎟\n",
       "⎜⎢    ⎥  ⎢-4389 ⎥⎟\n",
       "⎜⎢ 5  ⎥  ⎢──────⎥⎟\n",
       "⎜⎢    ⎥  ⎢ 1000 ⎥⎟\n",
       "⎜⎢11/2⎥  ⎢      ⎥⎟\n",
       "⎜⎢    ⎥  ⎢-3929 ⎥⎟\n",
       "⎜⎢ 6  ⎥, ⎢──────⎥⎟\n",
       "⎜⎢    ⎥  ⎢ 500  ⎥⎟\n",
       "⎜⎢13/2⎥  ⎢      ⎥⎟\n",
       "⎜⎢    ⎥  ⎢ 3103 ⎥⎟\n",
       "⎜⎢ 7  ⎥  ⎢ ──── ⎥⎟\n",
       "⎜⎢    ⎥  ⎢ 1000 ⎥⎟\n",
       "⎜⎢ 8  ⎥  ⎢      ⎥⎟\n",
       "⎜⎢    ⎥  ⎢ 932  ⎥⎟\n",
       "⎜⎣17/2⎦  ⎢ ───  ⎥⎟\n",
       "⎜        ⎢ 125  ⎥⎟\n",
       "⎜        ⎢      ⎥⎟\n",
       "⎜        ⎢ 193  ⎥⎟\n",
       "⎜        ⎢ ──── ⎥⎟\n",
       "⎜        ⎢ 2000 ⎥⎟\n",
       "⎜        ⎢      ⎥⎟\n",
       "⎜        ⎢ 2163 ⎥⎟\n",
       "⎜        ⎢ ──── ⎥⎟\n",
       "⎝        ⎣ 500  ⎦⎠"
      ]
     },
     "execution_count": 17,
     "metadata": {},
     "output_type": "execute_result"
    }
   ],
   "source": [
    "# Similar to the previous example, we can use `simplify` to \n",
    "# convert the numbers to symbolic fractions.\n",
    "x.simplify(tolerance=1e-10)\n",
    "y.simplify(tolerance=1e-10)\n",
    "\n",
    "x, y"
   ]
  },
  {
   "cell_type": "code",
   "execution_count": 18,
   "id": "679a6edf",
   "metadata": {},
   "outputs": [
    {
     "data": {
      "text/latex": [
       "$\\displaystyle \\left[\\begin{array}{ccccc}1 & x_{1} & x_{1}^{2} & x_{1}^{3} & x_{1}^{4}\\\\1 & x_{2} & x_{2}^{2} & x_{2}^{3} & x_{2}^{4}\\\\1 & x_{3} & x_{3}^{2} & x_{3}^{3} & x_{3}^{4}\\\\1 & x_{4} & x_{4}^{2} & x_{4}^{3} & x_{4}^{4}\\\\1 & x_{5} & x_{5}^{2} & x_{5}^{3} & x_{5}^{4}\\\\1 & x_{6} & x_{6}^{2} & x_{6}^{3} & x_{6}^{4}\\\\1 & x_{7} & x_{7}^{2} & x_{7}^{3} & x_{7}^{4}\\\\1 & x_{8} & x_{8}^{2} & x_{8}^{3} & x_{8}^{4}\\\\1 & x_{9} & x_{9}^{2} & x_{9}^{3} & x_{9}^{4}\\end{array}\\right]$"
      ],
      "text/plain": [
       "Matrix([\n",
       "[1, x_1, x_1**2, x_1**3, x_1**4]\n",
       "[1, x_2, x_2**2, x_2**3, x_2**4]\n",
       "[1, x_3, x_3**2, x_3**3, x_3**4]\n",
       "[1, x_4, x_4**2, x_4**3, x_4**4]\n",
       "[1, x_5, x_5**2, x_5**3, x_5**4]\n",
       "[1, x_6, x_6**2, x_6**3, x_6**4]\n",
       "[1, x_7, x_7**2, x_7**3, x_7**4]\n",
       "[1, x_8, x_8**2, x_8**3, x_8**4]\n",
       "[1, x_9, x_9**2, x_9**3, x_9**4]\n",
       "])"
      ]
     },
     "execution_count": 18,
     "metadata": {},
     "output_type": "execute_result"
    }
   ],
   "source": [
    "# Create the Vandermonde matrix\n",
    "N = Matrix.create_vander(num_rows=x.rows, num_cols=5)\n",
    "N"
   ]
  },
  {
   "cell_type": "code",
   "execution_count": 19,
   "id": "1bc65466",
   "metadata": {},
   "outputs": [
    {
     "data": {
      "text/latex": [
       "$\\displaystyle \\left[\\begin{array}{ccccc}1 & 4 & 16 & 64 & 256\\\\1 & \\frac{9}{2} & \\frac{81}{4} & \\frac{729}{8} & \\frac{6561}{16}\\\\1 & 5 & 25 & 125 & 625\\\\1 & \\frac{11}{2} & \\frac{121}{4} & \\frac{1331}{8} & \\frac{14641}{16}\\\\1 & 6 & 36 & 216 & 1296\\\\1 & \\frac{13}{2} & \\frac{169}{4} & \\frac{2197}{8} & \\frac{28561}{16}\\\\1 & 7 & 49 & 343 & 2401\\\\1 & 8 & 64 & 512 & 4096\\\\1 & \\frac{17}{2} & \\frac{289}{4} & \\frac{4913}{8} & \\frac{83521}{16}\\end{array}\\right]$"
      ],
      "text/plain": [
       "Matrix([\n",
       "[1,    4,    16,     64,      256]\n",
       "[1,  9/2,  81/4,  729/8,  6561/16]\n",
       "[1,    5,    25,    125,      625]\n",
       "[1, 11/2, 121/4, 1331/8, 14641/16]\n",
       "[1,    6,    36,    216,     1296]\n",
       "[1, 13/2, 169/4, 2197/8, 28561/16]\n",
       "[1,    7,    49,    343,     2401]\n",
       "[1,    8,    64,    512,     4096]\n",
       "[1, 17/2, 289/4, 4913/8, 83521/16]\n",
       "])"
      ]
     },
     "execution_count": 19,
     "metadata": {},
     "output_type": "execute_result"
    }
   ],
   "source": [
    "# To substitute the values of x into the Vandermonde matrix\n",
    "N = N.apply_vander(x)\n",
    "N"
   ]
  },
  {
   "cell_type": "code",
   "execution_count": 20,
   "id": "10ef6b5d",
   "metadata": {},
   "outputs": [
    {
     "name": "stdout",
     "output_type": "stream",
     "text": [
      "Before RREF: [self.T @ self | self.T @ rhs]\n"
     ]
    },
    {
     "data": {
      "text/latex": [
       "$\\displaystyle \\left[\\begin{array}{ccccc|c}9 & 55 & 355 & \\frac{9625}{4} & \\frac{68017}{4} & \\frac{16681}{2500}\\\\55 & 355 & \\frac{9625}{4} & \\frac{68017}{4} & \\frac{1989625}{16} & \\frac{286}{5}\\\\355 & \\frac{9625}{4} & \\frac{68017}{4} & \\frac{1989625}{16} & \\frac{14955565}{16} & \\frac{4878883}{10000}\\\\\\frac{9625}{4} & \\frac{68017}{4} & \\frac{1989625}{16} & \\frac{14955565}{16} & \\frac{459567625}{64} & \\frac{20556229}{5000}\\\\\\frac{68017}{4} & \\frac{1989625}{16} & \\frac{14955565}{16} & \\frac{459567625}{64} & \\frac{3591602257}{64} & \\frac{1370247031}{40000}\\end{array}\\right]$"
      ],
      "text/plain": [
       "Matrix([\n",
       "[      9,         55,         355,       9625/4,       68017/4 |       16681/2500]\n",
       "[     55,        355,      9625/4,      68017/4,    1989625/16 |            286/5]\n",
       "[    355,     9625/4,     68017/4,   1989625/16,   14955565/16 |    4878883/10000]\n",
       "[ 9625/4,    68017/4,  1989625/16,  14955565/16,  459567625/64 |    20556229/5000]\n",
       "[68017/4, 1989625/16, 14955565/16, 459567625/64, 3591602257/64 | 1370247031/40000]\n",
       "])"
      ]
     },
     "metadata": {},
     "output_type": "display_data"
    },
    {
     "name": "stdout",
     "output_type": "stream",
     "text": [
      "\n",
      "After RREF\n"
     ]
    },
    {
     "data": {
      "text/latex": [
       "$\\text{RREF}\\left\\{\\text{rref} = \\left[\\begin{array}{ccccc|c}1 & 0 & 0 & 0 & 0 & - \\frac{43029219289}{210853500}\\\\0 & 1 & 0 & 0 & 0 & \\frac{535177649129}{3162802500}\\\\0 & 0 & 1 & 0 & 0 & - \\frac{8061301133}{162195000}\\\\0 & 0 & 0 & 1 & 0 & \\frac{972997028}{158140125}\\\\0 & 0 & 0 & 0 & 1 & - \\frac{47784941}{175711250}\\end{array}\\right], \\quad\\text{pivots} = (0, 1, 2, 3, 4)\\right\\}$"
      ],
      "text/plain": [
       "RREF(rref=Matrix([\n",
       "[1, 0, 0, 0, 0 |  -43029219289/210853500]\n",
       "[0, 1, 0, 0, 0 | 535177649129/3162802500]\n",
       "[0, 0, 1, 0, 0 |   -8061301133/162195000]\n",
       "[0, 0, 0, 1, 0 |     972997028/158140125]\n",
       "[0, 0, 0, 0, 1 |     -47784941/175711250]\n",
       "]), pivots=(0, 1, 2, 3, 4))"
      ]
     },
     "metadata": {},
     "output_type": "display_data"
    },
    {
     "data": {
      "text/latex": [
       "$\\displaystyle \\left[\\begin{array}{c}- \\frac{43029219289}{210853500}\\\\\\frac{535177649129}{3162802500}\\\\- \\frac{8061301133}{162195000}\\\\\\frac{972997028}{158140125}\\\\- \\frac{47784941}{175711250}\\end{array}\\right]$"
      ],
      "text/plain": [
       "Matrix([\n",
       "[ -43029219289/210853500]\n",
       "[535177649129/3162802500]\n",
       "[  -8061301133/162195000]\n",
       "[    972997028/158140125]\n",
       "[    -47784941/175711250]\n",
       "])"
      ]
     },
     "execution_count": 20,
     "metadata": {},
     "output_type": "execute_result"
    }
   ],
   "source": [
    "sol = N.solve_least_squares(y, verbosity=2)\n",
    "sol"
   ]
  },
  {
   "cell_type": "code",
   "execution_count": 21,
   "id": "c6a0e59f",
   "metadata": {},
   "outputs": [
    {
     "data": {
      "text/latex": [
       "$\\displaystyle \\left[\\begin{matrix}-204.07164\\\\169.20995\\\\-49.701292\\\\6.1527524\\\\-0.27195152\\end{matrix}\\right]$"
      ],
      "text/plain": [
       "Matrix([\n",
       "[ -204.07164],\n",
       "[  169.20995],\n",
       "[ -49.701292],\n",
       "[  6.1527524],\n",
       "[-0.27195152]])"
      ]
     },
     "execution_count": 21,
     "metadata": {},
     "output_type": "execute_result"
    }
   ],
   "source": [
    "sol.evalf(8)  # Evaluate the solution to 8 significant figures"
   ]
  },
  {
   "cell_type": "markdown",
   "id": "14cae800",
   "metadata": {},
   "source": [
    "## Question 5\n",
    "\n",
    "Let $\\mathbf{A} = \\begin{pmatrix} 1 & 1 & 0 \\\\ 1 & 1 & 0 \\\\ 1 & 1 & 1 \\\\ 0 & 1 & 1 \\end{pmatrix}$.\n",
    "\n",
    "### (a)\n",
    "\n",
    "Find a $QR$ factorization of $\\mathbf{A}$.\n"
   ]
  },
  {
   "cell_type": "code",
   "execution_count": 22,
   "id": "bd140da2",
   "metadata": {},
   "outputs": [
    {
     "data": {
      "text/latex": [
       "$\\displaystyle \\left[\\begin{array}{ccc}1 & 1 & 0\\\\1 & 1 & 0\\\\1 & 1 & 1\\\\0 & 1 & 1\\end{array}\\right]$"
      ],
      "text/plain": [
       "Matrix([\n",
       "[1, 1, 0]\n",
       "[1, 1, 0]\n",
       "[1, 1, 1]\n",
       "[0, 1, 1]\n",
       "])"
      ]
     },
     "execution_count": 22,
     "metadata": {},
     "output_type": "execute_result"
    }
   ],
   "source": [
    "A = Matrix.from_str(\"1 1 0; 1 1 0; 1 1 1; 0 1 1\")\n",
    "A"
   ]
  },
  {
   "cell_type": "code",
   "execution_count": 23,
   "id": "d5dc49b9",
   "metadata": {},
   "outputs": [
    {
     "data": {
      "text/latex": [
       "$\\displaystyle v_1 = \\left[\\begin{array}{c}1\\\\1\\\\1\\\\0\\end{array}\\right]$"
      ],
      "text/plain": [
       "<IPython.core.display.Math object>"
      ]
     },
     "metadata": {},
     "output_type": "display_data"
    },
    {
     "data": {
      "text/latex": [
       "$\\displaystyle v_2 = \\left[\\begin{array}{c}1\\\\1\\\\1\\\\1\\end{array}\\right]- \\left(\\frac{3}{3}\\right) \\left[\\begin{array}{c}1\\\\1\\\\1\\\\0\\end{array}\\right] = 1 \\left[\\begin{matrix}0\\\\0\\\\0\\\\1\\end{matrix}\\right]$"
      ],
      "text/plain": [
       "<IPython.core.display.Math object>"
      ]
     },
     "metadata": {},
     "output_type": "display_data"
    },
    {
     "data": {
      "text/latex": [
       "$\\displaystyle v_3 = \\left[\\begin{array}{c}0\\\\0\\\\1\\\\1\\end{array}\\right]- \\left(\\frac{1}{3}\\right) \\left[\\begin{array}{c}1\\\\1\\\\1\\\\0\\end{array}\\right]- \\left(\\frac{1}{1}\\right) \\left[\\begin{array}{c}0\\\\0\\\\0\\\\1\\end{array}\\right] = \\left(\\frac{1}{3}\\right) \\left[\\begin{matrix}-1\\\\-1\\\\2\\\\0\\end{matrix}\\right]$"
      ],
      "text/plain": [
       "<IPython.core.display.Math object>"
      ]
     },
     "metadata": {},
     "output_type": "display_data"
    },
    {
     "data": {
      "text/latex": [
       "$\\left[\\begin{array}{ccc}\\frac{1}{3} & 0 & - \\frac{1}{6}\\\\\\frac{1}{3} & 0 & - \\frac{1}{6}\\\\\\frac{1}{3} & 0 & \\frac{1}{3}\\\\0 & 1 & 0\\end{array}\\right]\\left[\\begin{array}{ccc}\\sqrt{3} & 0 & 0\\\\0 & 1 & 0\\\\0 & 0 & \\sqrt{6}\\end{array}\\right]$"
      ],
      "text/plain": [
       "ScalarFactor(diag=Matrix([\n",
       "[sqrt(3), 0,       0]\n",
       "[      0, 1,       0]\n",
       "[      0, 0, sqrt(6)]\n",
       "]), full=Matrix([\n",
       "[1/3, 0, -1/6]\n",
       "[1/3, 0, -1/6]\n",
       "[1/3, 0,  1/3]\n",
       "[  0, 1,    0]\n",
       "]), order='FD')"
      ]
     },
     "execution_count": 23,
     "metadata": {},
     "output_type": "execute_result"
    }
   ],
   "source": [
    "A.gram_schmidt(factor=True, verbosity=1)"
   ]
  },
  {
   "cell_type": "code",
   "execution_count": 26,
   "id": "5823d2f7",
   "metadata": {},
   "outputs": [
    {
     "name": "stdout",
     "output_type": "stream",
     "text": [
      "Finding orthogonal basis via Gram-Schmidt process:\n"
     ]
    },
    {
     "data": {
      "text/latex": [
       "$\\displaystyle v_1 = \\left[\\begin{array}{c}1\\\\1\\\\1\\\\0\\end{array}\\right]$"
      ],
      "text/plain": [
       "<IPython.core.display.Math object>"
      ]
     },
     "metadata": {},
     "output_type": "display_data"
    },
    {
     "data": {
      "text/latex": [
       "$\\displaystyle v_2 = \\left[\\begin{array}{c}1\\\\1\\\\1\\\\1\\end{array}\\right]- \\left(\\frac{3}{3}\\right) \\left[\\begin{array}{c}1\\\\1\\\\1\\\\0\\end{array}\\right] = 1 \\left[\\begin{matrix}0\\\\0\\\\0\\\\1\\end{matrix}\\right]$"
      ],
      "text/plain": [
       "<IPython.core.display.Math object>"
      ]
     },
     "metadata": {},
     "output_type": "display_data"
    },
    {
     "data": {
      "text/latex": [
       "$\\displaystyle v_3 = \\left[\\begin{array}{c}0\\\\0\\\\1\\\\1\\end{array}\\right]- \\left(\\frac{1}{3}\\right) \\left[\\begin{array}{c}1\\\\1\\\\1\\\\0\\end{array}\\right]- \\left(\\frac{1}{1}\\right) \\left[\\begin{array}{c}0\\\\0\\\\0\\\\1\\end{array}\\right] = \\left(\\frac{1}{3}\\right) \\left[\\begin{matrix}-1\\\\-1\\\\2\\\\0\\end{matrix}\\right]$"
      ],
      "text/plain": [
       "<IPython.core.display.Math object>"
      ]
     },
     "metadata": {},
     "output_type": "display_data"
    },
    {
     "data": {
      "text/latex": [
       "$\\left[\\begin{array}{ccc}\\frac{1}{3} & 0 & - \\frac{1}{6}\\\\\\frac{1}{3} & 0 & - \\frac{1}{6}\\\\\\frac{1}{3} & 0 & \\frac{1}{3}\\\\0 & 1 & 0\\end{array}\\right]\\left[\\begin{array}{ccc}\\sqrt{3} & 0 & 0\\\\0 & 1 & 0\\\\0 & 0 & \\sqrt{6}\\end{array}\\right]$"
      ],
      "text/plain": [
       "ScalarFactor(diag=Matrix([\n",
       "[sqrt(3), 0,       0]\n",
       "[      0, 1,       0]\n",
       "[      0, 0, sqrt(6)]\n",
       "]), full=Matrix([\n",
       "[1/3, 0, -1/6]\n",
       "[1/3, 0, -1/6]\n",
       "[1/3, 0,  1/3]\n",
       "[  0, 1,    0]\n",
       "]), order='FD')"
      ]
     },
     "metadata": {},
     "output_type": "display_data"
    },
    {
     "data": {
      "text/latex": [
       "$\\left[\\begin{array}{ccc}\\frac{\\sqrt{3}}{3} & 0 & - \\frac{\\sqrt{6}}{6}\\\\\\frac{\\sqrt{3}}{3} & 0 & - \\frac{\\sqrt{6}}{6}\\\\\\frac{\\sqrt{3}}{3} & 0 & \\frac{\\sqrt{6}}{3}\\\\0 & 1 & 0\\end{array}\\right]\\left[\\begin{array}{ccc}\\sqrt{3} & \\sqrt{3} & \\frac{\\sqrt{3}}{3}\\\\0 & 1 & 1\\\\0 & 0 & \\frac{\\sqrt{6}}{3}\\end{array}\\right]$"
      ],
      "text/plain": [
       "QR(Q=Matrix([\n",
       "[sqrt(3)/3, 0, -sqrt(6)/6]\n",
       "[sqrt(3)/3, 0, -sqrt(6)/6]\n",
       "[sqrt(3)/3, 0,  sqrt(6)/3]\n",
       "[        0, 1,          0]\n",
       "]), R=Matrix([\n",
       "[sqrt(3), sqrt(3), sqrt(3)/3]\n",
       "[      0,       1,         1]\n",
       "[      0,       0, sqrt(6)/3]\n",
       "]))"
      ]
     },
     "execution_count": 26,
     "metadata": {},
     "output_type": "execute_result"
    }
   ],
   "source": [
    "QR = A.QRdecomposition(verbosity=1)\n",
    "QR"
   ]
  },
  {
   "cell_type": "markdown",
   "id": "40205e5a",
   "metadata": {},
   "source": [
    "### (b) \n",
    "Use your answer in (a) to find the least square solution to $\\mathbf{A}\\mathbf{x} = \\mathbf{b}$, where $\\mathbf{b} = \\begin{pmatrix} 1 \\\\ 1 \\\\ 0 \\\\ 0 \\end{pmatrix}$."
   ]
  },
  {
   "cell_type": "code",
   "execution_count": 27,
   "id": "7922027d",
   "metadata": {},
   "outputs": [
    {
     "data": {
      "text/latex": [
       "$\\displaystyle \\left[\\begin{array}{c}1\\\\1\\\\0\\\\0\\end{array}\\right]$"
      ],
      "text/plain": [
       "Matrix([\n",
       "[1]\n",
       "[1]\n",
       "[0]\n",
       "[0]\n",
       "])"
      ]
     },
     "execution_count": 27,
     "metadata": {},
     "output_type": "execute_result"
    }
   ],
   "source": [
    "b = Matrix.from_str(\"1; 1; 0; 0\")\n",
    "b"
   ]
  },
  {
   "cell_type": "code",
   "execution_count": 28,
   "id": "e16b39a8",
   "metadata": {},
   "outputs": [
    {
     "data": {
      "text/latex": [
       "$\\displaystyle \\left[\\begin{array}{c}0\\\\1\\\\-1\\end{array}\\right]$"
      ],
      "text/plain": [
       "Matrix([\n",
       "[ 0]\n",
       "[ 1]\n",
       "[-1]\n",
       "])"
      ]
     },
     "execution_count": 28,
     "metadata": {},
     "output_type": "execute_result"
    }
   ],
   "source": [
    "Q, R = QR.Q, QR.R\n",
    "\n",
    "sol = R.inverse() @ Q.T @ b\n",
    "sol"
   ]
  },
  {
   "cell_type": "code",
   "execution_count": 29,
   "id": "93e77c02",
   "metadata": {},
   "outputs": [
    {
     "name": "stdout",
     "output_type": "stream",
     "text": [
      "Before RREF: [self.T @ self | self.T @ rhs]\n"
     ]
    },
    {
     "data": {
      "text/latex": [
       "$\\displaystyle \\left[\\begin{array}{ccc|c}3 & 3 & 1 & 2\\\\3 & 4 & 2 & 2\\\\1 & 2 & 2 & 0\\end{array}\\right]$"
      ],
      "text/plain": [
       "Matrix([\n",
       "[3, 3, 1 | 2]\n",
       "[3, 4, 2 | 2]\n",
       "[1, 2, 2 | 0]\n",
       "])"
      ]
     },
     "metadata": {},
     "output_type": "display_data"
    },
    {
     "name": "stdout",
     "output_type": "stream",
     "text": [
      "\n",
      "After RREF\n"
     ]
    },
    {
     "data": {
      "text/latex": [
       "$\\text{RREF}\\left\\{\\text{rref} = \\left[\\begin{array}{ccc|c}1 & 0 & 0 & 0\\\\0 & 1 & 0 & 1\\\\0 & 0 & 1 & -1\\end{array}\\right], \\quad\\text{pivots} = (0, 1, 2)\\right\\}$"
      ],
      "text/plain": [
       "RREF(rref=Matrix([\n",
       "[1, 0, 0 |  0]\n",
       "[0, 1, 0 |  1]\n",
       "[0, 0, 1 | -1]\n",
       "]), pivots=(0, 1, 2))"
      ]
     },
     "metadata": {},
     "output_type": "display_data"
    },
    {
     "data": {
      "text/latex": [
       "$\\displaystyle \\left[\\begin{array}{c}0\\\\1\\\\-1\\end{array}\\right]$"
      ],
      "text/plain": [
       "Matrix([\n",
       "[ 0]\n",
       "[ 1]\n",
       "[-1]\n",
       "])"
      ]
     },
     "execution_count": 29,
     "metadata": {},
     "output_type": "execute_result"
    }
   ],
   "source": [
    "# Or brute force\n",
    "sol = A.solve_least_squares(b, verbosity=2)\n",
    "sol"
   ]
  }
 ],
 "metadata": {
  "kernelspec": {
   "display_name": ".venv",
   "language": "python",
   "name": "python3"
  },
  "language_info": {
   "codemirror_mode": {
    "name": "ipython",
    "version": 3
   },
   "file_extension": ".py",
   "mimetype": "text/x-python",
   "name": "python",
   "nbconvert_exporter": "python",
   "pygments_lexer": "ipython3",
   "version": "3.10.11"
  }
 },
 "nbformat": 4,
 "nbformat_minor": 5
}

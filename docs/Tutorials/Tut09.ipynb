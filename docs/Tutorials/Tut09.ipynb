{
 "cells": [
  {
   "cell_type": "markdown",
   "id": "8bfcb38d",
   "metadata": {},
   "source": [
    "# Tutorial 09 (AY24/25 Sem 1)"
   ]
  },
  {
   "cell_type": "code",
   "execution_count": null,
   "id": "1b7f7037",
   "metadata": {},
   "outputs": [],
   "source": [
    "# Required imports\n",
    "import sympy as sym\n",
    "from ma1522 import Matrix"
   ]
  },
  {
   "cell_type": "markdown",
   "id": "9044497e",
   "metadata": {},
   "source": [
    "## Question 1\n",
    "\n",
    "A father wishes to distribute an amount of money among his three sons Jack, Jim, and John. He wishes to distribute such that the following conditions are all satisfied.\n",
    "\n",
    "(i) The amount Jack receives plus twice the amount Jim receives is $300. (ii) The amount Jim receives plus the amount John receives is $300. (iii) Jack receives $300 more than twice of what John receives.\n",
    "\n",
    "### (a)\n",
    "Is it possible for the following conditions to all be satisfied?"
   ]
  },
  {
   "cell_type": "code",
   "execution_count": 2,
   "id": "5a0c2713",
   "metadata": {},
   "outputs": [
    {
     "data": {
      "text/latex": [
       "$\\displaystyle \\left( \\left[\\begin{array}{ccc}1 & 2 & 0\\\\0 & 1 & 1\\\\1 & 0 & -2\\end{array}\\right], \\  \\left[\\begin{array}{c}300\\\\300\\\\300\\end{array}\\right]\\right)$"
      ],
      "text/plain": [
       "⎛⎡1  2  0 ⎤  ⎡300⎤⎞\n",
       "⎜⎢        ⎥  ⎢   ⎥⎟\n",
       "⎜⎢0  1  1 ⎥, ⎢300⎥⎟\n",
       "⎜⎢        ⎥  ⎢   ⎥⎟\n",
       "⎝⎣1  0  -2⎦  ⎣300⎦⎠"
      ]
     },
     "execution_count": 2,
     "metadata": {},
     "output_type": "execute_result"
    }
   ],
   "source": [
    "mat = Matrix.from_str(\"1 2 0; 0 1 1; 1 0 -2\")\n",
    "aug = Matrix.from_str(\"300; 300; 300\")\n",
    "\n",
    "mat, aug"
   ]
  },
  {
   "cell_type": "code",
   "execution_count": 3,
   "id": "518f475d",
   "metadata": {},
   "outputs": [
    {
     "name": "stdout",
     "output_type": "stream",
     "text": [
      "Check if span(self) is subspace of span(other)\n",
      "\n",
      "Before RREF: [other | self]\n"
     ]
    },
    {
     "data": {
      "text/latex": [
       "$\\displaystyle \\left[\\begin{array}{ccc|c}1 & 2 & 0 & 300\\\\0 & 1 & 1 & 300\\\\1 & 0 & -2 & 300\\end{array}\\right]$"
      ],
      "text/plain": [
       "Matrix([\n",
       "[1, 2,  0 | 300]\n",
       "[0, 1,  1 | 300]\n",
       "[1, 0, -2 | 300]\n",
       "])"
      ]
     },
     "metadata": {},
     "output_type": "display_data"
    },
    {
     "name": "stdout",
     "output_type": "stream",
     "text": [
      "\n",
      "After RREF:\n"
     ]
    },
    {
     "data": {
      "text/latex": [
       "$\\text{RREF}\\left\\{\\text{rref} = \\left[\\begin{array}{ccc|c}1 & 0 & -2 & 0\\\\0 & 1 & 1 & 0\\\\0 & 0 & 0 & 1\\end{array}\\right], \\quad\\text{pivots} = (0, 1, 3)\\right\\}$"
      ],
      "text/plain": [
       "RREF(rref=Matrix([\n",
       "[1, 0, -2 | 0]\n",
       "[0, 1,  1 | 0]\n",
       "[0, 0,  0 | 1]\n",
       "]), pivots=(0, 1, 3))"
      ]
     },
     "metadata": {},
     "output_type": "display_data"
    },
    {
     "name": "stdout",
     "output_type": "stream",
     "text": [
      "Span(self) is not a subspace of span(other).\n",
      "\n"
     ]
    },
    {
     "data": {
      "text/plain": [
       "False"
      ]
     },
     "execution_count": 3,
     "metadata": {},
     "output_type": "execute_result"
    }
   ],
   "source": [
    "aug.is_subspace_of(mat, verbosity=2)"
   ]
  },
  {
   "cell_type": "markdown",
   "id": "39e171f8",
   "metadata": {},
   "source": [
    "### (b)\n",
    "\n",
    "If it is not possible, find a least square solution. (Make sure that your least square solution is feasible. For example, one cannot give a negative amount of money to anybody.)"
   ]
  },
  {
   "cell_type": "code",
   "execution_count": 4,
   "id": "e8b0c9b9",
   "metadata": {},
   "outputs": [
    {
     "name": "stdout",
     "output_type": "stream",
     "text": [
      "Before RREF: [self.T @ self | self.T @ rhs]\n"
     ]
    },
    {
     "data": {
      "text/latex": [
       "$\\displaystyle \\left[\\begin{array}{ccc|c}2 & 2 & -2 & 600\\\\2 & 5 & 1 & 900\\\\-2 & 1 & 5 & -300\\end{array}\\right]$"
      ],
      "text/plain": [
       "Matrix([\n",
       "[ 2, 2, -2 |  600]\n",
       "[ 2, 5,  1 |  900]\n",
       "[-2, 1,  5 | -300]\n",
       "])"
      ]
     },
     "metadata": {},
     "output_type": "display_data"
    },
    {
     "name": "stdout",
     "output_type": "stream",
     "text": [
      "\n",
      "After RREF\n"
     ]
    },
    {
     "data": {
      "text/latex": [
       "$\\text{RREF}\\left\\{\\text{rref} = \\left[\\begin{array}{ccc|c}1 & 0 & -2 & 200\\\\0 & 1 & 1 & 100\\\\0 & 0 & 0 & 0\\end{array}\\right], \\quad\\text{pivots} = (0, 1)\\right\\}$"
      ],
      "text/plain": [
       "RREF(rref=Matrix([\n",
       "[1, 0, -2 | 200]\n",
       "[0, 1,  1 | 100]\n",
       "[0, 0,  0 |   0]\n",
       "]), pivots=(0, 1))"
      ]
     },
     "metadata": {},
     "output_type": "display_data"
    },
    {
     "data": {
      "text/latex": [
       "$\\displaystyle \\left[\\begin{array}{c}2 z + 200\\\\100 - z\\\\z\\end{array}\\right]$"
      ],
      "text/plain": [
       "Matrix([\n",
       "[2*z + 200]\n",
       "[  100 - z]\n",
       "[        z]\n",
       "])"
      ]
     },
     "execution_count": 4,
     "metadata": {},
     "output_type": "execute_result"
    }
   ],
   "source": [
    "sol = mat.solve_least_squares(aug, verbosity=2)\n",
    "sol"
   ]
  },
  {
   "cell_type": "code",
   "execution_count": 5,
   "id": "2d7e6dc7",
   "metadata": {},
   "outputs": [
    {
     "data": {
      "text/latex": [
       "$\\left(\\left[\\begin{array}{c}200\\\\100\\\\0\\end{array}\\right] + \\left[\\begin{array}{c}2 z\\\\- z\\\\z\\end{array}\\right]\\right)$"
      ],
      "text/plain": [
       "PartGen(part_sol=Matrix([\n",
       "[200]\n",
       "[100]\n",
       "[  0]\n",
       "]), gen_sol=Matrix([\n",
       "[2*z]\n",
       "[ -z]\n",
       "[  z]\n",
       "]))"
      ]
     },
     "execution_count": 5,
     "metadata": {},
     "output_type": "execute_result"
    }
   ],
   "source": [
    "sol.sep_part_gen()"
   ]
  },
  {
   "cell_type": "markdown",
   "id": "ce3acbdb",
   "metadata": {},
   "source": [
    "## Question 2\n",
    "\n",
    "### (b)\n",
    "\n",
    "Let $$\\mathbf{A} =\n",
    "\\begin{pmatrix}\n",
    "1 & 1 & 0 \\\\\n",
    "1 & 1 & 0 \\\\\n",
    "1 & 1 & 1 \\\\\n",
    "0 & 1 & 1\n",
    "\\end{pmatrix}$$\n",
    "\n",
    "What is $\\mathbf{Q}$ and $\\mathbf{R}$? Compare this with the answer in tutorial 8 question 5(a)."
   ]
  },
  {
   "cell_type": "code",
   "execution_count": 6,
   "id": "db19e9bf",
   "metadata": {},
   "outputs": [
    {
     "data": {
      "text/latex": [
       "$\\displaystyle \\left[\\begin{array}{ccc}1 & 1 & 0\\\\1 & 1 & 0\\\\1 & 1 & 1\\\\0 & 1 & 1\\end{array}\\right]$"
      ],
      "text/plain": [
       "Matrix([\n",
       "[1, 1, 0]\n",
       "[1, 1, 0]\n",
       "[1, 1, 1]\n",
       "[0, 1, 1]\n",
       "])"
      ]
     },
     "execution_count": 6,
     "metadata": {},
     "output_type": "execute_result"
    }
   ],
   "source": [
    "A = Matrix.from_str(\"1 1 0; 1 1 0; 1 1 1; 0 1 1\")\n",
    "A"
   ]
  },
  {
   "cell_type": "code",
   "execution_count": 7,
   "id": "8ae82425",
   "metadata": {},
   "outputs": [
    {
     "data": {
      "text/latex": [
       "$\\left[\\begin{array}{cccc}\\frac{\\sqrt{3}}{3} & 0 & - \\frac{\\sqrt{6}}{6} & \\frac{\\sqrt{2}}{2}\\\\\\frac{\\sqrt{3}}{3} & 0 & - \\frac{\\sqrt{6}}{6} & - \\frac{\\sqrt{2}}{2}\\\\\\frac{\\sqrt{3}}{3} & 0 & \\frac{\\sqrt{6}}{3} & 0\\\\0 & 1 & 0 & 0\\end{array}\\right]\\left[\\begin{array}{ccc}\\sqrt{3} & \\sqrt{3} & \\frac{\\sqrt{3}}{3}\\\\0 & 1 & 1\\\\0 & 0 & \\frac{\\sqrt{6}}{3}\\\\0 & 0 & 0\\end{array}\\right]$"
      ],
      "text/plain": [
       "QR(Q=Matrix([\n",
       "[sqrt(3)/3, 0, -sqrt(6)/6,  sqrt(2)/2]\n",
       "[sqrt(3)/3, 0, -sqrt(6)/6, -sqrt(2)/2]\n",
       "[sqrt(3)/3, 0,  sqrt(6)/3,          0]\n",
       "[        0, 1,          0,          0]\n",
       "]), R=Matrix([\n",
       "[sqrt(3), sqrt(3), sqrt(3)/3]\n",
       "[      0,       1,         1]\n",
       "[      0,       0, sqrt(6)/3]\n",
       "[      0,       0,         0]\n",
       "]))"
      ]
     },
     "execution_count": 7,
     "metadata": {},
     "output_type": "execute_result"
    }
   ],
   "source": [
    "# To get the full QR decomposition (as computed by MATLAB), set `full=True`\n",
    "A.QRdecomposition(full=True, verbosity=0)"
   ]
  },
  {
   "cell_type": "markdown",
   "id": "414c121f",
   "metadata": {},
   "source": [
    "## Question 3 (Cayley-Hamilton Theorem)\n",
    "\n",
    "Consider $$p(X) = X^3 - 4X^2 - X + 4I$$\n",
    "\n",
    "### (a)\n",
    "\n",
    "Compute $p(X)$ for $X = \\begin{pmatrix} 1 & 1 & 2 \\\\ 1 & 2 & 1 \\\\ 2 & 1 & 1 \\end{pmatrix}$."
   ]
  },
  {
   "cell_type": "code",
   "execution_count": 8,
   "id": "94baafb6",
   "metadata": {},
   "outputs": [
    {
     "data": {
      "text/latex": [
       "$\\displaystyle \\left[\\begin{array}{ccc}1 & 1 & 2\\\\1 & 2 & 1\\\\2 & 1 & 1\\end{array}\\right]$"
      ],
      "text/plain": [
       "Matrix([\n",
       "[1, 1, 2]\n",
       "[1, 2, 1]\n",
       "[2, 1, 1]\n",
       "])"
      ]
     },
     "execution_count": 8,
     "metadata": {},
     "output_type": "execute_result"
    }
   ],
   "source": [
    "X = Matrix.from_str(\"1 1 2; 1 2 1; 2 1 1\")\n",
    "X"
   ]
  },
  {
   "cell_type": "code",
   "execution_count": 9,
   "id": "48607c52",
   "metadata": {},
   "outputs": [
    {
     "data": {
      "text/latex": [
       "$\\displaystyle \\left[\\begin{array}{ccc}0 & 0 & 0\\\\0 & 0 & 0\\\\0 & 0 & 0\\end{array}\\right]$"
      ],
      "text/plain": [
       "Matrix([\n",
       "[0, 0, 0]\n",
       "[0, 0, 0]\n",
       "[0, 0, 0]\n",
       "])"
      ]
     },
     "execution_count": 9,
     "metadata": {},
     "output_type": "execute_result"
    }
   ],
   "source": [
    "X**3 - 4 * X**2 - X + 4 * Matrix.eye(3)"
   ]
  },
  {
   "cell_type": "markdown",
   "id": "2350e83e",
   "metadata": {},
   "source": [
    "### (b)\n",
    "\n",
    "Find the characteristic polynomial of $X$."
   ]
  },
  {
   "cell_type": "code",
   "execution_count": 10,
   "id": "11366687",
   "metadata": {},
   "outputs": [
    {
     "data": {
      "text/latex": [
       "$\\displaystyle \\left(x - 4\\right) \\left(x - 1\\right) \\left(x + 1\\right)$"
      ],
      "text/plain": [
       "(x - 4)⋅(x - 1)⋅(x + 1)"
      ]
     },
     "execution_count": 10,
     "metadata": {},
     "output_type": "execute_result"
    }
   ],
   "source": [
    "X.cpoly()"
   ]
  },
  {
   "cell_type": "markdown",
   "id": "1d5173a1",
   "metadata": {},
   "source": [
    "## Question 4\n",
    "\n",
    "For each of the following matrices $\\mathbf{A}$, determine if $\\mathbf{A}$ is diagonalizable. If $\\mathbf{A}$ is diagonalizable, find an invertible $\\mathbf{P}$ that diagonalizes $\\mathbf{A}$ and determine $\\mathbf{P}^{-1}\\mathbf{A}\\mathbf{P}$.\n",
    "\n",
    "### (a)\n",
    "\n",
    "$\\mathbf{A} = \\begin{pmatrix} 1 & -3 & 3 \\\\ 3 & -5 & 3 \\\\ 6 & -6 & 4 \\end{pmatrix}$"
   ]
  },
  {
   "cell_type": "code",
   "execution_count": 11,
   "id": "28f729a2",
   "metadata": {},
   "outputs": [
    {
     "data": {
      "text/latex": [
       "$\\displaystyle \\left[\\begin{array}{ccc}1 & -3 & 3\\\\3 & -5 & 3\\\\6 & -6 & 4\\end{array}\\right]$"
      ],
      "text/plain": [
       "Matrix([\n",
       "[1, -3, 3]\n",
       "[3, -5, 3]\n",
       "[6, -6, 4]\n",
       "])"
      ]
     },
     "execution_count": 11,
     "metadata": {},
     "output_type": "execute_result"
    }
   ],
   "source": [
    "A = Matrix.from_str(\"1 -3 3; 3 -5 3; 6 -6 4\")\n",
    "A"
   ]
  },
  {
   "cell_type": "code",
   "execution_count": 30,
   "id": "f7d379a7",
   "metadata": {},
   "outputs": [
    {
     "data": {
      "text/plain": [
       "True"
      ]
     },
     "execution_count": 30,
     "metadata": {},
     "output_type": "execute_result"
    }
   ],
   "source": [
    "sym.Matrix(A).is_diagonalizable()"
   ]
  },
  {
   "cell_type": "code",
   "execution_count": null,
   "id": "c03aefd2",
   "metadata": {},
   "outputs": [
    {
     "name": "stdout",
     "output_type": "stream",
     "text": [
      "Characteristic Polynomial is: \n"
     ]
    },
    {
     "data": {
      "text/latex": [
       "$\\displaystyle \\left(x - 4\\right) \\left(x + 2\\right)^{2}$"
      ],
      "text/plain": [
       "               2\n",
       "(x - 4)⋅(x + 2) "
      ]
     },
     "metadata": {},
     "output_type": "display_data"
    },
    {
     "name": "stdout",
     "output_type": "stream",
     "text": [
      "\n",
      "Check if algebraic multiplicity equals number of eigenvectors.\n",
      "\n",
      "Eigenvectors are:\n"
     ]
    },
    {
     "data": {
      "text/latex": [
       "$\\displaystyle \\left\\{\\text{eigenvalue} = -2, \\quad\\text{algebraic multiplicity} = 2, \\quad\\text{eigenspace} = \\left[\\begin{array}{cc}1 & -1\\\\1 & 0\\\\0 & 1\\end{array}\\right]\\right\\}$"
      ],
      "text/plain": [
       "<IPython.core.display.Math object>"
      ]
     },
     "metadata": {},
     "output_type": "display_data"
    },
    {
     "data": {
      "text/latex": [
       "$\\displaystyle \\left\\{\\text{eigenvalue} = 4, \\quad\\text{algebraic multiplicity} = 1, \\quad\\text{eigenspace} = \\left[\\begin{array}{c}\\frac{1}{2}\\\\\\frac{1}{2}\\\\1\\end{array}\\right]\\right\\}$"
      ],
      "text/plain": [
       "<IPython.core.display.Math object>"
      ]
     },
     "metadata": {},
     "output_type": "display_data"
    },
    {
     "data": {
      "text/plain": [
       "True"
      ]
     },
     "execution_count": 12,
     "metadata": {},
     "output_type": "execute_result"
    }
   ],
   "source": [
    "# To check diagaonalization\n",
    "# Take note that the `reals_only` argument is set to `True` by default \n",
    "# in accordance with MA1522 syllabus. This overrides SymPy's default \n",
    "# behavior of allowing complex eigenvalues.\n",
    "A.is_diagonalizable(reals_only=True, verbosity=1)"
   ]
  },
  {
   "cell_type": "code",
   "execution_count": 13,
   "id": "c161404c",
   "metadata": {},
   "outputs": [
    {
     "name": "stdout",
     "output_type": "stream",
     "text": [
      "Characteristic Polynomial\n"
     ]
    },
    {
     "data": {
      "text/latex": [
       "$\\displaystyle \\left(x - 4\\right) \\left(x + 2\\right)^{2}$"
      ],
      "text/plain": [
       "               2\n",
       "(x - 4)⋅(x + 2) "
      ]
     },
     "metadata": {},
     "output_type": "display_data"
    },
    {
     "data": {
      "text/latex": [
       "$\\displaystyle \\text{Before RREF: }4\\mathbb{I} - \\mathrm{self}$"
      ],
      "text/plain": [
       "<IPython.core.display.Math object>"
      ]
     },
     "metadata": {},
     "output_type": "display_data"
    },
    {
     "data": {
      "text/latex": [
       "$\\displaystyle \\left[\\begin{array}{ccc}3 & 3 & -3\\\\-3 & 9 & -3\\\\-6 & 6 & 0\\end{array}\\right]$"
      ],
      "text/plain": [
       "Matrix([\n",
       "[ 3, 3, -3]\n",
       "[-3, 9, -3]\n",
       "[-6, 6,  0]\n",
       "])"
      ]
     },
     "metadata": {},
     "output_type": "display_data"
    },
    {
     "name": "stdout",
     "output_type": "stream",
     "text": [
      "\n",
      "After RREF:\n"
     ]
    },
    {
     "data": {
      "text/latex": [
       "$\\text{RREF}\\left\\{\\text{rref} = \\left[\\begin{array}{ccc}1 & 0 & - \\frac{1}{2}\\\\0 & 1 & - \\frac{1}{2}\\\\0 & 0 & 0\\end{array}\\right], \\quad\\text{pivots} = (0, 1)\\right\\}$"
      ],
      "text/plain": [
       "RREF(rref=Matrix([\n",
       "[1, 0, -1/2]\n",
       "[0, 1, -1/2]\n",
       "[0, 0,    0]\n",
       "]), pivots=(0, 1))"
      ]
     },
     "metadata": {},
     "output_type": "display_data"
    },
    {
     "name": "stdout",
     "output_type": "stream",
     "text": [
      "\n",
      "Eigenvectors:\n"
     ]
    },
    {
     "data": {
      "text/latex": [
       "$\\displaystyle \\left[ \\left[\\begin{matrix}\\frac{1}{2}\\\\\\frac{1}{2}\\\\1\\end{matrix}\\right]\\right]$"
      ],
      "text/plain": [
       "⎡⎡1/2⎤⎤\n",
       "⎢⎢   ⎥⎥\n",
       "⎢⎢1/2⎥⎥\n",
       "⎢⎢   ⎥⎥\n",
       "⎣⎣ 1 ⎦⎦"
      ]
     },
     "metadata": {},
     "output_type": "display_data"
    },
    {
     "name": "stdout",
     "output_type": "stream",
     "text": [
      "\n",
      "\n"
     ]
    },
    {
     "data": {
      "text/latex": [
       "$\\displaystyle \\text{Before RREF: }-2\\mathbb{I} - \\mathrm{self}$"
      ],
      "text/plain": [
       "<IPython.core.display.Math object>"
      ]
     },
     "metadata": {},
     "output_type": "display_data"
    },
    {
     "data": {
      "text/latex": [
       "$\\displaystyle \\left[\\begin{array}{ccc}-3 & 3 & -3\\\\-3 & 3 & -3\\\\-6 & 6 & -6\\end{array}\\right]$"
      ],
      "text/plain": [
       "Matrix([\n",
       "[-3, 3, -3]\n",
       "[-3, 3, -3]\n",
       "[-6, 6, -6]\n",
       "])"
      ]
     },
     "metadata": {},
     "output_type": "display_data"
    },
    {
     "name": "stdout",
     "output_type": "stream",
     "text": [
      "\n",
      "After RREF:\n"
     ]
    },
    {
     "data": {
      "text/latex": [
       "$\\text{RREF}\\left\\{\\text{rref} = \\left[\\begin{array}{ccc}1 & -1 & 1\\\\0 & 0 & 0\\\\0 & 0 & 0\\end{array}\\right], \\quad\\text{pivots} = (0,)\\right\\}$"
      ],
      "text/plain": [
       "RREF(rref=Matrix([\n",
       "[1, -1, 1]\n",
       "[0,  0, 0]\n",
       "[0,  0, 0]\n",
       "]), pivots=(0,))"
      ]
     },
     "metadata": {},
     "output_type": "display_data"
    },
    {
     "name": "stdout",
     "output_type": "stream",
     "text": [
      "\n",
      "Eigenvectors:\n"
     ]
    },
    {
     "data": {
      "text/latex": [
       "$\\displaystyle \\left[ \\left[\\begin{matrix}1\\\\1\\\\0\\end{matrix}\\right], \\  \\left[\\begin{matrix}-1\\\\0\\\\1\\end{matrix}\\right]\\right]$"
      ],
      "text/plain": [
       "⎡⎡1⎤  ⎡-1⎤⎤\n",
       "⎢⎢ ⎥  ⎢  ⎥⎥\n",
       "⎢⎢1⎥, ⎢0 ⎥⎥\n",
       "⎢⎢ ⎥  ⎢  ⎥⎥\n",
       "⎣⎣0⎦  ⎣1 ⎦⎦"
      ]
     },
     "metadata": {},
     "output_type": "display_data"
    },
    {
     "name": "stdout",
     "output_type": "stream",
     "text": [
      "\n",
      "\n"
     ]
    },
    {
     "data": {
      "text/latex": [
       "$\\left[\\begin{array}{ccc}1 & -1 & 1\\\\1 & 0 & 1\\\\0 & 1 & 2\\end{array}\\right]\\left[\\begin{array}{ccc}-2 & 0 & 0\\\\0 & -2 & 0\\\\0 & 0 & 4\\end{array}\\right]\\left[\\begin{matrix}- \\frac{1}{2} & \\frac{3}{2} & - \\frac{1}{2}\\\\-1 & 1 & 0\\\\\\frac{1}{2} & - \\frac{1}{2} & \\frac{1}{2}\\end{matrix}\\right]$"
      ],
      "text/plain": [
       "PDP(P=Matrix([\n",
       "[1, -1, 1]\n",
       "[1,  0, 1]\n",
       "[0,  1, 2]\n",
       "]), D=Matrix([\n",
       "[-2,  0, 0]\n",
       "[ 0, -2, 0]\n",
       "[ 0,  0, 4]\n",
       "]))"
      ]
     },
     "execution_count": 13,
     "metadata": {},
     "output_type": "execute_result"
    }
   ],
   "source": [
    "# Full diagaonlisation procedure\n",
    "A.diagonalize(reals_only=True, verbosity=1)"
   ]
  },
  {
   "cell_type": "markdown",
   "id": "f909e998",
   "metadata": {},
   "source": [
    "### (b)\n",
    "$\\mathbf{A} = \\begin{pmatrix} 9 & 8 & 6 & 3 \\\\ 0 & -1 & 3 & -4 \\\\ 0 & 0 & 2 & 0 \\\\ 0 & 0 & 0 & 3 \\end{pmatrix}$"
   ]
  },
  {
   "cell_type": "code",
   "execution_count": 14,
   "id": "b99d0faf",
   "metadata": {},
   "outputs": [
    {
     "data": {
      "text/latex": [
       "$\\displaystyle \\left[\\begin{array}{cccc}9 & 8 & 6 & 3\\\\0 & -1 & 3 & -4\\\\0 & 0 & 2 & 0\\\\0 & 0 & 0 & 3\\end{array}\\right]$"
      ],
      "text/plain": [
       "Matrix([\n",
       "[9,  8, 6,  3]\n",
       "[0, -1, 3, -4]\n",
       "[0,  0, 2,  0]\n",
       "[0,  0, 0,  3]\n",
       "])"
      ]
     },
     "execution_count": 14,
     "metadata": {},
     "output_type": "execute_result"
    }
   ],
   "source": [
    "A = Matrix.from_str(\"9 8 6 3; 0 -1 3 -4; 0 0 2 0; 0 0 0 3\")\n",
    "A"
   ]
  },
  {
   "cell_type": "code",
   "execution_count": 15,
   "id": "aa48b219",
   "metadata": {},
   "outputs": [
    {
     "name": "stdout",
     "output_type": "stream",
     "text": [
      "Characteristic Polynomial\n"
     ]
    },
    {
     "data": {
      "text/latex": [
       "$\\displaystyle \\left(x - 9\\right) \\left(x - 3\\right) \\left(x - 2\\right) \\left(x + 1\\right)$"
      ],
      "text/plain": [
       "(x - 9)⋅(x - 3)⋅(x - 2)⋅(x + 1)"
      ]
     },
     "metadata": {},
     "output_type": "display_data"
    },
    {
     "data": {
      "text/latex": [
       "$\\displaystyle \\text{Before RREF: }9\\mathbb{I} - \\mathrm{self}$"
      ],
      "text/plain": [
       "<IPython.core.display.Math object>"
      ]
     },
     "metadata": {},
     "output_type": "display_data"
    },
    {
     "data": {
      "text/latex": [
       "$\\displaystyle \\left[\\begin{array}{cccc}0 & -8 & -6 & -3\\\\0 & 10 & -3 & 4\\\\0 & 0 & 7 & 0\\\\0 & 0 & 0 & 6\\end{array}\\right]$"
      ],
      "text/plain": [
       "Matrix([\n",
       "[0, -8, -6, -3]\n",
       "[0, 10, -3,  4]\n",
       "[0,  0,  7,  0]\n",
       "[0,  0,  0,  6]\n",
       "])"
      ]
     },
     "metadata": {},
     "output_type": "display_data"
    },
    {
     "name": "stdout",
     "output_type": "stream",
     "text": [
      "\n",
      "After RREF:\n"
     ]
    },
    {
     "data": {
      "text/latex": [
       "$\\text{RREF}\\left\\{\\text{rref} = \\left[\\begin{array}{cccc}0 & 1 & 0 & 0\\\\0 & 0 & 1 & 0\\\\0 & 0 & 0 & 1\\\\0 & 0 & 0 & 0\\end{array}\\right], \\quad\\text{pivots} = (1, 2, 3)\\right\\}$"
      ],
      "text/plain": [
       "RREF(rref=Matrix([\n",
       "[0, 1, 0, 0]\n",
       "[0, 0, 1, 0]\n",
       "[0, 0, 0, 1]\n",
       "[0, 0, 0, 0]\n",
       "]), pivots=(1, 2, 3))"
      ]
     },
     "metadata": {},
     "output_type": "display_data"
    },
    {
     "name": "stdout",
     "output_type": "stream",
     "text": [
      "\n",
      "Eigenvectors:\n"
     ]
    },
    {
     "data": {
      "text/latex": [
       "$\\displaystyle \\left[ \\left[\\begin{matrix}1\\\\0\\\\0\\\\0\\end{matrix}\\right]\\right]$"
      ],
      "text/plain": [
       "⎡⎡1⎤⎤\n",
       "⎢⎢ ⎥⎥\n",
       "⎢⎢0⎥⎥\n",
       "⎢⎢ ⎥⎥\n",
       "⎢⎢0⎥⎥\n",
       "⎢⎢ ⎥⎥\n",
       "⎣⎣0⎦⎦"
      ]
     },
     "metadata": {},
     "output_type": "display_data"
    },
    {
     "name": "stdout",
     "output_type": "stream",
     "text": [
      "\n",
      "\n"
     ]
    },
    {
     "data": {
      "text/latex": [
       "$\\displaystyle \\text{Before RREF: }3\\mathbb{I} - \\mathrm{self}$"
      ],
      "text/plain": [
       "<IPython.core.display.Math object>"
      ]
     },
     "metadata": {},
     "output_type": "display_data"
    },
    {
     "data": {
      "text/latex": [
       "$\\displaystyle \\left[\\begin{array}{cccc}-6 & -8 & -6 & -3\\\\0 & 4 & -3 & 4\\\\0 & 0 & 1 & 0\\\\0 & 0 & 0 & 0\\end{array}\\right]$"
      ],
      "text/plain": [
       "Matrix([\n",
       "[-6, -8, -6, -3]\n",
       "[ 0,  4, -3,  4]\n",
       "[ 0,  0,  1,  0]\n",
       "[ 0,  0,  0,  0]\n",
       "])"
      ]
     },
     "metadata": {},
     "output_type": "display_data"
    },
    {
     "name": "stdout",
     "output_type": "stream",
     "text": [
      "\n",
      "After RREF:\n"
     ]
    },
    {
     "data": {
      "text/latex": [
       "$\\text{RREF}\\left\\{\\text{rref} = \\left[\\begin{array}{cccc}1 & 0 & 0 & - \\frac{5}{6}\\\\0 & 1 & 0 & 1\\\\0 & 0 & 1 & 0\\\\0 & 0 & 0 & 0\\end{array}\\right], \\quad\\text{pivots} = (0, 1, 2)\\right\\}$"
      ],
      "text/plain": [
       "RREF(rref=Matrix([\n",
       "[1, 0, 0, -5/6]\n",
       "[0, 1, 0,    1]\n",
       "[0, 0, 1,    0]\n",
       "[0, 0, 0,    0]\n",
       "]), pivots=(0, 1, 2))"
      ]
     },
     "metadata": {},
     "output_type": "display_data"
    },
    {
     "name": "stdout",
     "output_type": "stream",
     "text": [
      "\n",
      "Eigenvectors:\n"
     ]
    },
    {
     "data": {
      "text/latex": [
       "$\\displaystyle \\left[ \\left[\\begin{matrix}\\frac{5}{6}\\\\-1\\\\0\\\\1\\end{matrix}\\right]\\right]$"
      ],
      "text/plain": [
       "⎡⎡5/6⎤⎤\n",
       "⎢⎢   ⎥⎥\n",
       "⎢⎢-1 ⎥⎥\n",
       "⎢⎢   ⎥⎥\n",
       "⎢⎢ 0 ⎥⎥\n",
       "⎢⎢   ⎥⎥\n",
       "⎣⎣ 1 ⎦⎦"
      ]
     },
     "metadata": {},
     "output_type": "display_data"
    },
    {
     "name": "stdout",
     "output_type": "stream",
     "text": [
      "\n",
      "\n"
     ]
    },
    {
     "data": {
      "text/latex": [
       "$\\displaystyle \\text{Before RREF: }2\\mathbb{I} - \\mathrm{self}$"
      ],
      "text/plain": [
       "<IPython.core.display.Math object>"
      ]
     },
     "metadata": {},
     "output_type": "display_data"
    },
    {
     "data": {
      "text/latex": [
       "$\\displaystyle \\left[\\begin{array}{cccc}-7 & -8 & -6 & -3\\\\0 & 3 & -3 & 4\\\\0 & 0 & 0 & 0\\\\0 & 0 & 0 & -1\\end{array}\\right]$"
      ],
      "text/plain": [
       "Matrix([\n",
       "[-7, -8, -6, -3]\n",
       "[ 0,  3, -3,  4]\n",
       "[ 0,  0,  0,  0]\n",
       "[ 0,  0,  0, -1]\n",
       "])"
      ]
     },
     "metadata": {},
     "output_type": "display_data"
    },
    {
     "name": "stdout",
     "output_type": "stream",
     "text": [
      "\n",
      "After RREF:\n"
     ]
    },
    {
     "data": {
      "text/latex": [
       "$\\text{RREF}\\left\\{\\text{rref} = \\left[\\begin{array}{cccc}1 & 0 & 2 & 0\\\\0 & 1 & -1 & 0\\\\0 & 0 & 0 & 1\\\\0 & 0 & 0 & 0\\end{array}\\right], \\quad\\text{pivots} = (0, 1, 3)\\right\\}$"
      ],
      "text/plain": [
       "RREF(rref=Matrix([\n",
       "[1, 0,  2, 0]\n",
       "[0, 1, -1, 0]\n",
       "[0, 0,  0, 1]\n",
       "[0, 0,  0, 0]\n",
       "]), pivots=(0, 1, 3))"
      ]
     },
     "metadata": {},
     "output_type": "display_data"
    },
    {
     "name": "stdout",
     "output_type": "stream",
     "text": [
      "\n",
      "Eigenvectors:\n"
     ]
    },
    {
     "data": {
      "text/latex": [
       "$\\displaystyle \\left[ \\left[\\begin{matrix}-2\\\\1\\\\1\\\\0\\end{matrix}\\right]\\right]$"
      ],
      "text/plain": [
       "⎡⎡-2⎤⎤\n",
       "⎢⎢  ⎥⎥\n",
       "⎢⎢1 ⎥⎥\n",
       "⎢⎢  ⎥⎥\n",
       "⎢⎢1 ⎥⎥\n",
       "⎢⎢  ⎥⎥\n",
       "⎣⎣0 ⎦⎦"
      ]
     },
     "metadata": {},
     "output_type": "display_data"
    },
    {
     "name": "stdout",
     "output_type": "stream",
     "text": [
      "\n",
      "\n"
     ]
    },
    {
     "data": {
      "text/latex": [
       "$\\displaystyle \\text{Before RREF: }-1\\mathbb{I} - \\mathrm{self}$"
      ],
      "text/plain": [
       "<IPython.core.display.Math object>"
      ]
     },
     "metadata": {},
     "output_type": "display_data"
    },
    {
     "data": {
      "text/latex": [
       "$\\displaystyle \\left[\\begin{array}{cccc}-10 & -8 & -6 & -3\\\\0 & 0 & -3 & 4\\\\0 & 0 & -3 & 0\\\\0 & 0 & 0 & -4\\end{array}\\right]$"
      ],
      "text/plain": [
       "Matrix([\n",
       "[-10, -8, -6, -3]\n",
       "[  0,  0, -3,  4]\n",
       "[  0,  0, -3,  0]\n",
       "[  0,  0,  0, -4]\n",
       "])"
      ]
     },
     "metadata": {},
     "output_type": "display_data"
    },
    {
     "name": "stdout",
     "output_type": "stream",
     "text": [
      "\n",
      "After RREF:\n"
     ]
    },
    {
     "data": {
      "text/latex": [
       "$\\text{RREF}\\left\\{\\text{rref} = \\left[\\begin{array}{cccc}1 & \\frac{4}{5} & 0 & 0\\\\0 & 0 & 1 & 0\\\\0 & 0 & 0 & 1\\\\0 & 0 & 0 & 0\\end{array}\\right], \\quad\\text{pivots} = (0, 2, 3)\\right\\}$"
      ],
      "text/plain": [
       "RREF(rref=Matrix([\n",
       "[1, 4/5, 0, 0]\n",
       "[0,   0, 1, 0]\n",
       "[0,   0, 0, 1]\n",
       "[0,   0, 0, 0]\n",
       "]), pivots=(0, 2, 3))"
      ]
     },
     "metadata": {},
     "output_type": "display_data"
    },
    {
     "name": "stdout",
     "output_type": "stream",
     "text": [
      "\n",
      "Eigenvectors:\n"
     ]
    },
    {
     "data": {
      "text/latex": [
       "$\\displaystyle \\left[ \\left[\\begin{matrix}- \\frac{4}{5}\\\\1\\\\0\\\\0\\end{matrix}\\right]\\right]$"
      ],
      "text/plain": [
       "⎡⎡-4/5⎤⎤\n",
       "⎢⎢    ⎥⎥\n",
       "⎢⎢ 1  ⎥⎥\n",
       "⎢⎢    ⎥⎥\n",
       "⎢⎢ 0  ⎥⎥\n",
       "⎢⎢    ⎥⎥\n",
       "⎣⎣ 0  ⎦⎦"
      ]
     },
     "metadata": {},
     "output_type": "display_data"
    },
    {
     "name": "stdout",
     "output_type": "stream",
     "text": [
      "\n",
      "\n"
     ]
    },
    {
     "data": {
      "text/latex": [
       "$\\left[\\begin{array}{cccc}-4 & -2 & 5 & 1\\\\5 & 1 & -6 & 0\\\\0 & 1 & 0 & 0\\\\0 & 0 & 6 & 0\\end{array}\\right]\\left[\\begin{array}{cccc}-1 & 0 & 0 & 0\\\\0 & 2 & 0 & 0\\\\0 & 0 & 3 & 0\\\\0 & 0 & 0 & 9\\end{array}\\right]\\left[\\begin{matrix}0 & \\frac{1}{5} & - \\frac{1}{5} & \\frac{1}{5}\\\\0 & 0 & 1 & 0\\\\0 & 0 & 0 & \\frac{1}{6}\\\\1 & \\frac{4}{5} & \\frac{6}{5} & - \\frac{1}{30}\\end{matrix}\\right]$"
      ],
      "text/plain": [
       "PDP(P=Matrix([\n",
       "[-4, -2,  5, 1]\n",
       "[ 5,  1, -6, 0]\n",
       "[ 0,  1,  0, 0]\n",
       "[ 0,  0,  6, 0]\n",
       "]), D=Matrix([\n",
       "[-1, 0, 0, 0]\n",
       "[ 0, 2, 0, 0]\n",
       "[ 0, 0, 3, 0]\n",
       "[ 0, 0, 0, 9]\n",
       "]))"
      ]
     },
     "execution_count": 15,
     "metadata": {},
     "output_type": "execute_result"
    }
   ],
   "source": [
    "A.diagonalize(reals_only=True, verbosity=1)"
   ]
  },
  {
   "cell_type": "markdown",
   "id": "d55f3fd2",
   "metadata": {},
   "source": [
    "### (c)\n",
    "\n",
    "$\\mathbf{A} = \\begin{pmatrix} 1 & 0 & 0 \\\\ 1 & 1 & 0 \\\\ 0 & 1 & 1 \\end{pmatrix}$"
   ]
  },
  {
   "cell_type": "code",
   "execution_count": 16,
   "id": "ec7b4d6e",
   "metadata": {},
   "outputs": [
    {
     "data": {
      "text/latex": [
       "$\\displaystyle \\left[\\begin{array}{ccc}1 & 0 & 0\\\\1 & 1 & 0\\\\0 & 1 & 1\\end{array}\\right]$"
      ],
      "text/plain": [
       "Matrix([\n",
       "[1, 0, 0]\n",
       "[1, 1, 0]\n",
       "[0, 1, 1]\n",
       "])"
      ]
     },
     "execution_count": 16,
     "metadata": {},
     "output_type": "execute_result"
    }
   ],
   "source": [
    "A = Matrix.from_str(\"1 0 0; 1 1 0; 0 1 1\")\n",
    "A"
   ]
  },
  {
   "cell_type": "code",
   "execution_count": 17,
   "id": "b4bf5ec4",
   "metadata": {},
   "outputs": [
    {
     "name": "stdout",
     "output_type": "stream",
     "text": [
      "Characteristic Polynomial\n"
     ]
    },
    {
     "data": {
      "text/latex": [
       "$\\displaystyle \\left(x - 1\\right)^{3}$"
      ],
      "text/plain": [
       "       3\n",
       "(x - 1) "
      ]
     },
     "metadata": {},
     "output_type": "display_data"
    },
    {
     "data": {
      "text/latex": [
       "$\\displaystyle \\text{Before RREF: }1\\mathbb{I} - \\mathrm{self}$"
      ],
      "text/plain": [
       "<IPython.core.display.Math object>"
      ]
     },
     "metadata": {},
     "output_type": "display_data"
    },
    {
     "data": {
      "text/latex": [
       "$\\displaystyle \\left[\\begin{array}{ccc}0 & 0 & 0\\\\-1 & 0 & 0\\\\0 & -1 & 0\\end{array}\\right]$"
      ],
      "text/plain": [
       "Matrix([\n",
       "[ 0,  0, 0]\n",
       "[-1,  0, 0]\n",
       "[ 0, -1, 0]\n",
       "])"
      ]
     },
     "metadata": {},
     "output_type": "display_data"
    },
    {
     "name": "stdout",
     "output_type": "stream",
     "text": [
      "\n",
      "After RREF:\n"
     ]
    },
    {
     "data": {
      "text/latex": [
       "$\\text{RREF}\\left\\{\\text{rref} = \\left[\\begin{array}{ccc}1 & 0 & 0\\\\0 & 1 & 0\\\\0 & 0 & 0\\end{array}\\right], \\quad\\text{pivots} = (0, 1)\\right\\}$"
      ],
      "text/plain": [
       "RREF(rref=Matrix([\n",
       "[1, 0, 0]\n",
       "[0, 1, 0]\n",
       "[0, 0, 0]\n",
       "]), pivots=(0, 1))"
      ]
     },
     "metadata": {},
     "output_type": "display_data"
    },
    {
     "name": "stdout",
     "output_type": "stream",
     "text": [
      "\n",
      "Eigenvectors:\n"
     ]
    },
    {
     "data": {
      "text/latex": [
       "$\\displaystyle \\left[ \\left[\\begin{matrix}0\\\\0\\\\1\\end{matrix}\\right]\\right]$"
      ],
      "text/plain": [
       "⎡⎡0⎤⎤\n",
       "⎢⎢ ⎥⎥\n",
       "⎢⎢0⎥⎥\n",
       "⎢⎢ ⎥⎥\n",
       "⎣⎣1⎦⎦"
      ]
     },
     "metadata": {},
     "output_type": "display_data"
    },
    {
     "name": "stdout",
     "output_type": "stream",
     "text": [
      "\n",
      "\n",
      "MatrixError: Matrix is not diagonalizable\n"
     ]
    }
   ],
   "source": [
    "# If matrix is not diagonalizable, it will raise a MatrixError\n",
    "try:\n",
    "    A.diagonalize(reals_only=True, verbosity=1)\n",
    "except sym.matrices.matrixbase.MatrixError as e:\n",
    "    print(f\"MatrixError: {e}\")"
   ]
  },
  {
   "cell_type": "markdown",
   "id": "6b585f5e",
   "metadata": {},
   "source": [
    "### (d)\n",
    "\n",
    "$\\mathbf{A} = \\begin{pmatrix} 0 & 0 & 1 & 0 \\\\ 0 & 0 & 0 & 1 \\\\ 1 & 0 & 0 & 0 \\\\ 0 & 1 & 0 & 0 \\end{pmatrix}$"
   ]
  },
  {
   "cell_type": "code",
   "execution_count": 18,
   "id": "9182a7ae",
   "metadata": {},
   "outputs": [
    {
     "data": {
      "text/latex": [
       "$\\displaystyle \\left[\\begin{array}{cccc}0 & 0 & 1 & 0\\\\0 & 0 & 0 & 1\\\\1 & 0 & 0 & 0\\\\0 & 1 & 0 & 0\\end{array}\\right]$"
      ],
      "text/plain": [
       "Matrix([\n",
       "[0, 0, 1, 0]\n",
       "[0, 0, 0, 1]\n",
       "[1, 0, 0, 0]\n",
       "[0, 1, 0, 0]\n",
       "])"
      ]
     },
     "execution_count": 18,
     "metadata": {},
     "output_type": "execute_result"
    }
   ],
   "source": [
    "A = Matrix.from_str(\"0 0 1 0; 0 0 0 1; 1 0 0 0; 0 1 0 0\")\n",
    "A"
   ]
  },
  {
   "cell_type": "code",
   "execution_count": 19,
   "id": "d5a41ee9",
   "metadata": {},
   "outputs": [
    {
     "name": "stdout",
     "output_type": "stream",
     "text": [
      "Characteristic Polynomial\n"
     ]
    },
    {
     "data": {
      "text/latex": [
       "$\\displaystyle \\left(x - 1\\right)^{2} \\left(x + 1\\right)^{2}$"
      ],
      "text/plain": [
       "       2        2\n",
       "(x - 1) ⋅(x + 1) "
      ]
     },
     "metadata": {},
     "output_type": "display_data"
    },
    {
     "data": {
      "text/latex": [
       "$\\displaystyle \\text{Before RREF: }1\\mathbb{I} - \\mathrm{self}$"
      ],
      "text/plain": [
       "<IPython.core.display.Math object>"
      ]
     },
     "metadata": {},
     "output_type": "display_data"
    },
    {
     "data": {
      "text/latex": [
       "$\\displaystyle \\left[\\begin{array}{cccc}1 & 0 & -1 & 0\\\\0 & 1 & 0 & -1\\\\-1 & 0 & 1 & 0\\\\0 & -1 & 0 & 1\\end{array}\\right]$"
      ],
      "text/plain": [
       "Matrix([\n",
       "[ 1,  0, -1,  0]\n",
       "[ 0,  1,  0, -1]\n",
       "[-1,  0,  1,  0]\n",
       "[ 0, -1,  0,  1]\n",
       "])"
      ]
     },
     "metadata": {},
     "output_type": "display_data"
    },
    {
     "name": "stdout",
     "output_type": "stream",
     "text": [
      "\n",
      "After RREF:\n"
     ]
    },
    {
     "data": {
      "text/latex": [
       "$\\text{RREF}\\left\\{\\text{rref} = \\left[\\begin{array}{cccc}1 & 0 & -1 & 0\\\\0 & 1 & 0 & -1\\\\0 & 0 & 0 & 0\\\\0 & 0 & 0 & 0\\end{array}\\right], \\quad\\text{pivots} = (0, 1)\\right\\}$"
      ],
      "text/plain": [
       "RREF(rref=Matrix([\n",
       "[1, 0, -1,  0]\n",
       "[0, 1,  0, -1]\n",
       "[0, 0,  0,  0]\n",
       "[0, 0,  0,  0]\n",
       "]), pivots=(0, 1))"
      ]
     },
     "metadata": {},
     "output_type": "display_data"
    },
    {
     "name": "stdout",
     "output_type": "stream",
     "text": [
      "\n",
      "Eigenvectors:\n"
     ]
    },
    {
     "data": {
      "text/latex": [
       "$\\displaystyle \\left[ \\left[\\begin{matrix}1\\\\0\\\\1\\\\0\\end{matrix}\\right], \\  \\left[\\begin{matrix}0\\\\1\\\\0\\\\1\\end{matrix}\\right]\\right]$"
      ],
      "text/plain": [
       "⎡⎡1⎤  ⎡0⎤⎤\n",
       "⎢⎢ ⎥  ⎢ ⎥⎥\n",
       "⎢⎢0⎥  ⎢1⎥⎥\n",
       "⎢⎢ ⎥, ⎢ ⎥⎥\n",
       "⎢⎢1⎥  ⎢0⎥⎥\n",
       "⎢⎢ ⎥  ⎢ ⎥⎥\n",
       "⎣⎣0⎦  ⎣1⎦⎦"
      ]
     },
     "metadata": {},
     "output_type": "display_data"
    },
    {
     "name": "stdout",
     "output_type": "stream",
     "text": [
      "\n",
      "\n"
     ]
    },
    {
     "data": {
      "text/latex": [
       "$\\displaystyle \\text{Before RREF: }-1\\mathbb{I} - \\mathrm{self}$"
      ],
      "text/plain": [
       "<IPython.core.display.Math object>"
      ]
     },
     "metadata": {},
     "output_type": "display_data"
    },
    {
     "data": {
      "text/latex": [
       "$\\displaystyle \\left[\\begin{array}{cccc}-1 & 0 & -1 & 0\\\\0 & -1 & 0 & -1\\\\-1 & 0 & -1 & 0\\\\0 & -1 & 0 & -1\\end{array}\\right]$"
      ],
      "text/plain": [
       "Matrix([\n",
       "[-1,  0, -1,  0]\n",
       "[ 0, -1,  0, -1]\n",
       "[-1,  0, -1,  0]\n",
       "[ 0, -1,  0, -1]\n",
       "])"
      ]
     },
     "metadata": {},
     "output_type": "display_data"
    },
    {
     "name": "stdout",
     "output_type": "stream",
     "text": [
      "\n",
      "After RREF:\n"
     ]
    },
    {
     "data": {
      "text/latex": [
       "$\\text{RREF}\\left\\{\\text{rref} = \\left[\\begin{array}{cccc}1 & 0 & 1 & 0\\\\0 & 1 & 0 & 1\\\\0 & 0 & 0 & 0\\\\0 & 0 & 0 & 0\\end{array}\\right], \\quad\\text{pivots} = (0, 1)\\right\\}$"
      ],
      "text/plain": [
       "RREF(rref=Matrix([\n",
       "[1, 0, 1, 0]\n",
       "[0, 1, 0, 1]\n",
       "[0, 0, 0, 0]\n",
       "[0, 0, 0, 0]\n",
       "]), pivots=(0, 1))"
      ]
     },
     "metadata": {},
     "output_type": "display_data"
    },
    {
     "name": "stdout",
     "output_type": "stream",
     "text": [
      "\n",
      "Eigenvectors:\n"
     ]
    },
    {
     "data": {
      "text/latex": [
       "$\\displaystyle \\left[ \\left[\\begin{matrix}-1\\\\0\\\\1\\\\0\\end{matrix}\\right], \\  \\left[\\begin{matrix}0\\\\-1\\\\0\\\\1\\end{matrix}\\right]\\right]$"
      ],
      "text/plain": [
       "⎡⎡-1⎤  ⎡0 ⎤⎤\n",
       "⎢⎢  ⎥  ⎢  ⎥⎥\n",
       "⎢⎢0 ⎥  ⎢-1⎥⎥\n",
       "⎢⎢  ⎥, ⎢  ⎥⎥\n",
       "⎢⎢1 ⎥  ⎢0 ⎥⎥\n",
       "⎢⎢  ⎥  ⎢  ⎥⎥\n",
       "⎣⎣0 ⎦  ⎣1 ⎦⎦"
      ]
     },
     "metadata": {},
     "output_type": "display_data"
    },
    {
     "name": "stdout",
     "output_type": "stream",
     "text": [
      "\n",
      "\n"
     ]
    },
    {
     "data": {
      "text/latex": [
       "$\\left[\\begin{array}{cccc}-1 & 0 & 1 & 0\\\\0 & -1 & 0 & 1\\\\1 & 0 & 1 & 0\\\\0 & 1 & 0 & 1\\end{array}\\right]\\left[\\begin{array}{cccc}-1 & 0 & 0 & 0\\\\0 & -1 & 0 & 0\\\\0 & 0 & 1 & 0\\\\0 & 0 & 0 & 1\\end{array}\\right]\\left[\\begin{matrix}- \\frac{1}{2} & 0 & \\frac{1}{2} & 0\\\\0 & - \\frac{1}{2} & 0 & \\frac{1}{2}\\\\\\frac{1}{2} & 0 & \\frac{1}{2} & 0\\\\0 & \\frac{1}{2} & 0 & \\frac{1}{2}\\end{matrix}\\right]$"
      ],
      "text/plain": [
       "PDP(P=Matrix([\n",
       "[-1,  0, 1, 0]\n",
       "[ 0, -1, 0, 1]\n",
       "[ 1,  0, 1, 0]\n",
       "[ 0,  1, 0, 1]\n",
       "]), D=Matrix([\n",
       "[-1,  0, 0, 0]\n",
       "[ 0, -1, 0, 0]\n",
       "[ 0,  0, 1, 0]\n",
       "[ 0,  0, 0, 1]\n",
       "]))"
      ]
     },
     "execution_count": 19,
     "metadata": {},
     "output_type": "execute_result"
    }
   ],
   "source": [
    "A.diagonalize(reals_only=True, verbosity=1)"
   ]
  },
  {
   "cell_type": "markdown",
   "id": "2a63a38b",
   "metadata": {},
   "source": [
    "### (e)\n",
    "\n",
    "$\\mathbf{A} = \\begin{pmatrix} -1 & 1 & 1 \\\\ 1 & 1 & -1 \\\\ -4 & 2 & 3 \\end{pmatrix}$"
   ]
  },
  {
   "cell_type": "code",
   "execution_count": 20,
   "id": "825e8388",
   "metadata": {},
   "outputs": [
    {
     "data": {
      "text/latex": [
       "$\\displaystyle \\left[\\begin{array}{ccc}-1 & 1 & 1\\\\1 & 1 & -1\\\\-4 & 2 & 3\\end{array}\\right]$"
      ],
      "text/plain": [
       "Matrix([\n",
       "[-1, 1,  1]\n",
       "[ 1, 1, -1]\n",
       "[-4, 2,  3]\n",
       "])"
      ]
     },
     "execution_count": 20,
     "metadata": {},
     "output_type": "execute_result"
    }
   ],
   "source": [
    "A = Matrix.from_str(\"-1 1 1; 1 1 -1; -4 2 3\")\n",
    "A"
   ]
  },
  {
   "cell_type": "code",
   "execution_count": 21,
   "id": "88944734",
   "metadata": {},
   "outputs": [
    {
     "data": {
      "text/latex": [
       "$\\displaystyle \\left( x - 1, \\  x^{2} - 2 x + 2\\right)$"
      ],
      "text/plain": [
       "⎛        2          ⎞\n",
       "⎝x - 1, x  - 2⋅x + 2⎠"
      ]
     },
     "execution_count": 21,
     "metadata": {},
     "output_type": "execute_result"
    }
   ],
   "source": [
    "# `cpoly` returning a tuple of expressions means that the characteristic \n",
    "# polynomial is not irreducible over the reals. As the rhs expression \n",
    "# only has non-real roots. This means that the matrix is not \n",
    "# diagaonalizable over the reals (with regards to MA1522 syllabus).\n",
    "A.cpoly()"
   ]
  },
  {
   "cell_type": "code",
   "execution_count": 22,
   "id": "e5640bb7",
   "metadata": {},
   "outputs": [
    {
     "data": {
      "text/latex": [
       "$\\displaystyle \\left[\\begin{matrix}1 & 0 & 0 & 0\\\\0 & 1 & 0 & 0\\\\0 & 0 & 1 & 0\\\\0 & 0 & 0 & 1\\end{matrix}\\right]$"
      ],
      "text/plain": [
       "Matrix([\n",
       "[1, 0, 0, 0],\n",
       "[0, 1, 0, 0],\n",
       "[0, 0, 1, 0],\n",
       "[0, 0, 0, 1]])"
      ]
     },
     "execution_count": 22,
     "metadata": {},
     "output_type": "execute_result"
    }
   ],
   "source": [
    "Matrix.eye(4).inv()"
   ]
  },
  {
   "cell_type": "code",
   "execution_count": null,
   "id": "9c480b5e",
   "metadata": {},
   "outputs": [
    {
     "data": {
      "text/latex": [
       "$\\left[\\begin{array}{ccc}1 & 1 & 1\\\\1 & - i & i\\\\1 & 2 & 2\\end{array}\\right]\\left[\\begin{array}{ccc}1 & 0 & 0\\\\0 & 1 - i & 0\\\\0 & 0 & 1 + i\\end{array}\\right]\\left[\\begin{matrix}2 & 0 & -1\\\\- \\frac{1}{2} - i & \\frac{i}{2} & \\frac{1}{2} + \\frac{i}{2}\\\\- \\frac{1}{2} + i & - \\frac{i}{2} & \\frac{1}{2} - \\frac{i}{2}\\end{matrix}\\right]$"
      ],
      "text/plain": [
       "PDP(P=Matrix([\n",
       "[1,  1, 1]\n",
       "[1, -I, I]\n",
       "[1,  2, 2]\n",
       "]), D=Matrix([\n",
       "[1,     0,     0]\n",
       "[0, 1 - I,     0]\n",
       "[0,     0, 1 + I]\n",
       "]))"
      ]
     },
     "execution_count": 24,
     "metadata": {},
     "output_type": "execute_result"
    }
   ],
   "source": [
    "# By setting `reals_only=False`, we allow complex eigenvalues\n",
    "# and hence the matrix can be diagonalized.\n",
    "PDP = A.diagonalize(reals_only=False)\n",
    "PDP"
   ]
  }
 ],
 "metadata": {
  "kernelspec": {
   "display_name": ".venv",
   "language": "python",
   "name": "python3"
  },
  "language_info": {
   "codemirror_mode": {
    "name": "ipython",
    "version": 3
   },
   "file_extension": ".py",
   "mimetype": "text/x-python",
   "name": "python",
   "nbconvert_exporter": "python",
   "pygments_lexer": "ipython3",
   "version": "3.10.11"
  }
 },
 "nbformat": 4,
 "nbformat_minor": 5
}

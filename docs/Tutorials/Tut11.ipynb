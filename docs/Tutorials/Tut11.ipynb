{
 "cells": [
  {
   "cell_type": "markdown",
   "id": "9bc1d5b0",
   "metadata": {},
   "source": [
    "# Tutorial 11 (AY24/25 Sem 1)"
   ]
  },
  {
   "cell_type": "code",
   "execution_count": 1,
   "id": "4b45b00d",
   "metadata": {},
   "outputs": [],
   "source": [
    "# For loading the ma1522 package from the src directory\n",
    "# This is not required if you install the package using pip.\n",
    "import sys\n",
    "from pathlib import Path\n",
    "\n",
    "# Navigate to src directory\n",
    "src_path = Path.cwd().parent.parent / \"src\"\n",
    "sys.path.insert(0, str(src_path))\n",
    "\n",
    "# Required imports\n",
    "import sympy as sym\n",
    "from ma1522 import Matrix\n",
    "\n",
    "%reload_ext autoreload\n",
    "%autoreload 2"
   ]
  },
  {
   "cell_type": "markdown",
   "id": "66c1ca11",
   "metadata": {},
   "source": [
    "## Question 1\n",
    "\n",
    "For each of the following: \n",
    "\n",
    "(i) Determine whether the following are linear transformations. \n",
    "\n",
    "(ii) Write down the standard matrix for each of the linear transformations. \n",
    "\n",
    "(iii) Find a basis for the range for each of the linear transformations. \n",
    "\n",
    "(iv) Find a basis for the kernel for each of the linear transformations.\n",
    "\n",
    "### (a)\n",
    "\n",
    "$T_1 : \\mathbb{R}^2 \\to \\mathbb{R}^2$ such that $T_1\\begin{pmatrix} x \\\\ y \\end{pmatrix} = \\begin{pmatrix} x + y \\\\ y - x \\end{pmatrix}$ for $\\begin{pmatrix} x \\\\ y \\end{pmatrix} \\in \\mathbb{R}^2$.\n"
   ]
  },
  {
   "cell_type": "code",
   "execution_count": 2,
   "id": "970bc14f",
   "metadata": {},
   "outputs": [
    {
     "data": {
      "text/latex": [
       "$\\displaystyle \\left( \\left[\\begin{array}{c}x\\\\y\\end{array}\\right], \\  \\left[\\begin{array}{c}x + y\\\\- x + y\\end{array}\\right]\\right)$"
      ],
      "text/plain": [
       "⎛⎡x⎤  ⎡x + y ⎤⎞\n",
       "⎜⎢ ⎥, ⎢      ⎥⎟\n",
       "⎝⎣y⎦  ⎣-x + y⎦⎠"
      ]
     },
     "execution_count": 2,
     "metadata": {},
     "output_type": "execute_result"
    }
   ],
   "source": [
    "in_vec = Matrix.from_str(\"x; y\")\n",
    "out_vec = Matrix.from_str(\"x+y; y-x\")\n",
    "\n",
    "in_vec, out_vec"
   ]
  },
  {
   "cell_type": "code",
   "execution_count": 3,
   "id": "9f04b08e",
   "metadata": {},
   "outputs": [
    {
     "data": {
      "text/latex": [
       "$\\displaystyle \\left[ \\left[\\begin{array}{cc}1 & 1\\\\-1 & 1\\end{array}\\right]\\right]$"
      ],
      "text/plain": [
       "⎡⎡1   1⎤⎤\n",
       "⎢⎢     ⎥⎥\n",
       "⎣⎣-1  1⎦⎦"
      ]
     },
     "execution_count": 3,
     "metadata": {},
     "output_type": "execute_result"
    }
   ],
   "source": [
    "mat = in_vec.standard_matrix(out_vec, matrices=1)\n",
    "mat # Double brackets indicates its a list of 1 matrix, i.e. unique solution"
   ]
  },
  {
   "cell_type": "code",
   "execution_count": 4,
   "id": "6ec5e10f",
   "metadata": {},
   "outputs": [
    {
     "data": {
      "text/latex": [
       "$\\displaystyle \\left[ \\left[\\begin{matrix}1\\\\-1\\end{matrix}\\right], \\  \\left[\\begin{matrix}1\\\\1\\end{matrix}\\right]\\right]$"
      ],
      "text/plain": [
       "⎡⎡1 ⎤  ⎡1⎤⎤\n",
       "⎢⎢  ⎥, ⎢ ⎥⎥\n",
       "⎣⎣-1⎦  ⎣1⎦⎦"
      ]
     },
     "execution_count": 4,
     "metadata": {},
     "output_type": "execute_result"
    }
   ],
   "source": [
    "mat[0].columnspace()"
   ]
  },
  {
   "cell_type": "code",
   "execution_count": 5,
   "id": "0c32e2a4",
   "metadata": {},
   "outputs": [
    {
     "data": {
      "text/latex": [
       "$\\displaystyle \\left[ \\right]$"
      ],
      "text/plain": [
       "[]"
      ]
     },
     "execution_count": 5,
     "metadata": {},
     "output_type": "execute_result"
    }
   ],
   "source": [
    "mat[0].nullspace()"
   ]
  },
  {
   "cell_type": "markdown",
   "id": "8efd3c79",
   "metadata": {},
   "source": [
    "### (b)\n",
    "\n",
    "$T_2 : \\mathbb{R}^2 \\to \\mathbb{R}^2$ such that $T_2\\begin{pmatrix} x \\\\ y \\end{pmatrix} = \\begin{pmatrix} 2^x \\\\ 0 \\end{pmatrix}$ for $\\begin{pmatrix} x \\\\ y \\end{pmatrix} \\in \\mathbb{R}^2$."
   ]
  },
  {
   "cell_type": "code",
   "execution_count": 6,
   "id": "fa575972",
   "metadata": {},
   "outputs": [
    {
     "data": {
      "text/latex": [
       "$\\displaystyle \\left( \\left[\\begin{array}{c}x\\\\y\\end{array}\\right], \\  \\left[\\begin{array}{c}2^{x}\\\\0\\end{array}\\right]\\right)$"
      ],
      "text/plain": [
       "⎛     ⎡ x⎤⎞\n",
       "⎜⎡x⎤  ⎢2 ⎥⎟\n",
       "⎜⎢ ⎥, ⎢  ⎥⎟\n",
       "⎝⎣y⎦  ⎣0 ⎦⎠"
      ]
     },
     "execution_count": 6,
     "metadata": {},
     "output_type": "execute_result"
    }
   ],
   "source": [
    "in_vec = Matrix.from_str(\"x; y\")\n",
    "out_vec = Matrix.from_str(\"2**x; 0\")\n",
    "\n",
    "in_vec, out_vec"
   ]
  },
  {
   "cell_type": "code",
   "execution_count": 7,
   "id": "b472ad9f",
   "metadata": {},
   "outputs": [
    {
     "name": "stdout",
     "output_type": "stream",
     "text": [
      "Error: No solution found for the standard matrix. This may indicate that the transformation is not linear.\n"
     ]
    }
   ],
   "source": [
    "try: \n",
    "    in_vec.standard_matrix(out_vec, matrices=1)\n",
    "except ValueError as e:\n",
    "    print(f\"Error: {e}\")"
   ]
  },
  {
   "cell_type": "markdown",
   "id": "37a3d65d",
   "metadata": {},
   "source": [
    "### (c)\n",
    "\n",
    "$T_3 : \\mathbb{R}^2 \\to \\mathbb{R}^3$ such that $T_3\\begin{pmatrix} x \\\\ y \\end{pmatrix} = \\begin{pmatrix} x + y \\\\ 0 \\\\ 0 \\end{pmatrix}$ for $\\begin{pmatrix} x \\\\ y \\end{pmatrix} \\in \\mathbb{R}^2$."
   ]
  },
  {
   "cell_type": "code",
   "execution_count": 8,
   "id": "dd96e13b",
   "metadata": {},
   "outputs": [
    {
     "data": {
      "text/latex": [
       "$\\displaystyle \\left( \\left[\\begin{array}{c}x\\\\y\\end{array}\\right], \\  \\left[\\begin{array}{c}x + y\\\\0\\\\0\\end{array}\\right]\\right)$"
      ],
      "text/plain": [
       "⎛     ⎡x + y⎤⎞\n",
       "⎜⎡x⎤  ⎢     ⎥⎟\n",
       "⎜⎢ ⎥, ⎢  0  ⎥⎟\n",
       "⎜⎣y⎦  ⎢     ⎥⎟\n",
       "⎝     ⎣  0  ⎦⎠"
      ]
     },
     "execution_count": 8,
     "metadata": {},
     "output_type": "execute_result"
    }
   ],
   "source": [
    "in_vec = Matrix.from_str(\"x; y\")\n",
    "out_vec = Matrix.from_str(\"x+y; 0; 0\")\n",
    "\n",
    "in_vec, out_vec"
   ]
  },
  {
   "cell_type": "code",
   "execution_count": 9,
   "id": "c0dfa662",
   "metadata": {},
   "outputs": [
    {
     "data": {
      "text/latex": [
       "$\\displaystyle \\left[ \\left[\\begin{array}{cc}1 & 1\\\\0 & 0\\\\0 & 0\\end{array}\\right]\\right]$"
      ],
      "text/plain": [
       "⎡⎡1  1⎤⎤\n",
       "⎢⎢    ⎥⎥\n",
       "⎢⎢0  0⎥⎥\n",
       "⎢⎢    ⎥⎥\n",
       "⎣⎣0  0⎦⎦"
      ]
     },
     "execution_count": 9,
     "metadata": {},
     "output_type": "execute_result"
    }
   ],
   "source": [
    "mat = in_vec.standard_matrix(out_vec, matrices=1)\n",
    "mat"
   ]
  },
  {
   "cell_type": "code",
   "execution_count": 10,
   "id": "739dbf29",
   "metadata": {},
   "outputs": [
    {
     "data": {
      "text/latex": [
       "$\\displaystyle \\left[ \\left[\\begin{matrix}1\\\\0\\\\0\\end{matrix}\\right]\\right]$"
      ],
      "text/plain": [
       "⎡⎡1⎤⎤\n",
       "⎢⎢ ⎥⎥\n",
       "⎢⎢0⎥⎥\n",
       "⎢⎢ ⎥⎥\n",
       "⎣⎣0⎦⎦"
      ]
     },
     "execution_count": 10,
     "metadata": {},
     "output_type": "execute_result"
    }
   ],
   "source": [
    "mat[0].columnspace()"
   ]
  },
  {
   "cell_type": "code",
   "execution_count": 11,
   "id": "81c92242",
   "metadata": {},
   "outputs": [
    {
     "data": {
      "text/latex": [
       "$\\displaystyle \\left[ \\left[\\begin{matrix}-1\\\\1\\end{matrix}\\right]\\right]$"
      ],
      "text/plain": [
       "⎡⎡-1⎤⎤\n",
       "⎢⎢  ⎥⎥\n",
       "⎣⎣1 ⎦⎦"
      ]
     },
     "execution_count": 11,
     "metadata": {},
     "output_type": "execute_result"
    }
   ],
   "source": [
    "mat[0].nullspace()"
   ]
  },
  {
   "cell_type": "markdown",
   "id": "60121b19",
   "metadata": {},
   "source": [
    "### (d)\n",
    "\n",
    "$T_4 : \\mathbb{R}^3 \\to \\mathbb{R}^3$ such that $T_4\\begin{pmatrix} x \\\\ y \\\\ z \\end{pmatrix} = \\begin{pmatrix} 1 \\\\ y - x \\\\ y - z \\end{pmatrix}$ for $\\begin{pmatrix} x \\ y \\ z \\end{pmatrix} \\in \\mathbb{R}^3$."
   ]
  },
  {
   "cell_type": "code",
   "execution_count": 12,
   "id": "eb1e9f38",
   "metadata": {},
   "outputs": [
    {
     "data": {
      "text/latex": [
       "$\\displaystyle \\left( \\left[\\begin{array}{c}x\\\\y\\\\z\\end{array}\\right], \\  \\left[\\begin{array}{c}1\\\\- x + y\\\\y - z\\end{array}\\right]\\right)$"
      ],
      "text/plain": [
       "⎛⎡x⎤  ⎡  1   ⎤⎞\n",
       "⎜⎢ ⎥  ⎢      ⎥⎟\n",
       "⎜⎢y⎥, ⎢-x + y⎥⎟\n",
       "⎜⎢ ⎥  ⎢      ⎥⎟\n",
       "⎝⎣z⎦  ⎣y - z ⎦⎠"
      ]
     },
     "execution_count": 12,
     "metadata": {},
     "output_type": "execute_result"
    }
   ],
   "source": [
    "in_vec = Matrix.from_str(\"x; y; z\")\n",
    "out_vec = Matrix.from_str(\"1; y-x; y-z\")\n",
    "\n",
    "in_vec, out_vec"
   ]
  },
  {
   "cell_type": "code",
   "execution_count": 13,
   "id": "09abdff0",
   "metadata": {},
   "outputs": [
    {
     "name": "stdout",
     "output_type": "stream",
     "text": [
      "Error: No solution found for the standard matrix. This may indicate that the transformation is not linear.\n"
     ]
    }
   ],
   "source": [
    "try:\n",
    "    mat = in_vec.standard_matrix(out_vec, matrices=1)\n",
    "except ValueError as e:\n",
    "    print(f\"Error: {e}\")"
   ]
  },
  {
   "cell_type": "markdown",
   "id": "facb2782",
   "metadata": {},
   "source": [
    "### (e)\n",
    "\n",
    "$T_5 : \\mathbb{R}^5 \\to \\mathbb{R}$ such that $T_5\\begin{pmatrix} x_1 \\\\ \\vdots \\\\ x_5 \\end{pmatrix} = x_3 + 2x_4 - x_5$ for $\\begin{pmatrix} x_1 \\\\ \\vdots \\\\ x_5 \\end{pmatrix} \\in \\mathbb{R}^5$."
   ]
  },
  {
   "cell_type": "code",
   "execution_count": 2,
   "id": "7c144f60",
   "metadata": {},
   "outputs": [
    {
     "data": {
      "text/latex": [
       "$\\displaystyle \\left( \\left[\\begin{array}{c}x_{1}\\\\x_{2}\\\\x_{3}\\\\x_{4}\\\\x_{5}\\end{array}\\right], \\  \\left[\\begin{array}{c}x_{3} + 2 x_{4} - x_{5}\\end{array}\\right]\\right)$"
      ],
      "text/plain": [
       "⎛⎡x₁⎤                  ⎞\n",
       "⎜⎢  ⎥                  ⎟\n",
       "⎜⎢x₂⎥                  ⎟\n",
       "⎜⎢  ⎥                  ⎟\n",
       "⎜⎢x₃⎥, [x₃ + 2⋅x₄ - x₅]⎟\n",
       "⎜⎢  ⎥                  ⎟\n",
       "⎜⎢x₄⎥                  ⎟\n",
       "⎜⎢  ⎥                  ⎟\n",
       "⎝⎣x₅⎦                  ⎠"
      ]
     },
     "execution_count": 2,
     "metadata": {},
     "output_type": "execute_result"
    }
   ],
   "source": [
    "in_vec = Matrix.create_unk_matrix(5, 1, \"x\", is_real=True)\n",
    "out_vec = Matrix.from_str(\"x3 + 2*x4 - x5\", col_sep=\"?\", is_real=True)\n",
    "\n",
    "in_vec, out_vec"
   ]
  },
  {
   "cell_type": "code",
   "execution_count": 3,
   "id": "f8f018e5",
   "metadata": {},
   "outputs": [
    {
     "data": {
      "text/latex": [
       "$\\displaystyle \\left[ \\left[\\begin{array}{ccccc}0 & 0 & 1 & 2 & -1\\end{array}\\right]\\right]$"
      ],
      "text/plain": [
       "[[0  0  1  2  -1]]"
      ]
     },
     "execution_count": 3,
     "metadata": {},
     "output_type": "execute_result"
    }
   ],
   "source": [
    "in_vec.standard_matrix(out_vec, matrices=1)"
   ]
  },
  {
   "cell_type": "code",
   "execution_count": 38,
   "id": "8fb2fc08",
   "metadata": {},
   "outputs": [
    {
     "data": {
      "text/latex": [
       "$\\displaystyle \\left[ \\left[\\begin{matrix}1\\end{matrix}\\right]\\right]$"
      ],
      "text/plain": [
       "[[1]]"
      ]
     },
     "execution_count": 38,
     "metadata": {},
     "output_type": "execute_result"
    }
   ],
   "source": [
    "mat[0].columnspace()"
   ]
  },
  {
   "cell_type": "code",
   "execution_count": 39,
   "id": "6f567658",
   "metadata": {},
   "outputs": [
    {
     "data": {
      "text/latex": [
       "$\\displaystyle \\left[ \\left[\\begin{matrix}1\\\\0\\\\0\\\\0\\\\0\\end{matrix}\\right], \\  \\left[\\begin{matrix}0\\\\1\\\\0\\\\0\\\\0\\end{matrix}\\right], \\  \\left[\\begin{matrix}0\\\\0\\\\-2\\\\1\\\\0\\end{matrix}\\right], \\  \\left[\\begin{matrix}0\\\\0\\\\1\\\\0\\\\1\\end{matrix}\\right]\\right]$"
      ],
      "text/plain": [
       "⎡⎡1⎤  ⎡0⎤  ⎡0 ⎤  ⎡0⎤⎤\n",
       "⎢⎢ ⎥  ⎢ ⎥  ⎢  ⎥  ⎢ ⎥⎥\n",
       "⎢⎢0⎥  ⎢1⎥  ⎢0 ⎥  ⎢0⎥⎥\n",
       "⎢⎢ ⎥  ⎢ ⎥  ⎢  ⎥  ⎢ ⎥⎥\n",
       "⎢⎢0⎥, ⎢0⎥, ⎢-2⎥, ⎢1⎥⎥\n",
       "⎢⎢ ⎥  ⎢ ⎥  ⎢  ⎥  ⎢ ⎥⎥\n",
       "⎢⎢0⎥  ⎢0⎥  ⎢1 ⎥  ⎢0⎥⎥\n",
       "⎢⎢ ⎥  ⎢ ⎥  ⎢  ⎥  ⎢ ⎥⎥\n",
       "⎣⎣0⎦  ⎣0⎦  ⎣0 ⎦  ⎣1⎦⎦"
      ]
     },
     "execution_count": 39,
     "metadata": {},
     "output_type": "execute_result"
    }
   ],
   "source": [
    "mat[0].nullspace()"
   ]
  },
  {
   "cell_type": "markdown",
   "id": "a5755140",
   "metadata": {},
   "source": [
    "### (f)\n",
    "\n",
    "$T_6 : \\mathbb{R}^n \\to \\mathbb{R}$ such that $T_6(\\mathbf{x}) = \\mathbf{x} \\cdot \\mathbf{x}$ for $\\mathbf{x} \\in \\mathbb{R}^n$."
   ]
  },
  {
   "cell_type": "code",
   "execution_count": 43,
   "id": "65e22e24",
   "metadata": {},
   "outputs": [
    {
     "data": {
      "text/latex": [
       "$\\displaystyle \\left( \\left[\\begin{array}{c}x\\\\y\\\\z\\end{array}\\right], \\  x^{2} + y^{2} + z^{2}\\right)$"
      ],
      "text/plain": [
       "⎛⎡x⎤              ⎞\n",
       "⎜⎢ ⎥   2    2    2⎟\n",
       "⎜⎢y⎥, x  + y  + z ⎟\n",
       "⎜⎢ ⎥              ⎟\n",
       "⎝⎣z⎦              ⎠"
      ]
     },
     "execution_count": 43,
     "metadata": {},
     "output_type": "execute_result"
    }
   ],
   "source": [
    "x = Matrix.create_unk_matrix(3, 1) # set n=3\n",
    "x, x.dot(x)"
   ]
  },
  {
   "cell_type": "code",
   "execution_count": 46,
   "id": "09057b33",
   "metadata": {},
   "outputs": [
    {
     "name": "stdout",
     "output_type": "stream",
     "text": [
      "Error: No solution found for the standard matrix. This may indicate that the transformation is not linear.\n"
     ]
    }
   ],
   "source": [
    "# Wrap `x.dot(x)` in a matrix so that it can be \n",
    "# used with `standard_matrix`\n",
    "try:\n",
    "    mat = x.standard_matrix(Matrix([x.dot(x)]), matrices=1)\n",
    "except ValueError as e:\n",
    "    print(f\"Error: {e}\")"
   ]
  },
  {
   "cell_type": "markdown",
   "id": "76724e9c",
   "metadata": {},
   "source": [
    "## Question 2\n",
    "\n",
    "Let $F : \\mathbb{R}^3 \\to \\mathbb{R}^3$ and $G : \\mathbb{R}^3 \\to \\mathbb{R}^3$ be linear transformations such that\n",
    "\n",
    "$$F\\left( \\begin{pmatrix} x_1 \\\\ x_2 \\\\ x_3 \\end{pmatrix} \\right) = \\begin{pmatrix} x_1 - 2x_2 \\\\ x_1 + x_2 - 3x_3 \\\\ 5x_2 - x_3 \\end{pmatrix} \\quad \\text{and} \\quad G\\left( \\begin{pmatrix} x_1 \\\\ x_2 \\\\ x_3 \\end{pmatrix} \\right) = \\begin{pmatrix} x_3 - x_1 \\\\ x_2 + 5x_1 \\\\ x_1 + x_2 + x_3 \\end{pmatrix}$$\n",
    "\n",
    "and let $\\mathbf{A}_F$ and $\\mathbf{B}_G$ be the standard matrix of $F$ and $G$, respectively.\n",
    "\n",
    "### (a)\n",
    "\n",
    "Find $\\mathbf{A}_F$ and $\\mathbf{B}_G$."
   ]
  },
  {
   "cell_type": "code",
   "execution_count": 47,
   "id": "49f728e5",
   "metadata": {},
   "outputs": [
    {
     "data": {
      "text/latex": [
       "$\\displaystyle \\left( \\left[\\begin{array}{c}x_{1}\\\\x_{2}\\\\x_{3}\\end{array}\\right], \\  \\left[\\begin{array}{c}x_{1} - 2 x_{2}\\\\x_{1} + x_{2} - 3 x_{3}\\\\5 x_{2} - x_{3}\\end{array}\\right]\\right)$"
      ],
      "text/plain": [
       "⎛⎡x₁⎤  ⎡  x₁ - 2⋅x₂   ⎤⎞\n",
       "⎜⎢  ⎥  ⎢              ⎥⎟\n",
       "⎜⎢x₂⎥, ⎢x₁ + x₂ - 3⋅x₃⎥⎟\n",
       "⎜⎢  ⎥  ⎢              ⎥⎟\n",
       "⎝⎣x₃⎦  ⎣  5⋅x₂ - x₃   ⎦⎠"
      ]
     },
     "execution_count": 47,
     "metadata": {},
     "output_type": "execute_result"
    }
   ],
   "source": [
    "F_in = Matrix.from_str(\"x1; x2; x3\")\n",
    "F_out = Matrix.from_str(\"x1 - 2*x2; x1 + x2 - 3*x3; 5*x2 - x3\", col_sep=\"?\")\n",
    "\n",
    "F_in, F_out\n"
   ]
  },
  {
   "cell_type": "code",
   "execution_count": 48,
   "id": "31e7d593",
   "metadata": {},
   "outputs": [
    {
     "data": {
      "text/latex": [
       "$\\displaystyle \\left[\\begin{array}{ccc}1 & -2 & 0\\\\1 & 1 & -3\\\\0 & 5 & -1\\end{array}\\right]$"
      ],
      "text/plain": [
       "Matrix([\n",
       "[1, -2,  0]\n",
       "[1,  1, -3]\n",
       "[0,  5, -1]\n",
       "])"
      ]
     },
     "execution_count": 48,
     "metadata": {},
     "output_type": "execute_result"
    }
   ],
   "source": [
    "A_F = F_in.standard_matrix(F_out, matrices=1)[0]\n",
    "A_F"
   ]
  },
  {
   "cell_type": "code",
   "execution_count": 49,
   "id": "c99cffc7",
   "metadata": {},
   "outputs": [
    {
     "data": {
      "text/latex": [
       "$\\displaystyle \\left( \\left[\\begin{array}{c}x_{1}\\\\x_{2}\\\\x_{3}\\end{array}\\right], \\  \\left[\\begin{array}{c}- x_{1} + x_{3}\\\\5 x_{1} + x_{2}\\\\x_{1} + x_{2} + x_{3}\\end{array}\\right]\\right)$"
      ],
      "text/plain": [
       "⎛⎡x₁⎤  ⎡  -x₁ + x₃  ⎤⎞\n",
       "⎜⎢  ⎥  ⎢            ⎥⎟\n",
       "⎜⎢x₂⎥, ⎢ 5⋅x₁ + x₂  ⎥⎟\n",
       "⎜⎢  ⎥  ⎢            ⎥⎟\n",
       "⎝⎣x₃⎦  ⎣x₁ + x₂ + x₃⎦⎠"
      ]
     },
     "execution_count": 49,
     "metadata": {},
     "output_type": "execute_result"
    }
   ],
   "source": [
    "G_in = Matrix.from_str(\"x1; x2; x3\")\n",
    "G_out = Matrix.from_str(\"x3 - x1; x2 + 5*x1; x1 + x2 + x3\", col_sep=\"?\")\n",
    "\n",
    "G_in, G_out"
   ]
  },
  {
   "cell_type": "code",
   "execution_count": 50,
   "id": "3ef64fcd",
   "metadata": {},
   "outputs": [
    {
     "data": {
      "text/latex": [
       "$\\displaystyle \\left[\\begin{array}{ccc}-1 & 0 & 1\\\\5 & 1 & 0\\\\1 & 1 & 1\\end{array}\\right]$"
      ],
      "text/plain": [
       "Matrix([\n",
       "[-1, 0, 1]\n",
       "[ 5, 1, 0]\n",
       "[ 1, 1, 1]\n",
       "])"
      ]
     },
     "execution_count": 50,
     "metadata": {},
     "output_type": "execute_result"
    }
   ],
   "source": [
    "B_G = G_in.standard_matrix(G_out, matrices=1)[0]\n",
    "B_G"
   ]
  },
  {
   "cell_type": "markdown",
   "id": "db097d4a",
   "metadata": {},
   "source": [
    "### (c)\n",
    "\n",
    "Write down the formula for $F(G(\\mathbf{x}))$ and find its standard matrix."
   ]
  },
  {
   "cell_type": "code",
   "execution_count": 51,
   "id": "15aae801",
   "metadata": {},
   "outputs": [
    {
     "data": {
      "text/latex": [
       "$\\displaystyle \\left[\\begin{array}{ccc}-11 & -2 & 1\\\\1 & -2 & -2\\\\24 & 4 & -1\\end{array}\\right]$"
      ],
      "text/plain": [
       "Matrix([\n",
       "[-11, -2,  1]\n",
       "[  1, -2, -2]\n",
       "[ 24,  4, -1]\n",
       "])"
      ]
     },
     "execution_count": 51,
     "metadata": {},
     "output_type": "execute_result"
    }
   ],
   "source": [
    "# Composition of function is the composition of their standard matrices\n",
    "A_F @ B_G"
   ]
  },
  {
   "cell_type": "markdown",
   "id": "0efb59a0",
   "metadata": {},
   "source": [
    "### (d)\n",
    "\n",
    "Find a linear transformation $H : \\mathbb{R}^3 \\to \\mathbb{R}^3$ such that $H(G(\\mathbf{x})) = \\mathbf{x}$, for all $\\mathbf{x} \\in \\mathbb{R}^3$."
   ]
  },
  {
   "cell_type": "code",
   "execution_count": 52,
   "id": "7ca0abf7",
   "metadata": {},
   "outputs": [
    {
     "name": "stdout",
     "output_type": "stream",
     "text": [
      "Left inverse found!\n",
      "Right inverse found!\n",
      "Before RREF: [self | eye]\n"
     ]
    },
    {
     "data": {
      "text/latex": [
       "$\\displaystyle \\left[\\begin{array}{ccc|c|c|c}-1 & 0 & 1 & 1 & 0 & 0\\\\5 & 1 & 0 & 0 & 1 & 0\\\\1 & 1 & 1 & 0 & 0 & 1\\end{array}\\right]$"
      ],
      "text/plain": [
       "Matrix([\n",
       "[-1, 0, 1 | 1 | 0 | 0] \n",
       "[ 5, 1, 0 | 0 | 1 | 0] \n",
       "[ 1, 1, 1 | 0 | 0 | 1] \n",
       "])"
      ]
     },
     "metadata": {},
     "output_type": "display_data"
    },
    {
     "name": "stdout",
     "output_type": "stream",
     "text": [
      "\n",
      "After RREF:\n"
     ]
    },
    {
     "data": {
      "text/latex": [
       "$\\text{RREF}\\left\\{\\text{rref} = \\left[\\begin{array}{ccc|c|c|c}1 & 0 & 0 & \\frac{1}{3} & \\frac{1}{3} & - \\frac{1}{3}\\\\0 & 1 & 0 & - \\frac{5}{3} & - \\frac{2}{3} & \\frac{5}{3}\\\\0 & 0 & 1 & \\frac{4}{3} & \\frac{1}{3} & - \\frac{1}{3}\\end{array}\\right], \\quad\\text{pivots} = (0, 1, 2)\\right\\}$"
      ],
      "text/plain": [
       "RREF(rref=Matrix([\n",
       "[1, 0, 0 |  1/3 |  1/3 | -1/3] \n",
       "[0, 1, 0 | -5/3 | -2/3 |  5/3] \n",
       "[0, 0, 1 |  4/3 |  1/3 | -1/3] \n",
       "]), pivots=(0, 1, 2))"
      ]
     },
     "metadata": {},
     "output_type": "display_data"
    },
    {
     "data": {
      "text/latex": [
       "$\\displaystyle \\left[\\begin{array}{ccc}\\frac{1}{3} & \\frac{1}{3} & - \\frac{1}{3}\\\\- \\frac{5}{3} & - \\frac{2}{3} & \\frac{5}{3}\\\\\\frac{4}{3} & \\frac{1}{3} & - \\frac{1}{3}\\end{array}\\right]$"
      ],
      "text/plain": [
       "Matrix([\n",
       "[ 1/3,  1/3, -1/3]\n",
       "[-5/3, -2/3,  5/3]\n",
       "[ 4/3,  1/3, -1/3]\n",
       "])"
      ]
     },
     "execution_count": 52,
     "metadata": {},
     "output_type": "execute_result"
    }
   ],
   "source": [
    "H = B_G.inverse(verbosity=2)\n",
    "H"
   ]
  },
  {
   "cell_type": "markdown",
   "id": "097d0e06",
   "metadata": {},
   "source": [
    "## Question 3\n",
    "\n",
    "For each of the following linear transformations, (i) determine whether there is enough information for us to find the formula of $T$; and (ii) find the formula and the standard matrix for $T$ if possible.\n",
    "\n",
    "### (a)\n",
    "$T : \\mathbb{R}^3 \\to \\mathbb{R}^4$ such that $$T\\left( \\begin{pmatrix} 1 \\\\ 0 \\\\ 0 \\end{pmatrix} \\right) = \\begin{pmatrix} 1 \\\\ 3 \\\\ 0 \\\\ 1 \\end{pmatrix}, \\quad T\\left( \\begin{pmatrix} 0 \\\\ 1 \\\\ 0 \\end{pmatrix} \\right) = \\begin{pmatrix} 2 \\\\ 2 \\\\ -1 \\\\ 4 \\end{pmatrix}, \\quad T\\left( \\begin{pmatrix} 0 \\\\ 0 \\\\ 1 \\end{pmatrix} \\right) = \\begin{pmatrix} 0 \\\\ 4 \\\\ 1 \\\\ 6 \\end{pmatrix}$$"
   ]
  },
  {
   "cell_type": "code",
   "execution_count": 53,
   "id": "528b9abf",
   "metadata": {},
   "outputs": [
    {
     "data": {
      "text/latex": [
       "$\\displaystyle \\left( \\left[\\begin{array}{ccc}1 & 0 & 0\\\\0 & 1 & 0\\\\0 & 0 & 1\\end{array}\\right], \\  \\left[\\begin{array}{ccc}1 & 2 & 0\\\\3 & 2 & 4\\\\0 & -1 & 1\\\\1 & 4 & 6\\end{array}\\right]\\right)$"
      ],
      "text/plain": [
       "⎛           ⎡1  2   0⎤⎞\n",
       "⎜⎡1  0  0⎤  ⎢        ⎥⎟\n",
       "⎜⎢       ⎥  ⎢3  2   4⎥⎟\n",
       "⎜⎢0  1  0⎥, ⎢        ⎥⎟\n",
       "⎜⎢       ⎥  ⎢0  -1  1⎥⎟\n",
       "⎜⎣0  0  1⎦  ⎢        ⎥⎟\n",
       "⎝           ⎣1  4   6⎦⎠"
      ]
     },
     "execution_count": 53,
     "metadata": {},
     "output_type": "execute_result"
    }
   ],
   "source": [
    "T_in = Matrix.eye(3)\n",
    "T_out = Matrix.from_str(\"1 3 0 1; 2 2 -1 4; 0 4 1 6\").T\n",
    "\n",
    "T_in, T_out"
   ]
  },
  {
   "cell_type": "code",
   "execution_count": 54,
   "id": "8c96712b",
   "metadata": {},
   "outputs": [
    {
     "data": {
      "text/latex": [
       "$\\displaystyle \\left[ \\left[\\begin{array}{ccc}1 & 2 & 0\\\\3 & 2 & 4\\\\0 & -1 & 1\\\\1 & 4 & 6\\end{array}\\right]\\right]$"
      ],
      "text/plain": [
       "⎡⎡1  2   0⎤⎤\n",
       "⎢⎢        ⎥⎥\n",
       "⎢⎢3  2   4⎥⎥\n",
       "⎢⎢        ⎥⎥\n",
       "⎢⎢0  -1  1⎥⎥\n",
       "⎢⎢        ⎥⎥\n",
       "⎣⎣1  4   6⎦⎦"
      ]
     },
     "execution_count": 54,
     "metadata": {},
     "output_type": "execute_result"
    }
   ],
   "source": [
    "mat = T_in.standard_matrix(T_out, matrices=1)\n",
    "mat"
   ]
  },
  {
   "cell_type": "markdown",
   "id": "26459b16",
   "metadata": {},
   "source": [
    "### (b)\n",
    "\n",
    "$T : \\mathbb{R}^2 \\to \\mathbb{R}^2$ such that $$T\\left( \\begin{pmatrix} 1 \\\\ -1 \\end{pmatrix} \\right) = \\begin{pmatrix} 2 \\\\ 0 \\end{pmatrix}, \\quad T\\left( \\begin{pmatrix} 1 \\\\ 1 \\end{pmatrix} \\right) = \\begin{pmatrix} 0 \\\\ 2 \\end{pmatrix}, \\quad T\\left( \\begin{pmatrix} 2 \\\\ 0 \\end{pmatrix} \\right) = \\begin{pmatrix} 2 \\\\ 2 \\end{pmatrix}$$"
   ]
  },
  {
   "cell_type": "code",
   "execution_count": 55,
   "id": "daa51f03",
   "metadata": {},
   "outputs": [
    {
     "data": {
      "text/latex": [
       "$\\displaystyle \\left( \\left[\\begin{array}{ccc}1 & 1 & 2\\\\-1 & 1 & 0\\end{array}\\right], \\  \\left[\\begin{array}{ccc}2 & 0 & 2\\\\0 & 2 & 2\\end{array}\\right]\\right)$"
      ],
      "text/plain": [
       "⎛⎡1   1  2⎤  ⎡2  0  2⎤⎞\n",
       "⎜⎢        ⎥, ⎢       ⎥⎟\n",
       "⎝⎣-1  1  0⎦  ⎣0  2  2⎦⎠"
      ]
     },
     "execution_count": 55,
     "metadata": {},
     "output_type": "execute_result"
    }
   ],
   "source": [
    "T_in = Matrix.from_str(\"1 -1; 1 1; 2 0\").T\n",
    "T_out = Matrix.from_str(\"2 0; 0 2; 2 2\").T\n",
    "\n",
    "T_in, T_out"
   ]
  },
  {
   "cell_type": "code",
   "execution_count": 56,
   "id": "223a20fd",
   "metadata": {},
   "outputs": [
    {
     "data": {
      "text/latex": [
       "$\\displaystyle \\left[ \\left[\\begin{array}{cc}1 & -1\\\\1 & 1\\end{array}\\right]\\right]$"
      ],
      "text/plain": [
       "⎡⎡1  -1⎤⎤\n",
       "⎢⎢     ⎥⎥\n",
       "⎣⎣1  1 ⎦⎦"
      ]
     },
     "execution_count": 56,
     "metadata": {},
     "output_type": "execute_result"
    }
   ],
   "source": [
    "mat = T_in.standard_matrix(T_out, matrices=1)\n",
    "mat"
   ]
  },
  {
   "cell_type": "markdown",
   "id": "83b95b0a",
   "metadata": {},
   "source": [
    "### (c)\n",
    "\n",
    "$T : \\mathbb{R}^3 \\to \\mathbb{R}$ such that $$T\\left( \\begin{pmatrix} 1 \\\\ -1 \\\\ 0 \\end{pmatrix} \\right) = -1, \\quad T\\left( \\begin{pmatrix} 0 \\\\ 1 \\\\ -1 \\end{pmatrix} \\right) = 1, \\quad T\\left( \\begin{pmatrix} -1 \\\\ 0 \\\\ 1 \\end{pmatrix} \\right) = 0$$"
   ]
  },
  {
   "cell_type": "code",
   "execution_count": 59,
   "id": "f5c955db",
   "metadata": {},
   "outputs": [
    {
     "data": {
      "text/latex": [
       "$\\displaystyle \\left( \\left[\\begin{array}{ccc}1 & 0 & -1\\\\-1 & 1 & 0\\\\0 & -1 & 1\\end{array}\\right], \\  \\left[\\begin{array}{ccc}-1 & 1 & 0\\end{array}\\right]\\right)$"
      ],
      "text/plain": [
       "⎛⎡1   0   -1⎤            ⎞\n",
       "⎜⎢          ⎥            ⎟\n",
       "⎜⎢-1  1   0 ⎥, [-1  1  0]⎟\n",
       "⎜⎢          ⎥            ⎟\n",
       "⎝⎣0   -1  1 ⎦            ⎠"
      ]
     },
     "execution_count": 59,
     "metadata": {},
     "output_type": "execute_result"
    }
   ],
   "source": [
    "T_in = Matrix.from_str(\"1 -1 0; 0 1 -1; -1 0 1\").T\n",
    "T_out = Matrix.from_str(\"-1 1 0\")\n",
    "\n",
    "T_in, T_out"
   ]
  },
  {
   "cell_type": "code",
   "execution_count": null,
   "id": "dbe74d29",
   "metadata": {},
   "outputs": [
    {
     "data": {
      "text/latex": [
       "$\\displaystyle \\left[ \\left[\\begin{array}{ccc}x_{1,3} & x_{1,3} + 1 & x_{1,3}\\end{array}\\right]\\right]$"
      ],
      "text/plain": [
       "[[x_1,3  x_1,3 + 1  x_1,3]]"
      ]
     },
     "execution_count": 62,
     "metadata": {},
     "output_type": "execute_result"
    }
   ],
   "source": [
    "mat = T_in.standard_matrix(T_out, matrices=1)\n",
    "mat # free parameters in the solution means its not unique"
   ]
  }
 ],
 "metadata": {
  "kernelspec": {
   "display_name": ".venv",
   "language": "python",
   "name": "python3"
  },
  "language_info": {
   "codemirror_mode": {
    "name": "ipython",
    "version": 3
   },
   "file_extension": ".py",
   "mimetype": "text/x-python",
   "name": "python",
   "nbconvert_exporter": "python",
   "pygments_lexer": "ipython3",
   "version": "3.10.11"
  }
 },
 "nbformat": 4,
 "nbformat_minor": 5
}

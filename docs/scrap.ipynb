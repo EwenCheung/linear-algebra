{
 "cells": [
  {
   "cell_type": "code",
   "execution_count": 1,
   "metadata": {},
   "outputs": [],
   "source": [
    "# from ref_symbolic import *\n",
    "# import ref_symbolic_mod as mod\n",
    "from ref_symbolic_mod import *\n",
    "import sympy as sym\n",
    "from latex2sympy2 import latex2sympy as l2s\n",
    "display = IPython.display.display\n",
    "\n",
    "%load_ext autoreload\n",
    "%autoreload 2"
   ]
  },
  {
   "cell_type": "markdown",
   "metadata": {},
   "source": [
    "# Finals"
   ]
  },
  {
   "cell_type": "code",
   "execution_count": 6,
   "metadata": {},
   "outputs": [
    {
     "ename": "NameError",
     "evalue": "name 'Q1' is not defined",
     "output_type": "error",
     "traceback": [
      "\u001b[1;31m---------------------------------------------------------------------------\u001b[0m",
      "\u001b[1;31mNameError\u001b[0m                                 Traceback (most recent call last)",
      "Cell \u001b[1;32mIn[6], line 1\u001b[0m\n\u001b[1;32m----> 1\u001b[0m \u001b[43mQ1\u001b[49m\n",
      "\u001b[1;31mNameError\u001b[0m: name 'Q1' is not defined"
     ]
    }
   ],
   "source": [
    "Q1"
   ]
  },
  {
   "cell_type": "code",
   "execution_count": 5,
   "metadata": {},
   "outputs": [
    {
     "data": {
      "text/latex": [
       "$\\displaystyle \\left( \\left[\\begin{matrix}1 & 0 & 1\\\\0 & 1 & 2\\\\0 & 0 & 0\\\\0 & 0 & 0\\\\0 & 0 & 0\\end{matrix}\\right], \\  \\left( 0, \\  1\\right)\\right)$"
      ],
      "text/plain": [
       "⎛⎡1  0  1⎤        ⎞\n",
       "⎜⎢       ⎥        ⎟\n",
       "⎜⎢0  1  2⎥        ⎟\n",
       "⎜⎢       ⎥        ⎟\n",
       "⎜⎢0  0  0⎥, (0, 1)⎟\n",
       "⎜⎢       ⎥        ⎟\n",
       "⎜⎢0  0  0⎥        ⎟\n",
       "⎜⎢       ⎥        ⎟\n",
       "⎝⎣0  0  0⎦        ⎠"
      ]
     },
     "execution_count": 5,
     "metadata": {},
     "output_type": "execute_result"
    }
   ],
   "source": [
    "A = Matrix([[1, 1, 1, 0, 0],\n",
    "            [-1, 1, 0, 1, 1]]).T\n",
    "\n",
    "A.row_join(Matrix([-1, 3, 1, 2, 2])).rref()"
   ]
  },
  {
   "cell_type": "markdown",
   "metadata": {},
   "source": [
    "Q2"
   ]
  },
  {
   "cell_type": "code",
   "execution_count": null,
   "metadata": {},
   "outputs": [],
   "source": [
    "L = Matrix.create_unk_matrix(3, 3, 'l')\n",
    "\n",
    "\n",
    "U = Matrix([])"
   ]
  },
  {
   "cell_type": "markdown",
   "metadata": {},
   "source": [
    "Q4"
   ]
  },
  {
   "cell_type": "code",
   "execution_count": 8,
   "metadata": {},
   "outputs": [
    {
     "data": {
      "text/latex": [
       "$\\displaystyle \\left( \\left[\\begin{matrix}1 & 0 & 0\\\\0 & 1 & 0\\\\0 & 0 & 1\\end{matrix}\\right], \\  \\left( 0, \\  1, \\  2\\right)\\right)$"
      ],
      "text/plain": [
       "⎛⎡1  0  0⎤           ⎞\n",
       "⎜⎢       ⎥           ⎟\n",
       "⎜⎢0  1  0⎥, (0, 1, 2)⎟\n",
       "⎜⎢       ⎥           ⎟\n",
       "⎝⎣0  0  1⎦           ⎠"
      ]
     },
     "execution_count": 8,
     "metadata": {},
     "output_type": "execute_result"
    }
   ],
   "source": [
    "A = Matrix([[1, 1, 1],\n",
    "            [2, 0, -1],\n",
    "            [1, -2, 1]])\n",
    "\n",
    "A.rref()"
   ]
  },
  {
   "cell_type": "code",
   "execution_count": 9,
   "metadata": {},
   "outputs": [
    {
     "data": {
      "text/latex": [
       "$\\displaystyle \\left( \\left[\\begin{matrix}1 & 0 & \\frac{1}{2}\\\\0 & 1 & - \\frac{1}{2}\\\\0 & 0 & 0\\end{matrix}\\right], \\  \\left( 0, \\  1\\right)\\right)$"
      ],
      "text/plain": [
       "⎛⎡1  0  1/2 ⎤        ⎞\n",
       "⎜⎢          ⎥        ⎟\n",
       "⎜⎢0  1  -1/2⎥, (0, 1)⎟\n",
       "⎜⎢          ⎥        ⎟\n",
       "⎝⎣0  0   0  ⎦        ⎠"
      ]
     },
     "execution_count": 9,
     "metadata": {},
     "output_type": "execute_result"
    }
   ],
   "source": [
    "A = Matrix([[1, -1, 1],\n",
    "            [1, 1, 0],\n",
    "            [2, 0, 1]])\n",
    "\n",
    "A.rref()"
   ]
  },
  {
   "cell_type": "code",
   "execution_count": 10,
   "metadata": {},
   "outputs": [
    {
     "data": {
      "text/latex": [
       "$\\displaystyle \\left( \\left[\\begin{matrix}1 & 0 & 0\\\\0 & 1 & 0\\\\0 & 0 & 1\\end{matrix}\\right], \\  \\left( 0, \\  1, \\  2\\right)\\right)$"
      ],
      "text/plain": [
       "⎛⎡1  0  0⎤           ⎞\n",
       "⎜⎢       ⎥           ⎟\n",
       "⎜⎢0  1  0⎥, (0, 1, 2)⎟\n",
       "⎜⎢       ⎥           ⎟\n",
       "⎝⎣0  0  1⎦           ⎠"
      ]
     },
     "execution_count": 10,
     "metadata": {},
     "output_type": "execute_result"
    }
   ],
   "source": [
    "A = Matrix([[2, 0, 1],\n",
    "            [1, 1, 0],\n",
    "            [1, 2, 0]])\n",
    "\n",
    "A.rref()"
   ]
  },
  {
   "cell_type": "markdown",
   "metadata": {},
   "source": [
    "# q5"
   ]
  },
  {
   "cell_type": "code",
   "execution_count": 11,
   "metadata": {},
   "outputs": [
    {
     "data": {
      "text/latex": [
       "$\\displaystyle \\left[ \\left[\\begin{matrix}2\\\\- \\frac{5}{2}\\\\1\\\\0\\end{matrix}\\right], \\  \\left[\\begin{matrix}2\\\\- \\frac{5}{2}\\\\0\\\\1\\end{matrix}\\right]\\right]$"
      ],
      "text/plain": [
       "⎡⎡ 2  ⎤  ⎡ 2  ⎤⎤\n",
       "⎢⎢    ⎥  ⎢    ⎥⎥\n",
       "⎢⎢-5/2⎥  ⎢-5/2⎥⎥\n",
       "⎢⎢    ⎥, ⎢    ⎥⎥\n",
       "⎢⎢ 1  ⎥  ⎢ 0  ⎥⎥\n",
       "⎢⎢    ⎥  ⎢    ⎥⎥\n",
       "⎣⎣ 0  ⎦  ⎣ 1  ⎦⎦"
      ]
     },
     "execution_count": 11,
     "metadata": {},
     "output_type": "execute_result"
    }
   ],
   "source": [
    "V = Matrix([[1, 0, -2, -2],\n",
    "            [3, 4, 4, 4],\n",
    "            [2, 2, 1, 1]])\n",
    "\n",
    "Matrix.from_list(V.nullspace()).row"
   ]
  },
  {
   "cell_type": "markdown",
   "metadata": {},
   "source": [
    "#Q7"
   ]
  },
  {
   "cell_type": "code",
   "execution_count": 12,
   "metadata": {},
   "outputs": [
    {
     "name": "stdout",
     "output_type": "stream",
     "text": [
      "Before RREF: [to | self]\n"
     ]
    },
    {
     "data": {
      "text/latex": [
       "$\\displaystyle \\left[\\begin{matrix}0 & 1 & 2 & 2 & 0 & 0\\\\-1 & 0 & 2 & 0 & 1 & 0\\\\2 & 1 & 0 & 0 & 0 & 2\\\\0 & 0 & -1 & 1 & -1 & -1\\end{matrix}\\right]$"
      ],
      "text/plain": [
       "⎡0   1  2   2  0   0 ⎤\n",
       "⎢                    ⎥\n",
       "⎢-1  0  2   0  1   0 ⎥\n",
       "⎢                    ⎥\n",
       "⎢2   1  0   0  0   2 ⎥\n",
       "⎢                    ⎥\n",
       "⎣0   0  -1  1  -1  -1⎦"
      ]
     },
     "metadata": {},
     "output_type": "display_data"
    },
    {
     "name": "stdout",
     "output_type": "stream",
     "text": [
      "\n",
      "After RREF:\n"
     ]
    },
    {
     "data": {
      "text/latex": [
       "$\\displaystyle \\left[\\begin{matrix}1 & 0 & 0 & -2 & 1 & 2\\\\0 & 1 & 0 & 4 & -2 & -2\\\\0 & 0 & 1 & -1 & 1 & 1\\\\0 & 0 & 0 & 0 & 0 & 0\\end{matrix}\\right]$"
      ],
      "text/plain": [
       "⎡1  0  0  -2  1   2 ⎤\n",
       "⎢                   ⎥\n",
       "⎢0  1  0  4   -2  -2⎥\n",
       "⎢                   ⎥\n",
       "⎢0  0  1  -1  1   1 ⎥\n",
       "⎢                   ⎥\n",
       "⎣0  0  0  0   0   0 ⎦"
      ]
     },
     "metadata": {},
     "output_type": "display_data"
    },
    {
     "data": {
      "text/latex": [
       "$\\displaystyle \\left[\\begin{matrix}-2 & 1 & 2\\\\4 & -2 & -2\\\\-1 & 1 & 1\\end{matrix}\\right]$"
      ],
      "text/plain": [
       "⎡-2  1   2 ⎤\n",
       "⎢          ⎥\n",
       "⎢4   -2  -2⎥\n",
       "⎢          ⎥\n",
       "⎣-1  1   1 ⎦"
      ]
     },
     "execution_count": 12,
     "metadata": {},
     "output_type": "execute_result"
    }
   ],
   "source": [
    "S = Matrix([[0, -1, 2, 0],\n",
    "            [1, 0, 1, 0],\n",
    "            [2, 2, 0, -1]]).T\n",
    "\n",
    "T = Matrix([[2, 0, 0, 1],\n",
    "            [0, 1, 0, -1],\n",
    "            [0, 0, 2, -1]]).T\n",
    "\n",
    "T.transition_matrix(S)"
   ]
  },
  {
   "cell_type": "code",
   "execution_count": 13,
   "metadata": {},
   "outputs": [
    {
     "name": "stdout",
     "output_type": "stream",
     "text": [
      "Check if span(self) is subspace of span(other)\n",
      "\n",
      "Before RREF: [other | self]\n"
     ]
    },
    {
     "data": {
      "text/latex": [
       "$\\displaystyle \\left[\\begin{matrix}2 & 0 & 0 & 0 & 1 & 2\\\\0 & 1 & 0 & -1 & 0 & 2\\\\0 & 0 & 2 & 2 & 1 & 0\\\\1 & -1 & -1 & 0 & 0 & -1\\end{matrix}\\right]$"
      ],
      "text/plain": [
       "⎡2  0   0   0   1  2 ⎤\n",
       "⎢                    ⎥\n",
       "⎢0  1   0   -1  0  2 ⎥\n",
       "⎢                    ⎥\n",
       "⎢0  0   2   2   1  0 ⎥\n",
       "⎢                    ⎥\n",
       "⎣1  -1  -1  0   0  -1⎦"
      ]
     },
     "metadata": {},
     "output_type": "display_data"
    },
    {
     "name": "stdout",
     "output_type": "stream",
     "text": [
      "\n",
      "After RREF:\n"
     ]
    },
    {
     "data": {
      "text/latex": [
       "$\\displaystyle \\left[\\begin{matrix}1 & 0 & 0 & 0 & \\frac{1}{2} & 1\\\\0 & 1 & 0 & -1 & 0 & 2\\\\0 & 0 & 1 & 1 & \\frac{1}{2} & 0\\\\0 & 0 & 0 & 0 & 0 & 0\\end{matrix}\\right]$"
      ],
      "text/plain": [
       "⎡1  0  0  0   1/2  1⎤\n",
       "⎢                   ⎥\n",
       "⎢0  1  0  -1   0   2⎥\n",
       "⎢                   ⎥\n",
       "⎢0  0  1  1   1/2  0⎥\n",
       "⎢                   ⎥\n",
       "⎣0  0  0  0    0   0⎦"
      ]
     },
     "metadata": {},
     "output_type": "display_data"
    },
    {
     "name": "stdout",
     "output_type": "stream",
     "text": [
      "\n",
      "Check if span(other) is subspace of span(self)\n",
      "\n",
      "Before RREF: [self | other]\n"
     ]
    },
    {
     "data": {
      "text/latex": [
       "$\\displaystyle \\left[\\begin{matrix}0 & 1 & 2 & 2 & 0 & 0\\\\-1 & 0 & 2 & 0 & 1 & 0\\\\2 & 1 & 0 & 0 & 0 & 2\\\\0 & 0 & -1 & 1 & -1 & -1\\end{matrix}\\right]$"
      ],
      "text/plain": [
       "⎡0   1  2   2  0   0 ⎤\n",
       "⎢                    ⎥\n",
       "⎢-1  0  2   0  1   0 ⎥\n",
       "⎢                    ⎥\n",
       "⎢2   1  0   0  0   2 ⎥\n",
       "⎢                    ⎥\n",
       "⎣0   0  -1  1  -1  -1⎦"
      ]
     },
     "metadata": {},
     "output_type": "display_data"
    },
    {
     "name": "stdout",
     "output_type": "stream",
     "text": [
      "\n",
      "After RREF:\n"
     ]
    },
    {
     "data": {
      "text/latex": [
       "$\\displaystyle \\left[\\begin{matrix}1 & 0 & 0 & -2 & 1 & 2\\\\0 & 1 & 0 & 4 & -2 & -2\\\\0 & 0 & 1 & -1 & 1 & 1\\\\0 & 0 & 0 & 0 & 0 & 0\\end{matrix}\\right]$"
      ],
      "text/plain": [
       "⎡1  0  0  -2  1   2 ⎤\n",
       "⎢                   ⎥\n",
       "⎢0  1  0  4   -2  -2⎥\n",
       "⎢                   ⎥\n",
       "⎢0  0  1  -1  1   1 ⎥\n",
       "⎢                   ⎥\n",
       "⎣0  0  0  0   0   0 ⎦"
      ]
     },
     "metadata": {},
     "output_type": "display_data"
    },
    {
     "data": {
      "text/plain": [
       "True"
      ]
     },
     "execution_count": 13,
     "metadata": {},
     "output_type": "execute_result"
    }
   ],
   "source": [
    "S.is_same_subspace(T)"
   ]
  },
  {
   "cell_type": "code",
   "execution_count": 15,
   "metadata": {},
   "outputs": [
    {
     "name": "stdout",
     "output_type": "stream",
     "text": [
      "Before RREF: [to | self]\n"
     ]
    },
    {
     "data": {
      "text/latex": [
       "$\\displaystyle \\left[\\begin{matrix}2 & 0 & 0 & 0 & 1 & 2\\\\0 & 1 & 0 & -1 & 0 & 2\\\\0 & 0 & 2 & 2 & 1 & 0\\\\1 & -1 & -1 & 0 & 0 & -1\\end{matrix}\\right]$"
      ],
      "text/plain": [
       "⎡2  0   0   0   1  2 ⎤\n",
       "⎢                    ⎥\n",
       "⎢0  1   0   -1  0  2 ⎥\n",
       "⎢                    ⎥\n",
       "⎢0  0   2   2   1  0 ⎥\n",
       "⎢                    ⎥\n",
       "⎣1  -1  -1  0   0  -1⎦"
      ]
     },
     "metadata": {},
     "output_type": "display_data"
    },
    {
     "name": "stdout",
     "output_type": "stream",
     "text": [
      "\n",
      "After RREF:\n"
     ]
    },
    {
     "data": {
      "text/latex": [
       "$\\displaystyle \\left[\\begin{matrix}1 & 0 & 0 & 0 & \\frac{1}{2} & 1\\\\0 & 1 & 0 & -1 & 0 & 2\\\\0 & 0 & 1 & 1 & \\frac{1}{2} & 0\\\\0 & 0 & 0 & 0 & 0 & 0\\end{matrix}\\right]$"
      ],
      "text/plain": [
       "⎡1  0  0  0   1/2  1⎤\n",
       "⎢                   ⎥\n",
       "⎢0  1  0  -1   0   2⎥\n",
       "⎢                   ⎥\n",
       "⎢0  0  1  1   1/2  0⎥\n",
       "⎢                   ⎥\n",
       "⎣0  0  0  0    0   0⎦"
      ]
     },
     "metadata": {},
     "output_type": "display_data"
    },
    {
     "data": {
      "text/latex": [
       "$\\displaystyle \\left[\\begin{matrix}0 & \\frac{1}{2} & 1\\\\-1 & 0 & 2\\\\1 & \\frac{1}{2} & 0\\end{matrix}\\right]$"
      ],
      "text/plain": [
       "⎡0   1/2  1⎤\n",
       "⎢          ⎥\n",
       "⎢-1   0   2⎥\n",
       "⎢          ⎥\n",
       "⎣1   1/2  0⎦"
      ]
     },
     "execution_count": 15,
     "metadata": {},
     "output_type": "execute_result"
    }
   ],
   "source": [
    "S.transition_matrix(T)"
   ]
  },
  {
   "cell_type": "markdown",
   "metadata": {},
   "source": [
    "#Q8"
   ]
  },
  {
   "cell_type": "code",
   "execution_count": null,
   "metadata": {},
   "outputs": [
    {
     "data": {
      "text/latex": [
       "$\\displaystyle \\left( \\left[\\begin{matrix}1 & 0 & - \\frac{1}{2} & 0\\\\0 & 1 & 1 & 0\\\\0 & 0 & 0 & 1\\end{matrix}\\right], \\  \\left( 0, \\  1, \\  3\\right)\\right)$"
      ],
      "text/plain": [
       "⎛⎡1  0  -1/2  0⎤           ⎞\n",
       "⎜⎢             ⎥           ⎟\n",
       "⎜⎢0  1   1    0⎥, (0, 1, 3)⎟\n",
       "⎜⎢             ⎥           ⎟\n",
       "⎝⎣0  0   0    1⎦           ⎠"
      ]
     },
     "execution_count": 16,
     "metadata": {},
     "output_type": "execute_result"
    }
   ],
   "source": [
    "A = Matrix([[2, 2, 1, 3],\n",
    "            [0, 1, 1, 0],\n",
    "            [2, 2, 1, -1]])\n",
    "A.rref()"
   ]
  },
  {
   "cell_type": "code",
   "execution_count": 18,
   "metadata": {},
   "outputs": [
    {
     "name": "stdout",
     "output_type": "stream",
     "text": [
      "Check if span(self) is subspace of span(other)\n",
      "\n",
      "Before RREF: [other | self]\n"
     ]
    },
    {
     "data": {
      "text/latex": [
       "$\\displaystyle \\left[\\begin{matrix}0 & 12 & 8 & 2 & 0 & 2\\\\3 & 15 & 7 & 2 & 1 & 2\\\\3 & 9 & 3 & 1 & 1 & 1\\\\-4 & 6 & 8 & 3 & 0 & -1\\end{matrix}\\right]$"
      ],
      "text/plain": [
       "⎡0   12  8  2  0  2 ⎤\n",
       "⎢                   ⎥\n",
       "⎢3   15  7  2  1  2 ⎥\n",
       "⎢                   ⎥\n",
       "⎢3   9   3  1  1  1 ⎥\n",
       "⎢                   ⎥\n",
       "⎣-4  6   8  3  0  -1⎦"
      ]
     },
     "metadata": {},
     "output_type": "display_data"
    },
    {
     "name": "stdout",
     "output_type": "stream",
     "text": [
      "\n",
      "After RREF:\n"
     ]
    },
    {
     "data": {
      "text/latex": [
       "$\\displaystyle \\left[\\begin{matrix}1 & 0 & -1 & 0 & \\frac{1}{2} & - \\frac{1}{2}\\\\0 & 1 & \\frac{2}{3} & 0 & - \\frac{1}{6} & \\frac{1}{2}\\\\0 & 0 & 0 & 1 & 1 & -2\\\\0 & 0 & 0 & 0 & 0 & 0\\end{matrix}\\right]$"
      ],
      "text/plain": [
       "⎡1  0  -1   0  1/2   -1/2⎤\n",
       "⎢                        ⎥\n",
       "⎢0  1  2/3  0  -1/6  1/2 ⎥\n",
       "⎢                        ⎥\n",
       "⎢0  0   0   1   1     -2 ⎥\n",
       "⎢                        ⎥\n",
       "⎣0  0   0   0   0     0  ⎦"
      ]
     },
     "metadata": {},
     "output_type": "display_data"
    },
    {
     "name": "stdout",
     "output_type": "stream",
     "text": [
      "\n",
      "Check if span(other) is subspace of span(self)\n",
      "\n",
      "Before RREF: [self | other]\n"
     ]
    },
    {
     "data": {
      "text/latex": [
       "$\\displaystyle \\left[\\begin{matrix}2 & 0 & 2 & 0 & 12 & 8\\\\2 & 1 & 2 & 3 & 15 & 7\\\\1 & 1 & 1 & 3 & 9 & 3\\\\3 & 0 & -1 & -4 & 6 & 8\\end{matrix}\\right]$"
      ],
      "text/plain": [
       "⎡2  0  2   0   12  8⎤\n",
       "⎢                   ⎥\n",
       "⎢2  1  2   3   15  7⎥\n",
       "⎢                   ⎥\n",
       "⎢1  1  1   3   9   3⎥\n",
       "⎢                   ⎥\n",
       "⎣3  0  -1  -4  6   8⎦"
      ]
     },
     "metadata": {},
     "output_type": "display_data"
    },
    {
     "name": "stdout",
     "output_type": "stream",
     "text": [
      "\n",
      "After RREF:\n"
     ]
    },
    {
     "data": {
      "text/latex": [
       "$\\displaystyle \\left[\\begin{matrix}1 & 0 & 0 & -1 & 3 & 3\\\\0 & 1 & 0 & 3 & 3 & -1\\\\0 & 0 & 1 & 1 & 3 & 1\\\\0 & 0 & 0 & 0 & 0 & 0\\end{matrix}\\right]$"
      ],
      "text/plain": [
       "⎡1  0  0  -1  3  3 ⎤\n",
       "⎢                  ⎥\n",
       "⎢0  1  0  3   3  -1⎥\n",
       "⎢                  ⎥\n",
       "⎢0  0  1  1   3  1 ⎥\n",
       "⎢                  ⎥\n",
       "⎣0  0  0  0   0  0 ⎦"
      ]
     },
     "metadata": {},
     "output_type": "display_data"
    },
    {
     "data": {
      "text/plain": [
       "False"
      ]
     },
     "execution_count": 18,
     "metadata": {},
     "output_type": "execute_result"
    }
   ],
   "source": [
    "A1 = Matrix([[0, 3, 3, -4],\n",
    "             [12, 15, 9, 6],\n",
    "             [8, 7, 3, 8]])\n",
    "\n",
    "A.T.is_same_subspace(A1.T)"
   ]
  },
  {
   "cell_type": "code",
   "execution_count": 20,
   "metadata": {},
   "outputs": [
    {
     "name": "stdout",
     "output_type": "stream",
     "text": [
      "Check if span(self) is subspace of span(other)\n",
      "\n",
      "Before RREF: [other | self]\n"
     ]
    },
    {
     "data": {
      "text/latex": [
       "$\\displaystyle \\left[\\begin{matrix}2 & 6 & 8 & 2 & 0 & 2\\\\5 & 6 & 10 & 2 & 1 & 2\\\\4 & 3 & 6 & 1 & 1 & 1\\\\-1 & 5 & 8 & 3 & 0 & -1\\end{matrix}\\right]$"
      ],
      "text/plain": [
       "⎡2   6  8   2  0  2 ⎤\n",
       "⎢                   ⎥\n",
       "⎢5   6  10  2  1  2 ⎥\n",
       "⎢                   ⎥\n",
       "⎢4   3  6   1  1  1 ⎥\n",
       "⎢                   ⎥\n",
       "⎣-1  5  8   3  0  -1⎦"
      ]
     },
     "metadata": {},
     "output_type": "display_data"
    },
    {
     "name": "stdout",
     "output_type": "stream",
     "text": [
      "\n",
      "After RREF:\n"
     ]
    },
    {
     "data": {
      "text/latex": [
       "$\\displaystyle \\left[\\begin{matrix}1 & 0 & 0 & - \\frac{2}{7} & \\frac{1}{7} & \\frac{4}{7}\\\\0 & 1 & 0 & - \\frac{1}{7} & - \\frac{3}{7} & \\frac{9}{7}\\\\0 & 0 & 1 & \\frac{3}{7} & \\frac{2}{7} & - \\frac{6}{7}\\\\0 & 0 & 0 & 0 & 0 & 0\\end{matrix}\\right]$"
      ],
      "text/plain": [
       "⎡1  0  0  -2/7  1/7   4/7 ⎤\n",
       "⎢                         ⎥\n",
       "⎢0  1  0  -1/7  -3/7  9/7 ⎥\n",
       "⎢                         ⎥\n",
       "⎢0  0  1  3/7   2/7   -6/7⎥\n",
       "⎢                         ⎥\n",
       "⎣0  0  0   0     0     0  ⎦"
      ]
     },
     "metadata": {},
     "output_type": "display_data"
    },
    {
     "name": "stdout",
     "output_type": "stream",
     "text": [
      "\n",
      "Check if span(other) is subspace of span(self)\n",
      "\n",
      "Before RREF: [self | other]\n"
     ]
    },
    {
     "data": {
      "text/latex": [
       "$\\displaystyle \\left[\\begin{matrix}2 & 0 & 2 & 2 & 6 & 8\\\\2 & 1 & 2 & 5 & 6 & 10\\\\1 & 1 & 1 & 4 & 3 & 6\\\\3 & 0 & -1 & -1 & 5 & 8\\end{matrix}\\right]$"
      ],
      "text/plain": [
       "⎡2  0  2   2   6  8 ⎤\n",
       "⎢                   ⎥\n",
       "⎢2  1  2   5   6  10⎥\n",
       "⎢                   ⎥\n",
       "⎢1  1  1   4   3  6 ⎥\n",
       "⎢                   ⎥\n",
       "⎣3  0  -1  -1  5  8 ⎦"
      ]
     },
     "metadata": {},
     "output_type": "display_data"
    },
    {
     "name": "stdout",
     "output_type": "stream",
     "text": [
      "\n",
      "After RREF:\n"
     ]
    },
    {
     "data": {
      "text/latex": [
       "$\\displaystyle \\left[\\begin{matrix}1 & 0 & 0 & 0 & 2 & 3\\\\0 & 1 & 0 & 3 & 0 & 2\\\\0 & 0 & 1 & 1 & 1 & 1\\\\0 & 0 & 0 & 0 & 0 & 0\\end{matrix}\\right]$"
      ],
      "text/plain": [
       "⎡1  0  0  0  2  3⎤\n",
       "⎢                ⎥\n",
       "⎢0  1  0  3  0  2⎥\n",
       "⎢                ⎥\n",
       "⎢0  0  1  1  1  1⎥\n",
       "⎢                ⎥\n",
       "⎣0  0  0  0  0  0⎦"
      ]
     },
     "metadata": {},
     "output_type": "display_data"
    },
    {
     "data": {
      "text/plain": [
       "True"
      ]
     },
     "execution_count": 20,
     "metadata": {},
     "output_type": "execute_result"
    }
   ],
   "source": [
    "B = Matrix([[2, 5, 4, -1],\n",
    "            [6, 6, 3, 5],\n",
    "            [8, 10, 6, 8]])\n",
    "\n",
    "A.T.is_same_subspace(B.T)"
   ]
  },
  {
   "cell_type": "code",
   "execution_count": 22,
   "metadata": {},
   "outputs": [
    {
     "name": "stdout",
     "output_type": "stream",
     "text": [
      "Check if span(self) is subspace of span(other)\n",
      "\n",
      "Before RREF: [other | self]\n"
     ]
    },
    {
     "data": {
      "text/latex": [
       "$\\displaystyle \\left[\\begin{matrix}2 & 0 & 2 & 6 & 2 & 4\\\\2 & 1 & 2 & 7 & 13 & 4\\\\1 & 1 & 1 & 4 & 7 & 2\\\\3 & 0 & -1 & -3 & 6 & 2\\end{matrix}\\right]$"
      ],
      "text/plain": [
       "⎡2  0  2   6   2   4⎤\n",
       "⎢                   ⎥\n",
       "⎢2  1  2   7   13  4⎥\n",
       "⎢                   ⎥\n",
       "⎢1  1  1   4   7   2⎥\n",
       "⎢                   ⎥\n",
       "⎣3  0  -1  -3  6   2⎦"
      ]
     },
     "metadata": {},
     "output_type": "display_data"
    },
    {
     "name": "stdout",
     "output_type": "stream",
     "text": [
      "\n",
      "After RREF:\n"
     ]
    },
    {
     "data": {
      "text/latex": [
       "$\\displaystyle \\left[\\begin{matrix}1 & 0 & 0 & 0 & 0 & 1\\\\0 & 1 & 0 & 1 & 0 & 0\\\\0 & 0 & 1 & 3 & 0 & 1\\\\0 & 0 & 0 & 0 & 1 & 0\\end{matrix}\\right]$"
      ],
      "text/plain": [
       "⎡1  0  0  0  0  1⎤\n",
       "⎢                ⎥\n",
       "⎢0  1  0  1  0  0⎥\n",
       "⎢                ⎥\n",
       "⎢0  0  1  3  0  1⎥\n",
       "⎢                ⎥\n",
       "⎣0  0  0  0  1  0⎦"
      ]
     },
     "metadata": {},
     "output_type": "display_data"
    },
    {
     "name": "stdout",
     "output_type": "stream",
     "text": [
      "\n",
      "Check if span(other) is subspace of span(self)\n",
      "\n",
      "Before RREF: [self | other]\n"
     ]
    },
    {
     "data": {
      "text/latex": [
       "$\\displaystyle \\left[\\begin{matrix}6 & 2 & 4 & 2 & 0 & 2\\\\7 & 13 & 4 & 2 & 1 & 2\\\\4 & 7 & 2 & 1 & 1 & 1\\\\-3 & 6 & 2 & 3 & 0 & -1\\end{matrix}\\right]$"
      ],
      "text/plain": [
       "⎡6   2   4  2  0  2 ⎤\n",
       "⎢                   ⎥\n",
       "⎢7   13  4  2  1  2 ⎥\n",
       "⎢                   ⎥\n",
       "⎢4   7   2  1  1  1 ⎥\n",
       "⎢                   ⎥\n",
       "⎣-3  6   2  3  0  -1⎦"
      ]
     },
     "metadata": {},
     "output_type": "display_data"
    },
    {
     "name": "stdout",
     "output_type": "stream",
     "text": [
      "\n",
      "After RREF:\n"
     ]
    },
    {
     "data": {
      "text/latex": [
       "$\\displaystyle \\left[\\begin{matrix}1 & 0 & 0 & 0 & 1 & 0\\\\0 & 1 & 0 & 0 & 0 & 0\\\\0 & 0 & 1 & 0 & -3 & 1\\\\0 & 0 & 0 & 1 & 3 & -1\\end{matrix}\\right]$"
      ],
      "text/plain": [
       "⎡1  0  0  0  1   0 ⎤\n",
       "⎢                  ⎥\n",
       "⎢0  1  0  0  0   0 ⎥\n",
       "⎢                  ⎥\n",
       "⎢0  0  1  0  -3  1 ⎥\n",
       "⎢                  ⎥\n",
       "⎣0  0  0  1  3   -1⎦"
      ]
     },
     "metadata": {},
     "output_type": "display_data"
    },
    {
     "data": {
      "text/plain": [
       "False"
      ]
     },
     "execution_count": 22,
     "metadata": {},
     "output_type": "execute_result"
    }
   ],
   "source": [
    "C = Matrix([[6, 7, 4, -3],\n",
    "            [2, 13, 7, 6],\n",
    "            [4, 4, 2, 2]])\n",
    "\n",
    "C.T.is_same_subspace(A.T)"
   ]
  },
  {
   "cell_type": "code",
   "execution_count": 23,
   "metadata": {},
   "outputs": [
    {
     "name": "stdout",
     "output_type": "stream",
     "text": [
      "Check if span(self) is subspace of span(other)\n",
      "\n",
      "Before RREF: [other | self]\n"
     ]
    },
    {
     "data": {
      "text/latex": [
       "$\\displaystyle \\left[\\begin{matrix}2 & 0 & 2 & 2 & 8 & 2\\\\2 & 1 & 2 & 2 & 7 & 5\\\\1 & 1 & 1 & 1 & 3 & 4\\\\3 & 0 & -1 & 3 & 4 & 7\\end{matrix}\\right]$"
      ],
      "text/plain": [
       "⎡2  0  2   2  8  2⎤\n",
       "⎢                 ⎥\n",
       "⎢2  1  2   2  7  5⎥\n",
       "⎢                 ⎥\n",
       "⎢1  1  1   1  3  4⎥\n",
       "⎢                 ⎥\n",
       "⎣3  0  -1  3  4  7⎦"
      ]
     },
     "metadata": {},
     "output_type": "display_data"
    },
    {
     "name": "stdout",
     "output_type": "stream",
     "text": [
      "\n",
      "After RREF:\n"
     ]
    },
    {
     "data": {
      "text/latex": [
       "$\\displaystyle \\left[\\begin{matrix}1 & 0 & 0 & 1 & 2 & 2\\\\0 & 1 & 0 & 0 & -1 & 3\\\\0 & 0 & 1 & 0 & 2 & -1\\\\0 & 0 & 0 & 0 & 0 & 0\\end{matrix}\\right]$"
      ],
      "text/plain": [
       "⎡1  0  0  1  2   2 ⎤\n",
       "⎢                  ⎥\n",
       "⎢0  1  0  0  -1  3 ⎥\n",
       "⎢                  ⎥\n",
       "⎢0  0  1  0  2   -1⎥\n",
       "⎢                  ⎥\n",
       "⎣0  0  0  0  0   0 ⎦"
      ]
     },
     "metadata": {},
     "output_type": "display_data"
    },
    {
     "name": "stdout",
     "output_type": "stream",
     "text": [
      "\n",
      "Check if span(other) is subspace of span(self)\n",
      "\n",
      "Before RREF: [self | other]\n"
     ]
    },
    {
     "data": {
      "text/latex": [
       "$\\displaystyle \\left[\\begin{matrix}2 & 8 & 2 & 2 & 0 & 2\\\\2 & 7 & 5 & 2 & 1 & 2\\\\1 & 3 & 4 & 1 & 1 & 1\\\\3 & 4 & 7 & 3 & 0 & -1\\end{matrix}\\right]$"
      ],
      "text/plain": [
       "⎡2  8  2  2  0  2 ⎤\n",
       "⎢                 ⎥\n",
       "⎢2  7  5  2  1  2 ⎥\n",
       "⎢                 ⎥\n",
       "⎢1  3  4  1  1  1 ⎥\n",
       "⎢                 ⎥\n",
       "⎣3  4  7  3  0  -1⎦"
      ]
     },
     "metadata": {},
     "output_type": "display_data"
    },
    {
     "name": "stdout",
     "output_type": "stream",
     "text": [
      "\n",
      "After RREF:\n"
     ]
    },
    {
     "data": {
      "text/latex": [
       "$\\displaystyle \\left[\\begin{matrix}1 & 0 & 0 & 1 & - \\frac{6}{5} & - \\frac{8}{5}\\\\0 & 1 & 0 & 0 & \\frac{1}{5} & \\frac{3}{5}\\\\0 & 0 & 1 & 0 & \\frac{2}{5} & \\frac{1}{5}\\\\0 & 0 & 0 & 0 & 0 & 0\\end{matrix}\\right]$"
      ],
      "text/plain": [
       "⎡1  0  0  1  -6/5  -8/5⎤\n",
       "⎢                      ⎥\n",
       "⎢0  1  0  0  1/5   3/5 ⎥\n",
       "⎢                      ⎥\n",
       "⎢0  0  1  0  2/5   1/5 ⎥\n",
       "⎢                      ⎥\n",
       "⎣0  0  0  0   0     0  ⎦"
      ]
     },
     "metadata": {},
     "output_type": "display_data"
    },
    {
     "data": {
      "text/plain": [
       "True"
      ]
     },
     "execution_count": 23,
     "metadata": {},
     "output_type": "execute_result"
    }
   ],
   "source": [
    "D = Matrix([[2, 2, 1, 3],\n",
    "            [8, 7, 3, 4],\n",
    "            [2, 5, 4, 7]])\n",
    "\n",
    "D.T.is_same_subspace(A.T)"
   ]
  },
  {
   "cell_type": "markdown",
   "metadata": {},
   "source": [
    "# 10"
   ]
  },
  {
   "cell_type": "code",
   "execution_count": 39,
   "metadata": {},
   "outputs": [
    {
     "data": {
      "text/latex": [
       "$\\displaystyle \\left[\\begin{matrix}r_{1,1} & r_{1,2} & r_{1,3}\\\\0 & \\frac{\\sqrt{2} r_{2,2}}{2} & \\frac{\\sqrt{2} r_{2,3}}{2} + \\frac{\\sqrt{3} r_{3,3}}{3}\\\\0 & \\frac{\\sqrt{2} r_{2,2}}{2} & \\frac{\\sqrt{2} r_{2,3}}{2} - \\frac{\\sqrt{3} r_{3,3}}{3}\\\\0 & 0 & \\frac{\\sqrt{3} r_{3,3}}{3}\\end{matrix}\\right]$"
      ],
      "text/plain": [
       "⎡r_1,1   r_1,2           r_1,3       ⎤\n",
       "⎢                                    ⎥\n",
       "⎢       √2⋅r_2,2  √2⋅r_2,3   √3⋅r_3,3⎥\n",
       "⎢  0    ────────  ──────── + ────────⎥\n",
       "⎢          2         2          3    ⎥\n",
       "⎢                                    ⎥\n",
       "⎢       √2⋅r_2,2  √2⋅r_2,3   √3⋅r_3,3⎥\n",
       "⎢  0    ────────  ──────── - ────────⎥\n",
       "⎢          2         2          3    ⎥\n",
       "⎢                                    ⎥\n",
       "⎢                      √3⋅r_3,3      ⎥\n",
       "⎢  0       0           ────────      ⎥\n",
       "⎣                         3          ⎦"
      ]
     },
     "execution_count": 39,
     "metadata": {},
     "output_type": "execute_result"
    }
   ],
   "source": [
    "Q = Matrix([[1, 0, 0],\n",
    "            [0, 1, 1],\n",
    "            [0, 1, -1],\n",
    "            [0, 0, 1]]).normalized()\n",
    "\n",
    "R = Matrix.create_unk_matrix(3, 3, 'r')\n",
    "R= R.upper_triangular()\n",
    "Q @ R"
   ]
  },
  {
   "cell_type": "code",
   "execution_count": 44,
   "metadata": {},
   "outputs": [
    {
     "data": {
      "text/latex": [
       "$\\displaystyle \\left[\\begin{matrix}1\\\\\\frac{4}{3}\\\\\\frac{2}{3}\\\\\\frac{1}{3}\\end{matrix}\\right]$"
      ],
      "text/plain": [
       "⎡ 1 ⎤\n",
       "⎢   ⎥\n",
       "⎢4/3⎥\n",
       "⎢   ⎥\n",
       "⎢2/3⎥\n",
       "⎢   ⎥\n",
       "⎣1/3⎦"
      ]
     },
     "execution_count": 44,
     "metadata": {},
     "output_type": "execute_result"
    }
   ],
   "source": [
    "(Q @ Q.T) @ Matrix([1, 1, 1, 1])"
   ]
  },
  {
   "cell_type": "markdown",
   "metadata": {},
   "source": [
    "# 11"
   ]
  },
  {
   "cell_type": "code",
   "execution_count": 28,
   "metadata": {},
   "outputs": [
    {
     "data": {
      "text/latex": [
       "$\\displaystyle \\left( \\left[\\begin{matrix}1 & 0 & 0 & 0\\\\0 & 1 & 0 & 0\\\\0 & 0 & 1 & 0\\\\0 & 0 & 0 & 1\\end{matrix}\\right], \\  \\left( 0, \\  1, \\  2, \\  3\\right)\\right)$"
      ],
      "text/plain": [
       "⎛⎡1  0  0  0⎤              ⎞\n",
       "⎜⎢          ⎥              ⎟\n",
       "⎜⎢0  1  0  0⎥              ⎟\n",
       "⎜⎢          ⎥, (0, 1, 2, 3)⎟\n",
       "⎜⎢0  0  1  0⎥              ⎟\n",
       "⎜⎢          ⎥              ⎟\n",
       "⎝⎣0  0  0  1⎦              ⎠"
      ]
     },
     "execution_count": 28,
     "metadata": {},
     "output_type": "execute_result"
    }
   ],
   "source": [
    "A = Matrix([[-1, -1, 0],\n",
    "            [1, 1, -1],\n",
    "            [2, 0, 2],\n",
    "            [2, -1, 0]])\n",
    "\n",
    "A.row_join(Matrix([3, -5, 3, 6])).rref()"
   ]
  },
  {
   "cell_type": "markdown",
   "metadata": {},
   "source": [
    "#13"
   ]
  },
  {
   "cell_type": "code",
   "execution_count": 31,
   "metadata": {},
   "outputs": [
    {
     "data": {
      "text/latex": [
       "$\\displaystyle \\left[\\begin{matrix}0.222222222222222\\\\0.358024691358025\\\\0.419753086419753\\end{matrix}\\right]$"
      ],
      "text/plain": [
       "⎡0.222222222222222⎤\n",
       "⎢                 ⎥\n",
       "⎢0.358024691358025⎥\n",
       "⎢                 ⎥\n",
       "⎣0.419753086419753⎦"
      ]
     },
     "execution_count": 31,
     "metadata": {},
     "output_type": "execute_result"
    }
   ],
   "source": [
    "A = Matrix([[0.3, 0.2, 0.2],\n",
    "            [0.4, 0.4, 0.3],\n",
    "            [0.3, 0.4, 0.5]]).simplify()\n",
    "\n",
    "A.equilibrium_vectors().evalf()"
   ]
  },
  {
   "cell_type": "markdown",
   "metadata": {},
   "source": [
    "# 14"
   ]
  },
  {
   "cell_type": "code",
   "execution_count": 33,
   "metadata": {},
   "outputs": [
    {
     "name": "stdout",
     "output_type": "stream",
     "text": [
      "Characteristic Polynomial\n"
     ]
    },
    {
     "data": {
      "text/latex": [
       "$\\displaystyle \\left(x - 9\\right) \\left(x - 4\\right)^{2}$"
      ],
      "text/plain": [
       "               2\n",
       "(x - 9)⋅(x - 4) "
      ]
     },
     "metadata": {},
     "output_type": "display_data"
    },
    {
     "name": "stdout",
     "output_type": "stream",
     "text": [
      "Original: (9)I - A\n"
     ]
    },
    {
     "data": {
      "text/latex": [
       "$\\displaystyle \\left[\\begin{matrix}4 & 2 & 0\\\\2 & 1 & 0\\\\0 & 0 & 5\\end{matrix}\\right]$"
      ],
      "text/plain": [
       "⎡4  2  0⎤\n",
       "⎢       ⎥\n",
       "⎢2  1  0⎥\n",
       "⎢       ⎥\n",
       "⎣0  0  5⎦"
      ]
     },
     "metadata": {},
     "output_type": "display_data"
    },
    {
     "name": "stdout",
     "output_type": "stream",
     "text": [
      "\n",
      "After RREF:\n"
     ]
    },
    {
     "data": {
      "text/latex": [
       "$\\displaystyle \\left( \\left[\\begin{matrix}1 & \\frac{1}{2} & 0\\\\0 & 0 & 1\\\\0 & 0 & 0\\end{matrix}\\right], \\  \\left( 0, \\  2\\right)\\right)$"
      ],
      "text/plain": [
       "⎛⎡1  1/2  0⎤        ⎞\n",
       "⎜⎢         ⎥        ⎟\n",
       "⎜⎢0   0   1⎥, (0, 2)⎟\n",
       "⎜⎢         ⎥        ⎟\n",
       "⎝⎣0   0   0⎦        ⎠"
      ]
     },
     "metadata": {},
     "output_type": "display_data"
    },
    {
     "name": "stdout",
     "output_type": "stream",
     "text": [
      "\n",
      "Eigenvectors:\n"
     ]
    },
    {
     "data": {
      "text/latex": [
       "$\\displaystyle \\left[ \\left[\\begin{matrix}- \\frac{1}{2}\\\\1\\\\0\\end{matrix}\\right]\\right]$"
      ],
      "text/plain": [
       "⎡⎡-1/2⎤⎤\n",
       "⎢⎢    ⎥⎥\n",
       "⎢⎢ 1  ⎥⎥\n",
       "⎢⎢    ⎥⎥\n",
       "⎣⎣ 0  ⎦⎦"
      ]
     },
     "metadata": {},
     "output_type": "display_data"
    },
    {
     "name": "stdout",
     "output_type": "stream",
     "text": [
      "\n",
      "\n",
      "Original: (4)I - A\n"
     ]
    },
    {
     "data": {
      "text/latex": [
       "$\\displaystyle \\left[\\begin{matrix}-1 & 2 & 0\\\\2 & -4 & 0\\\\0 & 0 & 0\\end{matrix}\\right]$"
      ],
      "text/plain": [
       "⎡-1  2   0⎤\n",
       "⎢         ⎥\n",
       "⎢2   -4  0⎥\n",
       "⎢         ⎥\n",
       "⎣0   0   0⎦"
      ]
     },
     "metadata": {},
     "output_type": "display_data"
    },
    {
     "name": "stdout",
     "output_type": "stream",
     "text": [
      "\n",
      "After RREF:\n"
     ]
    },
    {
     "data": {
      "text/latex": [
       "$\\displaystyle \\left( \\left[\\begin{matrix}1 & -2 & 0\\\\0 & 0 & 0\\\\0 & 0 & 0\\end{matrix}\\right], \\  \\left( 0,\\right)\\right)$"
      ],
      "text/plain": [
       "⎛⎡1  -2  0⎤      ⎞\n",
       "⎜⎢        ⎥      ⎟\n",
       "⎜⎢0  0   0⎥, (0,)⎟\n",
       "⎜⎢        ⎥      ⎟\n",
       "⎝⎣0  0   0⎦      ⎠"
      ]
     },
     "metadata": {},
     "output_type": "display_data"
    },
    {
     "name": "stdout",
     "output_type": "stream",
     "text": [
      "\n",
      "Eigenvectors:\n"
     ]
    },
    {
     "data": {
      "text/latex": [
       "$\\displaystyle \\left[ \\left[\\begin{matrix}2\\\\1\\\\0\\end{matrix}\\right], \\  \\left[\\begin{matrix}0\\\\0\\\\1\\end{matrix}\\right]\\right]$"
      ],
      "text/plain": [
       "⎡⎡2⎤  ⎡0⎤⎤\n",
       "⎢⎢ ⎥  ⎢ ⎥⎥\n",
       "⎢⎢1⎥, ⎢0⎥⎥\n",
       "⎢⎢ ⎥  ⎢ ⎥⎥\n",
       "⎣⎣0⎦  ⎣1⎦⎦"
      ]
     },
     "metadata": {},
     "output_type": "display_data"
    },
    {
     "name": "stdout",
     "output_type": "stream",
     "text": [
      "\n",
      "\n",
      "Eigenvalue:  4\n",
      "[Gram Schmidt Process]\n"
     ]
    },
    {
     "data": {
      "text/latex": [
       "$\\displaystyle v_1 = \\left[\\begin{matrix}2\\\\1\\\\0\\end{matrix}\\right]$"
      ],
      "text/plain": [
       "<IPython.core.display.Math object>"
      ]
     },
     "metadata": {},
     "output_type": "display_data"
    },
    {
     "data": {
      "text/latex": [
       "$\\displaystyle v_2 = \\left[\\begin{matrix}0\\\\0\\\\1\\end{matrix}\\right]- (0/5) \\left[\\begin{matrix}2\\\\1\\\\0\\end{matrix}\\right] = 1 \\left[\\begin{matrix}0\\\\0\\\\1\\end{matrix}\\right]$"
      ],
      "text/plain": [
       "<IPython.core.display.Math object>"
      ]
     },
     "metadata": {},
     "output_type": "display_data"
    },
    {
     "data": {
      "text/latex": [
       "$\\displaystyle \\left( \\left[\\begin{matrix}\\frac{2 \\sqrt{5}}{5} & 0 & - \\frac{\\sqrt{5}}{5}\\\\\\frac{\\sqrt{5}}{5} & 0 & \\frac{2 \\sqrt{5}}{5}\\\\0 & 1 & 0\\end{matrix}\\right], \\  \\left[\\begin{matrix}4 & 0 & 0\\\\0 & 4 & 0\\\\0 & 0 & 9\\end{matrix}\\right]\\right)$"
      ],
      "text/plain": [
       "⎛⎡2⋅√5     -√5 ⎤           ⎞\n",
       "⎜⎢────  0  ────⎥           ⎟\n",
       "⎜⎢ 5        5  ⎥  ⎡4  0  0⎤⎟\n",
       "⎜⎢             ⎥  ⎢       ⎥⎟\n",
       "⎜⎢ √5      2⋅√5⎥, ⎢0  4  0⎥⎟\n",
       "⎜⎢ ──   0  ────⎥  ⎢       ⎥⎟\n",
       "⎜⎢ 5        5  ⎥  ⎣0  0  9⎦⎟\n",
       "⎜⎢             ⎥           ⎟\n",
       "⎝⎣ 0    1   0  ⎦           ⎠"
      ]
     },
     "execution_count": 33,
     "metadata": {},
     "output_type": "execute_result"
    }
   ],
   "source": [
    "ATA = Matrix([[5, -2, 0],\n",
    "              [-2, 8, 0],\n",
    "              [0, 0, 4]])\n",
    "\n",
    "ATA.orthogonally_diagonalize()"
   ]
  },
  {
   "cell_type": "markdown",
   "metadata": {},
   "source": [
    "# 15"
   ]
  },
  {
   "cell_type": "code",
   "execution_count": 37,
   "metadata": {},
   "outputs": [
    {
     "data": {
      "text/latex": [
       "$\\displaystyle \\left[\\begin{matrix}1\\\\1\\\\2\\\\-1\\end{matrix}\\right]$"
      ],
      "text/plain": [
       "⎡1 ⎤\n",
       "⎢  ⎥\n",
       "⎢1 ⎥\n",
       "⎢  ⎥\n",
       "⎢2 ⎥\n",
       "⎢  ⎥\n",
       "⎣-1⎦"
      ]
     },
     "execution_count": 37,
     "metadata": {},
     "output_type": "execute_result"
    }
   ],
   "source": [
    "T = Matrix([[2, 2, 1, 5],\n",
    "            [1, -1, 4, 1],\n",
    "            [0, 1, -1, -1]]).T\n",
    "\n",
    "T @ Matrix([0, 1, 2])"
   ]
  },
  {
   "cell_type": "markdown",
   "metadata": {},
   "source": [
    "# 1"
   ]
  },
  {
   "cell_type": "code",
   "execution_count": 54,
   "metadata": {},
   "outputs": [
    {
     "data": {
      "text/latex": [
       "$\\displaystyle \\left[\\begin{matrix}- l_{1,1} & l_{1,1} & 7 l_{1,1} & - l_{1,1}\\\\- l_{2,1} & l_{2,1} + 4 l_{2,2} & 7 l_{2,1} + 12 l_{2,2} & - l_{2,1} + 2 l_{2,2}\\\\- l_{3,1} & l_{3,1} + 4 l_{3,2} & 7 l_{3,1} + 12 l_{3,2} & - l_{3,1} + 2 l_{3,2} - l_{3,3}\\end{matrix}\\right]$"
      ],
      "text/plain": [
       "⎡-l_1,1       l_1,1            7⋅l_1,1                 -l_1,1         ⎤\n",
       "⎢                                                                     ⎥\n",
       "⎢-l_2,1  l_2,1 + 4⋅l_2,2  7⋅l_2,1 + 12⋅l_2,2      -l_2,1 + 2⋅l_2,2    ⎥\n",
       "⎢                                                                     ⎥\n",
       "⎣-l_3,1  l_3,1 + 4⋅l_3,2  7⋅l_3,1 + 12⋅l_3,2  -l_3,1 + 2⋅l_3,2 - l_3,3⎦"
      ]
     },
     "execution_count": 54,
     "metadata": {},
     "output_type": "execute_result"
    }
   ],
   "source": [
    "U = Matrix([[-1, 1, 7, -1],\n",
    "            [0, 4, 12, 2],\n",
    "            [0, 0, 0, -1]])\n",
    "\n",
    "L = Matrix.create_unk_matrix(3, 3, 'l').lower_triangular()\n",
    "\n",
    "A = L @ U\n",
    "A"
   ]
  },
  {
   "cell_type": "code",
   "execution_count": 55,
   "metadata": {},
   "outputs": [
    {
     "data": {
      "text/latex": [
       "$\\displaystyle \\left[\\begin{matrix}l_{1,1} & 0 & 0\\\\l_{2,1} & l_{2,2} & 0\\\\l_{3,1} & l_{3,2} & l_{3,3}\\end{matrix}\\right]$"
      ],
      "text/plain": [
       "⎡l_1,1    0      0  ⎤\n",
       "⎢                   ⎥\n",
       "⎢l_2,1  l_2,2    0  ⎥\n",
       "⎢                   ⎥\n",
       "⎣l_3,1  l_3,2  l_3,3⎦"
      ]
     },
     "execution_count": 55,
     "metadata": {},
     "output_type": "execute_result"
    }
   ],
   "source": [
    "L"
   ]
  },
  {
   "cell_type": "code",
   "execution_count": 63,
   "metadata": {},
   "outputs": [
    {
     "data": {
      "text/latex": [
       "$\\displaystyle \\left[\\begin{matrix}4\\\\14\\\\17\\end{matrix}\\right]$"
      ],
      "text/plain": [
       "⎡4 ⎤\n",
       "⎢  ⎥\n",
       "⎢14⎥\n",
       "⎢  ⎥\n",
       "⎣17⎦"
      ]
     },
     "execution_count": 63,
     "metadata": {},
     "output_type": "execute_result"
    }
   ],
   "source": [
    "A @ Matrix([1, -1, 1, 1])"
   ]
  },
  {
   "cell_type": "code",
   "execution_count": 64,
   "metadata": {},
   "outputs": [
    {
     "data": {
      "text/latex": [
       "$\\displaystyle \\left[\\begin{matrix}2\\\\4\\\\7\\end{matrix}\\right]$"
      ],
      "text/plain": [
       "⎡2⎤\n",
       "⎢ ⎥\n",
       "⎢4⎥\n",
       "⎢ ⎥\n",
       "⎣7⎦"
      ]
     },
     "execution_count": 64,
     "metadata": {},
     "output_type": "execute_result"
    }
   ],
   "source": [
    "A @ Matrix([0, 1, 0, -1])"
   ]
  },
  {
   "cell_type": "code",
   "execution_count": 58,
   "metadata": {},
   "outputs": [
    {
     "data": {
      "text/latex": [
       "$\\displaystyle \\left( \\left[\\begin{matrix}1 & 0 & 0 & 0 & 0 & 0 & 1\\\\0 & 1 & 0 & 0 & 0 & 0 & 1\\\\0 & 0 & 1 & 0 & 0 & 0 & 1\\\\0 & 0 & 0 & 1 & 0 & 1 & 3\\\\0 & 0 & 0 & 0 & 1 & - \\frac{1}{2} & \\frac{1}{2}\\\\0 & 0 & 0 & 0 & 0 & 0 & 0\\end{matrix}\\right], \\  \\left( 0, \\  1, \\  2, \\  3, \\  4\\right)\\right)$"
      ],
      "text/plain": [
       "⎛⎡1  0  0  0  0   0     1 ⎤                 ⎞\n",
       "⎜⎢                        ⎥                 ⎟\n",
       "⎜⎢0  1  0  0  0   0     1 ⎥                 ⎟\n",
       "⎜⎢                        ⎥                 ⎟\n",
       "⎜⎢0  0  1  0  0   0     1 ⎥                 ⎟\n",
       "⎜⎢                        ⎥, (0, 1, 2, 3, 4)⎟\n",
       "⎜⎢0  0  0  1  0   1     3 ⎥                 ⎟\n",
       "⎜⎢                        ⎥                 ⎟\n",
       "⎜⎢0  0  0  0  1  -1/2  1/2⎥                 ⎟\n",
       "⎜⎢                        ⎥                 ⎟\n",
       "⎝⎣0  0  0  0  0   0     0 ⎦                 ⎠"
      ]
     },
     "execution_count": 58,
     "metadata": {},
     "output_type": "execute_result"
    }
   ],
   "source": [
    "AM = Matrix([[4, 0, 0, 0, 0, 0, 4],\n",
    "             [0, 4, 10, 0, 0, 0, 14],\n",
    "             [0, 0, 0, 4, 10, -1, 17],\n",
    "             [2, 0, 0, 0, 0, 0, 2],\n",
    "             [0, 2, 2, 0, 0, 0, 4],\n",
    "             [0, 0, 0, 2, 2, 1, 7]])\n",
    "\n",
    "AM.rref()"
   ]
  },
  {
   "cell_type": "code",
   "execution_count": 62,
   "metadata": {},
   "outputs": [],
   "source": [
    "x = sym.symbols('x', is_real = True)\n",
    "tmp = Matrix([[1, 0, 0],\n",
    "              [1, 1, 0],\n",
    "              [-1+3*x, 0.5+x/2, x]]).simplify()\n",
    "\n",
    "A = (tmp @ U).subs({x: 1})"
   ]
  },
  {
   "cell_type": "code",
   "execution_count": 66,
   "metadata": {},
   "outputs": [
    {
     "data": {
      "text/latex": [
       "$\\displaystyle \\left( \\left[\\begin{matrix}1 & 0 & -4 & 0\\\\0 & 1 & 3 & 0\\\\0 & 0 & 0 & 1\\end{matrix}\\right], \\  \\left( 0, \\  1, \\  3\\right)\\right)$"
      ],
      "text/plain": [
       "⎛⎡1  0  -4  0⎤           ⎞\n",
       "⎜⎢           ⎥           ⎟\n",
       "⎜⎢0  1  3   0⎥, (0, 1, 3)⎟\n",
       "⎜⎢           ⎥           ⎟\n",
       "⎝⎣0  0  0   1⎦           ⎠"
      ]
     },
     "execution_count": 66,
     "metadata": {},
     "output_type": "execute_result"
    }
   ],
   "source": [
    "A.rref()"
   ]
  },
  {
   "cell_type": "code",
   "execution_count": 67,
   "metadata": {},
   "outputs": [
    {
     "data": {
      "text/latex": [
       "$\\displaystyle \\left[ \\left[\\begin{matrix}4\\\\-3\\\\1\\\\0\\end{matrix}\\right]\\right]$"
      ],
      "text/plain": [
       "⎡⎡4 ⎤⎤\n",
       "⎢⎢  ⎥⎥\n",
       "⎢⎢-3⎥⎥\n",
       "⎢⎢  ⎥⎥\n",
       "⎢⎢1 ⎥⎥\n",
       "⎢⎢  ⎥⎥\n",
       "⎣⎣0 ⎦⎦"
      ]
     },
     "execution_count": 67,
     "metadata": {},
     "output_type": "execute_result"
    }
   ],
   "source": [
    "A.nullspace()"
   ]
  },
  {
   "cell_type": "markdown",
   "metadata": {},
   "source": [
    "# 2"
   ]
  },
  {
   "cell_type": "code",
   "execution_count": 110,
   "metadata": {},
   "outputs": [
    {
     "data": {
      "text/latex": [
       "$\\displaystyle \\left[\\begin{matrix}1 & x_{1} & x_{1}^{2} & x_{1}^{3} & x_{1}^{4} & x_{1}^{5} & x_{1}^{6}\\\\1 & x_{2} & x_{2}^{2} & x_{2}^{3} & x_{2}^{4} & x_{2}^{5} & x_{2}^{6}\\\\1 & x_{3} & x_{3}^{2} & x_{3}^{3} & x_{3}^{4} & x_{3}^{5} & x_{3}^{6}\\\\1 & x_{4} & x_{4}^{2} & x_{4}^{3} & x_{4}^{4} & x_{4}^{5} & x_{4}^{6}\\\\1 & x_{5} & x_{5}^{2} & x_{5}^{3} & x_{5}^{4} & x_{5}^{5} & x_{5}^{6}\\\\1 & x_{6} & x_{6}^{2} & x_{6}^{3} & x_{6}^{4} & x_{6}^{5} & x_{6}^{6}\\\\1 & x_{7} & x_{7}^{2} & x_{7}^{3} & x_{7}^{4} & x_{7}^{5} & x_{7}^{6}\\end{matrix}\\right]$"
      ],
      "text/plain": [
       "⎡         2    3    4    5    6⎤\n",
       "⎢1  x₁  x₁   x₁   x₁   x₁   x₁ ⎥\n",
       "⎢                              ⎥\n",
       "⎢         2    3    4    5    6⎥\n",
       "⎢1  x₂  x₂   x₂   x₂   x₂   x₂ ⎥\n",
       "⎢                              ⎥\n",
       "⎢         2    3    4    5    6⎥\n",
       "⎢1  x₃  x₃   x₃   x₃   x₃   x₃ ⎥\n",
       "⎢                              ⎥\n",
       "⎢         2    3    4    5    6⎥\n",
       "⎢1  x₄  x₄   x₄   x₄   x₄   x₄ ⎥\n",
       "⎢                              ⎥\n",
       "⎢         2    3    4    5    6⎥\n",
       "⎢1  x₅  x₅   x₅   x₅   x₅   x₅ ⎥\n",
       "⎢                              ⎥\n",
       "⎢         2    3    4    5    6⎥\n",
       "⎢1  x₆  x₆   x₆   x₆   x₆   x₆ ⎥\n",
       "⎢                              ⎥\n",
       "⎢         2    3    4    5    6⎥\n",
       "⎣1  x₇  x₇   x₇   x₇   x₇   x₇ ⎦"
      ]
     },
     "execution_count": 110,
     "metadata": {},
     "output_type": "execute_result"
    }
   ],
   "source": [
    "P = Matrix.create_vander(7, 7)\n",
    "P"
   ]
  },
  {
   "cell_type": "code",
   "execution_count": 113,
   "metadata": {},
   "outputs": [
    {
     "data": {
      "text/latex": [
       "$\\displaystyle \\left[\\begin{matrix}-1 & - \\frac{3}{20} & 0 & 1 & \\frac{43}{20} & 3 & \\frac{33}{10}\\\\0 & 3 & 3 & 0 & -3 & 0 & 3\\end{matrix}\\right]$"
      ],
      "text/plain": [
       "⎡                 43     33⎤\n",
       "⎢-1  -3/20  0  1  ──  3  ──⎥\n",
       "⎢                 20     10⎥\n",
       "⎢                          ⎥\n",
       "⎣0     3    3  0  -3  0  3 ⎦"
      ]
     },
     "execution_count": 113,
     "metadata": {},
     "output_type": "execute_result"
    }
   ],
   "source": [
    "D = Matrix([[-1, -0.15, 0, 1, 2.15, 3, 3.3],\n",
    "            [0, 3, 3, 0, -3, 0, 3]]).simplify()\n",
    "D"
   ]
  },
  {
   "cell_type": "code",
   "execution_count": 114,
   "metadata": {},
   "outputs": [
    {
     "data": {
      "text/latex": [
       "$\\displaystyle \\left[\\begin{matrix}1 & -1 & 1 & -1 & 1 & -1 & 1\\\\1 & - \\frac{3}{20} & \\frac{9}{400} & - \\frac{27}{8000} & \\frac{81}{160000} & - \\frac{243}{3200000} & \\frac{729}{64000000}\\\\1 & 0 & 0 & 0 & 0 & 0 & 0\\\\1 & 1 & 1 & 1 & 1 & 1 & 1\\\\1 & \\frac{43}{20} & \\frac{1849}{400} & \\frac{79507}{8000} & \\frac{3418801}{160000} & \\frac{147008443}{3200000} & \\frac{6321363049}{64000000}\\\\1 & 3 & 9 & 27 & 81 & 243 & 729\\\\1 & \\frac{33}{10} & \\frac{1089}{100} & \\frac{35937}{1000} & \\frac{1185921}{10000} & \\frac{39135393}{100000} & \\frac{1291467969}{1000000}\\end{matrix}\\right]$"
      ],
      "text/plain": [
       "⎡1   -1      1     -1       1        -1          1     ⎤\n",
       "⎢                                                      ⎥\n",
       "⎢                 -27      81       -243        729    ⎥\n",
       "⎢1  -3/20  9/400  ────   ──────    ───────    ──────── ⎥\n",
       "⎢                 8000   160000    3200000    64000000 ⎥\n",
       "⎢                                                      ⎥\n",
       "⎢1    0      0      0       0         0          0     ⎥\n",
       "⎢                                                      ⎥\n",
       "⎢1    1      1      1       1         1          1     ⎥\n",
       "⎢                                                      ⎥\n",
       "⎢    43    1849   79507  3418801  147008443  6321363049⎥\n",
       "⎢1   ──    ────   ─────  ───────  ─────────  ──────────⎥\n",
       "⎢    20    400    8000   160000    3200000    64000000 ⎥\n",
       "⎢                                                      ⎥\n",
       "⎢1    3      9     27      81        243        729    ⎥\n",
       "⎢                                                      ⎥\n",
       "⎢    33    1089   35937  1185921  39135393   1291467969⎥\n",
       "⎢1   ──    ────   ─────  ───────  ────────   ──────────⎥\n",
       "⎣    10    100    1000    10000    100000     1000000  ⎦"
      ]
     },
     "execution_count": 114,
     "metadata": {},
     "output_type": "execute_result"
    }
   ],
   "source": [
    "A = P.apply_vander(D.select_rows(0).T)\n",
    "A"
   ]
  },
  {
   "cell_type": "code",
   "execution_count": 115,
   "metadata": {},
   "outputs": [
    {
     "data": {
      "text/latex": [
       "$\\displaystyle \\left( \\left[\\begin{matrix}1 & 0 & 0 & 0 & 0 & 0 & 0 & 3\\\\0 & 1 & 0 & 0 & 0 & 0 & 0 & - \\frac{102351887}{186775617}\\\\0 & 0 & 1 & 0 & 0 & 0 & 0 & - \\frac{221108787}{62258539}\\\\0 & 0 & 0 & 1 & 0 & 0 & 0 & \\frac{1281689783}{1680980553}\\\\0 & 0 & 0 & 0 & 1 & 0 & 0 & \\frac{881679590}{1680980553}\\\\0 & 0 & 0 & 0 & 0 & 1 & 0 & - \\frac{360522800}{1680980553}\\\\0 & 0 & 0 & 0 & 0 & 0 & 1 & \\frac{45316000}{1680980553}\\end{matrix}\\right], \\  \\left( 0, \\  1, \\  2, \\  3, \\  4, \\  5, \\  6\\right)\\right)$"
      ],
      "text/plain": [
       "⎛⎡1  0  0  0  0  0  0       3     ⎤                       ⎞\n",
       "⎜⎢                                ⎥                       ⎟\n",
       "⎜⎢                     -102351887 ⎥                       ⎟\n",
       "⎜⎢0  1  0  0  0  0  0  ───────────⎥                       ⎟\n",
       "⎜⎢                      186775617 ⎥                       ⎟\n",
       "⎜⎢                                ⎥                       ⎟\n",
       "⎜⎢                     -221108787 ⎥                       ⎟\n",
       "⎜⎢0  0  1  0  0  0  0  ───────────⎥                       ⎟\n",
       "⎜⎢                      62258539  ⎥                       ⎟\n",
       "⎜⎢                                ⎥                       ⎟\n",
       "⎜⎢                     1281689783 ⎥                       ⎟\n",
       "⎜⎢0  0  0  1  0  0  0  ────────── ⎥                       ⎟\n",
       "⎜⎢                     1680980553 ⎥, (0, 1, 2, 3, 4, 5, 6)⎟\n",
       "⎜⎢                                ⎥                       ⎟\n",
       "⎜⎢                     881679590  ⎥                       ⎟\n",
       "⎜⎢0  0  0  0  1  0  0  ────────── ⎥                       ⎟\n",
       "⎜⎢                     1680980553 ⎥                       ⎟\n",
       "⎜⎢                                ⎥                       ⎟\n",
       "⎜⎢                     -360522800 ⎥                       ⎟\n",
       "⎜⎢0  0  0  0  0  1  0  ───────────⎥                       ⎟\n",
       "⎜⎢                     1680980553 ⎥                       ⎟\n",
       "⎜⎢                                ⎥                       ⎟\n",
       "⎜⎢                      45316000  ⎥                       ⎟\n",
       "⎜⎢0  0  0  0  0  0  1  ────────── ⎥                       ⎟\n",
       "⎝⎣                     1680980553 ⎦                       ⎠"
      ]
     },
     "execution_count": 115,
     "metadata": {},
     "output_type": "execute_result"
    }
   ],
   "source": [
    "A.row_join(D.T.select_cols(1)).rref()"
   ]
  },
  {
   "cell_type": "code",
   "execution_count": 89,
   "metadata": {},
   "outputs": [
    {
     "name": "stdout",
     "output_type": "stream",
     "text": [
      "[A.T A | A.T b]\n"
     ]
    },
    {
     "data": {
      "text/latex": [
       "$\\displaystyle \\left[\\begin{matrix}7 & \\frac{83}{10} & \\frac{5307}{200} & \\frac{9109}{125} & 6\\\\\\frac{83}{10} & \\frac{5307}{200} & \\frac{9109}{125} & \\frac{17836809}{80000} & 3\\\\\\frac{5307}{200} & \\frac{9109}{125} & \\frac{17836809}{80000} & \\frac{272117597}{400000} & \\frac{1887}{100}\\\\\\frac{9109}{125} & \\frac{17836809}{80000} & \\frac{272117597}{400000} & \\frac{67879656897}{32000000} & \\frac{311943}{4000}\\end{matrix}\\right]$"
      ],
      "text/plain": [
       "⎡         83       5307        9109            ⎤\n",
       "⎢ 7       ──       ────        ────        6   ⎥\n",
       "⎢         10       200         125             ⎥\n",
       "⎢                                              ⎥\n",
       "⎢ 83     5307      9109      17836809          ⎥\n",
       "⎢ ──     ────      ────      ────────      3   ⎥\n",
       "⎢ 10     200       125        80000            ⎥\n",
       "⎢                                              ⎥\n",
       "⎢5307    9109    17836809    272117597    1887 ⎥\n",
       "⎢────    ────    ────────    ─────────    ──── ⎥\n",
       "⎢200     125      80000       400000      100  ⎥\n",
       "⎢                                              ⎥\n",
       "⎢9109  17836809  272117597  67879656897  311943⎥\n",
       "⎢────  ────────  ─────────  ───────────  ──────⎥\n",
       "⎣125    80000     400000     32000000     4000 ⎦"
      ]
     },
     "metadata": {},
     "output_type": "display_data"
    },
    {
     "name": "stdout",
     "output_type": "stream",
     "text": [
      "\n",
      "After RREF\n"
     ]
    },
    {
     "data": {
      "text/latex": [
       "$\\displaystyle \\left[\\begin{matrix}1 & 0 & 0 & 0 & \\frac{5512681394618944473}{1860810111622126624}\\\\0 & 1 & 0 & 0 & - \\frac{914007336283426815}{930405055811063312}\\\\0 & 0 & 1 & 0 & - \\frac{344400109599277425}{116300631976382914}\\\\0 & 0 & 0 & 1 & \\frac{57449673409014375}{58150315988191457}\\end{matrix}\\right]$"
      ],
      "text/plain": [
       "⎡            5512681394618944473 ⎤\n",
       "⎢1  0  0  0  ─────────────────── ⎥\n",
       "⎢            1860810111622126624 ⎥\n",
       "⎢                                ⎥\n",
       "⎢            -914007336283426815 ⎥\n",
       "⎢0  1  0  0  ────────────────────⎥\n",
       "⎢             930405055811063312 ⎥\n",
       "⎢                                ⎥\n",
       "⎢            -344400109599277425 ⎥\n",
       "⎢0  0  1  0  ────────────────────⎥\n",
       "⎢             116300631976382914 ⎥\n",
       "⎢                                ⎥\n",
       "⎢             57449673409014375  ⎥\n",
       "⎢0  0  0  1   ─────────────────  ⎥\n",
       "⎣             58150315988191457  ⎦"
      ]
     },
     "metadata": {},
     "output_type": "display_data"
    },
    {
     "data": {
      "text/latex": [
       "$\\displaystyle \\left[\\begin{matrix}2.96251689529641\\\\-0.98237571966616\\\\-2.9612918154152\\\\0.987951181910699\\end{matrix}\\right]$"
      ],
      "text/plain": [
       "⎡2.96251689529641 ⎤\n",
       "⎢                 ⎥\n",
       "⎢-0.98237571966616⎥\n",
       "⎢                 ⎥\n",
       "⎢-2.9612918154152 ⎥\n",
       "⎢                 ⎥\n",
       "⎣0.987951181910699⎦"
      ]
     },
     "execution_count": 89,
     "metadata": {},
     "output_type": "execute_result"
    }
   ],
   "source": [
    "A.solve_least_squares(D.T.select_cols(1)).evalf()"
   ]
  },
  {
   "cell_type": "markdown",
   "metadata": {},
   "source": [
    "# 3"
   ]
  },
  {
   "cell_type": "code",
   "execution_count": 91,
   "metadata": {},
   "outputs": [
    {
     "data": {
      "text/latex": [
       "$\\displaystyle \\left( \\left[\\begin{matrix}1 & 0 & 1 & 0\\\\0 & 1 & 0 & 0\\\\0 & 0 & 0 & 1\\end{matrix}\\right], \\  \\left( 0, \\  1, \\  3\\right)\\right)$"
      ],
      "text/plain": [
       "⎛⎡1  0  1  0⎤           ⎞\n",
       "⎜⎢          ⎥           ⎟\n",
       "⎜⎢0  1  0  0⎥, (0, 1, 3)⎟\n",
       "⎜⎢          ⎥           ⎟\n",
       "⎝⎣0  0  0  1⎦           ⎠"
      ]
     },
     "execution_count": 91,
     "metadata": {},
     "output_type": "execute_result"
    }
   ],
   "source": [
    "A = Matrix([[0, 1, 0, 1],\n",
    "            [1, 0, 1, 0],\n",
    "            [0, 0, 0, 1]])\n",
    "\n",
    "A.rref()"
   ]
  },
  {
   "cell_type": "code",
   "execution_count": 92,
   "metadata": {},
   "outputs": [
    {
     "data": {
      "text/latex": [
       "$\\displaystyle \\left[ \\left[\\begin{matrix}-1\\\\0\\\\1\\\\0\\end{matrix}\\right]\\right]$"
      ],
      "text/plain": [
       "⎡⎡-1⎤⎤\n",
       "⎢⎢  ⎥⎥\n",
       "⎢⎢0 ⎥⎥\n",
       "⎢⎢  ⎥⎥\n",
       "⎢⎢1 ⎥⎥\n",
       "⎢⎢  ⎥⎥\n",
       "⎣⎣0 ⎦⎦"
      ]
     },
     "execution_count": 92,
     "metadata": {},
     "output_type": "execute_result"
    }
   ],
   "source": [
    "A.nullspace()"
   ]
  },
  {
   "cell_type": "code",
   "execution_count": 93,
   "metadata": {},
   "outputs": [
    {
     "data": {
      "text/latex": [
       "$\\displaystyle \\left[\\begin{matrix}0 & \\frac{\\sqrt{2}}{2} & 0 & - \\frac{\\sqrt{2}}{2}\\\\1 & 0 & 0 & 0\\\\0 & \\frac{\\sqrt{2}}{2} & 0 & \\frac{\\sqrt{2}}{2}\\\\0 & 0 & 1 & 0\\end{matrix}\\right]$"
      ],
      "text/plain": [
       "⎡   √2     -√2 ⎤\n",
       "⎢0  ──  0  ────⎥\n",
       "⎢   2       2  ⎥\n",
       "⎢              ⎥\n",
       "⎢1  0   0   0  ⎥\n",
       "⎢              ⎥\n",
       "⎢   √2      √2 ⎥\n",
       "⎢0  ──  0   ── ⎥\n",
       "⎢   2       2  ⎥\n",
       "⎢              ⎥\n",
       "⎣0  0   1   0  ⎦"
      ]
     },
     "execution_count": 93,
     "metadata": {},
     "output_type": "execute_result"
    }
   ],
   "source": [
    "U = Matrix([[0, 1, 0, -1],\n",
    "            [1, 0, 0, 0],\n",
    "            [0, 1, 0, 1],\n",
    "            [0, 0, 1, 0]]).normalized()\n",
    "\n",
    "U"
   ]
  },
  {
   "cell_type": "code",
   "execution_count": 95,
   "metadata": {},
   "outputs": [
    {
     "data": {
      "text/latex": [
       "$\\displaystyle \\left[\\begin{matrix}\\sqrt{10} & 0 & 0\\\\0 & \\sqrt{6} & 0\\\\0 & 0 & \\sqrt{3}\\\\0 & 0 & 0\\end{matrix}\\right]$"
      ],
      "text/plain": [
       "⎡√10  0   0 ⎤\n",
       "⎢           ⎥\n",
       "⎢ 0   √6  0 ⎥\n",
       "⎢           ⎥\n",
       "⎢ 0   0   √3⎥\n",
       "⎢           ⎥\n",
       "⎣ 0   0   0 ⎦"
      ]
     },
     "execution_count": 95,
     "metadata": {},
     "output_type": "execute_result"
    }
   ],
   "source": [
    "S = Matrix([[sym.sqrt(10), 0, 0],\n",
    "            [0, sym.sqrt(6), 0],\n",
    "            [0, 0, sym.sqrt(3)],\n",
    "            [0, 0, 0]])\n",
    "\n",
    "S"
   ]
  },
  {
   "cell_type": "code",
   "execution_count": 96,
   "metadata": {},
   "outputs": [
    {
     "data": {
      "text/latex": [
       "$\\displaystyle \\left[\\begin{matrix}0 & \\frac{\\sqrt{6}}{3} & - \\frac{\\sqrt{3}}{3}\\\\\\frac{\\sqrt{2}}{2} & - \\frac{\\sqrt{6}}{6} & - \\frac{\\sqrt{3}}{3}\\\\\\frac{\\sqrt{2}}{2} & \\frac{\\sqrt{6}}{6} & \\frac{\\sqrt{3}}{3}\\end{matrix}\\right]$"
      ],
      "text/plain": [
       "⎡     √6   -√3 ⎤\n",
       "⎢0    ──   ────⎥\n",
       "⎢     3     3  ⎥\n",
       "⎢              ⎥\n",
       "⎢√2  -√6   -√3 ⎥\n",
       "⎢──  ────  ────⎥\n",
       "⎢2    6     3  ⎥\n",
       "⎢              ⎥\n",
       "⎢√2   √6    √3 ⎥\n",
       "⎢──   ──    ── ⎥\n",
       "⎣2    6     3  ⎦"
      ]
     },
     "execution_count": 96,
     "metadata": {},
     "output_type": "execute_result"
    }
   ],
   "source": [
    "V = Matrix([[0, 2, -1],\n",
    "            [1, -1, -1],\n",
    "            [1, 1, 1]]).normalized()\n",
    "\n",
    "V"
   ]
  },
  {
   "cell_type": "code",
   "execution_count": 107,
   "metadata": {},
   "outputs": [
    {
     "data": {
      "text/latex": [
       "$\\displaystyle \\left[\\begin{matrix}\\sqrt{2} & - \\frac{\\sqrt{2}}{2} & \\frac{\\sqrt{2}}{2}\\\\0 & \\sqrt{5} & \\sqrt{5}\\\\\\sqrt{2} & - \\frac{\\sqrt{2}}{2} & \\frac{\\sqrt{2}}{2}\\\\-1 & -1 & 1\\end{matrix}\\right]$"
      ],
      "text/plain": [
       "⎡    -√2   √2⎤\n",
       "⎢√2  ────  ──⎥\n",
       "⎢     2    2 ⎥\n",
       "⎢            ⎥\n",
       "⎢0    √5   √5⎥\n",
       "⎢            ⎥\n",
       "⎢    -√2   √2⎥\n",
       "⎢√2  ────  ──⎥\n",
       "⎢     2    2 ⎥\n",
       "⎢            ⎥\n",
       "⎣-1   -1   1 ⎦"
      ]
     },
     "execution_count": 107,
     "metadata": {},
     "output_type": "execute_result"
    }
   ],
   "source": [
    "A = U @ S @ V.T\n",
    "A"
   ]
  },
  {
   "cell_type": "code",
   "execution_count": 108,
   "metadata": {},
   "outputs": [
    {
     "data": {
      "text/latex": [
       "$\\displaystyle \\left( \\left[\\begin{matrix}0 & \\frac{\\sqrt{2}}{2} & 0 & \\frac{\\sqrt{2}}{2}\\\\1 & 0 & 0 & 0\\\\0 & \\frac{\\sqrt{2}}{2} & 0 & - \\frac{\\sqrt{2}}{2}\\\\0 & 0 & 1 & 0\\end{matrix}\\right], \\  \\left[\\begin{matrix}\\sqrt{10} & 0 & 0\\\\0 & \\sqrt{6} & 0\\\\0 & 0 & \\sqrt{3}\\\\0 & 0 & 0\\end{matrix}\\right], \\  \\left[\\begin{matrix}0 & \\frac{\\sqrt{6}}{3} & - \\frac{\\sqrt{3}}{3}\\\\\\frac{\\sqrt{2}}{2} & - \\frac{\\sqrt{6}}{6} & - \\frac{\\sqrt{3}}{3}\\\\\\frac{\\sqrt{2}}{2} & \\frac{\\sqrt{6}}{6} & \\frac{\\sqrt{3}}{3}\\end{matrix}\\right]\\right)$"
      ],
      "text/plain": [
       "⎛⎡   √2      √2 ⎤                 ⎡     √6   -√3 ⎤⎞\n",
       "⎜⎢0  ──  0   ── ⎥                 ⎢0    ──   ────⎥⎟\n",
       "⎜⎢   2       2  ⎥  ⎡√10  0   0 ⎤  ⎢     3     3  ⎥⎟\n",
       "⎜⎢              ⎥  ⎢           ⎥  ⎢              ⎥⎟\n",
       "⎜⎢1  0   0   0  ⎥  ⎢ 0   √6  0 ⎥  ⎢√2  -√6   -√3 ⎥⎟\n",
       "⎜⎢              ⎥, ⎢           ⎥, ⎢──  ────  ────⎥⎟\n",
       "⎜⎢   √2     -√2 ⎥  ⎢ 0   0   √3⎥  ⎢2    6     3  ⎥⎟\n",
       "⎜⎢0  ──  0  ────⎥  ⎢           ⎥  ⎢              ⎥⎟\n",
       "⎜⎢   2       2  ⎥  ⎣ 0   0   0 ⎦  ⎢√2   √6    √3 ⎥⎟\n",
       "⎜⎢              ⎥                 ⎢──   ──    ── ⎥⎟\n",
       "⎝⎣0  0   1   0  ⎦                 ⎣2    6     3  ⎦⎠"
      ]
     },
     "execution_count": 108,
     "metadata": {},
     "output_type": "execute_result"
    }
   ],
   "source": [
    "A.singular_value_decomposition()"
   ]
  },
  {
   "cell_type": "code",
   "execution_count": 109,
   "metadata": {},
   "outputs": [
    {
     "data": {
      "text/latex": [
       "$\\displaystyle \\left(x - 10\\right) \\left(x - 6\\right) \\left(x - 3\\right)$"
      ],
      "text/plain": [
       "(x - 10)⋅(x - 6)⋅(x - 3)"
      ]
     },
     "execution_count": 109,
     "metadata": {},
     "output_type": "execute_result"
    }
   ],
   "source": [
    "(A.T @ A).cpoly()"
   ]
  },
  {
   "cell_type": "markdown",
   "metadata": {},
   "source": [
    "# 4"
   ]
  },
  {
   "cell_type": "code",
   "execution_count": 102,
   "metadata": {},
   "outputs": [
    {
     "data": {
      "text/latex": [
       "$\\displaystyle \\left[ \\left[\\begin{matrix}0\\\\-2\\\\1\\end{matrix}\\right]\\right]$"
      ],
      "text/plain": [
       "⎡⎡0 ⎤⎤\n",
       "⎢⎢  ⎥⎥\n",
       "⎢⎢-2⎥⎥\n",
       "⎢⎢  ⎥⎥\n",
       "⎣⎣1 ⎦⎦"
      ]
     },
     "execution_count": 102,
     "metadata": {},
     "output_type": "execute_result"
    }
   ],
   "source": [
    "A = Matrix([[1, -1, -2],\n",
    "            [-2, 2, 2],\n",
    "            [0, -1, -1]])\n",
    "\n",
    "(A - A.id()).nullspace()"
   ]
  },
  {
   "cell_type": "code",
   "execution_count": 103,
   "metadata": {},
   "outputs": [
    {
     "data": {
      "text/latex": [
       "$\\displaystyle \\left( \\left[\\begin{matrix}1 & 0 & 0 & 1\\\\0 & 1 & 0 & 2\\\\0 & 0 & 1 & -3\\end{matrix}\\right], \\  \\left( 0, \\  1, \\  2\\right)\\right)$"
      ],
      "text/plain": [
       "⎛⎡1  0  0  1 ⎤           ⎞\n",
       "⎜⎢           ⎥           ⎟\n",
       "⎜⎢0  1  0  2 ⎥, (0, 1, 2)⎟\n",
       "⎜⎢           ⎥           ⎟\n",
       "⎝⎣0  0  1  -3⎦           ⎠"
      ]
     },
     "execution_count": 103,
     "metadata": {},
     "output_type": "execute_result"
    }
   ],
   "source": [
    "A.row_join(Matrix([5, -4, 1])).rref()"
   ]
  },
  {
   "cell_type": "code",
   "execution_count": 104,
   "metadata": {},
   "outputs": [
    {
     "data": {
      "text/latex": [
       "$\\displaystyle \\left[\\begin{matrix}5\\\\-4\\\\1\\end{matrix}\\right]$"
      ],
      "text/plain": [
       "⎡5 ⎤\n",
       "⎢  ⎥\n",
       "⎢-4⎥\n",
       "⎢  ⎥\n",
       "⎣1 ⎦"
      ]
     },
     "execution_count": 104,
     "metadata": {},
     "output_type": "execute_result"
    }
   ],
   "source": [
    "A @ Matrix([1, 2, -3])"
   ]
  },
  {
   "cell_type": "markdown",
   "metadata": {},
   "source": [
    "# Tutorial 11"
   ]
  },
  {
   "cell_type": "code",
   "execution_count": 5,
   "metadata": {},
   "outputs": [
    {
     "name": "stdout",
     "output_type": "stream",
     "text": [
      "[A.T A | A.T b]\n"
     ]
    },
    {
     "data": {
      "text/latex": [
       "$\\displaystyle \\left[\\begin{matrix}4 & \\frac{57}{1000} & \\frac{1493}{1000000}\\\\\\frac{57}{1000} & \\frac{869}{1000000} & \\frac{11251}{500000000}\\end{matrix}\\right]$"
      ],
      "text/plain": [
       "⎡        57       1493   ⎤\n",
       "⎢ 4     ────     ─────── ⎥\n",
       "⎢       1000     1000000 ⎥\n",
       "⎢                        ⎥\n",
       "⎢ 57     869      11251  ⎥\n",
       "⎢────  ───────  ─────────⎥\n",
       "⎣1000  1000000  500000000⎦"
      ]
     },
     "metadata": {},
     "output_type": "display_data"
    },
    {
     "name": "stdout",
     "output_type": "stream",
     "text": [
      "After RREF\n"
     ]
    },
    {
     "data": {
      "text/latex": [
       "$\\displaystyle \\left[\\begin{matrix}1 & 0 & \\frac{14803}{227000000}\\\\0 & 1 & \\frac{4907}{227000}\\end{matrix}\\right]$"
      ],
      "text/plain": [
       "⎡        14803  ⎤\n",
       "⎢1  0  ─────────⎥\n",
       "⎢      227000000⎥\n",
       "⎢               ⎥\n",
       "⎢        4907   ⎥\n",
       "⎢0  1   ──────  ⎥\n",
       "⎣       227000  ⎦"
      ]
     },
     "metadata": {},
     "output_type": "display_data"
    },
    {
     "data": {
      "text/latex": [
       "$\\displaystyle \\left( \\left[\\begin{matrix}\\frac{14803}{227000000}\\\\\\frac{4907}{227000}\\end{matrix}\\right], \\  \\left[\\begin{matrix}0\\\\0\\end{matrix}\\right]\\right)$"
      ],
      "text/plain": [
       "⎛⎡  14803  ⎤     ⎞\n",
       "⎜⎢─────────⎥     ⎟\n",
       "⎜⎢227000000⎥  ⎡0⎤⎟\n",
       "⎜⎢         ⎥, ⎢ ⎥⎟\n",
       "⎜⎢  4907   ⎥  ⎣0⎦⎟\n",
       "⎜⎢ ──────  ⎥     ⎟\n",
       "⎝⎣ 227000  ⎦     ⎠"
      ]
     },
     "execution_count": 5,
     "metadata": {},
     "output_type": "execute_result"
    }
   ],
   "source": [
    "M = Matrix([[1, 0.01],\n",
    "            [1, 0.012],\n",
    "            [1, 0.015],\n",
    "            [1, 0.02]]).simplify(tolerance=1E-4)\n",
    "B = Matrix([2.75E-4, 3.31E-4, 3.92E-4, 4.95E-4]).simplify(tolerance=1E-9)\n",
    "\n",
    "M.solve_least_squares(B)"
   ]
  },
  {
   "cell_type": "code",
   "execution_count": 6,
   "metadata": {},
   "outputs": [
    {
     "data": {
      "text/latex": [
       "$\\displaystyle \\left[ \\left[\\begin{matrix}1\\\\0\\\\0\\\\0\\\\0\\end{matrix}\\right], \\  \\left[\\begin{matrix}0\\\\1\\\\0\\\\0\\\\0\\end{matrix}\\right], \\  \\left[\\begin{matrix}0\\\\0\\\\-2\\\\1\\\\0\\end{matrix}\\right], \\  \\left[\\begin{matrix}0\\\\0\\\\1\\\\0\\\\1\\end{matrix}\\right]\\right]$"
      ],
      "text/plain": [
       "⎡⎡1⎤  ⎡0⎤  ⎡0 ⎤  ⎡0⎤⎤\n",
       "⎢⎢ ⎥  ⎢ ⎥  ⎢  ⎥  ⎢ ⎥⎥\n",
       "⎢⎢0⎥  ⎢1⎥  ⎢0 ⎥  ⎢0⎥⎥\n",
       "⎢⎢ ⎥  ⎢ ⎥  ⎢  ⎥  ⎢ ⎥⎥\n",
       "⎢⎢0⎥, ⎢0⎥, ⎢-2⎥, ⎢1⎥⎥\n",
       "⎢⎢ ⎥  ⎢ ⎥  ⎢  ⎥  ⎢ ⎥⎥\n",
       "⎢⎢0⎥  ⎢0⎥  ⎢1 ⎥  ⎢0⎥⎥\n",
       "⎢⎢ ⎥  ⎢ ⎥  ⎢  ⎥  ⎢ ⎥⎥\n",
       "⎣⎣0⎦  ⎣0⎦  ⎣0 ⎦  ⎣1⎦⎦"
      ]
     },
     "execution_count": 6,
     "metadata": {},
     "output_type": "execute_result"
    }
   ],
   "source": [
    "T = Matrix([0, 0, 1, 2, -1]).T\n",
    "T.nullspace()"
   ]
  },
  {
   "cell_type": "code",
   "execution_count": 8,
   "metadata": {},
   "outputs": [
    {
     "data": {
      "text/latex": [
       "$\\displaystyle \\left[\\begin{matrix}-11 & -2 & 1\\\\1 & -2 & -2\\\\24 & 4 & -1\\end{matrix}\\right]$"
      ],
      "text/plain": [
       "⎡-11  -2  1 ⎤\n",
       "⎢           ⎥\n",
       "⎢ 1   -2  -2⎥\n",
       "⎢           ⎥\n",
       "⎣24   4   -1⎦"
      ]
     },
     "execution_count": 8,
     "metadata": {},
     "output_type": "execute_result"
    }
   ],
   "source": [
    "A_F = Matrix([[1, -2, 0],\n",
    "              [1, 1, -3],\n",
    "              [0, 5, -1]])\n",
    "\n",
    "B_G = Matrix([[-1, 0, 1],\n",
    "              [5, 1, 0],\n",
    "              [1, 1, 1]])\n",
    "\n",
    "A_F @ B_G"
   ]
  },
  {
   "cell_type": "code",
   "execution_count": 9,
   "metadata": {},
   "outputs": [
    {
     "data": {
      "text/latex": [
       "$\\displaystyle \\left[\\begin{matrix}\\frac{1}{3} & \\frac{1}{3} & - \\frac{1}{3}\\\\- \\frac{5}{3} & - \\frac{2}{3} & \\frac{5}{3}\\\\\\frac{4}{3} & \\frac{1}{3} & - \\frac{1}{3}\\end{matrix}\\right]$"
      ],
      "text/plain": [
       "⎡1/3   1/3   -1/3⎤\n",
       "⎢                ⎥\n",
       "⎢-5/3  -2/3  5/3 ⎥\n",
       "⎢                ⎥\n",
       "⎣4/3   1/3   -1/3⎦"
      ]
     },
     "execution_count": 9,
     "metadata": {},
     "output_type": "execute_result"
    }
   ],
   "source": [
    "B_G**-1"
   ]
  },
  {
   "cell_type": "code",
   "execution_count": 15,
   "metadata": {},
   "outputs": [
    {
     "data": {
      "text/latex": [
       "$\\displaystyle \\left[\\begin{matrix}1 & -1\\\\1 & 1\\end{matrix}\\right]$"
      ],
      "text/plain": [
       "⎡1  -1⎤\n",
       "⎢     ⎥\n",
       "⎣1  1 ⎦"
      ]
     },
     "execution_count": 15,
     "metadata": {},
     "output_type": "execute_result"
    }
   ],
   "source": [
    "T = Matrix([[1, 1, 2],\n",
    "            [-1, 1, 0]])\n",
    "\n",
    "R = Matrix([[2, 0, 2],\n",
    "            [0, 2, 2]])\n",
    "\n",
    "R @ (T.inverse()[0] + T.inverse()[1])"
   ]
  },
  {
   "cell_type": "code",
   "execution_count": null,
   "metadata": {},
   "outputs": [
    {
     "data": {
      "text/latex": [
       "$\\displaystyle \\left( \\left[\\begin{matrix}-1 & 1 & 0\\end{matrix}\\right], \\  \\left[\\begin{matrix}1 & 0 & -1\\\\-1 & 1 & 0\\\\0 & -1 & 1\\end{matrix}\\right]\\right)$"
      ],
      "text/plain": [
       "⎛            ⎡1   0   -1⎤⎞\n",
       "⎜            ⎢          ⎥⎟\n",
       "⎜[-1  1  0], ⎢-1  1   0 ⎥⎟\n",
       "⎜            ⎢          ⎥⎟\n",
       "⎝            ⎣0   -1  1 ⎦⎠"
      ]
     },
     "execution_count": 22,
     "metadata": {},
     "output_type": "execute_result"
    }
   ],
   "source": [
    "T = Matrix([[1, 0, -1],\n",
    "            [-1, 1, 0],\n",
    "            [0, -1, 1]])\n",
    "\n",
    "R = Matrix([-1, 1, 0]).T\n",
    "\n",
    "R, T"
   ]
  },
  {
   "cell_type": "code",
   "execution_count": 30,
   "metadata": {},
   "outputs": [
    {
     "data": {
      "text/latex": [
       "$\\displaystyle \\left[\\begin{matrix}- \\frac{1}{3} & \\frac{2}{3} & - \\frac{1}{3}\\end{matrix}\\right]$"
      ],
      "text/plain": [
       "[-1/3  2/3  -1/3]"
      ]
     },
     "execution_count": 30,
     "metadata": {},
     "output_type": "execute_result"
    }
   ],
   "source": [
    "(T.T.pinv() @ R.T).T"
   ]
  },
  {
   "cell_type": "code",
   "execution_count": 24,
   "metadata": {},
   "outputs": [
    {
     "data": {
      "text/latex": [
       "$\\displaystyle \\left[\\begin{matrix}x_{1,3} & x_{1,3} + 1 & x_{1,3}\\end{matrix}\\right]$"
      ],
      "text/plain": [
       "[x_1,3  x_1,3 + 1  x_1,3]"
      ]
     },
     "execution_count": 24,
     "metadata": {},
     "output_type": "execute_result"
    }
   ],
   "source": [
    "X = Matrix.create_unk_matrix(1, 3)\n",
    "X = X.subs(sym.solve(X@T - R))\n",
    "X"
   ]
  },
  {
   "cell_type": "markdown",
   "metadata": {},
   "source": [
    "# Mid term make up"
   ]
  },
  {
   "cell_type": "code",
   "execution_count": 3,
   "metadata": {},
   "outputs": [
    {
     "name": "stdout",
     "output_type": "stream",
     "text": [
      "R_3 <- R_3 - (2)R_1\n"
     ]
    },
    {
     "data": {
      "text/latex": [
       "$\\displaystyle \\left[\\begin{matrix}1 & 1 & 3 & 0 & -1\\\\0 & 2 & 4 & 1 & b\\\\0 & -2 & -2 & a & a + 2\\\\1 & a & 2 & b & 0\\end{matrix}\\right]$"
      ],
      "text/plain": [
       "⎡1  1   3   0   -1  ⎤\n",
       "⎢                   ⎥\n",
       "⎢0  2   4   1    b  ⎥\n",
       "⎢                   ⎥\n",
       "⎢0  -2  -2  a  a + 2⎥\n",
       "⎢                   ⎥\n",
       "⎣1  a   2   b    0  ⎦"
      ]
     },
     "metadata": {},
     "output_type": "display_data"
    },
    {
     "name": "stdout",
     "output_type": "stream",
     "text": [
      "\n",
      "\n",
      "R_4 <- R_4 - (1)R_1\n"
     ]
    },
    {
     "data": {
      "text/latex": [
       "$\\displaystyle \\left[\\begin{matrix}1 & 1 & 3 & 0 & -1\\\\0 & 2 & 4 & 1 & b\\\\0 & -2 & -2 & a & a + 2\\\\0 & a - 1 & -1 & b & 1\\end{matrix}\\right]$"
      ],
      "text/plain": [
       "⎡1    1    3   0   -1  ⎤\n",
       "⎢                      ⎥\n",
       "⎢0    2    4   1    b  ⎥\n",
       "⎢                      ⎥\n",
       "⎢0   -2    -2  a  a + 2⎥\n",
       "⎢                      ⎥\n",
       "⎣0  a - 1  -1  b    1  ⎦"
      ]
     },
     "metadata": {},
     "output_type": "display_data"
    },
    {
     "name": "stdout",
     "output_type": "stream",
     "text": [
      "\n",
      "\n",
      "R_3 <- R_3 - (-1)R_2\n"
     ]
    },
    {
     "data": {
      "text/latex": [
       "$\\displaystyle \\left[\\begin{matrix}1 & 1 & 3 & 0 & -1\\\\0 & 2 & 4 & 1 & b\\\\0 & 0 & 2 & a + 1 & a + b + 2\\\\0 & a - 1 & -1 & b & 1\\end{matrix}\\right]$"
      ],
      "text/plain": [
       "⎡1    1    3     0       -1    ⎤\n",
       "⎢                              ⎥\n",
       "⎢0    2    4     1        b    ⎥\n",
       "⎢                              ⎥\n",
       "⎢0    0    2   a + 1  a + b + 2⎥\n",
       "⎢                              ⎥\n",
       "⎣0  a - 1  -1    b        1    ⎦"
      ]
     },
     "metadata": {},
     "output_type": "display_data"
    },
    {
     "name": "stdout",
     "output_type": "stream",
     "text": [
      "\n",
      "\n",
      "R_4 <- R_4 - (-1/2)R_2\n"
     ]
    },
    {
     "data": {
      "text/latex": [
       "$\\displaystyle \\left[\\begin{matrix}1 & 1 & 3 & 0 & -1\\\\0 & 2 & 4 & 1 & b\\\\0 & 0 & 2 & a + 1 & a + b + 2\\\\0 & a & 1 & b + \\frac{1}{2} & \\frac{b}{2} + 1\\end{matrix}\\right]$"
      ],
      "text/plain": [
       "⎡1  1  3     0        -1    ⎤\n",
       "⎢                           ⎥\n",
       "⎢0  2  4     1         b    ⎥\n",
       "⎢                           ⎥\n",
       "⎢0  0  2   a + 1   a + b + 2⎥\n",
       "⎢                           ⎥\n",
       "⎢                    b      ⎥\n",
       "⎢0  a  1  b + 1/2    ─ + 1  ⎥\n",
       "⎣                    2      ⎦"
      ]
     },
     "metadata": {},
     "output_type": "display_data"
    },
    {
     "name": "stdout",
     "output_type": "stream",
     "text": [
      "\n",
      "\n",
      "R_4 <- R_4 - (a/2)R_2\n"
     ]
    },
    {
     "data": {
      "text/latex": [
       "$\\displaystyle \\left[\\begin{matrix}1 & 1 & 3 & 0 & -1\\\\0 & 2 & 4 & 1 & b\\\\0 & 0 & 2 & a + 1 & a + b + 2\\\\0 & 0 & 1 - 2 a & - \\frac{a}{2} + b + \\frac{1}{2} & - \\frac{a b}{2} + \\frac{b}{2} + 1\\end{matrix}\\right]$"
      ],
      "text/plain": [
       "⎡1  1     3          0            -1      ⎤\n",
       "⎢                                         ⎥\n",
       "⎢0  2     4          1             b      ⎥\n",
       "⎢                                         ⎥\n",
       "⎢0  0     2        a + 1       a + b + 2  ⎥\n",
       "⎢                                         ⎥\n",
       "⎢                 a       1    a⋅b   b    ⎥\n",
       "⎢0  0  1 - 2⋅a  - ─ + b + ─  - ─── + ─ + 1⎥\n",
       "⎣                 2       2     2    2    ⎦"
      ]
     },
     "metadata": {},
     "output_type": "display_data"
    },
    {
     "name": "stdout",
     "output_type": "stream",
     "text": [
      "\n",
      "\n",
      "R_4 <- R_4 - (1/2)R_3\n"
     ]
    },
    {
     "data": {
      "text/latex": [
       "$\\displaystyle \\left[\\begin{matrix}1 & 1 & 3 & 0 & -1\\\\0 & 2 & 4 & 1 & b\\\\0 & 0 & 2 & a + 1 & a + b + 2\\\\0 & 0 & - 2 a & - a + b & - \\frac{a b}{2} - \\frac{a}{2}\\end{matrix}\\right]$"
      ],
      "text/plain": [
       "⎡1  1   3      0        -1    ⎤\n",
       "⎢                             ⎥\n",
       "⎢0  2   4      1         b    ⎥\n",
       "⎢                             ⎥\n",
       "⎢0  0   2    a + 1   a + b + 2⎥\n",
       "⎢                             ⎥\n",
       "⎢                      a⋅b   a⎥\n",
       "⎢0  0  -2⋅a  -a + b  - ─── - ─⎥\n",
       "⎣                       2    2⎦"
      ]
     },
     "metadata": {},
     "output_type": "display_data"
    },
    {
     "name": "stdout",
     "output_type": "stream",
     "text": [
      "\n",
      "\n",
      "R_4 <- R_4 - (-a)R_3\n"
     ]
    },
    {
     "data": {
      "text/latex": [
       "$\\displaystyle \\left[\\begin{matrix}1 & 1 & 3 & 0 & -1\\\\0 & 2 & 4 & 1 & b\\\\0 & 0 & 2 & a + 1 & a + b + 2\\\\0 & 0 & 0 & a^{2} + b & a^{2} + \\frac{a b}{2} + \\frac{3 a}{2}\\end{matrix}\\right]$"
      ],
      "text/plain": [
       "⎡1  1  3    0           -1      ⎤\n",
       "⎢                               ⎥\n",
       "⎢0  2  4    1           b       ⎥\n",
       "⎢                               ⎥\n",
       "⎢0  0  2  a + 1     a + b + 2   ⎥\n",
       "⎢                               ⎥\n",
       "⎢          2       2   a⋅b   3⋅a⎥\n",
       "⎢0  0  0  a  + b  a  + ─── + ───⎥\n",
       "⎣                       2     2 ⎦"
      ]
     },
     "metadata": {},
     "output_type": "display_data"
    },
    {
     "name": "stdout",
     "output_type": "stream",
     "text": [
      "\n",
      "\n"
     ]
    }
   ],
   "source": [
    "a, b = sym.symbols('a b')\n",
    "\n",
    "A = Matrix([[1, 1, 3, 0],\n",
    "            [0, 2, 4, 1],\n",
    "            [2, 0, 4, a],\n",
    "            [1, a, 2, b]])\n",
    "\n",
    "B = Matrix([-1, b, a, 0])\n",
    "\n",
    "L, U = A.row_join(B).ref(verbosity=2)"
   ]
  },
  {
   "cell_type": "code",
   "execution_count": 6,
   "metadata": {},
   "outputs": [
    {
     "data": {
      "text/latex": [
       "$\\displaystyle 4 a^{2} + 4 b$"
      ],
      "text/plain": [
       "   2      \n",
       "4⋅a  + 4⋅b"
      ]
     },
     "execution_count": 6,
     "metadata": {},
     "output_type": "execute_result"
    }
   ],
   "source": [
    "A.det()"
   ]
  },
  {
   "cell_type": "code",
   "execution_count": 9,
   "metadata": {},
   "outputs": [
    {
     "data": {
      "text/latex": [
       "$\\displaystyle \\left[\\begin{matrix}1 & 1 & 3 & 0 & -1\\\\0 & 2 & 4 & 1 & - a^{2}\\\\0 & 0 & 2 & a + 1 & - a^{2} + a + 2\\\\0 & 0 & 0 & 0 & - \\frac{a^{3}}{2} + a^{2} + \\frac{3 a}{2}\\end{matrix}\\right]$"
      ],
      "text/plain": [
       "⎡1  1  3    0          -1       ⎤\n",
       "⎢                               ⎥\n",
       "⎢                        2      ⎥\n",
       "⎢0  2  4    1          -a       ⎥\n",
       "⎢                               ⎥\n",
       "⎢                    2          ⎥\n",
       "⎢0  0  2  a + 1   - a  + a + 2  ⎥\n",
       "⎢                               ⎥\n",
       "⎢                   3           ⎥\n",
       "⎢                  a     2   3⋅a⎥\n",
       "⎢0  0  0    0    - ── + a  + ───⎥\n",
       "⎣                  2          2 ⎦"
      ]
     },
     "execution_count": 9,
     "metadata": {},
     "output_type": "execute_result"
    }
   ],
   "source": [
    "U.subs({b: -a**2})"
   ]
  },
  {
   "cell_type": "code",
   "execution_count": 11,
   "metadata": {},
   "outputs": [
    {
     "data": {
      "text/latex": [
       "$\\displaystyle -33$"
      ],
      "text/plain": [
       "-33"
      ]
     },
     "execution_count": 11,
     "metadata": {},
     "output_type": "execute_result"
    }
   ],
   "source": [
    "V = Matrix([[3, 0, 1, 2],\n",
    "            [2, 1, 1, 0],\n",
    "            [3, 3, 0, 1],\n",
    "            [0, 3, 2, 0]])\n",
    "V.det()"
   ]
  },
  {
   "cell_type": "code",
   "execution_count": 12,
   "metadata": {},
   "outputs": [
    {
     "data": {
      "text/latex": [
       "$\\displaystyle \\left( \\left[\\begin{matrix}1 & 0 & 0 & 0\\\\0 & 1 & 0 & 0\\\\0 & 0 & 1 & 0\\\\0 & 0 & 0 & 1\\end{matrix}\\right], \\  \\left( 0, \\  1, \\  2, \\  3\\right)\\right)$"
      ],
      "text/plain": [
       "⎛⎡1  0  0  0⎤              ⎞\n",
       "⎜⎢          ⎥              ⎟\n",
       "⎜⎢0  1  0  0⎥              ⎟\n",
       "⎜⎢          ⎥, (0, 1, 2, 3)⎟\n",
       "⎜⎢0  0  1  0⎥              ⎟\n",
       "⎜⎢          ⎥              ⎟\n",
       "⎝⎣0  0  0  1⎦              ⎠"
      ]
     },
     "execution_count": 12,
     "metadata": {},
     "output_type": "execute_result"
    }
   ],
   "source": [
    "V.rref()"
   ]
  },
  {
   "cell_type": "code",
   "execution_count": 12,
   "metadata": {},
   "outputs": [
    {
     "data": {
      "text/latex": [
       "$\\displaystyle \\left( \\left[\\begin{matrix}1 & 0 & 0 & 0\\\\0 & 1 & 0 & 0\\\\0 & 0 & 1 & 0\\\\0 & 0 & 0 & 1\\\\0 & 0 & 0 & 0\\end{matrix}\\right], \\  \\left( 0, \\  1, \\  2, \\  3\\right)\\right)$"
      ],
      "text/plain": [
       "⎛⎡1  0  0  0⎤              ⎞\n",
       "⎜⎢          ⎥              ⎟\n",
       "⎜⎢0  1  0  0⎥              ⎟\n",
       "⎜⎢          ⎥              ⎟\n",
       "⎜⎢0  0  1  0⎥, (0, 1, 2, 3)⎟\n",
       "⎜⎢          ⎥              ⎟\n",
       "⎜⎢0  0  0  1⎥              ⎟\n",
       "⎜⎢          ⎥              ⎟\n",
       "⎝⎣0  0  0  0⎦              ⎠"
      ]
     },
     "execution_count": 12,
     "metadata": {},
     "output_type": "execute_result"
    }
   ],
   "source": [
    "a = sym.symbols('a', is_real=True)\n",
    "A = Matrix([[1, -2, -3, -4],\n",
    "            [-1, 2, -1, 0],\n",
    "            [-1, 0, a, -1],\n",
    "            [2, -2, -1, -5],\n",
    "            [-1, 2, -1, 0]])\n",
    "\n",
    "A.rref()"
   ]
  },
  {
   "cell_type": "code",
   "execution_count": 5,
   "metadata": {},
   "outputs": [
    {
     "data": {
      "text/latex": [
       "$\\displaystyle 0$"
      ],
      "text/plain": [
       "0"
      ]
     },
     "execution_count": 5,
     "metadata": {},
     "output_type": "execute_result"
    }
   ],
   "source": [
    "A[1:, :].det()"
   ]
  },
  {
   "cell_type": "code",
   "execution_count": 32,
   "metadata": {},
   "outputs": [
    {
     "name": "stdout",
     "output_type": "stream",
     "text": [
      "0.0\n"
     ]
    }
   ],
   "source": [
    "tries = 10000\n",
    "counter = 0\n",
    "for i in range(tries):\n",
    "    expr = A.row_join(Matrix(np.random.rand(5, 1))).det()\n",
    "    sol = sym.solve(expr)\n",
    "    if len(sol) == 0:\n",
    "        counter += 1\n",
    "    elif np.abs(sol[0] + 4) < 1E-4:\n",
    "        pass\n",
    "    else:\n",
    "        print(sol[0])\n",
    "        counter += 1\n",
    "print(counter/tries)"
   ]
  },
  {
   "cell_type": "code",
   "execution_count": 21,
   "metadata": {},
   "outputs": [
    {
     "data": {
      "text/latex": [
       "$\\displaystyle 90$"
      ],
      "text/plain": [
       "90"
      ]
     },
     "execution_count": 21,
     "metadata": {},
     "output_type": "execute_result"
    }
   ],
   "source": [
    "counter"
   ]
  },
  {
   "cell_type": "code",
   "execution_count": 17,
   "metadata": {},
   "outputs": [
    {
     "name": "stdout",
     "output_type": "stream",
     "text": [
      "R_2 <- R_2 - (-1)R_1\n"
     ]
    },
    {
     "data": {
      "text/latex": [
       "$\\displaystyle \\left[\\begin{matrix}1 & -2 & -3 & -4\\\\0 & 0 & -4 & -4\\\\-1 & 0 & a & -1\\\\2 & -2 & -1 & -5\\\\-1 & 2 & -1 & 0\\end{matrix}\\right]$"
      ],
      "text/plain": [
       "⎡1   -2  -3  -4⎤\n",
       "⎢              ⎥\n",
       "⎢0   0   -4  -4⎥\n",
       "⎢              ⎥\n",
       "⎢-1  0   a   -1⎥\n",
       "⎢              ⎥\n",
       "⎢2   -2  -1  -5⎥\n",
       "⎢              ⎥\n",
       "⎣-1  2   -1  0 ⎦"
      ]
     },
     "metadata": {},
     "output_type": "display_data"
    },
    {
     "name": "stdout",
     "output_type": "stream",
     "text": [
      "\n",
      "\n",
      "R_3 <- R_3 - (-1)R_1\n"
     ]
    },
    {
     "data": {
      "text/latex": [
       "$\\displaystyle \\left[\\begin{matrix}1 & -2 & -3 & -4\\\\0 & 0 & -4 & -4\\\\0 & -2 & a - 3 & -5\\\\2 & -2 & -1 & -5\\\\-1 & 2 & -1 & 0\\end{matrix}\\right]$"
      ],
      "text/plain": [
       "⎡1   -2   -3    -4⎤\n",
       "⎢                 ⎥\n",
       "⎢0   0    -4    -4⎥\n",
       "⎢                 ⎥\n",
       "⎢0   -2  a - 3  -5⎥\n",
       "⎢                 ⎥\n",
       "⎢2   -2   -1    -5⎥\n",
       "⎢                 ⎥\n",
       "⎣-1  2    -1    0 ⎦"
      ]
     },
     "metadata": {},
     "output_type": "display_data"
    },
    {
     "name": "stdout",
     "output_type": "stream",
     "text": [
      "\n",
      "\n",
      "R_4 <- R_4 - (2)R_1\n"
     ]
    },
    {
     "data": {
      "text/latex": [
       "$\\displaystyle \\left[\\begin{matrix}1 & -2 & -3 & -4\\\\0 & 0 & -4 & -4\\\\0 & -2 & a - 3 & -5\\\\0 & 2 & 5 & 3\\\\-1 & 2 & -1 & 0\\end{matrix}\\right]$"
      ],
      "text/plain": [
       "⎡1   -2   -3    -4⎤\n",
       "⎢                 ⎥\n",
       "⎢0   0    -4    -4⎥\n",
       "⎢                 ⎥\n",
       "⎢0   -2  a - 3  -5⎥\n",
       "⎢                 ⎥\n",
       "⎢0   2     5    3 ⎥\n",
       "⎢                 ⎥\n",
       "⎣-1  2    -1    0 ⎦"
      ]
     },
     "metadata": {},
     "output_type": "display_data"
    },
    {
     "name": "stdout",
     "output_type": "stream",
     "text": [
      "\n",
      "\n",
      "R_5 <- R_5 - (-1)R_1\n"
     ]
    },
    {
     "data": {
      "text/latex": [
       "$\\displaystyle \\left[\\begin{matrix}1 & -2 & -3 & -4\\\\0 & 0 & -4 & -4\\\\0 & -2 & a - 3 & -5\\\\0 & 2 & 5 & 3\\\\0 & 0 & -4 & -4\\end{matrix}\\right]$"
      ],
      "text/plain": [
       "⎡1  -2   -3    -4⎤\n",
       "⎢                ⎥\n",
       "⎢0  0    -4    -4⎥\n",
       "⎢                ⎥\n",
       "⎢0  -2  a - 3  -5⎥\n",
       "⎢                ⎥\n",
       "⎢0  2     5    3 ⎥\n",
       "⎢                ⎥\n",
       "⎣0  0    -4    -4⎦"
      ]
     },
     "metadata": {},
     "output_type": "display_data"
    },
    {
     "name": "stdout",
     "output_type": "stream",
     "text": [
      "\n",
      "\n",
      "R_2 <-> R_3\n"
     ]
    },
    {
     "data": {
      "text/latex": [
       "$\\displaystyle \\left[\\begin{matrix}1 & -2 & -3 & -4\\\\0 & -2 & a - 3 & -5\\\\0 & 0 & -4 & -4\\\\0 & 2 & 5 & 3\\\\0 & 0 & -4 & -4\\end{matrix}\\right]$"
      ],
      "text/plain": [
       "⎡1  -2   -3    -4⎤\n",
       "⎢                ⎥\n",
       "⎢0  -2  a - 3  -5⎥\n",
       "⎢                ⎥\n",
       "⎢0  0    -4    -4⎥\n",
       "⎢                ⎥\n",
       "⎢0  2     5    3 ⎥\n",
       "⎢                ⎥\n",
       "⎣0  0    -4    -4⎦"
      ]
     },
     "metadata": {},
     "output_type": "display_data"
    },
    {
     "name": "stdout",
     "output_type": "stream",
     "text": [
      "\n",
      "\n",
      "R_4 <- R_4 - (-1)R_2\n"
     ]
    },
    {
     "data": {
      "text/latex": [
       "$\\displaystyle \\left[\\begin{matrix}1 & -2 & -3 & -4\\\\0 & -2 & a - 3 & -5\\\\0 & 0 & -4 & -4\\\\0 & 0 & a + 2 & -2\\\\0 & 0 & -4 & -4\\end{matrix}\\right]$"
      ],
      "text/plain": [
       "⎡1  -2   -3    -4⎤\n",
       "⎢                ⎥\n",
       "⎢0  -2  a - 3  -5⎥\n",
       "⎢                ⎥\n",
       "⎢0  0    -4    -4⎥\n",
       "⎢                ⎥\n",
       "⎢0  0   a + 2  -2⎥\n",
       "⎢                ⎥\n",
       "⎣0  0    -4    -4⎦"
      ]
     },
     "metadata": {},
     "output_type": "display_data"
    },
    {
     "name": "stdout",
     "output_type": "stream",
     "text": [
      "\n",
      "\n",
      "R_4 <- R_4 - (-1/2)R_3\n"
     ]
    },
    {
     "data": {
      "text/latex": [
       "$\\displaystyle \\left[\\begin{matrix}1 & -2 & -3 & -4\\\\0 & -2 & a - 3 & -5\\\\0 & 0 & -4 & -4\\\\0 & 0 & a & -4\\\\0 & 0 & -4 & -4\\end{matrix}\\right]$"
      ],
      "text/plain": [
       "⎡1  -2   -3    -4⎤\n",
       "⎢                ⎥\n",
       "⎢0  -2  a - 3  -5⎥\n",
       "⎢                ⎥\n",
       "⎢0  0    -4    -4⎥\n",
       "⎢                ⎥\n",
       "⎢0  0     a    -4⎥\n",
       "⎢                ⎥\n",
       "⎣0  0    -4    -4⎦"
      ]
     },
     "metadata": {},
     "output_type": "display_data"
    },
    {
     "name": "stdout",
     "output_type": "stream",
     "text": [
      "\n",
      "\n",
      "R_4 <- R_4 - (-a/4)R_3\n"
     ]
    },
    {
     "data": {
      "text/latex": [
       "$\\displaystyle \\left[\\begin{matrix}1 & -2 & -3 & -4\\\\0 & -2 & a - 3 & -5\\\\0 & 0 & -4 & -4\\\\0 & 0 & 0 & - a - 4\\\\0 & 0 & -4 & -4\\end{matrix}\\right]$"
      ],
      "text/plain": [
       "⎡1  -2   -3      -4  ⎤\n",
       "⎢                    ⎥\n",
       "⎢0  -2  a - 3    -5  ⎥\n",
       "⎢                    ⎥\n",
       "⎢0  0    -4      -4  ⎥\n",
       "⎢                    ⎥\n",
       "⎢0  0     0    -a - 4⎥\n",
       "⎢                    ⎥\n",
       "⎣0  0    -4      -4  ⎦"
      ]
     },
     "metadata": {},
     "output_type": "display_data"
    },
    {
     "name": "stdout",
     "output_type": "stream",
     "text": [
      "\n",
      "\n",
      "R_5 <- R_5 - (1)R_3\n"
     ]
    },
    {
     "data": {
      "text/latex": [
       "$\\displaystyle \\left[\\begin{matrix}1 & -2 & -3 & -4\\\\0 & -2 & a - 3 & -5\\\\0 & 0 & -4 & -4\\\\0 & 0 & 0 & - a - 4\\\\0 & 0 & 0 & 0\\end{matrix}\\right]$"
      ],
      "text/plain": [
       "⎡1  -2   -3      -4  ⎤\n",
       "⎢                    ⎥\n",
       "⎢0  -2  a - 3    -5  ⎥\n",
       "⎢                    ⎥\n",
       "⎢0  0    -4      -4  ⎥\n",
       "⎢                    ⎥\n",
       "⎢0  0     0    -a - 4⎥\n",
       "⎢                    ⎥\n",
       "⎣0  0     0      0   ⎦"
      ]
     },
     "metadata": {},
     "output_type": "display_data"
    },
    {
     "name": "stdout",
     "output_type": "stream",
     "text": [
      "\n",
      "\n"
     ]
    },
    {
     "data": {
      "text/latex": [
       "$\\displaystyle \\left( \\left[\\begin{matrix}1 & 0 & 0 & 0 & 0\\\\-1 & 0 & 1 & 0 & 0\\\\-1 & 1 & 0 & 0 & 0\\\\2 & -1 & - \\frac{a}{4} - \\frac{1}{2} & 1 & 0\\\\-1 & 0 & 1 & 0 & 1\\end{matrix}\\right], \\  \\left[\\begin{matrix}1 & -2 & -3 & -4\\\\0 & -2 & a - 3 & -5\\\\0 & 0 & -4 & -4\\\\0 & 0 & 0 & - a - 4\\\\0 & 0 & 0 & 0\\end{matrix}\\right]\\right)$"
      ],
      "text/plain": [
       "⎛⎡1   0      0     0  0⎤                        ⎞\n",
       "⎜⎢                     ⎥  ⎡1  -2   -3      -4  ⎤⎟\n",
       "⎜⎢-1  0      1     0  0⎥  ⎢                    ⎥⎟\n",
       "⎜⎢                     ⎥  ⎢0  -2  a - 3    -5  ⎥⎟\n",
       "⎜⎢-1  1      0     0  0⎥  ⎢                    ⎥⎟\n",
       "⎜⎢                     ⎥, ⎢0  0    -4      -4  ⎥⎟\n",
       "⎜⎢          a   1      ⎥  ⎢                    ⎥⎟\n",
       "⎜⎢2   -1  - ─ - ─  1  0⎥  ⎢0  0     0    -a - 4⎥⎟\n",
       "⎜⎢          4   2      ⎥  ⎢                    ⎥⎟\n",
       "⎜⎢                     ⎥  ⎣0  0     0      0   ⎦⎟\n",
       "⎝⎣-1  0      1     0  1⎦                        ⎠"
      ]
     },
     "execution_count": 17,
     "metadata": {},
     "output_type": "execute_result"
    }
   ],
   "source": [
    "A.ref()"
   ]
  },
  {
   "cell_type": "code",
   "execution_count": 18,
   "metadata": {},
   "outputs": [
    {
     "name": "stdout",
     "output_type": "stream",
     "text": [
      "Check if span(self) is subspace of span(other)\n"
     ]
    },
    {
     "data": {
      "text/latex": [
       "$\\displaystyle \\left[\\begin{matrix}1 & 0 & 0 & 0 & -1 & -1\\\\0 & 1 & 0 & -1 & 1 & 2\\\\0 & 0 & 1 & 2 & 1 & 1\\\\0 & 0 & 0 & 0 & 0 & 0\\end{matrix}\\right]$"
      ],
      "text/plain": [
       "⎡1  0  0  0   -1  -1⎤\n",
       "⎢                   ⎥\n",
       "⎢0  1  0  -1  1   2 ⎥\n",
       "⎢                   ⎥\n",
       "⎢0  0  1  2   1   1 ⎥\n",
       "⎢                   ⎥\n",
       "⎣0  0  0  0   0   0 ⎦"
      ]
     },
     "metadata": {},
     "output_type": "display_data"
    },
    {
     "name": "stdout",
     "output_type": "stream",
     "text": [
      "\n",
      "Check if span(other) is subspace of span(self)\n"
     ]
    },
    {
     "data": {
      "text/latex": [
       "$\\displaystyle \\left[\\begin{matrix}1 & 0 & 0 & \\frac{1}{2} & 0 & \\frac{1}{2}\\\\0 & 1 & 0 & - \\frac{5}{2} & -1 & - \\frac{1}{2}\\\\0 & 0 & 1 & \\frac{3}{2} & 1 & \\frac{1}{2}\\\\0 & 0 & 0 & 0 & 0 & 0\\end{matrix}\\right]$"
      ],
      "text/plain": [
       "⎡1  0  0  1/2   0   1/2 ⎤\n",
       "⎢                       ⎥\n",
       "⎢0  1  0  -5/2  -1  -1/2⎥\n",
       "⎢                       ⎥\n",
       "⎢0  0  1  3/2   1   1/2 ⎥\n",
       "⎢                       ⎥\n",
       "⎣0  0  0   0    0    0  ⎦"
      ]
     },
     "metadata": {},
     "output_type": "display_data"
    },
    {
     "data": {
      "text/plain": [
       "True"
      ]
     },
     "execution_count": 18,
     "metadata": {},
     "output_type": "execute_result"
    }
   ],
   "source": [
    "S = Matrix([[2, -2, -2],\n",
    "            [1, 0, 1],\n",
    "            [-3, 0, 3],\n",
    "            [1, 5, 8]])\n",
    "\n",
    "S.is_same_subspace(other=V.select_cols(0, 1, 2))"
   ]
  },
  {
   "cell_type": "code",
   "execution_count": 19,
   "metadata": {},
   "outputs": [
    {
     "data": {
      "text/latex": [
       "$\\displaystyle \\left[\\begin{matrix}1 & 0 & 0 & 0 & -1 & -1\\\\0 & 1 & 0 & -1 & 1 & 2\\\\0 & 0 & 1 & 2 & 1 & 1\\\\0 & 0 & 0 & 0 & 0 & 0\\end{matrix}\\right]$"
      ],
      "text/plain": [
       "⎡1  0  0  0   -1  -1⎤\n",
       "⎢                   ⎥\n",
       "⎢0  1  0  -1  1   2 ⎥\n",
       "⎢                   ⎥\n",
       "⎢0  0  1  2   1   1 ⎥\n",
       "⎢                   ⎥\n",
       "⎣0  0  0  0   0   0 ⎦"
      ]
     },
     "metadata": {},
     "output_type": "display_data"
    },
    {
     "data": {
      "text/latex": [
       "$\\displaystyle \\left[\\begin{matrix}0 & -1 & -1\\\\-1 & 1 & 2\\\\2 & 1 & 1\\end{matrix}\\right]$"
      ],
      "text/plain": [
       "⎡0   -1  -1⎤\n",
       "⎢          ⎥\n",
       "⎢-1  1   2 ⎥\n",
       "⎢          ⎥\n",
       "⎣2   1   1 ⎦"
      ]
     },
     "execution_count": 19,
     "metadata": {},
     "output_type": "execute_result"
    }
   ],
   "source": [
    "S.transition_matrix(to=V.select_cols(0, 1, 2))"
   ]
  },
  {
   "cell_type": "code",
   "execution_count": 47,
   "metadata": {},
   "outputs": [
    {
     "name": "stdout",
     "output_type": "stream",
     "text": [
      "⎡2   -1  1  9⎤\n",
      "⎢            ⎥\n",
      "⎢1   -1  1  5⎥\n",
      "⎢            ⎥\n",
      "⎢0   -1  1  1⎥\n",
      "⎢            ⎥\n",
      "⎢0   -2  2  2⎥\n",
      "⎢            ⎥\n",
      "⎣-1  -2  2  4⎦\n",
      "⎡4  0  2   2⎤\n",
      "⎢           ⎥\n",
      "⎢1  2  0   1⎥\n",
      "⎢           ⎥\n",
      "⎢2  4  -1  1⎥\n",
      "⎢           ⎥\n",
      "⎢0  2  -1  0⎥\n",
      "⎢           ⎥\n",
      "⎣2  4  0   2⎦\n",
      "A linear system whose solution space is the subspace of self. Null(self^T)^T\n",
      "⎡1  -2  1  0  0⎤\n",
      "⎢              ⎥\n",
      "⎣2  -4  0  1  0⎦\n",
      "\n",
      "A linear system whose solution space is the subspace of other. Null(other^T)^T\n",
      "⎡1/4  0   -1/2  1  0⎤\n",
      "⎢                   ⎥\n",
      "⎣ 0   -2   0    0  1⎦\n",
      "\n",
      "Before RREF: [self / other]\n",
      "⎡ 1   -2   1    0  0⎤\n",
      "⎢                   ⎥\n",
      "⎢ 2   -4   0    1  0⎥\n",
      "⎢                   ⎥\n",
      "⎢1/4  0   -1/2  1  0⎥\n",
      "⎢                   ⎥\n",
      "⎣ 0   -2   0    0  1⎦\n",
      "\n",
      "After RREF:\n",
      "⎡1  0  0  0  -6/5⎤\n",
      "⎢                ⎥\n",
      "⎢0  1  0  0  -1/2⎥\n",
      "⎢                ⎥\n",
      "⎢0  0  1  0  1/5 ⎥\n",
      "⎢                ⎥\n",
      "⎣0  0  0  1  2/5 ⎦\n"
     ]
    }
   ],
   "source": [
    "A = Matrix.from_latex(r'$\\left(\\begin{array}{c c c c}{{2}}&{{-1}}&{{1}}&{{9}}\\\\ {{1}}&{{-1}}&{{1}}&{{5}}\\\\0 & -1 & 1 & 1\\\\ {{0}}&{{-2}}&{{2}}&{{2}}\\\\ {{-1}}&{{-2}}&{{2}}&{{4}}\\end{array}\\right)$')\n",
    "B = Matrix.from_latex(r'$\\left(\\begin{array}{l l l l}{4}&{0}&{2}&{2}\\\\ {1}&{2}&{0}&{1}\\\\ {2}&{4}&{-1}&{1}\\\\ {0}&{2}&{-1}&{0}\\\\ {2}&{4}&{0}&{2}\\end{array}\\right)$')\n",
    "\n",
    "v = A.intersect_subspace(B)"
   ]
  },
  {
   "cell_type": "code",
   "execution_count": 49,
   "metadata": {},
   "outputs": [
    {
     "data": {
      "text/latex": [
       "$\\displaystyle \\left[\\begin{matrix}2 & -1 & 9\\\\1 & -1 & 5\\\\0 & -1 & 1\\\\0 & -2 & 2\\\\-1 & -2 & 4\\end{matrix}\\right]$"
      ],
      "text/plain": [
       "⎡2   -1  9⎤\n",
       "⎢         ⎥\n",
       "⎢1   -1  5⎥\n",
       "⎢         ⎥\n",
       "⎢0   -1  1⎥\n",
       "⎢         ⎥\n",
       "⎢0   -2  2⎥\n",
       "⎢         ⎥\n",
       "⎣-1  -2  4⎦"
      ]
     },
     "execution_count": 49,
     "metadata": {},
     "output_type": "execute_result"
    }
   ],
   "source": [
    "# colA = A.T.rref()[0].select_rows(0, 1, 2).T\n",
    "colA = Matrix.from_list(A.columnspace())\n",
    "colA"
   ]
  },
  {
   "cell_type": "code",
   "execution_count": 50,
   "metadata": {},
   "outputs": [
    {
     "data": {
      "text/latex": [
       "$\\displaystyle \\left[\\begin{matrix}4 & 0 & 2\\\\1 & 2 & 0\\\\2 & 4 & -1\\\\0 & 2 & -1\\\\2 & 4 & 0\\end{matrix}\\right]$"
      ],
      "text/plain": [
       "⎡4  0  2 ⎤\n",
       "⎢        ⎥\n",
       "⎢1  2  0 ⎥\n",
       "⎢        ⎥\n",
       "⎢2  4  -1⎥\n",
       "⎢        ⎥\n",
       "⎢0  2  -1⎥\n",
       "⎢        ⎥\n",
       "⎣2  4  0 ⎦"
      ]
     },
     "execution_count": 50,
     "metadata": {},
     "output_type": "execute_result"
    }
   ],
   "source": [
    "# colB = B.T.rref()[0].select_rows(0, 1, 2).T\n",
    "colB = Matrix.from_list(B.columnspace())\n",
    "colB"
   ]
  },
  {
   "cell_type": "code",
   "execution_count": 51,
   "metadata": {},
   "outputs": [
    {
     "data": {
      "text/latex": [
       "$\\displaystyle \\left( \\left[\\begin{matrix}1 & 0 & 0 & 0 & 0 & \\frac{7}{12}\\\\0 & 1 & 0 & 0 & 0 & - \\frac{11}{24}\\\\0 & 0 & 1 & 0 & 0 & - \\frac{7}{24}\\\\0 & 0 & 0 & 1 & 0 & \\frac{1}{4}\\\\0 & 0 & 0 & 0 & 1 & - \\frac{1}{3}\\end{matrix}\\right], \\  \\left( 0, \\  1, \\  2, \\  3, \\  4\\right)\\right)$"
      ],
      "text/plain": [
       "⎛⎡1  0  0  0  0  7/12 ⎤                 ⎞\n",
       "⎜⎢                    ⎥                 ⎟\n",
       "⎜⎢               -11  ⎥                 ⎟\n",
       "⎜⎢0  1  0  0  0  ──── ⎥                 ⎟\n",
       "⎜⎢                24  ⎥                 ⎟\n",
       "⎜⎢                    ⎥, (0, 1, 2, 3, 4)⎟\n",
       "⎜⎢0  0  1  0  0  -7/24⎥                 ⎟\n",
       "⎜⎢                    ⎥                 ⎟\n",
       "⎜⎢0  0  0  1  0   1/4 ⎥                 ⎟\n",
       "⎜⎢                    ⎥                 ⎟\n",
       "⎝⎣0  0  0  0  1  -1/3 ⎦                 ⎠"
      ]
     },
     "execution_count": 51,
     "metadata": {},
     "output_type": "execute_result"
    }
   ],
   "source": [
    "colA.row_join(-colB).rref()"
   ]
  },
  {
   "cell_type": "code",
   "execution_count": 53,
   "metadata": {},
   "outputs": [
    {
     "data": {
      "text/latex": [
       "$\\displaystyle \\left[\\begin{matrix}-6\\\\- \\frac{5}{2}\\\\1\\\\2\\\\-5\\end{matrix}\\right]$"
      ],
      "text/plain": [
       "⎡ -6 ⎤\n",
       "⎢    ⎥\n",
       "⎢-5/2⎥\n",
       "⎢    ⎥\n",
       "⎢ 1  ⎥\n",
       "⎢    ⎥\n",
       "⎢ 2  ⎥\n",
       "⎢    ⎥\n",
       "⎣ -5 ⎦"
      ]
     },
     "execution_count": 53,
     "metadata": {},
     "output_type": "execute_result"
    }
   ],
   "source": [
    "colA @ -Matrix([7/12, -11/24, -7/24]).simplify() * -6"
   ]
  },
  {
   "cell_type": "code",
   "execution_count": 46,
   "metadata": {},
   "outputs": [
    {
     "data": {
      "text/latex": [
       "$\\displaystyle \\left[\\begin{matrix}-6\\\\- \\frac{5}{2}\\\\1\\\\2\\\\-5\\end{matrix}\\right]$"
      ],
      "text/plain": [
       "⎡ -6 ⎤\n",
       "⎢    ⎥\n",
       "⎢-5/2⎥\n",
       "⎢    ⎥\n",
       "⎢ 1  ⎥\n",
       "⎢    ⎥\n",
       "⎢ 2  ⎥\n",
       "⎢    ⎥\n",
       "⎣ -5 ⎦"
      ]
     },
     "execution_count": 46,
     "metadata": {},
     "output_type": "execute_result"
    }
   ],
   "source": [
    "v*-5"
   ]
  },
  {
   "cell_type": "markdown",
   "metadata": {},
   "source": [
    "# Eigen Scrap"
   ]
  },
  {
   "cell_type": "code",
   "execution_count": 2,
   "metadata": {},
   "outputs": [
    {
     "data": {
      "text/latex": [
       "$\\displaystyle \\left(x - 1\\right) \\left(x - \\frac{2}{5}\\right) \\left(x + \\frac{1}{10}\\right)$"
      ],
      "text/plain": [
       "(x - 1)⋅(x - 2/5)⋅(x + 1/10)"
      ]
     },
     "execution_count": 2,
     "metadata": {},
     "output_type": "execute_result"
    }
   ],
   "source": [
    "A = Matrix([[0.4, 0.1, 0.5],\n",
    "            [0.2, 0.6, 0.2],\n",
    "            [0.4, 0.3, 0.3]]).simplify()\n",
    "\n",
    "A.cpoly()"
   ]
  },
  {
   "cell_type": "code",
   "execution_count": 3,
   "metadata": {},
   "outputs": [
    {
     "name": "stdout",
     "output_type": "stream",
     "text": [
      "Characteristic Polynomial\n"
     ]
    },
    {
     "data": {
      "text/latex": [
       "$\\displaystyle \\left(x - 1\\right) \\left(x - \\frac{2}{5}\\right) \\left(x + \\frac{1}{10}\\right)$"
      ],
      "text/plain": [
       "(x - 1)⋅(x - 2/5)⋅(x + 1/10)"
      ]
     },
     "metadata": {},
     "output_type": "display_data"
    },
    {
     "name": "stdout",
     "output_type": "stream",
     "text": [
      "Original: (1)I - A\n"
     ]
    },
    {
     "data": {
      "text/latex": [
       "$\\displaystyle \\left[\\begin{matrix}\\frac{3}{5} & - \\frac{1}{10} & - \\frac{1}{2}\\\\- \\frac{1}{5} & \\frac{2}{5} & - \\frac{1}{5}\\\\- \\frac{2}{5} & - \\frac{3}{10} & \\frac{7}{10}\\end{matrix}\\right]$"
      ],
      "text/plain": [
       "⎡3/5   -1/10  -1/2⎤\n",
       "⎢                 ⎥\n",
       "⎢-1/5   2/5   -1/5⎥\n",
       "⎢                 ⎥\n",
       "⎣-2/5  -3/10  7/10⎦"
      ]
     },
     "metadata": {},
     "output_type": "display_data"
    },
    {
     "name": "stdout",
     "output_type": "stream",
     "text": [
      "\n",
      "After RREF:\n"
     ]
    },
    {
     "data": {
      "text/latex": [
       "$\\displaystyle \\left( \\left[\\begin{matrix}1 & 0 & -1\\\\0 & 1 & -1\\\\0 & 0 & 0\\end{matrix}\\right], \\  \\left( 0, \\  1\\right)\\right)$"
      ],
      "text/plain": [
       "⎛⎡1  0  -1⎤        ⎞\n",
       "⎜⎢        ⎥        ⎟\n",
       "⎜⎢0  1  -1⎥, (0, 1)⎟\n",
       "⎜⎢        ⎥        ⎟\n",
       "⎝⎣0  0  0 ⎦        ⎠"
      ]
     },
     "metadata": {},
     "output_type": "display_data"
    },
    {
     "name": "stdout",
     "output_type": "stream",
     "text": [
      "\n",
      "Eigenvectors:\n"
     ]
    },
    {
     "data": {
      "text/latex": [
       "$\\displaystyle \\left[ \\left[\\begin{matrix}1\\\\1\\\\1\\end{matrix}\\right]\\right]$"
      ],
      "text/plain": [
       "⎡⎡1⎤⎤\n",
       "⎢⎢ ⎥⎥\n",
       "⎢⎢1⎥⎥\n",
       "⎢⎢ ⎥⎥\n",
       "⎣⎣1⎦⎦"
      ]
     },
     "metadata": {},
     "output_type": "display_data"
    },
    {
     "name": "stdout",
     "output_type": "stream",
     "text": [
      "\n",
      "\n",
      "Original: (2/5)I - A\n"
     ]
    },
    {
     "data": {
      "text/latex": [
       "$\\displaystyle \\left[\\begin{matrix}0 & - \\frac{1}{10} & - \\frac{1}{2}\\\\- \\frac{1}{5} & - \\frac{1}{5} & - \\frac{1}{5}\\\\- \\frac{2}{5} & - \\frac{3}{10} & \\frac{1}{10}\\end{matrix}\\right]$"
      ],
      "text/plain": [
       "⎡ 0    -1/10  -1/2⎤\n",
       "⎢                 ⎥\n",
       "⎢-1/5  -1/5   -1/5⎥\n",
       "⎢                 ⎥\n",
       "⎣-2/5  -3/10  1/10⎦"
      ]
     },
     "metadata": {},
     "output_type": "display_data"
    },
    {
     "name": "stdout",
     "output_type": "stream",
     "text": [
      "\n",
      "After RREF:\n"
     ]
    },
    {
     "data": {
      "text/latex": [
       "$\\displaystyle \\left( \\left[\\begin{matrix}1 & 0 & -4\\\\0 & 1 & 5\\\\0 & 0 & 0\\end{matrix}\\right], \\  \\left( 0, \\  1\\right)\\right)$"
      ],
      "text/plain": [
       "⎛⎡1  0  -4⎤        ⎞\n",
       "⎜⎢        ⎥        ⎟\n",
       "⎜⎢0  1  5 ⎥, (0, 1)⎟\n",
       "⎜⎢        ⎥        ⎟\n",
       "⎝⎣0  0  0 ⎦        ⎠"
      ]
     },
     "metadata": {},
     "output_type": "display_data"
    },
    {
     "name": "stdout",
     "output_type": "stream",
     "text": [
      "\n",
      "Eigenvectors:\n"
     ]
    },
    {
     "data": {
      "text/latex": [
       "$\\displaystyle \\left[ \\left[\\begin{matrix}4\\\\-5\\\\1\\end{matrix}\\right]\\right]$"
      ],
      "text/plain": [
       "⎡⎡4 ⎤⎤\n",
       "⎢⎢  ⎥⎥\n",
       "⎢⎢-5⎥⎥\n",
       "⎢⎢  ⎥⎥\n",
       "⎣⎣1 ⎦⎦"
      ]
     },
     "metadata": {},
     "output_type": "display_data"
    },
    {
     "name": "stdout",
     "output_type": "stream",
     "text": [
      "\n",
      "\n",
      "Original: (-1/10)I - A\n"
     ]
    },
    {
     "data": {
      "text/latex": [
       "$\\displaystyle \\left[\\begin{matrix}- \\frac{1}{2} & - \\frac{1}{10} & - \\frac{1}{2}\\\\- \\frac{1}{5} & - \\frac{7}{10} & - \\frac{1}{5}\\\\- \\frac{2}{5} & - \\frac{3}{10} & - \\frac{2}{5}\\end{matrix}\\right]$"
      ],
      "text/plain": [
       "⎡-1/2  -1/10  -1/2⎤\n",
       "⎢                 ⎥\n",
       "⎢-1/5  -7/10  -1/5⎥\n",
       "⎢                 ⎥\n",
       "⎣-2/5  -3/10  -2/5⎦"
      ]
     },
     "metadata": {},
     "output_type": "display_data"
    },
    {
     "name": "stdout",
     "output_type": "stream",
     "text": [
      "\n",
      "After RREF:\n"
     ]
    },
    {
     "data": {
      "text/latex": [
       "$\\displaystyle \\left( \\left[\\begin{matrix}1 & 0 & 1\\\\0 & 1 & 0\\\\0 & 0 & 0\\end{matrix}\\right], \\  \\left( 0, \\  1\\right)\\right)$"
      ],
      "text/plain": [
       "⎛⎡1  0  1⎤        ⎞\n",
       "⎜⎢       ⎥        ⎟\n",
       "⎜⎢0  1  0⎥, (0, 1)⎟\n",
       "⎜⎢       ⎥        ⎟\n",
       "⎝⎣0  0  0⎦        ⎠"
      ]
     },
     "metadata": {},
     "output_type": "display_data"
    },
    {
     "name": "stdout",
     "output_type": "stream",
     "text": [
      "\n",
      "Eigenvectors:\n"
     ]
    },
    {
     "data": {
      "text/latex": [
       "$\\displaystyle \\left[ \\left[\\begin{matrix}-1\\\\0\\\\1\\end{matrix}\\right]\\right]$"
      ],
      "text/plain": [
       "⎡⎡-1⎤⎤\n",
       "⎢⎢  ⎥⎥\n",
       "⎢⎢0 ⎥⎥\n",
       "⎢⎢  ⎥⎥\n",
       "⎣⎣1 ⎦⎦"
      ]
     },
     "metadata": {},
     "output_type": "display_data"
    },
    {
     "name": "stdout",
     "output_type": "stream",
     "text": [
      "\n",
      "\n"
     ]
    },
    {
     "data": {
      "text/latex": [
       "$\\displaystyle \\left( \\left[\\begin{matrix}-1 & 4 & 1\\\\0 & -5 & 1\\\\1 & 1 & 1\\end{matrix}\\right], \\  \\left[\\begin{matrix}- \\frac{1}{10} & 0 & 0\\\\0 & \\frac{2}{5} & 0\\\\0 & 0 & 1\\end{matrix}\\right]\\right)$"
      ],
      "text/plain": [
       "⎛⎡-1  4   1⎤  ⎡-1/10   0   0⎤⎞\n",
       "⎜⎢         ⎥  ⎢             ⎥⎟\n",
       "⎜⎢0   -5  1⎥, ⎢  0    2/5  0⎥⎟\n",
       "⎜⎢         ⎥  ⎢             ⎥⎟\n",
       "⎝⎣1   1   1⎦  ⎣  0     0   1⎦⎠"
      ]
     },
     "execution_count": 3,
     "metadata": {},
     "output_type": "execute_result"
    }
   ],
   "source": [
    "A.diagonalize(verbosity=1)"
   ]
  },
  {
   "cell_type": "code",
   "execution_count": 8,
   "metadata": {},
   "outputs": [
    {
     "data": {
      "text/latex": [
       "$\\displaystyle \\left( \\left[\\begin{matrix}1 & 0 & 1.0\\\\0 & 1 & 0\\\\0 & 0 & 0\\end{matrix}\\right], \\  \\left( 0, \\  1\\right)\\right)$"
      ],
      "text/plain": [
       "⎛⎡1  0  1.0⎤        ⎞\n",
       "⎜⎢         ⎥        ⎟\n",
       "⎜⎢0  1   0 ⎥, (0, 1)⎟\n",
       "⎜⎢         ⎥        ⎟\n",
       "⎝⎣0  0   0 ⎦        ⎠"
      ]
     },
     "execution_count": 8,
     "metadata": {},
     "output_type": "execute_result"
    }
   ],
   "source": [
    "(-0.1* A.id() - A).rref()"
   ]
  },
  {
   "cell_type": "code",
   "execution_count": 4,
   "metadata": {},
   "outputs": [
    {
     "name": "stdout",
     "output_type": "stream",
     "text": [
      "Characteristic Polynomial\n"
     ]
    },
    {
     "data": {
      "text/latex": [
       "$\\displaystyle \\left(x - 1\\right) \\left(x - \\frac{2}{5}\\right) \\left(x + \\frac{1}{10}\\right)$"
      ],
      "text/plain": [
       "(x - 1)⋅(x - 2/5)⋅(x + 1/10)"
      ]
     },
     "metadata": {},
     "output_type": "display_data"
    },
    {
     "name": "stdout",
     "output_type": "stream",
     "text": [
      "Original: (1)I - A\n"
     ]
    },
    {
     "data": {
      "text/latex": [
       "$\\displaystyle \\left[\\begin{matrix}\\frac{3}{5} & - \\frac{1}{10} & - \\frac{1}{2}\\\\- \\frac{1}{5} & \\frac{2}{5} & - \\frac{1}{5}\\\\- \\frac{2}{5} & - \\frac{3}{10} & \\frac{7}{10}\\end{matrix}\\right]$"
      ],
      "text/plain": [
       "⎡3/5   -1/10  -1/2⎤\n",
       "⎢                 ⎥\n",
       "⎢-1/5   2/5   -1/5⎥\n",
       "⎢                 ⎥\n",
       "⎣-2/5  -3/10  7/10⎦"
      ]
     },
     "metadata": {},
     "output_type": "display_data"
    },
    {
     "name": "stdout",
     "output_type": "stream",
     "text": [
      "\n",
      "After RREF:\n"
     ]
    },
    {
     "data": {
      "text/latex": [
       "$\\displaystyle \\left( \\left[\\begin{matrix}1 & 0 & -1\\\\0 & 1 & -1\\\\0 & 0 & 0\\end{matrix}\\right], \\  \\left( 0, \\  1\\right)\\right)$"
      ],
      "text/plain": [
       "⎛⎡1  0  -1⎤        ⎞\n",
       "⎜⎢        ⎥        ⎟\n",
       "⎜⎢0  1  -1⎥, (0, 1)⎟\n",
       "⎜⎢        ⎥        ⎟\n",
       "⎝⎣0  0  0 ⎦        ⎠"
      ]
     },
     "metadata": {},
     "output_type": "display_data"
    },
    {
     "name": "stdout",
     "output_type": "stream",
     "text": [
      "\n",
      "Eigenvectors:\n"
     ]
    },
    {
     "data": {
      "text/latex": [
       "$\\displaystyle \\left[ \\left[\\begin{matrix}1\\\\1\\\\1\\end{matrix}\\right]\\right]$"
      ],
      "text/plain": [
       "⎡⎡1⎤⎤\n",
       "⎢⎢ ⎥⎥\n",
       "⎢⎢1⎥⎥\n",
       "⎢⎢ ⎥⎥\n",
       "⎣⎣1⎦⎦"
      ]
     },
     "metadata": {},
     "output_type": "display_data"
    },
    {
     "name": "stdout",
     "output_type": "stream",
     "text": [
      "\n",
      "\n",
      "Original: (2/5)I - A\n"
     ]
    },
    {
     "data": {
      "text/latex": [
       "$\\displaystyle \\left[\\begin{matrix}0 & - \\frac{1}{10} & - \\frac{1}{2}\\\\- \\frac{1}{5} & - \\frac{1}{5} & - \\frac{1}{5}\\\\- \\frac{2}{5} & - \\frac{3}{10} & \\frac{1}{10}\\end{matrix}\\right]$"
      ],
      "text/plain": [
       "⎡ 0    -1/10  -1/2⎤\n",
       "⎢                 ⎥\n",
       "⎢-1/5  -1/5   -1/5⎥\n",
       "⎢                 ⎥\n",
       "⎣-2/5  -3/10  1/10⎦"
      ]
     },
     "metadata": {},
     "output_type": "display_data"
    },
    {
     "name": "stdout",
     "output_type": "stream",
     "text": [
      "\n",
      "After RREF:\n"
     ]
    },
    {
     "data": {
      "text/latex": [
       "$\\displaystyle \\left( \\left[\\begin{matrix}1 & 0 & -4\\\\0 & 1 & 5\\\\0 & 0 & 0\\end{matrix}\\right], \\  \\left( 0, \\  1\\right)\\right)$"
      ],
      "text/plain": [
       "⎛⎡1  0  -4⎤        ⎞\n",
       "⎜⎢        ⎥        ⎟\n",
       "⎜⎢0  1  5 ⎥, (0, 1)⎟\n",
       "⎜⎢        ⎥        ⎟\n",
       "⎝⎣0  0  0 ⎦        ⎠"
      ]
     },
     "metadata": {},
     "output_type": "display_data"
    },
    {
     "name": "stdout",
     "output_type": "stream",
     "text": [
      "\n",
      "Eigenvectors:\n"
     ]
    },
    {
     "data": {
      "text/latex": [
       "$\\displaystyle \\left[ \\left[\\begin{matrix}4\\\\-5\\\\1\\end{matrix}\\right]\\right]$"
      ],
      "text/plain": [
       "⎡⎡4 ⎤⎤\n",
       "⎢⎢  ⎥⎥\n",
       "⎢⎢-5⎥⎥\n",
       "⎢⎢  ⎥⎥\n",
       "⎣⎣1 ⎦⎦"
      ]
     },
     "metadata": {},
     "output_type": "display_data"
    },
    {
     "name": "stdout",
     "output_type": "stream",
     "text": [
      "\n",
      "\n",
      "Original: (-1/10)I - A\n"
     ]
    },
    {
     "data": {
      "text/latex": [
       "$\\displaystyle \\left[\\begin{matrix}- \\frac{1}{2} & - \\frac{1}{10} & - \\frac{1}{2}\\\\- \\frac{1}{5} & - \\frac{7}{10} & - \\frac{1}{5}\\\\- \\frac{2}{5} & - \\frac{3}{10} & - \\frac{2}{5}\\end{matrix}\\right]$"
      ],
      "text/plain": [
       "⎡-1/2  -1/10  -1/2⎤\n",
       "⎢                 ⎥\n",
       "⎢-1/5  -7/10  -1/5⎥\n",
       "⎢                 ⎥\n",
       "⎣-2/5  -3/10  -2/5⎦"
      ]
     },
     "metadata": {},
     "output_type": "display_data"
    },
    {
     "name": "stdout",
     "output_type": "stream",
     "text": [
      "\n",
      "After RREF:\n"
     ]
    },
    {
     "data": {
      "text/latex": [
       "$\\displaystyle \\left( \\left[\\begin{matrix}1 & 0 & 1\\\\0 & 1 & 0\\\\0 & 0 & 0\\end{matrix}\\right], \\  \\left( 0, \\  1\\right)\\right)$"
      ],
      "text/plain": [
       "⎛⎡1  0  1⎤        ⎞\n",
       "⎜⎢       ⎥        ⎟\n",
       "⎜⎢0  1  0⎥, (0, 1)⎟\n",
       "⎜⎢       ⎥        ⎟\n",
       "⎝⎣0  0  0⎦        ⎠"
      ]
     },
     "metadata": {},
     "output_type": "display_data"
    },
    {
     "name": "stdout",
     "output_type": "stream",
     "text": [
      "\n",
      "Eigenvectors:\n"
     ]
    },
    {
     "data": {
      "text/latex": [
       "$\\displaystyle \\left[ \\left[\\begin{matrix}-1\\\\0\\\\1\\end{matrix}\\right]\\right]$"
      ],
      "text/plain": [
       "⎡⎡-1⎤⎤\n",
       "⎢⎢  ⎥⎥\n",
       "⎢⎢0 ⎥⎥\n",
       "⎢⎢  ⎥⎥\n",
       "⎣⎣1 ⎦⎦"
      ]
     },
     "metadata": {},
     "output_type": "display_data"
    },
    {
     "name": "stdout",
     "output_type": "stream",
     "text": [
      "\n",
      "\n"
     ]
    },
    {
     "data": {
      "text/latex": [
       "$\\displaystyle \\left( \\left[\\begin{matrix}-1 & 4 & 1\\\\0 & -5 & 1\\\\1 & 1 & 1\\end{matrix}\\right], \\  \\left[\\begin{matrix}- \\frac{1}{10} & 0 & 0\\\\0 & \\frac{2}{5} & 0\\\\0 & 0 & 1\\end{matrix}\\right], \\  \\left[\\begin{matrix}- \\frac{2}{5} & - \\frac{1}{5} & \\frac{3}{5}\\\\\\frac{1}{15} & - \\frac{2}{15} & \\frac{1}{15}\\\\\\frac{1}{3} & \\frac{1}{3} & \\frac{1}{3}\\end{matrix}\\right]\\right)$"
      ],
      "text/plain": [
       "⎛⎡-1  4   1⎤  ⎡-1/10   0   0⎤  ⎡-2/5  -1/5   3/5 ⎤⎞\n",
       "⎜⎢         ⎥  ⎢             ⎥  ⎢                 ⎥⎟\n",
       "⎜⎢0   -5  1⎥, ⎢  0    2/5  0⎥, ⎢1/15  -2/15  1/15⎥⎟\n",
       "⎜⎢         ⎥  ⎢             ⎥  ⎢                 ⎥⎟\n",
       "⎝⎣1   1   1⎦  ⎣  0     0   1⎦  ⎣1/3    1/3   1/3 ⎦⎠"
      ]
     },
     "execution_count": 4,
     "metadata": {},
     "output_type": "execute_result"
    }
   ],
   "source": [
    "P, D = A.diagonalize(verbosity=1)\n",
    "P, D, P**-1"
   ]
  },
  {
   "cell_type": "code",
   "execution_count": 22,
   "metadata": {},
   "outputs": [
    {
     "data": {
      "text/latex": [
       "$\\displaystyle \\left[\\begin{matrix}33.3\\\\33.3\\\\33.3\\end{matrix}\\right]$"
      ],
      "text/plain": [
       "⎡33.3⎤\n",
       "⎢    ⎥\n",
       "⎢33.3⎥\n",
       "⎢    ⎥\n",
       "⎣33.3⎦"
      ]
     },
     "execution_count": 22,
     "metadata": {},
     "output_type": "execute_result"
    }
   ],
   "source": [
    "A**100 @ Matrix([100, 0, 0]).evalf(3)"
   ]
  },
  {
   "cell_type": "code",
   "execution_count": 5,
   "metadata": {},
   "outputs": [
    {
     "data": {
      "text/latex": [
       "$\\displaystyle \\left(x - 4\\right)^{2} \\left(x - 1\\right)$"
      ],
      "text/plain": [
       "       2        \n",
       "(x - 4) ⋅(x - 1)"
      ]
     },
     "execution_count": 5,
     "metadata": {},
     "output_type": "execute_result"
    }
   ],
   "source": [
    "A = Matrix([[1, 0, 3],\n",
    "            [0, 4, 0],\n",
    "            [0, 0, 4]])\n",
    "\n",
    "A.cpoly()"
   ]
  },
  {
   "cell_type": "code",
   "execution_count": 6,
   "metadata": {},
   "outputs": [
    {
     "name": "stdout",
     "output_type": "stream",
     "text": [
      "Characteristic Polynomial\n"
     ]
    },
    {
     "data": {
      "text/latex": [
       "$\\displaystyle \\left(x - 4\\right)^{2} \\left(x - 1\\right)$"
      ],
      "text/plain": [
       "       2        \n",
       "(x - 4) ⋅(x - 1)"
      ]
     },
     "metadata": {},
     "output_type": "display_data"
    },
    {
     "name": "stdout",
     "output_type": "stream",
     "text": [
      "Original: (1)I - A\n"
     ]
    },
    {
     "data": {
      "text/latex": [
       "$\\displaystyle \\left[\\begin{matrix}0 & 0 & -3\\\\0 & -3 & 0\\\\0 & 0 & -3\\end{matrix}\\right]$"
      ],
      "text/plain": [
       "⎡0  0   -3⎤\n",
       "⎢         ⎥\n",
       "⎢0  -3  0 ⎥\n",
       "⎢         ⎥\n",
       "⎣0  0   -3⎦"
      ]
     },
     "metadata": {},
     "output_type": "display_data"
    },
    {
     "name": "stdout",
     "output_type": "stream",
     "text": [
      "\n",
      "After RREF:\n"
     ]
    },
    {
     "data": {
      "text/latex": [
       "$\\displaystyle \\left( \\left[\\begin{matrix}0 & 1 & 0\\\\0 & 0 & 1\\\\0 & 0 & 0\\end{matrix}\\right], \\  \\left( 1, \\  2\\right)\\right)$"
      ],
      "text/plain": [
       "⎛⎡0  1  0⎤        ⎞\n",
       "⎜⎢       ⎥        ⎟\n",
       "⎜⎢0  0  1⎥, (1, 2)⎟\n",
       "⎜⎢       ⎥        ⎟\n",
       "⎝⎣0  0  0⎦        ⎠"
      ]
     },
     "metadata": {},
     "output_type": "display_data"
    },
    {
     "name": "stdout",
     "output_type": "stream",
     "text": [
      "\n",
      "Eigenvectors:\n"
     ]
    },
    {
     "data": {
      "text/latex": [
       "$\\displaystyle \\left[ \\left[\\begin{matrix}1\\\\0\\\\0\\end{matrix}\\right]\\right]$"
      ],
      "text/plain": [
       "⎡⎡1⎤⎤\n",
       "⎢⎢ ⎥⎥\n",
       "⎢⎢0⎥⎥\n",
       "⎢⎢ ⎥⎥\n",
       "⎣⎣0⎦⎦"
      ]
     },
     "metadata": {},
     "output_type": "display_data"
    },
    {
     "name": "stdout",
     "output_type": "stream",
     "text": [
      "\n",
      "\n",
      "Original: (4)I - A\n"
     ]
    },
    {
     "data": {
      "text/latex": [
       "$\\displaystyle \\left[\\begin{matrix}3 & 0 & -3\\\\0 & 0 & 0\\\\0 & 0 & 0\\end{matrix}\\right]$"
      ],
      "text/plain": [
       "⎡3  0  -3⎤\n",
       "⎢        ⎥\n",
       "⎢0  0  0 ⎥\n",
       "⎢        ⎥\n",
       "⎣0  0  0 ⎦"
      ]
     },
     "metadata": {},
     "output_type": "display_data"
    },
    {
     "name": "stdout",
     "output_type": "stream",
     "text": [
      "\n",
      "After RREF:\n"
     ]
    },
    {
     "data": {
      "text/latex": [
       "$\\displaystyle \\left( \\left[\\begin{matrix}1 & 0 & -1\\\\0 & 0 & 0\\\\0 & 0 & 0\\end{matrix}\\right], \\  \\left( 0,\\right)\\right)$"
      ],
      "text/plain": [
       "⎛⎡1  0  -1⎤      ⎞\n",
       "⎜⎢        ⎥      ⎟\n",
       "⎜⎢0  0  0 ⎥, (0,)⎟\n",
       "⎜⎢        ⎥      ⎟\n",
       "⎝⎣0  0  0 ⎦      ⎠"
      ]
     },
     "metadata": {},
     "output_type": "display_data"
    },
    {
     "name": "stdout",
     "output_type": "stream",
     "text": [
      "\n",
      "Eigenvectors:\n"
     ]
    },
    {
     "data": {
      "text/latex": [
       "$\\displaystyle \\left[ \\left[\\begin{matrix}0\\\\1\\\\0\\end{matrix}\\right], \\  \\left[\\begin{matrix}1\\\\0\\\\1\\end{matrix}\\right]\\right]$"
      ],
      "text/plain": [
       "⎡⎡0⎤  ⎡1⎤⎤\n",
       "⎢⎢ ⎥  ⎢ ⎥⎥\n",
       "⎢⎢1⎥, ⎢0⎥⎥\n",
       "⎢⎢ ⎥  ⎢ ⎥⎥\n",
       "⎣⎣0⎦  ⎣1⎦⎦"
      ]
     },
     "metadata": {},
     "output_type": "display_data"
    },
    {
     "name": "stdout",
     "output_type": "stream",
     "text": [
      "\n",
      "\n"
     ]
    },
    {
     "data": {
      "text/latex": [
       "$\\displaystyle \\left( \\left[\\begin{matrix}1 & 0 & 1\\\\0 & 1 & 0\\\\0 & 0 & 1\\end{matrix}\\right], \\  \\left[\\begin{matrix}1 & 0 & 0\\\\0 & 4 & 0\\\\0 & 0 & 4\\end{matrix}\\right], \\  \\left[\\begin{matrix}1 & 0 & -1\\\\0 & 1 & 0\\\\0 & 0 & 1\\end{matrix}\\right]\\right)$"
      ],
      "text/plain": [
       "⎛⎡1  0  1⎤  ⎡1  0  0⎤  ⎡1  0  -1⎤⎞\n",
       "⎜⎢       ⎥  ⎢       ⎥  ⎢        ⎥⎟\n",
       "⎜⎢0  1  0⎥, ⎢0  4  0⎥, ⎢0  1  0 ⎥⎟\n",
       "⎜⎢       ⎥  ⎢       ⎥  ⎢        ⎥⎟\n",
       "⎝⎣0  0  1⎦  ⎣0  0  4⎦  ⎣0  0  1 ⎦⎠"
      ]
     },
     "execution_count": 6,
     "metadata": {},
     "output_type": "execute_result"
    }
   ],
   "source": [
    "P, D = A.diagonalize(verbosity=1)\n",
    "P, D, P**-1"
   ]
  },
  {
   "cell_type": "code",
   "execution_count": 34,
   "metadata": {},
   "outputs": [
    {
     "data": {
      "text/plain": [
       "True"
      ]
     },
     "execution_count": 34,
     "metadata": {},
     "output_type": "execute_result"
    }
   ],
   "source": [
    "B = P @ D**(1/2) @ P**-1\n",
    "(B**2 - A).norm() == 0"
   ]
  },
  {
   "cell_type": "code",
   "execution_count": 7,
   "metadata": {},
   "outputs": [
    {
     "data": {
      "text/latex": [
       "$\\displaystyle \\left(x - 4\\right) \\left(x - 2\\right)$"
      ],
      "text/plain": [
       "(x - 4)⋅(x - 2)"
      ]
     },
     "execution_count": 7,
     "metadata": {},
     "output_type": "execute_result"
    }
   ],
   "source": [
    "A = Matrix([[3, 1],\n",
    "            [1, 3]])\n",
    "\n",
    "A.cpoly()"
   ]
  },
  {
   "cell_type": "code",
   "execution_count": 8,
   "metadata": {},
   "outputs": [
    {
     "name": "stdout",
     "output_type": "stream",
     "text": [
      "Characteristic Polynomial\n"
     ]
    },
    {
     "data": {
      "text/latex": [
       "$\\displaystyle \\left(x - 4\\right) \\left(x - 2\\right)$"
      ],
      "text/plain": [
       "(x - 4)⋅(x - 2)"
      ]
     },
     "metadata": {},
     "output_type": "display_data"
    },
    {
     "name": "stdout",
     "output_type": "stream",
     "text": [
      "Original: (4)I - A\n"
     ]
    },
    {
     "data": {
      "text/latex": [
       "$\\displaystyle \\left[\\begin{matrix}1 & -1\\\\-1 & 1\\end{matrix}\\right]$"
      ],
      "text/plain": [
       "⎡1   -1⎤\n",
       "⎢      ⎥\n",
       "⎣-1  1 ⎦"
      ]
     },
     "metadata": {},
     "output_type": "display_data"
    },
    {
     "name": "stdout",
     "output_type": "stream",
     "text": [
      "\n",
      "After RREF:\n"
     ]
    },
    {
     "data": {
      "text/latex": [
       "$\\displaystyle \\left( \\left[\\begin{matrix}1 & -1\\\\0 & 0\\end{matrix}\\right], \\  \\left( 0,\\right)\\right)$"
      ],
      "text/plain": [
       "⎛⎡1  -1⎤      ⎞\n",
       "⎜⎢     ⎥, (0,)⎟\n",
       "⎝⎣0  0 ⎦      ⎠"
      ]
     },
     "metadata": {},
     "output_type": "display_data"
    },
    {
     "name": "stdout",
     "output_type": "stream",
     "text": [
      "\n",
      "Eigenvectors:\n"
     ]
    },
    {
     "data": {
      "text/latex": [
       "$\\displaystyle \\left[ \\left[\\begin{matrix}1\\\\1\\end{matrix}\\right]\\right]$"
      ],
      "text/plain": [
       "⎡⎡1⎤⎤\n",
       "⎢⎢ ⎥⎥\n",
       "⎣⎣1⎦⎦"
      ]
     },
     "metadata": {},
     "output_type": "display_data"
    },
    {
     "name": "stdout",
     "output_type": "stream",
     "text": [
      "\n",
      "\n",
      "Original: (2)I - A\n"
     ]
    },
    {
     "data": {
      "text/latex": [
       "$\\displaystyle \\left[\\begin{matrix}-1 & -1\\\\-1 & -1\\end{matrix}\\right]$"
      ],
      "text/plain": [
       "⎡-1  -1⎤\n",
       "⎢      ⎥\n",
       "⎣-1  -1⎦"
      ]
     },
     "metadata": {},
     "output_type": "display_data"
    },
    {
     "name": "stdout",
     "output_type": "stream",
     "text": [
      "\n",
      "After RREF:\n"
     ]
    },
    {
     "data": {
      "text/latex": [
       "$\\displaystyle \\left( \\left[\\begin{matrix}1 & 1\\\\0 & 0\\end{matrix}\\right], \\  \\left( 0,\\right)\\right)$"
      ],
      "text/plain": [
       "⎛⎡1  1⎤      ⎞\n",
       "⎜⎢    ⎥, (0,)⎟\n",
       "⎝⎣0  0⎦      ⎠"
      ]
     },
     "metadata": {},
     "output_type": "display_data"
    },
    {
     "name": "stdout",
     "output_type": "stream",
     "text": [
      "\n",
      "Eigenvectors:\n"
     ]
    },
    {
     "data": {
      "text/latex": [
       "$\\displaystyle \\left[ \\left[\\begin{matrix}-1\\\\1\\end{matrix}\\right]\\right]$"
      ],
      "text/plain": [
       "⎡⎡-1⎤⎤\n",
       "⎢⎢  ⎥⎥\n",
       "⎣⎣1 ⎦⎦"
      ]
     },
     "metadata": {},
     "output_type": "display_data"
    },
    {
     "name": "stdout",
     "output_type": "stream",
     "text": [
      "\n",
      "\n"
     ]
    },
    {
     "data": {
      "text/latex": [
       "$\\displaystyle \\left( \\left[\\begin{matrix}-1 & 1\\\\1 & 1\\end{matrix}\\right], \\  \\left[\\begin{matrix}2 & 0\\\\0 & 4\\end{matrix}\\right]\\right)$"
      ],
      "text/plain": [
       "⎛⎡-1  1⎤  ⎡2  0⎤⎞\n",
       "⎜⎢     ⎥, ⎢    ⎥⎟\n",
       "⎝⎣1   1⎦  ⎣0  4⎦⎠"
      ]
     },
     "execution_count": 8,
     "metadata": {},
     "output_type": "execute_result"
    }
   ],
   "source": [
    "A.diagonalize(verbosity=1)"
   ]
  },
  {
   "cell_type": "code",
   "execution_count": 39,
   "metadata": {},
   "outputs": [
    {
     "data": {
      "text/latex": [
       "$\\displaystyle \\left( \\left[\\begin{matrix}1 & -1\\\\0 & 0\\end{matrix}\\right], \\  \\left( 0,\\right)\\right)$"
      ],
      "text/plain": [
       "⎛⎡1  -1⎤      ⎞\n",
       "⎜⎢     ⎥, (0,)⎟\n",
       "⎝⎣0  0 ⎦      ⎠"
      ]
     },
     "execution_count": 39,
     "metadata": {},
     "output_type": "execute_result"
    }
   ],
   "source": [
    "(A.id() * 4 - A).rref()"
   ]
  },
  {
   "cell_type": "code",
   "execution_count": 40,
   "metadata": {},
   "outputs": [
    {
     "data": {
      "text/latex": [
       "$\\displaystyle \\left( \\left[\\begin{matrix}-1 & 1\\\\1 & 1\\end{matrix}\\right], \\  \\left[\\begin{matrix}2 & 0\\\\0 & 4\\end{matrix}\\right], \\  \\left[\\begin{matrix}- \\frac{1}{2} & \\frac{1}{2}\\\\\\frac{1}{2} & \\frac{1}{2}\\end{matrix}\\right]\\right)$"
      ],
      "text/plain": [
       "⎛⎡-1  1⎤  ⎡2  0⎤  ⎡-1/2  1/2⎤⎞\n",
       "⎜⎢     ⎥, ⎢    ⎥, ⎢         ⎥⎟\n",
       "⎝⎣1   1⎦  ⎣0  4⎦  ⎣1/2   1/2⎦⎠"
      ]
     },
     "execution_count": 40,
     "metadata": {},
     "output_type": "execute_result"
    }
   ],
   "source": [
    "P, D = A.diagonalize()\n",
    "P, D, P**-1"
   ]
  },
  {
   "cell_type": "code",
   "execution_count": 9,
   "metadata": {},
   "outputs": [
    {
     "name": "stdout",
     "output_type": "stream",
     "text": [
      "Characteristic Polynomial\n"
     ]
    },
    {
     "data": {
      "text/latex": [
       "$\\displaystyle \\left(x - 4\\right) \\left(x - 2\\right)$"
      ],
      "text/plain": [
       "(x - 4)⋅(x - 2)"
      ]
     },
     "metadata": {},
     "output_type": "display_data"
    },
    {
     "name": "stdout",
     "output_type": "stream",
     "text": [
      "Original: (4)I - A\n"
     ]
    },
    {
     "data": {
      "text/latex": [
       "$\\displaystyle \\left[\\begin{matrix}1 & -1\\\\-1 & 1\\end{matrix}\\right]$"
      ],
      "text/plain": [
       "⎡1   -1⎤\n",
       "⎢      ⎥\n",
       "⎣-1  1 ⎦"
      ]
     },
     "metadata": {},
     "output_type": "display_data"
    },
    {
     "name": "stdout",
     "output_type": "stream",
     "text": [
      "\n",
      "After RREF:\n"
     ]
    },
    {
     "data": {
      "text/latex": [
       "$\\displaystyle \\left( \\left[\\begin{matrix}1 & -1\\\\0 & 0\\end{matrix}\\right], \\  \\left( 0,\\right)\\right)$"
      ],
      "text/plain": [
       "⎛⎡1  -1⎤      ⎞\n",
       "⎜⎢     ⎥, (0,)⎟\n",
       "⎝⎣0  0 ⎦      ⎠"
      ]
     },
     "metadata": {},
     "output_type": "display_data"
    },
    {
     "name": "stdout",
     "output_type": "stream",
     "text": [
      "\n",
      "Eigenvectors:\n"
     ]
    },
    {
     "data": {
      "text/latex": [
       "$\\displaystyle \\left[ \\left[\\begin{matrix}1\\\\1\\end{matrix}\\right]\\right]$"
      ],
      "text/plain": [
       "⎡⎡1⎤⎤\n",
       "⎢⎢ ⎥⎥\n",
       "⎣⎣1⎦⎦"
      ]
     },
     "metadata": {},
     "output_type": "display_data"
    },
    {
     "name": "stdout",
     "output_type": "stream",
     "text": [
      "\n",
      "\n",
      "Original: (2)I - A\n"
     ]
    },
    {
     "data": {
      "text/latex": [
       "$\\displaystyle \\left[\\begin{matrix}-1 & -1\\\\-1 & -1\\end{matrix}\\right]$"
      ],
      "text/plain": [
       "⎡-1  -1⎤\n",
       "⎢      ⎥\n",
       "⎣-1  -1⎦"
      ]
     },
     "metadata": {},
     "output_type": "display_data"
    },
    {
     "name": "stdout",
     "output_type": "stream",
     "text": [
      "\n",
      "After RREF:\n"
     ]
    },
    {
     "data": {
      "text/latex": [
       "$\\displaystyle \\left( \\left[\\begin{matrix}1 & 1\\\\0 & 0\\end{matrix}\\right], \\  \\left( 0,\\right)\\right)$"
      ],
      "text/plain": [
       "⎛⎡1  1⎤      ⎞\n",
       "⎜⎢    ⎥, (0,)⎟\n",
       "⎝⎣0  0⎦      ⎠"
      ]
     },
     "metadata": {},
     "output_type": "display_data"
    },
    {
     "name": "stdout",
     "output_type": "stream",
     "text": [
      "\n",
      "Eigenvectors:\n"
     ]
    },
    {
     "data": {
      "text/latex": [
       "$\\displaystyle \\left[ \\left[\\begin{matrix}-1\\\\1\\end{matrix}\\right]\\right]$"
      ],
      "text/plain": [
       "⎡⎡-1⎤⎤\n",
       "⎢⎢  ⎥⎥\n",
       "⎣⎣1 ⎦⎦"
      ]
     },
     "metadata": {},
     "output_type": "display_data"
    },
    {
     "name": "stdout",
     "output_type": "stream",
     "text": [
      "\n",
      "\n"
     ]
    },
    {
     "data": {
      "text/latex": [
       "$\\displaystyle \\left( \\left[\\begin{matrix}- \\frac{\\sqrt{2}}{2} & \\frac{\\sqrt{2}}{2}\\\\\\frac{\\sqrt{2}}{2} & \\frac{\\sqrt{2}}{2}\\end{matrix}\\right], \\  \\left[\\begin{matrix}2 & 0\\\\0 & 4\\end{matrix}\\right]\\right)$"
      ],
      "text/plain": [
       "⎛⎡-√2   √2⎤        ⎞\n",
       "⎜⎢────  ──⎥        ⎟\n",
       "⎜⎢ 2    2 ⎥  ⎡2  0⎤⎟\n",
       "⎜⎢        ⎥, ⎢    ⎥⎟\n",
       "⎜⎢ √2   √2⎥  ⎣0  4⎦⎟\n",
       "⎜⎢ ──   ──⎥        ⎟\n",
       "⎝⎣ 2    2 ⎦        ⎠"
      ]
     },
     "execution_count": 9,
     "metadata": {},
     "output_type": "execute_result"
    }
   ],
   "source": [
    "A.orthogonally_diagonalize()"
   ]
  },
  {
   "cell_type": "code",
   "execution_count": 10,
   "metadata": {},
   "outputs": [
    {
     "data": {
      "text/latex": [
       "$\\displaystyle \\left(x - 3\\right)^{2} \\left(x + 6\\right)$"
      ],
      "text/plain": [
       "       2        \n",
       "(x - 3) ⋅(x + 6)"
      ]
     },
     "execution_count": 10,
     "metadata": {},
     "output_type": "execute_result"
    }
   ],
   "source": [
    "A = Matrix([[2, 2, -2],\n",
    "            [2, -1, 4],\n",
    "            [-2, 4, -1]])\n",
    "\n",
    "A.cpoly()"
   ]
  },
  {
   "cell_type": "code",
   "execution_count": 11,
   "metadata": {},
   "outputs": [
    {
     "name": "stdout",
     "output_type": "stream",
     "text": [
      "Characteristic Polynomial\n"
     ]
    },
    {
     "data": {
      "text/latex": [
       "$\\displaystyle \\left(x - 3\\right)^{2} \\left(x + 6\\right)$"
      ],
      "text/plain": [
       "       2        \n",
       "(x - 3) ⋅(x + 6)"
      ]
     },
     "metadata": {},
     "output_type": "display_data"
    },
    {
     "name": "stdout",
     "output_type": "stream",
     "text": [
      "Original: (-6)I - A\n"
     ]
    },
    {
     "data": {
      "text/latex": [
       "$\\displaystyle \\left[\\begin{matrix}-8 & -2 & 2\\\\-2 & -5 & -4\\\\2 & -4 & -5\\end{matrix}\\right]$"
      ],
      "text/plain": [
       "⎡-8  -2  2 ⎤\n",
       "⎢          ⎥\n",
       "⎢-2  -5  -4⎥\n",
       "⎢          ⎥\n",
       "⎣2   -4  -5⎦"
      ]
     },
     "metadata": {},
     "output_type": "display_data"
    },
    {
     "name": "stdout",
     "output_type": "stream",
     "text": [
      "\n",
      "After RREF:\n"
     ]
    },
    {
     "data": {
      "text/latex": [
       "$\\displaystyle \\left( \\left[\\begin{matrix}1 & 0 & - \\frac{1}{2}\\\\0 & 1 & 1\\\\0 & 0 & 0\\end{matrix}\\right], \\  \\left( 0, \\  1\\right)\\right)$"
      ],
      "text/plain": [
       "⎛⎡1  0  -1/2⎤        ⎞\n",
       "⎜⎢          ⎥        ⎟\n",
       "⎜⎢0  1   1  ⎥, (0, 1)⎟\n",
       "⎜⎢          ⎥        ⎟\n",
       "⎝⎣0  0   0  ⎦        ⎠"
      ]
     },
     "metadata": {},
     "output_type": "display_data"
    },
    {
     "name": "stdout",
     "output_type": "stream",
     "text": [
      "\n",
      "Eigenvectors:\n"
     ]
    },
    {
     "data": {
      "text/latex": [
       "$\\displaystyle \\left[ \\left[\\begin{matrix}\\frac{1}{2}\\\\-1\\\\1\\end{matrix}\\right]\\right]$"
      ],
      "text/plain": [
       "⎡⎡1/2⎤⎤\n",
       "⎢⎢   ⎥⎥\n",
       "⎢⎢-1 ⎥⎥\n",
       "⎢⎢   ⎥⎥\n",
       "⎣⎣ 1 ⎦⎦"
      ]
     },
     "metadata": {},
     "output_type": "display_data"
    },
    {
     "name": "stdout",
     "output_type": "stream",
     "text": [
      "\n",
      "\n",
      "Original: (3)I - A\n"
     ]
    },
    {
     "data": {
      "text/latex": [
       "$\\displaystyle \\left[\\begin{matrix}1 & -2 & 2\\\\-2 & 4 & -4\\\\2 & -4 & 4\\end{matrix}\\right]$"
      ],
      "text/plain": [
       "⎡1   -2  2 ⎤\n",
       "⎢          ⎥\n",
       "⎢-2  4   -4⎥\n",
       "⎢          ⎥\n",
       "⎣2   -4  4 ⎦"
      ]
     },
     "metadata": {},
     "output_type": "display_data"
    },
    {
     "name": "stdout",
     "output_type": "stream",
     "text": [
      "\n",
      "After RREF:\n"
     ]
    },
    {
     "data": {
      "text/latex": [
       "$\\displaystyle \\left( \\left[\\begin{matrix}1 & -2 & 2\\\\0 & 0 & 0\\\\0 & 0 & 0\\end{matrix}\\right], \\  \\left( 0,\\right)\\right)$"
      ],
      "text/plain": [
       "⎛⎡1  -2  2⎤      ⎞\n",
       "⎜⎢        ⎥      ⎟\n",
       "⎜⎢0  0   0⎥, (0,)⎟\n",
       "⎜⎢        ⎥      ⎟\n",
       "⎝⎣0  0   0⎦      ⎠"
      ]
     },
     "metadata": {},
     "output_type": "display_data"
    },
    {
     "name": "stdout",
     "output_type": "stream",
     "text": [
      "\n",
      "Eigenvectors:\n"
     ]
    },
    {
     "data": {
      "text/latex": [
       "$\\displaystyle \\left[ \\left[\\begin{matrix}2\\\\1\\\\0\\end{matrix}\\right], \\  \\left[\\begin{matrix}-2\\\\0\\\\1\\end{matrix}\\right]\\right]$"
      ],
      "text/plain": [
       "⎡⎡2⎤  ⎡-2⎤⎤\n",
       "⎢⎢ ⎥  ⎢  ⎥⎥\n",
       "⎢⎢1⎥, ⎢0 ⎥⎥\n",
       "⎢⎢ ⎥  ⎢  ⎥⎥\n",
       "⎣⎣0⎦  ⎣1 ⎦⎦"
      ]
     },
     "metadata": {},
     "output_type": "display_data"
    },
    {
     "name": "stdout",
     "output_type": "stream",
     "text": [
      "\n",
      "\n",
      "Eigenvalue:  3\n",
      "[Gram Schmidt Process]\n"
     ]
    },
    {
     "data": {
      "text/latex": [
       "$\\displaystyle v_1 = \\left[\\begin{matrix}2\\\\1\\\\0\\end{matrix}\\right]$"
      ],
      "text/plain": [
       "<IPython.core.display.Math object>"
      ]
     },
     "metadata": {},
     "output_type": "display_data"
    },
    {
     "data": {
      "text/latex": [
       "$\\displaystyle v_2 = \\left[\\begin{matrix}-2\\\\0\\\\1\\end{matrix}\\right]- (-4/5) \\left[\\begin{matrix}2\\\\1\\\\0\\end{matrix}\\right] = \\left(\\frac{1}{5}\\right) \\left[\\begin{matrix}-2\\\\4\\\\5\\end{matrix}\\right]$"
      ],
      "text/plain": [
       "<IPython.core.display.Math object>"
      ]
     },
     "metadata": {},
     "output_type": "display_data"
    },
    {
     "data": {
      "text/latex": [
       "$\\displaystyle \\left( \\left[\\begin{matrix}\\frac{1}{3} & \\frac{2 \\sqrt{5}}{5} & - \\frac{2 \\sqrt{5}}{15}\\\\- \\frac{2}{3} & \\frac{\\sqrt{5}}{5} & \\frac{4 \\sqrt{5}}{15}\\\\\\frac{2}{3} & 0 & \\frac{\\sqrt{5}}{3}\\end{matrix}\\right], \\  \\left[\\begin{matrix}-6 & 0 & 0\\\\0 & 3 & 0\\\\0 & 0 & 3\\end{matrix}\\right]\\right)$"
      ],
      "text/plain": [
       "⎛⎡      2⋅√5  -2⋅√5 ⎤            ⎞\n",
       "⎜⎢1/3   ────  ──────⎥            ⎟\n",
       "⎜⎢       5      15  ⎥            ⎟\n",
       "⎜⎢                  ⎥  ⎡-6  0  0⎤⎟\n",
       "⎜⎢       √5    4⋅√5 ⎥  ⎢        ⎥⎟\n",
       "⎜⎢-2/3   ──    ──── ⎥, ⎢0   3  0⎥⎟\n",
       "⎜⎢       5      15  ⎥  ⎢        ⎥⎟\n",
       "⎜⎢                  ⎥  ⎣0   0  3⎦⎟\n",
       "⎜⎢              √5  ⎥            ⎟\n",
       "⎜⎢2/3    0      ──  ⎥            ⎟\n",
       "⎝⎣              3   ⎦            ⎠"
      ]
     },
     "execution_count": 11,
     "metadata": {},
     "output_type": "execute_result"
    }
   ],
   "source": [
    "A.orthogonally_diagonalize()"
   ]
  },
  {
   "cell_type": "code",
   "execution_count": 12,
   "metadata": {},
   "outputs": [
    {
     "name": "stdout",
     "output_type": "stream",
     "text": [
      "Characteristic Polynomial\n"
     ]
    },
    {
     "data": {
      "text/latex": [
       "$\\displaystyle \\left(x - 3\\right)^{2} \\left(x + 1\\right)^{2}$"
      ],
      "text/plain": [
       "       2        2\n",
       "(x - 3) ⋅(x + 1) "
      ]
     },
     "metadata": {},
     "output_type": "display_data"
    },
    {
     "name": "stdout",
     "output_type": "stream",
     "text": [
      "Original: (3)I - A\n"
     ]
    },
    {
     "data": {
      "text/latex": [
       "$\\displaystyle \\left[\\begin{matrix}2 & 2 & 0 & 0\\\\2 & 2 & 0 & 0\\\\0 & 0 & 2 & 2\\\\0 & 0 & 2 & 2\\end{matrix}\\right]$"
      ],
      "text/plain": [
       "⎡2  2  0  0⎤\n",
       "⎢          ⎥\n",
       "⎢2  2  0  0⎥\n",
       "⎢          ⎥\n",
       "⎢0  0  2  2⎥\n",
       "⎢          ⎥\n",
       "⎣0  0  2  2⎦"
      ]
     },
     "metadata": {},
     "output_type": "display_data"
    },
    {
     "name": "stdout",
     "output_type": "stream",
     "text": [
      "\n",
      "After RREF:\n"
     ]
    },
    {
     "data": {
      "text/latex": [
       "$\\displaystyle \\left( \\left[\\begin{matrix}1 & 1 & 0 & 0\\\\0 & 0 & 1 & 1\\\\0 & 0 & 0 & 0\\\\0 & 0 & 0 & 0\\end{matrix}\\right], \\  \\left( 0, \\  2\\right)\\right)$"
      ],
      "text/plain": [
       "⎛⎡1  1  0  0⎤        ⎞\n",
       "⎜⎢          ⎥        ⎟\n",
       "⎜⎢0  0  1  1⎥        ⎟\n",
       "⎜⎢          ⎥, (0, 2)⎟\n",
       "⎜⎢0  0  0  0⎥        ⎟\n",
       "⎜⎢          ⎥        ⎟\n",
       "⎝⎣0  0  0  0⎦        ⎠"
      ]
     },
     "metadata": {},
     "output_type": "display_data"
    },
    {
     "name": "stdout",
     "output_type": "stream",
     "text": [
      "\n",
      "Eigenvectors:\n"
     ]
    },
    {
     "data": {
      "text/latex": [
       "$\\displaystyle \\left[ \\left[\\begin{matrix}-1\\\\1\\\\0\\\\0\\end{matrix}\\right], \\  \\left[\\begin{matrix}0\\\\0\\\\-1\\\\1\\end{matrix}\\right]\\right]$"
      ],
      "text/plain": [
       "⎡⎡-1⎤  ⎡0 ⎤⎤\n",
       "⎢⎢  ⎥  ⎢  ⎥⎥\n",
       "⎢⎢1 ⎥  ⎢0 ⎥⎥\n",
       "⎢⎢  ⎥, ⎢  ⎥⎥\n",
       "⎢⎢0 ⎥  ⎢-1⎥⎥\n",
       "⎢⎢  ⎥  ⎢  ⎥⎥\n",
       "⎣⎣0 ⎦  ⎣1 ⎦⎦"
      ]
     },
     "metadata": {},
     "output_type": "display_data"
    },
    {
     "name": "stdout",
     "output_type": "stream",
     "text": [
      "\n",
      "\n",
      "Original: (-1)I - A\n"
     ]
    },
    {
     "data": {
      "text/latex": [
       "$\\displaystyle \\left[\\begin{matrix}-2 & 2 & 0 & 0\\\\2 & -2 & 0 & 0\\\\0 & 0 & -2 & 2\\\\0 & 0 & 2 & -2\\end{matrix}\\right]$"
      ],
      "text/plain": [
       "⎡-2  2   0   0 ⎤\n",
       "⎢              ⎥\n",
       "⎢2   -2  0   0 ⎥\n",
       "⎢              ⎥\n",
       "⎢0   0   -2  2 ⎥\n",
       "⎢              ⎥\n",
       "⎣0   0   2   -2⎦"
      ]
     },
     "metadata": {},
     "output_type": "display_data"
    },
    {
     "name": "stdout",
     "output_type": "stream",
     "text": [
      "\n",
      "After RREF:\n"
     ]
    },
    {
     "data": {
      "text/latex": [
       "$\\displaystyle \\left( \\left[\\begin{matrix}1 & -1 & 0 & 0\\\\0 & 0 & 1 & -1\\\\0 & 0 & 0 & 0\\\\0 & 0 & 0 & 0\\end{matrix}\\right], \\  \\left( 0, \\  2\\right)\\right)$"
      ],
      "text/plain": [
       "⎛⎡1  -1  0  0 ⎤        ⎞\n",
       "⎜⎢            ⎥        ⎟\n",
       "⎜⎢0  0   1  -1⎥        ⎟\n",
       "⎜⎢            ⎥, (0, 2)⎟\n",
       "⎜⎢0  0   0  0 ⎥        ⎟\n",
       "⎜⎢            ⎥        ⎟\n",
       "⎝⎣0  0   0  0 ⎦        ⎠"
      ]
     },
     "metadata": {},
     "output_type": "display_data"
    },
    {
     "name": "stdout",
     "output_type": "stream",
     "text": [
      "\n",
      "Eigenvectors:\n"
     ]
    },
    {
     "data": {
      "text/latex": [
       "$\\displaystyle \\left[ \\left[\\begin{matrix}1\\\\1\\\\0\\\\0\\end{matrix}\\right], \\  \\left[\\begin{matrix}0\\\\0\\\\1\\\\1\\end{matrix}\\right]\\right]$"
      ],
      "text/plain": [
       "⎡⎡1⎤  ⎡0⎤⎤\n",
       "⎢⎢ ⎥  ⎢ ⎥⎥\n",
       "⎢⎢1⎥  ⎢0⎥⎥\n",
       "⎢⎢ ⎥, ⎢ ⎥⎥\n",
       "⎢⎢0⎥  ⎢1⎥⎥\n",
       "⎢⎢ ⎥  ⎢ ⎥⎥\n",
       "⎣⎣0⎦  ⎣1⎦⎦"
      ]
     },
     "metadata": {},
     "output_type": "display_data"
    },
    {
     "name": "stdout",
     "output_type": "stream",
     "text": [
      "\n",
      "\n",
      "Eigenvalue:  -1\n",
      "[Gram Schmidt Process]\n"
     ]
    },
    {
     "data": {
      "text/latex": [
       "$\\displaystyle v_1 = \\left[\\begin{matrix}1\\\\1\\\\0\\\\0\\end{matrix}\\right]$"
      ],
      "text/plain": [
       "<IPython.core.display.Math object>"
      ]
     },
     "metadata": {},
     "output_type": "display_data"
    },
    {
     "data": {
      "text/latex": [
       "$\\displaystyle v_2 = \\left[\\begin{matrix}0\\\\0\\\\1\\\\1\\end{matrix}\\right]- (0/2) \\left[\\begin{matrix}1\\\\1\\\\0\\\\0\\end{matrix}\\right] = 1 \\left[\\begin{matrix}0\\\\0\\\\1\\\\1\\end{matrix}\\right]$"
      ],
      "text/plain": [
       "<IPython.core.display.Math object>"
      ]
     },
     "metadata": {},
     "output_type": "display_data"
    },
    {
     "name": "stdout",
     "output_type": "stream",
     "text": [
      "Eigenvalue:  3\n",
      "[Gram Schmidt Process]\n"
     ]
    },
    {
     "data": {
      "text/latex": [
       "$\\displaystyle v_1 = \\left[\\begin{matrix}-1\\\\1\\\\0\\\\0\\end{matrix}\\right]$"
      ],
      "text/plain": [
       "<IPython.core.display.Math object>"
      ]
     },
     "metadata": {},
     "output_type": "display_data"
    },
    {
     "data": {
      "text/latex": [
       "$\\displaystyle v_2 = \\left[\\begin{matrix}0\\\\0\\\\-1\\\\1\\end{matrix}\\right]- (0/2) \\left[\\begin{matrix}-1\\\\1\\\\0\\\\0\\end{matrix}\\right] = 1 \\left[\\begin{matrix}0\\\\0\\\\-1\\\\1\\end{matrix}\\right]$"
      ],
      "text/plain": [
       "<IPython.core.display.Math object>"
      ]
     },
     "metadata": {},
     "output_type": "display_data"
    },
    {
     "data": {
      "text/latex": [
       "$\\displaystyle \\left( \\left[\\begin{matrix}\\frac{\\sqrt{2}}{2} & 0 & - \\frac{\\sqrt{2}}{2} & 0\\\\\\frac{\\sqrt{2}}{2} & 0 & \\frac{\\sqrt{2}}{2} & 0\\\\0 & \\frac{\\sqrt{2}}{2} & 0 & - \\frac{\\sqrt{2}}{2}\\\\0 & \\frac{\\sqrt{2}}{2} & 0 & \\frac{\\sqrt{2}}{2}\\end{matrix}\\right], \\  \\left[\\begin{matrix}-1 & 0 & 0 & 0\\\\0 & -1 & 0 & 0\\\\0 & 0 & 3 & 0\\\\0 & 0 & 0 & 3\\end{matrix}\\right]\\right)$"
      ],
      "text/plain": [
       "⎛⎡√2      -√2       ⎤                ⎞\n",
       "⎜⎢──  0   ────   0  ⎥                ⎟\n",
       "⎜⎢2        2        ⎥                ⎟\n",
       "⎜⎢                  ⎥                ⎟\n",
       "⎜⎢√2       √2       ⎥  ⎡-1  0   0  0⎤⎟\n",
       "⎜⎢──  0    ──    0  ⎥  ⎢            ⎥⎟\n",
       "⎜⎢2        2        ⎥  ⎢0   -1  0  0⎥⎟\n",
       "⎜⎢                  ⎥, ⎢            ⎥⎟\n",
       "⎜⎢    √2        -√2 ⎥  ⎢0   0   3  0⎥⎟\n",
       "⎜⎢0   ──   0    ────⎥  ⎢            ⎥⎟\n",
       "⎜⎢    2          2  ⎥  ⎣0   0   0  3⎦⎟\n",
       "⎜⎢                  ⎥                ⎟\n",
       "⎜⎢    √2         √2 ⎥                ⎟\n",
       "⎜⎢0   ──   0     ── ⎥                ⎟\n",
       "⎝⎣    2          2  ⎦                ⎠"
      ]
     },
     "execution_count": 12,
     "metadata": {},
     "output_type": "execute_result"
    }
   ],
   "source": [
    "A = Matrix([[1, -2, 0, 0],\n",
    "            [-2, 1, 0, 0],\n",
    "            [0, 0, 1, -2],\n",
    "            [0, 0, -2, 1]])\n",
    "\n",
    "A.orthogonally_diagonalize()"
   ]
  },
  {
   "cell_type": "code",
   "execution_count": 13,
   "metadata": {},
   "outputs": [
    {
     "name": "stdout",
     "output_type": "stream",
     "text": [
      "Characteristic Polynomial\n"
     ]
    },
    {
     "data": {
      "text/latex": [
       "$\\displaystyle \\left(x - 25\\right) \\left(x - 9\\right)$"
      ],
      "text/plain": [
       "(x - 25)⋅(x - 9)"
      ]
     },
     "metadata": {},
     "output_type": "display_data"
    },
    {
     "name": "stdout",
     "output_type": "stream",
     "text": [
      "Original: (25)I - A\n"
     ]
    },
    {
     "data": {
      "text/latex": [
       "$\\displaystyle \\left[\\begin{matrix}8 & -8\\\\-8 & 8\\end{matrix}\\right]$"
      ],
      "text/plain": [
       "⎡8   -8⎤\n",
       "⎢      ⎥\n",
       "⎣-8  8 ⎦"
      ]
     },
     "metadata": {},
     "output_type": "display_data"
    },
    {
     "name": "stdout",
     "output_type": "stream",
     "text": [
      "\n",
      "After RREF:\n"
     ]
    },
    {
     "data": {
      "text/latex": [
       "$\\displaystyle \\left( \\left[\\begin{matrix}1 & -1\\\\0 & 0\\end{matrix}\\right], \\  \\left( 0,\\right)\\right)$"
      ],
      "text/plain": [
       "⎛⎡1  -1⎤      ⎞\n",
       "⎜⎢     ⎥, (0,)⎟\n",
       "⎝⎣0  0 ⎦      ⎠"
      ]
     },
     "metadata": {},
     "output_type": "display_data"
    },
    {
     "name": "stdout",
     "output_type": "stream",
     "text": [
      "\n",
      "Eigenvectors:\n"
     ]
    },
    {
     "data": {
      "text/latex": [
       "$\\displaystyle \\left[ \\left[\\begin{matrix}1\\\\1\\end{matrix}\\right]\\right]$"
      ],
      "text/plain": [
       "⎡⎡1⎤⎤\n",
       "⎢⎢ ⎥⎥\n",
       "⎣⎣1⎦⎦"
      ]
     },
     "metadata": {},
     "output_type": "display_data"
    },
    {
     "name": "stdout",
     "output_type": "stream",
     "text": [
      "\n",
      "\n",
      "Original: (9)I - A\n"
     ]
    },
    {
     "data": {
      "text/latex": [
       "$\\displaystyle \\left[\\begin{matrix}-8 & -8\\\\-8 & -8\\end{matrix}\\right]$"
      ],
      "text/plain": [
       "⎡-8  -8⎤\n",
       "⎢      ⎥\n",
       "⎣-8  -8⎦"
      ]
     },
     "metadata": {},
     "output_type": "display_data"
    },
    {
     "name": "stdout",
     "output_type": "stream",
     "text": [
      "\n",
      "After RREF:\n"
     ]
    },
    {
     "data": {
      "text/latex": [
       "$\\displaystyle \\left( \\left[\\begin{matrix}1 & 1\\\\0 & 0\\end{matrix}\\right], \\  \\left( 0,\\right)\\right)$"
      ],
      "text/plain": [
       "⎛⎡1  1⎤      ⎞\n",
       "⎜⎢    ⎥, (0,)⎟\n",
       "⎝⎣0  0⎦      ⎠"
      ]
     },
     "metadata": {},
     "output_type": "display_data"
    },
    {
     "name": "stdout",
     "output_type": "stream",
     "text": [
      "\n",
      "Eigenvectors:\n"
     ]
    },
    {
     "data": {
      "text/latex": [
       "$\\displaystyle \\left[ \\left[\\begin{matrix}-1\\\\1\\end{matrix}\\right]\\right]$"
      ],
      "text/plain": [
       "⎡⎡-1⎤⎤\n",
       "⎢⎢  ⎥⎥\n",
       "⎣⎣1 ⎦⎦"
      ]
     },
     "metadata": {},
     "output_type": "display_data"
    },
    {
     "name": "stdout",
     "output_type": "stream",
     "text": [
      "\n",
      "\n"
     ]
    },
    {
     "data": {
      "text/latex": [
       "$\\displaystyle \\left( \\left[\\begin{matrix}-1 & 1\\\\1 & 1\\end{matrix}\\right], \\  \\left[\\begin{matrix}9 & 0\\\\0 & 25\\end{matrix}\\right]\\right)$"
      ],
      "text/plain": [
       "⎛⎡-1  1⎤  ⎡9  0 ⎤⎞\n",
       "⎜⎢     ⎥, ⎢     ⎥⎟\n",
       "⎝⎣1   1⎦  ⎣0  25⎦⎠"
      ]
     },
     "execution_count": 13,
     "metadata": {},
     "output_type": "execute_result"
    }
   ],
   "source": [
    "A = Matrix([[3, 2],\n",
    "            [2, 3],\n",
    "            [2, -2]])\n",
    "\n",
    "\n",
    "(A.T @ A).diagonalize(verbosity=1)"
   ]
  },
  {
   "cell_type": "code",
   "execution_count": 30,
   "metadata": {},
   "outputs": [
    {
     "data": {
      "text/latex": [
       "$\\displaystyle \\left[\\begin{matrix}\\frac{3}{5} & \\frac{2}{5}\\\\\\frac{2}{5} & \\frac{3}{5}\\\\\\frac{2}{5} & - \\frac{2}{5}\\end{matrix}\\right]$"
      ],
      "text/plain": [
       "⎡3/5  2/5 ⎤\n",
       "⎢         ⎥\n",
       "⎢2/5  3/5 ⎥\n",
       "⎢         ⎥\n",
       "⎣2/5  -2/5⎦"
      ]
     },
     "execution_count": 30,
     "metadata": {},
     "output_type": "execute_result"
    }
   ],
   "source": [
    "test = (1/5 * A)\n",
    "temp = sym.nsimplify((1/5 * A), tolerance=1E-4, rational=True)\n",
    "temp"
   ]
  },
  {
   "cell_type": "code",
   "execution_count": 33,
   "metadata": {},
   "outputs": [
    {
     "data": {
      "text/latex": [
       "$\\displaystyle \\left[\\begin{matrix}0.6 & 0.4\\\\0.4 & 0.6\\\\0.4 & -0.4\\end{matrix}\\right]$"
      ],
      "text/plain": [
       "⎡0.6  0.4 ⎤\n",
       "⎢         ⎥\n",
       "⎢0.4  0.6 ⎥\n",
       "⎢         ⎥\n",
       "⎣0.4  -0.4⎦"
      ]
     },
     "execution_count": 33,
     "metadata": {},
     "output_type": "execute_result"
    }
   ],
   "source": [
    "temp.evalf(100)"
   ]
  },
  {
   "cell_type": "code",
   "execution_count": 37,
   "metadata": {},
   "outputs": [],
   "source": [
    "# (1/3 * A).simplify() @ Matrix([-1, 1]) * 1/sym.sqrt(2)\n",
    "u2 = (1/3 * A).applyfunc(sym.nsimplify) @ Matrix([-1, 1]) * 1/sym.sqrt(2)\n",
    "u1 = (1/5 * A).applyfunc(sym.nsimplify) @ Matrix([1, 1]) * 1/sym.sqrt(2)"
   ]
  },
  {
   "cell_type": "code",
   "execution_count": 44,
   "metadata": {},
   "outputs": [
    {
     "data": {
      "text/latex": [
       "$\\displaystyle \\left[\\begin{matrix}\\frac{\\sqrt{2}}{2}\\\\\\frac{\\sqrt{2}}{2}\\\\0\\end{matrix}\\right]$"
      ],
      "text/plain": [
       "⎡√2⎤\n",
       "⎢──⎥\n",
       "⎢2 ⎥\n",
       "⎢  ⎥\n",
       "⎢√2⎥\n",
       "⎢──⎥\n",
       "⎢2 ⎥\n",
       "⎢  ⎥\n",
       "⎣0 ⎦"
      ]
     },
     "execution_count": 44,
     "metadata": {},
     "output_type": "execute_result"
    }
   ],
   "source": [
    "u1"
   ]
  },
  {
   "cell_type": "code",
   "execution_count": 42,
   "metadata": {},
   "outputs": [
    {
     "data": {
      "text/latex": [
       "$\\displaystyle \\left( \\left[\\begin{matrix}1 & 0 & 2\\\\0 & 1 & -2\\end{matrix}\\right], \\  \\left( 0, \\  1\\right)\\right)$"
      ],
      "text/plain": [
       "⎛⎡1  0  2 ⎤        ⎞\n",
       "⎜⎢        ⎥, (0, 1)⎟\n",
       "⎝⎣0  1  -2⎦        ⎠"
      ]
     },
     "execution_count": 42,
     "metadata": {},
     "output_type": "execute_result"
    }
   ],
   "source": [
    "Matrix.from_list([u1, u2]).T.rref()"
   ]
  },
  {
   "cell_type": "code",
   "execution_count": 45,
   "metadata": {},
   "outputs": [
    {
     "data": {
      "text/latex": [
       "$\\displaystyle \\left[\\begin{matrix}3 & 2\\\\2 & 3\\\\2 & -2\\end{matrix}\\right]$"
      ],
      "text/plain": [
       "⎡3  2 ⎤\n",
       "⎢     ⎥\n",
       "⎢2  3 ⎥\n",
       "⎢     ⎥\n",
       "⎣2  -2⎦"
      ]
     },
     "execution_count": 45,
     "metadata": {},
     "output_type": "execute_result"
    }
   ],
   "source": [
    "U, S, V = A.singular_value_decomposition()\n",
    "U @ S @ V.T"
   ]
  },
  {
   "cell_type": "code",
   "execution_count": 47,
   "metadata": {},
   "outputs": [
    {
     "data": {
      "text/latex": [
       "$\\displaystyle \\left[\\begin{matrix}3 & 2 & 2\\\\2 & 3 & -2\\end{matrix}\\right]$"
      ],
      "text/plain": [
       "⎡3  2  2 ⎤\n",
       "⎢        ⎥\n",
       "⎣2  3  -2⎦"
      ]
     },
     "execution_count": 47,
     "metadata": {},
     "output_type": "execute_result"
    }
   ],
   "source": [
    "V @ S.T @ U.T"
   ]
  },
  {
   "cell_type": "code",
   "execution_count": 14,
   "metadata": {},
   "outputs": [
    {
     "name": "stdout",
     "output_type": "stream",
     "text": [
      "A^T A\n"
     ]
    },
    {
     "data": {
      "text/latex": [
       "$\\displaystyle \\left[\\begin{matrix}2 & 1 & 3\\\\1 & 2 & 3\\\\3 & 3 & 6\\end{matrix}\\right]$"
      ],
      "text/plain": [
       "⎡2  1  3⎤\n",
       "⎢       ⎥\n",
       "⎢1  2  3⎥\n",
       "⎢       ⎥\n",
       "⎣3  3  6⎦"
      ]
     },
     "metadata": {},
     "output_type": "display_data"
    },
    {
     "name": "stdout",
     "output_type": "stream",
     "text": [
      "Characteristic Polynomial\n"
     ]
    },
    {
     "data": {
      "text/latex": [
       "$\\displaystyle x \\left(x - 9\\right) \\left(x - 1\\right)$"
      ],
      "text/plain": [
       "x⋅(x - 9)⋅(x - 1)"
      ]
     },
     "metadata": {},
     "output_type": "display_data"
    },
    {
     "name": "stdout",
     "output_type": "stream",
     "text": [
      "Original: (9)I - A\n"
     ]
    },
    {
     "data": {
      "text/latex": [
       "$\\displaystyle \\left[\\begin{matrix}7 & -1 & -3\\\\-1 & 7 & -3\\\\-3 & -3 & 3\\end{matrix}\\right]$"
      ],
      "text/plain": [
       "⎡7   -1  -3⎤\n",
       "⎢          ⎥\n",
       "⎢-1  7   -3⎥\n",
       "⎢          ⎥\n",
       "⎣-3  -3  3 ⎦"
      ]
     },
     "metadata": {},
     "output_type": "display_data"
    },
    {
     "name": "stdout",
     "output_type": "stream",
     "text": [
      "\n",
      "After RREF:\n"
     ]
    },
    {
     "data": {
      "text/latex": [
       "$\\displaystyle \\left( \\left[\\begin{matrix}1 & 0 & - \\frac{1}{2}\\\\0 & 1 & - \\frac{1}{2}\\\\0 & 0 & 0\\end{matrix}\\right], \\  \\left( 0, \\  1\\right)\\right)$"
      ],
      "text/plain": [
       "⎛⎡1  0  -1/2⎤        ⎞\n",
       "⎜⎢          ⎥        ⎟\n",
       "⎜⎢0  1  -1/2⎥, (0, 1)⎟\n",
       "⎜⎢          ⎥        ⎟\n",
       "⎝⎣0  0   0  ⎦        ⎠"
      ]
     },
     "metadata": {},
     "output_type": "display_data"
    },
    {
     "name": "stdout",
     "output_type": "stream",
     "text": [
      "\n",
      "Eigenvectors:\n"
     ]
    },
    {
     "data": {
      "text/latex": [
       "$\\displaystyle \\left[ \\left[\\begin{matrix}\\frac{1}{2}\\\\\\frac{1}{2}\\\\1\\end{matrix}\\right]\\right]$"
      ],
      "text/plain": [
       "⎡⎡1/2⎤⎤\n",
       "⎢⎢   ⎥⎥\n",
       "⎢⎢1/2⎥⎥\n",
       "⎢⎢   ⎥⎥\n",
       "⎣⎣ 1 ⎦⎦"
      ]
     },
     "metadata": {},
     "output_type": "display_data"
    },
    {
     "name": "stdout",
     "output_type": "stream",
     "text": [
      "\n",
      "\n",
      "Original: (1)I - A\n"
     ]
    },
    {
     "data": {
      "text/latex": [
       "$\\displaystyle \\left[\\begin{matrix}-1 & -1 & -3\\\\-1 & -1 & -3\\\\-3 & -3 & -5\\end{matrix}\\right]$"
      ],
      "text/plain": [
       "⎡-1  -1  -3⎤\n",
       "⎢          ⎥\n",
       "⎢-1  -1  -3⎥\n",
       "⎢          ⎥\n",
       "⎣-3  -3  -5⎦"
      ]
     },
     "metadata": {},
     "output_type": "display_data"
    },
    {
     "name": "stdout",
     "output_type": "stream",
     "text": [
      "\n",
      "After RREF:\n"
     ]
    },
    {
     "data": {
      "text/latex": [
       "$\\displaystyle \\left( \\left[\\begin{matrix}1 & 1 & 0\\\\0 & 0 & 1\\\\0 & 0 & 0\\end{matrix}\\right], \\  \\left( 0, \\  2\\right)\\right)$"
      ],
      "text/plain": [
       "⎛⎡1  1  0⎤        ⎞\n",
       "⎜⎢       ⎥        ⎟\n",
       "⎜⎢0  0  1⎥, (0, 2)⎟\n",
       "⎜⎢       ⎥        ⎟\n",
       "⎝⎣0  0  0⎦        ⎠"
      ]
     },
     "metadata": {},
     "output_type": "display_data"
    },
    {
     "name": "stdout",
     "output_type": "stream",
     "text": [
      "\n",
      "Eigenvectors:\n"
     ]
    },
    {
     "data": {
      "text/latex": [
       "$\\displaystyle \\left[ \\left[\\begin{matrix}-1\\\\1\\\\0\\end{matrix}\\right]\\right]$"
      ],
      "text/plain": [
       "⎡⎡-1⎤⎤\n",
       "⎢⎢  ⎥⎥\n",
       "⎢⎢1 ⎥⎥\n",
       "⎢⎢  ⎥⎥\n",
       "⎣⎣0 ⎦⎦"
      ]
     },
     "metadata": {},
     "output_type": "display_data"
    },
    {
     "name": "stdout",
     "output_type": "stream",
     "text": [
      "\n",
      "\n",
      "Original: (0)I - A\n"
     ]
    },
    {
     "data": {
      "text/latex": [
       "$\\displaystyle \\left[\\begin{matrix}-2 & -1 & -3\\\\-1 & -2 & -3\\\\-3 & -3 & -6\\end{matrix}\\right]$"
      ],
      "text/plain": [
       "⎡-2  -1  -3⎤\n",
       "⎢          ⎥\n",
       "⎢-1  -2  -3⎥\n",
       "⎢          ⎥\n",
       "⎣-3  -3  -6⎦"
      ]
     },
     "metadata": {},
     "output_type": "display_data"
    },
    {
     "name": "stdout",
     "output_type": "stream",
     "text": [
      "\n",
      "After RREF:\n"
     ]
    },
    {
     "data": {
      "text/latex": [
       "$\\displaystyle \\left( \\left[\\begin{matrix}1 & 0 & 1\\\\0 & 1 & 1\\\\0 & 0 & 0\\end{matrix}\\right], \\  \\left( 0, \\  1\\right)\\right)$"
      ],
      "text/plain": [
       "⎛⎡1  0  1⎤        ⎞\n",
       "⎜⎢       ⎥        ⎟\n",
       "⎜⎢0  1  1⎥, (0, 1)⎟\n",
       "⎜⎢       ⎥        ⎟\n",
       "⎝⎣0  0  0⎦        ⎠"
      ]
     },
     "metadata": {},
     "output_type": "display_data"
    },
    {
     "name": "stdout",
     "output_type": "stream",
     "text": [
      "\n",
      "Eigenvectors:\n"
     ]
    },
    {
     "data": {
      "text/latex": [
       "$\\displaystyle \\left[ \\left[\\begin{matrix}-1\\\\-1\\\\1\\end{matrix}\\right]\\right]$"
      ],
      "text/plain": [
       "⎡⎡-1⎤⎤\n",
       "⎢⎢  ⎥⎥\n",
       "⎢⎢-1⎥⎥\n",
       "⎢⎢  ⎥⎥\n",
       "⎣⎣1 ⎦⎦"
      ]
     },
     "metadata": {},
     "output_type": "display_data"
    },
    {
     "name": "stdout",
     "output_type": "stream",
     "text": [
      "\n",
      "\n"
     ]
    },
    {
     "data": {
      "text/latex": [
       "$\\displaystyle u_1 = \\left[\\begin{matrix}\\frac{\\sqrt{6}}{6}\\\\\\frac{\\sqrt{6}}{6}\\\\\\frac{\\sqrt{6}}{3}\\end{matrix}\\right]$"
      ],
      "text/plain": [
       "<IPython.core.display.Math object>"
      ]
     },
     "metadata": {},
     "output_type": "display_data"
    },
    {
     "data": {
      "text/latex": [
       "$\\displaystyle u_2 = \\left[\\begin{matrix}- \\frac{\\sqrt{2}}{2}\\\\\\frac{\\sqrt{2}}{2}\\\\0\\end{matrix}\\right]$"
      ],
      "text/plain": [
       "<IPython.core.display.Math object>"
      ]
     },
     "metadata": {},
     "output_type": "display_data"
    },
    {
     "data": {
      "text/latex": [
       "$\\displaystyle \\left( \\left[\\begin{matrix}1 & 0 & 1\\\\0 & 1 & 1\\end{matrix}\\right], \\  \\left( 0, \\  1\\right)\\right)$"
      ],
      "text/plain": [
       "⎛⎡1  0  1⎤        ⎞\n",
       "⎜⎢       ⎥, (0, 1)⎟\n",
       "⎝⎣0  1  1⎦        ⎠"
      ]
     },
     "metadata": {},
     "output_type": "display_data"
    },
    {
     "data": {
      "text/latex": [
       "$\\displaystyle v_1 = \\left[\\begin{matrix}-1\\\\-1\\\\1\\end{matrix}\\right]$"
      ],
      "text/plain": [
       "<IPython.core.display.Math object>"
      ]
     },
     "metadata": {},
     "output_type": "display_data"
    },
    {
     "data": {
      "text/latex": [
       "$\\displaystyle \\left[ \\left[\\begin{matrix}\\frac{\\sqrt{6}}{6} & - \\frac{\\sqrt{2}}{2} & - \\frac{\\sqrt{3}}{3}\\\\\\frac{\\sqrt{6}}{6} & \\frac{\\sqrt{2}}{2} & - \\frac{\\sqrt{3}}{3}\\\\\\frac{\\sqrt{6}}{3} & 0 & \\frac{\\sqrt{3}}{3}\\end{matrix}\\right], \\  \\left[\\begin{matrix}3 & 0 & 0\\\\0 & 1 & 0\\\\0 & 0 & 0\\end{matrix}\\right], \\  \\left[\\begin{matrix}\\frac{\\sqrt{6}}{6} & - \\frac{\\sqrt{2}}{2} & - \\frac{\\sqrt{3}}{3}\\\\\\frac{\\sqrt{6}}{6} & \\frac{\\sqrt{2}}{2} & - \\frac{\\sqrt{3}}{3}\\\\\\frac{\\sqrt{6}}{3} & 0 & \\frac{\\sqrt{3}}{3}\\end{matrix}\\right]\\right]$"
      ],
      "text/plain": [
       "⎡⎡√6  -√2   -√3 ⎤             ⎡√6  -√2   -√3 ⎤⎤\n",
       "⎢⎢──  ────  ────⎥             ⎢──  ────  ────⎥⎥\n",
       "⎢⎢6    2     3  ⎥             ⎢6    2     3  ⎥⎥\n",
       "⎢⎢              ⎥  ⎡3  0  0⎤  ⎢              ⎥⎥\n",
       "⎢⎢√6   √2   -√3 ⎥  ⎢       ⎥  ⎢√6   √2   -√3 ⎥⎥\n",
       "⎢⎢──   ──   ────⎥, ⎢0  1  0⎥, ⎢──   ──   ────⎥⎥\n",
       "⎢⎢6    2     3  ⎥  ⎢       ⎥  ⎢6    2     3  ⎥⎥\n",
       "⎢⎢              ⎥  ⎣0  0  0⎦  ⎢              ⎥⎥\n",
       "⎢⎢√6         √3 ⎥             ⎢√6         √3 ⎥⎥\n",
       "⎢⎢──   0     ── ⎥             ⎢──   0     ── ⎥⎥\n",
       "⎣⎣3          3  ⎦             ⎣3          3  ⎦⎦"
      ]
     },
     "metadata": {},
     "output_type": "display_data"
    },
    {
     "data": {
      "text/latex": [
       "$\\displaystyle \\left( \\left[\\begin{matrix}\\frac{\\sqrt{6}}{6} & - \\frac{\\sqrt{2}}{2} & - \\frac{\\sqrt{3}}{3}\\\\\\frac{\\sqrt{6}}{6} & \\frac{\\sqrt{2}}{2} & - \\frac{\\sqrt{3}}{3}\\\\\\frac{\\sqrt{6}}{3} & 0 & \\frac{\\sqrt{3}}{3}\\end{matrix}\\right], \\  \\left[\\begin{matrix}3 & 0 & 0\\\\0 & 1 & 0\\\\0 & 0 & 0\\end{matrix}\\right], \\  \\left[\\begin{matrix}\\frac{\\sqrt{6}}{6} & - \\frac{\\sqrt{2}}{2} & - \\frac{\\sqrt{3}}{3}\\\\\\frac{\\sqrt{6}}{6} & \\frac{\\sqrt{2}}{2} & - \\frac{\\sqrt{3}}{3}\\\\\\frac{\\sqrt{6}}{3} & 0 & \\frac{\\sqrt{3}}{3}\\end{matrix}\\right]\\right)$"
      ],
      "text/plain": [
       "⎛⎡√6  -√2   -√3 ⎤             ⎡√6  -√2   -√3 ⎤⎞\n",
       "⎜⎢──  ────  ────⎥             ⎢──  ────  ────⎥⎟\n",
       "⎜⎢6    2     3  ⎥             ⎢6    2     3  ⎥⎟\n",
       "⎜⎢              ⎥  ⎡3  0  0⎤  ⎢              ⎥⎟\n",
       "⎜⎢√6   √2   -√3 ⎥  ⎢       ⎥  ⎢√6   √2   -√3 ⎥⎟\n",
       "⎜⎢──   ──   ────⎥, ⎢0  1  0⎥, ⎢──   ──   ────⎥⎟\n",
       "⎜⎢6    2     3  ⎥  ⎢       ⎥  ⎢6    2     3  ⎥⎟\n",
       "⎜⎢              ⎥  ⎣0  0  0⎦  ⎢              ⎥⎟\n",
       "⎜⎢√6         √3 ⎥             ⎢√6         √3 ⎥⎟\n",
       "⎜⎢──   0     ── ⎥             ⎢──   0     ── ⎥⎟\n",
       "⎝⎣3          3  ⎦             ⎣3          3  ⎦⎠"
      ]
     },
     "execution_count": 14,
     "metadata": {},
     "output_type": "execute_result"
    }
   ],
   "source": [
    "A = Matrix([[1, 0, 1],\n",
    "            [0, 1, 1],\n",
    "            [1, 1, 2]])\n",
    "\n",
    "A.singular_value_decomposition(verbosity=1)"
   ]
  },
  {
   "cell_type": "code",
   "execution_count": 60,
   "metadata": {},
   "outputs": [],
   "source": [
    "U, S, V = A.fast_svd(option='sym', identify=True, tolerance=1E-2)"
   ]
  },
  {
   "cell_type": "code",
   "execution_count": 61,
   "metadata": {},
   "outputs": [
    {
     "data": {
      "text/latex": [
       "$\\displaystyle \\left( \\left[\\begin{matrix}-0.408248290463863 & 0.707106781186547 & -0.577350269189626\\\\-0.408248290463863 & -0.707106781186547 & -0.577350269189626\\\\-0.816496580927726 & -6.82525441470704 \\cdot 10^{-17} & 0.577350269189626\\end{matrix}\\right], \\  \\left[\\begin{matrix}3.0 & 0.0 & 0.0\\\\0.0 & 1.0 & 0.0\\\\0.0 & 0.0 & 5.16564688793625 \\cdot 10^{-17}\\end{matrix}\\right], \\  \\left[\\begin{matrix}-0.408248290463863 & -0.408248290463863 & -0.816496580927726\\\\0.707106781186547 & -0.707106781186548 & -9.16409749474189 \\cdot 10^{-17}\\\\0.577350269189626 & 0.577350269189626 & -0.577350269189626\\end{matrix}\\right]\\right)$"
      ],
      "text/plain": [
       "⎛⎡-0.408248290463863    0.707106781186547    -0.577350269189626⎤  ⎡3.0  0.0    ↪\n",
       "⎜⎢                                                             ⎥  ⎢            ↪\n",
       "⎜⎢-0.408248290463863   -0.707106781186547    -0.577350269189626⎥, ⎢0.0  1.0    ↪\n",
       "⎜⎢                                                             ⎥  ⎢            ↪\n",
       "⎝⎣-0.816496580927726  -6.82525441470704e-17  0.577350269189626 ⎦  ⎣0.0  0.0  5 ↪\n",
       "\n",
       "↪        0.0         ⎤  ⎡-0.408248290463863  -0.408248290463863   -0.816496580 ↪\n",
       "↪                    ⎥  ⎢                                                      ↪\n",
       "↪        0.0         ⎥, ⎢0.707106781186547   -0.707106781186548  -9.1640974947 ↪\n",
       "↪                    ⎥  ⎢                                                      ↪\n",
       "↪ .16564688793625e-17⎦  ⎣0.577350269189626   0.577350269189626    -0.577350269 ↪\n",
       "\n",
       "↪ 927726  ⎤⎞\n",
       "↪         ⎥⎟\n",
       "↪ 4189e-17⎥⎟\n",
       "↪         ⎥⎟\n",
       "↪ 189626  ⎦⎠"
      ]
     },
     "execution_count": 61,
     "metadata": {},
     "output_type": "execute_result"
    }
   ],
   "source": [
    "U, S, V"
   ]
  },
  {
   "cell_type": "code",
   "execution_count": 64,
   "metadata": {},
   "outputs": [
    {
     "data": {
      "text/latex": [
       "$\\displaystyle \\left[\\begin{matrix}-0.408248290463863 & 0.707106781186547 & -0.577350269189626\\\\-0.408248290463863 & -0.707106781186547 & -0.577350269189626\\\\-0.816496580927726 & -6.82525441470704 \\cdot 10^{-17} & 0.577350269189626\\end{matrix}\\right]$"
      ],
      "text/plain": [
       "⎡-0.408248290463863    0.707106781186547    -0.577350269189626⎤\n",
       "⎢                                                             ⎥\n",
       "⎢-0.408248290463863   -0.707106781186547    -0.577350269189626⎥\n",
       "⎢                                                             ⎥\n",
       "⎣-0.816496580927726  -6.82525441470704e-17  0.577350269189626 ⎦"
      ]
     },
     "execution_count": 64,
     "metadata": {},
     "output_type": "execute_result"
    }
   ],
   "source": [
    "sym.nsimplify(U)"
   ]
  },
  {
   "cell_type": "code",
   "execution_count": 29,
   "metadata": {},
   "outputs": [
    {
     "name": "stdout",
     "output_type": "stream",
     "text": [
      "A^T A\n",
      "⎡528   -392  224   -176⎤\n",
      "⎢                      ⎥\n",
      "⎢-392  1092  -176  536 ⎥\n",
      "⎢                      ⎥\n",
      "⎢224   -176  192   -128⎥\n",
      "⎢                      ⎥\n",
      "⎣-176  536   -128  288 ⎦\n",
      "Characteristic Polynomial\n",
      "x⋅(x - 1600)⋅(x - 400)⋅(x - 100)\n",
      "Original: (1600)I - A\n",
      "⎡1072  392   -224  176 ⎤\n",
      "⎢                      ⎥\n",
      "⎢392   508   176   -536⎥\n",
      "⎢                      ⎥\n",
      "⎢-224  176   1408  128 ⎥\n",
      "⎢                      ⎥\n",
      "⎣176   -536  128   1312⎦\n",
      "\n",
      "After RREF:\n",
      "⎛⎡1  0  0   1 ⎤           ⎞\n",
      "⎜⎢            ⎥           ⎟\n",
      "⎜⎢0  1  0  -2 ⎥           ⎟\n",
      "⎜⎢            ⎥, (0, 1, 2)⎟\n",
      "⎜⎢0  0  1  1/2⎥           ⎟\n",
      "⎜⎢            ⎥           ⎟\n",
      "⎝⎣0  0  0   0 ⎦           ⎠\n",
      "\n",
      "Eigenvectors:\n",
      "⎡⎡ -1 ⎤⎤\n",
      "⎢⎢    ⎥⎥\n",
      "⎢⎢ 2  ⎥⎥\n",
      "⎢⎢    ⎥⎥\n",
      "⎢⎢-1/2⎥⎥\n",
      "⎢⎢    ⎥⎥\n",
      "⎣⎣ 1  ⎦⎦\n",
      "\n",
      "\n",
      "Original: (400)I - A\n",
      "⎡-128  392   -224  176 ⎤\n",
      "⎢                      ⎥\n",
      "⎢392   -692  176   -536⎥\n",
      "⎢                      ⎥\n",
      "⎢-224  176   208   128 ⎥\n",
      "⎢                      ⎥\n",
      "⎣176   -536  128   112 ⎦\n",
      "\n",
      "After RREF:\n",
      "⎛⎡1  0  0  -4⎤           ⎞\n",
      "⎜⎢           ⎥           ⎟\n",
      "⎜⎢0  1  0  -2⎥           ⎟\n",
      "⎜⎢           ⎥, (0, 1, 2)⎟\n",
      "⎜⎢0  0  1  -2⎥           ⎟\n",
      "⎜⎢           ⎥           ⎟\n",
      "⎝⎣0  0  0  0 ⎦           ⎠\n",
      "\n",
      "Eigenvectors:\n",
      "⎡⎡4⎤⎤\n",
      "⎢⎢ ⎥⎥\n",
      "⎢⎢2⎥⎥\n",
      "⎢⎢ ⎥⎥\n",
      "⎢⎢2⎥⎥\n",
      "⎢⎢ ⎥⎥\n",
      "⎣⎣1⎦⎦\n",
      "\n",
      "\n",
      "Original: (100)I - A\n",
      "⎡-428  392   -224  176 ⎤\n",
      "⎢                      ⎥\n",
      "⎢392   -992  176   -536⎥\n",
      "⎢                      ⎥\n",
      "⎢-224  176   -92   128 ⎥\n",
      "⎢                      ⎥\n",
      "⎣176   -536  128   -188⎦\n",
      "\n",
      "After RREF:\n",
      "⎛⎡1  0  0  -1 ⎤           ⎞\n",
      "⎜⎢            ⎥           ⎟\n",
      "⎜⎢0  1  0  1/2⎥           ⎟\n",
      "⎜⎢            ⎥, (0, 1, 2)⎟\n",
      "⎜⎢0  0  1   2 ⎥           ⎟\n",
      "⎜⎢            ⎥           ⎟\n",
      "⎝⎣0  0  0   0 ⎦           ⎠\n",
      "\n",
      "Eigenvectors:\n",
      "⎡⎡ 1  ⎤⎤\n",
      "⎢⎢    ⎥⎥\n",
      "⎢⎢-1/2⎥⎥\n",
      "⎢⎢    ⎥⎥\n",
      "⎢⎢ -2 ⎥⎥\n",
      "⎢⎢    ⎥⎥\n",
      "⎣⎣ 1  ⎦⎦\n",
      "\n",
      "\n",
      "Original: (0)I - A\n",
      "⎡-528   392   -224  176 ⎤\n",
      "⎢                       ⎥\n",
      "⎢392   -1092  176   -536⎥\n",
      "⎢                       ⎥\n",
      "⎢-224   176   -192  128 ⎥\n",
      "⎢                       ⎥\n",
      "⎣176   -536   128   -288⎦\n",
      "\n",
      "After RREF:\n",
      "⎛⎡1  0  0  1/4 ⎤           ⎞\n",
      "⎜⎢             ⎥           ⎟\n",
      "⎜⎢0  1  0  1/2 ⎥           ⎟\n",
      "⎜⎢             ⎥, (0, 1, 2)⎟\n",
      "⎜⎢0  0  1  -1/2⎥           ⎟\n",
      "⎜⎢             ⎥           ⎟\n",
      "⎝⎣0  0  0   0  ⎦           ⎠\n",
      "\n",
      "Eigenvectors:\n",
      "⎡⎡-1/4⎤⎤\n",
      "⎢⎢    ⎥⎥\n",
      "⎢⎢-1/2⎥⎥\n",
      "⎢⎢    ⎥⎥\n",
      "⎢⎢1/2 ⎥⎥\n",
      "⎢⎢    ⎥⎥\n",
      "⎣⎣ 1  ⎦⎦\n",
      "\n",
      "\n",
      "<IPython.core.display.Math object>\n",
      "<IPython.core.display.Math object>\n",
      "<IPython.core.display.Math object>\n",
      "\n",
      "Extending U with its orthogonal complement.\n",
      "⎛⎡1  0  0  1 ⎤           ⎞\n",
      "⎜⎢           ⎥           ⎟\n",
      "⎜⎢0  1  0  1 ⎥, (0, 1, 2)⎟\n",
      "⎜⎢           ⎥           ⎟\n",
      "⎝⎣0  0  1  -1⎦           ⎠\n",
      "<IPython.core.display.Math object>\n",
      "U, S, V\n",
      "⎡⎡1/2  -1/2  -1/2  -1/2⎤  ⎡40  0   0   0⎤  ⎡-2/5  4/5  2/5   -1/5⎤⎤\n",
      "⎢⎢                     ⎥  ⎢             ⎥  ⎢                     ⎥⎥\n",
      "⎢⎢1/2  1/2   1/2   -1/2⎥  ⎢0   20  0   0⎥  ⎢4/5   2/5  -1/5  -2/5⎥⎥\n",
      "⎢⎢                     ⎥, ⎢             ⎥, ⎢                     ⎥⎥\n",
      "⎢⎢1/2  -1/2  1/2   1/2 ⎥  ⎢0   0   10  0⎥  ⎢-1/5  2/5  -4/5  2/5 ⎥⎥\n",
      "⎢⎢                     ⎥  ⎢             ⎥  ⎢                     ⎥⎥\n",
      "⎣⎣1/2  1/2   -1/2  1/2 ⎦  ⎣0   0   0   0⎦  ⎣2/5   1/5  2/5   4/5 ⎦⎦\n"
     ]
    },
    {
     "data": {
      "text/latex": [
       "$\\displaystyle \\left( \\left[\\begin{matrix}\\frac{1}{2} & - \\frac{1}{2} & - \\frac{1}{2} & - \\frac{1}{2}\\\\\\frac{1}{2} & \\frac{1}{2} & \\frac{1}{2} & - \\frac{1}{2}\\\\\\frac{1}{2} & - \\frac{1}{2} & \\frac{1}{2} & \\frac{1}{2}\\\\\\frac{1}{2} & \\frac{1}{2} & - \\frac{1}{2} & \\frac{1}{2}\\end{matrix}\\right], \\  \\left[\\begin{matrix}40 & 0 & 0 & 0\\\\0 & 20 & 0 & 0\\\\0 & 0 & 10 & 0\\\\0 & 0 & 0 & 0\\end{matrix}\\right], \\  \\left[\\begin{matrix}- \\frac{2}{5} & \\frac{4}{5} & \\frac{2}{5} & - \\frac{1}{5}\\\\\\frac{4}{5} & \\frac{2}{5} & - \\frac{1}{5} & - \\frac{2}{5}\\\\- \\frac{1}{5} & \\frac{2}{5} & - \\frac{4}{5} & \\frac{2}{5}\\\\\\frac{2}{5} & \\frac{1}{5} & \\frac{2}{5} & \\frac{4}{5}\\end{matrix}\\right]\\right)$"
      ],
      "text/plain": [
       "⎛⎡1/2  -1/2  -1/2  -1/2⎤  ⎡40  0   0   0⎤  ⎡-2/5  4/5  2/5   -1/5⎤⎞\n",
       "⎜⎢                     ⎥  ⎢             ⎥  ⎢                     ⎥⎟\n",
       "⎜⎢1/2  1/2   1/2   -1/2⎥  ⎢0   20  0   0⎥  ⎢4/5   2/5  -1/5  -2/5⎥⎟\n",
       "⎜⎢                     ⎥, ⎢             ⎥, ⎢                     ⎥⎟\n",
       "⎜⎢1/2  -1/2  1/2   1/2 ⎥  ⎢0   0   10  0⎥  ⎢-1/5  2/5  -4/5  2/5 ⎥⎟\n",
       "⎜⎢                     ⎥  ⎢             ⎥  ⎢                     ⎥⎟\n",
       "⎝⎣1/2  1/2   -1/2  1/2 ⎦  ⎣0   0   0   0⎦  ⎣2/5   1/5  2/5   4/5 ⎦⎠"
      ]
     },
     "execution_count": 29,
     "metadata": {},
     "output_type": "execute_result"
    }
   ],
   "source": [
    "A = Matrix([[-18, 13, -4, 4],\n",
    "            [2, 19, -4, 12],\n",
    "            [-14, 11, -12, 8],\n",
    "            [-2, 21, 4, 8]])\n",
    "\n",
    "A.singular_value_decomposition(verbosity=1)"
   ]
  },
  {
   "cell_type": "code",
   "execution_count": 28,
   "metadata": {},
   "outputs": [
    {
     "name": "stdout",
     "output_type": "stream",
     "text": [
      "A^T A\n",
      "⎡0  0  0⎤\n",
      "⎢       ⎥\n",
      "⎢0  0  0⎥\n",
      "⎢       ⎥\n",
      "⎣0  0  0⎦\n",
      "Characteristic Polynomial\n",
      " 3\n",
      "x \n",
      "Original: (0)I - A\n",
      "⎡0  0  0⎤\n",
      "⎢       ⎥\n",
      "⎢0  0  0⎥\n",
      "⎢       ⎥\n",
      "⎣0  0  0⎦\n",
      "\n",
      "After RREF:\n",
      "⎛⎡0  0  0⎤    ⎞\n",
      "⎜⎢       ⎥    ⎟\n",
      "⎜⎢0  0  0⎥, ()⎟\n",
      "⎜⎢       ⎥    ⎟\n",
      "⎝⎣0  0  0⎦    ⎠\n",
      "\n",
      "Eigenvectors:\n",
      "⎡⎡1⎤  ⎡0⎤  ⎡0⎤⎤\n",
      "⎢⎢ ⎥  ⎢ ⎥  ⎢ ⎥⎥\n",
      "⎢⎢0⎥, ⎢1⎥, ⎢0⎥⎥\n",
      "⎢⎢ ⎥  ⎢ ⎥  ⎢ ⎥⎥\n",
      "⎣⎣0⎦  ⎣0⎦  ⎣1⎦⎦\n",
      "\n",
      "\n",
      "Eigenvalue:  0\n",
      "[Gram Schmidt Process]\n",
      "<IPython.core.display.Math object>\n",
      "<IPython.core.display.Math object>\n",
      "<IPython.core.display.Math object>\n",
      "\n",
      "Extending U with its orthogonal complement.\n",
      "U, S, V\n",
      "⎡⎡1  0  0⎤  ⎡0  0  0⎤  ⎡0  0  1⎤⎤\n",
      "⎢⎢       ⎥  ⎢       ⎥  ⎢       ⎥⎥\n",
      "⎢⎢0  1  0⎥, ⎢0  0  0⎥, ⎢0  1  0⎥⎥\n",
      "⎢⎢       ⎥  ⎢       ⎥  ⎢       ⎥⎥\n",
      "⎣⎣0  0  1⎦  ⎣0  0  0⎦  ⎣1  0  0⎦⎦\n"
     ]
    },
    {
     "data": {
      "text/latex": [
       "$\\displaystyle \\left( \\left[\\begin{matrix}1 & 0 & 0\\\\0 & 1 & 0\\\\0 & 0 & 1\\end{matrix}\\right], \\  \\left[\\begin{matrix}0 & 0 & 0\\\\0 & 0 & 0\\\\0 & 0 & 0\\end{matrix}\\right], \\  \\left[\\begin{matrix}0 & 0 & 1\\\\0 & 1 & 0\\\\1 & 0 & 0\\end{matrix}\\right]\\right)$"
      ],
      "text/plain": [
       "⎛⎡1  0  0⎤  ⎡0  0  0⎤  ⎡0  0  1⎤⎞\n",
       "⎜⎢       ⎥  ⎢       ⎥  ⎢       ⎥⎟\n",
       "⎜⎢0  1  0⎥, ⎢0  0  0⎥, ⎢0  1  0⎥⎟\n",
       "⎜⎢       ⎥  ⎢       ⎥  ⎢       ⎥⎟\n",
       "⎝⎣0  0  1⎦  ⎣0  0  0⎦  ⎣1  0  0⎦⎠"
      ]
     },
     "execution_count": 28,
     "metadata": {},
     "output_type": "execute_result"
    }
   ],
   "source": [
    "Matrix.zeros(3, 3).singular_value_decomposition(verbosity=1)"
   ]
  },
  {
   "cell_type": "code",
   "execution_count": 26,
   "metadata": {},
   "outputs": [
    {
     "data": {
      "text/latex": [
       "$\\displaystyle 0$"
      ],
      "text/plain": [
       "0"
      ]
     },
     "execution_count": 26,
     "metadata": {},
     "output_type": "execute_result"
    }
   ],
   "source": [
    "Matrix([]).rows"
   ]
  },
  {
   "cell_type": "code",
   "execution_count": 22,
   "metadata": {},
   "outputs": [
    {
     "data": {
      "text/latex": [
       "$\\displaystyle \\left[ \\left[\\begin{matrix}1\\\\0\\\\0\\end{matrix}\\right], \\  \\left[\\begin{matrix}0\\\\1\\\\0\\end{matrix}\\right], \\  \\left[\\begin{matrix}0\\\\0\\\\1\\end{matrix}\\right]\\right]$"
      ],
      "text/plain": [
       "⎡⎡1⎤  ⎡0⎤  ⎡0⎤⎤\n",
       "⎢⎢ ⎥  ⎢ ⎥  ⎢ ⎥⎥\n",
       "⎢⎢0⎥, ⎢1⎥, ⎢0⎥⎥\n",
       "⎢⎢ ⎥  ⎢ ⎥  ⎢ ⎥⎥\n",
       "⎣⎣0⎦  ⎣0⎦  ⎣1⎦⎦"
      ]
     },
     "execution_count": 22,
     "metadata": {},
     "output_type": "execute_result"
    }
   ],
   "source": [
    "Matrix.zeros(3, 3).nullspace()"
   ]
  },
  {
   "cell_type": "code",
   "execution_count": 3,
   "metadata": {},
   "outputs": [
    {
     "data": {
      "text/latex": [
       "$\\displaystyle \\left( \\left[\\begin{matrix}- \\frac{1}{2} & \\frac{1}{2} & \\frac{1}{2} & - \\frac{1}{2}\\\\- \\frac{1}{2} & - \\frac{1}{2} & - \\frac{1}{2} & - \\frac{1}{2}\\\\- \\frac{1}{2} & \\frac{1}{2} & - \\frac{1}{2} & \\frac{1}{2}\\\\- \\frac{1}{2} & - \\frac{1}{2} & \\frac{1}{2} & \\frac{1}{2}\\end{matrix}\\right], \\  \\left[\\begin{matrix}40 & 0 & 0 & 0\\\\0 & 20 & 0 & 0\\\\0 & 0 & 10 & 0\\\\0 & 0 & 0 & 0\\end{matrix}\\right], \\  \\left[\\begin{matrix}\\frac{2}{5} & - \\frac{4}{5} & - \\frac{2}{5} & \\frac{1}{5}\\\\- \\frac{4}{5} & - \\frac{2}{5} & \\frac{1}{5} & \\frac{2}{5}\\\\\\frac{1}{5} & - \\frac{2}{5} & \\frac{4}{5} & - \\frac{2}{5}\\\\- \\frac{2}{5} & - \\frac{1}{5} & - \\frac{2}{5} & - \\frac{4}{5}\\end{matrix}\\right]\\right)$"
      ],
      "text/plain": [
       "⎛⎡-1/2  1/2   1/2   -1/2⎤  ⎡40  0   0   0⎤  ⎡2/5   -4/5  -2/5  1/5 ⎤⎞\n",
       "⎜⎢                      ⎥  ⎢             ⎥  ⎢                      ⎥⎟\n",
       "⎜⎢-1/2  -1/2  -1/2  -1/2⎥  ⎢0   20  0   0⎥  ⎢-4/5  -2/5  1/5   2/5 ⎥⎟\n",
       "⎜⎢                      ⎥, ⎢             ⎥, ⎢                      ⎥⎟\n",
       "⎜⎢-1/2  1/2   -1/2  1/2 ⎥  ⎢0   0   10  0⎥  ⎢1/5   -2/5  4/5   -2/5⎥⎟\n",
       "⎜⎢                      ⎥  ⎢             ⎥  ⎢                      ⎥⎟\n",
       "⎝⎣-1/2  -1/2  1/2   1/2 ⎦  ⎣0   0   0   0⎦  ⎣-2/5  -1/5  -2/5  -4/5⎦⎠"
      ]
     },
     "execution_count": 3,
     "metadata": {},
     "output_type": "execute_result"
    }
   ],
   "source": [
    "U, S, V = A.fast_svd(option='sym')\n",
    "\n",
    "U, S, V"
   ]
  },
  {
   "cell_type": "code",
   "execution_count": 100,
   "metadata": {},
   "outputs": [
    {
     "data": {
      "text/latex": [
       "$\\displaystyle \\left[\\begin{matrix}-18 & 13 & -4 & 4\\\\2 & 19 & -4 & 12\\\\-14 & 11 & -12 & 8\\\\-2 & 21 & 4 & 8\\end{matrix}\\right]$"
      ],
      "text/plain": [
       "⎡-18  13  -4   4 ⎤\n",
       "⎢                ⎥\n",
       "⎢ 2   19  -4   12⎥\n",
       "⎢                ⎥\n",
       "⎢-14  11  -12  8 ⎥\n",
       "⎢                ⎥\n",
       "⎣-2   21   4   8 ⎦"
      ]
     },
     "execution_count": 100,
     "metadata": {},
     "output_type": "execute_result"
    }
   ],
   "source": [
    "A"
   ]
  },
  {
   "cell_type": "code",
   "execution_count": 4,
   "metadata": {},
   "outputs": [
    {
     "name": "stdout",
     "output_type": "stream",
     "text": [
      "Characteristic Polynomial\n"
     ]
    },
    {
     "data": {
      "text/latex": [
       "$\\displaystyle x \\left(x - 1600\\right) \\left(x - 400\\right) \\left(x - 100\\right)$"
      ],
      "text/plain": [
       "x⋅(x - 1600)⋅(x - 400)⋅(x - 100)"
      ]
     },
     "metadata": {},
     "output_type": "display_data"
    },
    {
     "name": "stdout",
     "output_type": "stream",
     "text": [
      "Original: (1600)I - A\n"
     ]
    },
    {
     "data": {
      "text/latex": [
       "$\\displaystyle \\left[\\begin{matrix}1072 & 392 & -224 & 176\\\\392 & 508 & 176 & -536\\\\-224 & 176 & 1408 & 128\\\\176 & -536 & 128 & 1312\\end{matrix}\\right]$"
      ],
      "text/plain": [
       "⎡1072  392   -224  176 ⎤\n",
       "⎢                      ⎥\n",
       "⎢392   508   176   -536⎥\n",
       "⎢                      ⎥\n",
       "⎢-224  176   1408  128 ⎥\n",
       "⎢                      ⎥\n",
       "⎣176   -536  128   1312⎦"
      ]
     },
     "metadata": {},
     "output_type": "display_data"
    },
    {
     "name": "stdout",
     "output_type": "stream",
     "text": [
      "\n",
      "After RREF:\n"
     ]
    },
    {
     "data": {
      "text/latex": [
       "$\\displaystyle \\left( \\left[\\begin{matrix}1 & 0 & 0 & 1\\\\0 & 1 & 0 & -2\\\\0 & 0 & 1 & \\frac{1}{2}\\\\0 & 0 & 0 & 0\\end{matrix}\\right], \\  \\left( 0, \\  1, \\  2\\right)\\right)$"
      ],
      "text/plain": [
       "⎛⎡1  0  0   1 ⎤           ⎞\n",
       "⎜⎢            ⎥           ⎟\n",
       "⎜⎢0  1  0  -2 ⎥           ⎟\n",
       "⎜⎢            ⎥, (0, 1, 2)⎟\n",
       "⎜⎢0  0  1  1/2⎥           ⎟\n",
       "⎜⎢            ⎥           ⎟\n",
       "⎝⎣0  0  0   0 ⎦           ⎠"
      ]
     },
     "metadata": {},
     "output_type": "display_data"
    },
    {
     "name": "stdout",
     "output_type": "stream",
     "text": [
      "\n",
      "Eigenvectors:\n"
     ]
    },
    {
     "data": {
      "text/latex": [
       "$\\displaystyle \\left[ \\left[\\begin{matrix}-1\\\\2\\\\- \\frac{1}{2}\\\\1\\end{matrix}\\right]\\right]$"
      ],
      "text/plain": [
       "⎡⎡ -1 ⎤⎤\n",
       "⎢⎢    ⎥⎥\n",
       "⎢⎢ 2  ⎥⎥\n",
       "⎢⎢    ⎥⎥\n",
       "⎢⎢-1/2⎥⎥\n",
       "⎢⎢    ⎥⎥\n",
       "⎣⎣ 1  ⎦⎦"
      ]
     },
     "metadata": {},
     "output_type": "display_data"
    },
    {
     "name": "stdout",
     "output_type": "stream",
     "text": [
      "\n",
      "\n",
      "Original: (400)I - A\n"
     ]
    },
    {
     "data": {
      "text/latex": [
       "$\\displaystyle \\left[\\begin{matrix}-128 & 392 & -224 & 176\\\\392 & -692 & 176 & -536\\\\-224 & 176 & 208 & 128\\\\176 & -536 & 128 & 112\\end{matrix}\\right]$"
      ],
      "text/plain": [
       "⎡-128  392   -224  176 ⎤\n",
       "⎢                      ⎥\n",
       "⎢392   -692  176   -536⎥\n",
       "⎢                      ⎥\n",
       "⎢-224  176   208   128 ⎥\n",
       "⎢                      ⎥\n",
       "⎣176   -536  128   112 ⎦"
      ]
     },
     "metadata": {},
     "output_type": "display_data"
    },
    {
     "name": "stdout",
     "output_type": "stream",
     "text": [
      "\n",
      "After RREF:\n"
     ]
    },
    {
     "data": {
      "text/latex": [
       "$\\displaystyle \\left( \\left[\\begin{matrix}1 & 0 & 0 & -4\\\\0 & 1 & 0 & -2\\\\0 & 0 & 1 & -2\\\\0 & 0 & 0 & 0\\end{matrix}\\right], \\  \\left( 0, \\  1, \\  2\\right)\\right)$"
      ],
      "text/plain": [
       "⎛⎡1  0  0  -4⎤           ⎞\n",
       "⎜⎢           ⎥           ⎟\n",
       "⎜⎢0  1  0  -2⎥           ⎟\n",
       "⎜⎢           ⎥, (0, 1, 2)⎟\n",
       "⎜⎢0  0  1  -2⎥           ⎟\n",
       "⎜⎢           ⎥           ⎟\n",
       "⎝⎣0  0  0  0 ⎦           ⎠"
      ]
     },
     "metadata": {},
     "output_type": "display_data"
    },
    {
     "name": "stdout",
     "output_type": "stream",
     "text": [
      "\n",
      "Eigenvectors:\n"
     ]
    },
    {
     "data": {
      "text/latex": [
       "$\\displaystyle \\left[ \\left[\\begin{matrix}4\\\\2\\\\2\\\\1\\end{matrix}\\right]\\right]$"
      ],
      "text/plain": [
       "⎡⎡4⎤⎤\n",
       "⎢⎢ ⎥⎥\n",
       "⎢⎢2⎥⎥\n",
       "⎢⎢ ⎥⎥\n",
       "⎢⎢2⎥⎥\n",
       "⎢⎢ ⎥⎥\n",
       "⎣⎣1⎦⎦"
      ]
     },
     "metadata": {},
     "output_type": "display_data"
    },
    {
     "name": "stdout",
     "output_type": "stream",
     "text": [
      "\n",
      "\n",
      "Original: (100)I - A\n"
     ]
    },
    {
     "data": {
      "text/latex": [
       "$\\displaystyle \\left[\\begin{matrix}-428 & 392 & -224 & 176\\\\392 & -992 & 176 & -536\\\\-224 & 176 & -92 & 128\\\\176 & -536 & 128 & -188\\end{matrix}\\right]$"
      ],
      "text/plain": [
       "⎡-428  392   -224  176 ⎤\n",
       "⎢                      ⎥\n",
       "⎢392   -992  176   -536⎥\n",
       "⎢                      ⎥\n",
       "⎢-224  176   -92   128 ⎥\n",
       "⎢                      ⎥\n",
       "⎣176   -536  128   -188⎦"
      ]
     },
     "metadata": {},
     "output_type": "display_data"
    },
    {
     "name": "stdout",
     "output_type": "stream",
     "text": [
      "\n",
      "After RREF:\n"
     ]
    },
    {
     "data": {
      "text/latex": [
       "$\\displaystyle \\left( \\left[\\begin{matrix}1 & 0 & 0 & -1\\\\0 & 1 & 0 & \\frac{1}{2}\\\\0 & 0 & 1 & 2\\\\0 & 0 & 0 & 0\\end{matrix}\\right], \\  \\left( 0, \\  1, \\  2\\right)\\right)$"
      ],
      "text/plain": [
       "⎛⎡1  0  0  -1 ⎤           ⎞\n",
       "⎜⎢            ⎥           ⎟\n",
       "⎜⎢0  1  0  1/2⎥           ⎟\n",
       "⎜⎢            ⎥, (0, 1, 2)⎟\n",
       "⎜⎢0  0  1   2 ⎥           ⎟\n",
       "⎜⎢            ⎥           ⎟\n",
       "⎝⎣0  0  0   0 ⎦           ⎠"
      ]
     },
     "metadata": {},
     "output_type": "display_data"
    },
    {
     "name": "stdout",
     "output_type": "stream",
     "text": [
      "\n",
      "Eigenvectors:\n"
     ]
    },
    {
     "data": {
      "text/latex": [
       "$\\displaystyle \\left[ \\left[\\begin{matrix}1\\\\- \\frac{1}{2}\\\\-2\\\\1\\end{matrix}\\right]\\right]$"
      ],
      "text/plain": [
       "⎡⎡ 1  ⎤⎤\n",
       "⎢⎢    ⎥⎥\n",
       "⎢⎢-1/2⎥⎥\n",
       "⎢⎢    ⎥⎥\n",
       "⎢⎢ -2 ⎥⎥\n",
       "⎢⎢    ⎥⎥\n",
       "⎣⎣ 1  ⎦⎦"
      ]
     },
     "metadata": {},
     "output_type": "display_data"
    },
    {
     "name": "stdout",
     "output_type": "stream",
     "text": [
      "\n",
      "\n",
      "Original: (0)I - A\n"
     ]
    },
    {
     "data": {
      "text/latex": [
       "$\\displaystyle \\left[\\begin{matrix}-528 & 392 & -224 & 176\\\\392 & -1092 & 176 & -536\\\\-224 & 176 & -192 & 128\\\\176 & -536 & 128 & -288\\end{matrix}\\right]$"
      ],
      "text/plain": [
       "⎡-528   392   -224  176 ⎤\n",
       "⎢                       ⎥\n",
       "⎢392   -1092  176   -536⎥\n",
       "⎢                       ⎥\n",
       "⎢-224   176   -192  128 ⎥\n",
       "⎢                       ⎥\n",
       "⎣176   -536   128   -288⎦"
      ]
     },
     "metadata": {},
     "output_type": "display_data"
    },
    {
     "name": "stdout",
     "output_type": "stream",
     "text": [
      "\n",
      "After RREF:\n"
     ]
    },
    {
     "data": {
      "text/latex": [
       "$\\displaystyle \\left( \\left[\\begin{matrix}1 & 0 & 0 & \\frac{1}{4}\\\\0 & 1 & 0 & \\frac{1}{2}\\\\0 & 0 & 1 & - \\frac{1}{2}\\\\0 & 0 & 0 & 0\\end{matrix}\\right], \\  \\left( 0, \\  1, \\  2\\right)\\right)$"
      ],
      "text/plain": [
       "⎛⎡1  0  0  1/4 ⎤           ⎞\n",
       "⎜⎢             ⎥           ⎟\n",
       "⎜⎢0  1  0  1/2 ⎥           ⎟\n",
       "⎜⎢             ⎥, (0, 1, 2)⎟\n",
       "⎜⎢0  0  1  -1/2⎥           ⎟\n",
       "⎜⎢             ⎥           ⎟\n",
       "⎝⎣0  0  0   0  ⎦           ⎠"
      ]
     },
     "metadata": {},
     "output_type": "display_data"
    },
    {
     "name": "stdout",
     "output_type": "stream",
     "text": [
      "\n",
      "Eigenvectors:\n"
     ]
    },
    {
     "data": {
      "text/latex": [
       "$\\displaystyle \\left[ \\left[\\begin{matrix}- \\frac{1}{4}\\\\- \\frac{1}{2}\\\\\\frac{1}{2}\\\\1\\end{matrix}\\right]\\right]$"
      ],
      "text/plain": [
       "⎡⎡-1/4⎤⎤\n",
       "⎢⎢    ⎥⎥\n",
       "⎢⎢-1/2⎥⎥\n",
       "⎢⎢    ⎥⎥\n",
       "⎢⎢1/2 ⎥⎥\n",
       "⎢⎢    ⎥⎥\n",
       "⎣⎣ 1  ⎦⎦"
      ]
     },
     "metadata": {},
     "output_type": "display_data"
    },
    {
     "name": "stdout",
     "output_type": "stream",
     "text": [
      "\n",
      "\n",
      "Eigenvalue:  0\n",
      "[Gram Schmidt Process]\n"
     ]
    },
    {
     "data": {
      "text/latex": [
       "$\\displaystyle v_1 = \\left[\\begin{matrix}-1\\\\-2\\\\2\\\\4\\end{matrix}\\right]$"
      ],
      "text/plain": [
       "<IPython.core.display.Math object>"
      ]
     },
     "metadata": {},
     "output_type": "display_data"
    },
    {
     "name": "stdout",
     "output_type": "stream",
     "text": [
      "Eigenvalue:  100\n",
      "[Gram Schmidt Process]\n"
     ]
    },
    {
     "data": {
      "text/latex": [
       "$\\displaystyle v_1 = \\left[\\begin{matrix}2\\\\-1\\\\-4\\\\2\\end{matrix}\\right]$"
      ],
      "text/plain": [
       "<IPython.core.display.Math object>"
      ]
     },
     "metadata": {},
     "output_type": "display_data"
    },
    {
     "name": "stdout",
     "output_type": "stream",
     "text": [
      "Eigenvalue:  400\n",
      "[Gram Schmidt Process]\n"
     ]
    },
    {
     "data": {
      "text/latex": [
       "$\\displaystyle v_1 = \\left[\\begin{matrix}4\\\\2\\\\2\\\\1\\end{matrix}\\right]$"
      ],
      "text/plain": [
       "<IPython.core.display.Math object>"
      ]
     },
     "metadata": {},
     "output_type": "display_data"
    },
    {
     "name": "stdout",
     "output_type": "stream",
     "text": [
      "Eigenvalue:  1600\n",
      "[Gram Schmidt Process]\n"
     ]
    },
    {
     "data": {
      "text/latex": [
       "$\\displaystyle v_1 = \\left[\\begin{matrix}-1\\\\2\\\\- \\frac{1}{2}\\\\1\\end{matrix}\\right]$"
      ],
      "text/plain": [
       "<IPython.core.display.Math object>"
      ]
     },
     "metadata": {},
     "output_type": "display_data"
    },
    {
     "data": {
      "text/latex": [
       "$\\displaystyle \\left( \\left[\\begin{matrix}- \\frac{1}{5} & \\frac{2}{5} & \\frac{4}{5} & - \\frac{2}{5}\\\\- \\frac{2}{5} & - \\frac{1}{5} & \\frac{2}{5} & \\frac{4}{5}\\\\\\frac{2}{5} & - \\frac{4}{5} & \\frac{2}{5} & - \\frac{1}{5}\\\\\\frac{4}{5} & \\frac{2}{5} & \\frac{1}{5} & \\frac{2}{5}\\end{matrix}\\right], \\  \\left[\\begin{matrix}0 & 0 & 0 & 0\\\\0 & 100 & 0 & 0\\\\0 & 0 & 400 & 0\\\\0 & 0 & 0 & 1600\\end{matrix}\\right]\\right)$"
      ],
      "text/plain": [
       "⎛⎡-1/5  2/5   4/5  -2/5⎤  ⎡0   0    0    0  ⎤⎞\n",
       "⎜⎢                     ⎥  ⎢                 ⎥⎟\n",
       "⎜⎢-2/5  -1/5  2/5  4/5 ⎥  ⎢0  100   0    0  ⎥⎟\n",
       "⎜⎢                     ⎥, ⎢                 ⎥⎟\n",
       "⎜⎢2/5   -4/5  2/5  -1/5⎥  ⎢0   0   400   0  ⎥⎟\n",
       "⎜⎢                     ⎥  ⎢                 ⎥⎟\n",
       "⎝⎣4/5   2/5   1/5  2/5 ⎦  ⎣0   0    0   1600⎦⎠"
      ]
     },
     "execution_count": 4,
     "metadata": {},
     "output_type": "execute_result"
    }
   ],
   "source": [
    "(A.T@A).orthogonally_diagonalize()"
   ]
  },
  {
   "cell_type": "code",
   "execution_count": 7,
   "metadata": {},
   "outputs": [
    {
     "name": "stdout",
     "output_type": "stream",
     "text": [
      "A^T A\n",
      "⎡528   -392  224   -176⎤\n",
      "⎢                      ⎥\n",
      "⎢-392  1092  -176  536 ⎥\n",
      "⎢                      ⎥\n",
      "⎢224   -176  192   -128⎥\n",
      "⎢                      ⎥\n",
      "⎣-176  536   -128  288 ⎦\n",
      "Characteristic Polynomial\n",
      "x⋅(x - 1600)⋅(x - 400)⋅(x - 100)\n",
      "Original: (1600)I - A\n",
      "⎡1072  392   -224  176 ⎤\n",
      "⎢                      ⎥\n",
      "⎢392   508   176   -536⎥\n",
      "⎢                      ⎥\n",
      "⎢-224  176   1408  128 ⎥\n",
      "⎢                      ⎥\n",
      "⎣176   -536  128   1312⎦\n",
      "\n",
      "After RREF:\n",
      "⎛⎡1  0  0   1 ⎤           ⎞\n",
      "⎜⎢            ⎥           ⎟\n",
      "⎜⎢0  1  0  -2 ⎥           ⎟\n",
      "⎜⎢            ⎥, (0, 1, 2)⎟\n",
      "⎜⎢0  0  1  1/2⎥           ⎟\n",
      "⎜⎢            ⎥           ⎟\n",
      "⎝⎣0  0  0   0 ⎦           ⎠\n",
      "\n",
      "Eigenvectors:\n",
      "⎡⎡ -1 ⎤⎤\n",
      "⎢⎢    ⎥⎥\n",
      "⎢⎢ 2  ⎥⎥\n",
      "⎢⎢    ⎥⎥\n",
      "⎢⎢-1/2⎥⎥\n",
      "⎢⎢    ⎥⎥\n",
      "⎣⎣ 1  ⎦⎦\n",
      "\n",
      "\n",
      "Original: (400)I - A\n",
      "⎡-128  392   -224  176 ⎤\n",
      "⎢                      ⎥\n",
      "⎢392   -692  176   -536⎥\n",
      "⎢                      ⎥\n",
      "⎢-224  176   208   128 ⎥\n",
      "⎢                      ⎥\n",
      "⎣176   -536  128   112 ⎦\n",
      "\n",
      "After RREF:\n",
      "⎛⎡1  0  0  -4⎤           ⎞\n",
      "⎜⎢           ⎥           ⎟\n",
      "⎜⎢0  1  0  -2⎥           ⎟\n",
      "⎜⎢           ⎥, (0, 1, 2)⎟\n",
      "⎜⎢0  0  1  -2⎥           ⎟\n",
      "⎜⎢           ⎥           ⎟\n",
      "⎝⎣0  0  0  0 ⎦           ⎠\n",
      "\n",
      "Eigenvectors:\n",
      "⎡⎡4⎤⎤\n",
      "⎢⎢ ⎥⎥\n",
      "⎢⎢2⎥⎥\n",
      "⎢⎢ ⎥⎥\n",
      "⎢⎢2⎥⎥\n",
      "⎢⎢ ⎥⎥\n",
      "⎣⎣1⎦⎦\n",
      "\n",
      "\n",
      "Original: (100)I - A\n",
      "⎡-428  392   -224  176 ⎤\n",
      "⎢                      ⎥\n",
      "⎢392   -992  176   -536⎥\n",
      "⎢                      ⎥\n",
      "⎢-224  176   -92   128 ⎥\n",
      "⎢                      ⎥\n",
      "⎣176   -536  128   -188⎦\n",
      "\n",
      "After RREF:\n",
      "⎛⎡1  0  0  -1 ⎤           ⎞\n",
      "⎜⎢            ⎥           ⎟\n",
      "⎜⎢0  1  0  1/2⎥           ⎟\n",
      "⎜⎢            ⎥, (0, 1, 2)⎟\n",
      "⎜⎢0  0  1   2 ⎥           ⎟\n",
      "⎜⎢            ⎥           ⎟\n",
      "⎝⎣0  0  0   0 ⎦           ⎠\n",
      "\n",
      "Eigenvectors:\n",
      "⎡⎡ 1  ⎤⎤\n",
      "⎢⎢    ⎥⎥\n",
      "⎢⎢-1/2⎥⎥\n",
      "⎢⎢    ⎥⎥\n",
      "⎢⎢ -2 ⎥⎥\n",
      "⎢⎢    ⎥⎥\n",
      "⎣⎣ 1  ⎦⎦\n",
      "\n",
      "\n",
      "Original: (0)I - A\n",
      "⎡-528   392   -224  176 ⎤\n",
      "⎢                       ⎥\n",
      "⎢392   -1092  176   -536⎥\n",
      "⎢                       ⎥\n",
      "⎢-224   176   -192  128 ⎥\n",
      "⎢                       ⎥\n",
      "⎣176   -536   128   -288⎦\n",
      "\n",
      "After RREF:\n",
      "⎛⎡1  0  0  1/4 ⎤           ⎞\n",
      "⎜⎢             ⎥           ⎟\n",
      "⎜⎢0  1  0  1/2 ⎥           ⎟\n",
      "⎜⎢             ⎥, (0, 1, 2)⎟\n",
      "⎜⎢0  0  1  -1/2⎥           ⎟\n",
      "⎜⎢             ⎥           ⎟\n",
      "⎝⎣0  0  0   0  ⎦           ⎠\n",
      "\n",
      "Eigenvectors:\n",
      "⎡⎡-1/4⎤⎤\n",
      "⎢⎢    ⎥⎥\n",
      "⎢⎢-1/2⎥⎥\n",
      "⎢⎢    ⎥⎥\n",
      "⎢⎢1/2 ⎥⎥\n",
      "⎢⎢    ⎥⎥\n",
      "⎣⎣ 1  ⎦⎦\n",
      "\n",
      "\n",
      "Eigenvalue:  0\n",
      "[Gram Schmidt Process]\n",
      "<IPython.core.display.Math object>\n",
      "Eigenvalue:  100\n",
      "[Gram Schmidt Process]\n",
      "<IPython.core.display.Math object>\n",
      "Eigenvalue:  400\n",
      "[Gram Schmidt Process]\n",
      "<IPython.core.display.Math object>\n",
      "Eigenvalue:  1600\n",
      "[Gram Schmidt Process]\n",
      "<IPython.core.display.Math object>\n",
      "<IPython.core.display.Math object>\n",
      "<IPython.core.display.Math object>\n",
      "<IPython.core.display.Math object>\n",
      "⎛⎡1  0  0  1 ⎤           ⎞\n",
      "⎜⎢           ⎥           ⎟\n",
      "⎜⎢0  1  0  1 ⎥, (0, 1, 2)⎟\n",
      "⎜⎢           ⎥           ⎟\n",
      "⎝⎣0  0  1  -1⎦           ⎠\n",
      "<IPython.core.display.Math object>\n",
      "⎡⎡1/2  -1/2  -1/2  -1/2⎤  ⎡40  0   0   0⎤  ⎡-2/5  4/5  2/5   -1/5⎤⎤\n",
      "⎢⎢                     ⎥  ⎢             ⎥  ⎢                     ⎥⎥\n",
      "⎢⎢1/2  1/2   1/2   -1/2⎥  ⎢0   20  0   0⎥  ⎢4/5   2/5  -1/5  -2/5⎥⎥\n",
      "⎢⎢                     ⎥, ⎢             ⎥, ⎢                     ⎥⎥\n",
      "⎢⎢1/2  -1/2  1/2   1/2 ⎥  ⎢0   0   10  0⎥  ⎢-1/5  2/5  -4/5  2/5 ⎥⎥\n",
      "⎢⎢                     ⎥  ⎢             ⎥  ⎢                     ⎥⎥\n",
      "⎣⎣1/2  1/2   -1/2  1/2 ⎦  ⎣0   0   0   0⎦  ⎣2/5   1/5  2/5   4/5 ⎦⎦\n"
     ]
    },
    {
     "data": {
      "text/latex": [
       "$\\displaystyle \\left( \\left[\\begin{matrix}\\frac{1}{2} & - \\frac{1}{2} & - \\frac{1}{2} & - \\frac{1}{2}\\\\\\frac{1}{2} & \\frac{1}{2} & \\frac{1}{2} & - \\frac{1}{2}\\\\\\frac{1}{2} & - \\frac{1}{2} & \\frac{1}{2} & \\frac{1}{2}\\\\\\frac{1}{2} & \\frac{1}{2} & - \\frac{1}{2} & \\frac{1}{2}\\end{matrix}\\right], \\  \\left[\\begin{matrix}40 & 0 & 0 & 0\\\\0 & 20 & 0 & 0\\\\0 & 0 & 10 & 0\\\\0 & 0 & 0 & 0\\end{matrix}\\right], \\  \\left[\\begin{matrix}- \\frac{2}{5} & \\frac{4}{5} & \\frac{2}{5} & - \\frac{1}{5}\\\\\\frac{4}{5} & \\frac{2}{5} & - \\frac{1}{5} & - \\frac{2}{5}\\\\- \\frac{1}{5} & \\frac{2}{5} & - \\frac{4}{5} & \\frac{2}{5}\\\\\\frac{2}{5} & \\frac{1}{5} & \\frac{2}{5} & \\frac{4}{5}\\end{matrix}\\right]\\right)$"
      ],
      "text/plain": [
       "⎛⎡1/2  -1/2  -1/2  -1/2⎤  ⎡40  0   0   0⎤  ⎡-2/5  4/5  2/5   -1/5⎤⎞\n",
       "⎜⎢                     ⎥  ⎢             ⎥  ⎢                     ⎥⎟\n",
       "⎜⎢1/2  1/2   1/2   -1/2⎥  ⎢0   20  0   0⎥  ⎢4/5   2/5  -1/5  -2/5⎥⎟\n",
       "⎜⎢                     ⎥, ⎢             ⎥, ⎢                     ⎥⎟\n",
       "⎜⎢1/2  -1/2  1/2   1/2 ⎥  ⎢0   0   10  0⎥  ⎢-1/5  2/5  -4/5  2/5 ⎥⎟\n",
       "⎜⎢                     ⎥  ⎢             ⎥  ⎢                     ⎥⎟\n",
       "⎝⎣1/2  1/2   -1/2  1/2 ⎦  ⎣0   0   0   0⎦  ⎣2/5   1/5  2/5   4/5 ⎦⎠"
      ]
     },
     "execution_count": 7,
     "metadata": {},
     "output_type": "execute_result"
    }
   ],
   "source": [
    "A.singular_value_decomposition(verbosity=1)"
   ]
  },
  {
   "cell_type": "code",
   "execution_count": 79,
   "metadata": {},
   "outputs": [
    {
     "data": {
      "text/latex": [
       "$\\displaystyle \\left[\\begin{matrix}-18 & 13 & -4 & 4\\\\2 & 19 & -4 & 12\\\\-14 & 11 & -12 & 8\\\\-2 & 21 & 4 & 8\\end{matrix}\\right]$"
      ],
      "text/plain": [
       "⎡-18  13  -4   4 ⎤\n",
       "⎢                ⎥\n",
       "⎢ 2   19  -4   12⎥\n",
       "⎢                ⎥\n",
       "⎢-14  11  -12  8 ⎥\n",
       "⎢                ⎥\n",
       "⎣-2   21   4   8 ⎦"
      ]
     },
     "execution_count": 79,
     "metadata": {},
     "output_type": "execute_result"
    }
   ],
   "source": [
    "U @ S @ V"
   ]
  },
  {
   "cell_type": "markdown",
   "metadata": {},
   "source": [
    "# SVD Test"
   ]
  },
  {
   "cell_type": "code",
   "execution_count": 93,
   "metadata": {},
   "outputs": [
    {
     "name": "stdout",
     "output_type": "stream",
     "text": [
      "Non-zero Identification Error: 1.23409601466663E-9!\n"
     ]
    },
    {
     "data": {
      "text/latex": [
       "$\\displaystyle \\left( \\left[\\begin{matrix}- \\frac{250 \\cdot 2^{\\frac{2}{21}} \\sqrt[6]{3} \\cdot 7^{\\frac{9}{14}}}{2187} & \\frac{2^{\\frac{237}{320}} \\cdot 3^{\\frac{121}{320}} \\cdot 5^{\\frac{161}{320}} \\cdot 7^{\\frac{149}{160}}}{42} & \\frac{49 \\cdot 2^{\\frac{57}{62}} \\cdot 3^{\\frac{27}{62}} \\cdot 5^{\\frac{15}{62}} \\cdot 7^{\\frac{19}{62}}}{1800}\\\\- \\frac{1008840175 \\cdot 2^{\\frac{3}{7}} \\cdot 3^{\\frac{4}{7}} \\sqrt[21]{5} \\cdot 7^{\\frac{5}{7}}}{16529940864} & - \\frac{2^{\\frac{197}{472}} \\cdot 3^{\\frac{139}{236}} \\cdot 5^{\\frac{163}{236}} \\cdot 7^{\\frac{133}{236}}}{105} & - \\frac{10 \\cdot 2^{\\frac{129}{130}} \\cdot 3^{\\frac{48}{65}} \\cdot 5^{\\frac{5}{26}} \\cdot 7^{\\frac{18}{65}}}{147}\\\\- \\frac{2^{\\frac{428}{689}} \\cdot 3^{\\frac{315}{689}} \\cdot 5^{\\frac{680}{689}} \\cdot 7^{\\frac{94}{689}}}{30} & - \\frac{78125 \\cdot 2^{\\frac{13}{36}} \\cdot 3^{\\frac{7}{9}} \\cdot 5^{\\frac{5}{24}} \\sqrt[6]{7}}{889056} & \\frac{49 \\cdot 2^{\\frac{9}{46}} \\cdot 3^{\\frac{217}{230}} \\cdot 5^{\\frac{57}{230}} \\cdot 7^{\\frac{5}{23}}}{540}\\end{matrix}\\right], \\  \\left[\\begin{matrix}\\frac{1262203056278766452920341944 \\cdot 6^{\\frac{2}{5}} \\cdot 7^{\\frac{4}{5}}}{53842349076888944157768675} & 0 & 0 & 0 & 0 & 0\\\\0 & \\frac{7 \\cdot 2^{\\frac{195}{236}} \\cdot 3^{\\frac{51}{236}} \\cdot 5^{\\frac{53}{59}} \\cdot 7^{\\frac{46}{59}}}{4} & 0 & 0 & 0 & 0\\\\0 & 0 & \\frac{175 \\cdot 2^{\\frac{86}{105}} \\cdot 3^{\\frac{58}{105}} \\cdot 5^{\\frac{11}{15}} \\cdot 7^{\\frac{8}{21}}}{108} & 0 & 0 & 0\\end{matrix}\\right], \\  \\left[\\begin{matrix}- \\frac{2^{\\frac{68}{87}} \\cdot 3^{\\frac{43}{58}} \\cdot 5^{\\frac{65}{87}} \\cdot 7^{\\frac{13}{87}}}{30} & - \\frac{3 \\cdot 2^{\\frac{145}{228}} \\cdot 3^{\\frac{16}{19}} \\cdot 5^{\\frac{14}{19}} \\cdot 7^{\\frac{53}{57}}}{490} & \\frac{39321600000000000000000 \\cdot 2^{\\frac{5}{8}} \\sqrt{3} \\cdot 5^{\\frac{3}{4}} \\sqrt[8]{7}}{3219905755813179726837607} & - \\frac{2^{\\frac{119}{359}} \\cdot 3^{\\frac{342}{359}} \\cdot 5^{\\frac{23}{359}} \\cdot 7^{\\frac{108}{359}}}{21} & - \\frac{32 \\cdot 2^{\\frac{41}{91}} \\cdot 3^{\\frac{85}{91}} \\cdot 5^{\\frac{53}{91}} \\cdot 7^{\\frac{80}{91}}}{6125} & - \\frac{36 \\cdot 2^{\\frac{34}{39}} \\cdot 3^{\\frac{7}{13}} \\sqrt[26]{5} \\cdot 7^{\\frac{61}{78}}}{1225}\\\\- \\frac{343 \\sqrt[4]{2} \\cdot 3^{\\frac{7}{10}} \\cdot 5^{\\frac{29}{30}} \\cdot 7^{\\frac{11}{20}}}{36000} & - \\frac{2^{\\frac{101}{111}} \\cdot 3^{\\frac{18}{37}} \\cdot 5^{\\frac{28}{333}} \\cdot 7^{\\frac{73}{333}}}{42} & - \\frac{56 \\cdot 2^{\\frac{4}{7}} \\cdot 3^{\\frac{19}{35}} \\cdot 5^{\\frac{22}{35}} \\cdot 7^{\\frac{12}{35}}}{2187} & \\frac{2^{\\frac{156}{191}} \\cdot 3^{\\frac{123}{191}} \\cdot 5^{\\frac{4}{191}} \\cdot 7^{\\frac{13}{191}}}{10} & \\frac{2^{\\frac{97}{250}} \\cdot 3^{\\frac{61}{125}} \\cdot 5^{\\frac{221}{250}} \\cdot 7^{\\frac{123}{250}}}{35} & - \\frac{2^{\\frac{131}{207}} \\cdot 3^{\\frac{37}{207}} \\cdot 5^{\\frac{5}{207}} \\cdot 7^{\\frac{5}{9}}}{21}\\\\- \\frac{2 \\cdot 2^{\\frac{3}{17}} \\cdot 3^{\\frac{55}{68}} \\cdot 5^{\\frac{39}{136}} \\cdot 7^{\\frac{19}{136}}}{75} & - \\frac{3125 \\cdot 2^{\\frac{5}{6}} \\sqrt[8]{3} \\cdot 5^{\\frac{19}{24}} \\sqrt{7}}{175616} & \\frac{6 \\cdot 2^{\\frac{12}{95}} \\cdot 3^{\\frac{36}{95}} \\cdot 5^{\\frac{74}{95}} \\cdot 7^{\\frac{48}{95}}}{125} & \\frac{4 \\cdot 2^{\\frac{4}{15}} \\sqrt[3]{3} \\cdot 5^{\\frac{49}{135}} \\cdot 7^{\\frac{23}{45}}}{105} & \\frac{2 \\cdot 2^{\\frac{52}{53}} \\cdot 3^{\\frac{47}{53}} \\cdot 5^{\\frac{4}{53}} \\cdot 7^{\\frac{11}{53}}}{81} & \\frac{3 \\cdot 2^{\\frac{262}{359}} \\cdot 3^{\\frac{11}{359}} \\cdot 5^{\\frac{159}{359}} \\cdot 7^{\\frac{112}{359}}}{49}\\\\- \\frac{125 \\cdot 2^{\\frac{149}{253}} \\cdot 3^{\\frac{221}{253}} \\cdot 5^{\\frac{140}{253}} \\cdot 7^{\\frac{203}{253}}}{15876} & \\frac{2^{\\frac{91}{171}} \\cdot 3^{\\frac{157}{171}} \\cdot 5^{\\frac{83}{171}} \\cdot 7^{\\frac{287}{342}}}{90} & \\frac{2^{\\frac{158}{223}} \\cdot 3^{\\frac{154}{223}} \\cdot 5^{\\frac{111}{223}} \\cdot 7^{\\frac{141}{223}}}{210} & \\frac{14 \\cdot 2^{\\frac{37}{143}} \\cdot 3^{\\frac{80}{143}} \\cdot 5^{\\frac{127}{143}} \\cdot 7^{\\frac{79}{143}}}{625} & - \\frac{2^{\\frac{37}{445}} \\cdot 3^{\\frac{33}{89}} \\cdot 5^{\\frac{38}{89}} \\cdot 7^{\\frac{254}{445}}}{21} & - \\frac{2^{\\frac{23}{56}} \\cdot 3^{\\frac{223}{336}} \\cdot 5^{\\frac{227}{336}} \\cdot 7^{\\frac{17}{21}}}{210}\\\\- \\frac{2^{\\frac{19}{59}} \\cdot 3^{\\frac{2}{59}} \\cdot 5^{\\frac{43}{59}} \\cdot 7^{\\frac{16}{59}}}{27} & \\frac{96 \\cdot 2^{\\frac{31}{39}} \\cdot 3^{\\frac{10}{39}} \\cdot 5^{\\frac{8}{39}} \\cdot 7^{\\frac{37}{39}}}{3125} & \\frac{2^{\\frac{67}{139}} \\cdot 3^{\\frac{88}{139}} \\cdot 5^{\\frac{24}{139}} \\cdot 7^{\\frac{108}{139}}}{45} & - \\frac{5764801 \\cdot 2^{\\frac{15}{23}} \\cdot 21^{\\frac{6}{23}} \\sqrt[23]{5}}{46875000} & \\frac{2^{\\frac{5}{22}} \\sqrt{3} \\cdot 5^{\\frac{17}{209}} \\cdot 7^{\\frac{101}{209}}}{14} & - \\frac{2^{\\frac{129}{292}} \\cdot 3^{\\frac{21}{146}} \\cdot 5^{\\frac{57}{73}} \\cdot 7^{\\frac{63}{146}}}{105}\\\\- \\frac{2^{\\frac{315}{334}} \\cdot 3^{\\frac{44}{167}} \\cdot 5^{\\frac{97}{334}} \\cdot 7^{\\frac{93}{167}}}{21} & \\frac{27 \\cdot 2^{\\frac{31}{43}} \\cdot 3^{\\frac{28}{43}} \\cdot 5^{\\frac{22}{43}} \\cdot 7^{\\frac{42}{43}}}{24010} & - \\frac{585937500 \\cdot 2^{\\frac{7}{10}} \\cdot 5^{\\frac{4}{5}} \\sqrt[5]{7}}{13841287201} & - \\frac{1550224166512 \\cdot 5^{\\frac{7}{15}} \\cdot 6^{\\frac{4}{15}} \\cdot 7^{\\frac{3}{5}}}{105911076180375} & - \\frac{483729408 \\cdot 2^{\\frac{13}{15}} \\cdot 3^{\\frac{2}{3}} \\cdot 5^{\\frac{8}{15}} \\cdot 7^{\\frac{4}{5}}}{229783203125} & \\frac{7 \\cdot 2^{\\frac{31}{97}} \\cdot 3^{\\frac{18}{97}} \\cdot 5^{\\frac{41}{97}} \\cdot 7^{\\frac{69}{97}}}{120}\\end{matrix}\\right]\\right)$"
      ],
      "text/plain": [
       "⎛                                                                              ↪\n",
       "⎜                                                                              ↪\n",
       "⎜                                                                              ↪\n",
       "⎜                                                                              ↪\n",
       "⎜                                                                              ↪\n",
       "⎜                                                                              ↪\n",
       "⎜                                                                              ↪\n",
       "⎜                                                                              ↪\n",
       "⎜                                                                              ↪\n",
       "⎜                                                                              ↪\n",
       "⎜⎡                                        237  121  161  149              57   ↪\n",
       "⎜⎢                                        ───  ───  ───  ───              ──   ↪\n",
       "⎜⎢           2/21 6 ___  9/14             320  320  320  160              62   ↪\n",
       "⎜⎢     -250⋅2    ⋅╲╱ 3 ⋅7                2   ⋅3   ⋅5   ⋅7             49⋅2  ⋅3 ↪\n",
       "⎜⎢     ───────────────────────           ───────────────────          ──────── ↪\n",
       "⎜⎢              2187                             42                          1 ↪\n",
       "⎜⎢                                                                             ↪\n",
       "⎜⎢                                        197  139  163  133            129  4 ↪\n",
       "⎜⎢                                        ───  ───  ───  ───            ───  ─ ↪\n",
       "⎜⎢             3/7  4/7 21___  5/7        472  236  236  236            130  6 ↪\n",
       "⎜⎢-1008840175⋅2   ⋅3   ⋅╲╱ 5 ⋅7         -2   ⋅3   ⋅5   ⋅7          -10⋅2   ⋅3  ↪\n",
       "⎜⎢─────────────────────────────────     ─────────────────────      ─────────── ↪\n",
       "⎜⎢           16529940864                         105                         1 ↪\n",
       "⎜⎢                                                                             ↪\n",
       "⎜⎢        428  315  680  94                  13                              2 ↪\n",
       "⎜⎢        ───  ───  ───  ───                 ──                              ─ ↪\n",
       "⎜⎢        689  689  689  689                 36  7/9  5/24 6 ___       9/46  2 ↪\n",
       "⎜⎢      -2   ⋅3   ⋅5   ⋅7            -78125⋅2  ⋅3   ⋅5    ⋅╲╱ 7    49⋅2    ⋅3  ↪\n",
       "⎜⎢      ─────────────────────        ────────────────────────────  ─────────── ↪\n",
       "⎜⎣               30                             889056                       5 ↪\n",
       "⎜                                                                              ↪\n",
       "⎜                                                                              ↪\n",
       "⎜                                                                              ↪\n",
       "⎜                                                                              ↪\n",
       "⎜                                                                              ↪\n",
       "⎜                                                                              ↪\n",
       "⎜                                                                              ↪\n",
       "⎜                                                                              ↪\n",
       "⎜                                                                              ↪\n",
       "⎜                                                                              ↪\n",
       "⎝                                                                              ↪\n",
       "\n",
       "↪                                                                              ↪\n",
       "↪                                                                              ↪\n",
       "↪                                                                              ↪\n",
       "↪                                                                              ↪\n",
       "↪                                                                              ↪\n",
       "↪                                                                              ↪\n",
       "↪                                                                              ↪\n",
       "↪                                                                              ↪\n",
       "↪                                                                              ↪\n",
       "↪                                                                              ↪\n",
       "↪ 27  15  19   ⎤                                                               ↪\n",
       "↪ ──  ──  ──   ⎥  ⎡                              2/5  4/5                      ↪\n",
       "↪ 62  62  62   ⎥  ⎢1262203056278766452920341944⋅6   ⋅7                         ↪\n",
       "↪   ⋅5  ⋅7     ⎥  ⎢──────────────────────────────────────           0          ↪\n",
       "↪ ──────────   ⎥  ⎢      53842349076888944157768675                            ↪\n",
       "↪ 800          ⎥  ⎢                                                            ↪\n",
       "↪              ⎥  ⎢                                           195  51   53  46 ↪\n",
       "↪ 8        18  ⎥  ⎢                                           ───  ───  ──  ── ↪\n",
       "↪ ─        ──  ⎥  ⎢                                           236  236  59  59 ↪\n",
       "↪ 5  5/26  65  ⎥  ⎢                                        7⋅2   ⋅3   ⋅5  ⋅7   ↪\n",
       "↪  ⋅5    ⋅7    ⎥, ⎢                  0                     ─────────────────── ↪\n",
       "↪ ──────────── ⎥  ⎢                                                 4          ↪\n",
       "↪ 47           ⎥  ⎢                                                            ↪\n",
       "↪              ⎥  ⎢                                                            ↪\n",
       "↪ 17  57       ⎥  ⎢                                                            ↪\n",
       "↪ ──  ───      ⎥  ⎢                                                            ↪\n",
       "↪ 30  230  5/23⎥  ⎢                                                            ↪\n",
       "↪   ⋅5   ⋅7    ⎥  ⎢                  0                              0          ↪\n",
       "↪ ─────────────⎥  ⎣                                                            ↪\n",
       "↪ 40           ⎦                                                               ↪\n",
       "↪                                                                              ↪\n",
       "↪                                                                              ↪\n",
       "↪                                                                              ↪\n",
       "↪                                                                              ↪\n",
       "↪                                                                              ↪\n",
       "↪                                                                              ↪\n",
       "↪                                                                              ↪\n",
       "↪                                                                              ↪\n",
       "↪                                                                              ↪\n",
       "↪                                                                              ↪\n",
       "↪                                                                              ↪\n",
       "\n",
       "↪                                      ⎡      68  43  65  13             145   ↪\n",
       "↪                                      ⎢      ──  ──  ──  ──             ───   ↪\n",
       "↪                                      ⎢      87  58  87  87             228   ↪\n",
       "↪                                      ⎢    -2  ⋅3  ⋅5  ⋅7           -3⋅2   ⋅3 ↪\n",
       "↪                                      ⎢    ─────────────────        ───────── ↪\n",
       "↪                                      ⎢           30                        4 ↪\n",
       "↪                                      ⎢                                       ↪\n",
       "↪                                      ⎢                  29  11       101  18 ↪\n",
       "↪                                      ⎢                  ──  ──       ───  ── ↪\n",
       "↪                                      ⎢     4 ___  7/10  30  20       111  37 ↪\n",
       "↪                                      ⎢-343⋅╲╱ 2 ⋅3    ⋅5  ⋅7       -2   ⋅3   ↪\n",
       "↪                                   ⎤  ⎢─────────────────────────    ───────── ↪\n",
       "↪                                   ⎥  ⎢          36000                        ↪\n",
       "↪              0             0  0  0⎥  ⎢                                       ↪\n",
       "↪                                   ⎥  ⎢           55  39   19                 ↪\n",
       "↪                                   ⎥  ⎢           ──  ───  ───                ↪\n",
       "↪                                   ⎥  ⎢     3/17  68  136  136           5/6  ↪\n",
       "↪                                   ⎥  ⎢ -2⋅2    ⋅3  ⋅5   ⋅7       -3125⋅2   ⋅ ↪\n",
       "↪                                   ⎥  ⎢ ───────────────────────   ─────────── ↪\n",
       "↪                                   ⎥  ⎢           75                       17 ↪\n",
       "↪              0             0  0  0⎥, ⎢                                       ↪\n",
       "↪                                   ⎥  ⎢      149  221  140  203      91   157 ↪\n",
       "↪                                   ⎥  ⎢      ───  ───  ───  ───      ───  ─── ↪\n",
       "↪        86   58   11               ⎥  ⎢      253  253  253  253      171  171 ↪\n",
       "↪        ───  ───  ──               ⎥  ⎢-125⋅2   ⋅3   ⋅5   ⋅7        2   ⋅3    ↪\n",
       "↪        105  105  15  8/21         ⎥  ⎢─────────────────────────    ───────── ↪\n",
       "↪   175⋅2   ⋅3   ⋅5  ⋅7             ⎥  ⎢          15876                      9 ↪\n",
       "↪   ───────────────────────  0  0  0⎥  ⎢                                       ↪\n",
       "↪             108                   ⎦  ⎢     19        43  16            31  1 ↪\n",
       "↪                                      ⎢     ──        ──  ──            ──  ─ ↪\n",
       "↪                                      ⎢     59  2/59  59  59            39  3 ↪\n",
       "↪                                      ⎢   -2  ⋅3    ⋅5  ⋅7          96⋅2  ⋅3  ↪\n",
       "↪                                      ⎢   ───────────────────       ───────── ↪\n",
       "↪                                      ⎢           27                        3 ↪\n",
       "↪                                      ⎢                                       ↪\n",
       "↪                                      ⎢    315  44   97   93             31   ↪\n",
       "↪                                      ⎢    ───  ───  ───  ───            ──   ↪\n",
       "↪                                      ⎢    334  167  334  167            43   ↪\n",
       "↪                                      ⎢  -2   ⋅3   ⋅5   ⋅7           27⋅2  ⋅3 ↪\n",
       "↪                                      ⎢  ─────────────────────       ──────── ↪\n",
       "↪                                      ⎣           21                       24 ↪\n",
       "\n",
       "↪ 16  14  53                                                        119  342   ↪\n",
       "↪ ──  ──  ──                                                        ───  ───   ↪\n",
       "↪ 19  19  57                              5/8     3/4 8 ___         359  359   ↪\n",
       "↪   ⋅5  ⋅7       39321600000000000000000⋅2   ⋅√3⋅5   ⋅╲╱ 7        -2   ⋅3   ⋅5 ↪\n",
       "↪ ───────────    ──────────────────────────────────────────       ──────────── ↪\n",
       "↪ 90                     3219905755813179726837607                         21  ↪\n",
       "↪                                                                              ↪\n",
       "↪   28   73                          19  22  12                    156  123    ↪\n",
       "↪   ───  ───                         ──  ──  ──                    ───  ───    ↪\n",
       "↪   333  333                    4/7  35  35  35                    191  191  4 ↪\n",
       "↪ ⋅5   ⋅7                  -56⋅2   ⋅3  ⋅5  ⋅7                     2   ⋅3   ⋅5  ↪\n",
       "↪ ───────────              ─────────────────────                  ──────────── ↪\n",
       "↪ 42                               2187                                    10  ↪\n",
       "↪                                                                              ↪\n",
       "↪        19                     12  36  74  48                                 ↪\n",
       "↪        ──                     ──  ──  ──  ──                                 ↪\n",
       "↪ 8 ___  24                     95  95  95  95                       4/15 3 __ ↪\n",
       "↪ ╲╱ 3 ⋅5  ⋅√7               6⋅2  ⋅3  ⋅5  ⋅7                      4⋅2    ⋅╲╱ 3 ↪\n",
       "↪ ─────────────              ─────────────────                    ──────────── ↪\n",
       "↪ 5616                              125                                    105 ↪\n",
       "↪                                                                              ↪\n",
       "↪   83   287                 158  154  111  141                       37   80  ↪\n",
       "↪   ───  ───                 ───  ───  ───  ───                       ───  ─── ↪\n",
       "↪   171  342                 223  223  223  223                       143  143 ↪\n",
       "↪ ⋅5   ⋅7                   2   ⋅3   ⋅5   ⋅7                      14⋅2   ⋅3    ↪\n",
       "↪ ──────────                ───────────────────                   ──────────── ↪\n",
       "↪ 0                                 210                                    625 ↪\n",
       "↪                                                                              ↪\n",
       "↪ 0        37                67   88   24   108                           15   ↪\n",
       "↪ ─        ──                ───  ───  ───  ───                           ──   ↪\n",
       "↪ 9  8/39  39                139  139  139  139                           23   ↪\n",
       "↪  ⋅5    ⋅7                 2   ⋅3   ⋅5   ⋅7                    -5764801⋅2  ⋅2 ↪\n",
       "↪ ───────────               ───────────────────                 ────────────── ↪\n",
       "↪ 125                               45                                   46875 ↪\n",
       "↪                                                                              ↪\n",
       "↪ 28  22  42                                                                   ↪\n",
       "↪ ──  ──  ──                                                                   ↪\n",
       "↪ 43  43  43                        7/10  4/5 5 ___                          7 ↪\n",
       "↪   ⋅5  ⋅7              -585937500⋅2    ⋅5   ⋅╲╱ 7           -1550224166512⋅5  ↪\n",
       "↪ ──────────            ────────────────────────────         ───────────────── ↪\n",
       "↪ 010                           13841287201                          105911076 ↪\n",
       "\n",
       "↪ 23   108                   41  85  53  80              34              61 ⎤⎞\n",
       "↪ ───  ───                   ──  ──  ──  ──              ──              ── ⎥⎟\n",
       "↪ 359  359                   91  91  91  91              39  7/13 26___  78 ⎥⎟\n",
       "↪    ⋅7                 -32⋅2  ⋅3  ⋅5  ⋅7           -36⋅2  ⋅3    ⋅╲╱ 5 ⋅7   ⎥⎟\n",
       "↪ ─────────             ────────────────────        ────────────────────────⎥⎟\n",
       "↪                               6125                          1225          ⎥⎟\n",
       "↪                                                                           ⎥⎟\n",
       "↪       13                97   61   221  123          131  37               ⎥⎟\n",
       "↪       ───               ───  ───  ───  ───          ───  ───              ⎥⎟\n",
       "↪ /191  191               250  125  250  250          207  207  5/207  5/9  ⎥⎟\n",
       "↪     ⋅7                 2   ⋅3   ⋅5   ⋅7           -2   ⋅3   ⋅5     ⋅7     ⎥⎟\n",
       "↪ ─────────              ───────────────────        ─────────────────────── ⎥⎟\n",
       "↪                                35                           21            ⎥⎟\n",
       "↪                                                                           ⎥⎟\n",
       "↪    49   23                52  47        11            262  11   159  112  ⎥⎟\n",
       "↪    ───  ──                ──  ──        ──            ───  ───  ───  ───  ⎥⎟\n",
       "↪ _  135  45                53  53  4/53  53            359  359  359  359  ⎥⎟\n",
       "↪  ⋅5   ⋅7               2⋅2  ⋅3  ⋅5    ⋅7           3⋅2   ⋅3   ⋅5   ⋅7     ⎥⎟\n",
       "↪ ──────────             ───────────────────         ─────────────────────  ⎥⎟\n",
       "↪                                81                           49            ⎥⎟\n",
       "↪                                                                           ⎥⎟\n",
       "↪   127  79                37   33  38  254             23  223  227  17    ⎥⎟\n",
       "↪   ───  ───               ───  ──  ──  ───             ──  ───  ───  ──    ⎥⎟\n",
       "↪   143  143               445  89  89  445             56  336  336  21    ⎥⎟\n",
       "↪ ⋅5   ⋅7                -2   ⋅3  ⋅5  ⋅7              -2  ⋅3   ⋅5   ⋅7      ⎥⎟\n",
       "↪ ──────────             ───────────────────          ───────────────────   ⎥⎟\n",
       "↪                                21                           210           ⎥⎟\n",
       "↪                                                                           ⎥⎟\n",
       "↪                                  17   101             129  21   57  63    ⎥⎟\n",
       "↪                                  ───  ───             ───  ───  ──  ───   ⎥⎟\n",
       "↪  6/23 23___             5/22     209  209             292  146  73  146   ⎥⎟\n",
       "↪ 1    ⋅╲╱ 5             2    ⋅√3⋅5   ⋅7              -2   ⋅3   ⋅5  ⋅7      ⎥⎟\n",
       "↪ ────────────           ──────────────────           ────────────────────  ⎥⎟\n",
       "↪ 000                            14                           105           ⎥⎟\n",
       "↪                                                                           ⎥⎟\n",
       "↪                              13                         31  18  41  69    ⎥⎟\n",
       "↪                              ──                         ──  ──  ──  ──    ⎥⎟\n",
       "↪ /15  4/15  3/5               15  2/3  8/15  4/5         97  97  97  97    ⎥⎟\n",
       "↪    ⋅6    ⋅7      -483729408⋅2  ⋅3   ⋅5    ⋅7         7⋅2  ⋅3  ⋅5  ⋅7      ⎥⎟\n",
       "↪ ───────────────  ───────────────────────────────     ─────────────────    ⎥⎟\n",
       "↪ 180375                    229783203125                      120           ⎦⎠"
      ]
     },
     "execution_count": 93,
     "metadata": {},
     "output_type": "execute_result"
    }
   ],
   "source": [
    "A = Matrix.create_rand_matrix(3, 6)\n",
    "\n",
    "A.fast_svd(option='sym')"
   ]
  },
  {
   "cell_type": "code",
   "execution_count": 89,
   "metadata": {},
   "outputs": [
    {
     "data": {
      "text/latex": [
       "$\\displaystyle \\left( \\left[\\begin{matrix}- \\frac{\\sqrt{6}}{6} & \\frac{\\sqrt{2}}{2} & - \\frac{\\sqrt{3}}{3}\\\\- \\frac{\\sqrt{6}}{6} & - \\frac{\\sqrt{2}}{2} & - \\frac{\\sqrt{3}}{3}\\\\- \\frac{\\sqrt{6}}{3} & 0 & \\frac{\\sqrt{3}}{3}\\end{matrix}\\right], \\  \\left[\\begin{matrix}\\sqrt{3} & 0\\\\0 & 1\\\\0 & 0\\end{matrix}\\right], \\  \\left[\\begin{matrix}- \\frac{\\sqrt{2}}{2} & \\frac{\\sqrt{2}}{2}\\\\- \\frac{\\sqrt{2}}{2} & - \\frac{\\sqrt{2}}{2}\\end{matrix}\\right]\\right)$"
      ],
      "text/plain": [
       "⎛⎡-√6    √2   -√3 ⎤                       ⎞\n",
       "⎜⎢────   ──   ────⎥                       ⎟\n",
       "⎜⎢ 6     2     3  ⎥           ⎡-√2    √2 ⎤⎟\n",
       "⎜⎢                ⎥  ⎡√3  0⎤  ⎢────   ── ⎥⎟\n",
       "⎜⎢-√6   -√2   -√3 ⎥  ⎢     ⎥  ⎢ 2     2  ⎥⎟\n",
       "⎜⎢────  ────  ────⎥, ⎢0   1⎥, ⎢          ⎥⎟\n",
       "⎜⎢ 6     2     3  ⎥  ⎢     ⎥  ⎢-√2   -√2 ⎥⎟\n",
       "⎜⎢                ⎥  ⎣0   0⎦  ⎢────  ────⎥⎟\n",
       "⎜⎢-√6          √3 ⎥           ⎣ 2     2  ⎦⎟\n",
       "⎜⎢────   0     ── ⎥                       ⎟\n",
       "⎝⎣ 3           3  ⎦                       ⎠"
      ]
     },
     "execution_count": 89,
     "metadata": {},
     "output_type": "execute_result"
    }
   ],
   "source": [
    "# A = Matrix([[1, -1],\n",
    "#             [-2, 2],\n",
    "#             [2, -2]])\n",
    "\n",
    "# A = Matrix([\n",
    "#   [3, 2, 2],\n",
    "#   [2, 3, -2]\n",
    "# ])\n",
    "\n",
    "# A = Matrix([[3, 1, 1],\n",
    "#             [-1, 3, 1]])\n",
    "\n",
    "# A = Matrix([[1, -1, 3],\n",
    "#             [3, 1, 1]])\n",
    "\n",
    "A = Matrix([[1, 0],\n",
    "            [0, 1],\n",
    "            [1, 1]])\n",
    "\n",
    "U, S, V = A.fast_svd(option='sym')\n",
    "assert A == U @ S @ V.T\n",
    "\n",
    "U, S, V"
   ]
  },
  {
   "cell_type": "code",
   "execution_count": 49,
   "metadata": {},
   "outputs": [
    {
     "data": {
      "text/latex": [
       "$\\displaystyle \\left[\\begin{matrix}\\frac{1}{3} & - \\frac{2}{3} & \\frac{2}{3}\\\\- \\frac{2}{3} & - \\frac{2}{3} & - \\frac{1}{3}\\\\\\frac{2}{3} & - \\frac{1}{3} & - \\frac{2}{3}\\end{matrix}\\right]$"
      ],
      "text/plain": [
       "⎡1/3   -2/3  2/3 ⎤\n",
       "⎢                ⎥\n",
       "⎢-2/3  -2/3  -1/3⎥\n",
       "⎢                ⎥\n",
       "⎣2/3   -1/3  -2/3⎦"
      ]
     },
     "execution_count": 49,
     "metadata": {},
     "output_type": "execute_result"
    }
   ],
   "source": [
    "U.applyfunc(lambda x: -x)"
   ]
  },
  {
   "cell_type": "code",
   "execution_count": 50,
   "metadata": {},
   "outputs": [
    {
     "data": {
      "text/latex": [
       "$\\displaystyle \\left[\\begin{matrix}- \\frac{1}{3} & \\frac{2}{3} & - \\frac{2}{3}\\\\\\frac{2}{3} & \\frac{2}{3} & \\frac{1}{3}\\\\- \\frac{2}{3} & \\frac{1}{3} & \\frac{2}{3}\\end{matrix}\\right]$"
      ],
      "text/plain": [
       "⎡-1/3  2/3  -2/3⎤\n",
       "⎢               ⎥\n",
       "⎢2/3   2/3  1/3 ⎥\n",
       "⎢               ⎥\n",
       "⎣-2/3  1/3  2/3 ⎦"
      ]
     },
     "execution_count": 50,
     "metadata": {},
     "output_type": "execute_result"
    }
   ],
   "source": [
    "U"
   ]
  },
  {
   "cell_type": "code",
   "execution_count": 33,
   "metadata": {},
   "outputs": [
    {
     "data": {
      "text/latex": [
       "$\\displaystyle \\left( \\left[\\begin{matrix}\\frac{\\sqrt{6}}{6} & - \\frac{\\sqrt{2}}{2} & \\frac{\\sqrt{3}}{3}\\\\\\frac{\\sqrt{6}}{6} & \\frac{\\sqrt{2}}{2} & \\frac{\\sqrt{3}}{3}\\\\\\frac{\\sqrt{6}}{3} & 0 & - \\frac{\\sqrt{3}}{3}\\end{matrix}\\right], \\  \\left[\\begin{matrix}\\sqrt{3} & 0\\\\0 & 1\\\\0 & 0\\end{matrix}\\right], \\  \\left[\\begin{matrix}\\frac{\\sqrt{2}}{2} & - \\frac{\\sqrt{2}}{2}\\\\\\frac{\\sqrt{2}}{2} & \\frac{\\sqrt{2}}{2}\\end{matrix}\\right]\\right)$"
      ],
      "text/plain": [
       "⎛⎡√6  -√2    √3 ⎤                     ⎞\n",
       "⎜⎢──  ────   ── ⎥                     ⎟\n",
       "⎜⎢6    2     3  ⎥           ⎡√2  -√2 ⎤⎟\n",
       "⎜⎢              ⎥  ⎡√3  0⎤  ⎢──  ────⎥⎟\n",
       "⎜⎢√6   √2    √3 ⎥  ⎢     ⎥  ⎢2    2  ⎥⎟\n",
       "⎜⎢──   ──    ── ⎥, ⎢0   1⎥, ⎢        ⎥⎟\n",
       "⎜⎢6    2     3  ⎥  ⎢     ⎥  ⎢√2   √2 ⎥⎟\n",
       "⎜⎢              ⎥  ⎣0   0⎦  ⎢──   ── ⎥⎟\n",
       "⎜⎢√6        -√3 ⎥           ⎣2    2  ⎦⎟\n",
       "⎜⎢──   0    ────⎥                     ⎟\n",
       "⎝⎣3          3  ⎦                     ⎠"
      ]
     },
     "execution_count": 33,
     "metadata": {},
     "output_type": "execute_result"
    }
   ],
   "source": [
    "A.singular_value_decomposition()"
   ]
  },
  {
   "cell_type": "code",
   "execution_count": 82,
   "metadata": {},
   "outputs": [
    {
     "data": {
      "text/latex": [
       "$\\displaystyle \\left[ \\left( 0, \\  1, \\  \\left[ \\left[\\begin{matrix}- \\frac{1}{5}\\\\- \\frac{2}{5}\\\\1\\end{matrix}\\right]\\right]\\right), \\  \\left( 10, \\  1, \\  \\left[ \\left[\\begin{matrix}-2\\\\1\\\\0\\end{matrix}\\right]\\right]\\right), \\  \\left( 12, \\  1, \\  \\left[ \\left[\\begin{matrix}1\\\\2\\\\1\\end{matrix}\\right]\\right]\\right)\\right]$"
      ],
      "text/plain": [
       "⎡⎛      ⎡⎡-1/5⎤⎤⎞  ⎛       ⎡⎡-2⎤⎤⎞  ⎛       ⎡⎡1⎤⎤⎞⎤\n",
       "⎢⎜      ⎢⎢    ⎥⎥⎟  ⎜       ⎢⎢  ⎥⎥⎟  ⎜       ⎢⎢ ⎥⎥⎟⎥\n",
       "⎢⎜0, 1, ⎢⎢-2/5⎥⎥⎟, ⎜10, 1, ⎢⎢1 ⎥⎥⎟, ⎜12, 1, ⎢⎢2⎥⎥⎟⎥\n",
       "⎢⎜      ⎢⎢    ⎥⎥⎟  ⎜       ⎢⎢  ⎥⎥⎟  ⎜       ⎢⎢ ⎥⎥⎟⎥\n",
       "⎣⎝      ⎣⎣ 1  ⎦⎦⎠  ⎝       ⎣⎣0 ⎦⎦⎠  ⎝       ⎣⎣1⎦⎦⎠⎦"
      ]
     },
     "execution_count": 82,
     "metadata": {},
     "output_type": "execute_result"
    }
   ],
   "source": [
    "(A.T @ A).eigenvects()"
   ]
  },
  {
   "cell_type": "markdown",
   "metadata": {},
   "source": [
    "# Misc"
   ]
  },
  {
   "cell_type": "code",
   "execution_count": 2,
   "metadata": {},
   "outputs": [
    {
     "name": "stdout",
     "output_type": "stream",
     "text": [
      "Characteristic Polynomial is: \n"
     ]
    },
    {
     "data": {
      "text/latex": [
       "$\\displaystyle \\left(x - 1\\right)^{3}$"
      ],
      "text/plain": [
       "       3\n",
       "(x - 1) "
      ]
     },
     "metadata": {},
     "output_type": "display_data"
    },
    {
     "name": "stdout",
     "output_type": "stream",
     "text": [
      "Eigenvectors are: (eigenval, multiplicity, eigenspace) \n"
     ]
    },
    {
     "data": {
      "text/latex": [
       "$\\displaystyle \\left[ \\left( 1, \\  3, \\  \\left[ \\left[\\begin{matrix}1\\\\0\\\\0\\end{matrix}\\right]\\right]\\right)\\right]$"
      ],
      "text/plain": [
       "⎡⎛      ⎡⎡1⎤⎤⎞⎤\n",
       "⎢⎜      ⎢⎢ ⎥⎥⎟⎥\n",
       "⎢⎜1, 3, ⎢⎢0⎥⎥⎟⎥\n",
       "⎢⎜      ⎢⎢ ⎥⎥⎟⎥\n",
       "⎣⎝      ⎣⎣0⎦⎦⎠⎦"
      ]
     },
     "metadata": {},
     "output_type": "display_data"
    },
    {
     "data": {
      "text/plain": [
       "False"
      ]
     },
     "execution_count": 2,
     "metadata": {},
     "output_type": "execute_result"
    }
   ],
   "source": [
    "A = Matrix([[1, 1, -1],\n",
    "            [0, 1, 3],\n",
    "            [0, 0, 1]])\n",
    "\n",
    "A.is_diagonalizable()"
   ]
  },
  {
   "cell_type": "code",
   "execution_count": 31,
   "metadata": {},
   "outputs": [
    {
     "data": {
      "text/latex": [
       "$\\displaystyle \\left[\\begin{matrix}\\frac{6}{19} & - \\sqrt{5} & \\sqrt{5}\\\\\\frac{43}{95} & -1 + \\sqrt{5} & - \\sqrt{5} - 1\\\\\\frac{22}{95} & 1 & 1\\end{matrix}\\right]$"
      ],
      "text/plain": [
       "⎡6/19    -√5      √5   ⎤\n",
       "⎢                      ⎥\n",
       "⎢ 43                   ⎥\n",
       "⎢ ──   -1 + √5  -√5 - 1⎥\n",
       "⎢ 95                   ⎥\n",
       "⎢                      ⎥\n",
       "⎢ 22                   ⎥\n",
       "⎢ ──      1        1   ⎥\n",
       "⎣ 95                   ⎦"
      ]
     },
     "execution_count": 31,
     "metadata": {},
     "output_type": "execute_result"
    }
   ],
   "source": [
    "def stable_vector(mat):\n",
    "    neg_entries = [entry for entry in mat.flat() if entry < 0]\n",
    "    assert len(neg_entries) == 0\n",
    "    P, D = mat.diagonalize()\n",
    "    P, D = Matrix(P), Matrix(D)\n",
    "    for i in range(P.cols):\n",
    "        if sum(P[:, i]) != 0:\n",
    "            P[:, i] /= sum(P[:, i])\n",
    "    return P, D\n",
    "\n",
    "A = Matrix([[0.92, 0.02, 0.07],\n",
    "            [0.05, 0.96, 0.01],\n",
    "            [0.03, 0.02, 0.92]])#.applyfunc(sym.nsimplify)\n",
    "A.simplify()\n",
    "stable_vector(A)[0]\n",
    "# sym.nsimplify(A)"
   ]
  },
  {
   "cell_type": "code",
   "execution_count": 8,
   "metadata": {},
   "outputs": [
    {
     "data": {
      "text/latex": [
       "$\\displaystyle \\left( \\left[\\begin{matrix}1 & 0 & -2 & 0\\\\0 & 1 & 1 & 0\\\\0 & 0 & 0 & 1\\end{matrix}\\right], \\  \\left( 0, \\  1, \\  3\\right)\\right)$"
      ],
      "text/plain": [
       "⎛⎡1  0  -2  0⎤           ⎞\n",
       "⎜⎢           ⎥           ⎟\n",
       "⎜⎢0  1  1   0⎥, (0, 1, 3)⎟\n",
       "⎜⎢           ⎥           ⎟\n",
       "⎝⎣0  0  0   1⎦           ⎠"
      ]
     },
     "execution_count": 8,
     "metadata": {},
     "output_type": "execute_result"
    }
   ],
   "source": [
    "A = Matrix([[1, 2, 0],\n",
    "            [0, 1, 1],\n",
    "            [1, 0, -2]])\n",
    "\n",
    "B = Matrix([300, 300, 300])\n",
    "\n",
    "A.row_join(B).rref()"
   ]
  },
  {
   "cell_type": "code",
   "execution_count": 9,
   "metadata": {},
   "outputs": [
    {
     "name": "stdout",
     "output_type": "stream",
     "text": [
      "Exception Encountered: Matrix must be non-singular.\n",
      "Attempting custom solve...\n",
      "[A.T A | A.T b]\n"
     ]
    },
    {
     "data": {
      "text/latex": [
       "$\\displaystyle \\left[\\begin{matrix}2 & 2 & -2 & 600\\\\2 & 5 & 1 & 900\\\\-2 & 1 & 5 & -300\\end{matrix}\\right]$"
      ],
      "text/plain": [
       "⎡2   2  -2  600 ⎤\n",
       "⎢               ⎥\n",
       "⎢2   5  1   900 ⎥\n",
       "⎢               ⎥\n",
       "⎣-2  1  5   -300⎦"
      ]
     },
     "metadata": {},
     "output_type": "display_data"
    },
    {
     "name": "stdout",
     "output_type": "stream",
     "text": [
      "After RREF\n"
     ]
    },
    {
     "data": {
      "text/latex": [
       "$\\displaystyle \\left[\\begin{matrix}1 & 0 & -2 & 200\\\\0 & 1 & 1 & 100\\\\0 & 0 & 0 & 0\\end{matrix}\\right]$"
      ],
      "text/plain": [
       "⎡1  0  -2  200⎤\n",
       "⎢             ⎥\n",
       "⎢0  1  1   100⎥\n",
       "⎢             ⎥\n",
       "⎣0  0  0    0 ⎦"
      ]
     },
     "metadata": {},
     "output_type": "display_data"
    },
    {
     "data": {
      "text/latex": [
       "$\\displaystyle \\left( \\left[\\begin{matrix}200\\\\100\\\\0\\end{matrix}\\right], \\  \\left[\\begin{matrix}2 x_{31}\\\\- x_{31}\\\\x_{31}\\end{matrix}\\right]\\right)$"
      ],
      "text/plain": [
       "⎛⎡200⎤  ⎡2⋅x₃₁⎤⎞\n",
       "⎜⎢   ⎥  ⎢     ⎥⎟\n",
       "⎜⎢100⎥, ⎢-x₃₁ ⎥⎟\n",
       "⎜⎢   ⎥  ⎢     ⎥⎟\n",
       "⎝⎣ 0 ⎦  ⎣ x₃₁ ⎦⎠"
      ]
     },
     "execution_count": 9,
     "metadata": {},
     "output_type": "execute_result"
    }
   ],
   "source": [
    "A.solve_least_squares(B)"
   ]
  },
  {
   "cell_type": "code",
   "execution_count": 10,
   "metadata": {},
   "outputs": [
    {
     "data": {
      "text/latex": [
       "$\\displaystyle \\left( \\left[\\begin{matrix}\\frac{\\sqrt{3}}{3} & 0 & - \\frac{\\sqrt{6}}{6}\\\\\\frac{\\sqrt{3}}{3} & 0 & - \\frac{\\sqrt{6}}{6}\\\\\\frac{\\sqrt{3}}{3} & 0 & \\frac{\\sqrt{6}}{3}\\\\0 & 1 & 0\\end{matrix}\\right], \\  \\left[\\begin{matrix}\\sqrt{3} & \\sqrt{3} & \\frac{\\sqrt{3}}{3}\\\\0 & 1 & 1\\\\0 & 0 & \\frac{\\sqrt{6}}{3}\\end{matrix}\\right]\\right)$"
      ],
      "text/plain": [
       "⎛⎡√3     -√6 ⎤              ⎞\n",
       "⎜⎢──  0  ────⎥              ⎟\n",
       "⎜⎢3       6  ⎥  ⎡        √3⎤⎟\n",
       "⎜⎢           ⎥  ⎢√3  √3  ──⎥⎟\n",
       "⎜⎢√3     -√6 ⎥  ⎢        3 ⎥⎟\n",
       "⎜⎢──  0  ────⎥  ⎢          ⎥⎟\n",
       "⎜⎢3       6  ⎥, ⎢0   1   1 ⎥⎟\n",
       "⎜⎢           ⎥  ⎢          ⎥⎟\n",
       "⎜⎢√3      √6 ⎥  ⎢        √6⎥⎟\n",
       "⎜⎢──  0   ── ⎥  ⎢0   0   ──⎥⎟\n",
       "⎜⎢3       3  ⎥  ⎣        3 ⎦⎟\n",
       "⎜⎢           ⎥              ⎟\n",
       "⎝⎣0   1   0  ⎦              ⎠"
      ]
     },
     "execution_count": 10,
     "metadata": {},
     "output_type": "execute_result"
    }
   ],
   "source": [
    "A = Matrix([[1, 1, 0],\n",
    "            [1, 1, 0],\n",
    "            [1, 1, 1],\n",
    "            [0, 1, 1]])\n",
    "\n",
    "A.QRdecomposition()"
   ]
  },
  {
   "cell_type": "code",
   "execution_count": 12,
   "metadata": {},
   "outputs": [
    {
     "data": {
      "text/latex": [
       "$\\displaystyle \\left( \\left[\\begin{matrix}\\frac{\\sqrt{3}}{3} & 0 & - \\frac{\\sqrt{6}}{6} & - \\frac{\\sqrt{2}}{2}\\\\\\frac{\\sqrt{3}}{3} & 0 & - \\frac{\\sqrt{6}}{6} & \\frac{\\sqrt{2}}{2}\\\\\\frac{\\sqrt{3}}{3} & 0 & \\frac{\\sqrt{6}}{3} & 0\\\\0 & 1 & 0 & 0\\end{matrix}\\right], \\  \\left[\\begin{matrix}\\sqrt{3} & \\sqrt{3} & \\frac{\\sqrt{3}}{3} & 0\\\\0 & 1 & 1 & 0\\\\0 & 0 & \\frac{\\sqrt{6}}{3} & 0\\\\0 & 0 & 0 & \\sqrt{2}\\end{matrix}\\right]\\right)$"
      ],
      "text/plain": [
       "⎛⎡√3     -√6   -√2 ⎤                  ⎞\n",
       "⎜⎢──  0  ────  ────⎥  ⎡        √3    ⎤⎟\n",
       "⎜⎢3       6     2  ⎥  ⎢√3  √3  ──  0 ⎥⎟\n",
       "⎜⎢                 ⎥  ⎢        3     ⎥⎟\n",
       "⎜⎢√3     -√6    √2 ⎥  ⎢              ⎥⎟\n",
       "⎜⎢──  0  ────   ── ⎥  ⎢0   1   1   0 ⎥⎟\n",
       "⎜⎢3       6     2  ⎥, ⎢              ⎥⎟\n",
       "⎜⎢                 ⎥  ⎢        √6    ⎥⎟\n",
       "⎜⎢√3      √6       ⎥  ⎢0   0   ──  0 ⎥⎟\n",
       "⎜⎢──  0   ──    0  ⎥  ⎢        3     ⎥⎟\n",
       "⎜⎢3       3        ⎥  ⎢              ⎥⎟\n",
       "⎜⎢                 ⎥  ⎣0   0   0   √2⎦⎟\n",
       "⎝⎣0   1   0     0  ⎦                  ⎠"
      ]
     },
     "execution_count": 12,
     "metadata": {},
     "output_type": "execute_result"
    }
   ],
   "source": [
    "A.row_join(A.orthogonal_complement()).QRdecomposition()"
   ]
  },
  {
   "cell_type": "code",
   "execution_count": 13,
   "metadata": {},
   "outputs": [
    {
     "data": {
      "text/latex": [
       "$\\displaystyle \\left[\\begin{matrix}0 & 0 & 0\\\\0 & 0 & 0\\\\0 & 0 & 0\\end{matrix}\\right]$"
      ],
      "text/plain": [
       "⎡0  0  0⎤\n",
       "⎢       ⎥\n",
       "⎢0  0  0⎥\n",
       "⎢       ⎥\n",
       "⎣0  0  0⎦"
      ]
     },
     "execution_count": 13,
     "metadata": {},
     "output_type": "execute_result"
    }
   ],
   "source": [
    "X = Matrix([[1, 1, 2],\n",
    "            [1, 2, 1],\n",
    "            [2, 1, 1]])\n",
    "\n",
    "X**3 - 4*X**2 - X + 4*X.id()"
   ]
  },
  {
   "cell_type": "code",
   "execution_count": 15,
   "metadata": {},
   "outputs": [
    {
     "data": {
      "text/latex": [
       "$\\displaystyle - \\lambda^{3} + 4 \\lambda^{2} + \\lambda - 4$"
      ],
      "text/plain": [
       "   3      2        \n",
       "- λ  + 4⋅λ  + λ - 4"
      ]
     },
     "execution_count": 15,
     "metadata": {},
     "output_type": "execute_result"
    }
   ],
   "source": [
    "(X - X.id() * l).det()"
   ]
  },
  {
   "cell_type": "code",
   "execution_count": 4,
   "metadata": {},
   "outputs": [
    {
     "data": {
      "text/latex": [
       "$\\displaystyle - \\left(\\lambda - 4\\right) \\left(\\lambda + 2\\right)^{2}$"
      ],
      "text/plain": [
       "                2\n",
       "-(λ - 4)⋅(λ + 2) "
      ]
     },
     "execution_count": 4,
     "metadata": {},
     "output_type": "execute_result"
    }
   ],
   "source": [
    "A = Matrix([[1, -3, 3],\n",
    "            [3, -5, 3],\n",
    "            [6, -6, 4]])\n",
    "\n",
    "(A - l*A.id()).det().factor()"
   ]
  },
  {
   "cell_type": "code",
   "execution_count": 11,
   "metadata": {},
   "outputs": [
    {
     "data": {
      "text/plain": [
       "'Characteristic Polynomial is: '"
      ]
     },
     "metadata": {},
     "output_type": "display_data"
    },
    {
     "data": {
      "text/latex": [
       "$\\displaystyle \\left(x - 1\\right)^{3}$"
      ],
      "text/plain": [
       "       3\n",
       "(x - 1) "
      ]
     },
     "metadata": {},
     "output_type": "display_data"
    },
    {
     "data": {
      "text/plain": [
       "'Eigenvectors are: '"
      ]
     },
     "metadata": {},
     "output_type": "display_data"
    },
    {
     "data": {
      "text/latex": [
       "$\\displaystyle \\left[ \\left( 1, \\  3, \\  \\left[ \\left[\\begin{matrix}0\\\\0\\\\1\\end{matrix}\\right]\\right]\\right)\\right]$"
      ],
      "text/plain": [
       "⎡⎛      ⎡⎡0⎤⎤⎞⎤\n",
       "⎢⎜      ⎢⎢ ⎥⎥⎟⎥\n",
       "⎢⎜1, 3, ⎢⎢0⎥⎥⎟⎥\n",
       "⎢⎜      ⎢⎢ ⎥⎥⎟⎥\n",
       "⎣⎝      ⎣⎣1⎦⎦⎠⎦"
      ]
     },
     "metadata": {},
     "output_type": "display_data"
    },
    {
     "data": {
      "text/plain": [
       "False"
      ]
     },
     "execution_count": 11,
     "metadata": {},
     "output_type": "execute_result"
    }
   ],
   "source": [
    "A.is_diagonalizable()"
   ]
  },
  {
   "cell_type": "code",
   "execution_count": 18,
   "metadata": {},
   "outputs": [
    {
     "data": {
      "text/latex": [
       "$\\displaystyle \\left[\\begin{matrix}1 & -1 & 1\\\\1 & 0 & 1\\\\0 & 1 & 2\\end{matrix}\\right]$"
      ],
      "text/plain": [
       "⎡1  -1  1⎤\n",
       "⎢        ⎥\n",
       "⎢1  0   1⎥\n",
       "⎢        ⎥\n",
       "⎣0  1   2⎦"
      ]
     },
     "metadata": {},
     "output_type": "display_data"
    },
    {
     "data": {
      "text/latex": [
       "$\\displaystyle \\left[\\begin{matrix}-2 & 0 & 0\\\\0 & -2 & 0\\\\0 & 0 & 4\\end{matrix}\\right]$"
      ],
      "text/plain": [
       "⎡-2  0   0⎤\n",
       "⎢         ⎥\n",
       "⎢0   -2  0⎥\n",
       "⎢         ⎥\n",
       "⎣0   0   4⎦"
      ]
     },
     "metadata": {},
     "output_type": "display_data"
    },
    {
     "data": {
      "text/latex": [
       "$\\displaystyle \\left[\\begin{matrix}- \\frac{1}{2} & \\frac{3}{2} & - \\frac{1}{2}\\\\-1 & 1 & 0\\\\\\frac{1}{2} & - \\frac{1}{2} & \\frac{1}{2}\\end{matrix}\\right]$"
      ],
      "text/plain": [
       "⎡-1/2  3/2   -1/2⎤\n",
       "⎢                ⎥\n",
       "⎢ -1    1     0  ⎥\n",
       "⎢                ⎥\n",
       "⎣1/2   -1/2  1/2 ⎦"
      ]
     },
     "metadata": {},
     "output_type": "display_data"
    },
    {
     "data": {
      "text/latex": [
       "$\\displaystyle \\left[\\begin{matrix}1 & -3 & 3\\\\3 & -5 & 3\\\\6 & -6 & 4\\end{matrix}\\right]$"
      ],
      "text/plain": [
       "⎡1  -3  3⎤\n",
       "⎢        ⎥\n",
       "⎢3  -5  3⎥\n",
       "⎢        ⎥\n",
       "⎣6  -6  4⎦"
      ]
     },
     "metadata": {},
     "output_type": "display_data"
    }
   ],
   "source": [
    "P, D = A.diagonalize()\n",
    "display(P, D, P**-1)\n",
    "display(P@D@P**-1)"
   ]
  },
  {
   "cell_type": "code",
   "execution_count": 6,
   "metadata": {},
   "outputs": [
    {
     "data": {
      "text/latex": [
       "$\\displaystyle \\left[\\begin{matrix}9 & 8 & 6 & 3\\\\0 & -1 & 3 & -4\\\\0 & 0 & 2 & 0\\\\0 & 0 & 0 & 3\\end{matrix}\\right]$"
      ],
      "text/plain": [
       "⎡9  8   6  3 ⎤\n",
       "⎢            ⎥\n",
       "⎢0  -1  3  -4⎥\n",
       "⎢            ⎥\n",
       "⎢0  0   2  0 ⎥\n",
       "⎢            ⎥\n",
       "⎣0  0   0  3 ⎦"
      ]
     },
     "metadata": {},
     "output_type": "display_data"
    },
    {
     "data": {
      "text/latex": [
       "$\\displaystyle \\left(x - 9\\right) \\left(x - 3\\right) \\left(x - 2\\right) \\left(x + 1\\right)$"
      ],
      "text/plain": [
       "(x - 9)⋅(x - 3)⋅(x - 2)⋅(x + 1)"
      ]
     },
     "execution_count": 6,
     "metadata": {},
     "output_type": "execute_result"
    }
   ],
   "source": [
    "A = Matrix.from_latex(r'$\\begin{array}{c c c c}{{9}}&{{8}}&{{6}}&{{3}}\\\\ {{0}}&{{-1}}&{{3}}&{{-4}}\\\\ {{0}}&{{0}}&{{2}}&{{0}}\\\\ {{0}}&{{0}}&{{0}}&{{3}}\\end{array}$')\n",
    "x = sym.symbols('x')\n",
    "\n",
    "(x*A.id() - A).det().factor()"
   ]
  },
  {
   "cell_type": "code",
   "execution_count": 22,
   "metadata": {},
   "outputs": [
    {
     "data": {
      "text/latex": [
       "$\\displaystyle \\left( \\left[\\begin{matrix}-4 & -2 & 5 & 1\\\\5 & 1 & -6 & 0\\\\0 & 1 & 0 & 0\\\\0 & 0 & 6 & 0\\end{matrix}\\right], \\  \\left[\\begin{matrix}-1 & 0 & 0 & 0\\\\0 & 2 & 0 & 0\\\\0 & 0 & 3 & 0\\\\0 & 0 & 0 & 9\\end{matrix}\\right]\\right)$"
      ],
      "text/plain": [
       "⎛⎡-4  -2  5   1⎤  ⎡-1  0  0  0⎤⎞\n",
       "⎜⎢             ⎥  ⎢           ⎥⎟\n",
       "⎜⎢5   1   -6  0⎥  ⎢0   2  0  0⎥⎟\n",
       "⎜⎢             ⎥, ⎢           ⎥⎟\n",
       "⎜⎢0   1   0   0⎥  ⎢0   0  3  0⎥⎟\n",
       "⎜⎢             ⎥  ⎢           ⎥⎟\n",
       "⎝⎣0   0   6   0⎦  ⎣0   0  0  9⎦⎠"
      ]
     },
     "execution_count": 22,
     "metadata": {},
     "output_type": "execute_result"
    }
   ],
   "source": [
    "A.diagonalize()"
   ]
  },
  {
   "cell_type": "code",
   "execution_count": 10,
   "metadata": {},
   "outputs": [
    {
     "data": {
      "text/latex": [
       "$\\displaystyle 1 \\left[\\begin{matrix}1 & 0 & 0\\\\1 & 1 & 0\\\\0 & 1 & 1\\end{matrix}\\right]$"
      ],
      "text/plain": [
       "  ⎡1  0  0⎤\n",
       "  ⎢       ⎥\n",
       "1⋅⎢1  1  0⎥\n",
       "  ⎢       ⎥\n",
       "  ⎣0  1  1⎦"
      ]
     },
     "metadata": {},
     "output_type": "display_data"
    },
    {
     "data": {
      "text/latex": [
       "$\\displaystyle \\left(x - 1\\right)^{3}$"
      ],
      "text/plain": [
       "       3\n",
       "(x - 1) "
      ]
     },
     "execution_count": 10,
     "metadata": {},
     "output_type": "execute_result"
    }
   ],
   "source": [
    "A = Matrix.from_latex(r'$\\left(1{\\begin{array}{r r r}{1}&{0}&{0}\\\\ {1}&{1}&{0}\\\\ {0}&{1}&{1}\\end{array}}\\right)$')\n",
    "\n",
    "(x*A.id() - A).det().factor()"
   ]
  },
  {
   "cell_type": "code",
   "execution_count": 30,
   "metadata": {},
   "outputs": [
    {
     "data": {
      "text/latex": [
       "$\\displaystyle \\left[ \\left[\\begin{matrix}0\\\\0\\\\1\\end{matrix}\\right]\\right]$"
      ],
      "text/plain": [
       "⎡⎡0⎤⎤\n",
       "⎢⎢ ⎥⎥\n",
       "⎢⎢0⎥⎥\n",
       "⎢⎢ ⎥⎥\n",
       "⎣⎣1⎦⎦"
      ]
     },
     "execution_count": 30,
     "metadata": {},
     "output_type": "execute_result"
    }
   ],
   "source": [
    "(A.id() - A).nullspace()"
   ]
  },
  {
   "cell_type": "code",
   "execution_count": 8,
   "metadata": {},
   "outputs": [
    {
     "data": {
      "text/latex": [
       "$\\displaystyle \\left[\\begin{matrix}0 & 0 & 1 & 0\\\\0 & 0 & 0 & 1\\\\1 & 0 & 0 & 0\\\\0 & 1 & 0 & 0\\end{matrix}\\right]$"
      ],
      "text/plain": [
       "⎡0  0  1  0⎤\n",
       "⎢          ⎥\n",
       "⎢0  0  0  1⎥\n",
       "⎢          ⎥\n",
       "⎢1  0  0  0⎥\n",
       "⎢          ⎥\n",
       "⎣0  1  0  0⎦"
      ]
     },
     "metadata": {},
     "output_type": "display_data"
    },
    {
     "data": {
      "text/latex": [
       "$\\displaystyle \\left(x - 1\\right)^{2} \\left(x + 1\\right)^{2}$"
      ],
      "text/plain": [
       "       2        2\n",
       "(x - 1) ⋅(x + 1) "
      ]
     },
     "execution_count": 8,
     "metadata": {},
     "output_type": "execute_result"
    }
   ],
   "source": [
    "A = Matrix.from_latex(r'$\\left(\\begin{array}{c c c c}{{0}}&{{0}}&{{1}}&{{0}}\\\\ {{0}}&{{0}}&{{0}}&{{1}}\\\\ {{1}}&{{0}}&{{0}}&{{0}}\\\\ {{0}}&{{1}}&{{0}}&{{0}}\\end{array}\\right)$')\n",
    "\n",
    "(x*A.id() - A).det().factor()"
   ]
  },
  {
   "cell_type": "code",
   "execution_count": 34,
   "metadata": {},
   "outputs": [
    {
     "data": {
      "text/latex": [
       "$\\displaystyle \\left[ \\left( -1, \\  2, \\  \\left[ \\left[\\begin{matrix}-1\\\\0\\\\1\\\\0\\end{matrix}\\right], \\  \\left[\\begin{matrix}0\\\\-1\\\\0\\\\1\\end{matrix}\\right]\\right]\\right), \\  \\left( 1, \\  2, \\  \\left[ \\left[\\begin{matrix}1\\\\0\\\\1\\\\0\\end{matrix}\\right], \\  \\left[\\begin{matrix}0\\\\1\\\\0\\\\1\\end{matrix}\\right]\\right]\\right)\\right]$"
      ],
      "text/plain": [
       "⎡⎛       ⎡⎡-1⎤  ⎡0 ⎤⎤⎞  ⎛      ⎡⎡1⎤  ⎡0⎤⎤⎞⎤\n",
       "⎢⎜       ⎢⎢  ⎥  ⎢  ⎥⎥⎟  ⎜      ⎢⎢ ⎥  ⎢ ⎥⎥⎟⎥\n",
       "⎢⎜       ⎢⎢0 ⎥  ⎢-1⎥⎥⎟  ⎜      ⎢⎢0⎥  ⎢1⎥⎥⎟⎥\n",
       "⎢⎜-1, 2, ⎢⎢  ⎥, ⎢  ⎥⎥⎟, ⎜1, 2, ⎢⎢ ⎥, ⎢ ⎥⎥⎟⎥\n",
       "⎢⎜       ⎢⎢1 ⎥  ⎢0 ⎥⎥⎟  ⎜      ⎢⎢1⎥  ⎢0⎥⎥⎟⎥\n",
       "⎢⎜       ⎢⎢  ⎥  ⎢  ⎥⎥⎟  ⎜      ⎢⎢ ⎥  ⎢ ⎥⎥⎟⎥\n",
       "⎣⎝       ⎣⎣0 ⎦  ⎣1 ⎦⎦⎠  ⎝      ⎣⎣0⎦  ⎣1⎦⎦⎠⎦"
      ]
     },
     "execution_count": 34,
     "metadata": {},
     "output_type": "execute_result"
    }
   ],
   "source": [
    "A.eigenvects()"
   ]
  },
  {
   "cell_type": "code",
   "execution_count": 35,
   "metadata": {},
   "outputs": [
    {
     "data": {
      "text/latex": [
       "$\\displaystyle \\left( \\left[\\begin{matrix}-1 & 0 & 1 & 0\\\\0 & -1 & 0 & 1\\\\1 & 0 & 1 & 0\\\\0 & 1 & 0 & 1\\end{matrix}\\right], \\  \\left[\\begin{matrix}-1 & 0 & 0 & 0\\\\0 & -1 & 0 & 0\\\\0 & 0 & 1 & 0\\\\0 & 0 & 0 & 1\\end{matrix}\\right]\\right)$"
      ],
      "text/plain": [
       "⎛⎡-1  0   1  0⎤  ⎡-1  0   0  0⎤⎞\n",
       "⎜⎢            ⎥  ⎢            ⎥⎟\n",
       "⎜⎢0   -1  0  1⎥  ⎢0   -1  0  0⎥⎟\n",
       "⎜⎢            ⎥, ⎢            ⎥⎟\n",
       "⎜⎢1   0   1  0⎥  ⎢0   0   1  0⎥⎟\n",
       "⎜⎢            ⎥  ⎢            ⎥⎟\n",
       "⎝⎣0   1   0  1⎦  ⎣0   0   0  1⎦⎠"
      ]
     },
     "execution_count": 35,
     "metadata": {},
     "output_type": "execute_result"
    }
   ],
   "source": [
    "A.diagonalize()"
   ]
  },
  {
   "cell_type": "code",
   "execution_count": 36,
   "metadata": {},
   "outputs": [
    {
     "data": {
      "text/latex": [
       "$\\displaystyle \\left[\\begin{matrix}-1 & 1 & 1\\\\1 & 1 & -1\\\\-4 & 2 & 3\\end{matrix}\\right]$"
      ],
      "text/plain": [
       "⎡-1  1  1 ⎤\n",
       "⎢         ⎥\n",
       "⎢1   1  -1⎥\n",
       "⎢         ⎥\n",
       "⎣-4  2  3 ⎦"
      ]
     },
     "metadata": {},
     "output_type": "display_data"
    },
    {
     "data": {
      "text/latex": [
       "$\\displaystyle \\left(x - 1\\right) \\left(x^{2} - 2 x + 2\\right)$"
      ],
      "text/plain": [
       "        ⎛ 2          ⎞\n",
       "(x - 1)⋅⎝x  - 2⋅x + 2⎠"
      ]
     },
     "execution_count": 36,
     "metadata": {},
     "output_type": "execute_result"
    }
   ],
   "source": [
    "A = Matrix.from_latex(r'$\\left(\\begin{array}{l l l}{-1}&{1}&{1}\\\\ {1}&{1}&{-1}\\\\ {-4}&{2}&{3}\\end{array}\\right)$')\n",
    "\n",
    "(x*A.id() - A).det().factor()"
   ]
  },
  {
   "cell_type": "code",
   "execution_count": 57,
   "metadata": {},
   "outputs": [
    {
     "data": {
      "text/latex": [
       "$\\displaystyle \\left(x - 1\\right) \\left(x^{2} - 2 x + 2\\right)$"
      ],
      "text/plain": [
       "        ⎛ 2          ⎞\n",
       "(x - 1)⋅⎝x  - 2⋅x + 2⎠"
      ]
     },
     "execution_count": 57,
     "metadata": {},
     "output_type": "execute_result"
    }
   ],
   "source": [
    "A.charpoly(x='x').as_expr().factor()"
   ]
  },
  {
   "cell_type": "code",
   "execution_count": 64,
   "metadata": {},
   "outputs": [
    {
     "data": {
      "text/latex": [
       "$\\displaystyle \\left[ \\left( 1, \\  1, \\  \\left[ \\left[\\begin{matrix}1\\\\1\\\\1\\end{matrix}\\right]\\right]\\right), \\  \\left( 1 - i, \\  1, \\  \\left[ \\left[\\begin{matrix}\\frac{1}{2}\\\\- \\frac{i}{2}\\\\1\\end{matrix}\\right]\\right]\\right), \\  \\left( 1 + i, \\  1, \\  \\left[ \\left[\\begin{matrix}\\frac{1}{2}\\\\\\frac{i}{2}\\\\1\\end{matrix}\\right]\\right]\\right)\\right]$"
      ],
      "text/plain": [
       "⎡               ⎛          ⎡⎡1/2⎤⎤⎞  ⎛          ⎡⎡1/2⎤⎤⎞⎤\n",
       "⎢⎛      ⎡⎡1⎤⎤⎞  ⎜          ⎢⎢   ⎥⎥⎟  ⎜          ⎢⎢   ⎥⎥⎟⎥\n",
       "⎢⎜      ⎢⎢ ⎥⎥⎟  ⎜          ⎢⎢-ⅈ ⎥⎥⎟  ⎜          ⎢⎢ ⅈ ⎥⎥⎟⎥\n",
       "⎢⎜1, 1, ⎢⎢1⎥⎥⎟, ⎜1 - ⅈ, 1, ⎢⎢───⎥⎥⎟, ⎜1 + ⅈ, 1, ⎢⎢ ─ ⎥⎥⎟⎥\n",
       "⎢⎜      ⎢⎢ ⎥⎥⎟  ⎜          ⎢⎢ 2 ⎥⎥⎟  ⎜          ⎢⎢ 2 ⎥⎥⎟⎥\n",
       "⎢⎝      ⎣⎣1⎦⎦⎠  ⎜          ⎢⎢   ⎥⎥⎟  ⎜          ⎢⎢   ⎥⎥⎟⎥\n",
       "⎣               ⎝          ⎣⎣ 1 ⎦⎦⎠  ⎝          ⎣⎣ 1 ⎦⎦⎠⎦"
      ]
     },
     "execution_count": 64,
     "metadata": {},
     "output_type": "execute_result"
    }
   ],
   "source": [
    "A.eigenvects(reals_only=True)"
   ]
  },
  {
   "cell_type": "markdown",
   "metadata": {},
   "source": [
    "# MA1522 "
   ]
  },
  {
   "cell_type": "code",
   "execution_count": 2,
   "metadata": {},
   "outputs": [
    {
     "name": "stdout",
     "output_type": "stream",
     "text": [
      "\n",
      "    # Note : zero-indexing, see https://docs.sympy.org/latest/modules/matrices/matrices.html\n",
      "    import sympy as sym\n",
      "\n",
      "    # Variables\n",
      "    >>> a, b = sym.symbols(\"a b\") # symbols\n",
      "    >>> I_3 = eye(3) # identity matrix\n",
      "    >>> zeros = sym.zeros(2, cols=2) # zero matrix\n",
      "    >>> A = sym.Matrix(\n",
      "        [\n",
      "            [...]\n",
      "        ]\n",
      "    ) # user-defined matrix\n",
      "    >>> B = sym.Matrix.vstack(A, I_3, ...) # repeated application of col_join\n",
      "    >>> C = sym.nsimplify(A, tolerance=0.001, rational=True) # convert to fraction\n",
      "\n",
      "    # Matrix Operations\n",
      "    >>> A @ B # matrix multiplication\n",
      "    >>> A + B # element wise addition\n",
      "    >>> A - B # element wise subtraction\n",
      "    >>> A.col_del(col) # delete column\n",
      "    >>> A.col_insert(pos, B) # insert matrix B at pos in A, column wise\n",
      "    >>> A.col_join(B) # insert matrix B below matrix A\n",
      "    >>> A.dot(B) # dot product of A and B\n",
      "    >>> A.exp() # exponential\n",
      "    >>> A.flat() # flatten to row vector\n",
      "    >>> A.pow(exp) # power\n",
      "    >>> A.reshape(rows, cols) # reshape\n",
      "    >>> A.rot90(k=1) # rotate 90deg, k times\n",
      "    >>> A.row_del(row) # delete row\n",
      "    >>> A.row_insert(pos, B) # insert matrix B at pos in A, row wise\n",
      "    >>> A.row_join(B) # insert matrix B on RHS of matrix A\n",
      "    >>> A.vec() # stack to column vector\n",
      "    >>> A.xreplace(dict) # replace sym (key) with value\n",
      "\n",
      "    # Symbolic Methods \n",
      "    >>> A.T # transpose\n",
      "    >>> A.inv() # inverse\n",
      "    >>> A.adjoint() # adjoint\n",
      "    >>> A.adjugate() # adjugate\n",
      "    >>> A.cofactor(i, j) # (i, j) cofactor\n",
      "    >>> A.cofactor_matrix() # cofactor matrix\n",
      "    >>> A.columnspace(simplify=False) # list of vectors that span column space of A\n",
      "    >>> A.conjugate() # conjugate\n",
      "    >>> A.copy() # copy matrix\n",
      "    >>> A.det(method='bareiss', iszerofunc=None) # determinant, use domain-ge/laplace as method\n",
      "    >>> A.diag() # diagonal\n",
      "    >>> A.echelon_form() # REF\n",
      "    >>> A.eigenvals(rational=True) # eigenvalues\n",
      "    >>> A.eigenvects() # eigenvectors\n",
      "    >>> A.elementary_row_op(op='n->kn', row=None, k=None, row1=None, row2=None) # ERO, \"n->kn\"/\"n<->m\"/\"n->n+km\"\n",
      "    >>> A.is_nilpotent() # check if nilpotent\n",
      "    >>> A.is_symmetric() # check if symmetric\n",
      "    >>> A.minor(i, j) # (i, j) minor (WRONG DEFINITION, uses determinant)\n",
      "    >>> A.nullspace() # nullspace\n",
      "    >>> A.rank(iszerofunc=<function _iszero>, simplify=False) # rank\n",
      "    >>> A.rowspace(simplify=False) # list of vectors that span row space of A\n",
      "    >>> A.rref() # returns [rref, list_of_pivot_cols]\n",
      "    >>> A.simplify() # simplify\n",
      "    >>> A.LUdecomposition(iszerofunc=<function _iszero>, simpfunc=None, rankcheck=False) # LU decomposition, returns (L, U, perm)\n",
      "    >>> A.lower_triangular_solve(rhs) # solve the matrix equation Ax = rhs, where A is an lower triangular matrix\n",
      "    >>> A.upper_triangular_solve(rhs) # solve the matrix equation Ax = rhs, where A is an upper triangular matrix\n",
      "\n",
      "    # Custom Commands (verbosity >= 1 returns ERO (idx + 1), >= 2 returns matrix at each step)\n",
      "    >>> Matrix.from_latex(expr, row_join: bool = True, norm: bool = False) # creates a Matrix object from the LaTeX expression\n",
      "    >>> Matrix.create_unk_matrix(num_rows: int, num_cols: int, symbol: str) # creates a Matrix object with unknown entries\n",
      "    >>> A.id() # returns the identity matrix with same number of rows as A\n",
      "    >>> A.select_rows(*idx) # returns a new matrix with row vectors of *idx \n",
      "    >>> A.select_cols(*idx) # returns a new matrix with column vectors of *idx \n",
      "    >>> A.scale_row(idx: int, scalar: float, verbosity: int = 0) \n",
      "    >>> A.swap_row(idx_1: int, idx_2: int, verbosity: int = 0)\n",
      "    >>> A.reduce_row(idx_1: int, scalar: float, idx_2: int, verbosity: int = 0)\n",
      "    >>> is_zero(expr, symbolic: bool = True)\n",
      "    >>> A.get_pivot_row(col_idx: int, row_start_idx: int, follow_GE: bool = False)\n",
      "    >>> A.ref(verbosity: int = 2, max_tries: int = 2, follow_GE: bool = False, matrices: int = 2) # matrices = 1 (U), 2 (LU), 3 (PLU)\n",
      "    >>> A.evaluate_cases() # display a list of matrices for unknowns with critical values\n",
      "    >>> A.column_constraints(use_id: bool = False) # returns the rref of [A | b], where b can be any vector. Use it to find constraints for b if A is not invertible.\n",
      "    >>> A.extend_basis(span_subspace: sym.Matrix = A.id()) # returns an augmented matrix with additional column vectors to span the subspace of the argument.\n",
      "    >>> A.transition_matrix(to: sym.Matrix) # returns a transition matrix from A to the other matrix\n",
      "    >>> A.inverse(option: str) # returns an inverse of A. If A is non-square return either a left inverse or right inverse.\n",
      "    >>> A.orthogonal_complement() # returns a list of column vectors that are perpendicular (independent) to the column vectors of A\n",
      "    >>> A.is_orthogonal() # checks if the column vectors of A are orthogonal\n",
      "    \n"
     ]
    }
   ],
   "source": [
    "sympy_commands()"
   ]
  }
 ],
 "metadata": {
  "colab": {
   "provenance": []
  },
  "kernelspec": {
   "display_name": ".venv",
   "language": "python",
   "name": "python3"
  },
  "language_info": {
   "codemirror_mode": {
    "name": "ipython",
    "version": 3
   },
   "file_extension": ".py",
   "mimetype": "text/x-python",
   "name": "python",
   "nbconvert_exporter": "python",
   "pygments_lexer": "ipython3",
   "version": "3.10.11"
  }
 },
 "nbformat": 4,
 "nbformat_minor": 4
}

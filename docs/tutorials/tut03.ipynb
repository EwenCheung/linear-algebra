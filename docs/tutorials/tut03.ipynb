{
 "cells": [
  {
   "cell_type": "markdown",
   "id": "e61795b8",
   "metadata": {},
   "source": [
    "# Tutorial 3 (AY24/25 Sem 1)"
   ]
  },
  {
   "cell_type": "code",
   "execution_count": null,
   "id": "7e5ccf28",
   "metadata": {},
   "outputs": [],
   "source": [
    "import sympy as sym\n",
    "from ma1522 import Matrix"
   ]
  },
  {
   "cell_type": "markdown",
   "id": "b170bfaf",
   "metadata": {},
   "source": [
    "## Question 1\n",
    "\n",
    "Let $\\mathbf{A}$ be the $4 \\times 4$ matrix obtained from $\\mathbf{I}$ by the following sequence of elementary row operations:\n",
    "\n",
    "$$\\mathbf{I} \\xrightarrow{\\frac{1}{2}R_2} \\xrightarrow{R_1 - R_2} \\xrightarrow{R_2 \\leftrightarrow R_4} \\xrightarrow{R_3 + 3R_1} \\mathbf{A}$$\n",
    "\n",
    "Write $\\mathbf{A}^{-1}$ as a product of four elementary matrices."
   ]
  },
  {
   "cell_type": "code",
   "execution_count": 2,
   "id": "8c13e844",
   "metadata": {},
   "outputs": [
    {
     "data": {
      "text/latex": [
       "$\\displaystyle \\left(\\frac{1}{2}\\right) R_2 \\rightarrow R_2$"
      ],
      "text/plain": [
       "<IPython.core.display.Math object>"
      ]
     },
     "metadata": {},
     "output_type": "display_data"
    },
    {
     "data": {
      "text/latex": [
       "$\\displaystyle \\left[\\begin{array}{cccc}1 & 0 & 0 & 0\\\\0 & \\frac{1}{2} & 0 & 0\\\\0 & 0 & 1 & 0\\\\0 & 0 & 0 & 1\\end{array}\\right]$"
      ],
      "text/plain": [
       "Matrix([\n",
       "[1,   0, 0, 0]\n",
       "[0, 1/2, 0, 0]\n",
       "[0,   0, 1, 0]\n",
       "[0,   0, 0, 1]\n",
       "])"
      ]
     },
     "metadata": {},
     "output_type": "display_data"
    },
    {
     "name": "stdout",
     "output_type": "stream",
     "text": [
      "\n",
      "\n"
     ]
    },
    {
     "data": {
      "text/latex": [
       "$\\displaystyle R_1 - \\left(1\\right)R_2 \\rightarrow R_1$"
      ],
      "text/plain": [
       "<IPython.core.display.Math object>"
      ]
     },
     "metadata": {},
     "output_type": "display_data"
    },
    {
     "data": {
      "text/latex": [
       "$\\displaystyle \\left[\\begin{array}{cccc}1 & -1 & 0 & 0\\\\0 & 1 & 0 & 0\\\\0 & 0 & 1 & 0\\\\0 & 0 & 0 & 1\\end{array}\\right]$"
      ],
      "text/plain": [
       "Matrix([\n",
       "[1, -1, 0, 0]\n",
       "[0,  1, 0, 0]\n",
       "[0,  0, 1, 0]\n",
       "[0,  0, 0, 1]\n",
       "])"
      ]
     },
     "metadata": {},
     "output_type": "display_data"
    },
    {
     "name": "stdout",
     "output_type": "stream",
     "text": [
      "\n",
      "\n"
     ]
    },
    {
     "data": {
      "text/latex": [
       "$\\displaystyle R_2 \\leftrightarrow R_4$"
      ],
      "text/plain": [
       "<IPython.core.display.Math object>"
      ]
     },
     "metadata": {},
     "output_type": "display_data"
    },
    {
     "data": {
      "text/latex": [
       "$\\displaystyle \\left[\\begin{array}{cccc}1 & 0 & 0 & 0\\\\0 & 0 & 0 & 1\\\\0 & 0 & 1 & 0\\\\0 & 1 & 0 & 0\\end{array}\\right]$"
      ],
      "text/plain": [
       "Matrix([\n",
       "[1, 0, 0, 0]\n",
       "[0, 0, 0, 1]\n",
       "[0, 0, 1, 0]\n",
       "[0, 1, 0, 0]\n",
       "])"
      ]
     },
     "metadata": {},
     "output_type": "display_data"
    },
    {
     "name": "stdout",
     "output_type": "stream",
     "text": [
      "\n",
      "\n"
     ]
    },
    {
     "data": {
      "text/latex": [
       "$\\displaystyle R_3 - \\left(-3\\right)R_1 \\rightarrow R_3$"
      ],
      "text/plain": [
       "<IPython.core.display.Math object>"
      ]
     },
     "metadata": {},
     "output_type": "display_data"
    },
    {
     "data": {
      "text/latex": [
       "$\\displaystyle \\left[\\begin{array}{cccc}1 & 0 & 0 & 0\\\\0 & 1 & 0 & 0\\\\3 & 0 & 1 & 0\\\\0 & 0 & 0 & 1\\end{array}\\right]$"
      ],
      "text/plain": [
       "Matrix([\n",
       "[1, 0, 0, 0]\n",
       "[0, 1, 0, 0]\n",
       "[3, 0, 1, 0]\n",
       "[0, 0, 0, 1]\n",
       "])"
      ]
     },
     "metadata": {},
     "output_type": "display_data"
    },
    {
     "name": "stdout",
     "output_type": "stream",
     "text": [
      "\n",
      "\n"
     ]
    }
   ],
   "source": [
    "E_1 = Matrix.eye(4).scale_row(1, sym.Rational(1, 2))\n",
    "E_2 = Matrix.eye(4).reduce_row(0, 1, 1)\n",
    "E_3 = Matrix.eye(4).swap_row(1, 3)\n",
    "E_4 = Matrix.eye(4).reduce_row(2, -3, 0)"
   ]
  },
  {
   "cell_type": "code",
   "execution_count": 3,
   "id": "481222df",
   "metadata": {},
   "outputs": [
    {
     "data": {
      "text/latex": [
       "$\\displaystyle \\left( \\left[\\begin{matrix}1 & 0 & 0 & 0\\\\0 & 2 & 0 & 0\\\\0 & 0 & 1 & 0\\\\0 & 0 & 0 & 1\\end{matrix}\\right], \\  \\left[\\begin{matrix}1 & 1 & 0 & 0\\\\0 & 1 & 0 & 0\\\\0 & 0 & 1 & 0\\\\0 & 0 & 0 & 1\\end{matrix}\\right], \\  \\left[\\begin{matrix}1 & 0 & 0 & 0\\\\0 & 0 & 0 & 1\\\\0 & 0 & 1 & 0\\\\0 & 1 & 0 & 0\\end{matrix}\\right], \\  \\left[\\begin{matrix}1 & 0 & 0 & 0\\\\0 & 1 & 0 & 0\\\\-3 & 0 & 1 & 0\\\\0 & 0 & 0 & 1\\end{matrix}\\right]\\right)$"
      ],
      "text/plain": [
       "⎛⎡1  0  0  0⎤  ⎡1  1  0  0⎤  ⎡1  0  0  0⎤  ⎡1   0  0  0⎤⎞\n",
       "⎜⎢          ⎥  ⎢          ⎥  ⎢          ⎥  ⎢           ⎥⎟\n",
       "⎜⎢0  2  0  0⎥  ⎢0  1  0  0⎥  ⎢0  0  0  1⎥  ⎢0   1  0  0⎥⎟\n",
       "⎜⎢          ⎥, ⎢          ⎥, ⎢          ⎥, ⎢           ⎥⎟\n",
       "⎜⎢0  0  1  0⎥  ⎢0  0  1  0⎥  ⎢0  0  1  0⎥  ⎢-3  0  1  0⎥⎟\n",
       "⎜⎢          ⎥  ⎢          ⎥  ⎢          ⎥  ⎢           ⎥⎟\n",
       "⎝⎣0  0  0  1⎦  ⎣0  0  0  1⎦  ⎣0  1  0  0⎦  ⎣0   0  0  1⎦⎠"
      ]
     },
     "execution_count": 3,
     "metadata": {},
     "output_type": "execute_result"
    }
   ],
   "source": [
    "# The matrix A^-1 is the product of these elementary matrices\n",
    "E_1**-1, E_2**-1, E_3**-1, E_4**-1"
   ]
  },
  {
   "cell_type": "markdown",
   "id": "3e0649db",
   "metadata": {},
   "source": [
    "## Question 2\n",
    "\n",
    "Find an LU factorization for the matrices $\\mathbf{A}$, and solve the equation $\\mathbf{A}x = b$."
   ]
  },
  {
   "cell_type": "markdown",
   "id": "c9a6f84d",
   "metadata": {},
   "source": [
    "### (a)\n",
    "\n",
    "$\\mathbf{A} = \\begin{pmatrix} 2 & -1 & 2 \\\\ -6 & 0 & -2 \\\\ 8 & -1 & 5 \\end{pmatrix}$ and $b = \\begin{pmatrix} 1 \\\\ 0 \\\\ 4 \\end{pmatrix}$."
   ]
  },
  {
   "cell_type": "code",
   "execution_count": 4,
   "id": "0ad9f535",
   "metadata": {},
   "outputs": [
    {
     "data": {
      "text/latex": [
       "$\\displaystyle \\left[\\begin{array}{ccc|c}2 & -1 & 2 & 1\\\\-6 & 0 & -2 & 0\\\\8 & -1 & 5 & 4\\end{array}\\right]$"
      ],
      "text/plain": [
       "Matrix([\n",
       "[ 2, -1,  2 | 1]\n",
       "[-6,  0, -2 | 0]\n",
       "[ 8, -1,  5 | 4]\n",
       "])"
      ]
     },
     "execution_count": 4,
     "metadata": {},
     "output_type": "execute_result"
    }
   ],
   "source": [
    "A = Matrix.from_str(\"2 -1 2; -6 0 -2; 8 -1 5\")\n",
    "b = Matrix.from_str(\"1; 0; 4\")\n",
    "\n",
    "aug_mat = A.row_join(b)\n",
    "aug_mat"
   ]
  },
  {
   "cell_type": "code",
   "execution_count": 5,
   "id": "c9ba32b1",
   "metadata": {},
   "outputs": [
    {
     "data": {
      "text/latex": [
       "$\\displaystyle R_2 - \\left(-3\\right)R_1 \\rightarrow R_2$"
      ],
      "text/plain": [
       "<IPython.core.display.Math object>"
      ]
     },
     "metadata": {},
     "output_type": "display_data"
    },
    {
     "data": {
      "text/latex": [
       "$\\displaystyle \\left[\\begin{array}{ccc}2 & -1 & 2\\\\0 & -3 & 4\\\\8 & -1 & 5\\end{array}\\right]$"
      ],
      "text/plain": [
       "Matrix([\n",
       "[2, -1, 2] \n",
       "[0, -3, 4] \n",
       "[8, -1, 5] \n",
       "])"
      ]
     },
     "metadata": {},
     "output_type": "display_data"
    },
    {
     "name": "stdout",
     "output_type": "stream",
     "text": [
      "\n",
      "\n"
     ]
    },
    {
     "data": {
      "text/latex": [
       "$\\displaystyle R_3 - \\left(4\\right)R_1 \\rightarrow R_3$"
      ],
      "text/plain": [
       "<IPython.core.display.Math object>"
      ]
     },
     "metadata": {},
     "output_type": "display_data"
    },
    {
     "data": {
      "text/latex": [
       "$\\displaystyle \\left[\\begin{array}{ccc}2 & -1 & 2\\\\0 & -3 & 4\\\\0 & 3 & -3\\end{array}\\right]$"
      ],
      "text/plain": [
       "Matrix([\n",
       "[2, -1,  2] \n",
       "[0, -3,  4] \n",
       "[0,  3, -3] \n",
       "])"
      ]
     },
     "metadata": {},
     "output_type": "display_data"
    },
    {
     "name": "stdout",
     "output_type": "stream",
     "text": [
      "\n",
      "\n"
     ]
    },
    {
     "data": {
      "text/latex": [
       "$\\displaystyle R_3 - \\left(-1\\right)R_2 \\rightarrow R_3$"
      ],
      "text/plain": [
       "<IPython.core.display.Math object>"
      ]
     },
     "metadata": {},
     "output_type": "display_data"
    },
    {
     "data": {
      "text/latex": [
       "$\\displaystyle \\left[\\begin{array}{ccc}2 & -1 & 2\\\\0 & -3 & 4\\\\0 & 0 & 1\\end{array}\\right]$"
      ],
      "text/plain": [
       "Matrix([\n",
       "[2, -1, 2] \n",
       "[0, -3, 4] \n",
       "[0,  0, 1] \n",
       "])"
      ]
     },
     "metadata": {},
     "output_type": "display_data"
    },
    {
     "name": "stdout",
     "output_type": "stream",
     "text": [
      "\n",
      "\n"
     ]
    },
    {
     "data": {
      "text/latex": [
       "$\\left[\\begin{array}{ccc}1 & 0 & 0\\\\0 & 1 & 0\\\\0 & 0 & 1\\end{array}\\right]\\left[\\begin{array}{ccc}1 & 0 & 0\\\\-3 & 1 & 0\\\\4 & -1 & 1\\end{array}\\right]\\left[\\begin{array}{ccc}2 & -1 & 2\\\\0 & -3 & 4\\\\0 & 0 & 1\\end{array}\\right]$"
      ],
      "text/plain": [
       "PLU(P=Matrix([\n",
       "[1, 0, 0]\n",
       "[0, 1, 0]\n",
       "[0, 0, 1]\n",
       "]), L=Matrix([\n",
       "[ 1,  0, 0]\n",
       "[-3,  1, 0]\n",
       "[ 4, -1, 1]\n",
       "]), U=Matrix([\n",
       "[2, -1, 2] \n",
       "[0, -3, 4] \n",
       "[0,  0, 1] \n",
       "]))"
      ]
     },
     "execution_count": 5,
     "metadata": {},
     "output_type": "execute_result"
    }
   ],
   "source": [
    "plu = A.ref(verbosity=2)\n",
    "plu # The LU factorization of A is given by the matrices L and U\n",
    "# You may ignore P as it is the identity matrix, which suggest that it is LU factorisable."
   ]
  },
  {
   "cell_type": "code",
   "execution_count": 6,
   "id": "290a2467",
   "metadata": {},
   "outputs": [
    {
     "data": {
      "text/latex": [
       "$\\displaystyle \\left[\\begin{array}{c}1\\\\3\\\\3\\end{array}\\right]$"
      ],
      "text/plain": [
       "Matrix([\n",
       "[1]\n",
       "[3]\n",
       "[3]\n",
       "])"
      ]
     },
     "execution_count": 6,
     "metadata": {},
     "output_type": "execute_result"
    }
   ],
   "source": [
    "y = plu.L.solve(b)\n",
    "y"
   ]
  },
  {
   "cell_type": "code",
   "execution_count": 7,
   "id": "b223ea2e",
   "metadata": {},
   "outputs": [
    {
     "data": {
      "text/latex": [
       "$\\displaystyle \\left[\\begin{array}{c}-1\\\\3\\\\3\\end{array}\\right]$"
      ],
      "text/plain": [
       "Matrix([\n",
       "[-1]\n",
       "[ 3]\n",
       "[ 3]\n",
       "])"
      ]
     },
     "execution_count": 7,
     "metadata": {},
     "output_type": "execute_result"
    }
   ],
   "source": [
    "x = plu.U.solve(y)\n",
    "x"
   ]
  },
  {
   "cell_type": "markdown",
   "id": "969cf367",
   "metadata": {},
   "source": [
    "### (b)\n",
    "\n",
    "$\\mathbf{A} = \\begin{pmatrix} 2 & -4 & 4 & -2 \\\\ 6 & -9 & 7 & -3 \\\\ -1 & -4 & 8 & 0 \\end{pmatrix}$ and $b = \\begin{pmatrix} 0 \\\\ 0 \\\\ 5 \\end{pmatrix}$."
   ]
  },
  {
   "cell_type": "code",
   "execution_count": 8,
   "id": "66178be7",
   "metadata": {},
   "outputs": [
    {
     "data": {
      "text/latex": [
       "$\\displaystyle \\left[\\begin{array}{cccc|c}2 & -4 & 4 & -2 & 0\\\\6 & -9 & 7 & -3 & 0\\\\-1 & -4 & 8 & 0 & 5\\end{array}\\right]$"
      ],
      "text/plain": [
       "Matrix([\n",
       "[ 2, -4, 4, -2 | 0]\n",
       "[ 6, -9, 7, -3 | 0]\n",
       "[-1, -4, 8,  0 | 5]\n",
       "])"
      ]
     },
     "execution_count": 8,
     "metadata": {},
     "output_type": "execute_result"
    }
   ],
   "source": [
    "A = Matrix.from_str(\"2 -4 4 -2; 6 -9 7 -3; -1 -4 8 0\")\n",
    "b = Matrix.from_str(\"0; 0; 5\")\n",
    "\n",
    "aug_mat = A.row_join(b)\n",
    "aug_mat"
   ]
  },
  {
   "cell_type": "code",
   "execution_count": 9,
   "id": "1874537d",
   "metadata": {},
   "outputs": [
    {
     "data": {
      "text/latex": [
       "$\\displaystyle R_2 - \\left(3\\right)R_1 \\rightarrow R_2$"
      ],
      "text/plain": [
       "<IPython.core.display.Math object>"
      ]
     },
     "metadata": {},
     "output_type": "display_data"
    },
    {
     "data": {
      "text/latex": [
       "$\\displaystyle \\left[\\begin{array}{cccc}2 & -4 & 4 & -2\\\\0 & 3 & -5 & 3\\\\-1 & -4 & 8 & 0\\end{array}\\right]$"
      ],
      "text/plain": [
       "Matrix([\n",
       "[ 2, -4,  4, -2] \n",
       "[ 0,  3, -5,  3] \n",
       "[-1, -4,  8,  0] \n",
       "])"
      ]
     },
     "metadata": {},
     "output_type": "display_data"
    },
    {
     "name": "stdout",
     "output_type": "stream",
     "text": [
      "\n",
      "\n"
     ]
    },
    {
     "data": {
      "text/latex": [
       "$\\displaystyle R_3 - \\left(- \\frac{1}{2}\\right)R_1 \\rightarrow R_3$"
      ],
      "text/plain": [
       "<IPython.core.display.Math object>"
      ]
     },
     "metadata": {},
     "output_type": "display_data"
    },
    {
     "data": {
      "text/latex": [
       "$\\displaystyle \\left[\\begin{array}{cccc}2 & -4 & 4 & -2\\\\0 & 3 & -5 & 3\\\\0 & -6 & 10 & -1\\end{array}\\right]$"
      ],
      "text/plain": [
       "Matrix([\n",
       "[2, -4,  4, -2] \n",
       "[0,  3, -5,  3] \n",
       "[0, -6, 10, -1] \n",
       "])"
      ]
     },
     "metadata": {},
     "output_type": "display_data"
    },
    {
     "name": "stdout",
     "output_type": "stream",
     "text": [
      "\n",
      "\n"
     ]
    },
    {
     "data": {
      "text/latex": [
       "$\\displaystyle R_3 - \\left(-2\\right)R_2 \\rightarrow R_3$"
      ],
      "text/plain": [
       "<IPython.core.display.Math object>"
      ]
     },
     "metadata": {},
     "output_type": "display_data"
    },
    {
     "data": {
      "text/latex": [
       "$\\displaystyle \\left[\\begin{array}{cccc}2 & -4 & 4 & -2\\\\0 & 3 & -5 & 3\\\\0 & 0 & 0 & 5\\end{array}\\right]$"
      ],
      "text/plain": [
       "Matrix([\n",
       "[2, -4,  4, -2] \n",
       "[0,  3, -5,  3] \n",
       "[0,  0,  0,  5] \n",
       "])"
      ]
     },
     "metadata": {},
     "output_type": "display_data"
    },
    {
     "name": "stdout",
     "output_type": "stream",
     "text": [
      "\n",
      "\n"
     ]
    },
    {
     "data": {
      "text/latex": [
       "$\\left[\\begin{array}{ccc}1 & 0 & 0\\\\0 & 1 & 0\\\\0 & 0 & 1\\end{array}\\right]\\left[\\begin{array}{ccc}1 & 0 & 0\\\\3 & 1 & 0\\\\- \\frac{1}{2} & -2 & 1\\end{array}\\right]\\left[\\begin{array}{cccc}2 & -4 & 4 & -2\\\\0 & 3 & -5 & 3\\\\0 & 0 & 0 & 5\\end{array}\\right]$"
      ],
      "text/plain": [
       "PLU(P=Matrix([\n",
       "[1, 0, 0]\n",
       "[0, 1, 0]\n",
       "[0, 0, 1]\n",
       "]), L=Matrix([\n",
       "[   1,  0, 0]\n",
       "[   3,  1, 0]\n",
       "[-1/2, -2, 1]\n",
       "]), U=Matrix([\n",
       "[2, -4,  4, -2] \n",
       "[0,  3, -5,  3] \n",
       "[0,  0,  0,  5] \n",
       "]))"
      ]
     },
     "execution_count": 9,
     "metadata": {},
     "output_type": "execute_result"
    }
   ],
   "source": [
    "plu = A.ref(verbosity=2)\n",
    "plu"
   ]
  },
  {
   "cell_type": "code",
   "execution_count": 10,
   "id": "0e665b60",
   "metadata": {},
   "outputs": [
    {
     "data": {
      "text/latex": [
       "$\\displaystyle \\left[\\begin{array}{c}0\\\\0\\\\5\\end{array}\\right]$"
      ],
      "text/plain": [
       "Matrix([\n",
       "[0]\n",
       "[0]\n",
       "[5]\n",
       "])"
      ]
     },
     "execution_count": 10,
     "metadata": {},
     "output_type": "execute_result"
    }
   ],
   "source": [
    "y = plu.L.solve(b)\n",
    "y"
   ]
  },
  {
   "cell_type": "code",
   "execution_count": 11,
   "id": "f892bc67",
   "metadata": {},
   "outputs": [
    {
     "data": {
      "text/latex": [
       "$\\displaystyle \\left[\\begin{array}{c}\\frac{4 y}{3} - 1\\\\\\frac{5 y}{3} - 1\\\\y\\\\1\\end{array}\\right]$"
      ],
      "text/plain": [
       "Matrix([\n",
       "[4*y/3 - 1]\n",
       "[5*y/3 - 1]\n",
       "[        y]\n",
       "[        1]\n",
       "])"
      ]
     },
     "execution_count": 11,
     "metadata": {},
     "output_type": "execute_result"
    }
   ],
   "source": [
    "x = plu.U.solve(y)\n",
    "x"
   ]
  },
  {
   "cell_type": "markdown",
   "id": "d9645e73",
   "metadata": {},
   "source": [
    "## Question 3\n",
    "\n",
    "Let $\\mathbf{A} = \\begin{pmatrix} 2 & -6 & 6 \\\\ -4 & 5 & -7 \\\\ 3 & 5 & -1 \\\\ -6 & 4 & -8 \\\\ 8 & -3 & 9 \\end{pmatrix}$."
   ]
  },
  {
   "cell_type": "markdown",
   "id": "e98c5720",
   "metadata": {},
   "source": [
    "### (a)\n",
    "\n",
    "Find an LU factorization of $\\mathbf{A}$."
   ]
  },
  {
   "cell_type": "code",
   "execution_count": 12,
   "id": "577145b8",
   "metadata": {},
   "outputs": [
    {
     "data": {
      "text/latex": [
       "$\\displaystyle \\left[\\begin{array}{ccc}2 & -6 & 6\\\\-4 & 5 & -7\\\\3 & 5 & -1\\\\-6 & 4 & -8\\\\8 & -3 & 9\\end{array}\\right]$"
      ],
      "text/plain": [
       "Matrix([\n",
       "[ 2, -6,  6]\n",
       "[-4,  5, -7]\n",
       "[ 3,  5, -1]\n",
       "[-6,  4, -8]\n",
       "[ 8, -3,  9]\n",
       "])"
      ]
     },
     "execution_count": 12,
     "metadata": {},
     "output_type": "execute_result"
    }
   ],
   "source": [
    "A = Matrix.from_str(\"2 -6 6; -4 5 -7; 3 5 -1; -6 4 -8; 8 -3 9\")\n",
    "A"
   ]
  },
  {
   "cell_type": "code",
   "execution_count": 13,
   "id": "6529a57f",
   "metadata": {},
   "outputs": [
    {
     "data": {
      "text/latex": [
       "$\\displaystyle R_2 - \\left(-2\\right)R_1 \\rightarrow R_2$"
      ],
      "text/plain": [
       "<IPython.core.display.Math object>"
      ]
     },
     "metadata": {},
     "output_type": "display_data"
    },
    {
     "data": {
      "text/latex": [
       "$\\displaystyle \\left[\\begin{array}{ccc}2 & -6 & 6\\\\0 & -7 & 5\\\\3 & 5 & -1\\\\-6 & 4 & -8\\\\8 & -3 & 9\\end{array}\\right]$"
      ],
      "text/plain": [
       "Matrix([\n",
       "[ 2, -6,  6]\n",
       "[ 0, -7,  5]\n",
       "[ 3,  5, -1]\n",
       "[-6,  4, -8]\n",
       "[ 8, -3,  9]\n",
       "])"
      ]
     },
     "metadata": {},
     "output_type": "display_data"
    },
    {
     "name": "stdout",
     "output_type": "stream",
     "text": [
      "\n",
      "\n"
     ]
    },
    {
     "data": {
      "text/latex": [
       "$\\displaystyle R_3 - \\left(\\frac{3}{2}\\right)R_1 \\rightarrow R_3$"
      ],
      "text/plain": [
       "<IPython.core.display.Math object>"
      ]
     },
     "metadata": {},
     "output_type": "display_data"
    },
    {
     "data": {
      "text/latex": [
       "$\\displaystyle \\left[\\begin{array}{ccc}2 & -6 & 6\\\\0 & -7 & 5\\\\0 & 14 & -10\\\\-6 & 4 & -8\\\\8 & -3 & 9\\end{array}\\right]$"
      ],
      "text/plain": [
       "Matrix([\n",
       "[ 2, -6,   6]\n",
       "[ 0, -7,   5]\n",
       "[ 0, 14, -10]\n",
       "[-6,  4,  -8]\n",
       "[ 8, -3,   9]\n",
       "])"
      ]
     },
     "metadata": {},
     "output_type": "display_data"
    },
    {
     "name": "stdout",
     "output_type": "stream",
     "text": [
      "\n",
      "\n"
     ]
    },
    {
     "data": {
      "text/latex": [
       "$\\displaystyle R_4 - \\left(-3\\right)R_1 \\rightarrow R_4$"
      ],
      "text/plain": [
       "<IPython.core.display.Math object>"
      ]
     },
     "metadata": {},
     "output_type": "display_data"
    },
    {
     "data": {
      "text/latex": [
       "$\\displaystyle \\left[\\begin{array}{ccc}2 & -6 & 6\\\\0 & -7 & 5\\\\0 & 14 & -10\\\\0 & -14 & 10\\\\8 & -3 & 9\\end{array}\\right]$"
      ],
      "text/plain": [
       "Matrix([\n",
       "[2,  -6,   6]\n",
       "[0,  -7,   5]\n",
       "[0,  14, -10]\n",
       "[0, -14,  10]\n",
       "[8,  -3,   9]\n",
       "])"
      ]
     },
     "metadata": {},
     "output_type": "display_data"
    },
    {
     "name": "stdout",
     "output_type": "stream",
     "text": [
      "\n",
      "\n"
     ]
    },
    {
     "data": {
      "text/latex": [
       "$\\displaystyle R_5 - \\left(4\\right)R_1 \\rightarrow R_5$"
      ],
      "text/plain": [
       "<IPython.core.display.Math object>"
      ]
     },
     "metadata": {},
     "output_type": "display_data"
    },
    {
     "data": {
      "text/latex": [
       "$\\displaystyle \\left[\\begin{array}{ccc}2 & -6 & 6\\\\0 & -7 & 5\\\\0 & 14 & -10\\\\0 & -14 & 10\\\\0 & 21 & -15\\end{array}\\right]$"
      ],
      "text/plain": [
       "Matrix([\n",
       "[2,  -6,   6]\n",
       "[0,  -7,   5]\n",
       "[0,  14, -10]\n",
       "[0, -14,  10]\n",
       "[0,  21, -15]\n",
       "])"
      ]
     },
     "metadata": {},
     "output_type": "display_data"
    },
    {
     "name": "stdout",
     "output_type": "stream",
     "text": [
      "\n",
      "\n"
     ]
    },
    {
     "data": {
      "text/latex": [
       "$\\displaystyle R_3 - \\left(-2\\right)R_2 \\rightarrow R_3$"
      ],
      "text/plain": [
       "<IPython.core.display.Math object>"
      ]
     },
     "metadata": {},
     "output_type": "display_data"
    },
    {
     "data": {
      "text/latex": [
       "$\\displaystyle \\left[\\begin{array}{ccc}2 & -6 & 6\\\\0 & -7 & 5\\\\0 & 0 & 0\\\\0 & -14 & 10\\\\0 & 21 & -15\\end{array}\\right]$"
      ],
      "text/plain": [
       "Matrix([\n",
       "[2,  -6,   6]\n",
       "[0,  -7,   5]\n",
       "[0,   0,   0]\n",
       "[0, -14,  10]\n",
       "[0,  21, -15]\n",
       "])"
      ]
     },
     "metadata": {},
     "output_type": "display_data"
    },
    {
     "name": "stdout",
     "output_type": "stream",
     "text": [
      "\n",
      "\n"
     ]
    },
    {
     "data": {
      "text/latex": [
       "$\\displaystyle R_4 - \\left(2\\right)R_2 \\rightarrow R_4$"
      ],
      "text/plain": [
       "<IPython.core.display.Math object>"
      ]
     },
     "metadata": {},
     "output_type": "display_data"
    },
    {
     "data": {
      "text/latex": [
       "$\\displaystyle \\left[\\begin{array}{ccc}2 & -6 & 6\\\\0 & -7 & 5\\\\0 & 0 & 0\\\\0 & 0 & 0\\\\0 & 21 & -15\\end{array}\\right]$"
      ],
      "text/plain": [
       "Matrix([\n",
       "[2, -6,   6]\n",
       "[0, -7,   5]\n",
       "[0,  0,   0]\n",
       "[0,  0,   0]\n",
       "[0, 21, -15]\n",
       "])"
      ]
     },
     "metadata": {},
     "output_type": "display_data"
    },
    {
     "name": "stdout",
     "output_type": "stream",
     "text": [
      "\n",
      "\n"
     ]
    },
    {
     "data": {
      "text/latex": [
       "$\\displaystyle R_5 - \\left(-3\\right)R_2 \\rightarrow R_5$"
      ],
      "text/plain": [
       "<IPython.core.display.Math object>"
      ]
     },
     "metadata": {},
     "output_type": "display_data"
    },
    {
     "data": {
      "text/latex": [
       "$\\displaystyle \\left[\\begin{array}{ccc}2 & -6 & 6\\\\0 & -7 & 5\\\\0 & 0 & 0\\\\0 & 0 & 0\\\\0 & 0 & 0\\end{array}\\right]$"
      ],
      "text/plain": [
       "Matrix([\n",
       "[2, -6, 6]\n",
       "[0, -7, 5]\n",
       "[0,  0, 0]\n",
       "[0,  0, 0]\n",
       "[0,  0, 0]\n",
       "])"
      ]
     },
     "metadata": {},
     "output_type": "display_data"
    },
    {
     "name": "stdout",
     "output_type": "stream",
     "text": [
      "\n",
      "\n"
     ]
    },
    {
     "data": {
      "text/latex": [
       "$\\left[\\begin{array}{ccccc}1 & 0 & 0 & 0 & 0\\\\0 & 1 & 0 & 0 & 0\\\\0 & 0 & 1 & 0 & 0\\\\0 & 0 & 0 & 1 & 0\\\\0 & 0 & 0 & 0 & 1\\end{array}\\right]\\left[\\begin{array}{ccccc}1 & 0 & 0 & 0 & 0\\\\-2 & 1 & 0 & 0 & 0\\\\\\frac{3}{2} & -2 & 1 & 0 & 0\\\\-3 & 2 & 0 & 1 & 0\\\\4 & -3 & 0 & 0 & 1\\end{array}\\right]\\left[\\begin{array}{ccc}2 & -6 & 6\\\\0 & -7 & 5\\\\0 & 0 & 0\\\\0 & 0 & 0\\\\0 & 0 & 0\\end{array}\\right]$"
      ],
      "text/plain": [
       "PLU(P=Matrix([\n",
       "[1, 0, 0, 0, 0]\n",
       "[0, 1, 0, 0, 0]\n",
       "[0, 0, 1, 0, 0]\n",
       "[0, 0, 0, 1, 0]\n",
       "[0, 0, 0, 0, 1]\n",
       "]), L=Matrix([\n",
       "[  1,  0, 0, 0, 0]\n",
       "[ -2,  1, 0, 0, 0]\n",
       "[3/2, -2, 1, 0, 0]\n",
       "[ -3,  2, 0, 1, 0]\n",
       "[  4, -3, 0, 0, 1]\n",
       "]), U=Matrix([\n",
       "[2, -6, 6]\n",
       "[0, -7, 5]\n",
       "[0,  0, 0]\n",
       "[0,  0, 0]\n",
       "[0,  0, 0]\n",
       "]))"
      ]
     },
     "execution_count": 13,
     "metadata": {},
     "output_type": "execute_result"
    }
   ],
   "source": [
    "plu = A.ref(verbosity=2)\n",
    "plu"
   ]
  },
  {
   "cell_type": "markdown",
   "id": "9407df5f",
   "metadata": {},
   "source": [
    "## Question 4\n",
    "\n",
    "Let $\\mathbf{A} = \\begin{pmatrix} -x & 1 & 0 \\\\ 0 & -x & 1 \\\\ 2 & -5 & 4-x \\end{pmatrix}$. Compute the determinant of $\\mathbf{A}$ and find all the values of $x$ such that $\\mathbf{A}$ is singular."
   ]
  },
  {
   "cell_type": "code",
   "execution_count": 14,
   "id": "7597a9a2",
   "metadata": {},
   "outputs": [
    {
     "data": {
      "text/latex": [
       "$\\displaystyle \\left[\\begin{array}{ccc}- x & 1 & 0\\\\0 & - x & 1\\\\2 & -5 & 4 - x\\end{array}\\right]$"
      ],
      "text/plain": [
       "Matrix([\n",
       "[-x,  1,     0]\n",
       "[ 0, -x,     1]\n",
       "[ 2, -5, 4 - x]\n",
       "])"
      ]
     },
     "execution_count": 14,
     "metadata": {},
     "output_type": "execute_result"
    }
   ],
   "source": [
    "A = Matrix.from_str(\"-x 1 0; 0 -x 1; 2 -5 4-x\")\n",
    "A"
   ]
  },
  {
   "cell_type": "code",
   "execution_count": 15,
   "id": "9e0c6fc2",
   "metadata": {},
   "outputs": [
    {
     "data": {
      "text/latex": [
       "$\\displaystyle - \\left(x - 2\\right) \\left(x - 1\\right)^{2}$"
      ],
      "text/plain": [
       "                2\n",
       "-(x - 2)⋅(x - 1) "
      ]
     },
     "execution_count": 15,
     "metadata": {},
     "output_type": "execute_result"
    }
   ],
   "source": [
    "A.det().factor()"
   ]
  },
  {
   "cell_type": "markdown",
   "id": "3ee55956",
   "metadata": {},
   "source": [
    "## Question 5\n",
    "\n",
    "Show that $$\\begin{vmatrix} a + px & b + qx & c + rx \\\\ p + ux & q + vx & r + wx \\\\ u + ax & v + bx & w + cx \\end{vmatrix} = (1 + x^3) \\begin{vmatrix} a & b & c \\\\ p & q & r \\\\ u & v & w \\end{vmatrix}$$"
   ]
  },
  {
   "cell_type": "code",
   "execution_count": 16,
   "id": "250486d7",
   "metadata": {},
   "outputs": [
    {
     "data": {
      "text/latex": [
       "$\\displaystyle \\left[\\begin{array}{ccc}a + p x & b + q x & c + r x\\\\p + u x & q + v x & r + w x\\\\a x + u & b x + v & c x + w\\end{array}\\right]$"
      ],
      "text/plain": [
       "Matrix([\n",
       "[a + p*x, b + q*x, c + r*x]\n",
       "[p + u*x, q + v*x, r + w*x]\n",
       "[a*x + u, b*x + v, c*x + w]\n",
       "])"
      ]
     },
     "execution_count": 16,
     "metadata": {},
     "output_type": "execute_result"
    }
   ],
   "source": [
    "a, b, c, p, q, r, u, v, w, x = sym.symbols(\"a b c p q r u v w x\")\n",
    "\n",
    "lhs = Matrix([[a + p*x, b + q*x, c + r*x],\n",
    "              [p + u*x, q + v*x, r + w*x],\n",
    "              [u + a*x, v + b*x, w + c*x]])\n",
    "\n",
    "lhs"
   ]
  },
  {
   "cell_type": "code",
   "execution_count": 17,
   "id": "602da8f2",
   "metadata": {},
   "outputs": [
    {
     "data": {
      "text/latex": [
       "$\\displaystyle a q w x^{3} + a q w - a r v x^{3} - a r v - b p w x^{3} - b p w + b r u x^{3} + b r u + c p v x^{3} + c p v - c q u x^{3} - c q u$"
      ],
      "text/plain": [
       "       3                  3                  3                  3              ↪\n",
       "a⋅q⋅w⋅x  + a⋅q⋅w - a⋅r⋅v⋅x  - a⋅r⋅v - b⋅p⋅w⋅x  - b⋅p⋅w + b⋅r⋅u⋅x  + b⋅r⋅u + c⋅ ↪\n",
       "\n",
       "↪      3                  3        \n",
       "↪ p⋅v⋅x  + c⋅p⋅v - c⋅q⋅u⋅x  - c⋅q⋅u"
      ]
     },
     "execution_count": 17,
     "metadata": {},
     "output_type": "execute_result"
    }
   ],
   "source": [
    "lhs.det()"
   ]
  },
  {
   "cell_type": "code",
   "execution_count": 18,
   "id": "c03ee4b3",
   "metadata": {},
   "outputs": [
    {
     "data": {
      "text/latex": [
       "$\\displaystyle \\left[\\begin{array}{ccc}a & b & c\\\\p & q & r\\\\u & v & w\\end{array}\\right]$"
      ],
      "text/plain": [
       "Matrix([\n",
       "[a, b, c]\n",
       "[p, q, r]\n",
       "[u, v, w]\n",
       "])"
      ]
     },
     "execution_count": 18,
     "metadata": {},
     "output_type": "execute_result"
    }
   ],
   "source": [
    "rhs = Matrix.from_str(\"a b c; p q r; u v w\")\n",
    "rhs"
   ]
  },
  {
   "cell_type": "code",
   "execution_count": 19,
   "id": "467139d1",
   "metadata": {},
   "outputs": [
    {
     "data": {
      "text/latex": [
       "$\\displaystyle a q w - a r v - b p w + b r u + c p v - c q u$"
      ],
      "text/plain": [
       "a⋅q⋅w - a⋅r⋅v - b⋅p⋅w + b⋅r⋅u + c⋅p⋅v - c⋅q⋅u"
      ]
     },
     "execution_count": 19,
     "metadata": {},
     "output_type": "execute_result"
    }
   ],
   "source": [
    "rhs.det()"
   ]
  },
  {
   "cell_type": "code",
   "execution_count": 20,
   "id": "e5ef0569",
   "metadata": {},
   "outputs": [
    {
     "data": {
      "text/latex": [
       "$\\displaystyle x^{3} + 1$"
      ],
      "text/plain": [
       " 3    \n",
       "x  + 1"
      ]
     },
     "execution_count": 20,
     "metadata": {},
     "output_type": "execute_result"
    }
   ],
   "source": [
    "sym.simplify(lhs.det() / rhs.det())"
   ]
  },
  {
   "cell_type": "code",
   "execution_count": 21,
   "id": "a84cf2c1",
   "metadata": {},
   "outputs": [
    {
     "data": {
      "text/latex": [
       "$\\displaystyle R_2 - \\left(x\\right)R_3 \\rightarrow R_2$"
      ],
      "text/plain": [
       "<IPython.core.display.Math object>"
      ]
     },
     "metadata": {},
     "output_type": "display_data"
    },
    {
     "data": {
      "text/latex": [
       "$\\displaystyle \\left[\\begin{array}{ccc}a + p x & b + q x & c + r x\\\\- a x^{2} + p & - b x^{2} + q & - c x^{2} + r\\\\a x + u & b x + v & c x + w\\end{array}\\right]$"
      ],
      "text/plain": [
       "Matrix([\n",
       "[    a + p*x,     b + q*x,     c + r*x]\n",
       "[-a*x**2 + p, -b*x**2 + q, -c*x**2 + r]\n",
       "[    a*x + u,     b*x + v,     c*x + w]\n",
       "])"
      ]
     },
     "metadata": {},
     "output_type": "display_data"
    },
    {
     "name": "stdout",
     "output_type": "stream",
     "text": [
      "\n",
      "\n"
     ]
    },
    {
     "data": {
      "text/latex": [
       "$\\displaystyle R_1 - \\left(x\\right)R_2 \\rightarrow R_1$"
      ],
      "text/plain": [
       "<IPython.core.display.Math object>"
      ]
     },
     "metadata": {},
     "output_type": "display_data"
    },
    {
     "data": {
      "text/latex": [
       "$\\displaystyle \\left[\\begin{array}{ccc}a x^{3} + a & b x^{3} + b & c x^{3} + c\\\\- a x^{2} + p & - b x^{2} + q & - c x^{2} + r\\\\a x + u & b x + v & c x + w\\end{array}\\right]$"
      ],
      "text/plain": [
       "Matrix([\n",
       "[ a*x**3 + a,  b*x**3 + b,  c*x**3 + c]\n",
       "[-a*x**2 + p, -b*x**2 + q, -c*x**2 + r]\n",
       "[    a*x + u,     b*x + v,     c*x + w]\n",
       "])"
      ]
     },
     "metadata": {},
     "output_type": "display_data"
    },
    {
     "name": "stdout",
     "output_type": "stream",
     "text": [
      "\n",
      "\n"
     ]
    },
    {
     "data": {
      "text/latex": [
       "$\\displaystyle \\left(\\frac{1}{x^{3} + 1}\\right) R_1 \\rightarrow R_1$"
      ],
      "text/plain": [
       "<IPython.core.display.Math object>"
      ]
     },
     "metadata": {},
     "output_type": "display_data"
    },
    {
     "data": {
      "text/latex": [
       "$\\displaystyle \\left[\\begin{array}{ccc}a & b & c\\\\- a x^{2} + p & - b x^{2} + q & - c x^{2} + r\\\\a x + u & b x + v & c x + w\\end{array}\\right]$"
      ],
      "text/plain": [
       "Matrix([\n",
       "[          a,           b,           c]\n",
       "[-a*x**2 + p, -b*x**2 + q, -c*x**2 + r]\n",
       "[    a*x + u,     b*x + v,     c*x + w]\n",
       "])"
      ]
     },
     "metadata": {},
     "output_type": "display_data"
    },
    {
     "name": "stdout",
     "output_type": "stream",
     "text": [
      "\n",
      "\n"
     ]
    },
    {
     "data": {
      "text/latex": [
       "$\\displaystyle R_2 - \\left(- x^{2}\\right)R_1 \\rightarrow R_2$"
      ],
      "text/plain": [
       "<IPython.core.display.Math object>"
      ]
     },
     "metadata": {},
     "output_type": "display_data"
    },
    {
     "data": {
      "text/latex": [
       "$\\displaystyle \\left[\\begin{array}{ccc}a & b & c\\\\p & q & r\\\\a x + u & b x + v & c x + w\\end{array}\\right]$"
      ],
      "text/plain": [
       "Matrix([\n",
       "[      a,       b,       c]\n",
       "[      p,       q,       r]\n",
       "[a*x + u, b*x + v, c*x + w]\n",
       "])"
      ]
     },
     "metadata": {},
     "output_type": "display_data"
    },
    {
     "name": "stdout",
     "output_type": "stream",
     "text": [
      "\n",
      "\n"
     ]
    },
    {
     "data": {
      "text/latex": [
       "$\\displaystyle R_3 - \\left(x\\right)R_1 \\rightarrow R_3$"
      ],
      "text/plain": [
       "<IPython.core.display.Math object>"
      ]
     },
     "metadata": {},
     "output_type": "display_data"
    },
    {
     "data": {
      "text/latex": [
       "$\\displaystyle \\left[\\begin{array}{ccc}a & b & c\\\\p & q & r\\\\u & v & w\\end{array}\\right]$"
      ],
      "text/plain": [
       "Matrix([\n",
       "[a, b, c]\n",
       "[p, q, r]\n",
       "[u, v, w]\n",
       "])"
      ]
     },
     "metadata": {},
     "output_type": "display_data"
    },
    {
     "name": "stdout",
     "output_type": "stream",
     "text": [
      "\n",
      "\n"
     ]
    },
    {
     "data": {
      "text/latex": [
       "$\\displaystyle \\left[\\begin{array}{ccc}a & b & c\\\\p & q & r\\\\u & v & w\\end{array}\\right]$"
      ],
      "text/plain": [
       "Matrix([\n",
       "[a, b, c]\n",
       "[p, q, r]\n",
       "[u, v, w]\n",
       "])"
      ]
     },
     "execution_count": 21,
     "metadata": {},
     "output_type": "execute_result"
    }
   ],
   "source": [
    "# Alternative way: less brute force\n",
    "\n",
    "(lhs.copy()\n",
    " .reduce_row(1, x, 2)\n",
    " .reduce_row(0, x, 1)\n",
    " .scale_row(0, 1/(1 + x**3))\n",
    " .reduce_row(1, -x**2, 0)\n",
    " .reduce_row(2, x, 0)\n",
    " )"
   ]
  },
  {
   "cell_type": "code",
   "execution_count": 22,
   "id": "5e747f6f",
   "metadata": {},
   "outputs": [],
   "source": [
    "# Therefore, det has only been scaled by a factor of 1 + x**3"
   ]
  },
  {
   "cell_type": "code",
   "execution_count": 23,
   "id": "b8678a5d",
   "metadata": {},
   "outputs": [
    {
     "name": "stdout",
     "output_type": "stream",
     "text": [
      "Modified matrix for column 1:\n"
     ]
    },
    {
     "data": {
      "text/latex": [
       "$\\displaystyle \\left[\\begin{array}{ccc}1 & 5 & 3\\\\2 & 2 & -2\\\\0 & 1 & 3\\end{array}\\right]$"
      ],
      "text/plain": [
       "Matrix([\n",
       "[1, 5,  3]\n",
       "[2, 2, -2]\n",
       "[0, 1,  3]\n",
       "])"
      ]
     },
     "metadata": {},
     "output_type": "display_data"
    },
    {
     "data": {
      "text/latex": [
       "$\\displaystyle \\text{Determinant for column }1: -2$"
      ],
      "text/plain": [
       "<IPython.core.display.Math object>"
      ]
     },
     "metadata": {},
     "output_type": "display_data"
    },
    {
     "name": "stdout",
     "output_type": "stream",
     "text": [
      "Modified matrix for column 2:\n"
     ]
    },
    {
     "data": {
      "text/latex": [
       "$\\displaystyle \\left[\\begin{array}{ccc}1 & 1 & 3\\\\0 & 2 & -2\\\\0 & 0 & 3\\end{array}\\right]$"
      ],
      "text/plain": [
       "Matrix([\n",
       "[1, 1,  3]\n",
       "[0, 2, -2]\n",
       "[0, 0,  3]\n",
       "])"
      ]
     },
     "metadata": {},
     "output_type": "display_data"
    },
    {
     "data": {
      "text/latex": [
       "$\\displaystyle \\text{Determinant for column }2: \\frac{3}{4}$"
      ],
      "text/plain": [
       "<IPython.core.display.Math object>"
      ]
     },
     "metadata": {},
     "output_type": "display_data"
    },
    {
     "name": "stdout",
     "output_type": "stream",
     "text": [
      "Modified matrix for column 3:\n"
     ]
    },
    {
     "data": {
      "text/latex": [
       "$\\displaystyle \\left[\\begin{array}{ccc}1 & 5 & 1\\\\0 & 2 & 2\\\\0 & 1 & 0\\end{array}\\right]$"
      ],
      "text/plain": [
       "Matrix([\n",
       "[1, 5, 1]\n",
       "[0, 2, 2]\n",
       "[0, 1, 0]\n",
       "])"
      ]
     },
     "metadata": {},
     "output_type": "display_data"
    },
    {
     "data": {
      "text/latex": [
       "$\\displaystyle \\text{Determinant for column }3: - \\frac{1}{4}$"
      ],
      "text/plain": [
       "<IPython.core.display.Math object>"
      ]
     },
     "metadata": {},
     "output_type": "display_data"
    },
    {
     "data": {
      "text/latex": [
       "$\\displaystyle \\left[\\begin{array}{c}-2\\\\\\frac{3}{4}\\\\- \\frac{1}{4}\\end{array}\\right]$"
      ],
      "text/plain": [
       "Matrix([\n",
       "[  -2]\n",
       "[ 3/4]\n",
       "[-1/4]\n",
       "])"
      ]
     },
     "execution_count": 23,
     "metadata": {},
     "output_type": "execute_result"
    }
   ],
   "source": [
    "Matrix.from_str(\"1 5 3; 0 2 -2; 0 1 3\").cramer_solve(Matrix.from_str(\"1; 2; 0\"))\n",
    "\n"
   ]
  },
  {
   "cell_type": "markdown",
   "id": "344bf798",
   "metadata": {},
   "source": [
    "## Question 7\n",
    "\n",
    "Use Cramer's rule to solve \n",
    "$$\\begin{cases} \n",
    "x &+& 5y &+& 3z &=& 1 \\\\ \n",
    "&& 2y &-& 2z &=& 2 \\\\\n",
    "&& y &+& 3z &=& 0 \n",
    "\\end{cases}$$"
   ]
  },
  {
   "cell_type": "code",
   "execution_count": 24,
   "id": "5b46b496",
   "metadata": {},
   "outputs": [
    {
     "name": "stdout",
     "output_type": "stream",
     "text": [
      "Modified matrix for column 1:\n"
     ]
    },
    {
     "data": {
      "text/latex": [
       "$\\displaystyle \\left[\\begin{array}{ccc}1 & 5 & 3\\\\2 & 2 & -2\\\\0 & 1 & 3\\end{array}\\right]$"
      ],
      "text/plain": [
       "Matrix([\n",
       "[1, 5,  3]\n",
       "[2, 2, -2]\n",
       "[0, 1,  3]\n",
       "])"
      ]
     },
     "metadata": {},
     "output_type": "display_data"
    },
    {
     "data": {
      "text/latex": [
       "$\\displaystyle \\text{Determinant for column }1: -2$"
      ],
      "text/plain": [
       "<IPython.core.display.Math object>"
      ]
     },
     "metadata": {},
     "output_type": "display_data"
    },
    {
     "name": "stdout",
     "output_type": "stream",
     "text": [
      "Modified matrix for column 2:\n"
     ]
    },
    {
     "data": {
      "text/latex": [
       "$\\displaystyle \\left[\\begin{array}{ccc}1 & 1 & 3\\\\0 & 2 & -2\\\\0 & 0 & 3\\end{array}\\right]$"
      ],
      "text/plain": [
       "Matrix([\n",
       "[1, 1,  3]\n",
       "[0, 2, -2]\n",
       "[0, 0,  3]\n",
       "])"
      ]
     },
     "metadata": {},
     "output_type": "display_data"
    },
    {
     "data": {
      "text/latex": [
       "$\\displaystyle \\text{Determinant for column }2: \\frac{3}{4}$"
      ],
      "text/plain": [
       "<IPython.core.display.Math object>"
      ]
     },
     "metadata": {},
     "output_type": "display_data"
    },
    {
     "name": "stdout",
     "output_type": "stream",
     "text": [
      "Modified matrix for column 3:\n"
     ]
    },
    {
     "data": {
      "text/latex": [
       "$\\displaystyle \\left[\\begin{array}{ccc}1 & 5 & 1\\\\0 & 2 & 2\\\\0 & 1 & 0\\end{array}\\right]$"
      ],
      "text/plain": [
       "Matrix([\n",
       "[1, 5, 1]\n",
       "[0, 2, 2]\n",
       "[0, 1, 0]\n",
       "])"
      ]
     },
     "metadata": {},
     "output_type": "display_data"
    },
    {
     "data": {
      "text/latex": [
       "$\\displaystyle \\text{Determinant for column }3: - \\frac{1}{4}$"
      ],
      "text/plain": [
       "<IPython.core.display.Math object>"
      ]
     },
     "metadata": {},
     "output_type": "display_data"
    },
    {
     "data": {
      "text/latex": [
       "$\\displaystyle \\left[\\begin{array}{c}-2\\\\\\frac{3}{4}\\\\- \\frac{1}{4}\\end{array}\\right]$"
      ],
      "text/plain": [
       "Matrix([\n",
       "[  -2]\n",
       "[ 3/4]\n",
       "[-1/4]\n",
       "])"
      ]
     },
     "execution_count": 24,
     "metadata": {},
     "output_type": "execute_result"
    }
   ],
   "source": [
    "mat = Matrix.from_str(\"1 5 3; 0 2 -2; 0 1 3\")\n",
    "rhs = Matrix.from_str(\"1; 2; 0\")\n",
    "\n",
    "mat.cramer_solve(rhs, verbosity=2)"
   ]
  },
  {
   "cell_type": "markdown",
   "id": "140f66fd",
   "metadata": {},
   "source": [
    "## Question 8\n",
    "\n",
    "Compute the adjoint of $\\mathbf{A} = \\begin{pmatrix} 1 & -1 & 2 \\\\ 0 & 2 & 1 \\\\ 3 & 0 & 6 \\end{pmatrix}$, and use it to compute $\\mathbf{A}^{-1}$."
   ]
  },
  {
   "cell_type": "code",
   "execution_count": 25,
   "id": "d7956aef",
   "metadata": {},
   "outputs": [
    {
     "data": {
      "text/latex": [
       "$\\displaystyle \\left[\\begin{array}{ccc}1 & -1 & 2\\\\0 & 2 & 1\\\\3 & 0 & 6\\end{array}\\right]$"
      ],
      "text/plain": [
       "Matrix([\n",
       "[1, -1, 2]\n",
       "[0,  2, 1]\n",
       "[3,  0, 6]\n",
       "])"
      ]
     },
     "execution_count": 25,
     "metadata": {},
     "output_type": "execute_result"
    }
   ],
   "source": [
    "A = Matrix.from_str(\"1 -1 2; 0 2 1; 3 0 6\")\n",
    "\n",
    "A"
   ]
  },
  {
   "cell_type": "code",
   "execution_count": 26,
   "id": "ecfe8de9",
   "metadata": {},
   "outputs": [
    {
     "data": {
      "text/latex": [
       "$\\displaystyle \\left[\\begin{matrix}12 & 6 & -5\\\\3 & 0 & -1\\\\-6 & -3 & 2\\end{matrix}\\right]$"
      ],
      "text/plain": [
       "Matrix([\n",
       "[12,  6, -5],\n",
       "[ 3,  0, -1],\n",
       "[-6, -3,  2]])"
      ]
     },
     "execution_count": 26,
     "metadata": {},
     "output_type": "execute_result"
    }
   ],
   "source": [
    "# Note: Please use `adj` method instead of `adjoint` or `adjugate` \n",
    "# even if they are aliased correctly based on MA1522 definitions as\n",
    "# they are not the same as the SymPy's `adjoint` or `adjugate` methods.\n",
    "\n",
    "A.adj()"
   ]
  },
  {
   "cell_type": "code",
   "execution_count": 27,
   "id": "8b704089",
   "metadata": {},
   "outputs": [
    {
     "name": "stderr",
     "output_type": "stream",
     "text": [
      "C:\\Users\\yeesh\\AppData\\Local\\Temp\\ipykernel_13020\\2803142297.py:1: DeprecationWarning: The classical adjoint of the matrix is computed rather than the conjugate transpose.\n",
      "            Please use self.adj() instead to remove ambiguity.\n",
      "  A.adjoint()\n"
     ]
    },
    {
     "data": {
      "text/latex": [
       "$\\displaystyle \\left[\\begin{matrix}12 & 6 & -5\\\\3 & 0 & -1\\\\-6 & -3 & 2\\end{matrix}\\right]$"
      ],
      "text/plain": [
       "Matrix([\n",
       "[12,  6, -5],\n",
       "[ 3,  0, -1],\n",
       "[-6, -3,  2]])"
      ]
     },
     "execution_count": 27,
     "metadata": {},
     "output_type": "execute_result"
    }
   ],
   "source": [
    "A.adjoint()"
   ]
  },
  {
   "cell_type": "code",
   "execution_count": 28,
   "id": "5d8b30e3",
   "metadata": {},
   "outputs": [
    {
     "data": {
      "text/latex": [
       "$\\displaystyle \\left[\\begin{array}{ccc}-4 & -2 & \\frac{5}{3}\\\\-1 & 0 & \\frac{1}{3}\\\\2 & 1 & - \\frac{2}{3}\\end{array}\\right]$"
      ],
      "text/plain": [
       "Matrix([\n",
       "[-4, -2,  5/3]\n",
       "[-1,  0,  1/3]\n",
       "[ 2,  1, -2/3]\n",
       "])"
      ]
     },
     "execution_count": 28,
     "metadata": {},
     "output_type": "execute_result"
    }
   ],
   "source": [
    "A_inv = A.adj() / A.det()\n",
    "A_inv"
   ]
  }
 ],
 "metadata": {
  "kernelspec": {
   "display_name": "ma1522-linear-algebra (3.10.18)",
   "language": "python",
   "name": "python3"
  },
  "language_info": {
   "codemirror_mode": {
    "name": "ipython",
    "version": 3
   },
   "file_extension": ".py",
   "mimetype": "text/x-python",
   "name": "python",
   "nbconvert_exporter": "python",
   "pygments_lexer": "ipython3",
   "version": "3.10.18"
  }
 },
 "nbformat": 4,
 "nbformat_minor": 5
}

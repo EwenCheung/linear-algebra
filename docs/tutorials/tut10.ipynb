{
 "cells": [
  {
   "cell_type": "markdown",
   "id": "1f64f67a",
   "metadata": {},
   "source": [
    "# Tutorial 10 (AY24/25 Sem 1)"
   ]
  },
  {
   "cell_type": "code",
   "execution_count": null,
   "id": "d5af5dc4",
   "metadata": {},
   "outputs": [],
   "source": [
    "# Required imports\n",
    "import sympy as sym\n",
    "from ma1522 import Matrix"
   ]
  },
  {
   "cell_type": "markdown",
   "id": "ad336e24",
   "metadata": {},
   "source": [
    "## Question 1\n",
    "\n",
    "A population of ants is put into a maze with 3 compartments labeled $a$, $b$, and $c$. If the ant is in compartment $a$, an hour later, there is a 20% chance it will go to compartment $b$, and a 40% chance it will go to compartment $c$. If it is in compartment $b$, an hour later, there is a 10% chance it will go to compartment $a$, and a 30% chance it will go to compartment $c$. If it is in compartment $c$, an hour later, there is a 50% chance it will go to compartment $a$, and a 20% chance it will go to compartment $b$. Suppose 100 ants have been placed in compartment $a$.\n",
    "\n",
    "### (a)\n",
    "Find the transition probability matrix $\\mathbf{A}$. Show that it is a stochastic matrix."
   ]
  },
  {
   "cell_type": "code",
   "execution_count": 2,
   "id": "e6c2eea1",
   "metadata": {},
   "outputs": [
    {
     "data": {
      "text/latex": [
       "$\\displaystyle \\left[\\begin{array}{ccc}0.4 & 0.1 & 0.5\\\\0.2 & 0.6 & 0.2\\\\0.4 & 0.3 & 0.3\\end{array}\\right]$"
      ],
      "text/plain": [
       "Matrix([\n",
       "[0.4, 0.1, 0.5]\n",
       "[0.2, 0.6, 0.2]\n",
       "[0.4, 0.3, 0.3]\n",
       "])"
      ]
     },
     "execution_count": 2,
     "metadata": {},
     "output_type": "execute_result"
    }
   ],
   "source": [
    "A = Matrix.from_str(\"0.4 0.1 0.5; 0.2 0.6 0.2; 0.4 0.3 0.3\")\n",
    "A"
   ]
  },
  {
   "cell_type": "code",
   "execution_count": 3,
   "id": "89888947",
   "metadata": {},
   "outputs": [
    {
     "data": {
      "text/latex": [
       "$\\displaystyle \\left[\\begin{array}{ccc}\\frac{2}{5} & \\frac{1}{10} & \\frac{1}{2}\\\\\\frac{1}{5} & \\frac{3}{5} & \\frac{1}{5}\\\\\\frac{2}{5} & \\frac{3}{10} & \\frac{3}{10}\\end{array}\\right]$"
      ],
      "text/plain": [
       "Matrix([\n",
       "[2/5, 1/10,  1/2]\n",
       "[1/5,  3/5,  1/5]\n",
       "[2/5, 3/10, 3/10]\n",
       "])"
      ]
     },
     "execution_count": 3,
     "metadata": {},
     "output_type": "execute_result"
    }
   ],
   "source": [
    "# Always work with fractions to avoid floating point errors\n",
    "A.simplify(rational=True) \n",
    "A"
   ]
  },
  {
   "cell_type": "code",
   "execution_count": 4,
   "id": "6246eb3b",
   "metadata": {},
   "outputs": [
    {
     "name": "stdout",
     "output_type": "stream",
     "text": [
      "Check if matrix is square: True\n",
      "Check if all entries are non-negative: True\n",
      "Check if each column sums to 1: True\n"
     ]
    },
    {
     "data": {
      "text/plain": [
       "True"
      ]
     },
     "execution_count": 4,
     "metadata": {},
     "output_type": "execute_result"
    }
   ],
   "source": [
    "A.is_stochastic(verbosity=1)"
   ]
  },
  {
   "cell_type": "markdown",
   "id": "95e8fdac",
   "metadata": {},
   "source": [
    "### (b)\n",
    "\n",
    "By diagonalizing $\\mathbf{A}$, find the number of ants in each compartment after 3 hours."
   ]
  },
  {
   "cell_type": "code",
   "execution_count": 5,
   "id": "fe8482cc",
   "metadata": {},
   "outputs": [
    {
     "name": "stdout",
     "output_type": "stream",
     "text": [
      "Characteristic Polynomial\n"
     ]
    },
    {
     "data": {
      "text/latex": [
       "$\\displaystyle \\left(x - 1\\right) \\left(x - \\frac{2}{5}\\right) \\left(x + \\frac{1}{10}\\right)$"
      ],
      "text/plain": [
       "(x - 1)⋅(x - 2/5)⋅(x + 1/10)"
      ]
     },
     "metadata": {},
     "output_type": "display_data"
    },
    {
     "data": {
      "text/latex": [
       "$\\displaystyle \\text{Before RREF: }1\\mathbb{I} - \\mathrm{self}$"
      ],
      "text/plain": [
       "<IPython.core.display.Math object>"
      ]
     },
     "metadata": {},
     "output_type": "display_data"
    },
    {
     "data": {
      "text/latex": [
       "$\\displaystyle \\left[\\begin{array}{ccc}\\frac{3}{5} & - \\frac{1}{10} & - \\frac{1}{2}\\\\- \\frac{1}{5} & \\frac{2}{5} & - \\frac{1}{5}\\\\- \\frac{2}{5} & - \\frac{3}{10} & \\frac{7}{10}\\end{array}\\right]$"
      ],
      "text/plain": [
       "Matrix([\n",
       "[ 3/5, -1/10, -1/2]\n",
       "[-1/5,   2/5, -1/5]\n",
       "[-2/5, -3/10, 7/10]\n",
       "])"
      ]
     },
     "metadata": {},
     "output_type": "display_data"
    },
    {
     "name": "stdout",
     "output_type": "stream",
     "text": [
      "\n",
      "After RREF:\n"
     ]
    },
    {
     "data": {
      "text/latex": [
       "$\\text{RREF}\\left\\{\\text{rref} = \\left[\\begin{array}{ccc}1 & 0 & -1\\\\0 & 1 & -1\\\\0 & 0 & 0\\end{array}\\right], \\quad\\text{pivots} = (0, 1)\\right\\}$"
      ],
      "text/plain": [
       "RREF(rref=Matrix([\n",
       "[1, 0, -1]\n",
       "[0, 1, -1]\n",
       "[0, 0,  0]\n",
       "]), pivots=(0, 1))"
      ]
     },
     "metadata": {},
     "output_type": "display_data"
    },
    {
     "name": "stdout",
     "output_type": "stream",
     "text": [
      "\n",
      "Eigenvectors:\n"
     ]
    },
    {
     "data": {
      "text/latex": [
       "$\\displaystyle \\left[ \\left[\\begin{matrix}1\\\\1\\\\1\\end{matrix}\\right]\\right]$"
      ],
      "text/plain": [
       "⎡⎡1⎤⎤\n",
       "⎢⎢ ⎥⎥\n",
       "⎢⎢1⎥⎥\n",
       "⎢⎢ ⎥⎥\n",
       "⎣⎣1⎦⎦"
      ]
     },
     "metadata": {},
     "output_type": "display_data"
    },
    {
     "name": "stdout",
     "output_type": "stream",
     "text": [
      "\n",
      "\n"
     ]
    },
    {
     "data": {
      "text/latex": [
       "$\\displaystyle \\text{Before RREF: }\\frac{2}{5}\\mathbb{I} - \\mathrm{self}$"
      ],
      "text/plain": [
       "<IPython.core.display.Math object>"
      ]
     },
     "metadata": {},
     "output_type": "display_data"
    },
    {
     "data": {
      "text/latex": [
       "$\\displaystyle \\left[\\begin{array}{ccc}0 & - \\frac{1}{10} & - \\frac{1}{2}\\\\- \\frac{1}{5} & - \\frac{1}{5} & - \\frac{1}{5}\\\\- \\frac{2}{5} & - \\frac{3}{10} & \\frac{1}{10}\\end{array}\\right]$"
      ],
      "text/plain": [
       "Matrix([\n",
       "[   0, -1/10, -1/2]\n",
       "[-1/5,  -1/5, -1/5]\n",
       "[-2/5, -3/10, 1/10]\n",
       "])"
      ]
     },
     "metadata": {},
     "output_type": "display_data"
    },
    {
     "name": "stdout",
     "output_type": "stream",
     "text": [
      "\n",
      "After RREF:\n"
     ]
    },
    {
     "data": {
      "text/latex": [
       "$\\text{RREF}\\left\\{\\text{rref} = \\left[\\begin{array}{ccc}1 & 0 & -4\\\\0 & 1 & 5\\\\0 & 0 & 0\\end{array}\\right], \\quad\\text{pivots} = (0, 1)\\right\\}$"
      ],
      "text/plain": [
       "RREF(rref=Matrix([\n",
       "[1, 0, -4]\n",
       "[0, 1,  5]\n",
       "[0, 0,  0]\n",
       "]), pivots=(0, 1))"
      ]
     },
     "metadata": {},
     "output_type": "display_data"
    },
    {
     "name": "stdout",
     "output_type": "stream",
     "text": [
      "\n",
      "Eigenvectors:\n"
     ]
    },
    {
     "data": {
      "text/latex": [
       "$\\displaystyle \\left[ \\left[\\begin{matrix}4\\\\-5\\\\1\\end{matrix}\\right]\\right]$"
      ],
      "text/plain": [
       "⎡⎡4 ⎤⎤\n",
       "⎢⎢  ⎥⎥\n",
       "⎢⎢-5⎥⎥\n",
       "⎢⎢  ⎥⎥\n",
       "⎣⎣1 ⎦⎦"
      ]
     },
     "metadata": {},
     "output_type": "display_data"
    },
    {
     "name": "stdout",
     "output_type": "stream",
     "text": [
      "\n",
      "\n"
     ]
    },
    {
     "data": {
      "text/latex": [
       "$\\displaystyle \\text{Before RREF: }- \\frac{1}{10}\\mathbb{I} - \\mathrm{self}$"
      ],
      "text/plain": [
       "<IPython.core.display.Math object>"
      ]
     },
     "metadata": {},
     "output_type": "display_data"
    },
    {
     "data": {
      "text/latex": [
       "$\\displaystyle \\left[\\begin{array}{ccc}- \\frac{1}{2} & - \\frac{1}{10} & - \\frac{1}{2}\\\\- \\frac{1}{5} & - \\frac{7}{10} & - \\frac{1}{5}\\\\- \\frac{2}{5} & - \\frac{3}{10} & - \\frac{2}{5}\\end{array}\\right]$"
      ],
      "text/plain": [
       "Matrix([\n",
       "[-1/2, -1/10, -1/2]\n",
       "[-1/5, -7/10, -1/5]\n",
       "[-2/5, -3/10, -2/5]\n",
       "])"
      ]
     },
     "metadata": {},
     "output_type": "display_data"
    },
    {
     "name": "stdout",
     "output_type": "stream",
     "text": [
      "\n",
      "After RREF:\n"
     ]
    },
    {
     "data": {
      "text/latex": [
       "$\\text{RREF}\\left\\{\\text{rref} = \\left[\\begin{array}{ccc}1 & 0 & 1\\\\0 & 1 & 0\\\\0 & 0 & 0\\end{array}\\right], \\quad\\text{pivots} = (0, 1)\\right\\}$"
      ],
      "text/plain": [
       "RREF(rref=Matrix([\n",
       "[1, 0, 1]\n",
       "[0, 1, 0]\n",
       "[0, 0, 0]\n",
       "]), pivots=(0, 1))"
      ]
     },
     "metadata": {},
     "output_type": "display_data"
    },
    {
     "name": "stdout",
     "output_type": "stream",
     "text": [
      "\n",
      "Eigenvectors:\n"
     ]
    },
    {
     "data": {
      "text/latex": [
       "$\\displaystyle \\left[ \\left[\\begin{matrix}-1\\\\0\\\\1\\end{matrix}\\right]\\right]$"
      ],
      "text/plain": [
       "⎡⎡-1⎤⎤\n",
       "⎢⎢  ⎥⎥\n",
       "⎢⎢0 ⎥⎥\n",
       "⎢⎢  ⎥⎥\n",
       "⎣⎣1 ⎦⎦"
      ]
     },
     "metadata": {},
     "output_type": "display_data"
    },
    {
     "name": "stdout",
     "output_type": "stream",
     "text": [
      "\n",
      "\n"
     ]
    },
    {
     "data": {
      "text/latex": [
       "$\\left[\\begin{array}{ccc}-1 & 4 & 1\\\\0 & -5 & 1\\\\1 & 1 & 1\\end{array}\\right]\\left[\\begin{array}{ccc}- \\frac{1}{10} & 0 & 0\\\\0 & \\frac{2}{5} & 0\\\\0 & 0 & 1\\end{array}\\right]\\left[\\begin{matrix}- \\frac{2}{5} & - \\frac{1}{5} & \\frac{3}{5}\\\\\\frac{1}{15} & - \\frac{2}{15} & \\frac{1}{15}\\\\\\frac{1}{3} & \\frac{1}{3} & \\frac{1}{3}\\end{matrix}\\right]$"
      ],
      "text/plain": [
       "PDP(P=Matrix([\n",
       "[-1,  4, 1]\n",
       "[ 0, -5, 1]\n",
       "[ 1,  1, 1]\n",
       "]), D=Matrix([\n",
       "[-1/10,   0, 0]\n",
       "[    0, 2/5, 0]\n",
       "[    0,   0, 1]\n",
       "]))"
      ]
     },
     "execution_count": 5,
     "metadata": {},
     "output_type": "execute_result"
    }
   ],
   "source": [
    "PDP = A.diagonalize(reals_only=True, verbosity=1)\n",
    "PDP"
   ]
  },
  {
   "cell_type": "code",
   "execution_count": 6,
   "id": "44cf4556",
   "metadata": {},
   "outputs": [
    {
     "data": {
      "text/latex": [
       "$\\displaystyle \\left[\\begin{array}{c}100\\\\0\\\\0\\end{array}\\right]$"
      ],
      "text/plain": [
       "Matrix([\n",
       "[100]\n",
       "[  0]\n",
       "[  0]\n",
       "])"
      ]
     },
     "execution_count": 6,
     "metadata": {},
     "output_type": "execute_result"
    }
   ],
   "source": [
    "x_0 = Matrix.from_str(\"100; 0; 0\")\n",
    "x_0"
   ]
  },
  {
   "cell_type": "code",
   "execution_count": 7,
   "id": "8432c5fe",
   "metadata": {},
   "outputs": [
    {
     "data": {
      "text/latex": [
       "$\\displaystyle \\left[\\begin{array}{c}35\\\\\\frac{156}{5}\\\\\\frac{169}{5}\\end{array}\\right]$"
      ],
      "text/plain": [
       "Matrix([\n",
       "[   35]\n",
       "[156/5]\n",
       "[169/5]\n",
       "])"
      ]
     },
     "execution_count": 7,
     "metadata": {},
     "output_type": "execute_result"
    }
   ],
   "source": [
    "x_3 = PDP.P @ PDP.D**3 @ PDP.P.inv() @ x_0\n",
    "x_3"
   ]
  },
  {
   "cell_type": "code",
   "execution_count": 8,
   "id": "3b0a126e",
   "metadata": {},
   "outputs": [
    {
     "data": {
      "text/latex": [
       "$\\displaystyle \\left[\\begin{matrix}35.0\\\\31.2\\\\33.8\\end{matrix}\\right]$"
      ],
      "text/plain": [
       "Matrix([\n",
       "[35.0],\n",
       "[31.2],\n",
       "[33.8]])"
      ]
     },
     "execution_count": 8,
     "metadata": {},
     "output_type": "execute_result"
    }
   ],
   "source": [
    "x_3.evalf()"
   ]
  },
  {
   "cell_type": "markdown",
   "id": "d9122ab2",
   "metadata": {},
   "source": [
    "### (d)\n",
    "\n",
    "In the long run (assuming no ants died), where will the majority of the ants be?"
   ]
  },
  {
   "cell_type": "code",
   "execution_count": 9,
   "id": "f0fab12f",
   "metadata": {},
   "outputs": [
    {
     "data": {
      "text/latex": [
       "$\\displaystyle \\left[\\begin{matrix}33.3333333333333\\\\33.3333333333333\\\\33.3333333333333\\end{matrix}\\right]$"
      ],
      "text/plain": [
       "Matrix([\n",
       "[33.3333333333333],\n",
       "[33.3333333333333],\n",
       "[33.3333333333333]])"
      ]
     },
     "execution_count": 9,
     "metadata": {},
     "output_type": "execute_result"
    }
   ],
   "source": [
    "# Brute force calculation\n",
    "(A**100 @ x_0).evalf()"
   ]
  },
  {
   "cell_type": "code",
   "execution_count": 10,
   "id": "9a6ee1ce",
   "metadata": {},
   "outputs": [
    {
     "data": {
      "text/latex": [
       "$\\displaystyle \\left[\\begin{matrix}1.0 \\cdot 10^{-1000} & 0 & 0\\\\0 & 1.14813069527425 \\cdot 10^{-398} & 0\\\\0 & 0 & 1.0\\end{matrix}\\right]$"
      ],
      "text/plain": [
       "Matrix([\n",
       "[1.0e-1000,                     0,   0],\n",
       "[        0, 1.14813069527425e-398,   0],\n",
       "[        0,                     0, 1.0]])"
      ]
     },
     "execution_count": 10,
     "metadata": {},
     "output_type": "execute_result"
    }
   ],
   "source": [
    "D_100 = (PDP.D**1000).evalf()\n",
    "D_100"
   ]
  },
  {
   "cell_type": "code",
   "execution_count": 11,
   "id": "3fb6e59b",
   "metadata": {},
   "outputs": [
    {
     "data": {
      "text/latex": [
       "$\\displaystyle \\left[\\begin{array}{ccc}0 & 0 & 0\\\\0 & 0 & 0\\\\0 & 0 & 1\\end{array}\\right]$"
      ],
      "text/plain": [
       "Matrix([\n",
       "[0, 0, 0]\n",
       "[0, 0, 0]\n",
       "[0, 0, 1]\n",
       "])"
      ]
     },
     "execution_count": 11,
     "metadata": {},
     "output_type": "execute_result"
    }
   ],
   "source": [
    "# Therefore,\n",
    "D_inf = Matrix.from_str(\"0 0 0; 0 0 0; 0 0 1\")\n",
    "D_inf"
   ]
  },
  {
   "cell_type": "code",
   "execution_count": 12,
   "id": "3dbac5a5",
   "metadata": {},
   "outputs": [
    {
     "data": {
      "text/latex": [
       "$\\displaystyle \\left[\\begin{array}{c}\\frac{100}{3}\\\\\\frac{100}{3}\\\\\\frac{100}{3}\\end{array}\\right]$"
      ],
      "text/plain": [
       "Matrix([\n",
       "[100/3]\n",
       "[100/3]\n",
       "[100/3]\n",
       "])"
      ]
     },
     "execution_count": 12,
     "metadata": {},
     "output_type": "execute_result"
    }
   ],
   "source": [
    "PDP.P @ D_inf @ PDP.P.inv() @ x_0"
   ]
  },
  {
   "cell_type": "markdown",
   "id": "e6f32ff0",
   "metadata": {},
   "source": [
    "### (e)\n",
    "\n",
    "Suppose initially the numbers of ants in compartments a, b and c are $\\alpha$, $\\beta$, and $\\gamma$ respectively. What is the population distribution in the long run (assuming no ants died)?"
   ]
  },
  {
   "cell_type": "code",
   "execution_count": 13,
   "id": "2b7ea442",
   "metadata": {},
   "outputs": [
    {
     "data": {
      "text/latex": [
       "$\\displaystyle \\left[\\begin{array}{c}x\\\\y\\\\z\\end{array}\\right]$"
      ],
      "text/plain": [
       "Matrix([\n",
       "[x]\n",
       "[y]\n",
       "[z]\n",
       "])"
      ]
     },
     "execution_count": 13,
     "metadata": {},
     "output_type": "execute_result"
    }
   ],
   "source": [
    "# simple random vector\n",
    "Matrix.create_unk_matrix(3, 1)"
   ]
  },
  {
   "cell_type": "code",
   "execution_count": 14,
   "id": "95b85858",
   "metadata": {},
   "outputs": [
    {
     "data": {
      "text/latex": [
       "$\\displaystyle \\left[\\begin{array}{c}\\alpha\\\\\\beta\\\\\\gamma\\end{array}\\right]$"
      ],
      "text/plain": [
       "Matrix([\n",
       "[alpha]\n",
       "[ beta]\n",
       "[gamma]\n",
       "])"
      ]
     },
     "execution_count": 14,
     "metadata": {},
     "output_type": "execute_result"
    }
   ],
   "source": [
    "# To use custom symbols, the most straightforward way is\n",
    "# to use sympy's symbols function\n",
    "alpha, beta, gamma = sym.symbols(\"alpha beta gamma\")\n",
    "x = Matrix([alpha, beta, gamma])\n",
    "x"
   ]
  },
  {
   "cell_type": "code",
   "execution_count": 15,
   "id": "f02c16df",
   "metadata": {},
   "outputs": [
    {
     "data": {
      "text/latex": [
       "$\\displaystyle \\left[\\begin{array}{c}\\frac{\\alpha}{3} + \\frac{\\beta}{3} + \\frac{\\gamma}{3}\\\\\\frac{\\alpha}{3} + \\frac{\\beta}{3} + \\frac{\\gamma}{3}\\\\\\frac{\\alpha}{3} + \\frac{\\beta}{3} + \\frac{\\gamma}{3}\\end{array}\\right]$"
      ],
      "text/plain": [
       "Matrix([\n",
       "[alpha/3 + beta/3 + gamma/3]\n",
       "[alpha/3 + beta/3 + gamma/3]\n",
       "[alpha/3 + beta/3 + gamma/3]\n",
       "])"
      ]
     },
     "execution_count": 15,
     "metadata": {},
     "output_type": "execute_result"
    }
   ],
   "source": [
    "PDP.P @ D_inf @ PDP.P.inv() @ x"
   ]
  },
  {
   "cell_type": "markdown",
   "id": "c1be5476",
   "metadata": {},
   "source": [
    "## Question 2\n",
    "\n",
    "By diagonalizing $\\mathbf{A} = \\begin{pmatrix} 1 & 0 & 3 \\\\ 0 & 4 & 0 \\\\ 0 & 0 & 4 \\end{pmatrix}$, find a matrix $\\mathbf{B}$ such that $\\mathbf{B}^2 = \\mathbf{A}$."
   ]
  },
  {
   "cell_type": "code",
   "execution_count": 16,
   "id": "40397f7b",
   "metadata": {},
   "outputs": [
    {
     "data": {
      "text/latex": [
       "$\\displaystyle \\left[\\begin{array}{ccc}1 & 0 & 3\\\\0 & 4 & 0\\\\0 & 0 & 4\\end{array}\\right]$"
      ],
      "text/plain": [
       "Matrix([\n",
       "[1, 0, 3]\n",
       "[0, 4, 0]\n",
       "[0, 0, 4]\n",
       "])"
      ]
     },
     "execution_count": 16,
     "metadata": {},
     "output_type": "execute_result"
    }
   ],
   "source": [
    "A = Matrix.from_str(\"1 0 3; 0 4 0; 0 0 4\")\n",
    "A"
   ]
  },
  {
   "cell_type": "code",
   "execution_count": 17,
   "id": "1b0e7b25",
   "metadata": {},
   "outputs": [
    {
     "name": "stdout",
     "output_type": "stream",
     "text": [
      "Characteristic Polynomial\n"
     ]
    },
    {
     "data": {
      "text/latex": [
       "$\\displaystyle \\left(x - 4\\right)^{2} \\left(x - 1\\right)$"
      ],
      "text/plain": [
       "       2        \n",
       "(x - 4) ⋅(x - 1)"
      ]
     },
     "metadata": {},
     "output_type": "display_data"
    },
    {
     "data": {
      "text/latex": [
       "$\\displaystyle \\text{Before RREF: }1\\mathbb{I} - \\mathrm{self}$"
      ],
      "text/plain": [
       "<IPython.core.display.Math object>"
      ]
     },
     "metadata": {},
     "output_type": "display_data"
    },
    {
     "data": {
      "text/latex": [
       "$\\displaystyle \\left[\\begin{array}{ccc}0 & 0 & -3\\\\0 & -3 & 0\\\\0 & 0 & -3\\end{array}\\right]$"
      ],
      "text/plain": [
       "Matrix([\n",
       "[0,  0, -3]\n",
       "[0, -3,  0]\n",
       "[0,  0, -3]\n",
       "])"
      ]
     },
     "metadata": {},
     "output_type": "display_data"
    },
    {
     "name": "stdout",
     "output_type": "stream",
     "text": [
      "\n",
      "After RREF:\n"
     ]
    },
    {
     "data": {
      "text/latex": [
       "$\\text{RREF}\\left\\{\\text{rref} = \\left[\\begin{array}{ccc}0 & 1 & 0\\\\0 & 0 & 1\\\\0 & 0 & 0\\end{array}\\right], \\quad\\text{pivots} = (1, 2)\\right\\}$"
      ],
      "text/plain": [
       "RREF(rref=Matrix([\n",
       "[0, 1, 0]\n",
       "[0, 0, 1]\n",
       "[0, 0, 0]\n",
       "]), pivots=(1, 2))"
      ]
     },
     "metadata": {},
     "output_type": "display_data"
    },
    {
     "name": "stdout",
     "output_type": "stream",
     "text": [
      "\n",
      "Eigenvectors:\n"
     ]
    },
    {
     "data": {
      "text/latex": [
       "$\\displaystyle \\left[ \\left[\\begin{matrix}1\\\\0\\\\0\\end{matrix}\\right]\\right]$"
      ],
      "text/plain": [
       "⎡⎡1⎤⎤\n",
       "⎢⎢ ⎥⎥\n",
       "⎢⎢0⎥⎥\n",
       "⎢⎢ ⎥⎥\n",
       "⎣⎣0⎦⎦"
      ]
     },
     "metadata": {},
     "output_type": "display_data"
    },
    {
     "name": "stdout",
     "output_type": "stream",
     "text": [
      "\n",
      "\n"
     ]
    },
    {
     "data": {
      "text/latex": [
       "$\\displaystyle \\text{Before RREF: }4\\mathbb{I} - \\mathrm{self}$"
      ],
      "text/plain": [
       "<IPython.core.display.Math object>"
      ]
     },
     "metadata": {},
     "output_type": "display_data"
    },
    {
     "data": {
      "text/latex": [
       "$\\displaystyle \\left[\\begin{array}{ccc}3 & 0 & -3\\\\0 & 0 & 0\\\\0 & 0 & 0\\end{array}\\right]$"
      ],
      "text/plain": [
       "Matrix([\n",
       "[3, 0, -3]\n",
       "[0, 0,  0]\n",
       "[0, 0,  0]\n",
       "])"
      ]
     },
     "metadata": {},
     "output_type": "display_data"
    },
    {
     "name": "stdout",
     "output_type": "stream",
     "text": [
      "\n",
      "After RREF:\n"
     ]
    },
    {
     "data": {
      "text/latex": [
       "$\\text{RREF}\\left\\{\\text{rref} = \\left[\\begin{array}{ccc}1 & 0 & -1\\\\0 & 0 & 0\\\\0 & 0 & 0\\end{array}\\right], \\quad\\text{pivots} = (0,)\\right\\}$"
      ],
      "text/plain": [
       "RREF(rref=Matrix([\n",
       "[1, 0, -1]\n",
       "[0, 0,  0]\n",
       "[0, 0,  0]\n",
       "]), pivots=(0,))"
      ]
     },
     "metadata": {},
     "output_type": "display_data"
    },
    {
     "name": "stdout",
     "output_type": "stream",
     "text": [
      "\n",
      "Eigenvectors:\n"
     ]
    },
    {
     "data": {
      "text/latex": [
       "$\\displaystyle \\left[ \\left[\\begin{matrix}0\\\\1\\\\0\\end{matrix}\\right], \\  \\left[\\begin{matrix}1\\\\0\\\\1\\end{matrix}\\right]\\right]$"
      ],
      "text/plain": [
       "⎡⎡0⎤  ⎡1⎤⎤\n",
       "⎢⎢ ⎥  ⎢ ⎥⎥\n",
       "⎢⎢1⎥, ⎢0⎥⎥\n",
       "⎢⎢ ⎥  ⎢ ⎥⎥\n",
       "⎣⎣0⎦  ⎣1⎦⎦"
      ]
     },
     "metadata": {},
     "output_type": "display_data"
    },
    {
     "name": "stdout",
     "output_type": "stream",
     "text": [
      "\n",
      "\n"
     ]
    },
    {
     "data": {
      "text/latex": [
       "$\\left[\\begin{array}{ccc}1 & 0 & 1\\\\0 & 1 & 0\\\\0 & 0 & 1\\end{array}\\right]\\left[\\begin{array}{ccc}1 & 0 & 0\\\\0 & 4 & 0\\\\0 & 0 & 4\\end{array}\\right]\\left[\\begin{matrix}1 & 0 & -1\\\\0 & 1 & 0\\\\0 & 0 & 1\\end{matrix}\\right]$"
      ],
      "text/plain": [
       "PDP(P=Matrix([\n",
       "[1, 0, 1]\n",
       "[0, 1, 0]\n",
       "[0, 0, 1]\n",
       "]), D=Matrix([\n",
       "[1, 0, 0]\n",
       "[0, 4, 0]\n",
       "[0, 0, 4]\n",
       "]))"
      ]
     },
     "execution_count": 17,
     "metadata": {},
     "output_type": "execute_result"
    }
   ],
   "source": [
    "PDP = A.diagonalize(reals_only=True, verbosity=1)\n",
    "PDP"
   ]
  },
  {
   "cell_type": "code",
   "execution_count": 18,
   "id": "168da361",
   "metadata": {},
   "outputs": [
    {
     "data": {
      "text/latex": [
       "$\\displaystyle \\left[\\begin{matrix}1 & 0 & 1\\\\0 & 2 & 0\\\\0 & 0 & 2\\end{matrix}\\right]$"
      ],
      "text/plain": [
       "⎡1  0  1⎤\n",
       "⎢       ⎥\n",
       "⎢0  2  0⎥\n",
       "⎢       ⎥\n",
       "⎣0  0  2⎦"
      ]
     },
     "execution_count": 18,
     "metadata": {},
     "output_type": "execute_result"
    }
   ],
   "source": [
    "# Therefore, A = B**2 --> B = PDP.P @ PDP.D**0.5 @ PDP.P.inv()\n",
    "# Note: sym.sqrt only produces the principal square root\n",
    "B = PDP.P @ sym.sqrt(PDP.D) @ PDP.P.inv() \n",
    "B"
   ]
  },
  {
   "cell_type": "markdown",
   "id": "070e4ca4",
   "metadata": {},
   "source": [
    "## Problem 3\n",
    "\n",
    "For each of the following symmetric matrices $\\mathbf{A}$, find an orthogonal matrix $\\mathbf{P}$ that orthogonally diagonalizes $\\mathbf{A}$.\n",
    "\n",
    "### (a)\n",
    "\n",
    "$\\mathbf{A} = \\begin{pmatrix} 3 & 1 \\\\ 1 & 3 \\end{pmatrix}$"
   ]
  },
  {
   "cell_type": "code",
   "execution_count": 19,
   "id": "c0e7bcd0",
   "metadata": {},
   "outputs": [
    {
     "data": {
      "text/latex": [
       "$\\displaystyle \\left[\\begin{array}{cc}3 & 1\\\\1 & 3\\end{array}\\right]$"
      ],
      "text/plain": [
       "Matrix([\n",
       "[3, 1]\n",
       "[1, 3]\n",
       "])"
      ]
     },
     "execution_count": 19,
     "metadata": {},
     "output_type": "execute_result"
    }
   ],
   "source": [
    "A = Matrix.from_str(\"3 1; 1 3\")\n",
    "A"
   ]
  },
  {
   "cell_type": "code",
   "execution_count": 20,
   "id": "91b22e16",
   "metadata": {},
   "outputs": [
    {
     "name": "stdout",
     "output_type": "stream",
     "text": [
      "Check if matrix is symmetric: True\n",
      "Characteristic Polynomial\n"
     ]
    },
    {
     "data": {
      "text/latex": [
       "$\\displaystyle \\left(x - 4\\right) \\left(x - 2\\right)$"
      ],
      "text/plain": [
       "(x - 4)⋅(x - 2)"
      ]
     },
     "metadata": {},
     "output_type": "display_data"
    },
    {
     "data": {
      "text/latex": [
       "$\\displaystyle \\text{Before RREF: }4\\mathbb{I} - \\mathrm{self}$"
      ],
      "text/plain": [
       "<IPython.core.display.Math object>"
      ]
     },
     "metadata": {},
     "output_type": "display_data"
    },
    {
     "data": {
      "text/latex": [
       "$\\displaystyle \\left[\\begin{array}{cc}1 & -1\\\\-1 & 1\\end{array}\\right]$"
      ],
      "text/plain": [
       "Matrix([\n",
       "[ 1, -1]\n",
       "[-1,  1]\n",
       "])"
      ]
     },
     "metadata": {},
     "output_type": "display_data"
    },
    {
     "name": "stdout",
     "output_type": "stream",
     "text": [
      "\n",
      "After RREF:\n"
     ]
    },
    {
     "data": {
      "text/latex": [
       "$\\text{RREF}\\left\\{\\text{rref} = \\left[\\begin{array}{cc}1 & -1\\\\0 & 0\\end{array}\\right], \\quad\\text{pivots} = (0,)\\right\\}$"
      ],
      "text/plain": [
       "RREF(rref=Matrix([\n",
       "[1, -1]\n",
       "[0,  0]\n",
       "]), pivots=(0,))"
      ]
     },
     "metadata": {},
     "output_type": "display_data"
    },
    {
     "name": "stdout",
     "output_type": "stream",
     "text": [
      "\n",
      "Eigenvectors:\n"
     ]
    },
    {
     "data": {
      "text/latex": [
       "$\\displaystyle \\left[ \\left[\\begin{matrix}1\\\\1\\end{matrix}\\right]\\right]$"
      ],
      "text/plain": [
       "⎡⎡1⎤⎤\n",
       "⎢⎢ ⎥⎥\n",
       "⎣⎣1⎦⎦"
      ]
     },
     "metadata": {},
     "output_type": "display_data"
    },
    {
     "name": "stdout",
     "output_type": "stream",
     "text": [
      "\n",
      "\n"
     ]
    },
    {
     "data": {
      "text/latex": [
       "$\\displaystyle \\text{Before RREF: }2\\mathbb{I} - \\mathrm{self}$"
      ],
      "text/plain": [
       "<IPython.core.display.Math object>"
      ]
     },
     "metadata": {},
     "output_type": "display_data"
    },
    {
     "data": {
      "text/latex": [
       "$\\displaystyle \\left[\\begin{array}{cc}-1 & -1\\\\-1 & -1\\end{array}\\right]$"
      ],
      "text/plain": [
       "Matrix([\n",
       "[-1, -1]\n",
       "[-1, -1]\n",
       "])"
      ]
     },
     "metadata": {},
     "output_type": "display_data"
    },
    {
     "name": "stdout",
     "output_type": "stream",
     "text": [
      "\n",
      "After RREF:\n"
     ]
    },
    {
     "data": {
      "text/latex": [
       "$\\text{RREF}\\left\\{\\text{rref} = \\left[\\begin{array}{cc}1 & 1\\\\0 & 0\\end{array}\\right], \\quad\\text{pivots} = (0,)\\right\\}$"
      ],
      "text/plain": [
       "RREF(rref=Matrix([\n",
       "[1, 1]\n",
       "[0, 0]\n",
       "]), pivots=(0,))"
      ]
     },
     "metadata": {},
     "output_type": "display_data"
    },
    {
     "name": "stdout",
     "output_type": "stream",
     "text": [
      "\n",
      "Eigenvectors:\n"
     ]
    },
    {
     "data": {
      "text/latex": [
       "$\\displaystyle \\left[ \\left[\\begin{matrix}-1\\\\1\\end{matrix}\\right]\\right]$"
      ],
      "text/plain": [
       "⎡⎡-1⎤⎤\n",
       "⎢⎢  ⎥⎥\n",
       "⎣⎣1 ⎦⎦"
      ]
     },
     "metadata": {},
     "output_type": "display_data"
    },
    {
     "name": "stdout",
     "output_type": "stream",
     "text": [
      "\n",
      "\n"
     ]
    },
    {
     "data": {
      "text/latex": [
       "$\\left[\\begin{array}{cc}- \\frac{\\sqrt{2}}{2} & \\frac{\\sqrt{2}}{2}\\\\\\frac{\\sqrt{2}}{2} & \\frac{\\sqrt{2}}{2}\\end{array}\\right]\\left[\\begin{array}{cc}2 & 0\\\\0 & 4\\end{array}\\right]\\left[\\begin{matrix}- \\frac{\\sqrt{2}}{2} & \\frac{\\sqrt{2}}{2}\\\\\\frac{\\sqrt{2}}{2} & \\frac{\\sqrt{2}}{2}\\end{matrix}\\right]$"
      ],
      "text/plain": [
       "PDP(P=Matrix([\n",
       "[-sqrt(2)/2, sqrt(2)/2]\n",
       "[ sqrt(2)/2, sqrt(2)/2]\n",
       "]), D=Matrix([\n",
       "[2, 0]\n",
       "[0, 4]\n",
       "]))"
      ]
     },
     "execution_count": 20,
     "metadata": {},
     "output_type": "execute_result"
    }
   ],
   "source": [
    "A.orthogonally_diagonalize(verbosity=1)"
   ]
  },
  {
   "cell_type": "markdown",
   "id": "a8d179ca",
   "metadata": {},
   "source": [
    "### (b)\n",
    "\n",
    "$\\mathbf{A} = \\begin{pmatrix} 2 & 2 & -2 \\\\ 2 & -1 & 4 \\\\ -2 & 4 & -1 \\end{pmatrix}$"
   ]
  },
  {
   "cell_type": "code",
   "execution_count": 21,
   "id": "f1903429",
   "metadata": {},
   "outputs": [
    {
     "data": {
      "text/latex": [
       "$\\displaystyle \\left[\\begin{array}{ccc}2 & 2 & -2\\\\2 & -1 & 4\\\\-2 & 4 & -1\\end{array}\\right]$"
      ],
      "text/plain": [
       "Matrix([\n",
       "[ 2,  2, -2]\n",
       "[ 2, -1,  4]\n",
       "[-2,  4, -1]\n",
       "])"
      ]
     },
     "execution_count": 21,
     "metadata": {},
     "output_type": "execute_result"
    }
   ],
   "source": [
    "A = Matrix.from_str(\"2 2 -2; 2 -1 4; -2 4 -1\")\n",
    "A"
   ]
  },
  {
   "cell_type": "code",
   "execution_count": 27,
   "id": "d6801df2",
   "metadata": {},
   "outputs": [
    {
     "name": "stdout",
     "output_type": "stream",
     "text": [
      "Check if matrix is symmetric: True\n",
      "Characteristic Polynomial\n"
     ]
    },
    {
     "data": {
      "text/latex": [
       "$\\displaystyle \\left(x - 3\\right)^{2} \\left(x + 6\\right)$"
      ],
      "text/plain": [
       "       2        \n",
       "(x - 3) ⋅(x + 6)"
      ]
     },
     "metadata": {},
     "output_type": "display_data"
    },
    {
     "data": {
      "text/latex": [
       "$\\displaystyle \\text{Before RREF: }-6\\mathbb{I} - \\mathrm{self}$"
      ],
      "text/plain": [
       "<IPython.core.display.Math object>"
      ]
     },
     "metadata": {},
     "output_type": "display_data"
    },
    {
     "data": {
      "text/latex": [
       "$\\displaystyle \\left[\\begin{array}{ccc}-8 & -2 & 2\\\\-2 & -5 & -4\\\\2 & -4 & -5\\end{array}\\right]$"
      ],
      "text/plain": [
       "Matrix([\n",
       "[-8, -2,  2]\n",
       "[-2, -5, -4]\n",
       "[ 2, -4, -5]\n",
       "])"
      ]
     },
     "metadata": {},
     "output_type": "display_data"
    },
    {
     "name": "stdout",
     "output_type": "stream",
     "text": [
      "\n",
      "After RREF:\n"
     ]
    },
    {
     "data": {
      "text/latex": [
       "$\\text{RREF}\\left\\{\\text{rref} = \\left[\\begin{array}{ccc}1 & 0 & - \\frac{1}{2}\\\\0 & 1 & 1\\\\0 & 0 & 0\\end{array}\\right], \\quad\\text{pivots} = (0, 1)\\right\\}$"
      ],
      "text/plain": [
       "RREF(rref=Matrix([\n",
       "[1, 0, -1/2]\n",
       "[0, 1,    1]\n",
       "[0, 0,    0]\n",
       "]), pivots=(0, 1))"
      ]
     },
     "metadata": {},
     "output_type": "display_data"
    },
    {
     "name": "stdout",
     "output_type": "stream",
     "text": [
      "\n",
      "Eigenvectors:\n"
     ]
    },
    {
     "data": {
      "text/latex": [
       "$\\displaystyle \\left[ \\left[\\begin{matrix}\\frac{1}{2}\\\\-1\\\\1\\end{matrix}\\right]\\right]$"
      ],
      "text/plain": [
       "⎡⎡1/2⎤⎤\n",
       "⎢⎢   ⎥⎥\n",
       "⎢⎢-1 ⎥⎥\n",
       "⎢⎢   ⎥⎥\n",
       "⎣⎣ 1 ⎦⎦"
      ]
     },
     "metadata": {},
     "output_type": "display_data"
    },
    {
     "name": "stdout",
     "output_type": "stream",
     "text": [
      "\n",
      "\n"
     ]
    },
    {
     "data": {
      "text/latex": [
       "$\\displaystyle \\text{Before RREF: }3\\mathbb{I} - \\mathrm{self}$"
      ],
      "text/plain": [
       "<IPython.core.display.Math object>"
      ]
     },
     "metadata": {},
     "output_type": "display_data"
    },
    {
     "data": {
      "text/latex": [
       "$\\displaystyle \\left[\\begin{array}{ccc}1 & -2 & 2\\\\-2 & 4 & -4\\\\2 & -4 & 4\\end{array}\\right]$"
      ],
      "text/plain": [
       "Matrix([\n",
       "[ 1, -2,  2]\n",
       "[-2,  4, -4]\n",
       "[ 2, -4,  4]\n",
       "])"
      ]
     },
     "metadata": {},
     "output_type": "display_data"
    },
    {
     "name": "stdout",
     "output_type": "stream",
     "text": [
      "\n",
      "After RREF:\n"
     ]
    },
    {
     "data": {
      "text/latex": [
       "$\\text{RREF}\\left\\{\\text{rref} = \\left[\\begin{array}{ccc}1 & -2 & 2\\\\0 & 0 & 0\\\\0 & 0 & 0\\end{array}\\right], \\quad\\text{pivots} = (0,)\\right\\}$"
      ],
      "text/plain": [
       "RREF(rref=Matrix([\n",
       "[1, -2, 2]\n",
       "[0,  0, 0]\n",
       "[0,  0, 0]\n",
       "]), pivots=(0,))"
      ]
     },
     "metadata": {},
     "output_type": "display_data"
    },
    {
     "name": "stdout",
     "output_type": "stream",
     "text": [
      "\n",
      "Eigenvectors:\n"
     ]
    },
    {
     "data": {
      "text/latex": [
       "$\\displaystyle \\left[ \\left[\\begin{matrix}2\\\\1\\\\0\\end{matrix}\\right], \\  \\left[\\begin{matrix}-2\\\\0\\\\1\\end{matrix}\\right]\\right]$"
      ],
      "text/plain": [
       "⎡⎡2⎤  ⎡-2⎤⎤\n",
       "⎢⎢ ⎥  ⎢  ⎥⎥\n",
       "⎢⎢1⎥, ⎢0 ⎥⎥\n",
       "⎢⎢ ⎥  ⎢  ⎥⎥\n",
       "⎣⎣0⎦  ⎣1 ⎦⎦"
      ]
     },
     "metadata": {},
     "output_type": "display_data"
    },
    {
     "name": "stdout",
     "output_type": "stream",
     "text": [
      "\n",
      "\n",
      "Eigenvalue:  3\n",
      "[Gram Schmidt Process]\n"
     ]
    },
    {
     "data": {
      "text/latex": [
       "$\\displaystyle v_1 = \\left[\\begin{array}{c}2\\\\1\\\\0\\end{array}\\right]$"
      ],
      "text/plain": [
       "<IPython.core.display.Math object>"
      ]
     },
     "metadata": {},
     "output_type": "display_data"
    },
    {
     "data": {
      "text/latex": [
       "$\\displaystyle v_2 = \\left[\\begin{array}{c}-2\\\\0\\\\1\\end{array}\\right]- \\left(\\frac{-4}{5}\\right) \\left[\\begin{array}{c}2\\\\1\\\\0\\end{array}\\right] = \\left(\\frac{1}{5}\\right) \\left[\\begin{matrix}-2\\\\4\\\\5\\end{matrix}\\right]$"
      ],
      "text/plain": [
       "<IPython.core.display.Math object>"
      ]
     },
     "metadata": {},
     "output_type": "display_data"
    },
    {
     "data": {
      "text/latex": [
       "$\\left[\\begin{array}{ccc}\\frac{1}{3} & \\frac{2 \\sqrt{5}}{5} & - \\frac{2 \\sqrt{5}}{15}\\\\- \\frac{2}{3} & \\frac{\\sqrt{5}}{5} & \\frac{4 \\sqrt{5}}{15}\\\\\\frac{2}{3} & 0 & \\frac{\\sqrt{5}}{3}\\end{array}\\right]\\left[\\begin{array}{ccc}-6 & 0 & 0\\\\0 & 3 & 0\\\\0 & 0 & 3\\end{array}\\right]\\left[\\begin{matrix}\\frac{1}{3} & - \\frac{2}{3} & \\frac{2}{3}\\\\\\frac{2 \\sqrt{5}}{5} & \\frac{\\sqrt{5}}{5} & 0\\\\- \\frac{2 \\sqrt{5}}{15} & \\frac{4 \\sqrt{5}}{15} & \\frac{\\sqrt{5}}{3}\\end{matrix}\\right]$"
      ],
      "text/plain": [
       "PDP(P=Matrix([\n",
       "[ 1/3, 2*sqrt(5)/5, -2*sqrt(5)/15]\n",
       "[-2/3,   sqrt(5)/5,  4*sqrt(5)/15]\n",
       "[ 2/3,           0,     sqrt(5)/3]\n",
       "]), D=Matrix([\n",
       "[-6, 0, 0]\n",
       "[ 0, 3, 0]\n",
       "[ 0, 0, 3]\n",
       "]))"
      ]
     },
     "execution_count": 27,
     "metadata": {},
     "output_type": "execute_result"
    }
   ],
   "source": [
    "PDPT = A.orthogonally_diagonalize(verbosity=1)\n",
    "PDPT"
   ]
  },
  {
   "cell_type": "markdown",
   "id": "1e08d6ef",
   "metadata": {},
   "source": [
    "## Question 4\n",
    "\n",
    "Let $\\mathbf{A} = \\begin{pmatrix} 1 & -2 & 0 & 0 \\\\ -2 & 1 & 0 & 0 \\\\ 0 & 0 & 1 & -2 \\\\ 0 & 0 & -2 & 1 \\end{pmatrix}$.\n",
    "\n",
    "### (a)\n",
    "\n",
    "Find an orthogonal matrix $\\mathbf{P}$ that orthogonally diagonalizes $\\mathbf{A}$, and compute $\\mathbf{P}^T \\mathbf{A} \\mathbf{P}$."
   ]
  },
  {
   "cell_type": "code",
   "execution_count": 28,
   "id": "e62cb037",
   "metadata": {},
   "outputs": [
    {
     "data": {
      "text/latex": [
       "$\\displaystyle \\left[\\begin{array}{cccc}1 & -2 & 0 & 0\\\\-2 & 1 & 0 & 0\\\\0 & 0 & 1 & -2\\\\0 & 0 & -2 & 1\\end{array}\\right]$"
      ],
      "text/plain": [
       "Matrix([\n",
       "[ 1, -2,  0,  0]\n",
       "[-2,  1,  0,  0]\n",
       "[ 0,  0,  1, -2]\n",
       "[ 0,  0, -2,  1]\n",
       "])"
      ]
     },
     "execution_count": 28,
     "metadata": {},
     "output_type": "execute_result"
    }
   ],
   "source": [
    "A = Matrix.from_str(\"1 -2 0 0; -2 1 0 0; 0 0 1 -2; 0 0 -2 1\")\n",
    "A"
   ]
  },
  {
   "cell_type": "code",
   "execution_count": 29,
   "id": "5f51c3dd",
   "metadata": {},
   "outputs": [
    {
     "name": "stdout",
     "output_type": "stream",
     "text": [
      "Check if matrix is symmetric: True\n",
      "Characteristic Polynomial\n"
     ]
    },
    {
     "data": {
      "text/latex": [
       "$\\displaystyle \\left(x - 3\\right)^{2} \\left(x + 1\\right)^{2}$"
      ],
      "text/plain": [
       "       2        2\n",
       "(x - 3) ⋅(x + 1) "
      ]
     },
     "metadata": {},
     "output_type": "display_data"
    },
    {
     "data": {
      "text/latex": [
       "$\\displaystyle \\text{Before RREF: }3\\mathbb{I} - \\mathrm{self}$"
      ],
      "text/plain": [
       "<IPython.core.display.Math object>"
      ]
     },
     "metadata": {},
     "output_type": "display_data"
    },
    {
     "data": {
      "text/latex": [
       "$\\displaystyle \\left[\\begin{array}{cccc}2 & 2 & 0 & 0\\\\2 & 2 & 0 & 0\\\\0 & 0 & 2 & 2\\\\0 & 0 & 2 & 2\\end{array}\\right]$"
      ],
      "text/plain": [
       "Matrix([\n",
       "[2, 2, 0, 0]\n",
       "[2, 2, 0, 0]\n",
       "[0, 0, 2, 2]\n",
       "[0, 0, 2, 2]\n",
       "])"
      ]
     },
     "metadata": {},
     "output_type": "display_data"
    },
    {
     "name": "stdout",
     "output_type": "stream",
     "text": [
      "\n",
      "After RREF:\n"
     ]
    },
    {
     "data": {
      "text/latex": [
       "$\\text{RREF}\\left\\{\\text{rref} = \\left[\\begin{array}{cccc}1 & 1 & 0 & 0\\\\0 & 0 & 1 & 1\\\\0 & 0 & 0 & 0\\\\0 & 0 & 0 & 0\\end{array}\\right], \\quad\\text{pivots} = (0, 2)\\right\\}$"
      ],
      "text/plain": [
       "RREF(rref=Matrix([\n",
       "[1, 1, 0, 0]\n",
       "[0, 0, 1, 1]\n",
       "[0, 0, 0, 0]\n",
       "[0, 0, 0, 0]\n",
       "]), pivots=(0, 2))"
      ]
     },
     "metadata": {},
     "output_type": "display_data"
    },
    {
     "name": "stdout",
     "output_type": "stream",
     "text": [
      "\n",
      "Eigenvectors:\n"
     ]
    },
    {
     "data": {
      "text/latex": [
       "$\\displaystyle \\left[ \\left[\\begin{matrix}-1\\\\1\\\\0\\\\0\\end{matrix}\\right], \\  \\left[\\begin{matrix}0\\\\0\\\\-1\\\\1\\end{matrix}\\right]\\right]$"
      ],
      "text/plain": [
       "⎡⎡-1⎤  ⎡0 ⎤⎤\n",
       "⎢⎢  ⎥  ⎢  ⎥⎥\n",
       "⎢⎢1 ⎥  ⎢0 ⎥⎥\n",
       "⎢⎢  ⎥, ⎢  ⎥⎥\n",
       "⎢⎢0 ⎥  ⎢-1⎥⎥\n",
       "⎢⎢  ⎥  ⎢  ⎥⎥\n",
       "⎣⎣0 ⎦  ⎣1 ⎦⎦"
      ]
     },
     "metadata": {},
     "output_type": "display_data"
    },
    {
     "name": "stdout",
     "output_type": "stream",
     "text": [
      "\n",
      "\n"
     ]
    },
    {
     "data": {
      "text/latex": [
       "$\\displaystyle \\text{Before RREF: }-1\\mathbb{I} - \\mathrm{self}$"
      ],
      "text/plain": [
       "<IPython.core.display.Math object>"
      ]
     },
     "metadata": {},
     "output_type": "display_data"
    },
    {
     "data": {
      "text/latex": [
       "$\\displaystyle \\left[\\begin{array}{cccc}-2 & 2 & 0 & 0\\\\2 & -2 & 0 & 0\\\\0 & 0 & -2 & 2\\\\0 & 0 & 2 & -2\\end{array}\\right]$"
      ],
      "text/plain": [
       "Matrix([\n",
       "[-2,  2,  0,  0]\n",
       "[ 2, -2,  0,  0]\n",
       "[ 0,  0, -2,  2]\n",
       "[ 0,  0,  2, -2]\n",
       "])"
      ]
     },
     "metadata": {},
     "output_type": "display_data"
    },
    {
     "name": "stdout",
     "output_type": "stream",
     "text": [
      "\n",
      "After RREF:\n"
     ]
    },
    {
     "data": {
      "text/latex": [
       "$\\text{RREF}\\left\\{\\text{rref} = \\left[\\begin{array}{cccc}1 & -1 & 0 & 0\\\\0 & 0 & 1 & -1\\\\0 & 0 & 0 & 0\\\\0 & 0 & 0 & 0\\end{array}\\right], \\quad\\text{pivots} = (0, 2)\\right\\}$"
      ],
      "text/plain": [
       "RREF(rref=Matrix([\n",
       "[1, -1, 0,  0]\n",
       "[0,  0, 1, -1]\n",
       "[0,  0, 0,  0]\n",
       "[0,  0, 0,  0]\n",
       "]), pivots=(0, 2))"
      ]
     },
     "metadata": {},
     "output_type": "display_data"
    },
    {
     "name": "stdout",
     "output_type": "stream",
     "text": [
      "\n",
      "Eigenvectors:\n"
     ]
    },
    {
     "data": {
      "text/latex": [
       "$\\displaystyle \\left[ \\left[\\begin{matrix}1\\\\1\\\\0\\\\0\\end{matrix}\\right], \\  \\left[\\begin{matrix}0\\\\0\\\\1\\\\1\\end{matrix}\\right]\\right]$"
      ],
      "text/plain": [
       "⎡⎡1⎤  ⎡0⎤⎤\n",
       "⎢⎢ ⎥  ⎢ ⎥⎥\n",
       "⎢⎢1⎥  ⎢0⎥⎥\n",
       "⎢⎢ ⎥, ⎢ ⎥⎥\n",
       "⎢⎢0⎥  ⎢1⎥⎥\n",
       "⎢⎢ ⎥  ⎢ ⎥⎥\n",
       "⎣⎣0⎦  ⎣1⎦⎦"
      ]
     },
     "metadata": {},
     "output_type": "display_data"
    },
    {
     "name": "stdout",
     "output_type": "stream",
     "text": [
      "\n",
      "\n",
      "Eigenvalue:  -1\n",
      "[Gram Schmidt Process]\n"
     ]
    },
    {
     "data": {
      "text/latex": [
       "$\\displaystyle v_1 = \\left[\\begin{array}{c}1\\\\1\\\\0\\\\0\\end{array}\\right]$"
      ],
      "text/plain": [
       "<IPython.core.display.Math object>"
      ]
     },
     "metadata": {},
     "output_type": "display_data"
    },
    {
     "data": {
      "text/latex": [
       "$\\displaystyle v_2 = \\left[\\begin{array}{c}0\\\\0\\\\1\\\\1\\end{array}\\right]- \\left(\\frac{0}{2}\\right) \\left[\\begin{array}{c}1\\\\1\\\\0\\\\0\\end{array}\\right] = 1 \\left[\\begin{matrix}0\\\\0\\\\1\\\\1\\end{matrix}\\right]$"
      ],
      "text/plain": [
       "<IPython.core.display.Math object>"
      ]
     },
     "metadata": {},
     "output_type": "display_data"
    },
    {
     "name": "stdout",
     "output_type": "stream",
     "text": [
      "Eigenvalue:  3\n",
      "[Gram Schmidt Process]\n"
     ]
    },
    {
     "data": {
      "text/latex": [
       "$\\displaystyle v_1 = \\left[\\begin{array}{c}-1\\\\1\\\\0\\\\0\\end{array}\\right]$"
      ],
      "text/plain": [
       "<IPython.core.display.Math object>"
      ]
     },
     "metadata": {},
     "output_type": "display_data"
    },
    {
     "data": {
      "text/latex": [
       "$\\displaystyle v_2 = \\left[\\begin{array}{c}0\\\\0\\\\-1\\\\1\\end{array}\\right]- \\left(\\frac{0}{2}\\right) \\left[\\begin{array}{c}-1\\\\1\\\\0\\\\0\\end{array}\\right] = 1 \\left[\\begin{matrix}0\\\\0\\\\-1\\\\1\\end{matrix}\\right]$"
      ],
      "text/plain": [
       "<IPython.core.display.Math object>"
      ]
     },
     "metadata": {},
     "output_type": "display_data"
    },
    {
     "data": {
      "text/latex": [
       "$\\left[\\begin{array}{cccc}\\frac{\\sqrt{2}}{2} & 0 & - \\frac{\\sqrt{2}}{2} & 0\\\\\\frac{\\sqrt{2}}{2} & 0 & \\frac{\\sqrt{2}}{2} & 0\\\\0 & \\frac{\\sqrt{2}}{2} & 0 & - \\frac{\\sqrt{2}}{2}\\\\0 & \\frac{\\sqrt{2}}{2} & 0 & \\frac{\\sqrt{2}}{2}\\end{array}\\right]\\left[\\begin{array}{cccc}-1 & 0 & 0 & 0\\\\0 & -1 & 0 & 0\\\\0 & 0 & 3 & 0\\\\0 & 0 & 0 & 3\\end{array}\\right]\\left[\\begin{matrix}\\frac{\\sqrt{2}}{2} & \\frac{\\sqrt{2}}{2} & 0 & 0\\\\0 & 0 & \\frac{\\sqrt{2}}{2} & \\frac{\\sqrt{2}}{2}\\\\- \\frac{\\sqrt{2}}{2} & \\frac{\\sqrt{2}}{2} & 0 & 0\\\\0 & 0 & - \\frac{\\sqrt{2}}{2} & \\frac{\\sqrt{2}}{2}\\end{matrix}\\right]$"
      ],
      "text/plain": [
       "PDP(P=Matrix([\n",
       "[sqrt(2)/2,         0, -sqrt(2)/2,          0]\n",
       "[sqrt(2)/2,         0,  sqrt(2)/2,          0]\n",
       "[        0, sqrt(2)/2,          0, -sqrt(2)/2]\n",
       "[        0, sqrt(2)/2,          0,  sqrt(2)/2]\n",
       "]), D=Matrix([\n",
       "[-1,  0, 0, 0]\n",
       "[ 0, -1, 0, 0]\n",
       "[ 0,  0, 3, 0]\n",
       "[ 0,  0, 0, 3]\n",
       "]))"
      ]
     },
     "execution_count": 29,
     "metadata": {},
     "output_type": "execute_result"
    }
   ],
   "source": [
    "PDPT = A.orthogonally_diagonalize(verbosity=1)\n",
    "PDPT"
   ]
  },
  {
   "cell_type": "markdown",
   "id": "6bfe659b",
   "metadata": {},
   "source": [
    "## Question 5\n",
    "\n",
    "Find the SVD of the following matrices $\\mathbf{A}$.\n",
    "\n",
    "### (a)\n",
    "\n",
    "$\\mathbf{A} = \\begin{pmatrix} 3 & 2 \\\\ 2 & 3 \\\\ 2 & -2 \\end{pmatrix}$"
   ]
  },
  {
   "cell_type": "code",
   "execution_count": 30,
   "id": "57577af4",
   "metadata": {},
   "outputs": [
    {
     "data": {
      "text/latex": [
       "$\\displaystyle \\left[\\begin{array}{cc}3 & 2\\\\2 & 3\\\\2 & -2\\end{array}\\right]$"
      ],
      "text/plain": [
       "Matrix([\n",
       "[3,  2]\n",
       "[2,  3]\n",
       "[2, -2]\n",
       "])"
      ]
     },
     "execution_count": 30,
     "metadata": {},
     "output_type": "execute_result"
    }
   ],
   "source": [
    "A = Matrix.from_str(\"3 2; 2 3; 2 -2\")\n",
    "A"
   ]
  },
  {
   "cell_type": "code",
   "execution_count": 33,
   "id": "c2ac0c08",
   "metadata": {},
   "outputs": [
    {
     "name": "stdout",
     "output_type": "stream",
     "text": [
      "A^T A\n"
     ]
    },
    {
     "data": {
      "text/latex": [
       "$\\displaystyle \\left[\\begin{array}{cc}17 & 8\\\\8 & 17\\end{array}\\right]$"
      ],
      "text/plain": [
       "Matrix([\n",
       "[17,  8]\n",
       "[ 8, 17]\n",
       "])"
      ]
     },
     "metadata": {},
     "output_type": "display_data"
    },
    {
     "name": "stdout",
     "output_type": "stream",
     "text": [
      "Check if matrix is symmetric: True\n",
      "Characteristic Polynomial\n"
     ]
    },
    {
     "data": {
      "text/latex": [
       "$\\displaystyle \\left(x - 25\\right) \\left(x - 9\\right)$"
      ],
      "text/plain": [
       "(x - 25)⋅(x - 9)"
      ]
     },
     "metadata": {},
     "output_type": "display_data"
    },
    {
     "data": {
      "text/latex": [
       "$\\displaystyle \\text{Before RREF: }25\\mathbb{I} - \\mathrm{self}$"
      ],
      "text/plain": [
       "<IPython.core.display.Math object>"
      ]
     },
     "metadata": {},
     "output_type": "display_data"
    },
    {
     "data": {
      "text/latex": [
       "$\\displaystyle \\left[\\begin{array}{cc}8 & -8\\\\-8 & 8\\end{array}\\right]$"
      ],
      "text/plain": [
       "Matrix([\n",
       "[ 8, -8]\n",
       "[-8,  8]\n",
       "])"
      ]
     },
     "metadata": {},
     "output_type": "display_data"
    },
    {
     "name": "stdout",
     "output_type": "stream",
     "text": [
      "\n",
      "After RREF:\n"
     ]
    },
    {
     "data": {
      "text/latex": [
       "$\\text{RREF}\\left\\{\\text{rref} = \\left[\\begin{array}{cc}1 & -1\\\\0 & 0\\end{array}\\right], \\quad\\text{pivots} = (0,)\\right\\}$"
      ],
      "text/plain": [
       "RREF(rref=Matrix([\n",
       "[1, -1]\n",
       "[0,  0]\n",
       "]), pivots=(0,))"
      ]
     },
     "metadata": {},
     "output_type": "display_data"
    },
    {
     "name": "stdout",
     "output_type": "stream",
     "text": [
      "\n",
      "Eigenvectors:\n"
     ]
    },
    {
     "data": {
      "text/latex": [
       "$\\displaystyle \\left[ \\left[\\begin{matrix}1\\\\1\\end{matrix}\\right]\\right]$"
      ],
      "text/plain": [
       "⎡⎡1⎤⎤\n",
       "⎢⎢ ⎥⎥\n",
       "⎣⎣1⎦⎦"
      ]
     },
     "metadata": {},
     "output_type": "display_data"
    },
    {
     "name": "stdout",
     "output_type": "stream",
     "text": [
      "\n",
      "\n"
     ]
    },
    {
     "data": {
      "text/latex": [
       "$\\displaystyle \\text{Before RREF: }9\\mathbb{I} - \\mathrm{self}$"
      ],
      "text/plain": [
       "<IPython.core.display.Math object>"
      ]
     },
     "metadata": {},
     "output_type": "display_data"
    },
    {
     "data": {
      "text/latex": [
       "$\\displaystyle \\left[\\begin{array}{cc}-8 & -8\\\\-8 & -8\\end{array}\\right]$"
      ],
      "text/plain": [
       "Matrix([\n",
       "[-8, -8]\n",
       "[-8, -8]\n",
       "])"
      ]
     },
     "metadata": {},
     "output_type": "display_data"
    },
    {
     "name": "stdout",
     "output_type": "stream",
     "text": [
      "\n",
      "After RREF:\n"
     ]
    },
    {
     "data": {
      "text/latex": [
       "$\\text{RREF}\\left\\{\\text{rref} = \\left[\\begin{array}{cc}1 & 1\\\\0 & 0\\end{array}\\right], \\quad\\text{pivots} = (0,)\\right\\}$"
      ],
      "text/plain": [
       "RREF(rref=Matrix([\n",
       "[1, 1]\n",
       "[0, 0]\n",
       "]), pivots=(0,))"
      ]
     },
     "metadata": {},
     "output_type": "display_data"
    },
    {
     "name": "stdout",
     "output_type": "stream",
     "text": [
      "\n",
      "Eigenvectors:\n"
     ]
    },
    {
     "data": {
      "text/latex": [
       "$\\displaystyle \\left[ \\left[\\begin{matrix}-1\\\\1\\end{matrix}\\right]\\right]$"
      ],
      "text/plain": [
       "⎡⎡-1⎤⎤\n",
       "⎢⎢  ⎥⎥\n",
       "⎣⎣1 ⎦⎦"
      ]
     },
     "metadata": {},
     "output_type": "display_data"
    },
    {
     "name": "stdout",
     "output_type": "stream",
     "text": [
      "\n",
      "\n"
     ]
    },
    {
     "data": {
      "text/latex": [
       "$\\displaystyle u_1 = (1/5)A\\left[\\begin{matrix}\\frac{\\sqrt{2}}{2}\\\\\\frac{\\sqrt{2}}{2}\\end{matrix}\\right] = \\left[\\begin{array}{c}\\frac{\\sqrt{2}}{2}\\\\\\frac{\\sqrt{2}}{2}\\\\0\\end{array}\\right]$"
      ],
      "text/plain": [
       "<IPython.core.display.Math object>"
      ]
     },
     "metadata": {},
     "output_type": "display_data"
    },
    {
     "data": {
      "text/latex": [
       "$\\displaystyle u_2 = (1/3)A\\left[\\begin{matrix}- \\frac{\\sqrt{2}}{2}\\\\\\frac{\\sqrt{2}}{2}\\end{matrix}\\right] = \\left[\\begin{array}{c}- \\frac{\\sqrt{2}}{6}\\\\\\frac{\\sqrt{2}}{6}\\\\- \\frac{2 \\sqrt{2}}{3}\\end{array}\\right]$"
      ],
      "text/plain": [
       "<IPython.core.display.Math object>"
      ]
     },
     "metadata": {},
     "output_type": "display_data"
    },
    {
     "name": "stdout",
     "output_type": "stream",
     "text": [
      "\n",
      "Extending U with its orthogonal complement.\n",
      "Before RREF: [self]\n"
     ]
    },
    {
     "data": {
      "text/latex": [
       "$\\displaystyle \\left[\\begin{matrix}\\frac{\\sqrt{2}}{2} & \\frac{\\sqrt{2}}{2} & 0\\\\- \\frac{\\sqrt{2}}{6} & \\frac{\\sqrt{2}}{6} & - \\frac{2 \\sqrt{2}}{3}\\end{matrix}\\right]$"
      ],
      "text/plain": [
       "Matrix([\n",
       "[ sqrt(2)/2, sqrt(2)/2,            0],\n",
       "[-sqrt(2)/6, sqrt(2)/6, -2*sqrt(2)/3]])"
      ]
     },
     "metadata": {},
     "output_type": "display_data"
    },
    {
     "name": "stdout",
     "output_type": "stream",
     "text": [
      "\n",
      "After RREF:\n"
     ]
    },
    {
     "data": {
      "text/latex": [
       "$\\text{RREF}\\left\\{\\text{rref} = \\left[\\begin{array}{ccc}1 & 0 & 2\\\\0 & 1 & -2\\end{array}\\right], \\quad\\text{pivots} = (0, 1)\\right\\}$"
      ],
      "text/plain": [
       "RREF(rref=Matrix([\n",
       "[1, 0,  2]\n",
       "[0, 1, -2]\n",
       "]), pivots=(0, 1))"
      ]
     },
     "metadata": {},
     "output_type": "display_data"
    },
    {
     "data": {
      "text/latex": [
       "$\\displaystyle v_1 = \\left[\\begin{array}{c}-2\\\\2\\\\1\\end{array}\\right]$"
      ],
      "text/plain": [
       "<IPython.core.display.Math object>"
      ]
     },
     "metadata": {},
     "output_type": "display_data"
    },
    {
     "data": {
      "text/latex": [
       "$\\left[\\begin{array}{ccc}\\frac{\\sqrt{2}}{2} & - \\frac{\\sqrt{2}}{6} & - \\frac{2}{3}\\\\\\frac{\\sqrt{2}}{2} & \\frac{\\sqrt{2}}{6} & \\frac{2}{3}\\\\0 & - \\frac{2 \\sqrt{2}}{3} & \\frac{1}{3}\\end{array}\\right]\\left[\\begin{array}{cc}5 & 0\\\\0 & 3\\\\0 & 0\\end{array}\\right]\\left[\\begin{array}{cc}\\frac{\\sqrt{2}}{2} & \\frac{\\sqrt{2}}{2}\\\\- \\frac{\\sqrt{2}}{2} & \\frac{\\sqrt{2}}{2}\\end{array}\\right]$"
      ],
      "text/plain": [
       "SVD(U=Matrix([\n",
       "[sqrt(2)/2,   -sqrt(2)/6, -2/3]\n",
       "[sqrt(2)/2,    sqrt(2)/6,  2/3]\n",
       "[        0, -2*sqrt(2)/3,  1/3]\n",
       "]), S=Matrix([\n",
       "[5, 0]\n",
       "[0, 3]\n",
       "[0, 0]\n",
       "]), V=Matrix([\n",
       "[sqrt(2)/2, -sqrt(2)/2]\n",
       "[sqrt(2)/2,  sqrt(2)/2]\n",
       "]))"
      ]
     },
     "execution_count": 33,
     "metadata": {},
     "output_type": "execute_result"
    }
   ],
   "source": [
    "svd = A.singular_value_decomposition(verbosity=1)\n",
    "svd"
   ]
  },
  {
   "cell_type": "markdown",
   "id": "ff085829",
   "metadata": {},
   "source": [
    "### (b)\n",
    "\n",
    "$\\mathbf{A} = \\begin{pmatrix} 3 & 2 & 2 \\\\ 2 & 3 & -2 \\end{pmatrix}$\n"
   ]
  },
  {
   "cell_type": "code",
   "execution_count": 34,
   "id": "a4faa85f",
   "metadata": {},
   "outputs": [],
   "source": [
    "# Import the SVD data class to represent the result of SVD\n",
    "from ma1522 import SVD "
   ]
  },
  {
   "cell_type": "code",
   "execution_count": 37,
   "id": "22faf103",
   "metadata": {},
   "outputs": [
    {
     "data": {
      "text/latex": [
       "$\\left[\\begin{array}{cc}\\frac{\\sqrt{2}}{2} & - \\frac{\\sqrt{2}}{2}\\\\\\frac{\\sqrt{2}}{2} & \\frac{\\sqrt{2}}{2}\\end{array}\\right]\\left[\\begin{array}{ccc}5 & 0 & 0\\\\0 & 3 & 0\\end{array}\\right]\\left[\\begin{array}{ccc}\\frac{\\sqrt{2}}{2} & \\frac{\\sqrt{2}}{2} & 0\\\\- \\frac{\\sqrt{2}}{6} & \\frac{\\sqrt{2}}{6} & - \\frac{2 \\sqrt{2}}{3}\\\\- \\frac{2}{3} & \\frac{2}{3} & \\frac{1}{3}\\end{array}\\right]$"
      ],
      "text/plain": [
       "SVD(U=Matrix([\n",
       "[sqrt(2)/2, -sqrt(2)/2]\n",
       "[sqrt(2)/2,  sqrt(2)/2]\n",
       "]), S=Matrix([\n",
       "[5, 0, 0]\n",
       "[0, 3, 0]\n",
       "]), V=Matrix([\n",
       "[sqrt(2)/2,   -sqrt(2)/6, -2/3]\n",
       "[sqrt(2)/2,    sqrt(2)/6,  2/3]\n",
       "[        0, -2*sqrt(2)/3,  1/3]\n",
       "]))"
      ]
     },
     "execution_count": 37,
     "metadata": {},
     "output_type": "execute_result"
    }
   ],
   "source": [
    "# A = U @ S @ V.T\n",
    "# A.T = V @ S.T @ U.T\n",
    "svdT = SVD(U=svd.V, S = svd.S.T, V=svd.U)\n",
    "svdT"
   ]
  },
  {
   "cell_type": "code",
   "execution_count": 38,
   "id": "71e79681",
   "metadata": {},
   "outputs": [
    {
     "data": {
      "text/latex": [
       "$\\displaystyle \\left[\\begin{matrix}3 & 2 & 2\\\\2 & 3 & -2\\end{matrix}\\right]$"
      ],
      "text/plain": [
       "Matrix([\n",
       "[3, 2,  2],\n",
       "[2, 3, -2]])"
      ]
     },
     "execution_count": 38,
     "metadata": {},
     "output_type": "execute_result"
    }
   ],
   "source": [
    "svdT.eval()"
   ]
  },
  {
   "cell_type": "markdown",
   "id": "45f38b0f",
   "metadata": {},
   "source": [
    "### (c)\n",
    "\n",
    "$\\mathbf{A} = \\begin{pmatrix} 1 & 0 & 1 \\\\ 0 & 1 & 1 \\\\ 1 & 1 & 2 \\end{pmatrix}$"
   ]
  },
  {
   "cell_type": "code",
   "execution_count": 39,
   "id": "995d720b",
   "metadata": {},
   "outputs": [
    {
     "data": {
      "text/latex": [
       "$\\displaystyle \\left[\\begin{array}{ccc}1 & 0 & 1\\\\0 & 1 & 1\\\\1 & 1 & 2\\end{array}\\right]$"
      ],
      "text/plain": [
       "Matrix([\n",
       "[1, 0, 1]\n",
       "[0, 1, 1]\n",
       "[1, 1, 2]\n",
       "])"
      ]
     },
     "execution_count": 39,
     "metadata": {},
     "output_type": "execute_result"
    }
   ],
   "source": [
    "A = Matrix.from_str(\"1 0 1; 0 1 1; 1 1 2\")\n",
    "A"
   ]
  },
  {
   "cell_type": "code",
   "execution_count": 40,
   "id": "07e4e090",
   "metadata": {},
   "outputs": [
    {
     "name": "stdout",
     "output_type": "stream",
     "text": [
      "A^T A\n"
     ]
    },
    {
     "data": {
      "text/latex": [
       "$\\displaystyle \\left[\\begin{array}{ccc}2 & 1 & 3\\\\1 & 2 & 3\\\\3 & 3 & 6\\end{array}\\right]$"
      ],
      "text/plain": [
       "Matrix([\n",
       "[2, 1, 3]\n",
       "[1, 2, 3]\n",
       "[3, 3, 6]\n",
       "])"
      ]
     },
     "metadata": {},
     "output_type": "display_data"
    },
    {
     "name": "stdout",
     "output_type": "stream",
     "text": [
      "Check if matrix is symmetric: True\n",
      "Characteristic Polynomial\n"
     ]
    },
    {
     "data": {
      "text/latex": [
       "$\\displaystyle x \\left(x - 9\\right) \\left(x - 1\\right)$"
      ],
      "text/plain": [
       "x⋅(x - 9)⋅(x - 1)"
      ]
     },
     "metadata": {},
     "output_type": "display_data"
    },
    {
     "data": {
      "text/latex": [
       "$\\displaystyle \\text{Before RREF: }9\\mathbb{I} - \\mathrm{self}$"
      ],
      "text/plain": [
       "<IPython.core.display.Math object>"
      ]
     },
     "metadata": {},
     "output_type": "display_data"
    },
    {
     "data": {
      "text/latex": [
       "$\\displaystyle \\left[\\begin{array}{ccc}7 & -1 & -3\\\\-1 & 7 & -3\\\\-3 & -3 & 3\\end{array}\\right]$"
      ],
      "text/plain": [
       "Matrix([\n",
       "[ 7, -1, -3]\n",
       "[-1,  7, -3]\n",
       "[-3, -3,  3]\n",
       "])"
      ]
     },
     "metadata": {},
     "output_type": "display_data"
    },
    {
     "name": "stdout",
     "output_type": "stream",
     "text": [
      "\n",
      "After RREF:\n"
     ]
    },
    {
     "data": {
      "text/latex": [
       "$\\text{RREF}\\left\\{\\text{rref} = \\left[\\begin{array}{ccc}1 & 0 & - \\frac{1}{2}\\\\0 & 1 & - \\frac{1}{2}\\\\0 & 0 & 0\\end{array}\\right], \\quad\\text{pivots} = (0, 1)\\right\\}$"
      ],
      "text/plain": [
       "RREF(rref=Matrix([\n",
       "[1, 0, -1/2]\n",
       "[0, 1, -1/2]\n",
       "[0, 0,    0]\n",
       "]), pivots=(0, 1))"
      ]
     },
     "metadata": {},
     "output_type": "display_data"
    },
    {
     "name": "stdout",
     "output_type": "stream",
     "text": [
      "\n",
      "Eigenvectors:\n"
     ]
    },
    {
     "data": {
      "text/latex": [
       "$\\displaystyle \\left[ \\left[\\begin{matrix}\\frac{1}{2}\\\\\\frac{1}{2}\\\\1\\end{matrix}\\right]\\right]$"
      ],
      "text/plain": [
       "⎡⎡1/2⎤⎤\n",
       "⎢⎢   ⎥⎥\n",
       "⎢⎢1/2⎥⎥\n",
       "⎢⎢   ⎥⎥\n",
       "⎣⎣ 1 ⎦⎦"
      ]
     },
     "metadata": {},
     "output_type": "display_data"
    },
    {
     "name": "stdout",
     "output_type": "stream",
     "text": [
      "\n",
      "\n"
     ]
    },
    {
     "data": {
      "text/latex": [
       "$\\displaystyle \\text{Before RREF: }1\\mathbb{I} - \\mathrm{self}$"
      ],
      "text/plain": [
       "<IPython.core.display.Math object>"
      ]
     },
     "metadata": {},
     "output_type": "display_data"
    },
    {
     "data": {
      "text/latex": [
       "$\\displaystyle \\left[\\begin{array}{ccc}-1 & -1 & -3\\\\-1 & -1 & -3\\\\-3 & -3 & -5\\end{array}\\right]$"
      ],
      "text/plain": [
       "Matrix([\n",
       "[-1, -1, -3]\n",
       "[-1, -1, -3]\n",
       "[-3, -3, -5]\n",
       "])"
      ]
     },
     "metadata": {},
     "output_type": "display_data"
    },
    {
     "name": "stdout",
     "output_type": "stream",
     "text": [
      "\n",
      "After RREF:\n"
     ]
    },
    {
     "data": {
      "text/latex": [
       "$\\text{RREF}\\left\\{\\text{rref} = \\left[\\begin{array}{ccc}1 & 1 & 0\\\\0 & 0 & 1\\\\0 & 0 & 0\\end{array}\\right], \\quad\\text{pivots} = (0, 2)\\right\\}$"
      ],
      "text/plain": [
       "RREF(rref=Matrix([\n",
       "[1, 1, 0]\n",
       "[0, 0, 1]\n",
       "[0, 0, 0]\n",
       "]), pivots=(0, 2))"
      ]
     },
     "metadata": {},
     "output_type": "display_data"
    },
    {
     "name": "stdout",
     "output_type": "stream",
     "text": [
      "\n",
      "Eigenvectors:\n"
     ]
    },
    {
     "data": {
      "text/latex": [
       "$\\displaystyle \\left[ \\left[\\begin{matrix}-1\\\\1\\\\0\\end{matrix}\\right]\\right]$"
      ],
      "text/plain": [
       "⎡⎡-1⎤⎤\n",
       "⎢⎢  ⎥⎥\n",
       "⎢⎢1 ⎥⎥\n",
       "⎢⎢  ⎥⎥\n",
       "⎣⎣0 ⎦⎦"
      ]
     },
     "metadata": {},
     "output_type": "display_data"
    },
    {
     "name": "stdout",
     "output_type": "stream",
     "text": [
      "\n",
      "\n"
     ]
    },
    {
     "data": {
      "text/latex": [
       "$\\displaystyle \\text{Before RREF: }0\\mathbb{I} - \\mathrm{self}$"
      ],
      "text/plain": [
       "<IPython.core.display.Math object>"
      ]
     },
     "metadata": {},
     "output_type": "display_data"
    },
    {
     "data": {
      "text/latex": [
       "$\\displaystyle \\left[\\begin{array}{ccc}-2 & -1 & -3\\\\-1 & -2 & -3\\\\-3 & -3 & -6\\end{array}\\right]$"
      ],
      "text/plain": [
       "Matrix([\n",
       "[-2, -1, -3]\n",
       "[-1, -2, -3]\n",
       "[-3, -3, -6]\n",
       "])"
      ]
     },
     "metadata": {},
     "output_type": "display_data"
    },
    {
     "name": "stdout",
     "output_type": "stream",
     "text": [
      "\n",
      "After RREF:\n"
     ]
    },
    {
     "data": {
      "text/latex": [
       "$\\text{RREF}\\left\\{\\text{rref} = \\left[\\begin{array}{ccc}1 & 0 & 1\\\\0 & 1 & 1\\\\0 & 0 & 0\\end{array}\\right], \\quad\\text{pivots} = (0, 1)\\right\\}$"
      ],
      "text/plain": [
       "RREF(rref=Matrix([\n",
       "[1, 0, 1]\n",
       "[0, 1, 1]\n",
       "[0, 0, 0]\n",
       "]), pivots=(0, 1))"
      ]
     },
     "metadata": {},
     "output_type": "display_data"
    },
    {
     "name": "stdout",
     "output_type": "stream",
     "text": [
      "\n",
      "Eigenvectors:\n"
     ]
    },
    {
     "data": {
      "text/latex": [
       "$\\displaystyle \\left[ \\left[\\begin{matrix}-1\\\\-1\\\\1\\end{matrix}\\right]\\right]$"
      ],
      "text/plain": [
       "⎡⎡-1⎤⎤\n",
       "⎢⎢  ⎥⎥\n",
       "⎢⎢-1⎥⎥\n",
       "⎢⎢  ⎥⎥\n",
       "⎣⎣1 ⎦⎦"
      ]
     },
     "metadata": {},
     "output_type": "display_data"
    },
    {
     "name": "stdout",
     "output_type": "stream",
     "text": [
      "\n",
      "\n"
     ]
    },
    {
     "data": {
      "text/latex": [
       "$\\displaystyle u_1 = (1/3)A\\left[\\begin{matrix}\\frac{\\sqrt{6}}{6}\\\\\\frac{\\sqrt{6}}{6}\\\\\\frac{\\sqrt{6}}{3}\\end{matrix}\\right] = \\left[\\begin{array}{c}\\frac{\\sqrt{6}}{6}\\\\\\frac{\\sqrt{6}}{6}\\\\\\frac{\\sqrt{6}}{3}\\end{array}\\right]$"
      ],
      "text/plain": [
       "<IPython.core.display.Math object>"
      ]
     },
     "metadata": {},
     "output_type": "display_data"
    },
    {
     "data": {
      "text/latex": [
       "$\\displaystyle u_2 = (1/1)A\\left[\\begin{matrix}- \\frac{\\sqrt{2}}{2}\\\\\\frac{\\sqrt{2}}{2}\\\\0\\end{matrix}\\right] = \\left[\\begin{array}{c}- \\frac{\\sqrt{2}}{2}\\\\\\frac{\\sqrt{2}}{2}\\\\0\\end{array}\\right]$"
      ],
      "text/plain": [
       "<IPython.core.display.Math object>"
      ]
     },
     "metadata": {},
     "output_type": "display_data"
    },
    {
     "name": "stdout",
     "output_type": "stream",
     "text": [
      "\n",
      "Extending U with its orthogonal complement.\n",
      "Before RREF: [self]\n"
     ]
    },
    {
     "data": {
      "text/latex": [
       "$\\displaystyle \\left[\\begin{matrix}\\frac{\\sqrt{6}}{6} & \\frac{\\sqrt{6}}{6} & \\frac{\\sqrt{6}}{3}\\\\- \\frac{\\sqrt{2}}{2} & \\frac{\\sqrt{2}}{2} & 0\\end{matrix}\\right]$"
      ],
      "text/plain": [
       "Matrix([\n",
       "[ sqrt(6)/6, sqrt(6)/6, sqrt(6)/3],\n",
       "[-sqrt(2)/2, sqrt(2)/2,         0]])"
      ]
     },
     "metadata": {},
     "output_type": "display_data"
    },
    {
     "name": "stdout",
     "output_type": "stream",
     "text": [
      "\n",
      "After RREF:\n"
     ]
    },
    {
     "data": {
      "text/latex": [
       "$\\text{RREF}\\left\\{\\text{rref} = \\left[\\begin{array}{ccc}1 & 0 & 1\\\\0 & 1 & 1\\end{array}\\right], \\quad\\text{pivots} = (0, 1)\\right\\}$"
      ],
      "text/plain": [
       "RREF(rref=Matrix([\n",
       "[1, 0, 1]\n",
       "[0, 1, 1]\n",
       "]), pivots=(0, 1))"
      ]
     },
     "metadata": {},
     "output_type": "display_data"
    },
    {
     "data": {
      "text/latex": [
       "$\\displaystyle v_1 = \\left[\\begin{array}{c}-1\\\\-1\\\\1\\end{array}\\right]$"
      ],
      "text/plain": [
       "<IPython.core.display.Math object>"
      ]
     },
     "metadata": {},
     "output_type": "display_data"
    },
    {
     "data": {
      "text/latex": [
       "$\\left[\\begin{array}{ccc}\\frac{\\sqrt{6}}{6} & - \\frac{\\sqrt{2}}{2} & - \\frac{\\sqrt{3}}{3}\\\\\\frac{\\sqrt{6}}{6} & \\frac{\\sqrt{2}}{2} & - \\frac{\\sqrt{3}}{3}\\\\\\frac{\\sqrt{6}}{3} & 0 & \\frac{\\sqrt{3}}{3}\\end{array}\\right]\\left[\\begin{array}{ccc}3 & 0 & 0\\\\0 & 1 & 0\\\\0 & 0 & 0\\end{array}\\right]\\left[\\begin{array}{ccc}\\frac{\\sqrt{6}}{6} & \\frac{\\sqrt{6}}{6} & \\frac{\\sqrt{6}}{3}\\\\- \\frac{\\sqrt{2}}{2} & \\frac{\\sqrt{2}}{2} & 0\\\\- \\frac{\\sqrt{3}}{3} & - \\frac{\\sqrt{3}}{3} & \\frac{\\sqrt{3}}{3}\\end{array}\\right]$"
      ],
      "text/plain": [
       "SVD(U=Matrix([\n",
       "[sqrt(6)/6, -sqrt(2)/2, -sqrt(3)/3]\n",
       "[sqrt(6)/6,  sqrt(2)/2, -sqrt(3)/3]\n",
       "[sqrt(6)/3,          0,  sqrt(3)/3]\n",
       "]), S=Matrix([\n",
       "[3, 0, 0]\n",
       "[0, 1, 0]\n",
       "[0, 0, 0]\n",
       "]), V=Matrix([\n",
       "[sqrt(6)/6, -sqrt(2)/2, -sqrt(3)/3]\n",
       "[sqrt(6)/6,  sqrt(2)/2, -sqrt(3)/3]\n",
       "[sqrt(6)/3,          0,  sqrt(3)/3]\n",
       "]))"
      ]
     },
     "execution_count": 40,
     "metadata": {},
     "output_type": "execute_result"
    }
   ],
   "source": [
    "A.singular_value_decomposition(verbosity=1)"
   ]
  },
  {
   "cell_type": "code",
   "execution_count": null,
   "id": "26d2eafe",
   "metadata": {},
   "outputs": [
    {
     "name": "stdout",
     "output_type": "stream",
     "text": [
      "Check if matrix is symmetric: True\n",
      "Characteristic Polynomial\n"
     ]
    },
    {
     "data": {
      "text/latex": [
       "$\\displaystyle x \\left(x - 3\\right) \\left(x - 1\\right)$"
      ],
      "text/plain": [
       "x⋅(x - 3)⋅(x - 1)"
      ]
     },
     "metadata": {},
     "output_type": "display_data"
    },
    {
     "data": {
      "text/latex": [
       "$\\displaystyle \\text{Before RREF: }3\\mathbb{I} - \\mathrm{self}$"
      ],
      "text/plain": [
       "<IPython.core.display.Math object>"
      ]
     },
     "metadata": {},
     "output_type": "display_data"
    },
    {
     "data": {
      "text/latex": [
       "$\\displaystyle \\left[\\begin{array}{ccc}2 & 0 & -1\\\\0 & 2 & -1\\\\-1 & -1 & 1\\end{array}\\right]$"
      ],
      "text/plain": [
       "Matrix([\n",
       "[ 2,  0, -1]\n",
       "[ 0,  2, -1]\n",
       "[-1, -1,  1]\n",
       "])"
      ]
     },
     "metadata": {},
     "output_type": "display_data"
    },
    {
     "name": "stdout",
     "output_type": "stream",
     "text": [
      "\n",
      "After RREF:\n"
     ]
    },
    {
     "data": {
      "text/latex": [
       "$\\text{RREF}\\left\\{\\text{rref} = \\left[\\begin{array}{ccc}1 & 0 & - \\frac{1}{2}\\\\0 & 1 & - \\frac{1}{2}\\\\0 & 0 & 0\\end{array}\\right], \\quad\\text{pivots} = (0, 1)\\right\\}$"
      ],
      "text/plain": [
       "RREF(rref=Matrix([\n",
       "[1, 0, -1/2]\n",
       "[0, 1, -1/2]\n",
       "[0, 0,    0]\n",
       "]), pivots=(0, 1))"
      ]
     },
     "metadata": {},
     "output_type": "display_data"
    },
    {
     "name": "stdout",
     "output_type": "stream",
     "text": [
      "\n",
      "Eigenvectors:\n"
     ]
    },
    {
     "data": {
      "text/latex": [
       "$\\displaystyle \\left[ \\left[\\begin{matrix}\\frac{1}{2}\\\\\\frac{1}{2}\\\\1\\end{matrix}\\right]\\right]$"
      ],
      "text/plain": [
       "⎡⎡1/2⎤⎤\n",
       "⎢⎢   ⎥⎥\n",
       "⎢⎢1/2⎥⎥\n",
       "⎢⎢   ⎥⎥\n",
       "⎣⎣ 1 ⎦⎦"
      ]
     },
     "metadata": {},
     "output_type": "display_data"
    },
    {
     "name": "stdout",
     "output_type": "stream",
     "text": [
      "\n",
      "\n"
     ]
    },
    {
     "data": {
      "text/latex": [
       "$\\displaystyle \\text{Before RREF: }1\\mathbb{I} - \\mathrm{self}$"
      ],
      "text/plain": [
       "<IPython.core.display.Math object>"
      ]
     },
     "metadata": {},
     "output_type": "display_data"
    },
    {
     "data": {
      "text/latex": [
       "$\\displaystyle \\left[\\begin{array}{ccc}0 & 0 & -1\\\\0 & 0 & -1\\\\-1 & -1 & -1\\end{array}\\right]$"
      ],
      "text/plain": [
       "Matrix([\n",
       "[ 0,  0, -1]\n",
       "[ 0,  0, -1]\n",
       "[-1, -1, -1]\n",
       "])"
      ]
     },
     "metadata": {},
     "output_type": "display_data"
    },
    {
     "name": "stdout",
     "output_type": "stream",
     "text": [
      "\n",
      "After RREF:\n"
     ]
    },
    {
     "data": {
      "text/latex": [
       "$\\text{RREF}\\left\\{\\text{rref} = \\left[\\begin{array}{ccc}1 & 1 & 0\\\\0 & 0 & 1\\\\0 & 0 & 0\\end{array}\\right], \\quad\\text{pivots} = (0, 2)\\right\\}$"
      ],
      "text/plain": [
       "RREF(rref=Matrix([\n",
       "[1, 1, 0]\n",
       "[0, 0, 1]\n",
       "[0, 0, 0]\n",
       "]), pivots=(0, 2))"
      ]
     },
     "metadata": {},
     "output_type": "display_data"
    },
    {
     "name": "stdout",
     "output_type": "stream",
     "text": [
      "\n",
      "Eigenvectors:\n"
     ]
    },
    {
     "data": {
      "text/latex": [
       "$\\displaystyle \\left[ \\left[\\begin{matrix}-1\\\\1\\\\0\\end{matrix}\\right]\\right]$"
      ],
      "text/plain": [
       "⎡⎡-1⎤⎤\n",
       "⎢⎢  ⎥⎥\n",
       "⎢⎢1 ⎥⎥\n",
       "⎢⎢  ⎥⎥\n",
       "⎣⎣0 ⎦⎦"
      ]
     },
     "metadata": {},
     "output_type": "display_data"
    },
    {
     "name": "stdout",
     "output_type": "stream",
     "text": [
      "\n",
      "\n"
     ]
    },
    {
     "data": {
      "text/latex": [
       "$\\displaystyle \\text{Before RREF: }0\\mathbb{I} - \\mathrm{self}$"
      ],
      "text/plain": [
       "<IPython.core.display.Math object>"
      ]
     },
     "metadata": {},
     "output_type": "display_data"
    },
    {
     "data": {
      "text/latex": [
       "$\\displaystyle \\left[\\begin{array}{ccc}-1 & 0 & -1\\\\0 & -1 & -1\\\\-1 & -1 & -2\\end{array}\\right]$"
      ],
      "text/plain": [
       "Matrix([\n",
       "[-1,  0, -1]\n",
       "[ 0, -1, -1]\n",
       "[-1, -1, -2]\n",
       "])"
      ]
     },
     "metadata": {},
     "output_type": "display_data"
    },
    {
     "name": "stdout",
     "output_type": "stream",
     "text": [
      "\n",
      "After RREF:\n"
     ]
    },
    {
     "data": {
      "text/latex": [
       "$\\text{RREF}\\left\\{\\text{rref} = \\left[\\begin{array}{ccc}1 & 0 & 1\\\\0 & 1 & 1\\\\0 & 0 & 0\\end{array}\\right], \\quad\\text{pivots} = (0, 1)\\right\\}$"
      ],
      "text/plain": [
       "RREF(rref=Matrix([\n",
       "[1, 0, 1]\n",
       "[0, 1, 1]\n",
       "[0, 0, 0]\n",
       "]), pivots=(0, 1))"
      ]
     },
     "metadata": {},
     "output_type": "display_data"
    },
    {
     "name": "stdout",
     "output_type": "stream",
     "text": [
      "\n",
      "Eigenvectors:\n"
     ]
    },
    {
     "data": {
      "text/latex": [
       "$\\displaystyle \\left[ \\left[\\begin{matrix}-1\\\\-1\\\\1\\end{matrix}\\right]\\right]$"
      ],
      "text/plain": [
       "⎡⎡-1⎤⎤\n",
       "⎢⎢  ⎥⎥\n",
       "⎢⎢-1⎥⎥\n",
       "⎢⎢  ⎥⎥\n",
       "⎣⎣1 ⎦⎦"
      ]
     },
     "metadata": {},
     "output_type": "display_data"
    },
    {
     "name": "stdout",
     "output_type": "stream",
     "text": [
      "\n",
      "\n"
     ]
    },
    {
     "data": {
      "text/latex": [
       "$\\left[\\begin{array}{ccc}- \\frac{\\sqrt{3}}{3} & - \\frac{\\sqrt{2}}{2} & \\frac{\\sqrt{6}}{6}\\\\- \\frac{\\sqrt{3}}{3} & \\frac{\\sqrt{2}}{2} & \\frac{\\sqrt{6}}{6}\\\\\\frac{\\sqrt{3}}{3} & 0 & \\frac{\\sqrt{6}}{3}\\end{array}\\right]\\left[\\begin{array}{ccc}0 & 0 & 0\\\\0 & 1 & 0\\\\0 & 0 & 3\\end{array}\\right]\\left[\\begin{matrix}- \\frac{\\sqrt{3}}{3} & - \\frac{\\sqrt{3}}{3} & \\frac{\\sqrt{3}}{3}\\\\- \\frac{\\sqrt{2}}{2} & \\frac{\\sqrt{2}}{2} & 0\\\\\\frac{\\sqrt{6}}{6} & \\frac{\\sqrt{6}}{6} & \\frac{\\sqrt{6}}{3}\\end{matrix}\\right]$"
      ],
      "text/plain": [
       "PDP(P=Matrix([\n",
       "[-sqrt(3)/3, -sqrt(2)/2, sqrt(6)/6]\n",
       "[-sqrt(3)/3,  sqrt(2)/2, sqrt(6)/6]\n",
       "[ sqrt(3)/3,          0, sqrt(6)/3]\n",
       "]), D=Matrix([\n",
       "[0, 0, 0]\n",
       "[0, 1, 0]\n",
       "[0, 0, 3]\n",
       "]))"
      ]
     },
     "execution_count": 74,
     "metadata": {},
     "output_type": "execute_result"
    }
   ],
   "source": [
    "# OR symmetric -> diagonalize == orthogonally diagonalize == svd\n",
    "pdp = A.diagonalize(verbosity=1, sort=True)  # This will also work\n",
    "pdp # Take note that the singular values might not be in the correct order"
   ]
  },
  {
   "cell_type": "code",
   "execution_count": null,
   "id": "c746fd30",
   "metadata": {},
   "outputs": [
    {
     "data": {
      "text/latex": [
       "$\\displaystyle \\left( \\left[\\begin{array}{ccc}1 & -1 & -1\\\\1 & 1 & -1\\\\2 & 0 & 1\\end{array}\\right], \\  \\left[\\begin{array}{ccc}3 & 0 & 0\\\\0 & 1 & 0\\\\0 & 0 & 0\\end{array}\\right]\\right)$"
      ],
      "text/plain": [
       "⎛⎡1  -1  -1⎤  ⎡3  0  0⎤⎞\n",
       "⎜⎢         ⎥  ⎢       ⎥⎟\n",
       "⎜⎢1  1   -1⎥, ⎢0  1  0⎥⎟\n",
       "⎜⎢         ⎥  ⎢       ⎥⎟\n",
       "⎝⎣2  0   1 ⎦  ⎣0  0  0⎦⎠"
      ]
     },
     "execution_count": 72,
     "metadata": {},
     "output_type": "execute_result"
    }
   ],
   "source": [
    "# To fix the order, you can use the following trick\n",
    "order = [2, 1, 0] # specify the order of singular values as it is\n",
    "newP = pdp.P.select_cols(*order)\n",
    "diag_entries = pdp.D.diagonal()\n",
    "newD = Matrix.diag(*[diag_entries[i] for i in order])\n",
    "newP, newD"
   ]
  },
  {
   "cell_type": "code",
   "execution_count": 73,
   "id": "010a14c7",
   "metadata": {},
   "outputs": [
    {
     "data": {
      "text/latex": [
       "$\\displaystyle \\left[\\begin{array}{ccc}1 & 0 & 1\\\\0 & 1 & 1\\\\1 & 1 & 2\\end{array}\\right]$"
      ],
      "text/plain": [
       "Matrix([\n",
       "[1, 0, 1]\n",
       "[0, 1, 1]\n",
       "[1, 1, 2]\n",
       "])"
      ]
     },
     "execution_count": 73,
     "metadata": {},
     "output_type": "execute_result"
    }
   ],
   "source": [
    "newP @ newD @ newP.inv()"
   ]
  },
  {
   "cell_type": "code",
   "execution_count": 75,
   "id": "913f9e4e",
   "metadata": {},
   "outputs": [
    {
     "name": "stdout",
     "output_type": "stream",
     "text": [
      "Check if matrix is symmetric: True\n",
      "Characteristic Polynomial\n"
     ]
    },
    {
     "data": {
      "text/latex": [
       "$\\displaystyle x \\left(x - 3\\right) \\left(x - 1\\right)$"
      ],
      "text/plain": [
       "x⋅(x - 3)⋅(x - 1)"
      ]
     },
     "metadata": {},
     "output_type": "display_data"
    },
    {
     "data": {
      "text/latex": [
       "$\\displaystyle \\text{Before RREF: }3\\mathbb{I} - \\mathrm{self}$"
      ],
      "text/plain": [
       "<IPython.core.display.Math object>"
      ]
     },
     "metadata": {},
     "output_type": "display_data"
    },
    {
     "data": {
      "text/latex": [
       "$\\displaystyle \\left[\\begin{array}{ccc}2 & 0 & -1\\\\0 & 2 & -1\\\\-1 & -1 & 1\\end{array}\\right]$"
      ],
      "text/plain": [
       "Matrix([\n",
       "[ 2,  0, -1]\n",
       "[ 0,  2, -1]\n",
       "[-1, -1,  1]\n",
       "])"
      ]
     },
     "metadata": {},
     "output_type": "display_data"
    },
    {
     "name": "stdout",
     "output_type": "stream",
     "text": [
      "\n",
      "After RREF:\n"
     ]
    },
    {
     "data": {
      "text/latex": [
       "$\\text{RREF}\\left\\{\\text{rref} = \\left[\\begin{array}{ccc}1 & 0 & - \\frac{1}{2}\\\\0 & 1 & - \\frac{1}{2}\\\\0 & 0 & 0\\end{array}\\right], \\quad\\text{pivots} = (0, 1)\\right\\}$"
      ],
      "text/plain": [
       "RREF(rref=Matrix([\n",
       "[1, 0, -1/2]\n",
       "[0, 1, -1/2]\n",
       "[0, 0,    0]\n",
       "]), pivots=(0, 1))"
      ]
     },
     "metadata": {},
     "output_type": "display_data"
    },
    {
     "name": "stdout",
     "output_type": "stream",
     "text": [
      "\n",
      "Eigenvectors:\n"
     ]
    },
    {
     "data": {
      "text/latex": [
       "$\\displaystyle \\left[ \\left[\\begin{matrix}\\frac{1}{2}\\\\\\frac{1}{2}\\\\1\\end{matrix}\\right]\\right]$"
      ],
      "text/plain": [
       "⎡⎡1/2⎤⎤\n",
       "⎢⎢   ⎥⎥\n",
       "⎢⎢1/2⎥⎥\n",
       "⎢⎢   ⎥⎥\n",
       "⎣⎣ 1 ⎦⎦"
      ]
     },
     "metadata": {},
     "output_type": "display_data"
    },
    {
     "name": "stdout",
     "output_type": "stream",
     "text": [
      "\n",
      "\n"
     ]
    },
    {
     "data": {
      "text/latex": [
       "$\\displaystyle \\text{Before RREF: }1\\mathbb{I} - \\mathrm{self}$"
      ],
      "text/plain": [
       "<IPython.core.display.Math object>"
      ]
     },
     "metadata": {},
     "output_type": "display_data"
    },
    {
     "data": {
      "text/latex": [
       "$\\displaystyle \\left[\\begin{array}{ccc}0 & 0 & -1\\\\0 & 0 & -1\\\\-1 & -1 & -1\\end{array}\\right]$"
      ],
      "text/plain": [
       "Matrix([\n",
       "[ 0,  0, -1]\n",
       "[ 0,  0, -1]\n",
       "[-1, -1, -1]\n",
       "])"
      ]
     },
     "metadata": {},
     "output_type": "display_data"
    },
    {
     "name": "stdout",
     "output_type": "stream",
     "text": [
      "\n",
      "After RREF:\n"
     ]
    },
    {
     "data": {
      "text/latex": [
       "$\\text{RREF}\\left\\{\\text{rref} = \\left[\\begin{array}{ccc}1 & 1 & 0\\\\0 & 0 & 1\\\\0 & 0 & 0\\end{array}\\right], \\quad\\text{pivots} = (0, 2)\\right\\}$"
      ],
      "text/plain": [
       "RREF(rref=Matrix([\n",
       "[1, 1, 0]\n",
       "[0, 0, 1]\n",
       "[0, 0, 0]\n",
       "]), pivots=(0, 2))"
      ]
     },
     "metadata": {},
     "output_type": "display_data"
    },
    {
     "name": "stdout",
     "output_type": "stream",
     "text": [
      "\n",
      "Eigenvectors:\n"
     ]
    },
    {
     "data": {
      "text/latex": [
       "$\\displaystyle \\left[ \\left[\\begin{matrix}-1\\\\1\\\\0\\end{matrix}\\right]\\right]$"
      ],
      "text/plain": [
       "⎡⎡-1⎤⎤\n",
       "⎢⎢  ⎥⎥\n",
       "⎢⎢1 ⎥⎥\n",
       "⎢⎢  ⎥⎥\n",
       "⎣⎣0 ⎦⎦"
      ]
     },
     "metadata": {},
     "output_type": "display_data"
    },
    {
     "name": "stdout",
     "output_type": "stream",
     "text": [
      "\n",
      "\n"
     ]
    },
    {
     "data": {
      "text/latex": [
       "$\\displaystyle \\text{Before RREF: }0\\mathbb{I} - \\mathrm{self}$"
      ],
      "text/plain": [
       "<IPython.core.display.Math object>"
      ]
     },
     "metadata": {},
     "output_type": "display_data"
    },
    {
     "data": {
      "text/latex": [
       "$\\displaystyle \\left[\\begin{array}{ccc}-1 & 0 & -1\\\\0 & -1 & -1\\\\-1 & -1 & -2\\end{array}\\right]$"
      ],
      "text/plain": [
       "Matrix([\n",
       "[-1,  0, -1]\n",
       "[ 0, -1, -1]\n",
       "[-1, -1, -2]\n",
       "])"
      ]
     },
     "metadata": {},
     "output_type": "display_data"
    },
    {
     "name": "stdout",
     "output_type": "stream",
     "text": [
      "\n",
      "After RREF:\n"
     ]
    },
    {
     "data": {
      "text/latex": [
       "$\\text{RREF}\\left\\{\\text{rref} = \\left[\\begin{array}{ccc}1 & 0 & 1\\\\0 & 1 & 1\\\\0 & 0 & 0\\end{array}\\right], \\quad\\text{pivots} = (0, 1)\\right\\}$"
      ],
      "text/plain": [
       "RREF(rref=Matrix([\n",
       "[1, 0, 1]\n",
       "[0, 1, 1]\n",
       "[0, 0, 0]\n",
       "]), pivots=(0, 1))"
      ]
     },
     "metadata": {},
     "output_type": "display_data"
    },
    {
     "name": "stdout",
     "output_type": "stream",
     "text": [
      "\n",
      "Eigenvectors:\n"
     ]
    },
    {
     "data": {
      "text/latex": [
       "$\\displaystyle \\left[ \\left[\\begin{matrix}-1\\\\-1\\\\1\\end{matrix}\\right]\\right]$"
      ],
      "text/plain": [
       "⎡⎡-1⎤⎤\n",
       "⎢⎢  ⎥⎥\n",
       "⎢⎢-1⎥⎥\n",
       "⎢⎢  ⎥⎥\n",
       "⎣⎣1 ⎦⎦"
      ]
     },
     "metadata": {},
     "output_type": "display_data"
    },
    {
     "name": "stdout",
     "output_type": "stream",
     "text": [
      "\n",
      "\n"
     ]
    },
    {
     "data": {
      "text/latex": [
       "$\\left[\\begin{array}{ccc}- \\frac{\\sqrt{3}}{3} & - \\frac{\\sqrt{2}}{2} & \\frac{\\sqrt{6}}{6}\\\\- \\frac{\\sqrt{3}}{3} & \\frac{\\sqrt{2}}{2} & \\frac{\\sqrt{6}}{6}\\\\\\frac{\\sqrt{3}}{3} & 0 & \\frac{\\sqrt{6}}{3}\\end{array}\\right]\\left[\\begin{array}{ccc}0 & 0 & 0\\\\0 & 1 & 0\\\\0 & 0 & 3\\end{array}\\right]\\left[\\begin{matrix}- \\frac{\\sqrt{3}}{3} & - \\frac{\\sqrt{3}}{3} & \\frac{\\sqrt{3}}{3}\\\\- \\frac{\\sqrt{2}}{2} & \\frac{\\sqrt{2}}{2} & 0\\\\\\frac{\\sqrt{6}}{6} & \\frac{\\sqrt{6}}{6} & \\frac{\\sqrt{6}}{3}\\end{matrix}\\right]$"
      ],
      "text/plain": [
       "PDP(P=Matrix([\n",
       "[-sqrt(3)/3, -sqrt(2)/2, sqrt(6)/6]\n",
       "[-sqrt(3)/3,  sqrt(2)/2, sqrt(6)/6]\n",
       "[ sqrt(3)/3,          0, sqrt(6)/3]\n",
       "]), D=Matrix([\n",
       "[0, 0, 0]\n",
       "[0, 1, 0]\n",
       "[0, 0, 3]\n",
       "]))"
      ]
     },
     "execution_count": 75,
     "metadata": {},
     "output_type": "execute_result"
    }
   ],
   "source": [
    "pdpt = A.orthogonally_diagonalize(verbosity=1, sort=True)\n",
    "pdpt"
   ]
  },
  {
   "cell_type": "code",
   "execution_count": 76,
   "id": "38b9ae1a",
   "metadata": {},
   "outputs": [
    {
     "data": {
      "text/latex": [
       "$\\displaystyle \\left( \\left[\\begin{array}{ccc}\\frac{\\sqrt{6}}{6} & - \\frac{\\sqrt{2}}{2} & - \\frac{\\sqrt{3}}{3}\\\\\\frac{\\sqrt{6}}{6} & \\frac{\\sqrt{2}}{2} & - \\frac{\\sqrt{3}}{3}\\\\\\frac{\\sqrt{6}}{3} & 0 & \\frac{\\sqrt{3}}{3}\\end{array}\\right], \\  \\left[\\begin{array}{ccc}3 & 0 & 0\\\\0 & 1 & 0\\\\0 & 0 & 0\\end{array}\\right]\\right)$"
      ],
      "text/plain": [
       "⎛⎡√6  -√2   -√3 ⎤           ⎞\n",
       "⎜⎢──  ────  ────⎥           ⎟\n",
       "⎜⎢6    2     3  ⎥           ⎟\n",
       "⎜⎢              ⎥  ⎡3  0  0⎤⎟\n",
       "⎜⎢√6   √2   -√3 ⎥  ⎢       ⎥⎟\n",
       "⎜⎢──   ──   ────⎥, ⎢0  1  0⎥⎟\n",
       "⎜⎢6    2     3  ⎥  ⎢       ⎥⎟\n",
       "⎜⎢              ⎥  ⎣0  0  0⎦⎟\n",
       "⎜⎢√6         √3 ⎥           ⎟\n",
       "⎜⎢──   0     ── ⎥           ⎟\n",
       "⎝⎣3          3  ⎦           ⎠"
      ]
     },
     "execution_count": 76,
     "metadata": {},
     "output_type": "execute_result"
    }
   ],
   "source": [
    "# Similar to diagonalization, the singular values are \n",
    "# not guaranteed to be in the correct order\n",
    "order = [2, 1, 0] # specify the order of singular values as it is\n",
    "newP = pdpt.P.select_cols(*order)\n",
    "diag_entries = pdpt.D.diagonal()\n",
    "newD = Matrix.diag(*[diag_entries[i] for i in order])\n",
    "newP, newD"
   ]
  },
  {
   "cell_type": "code",
   "execution_count": 77,
   "id": "134dc932",
   "metadata": {},
   "outputs": [
    {
     "data": {
      "text/latex": [
       "$\\displaystyle \\left[\\begin{array}{ccc}1 & 0 & 1\\\\0 & 1 & 1\\\\1 & 1 & 2\\end{array}\\right]$"
      ],
      "text/plain": [
       "Matrix([\n",
       "[1, 0, 1]\n",
       "[0, 1, 1]\n",
       "[1, 1, 2]\n",
       "])"
      ]
     },
     "execution_count": 77,
     "metadata": {},
     "output_type": "execute_result"
    }
   ],
   "source": [
    "newP @ newD @ newP.T"
   ]
  },
  {
   "cell_type": "markdown",
   "id": "d6072840",
   "metadata": {},
   "source": [
    "## Question 6\n",
    "\n",
    "Let $\\mathbf{A} = \\begin{pmatrix} -18 & 13 & -4 & 4 \\\\ 2 & 19 & -4 & 12 \\\\ -14 & 11 & -12 & 8 \\\\ -2 & 21 & 4 & 8 \\end{pmatrix}$.\n",
    "\n",
    "### (a)\n",
    "Find a SVD of $\\mathbf{A}$."
   ]
  },
  {
   "cell_type": "code",
   "execution_count": 78,
   "id": "a646b787",
   "metadata": {},
   "outputs": [
    {
     "data": {
      "text/latex": [
       "$\\displaystyle \\left[\\begin{array}{cccc}-18 & 13 & -4 & 4\\\\2 & 19 & -4 & 12\\\\-14 & 11 & -12 & 8\\\\-2 & 21 & 4 & 8\\end{array}\\right]$"
      ],
      "text/plain": [
       "Matrix([\n",
       "[-18, 13,  -4,  4]\n",
       "[  2, 19,  -4, 12]\n",
       "[-14, 11, -12,  8]\n",
       "[ -2, 21,   4,  8]\n",
       "])"
      ]
     },
     "execution_count": 78,
     "metadata": {},
     "output_type": "execute_result"
    }
   ],
   "source": [
    "A = Matrix.from_str(\"-18 13 -4 4; 2 19 -4 12; -14 11 -12 8; -2 21 4 8\")\n",
    "A"
   ]
  },
  {
   "cell_type": "code",
   "execution_count": 79,
   "id": "e5b949ba",
   "metadata": {},
   "outputs": [
    {
     "name": "stdout",
     "output_type": "stream",
     "text": [
      "A^T A\n"
     ]
    },
    {
     "data": {
      "text/latex": [
       "$\\displaystyle \\left[\\begin{array}{cccc}528 & -392 & 224 & -176\\\\-392 & 1092 & -176 & 536\\\\224 & -176 & 192 & -128\\\\-176 & 536 & -128 & 288\\end{array}\\right]$"
      ],
      "text/plain": [
       "Matrix([\n",
       "[ 528, -392,  224, -176]\n",
       "[-392, 1092, -176,  536]\n",
       "[ 224, -176,  192, -128]\n",
       "[-176,  536, -128,  288]\n",
       "])"
      ]
     },
     "metadata": {},
     "output_type": "display_data"
    },
    {
     "name": "stdout",
     "output_type": "stream",
     "text": [
      "Check if matrix is symmetric: True\n",
      "Characteristic Polynomial\n"
     ]
    },
    {
     "data": {
      "text/latex": [
       "$\\displaystyle x \\left(x - 1600\\right) \\left(x - 400\\right) \\left(x - 100\\right)$"
      ],
      "text/plain": [
       "x⋅(x - 1600)⋅(x - 400)⋅(x - 100)"
      ]
     },
     "metadata": {},
     "output_type": "display_data"
    },
    {
     "data": {
      "text/latex": [
       "$\\displaystyle \\text{Before RREF: }1600\\mathbb{I} - \\mathrm{self}$"
      ],
      "text/plain": [
       "<IPython.core.display.Math object>"
      ]
     },
     "metadata": {},
     "output_type": "display_data"
    },
    {
     "data": {
      "text/latex": [
       "$\\displaystyle \\left[\\begin{array}{cccc}1072 & 392 & -224 & 176\\\\392 & 508 & 176 & -536\\\\-224 & 176 & 1408 & 128\\\\176 & -536 & 128 & 1312\\end{array}\\right]$"
      ],
      "text/plain": [
       "Matrix([\n",
       "[1072,  392, -224,  176]\n",
       "[ 392,  508,  176, -536]\n",
       "[-224,  176, 1408,  128]\n",
       "[ 176, -536,  128, 1312]\n",
       "])"
      ]
     },
     "metadata": {},
     "output_type": "display_data"
    },
    {
     "name": "stdout",
     "output_type": "stream",
     "text": [
      "\n",
      "After RREF:\n"
     ]
    },
    {
     "data": {
      "text/latex": [
       "$\\text{RREF}\\left\\{\\text{rref} = \\left[\\begin{array}{cccc}1 & 0 & 0 & 1\\\\0 & 1 & 0 & -2\\\\0 & 0 & 1 & \\frac{1}{2}\\\\0 & 0 & 0 & 0\\end{array}\\right], \\quad\\text{pivots} = (0, 1, 2)\\right\\}$"
      ],
      "text/plain": [
       "RREF(rref=Matrix([\n",
       "[1, 0, 0,   1]\n",
       "[0, 1, 0,  -2]\n",
       "[0, 0, 1, 1/2]\n",
       "[0, 0, 0,   0]\n",
       "]), pivots=(0, 1, 2))"
      ]
     },
     "metadata": {},
     "output_type": "display_data"
    },
    {
     "name": "stdout",
     "output_type": "stream",
     "text": [
      "\n",
      "Eigenvectors:\n"
     ]
    },
    {
     "data": {
      "text/latex": [
       "$\\displaystyle \\left[ \\left[\\begin{matrix}-1\\\\2\\\\- \\frac{1}{2}\\\\1\\end{matrix}\\right]\\right]$"
      ],
      "text/plain": [
       "⎡⎡ -1 ⎤⎤\n",
       "⎢⎢    ⎥⎥\n",
       "⎢⎢ 2  ⎥⎥\n",
       "⎢⎢    ⎥⎥\n",
       "⎢⎢-1/2⎥⎥\n",
       "⎢⎢    ⎥⎥\n",
       "⎣⎣ 1  ⎦⎦"
      ]
     },
     "metadata": {},
     "output_type": "display_data"
    },
    {
     "name": "stdout",
     "output_type": "stream",
     "text": [
      "\n",
      "\n"
     ]
    },
    {
     "data": {
      "text/latex": [
       "$\\displaystyle \\text{Before RREF: }400\\mathbb{I} - \\mathrm{self}$"
      ],
      "text/plain": [
       "<IPython.core.display.Math object>"
      ]
     },
     "metadata": {},
     "output_type": "display_data"
    },
    {
     "data": {
      "text/latex": [
       "$\\displaystyle \\left[\\begin{array}{cccc}-128 & 392 & -224 & 176\\\\392 & -692 & 176 & -536\\\\-224 & 176 & 208 & 128\\\\176 & -536 & 128 & 112\\end{array}\\right]$"
      ],
      "text/plain": [
       "Matrix([\n",
       "[-128,  392, -224,  176]\n",
       "[ 392, -692,  176, -536]\n",
       "[-224,  176,  208,  128]\n",
       "[ 176, -536,  128,  112]\n",
       "])"
      ]
     },
     "metadata": {},
     "output_type": "display_data"
    },
    {
     "name": "stdout",
     "output_type": "stream",
     "text": [
      "\n",
      "After RREF:\n"
     ]
    },
    {
     "data": {
      "text/latex": [
       "$\\text{RREF}\\left\\{\\text{rref} = \\left[\\begin{array}{cccc}1 & 0 & 0 & -4\\\\0 & 1 & 0 & -2\\\\0 & 0 & 1 & -2\\\\0 & 0 & 0 & 0\\end{array}\\right], \\quad\\text{pivots} = (0, 1, 2)\\right\\}$"
      ],
      "text/plain": [
       "RREF(rref=Matrix([\n",
       "[1, 0, 0, -4]\n",
       "[0, 1, 0, -2]\n",
       "[0, 0, 1, -2]\n",
       "[0, 0, 0,  0]\n",
       "]), pivots=(0, 1, 2))"
      ]
     },
     "metadata": {},
     "output_type": "display_data"
    },
    {
     "name": "stdout",
     "output_type": "stream",
     "text": [
      "\n",
      "Eigenvectors:\n"
     ]
    },
    {
     "data": {
      "text/latex": [
       "$\\displaystyle \\left[ \\left[\\begin{matrix}4\\\\2\\\\2\\\\1\\end{matrix}\\right]\\right]$"
      ],
      "text/plain": [
       "⎡⎡4⎤⎤\n",
       "⎢⎢ ⎥⎥\n",
       "⎢⎢2⎥⎥\n",
       "⎢⎢ ⎥⎥\n",
       "⎢⎢2⎥⎥\n",
       "⎢⎢ ⎥⎥\n",
       "⎣⎣1⎦⎦"
      ]
     },
     "metadata": {},
     "output_type": "display_data"
    },
    {
     "name": "stdout",
     "output_type": "stream",
     "text": [
      "\n",
      "\n"
     ]
    },
    {
     "data": {
      "text/latex": [
       "$\\displaystyle \\text{Before RREF: }100\\mathbb{I} - \\mathrm{self}$"
      ],
      "text/plain": [
       "<IPython.core.display.Math object>"
      ]
     },
     "metadata": {},
     "output_type": "display_data"
    },
    {
     "data": {
      "text/latex": [
       "$\\displaystyle \\left[\\begin{array}{cccc}-428 & 392 & -224 & 176\\\\392 & -992 & 176 & -536\\\\-224 & 176 & -92 & 128\\\\176 & -536 & 128 & -188\\end{array}\\right]$"
      ],
      "text/plain": [
       "Matrix([\n",
       "[-428,  392, -224,  176]\n",
       "[ 392, -992,  176, -536]\n",
       "[-224,  176,  -92,  128]\n",
       "[ 176, -536,  128, -188]\n",
       "])"
      ]
     },
     "metadata": {},
     "output_type": "display_data"
    },
    {
     "name": "stdout",
     "output_type": "stream",
     "text": [
      "\n",
      "After RREF:\n"
     ]
    },
    {
     "data": {
      "text/latex": [
       "$\\text{RREF}\\left\\{\\text{rref} = \\left[\\begin{array}{cccc}1 & 0 & 0 & -1\\\\0 & 1 & 0 & \\frac{1}{2}\\\\0 & 0 & 1 & 2\\\\0 & 0 & 0 & 0\\end{array}\\right], \\quad\\text{pivots} = (0, 1, 2)\\right\\}$"
      ],
      "text/plain": [
       "RREF(rref=Matrix([\n",
       "[1, 0, 0,  -1]\n",
       "[0, 1, 0, 1/2]\n",
       "[0, 0, 1,   2]\n",
       "[0, 0, 0,   0]\n",
       "]), pivots=(0, 1, 2))"
      ]
     },
     "metadata": {},
     "output_type": "display_data"
    },
    {
     "name": "stdout",
     "output_type": "stream",
     "text": [
      "\n",
      "Eigenvectors:\n"
     ]
    },
    {
     "data": {
      "text/latex": [
       "$\\displaystyle \\left[ \\left[\\begin{matrix}1\\\\- \\frac{1}{2}\\\\-2\\\\1\\end{matrix}\\right]\\right]$"
      ],
      "text/plain": [
       "⎡⎡ 1  ⎤⎤\n",
       "⎢⎢    ⎥⎥\n",
       "⎢⎢-1/2⎥⎥\n",
       "⎢⎢    ⎥⎥\n",
       "⎢⎢ -2 ⎥⎥\n",
       "⎢⎢    ⎥⎥\n",
       "⎣⎣ 1  ⎦⎦"
      ]
     },
     "metadata": {},
     "output_type": "display_data"
    },
    {
     "name": "stdout",
     "output_type": "stream",
     "text": [
      "\n",
      "\n"
     ]
    },
    {
     "data": {
      "text/latex": [
       "$\\displaystyle \\text{Before RREF: }0\\mathbb{I} - \\mathrm{self}$"
      ],
      "text/plain": [
       "<IPython.core.display.Math object>"
      ]
     },
     "metadata": {},
     "output_type": "display_data"
    },
    {
     "data": {
      "text/latex": [
       "$\\displaystyle \\left[\\begin{array}{cccc}-528 & 392 & -224 & 176\\\\392 & -1092 & 176 & -536\\\\-224 & 176 & -192 & 128\\\\176 & -536 & 128 & -288\\end{array}\\right]$"
      ],
      "text/plain": [
       "Matrix([\n",
       "[-528,   392, -224,  176]\n",
       "[ 392, -1092,  176, -536]\n",
       "[-224,   176, -192,  128]\n",
       "[ 176,  -536,  128, -288]\n",
       "])"
      ]
     },
     "metadata": {},
     "output_type": "display_data"
    },
    {
     "name": "stdout",
     "output_type": "stream",
     "text": [
      "\n",
      "After RREF:\n"
     ]
    },
    {
     "data": {
      "text/latex": [
       "$\\text{RREF}\\left\\{\\text{rref} = \\left[\\begin{array}{cccc}1 & 0 & 0 & \\frac{1}{4}\\\\0 & 1 & 0 & \\frac{1}{2}\\\\0 & 0 & 1 & - \\frac{1}{2}\\\\0 & 0 & 0 & 0\\end{array}\\right], \\quad\\text{pivots} = (0, 1, 2)\\right\\}$"
      ],
      "text/plain": [
       "RREF(rref=Matrix([\n",
       "[1, 0, 0,  1/4]\n",
       "[0, 1, 0,  1/2]\n",
       "[0, 0, 1, -1/2]\n",
       "[0, 0, 0,    0]\n",
       "]), pivots=(0, 1, 2))"
      ]
     },
     "metadata": {},
     "output_type": "display_data"
    },
    {
     "name": "stdout",
     "output_type": "stream",
     "text": [
      "\n",
      "Eigenvectors:\n"
     ]
    },
    {
     "data": {
      "text/latex": [
       "$\\displaystyle \\left[ \\left[\\begin{matrix}- \\frac{1}{4}\\\\- \\frac{1}{2}\\\\\\frac{1}{2}\\\\1\\end{matrix}\\right]\\right]$"
      ],
      "text/plain": [
       "⎡⎡-1/4⎤⎤\n",
       "⎢⎢    ⎥⎥\n",
       "⎢⎢-1/2⎥⎥\n",
       "⎢⎢    ⎥⎥\n",
       "⎢⎢1/2 ⎥⎥\n",
       "⎢⎢    ⎥⎥\n",
       "⎣⎣ 1  ⎦⎦"
      ]
     },
     "metadata": {},
     "output_type": "display_data"
    },
    {
     "name": "stdout",
     "output_type": "stream",
     "text": [
      "\n",
      "\n"
     ]
    },
    {
     "data": {
      "text/latex": [
       "$\\displaystyle u_1 = (1/40)A\\left[\\begin{matrix}- \\frac{2}{5}\\\\\\frac{4}{5}\\\\- \\frac{1}{5}\\\\\\frac{2}{5}\\end{matrix}\\right] = \\left[\\begin{array}{c}\\frac{1}{2}\\\\\\frac{1}{2}\\\\\\frac{1}{2}\\\\\\frac{1}{2}\\end{array}\\right]$"
      ],
      "text/plain": [
       "<IPython.core.display.Math object>"
      ]
     },
     "metadata": {},
     "output_type": "display_data"
    },
    {
     "data": {
      "text/latex": [
       "$\\displaystyle u_2 = (1/20)A\\left[\\begin{matrix}\\frac{4}{5}\\\\\\frac{2}{5}\\\\\\frac{2}{5}\\\\\\frac{1}{5}\\end{matrix}\\right] = \\left[\\begin{array}{c}- \\frac{1}{2}\\\\\\frac{1}{2}\\\\- \\frac{1}{2}\\\\\\frac{1}{2}\\end{array}\\right]$"
      ],
      "text/plain": [
       "<IPython.core.display.Math object>"
      ]
     },
     "metadata": {},
     "output_type": "display_data"
    },
    {
     "data": {
      "text/latex": [
       "$\\displaystyle u_3 = (1/10)A\\left[\\begin{matrix}\\frac{2}{5}\\\\- \\frac{1}{5}\\\\- \\frac{4}{5}\\\\\\frac{2}{5}\\end{matrix}\\right] = \\left[\\begin{array}{c}- \\frac{1}{2}\\\\\\frac{1}{2}\\\\\\frac{1}{2}\\\\- \\frac{1}{2}\\end{array}\\right]$"
      ],
      "text/plain": [
       "<IPython.core.display.Math object>"
      ]
     },
     "metadata": {},
     "output_type": "display_data"
    },
    {
     "name": "stdout",
     "output_type": "stream",
     "text": [
      "\n",
      "Extending U with its orthogonal complement.\n",
      "Before RREF: [self]\n"
     ]
    },
    {
     "data": {
      "text/latex": [
       "$\\displaystyle \\left[\\begin{matrix}\\frac{1}{2} & \\frac{1}{2} & \\frac{1}{2} & \\frac{1}{2}\\\\- \\frac{1}{2} & \\frac{1}{2} & - \\frac{1}{2} & \\frac{1}{2}\\\\- \\frac{1}{2} & \\frac{1}{2} & \\frac{1}{2} & - \\frac{1}{2}\\end{matrix}\\right]$"
      ],
      "text/plain": [
       "Matrix([\n",
       "[ 1/2, 1/2,  1/2,  1/2],\n",
       "[-1/2, 1/2, -1/2,  1/2],\n",
       "[-1/2, 1/2,  1/2, -1/2]])"
      ]
     },
     "metadata": {},
     "output_type": "display_data"
    },
    {
     "name": "stdout",
     "output_type": "stream",
     "text": [
      "\n",
      "After RREF:\n"
     ]
    },
    {
     "data": {
      "text/latex": [
       "$\\text{RREF}\\left\\{\\text{rref} = \\left[\\begin{array}{cccc}1 & 0 & 0 & 1\\\\0 & 1 & 0 & 1\\\\0 & 0 & 1 & -1\\end{array}\\right], \\quad\\text{pivots} = (0, 1, 2)\\right\\}$"
      ],
      "text/plain": [
       "RREF(rref=Matrix([\n",
       "[1, 0, 0,  1]\n",
       "[0, 1, 0,  1]\n",
       "[0, 0, 1, -1]\n",
       "]), pivots=(0, 1, 2))"
      ]
     },
     "metadata": {},
     "output_type": "display_data"
    },
    {
     "data": {
      "text/latex": [
       "$\\displaystyle v_1 = \\left[\\begin{array}{c}-1\\\\-1\\\\1\\\\1\\end{array}\\right]$"
      ],
      "text/plain": [
       "<IPython.core.display.Math object>"
      ]
     },
     "metadata": {},
     "output_type": "display_data"
    },
    {
     "data": {
      "text/latex": [
       "$\\left[\\begin{array}{cccc}\\frac{1}{2} & - \\frac{1}{2} & - \\frac{1}{2} & - \\frac{1}{2}\\\\\\frac{1}{2} & \\frac{1}{2} & \\frac{1}{2} & - \\frac{1}{2}\\\\\\frac{1}{2} & - \\frac{1}{2} & \\frac{1}{2} & \\frac{1}{2}\\\\\\frac{1}{2} & \\frac{1}{2} & - \\frac{1}{2} & \\frac{1}{2}\\end{array}\\right]\\left[\\begin{array}{cccc}40 & 0 & 0 & 0\\\\0 & 20 & 0 & 0\\\\0 & 0 & 10 & 0\\\\0 & 0 & 0 & 0\\end{array}\\right]\\left[\\begin{array}{cccc}- \\frac{2}{5} & \\frac{4}{5} & - \\frac{1}{5} & \\frac{2}{5}\\\\\\frac{4}{5} & \\frac{2}{5} & \\frac{2}{5} & \\frac{1}{5}\\\\\\frac{2}{5} & - \\frac{1}{5} & - \\frac{4}{5} & \\frac{2}{5}\\\\- \\frac{1}{5} & - \\frac{2}{5} & \\frac{2}{5} & \\frac{4}{5}\\end{array}\\right]$"
      ],
      "text/plain": [
       "SVD(U=Matrix([\n",
       "[1/2, -1/2, -1/2, -1/2]\n",
       "[1/2,  1/2,  1/2, -1/2]\n",
       "[1/2, -1/2,  1/2,  1/2]\n",
       "[1/2,  1/2, -1/2,  1/2]\n",
       "]), S=Matrix([\n",
       "[40,  0,  0, 0]\n",
       "[ 0, 20,  0, 0]\n",
       "[ 0,  0, 10, 0]\n",
       "[ 0,  0,  0, 0]\n",
       "]), V=Matrix([\n",
       "[-2/5, 4/5,  2/5, -1/5]\n",
       "[ 4/5, 2/5, -1/5, -2/5]\n",
       "[-1/5, 2/5, -4/5,  2/5]\n",
       "[ 2/5, 1/5,  2/5,  4/5]\n",
       "]))"
      ]
     },
     "execution_count": 79,
     "metadata": {},
     "output_type": "execute_result"
    }
   ],
   "source": [
    "A.singular_value_decomposition(verbosity=1)"
   ]
  }
 ],
 "metadata": {
  "kernelspec": {
   "display_name": ".venv",
   "language": "python",
   "name": "python3"
  },
  "language_info": {
   "codemirror_mode": {
    "name": "ipython",
    "version": 3
   },
   "file_extension": ".py",
   "mimetype": "text/x-python",
   "name": "python",
   "nbconvert_exporter": "python",
   "pygments_lexer": "ipython3",
   "version": "3.10.11"
  }
 },
 "nbformat": 4,
 "nbformat_minor": 5
}

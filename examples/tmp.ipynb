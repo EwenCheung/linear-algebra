{
 "cells": [
  {
   "cell_type": "code",
   "execution_count": 14,
   "id": "93f9ff33",
   "metadata": {},
   "outputs": [
    {
     "name": "stdout",
     "output_type": "stream",
     "text": [
      "The autoreload extension is already loaded. To reload it, use:\n",
      "  %reload_ext autoreload\n"
     ]
    }
   ],
   "source": [
    "import math \n",
    "\n",
    "import sympy as sym\n",
    "import mpmath as mp\n",
    "\n",
    "import sys\n",
    "sys.path.append(r\"C:\\Github\\linear-algebra\\src\")\n",
    "from ma1522 import Matrix, Shape\n",
    "\n",
    "%load_ext autoreload\n",
    "%autoreload 2"
   ]
  },
  {
   "cell_type": "code",
   "execution_count": 48,
   "id": "87c2af61",
   "metadata": {},
   "outputs": [
    {
     "name": "stdout",
     "output_type": "stream",
     "text": [
      "Check if span(self) is subspace of span(other)\n",
      "\n",
      "Before RREF: [other | self]\n"
     ]
    },
    {
     "data": {
      "text/latex": [
       "$\\displaystyle \\left[\\begin{array}{cc|c}1 & 0 & 1\\\\0 & 1 & 0\\end{array}\\right]$"
      ],
      "text/plain": [
       "Matrix([\n",
       "[1, 0 | 1]\n",
       "[0, 1 | 0]\n",
       "])"
      ]
     },
     "metadata": {},
     "output_type": "display_data"
    },
    {
     "name": "stdout",
     "output_type": "stream",
     "text": [
      "\n",
      "After RREF:\n"
     ]
    },
    {
     "data": {
      "text/latex": [
       "$\\text{RREF}\\left\\{\\text{rref} = \\left[\\begin{array}{cc|c}1 & 0 & 1\\\\0 & 1 & 0\\end{array}\\right], \\quad\\text{pivots} = (0, 1)\\right\\}$"
      ],
      "text/plain": [
       "RREF(rref=Matrix([\n",
       "[1, 0 | 1]\n",
       "[0, 1 | 0]\n",
       "]), pivots=(0, 1))"
      ]
     },
     "metadata": {},
     "output_type": "display_data"
    },
    {
     "name": "stdout",
     "output_type": "stream",
     "text": [
      "Span(self) is a subspace of span(other).\n",
      "\n"
     ]
    },
    {
     "data": {
      "text/plain": [
       "False"
      ]
     },
     "execution_count": 48,
     "metadata": {},
     "output_type": "execute_result"
    }
   ],
   "source": [
    "mat1 = Matrix([[1, 0], [0, 1]])\n",
    "mat2 = Matrix([[1], [0]])\n",
    "mat2.is_subspace_of(mat1, verbosity=2)  # True"
   ]
  },
  {
   "cell_type": "code",
   "execution_count": 8,
   "id": "98c6f160",
   "metadata": {},
   "outputs": [
    {
     "ename": "UnicodeDecodeError",
     "evalue": "'charmap' codec can't decode byte 0x9d in position 20887: character maps to <undefined>",
     "output_type": "error",
     "traceback": [
      "\u001b[1;31m---------------------------------------------------------------------------\u001b[0m",
      "\u001b[1;31mUnicodeDecodeError\u001b[0m                        Traceback (most recent call last)",
      "Cell \u001b[1;32mIn[8], line 4\u001b[0m\n\u001b[0;32m      1\u001b[0m \u001b[38;5;28;01mimport\u001b[39;00m\u001b[38;5;250m \u001b[39m\u001b[38;5;21;01mnbformat\u001b[39;00m\n\u001b[0;32m      2\u001b[0m \u001b[38;5;28;01mfrom\u001b[39;00m\u001b[38;5;250m \u001b[39m\u001b[38;5;21;01mpathlib\u001b[39;00m\u001b[38;5;250m \u001b[39m\u001b[38;5;28;01mimport\u001b[39;00m Path\n\u001b[1;32m----> 4\u001b[0m p \u001b[38;5;241m=\u001b[39m \u001b[43mPath\u001b[49m\u001b[43m(\u001b[49m\u001b[38;5;124;43m\"\u001b[39;49m\u001b[38;5;124;43m../docs/Tutorials/Tut01.ipynb\u001b[39;49m\u001b[38;5;124;43m\"\u001b[39;49m\u001b[43m)\u001b[49m\u001b[38;5;241;43m.\u001b[39;49m\u001b[43mread_text\u001b[49m\u001b[43m(\u001b[49m\u001b[43m)\u001b[49m\n\u001b[0;32m      5\u001b[0m p\n\u001b[0;32m      6\u001b[0m nbformat\u001b[38;5;241m.\u001b[39mreads(p, as_version\u001b[38;5;241m=\u001b[39m\u001b[38;5;241m4\u001b[39m)\n",
      "File \u001b[1;32m~\\AppData\\Local\\Programs\\Python\\Python310\\lib\\pathlib.py:1135\u001b[0m, in \u001b[0;36mPath.read_text\u001b[1;34m(self, encoding, errors)\u001b[0m\n\u001b[0;32m   1133\u001b[0m encoding \u001b[38;5;241m=\u001b[39m io\u001b[38;5;241m.\u001b[39mtext_encoding(encoding)\n\u001b[0;32m   1134\u001b[0m \u001b[38;5;28;01mwith\u001b[39;00m \u001b[38;5;28mself\u001b[39m\u001b[38;5;241m.\u001b[39mopen(mode\u001b[38;5;241m=\u001b[39m\u001b[38;5;124m'\u001b[39m\u001b[38;5;124mr\u001b[39m\u001b[38;5;124m'\u001b[39m, encoding\u001b[38;5;241m=\u001b[39mencoding, errors\u001b[38;5;241m=\u001b[39merrors) \u001b[38;5;28;01mas\u001b[39;00m f:\n\u001b[1;32m-> 1135\u001b[0m     \u001b[38;5;28;01mreturn\u001b[39;00m \u001b[43mf\u001b[49m\u001b[38;5;241;43m.\u001b[39;49m\u001b[43mread\u001b[49m\u001b[43m(\u001b[49m\u001b[43m)\u001b[49m\n",
      "File \u001b[1;32m~\\AppData\\Local\\Programs\\Python\\Python310\\lib\\encodings\\cp1252.py:23\u001b[0m, in \u001b[0;36mIncrementalDecoder.decode\u001b[1;34m(self, input, final)\u001b[0m\n\u001b[0;32m     22\u001b[0m \u001b[38;5;28;01mdef\u001b[39;00m\u001b[38;5;250m \u001b[39m\u001b[38;5;21mdecode\u001b[39m(\u001b[38;5;28mself\u001b[39m, \u001b[38;5;28minput\u001b[39m, final\u001b[38;5;241m=\u001b[39m\u001b[38;5;28;01mFalse\u001b[39;00m):\n\u001b[1;32m---> 23\u001b[0m     \u001b[38;5;28;01mreturn\u001b[39;00m \u001b[43mcodecs\u001b[49m\u001b[38;5;241;43m.\u001b[39;49m\u001b[43mcharmap_decode\u001b[49m\u001b[43m(\u001b[49m\u001b[38;5;28;43minput\u001b[39;49m\u001b[43m,\u001b[49m\u001b[38;5;28;43mself\u001b[39;49m\u001b[38;5;241;43m.\u001b[39;49m\u001b[43merrors\u001b[49m\u001b[43m,\u001b[49m\u001b[43mdecoding_table\u001b[49m\u001b[43m)\u001b[49m[\u001b[38;5;241m0\u001b[39m]\n",
      "\u001b[1;31mUnicodeDecodeError\u001b[0m: 'charmap' codec can't decode byte 0x9d in position 20887: character maps to <undefined>"
     ]
    }
   ],
   "source": [
    "import nbformat\n",
    "from pathlib import Path\n",
    "\n",
    "p = Path(\"../docs/Tutorials/Tut01.ipynb\").read_text()\n",
    "p\n",
    "nbformat.reads(p, as_version=4)"
   ]
  },
  {
   "cell_type": "code",
   "execution_count": 55,
   "id": "880af2bd",
   "metadata": {},
   "outputs": [
    {
     "data": {
      "text/latex": [
       "$\\left[\\begin{array}{cc}2 & 2\\\\3 & 3\\end{array}\\right]\\left[\\begin{array}{cc}3 & 0\\\\0 & 6\\end{array}\\right]$"
      ],
      "text/plain": [
       "ScalarFactor(diag=Matrix([\n",
       "[3, 0]\n",
       "[0, 6]\n",
       "]), full=Matrix([\n",
       "[2, 2]\n",
       "[3, 3]\n",
       "]), order='FD')"
      ]
     },
     "execution_count": 55,
     "metadata": {},
     "output_type": "execute_result"
    }
   ],
   "source": [
    "SF"
   ]
  },
  {
   "cell_type": "code",
   "execution_count": 35,
   "id": "a93cade0",
   "metadata": {},
   "outputs": [],
   "source": [
    "res = Matrix.diag(-1, 4, sym.Rational(1, 2)).cpoly()\n",
    "roots = set()\n",
    "for expr in res.args:  # type: ignore\n",
    "    roots.add(sym.solve(expr)[0])\n"
   ]
  },
  {
   "cell_type": "code",
   "execution_count": 36,
   "id": "0ab9d0b9",
   "metadata": {},
   "outputs": [
    {
     "data": {
      "text/plain": [
       "True"
      ]
     },
     "execution_count": 36,
     "metadata": {},
     "output_type": "execute_result"
    }
   ],
   "source": [
    "roots == set((4, sym.Rational(1, 2), -1))\n"
   ]
  },
  {
   "cell_type": "code",
   "execution_count": 37,
   "id": "c6c723d8",
   "metadata": {},
   "outputs": [
    {
     "name": "stdout",
     "output_type": "stream",
     "text": [
      "Check if matrix is symmetric: True\n",
      "\n",
      "Check if self == self^T:\n"
     ]
    },
    {
     "data": {
      "text/plain": [
       "True"
      ]
     },
     "metadata": {},
     "output_type": "display_data"
    },
    {
     "data": {
      "text/plain": [
       "True"
      ]
     },
     "execution_count": 37,
     "metadata": {},
     "output_type": "execute_result"
    }
   ],
   "source": [
    "mat = Matrix([[1, 2], [2, 1]])\n",
    "mat.is_orthogonally_diagonalizable()"
   ]
  },
  {
   "cell_type": "code",
   "execution_count": 30,
   "id": "c65107fe",
   "metadata": {},
   "outputs": [
    {
     "data": {
      "text/plain": [
       "True"
      ]
     },
     "execution_count": 30,
     "metadata": {},
     "output_type": "execute_result"
    }
   ],
   "source": [
    "Matrix.from_str(\"1/2 0; 0 1/2\") == transition\n"
   ]
  },
  {
   "cell_type": "code",
   "execution_count": 13,
   "id": "9a2dab35",
   "metadata": {},
   "outputs": [
    {
     "name": "stdout",
     "output_type": "stream",
     "text": [
      "81 False\n",
      "14 False\n",
      "3 False\n",
      "94 False\n"
     ]
    }
   ],
   "source": [
    "for elem in mat.flat():\n",
    "    print(elem, isinstance(elem, (int, float)))"
   ]
  },
  {
   "cell_type": "code",
   "execution_count": 1,
   "id": "ccd83e1b",
   "metadata": {},
   "outputs": [],
   "source": [
    "from ma1522 import Shape"
   ]
  },
  {
   "cell_type": "code",
   "execution_count": 12,
   "id": "617db8f8",
   "metadata": {},
   "outputs": [
    {
     "data": {
      "text/latex": [
       "$\\displaystyle \\left[\\begin{array}{ccc}x_{1,1} & 0 & 0\\\\0 & x_{1,1} & 0\\\\0 & 0 & x_{1,1}\\end{array}\\right]$"
      ],
      "text/plain": [
       "Matrix([\n",
       "[x_1,1,     0,     0]\n",
       "[    0, x_1,1,     0]\n",
       "[    0,     0, x_1,1]\n",
       "])"
      ]
     },
     "execution_count": 12,
     "metadata": {},
     "output_type": "execute_result"
    }
   ],
   "source": [
    "tmp = Matrix.create_unk_matrix(3, 3, shape=Shape.SCALAR)\n",
    "tmp"
   ]
  },
  {
   "cell_type": "code",
   "execution_count": 13,
   "id": "be8abd13",
   "metadata": {},
   "outputs": [
    {
     "data": {
      "text/plain": [
       "[{x_1,1: 1}]"
      ]
     },
     "execution_count": 13,
     "metadata": {},
     "output_type": "execute_result"
    }
   ],
   "source": [
    "sol = sym.solve(tmp - Matrix.eye(3), tmp.free_symbols, dict=True)\n",
    "sol"
   ]
  },
  {
   "cell_type": "code",
   "execution_count": 14,
   "id": "a495e14c",
   "metadata": {},
   "outputs": [
    {
     "data": {
      "text/plain": [
       "list"
      ]
     },
     "execution_count": 14,
     "metadata": {},
     "output_type": "execute_result"
    }
   ],
   "source": [
    "type(sol)"
   ]
  },
  {
   "cell_type": "code",
   "execution_count": null,
   "id": "a2e2653e",
   "metadata": {},
   "outputs": [
    {
     "data": {
      "text/latex": [
       "$\\displaystyle \\left[ \\frac{\\sqrt{2}}{2}\\right]$"
      ],
      "text/plain": [
       "⎡√2⎤\n",
       "⎢──⎥\n",
       "⎣2 ⎦"
      ]
     },
     "execution_count": 16,
     "metadata": {},
     "output_type": "execute_result"
    }
   ],
   "source": [
    "tmp = []\n",
    "g = 1/sym.sqrt(2)\n",
    "n, d = sym.fraction(g)\n",
    "if n - d\n",
    "tmp.append(g)\n",
    "tmp"
   ]
  },
  {
   "cell_type": "code",
   "execution_count": 7,
   "id": "e31127ff",
   "metadata": {},
   "outputs": [
    {
     "name": "stderr",
     "output_type": "stream",
     "text": [
      "C:\\Users\\yeesh\\AppData\\Local\\Temp\\ipykernel_14584\\854704251.py:1: UserWarning: Matrix rows should not be scaled by 0\n",
      "  mat.scale_row(0, 0)\n"
     ]
    },
    {
     "data": {
      "text/latex": [
       "$\\displaystyle \\left(0\\right) R_1 \\rightarrow R_1$"
      ],
      "text/plain": [
       "<IPython.core.display.Math object>"
      ]
     },
     "metadata": {},
     "output_type": "display_data"
    },
    {
     "data": {
      "text/latex": [
       "$\\displaystyle \\left[\\begin{array}{cccc}0 & 0 & 0 & 0\\\\35 & 31 & 28 & 17\\\\94 & 13 & 86 & 94\\end{array}\\right]$"
      ],
      "text/plain": [
       "Matrix([\n",
       "[ 0,  0,  0,  0]\n",
       "[35, 31, 28, 17]\n",
       "[94, 13, 86, 94]\n",
       "])"
      ]
     },
     "metadata": {},
     "output_type": "display_data"
    },
    {
     "name": "stdout",
     "output_type": "stream",
     "text": [
      "\n",
      "\n"
     ]
    },
    {
     "data": {
      "text/latex": [
       "$\\displaystyle \\left[\\begin{array}{cccc}0 & 0 & 0 & 0\\\\35 & 31 & 28 & 17\\\\94 & 13 & 86 & 94\\end{array}\\right]$"
      ],
      "text/plain": [
       "Matrix([\n",
       "[ 0,  0,  0,  0]\n",
       "[35, 31, 28, 17]\n",
       "[94, 13, 86, 94]\n",
       "])"
      ]
     },
     "execution_count": 7,
     "metadata": {},
     "output_type": "execute_result"
    }
   ],
   "source": [
    "mat.scale_row(0, 0)"
   ]
  },
  {
   "cell_type": "code",
   "execution_count": 21,
   "id": "94a48c11",
   "metadata": {},
   "outputs": [
    {
     "data": {
      "text/latex": [
       "$\\displaystyle \\left[\\begin{matrix}1 & x & 3\\\\x^{2} & 5 & 6\\\\y & 8 & 9\\end{matrix}\\right]$"
      ],
      "text/plain": [
       "Matrix([\n",
       "[   1, x, 3],\n",
       "[x**2, 5, 6],\n",
       "[   y, 8, 9]])"
      ]
     },
     "execution_count": 21,
     "metadata": {},
     "output_type": "execute_result"
    }
   ],
   "source": [
    "txt = \"1 x 3 x**2 5 6 y 8 9\"\n",
    "Matrix(txt.split()).reshape(3, 3)"
   ]
  },
  {
   "cell_type": "code",
   "execution_count": 24,
   "id": "b030ece3",
   "metadata": {},
   "outputs": [
    {
     "data": {
      "text/plain": [
       "{0, 1, 2}"
      ]
     },
     "execution_count": 24,
     "metadata": {},
     "output_type": "execute_result"
    }
   ],
   "source": [
    "set(range(3))"
   ]
  },
  {
   "cell_type": "code",
   "execution_count": 26,
   "id": "3d474621",
   "metadata": {},
   "outputs": [
    {
     "ename": "SyntaxError",
     "evalue": "invalid syntax (<unknown>, line 1)",
     "output_type": "error",
     "traceback": [
      "Traceback \u001b[1;36m(most recent call last)\u001b[0m:\n",
      "\u001b[0m  File \u001b[0;32mc:\\Github\\linear-algebra\\.venv\\lib\\site-packages\\IPython\\core\\interactiveshell.py:3577\u001b[0m in \u001b[0;35mrun_code\u001b[0m\n    exec(code_obj, self.user_global_ns, self.user_ns)\u001b[0m\n",
      "\u001b[0m  Cell \u001b[0;32mIn[26], line 3\u001b[0m\n    parse_expr(\"x**2 + 2x + 1\", evaluate=False)\u001b[0m\n",
      "\u001b[0m  File \u001b[0;32mc:\\Github\\linear-algebra\\.venv\\lib\\site-packages\\sympy\\parsing\\sympy_parser.py:1078\u001b[0m in \u001b[0;35mparse_expr\u001b[0m\n    code = compile(evaluateFalse(code), '<string>', 'eval') # type: ignore\u001b[0m\n",
      "\u001b[0m  File \u001b[0;32mc:\\Github\\linear-algebra\\.venv\\lib\\site-packages\\sympy\\parsing\\sympy_parser.py:1097\u001b[0m in \u001b[0;35mevaluateFalse\u001b[0m\n    node = ast.parse(s)\u001b[0m\n",
      "\u001b[1;36m  File \u001b[1;32m~\\AppData\\Local\\Programs\\Python\\Python310\\lib\\ast.py:50\u001b[1;36m in \u001b[1;35mparse\u001b[1;36m\n\u001b[1;33m    return compile(source, filename, mode, flags,\u001b[1;36m\n",
      "\u001b[1;36m  File \u001b[1;32m<unknown>:1\u001b[1;36m\u001b[0m\n\u001b[1;33m    Symbol ('x' )**Integer (2 )+Integer (2 )Symbol ('x' )+Integer (1 )\u001b[0m\n\u001b[1;37m                                            ^\u001b[0m\n\u001b[1;31mSyntaxError\u001b[0m\u001b[1;31m:\u001b[0m invalid syntax\n"
     ]
    }
   ],
   "source": [
    "from sympy.parsing.sympy_parser import parse_expr\n",
    "\n",
    "parse_expr(\"x**2 + 2x + 1\", evaluate=False)"
   ]
  },
  {
   "cell_type": "code",
   "execution_count": 22,
   "id": "6c42ff4b",
   "metadata": {},
   "outputs": [
    {
     "data": {
      "text/plain": [
       "Child(field1='test', field2=2)"
      ]
     },
     "execution_count": 22,
     "metadata": {},
     "output_type": "execute_result"
    }
   ],
   "source": [
    "import dataclasses\n",
    "\n",
    "@dataclasses.dataclass\n",
    "class Custom():\n",
    "    def _latex(self, printer=None) -> str:\n",
    "        return \"Hello world\"\n",
    "        \n",
    "    def __iter__(self):\n",
    "        return iter(\n",
    "            tuple(getattr(self, field.name) for field in dataclasses.fields(self))\n",
    "        )\n",
    "    \n",
    "    def __getitem__(self, idx: int):\n",
    "        fields = dataclasses.fields(self)\n",
    "        return getattr(self, fields[idx].name)\n",
    "    \n",
    "    def __setitem__(self, idx: int, value) -> None:\n",
    "        fields = dataclasses.fields(self)\n",
    "        setattr(self, fields[idx].name, value)\n",
    "\n",
    "\n",
    "@dataclasses.dataclass\n",
    "class Child(Custom):\n",
    "    field1: str\n",
    "    field2: int\n",
    "\n",
    "    def _latex(self, printer=None) -> str:\n",
    "        return \"Overide\"\n",
    "\n",
    "    # def __iter__(self):\n",
    "    #     # return tuple([self.__dict__[field.name] for field in dataclasses.fields(self)])\n",
    "    #     return iter(\n",
    "    #         tuple(getattr(self, field.name) for field in dataclasses.fields(self))\n",
    "    #     )\n",
    "\n",
    "class MyObject():\n",
    "    def __init__(self) -> None:\n",
    "        pass\n",
    "    def create(self):\n",
    "        return Child(\"test\", 1)\n",
    "\n",
    "tmp = Child(\"test\", 1)\n",
    "tmp[1] = 2\n",
    "tmp"
   ]
  },
  {
   "cell_type": "code",
   "execution_count": 31,
   "id": "42fb43dd",
   "metadata": {},
   "outputs": [
    {
     "data": {
      "text/latex": [
       "$\\displaystyle \\left[\\begin{matrix}1 & 2\\\\3 & 4\\end{matrix}\\right]$"
      ],
      "text/plain": [
       "⎡1  2⎤\n",
       "⎢    ⎥\n",
       "⎣3  4⎦"
      ]
     },
     "metadata": {},
     "output_type": "display_data"
    }
   ],
   "source": [
    "from latex2sympy2 import latex2sympy\n",
    "\n",
    "tex = r\"\\begin{pmatrix} 1 & 2 \\\\ 3 & 4 \\end{pmatrix}\"\n",
    "\n",
    "mat = Matrix.from_latex(tex)"
   ]
  },
  {
   "cell_type": "code",
   "execution_count": 18,
   "id": "00ab2a3a",
   "metadata": {},
   "outputs": [
    {
     "name": "stdout",
     "output_type": "stream",
     "text": [
      "Left inverse found!\n",
      "Right inverse found!\n",
      "Before RREF: [self | eye]\n"
     ]
    },
    {
     "data": {
      "text/latex": [
       "$\\displaystyle \\left[\\begin{array}{cc|cc}1 & 2 & 1 & 0\\\\3 & 4 & 0 & 1\\end{array}\\right]$"
      ],
      "text/plain": [
       "Matrix([\n",
       "[1, 2 | 1, 0]\n",
       "[3, 4 | 0, 1]\n",
       "])"
      ]
     },
     "metadata": {},
     "output_type": "display_data"
    },
    {
     "name": "stdout",
     "output_type": "stream",
     "text": [
      "\n",
      "After RREF:\n"
     ]
    },
    {
     "data": {
      "text/latex": [
       "$\\text{RREF} = \\left(\\text{rref} = \\left[\\begin{array}{cc|cc}1 & 0 & -2 & 1\\\\0 & 1 & \\frac{3}{2} & - \\frac{1}{2}\\end{array}\\right], \\quad\\text{pivots} = \\text{(0, 1)}\\right)$"
      ],
      "text/plain": [
       "RREF(rref=Matrix([\n",
       "[1, 0 |  -2,    1]\n",
       "[0, 1 | 3/2, -1/2]\n",
       "]), pivots=(0, 1))"
      ]
     },
     "metadata": {},
     "output_type": "display_data"
    }
   ],
   "source": [
    "A = Matrix([[1, 2], [3, 4]], aug_pos=set())\n",
    "inv = A.inverse(verbosity=2)\n",
    "assert inv @ A == Matrix.eye(2)\n",
    "assert A @ inv == Matrix.eye(2)\n"
   ]
  },
  {
   "cell_type": "code",
   "execution_count": 28,
   "id": "b894950b",
   "metadata": {},
   "outputs": [
    {
     "name": "stdout",
     "output_type": "stream",
     "text": [
      "For system to be consistent, the following constraints must be satisfied.\n"
     ]
    },
    {
     "data": {
      "text/latex": [
       "$\\displaystyle x_{1} - \\frac{x_{2}}{2} = 0$"
      ],
      "text/plain": [
       "     x₂    \n",
       "x₁ - ── = 0\n",
       "     2     "
      ]
     },
     "metadata": {},
     "output_type": "display_data"
    }
   ],
   "source": [
    "mat = Matrix([[1, 2], [2, 4]]).column_constraints()"
   ]
  },
  {
   "cell_type": "code",
   "execution_count": 31,
   "id": "22b97734",
   "metadata": {},
   "outputs": [
    {
     "data": {
      "text/latex": [
       "$\\displaystyle \\left[\\begin{array}{cc|c}1 & 2 & \\frac{x_{2}}{2}\\\\0 & 0 & x_{1} - \\frac{x_{2}}{2}\\end{array}\\right]$"
      ],
      "text/plain": [
       "Matrix([\n",
       "[1, 2 |       x_2/2]\n",
       "[0, 0 | x_1 - x_2/2]\n",
       "])"
      ]
     },
     "execution_count": 31,
     "metadata": {},
     "output_type": "execute_result"
    }
   ],
   "source": [
    "mat"
   ]
  },
  {
   "cell_type": "code",
   "execution_count": null,
   "id": "594b527d",
   "metadata": {},
   "outputs": [
    {
     "ename": "AttributeError",
     "evalue": "'set' object has no attribute 'items'",
     "output_type": "error",
     "traceback": [
      "\u001b[1;31m---------------------------------------------------------------------------\u001b[0m",
      "\u001b[1;31mAttributeError\u001b[0m                            Traceback (most recent call last)",
      "Cell \u001b[1;32mIn[37], line 1\u001b[0m\n\u001b[1;32m----> 1\u001b[0m \u001b[43mmat\u001b[49m\u001b[38;5;241;43m.\u001b[39;49m\u001b[43mfree_symbols\u001b[49m\u001b[38;5;241;43m.\u001b[39;49m\u001b[43mitems\u001b[49m\n",
      "\u001b[1;31mAttributeError\u001b[0m: 'set' object has no attribute 'items'"
     ]
    }
   ],
   "source": [
    "mat.free_symbols"
   ]
  },
  {
   "cell_type": "code",
   "execution_count": 49,
   "id": "e0d7900c",
   "metadata": {},
   "outputs": [
    {
     "name": "stdout",
     "output_type": "stream",
     "text": [
      "Before RREF: [to | self]\n"
     ]
    },
    {
     "data": {
      "text/latex": [
       "$\\displaystyle \\left[\\begin{array}{cc|cc}2 & 0 & 1 & 0\\\\0 & 2 & 0 & 1\\end{array}\\right]$"
      ],
      "text/plain": [
       "Matrix([\n",
       "[2, 0 | 1, 0]\n",
       "[0, 2 | 0, 1]\n",
       "])"
      ]
     },
     "metadata": {},
     "output_type": "display_data"
    },
    {
     "name": "stdout",
     "output_type": "stream",
     "text": [
      "\n",
      "After RREF:\n"
     ]
    },
    {
     "data": {
      "text/latex": [
       "$\\displaystyle \\left[\\begin{array}{cc|cc}1 & 0 & \\frac{1}{2} & 0\\\\0 & 1 & 0 & \\frac{1}{2}\\end{array}\\right]$"
      ],
      "text/plain": [
       "Matrix([\n",
       "[1, 0 | 1/2,   0]\n",
       "[0, 1 |   0, 1/2]\n",
       "])"
      ]
     },
     "metadata": {},
     "output_type": "display_data"
    },
    {
     "ename": "AssertionError",
     "evalue": "",
     "output_type": "error",
     "traceback": [
      "\u001b[1;31m---------------------------------------------------------------------------\u001b[0m",
      "\u001b[1;31mAssertionError\u001b[0m                            Traceback (most recent call last)",
      "Cell \u001b[1;32mIn[49], line 5\u001b[0m\n\u001b[0;32m      3\u001b[0m transition \u001b[38;5;241m=\u001b[39m mat1\u001b[38;5;241m.\u001b[39mtransition_matrix(to\u001b[38;5;241m=\u001b[39mmat2, verbosity\u001b[38;5;241m=\u001b[39m\u001b[38;5;241m2\u001b[39m)\n\u001b[0;32m      4\u001b[0m \u001b[38;5;66;03m# Perceived bug: transition_matrix does not return the correct matrix.\u001b[39;00m\n\u001b[1;32m----> 5\u001b[0m \u001b[38;5;28;01massert\u001b[39;00m (transition \u001b[38;5;241m@\u001b[39m mat1) \u001b[38;5;241m==\u001b[39m mat2\n",
      "\u001b[1;31mAssertionError\u001b[0m: "
     ]
    }
   ],
   "source": [
    "mat1 = Matrix([[1, 0], [0, 1]])\n",
    "mat2 = Matrix([[2, 0], [0, 2]])\n",
    "transition = mat1.transition_matrix(to=mat2, verbosity=2)\n",
    "# Perceived bug: transition_matrix does not return the correct matrix.\n",
    "assert (transition @ mat1) == mat2\n"
   ]
  },
  {
   "cell_type": "code",
   "execution_count": 52,
   "id": "89d08f02",
   "metadata": {},
   "outputs": [
    {
     "data": {
      "text/latex": [
       "$\\displaystyle \\left[\\begin{array}{cc}1 & 0\\\\0 & 1\\end{array}\\right]$"
      ],
      "text/plain": [
       "Matrix([\n",
       "[1, 0]\n",
       "[0, 1]\n",
       "])"
      ]
     },
     "execution_count": 52,
     "metadata": {},
     "output_type": "execute_result"
    }
   ],
   "source": [
    "transition @ mat2"
   ]
  },
  {
   "cell_type": "code",
   "execution_count": 53,
   "id": "9ce4c469",
   "metadata": {},
   "outputs": [
    {
     "data": {
      "text/latex": [
       "$\\displaystyle \\left[\\begin{array}{cc}1 & 0\\\\0 & 1\\end{array}\\right]$"
      ],
      "text/plain": [
       "Matrix([\n",
       "[1, 0]\n",
       "[0, 1]\n",
       "])"
      ]
     },
     "execution_count": 53,
     "metadata": {},
     "output_type": "execute_result"
    }
   ],
   "source": [
    "mat1"
   ]
  },
  {
   "cell_type": "code",
   "execution_count": 43,
   "id": "b38f6e35",
   "metadata": {},
   "outputs": [
    {
     "data": {
      "text/plain": [
       "True"
      ]
     },
     "execution_count": 43,
     "metadata": {},
     "output_type": "execute_result"
    }
   ],
   "source": [
    "x2 = mat[0, 2].free_symbols.pop()\n",
    "symbols = mat.free_symbols\n",
    "symbols.remove(x2)\n",
    "x1 = symbols.pop()\n",
    "\n",
    "expected = Matrix([[1, 2, x2 / 2], [0, 0, x1 - x2 / 2]], aug_pos=2)\n",
    "\n",
    "mat == expected"
   ]
  },
  {
   "cell_type": "code",
   "execution_count": 12,
   "id": "751da98f",
   "metadata": {},
   "outputs": [
    {
     "data": {
      "text/plain": [
       "'Matrix([\\n[1, 0]\\n[0, 1]\\n])'"
      ]
     },
     "execution_count": 12,
     "metadata": {},
     "output_type": "execute_result"
    }
   ],
   "source": [
    "Matrix.eye(2).__repr__()"
   ]
  },
  {
   "cell_type": "code",
   "execution_count": 2,
   "id": "0c5e5a42",
   "metadata": {},
   "outputs": [
    {
     "name": "stdout",
     "output_type": "stream",
     "text": [
      "A linear system whose solution space is the subspace of self. Null(self^T)^T\n"
     ]
    },
    {
     "data": {
      "text/latex": [
       "$\\displaystyle \\left[\\begin{array}{cccc}3 & -3 & 1 & 0\\\\2 & -1 & 0 & 1\\end{array}\\right]$"
      ],
      "text/plain": [
       "Matrix([\n",
       "[3, -3, 1, 0]\n",
       "[2, -1, 0, 1]\n",
       "])"
      ]
     },
     "metadata": {},
     "output_type": "display_data"
    },
    {
     "name": "stdout",
     "output_type": "stream",
     "text": [
      "\n",
      "A linear system whose solution space is the subspace of other. Null(other^T)^T\n"
     ]
    },
    {
     "data": {
      "text/latex": [
       "$\\displaystyle \\left[\\begin{array}{cccc}2 & -2 & 1 & 0\\\\0 & 1 & 0 & 1\\end{array}\\right]$"
      ],
      "text/plain": [
       "Matrix([\n",
       "[2, -2, 1, 0]\n",
       "[0,  1, 0, 1]\n",
       "])"
      ]
     },
     "metadata": {},
     "output_type": "display_data"
    },
    {
     "name": "stdout",
     "output_type": "stream",
     "text": [
      "\n",
      "Before RREF: [self ; other]\n"
     ]
    },
    {
     "data": {
      "text/latex": [
       "$\\displaystyle \\left[\\begin{array}{cccc}3 & -3 & 1 & 0\\\\2 & -1 & 0 & 1\\\\2 & -2 & 1 & 0\\\\0 & 1 & 0 & 1\\end{array}\\right]$"
      ],
      "text/plain": [
       "Matrix([\n",
       "[3, -3, 1, 0]\n",
       "[2, -1, 0, 1]\n",
       "[2, -2, 1, 0]\n",
       "[0,  1, 0, 1]\n",
       "])"
      ]
     },
     "metadata": {},
     "output_type": "display_data"
    },
    {
     "name": "stdout",
     "output_type": "stream",
     "text": [
      "\n",
      "After RREF:\n"
     ]
    },
    {
     "data": {
      "text/latex": [
       "$\\text{RREF} = \\left(\\text{rref} = \\left[\\begin{array}{cccc}1 & 0 & 0 & 1\\\\0 & 1 & 0 & 1\\\\0 & 0 & 1 & 0\\\\0 & 0 & 0 & 0\\end{array}\\right], \\quad\\text{pivots} = \\text{(0, 1, 2)}\\right)$"
      ],
      "text/plain": [
       "RREF(rref=Matrix([\n",
       "[1, 0, 0, 1]\n",
       "[0, 1, 0, 1]\n",
       "[0, 0, 1, 0]\n",
       "[0, 0, 0, 0]\n",
       "]), pivots=(0, 1, 2))"
      ]
     },
     "metadata": {},
     "output_type": "display_data"
    },
    {
     "data": {
      "text/latex": [
       "$\\displaystyle \\left[\\begin{matrix}-1\\\\-1\\\\0\\\\1\\end{matrix}\\right]$"
      ],
      "text/plain": [
       "Matrix([\n",
       "[-1],\n",
       "[-1],\n",
       "[ 0],\n",
       "[ 1]])"
      ]
     },
     "execution_count": 2,
     "metadata": {},
     "output_type": "execute_result"
    }
   ],
   "source": [
    "mat1 = Matrix([[1, 1, 0, -1], [0, 1, 3, 1]]).T\n",
    "mat2 = Matrix([[0, -1, -2, 1], [1, 2, 2, -2]]).T\n",
    "intersection = mat1.intersect_subspace(mat2)\n",
    "intersection"
   ]
  },
  {
   "cell_type": "code",
   "execution_count": 38,
   "id": "93217fd8",
   "metadata": {},
   "outputs": [
    {
     "data": {
      "text/latex": [
       "$\\left[\\begin{array}{cc}\\frac{\\frac{\\sqrt{221}}{14 \\sqrt{\\sqrt{221} + 15} \\sqrt{\\left(- \\frac{5}{14} + \\frac{\\sqrt{221}}{14}\\right)^{2} + 1}} + \\frac{23}{14 \\sqrt{\\sqrt{221} + 15} \\sqrt{\\left(- \\frac{5}{14} + \\frac{\\sqrt{221}}{14}\\right)^{2} + 1}}}{\\sqrt{\\left(\\frac{\\sqrt{221}}{14 \\sqrt{\\sqrt{221} + 15} \\sqrt{\\left(\\frac{5}{14} - \\frac{\\sqrt{221}}{14}\\right)^{2} + 1}} + \\frac{23}{14 \\sqrt{\\sqrt{221} + 15} \\sqrt{\\left(\\frac{5}{14} - \\frac{\\sqrt{221}}{14}\\right)^{2} + 1}}\\right)^{2} + \\left(\\frac{41}{14 \\sqrt{\\sqrt{221} + 15} \\sqrt{\\left(\\frac{5}{14} - \\frac{\\sqrt{221}}{14}\\right)^{2} + 1}} + \\frac{3 \\sqrt{221}}{14 \\sqrt{\\sqrt{221} + 15} \\sqrt{\\left(\\frac{5}{14} - \\frac{\\sqrt{221}}{14}\\right)^{2} + 1}}\\right)^{2}}} & \\frac{- \\frac{\\sqrt{221}}{14 \\sqrt{1 + \\left(\\frac{5}{14} + \\frac{\\sqrt{221}}{14}\\right)^{2}} \\sqrt{15 - \\sqrt{221}}} + \\frac{23}{14 \\sqrt{1 + \\left(\\frac{5}{14} + \\frac{\\sqrt{221}}{14}\\right)^{2}} \\sqrt{15 - \\sqrt{221}}}}{\\sqrt{\\left(- \\frac{41}{14 \\sqrt{1 + \\left(\\frac{5}{14} + \\frac{\\sqrt{221}}{14}\\right)^{2}} \\sqrt{15 - \\sqrt{221}}} + \\frac{3 \\sqrt{221}}{14 \\sqrt{1 + \\left(\\frac{5}{14} + \\frac{\\sqrt{221}}{14}\\right)^{2}} \\sqrt{15 - \\sqrt{221}}}\\right)^{2} + \\left(- \\frac{\\sqrt{221}}{14 \\sqrt{1 + \\left(\\frac{5}{14} + \\frac{\\sqrt{221}}{14}\\right)^{2}} \\sqrt{15 - \\sqrt{221}}} + \\frac{23}{14 \\sqrt{1 + \\left(\\frac{5}{14} + \\frac{\\sqrt{221}}{14}\\right)^{2}} \\sqrt{15 - \\sqrt{221}}}\\right)^{2}}}\\\\\\frac{\\frac{41}{14 \\sqrt{\\sqrt{221} + 15} \\sqrt{\\left(- \\frac{5}{14} + \\frac{\\sqrt{221}}{14}\\right)^{2} + 1}} + \\frac{3 \\sqrt{221}}{14 \\sqrt{\\sqrt{221} + 15} \\sqrt{\\left(- \\frac{5}{14} + \\frac{\\sqrt{221}}{14}\\right)^{2} + 1}}}{\\sqrt{\\left(\\frac{\\sqrt{221}}{14 \\sqrt{\\sqrt{221} + 15} \\sqrt{\\left(\\frac{5}{14} - \\frac{\\sqrt{221}}{14}\\right)^{2} + 1}} + \\frac{23}{14 \\sqrt{\\sqrt{221} + 15} \\sqrt{\\left(\\frac{5}{14} - \\frac{\\sqrt{221}}{14}\\right)^{2} + 1}}\\right)^{2} + \\left(\\frac{41}{14 \\sqrt{\\sqrt{221} + 15} \\sqrt{\\left(\\frac{5}{14} - \\frac{\\sqrt{221}}{14}\\right)^{2} + 1}} + \\frac{3 \\sqrt{221}}{14 \\sqrt{\\sqrt{221} + 15} \\sqrt{\\left(\\frac{5}{14} - \\frac{\\sqrt{221}}{14}\\right)^{2} + 1}}\\right)^{2}}} & \\frac{- \\frac{3 \\sqrt{221}}{14 \\sqrt{1 + \\left(\\frac{5}{14} + \\frac{\\sqrt{221}}{14}\\right)^{2}} \\sqrt{15 - \\sqrt{221}}} + \\frac{41}{14 \\sqrt{1 + \\left(\\frac{5}{14} + \\frac{\\sqrt{221}}{14}\\right)^{2}} \\sqrt{15 - \\sqrt{221}}}}{\\sqrt{\\left(- \\frac{41}{14 \\sqrt{1 + \\left(\\frac{5}{14} + \\frac{\\sqrt{221}}{14}\\right)^{2}} \\sqrt{15 - \\sqrt{221}}} + \\frac{3 \\sqrt{221}}{14 \\sqrt{1 + \\left(\\frac{5}{14} + \\frac{\\sqrt{221}}{14}\\right)^{2}} \\sqrt{15 - \\sqrt{221}}}\\right)^{2} + \\left(- \\frac{\\sqrt{221}}{14 \\sqrt{1 + \\left(\\frac{5}{14} + \\frac{\\sqrt{221}}{14}\\right)^{2}} \\sqrt{15 - \\sqrt{221}}} + \\frac{23}{14 \\sqrt{1 + \\left(\\frac{5}{14} + \\frac{\\sqrt{221}}{14}\\right)^{2}} \\sqrt{15 - \\sqrt{221}}}\\right)^{2}}}\\end{array}\\right]\\left[\\begin{array}{cc}\\sqrt{\\sqrt{221} + 15} & 0\\\\0 & \\sqrt{15 - \\sqrt{221}}\\end{array}\\right]\\left[\\begin{array}{cc}\\frac{- \\frac{5}{14 \\sqrt{\\left(- \\frac{5}{14} + \\frac{\\sqrt{221}}{14}\\right)^{2} + 1}} + \\frac{\\sqrt{221}}{14 \\sqrt{\\left(- \\frac{5}{14} + \\frac{\\sqrt{221}}{14}\\right)^{2} + 1}}}{\\sqrt{\\left(- \\frac{5}{14 \\sqrt{\\left(\\frac{5}{14} - \\frac{\\sqrt{221}}{14}\\right)^{2} + 1}} + \\frac{\\sqrt{221}}{14 \\sqrt{\\left(\\frac{5}{14} - \\frac{\\sqrt{221}}{14}\\right)^{2} + 1}}\\right)^{2} + \\frac{1}{\\left(\\frac{5}{14} - \\frac{\\sqrt{221}}{14}\\right)^{2} + 1}}} & \\frac{1}{\\sqrt{\\left(- \\frac{5}{14} + \\frac{\\sqrt{221}}{14}\\right)^{2} + 1} \\sqrt{\\left(- \\frac{5}{14 \\sqrt{\\left(\\frac{5}{14} - \\frac{\\sqrt{221}}{14}\\right)^{2} + 1}} + \\frac{\\sqrt{221}}{14 \\sqrt{\\left(\\frac{5}{14} - \\frac{\\sqrt{221}}{14}\\right)^{2} + 1}}\\right)^{2} + \\frac{1}{\\left(\\frac{5}{14} - \\frac{\\sqrt{221}}{14}\\right)^{2} + 1}}}\\\\\\frac{- \\frac{\\sqrt{221}}{14 \\sqrt{1 + \\left(\\frac{5}{14} + \\frac{\\sqrt{221}}{14}\\right)^{2}}} - \\frac{5}{14 \\sqrt{1 + \\left(\\frac{5}{14} + \\frac{\\sqrt{221}}{14}\\right)^{2}}}}{\\sqrt{\\frac{1}{1 + \\left(\\frac{5}{14} + \\frac{\\sqrt{221}}{14}\\right)^{2}} + \\left(\\frac{5}{14 \\sqrt{1 + \\left(\\frac{5}{14} + \\frac{\\sqrt{221}}{14}\\right)^{2}}} + \\frac{\\sqrt{221}}{14 \\sqrt{1 + \\left(\\frac{5}{14} + \\frac{\\sqrt{221}}{14}\\right)^{2}}}\\right)^{2}}} & \\frac{1}{\\sqrt{1 + \\left(\\frac{5}{14} + \\frac{\\sqrt{221}}{14}\\right)^{2}} \\sqrt{\\frac{1}{1 + \\left(\\frac{5}{14} + \\frac{\\sqrt{221}}{14}\\right)^{2}} + \\left(\\frac{5}{14 \\sqrt{1 + \\left(\\frac{5}{14} + \\frac{\\sqrt{221}}{14}\\right)^{2}}} + \\frac{\\sqrt{221}}{14 \\sqrt{1 + \\left(\\frac{5}{14} + \\frac{\\sqrt{221}}{14}\\right)^{2}}}\\right)^{2}}}\\end{array}\\right]$"
      ],
      "text/plain": [
       "SVD(U=Matrix([\n",
       "[  (sqrt(221)/(14*sqrt(sqrt(221) + 15)*sqrt((-5/14 + sqrt(221)/14)**2 + 1)) + 23/(14*sqrt(sqrt(221) + 15)*sqrt((-5/14 + sqrt(221)/14)**2 + 1)))/sqrt((sqrt(221)/(14*sqrt(sqrt(221) + 15)*sqrt((5/14 - sqrt(221)/14)**2 + 1)) + 23/(14*sqrt(sqrt(221) + 15)*sqrt((5/14 - sqrt(221)/14)**2 + 1)))**2 + (41/(14*sqrt(sqrt(221) + 15)*sqrt((5/14 - sqrt(221)/14)**2 + 1)) + 3*sqrt(221)/(14*sqrt(sqrt(221) + 15)*sqrt((5/14 - sqrt(221)/14)**2 + 1)))**2),   (-sqrt(221)/(14*sqrt(1 + (5/14 + sqrt(221)/14)**2)*sqrt(15 - sqrt(221))) + 23/(14*sqrt(1 + (5/14 + sqrt(221)/14)**2)*sqrt(15 - sqrt(221))))/sqrt((-41/(14*sqrt(1 + (5/14 + sqrt(221)/14)**2)*sqrt(15 - sqrt(221))) + 3*sqrt(221)/(14*sqrt(1 + (5/14 + sqrt(221)/14)**2)*sqrt(15 - sqrt(221))))**2 + (-sqrt(221)/(14*sqrt(1 + (5/14 + sqrt(221)/14)**2)*sqrt(15 - sqrt(221))) + 23/(14*sqrt(1 + (5/14 + sqrt(221)/14)**2)*sqrt(15 - sqrt(221))))**2)]\n",
       "[(41/(14*sqrt(sqrt(221) + 15)*sqrt((-5/14 + sqrt(221)/14)**2 + 1)) + 3*sqrt(221)/(14*sqrt(sqrt(221) + 15)*sqrt((-5/14 + sqrt(221)/14)**2 + 1)))/sqrt((sqrt(221)/(14*sqrt(sqrt(221) + 15)*sqrt((5/14 - sqrt(221)/14)**2 + 1)) + 23/(14*sqrt(sqrt(221) + 15)*sqrt((5/14 - sqrt(221)/14)**2 + 1)))**2 + (41/(14*sqrt(sqrt(221) + 15)*sqrt((5/14 - sqrt(221)/14)**2 + 1)) + 3*sqrt(221)/(14*sqrt(sqrt(221) + 15)*sqrt((5/14 - sqrt(221)/14)**2 + 1)))**2), (-3*sqrt(221)/(14*sqrt(1 + (5/14 + sqrt(221)/14)**2)*sqrt(15 - sqrt(221))) + 41/(14*sqrt(1 + (5/14 + sqrt(221)/14)**2)*sqrt(15 - sqrt(221))))/sqrt((-41/(14*sqrt(1 + (5/14 + sqrt(221)/14)**2)*sqrt(15 - sqrt(221))) + 3*sqrt(221)/(14*sqrt(1 + (5/14 + sqrt(221)/14)**2)*sqrt(15 - sqrt(221))))**2 + (-sqrt(221)/(14*sqrt(1 + (5/14 + sqrt(221)/14)**2)*sqrt(15 - sqrt(221))) + 23/(14*sqrt(1 + (5/14 + sqrt(221)/14)**2)*sqrt(15 - sqrt(221))))**2)]\n",
       "]), S=Matrix([\n",
       "[sqrt(sqrt(221) + 15),                    0]\n",
       "[                   0, sqrt(15 - sqrt(221))]\n",
       "]), V=Matrix([\n",
       "[(-5/(14*sqrt((-5/14 + sqrt(221)/14)**2 + 1)) + sqrt(221)/(14*sqrt((-5/14 + sqrt(221)/14)**2 + 1)))/sqrt((-5/(14*sqrt((5/14 - sqrt(221)/14)**2 + 1)) + sqrt(221)/(14*sqrt((5/14 - sqrt(221)/14)**2 + 1)))**2 + 1/((5/14 - sqrt(221)/14)**2 + 1)), (-sqrt(221)/(14*sqrt(1 + (5/14 + sqrt(221)/14)**2)) - 5/(14*sqrt(1 + (5/14 + sqrt(221)/14)**2)))/sqrt(1/(1 + (5/14 + sqrt(221)/14)**2) + (5/(14*sqrt(1 + (5/14 + sqrt(221)/14)**2)) + sqrt(221)/(14*sqrt(1 + (5/14 + sqrt(221)/14)**2)))**2)]\n",
       "[                                                           1/(sqrt((-5/14 + sqrt(221)/14)**2 + 1)*sqrt((-5/(14*sqrt((5/14 - sqrt(221)/14)**2 + 1)) + sqrt(221)/(14*sqrt((5/14 - sqrt(221)/14)**2 + 1)))**2 + 1/((5/14 - sqrt(221)/14)**2 + 1))),                                                           1/(sqrt(1 + (5/14 + sqrt(221)/14)**2)*sqrt(1/(1 + (5/14 + sqrt(221)/14)**2) + (5/(14*sqrt(1 + (5/14 + sqrt(221)/14)**2)) + sqrt(221)/(14*sqrt(1 + (5/14 + sqrt(221)/14)**2)))**2))]\n",
       "]))"
      ]
     },
     "execution_count": 38,
     "metadata": {},
     "output_type": "execute_result"
    }
   ],
   "source": [
    "Matrix([[1, 2], [3, 4]]).singular_value_decomposition()"
   ]
  },
  {
   "cell_type": "code",
   "execution_count": 9,
   "id": "fcf4a553",
   "metadata": {},
   "outputs": [
    {
     "name": "stdout",
     "output_type": "stream",
     "text": [
      "Before RREF: self^T\n"
     ]
    },
    {
     "data": {
      "text/latex": [
       "$\\displaystyle \\left[\\begin{array}{ccc}1 & 3 & 0\\\\2 & 4 & 0\\\\2 & 6 & 0\\\\5 & 13 & 0\\end{array}\\right]$"
      ],
      "text/plain": [
       "Matrix([\n",
       "[1,  3, 0]\n",
       "[2,  4, 0]\n",
       "[2,  6, 0]\n",
       "[5, 13, 0]\n",
       "])"
      ]
     },
     "metadata": {},
     "output_type": "display_data"
    },
    {
     "name": "stdout",
     "output_type": "stream",
     "text": [
      "\n",
      "After RREF:\n"
     ]
    },
    {
     "data": {
      "text/latex": [
       "$\\displaystyle \\left[\\begin{array}{ccc}1 & 0 & 0\\\\0 & 1 & 0\\\\0 & 0 & 0\\\\0 & 0 & 0\\end{array}\\right]$"
      ],
      "text/plain": [
       "Matrix([\n",
       "[1, 0, 0]\n",
       "[0, 1, 0]\n",
       "[0, 0, 0]\n",
       "[0, 0, 0]\n",
       "])"
      ]
     },
     "metadata": {},
     "output_type": "display_data"
    },
    {
     "data": {
      "text/latex": [
       "$\\displaystyle \\left[\\begin{array}{cc}1 & 0\\\\0 & 1\\\\0 & 0\\end{array}\\right]$"
      ],
      "text/plain": [
       "Matrix([\n",
       "[1, 0]\n",
       "[0, 1]\n",
       "[0, 0]\n",
       "])"
      ]
     },
     "execution_count": 9,
     "metadata": {},
     "output_type": "execute_result"
    }
   ],
   "source": [
    "Matrix([[1, 2, 2, 5], \n",
    "        [3, 4, 6, 13],\n",
    "        [0, 0, 0, 0]]).simplify_basis(colspace=True)"
   ]
  },
  {
   "cell_type": "code",
   "execution_count": 10,
   "id": "45937ea8",
   "metadata": {},
   "outputs": [
    {
     "data": {
      "text/plain": [
       "True"
      ]
     },
     "execution_count": 10,
     "metadata": {},
     "output_type": "execute_result"
    }
   ],
   "source": [
    "P @ D @ P.T == A"
   ]
  },
  {
   "cell_type": "code",
   "execution_count": 10,
   "id": "134c1793",
   "metadata": {},
   "outputs": [
    {
     "data": {
      "text/plain": [
       "'\\\\left[\\\\begin{array}{c|c}1 & 2\\\\\\\\3 & 4\\\\end{array}\\\\right]'"
      ]
     },
     "execution_count": 10,
     "metadata": {},
     "output_type": "execute_result"
    }
   ],
   "source": [
    "from custom_types import PRINTER\n",
    "mat = Matrix([[1, 2], [3, 4]], aug_pos={1})\n",
    "mat._latex(PRINTER)"
   ]
  },
  {
   "cell_type": "code",
   "execution_count": 12,
   "id": "578f6f69",
   "metadata": {},
   "outputs": [],
   "source": [
    "from custom_types import PartGen, ScalarFactor, PLU, RREF, VecDecomp, QR, PDP, SVD, Shape\n",
    "from utils import display"
   ]
  },
  {
   "cell_type": "code",
   "execution_count": 13,
   "id": "e8407885",
   "metadata": {},
   "outputs": [
    {
     "data": {
      "text/latex": [
       "$\\text{VecDecomp} = \\left(\\text{proj} = \\left[\\begin{array}{c}61\\\\53\\\\3\\end{array}\\right], \\quad\\text{norm} = \\left[\\begin{array}{c}5\\\\13\\\\63\\end{array}\\right]\\right)$"
      ],
      "text/plain": [
       "VecDecomp(proj=Matrix([\n",
       "[61]\n",
       "[53]\n",
       "[ 3]\n",
       "]), norm=Matrix([\n",
       "[ 5]\n",
       "[13]\n",
       "[63]\n",
       "]))"
      ]
     },
     "metadata": {},
     "output_type": "display_data"
    }
   ],
   "source": [
    "tmp = VecDecomp(Matrix.create_rand_matrix(3, 1), Matrix.create_rand_matrix(3, 1))\n",
    "display(tmp)"
   ]
  },
  {
   "cell_type": "code",
   "execution_count": 14,
   "id": "de42ebbb",
   "metadata": {},
   "outputs": [
    {
     "ename": "TypeError",
     "evalue": "'VecDecomp' object is not subscriptable",
     "output_type": "error",
     "traceback": [
      "\u001b[1;31m---------------------------------------------------------------------------\u001b[0m",
      "\u001b[1;31mTypeError\u001b[0m                                 Traceback (most recent call last)",
      "Cell \u001b[1;32mIn[14], line 1\u001b[0m\n\u001b[1;32m----> 1\u001b[0m \u001b[43mtmp\u001b[49m\u001b[43m[\u001b[49m\u001b[38;5;241;43m0\u001b[39;49m\u001b[43m]\u001b[49m\n",
      "\u001b[1;31mTypeError\u001b[0m: 'VecDecomp' object is not subscriptable"
     ]
    }
   ],
   "source": [
    "tmp[0]"
   ]
  },
  {
   "cell_type": "code",
   "execution_count": 4,
   "id": "a9f35c18",
   "metadata": {},
   "outputs": [
    {
     "data": {
      "text/latex": [
       "$\\displaystyle\\left(\\left[\\begin{matrix}10 & 53 & 94\\\\40 & 49 & 91\\\\8 & 41 & 48\\end{matrix}\\right] + \\left[\\begin{array}{ccc}x_{1,1} & x_{1,2} & x_{1,3}\\\\x_{2,1} & x_{2,2} & x_{2,3}\\\\x_{3,1} & x_{3,2} & x_{3,3}\\end{array}\\right]\\right)$"
      ],
      "text/plain": [
       "PartGen(part_sol=Matrix([\n",
       "[10, 53, 94],\n",
       "[40, 49, 91],\n",
       "[ 8, 41, 48]]), gen_sol=Matrix([{\n",
       "[x_1,1, x_1,2, x_1,3]\n",
       "[x_2,1, x_2,2, x_2,3]\n",
       "[x_3,1, x_3,2, x_3,3]\n",
       "]))"
      ]
     },
     "metadata": {},
     "output_type": "display_data"
    }
   ],
   "source": [
    "tmp = Matrix.create_rand_matrix(3, 3) + Matrix.create_unk_matrix(3, 3)\n",
    "display(tmp.sep_part_gen())"
   ]
  },
  {
   "cell_type": "code",
   "execution_count": 21,
   "id": "145da66e",
   "metadata": {},
   "outputs": [
    {
     "ename": "AttributeError",
     "evalue": "'Matrix' object has no attribute 'display'",
     "output_type": "error",
     "traceback": [
      "\u001b[1;31m---------------------------------------------------------------------------\u001b[0m",
      "\u001b[1;31mAttributeError\u001b[0m                            Traceback (most recent call last)",
      "Cell \u001b[1;32mIn[21], line 1\u001b[0m\n\u001b[1;32m----> 1\u001b[0m \u001b[43mtmp\u001b[49m\u001b[38;5;241;43m.\u001b[39;49m\u001b[43mdisplay\u001b[49m()\n",
      "\u001b[1;31mAttributeError\u001b[0m: 'Matrix' object has no attribute 'display'"
     ]
    }
   ],
   "source": [
    "tmp.display()"
   ]
  },
  {
   "cell_type": "code",
   "execution_count": 6,
   "id": "2018c8a2",
   "metadata": {},
   "outputs": [
    {
     "data": {
      "text/latex": [
       "$\\displaystyle\\left(\\left[\\begin{matrix}1 & 0 & 0\\\\0 & 1 & 0\\end{matrix}\\right] + \\left[\\begin{array}{ccc}- x_{1,3} & - x_{1,3} & x_{1,3}\\\\- x_{2,3} & - x_{2,3} & x_{2,3}\\end{array}\\right]\\right)$"
      ],
      "text/plain": [
       "PartGen(part_sol=Matrix([\n",
       "[1, 0, 0],\n",
       "[0, 1, 0]]), gen_sol=Matrix([{\n",
       "[-x_1,3, -x_1,3, x_1,3]\n",
       "[-x_2,3, -x_2,3, x_2,3]\n",
       "]))"
      ]
     },
     "execution_count": 6,
     "metadata": {},
     "output_type": "execute_result"
    }
   ],
   "source": [
    "Matrix([[1, 0], [0, 1], [1, 1]]).inverse(matrices=2)"
   ]
  },
  {
   "cell_type": "code",
   "execution_count": 2,
   "id": "1633e0bc",
   "metadata": {},
   "outputs": [],
   "source": [
    "mat = Matrix([[1, 0], [0, 1], [1, 1]])\n",
    "inv = mat.inverse(option=\"left\")\n",
    "assert inv is not None\n",
    "assert (inv @ mat) == Matrix.eye(2)"
   ]
  },
  {
   "cell_type": "code",
   "execution_count": 29,
   "id": "6170989b",
   "metadata": {},
   "outputs": [
    {
     "data": {
      "text/latex": [
       "$\\displaystyle \\left[\\begin{matrix}1\\end{matrix}\\right]$"
      ],
      "text/plain": [
       "[1]"
      ]
     },
     "execution_count": 29,
     "metadata": {},
     "output_type": "execute_result"
    }
   ],
   "source": [
    "sym.Matrix([[1]])"
   ]
  },
  {
   "cell_type": "code",
   "execution_count": 4,
   "id": "0828a90b",
   "metadata": {},
   "outputs": [
    {
     "name": "stdout",
     "output_type": "stream",
     "text": [
      "Left inverse found!\n",
      "Before RREF: [self^T | eye]\n"
     ]
    },
    {
     "data": {
      "text/latex": [
       "$\\displaystyle \\displaystyle \\left[\\begin{array}{ccc|cc}1 & 0 & 1 & 1 & 0\\\\0 & 1 & 1 & 0 & 1\\end{array}\\right]$"
      ],
      "text/plain": [
       "<IPython.core.display.Math object>"
      ]
     },
     "metadata": {},
     "output_type": "display_data"
    },
    {
     "name": "stdout",
     "output_type": "stream",
     "text": [
      "\n",
      "After RREF:\n"
     ]
    },
    {
     "data": {
      "text/latex": [
       "$\\displaystyle \\text{RREF} = \\left(\\text{rref} = \\left[\\begin{array}{ccc|cc}1 & 0 & 1 & 1 & 0\\\\0 & 1 & 1 & 0 & 1\\end{array}\\right], \\quad\\text{pivots} = \\text{(0, 1)}\\right)$"
      ],
      "text/plain": [
       "<IPython.core.display.Math object>"
      ]
     },
     "metadata": {},
     "output_type": "display_data"
    },
    {
     "data": {
      "text/latex": [
       "$\\displaystyle \\left(\\left[\\begin{matrix}1 & 0 & 0\\\\0 & 1 & 0\\end{matrix}\\right] + \\left[\\begin{array}{ccc}- x_{1,3} & - x_{1,3} & x_{1,3}\\\\- x_{2,3} & - x_{2,3} & x_{2,3}\\end{array}\\right]\\right)$"
      ],
      "text/plain": [
       "<IPython.core.display.Math object>"
      ]
     },
     "metadata": {},
     "output_type": "display_data"
    }
   ],
   "source": [
    "mat.inverse(matrices=2, verbosity=2)"
   ]
  },
  {
   "cell_type": "code",
   "execution_count": 16,
   "id": "07b16aad",
   "metadata": {},
   "outputs": [],
   "source": [
    "from utils import _gen_latex_repr, display\n",
    "from sympy.printing.latex import LatexPrinter\n",
    "\n",
    "PRINTER = LatexPrinter()"
   ]
  },
  {
   "cell_type": "code",
   "execution_count": 10,
   "id": "bc365232",
   "metadata": {},
   "outputs": [
    {
     "data": {
      "text/latex": [
       "$\\displaystyle \\left(\\left[\\begin{matrix}1 & 0 & 0\\\\0 & 1 & 0\\end{matrix}\\right] + \\left[\\begin{array}{ccc}- x_{1,3} & - x_{1,3} & x_{1,3}\\\\- x_{2,3} & - x_{2,3} & x_{2,3}\\end{array}\\right]\\right)$"
      ],
      "text/plain": [
       "<IPython.core.display.Math object>"
      ]
     },
     "metadata": {},
     "output_type": "display_data"
    }
   ],
   "source": [
    "tmp._ipython_display_()"
   ]
  },
  {
   "cell_type": "code",
   "execution_count": 22,
   "id": "c4c4607b",
   "metadata": {},
   "outputs": [
    {
     "data": {
      "text/latex": [
       "$\\displaystyle \\left(\\left[\\begin{matrix}1 & 0 & 0\\\\0 & 1 & 0\\end{matrix}\\right] + \\left[\\begin{array}{ccc}- x_{1,3} & - x_{1,3} & x_{1,3}\\\\- x_{2,3} & - x_{2,3} & x_{2,3}\\end{array}\\right]\\right)$"
      ],
      "text/plain": [
       "<IPython.core.display.Math object>"
      ]
     },
     "metadata": {},
     "output_type": "display_data"
    }
   ],
   "source": [
    "display(tmp)"
   ]
  },
  {
   "cell_type": "code",
   "execution_count": 20,
   "id": "c712f34a",
   "metadata": {},
   "outputs": [
    {
     "data": {
      "text/latex": [
       "$\\displaystyle \\left[\\begin{array}{ccc}35 & 4 & 57\\\\94 & 9 & 46\\\\20 & 71 & 66\\end{array}\\right]$"
      ],
      "text/plain": [
       "Matrix([{\n",
       "[35,  4, 57]\n",
       "[94,  9, 46]\n",
       "[20, 71, 66]\n",
       "])"
      ]
     },
     "execution_count": 20,
     "metadata": {},
     "output_type": "execute_result"
    }
   ],
   "source": [
    "Matrix.create_rand_matrix(3, 3)"
   ]
  },
  {
   "cell_type": "code",
   "execution_count": 4,
   "id": "3cf20cc2",
   "metadata": {},
   "outputs": [],
   "source": [
    "vector = Matrix.create_unk_matrix(2, 1)\n",
    "mat = Matrix([[1, 2], [2, 4]])\n",
    "\n",
    "hidden = mat.elem()\n",
    "\n",
    "M = mat.copy().row_join(hidden).row_join(vector)\n",
    "res, _ = M.rref()\n",
    "res_matrix = res.select_cols(*range(mat.cols)).aug_line().row_join(res[:, -1])\n"
   ]
  },
  {
   "cell_type": "code",
   "execution_count": 5,
   "id": "94b7a895",
   "metadata": {},
   "outputs": [
    {
     "data": {
      "text/latex": [
       "$\\displaystyle \\left[\\begin{array}{cc|c}1 & 2 & \\frac{x_{2,1}}{2}\\\\0 & 0 & x_{1,1} - \\frac{x_{2,1}}{2}\\end{array}\\right]$"
      ],
      "text/plain": [
       "Matrix([{\n",
       "[1, 2 |         x_2,1/2]\n",
       "[0, 0 | x_1,1 - x_2,1/2]\n",
       "])"
      ]
     },
     "execution_count": 5,
     "metadata": {},
     "output_type": "execute_result"
    }
   ],
   "source": [
    "res_matrix"
   ]
  },
  {
   "cell_type": "code",
   "execution_count": 19,
   "id": "d24cc8b8",
   "metadata": {},
   "outputs": [
    {
     "data": {
      "text/latex": [
       "$\\displaystyle \\left[\\begin{array}{c}\\frac{x_{2,1}}{2}\\\\x_{1,1} - \\frac{x_{2,1}}{2}\\end{array}\\right]$"
      ],
      "text/plain": [
       "Matrix([{ \n",
       "[        x_2 |1/2]\n",
       "[x_1 |1 - x_2,1/2]\n",
       "])"
      ]
     },
     "execution_count": 19,
     "metadata": {},
     "output_type": "execute_result"
    }
   ],
   "source": [
    "res.select_cols(-1)"
   ]
  },
  {
   "cell_type": "code",
   "execution_count": 7,
   "id": "156d4129",
   "metadata": {},
   "outputs": [
    {
     "data": {
      "text/latex": [
       "$\\displaystyle \\left[\\begin{array}{c}1\\\\2\\\\0\\\\0\\end{array}\\right]$"
      ],
      "text/plain": [
       "Matrix([{ \n",
       "[1] \n",
       "[2] \n",
       "[0] \n",
       "[0] \n",
       "])"
      ]
     },
     "execution_count": 7,
     "metadata": {},
     "output_type": "execute_result"
    }
   ],
   "source": [
    "res.select_cols(range(mat.cols))"
   ]
  },
  {
   "cell_type": "code",
   "execution_count": 35,
   "id": "c5b41933",
   "metadata": {},
   "outputs": [
    {
     "name": "stdout",
     "output_type": "stream",
     "text": [
      "For system to be consistent, the following constraints must be satisfied.\n"
     ]
    },
    {
     "data": {
      "text/latex": [
       "$\\displaystyle x_{1,1} - \\frac{x_{2,1}}{2} = 0$"
      ],
      "text/plain": [
       "        x_2,1    \n",
       "x_1,1 - ───── = 0\n",
       "          2      "
      ]
     },
     "metadata": {},
     "output_type": "display_data"
    },
    {
     "data": {
      "text/latex": [
       "$\\displaystyle \\left[\\begin{array}{cc|c}1 & 2 & \\frac{x_{2,1}}{2}\\\\0 & 0 & x_{1,1} - \\frac{x_{2,1}}{2}\\end{array}\\right]$"
      ],
      "text/plain": [
       "Matrix([{\n",
       "[1, 2 |         x_2,1/2]\n",
       "[0, 0 | x_1,1 - x_2,1/2]\n",
       "])"
      ]
     },
     "execution_count": 35,
     "metadata": {},
     "output_type": "execute_result"
    }
   ],
   "source": [
    "x1, x2 = vector\n",
    "constraints = mat.column_constraints()\n",
    "expected_rref = Matrix([[1, 2, x2 / 2], [0, 0, x1 - (x2 / 2)]], aug_pos=2)\n",
    "expected_rref"
   ]
  },
  {
   "cell_type": "code",
   "execution_count": 18,
   "id": "8c1ada90",
   "metadata": {},
   "outputs": [
    {
     "data": {
      "text/latex": [
       "$\\displaystyle \\left[\\begin{array}{ccc}1 & 2 & \\frac{x_{2,1}}{2}\\\\0 & 0 & x_{1,1} - \\frac{x_{2,1}}{2}\\\\0 & 0 & x_{1,1} - \\frac{x_{2,1}}{2}\\end{array}\\right]$"
      ],
      "text/plain": [
       "Matrix([{\n",
       "[1, 2,         x_2,1/2]\n",
       "[0, 0, x_1,1 - x_2,1/2]\n",
       "[0, 0, x_1,1 - x_2,1/2]\n",
       "])"
      ]
     },
     "execution_count": 18,
     "metadata": {},
     "output_type": "execute_result"
    }
   ],
   "source": [
    "constraints.select_cols(*range(2), -1)"
   ]
  },
  {
   "cell_type": "code",
   "execution_count": 25,
   "id": "3df1dece",
   "metadata": {},
   "outputs": [
    {
     "data": {
      "text/latex": [
       "$\\displaystyle \\left( \\left[\\begin{array}{cc|c}1 & 2 & \\frac{x_{2,1}}{2}\\\\0 & 0 & x_{1,1} - \\frac{x_{2,1}}{2}\\end{array}\\right], \\  \\left[\\begin{array}{cc|c}1 & 2 & x_{1,1}\\\\0 & 0 & x_{1,1} - \\frac{x_{2,1}}{2}\\end{array}\\right]\\right)$"
      ],
      "text/plain": [
       "⎛⎡          x_2,1    ⎤                       ⎞\n",
       "⎜⎢1  2      ─────    ⎥  ⎡1  2      x_1,1    ⎤⎟\n",
       "⎜⎢            2      ⎥  ⎢                   ⎥⎟\n",
       "⎜⎢                   ⎥, ⎢              x_2,1⎥⎟\n",
       "⎜⎢              x_2,1⎥  ⎢0  0  x_1,1 - ─────⎥⎟\n",
       "⎜⎢0  0  x_1,1 - ─────⎥  ⎣                2  ⎦⎟\n",
       "⎝⎣                2  ⎦                       ⎠"
      ]
     },
     "execution_count": 25,
     "metadata": {},
     "output_type": "execute_result"
    }
   ],
   "source": [
    "constraints, expected_rref"
   ]
  },
  {
   "cell_type": "code",
   "execution_count": 36,
   "id": "3c48f232",
   "metadata": {},
   "outputs": [
    {
     "data": {
      "text/plain": [
       "True"
      ]
     },
     "execution_count": 36,
     "metadata": {},
     "output_type": "execute_result"
    }
   ],
   "source": [
    "constraints == expected_rref"
   ]
  },
  {
   "cell_type": "code",
   "execution_count": 27,
   "id": "0d712005",
   "metadata": {},
   "outputs": [
    {
     "data": {
      "text/plain": [
       "True"
      ]
     },
     "execution_count": 27,
     "metadata": {},
     "output_type": "execute_result"
    }
   ],
   "source": [
    "constraints._aug_pos == expected_rref._aug_pos"
   ]
  },
  {
   "cell_type": "code",
   "execution_count": 30,
   "id": "c88525db",
   "metadata": {},
   "outputs": [
    {
     "data": {
      "text/plain": [
       "NotImplemented"
      ]
     },
     "execution_count": 30,
     "metadata": {},
     "output_type": "execute_result"
    }
   ],
   "source": [
    "super(Matrix).__eq__(expected_rref)"
   ]
  },
  {
   "cell_type": "code",
   "execution_count": 31,
   "id": "ebd36a97",
   "metadata": {},
   "outputs": [
    {
     "data": {
      "text/plain": [
       "False"
      ]
     },
     "execution_count": 31,
     "metadata": {},
     "output_type": "execute_result"
    }
   ],
   "source": [
    "constraints.__eq__(expected_rref)"
   ]
  },
  {
   "cell_type": "code",
   "execution_count": 34,
   "id": "0c4c8a92",
   "metadata": {},
   "outputs": [
    {
     "data": {
      "text/latex": [
       "$\\displaystyle \\left[\\begin{matrix}0 & 0 & - x_{1,1} + \\frac{x_{2,1}}{2}\\\\0 & 0 & 0\\end{matrix}\\right]$"
      ],
      "text/plain": [
       "⎡               x_2,1⎤\n",
       "⎢0  0  -x_1,1 + ─────⎥\n",
       "⎢                 2  ⎥\n",
       "⎢                    ⎥\n",
       "⎣0  0        0       ⎦"
      ]
     },
     "execution_count": 34,
     "metadata": {},
     "output_type": "execute_result"
    }
   ],
   "source": [
    "sym.Matrix(constraints-expected_rref)"
   ]
  },
  {
   "cell_type": "code",
   "execution_count": 33,
   "id": "7a865b19",
   "metadata": {},
   "outputs": [
    {
     "data": {
      "text/latex": [
       "$\\displaystyle \\left[\\begin{array}{ccc}1 & 2 & \\frac{x_{2,1}}{2}\\\\0 & 0 & x_{1,1} - \\frac{x_{2,1}}{2}\\end{array}\\right]$"
      ],
      "text/plain": [
       "Matrix([{\n",
       "[1, 2,         x_2,1/2]\n",
       "[0, 0, x_1,1 - x_2,1/2]\n",
       "])"
      ]
     },
     "execution_count": 33,
     "metadata": {},
     "output_type": "execute_result"
    }
   ],
   "source": [
    "constraints"
   ]
  },
  {
   "cell_type": "code",
   "execution_count": 41,
   "id": "68c0e4ef",
   "metadata": {},
   "outputs": [
    {
     "data": {
      "text/latex": [
       "$\\displaystyle x_{1,1} - \\frac{x_{2,1}}{2} = 0$"
      ],
      "text/plain": [
       "        x_2,1    \n",
       "x_1,1 - ───── = 0\n",
       "          2      "
      ]
     },
     "metadata": {},
     "output_type": "display_data"
    }
   ],
   "source": [
    "# write a random vector as x_1, ..., x_m, given m rows\n",
    "vector = Matrix.create_unk_matrix(mat.rows, 1, \"x\")\n",
    "\n",
    "# insert hidden column vectors so that the unknown vector is not reduced in rref\n",
    "hidden = mat.elem()\n",
    "\n",
    "M = mat.copy().row_join(hidden).row_join(vector)\n",
    "res, _ = M.rref()\n",
    "res_matrix = res[:, : mat.cols].row_join(res[:, -1])\n",
    "\n",
    "for i in range(res.rows):\n",
    "    if res[i, :mat.cols].norm() == 0:\n",
    "        display(sym.Eq(res[i, -1], 0))"
   ]
  },
  {
   "cell_type": "code",
   "execution_count": 36,
   "id": "49acc659",
   "metadata": {},
   "outputs": [
    {
     "data": {
      "text/latex": [
       "$\\displaystyle \\left[\\begin{array}{ccc}1 & 2 & \\frac{x_{2,1}}{2}\\\\0 & 0 & x_{1,1} - \\frac{x_{2,1}}{2}\\end{array}\\right]$"
      ],
      "text/plain": [
       "Matrix([{\n",
       "[1, 2,         x_2,1/2]\n",
       "[0, 0, x_1,1 - x_2,1/2]\n",
       "])"
      ]
     },
     "execution_count": 36,
     "metadata": {},
     "output_type": "execute_result"
    }
   ],
   "source": [
    "res_matrix"
   ]
  },
  {
   "cell_type": "code",
   "execution_count": 40,
   "id": "cdcac54a",
   "metadata": {},
   "outputs": [
    {
     "data": {
      "text/plain": [
       "False"
      ]
     },
     "execution_count": 40,
     "metadata": {},
     "output_type": "execute_result"
    }
   ],
   "source": [
    "symbol = \"d\"\n",
    "rows = cols = 3\n",
    "all(\n",
    "    str(tmp[i, j]).startswith(f\"{symbol}_\") for i in range(rows) for j in range(cols)\n",
    ")\n"
   ]
  },
  {
   "cell_type": "code",
   "execution_count": 32,
   "id": "cf7b6809",
   "metadata": {},
   "outputs": [
    {
     "name": "stdout",
     "output_type": "stream",
     "text": [
      "True\n",
      "True\n",
      "True\n",
      "True\n"
     ]
    }
   ],
   "source": [
    "symbol = \"a\"\n",
    "\n",
    "entries = sym.symbols(\n",
    "    f\"{symbol}_(1:{3})\\\\,(1:{3})\", real=True\n",
    ")\n",
    "\n",
    "for i in entries:\n",
    "    print(i.is_real)"
   ]
  },
  {
   "cell_type": "code",
   "execution_count": null,
   "id": "9c405549",
   "metadata": {},
   "outputs": [],
   "source": [
    "t = sym.symbols(\"t\", )"
   ]
  },
  {
   "cell_type": "code",
   "execution_count": 17,
   "id": "85ba5878",
   "metadata": {},
   "outputs": [
    {
     "data": {
      "text/latex": [
       "$\\displaystyle \\left[\\begin{array}{c}1\\\\2\\\\3\\\\4\\end{array}\\right]$"
      ],
      "text/plain": [
       "Matrix([{\n",
       "[1]\n",
       "[2]\n",
       "[3]\n",
       "[4]\n",
       "])"
      ]
     },
     "execution_count": 17,
     "metadata": {},
     "output_type": "execute_result"
    }
   ],
   "source": [
    "vec1 = Matrix([[1], [2]])\n",
    "vec2 = Matrix([[3], [4]])\n",
    "\n",
    "vec1.col_join(vec2)"
   ]
  },
  {
   "cell_type": "code",
   "execution_count": 12,
   "id": "2853e714",
   "metadata": {},
   "outputs": [
    {
     "data": {
      "text/latex": [
       "$\\displaystyle \\left[\\begin{array}{cc}1 & 3\\\\2 & 4\\end{array}\\right]$"
      ],
      "text/plain": [
       "Matrix([{\n",
       "[1, 3]\n",
       "[2, 4]\n",
       "])"
      ]
     },
     "execution_count": 12,
     "metadata": {},
     "output_type": "execute_result"
    }
   ],
   "source": [
    "vec1 = Matrix([[1, 2]])\n",
    "vec2 = Matrix([[3], [4]])\n",
    "Matrix.from_list([vec1, vec2])"
   ]
  },
  {
   "cell_type": "code",
   "execution_count": 3,
   "id": "34bf7894",
   "metadata": {},
   "outputs": [
    {
     "ename": "NameError",
     "evalue": "name 'x' is not defined",
     "output_type": "error",
     "traceback": [
      "\u001b[1;31m---------------------------------------------------------------------------\u001b[0m",
      "\u001b[1;31mNameError\u001b[0m                                 Traceback (most recent call last)",
      "Cell \u001b[1;32mIn[3], line 1\u001b[0m\n\u001b[1;32m----> 1\u001b[0m Matrix([[\u001b[38;5;241m0\u001b[39m, \u001b[38;5;241m0\u001b[39m], [\u001b[38;5;241m-\u001b[39m\u001b[43mx\u001b[49m, \u001b[38;5;241m2\u001b[39m \u001b[38;5;241m*\u001b[39m x]], aug_pos\u001b[38;5;241m=\u001b[39m\u001b[38;5;28mset\u001b[39m([\u001b[38;5;241m0\u001b[39m]))\n\u001b[0;32m      2\u001b[0m result \u001b[38;5;241m=\u001b[39m matrix\u001b[38;5;241m.\u001b[39mscalar_factor(column\u001b[38;5;241m=\u001b[39m\u001b[38;5;28;01mFalse\u001b[39;00m)\n\u001b[0;32m      3\u001b[0m \u001b[38;5;28mtype\u001b[39m(result)\n",
      "\u001b[1;31mNameError\u001b[0m: name 'x' is not defined"
     ]
    }
   ],
   "source": [
    "Matrix([[0, 0], [-x, 2 * x]], aug_pos=set([0]))\n",
    "result = matrix.scalar_factor(column=False)\n",
    "type(result)"
   ]
  },
  {
   "cell_type": "code",
   "execution_count": 17,
   "id": "cc27b020",
   "metadata": {},
   "outputs": [
    {
     "data": {
      "text/latex": [
       "$\\left[\\begin{array}{cc}0 & 0\\\\0 & x\\end{array}\\right]\\left[\\begin{array}{cc}0 & 0\\\\-1 & 2\\end{array}\\right]$"
      ],
      "text/plain": [
       "<IPython.core.display.Latex object>"
      ]
     },
     "metadata": {},
     "output_type": "display_data"
    }
   ],
   "source": [
    "result"
   ]
  },
  {
   "cell_type": "code",
   "execution_count": 18,
   "id": "8329534a",
   "metadata": {},
   "outputs": [
    {
     "ename": "",
     "evalue": "",
     "output_type": "error",
     "traceback": [
      "\u001b[1;31mThe Kernel crashed while executing code in the current cell or a previous cell. \n",
      "\u001b[1;31mPlease review the code in the cell(s) to identify a possible cause of the failure. \n",
      "\u001b[1;31mClick <a href='https://aka.ms/vscodeJupyterKernelCrash'>here</a> for more info. \n",
      "\u001b[1;31mView Jupyter <a href='command:jupyter.viewOutput'>log</a> for further details."
     ]
    }
   ],
   "source": [
    "result.full.singular_value_decomposition()"
   ]
  },
  {
   "cell_type": "code",
   "execution_count": 15,
   "id": "730a78f0",
   "metadata": {},
   "outputs": [
    {
     "data": {
      "text/plain": [
       "'\\\\left[\\\\begin{array}{cc}0 & 0\\\\\\\\- x & 2 x\\\\end{array}\\\\right]'"
      ]
     },
     "execution_count": 15,
     "metadata": {},
     "output_type": "execute_result"
    }
   ],
   "source": [
    "matrix.scale_row(0, 1)._repr_latex_()"
   ]
  },
  {
   "cell_type": "code",
   "execution_count": null,
   "id": "4f131005",
   "metadata": {},
   "outputs": [
    {
     "data": {
      "text/latex": [
       "$\\displaystyle \\left[\\begin{matrix}1 & 0 & 0\\\\0 & 2 & 0\\\\0 & 0 & 3\\end{matrix}\\right]$"
      ],
      "text/plain": [
       "⎡1  0  0⎤\n",
       "⎢       ⎥\n",
       "⎢0  2  0⎥\n",
       "⎢       ⎥\n",
       "⎣0  0  3⎦"
      ]
     },
     "execution_count": 8,
     "metadata": {},
     "output_type": "execute_result"
    }
   ],
   "source": [
    "sym.diag(*[1, 2, 3)"
   ]
  },
  {
   "cell_type": "code",
   "execution_count": 12,
   "id": "5e2cd256",
   "metadata": {},
   "outputs": [
    {
     "data": {
      "text/plain": [
       "'$\\\\displaystyle \\\\left[\\\\begin{matrix}1 & 0 & 0\\\\\\\\0 & 2 & 0\\\\\\\\0 & 0 & 3\\\\end{matrix}\\\\right]$'"
      ]
     },
     "execution_count": 12,
     "metadata": {},
     "output_type": "execute_result"
    }
   ],
   "source": [
    "sym.Matrix.diag(*[1, 2, 3])._repr_latex_()"
   ]
  },
  {
   "cell_type": "code",
   "execution_count": 44,
   "id": "7d3f17fa",
   "metadata": {},
   "outputs": [
    {
     "data": {
      "text/latex": [
       "$<class 'str'>$"
      ],
      "text/plain": [
       "<IPython.core.display.Latex object>"
      ]
     },
     "metadata": {},
     "output_type": "display_data"
    }
   ],
   "source": [
    "x = sym.symbols('x')\n",
    "matrix = Matrix([[0, 0], [-x, 2*x]], aug_pos=set([0]))\n",
    "result = matrix.scalar_factor(column=False)\n",
    "result"
   ]
  },
  {
   "cell_type": "code",
   "execution_count": 47,
   "id": "8db99370",
   "metadata": {},
   "outputs": [
    {
     "data": {
      "text/plain": [
       "symbolic.ScalarFactor"
      ]
     },
     "execution_count": 47,
     "metadata": {},
     "output_type": "execute_result"
    }
   ],
   "source": [
    "type(result)"
   ]
  },
  {
   "cell_type": "code",
   "execution_count": 49,
   "id": "af6a0be6",
   "metadata": {},
   "outputs": [],
   "source": [
    "from utils import _wrap_latex, _unwrap_latex"
   ]
  },
  {
   "cell_type": "code",
   "execution_count": 53,
   "id": "a77936b4",
   "metadata": {},
   "outputs": [
    {
     "data": {
      "text/plain": [
       "\"$<class 'str'>$\""
      ]
     },
     "execution_count": 53,
     "metadata": {},
     "output_type": "execute_result"
    }
   ],
   "source": [
    "_wrap_latex(_unwrap_latex(result.full._repr_latex_()) + _unwrap_latex(result.diag._repr_latex_()))"
   ]
  },
  {
   "cell_type": "code",
   "execution_count": 46,
   "id": "9c3d6169",
   "metadata": {},
   "outputs": [
    {
     "data": {
      "text/plain": [
       "\"$<class 'str'>$\""
      ]
     },
     "execution_count": 46,
     "metadata": {},
     "output_type": "execute_result"
    }
   ],
   "source": [
    "result._repr_latex_()"
   ]
  },
  {
   "cell_type": "code",
   "execution_count": 1,
   "id": "e14471a2",
   "metadata": {},
   "outputs": [],
   "source": [
    "import sympy as sym\n",
    "import sys\n",
    "\n",
    "sys.path.append(r\"C:\\Github\\linear-algebra\\src\")\n",
    "from symbolic import Matrix\n",
    "\n",
    "%load_ext autoreload\n",
    "%autoreload 2"
   ]
  },
  {
   "cell_type": "code",
   "execution_count": null,
   "id": "0e3c95c9",
   "metadata": {},
   "outputs": [],
   "source": [
    "from sympy.printing import LatexPr"
   ]
  },
  {
   "cell_type": "code",
   "execution_count": 3,
   "id": "17841f14",
   "metadata": {},
   "outputs": [
    {
     "data": {
      "text/latex": [
       "$\\displaystyle \\left[\\begin{array}{c|c|ccc}1 & 0 & 0 & 0 & 2\\\\0 & 0 & 3 & 0 & 0\\\\0 & 0 & 0 & 0 & 0\\\\0 & 2 & 0 & 0 & 0\\end{array}\\right]$"
      ],
      "text/plain": [
       "Matrix([{ \n",
       "[1 | 0 | 0, 0, 2]\n",
       "[0 | 0 | 3, 0, 0]\n",
       "[0 | 0 | 0, 0, 0]\n",
       "[0 | 2 | 0, 0, 0]\n",
       "])"
      ]
     },
     "execution_count": 3,
     "metadata": {},
     "output_type": "execute_result"
    }
   ],
   "source": [
    "tmp = Matrix([[1, 0, 0, 0, 2],\n",
    "        [0, 0, 3, 0, 0],\n",
    "        [0, 0, 0, 0, 0],\n",
    "        [0, 2, 0, 0, 0]], aug_pos={1, 2, -1})\n",
    "tmp"
   ]
  },
  {
   "cell_type": "code",
   "execution_count": 6,
   "id": "41fd0f7e",
   "metadata": {},
   "outputs": [
    {
     "data": {
      "text/latex": [
       "$\\left(\\left[\\begin{array}{c|c|ccc}1 & 0 & 0 & 0 & 2\\\\0 & 0 & 3 & 0 & 0\\\\0 & 0 & 0 & 0 & 0\\\\0 & 2 & 0 & 0 & 0\\end{array}\\right] + \\left[\\begin{array}{c|c|ccc}1 & 0 & 0 & 0 & 2\\\\0 & 0 & 3 & 0 & 0\\\\0 & 0 & 0 & 0 & 0\\\\0 & 2 & 0 & 0 & 0\\end{array}\\right]\\right)$"
      ],
      "text/plain": [
       "<IPython.core.display.Latex object>"
      ]
     },
     "metadata": {},
     "output_type": "display_data"
    }
   ],
   "source": [
    "from symbolic import PartGen\n",
    "\n",
    "PartGen(tmp, tmp)"
   ]
  },
  {
   "cell_type": "code",
   "execution_count": 4,
   "id": "9c14e6a1",
   "metadata": {},
   "outputs": [
    {
     "data": {
      "text/plain": [
       "'$\\\\displaystyle \\\\left[\\\\begin{matrix}1 & 0 & 0 & 0 & 2\\\\\\\\0 & 0 & 3 & 0 & 0\\\\\\\\0 & 0 & 0 & 0 & 0\\\\\\\\0 & 2 & 0 & 0 & 0\\\\end{matrix}\\\\right]$'"
      ]
     },
     "execution_count": 4,
     "metadata": {},
     "output_type": "execute_result"
    }
   ],
   "source": [
    "tmp._repr_latex_()"
   ]
  },
  {
   "cell_type": "code",
   "execution_count": 3,
   "id": "3d755dc5",
   "metadata": {},
   "outputs": [
    {
     "data": {
      "text/latex": [
       "$\\displaystyle \\left[\\begin{array}{c|c|ccc}2 & 0 & 0 & 0 & 4\\\\0 & 0 & 6 & 0 & 0\\\\0 & 0 & 0 & 0 & 0\\\\0 & 4 & 0 & 0 & 0\\end{array}\\right]$"
      ],
      "text/plain": [
       "Matrix([{ \n",
       "[2 | 0 | 0, 0, 4]\n",
       "[0 | 0 | 6, 0, 0]\n",
       "[0 | 0 | 0, 0, 0]\n",
       "[0 | 4 | 0, 0, 0]\n",
       "])"
      ]
     },
     "execution_count": 3,
     "metadata": {},
     "output_type": "execute_result"
    }
   ],
   "source": [
    "wtf = tmp.T * tmp\n",
    "tmp + tmp"
   ]
  },
  {
   "cell_type": "code",
   "execution_count": 8,
   "id": "7f886352",
   "metadata": {},
   "outputs": [
    {
     "data": {
      "text/latex": [
       "$\\displaystyle \\left[\\begin{array}{c|cc}1 & 0 & 0\\\\0 & 1 & 0\\\\0 & 0 & 1\\end{array}\\right]$"
      ],
      "text/plain": [
       "Matrix([{ \n",
       "[1 | 0, 0] \n",
       "[0 | 1, 0] \n",
       "[0 | 0, 1] \n",
       "])"
      ]
     },
     "execution_count": 8,
     "metadata": {},
     "output_type": "execute_result"
    }
   ],
   "source": [
    "test = Matrix.eye(3).aug_line(1)\n",
    "test"
   ]
  },
  {
   "cell_type": "code",
   "execution_count": 11,
   "id": "cc1d86c9",
   "metadata": {},
   "outputs": [
    {
     "data": {
      "text/plain": [
       "True"
      ]
     },
     "execution_count": 11,
     "metadata": {},
     "output_type": "execute_result"
    }
   ],
   "source": [
    "test.is_Matrix"
   ]
  },
  {
   "cell_type": "code",
   "execution_count": 17,
   "id": "a058118e",
   "metadata": {},
   "outputs": [
    {
     "data": {
      "text/plain": [
       "<sympy.printing.latex.LatexPrinter at 0x21eacd37ee0>"
      ]
     },
     "execution_count": 17,
     "metadata": {},
     "output_type": "execute_result"
    }
   ],
   "source": [
    "from sympy.printing.latex import LatexPrinter\n",
    "\n",
    "LatexPrinter()"
   ]
  },
  {
   "cell_type": "code",
   "execution_count": 21,
   "id": "e745f245",
   "metadata": {},
   "outputs": [
    {
     "name": "stdout",
     "output_type": "stream",
     "text": [
      "A^T A\n"
     ]
    },
    {
     "data": {
      "text/latex": [
       "$\\displaystyle \\left[\\begin{array}{ccccc}1 & 0 & 0 & 0 & 2\\\\0 & 4 & 0 & 0 & 0\\\\0 & 0 & 9 & 0 & 0\\\\0 & 0 & 0 & 0 & 0\\\\2 & 0 & 0 & 0 & 4\\end{array}\\right]$"
      ],
      "text/plain": [
       "Matrix([{\n",
       "[1, 0, 0, 0, 2]\n",
       "[0, 4, 0, 0, 0]\n",
       "[0, 0, 9, 0, 0]\n",
       "[0, 0, 0, 0, 0]\n",
       "[2, 0, 0, 0, 4]\n",
       "])"
      ]
     },
     "metadata": {},
     "output_type": "display_data"
    },
    {
     "name": "stdout",
     "output_type": "stream",
     "text": [
      "Characteristic Polynomial\n"
     ]
    },
    {
     "data": {
      "text/latex": [
       "$\\displaystyle x^{2} \\left(x - 9\\right) \\left(x - 5\\right) \\left(x - 4\\right)$"
      ],
      "text/plain": [
       " 2                        \n",
       "x ⋅(x - 9)⋅(x - 5)⋅(x - 4)"
      ]
     },
     "metadata": {},
     "output_type": "display_data"
    },
    {
     "name": "stdout",
     "output_type": "stream",
     "text": [
      "Original: (9)I - A\n"
     ]
    },
    {
     "data": {
      "text/latex": [
       "$\\displaystyle \\left[\\begin{array}{ccccc}8 & 0 & 0 & 0 & -2\\\\0 & 5 & 0 & 0 & 0\\\\0 & 0 & 0 & 0 & 0\\\\0 & 0 & 0 & 9 & 0\\\\-2 & 0 & 0 & 0 & 5\\end{array}\\right]$"
      ],
      "text/plain": [
       "Matrix([{\n",
       "[ 8, 0, 0, 0, -2]\n",
       "[ 0, 5, 0, 0,  0]\n",
       "[ 0, 0, 0, 0,  0]\n",
       "[ 0, 0, 0, 9,  0]\n",
       "[-2, 0, 0, 0,  5]\n",
       "])"
      ]
     },
     "metadata": {},
     "output_type": "display_data"
    },
    {
     "name": "stdout",
     "output_type": "stream",
     "text": [
      "\n",
      "After RREF:\n"
     ]
    },
    {
     "data": {
      "text/latex": [
       "$\\text{RREF} = \\left(\\text{rref} = \\left[\\begin{array}{ccccc}1 & 0 & 0 & 0 & 0\\\\0 & 1 & 0 & 0 & 0\\\\0 & 0 & 0 & 1 & 0\\\\0 & 0 & 0 & 0 & 1\\\\0 & 0 & 0 & 0 & 0\\end{array}\\right], \\quad\\text{pivots} = \\text{(0, 1, 3, 4)}\\right)$"
      ],
      "text/plain": [
       "<IPython.core.display.Latex object>"
      ]
     },
     "metadata": {},
     "output_type": "display_data"
    },
    {
     "name": "stdout",
     "output_type": "stream",
     "text": [
      "\n",
      "Eigenvectors:\n"
     ]
    },
    {
     "data": {
      "text/latex": [
       "$\\displaystyle \\left[ \\left[\\begin{matrix}0\\\\0\\\\1\\\\0\\\\0\\end{matrix}\\right]\\right]$"
      ],
      "text/plain": [
       "⎡⎡0⎤⎤\n",
       "⎢⎢ ⎥⎥\n",
       "⎢⎢0⎥⎥\n",
       "⎢⎢ ⎥⎥\n",
       "⎢⎢1⎥⎥\n",
       "⎢⎢ ⎥⎥\n",
       "⎢⎢0⎥⎥\n",
       "⎢⎢ ⎥⎥\n",
       "⎣⎣0⎦⎦"
      ]
     },
     "metadata": {},
     "output_type": "display_data"
    },
    {
     "name": "stdout",
     "output_type": "stream",
     "text": [
      "\n",
      "\n",
      "Original: (5)I - A\n"
     ]
    },
    {
     "data": {
      "text/latex": [
       "$\\displaystyle \\left[\\begin{array}{ccccc}4 & 0 & 0 & 0 & -2\\\\0 & 1 & 0 & 0 & 0\\\\0 & 0 & -4 & 0 & 0\\\\0 & 0 & 0 & 5 & 0\\\\-2 & 0 & 0 & 0 & 1\\end{array}\\right]$"
      ],
      "text/plain": [
       "Matrix([{\n",
       "[ 4, 0,  0, 0, -2]\n",
       "[ 0, 1,  0, 0,  0]\n",
       "[ 0, 0, -4, 0,  0]\n",
       "[ 0, 0,  0, 5,  0]\n",
       "[-2, 0,  0, 0,  1]\n",
       "])"
      ]
     },
     "metadata": {},
     "output_type": "display_data"
    },
    {
     "name": "stdout",
     "output_type": "stream",
     "text": [
      "\n",
      "After RREF:\n"
     ]
    },
    {
     "data": {
      "text/latex": [
       "$\\text{RREF} = \\left(\\text{rref} = \\left[\\begin{array}{ccccc}1 & 0 & 0 & 0 & - \\frac{1}{2}\\\\0 & 1 & 0 & 0 & 0\\\\0 & 0 & 1 & 0 & 0\\\\0 & 0 & 0 & 1 & 0\\\\0 & 0 & 0 & 0 & 0\\end{array}\\right], \\quad\\text{pivots} = \\text{(0, 1, 2, 3)}\\right)$"
      ],
      "text/plain": [
       "<IPython.core.display.Latex object>"
      ]
     },
     "metadata": {},
     "output_type": "display_data"
    },
    {
     "name": "stdout",
     "output_type": "stream",
     "text": [
      "\n",
      "Eigenvectors:\n"
     ]
    },
    {
     "data": {
      "text/latex": [
       "$\\displaystyle \\left[ \\left[\\begin{matrix}\\frac{1}{2}\\\\0\\\\0\\\\0\\\\1\\end{matrix}\\right]\\right]$"
      ],
      "text/plain": [
       "⎡⎡1/2⎤⎤\n",
       "⎢⎢   ⎥⎥\n",
       "⎢⎢ 0 ⎥⎥\n",
       "⎢⎢   ⎥⎥\n",
       "⎢⎢ 0 ⎥⎥\n",
       "⎢⎢   ⎥⎥\n",
       "⎢⎢ 0 ⎥⎥\n",
       "⎢⎢   ⎥⎥\n",
       "⎣⎣ 1 ⎦⎦"
      ]
     },
     "metadata": {},
     "output_type": "display_data"
    },
    {
     "name": "stdout",
     "output_type": "stream",
     "text": [
      "\n",
      "\n",
      "Original: (4)I - A\n"
     ]
    },
    {
     "data": {
      "text/latex": [
       "$\\displaystyle \\left[\\begin{array}{ccccc}3 & 0 & 0 & 0 & -2\\\\0 & 0 & 0 & 0 & 0\\\\0 & 0 & -5 & 0 & 0\\\\0 & 0 & 0 & 4 & 0\\\\-2 & 0 & 0 & 0 & 0\\end{array}\\right]$"
      ],
      "text/plain": [
       "Matrix([{\n",
       "[ 3, 0,  0, 0, -2]\n",
       "[ 0, 0,  0, 0,  0]\n",
       "[ 0, 0, -5, 0,  0]\n",
       "[ 0, 0,  0, 4,  0]\n",
       "[-2, 0,  0, 0,  0]\n",
       "])"
      ]
     },
     "metadata": {},
     "output_type": "display_data"
    },
    {
     "name": "stdout",
     "output_type": "stream",
     "text": [
      "\n",
      "After RREF:\n"
     ]
    },
    {
     "data": {
      "text/latex": [
       "$\\text{RREF} = \\left(\\text{rref} = \\left[\\begin{array}{ccccc}1 & 0 & 0 & 0 & 0\\\\0 & 0 & 1 & 0 & 0\\\\0 & 0 & 0 & 1 & 0\\\\0 & 0 & 0 & 0 & 1\\\\0 & 0 & 0 & 0 & 0\\end{array}\\right], \\quad\\text{pivots} = \\text{(0, 2, 3, 4)}\\right)$"
      ],
      "text/plain": [
       "<IPython.core.display.Latex object>"
      ]
     },
     "metadata": {},
     "output_type": "display_data"
    },
    {
     "name": "stdout",
     "output_type": "stream",
     "text": [
      "\n",
      "Eigenvectors:\n"
     ]
    },
    {
     "data": {
      "text/latex": [
       "$\\displaystyle \\left[ \\left[\\begin{matrix}0\\\\1\\\\0\\\\0\\\\0\\end{matrix}\\right]\\right]$"
      ],
      "text/plain": [
       "⎡⎡0⎤⎤\n",
       "⎢⎢ ⎥⎥\n",
       "⎢⎢1⎥⎥\n",
       "⎢⎢ ⎥⎥\n",
       "⎢⎢0⎥⎥\n",
       "⎢⎢ ⎥⎥\n",
       "⎢⎢0⎥⎥\n",
       "⎢⎢ ⎥⎥\n",
       "⎣⎣0⎦⎦"
      ]
     },
     "metadata": {},
     "output_type": "display_data"
    },
    {
     "name": "stdout",
     "output_type": "stream",
     "text": [
      "\n",
      "\n",
      "Original: (0)I - A\n"
     ]
    },
    {
     "data": {
      "text/latex": [
       "$\\displaystyle \\left[\\begin{array}{ccccc}-1 & 0 & 0 & 0 & -2\\\\0 & -4 & 0 & 0 & 0\\\\0 & 0 & -9 & 0 & 0\\\\0 & 0 & 0 & 0 & 0\\\\-2 & 0 & 0 & 0 & -4\\end{array}\\right]$"
      ],
      "text/plain": [
       "Matrix([{\n",
       "[-1,  0,  0, 0, -2]\n",
       "[ 0, -4,  0, 0,  0]\n",
       "[ 0,  0, -9, 0,  0]\n",
       "[ 0,  0,  0, 0,  0]\n",
       "[-2,  0,  0, 0, -4]\n",
       "])"
      ]
     },
     "metadata": {},
     "output_type": "display_data"
    },
    {
     "name": "stdout",
     "output_type": "stream",
     "text": [
      "\n",
      "After RREF:\n"
     ]
    },
    {
     "data": {
      "text/latex": [
       "$\\text{RREF} = \\left(\\text{rref} = \\left[\\begin{array}{ccccc}1 & 0 & 0 & 0 & 2\\\\0 & 1 & 0 & 0 & 0\\\\0 & 0 & 1 & 0 & 0\\\\0 & 0 & 0 & 0 & 0\\\\0 & 0 & 0 & 0 & 0\\end{array}\\right], \\quad\\text{pivots} = \\text{(0, 1, 2)}\\right)$"
      ],
      "text/plain": [
       "<IPython.core.display.Latex object>"
      ]
     },
     "metadata": {},
     "output_type": "display_data"
    },
    {
     "name": "stdout",
     "output_type": "stream",
     "text": [
      "\n",
      "Eigenvectors:\n"
     ]
    },
    {
     "data": {
      "text/latex": [
       "$\\displaystyle \\left[ \\left[\\begin{matrix}0\\\\0\\\\0\\\\1\\\\0\\end{matrix}\\right], \\  \\left[\\begin{matrix}-2\\\\0\\\\0\\\\0\\\\1\\end{matrix}\\right]\\right]$"
      ],
      "text/plain": [
       "⎡⎡0⎤  ⎡-2⎤⎤\n",
       "⎢⎢ ⎥  ⎢  ⎥⎥\n",
       "⎢⎢0⎥  ⎢0 ⎥⎥\n",
       "⎢⎢ ⎥  ⎢  ⎥⎥\n",
       "⎢⎢0⎥, ⎢0 ⎥⎥\n",
       "⎢⎢ ⎥  ⎢  ⎥⎥\n",
       "⎢⎢1⎥  ⎢0 ⎥⎥\n",
       "⎢⎢ ⎥  ⎢  ⎥⎥\n",
       "⎣⎣0⎦  ⎣1 ⎦⎦"
      ]
     },
     "metadata": {},
     "output_type": "display_data"
    },
    {
     "name": "stdout",
     "output_type": "stream",
     "text": [
      "\n",
      "\n",
      "Eigenvalue:  0\n",
      "[Gram Schmidt Process]\n"
     ]
    },
    {
     "data": {
      "text/latex": [
       "$\\displaystyle v_1 = \\left[\\begin{matrix}0\\\\0\\\\0\\\\1\\\\0\\end{matrix}\\right]$"
      ],
      "text/plain": [
       "<IPython.core.display.Math object>"
      ]
     },
     "metadata": {},
     "output_type": "display_data"
    },
    {
     "data": {
      "text/latex": [
       "$\\displaystyle v_2 = \\left[\\begin{matrix}-2\\\\0\\\\0\\\\0\\\\1\\end{matrix}\\right]- (0/1) \\left[\\begin{matrix}0\\\\0\\\\0\\\\1\\\\0\\end{matrix}\\right] = 1 \\left[\\begin{matrix}-2\\\\0\\\\0\\\\0\\\\1\\end{matrix}\\right]$"
      ],
      "text/plain": [
       "<IPython.core.display.Math object>"
      ]
     },
     "metadata": {},
     "output_type": "display_data"
    },
    {
     "data": {
      "text/latex": [
       "$\\displaystyle u_1 = (1/3)A\\left[\\begin{matrix}0\\\\0\\\\1\\\\0\\\\0\\end{matrix}\\right] = \\left[\\begin{array}{c}0\\\\1\\\\0\\\\0\\end{array}\\right]$"
      ],
      "text/plain": [
       "<IPython.core.display.Math object>"
      ]
     },
     "metadata": {},
     "output_type": "display_data"
    },
    {
     "data": {
      "text/latex": [
       "$\\displaystyle u_2 = (1/\\sqrt{5})A\\left[\\begin{matrix}\\frac{\\sqrt{5}}{5}\\\\0\\\\0\\\\0\\\\\\frac{2 \\sqrt{5}}{5}\\end{matrix}\\right] = \\left[\\begin{array}{c}1\\\\0\\\\0\\\\0\\end{array}\\right]$"
      ],
      "text/plain": [
       "<IPython.core.display.Math object>"
      ]
     },
     "metadata": {},
     "output_type": "display_data"
    },
    {
     "data": {
      "text/latex": [
       "$\\displaystyle u_3 = (1/2)A\\left[\\begin{matrix}0\\\\1\\\\0\\\\0\\\\0\\end{matrix}\\right] = \\left[\\begin{array}{c}0\\\\0\\\\0\\\\1\\end{array}\\right]$"
      ],
      "text/plain": [
       "<IPython.core.display.Math object>"
      ]
     },
     "metadata": {},
     "output_type": "display_data"
    },
    {
     "name": "stdout",
     "output_type": "stream",
     "text": [
      "\n",
      "Extending U with its orthogonal complement.\n",
      "Before RREF: [self]\n"
     ]
    },
    {
     "data": {
      "text/latex": [
       "$\\displaystyle \\left[\\begin{matrix}0 & 1 & 0 & 0\\\\1 & 0 & 0 & 0\\\\0 & 0 & 0 & 1\\end{matrix}\\right]$"
      ],
      "text/plain": [
       "Matrix([\n",
       "[0, 1, 0, 0],\n",
       "[1, 0, 0, 0],\n",
       "[0, 0, 0, 1]])"
      ]
     },
     "metadata": {},
     "output_type": "display_data"
    },
    {
     "name": "stdout",
     "output_type": "stream",
     "text": [
      "\n",
      "After RREF:\n"
     ]
    },
    {
     "data": {
      "text/latex": [
       "$\\displaystyle \\left[\\begin{array}{cccc}1 & 0 & 0 & 0\\\\0 & 1 & 0 & 0\\\\0 & 0 & 0 & 1\\end{array}\\right]$"
      ],
      "text/plain": [
       "Matrix([{\n",
       "[1, 0, 0, 0]\n",
       "[0, 1, 0, 0]\n",
       "[0, 0, 0, 1]\n",
       "])"
      ]
     },
     "metadata": {},
     "output_type": "display_data"
    },
    {
     "data": {
      "text/latex": [
       "$\\displaystyle v_1 = \\left[\\begin{matrix}0\\\\0\\\\1\\\\0\\end{matrix}\\right]$"
      ],
      "text/plain": [
       "<IPython.core.display.Math object>"
      ]
     },
     "metadata": {},
     "output_type": "display_data"
    },
    {
     "name": "stdout",
     "output_type": "stream",
     "text": [
      "U, S, V\n"
     ]
    },
    {
     "data": {
      "text/latex": [
       "$\\displaystyle \\left[ \\left[\\begin{array}{cccc}0 & 1 & 0 & 0\\\\1 & 0 & 0 & 0\\\\0 & 0 & 0 & 1\\\\0 & 0 & 1 & 0\\end{array}\\right], \\  \\left[\\begin{array}{ccccc}3 & 0 & 0 & 0 & 0\\\\0 & \\sqrt{5} & 0 & 0 & 0\\\\0 & 0 & 2 & 0 & 0\\\\0 & 0 & 0 & 0 & 0\\end{array}\\right], \\  \\left[\\begin{array}{ccccc}0 & \\frac{\\sqrt{5}}{5} & 0 & - \\frac{2 \\sqrt{5}}{5} & 0\\\\0 & 0 & 1 & 0 & 0\\\\1 & 0 & 0 & 0 & 0\\\\0 & 0 & 0 & 0 & 1\\\\0 & \\frac{2 \\sqrt{5}}{5} & 0 & \\frac{\\sqrt{5}}{5} & 0\\end{array}\\right]\\right]$"
      ],
      "text/plain": [
       "⎡                                ⎡    √5      -2⋅√5    ⎤⎤\n",
       "⎢                                ⎢0   ──   0  ──────  0⎥⎥\n",
       "⎢                                ⎢    5         5      ⎥⎥\n",
       "⎢⎡0  1  0  0⎤  ⎡3  0   0  0  0⎤  ⎢                     ⎥⎥\n",
       "⎢⎢          ⎥  ⎢              ⎥  ⎢0   0    1    0     0⎥⎥\n",
       "⎢⎢1  0  0  0⎥  ⎢0  √5  0  0  0⎥  ⎢                     ⎥⎥\n",
       "⎢⎢          ⎥, ⎢              ⎥, ⎢1   0    0    0     0⎥⎥\n",
       "⎢⎢0  0  0  1⎥  ⎢0  0   2  0  0⎥  ⎢                     ⎥⎥\n",
       "⎢⎢          ⎥  ⎢              ⎥  ⎢0   0    0    0     1⎥⎥\n",
       "⎢⎣0  0  1  0⎦  ⎣0  0   0  0  0⎦  ⎢                     ⎥⎥\n",
       "⎢                                ⎢   2⋅√5       √5     ⎥⎥\n",
       "⎢                                ⎢0  ────  0    ──    0⎥⎥\n",
       "⎣                                ⎣    5         5      ⎦⎦"
      ]
     },
     "metadata": {},
     "output_type": "display_data"
    },
    {
     "data": {
      "text/latex": [
       "$\\left[\\begin{array}{cccc}0 & 1 & 0 & 0\\\\1 & 0 & 0 & 0\\\\0 & 0 & 0 & 1\\\\0 & 0 & 1 & 0\\end{array}\\right]\\left[\\begin{array}{ccccc}3 & 0 & 0 & 0 & 0\\\\0 & \\sqrt{5} & 0 & 0 & 0\\\\0 & 0 & 2 & 0 & 0\\\\0 & 0 & 0 & 0 & 0\\end{array}\\right]\\left[\\begin{array}{ccccc}0 & 0 & 1 & 0 & 0\\\\\\frac{\\sqrt{5}}{5} & 0 & 0 & 0 & \\frac{2 \\sqrt{5}}{5}\\\\0 & 1 & 0 & 0 & 0\\\\- \\frac{2 \\sqrt{5}}{5} & 0 & 0 & 0 & \\frac{\\sqrt{5}}{5}\\\\0 & 0 & 0 & 1 & 0\\end{array}\\right]$"
      ],
      "text/plain": [
       "<IPython.core.display.Latex object>"
      ]
     },
     "metadata": {},
     "output_type": "display_data"
    }
   ],
   "source": [
    "res = tmp.singular_value_decomposition(verbosity=2)\n",
    "res"
   ]
  },
  {
   "cell_type": "code",
   "execution_count": 9,
   "id": "1d1a2502",
   "metadata": {},
   "outputs": [
    {
     "data": {
      "text/latex": [
       "$\\displaystyle \\left[ \\left[\\begin{array}{ccccc}0 & 0 & 0 & 1 & 0\\end{array}\\right], \\  \\left[\\begin{array}{ccccc}-2 & 0 & 0 & 0 & 1\\end{array}\\right]\\right]$"
      ],
      "text/plain": [
       "[[0  0  0  1  0], [-2  0  0  0  1]]"
      ]
     },
     "execution_count": 9,
     "metadata": {},
     "output_type": "execute_result"
    }
   ],
   "source": [
    "lst = [Matrix([[0, 0, 0, 1, 0]]), Matrix([[-2, 0, 0, 0, 1]])]\n",
    "\n",
    "lst"
   ]
  },
  {
   "cell_type": "code",
   "execution_count": 15,
   "id": "1c5d6a01",
   "metadata": {},
   "outputs": [
    {
     "data": {
      "text/latex": [
       "$\\displaystyle v_1 = \\left[\\begin{matrix}0\\\\0\\\\0\\\\1\\\\0\\end{matrix}\\right]$"
      ],
      "text/plain": [
       "<IPython.core.display.Math object>"
      ]
     },
     "metadata": {},
     "output_type": "display_data"
    },
    {
     "data": {
      "text/latex": [
       "$\\displaystyle v_2 = \\left[\\begin{matrix}-2\\\\0\\\\0\\\\0\\\\1\\end{matrix}\\right]- (0/1) \\left[\\begin{matrix}0\\\\0\\\\0\\\\1\\\\0\\end{matrix}\\right] = 1 \\left[\\begin{matrix}-2\\\\0\\\\0\\\\0\\\\1\\end{matrix}\\right]$"
      ],
      "text/plain": [
       "<IPython.core.display.Math object>"
      ]
     },
     "metadata": {},
     "output_type": "display_data"
    }
   ],
   "source": [
    "res = Matrix.from_list(lst).gram_schmidt(factor=True, verbosity=2)"
   ]
  },
  {
   "cell_type": "code",
   "execution_count": 19,
   "id": "0237e800",
   "metadata": {},
   "outputs": [
    {
     "data": {
      "text/latex": [
       "$\\displaystyle \\left[\\begin{array}{cc}0 & - \\frac{2 \\sqrt{5}}{5}\\\\0 & 0\\\\0 & 0\\\\1 & 0\\\\0 & \\frac{\\sqrt{5}}{5}\\end{array}\\right]$"
      ],
      "text/plain": [
       "Matrix([{\n",
       "[0, -2*sqrt(5)/5]\n",
       "[0,            0]\n",
       "[0,            0]\n",
       "[1,            0]\n",
       "[0,    sqrt(5)/5]\n",
       "])"
      ]
     },
     "execution_count": 19,
     "metadata": {},
     "output_type": "execute_result"
    }
   ],
   "source": [
    "res.full @ res.diag"
   ]
  },
  {
   "cell_type": "code",
   "execution_count": 20,
   "id": "c6cd9c7d",
   "metadata": {},
   "outputs": [
    {
     "data": {
      "text/latex": [
       "$\\displaystyle \\left( \\left[\\begin{array}{cc}1 & 0\\\\0 & \\sqrt{5}\\end{array}\\right], \\  \\left[\\begin{array}{cc}0 & - \\frac{2}{5}\\\\0 & 0\\\\0 & 0\\\\1 & 0\\\\0 & \\frac{1}{5}\\end{array}\\right]\\right)$"
      ],
      "text/plain": [
       "⎛         ⎡0  -2/5⎤⎞\n",
       "⎜         ⎢       ⎥⎟\n",
       "⎜         ⎢0   0  ⎥⎟\n",
       "⎜⎡1  0 ⎤  ⎢       ⎥⎟\n",
       "⎜⎢     ⎥, ⎢0   0  ⎥⎟\n",
       "⎜⎣0  √5⎦  ⎢       ⎥⎟\n",
       "⎜         ⎢1   0  ⎥⎟\n",
       "⎜         ⎢       ⎥⎟\n",
       "⎝         ⎣0  1/5 ⎦⎠"
      ]
     },
     "execution_count": 20,
     "metadata": {},
     "output_type": "execute_result"
    }
   ],
   "source": [
    "a, b"
   ]
  },
  {
   "cell_type": "code",
   "execution_count": 18,
   "id": "5b8e37de",
   "metadata": {},
   "outputs": [
    {
     "data": {
      "text/latex": [
       "$\\displaystyle \\left[\\begin{array}{cc}0 & - \\frac{2 \\sqrt{5}}{5}\\\\0 & 0\\\\0 & 0\\\\1 & 0\\\\0 & \\frac{\\sqrt{5}}{5}\\end{array}\\right]$"
      ],
      "text/plain": [
       "Matrix([{\n",
       "[0, -2*sqrt(5)/5]\n",
       "[0,            0]\n",
       "[0,            0]\n",
       "[1,            0]\n",
       "[0,    sqrt(5)/5]\n",
       "])"
      ]
     },
     "execution_count": 18,
     "metadata": {},
     "output_type": "execute_result"
    }
   ],
   "source": [
    "a, b, _ = res\n",
    "b @ a"
   ]
  },
  {
   "cell_type": "code",
   "execution_count": 8,
   "id": "7bc9c0b9",
   "metadata": {},
   "outputs": [
    {
     "data": {
      "text/latex": [
       "$\\left[\\begin{array}{cccc}0 & 1 & 0 & 0\\\\1 & 0 & 0 & 0\\\\0 & 0 & 0 & 1\\\\0 & 0 & 1 & 0\\end{array}\\right]\\left[\\begin{array}{ccccc}3 & 0 & 0 & 0 & 0\\\\0 & \\sqrt{5} & 0 & 0 & 0\\\\0 & 0 & 2 & 0 & 0\\\\0 & 0 & 0 & 0 & 0\\end{array}\\right]\\left[\\begin{array}{ccccc}0 & 0 & 1 & 0 & 0\\\\\\frac{\\sqrt{5}}{5} & 0 & 0 & 0 & \\frac{2 \\sqrt{5}}{5}\\\\0 & 1 & 0 & 0 & 0\\\\\\frac{2 \\sqrt{5}}{5} & 0 & 0 & 0 & - \\frac{\\sqrt{5}}{5}\\\\0 & 0 & 0 & 1 & 0\\end{array}\\right]$"
      ],
      "text/plain": [
       "<IPython.core.display.Latex object>"
      ]
     },
     "metadata": {},
     "output_type": "display_data"
    }
   ],
   "source": [
    "tmp.singular_value_decomposition()"
   ]
  },
  {
   "cell_type": "code",
   "execution_count": 42,
   "id": "bcc7d1a9",
   "metadata": {},
   "outputs": [
    {
     "data": {
      "text/latex": [
       "$\\displaystyle\\left[\\begin{array}{c|c|ccc}1 & 0 & 0 & 0 & 2\\\\0 & 0 & 3 & 0 & 0\\\\0 & 0 & 0 & 0 & 0\\\\0 & 2 & 0 & 0 & 0\\end{array}\\right]$"
      ],
      "text/plain": [
       "<IPython.core.display.Latex object>"
      ]
     },
     "metadata": {},
     "output_type": "display_data"
    }
   ],
   "source": [
    "from symbolic import display\n",
    "\n",
    "display(tmp)"
   ]
  },
  {
   "cell_type": "code",
   "execution_count": 39,
   "id": "3ea44302",
   "metadata": {},
   "outputs": [
    {
     "name": "stderr",
     "output_type": "stream",
     "text": [
      "[autoreload of symbolic failed: Traceback (most recent call last):\n",
      "  File \"c:\\Github\\linear-algebra\\.venv\\lib\\site-packages\\IPython\\extensions\\autoreload.py\", line 276, in check\n",
      "    superreload(m, reload, self.old_objects)\n",
      "  File \"c:\\Github\\linear-algebra\\.venv\\lib\\site-packages\\IPython\\extensions\\autoreload.py\", line 500, in superreload\n",
      "    update_generic(old_obj, new_obj)\n",
      "  File \"c:\\Github\\linear-algebra\\.venv\\lib\\site-packages\\IPython\\extensions\\autoreload.py\", line 397, in update_generic\n",
      "    update(a, b)\n",
      "  File \"c:\\Github\\linear-algebra\\.venv\\lib\\site-packages\\IPython\\extensions\\autoreload.py\", line 349, in update_class\n",
      "    if update_generic(old_obj, new_obj):\n",
      "  File \"c:\\Github\\linear-algebra\\.venv\\lib\\site-packages\\IPython\\extensions\\autoreload.py\", line 397, in update_generic\n",
      "    update(a, b)\n",
      "  File \"c:\\Github\\linear-algebra\\.venv\\lib\\site-packages\\IPython\\extensions\\autoreload.py\", line 309, in update_function\n",
      "    setattr(old, name, getattr(new, name))\n",
      "ValueError: __repr__() requires a code object with 1 free vars, not 0\n",
      "]\n"
     ]
    },
    {
     "data": {
      "text/plain": [
       "NumSVD(\n",
       "        U = \n",
       "array([[         0,          1,          0,          0],\n",
       "       [         1,          0,          0,          0],\n",
       "       [         0,          0,          0,          1],\n",
       "       [         0,          0,         -1,          0]]), \n",
       "\n",
       "        S = \n",
       "array([[         3,          0,          0,          0,          0],\n",
       "       [         0,   2.236068,          0,          0,          0],\n",
       "       [         0,          0,          2,          0,          0],\n",
       "       [         0,          0,          0,          0,          0]]), \n",
       "\n",
       "        V = \n",
       "array([[        -0,  0.4472136,          0,          0, -0.8944272],\n",
       "       [         0,          0,         -1,          0,          0],\n",
       "       [         1,          0,          0,          0,          0],\n",
       "       [        -0,          0,          0,          1,          0],\n",
       "       [         0,  0.8944272,          0,          0,  0.4472136]]))"
      ]
     },
     "execution_count": 39,
     "metadata": {},
     "output_type": "execute_result"
    }
   ],
   "source": [
    "numSVD = tmp.fast_svd()\n",
    "numSVD"
   ]
  },
  {
   "cell_type": "code",
   "execution_count": 35,
   "id": "4872db13",
   "metadata": {},
   "outputs": [
    {
     "name": "stdout",
     "output_type": "stream",
     "text": [
      "NumSVD(U=array([[         0,          1,          0,          0],\n",
      "       [         1,          0,          0,          0],\n",
      "       [         0,          0,          0,          1],\n",
      "       [         0,          0,         -1,          0]]), S=array([[         3,          0,          0,          0,          0],\n",
      "       [         0,   2.236068,          0,          0,          0],\n",
      "       [         0,          0,          2,          0,          0],\n",
      "       [         0,          0,          0,          0,          0]]), V=array([[        -0,  0.4472136,          0,          0, -0.8944272],\n",
      "       [         0,          0,         -1,          0,          0],\n",
      "       [         1,          0,          0,          0,          0],\n",
      "       [        -0,          0,          0,          1,          0],\n",
      "       [         0,  0.8944272,          0,          0,  0.4472136]]))\n"
     ]
    },
    {
     "name": "stderr",
     "output_type": "stream",
     "text": [
      "[autoreload of symbolic failed: Traceback (most recent call last):\n",
      "  File \"c:\\Github\\linear-algebra\\.venv\\lib\\site-packages\\IPython\\extensions\\autoreload.py\", line 276, in check\n",
      "    superreload(m, reload, self.old_objects)\n",
      "  File \"c:\\Github\\linear-algebra\\.venv\\lib\\site-packages\\IPython\\extensions\\autoreload.py\", line 500, in superreload\n",
      "    update_generic(old_obj, new_obj)\n",
      "  File \"c:\\Github\\linear-algebra\\.venv\\lib\\site-packages\\IPython\\extensions\\autoreload.py\", line 397, in update_generic\n",
      "    update(a, b)\n",
      "  File \"c:\\Github\\linear-algebra\\.venv\\lib\\site-packages\\IPython\\extensions\\autoreload.py\", line 349, in update_class\n",
      "    if update_generic(old_obj, new_obj):\n",
      "  File \"c:\\Github\\linear-algebra\\.venv\\lib\\site-packages\\IPython\\extensions\\autoreload.py\", line 397, in update_generic\n",
      "    update(a, b)\n",
      "  File \"c:\\Github\\linear-algebra\\.venv\\lib\\site-packages\\IPython\\extensions\\autoreload.py\", line 309, in update_function\n",
      "    setattr(old, name, getattr(new, name))\n",
      "ValueError: __repr__() requires a code object with 1 free vars, not 0\n",
      "]\n"
     ]
    }
   ],
   "source": [
    "print(numSVD.__repr__())"
   ]
  },
  {
   "cell_type": "code",
   "execution_count": 26,
   "id": "7d44532e",
   "metadata": {},
   "outputs": [
    {
     "data": {
      "text/plain": [
       "'\\\\left[\\\\begin{array}{ccc}1 & 0 & 0\\\\\\\\0 & 2 & 0\\\\\\\\0 & 0 & 3\\\\end{array}\\\\right]'"
      ]
     },
     "execution_count": 26,
     "metadata": {},
     "output_type": "execute_result"
    }
   ],
   "source": [
    "Matrix(sym.diag(1, 2, 3))._repr_latex_()"
   ]
  },
  {
   "cell_type": "code",
   "execution_count": 23,
   "id": "b9d44722",
   "metadata": {},
   "outputs": [
    {
     "data": {
      "text/latex": [
       "$\\left[\\begin{array}{ccccc}1 & 0 & 0 & 0 & 2\\\\0 & 0 & 3 & 0 & 0\\\\0 & 0 & 0 & 0 & 0\\\\0 & 2 & 0 & 0 & 0\\end{array}\\right]$"
      ],
      "text/plain": [
       "<IPython.core.display.Latex object>"
      ]
     },
     "metadata": {},
     "output_type": "display_data"
    }
   ],
   "source": [
    "tmp2._aug_pos = set([])\n",
    "tmp2"
   ]
  },
  {
   "cell_type": "code",
   "execution_count": 25,
   "id": "51c4f8b8",
   "metadata": {},
   "outputs": [
    {
     "name": "stderr",
     "output_type": "stream",
     "text": [
      "[autoreload of symbolic failed: Traceback (most recent call last):\n",
      "  File \"c:\\Github\\linear-algebra\\.venv\\lib\\site-packages\\IPython\\extensions\\autoreload.py\", line 276, in check\n",
      "    superreload(m, reload, self.old_objects)\n",
      "  File \"c:\\Github\\linear-algebra\\.venv\\lib\\site-packages\\IPython\\extensions\\autoreload.py\", line 500, in superreload\n",
      "    update_generic(old_obj, new_obj)\n",
      "  File \"c:\\Github\\linear-algebra\\.venv\\lib\\site-packages\\IPython\\extensions\\autoreload.py\", line 397, in update_generic\n",
      "    update(a, b)\n",
      "  File \"c:\\Github\\linear-algebra\\.venv\\lib\\site-packages\\IPython\\extensions\\autoreload.py\", line 349, in update_class\n",
      "    if update_generic(old_obj, new_obj):\n",
      "  File \"c:\\Github\\linear-algebra\\.venv\\lib\\site-packages\\IPython\\extensions\\autoreload.py\", line 397, in update_generic\n",
      "    update(a, b)\n",
      "  File \"c:\\Github\\linear-algebra\\.venv\\lib\\site-packages\\IPython\\extensions\\autoreload.py\", line 309, in update_function\n",
      "    setattr(old, name, getattr(new, name))\n",
      "ValueError: __new__() requires a code object with 1 free vars, not 0\n",
      "]\n"
     ]
    },
    {
     "data": {
      "text/latex": [
       "$\\left[\\begin{array}{cccc}1 & 0 & 0 & 0\\\\0 & 0 & 0 & 2\\\\0 & 3 & 0 & 0\\\\0 & 0 & 0 & 0\\\\2 & 0 & 0 & 0\\end{array}\\right]$"
      ],
      "text/plain": [
       "<IPython.core.display.Latex object>"
      ]
     },
     "metadata": {},
     "output_type": "display_data"
    }
   ],
   "source": [
    "tmp2.T"
   ]
  },
  {
   "cell_type": "code",
   "execution_count": 21,
   "id": "494746e4",
   "metadata": {},
   "outputs": [
    {
     "data": {
      "text/latex": [
       "$\\displaystyle\\left[\\begin{array}{c|c|ccc}1 & 0 & 0 & 0 & 2\\\\0 & 0 & 3 & 0 & 0\\\\0 & 0 & 0 & 0 & 0\\\\0 & 2 & 0 & 0 & 0\\end{array}\\right]$"
      ],
      "text/plain": [
       "<IPython.core.display.Latex object>"
      ]
     },
     "metadata": {},
     "output_type": "display_data"
    }
   ],
   "source": [
    "tmp"
   ]
  },
  {
   "cell_type": "code",
   "execution_count": 8,
   "id": "18fe9ceb",
   "metadata": {},
   "outputs": [
    {
     "name": "stdout",
     "output_type": "stream",
     "text": [
      "<class 'tuple'>\n"
     ]
    },
    {
     "data": {
      "text/latex": [
       "$\\displaystyle\\left[\\begin{array}{cc|c}1 & 2 & 3\\\\4 & 5 & 6\\end{array}\\right]$"
      ],
      "text/plain": [
       "<IPython.core.display.Latex object>"
      ]
     },
     "metadata": {},
     "output_type": "display_data"
    }
   ],
   "source": [
    "tmp2 = Matrix([[1, 2, 3], [4, 5, 6]], aug_pos=set([2]))\n",
    "tmp2"
   ]
  },
  {
   "cell_type": "code",
   "execution_count": 5,
   "id": "10e649e1",
   "metadata": {},
   "outputs": [
    {
     "data": {
      "text/latex": [
       "$\\displaystyle\\left[\\begin{array}{c|c|ccc}1 & 0 & 0 & 0 & 2\\\\0 & 0 & 3 & 0 & 0\\\\0 & 0 & 0 & 0 & 0\\\\0 & 2 & 0 & 0 & 0\\end{array}\\right]$"
      ],
      "text/plain": [
       "<IPython.core.display.Latex object>"
      ]
     },
     "metadata": {},
     "output_type": "display_data"
    }
   ],
   "source": [
    "tmp"
   ]
  },
  {
   "cell_type": "code",
   "execution_count": 15,
   "id": "cf6e456b",
   "metadata": {},
   "outputs": [
    {
     "data": {
      "text/plain": [
       "'Matrix([\\n[0, -1],\\n[0,  2]])'"
      ]
     },
     "execution_count": 15,
     "metadata": {},
     "output_type": "execute_result"
    }
   ],
   "source": [
    "result.full.transpose()._repr_latex_()"
   ]
  },
  {
   "cell_type": "code",
   "execution_count": 10,
   "id": "72b63635",
   "metadata": {},
   "outputs": [
    {
     "data": {
      "text/latex": [
       "$\\left[\\begin{array}{cc}0 & 1\\\\-1 & 2\\end{array}\\right]$"
      ],
      "text/plain": [
       "<IPython.core.display.Latex object>"
      ]
     },
     "metadata": {},
     "output_type": "display_data"
    }
   ],
   "source": [
    "Matrix([[0, 1], [-1, 2]])"
   ]
  },
  {
   "cell_type": "code",
   "execution_count": null,
   "id": "a837de99",
   "metadata": {},
   "outputs": [],
   "source": [
    "tmp = result.diag.sep_part_gen()\n",
    "tmp.part_sol, tmp.gen_sol\n",
    "\n",
    "tuple(tmp)"
   ]
  },
  {
   "cell_type": "code",
   "execution_count": null,
   "id": "0018a3a2",
   "metadata": {},
   "outputs": [],
   "source": [
    "from typing import NamedTuple\n",
    "\n",
    "class Test(NamedTuple):\n",
    "    x: Matrix\n",
    "    y: Matrix\n",
    "\n",
    "    def __str__(self) -> str:\n",
    "        # return tuple(self).__str__()\n",
    "        return \"string\"\n",
    "        \n",
    "    def _repr_latex_(self) -> str:\n",
    "        x_latex = self.x._repr_latex_().removeprefix(r\"$\\displaystyle\").removesuffix(\"$\")\n",
    "        y_latex = (\n",
    "            self.y._repr_latex_().removeprefix(r\"$\\displaystyle\").removesuffix(\"$\")\n",
    "        )\n",
    "        return self.x._repr_latex_()\n",
    "        # return f\"$\\\\displaystyle \\\\left[ \\\\text{{x :}} {x_latex}, \\\\text{{y :}} {y_latex} \\\\right]$\"\n",
    "    \n",
    "\n",
    "Test(tmp.part_sol, tmp.gen_sol)"
   ]
  },
  {
   "cell_type": "code",
   "execution_count": 103,
   "id": "5b148328",
   "metadata": {},
   "outputs": [
    {
     "data": {
      "text/latex": [
       "$\\displaystyle x \\left(x - 1\\right)$"
      ],
      "text/plain": [
       "x⋅(x - 1)"
      ]
     },
     "execution_count": 103,
     "metadata": {},
     "output_type": "execute_result"
    }
   ],
   "source": [
    "expr = x * (x - 1)\n",
    "expr = expr.expand()\n",
    "expr2 = expr.simplify()\n",
    "expr2"
   ]
  },
  {
   "cell_type": "code",
   "execution_count": 160,
   "id": "0490fdce",
   "metadata": {},
   "outputs": [
    {
     "data": {
      "text/latex": [
       "$\\text{Vector} = \\left(\\text{x} = \\text{3.0}, \\quad\\text{y} = \\text{4.0}\\right)$"
      ],
      "text/plain": [
       "<IPython.core.display.Latex object>"
      ]
     },
     "metadata": {},
     "output_type": "display_data"
    }
   ],
   "source": [
    "import IPython\n",
    "from IPython.display import display_latex\n",
    "\n",
    "def _gen_latex_repr(obj: NamedTuple) -> str:\n",
    "    def text(txt: str) -> str:\n",
    "        return \"\\\\text{\" + txt + \"}\"\n",
    "    \n",
    "    list_repr = []\n",
    "    for k, v in obj._asdict().items():\n",
    "        k_repr = text(k)\n",
    "        if hasattr(v, '_repr_latex_'):\n",
    "            v_repr = v._repr_latex_()\n",
    "        else:\n",
    "            v_repr = text(v.__repr__())\n",
    "        list_repr.append(k_repr + \" = \" + v_repr)\n",
    "        \n",
    "    merged = \", \\\\quad\".join(list_repr)\n",
    "    return \"$\" + text(type(obj).__name__) + \" = \\\\left(\" + merged +  \"\\\\right)$\"\n",
    "\n",
    "class LatexNamedTuple():\n",
    "    def _ipython_display_(self) -> None:\n",
    "        display(Latex(self._repr_latex_())) \n",
    "\n",
    "    def _repr_latex_(self) -> str:\n",
    "        return _gen_latex_repr(self)\n",
    "\n",
    "class Vector(NamedTuple):\n",
    "    x: float\n",
    "    y: float\n",
    "\n",
    "    def _ipython_display_(self) -> None:\n",
    "        # print(\"IPYTHON DISPLAY\")\n",
    "        # print(self.x, self.y)\n",
    "        # print(self._repr_latex_())\n",
    "        display(Latex(self._repr_latex_()))\n",
    "    \n",
    "    def _repr_latex_(self) -> str:\n",
    "        \"\"\"Return LaTeX representation of the vector.\"\"\"\n",
    "        # return f\"$\\\\begin{{pmatrix}} {self.x} \\\\\\\\ {self.y} \\\\end{{pmatrix}}$\"\n",
    "        return _gen_latex_repr(self)\n",
    "    \n",
    "\n",
    "# Usage example\n",
    "v = Vector(3.0, 4.0)\n",
    "v._asdict()\n",
    "v"
   ]
  },
  {
   "cell_type": "code",
   "execution_count": null,
   "id": "945424a5",
   "metadata": {},
   "outputs": [
    {
     "name": "stdout",
     "output_type": "stream",
     "text": [
      "$\\displaystyle \\left[\\begin{matrix}1 & 2\\\\3000 & 4\\end{matrix}\\right]$\n"
     ]
    },
    {
     "data": {
      "text/latex": [
       "$\\displaystyle\\left[\\begin{array}{c|c}1 & 2\\\\3000 & 4\\end{array}\\right]$"
      ],
      "text/plain": [
       "<IPython.core.display.Latex object>"
      ]
     },
     "metadata": {},
     "output_type": "display_data"
    }
   ],
   "source": [
    "from typing import Set\n",
    "import re\n",
    "from printer import aug_print\n",
    "\n",
    "class Custom(sym.MutableDenseMatrix):\n",
    "    def __init__(self, *args, aug_pos: Set[int] | int = set(), **kwargs) -> None:\n",
    "        if isinstance(aug_pos, int):\n",
    "            self._aug_pos = set([aug_pos])\n",
    "        else:\n",
    "            self._aug_pos: Set[int] = aug_pos\n",
    "\n",
    "    def __str__(self) -> str:\n",
    "        res = super().__str__()\n",
    "        aug_pos = f\"aug_pos: {self._aug_pos}\"\n",
    "        return f\"{res}, {aug_pos}\"\n",
    "    \n",
    "    def __repr__(self) -> str:\n",
    "        def rep_row(row: str) -> str:\n",
    "            repr = \"\"\n",
    "            elems = row.removesuffix(',').split(',')\n",
    "            for idx, elem in enumerate(elems):\n",
    "                if idx + 1 in self._aug_pos:\n",
    "                    repr += elem + \"|\"\n",
    "                else:\n",
    "                    repr += elem + \",\"\n",
    "            return repr.removesuffix(\"|\").removesuffix(\",\")\n",
    "\n",
    "        res = super().__repr__().removeprefix(\"Matrix([\").removesuffix('])')\n",
    "        res_row_list = (rep_row(row) for row in res.split('\\n'))\n",
    "        res = \"Matrix([{\" + \"\\n\".join(res_row_list) + \"])\" \n",
    "        return res\n",
    "    \n",
    "    def _repr_latex_(self) -> str:\n",
    "        # get latex representation of matrix with \"array\" format\n",
    "        raw = sym.latex(self, mat_str=\"array\")\n",
    "\n",
    "        ls = [pos for pos in self._aug_pos if 0 < pos < matrix.cols]\n",
    "        if len(ls) == 0:\n",
    "            # no valid _aug_pos found\n",
    "            return raw\n",
    "\n",
    "        # create formatting string s to insert augment line visually\n",
    "        ls.sort()\n",
    "        delta = [ls[0]]\n",
    "        delta.extend([ls[i] - ls[i - 1] for i in range(1, len(ls))])\n",
    "        remainder = self.cols - sum(delta)\n",
    "        delta.append(remainder)\n",
    "        s = \"\\\\begin{array}{\" + \"|\".join((\"c\" * i for i in delta)) + \"}\"\n",
    "        default_s = \"\\\\begin{array}{\" + \"c\" * self.cols + \"}\"\n",
    "\n",
    "        formatted = \"$\\\\displaystyle\" + raw.replace(default_s, s) + \"$\"\n",
    "        return formatted\n",
    "    \n",
    "    def _ipython_display_(self) -> None:\n",
    "        display(Latex(self._repr_latex_()))\n",
    "\n",
    "\n",
    "tmp = Custom([[1, 2], [3000, 4]], aug_pos=set([1]))\n",
    "# print(tmp)\n",
    "# print(tmp.__repr__())\n",
    "# aug_print(tmp)\n",
    "# print(tmp._repr_latex_())\n",
    "tmp"
   ]
  },
  {
   "cell_type": "code",
   "execution_count": null,
   "id": "6e4f9714",
   "metadata": {},
   "outputs": [],
   "source": [
    "from IPython.display import display, Latex\n",
    "display(Latex(v._repr_latex_()))"
   ]
  }
 ],
 "metadata": {
  "kernelspec": {
   "display_name": ".venv",
   "language": "python",
   "name": "python3"
  },
  "language_info": {
   "codemirror_mode": {
    "name": "ipython",
    "version": 3
   },
   "file_extension": ".py",
   "mimetype": "text/x-python",
   "name": "python",
   "nbconvert_exporter": "python",
   "pygments_lexer": "ipython3",
   "version": "3.10.11"
  }
 },
 "nbformat": 4,
 "nbformat_minor": 5
}

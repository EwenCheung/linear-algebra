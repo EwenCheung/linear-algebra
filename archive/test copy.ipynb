{
 "cells": [
  {
   "cell_type": "code",
   "execution_count": 76,
   "metadata": {},
   "outputs": [],
   "source": [
    "import sympy as sym\n",
    "sym.init_printing(use_unicode=True)"
   ]
  },
  {
   "cell_type": "code",
   "execution_count": 84,
   "metadata": {},
   "outputs": [],
   "source": [
    "a, b = sym.symbols('a b')\n",
    "\n",
    "A = sym.Matrix([[a,2,a,a+b,a-b],\n",
    "               [a,2,a,a,a-b],\n",
    "               [3,3,-b,3,-b],\n",
    "               [a+1,3,a+1,a+1,a-b+1]])"
   ]
  },
  {
   "cell_type": "code",
   "execution_count": 223,
   "metadata": {},
   "outputs": [
    {
     "data": {
      "text/latex": [
       "$\\displaystyle \\left[\\begin{matrix}a & 2 & a & a + b & a - b\\\\a & 2 & a & a & a - b\\\\\\frac{3}{a} & \\frac{3}{a} & - \\frac{b}{a} & \\frac{3}{a} & - \\frac{b}{a}\\\\a + 1 & 3 & a + 1 & a + 1 & a - b + 1\\end{matrix}\\right]$"
      ],
      "text/plain": [
       "⎡  a    2    a    a + b    a - b  ⎤\n",
       "⎢                                 ⎥\n",
       "⎢  a    2    a      a      a - b  ⎥\n",
       "⎢                                 ⎥\n",
       "⎢  3    3   -b      3       -b    ⎥\n",
       "⎢  ─    ─   ───     ─       ───   ⎥\n",
       "⎢  a    a    a      a        a    ⎥\n",
       "⎢                                 ⎥\n",
       "⎣a + 1  3  a + 1  a + 1  a - b + 1⎦"
      ]
     },
     "execution_count": 223,
     "metadata": {},
     "output_type": "execute_result"
    }
   ],
   "source": [
    "def scale_row(A: sym.Matrix, \n",
    "              idx: int, \n",
    "              scalar: float, \n",
    "              verbosity: int = 0) -> sym.Matrix:\n",
    "    A = sym.Matrix(A)\n",
    "    A[idx, :] = scalar * A[idx, :]\n",
    "    A = sym.simplify(A)\n",
    "    if verbosity >= 1:\n",
    "        print(f\"R_{idx+1} <- ({scalar})R_{idx+1}\")\n",
    "    if verbosity >= 2:\n",
    "        sym.pprint(A)\n",
    "        print('\\n')\n",
    "    return A\n",
    "\n",
    "scale_row(A, 2, 1/a)"
   ]
  },
  {
   "cell_type": "code",
   "execution_count": 224,
   "metadata": {},
   "outputs": [
    {
     "data": {
      "text/latex": [
       "$\\displaystyle \\left[\\begin{matrix}3 & 3 & - b & 3 & - b\\\\a & 2 & a & a & a - b\\\\a & 2 & a & a + b & a - b\\\\a + 1 & 3 & a + 1 & a + 1 & a - b + 1\\end{matrix}\\right]$"
      ],
      "text/plain": [
       "⎡  3    3   -b      3       -b    ⎤\n",
       "⎢                                 ⎥\n",
       "⎢  a    2    a      a      a - b  ⎥\n",
       "⎢                                 ⎥\n",
       "⎢  a    2    a    a + b    a - b  ⎥\n",
       "⎢                                 ⎥\n",
       "⎣a + 1  3  a + 1  a + 1  a - b + 1⎦"
      ]
     },
     "execution_count": 224,
     "metadata": {},
     "output_type": "execute_result"
    }
   ],
   "source": [
    "def swap_row(A: sym.Matrix, \n",
    "             idx_1: int, \n",
    "             idx_2: int, \n",
    "             verbosity: int = 0) -> sym.Matrix:\n",
    "    A = sym.Matrix(A)\n",
    "    A[idx_1, :], A[idx_2, :] = A[idx_2, :], A[idx_1, :]\n",
    "    \n",
    "    if verbosity >= 1:\n",
    "        print(f\"R_{idx_1+1} <-> R_{idx_2+1}\")\n",
    "    if verbosity >= 2:\n",
    "        sym.pprint(A)\n",
    "        print('\\n')\n",
    "    return A\n",
    "\n",
    "swap_row(A, 0, 2)"
   ]
  },
  {
   "cell_type": "code",
   "execution_count": 225,
   "metadata": {},
   "outputs": [
    {
     "data": {
      "text/latex": [
       "$\\displaystyle \\left[\\begin{matrix}a & 2 & a & a + b & a - b\\\\a & 2 & a & a & a - b\\\\3 & 3 & - b & 3 & - b\\\\2 a + 1 & 5 & 2 a + 1 & 2 a + b + 1 & 2 a - 2 b + 1\\end{matrix}\\right]$"
      ],
      "text/plain": [
       "⎡   a     2     a        a + b         a - b    ⎤\n",
       "⎢                                               ⎥\n",
       "⎢   a     2     a          a           a - b    ⎥\n",
       "⎢                                               ⎥\n",
       "⎢   3     3    -b          3            -b      ⎥\n",
       "⎢                                               ⎥\n",
       "⎣2⋅a + 1  5  2⋅a + 1  2⋅a + b + 1  2⋅a - 2⋅b + 1⎦"
      ]
     },
     "execution_count": 225,
     "metadata": {},
     "output_type": "execute_result"
    }
   ],
   "source": [
    "def reduce_row(A: sym.Matrix, \n",
    "               idx_1: int,\n",
    "               scalar: float, \n",
    "               idx_2: int, \n",
    "               verbosity: int = 0) -> sym.Matrix:\n",
    "    A = sym.Matrix(A)\n",
    "    A[idx_1, :] = A[idx_1, :] - scalar * A[idx_2, :]\n",
    "    A = sym.simplify(A)\n",
    "\n",
    "    if verbosity >= 1:\n",
    "        print(f\"R_{idx_1+1} <- R_{idx_1+1} - ({scalar})R_{idx_2+1}\")\n",
    "    if verbosity >= 2:\n",
    "        sym.pprint(A)\n",
    "        print('\\n')\n",
    "    return A\n",
    "\n",
    "reduce_row(A, 3, -1, 0)"
   ]
  },
  {
   "cell_type": "code",
   "execution_count": 57,
   "metadata": {},
   "outputs": [
    {
     "data": {
      "text/plain": [
       "False"
      ]
     },
     "execution_count": 57,
     "metadata": {},
     "output_type": "execute_result"
    }
   ],
   "source": [
    "def is_zero(expr, symbolic: bool = True) -> bool:\n",
    "    # if not symbolic:\n",
    "    #     # symbols are assumed to be non-zero\n",
    "    #     return expr.is_zero\n",
    "    if not isinstance(expr, sym.Expr):\n",
    "        return expr == 0\n",
    "    sol = sym.solve(sym.Eq(expr, 0), expr.free_symbols)\n",
    "    return len(sol) != 0\n",
    "\n",
    "is_zero(1)"
   ]
  },
  {
   "cell_type": "code",
   "execution_count": 185,
   "metadata": {},
   "outputs": [
    {
     "data": {
      "text/latex": [
       "$\\displaystyle 1$"
      ],
      "text/plain": [
       "1"
      ]
     },
     "execution_count": 185,
     "metadata": {},
     "output_type": "execute_result"
    }
   ],
   "source": [
    "def get_pivot_row(A: sym.Matrix, \n",
    "                  col_idx: int, \n",
    "                  follow_GE: bool = False) -> int:\n",
    "    m, _ = sym.shape(A)\n",
    "\n",
    "    # Attempt to pick a pivot column that is a non-zero constant that do\n",
    "    # not contain any symbols so that it is easier to reduce other rows\n",
    "    if not follow_GE:\n",
    "        for row_idx in range(col_idx, m):\n",
    "            term = A[row_idx, col_idx]\n",
    "            if term != 0:\n",
    "                if not isinstance(term, sym.Expr):\n",
    "                    return row_idx\n",
    "                elif len(term.free_symbols) == 0:\n",
    "                    return row_idx\n",
    "\n",
    "    # Attempt to pick the first non-zero row if all rows contain symbols\n",
    "    for row_idx in range(col_idx, m):\n",
    "        term = A[row_idx, col_idx]\n",
    "        if term != 0:\n",
    "            return row_idx\n",
    "\n",
    "    # if entire col is 0, ie no pivot_rows found, return -1\n",
    "    return -1\n",
    "\n",
    "# print(A)\n",
    "B = sym.Matrix([[0, b, 0],\n",
    "                [b/3 + 1, 0, 0]])\n",
    "get_pivot_row(B, 0)"
   ]
  },
  {
   "cell_type": "code",
   "execution_count": 234,
   "metadata": {},
   "outputs": [
    {
     "name": "stdout",
     "output_type": "stream",
     "text": [
      "pivot_row=0\n",
      "1 0\n",
      "0\n",
      "True\n",
      "2 0\n",
      "0\n",
      "True\n",
      "3 0\n",
      "0\n",
      "True\n",
      "pivot_row=-1\n",
      "pivot_row=2\n",
      "3 2\n",
      "0\n",
      "True\n",
      "pivot_row=3\n"
     ]
    },
    {
     "data": {
      "text/latex": [
       "$\\displaystyle \\left( \\left[\\begin{matrix}1 & 0 & 0 & 0\\\\0 & 1 & 0 & 0\\\\0 & 0 & 1 & 0\\\\0 & 0 & 0 & 1\\end{matrix}\\right], \\  \\left[\\begin{matrix}1 & 0 & 0 & 0\\\\0 & 1 & 0 & 0\\\\0 & 0 & 1 & 0\\\\0 & 0 & 0 & 1\\end{matrix}\\right], \\  \\left[\\begin{matrix}3 & 3 & - b & 3 & - b\\\\0 & 0 & \\frac{2 b}{3} + 2 & 0 & 2 - \\frac{b}{3}\\\\0 & 0 & \\frac{b}{3} + 1 & 0 & \\frac{b}{3} + 1\\\\0 & 0 & 0 & b & 0\\end{matrix}\\right]\\right)$"
      ],
      "text/plain": [
       "⎛                            ⎡3  3    -b     3   -b  ⎤⎞\n",
       "⎜                            ⎢                       ⎥⎟\n",
       "⎜⎡1  0  0  0⎤  ⎡1  0  0  0⎤  ⎢      2⋅b             b⎥⎟\n",
       "⎜⎢          ⎥  ⎢          ⎥  ⎢0  0  ─── + 2  0  2 - ─⎥⎟\n",
       "⎜⎢0  1  0  0⎥  ⎢0  1  0  0⎥  ⎢       3              3⎥⎟\n",
       "⎜⎢          ⎥, ⎢          ⎥, ⎢                       ⎥⎟\n",
       "⎜⎢0  0  1  0⎥  ⎢0  0  1  0⎥  ⎢       b          b    ⎥⎟\n",
       "⎜⎢          ⎥  ⎢          ⎥  ⎢0  0   ─ + 1   0  ─ + 1⎥⎟\n",
       "⎜⎣0  0  0  1⎦  ⎣0  0  0  1⎦  ⎢       3          3    ⎥⎟\n",
       "⎜                            ⎢                       ⎥⎟\n",
       "⎝                            ⎣0  0     0     b    0  ⎦⎠"
      ]
     },
     "execution_count": 234,
     "metadata": {},
     "output_type": "execute_result"
    }
   ],
   "source": [
    "def ref(A: sym.Matrix, \n",
    "        verbosity: int = 0,\n",
    "        max_tries: int = 2,\n",
    "        follow_GE: bool = False,\n",
    "        matrices: int = 1):\n",
    "    # follow_GE can be set to True to follow Gaussian Elimination strictly\n",
    "    # LU decomposition\n",
    "    # matrices is the number of matrices return. \n",
    "    # 1. Upper \n",
    "    # 2. Perm @ Lower Upper \n",
    "    # 3. Perm Lower Upper\n",
    "    U = A.copy()\n",
    "    m, n = sym.shape(U)\n",
    "\n",
    "    I = sym.eye(m)\n",
    "    L = sym.eye(m)\n",
    "    P = sym.eye(m)\n",
    "\n",
    "    # Loop over each column\n",
    "    for col_idx in range(min(m, n)):\n",
    "        # Find the first non-zero row in the current column\n",
    "        pivot_row = get_pivot_row(U, col_idx, follow_GE)\n",
    "        print(f\"{pivot_row=}\")\n",
    "\n",
    "        # if not allow_swap:\n",
    "        #     if col_idx != pivot_row:\n",
    "        #         continue\n",
    "\n",
    "        if pivot_row == -1:\n",
    "            # If no non-zero pivot is found, continue to the next column\n",
    "            continue\n",
    "        \n",
    "        # Swap the current row with the pivot row if necessary\n",
    "        if pivot_row != col_idx:\n",
    "            U = swap_row(U, col_idx, pivot_row, verbosity=verbosity)\n",
    "            P_elem = swap_row(I.copy(), col_idx, pivot_row)\n",
    "            P = P @ P_elem\n",
    "            L = P_elem @ L @ P_elem\n",
    "        \n",
    "        # Eliminate the current column in rest of the rows below\n",
    "        for row_idx in range(col_idx+1, m):\n",
    "            # reduce the row_idx iteratively via partial fractions to\n",
    "            # prevent division by a possible 0 term\n",
    "            tries = 0\n",
    "            print(row_idx, col_idx)\n",
    "            print(U[row_idx, col_idx])\n",
    "            print(U[row_idx, col_idx] == 0)\n",
    "            while U[row_idx, col_idx] != 0:\n",
    "                tries += 1\n",
    "                if tries > max_tries:\n",
    "                    print(f\"ERROR: Max tries exceeded to reduce row {row_idx} with row {col_idx}\")\n",
    "                    break\n",
    "                scalar = sym.simplify(U[row_idx, col_idx]/U[col_idx, col_idx])\n",
    "                decomp = sym.apart(scalar) # partial fractions\n",
    "                # simplify scalar is needed to check if apart has effect\n",
    "                if scalar != decomp:\n",
    "                    terms = decomp.args\n",
    "                else:\n",
    "                    # there is only 1 term (could be integer or proper fraction)\n",
    "                    terms = [decomp]\n",
    "                for term in terms:\n",
    "                    _, d = sym.fraction(term)\n",
    "                    # ensure denominator is non-zero so that reduction is valid\n",
    "                    if not is_zero(d):\n",
    "                        U = reduce_row(U, row_idx, term, col_idx, verbosity=verbosity)\n",
    "                        # L = sym.Matrix(L)\n",
    "                        # L[row_idx, col_idx] = -term\n",
    "                        # L = reduce_row(L, row_idx, -term, col_idx)\n",
    "                        elem = reduce_row(I.copy(), row_idx, -term, col_idx)\n",
    "                        L = L @ elem\n",
    "\n",
    "                # Cases where pivot row contains symbols such that scalar is a \n",
    "                # fraction with symbolic denominator. \n",
    "                # To reduce further, can only scale row_idx accordingly\n",
    "                if U[row_idx, col_idx] != 0:\n",
    "                    scalar = sym.simplify(U[col_idx, col_idx]/U[row_idx, col_idx])\n",
    "                    n, d = sym.fraction(scalar)\n",
    "                    # to scale by n, n can be symbols but not 0\n",
    "                    # to scale by 1/d, d cannot be 0 both numerically or symbolically\n",
    "                    if (n != 0) and (not is_zero(d)):\n",
    "                        U = scale_row(U, row_idx, scalar, verbosity=verbosity)\n",
    "                        elem = scale_row(I.copy(), row_idx, 1/scalar)\n",
    "                        L = L @ elem\n",
    "\n",
    "\n",
    "    if matrices == 1:\n",
    "        return U\n",
    "    elif matrices == 2:\n",
    "        return P @ L, U\n",
    "    elif matrices == 3:\n",
    "        return P, L, U\n",
    "    else:\n",
    "        return U\n",
    "\n",
    "\n",
    "# A = sym.Matrix([[a,2,a,a+b,a-b],\n",
    "#                [a,2,a,a,a-b],\n",
    "#                [3,3,-b,3,-b],\n",
    "#                [a+1,3,a+1,a+1,a-b+1]])\n",
    "# P, L, U = ref(A, allow_swap=False, matrices=3)   \n",
    "\n",
    "ref(test, verbosity=2, matrices=3)             "
   ]
  },
  {
   "cell_type": "code",
   "execution_count": 231,
   "metadata": {},
   "outputs": [
    {
     "data": {
      "text/latex": [
       "$\\displaystyle \\left[\\begin{matrix}\\frac{2 b}{3} + 2 & 0 & 2 - \\frac{b}{3}\\\\\\frac{b}{3} + 1 & 0 & \\frac{b}{3} + 1\\\\0 & b & 0\\end{matrix}\\right]$"
      ],
      "text/plain": [
       "⎡2⋅b             b⎤\n",
       "⎢─── + 2  0  2 - ─⎥\n",
       "⎢ 3              3⎥\n",
       "⎢                 ⎥\n",
       "⎢ b          b    ⎥\n",
       "⎢ ─ + 1   0  ─ + 1⎥\n",
       "⎢ 3          3    ⎥\n",
       "⎢                 ⎥\n",
       "⎣   0     b    0  ⎦"
      ]
     },
     "execution_count": 231,
     "metadata": {},
     "output_type": "execute_result"
    }
   ],
   "source": [
    "test[1:, 2:]"
   ]
  },
  {
   "cell_type": "code",
   "execution_count": 232,
   "metadata": {},
   "outputs": [
    {
     "name": "stdout",
     "output_type": "stream",
     "text": [
      "pivot_row=0\n",
      "1 0\n",
      "pivot_row=2\n",
      "pivot_row=2\n"
     ]
    },
    {
     "data": {
      "text/latex": [
       "$\\displaystyle \\left[\\begin{matrix}\\frac{2 b}{3} + 2 & 0 & 2 - \\frac{b}{3}\\\\0 & b & 0\\\\0 & 0 & \\frac{b}{2}\\end{matrix}\\right]$"
      ],
      "text/plain": [
       "⎡2⋅b             b⎤\n",
       "⎢─── + 2  0  2 - ─⎥\n",
       "⎢ 3              3⎥\n",
       "⎢                 ⎥\n",
       "⎢   0     b    0  ⎥\n",
       "⎢                 ⎥\n",
       "⎢              b  ⎥\n",
       "⎢   0     0    ─  ⎥\n",
       "⎣              2  ⎦"
      ]
     },
     "execution_count": 232,
     "metadata": {},
     "output_type": "execute_result"
    }
   ],
   "source": [
    "ref(test[1:, 2:])"
   ]
  },
  {
   "cell_type": "code",
   "execution_count": 230,
   "metadata": {},
   "outputs": [
    {
     "data": {
      "text/latex": [
       "$\\displaystyle \\left[\\begin{matrix}3 & 3 & - b & 3 & - b\\\\0 & 0 & \\frac{2 b}{3} + 2 & 0 & 2 - \\frac{b}{3}\\\\0 & 0 & \\frac{b}{3} + 1 & 0 & \\frac{b}{3} + 1\\\\0 & 0 & 0 & b & 0\\end{matrix}\\right]$"
      ],
      "text/plain": [
       "⎡3  3    -b     3   -b  ⎤\n",
       "⎢                       ⎥\n",
       "⎢      2⋅b             b⎥\n",
       "⎢0  0  ─── + 2  0  2 - ─⎥\n",
       "⎢       3              3⎥\n",
       "⎢                       ⎥\n",
       "⎢       b          b    ⎥\n",
       "⎢0  0   ─ + 1   0  ─ + 1⎥\n",
       "⎢       3          3    ⎥\n",
       "⎢                       ⎥\n",
       "⎣0  0     0     b    0  ⎦"
      ]
     },
     "execution_count": 230,
     "metadata": {},
     "output_type": "execute_result"
    }
   ],
   "source": [
    "test"
   ]
  },
  {
   "cell_type": "code",
   "execution_count": 204,
   "metadata": {},
   "outputs": [
    {
     "data": {
      "text/latex": [
       "$\\displaystyle \\left[\\begin{matrix}a & 2 & a & a + b & a - b\\\\a & 2 & a & a & a - b\\\\3 & 3 & - b & 3 & - b\\\\a + 1 & 3 & a + 1 & a + 1 & a - b + 1\\end{matrix}\\right]$"
      ],
      "text/plain": [
       "⎡  a    2    a    a + b    a - b  ⎤\n",
       "⎢                                 ⎥\n",
       "⎢  a    2    a      a      a - b  ⎥\n",
       "⎢                                 ⎥\n",
       "⎢  3    3   -b      3       -b    ⎥\n",
       "⎢                                 ⎥\n",
       "⎣a + 1  3  a + 1  a + 1  a - b + 1⎦"
      ]
     },
     "execution_count": 204,
     "metadata": {},
     "output_type": "execute_result"
    }
   ],
   "source": [
    "sym.simplify(P @ L @ U)"
   ]
  },
  {
   "cell_type": "code",
   "execution_count": 199,
   "metadata": {},
   "outputs": [
    {
     "name": "stdout",
     "output_type": "stream",
     "text": [
      "⎡  1    0  0  0⎤\n",
      "⎢              ⎥\n",
      "⎢  a           ⎥\n",
      "⎢  ─    1  0  0⎥\n",
      "⎢  3           ⎥\n",
      "⎢              ⎥\n",
      "⎢a   1         ⎥\n",
      "⎢─ + ─  1  1  0⎥\n",
      "⎢3   3         ⎥\n",
      "⎢              ⎥\n",
      "⎢  a           ⎥\n",
      "⎢  ─    1  0  1⎥\n",
      "⎣  3           ⎦\n",
      "⎡3    3             -b            3           -b          ⎤\n",
      "⎢                                                         ⎥\n",
      "⎢                 a⋅b                     a⋅b             ⎥\n",
      "⎢0  2 - a         ─── + a         0       ─── + a - b     ⎥\n",
      "⎢                  3                       3              ⎥\n",
      "⎢                                                         ⎥\n",
      "⎢            a⋅b     ⎛a   1⎞           a⋅b     ⎛a   1⎞    ⎥\n",
      "⎢0    0    - ─── + b⋅⎜─ + ─⎟ + 1  0  - ─── + b⋅⎜─ + ─⎟ + 1⎥\n",
      "⎢             3      ⎝3   3⎠            3      ⎝3   3⎠    ⎥\n",
      "⎢                                                         ⎥\n",
      "⎣0    0              0            b            0          ⎦\n",
      "⎡0  0  0  1⎤\n",
      "⎢          ⎥\n",
      "⎢0  1  0  0⎥\n",
      "⎢          ⎥\n",
      "⎢1  0  0  0⎥\n",
      "⎢          ⎥\n",
      "⎣0  0  1  0⎦\n"
     ]
    }
   ],
   "source": [
    "L1, U1, perm = sym.MatrixBase.LUdecomposition(A)\n",
    "sym.pprint(L1)\n",
    "sym.pprint(U1)\n",
    "P_invs = sym.eye(A.rows).permuteFwd(perm)\n",
    "sym.pprint(P_invs**-1)"
   ]
  },
  {
   "cell_type": "code",
   "execution_count": 213,
   "metadata": {},
   "outputs": [
    {
     "data": {
      "text/latex": [
       "$\\displaystyle \\left[\\begin{matrix}3 & 3 & - b & 3 & - b\\\\0 & 2 - a & \\frac{a \\left(b + 3\\right)}{3} & 0 & \\frac{a b}{3} + a - b\\\\0 & 0 & \\frac{b}{3} + 1 & 0 & \\frac{b}{3} + 1\\\\0 & 0 & 0 & b & 0\\end{matrix}\\right]$"
      ],
      "text/plain": [
       "⎡3    3       -b      3      -b     ⎤\n",
       "⎢                                   ⎥\n",
       "⎢          a⋅(b + 3)     a⋅b        ⎥\n",
       "⎢0  2 - a  ─────────  0  ─── + a - b⎥\n",
       "⎢              3          3         ⎥\n",
       "⎢                                   ⎥\n",
       "⎢            b              b       ⎥\n",
       "⎢0    0      ─ + 1    0     ─ + 1   ⎥\n",
       "⎢            3              3       ⎥\n",
       "⎢                                   ⎥\n",
       "⎣0    0        0      b       0     ⎦"
      ]
     },
     "execution_count": 213,
     "metadata": {},
     "output_type": "execute_result"
    }
   ],
   "source": [
    "sym.simplify(U1)"
   ]
  },
  {
   "cell_type": "code",
   "execution_count": 215,
   "metadata": {},
   "outputs": [],
   "source": [
    "test = U1.subs(a, 2)"
   ]
  },
  {
   "cell_type": "code",
   "execution_count": 228,
   "metadata": {},
   "outputs": [
    {
     "data": {
      "text/latex": [
       "$\\displaystyle \\left( \\left[\\begin{matrix}1 & 0 & 0 & 0\\\\0 & 1 & 0 & 0\\\\0 & 0 & 1 & 0\\\\0 & 0 & 0 & 1\\end{matrix}\\right], \\  \\left[\\begin{matrix}1 & 0 & 0 & 0\\\\0 & 1 & 0 & 0\\\\0 & 0 & 1 & 0\\\\0 & 0 & 0 & 1\\end{matrix}\\right], \\  \\left[\\begin{matrix}3 & 3 & - b & 3 & - b\\\\0 & 0 & \\frac{2 b}{3} + 2 & 0 & 2 - \\frac{b}{3}\\\\0 & 0 & \\frac{b}{3} + 1 & 0 & \\frac{b}{3} + 1\\\\0 & 0 & 0 & b & 0\\end{matrix}\\right]\\right)$"
      ],
      "text/plain": [
       "⎛                            ⎡3  3    -b     3   -b  ⎤⎞\n",
       "⎜                            ⎢                       ⎥⎟\n",
       "⎜⎡1  0  0  0⎤  ⎡1  0  0  0⎤  ⎢      2⋅b             b⎥⎟\n",
       "⎜⎢          ⎥  ⎢          ⎥  ⎢0  0  ─── + 2  0  2 - ─⎥⎟\n",
       "⎜⎢0  1  0  0⎥  ⎢0  1  0  0⎥  ⎢       3              3⎥⎟\n",
       "⎜⎢          ⎥, ⎢          ⎥, ⎢                       ⎥⎟\n",
       "⎜⎢0  0  1  0⎥  ⎢0  0  1  0⎥  ⎢       b          b    ⎥⎟\n",
       "⎜⎢          ⎥  ⎢          ⎥  ⎢0  0   ─ + 1   0  ─ + 1⎥⎟\n",
       "⎜⎣0  0  0  1⎦  ⎣0  0  0  1⎦  ⎢       3          3    ⎥⎟\n",
       "⎜                            ⎢                       ⎥⎟\n",
       "⎝                            ⎣0  0     0     b    0  ⎦⎠"
      ]
     },
     "execution_count": 228,
     "metadata": {},
     "output_type": "execute_result"
    }
   ],
   "source": []
  },
  {
   "cell_type": "code",
   "execution_count": 169,
   "metadata": {},
   "outputs": [
    {
     "name": "stdout",
     "output_type": "stream",
     "text": [
      "R_1 <-> R_3\n",
      "⎡  3    3   -b      3       -b    ⎤\n",
      "⎢                                 ⎥\n",
      "⎢  a    2    a      a      a - b  ⎥\n",
      "⎢                                 ⎥\n",
      "⎢  a    2    a    a + b    a - b  ⎥\n",
      "⎢                                 ⎥\n",
      "⎣a + 1  3  a + 1  a + 1  a - b + 1⎦\n",
      "\n",
      "\n",
      "R_2 -> R_2 - (a/3)R_1\n",
      "⎡  3      3       -b        3        -b     ⎤\n",
      "⎢                                           ⎥\n",
      "⎢              a⋅(b + 3)         a⋅b        ⎥\n",
      "⎢  0    2 - a  ─────────    0    ─── + a - b⎥\n",
      "⎢                  3              3         ⎥\n",
      "⎢                                           ⎥\n",
      "⎢  a      2        a      a + b     a - b   ⎥\n",
      "⎢                                           ⎥\n",
      "⎣a + 1    3      a + 1    a + 1   a - b + 1 ⎦\n",
      "\n",
      "\n",
      "R_3 -> R_3 - (a/3)R_1\n",
      "⎡  3      3       -b        3        -b     ⎤\n",
      "⎢                                           ⎥\n",
      "⎢              a⋅(b + 3)         a⋅b        ⎥\n",
      "⎢  0    2 - a  ─────────    0    ─── + a - b⎥\n",
      "⎢                  3              3         ⎥\n",
      "⎢                                           ⎥\n",
      "⎢              a⋅(b + 3)         a⋅b        ⎥\n",
      "⎢  0    2 - a  ─────────    b    ─── + a - b⎥\n",
      "⎢                  3              3         ⎥\n",
      "⎢                                           ⎥\n",
      "⎣a + 1    3      a + 1    a + 1   a - b + 1 ⎦\n",
      "\n",
      "\n",
      "R_4 -> R_4 - (a/3 + 1/3)R_1\n",
      "⎡3    3           -b          3           -b          ⎤\n",
      "⎢                                                     ⎥\n",
      "⎢              a⋅(b + 3)              a⋅b             ⎥\n",
      "⎢0  2 - a      ─────────      0       ─── + a - b     ⎥\n",
      "⎢                  3                   3              ⎥\n",
      "⎢                                                     ⎥\n",
      "⎢              a⋅(b + 3)              a⋅b             ⎥\n",
      "⎢0  2 - a      ─────────      b       ─── + a - b     ⎥\n",
      "⎢                  3                   3              ⎥\n",
      "⎢                                                     ⎥\n",
      "⎢              b⋅(a + 1)             b⋅(a + 1)        ⎥\n",
      "⎢0  2 - a  a + ───────── + 1  0  a + ───────── - b + 1⎥\n",
      "⎣                  3                     3            ⎦\n",
      "\n",
      "\n",
      "R_3 -> R_3 - (1)R_2\n",
      "⎡3    3           -b          3           -b          ⎤\n",
      "⎢                                                     ⎥\n",
      "⎢              a⋅(b + 3)              a⋅b             ⎥\n",
      "⎢0  2 - a      ─────────      0       ─── + a - b     ⎥\n",
      "⎢                  3                   3              ⎥\n",
      "⎢                                                     ⎥\n",
      "⎢0    0            0          b            0          ⎥\n",
      "⎢                                                     ⎥\n",
      "⎢              b⋅(a + 1)             b⋅(a + 1)        ⎥\n",
      "⎢0  2 - a  a + ───────── + 1  0  a + ───────── - b + 1⎥\n",
      "⎣                  3                     3            ⎦\n",
      "\n",
      "\n",
      "R_4 -> R_4 - (1)R_2\n",
      "⎡3    3       -b      3      -b     ⎤\n",
      "⎢                                   ⎥\n",
      "⎢          a⋅(b + 3)     a⋅b        ⎥\n",
      "⎢0  2 - a  ─────────  0  ─── + a - b⎥\n",
      "⎢              3          3         ⎥\n",
      "⎢                                   ⎥\n",
      "⎢0    0        0      b       0     ⎥\n",
      "⎢                                   ⎥\n",
      "⎢            b              b       ⎥\n",
      "⎢0    0      ─ + 1    0     ─ + 1   ⎥\n",
      "⎣            3              3       ⎦\n",
      "\n",
      "\n"
     ]
    },
    {
     "ename": "NotImplementedError",
     "evalue": "multivariate partial fraction decomposition",
     "output_type": "error",
     "traceback": [
      "\u001b[1;31m---------------------------------------------------------------------------\u001b[0m",
      "\u001b[1;31mNotImplementedError\u001b[0m                       Traceback (most recent call last)",
      "Cell \u001b[1;32mIn[169], line 96\u001b[0m\n\u001b[0;32m     89\u001b[0m         \u001b[38;5;28;01mreturn\u001b[39;00m A\n\u001b[0;32m     92\u001b[0m A \u001b[38;5;241m=\u001b[39m sym\u001b[38;5;241m.\u001b[39mMatrix([[a,\u001b[38;5;241m2\u001b[39m,a,a\u001b[38;5;241m+\u001b[39mb,a\u001b[38;5;241m-\u001b[39mb],\n\u001b[0;32m     93\u001b[0m                [a,\u001b[38;5;241m2\u001b[39m,a,a,a\u001b[38;5;241m-\u001b[39mb],\n\u001b[0;32m     94\u001b[0m                [\u001b[38;5;241m3\u001b[39m,\u001b[38;5;241m3\u001b[39m,\u001b[38;5;241m-\u001b[39mb,\u001b[38;5;241m3\u001b[39m,\u001b[38;5;241m-\u001b[39mb],\n\u001b[0;32m     95\u001b[0m                [a\u001b[38;5;241m+\u001b[39m\u001b[38;5;241m1\u001b[39m,\u001b[38;5;241m3\u001b[39m,a\u001b[38;5;241m+\u001b[39m\u001b[38;5;241m1\u001b[39m,a\u001b[38;5;241m+\u001b[39m\u001b[38;5;241m1\u001b[39m,a\u001b[38;5;241m-\u001b[39mb\u001b[38;5;241m+\u001b[39m\u001b[38;5;241m1\u001b[39m]])\n\u001b[1;32m---> 96\u001b[0m P, E, A \u001b[38;5;241m=\u001b[39m \u001b[43mref\u001b[49m\u001b[43m(\u001b[49m\u001b[43mA\u001b[49m\u001b[43m,\u001b[49m\u001b[43m \u001b[49m\u001b[38;5;241;43m2\u001b[39;49m\u001b[43m)\u001b[49m                \n",
      "Cell \u001b[1;32mIn[169], line 54\u001b[0m, in \u001b[0;36mref\u001b[1;34m(A, verbosity, max_tries, allow_swap, result)\u001b[0m\n\u001b[0;32m     52\u001b[0m     \u001b[38;5;28;01mbreak\u001b[39;00m\n\u001b[0;32m     53\u001b[0m scalar \u001b[38;5;241m=\u001b[39m sym\u001b[38;5;241m.\u001b[39msimplify(A[row_idx, col_idx]\u001b[38;5;241m/\u001b[39mA[col_idx, col_idx])\n\u001b[1;32m---> 54\u001b[0m decomp \u001b[38;5;241m=\u001b[39m \u001b[43msym\u001b[49m\u001b[38;5;241;43m.\u001b[39;49m\u001b[43mapart\u001b[49m\u001b[43m(\u001b[49m\u001b[43mscalar\u001b[49m\u001b[43m)\u001b[49m \u001b[38;5;66;03m# partial fractions\u001b[39;00m\n\u001b[0;32m     55\u001b[0m \u001b[38;5;66;03m# simplify scalar is needed to check if apart has effect\u001b[39;00m\n\u001b[0;32m     56\u001b[0m \u001b[38;5;28;01mif\u001b[39;00m scalar \u001b[38;5;241m!=\u001b[39m decomp:\n",
      "File \u001b[1;32mc:\\Github\\linear-algebra\\.venv\\Lib\\site-packages\\sympy\\utilities\\decorator.py:34\u001b[0m, in \u001b[0;36mthreaded_factory.<locals>.threaded_func\u001b[1;34m(expr, *args, **kwargs)\u001b[0m\n\u001b[0;32m     31\u001b[0m     \u001b[38;5;28;01mreturn\u001b[39;00m expr\u001b[38;5;241m.\u001b[39m\u001b[38;5;18m__class__\u001b[39m(func(expr\u001b[38;5;241m.\u001b[39mlhs, \u001b[38;5;241m*\u001b[39margs, \u001b[38;5;241m*\u001b[39m\u001b[38;5;241m*\u001b[39mkwargs),\n\u001b[0;32m     32\u001b[0m                           func(expr\u001b[38;5;241m.\u001b[39mrhs, \u001b[38;5;241m*\u001b[39margs, \u001b[38;5;241m*\u001b[39m\u001b[38;5;241m*\u001b[39mkwargs))\n\u001b[0;32m     33\u001b[0m \u001b[38;5;28;01melse\u001b[39;00m:\n\u001b[1;32m---> 34\u001b[0m     \u001b[38;5;28;01mreturn\u001b[39;00m \u001b[43mfunc\u001b[49m\u001b[43m(\u001b[49m\u001b[43mexpr\u001b[49m\u001b[43m,\u001b[49m\u001b[43m \u001b[49m\u001b[38;5;241;43m*\u001b[39;49m\u001b[43margs\u001b[49m\u001b[43m,\u001b[49m\u001b[43m \u001b[49m\u001b[38;5;241;43m*\u001b[39;49m\u001b[38;5;241;43m*\u001b[39;49m\u001b[43mkwargs\u001b[49m\u001b[43m)\u001b[49m\n",
      "File \u001b[1;32mc:\\Github\\linear-algebra\\.venv\\Lib\\site-packages\\sympy\\polys\\partfrac.py:121\u001b[0m, in \u001b[0;36mapart\u001b[1;34m(f, x, full, **options)\u001b[0m\n\u001b[0;32m    119\u001b[0m     fc \u001b[38;5;241m=\u001b[39m f\u001b[38;5;241m.\u001b[39mcancel()\n\u001b[0;32m    120\u001b[0m     \u001b[38;5;28;01mif\u001b[39;00m fc \u001b[38;5;241m!=\u001b[39m f:\n\u001b[1;32m--> 121\u001b[0m         \u001b[38;5;28;01mreturn\u001b[39;00m \u001b[43mapart\u001b[49m\u001b[43m(\u001b[49m\u001b[43mfc\u001b[49m\u001b[43m,\u001b[49m\u001b[43m \u001b[49m\u001b[43mx\u001b[49m\u001b[38;5;241;43m=\u001b[39;49m\u001b[43mx\u001b[49m\u001b[43m,\u001b[49m\u001b[43m \u001b[49m\u001b[43mfull\u001b[49m\u001b[38;5;241;43m=\u001b[39;49m\u001b[43mfull\u001b[49m\u001b[43m,\u001b[49m\u001b[43m \u001b[49m\u001b[38;5;241;43m*\u001b[39;49m\u001b[38;5;241;43m*\u001b[39;49m\u001b[43m_options\u001b[49m\u001b[43m)\u001b[49m\n\u001b[0;32m    123\u001b[0m     \u001b[38;5;28;01mraise\u001b[39;00m \u001b[38;5;167;01mNotImplementedError\u001b[39;00m(\n\u001b[0;32m    124\u001b[0m         \u001b[38;5;124m\"\u001b[39m\u001b[38;5;124mmultivariate partial fraction decomposition\u001b[39m\u001b[38;5;124m\"\u001b[39m)\n\u001b[0;32m    126\u001b[0m common, P, Q \u001b[38;5;241m=\u001b[39m P\u001b[38;5;241m.\u001b[39mcancel(Q)\n",
      "File \u001b[1;32mc:\\Github\\linear-algebra\\.venv\\Lib\\site-packages\\sympy\\utilities\\decorator.py:34\u001b[0m, in \u001b[0;36mthreaded_factory.<locals>.threaded_func\u001b[1;34m(expr, *args, **kwargs)\u001b[0m\n\u001b[0;32m     31\u001b[0m     \u001b[38;5;28;01mreturn\u001b[39;00m expr\u001b[38;5;241m.\u001b[39m\u001b[38;5;18m__class__\u001b[39m(func(expr\u001b[38;5;241m.\u001b[39mlhs, \u001b[38;5;241m*\u001b[39margs, \u001b[38;5;241m*\u001b[39m\u001b[38;5;241m*\u001b[39mkwargs),\n\u001b[0;32m     32\u001b[0m                           func(expr\u001b[38;5;241m.\u001b[39mrhs, \u001b[38;5;241m*\u001b[39margs, \u001b[38;5;241m*\u001b[39m\u001b[38;5;241m*\u001b[39mkwargs))\n\u001b[0;32m     33\u001b[0m \u001b[38;5;28;01melse\u001b[39;00m:\n\u001b[1;32m---> 34\u001b[0m     \u001b[38;5;28;01mreturn\u001b[39;00m \u001b[43mfunc\u001b[49m\u001b[43m(\u001b[49m\u001b[43mexpr\u001b[49m\u001b[43m,\u001b[49m\u001b[43m \u001b[49m\u001b[38;5;241;43m*\u001b[39;49m\u001b[43margs\u001b[49m\u001b[43m,\u001b[49m\u001b[43m \u001b[49m\u001b[38;5;241;43m*\u001b[39;49m\u001b[38;5;241;43m*\u001b[39;49m\u001b[43mkwargs\u001b[49m\u001b[43m)\u001b[49m\n",
      "File \u001b[1;32mc:\\Github\\linear-algebra\\.venv\\Lib\\site-packages\\sympy\\polys\\partfrac.py:123\u001b[0m, in \u001b[0;36mapart\u001b[1;34m(f, x, full, **options)\u001b[0m\n\u001b[0;32m    120\u001b[0m     \u001b[38;5;28;01mif\u001b[39;00m fc \u001b[38;5;241m!=\u001b[39m f:\n\u001b[0;32m    121\u001b[0m         \u001b[38;5;28;01mreturn\u001b[39;00m apart(fc, x\u001b[38;5;241m=\u001b[39mx, full\u001b[38;5;241m=\u001b[39mfull, \u001b[38;5;241m*\u001b[39m\u001b[38;5;241m*\u001b[39m_options)\n\u001b[1;32m--> 123\u001b[0m     \u001b[38;5;28;01mraise\u001b[39;00m \u001b[38;5;167;01mNotImplementedError\u001b[39;00m(\n\u001b[0;32m    124\u001b[0m         \u001b[38;5;124m\"\u001b[39m\u001b[38;5;124mmultivariate partial fraction decomposition\u001b[39m\u001b[38;5;124m\"\u001b[39m)\n\u001b[0;32m    126\u001b[0m common, P, Q \u001b[38;5;241m=\u001b[39m P\u001b[38;5;241m.\u001b[39mcancel(Q)\n\u001b[0;32m    128\u001b[0m poly, P \u001b[38;5;241m=\u001b[39m P\u001b[38;5;241m.\u001b[39mdiv(Q, auto\u001b[38;5;241m=\u001b[39m\u001b[38;5;28;01mTrue\u001b[39;00m)\n",
      "\u001b[1;31mNotImplementedError\u001b[0m: multivariate partial fraction decomposition"
     ]
    }
   ],
   "source": [
    "def ref(A: sym.Matrix, \n",
    "        verbosity: int = 0,\n",
    "        max_tries: int = 2,\n",
    "        allow_swap: bool = True,\n",
    "        result: int = 1):\n",
    "    # allow_swap can be set to False to disable swapping when computing\n",
    "    # LU decomposition\n",
    "    # result is the number of matrices return. \n",
    "    # 1. Upper \n",
    "    # 2. Perm @ Lower Upper \n",
    "    # 3. Perm Lower Upper\n",
    "    U = A.copy()\n",
    "    m, n = sym.shape(U)\n",
    "\n",
    "    L = sym.eye(m)\n",
    "    P = sym.eye(m)\n",
    "\n",
    "    # Loop over each column\n",
    "    for col_idx in range(min(m, n)):\n",
    "        # Find the first non-zero row in the current column\n",
    "        pivot_row = get_pivot_row(U, col_idx)\n",
    "\n",
    "        if not allow_swap:\n",
    "            if col_idx != pivot_row:\n",
    "                continue\n",
    "\n",
    "        if pivot_row == -1:\n",
    "            # If no non-zero pivot is found, continue to the next column\n",
    "            continue\n",
    "        \n",
    "        # Swap the current row with the pivot row if necessary\n",
    "        if pivot_row != col_idx:\n",
    "            U = swap_row(U, col_idx, pivot_row, verbosity=verbosity)\n",
    "            if verbosity == 1:\n",
    "                E = swap_row(E, col_idx, pivot_row)\n",
    "            elif verbosity >= 2:\n",
    "                P = swap_row(P, col_idx, pivot_row)\n",
    "                elem = sym.eye(m)\n",
    "                E = swap_row(elem, col_idx, pivot_row) * E\n",
    "        \n",
    "        # Eliminate the current column in rest of the rows below\n",
    "        for row_idx in range(col_idx+1, m):\n",
    "            # reduce the row_idx iteratively via partial fractions to\n",
    "            # prevent division by a possible 0 term\n",
    "            tries = 0\n",
    "            while U[row_idx, col_idx] != 0:\n",
    "                tries += 1\n",
    "                if tries > max_tries:\n",
    "                    print(f\"ERROR: Max tries exceeded to reduce row {row_idx} with row {col_idx}\")\n",
    "                    break\n",
    "                scalar = sym.simplify(U[row_idx, col_idx]/U[col_idx, col_idx])\n",
    "                decomp = sym.apart(scalar) # partial fractions\n",
    "                # simplify scalar is needed to check if apart has effect\n",
    "                if scalar != decomp:\n",
    "                    terms = decomp.args\n",
    "                else:\n",
    "                    # there is only 1 term (could be integer or proper fraction)\n",
    "                    terms = [decomp]\n",
    "                for term in terms:\n",
    "                    _, d = sym.fraction(term)\n",
    "                    # ensure denominator is non-zero so that reduction is valid\n",
    "                    if not is_zero(d):\n",
    "                        U = reduce_row(U, row_idx, term, col_idx, verbosity=verbosity)\n",
    "                        if verbosity >= 1:\n",
    "                            E = reduce_row(E, row_idx, term, col_idx)\n",
    "\n",
    "                # Cases where pivot row contains symbols such that scalar is a \n",
    "                # fraction with symbolic denominator. \n",
    "                # To reduce further, can only scale row_idx accordingly\n",
    "                if U[row_idx, col_idx] != 0:\n",
    "                    scalar = sym.simplify(U[col_idx, col_idx]/U[row_idx, col_idx])\n",
    "                    n, d = sym.fraction(scalar)\n",
    "                    # to scale by n, n can be symbols but not 0\n",
    "                    # to scale by 1/d, d cannot be 0 both numerically or symbolically\n",
    "                    if (n != 0) and (not is_zero(d)):\n",
    "                        U = scale_row(U, row_idx, scalar, verbosity=verbosity)\n",
    "                        if verbosity >= 1:\n",
    "                            E = scale_row(E, row_idx, scalar, 0)                            \n",
    "\n",
    "    if result == 1:\n",
    "        return U\n",
    "    elif result == 2:\n",
    "        return P @ L, U\n",
    "    elif verbosity == 3:\n",
    "        return P, L, U\n",
    "    else:\n",
    "        return U\n",
    "\n",
    "\n",
    "A = sym.Matrix([[a,2,a,a+b,a-b],\n",
    "               [a,2,a,a,a-b],\n",
    "               [3,3,-b,3,-b],\n",
    "               [a+1,3,a+1,a+1,a-b+1]])\n",
    "P, E, A = ref(A, 2)                "
   ]
  },
  {
   "cell_type": "code",
   "execution_count": 166,
   "metadata": {},
   "outputs": [
    {
     "data": {
      "text/latex": [
       "$\\displaystyle \\left[\\begin{matrix}\\frac{a}{3} & 1 & 0 & 1\\\\\\frac{a}{3} & 1 & 0 & 0\\\\1 & 0 & 0 & 0\\\\\\frac{a}{3} + \\frac{1}{3} & 1 & 1 & 0\\end{matrix}\\right]$"
      ],
      "text/plain": [
       "⎡  a           ⎤\n",
       "⎢  ─    1  0  1⎥\n",
       "⎢  3           ⎥\n",
       "⎢              ⎥\n",
       "⎢  a           ⎥\n",
       "⎢  ─    1  0  0⎥\n",
       "⎢  3           ⎥\n",
       "⎢              ⎥\n",
       "⎢  1    0  0  0⎥\n",
       "⎢              ⎥\n",
       "⎢a   1         ⎥\n",
       "⎢─ + ─  1  1  0⎥\n",
       "⎣3   3         ⎦"
      ]
     },
     "execution_count": 166,
     "metadata": {},
     "output_type": "execute_result"
    }
   ],
   "source": [
    "E"
   ]
  },
  {
   "cell_type": "code",
   "execution_count": 155,
   "metadata": {},
   "outputs": [
    {
     "data": {
      "text/latex": [
       "$\\displaystyle \\left[\\begin{matrix}0 & 0 & 0 & 1\\\\0 & 1 & 0 & 0\\\\1 & 0 & 0 & 0\\\\0 & 0 & 1 & 0\\end{matrix}\\right]$"
      ],
      "text/plain": [
       "⎡0  0  0  1⎤\n",
       "⎢          ⎥\n",
       "⎢0  1  0  0⎥\n",
       "⎢          ⎥\n",
       "⎢1  0  0  0⎥\n",
       "⎢          ⎥\n",
       "⎣0  0  1  0⎦"
      ]
     },
     "execution_count": 155,
     "metadata": {},
     "output_type": "execute_result"
    }
   ],
   "source": [
    "P**-1"
   ]
  },
  {
   "cell_type": "code",
   "execution_count": 167,
   "metadata": {},
   "outputs": [
    {
     "data": {
      "text/latex": [
       "$\\displaystyle \\left[\\begin{matrix}3 & 3 & - b & 3 & - b\\\\a & 2 & a & a & a - b\\\\a + 1 & 3 & a + 1 & a + 1 & a - b + 1\\\\a & 2 & a & a + b & a - b\\end{matrix}\\right]$"
      ],
      "text/plain": [
       "⎡  3    3   -b      3       -b    ⎤\n",
       "⎢                                 ⎥\n",
       "⎢  a    2    a      a      a - b  ⎥\n",
       "⎢                                 ⎥\n",
       "⎢a + 1  3  a + 1  a + 1  a - b + 1⎥\n",
       "⎢                                 ⎥\n",
       "⎣  a    2    a    a + b    a - b  ⎦"
      ]
     },
     "execution_count": 167,
     "metadata": {},
     "output_type": "execute_result"
    }
   ],
   "source": [
    "sym.simplify(P * E * A)"
   ]
  }
 ],
 "metadata": {
  "kernelspec": {
   "display_name": ".venv",
   "language": "python",
   "name": "python3"
  },
  "language_info": {
   "codemirror_mode": {
    "name": "ipython",
    "version": 3
   },
   "file_extension": ".py",
   "mimetype": "text/x-python",
   "name": "python",
   "nbconvert_exporter": "python",
   "pygments_lexer": "ipython3",
   "version": "3.12.4"
  }
 },
 "nbformat": 4,
 "nbformat_minor": 2
}

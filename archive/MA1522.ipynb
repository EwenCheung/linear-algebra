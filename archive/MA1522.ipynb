{
 "cells": [
  {
   "cell_type": "code",
   "execution_count": 1,
   "metadata": {},
   "outputs": [],
   "source": [
    "from ref_symbolic import *\n",
    "import sympy as sym"
   ]
  },
  {
   "cell_type": "code",
   "execution_count": 2,
   "metadata": {},
   "outputs": [
    {
     "name": "stdout",
     "output_type": "stream",
     "text": [
      "\n",
      "    # Note : zero-indexing, see https://docs.sympy.org/latest/modules/matrices/matrices.html\n",
      "    import sympy as sym\n",
      "\n",
      "    # Variables\n",
      "    >>> a, b = sym.symbols(\"a b\") # symbols\n",
      "    >>> I_3 = eye(3) # identity matrix\n",
      "    >>> zeros = sym.zeros(2, cols=2) # zero matrix\n",
      "    >>> A = sym.Matrix(\n",
      "        [\n",
      "            [...]\n",
      "        ]\n",
      "    ) # user-defined matrix\n",
      "    >>> B = sym.Matrix.vstack(A, I_3, ...) # repeated application of col_join\n",
      "    >>> C = sym.nsimplify(A, tolerance=0.001, rational=True) # convert to fraction\n",
      "\n",
      "    # Matrix Operations\n",
      "    >>> A @ B # matrix multiplication\n",
      "    >>> A + B # element wise addition\n",
      "    >>> A - B # element wise subtraction\n",
      "    >>> A.col_del(col) # delete column\n",
      "    >>> A.col_insert(pos, B) # insert matrix B at pos in A, column wise\n",
      "    >>> A.col_join(B) # insert matrix B below matrix A\n",
      "    >>> A.dot(B) # dot product of A and B\n",
      "    >>> A.exp() # exponential\n",
      "    >>> A.flat() # flatten to row vector\n",
      "    >>> A.pow(exp) # power\n",
      "    >>> A.reshape(rows, cols) # reshape\n",
      "    >>> A.rot90(k=1) # rotate 90deg, k times\n",
      "    >>> A.row_del(row) # delete row\n",
      "    >>> A.row_insert(pos, B) # insert matrix B at pos in A, row wise\n",
      "    >>> A.row_join(B) # insert matrix B on RHS of matrix A\n",
      "    >>> A.vec() # stack to column vector\n",
      "    >>> A.xreplace(dict) # replace sym (key) with value\n",
      "\n",
      "    # Symbolic Methods \n",
      "    >>> A.T # transpose\n",
      "    >>> A.inv() # inverse\n",
      "    >>> A.adjoint() # adjoint\n",
      "    >>> A.adjugate() # adjugate\n",
      "    >>> A.cofactor(i, j) # (i, j) cofactor\n",
      "    >>> A.cofactor_matrix() # cofactor matrix\n",
      "    >>> A.columnspace(simplify=False) # list of vectors that span column space of A\n",
      "    >>> A.conjugate() # conjugate\n",
      "    >>> A.copy() # copy matrix\n",
      "    >>> A.det(method='bareiss', iszerofunc=None) # determinant, use domain-ge/laplace as method\n",
      "    >>> A.diag() # diagonal\n",
      "    >>> A.echelon_form() # REF\n",
      "    >>> A.eigenvals(rational=True) # eigenvalues\n",
      "    >>> A.eigenvects() # eigenvectors\n",
      "    >>> A.elementary_row_op(op='n->kn', row=None, k=None, row1=None, row2=None) # ERO, \"n->kn\"/\"n<->m\"/\"n->n+km\"\n",
      "    >>> A.is_nilpotent() # check if nilpotent\n",
      "    >>> A.is_symmetric() # check if symmetric\n",
      "    >>> A.minor(i, j) # (i, j) minor (WRONG DEFINITION, uses determinant)\n",
      "    >>> A.nullspace() # nullspace\n",
      "    >>> A.rank(iszerofunc=<function _iszero>, simplify=False) # rank\n",
      "    >>> A.rowspace(simplify=False) # list of vectors that span row space of A\n",
      "    >>> A.rref() # RREF\n",
      "    >>> A.simplify() # simplify\n",
      "    >>> A.LUdecomposition(iszerofunc=<function _iszero>, simpfunc=None, rankcheck=False) # LU decomposition, returns (L, U, perm)\n",
      "\n",
      "    # Custom Commands (verbosity >= 1 returns ERO (idx + 1), >= 2 returns matrix at each step)\n",
      "    scale_row(A: sym.Matrix, idx: int, scalar: float, verbosity: int = 0)\n",
      "    swap_row(A: sym.Matrix, idx_1: int, idx_2: int, verbosity: int = 0)\n",
      "    reduce_row(A: sym.Matrix, idx_1: int, scalar: float, idx_2: int, verbosity: int = 0)\n",
      "    is_zero(expr, symbolic: bool = True)\n",
      "    get_pivot_row(A: sym.Matrix, col_idx: int, row_start_idx: int, follow_GE: bool = False)\n",
      "    def ref(A: sym.Matrix, verbosity: int = 2, max_tries: int = 2, follow_GE: bool = False, matrices: int = 2) # matrices = 1 (U), 2 (LU), 3 (PLU)\n",
      "    \n"
     ]
    }
   ],
   "source": [
    "sympy_commands()"
   ]
  },
  {
   "cell_type": "code",
   "execution_count": 4,
   "metadata": {
    "id": "Rtg-J7powRJ9"
   },
   "outputs": [
    {
     "data": {
      "text/latex": [
       "$\\displaystyle \\left[\\begin{matrix}a & 2 & a & a + b & a - b\\\\a & 2 & a & a & a - b\\\\3 & 3 & - b & 3 & - b\\\\a + 1 & 3 & a + 1 & a + 1 & a - b + 1\\end{matrix}\\right]$"
      ],
      "text/plain": [
       "⎡  a    2    a    a + b    a - b  ⎤\n",
       "⎢                                 ⎥\n",
       "⎢  a    2    a      a      a - b  ⎥\n",
       "⎢                                 ⎥\n",
       "⎢  3    3   -b      3       -b    ⎥\n",
       "⎢                                 ⎥\n",
       "⎣a + 1  3  a + 1  a + 1  a - b + 1⎦"
      ]
     },
     "execution_count": 4,
     "metadata": {},
     "output_type": "execute_result"
    }
   ],
   "source": [
    "a, b = sym.symbols('a b')\n",
    "\n",
    "A = sym.Matrix([[a,2,a,a+b,a-b],\n",
    "               [a,2,a,a,a-b],\n",
    "               [3,3,-b,3,-b],\n",
    "               [a+1,3,a+1,a+1,a-b+1]])\n",
    "A = sym.nsimplify(A, tolerance=0.001, rational=True)\n",
    "\n",
    "A"
   ]
  },
  {
   "cell_type": "code",
   "execution_count": 5,
   "metadata": {},
   "outputs": [
    {
     "name": "stdout",
     "output_type": "stream",
     "text": [
      "R_1 <-> R_3\n"
     ]
    },
    {
     "data": {
      "text/latex": [
       "$\\displaystyle \\left[\\begin{matrix}3 & 3 & - b & 3 & - b\\\\a & 2 & a & a & a - b\\\\a & 2 & a & a + b & a - b\\\\a + 1 & 3 & a + 1 & a + 1 & a - b + 1\\end{matrix}\\right]$"
      ],
      "text/plain": [
       "⎡  3    3   -b      3       -b    ⎤\n",
       "⎢                                 ⎥\n",
       "⎢  a    2    a      a      a - b  ⎥\n",
       "⎢                                 ⎥\n",
       "⎢  a    2    a    a + b    a - b  ⎥\n",
       "⎢                                 ⎥\n",
       "⎣a + 1  3  a + 1  a + 1  a - b + 1⎦"
      ]
     },
     "metadata": {},
     "output_type": "display_data"
    },
    {
     "name": "stdout",
     "output_type": "stream",
     "text": [
      "\n",
      "\n",
      "R_2 <- R_2 - (a/3)R_1\n"
     ]
    },
    {
     "data": {
      "text/latex": [
       "$\\displaystyle \\left[\\begin{matrix}3 & 3 & - b & 3 & - b\\\\0 & 2 - a & \\frac{a \\left(b + 3\\right)}{3} & 0 & \\frac{a b}{3} + a - b\\\\a & 2 & a & a + b & a - b\\\\a + 1 & 3 & a + 1 & a + 1 & a - b + 1\\end{matrix}\\right]$"
      ],
      "text/plain": [
       "⎡  3      3       -b        3        -b     ⎤\n",
       "⎢                                           ⎥\n",
       "⎢              a⋅(b + 3)         a⋅b        ⎥\n",
       "⎢  0    2 - a  ─────────    0    ─── + a - b⎥\n",
       "⎢                  3              3         ⎥\n",
       "⎢                                           ⎥\n",
       "⎢  a      2        a      a + b     a - b   ⎥\n",
       "⎢                                           ⎥\n",
       "⎣a + 1    3      a + 1    a + 1   a - b + 1 ⎦"
      ]
     },
     "metadata": {},
     "output_type": "display_data"
    },
    {
     "name": "stdout",
     "output_type": "stream",
     "text": [
      "\n",
      "\n",
      "R_3 <- R_3 - (a/3)R_1\n"
     ]
    },
    {
     "data": {
      "text/latex": [
       "$\\displaystyle \\left[\\begin{matrix}3 & 3 & - b & 3 & - b\\\\0 & 2 - a & \\frac{a \\left(b + 3\\right)}{3} & 0 & \\frac{a b}{3} + a - b\\\\0 & 2 - a & \\frac{a \\left(b + 3\\right)}{3} & b & \\frac{a b}{3} + a - b\\\\a + 1 & 3 & a + 1 & a + 1 & a - b + 1\\end{matrix}\\right]$"
      ],
      "text/plain": [
       "⎡  3      3       -b        3        -b     ⎤\n",
       "⎢                                           ⎥\n",
       "⎢              a⋅(b + 3)         a⋅b        ⎥\n",
       "⎢  0    2 - a  ─────────    0    ─── + a - b⎥\n",
       "⎢                  3              3         ⎥\n",
       "⎢                                           ⎥\n",
       "⎢              a⋅(b + 3)         a⋅b        ⎥\n",
       "⎢  0    2 - a  ─────────    b    ─── + a - b⎥\n",
       "⎢                  3              3         ⎥\n",
       "⎢                                           ⎥\n",
       "⎣a + 1    3      a + 1    a + 1   a - b + 1 ⎦"
      ]
     },
     "metadata": {},
     "output_type": "display_data"
    },
    {
     "name": "stdout",
     "output_type": "stream",
     "text": [
      "\n",
      "\n",
      "R_4 <- R_4 - (a/3 + 1/3)R_1\n"
     ]
    },
    {
     "data": {
      "text/latex": [
       "$\\displaystyle \\left[\\begin{matrix}3 & 3 & - b & 3 & - b\\\\0 & 2 - a & \\frac{a \\left(b + 3\\right)}{3} & 0 & \\frac{a b}{3} + a - b\\\\0 & 2 - a & \\frac{a \\left(b + 3\\right)}{3} & b & \\frac{a b}{3} + a - b\\\\0 & 2 - a & a + \\frac{b \\left(a + 1\\right)}{3} + 1 & 0 & a + \\frac{b \\left(a + 1\\right)}{3} - b + 1\\end{matrix}\\right]$"
      ],
      "text/plain": [
       "⎡3    3           -b          3           -b          ⎤\n",
       "⎢                                                     ⎥\n",
       "⎢              a⋅(b + 3)              a⋅b             ⎥\n",
       "⎢0  2 - a      ─────────      0       ─── + a - b     ⎥\n",
       "⎢                  3                   3              ⎥\n",
       "⎢                                                     ⎥\n",
       "⎢              a⋅(b + 3)              a⋅b             ⎥\n",
       "⎢0  2 - a      ─────────      b       ─── + a - b     ⎥\n",
       "⎢                  3                   3              ⎥\n",
       "⎢                                                     ⎥\n",
       "⎢              b⋅(a + 1)             b⋅(a + 1)        ⎥\n",
       "⎢0  2 - a  a + ───────── + 1  0  a + ───────── - b + 1⎥\n",
       "⎣                  3                     3            ⎦"
      ]
     },
     "metadata": {},
     "output_type": "display_data"
    },
    {
     "name": "stdout",
     "output_type": "stream",
     "text": [
      "\n",
      "\n",
      "R_3 <- R_3 - (1)R_2\n"
     ]
    },
    {
     "data": {
      "text/latex": [
       "$\\displaystyle \\left[\\begin{matrix}3 & 3 & - b & 3 & - b\\\\0 & 2 - a & \\frac{a \\left(b + 3\\right)}{3} & 0 & \\frac{a b}{3} + a - b\\\\0 & 0 & 0 & b & 0\\\\0 & 2 - a & a + \\frac{b \\left(a + 1\\right)}{3} + 1 & 0 & a + \\frac{b \\left(a + 1\\right)}{3} - b + 1\\end{matrix}\\right]$"
      ],
      "text/plain": [
       "⎡3    3           -b          3           -b          ⎤\n",
       "⎢                                                     ⎥\n",
       "⎢              a⋅(b + 3)              a⋅b             ⎥\n",
       "⎢0  2 - a      ─────────      0       ─── + a - b     ⎥\n",
       "⎢                  3                   3              ⎥\n",
       "⎢                                                     ⎥\n",
       "⎢0    0            0          b            0          ⎥\n",
       "⎢                                                     ⎥\n",
       "⎢              b⋅(a + 1)             b⋅(a + 1)        ⎥\n",
       "⎢0  2 - a  a + ───────── + 1  0  a + ───────── - b + 1⎥\n",
       "⎣                  3                     3            ⎦"
      ]
     },
     "metadata": {},
     "output_type": "display_data"
    },
    {
     "name": "stdout",
     "output_type": "stream",
     "text": [
      "\n",
      "\n",
      "R_4 <- R_4 - (1)R_2\n"
     ]
    },
    {
     "data": {
      "text/latex": [
       "$\\displaystyle \\left[\\begin{matrix}3 & 3 & - b & 3 & - b\\\\0 & 2 - a & \\frac{a \\left(b + 3\\right)}{3} & 0 & \\frac{a b}{3} + a - b\\\\0 & 0 & 0 & b & 0\\\\0 & 0 & \\frac{b}{3} + 1 & 0 & \\frac{b}{3} + 1\\end{matrix}\\right]$"
      ],
      "text/plain": [
       "⎡3    3       -b      3      -b     ⎤\n",
       "⎢                                   ⎥\n",
       "⎢          a⋅(b + 3)     a⋅b        ⎥\n",
       "⎢0  2 - a  ─────────  0  ─── + a - b⎥\n",
       "⎢              3          3         ⎥\n",
       "⎢                                   ⎥\n",
       "⎢0    0        0      b       0     ⎥\n",
       "⎢                                   ⎥\n",
       "⎢            b              b       ⎥\n",
       "⎢0    0      ─ + 1    0     ─ + 1   ⎥\n",
       "⎣            3              3       ⎦"
      ]
     },
     "metadata": {},
     "output_type": "display_data"
    },
    {
     "name": "stdout",
     "output_type": "stream",
     "text": [
      "\n",
      "\n",
      "R_3 <-> R_4\n"
     ]
    },
    {
     "data": {
      "text/latex": [
       "$\\displaystyle \\left[\\begin{matrix}3 & 3 & - b & 3 & - b\\\\0 & 2 - a & \\frac{a \\left(b + 3\\right)}{3} & 0 & \\frac{a b}{3} + a - b\\\\0 & 0 & \\frac{b}{3} + 1 & 0 & \\frac{b}{3} + 1\\\\0 & 0 & 0 & b & 0\\end{matrix}\\right]$"
      ],
      "text/plain": [
       "⎡3    3       -b      3      -b     ⎤\n",
       "⎢                                   ⎥\n",
       "⎢          a⋅(b + 3)     a⋅b        ⎥\n",
       "⎢0  2 - a  ─────────  0  ─── + a - b⎥\n",
       "⎢              3          3         ⎥\n",
       "⎢                                   ⎥\n",
       "⎢            b              b       ⎥\n",
       "⎢0    0      ─ + 1    0     ─ + 1   ⎥\n",
       "⎢            3              3       ⎥\n",
       "⎢                                   ⎥\n",
       "⎣0    0        0      b       0     ⎦"
      ]
     },
     "metadata": {},
     "output_type": "display_data"
    },
    {
     "name": "stdout",
     "output_type": "stream",
     "text": [
      "\n",
      "\n"
     ]
    },
    {
     "data": {
      "text/latex": [
       "$\\displaystyle \\left[\\begin{matrix}0 & 0 & 0 & 1\\\\0 & 1 & 0 & 0\\\\1 & 0 & 0 & 0\\\\0 & 0 & 1 & 0\\end{matrix}\\right]$"
      ],
      "text/plain": [
       "⎡0  0  0  1⎤\n",
       "⎢          ⎥\n",
       "⎢0  1  0  0⎥\n",
       "⎢          ⎥\n",
       "⎢1  0  0  0⎥\n",
       "⎢          ⎥\n",
       "⎣0  0  1  0⎦"
      ]
     },
     "metadata": {},
     "output_type": "display_data"
    },
    {
     "data": {
      "text/latex": [
       "$\\displaystyle \\left[\\begin{matrix}1 & 0 & 0 & 0\\\\\\frac{a}{3} & 1 & 0 & 0\\\\\\frac{a}{3} + \\frac{1}{3} & 1 & 1 & 0\\\\\\frac{a}{3} & 1 & 0 & 1\\end{matrix}\\right]$"
      ],
      "text/plain": [
       "⎡  1    0  0  0⎤\n",
       "⎢              ⎥\n",
       "⎢  a           ⎥\n",
       "⎢  ─    1  0  0⎥\n",
       "⎢  3           ⎥\n",
       "⎢              ⎥\n",
       "⎢a   1         ⎥\n",
       "⎢─ + ─  1  1  0⎥\n",
       "⎢3   3         ⎥\n",
       "⎢              ⎥\n",
       "⎢  a           ⎥\n",
       "⎢  ─    1  0  1⎥\n",
       "⎣  3           ⎦"
      ]
     },
     "metadata": {},
     "output_type": "display_data"
    },
    {
     "data": {
      "text/latex": [
       "$\\displaystyle \\left[\\begin{matrix}3 & 3 & - b & 3 & - b\\\\0 & 2 - a & \\frac{a \\left(b + 3\\right)}{3} & 0 & \\frac{a b}{3} + a - b\\\\0 & 0 & \\frac{b}{3} + 1 & 0 & \\frac{b}{3} + 1\\\\0 & 0 & 0 & b & 0\\end{matrix}\\right]$"
      ],
      "text/plain": [
       "⎡3    3       -b      3      -b     ⎤\n",
       "⎢                                   ⎥\n",
       "⎢          a⋅(b + 3)     a⋅b        ⎥\n",
       "⎢0  2 - a  ─────────  0  ─── + a - b⎥\n",
       "⎢              3          3         ⎥\n",
       "⎢                                   ⎥\n",
       "⎢            b              b       ⎥\n",
       "⎢0    0      ─ + 1    0     ─ + 1   ⎥\n",
       "⎢            3              3       ⎥\n",
       "⎢                                   ⎥\n",
       "⎣0    0        0      b       0     ⎦"
      ]
     },
     "metadata": {},
     "output_type": "display_data"
    }
   ],
   "source": [
    "P, L, U = ref(A, verbosity = 2, matrices = 3, follow_GE = False)\n",
    "display(P, L, U)"
   ]
  },
  {
   "cell_type": "code",
   "execution_count": 7,
   "metadata": {},
   "outputs": [
    {
     "data": {
      "text/latex": [
       "$\\displaystyle \\left[\\begin{matrix}3 & 3 & - b & 3 & - b\\\\0 & 6 - 3 a & a b + 3 a & 0 & a b + 3 a - 3 b\\\\0 & 0 & - 3 a b - 9 a + 6 b + 18 & 0 & - 3 a b - 9 a + 6 b + 18\\\\0 & 0 & 0 & - 9 a b + 18 b & 0\\end{matrix}\\right]$"
      ],
      "text/plain": [
       "⎡3     3               -b                   3                  -b           ⎤\n",
       "⎢                                                                           ⎥\n",
       "⎢0  6 - 3⋅a         a⋅b + 3⋅a               0            a⋅b + 3⋅a - 3⋅b    ⎥\n",
       "⎢                                                                           ⎥\n",
       "⎢0     0     -3⋅a⋅b - 9⋅a + 6⋅b + 18        0        -3⋅a⋅b - 9⋅a + 6⋅b + 18⎥\n",
       "⎢                                                                           ⎥\n",
       "⎣0     0                0             -9⋅a⋅b + 18⋅b             0           ⎦"
      ]
     },
     "execution_count": 7,
     "metadata": {},
     "output_type": "execute_result"
    }
   ],
   "source": [
    "A.echelon_form()"
   ]
  },
  {
   "cell_type": "code",
   "execution_count": 6,
   "metadata": {},
   "outputs": [
    {
     "data": {
      "text/latex": [
       "$\\displaystyle \\left[\\begin{matrix}3 & 3 & - b & 3 & - b\\\\0 & 6 - 3 a & a \\left(b + 3\\right) & 0 & a b + 3 a - 3 b\\\\0 & 0 & - 3 a b - 9 a + 6 b + 18 & 0 & - 3 a b - 9 a + 6 b + 18\\\\0 & 0 & 0 & 9 b \\left(2 - a\\right) & 0\\end{matrix}\\right]$"
      ],
      "text/plain": [
       "⎡3     3               -b                  3                 -b           ⎤\n",
       "⎢                                                                         ⎥\n",
       "⎢0  6 - 3⋅a         a⋅(b + 3)              0           a⋅b + 3⋅a - 3⋅b    ⎥\n",
       "⎢                                                                         ⎥\n",
       "⎢0     0     -3⋅a⋅b - 9⋅a + 6⋅b + 18       0       -3⋅a⋅b - 9⋅a + 6⋅b + 18⎥\n",
       "⎢                                                                         ⎥\n",
       "⎣0     0                0             9⋅b⋅(2 - a)             0           ⎦"
      ]
     },
     "execution_count": 6,
     "metadata": {},
     "output_type": "execute_result"
    }
   ],
   "source": [
    "A.echelon_form().simplify() # NOT reduced sufficiently!"
   ]
  },
  {
   "cell_type": "code",
   "execution_count": 6,
   "metadata": {},
   "outputs": [
    {
     "data": {
      "image/png": "[encoded data removed]",
      "text/latex": [
       "$\\displaystyle \\left[ \\left\\{ \\right\\}, \\  \\left\\{ a : 2\\right\\}, \\  \\left\\{ b : -3\\right\\}, \\  \\left\\{ b : 0\\right\\}, \\  \\left\\{ a : 2, \\  b : -3\\right\\}, \\  \\left\\{ a : 2, \\  b : 0\\right\\}\\right]$"
      ],
      "text/plain": [
       "[{}, {a: 2}, {b: -3}, {b: 0}, {a: 2, b: -3}, {a: 2, b: 0}]"
      ]
     },
     "execution_count": 6,
     "metadata": {},
     "output_type": "execute_result"
    }
   ],
   "source": [
    "find_all_cases(A.echelon_form().simplify())"
   ]
  },
  {
   "cell_type": "code",
   "execution_count": 7,
   "metadata": {},
   "outputs": [
    {
     "data": {
      "image/png": "[encoded data removed]",
      "text/latex": [
       "$\\displaystyle \\left[ \\left\\{ \\right\\}, \\  \\left\\{ a : 2\\right\\}, \\  \\left\\{ b : -3\\right\\}, \\  \\left\\{ b : 0\\right\\}, \\  \\left\\{ a : 2, \\  b : -3\\right\\}, \\  \\left\\{ a : 2, \\  b : 0\\right\\}\\right]$"
      ],
      "text/plain": [
       "[{}, {a: 2}, {b: -3}, {b: 0}, {a: 2, b: -3}, {a: 2, b: 0}]"
      ]
     },
     "execution_count": 7,
     "metadata": {},
     "output_type": "execute_result"
    }
   ],
   "source": [
    "find_all_cases(U)"
   ]
  },
  {
   "cell_type": "code",
   "execution_count": 8,
   "metadata": {},
   "outputs": [
    {
     "name": "stdout",
     "output_type": "stream",
     "text": [
      "Case 1: {}, not including [{b: 0}, {a: 2}, {b: -3}]\n"
     ]
    },
    {
     "data": {
      "text/latex": [
       "$\\displaystyle \\left[\\begin{matrix}3 & 3 & - b & 3 & - b\\\\0 & 6 - 3 a & a \\left(b + 3\\right) & 0 & a b + 3 a - 3 b\\\\0 & 0 & - 3 a b - 9 a + 6 b + 18 & 0 & - 3 a b - 9 a + 6 b + 18\\\\0 & 0 & 0 & 9 b \\left(2 - a\\right) & 0\\end{matrix}\\right]$"
      ],
      "text/plain": [
       "⎡3     3               -b                  3                 -b           ⎤\n",
       "⎢                                                                         ⎥\n",
       "⎢0  6 - 3⋅a         a⋅(b + 3)              0           a⋅b + 3⋅a - 3⋅b    ⎥\n",
       "⎢                                                                         ⎥\n",
       "⎢0     0     -3⋅a⋅b - 9⋅a + 6⋅b + 18       0       -3⋅a⋅b - 9⋅a + 6⋅b + 18⎥\n",
       "⎢                                                                         ⎥\n",
       "⎣0     0                0             9⋅b⋅(2 - a)             0           ⎦"
      ]
     },
     "metadata": {},
     "output_type": "display_data"
    },
    {
     "name": "stdout",
     "output_type": "stream",
     "text": [
      "Case 2: {a: 2}, not including [{b: 0}, {b: -3}]\n"
     ]
    },
    {
     "data": {
      "text/latex": [
       "$\\displaystyle \\left[\\begin{matrix}3 & 3 & - b & 3 & - b\\\\0 & 0 & 2 b + 6 & 0 & 6 - b\\\\0 & 0 & 0 & 0 & 0\\\\0 & 0 & 0 & 0 & 0\\end{matrix}\\right]$"
      ],
      "text/plain": [
       "⎡3  3    -b     3   -b  ⎤\n",
       "⎢                       ⎥\n",
       "⎢0  0  2⋅b + 6  0  6 - b⎥\n",
       "⎢                       ⎥\n",
       "⎢0  0     0     0    0  ⎥\n",
       "⎢                       ⎥\n",
       "⎣0  0     0     0    0  ⎦"
      ]
     },
     "metadata": {},
     "output_type": "display_data"
    },
    {
     "name": "stdout",
     "output_type": "stream",
     "text": [
      "Case 3: {b: -3}, not including [{b: 0}, {a: 2}]\n"
     ]
    },
    {
     "data": {
      "text/latex": [
       "$\\displaystyle \\left[\\begin{matrix}3 & 3 & 3 & 3 & 3\\\\0 & 6 - 3 a & 0 & 0 & 9\\\\0 & 0 & 0 & 27 a - 54 & 0\\\\0 & 0 & 0 & 0 & 0\\end{matrix}\\right]$"
      ],
      "text/plain": [
       "⎡3     3     3      3      3⎤\n",
       "⎢                           ⎥\n",
       "⎢0  6 - 3⋅a  0      0      9⎥\n",
       "⎢                           ⎥\n",
       "⎢0     0     0  27⋅a - 54  0⎥\n",
       "⎢                           ⎥\n",
       "⎣0     0     0      0      0⎦"
      ]
     },
     "metadata": {},
     "output_type": "display_data"
    },
    {
     "name": "stdout",
     "output_type": "stream",
     "text": [
      "Case 4: {b: 0}, not including [{a: 2}, {b: -3}]\n"
     ]
    },
    {
     "data": {
      "text/latex": [
       "$\\displaystyle \\left[\\begin{matrix}3 & 3 & 0 & 3 & 0\\\\0 & 6 - 3 a & 3 a & 0 & 3 a\\\\0 & 0 & 18 - 9 a & 0 & 18 - 9 a\\\\0 & 0 & 0 & 0 & 0\\end{matrix}\\right]$"
      ],
      "text/plain": [
       "⎡3     3        0      3     0    ⎤\n",
       "⎢                                 ⎥\n",
       "⎢0  6 - 3⋅a    3⋅a     0    3⋅a   ⎥\n",
       "⎢                                 ⎥\n",
       "⎢0     0     18 - 9⋅a  0  18 - 9⋅a⎥\n",
       "⎢                                 ⎥\n",
       "⎣0     0        0      0     0    ⎦"
      ]
     },
     "metadata": {},
     "output_type": "display_data"
    },
    {
     "name": "stdout",
     "output_type": "stream",
     "text": [
      "Case 5: {a: 2, b: -3}, not including [{b: 0}]\n"
     ]
    },
    {
     "data": {
      "text/latex": [
       "$\\displaystyle \\left[\\begin{matrix}3 & 3 & 3 & 3 & 3\\\\0 & 0 & 0 & 0 & 9\\\\0 & 0 & 0 & 0 & 0\\\\0 & 0 & 0 & 0 & 0\\end{matrix}\\right]$"
      ],
      "text/plain": [
       "⎡3  3  3  3  3⎤\n",
       "⎢             ⎥\n",
       "⎢0  0  0  0  9⎥\n",
       "⎢             ⎥\n",
       "⎢0  0  0  0  0⎥\n",
       "⎢             ⎥\n",
       "⎣0  0  0  0  0⎦"
      ]
     },
     "metadata": {},
     "output_type": "display_data"
    },
    {
     "name": "stdout",
     "output_type": "stream",
     "text": [
      "Case 6: {a: 2, b: 0}, not including [{b: -3}]\n"
     ]
    },
    {
     "data": {
      "text/latex": [
       "$\\displaystyle \\left[\\begin{matrix}3 & 3 & 0 & 3 & 0\\\\0 & 0 & 6 & 0 & 6\\\\0 & 0 & 0 & 0 & 0\\\\0 & 0 & 0 & 0 & 0\\end{matrix}\\right]$"
      ],
      "text/plain": [
       "⎡3  3  0  3  0⎤\n",
       "⎢             ⎥\n",
       "⎢0  0  6  0  6⎥\n",
       "⎢             ⎥\n",
       "⎢0  0  0  0  0⎥\n",
       "⎢             ⎥\n",
       "⎣0  0  0  0  0⎦"
      ]
     },
     "metadata": {},
     "output_type": "display_data"
    }
   ],
   "source": [
    "evaluate_cases(A.echelon_form().simplify()) # case 2 and case 5 are wrong!"
   ]
  },
  {
   "cell_type": "code",
   "execution_count": 9,
   "metadata": {},
   "outputs": [
    {
     "name": "stdout",
     "output_type": "stream",
     "text": [
      "Case 1: {}, not including [{b: 0}, {a: 2}, {b: -3}]\n"
     ]
    },
    {
     "data": {
      "text/latex": [
       "$\\displaystyle \\left[\\begin{matrix}3 & 3 & - b & 3 & - b\\\\0 & 2 - a & \\frac{a \\left(b + 3\\right)}{3} & 0 & \\frac{a b}{3} + a - b\\\\0 & 0 & \\frac{b}{3} + 1 & 0 & \\frac{b}{3} + 1\\\\0 & 0 & 0 & b & 0\\end{matrix}\\right]$"
      ],
      "text/plain": [
       "⎡3    3       -b      3      -b     ⎤\n",
       "⎢                                   ⎥\n",
       "⎢          a⋅(b + 3)     a⋅b        ⎥\n",
       "⎢0  2 - a  ─────────  0  ─── + a - b⎥\n",
       "⎢              3          3         ⎥\n",
       "⎢                                   ⎥\n",
       "⎢            b              b       ⎥\n",
       "⎢0    0      ─ + 1    0     ─ + 1   ⎥\n",
       "⎢            3              3       ⎥\n",
       "⎢                                   ⎥\n",
       "⎣0    0        0      b       0     ⎦"
      ]
     },
     "metadata": {},
     "output_type": "display_data"
    },
    {
     "name": "stdout",
     "output_type": "stream",
     "text": [
      "Case 2: {a: 2}, not including [{b: 0}, {b: -3}]\n"
     ]
    },
    {
     "data": {
      "text/latex": [
       "$\\displaystyle \\left[\\begin{matrix}3 & 3 & - b & 3 & - b\\\\0 & 0 & \\frac{2 b}{3} + 2 & 0 & 2 - \\frac{b}{3}\\\\0 & 0 & 0 & b & 0\\\\0 & 0 & 0 & 0 & \\frac{b}{2}\\end{matrix}\\right]$"
      ],
      "text/plain": [
       "⎡3  3    -b     3   -b  ⎤\n",
       "⎢                       ⎥\n",
       "⎢      2⋅b             b⎥\n",
       "⎢0  0  ─── + 2  0  2 - ─⎥\n",
       "⎢       3              3⎥\n",
       "⎢                       ⎥\n",
       "⎢0  0     0     b    0  ⎥\n",
       "⎢                       ⎥\n",
       "⎢                    b  ⎥\n",
       "⎢0  0     0     0    ─  ⎥\n",
       "⎣                    2  ⎦"
      ]
     },
     "metadata": {},
     "output_type": "display_data"
    },
    {
     "name": "stdout",
     "output_type": "stream",
     "text": [
      "Case 3: {b: -3}, not including [{b: 0}, {a: 2}]\n"
     ]
    },
    {
     "data": {
      "text/latex": [
       "$\\displaystyle \\left[\\begin{matrix}3 & 3 & 3 & 3 & 3\\\\0 & 2 - a & 0 & 0 & 3\\\\0 & 0 & 0 & -3 & 0\\\\0 & 0 & 0 & 0 & 0\\end{matrix}\\right]$"
      ],
      "text/plain": [
       "⎡3    3    3  3   3⎤\n",
       "⎢                  ⎥\n",
       "⎢0  2 - a  0  0   3⎥\n",
       "⎢                  ⎥\n",
       "⎢0    0    0  -3  0⎥\n",
       "⎢                  ⎥\n",
       "⎣0    0    0  0   0⎦"
      ]
     },
     "metadata": {},
     "output_type": "display_data"
    },
    {
     "name": "stdout",
     "output_type": "stream",
     "text": [
      "Case 4: {b: 0}, not including [{a: 2}, {b: -3}]\n"
     ]
    },
    {
     "data": {
      "text/latex": [
       "$\\displaystyle \\left[\\begin{matrix}3 & 3 & 0 & 3 & 0\\\\0 & 2 - a & a & 0 & a\\\\0 & 0 & 1 & 0 & 1\\\\0 & 0 & 0 & 0 & 0\\end{matrix}\\right]$"
      ],
      "text/plain": [
       "⎡3    3    0  3  0⎤\n",
       "⎢                 ⎥\n",
       "⎢0  2 - a  a  0  a⎥\n",
       "⎢                 ⎥\n",
       "⎢0    0    1  0  1⎥\n",
       "⎢                 ⎥\n",
       "⎣0    0    0  0  0⎦"
      ]
     },
     "metadata": {},
     "output_type": "display_data"
    },
    {
     "name": "stdout",
     "output_type": "stream",
     "text": [
      "Case 5: {a: 2, b: -3}, not including [{b: 0}]\n"
     ]
    },
    {
     "data": {
      "text/latex": [
       "$\\displaystyle \\left[\\begin{matrix}3 & 3 & 3 & 3 & 3\\\\0 & 0 & 0 & -3 & 0\\\\0 & 0 & 0 & 0 & 0\\\\0 & 0 & 0 & 0 & 3\\end{matrix}\\right]$"
      ],
      "text/plain": [
       "⎡3  3  3  3   3⎤\n",
       "⎢              ⎥\n",
       "⎢0  0  0  -3  0⎥\n",
       "⎢              ⎥\n",
       "⎢0  0  0  0   0⎥\n",
       "⎢              ⎥\n",
       "⎣0  0  0  0   3⎦"
      ]
     },
     "metadata": {},
     "output_type": "display_data"
    },
    {
     "name": "stdout",
     "output_type": "stream",
     "text": [
      "Case 6: {a: 2, b: 0}, not including [{b: -3}]\n"
     ]
    },
    {
     "data": {
      "text/latex": [
       "$\\displaystyle \\left[\\begin{matrix}3 & 3 & 0 & 3 & 0\\\\0 & 0 & 2 & 0 & 2\\\\0 & 0 & 0 & 0 & 0\\\\0 & 0 & 0 & 0 & 0\\end{matrix}\\right]$"
      ],
      "text/plain": [
       "⎡3  3  0  3  0⎤\n",
       "⎢             ⎥\n",
       "⎢0  0  2  0  2⎥\n",
       "⎢             ⎥\n",
       "⎢0  0  0  0  0⎥\n",
       "⎢             ⎥\n",
       "⎣0  0  0  0  0⎦"
      ]
     },
     "metadata": {},
     "output_type": "display_data"
    }
   ],
   "source": [
    "evaluate_cases(U)"
   ]
  }
 ],
 "metadata": {
  "colab": {
   "provenance": []
  },
  "kernelspec": {
   "display_name": ".venv",
   "language": "python",
   "name": "python3"
  },
  "language_info": {
   "codemirror_mode": {
    "name": "ipython",
    "version": 3
   },
   "file_extension": ".py",
   "mimetype": "text/x-python",
   "name": "python",
   "nbconvert_exporter": "python",
   "pygments_lexer": "ipython3",
   "version": "3.12.4"
  }
 },
 "nbformat": 4,
 "nbformat_minor": 4
}

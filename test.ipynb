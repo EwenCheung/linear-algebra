{
 "cells": [
  {
   "cell_type": "code",
   "execution_count": 1,
   "metadata": {},
   "outputs": [],
   "source": [
    "from ref_symbolic_mod import *\n",
    "# import ref_symbolic_mod_old as old \n",
    "import sympy as sym\n",
    "# display = IPython.display.display\n",
    "from itertools import chain, combinations\n",
    "from collections import defaultdict\n",
    "\n",
    "%load_ext autoreload\n",
    "%autoreload 2"
   ]
  },
  {
   "cell_type": "code",
   "execution_count": 14,
   "metadata": {},
   "outputs": [
    {
     "data": {
      "text/latex": [
       "$\\displaystyle \\left[ \\left[\\begin{matrix}a & 2 & a & a + b\\\\a & 2 & a & a\\\\3 & 3 & - b & 3\\\\a + 1 & 3 & a + 1 & a + 1\\end{matrix}\\right], \\  \\left[\\begin{matrix}a - b\\\\a - b\\\\- b\\\\a - b + 1\\end{matrix}\\right]\\right]$"
      ],
      "text/plain": [
       "⎡⎡  a    2    a    a + b⎤  ⎡  a - b  ⎤⎤\n",
       "⎢⎢                      ⎥  ⎢         ⎥⎥\n",
       "⎢⎢  a    2    a      a  ⎥  ⎢  a - b  ⎥⎥\n",
       "⎢⎢                      ⎥, ⎢         ⎥⎥\n",
       "⎢⎢  3    3   -b      3  ⎥  ⎢   -b    ⎥⎥\n",
       "⎢⎢                      ⎥  ⎢         ⎥⎥\n",
       "⎣⎣a + 1  3  a + 1  a + 1⎦  ⎣a - b + 1⎦⎦"
      ]
     },
     "metadata": {},
     "output_type": "display_data"
    }
   ],
   "source": [
    "a, b = sym.symbols('a b')\n",
    "\n",
    "A = Matrix([[a,2,a,a+b],\n",
    "            [a,2,a,a],\n",
    "            [3,3,-b,3],\n",
    "            [a+1,3,a+1,a+1]])\n",
    "\n",
    "B = Matrix([a-b, a-b, -b, a-b+1])\n",
    "display([A, B])"
   ]
  },
  {
   "cell_type": "code",
   "execution_count": 20,
   "metadata": {},
   "outputs": [
    {
     "ename": "IndexError",
     "evalue": "Position for augmented line (-5) out of range (4).",
     "output_type": "error",
     "traceback": [
      "\u001b[1;31m---------------------------------------------------------------------------\u001b[0m",
      "\u001b[1;31mIndexError\u001b[0m                                Traceback (most recent call last)",
      "Cell \u001b[1;32mIn[20], line 1\u001b[0m\n\u001b[1;32m----> 1\u001b[0m \u001b[43mA\u001b[49m\u001b[38;5;241;43m.\u001b[39;49m\u001b[43maug_line\u001b[49m\u001b[43m(\u001b[49m\u001b[38;5;241;43m-\u001b[39;49m\u001b[38;5;241;43m5\u001b[39;49m\u001b[43m)\u001b[49m\n\u001b[0;32m      2\u001b[0m A\n",
      "File \u001b[1;32mc:\\Github\\linear-algebra\\ref_symbolic_mod.py:647\u001b[0m, in \u001b[0;36mMatrix.aug_line\u001b[1;34m(self, pos)\u001b[0m\n\u001b[0;32m    644\u001b[0m     new_pos \u001b[38;5;241m+\u001b[39m\u001b[38;5;241m=\u001b[39m \u001b[38;5;28mself\u001b[39m\u001b[38;5;241m.\u001b[39mcols\n\u001b[0;32m    646\u001b[0m \u001b[38;5;28;01mif\u001b[39;00m \u001b[38;5;129;01mnot\u001b[39;00m \u001b[38;5;241m0\u001b[39m \u001b[38;5;241m<\u001b[39m\u001b[38;5;241m=\u001b[39m new_pos \u001b[38;5;241m<\u001b[39m\u001b[38;5;241m=\u001b[39m \u001b[38;5;28mself\u001b[39m\u001b[38;5;241m.\u001b[39mcols:\n\u001b[1;32m--> 647\u001b[0m     \u001b[38;5;28;01mraise\u001b[39;00m \u001b[38;5;167;01mIndexError\u001b[39;00m(\u001b[38;5;124mf\u001b[39m\u001b[38;5;124m'\u001b[39m\u001b[38;5;124mPosition for augmented line (\u001b[39m\u001b[38;5;132;01m{\u001b[39;00mpos\u001b[38;5;132;01m}\u001b[39;00m\u001b[38;5;124m) out of range (\u001b[39m\u001b[38;5;132;01m{\u001b[39;00m\u001b[38;5;28mself\u001b[39m\u001b[38;5;241m.\u001b[39mcols\u001b[38;5;132;01m}\u001b[39;00m\u001b[38;5;124m).\u001b[39m\u001b[38;5;124m'\u001b[39m)\n\u001b[0;32m    649\u001b[0m \u001b[38;5;28mself\u001b[39m\u001b[38;5;241m.\u001b[39maug_pos\u001b[38;5;241m.\u001b[39madd(pos)\n\u001b[0;32m    650\u001b[0m \u001b[38;5;28;01mreturn\u001b[39;00m \u001b[38;5;28mself\u001b[39m\n",
      "\u001b[1;31mIndexError\u001b[0m: Position for augmented line (-5) out of range (4)."
     ]
    }
   ],
   "source": [
    "A.aug_line(-5)\n",
    "A"
   ]
  },
  {
   "cell_type": "code",
   "execution_count": 4,
   "metadata": {},
   "outputs": [
    {
     "data": {
      "text/plain": [
       "True"
      ]
     },
     "execution_count": 4,
     "metadata": {},
     "output_type": "execute_result"
    }
   ],
   "source": [
    "isinstance(A, Matrix) and hasattr(A, 'aug_pos') and len(A.aug_pos) > 0"
   ]
  },
  {
   "cell_type": "code",
   "execution_count": 18,
   "metadata": {},
   "outputs": [
    {
     "data": {
      "text/latex": [
       "$\\displaystyle \\left[\\begin{array}{ccc|c}a & 2 & a & a + b\\\\a & 2 & a & a\\\\3 & 3 & - b & 3\\\\a + 1 & 3 & a + 1 & a + 1\\end{array}\\right]$"
      ],
      "text/plain": [
       "<IPython.core.display.Math object>"
      ]
     },
     "metadata": {},
     "output_type": "display_data"
    }
   ],
   "source": [
    "display(A)"
   ]
  },
  {
   "cell_type": "code",
   "execution_count": 24,
   "metadata": {},
   "outputs": [
    {
     "data": {
      "text/plain": [
       "'Matrix([\\n[    a, 2,     a, a + b],\\n[    a, 2,     a,     a],\\n[    3, 3,    -b,     3],\\n[a + 1, 3, a + 1, a + 1]])'"
      ]
     },
     "execution_count": 24,
     "metadata": {},
     "output_type": "execute_result"
    }
   ],
   "source": [
    "C = sym.Matrix([[a,2,a,a+b],\n",
    "            [a,2,a,a],\n",
    "            [3,3,-b,3],\n",
    "            [a+1,3,a+1,a+1]])\n",
    "C.__repr__()"
   ]
  },
  {
   "cell_type": "code",
   "execution_count": 5,
   "metadata": {},
   "outputs": [
    {
     "ename": "IndexError",
     "evalue": "list index out of range",
     "output_type": "error",
     "traceback": [
      "\u001b[1;31m---------------------------------------------------------------------------\u001b[0m",
      "\u001b[1;31mIndexError\u001b[0m                                Traceback (most recent call last)",
      "Cell \u001b[1;32mIn[5], line 1\u001b[0m\n\u001b[1;32m----> 1\u001b[0m \u001b[43mdisplay\u001b[49m\u001b[43m(\u001b[49m\u001b[43mA\u001b[49m\u001b[43m)\u001b[49m\n",
      "File \u001b[1;32mc:\\Github\\linear-algebra\\ref_symbolic_mod.py:158\u001b[0m, in \u001b[0;36mdisplay\u001b[1;34m(input)\u001b[0m\n\u001b[0;32m    156\u001b[0m \u001b[38;5;28;01mif\u001b[39;00m is_IPython():\n\u001b[0;32m    157\u001b[0m     \u001b[38;5;28;01mif\u001b[39;00m \u001b[38;5;28misinstance\u001b[39m(\u001b[38;5;28minput\u001b[39m, Matrix) \u001b[38;5;129;01mand\u001b[39;00m \u001b[38;5;28mhasattr\u001b[39m(\u001b[38;5;28minput\u001b[39m, \u001b[38;5;124m\"\u001b[39m\u001b[38;5;124maug_pos\u001b[39m\u001b[38;5;124m\"\u001b[39m) \u001b[38;5;129;01mand\u001b[39;00m \u001b[38;5;28mlen\u001b[39m(\u001b[38;5;28minput\u001b[39m\u001b[38;5;241m.\u001b[39maug_pos) \u001b[38;5;241m>\u001b[39m \u001b[38;5;241m0\u001b[39m:\n\u001b[1;32m--> 158\u001b[0m         \u001b[43maug_print\u001b[49m\u001b[43m(\u001b[49m\u001b[38;5;28;43minput\u001b[39;49m\u001b[43m)\u001b[49m\n\u001b[0;32m    159\u001b[0m     \u001b[38;5;28;01melse\u001b[39;00m:\n\u001b[0;32m    160\u001b[0m         IPython\u001b[38;5;241m.\u001b[39mdisplay\u001b[38;5;241m.\u001b[39mdisplay(\u001b[38;5;28minput\u001b[39m)\n",
      "File \u001b[1;32mc:\\Github\\linear-algebra\\ref_symbolic_mod.py:145\u001b[0m, in \u001b[0;36maug_print\u001b[1;34m(matrix)\u001b[0m\n\u001b[0;32m    143\u001b[0m ls \u001b[38;5;241m=\u001b[39m [pos \u001b[38;5;28;01mfor\u001b[39;00m pos \u001b[38;5;129;01min\u001b[39;00m matrix\u001b[38;5;241m.\u001b[39maug_pos \u001b[38;5;28;01mif\u001b[39;00m \u001b[38;5;241m0\u001b[39m \u001b[38;5;241m<\u001b[39m pos \u001b[38;5;241m<\u001b[39m matrix\u001b[38;5;241m.\u001b[39mcols]\n\u001b[0;32m    144\u001b[0m ls\u001b[38;5;241m.\u001b[39msort()\n\u001b[1;32m--> 145\u001b[0m delta \u001b[38;5;241m=\u001b[39m [\u001b[43mls\u001b[49m\u001b[43m[\u001b[49m\u001b[38;5;241;43m0\u001b[39;49m\u001b[43m]\u001b[49m]\n\u001b[0;32m    146\u001b[0m delta\u001b[38;5;241m.\u001b[39mextend([ls[i] \u001b[38;5;241m-\u001b[39m ls[i\u001b[38;5;241m-\u001b[39m\u001b[38;5;241m1\u001b[39m] \u001b[38;5;28;01mfor\u001b[39;00m i \u001b[38;5;129;01min\u001b[39;00m \u001b[38;5;28mrange\u001b[39m(\u001b[38;5;241m1\u001b[39m, \u001b[38;5;28mlen\u001b[39m(ls))])\n\u001b[0;32m    147\u001b[0m remainder \u001b[38;5;241m=\u001b[39m matrix\u001b[38;5;241m.\u001b[39mcols \u001b[38;5;241m-\u001b[39m \u001b[38;5;28msum\u001b[39m(delta)\n",
      "\u001b[1;31mIndexError\u001b[0m: list index out of range"
     ]
    }
   ],
   "source": [
    "display(A)"
   ]
  },
  {
   "cell_type": "code",
   "execution_count": 10,
   "metadata": {},
   "outputs": [
    {
     "name": "stdout",
     "output_type": "stream",
     "text": [
      "1\n",
      "2\n",
      "3\n"
     ]
    }
   ],
   "source": [
    "for i in {1, 2, 3}:\n",
    "    print(i)"
   ]
  },
  {
   "cell_type": "code",
   "execution_count": 17,
   "metadata": {},
   "outputs": [
    {
     "data": {
      "text/latex": [
       "$\\displaystyle \\left\\{4, 5\\right\\}$"
      ],
      "text/plain": [
       "{4, 5}"
      ]
     },
     "execution_count": 17,
     "metadata": {},
     "output_type": "execute_result"
    }
   ],
   "source": [
    "C = A.aug_line().row_join(B)\n",
    "C.augpos"
   ]
  },
  {
   "cell_type": "code",
   "execution_count": 31,
   "metadata": {},
   "outputs": [
    {
     "data": {
      "text/latex": [
       "$\\displaystyle \\left[\\begin{array}{cccc|c}a & 2 & a & a + b & a - b\\\\a & 2 & a & a & a - b\\\\3 & 3 & - b & 3 & - b\\\\a + 1 & 3 & a + 1 & a + 1 & a - b + 1\\end{array}\\right]$"
      ],
      "text/plain": [
       "<IPython.core.display.Math object>"
      ]
     },
     "metadata": {},
     "output_type": "display_data"
    }
   ],
   "source": [
    "display(IPython.display.Math('$$\\\\left[\\\\begin{array}{cccc|c}a & 2 & a & a + b & a - b\\\\\\\\a & 2 & a & a & a - b\\\\\\\\3 & 3 & - b & 3 & - b\\\\\\\\a + 1 & 3 & a + 1 & a + 1 & a - b + 1\\\\end{array}\\\\right]$$'))"
   ]
  },
  {
   "cell_type": "code",
   "execution_count": null,
   "metadata": {},
   "outputs": [],
   "source": [
    "\"\\begin{pmatrix}[cc|c]  1 & 2 & 3 \\\\4 & 5 & 9 \\end{pmatrix}\""
   ]
  },
  {
   "cell_type": "code",
   "execution_count": 9,
   "metadata": {},
   "outputs": [
    {
     "name": "stdout",
     "output_type": "stream",
     "text": [
      "\\left[\\begin{array}{ccccc}a & 2 & a & a + b & a - b\\\\a & 2 & a & a & a - b\\\\3 & 3 & - b & 3 & - b\\\\a + 1 & 3 & a + 1 & a + 1 & a - b + 1\\end{array}\\right]\n"
     ]
    },
    {
     "data": {
      "text/latex": [
       "$\\displaystyle \\left[\\begin{array}{cccc|c}a & 2 & a & a + b & a - b\\\\a & 2 & a & a & a - b\\\\3 & 3 & - b & 3 & - b\\\\a + 1 & 3 & a + 1 & a + 1 & a - b + 1\\end{array}\\right]$"
      ],
      "text/plain": [
       "<IPython.core.display.Math object>"
      ]
     },
     "metadata": {},
     "output_type": "display_data"
    }
   ],
   "source": [
    "def cprint(m, augpos):\n",
    "    # raw = sym.latex(m).replace(\"matrix\", \"array\")\n",
    "    raw = sym.latex(m, mat_str=\"array\")\n",
    "    print(raw)\n",
    "    # create formatting string s to insert augment line visually\n",
    "    ls = [pos for pos in augpos if 0 < pos < m.cols]\n",
    "    ls.sort()\n",
    "    delta = [ls[0]]\n",
    "    delta.extend([ls[i] - ls[i-1] for i in range(1, len(ls))])\n",
    "    remainder = m.cols - sum(delta)\n",
    "    delta.append(remainder)\n",
    "    # s = '{' + '|'.join(['c'*i for i in delta]) + '}'\n",
    "\n",
    "    default_str = 'c'*m.cols\n",
    "    formatted = raw.replace('c'*m.cols,  '|'.join(['c'*i for i in delta]))\n",
    "    display(IPython.display.Math(formatted))\n",
    "    # display(formatted)\n",
    "\n",
    "cprint(C,C.aug_pos)"
   ]
  },
  {
   "cell_type": "code",
   "execution_count": 47,
   "metadata": {},
   "outputs": [
    {
     "data": {
      "text/plain": [
       "'c|ccc|c|c|'"
      ]
     },
     "execution_count": 47,
     "metadata": {},
     "output_type": "execute_result"
    }
   ],
   "source": [
    "augpos = [1, 4, 5, 6, 3]\n",
    "delta = [augpos[0]]\n",
    "delta.extend([augpos[i] - augpos[i-1] for i in range(1, len(augpos))])\n",
    "s = '|'.join(['c'*i for i in delta])\n",
    "s"
   ]
  },
  {
   "cell_type": "code",
   "execution_count": 13,
   "metadata": {},
   "outputs": [
    {
     "data": {
      "text/latex": [
       "$\\displaystyle 0$"
      ],
      "text/plain": [
       "0"
      ]
     },
     "execution_count": 13,
     "metadata": {},
     "output_type": "execute_result"
    }
   ],
   "source": [
    "[0, 1, 2, 3][-4]"
   ]
  },
  {
   "cell_type": "code",
   "execution_count": null,
   "metadata": {},
   "outputs": [],
   "source": [
    "def remap(ls, pos):\n",
    "    if pos < 0:\n",
    "        pos += len(ls)"
   ]
  },
  {
   "cell_type": "code",
   "execution_count": 48,
   "metadata": {},
   "outputs": [
    {
     "data": {
      "text/latex": [
       "$\\displaystyle \\left[ 1, \\  3, \\  4, \\  5, \\  6\\right]$"
      ],
      "text/plain": [
       "[1, 3, 4, 5, 6]"
      ]
     },
     "execution_count": 48,
     "metadata": {},
     "output_type": "execute_result"
    }
   ],
   "source": [
    "augpos.sort()\n",
    "augpos"
   ]
  },
  {
   "cell_type": "code",
   "execution_count": 7,
   "metadata": {},
   "outputs": [],
   "source": [
    "C = A.aug_line().row_join(B).aug_line().aug_line()\n"
   ]
  },
  {
   "cell_type": "code",
   "execution_count": 8,
   "metadata": {},
   "outputs": [],
   "source": [
    "from typing import Callable\n",
    "def ref(self, \n",
    "        verbosity: int = 2,\n",
    "        max_tries: int = 2,\n",
    "        follow_GE: bool = False,\n",
    "        iszerofunc: Callable = is_zero,\n",
    "        matrices: int = 2) -> sym.Matrix:\n",
    "    # follow_GE can be set to True to follow Gaussian Elimination strictly\n",
    "    # LU decomposition\n",
    "    # matrices is the number of matrices return.\n",
    "    # 1. Upper\n",
    "    # 2. Perm @ Lower Upper\n",
    "    # 3. Perm Lower Upper\n",
    "    U = self.copy()\n",
    "\n",
    "    I = self.id()\n",
    "    L = self.id()\n",
    "    P = self.id()\n",
    "\n",
    "    # Loop over each column\n",
    "    cur_row_pos = 0\n",
    "    for cur_col_pos in range(self.cols):\n",
    "        # Find the first non-zero row in the current column\n",
    "        # print(cur_row_pos, cur_col_pos)\n",
    "        pivot_row = U.get_pivot_row(cur_col_pos, cur_row_pos, follow_GE)\n",
    "        # print(f\"{pivot_row=}\")\n",
    "\n",
    "        if pivot_row == -1:\n",
    "            # If no non-zero pivot is found, continue to the next column\n",
    "            continue\n",
    "\n",
    "        # Swap the current row with the pivot row if necessary\n",
    "        if pivot_row != cur_row_pos:\n",
    "            U.swap_row(cur_row_pos, pivot_row, verbosity=verbosity)\n",
    "            P_elem = I.copy().swap_row(cur_row_pos, pivot_row)\n",
    "            P = P @ P_elem\n",
    "            L = P_elem @ L @ P_elem\n",
    "\n",
    "        # Eliminate the current column in rest of the rows below\n",
    "        for row_idx in range(cur_row_pos+1, self.rows):\n",
    "            # reduce the row_idx iteratively via partial fractions to\n",
    "            # prevent division by a possible 0 term\n",
    "            tries = 0\n",
    "            while U[row_idx, cur_col_pos] != 0:\n",
    "                tries += 1\n",
    "                if tries > max_tries:\n",
    "                    print(f\"ERROR: Max tries exceeded to reduce row {row_idx+1} with row {cur_row_pos+1}\")\n",
    "                    break\n",
    "                try:\n",
    "                    scalar = U[row_idx, cur_col_pos] / U[cur_row_pos, cur_col_pos] \n",
    "                    scalar = scalar.expand().simplify()\n",
    "                    # print(f'{scalar=}')\n",
    "                    try:\n",
    "                        decomp = sym.apart(scalar) # partial fractions\n",
    "                    except:\n",
    "                        decomp = scalar\n",
    "                    # if isinstance(decomp, sym.core.add.Add) and (scalar != decomp):\n",
    "                    if isinstance(decomp, sym.core.add.Add):\n",
    "                        terms = decomp.args\n",
    "                    else:\n",
    "                        # there is only 1 term (could be integer or proper fraction)\n",
    "                        terms = [decomp]\n",
    "                    # print(f'{terms=}')\n",
    "                    for term in terms:\n",
    "                        _, d = sym.fraction(term)\n",
    "                        # print(f'{d=}')\n",
    "                        # ensure denominator is non-zero so that reduction is valid\n",
    "\n",
    "                        if (not iszerofunc(d)):\n",
    "                            U.reduce_row(row_idx, term, cur_row_pos, verbosity=verbosity)\n",
    "                            elem = I.copy().reduce_row(row_idx, -term, cur_row_pos)\n",
    "                            L = L @ elem\n",
    "\n",
    "                    # Cases where pivot row contains symbols such that scalar is a\n",
    "                    # fraction with symbolic denominator.\n",
    "                    # To reduce further, can only scale row_idx accordingly\n",
    "                    if U[row_idx, cur_col_pos] != 0:\n",
    "                        scalar = U[cur_row_pos, cur_col_pos] / U[row_idx, cur_col_pos]\n",
    "                        scalar.simplify()\n",
    "                        n, d = sym.fraction(scalar)\n",
    "                        # to scale by n, n cannot be 0 both numerically or symbolically\n",
    "                        # to scale by 1/d, d cannot be 0, same argument as n\n",
    "                        # if (n != 0) and (not is_zero(d)):\n",
    "                        if (not iszerofunc(n)) and (not iszerofunc(d)):\n",
    "                            U.scale_row(row_idx, scalar, verbosity=verbosity)\n",
    "                            elem = I.copy().scale_row(row_idx, 1/scalar)\n",
    "                            L = L @ elem\n",
    "\n",
    "                except Exception as error:\n",
    "                    print(f\"Exception encountered: {error}\")\n",
    "                    if matrices == 1:\n",
    "                        return U\n",
    "                    elif matrices == 2:\n",
    "                        return P @ L, U\n",
    "                    elif matrices == 3:\n",
    "                        return P, L, U\n",
    "                    else:\n",
    "                        return U\n",
    "\n",
    "        cur_row_pos += 1\n",
    "\n",
    "    if matrices == 1:\n",
    "        return U\n",
    "    elif matrices == 2:\n",
    "        return P @ L, U\n",
    "    elif matrices == 3:\n",
    "        return P, L, U\n",
    "    else:\n",
    "        return U\n",
    "\n",
    "# ref((ref((A.select_cols(0, 1, 2, 3).row_join(B)), verbosity=2, matrices=1)).subs({a: 2, b: -3}))"
   ]
  },
  {
   "cell_type": "code",
   "execution_count": 12,
   "metadata": {},
   "outputs": [
    {
     "data": {
      "text/latex": [
       "$\\displaystyle \\left\\{\\right\\}$"
      ],
      "text/plain": [
       "set()"
      ]
     },
     "execution_count": 12,
     "metadata": {},
     "output_type": "execute_result"
    }
   ],
   "source": [
    "def is_zero(expr) -> bool:\n",
    "    # returns True if expr can be 0 for real values of unknowns\n",
    "    # use is_complex rather than is_real as symbol.is_complex and \n",
    "    # symbol.is_real returns None\n",
    "\n",
    "    def is_real_dict(case) -> bool:\n",
    "        for _, value in case.items():\n",
    "            # zero is considered complex\n",
    "            if value.is_complex and value != 0:\n",
    "                return False\n",
    "        return True\n",
    "\n",
    "    if (not isinstance(expr, sym.Expr)) or isinstance(expr, sym.Number):\n",
    "        return expr == 0\n",
    "    \n",
    "    # set symbols assumption to true\n",
    "    real_symbols = sym.symbols(f'x:{len(expr.free_symbols)}')\n",
    "    rev_symbol_dict = defaultdict()\n",
    "    for symbol, real_symbol in zip(expr.free_symbols, real_symbols):\n",
    "        rev_symbol_dict[real_symbol] = symbol\n",
    "        expr = expr.subs({symbol: real_symbol})\n",
    "\n",
    "    sol = sym.solve(sym.Eq(expr, 0), expr.free_symbols)\n",
    "    if isinstance(sol, dict):\n",
    "        sol = [sol]\n",
    "    for val in sol:\n",
    "        display(val.subs(rev_symbol_dict))\n",
    "    \n",
    "    return len(sol) > 0\n",
    "    \n",
    "\n",
    "def find_all_cases(self) -> List:\n",
    "    cases = []\n",
    "    det = (self.T @ self).det()\n",
    "    if len(det.free_symbols) == 0:\n",
    "        # determinant of the matrix is fixed\n",
    "        return []\n",
    "    elif len(det.free_symbols) == 1:\n",
    "        for sol in sym.solve(det):\n",
    "            cases.extend([{det.free_symbols.pop(): sol}])\n",
    "    else:\n",
    "        for sol in sym.solve(det):\n",
    "            cases.extend([sol])\n",
    "    cases = [dict(case) for case in set(tuple(case.items()) for case in cases)]\n",
    "\n",
    "    # if variable is not in dictionary, it can be treated as entire real\n",
    "    # except for specific cases found in other combinations\n",
    "    combinations = set()\n",
    "    for subset in powerset(cases):\n",
    "        combined = dict()\n",
    "        for d in subset:\n",
    "            combined = {**combined, **d}\n",
    "        combinations.add(tuple(sym.ordered(combined.items())))\n",
    "    \n",
    "    return list(sym.ordered(dict(combination) for combination in combinations))\n",
    "\n",
    "def evaluate_cases(self, rhs) -> None:\n",
    "    cases = find_all_cases(self.row_join(rhs))\n",
    "    all_possible_values = set(possible_val for case in cases for possible_val in case.items())\n",
    "    return all_possible_values\n",
    "    for i, case in enumerate(cases, 1):\n",
    "        exclusions = [dict([val]) for val in all_possible_values.symmetric_difference(set(case.items()))]\n",
    "        print(f\"Case {i}: {case}, not including {exclusions}\")\n",
    "        U = ref(self.row_join(rhs).subs(case), verbosity = 2, matrices = 1, follow_GE = False)\n",
    "        display(U)\n",
    "\n",
    "\n",
    "evaluate_cases(A, B)\n",
    "# tmp = find_all_cases(A)"
   ]
  },
  {
   "cell_type": "code",
   "execution_count": 7,
   "metadata": {},
   "outputs": [
    {
     "data": {
      "text/latex": [
       "$\\displaystyle \\left[\\begin{matrix}x_{1,1} & x_{1,2} & x_{1,3} & x_{1,4} & x_{1,5}\\\\x_{2,1} & x_{2,2} & x_{2,3} & x_{2,4} & x_{2,5}\\\\x_{3,1} & x_{3,2} & x_{3,3} & x_{3,4} & x_{3,5}\\\\x_{4,1} & x_{4,2} & x_{4,3} & x_{4,4} & x_{4,5}\\end{matrix}\\right]$"
      ],
      "text/plain": [
       "⎡x_1,1  x_1,2  x_1,3  x_1,4  x_1,5⎤\n",
       "⎢                                 ⎥\n",
       "⎢x_2,1  x_2,2  x_2,3  x_2,4  x_2,5⎥\n",
       "⎢                                 ⎥\n",
       "⎢x_3,1  x_3,2  x_3,3  x_3,4  x_3,5⎥\n",
       "⎢                                 ⎥\n",
       "⎣x_4,1  x_4,2  x_4,3  x_4,4  x_4,5⎦"
      ]
     },
     "execution_count": 7,
     "metadata": {},
     "output_type": "execute_result"
    }
   ],
   "source": [
    "X = Matrix.create_unk_matrix(4, 5)\n",
    "X"
   ]
  },
  {
   "cell_type": "code",
   "execution_count": 31,
   "metadata": {},
   "outputs": [
    {
     "data": {
      "text/latex": [
       "$\\displaystyle \\left[ \\left\\{ \\right\\}, \\  \\left\\{ a : 0\\right\\}, \\  \\left\\{ a : b\\right\\}\\right]$"
      ],
      "text/plain": [
       "[{}, {a: 0}, {a: b}]"
      ]
     },
     "execution_count": 31,
     "metadata": {},
     "output_type": "execute_result"
    }
   ],
   "source": [
    "find_all_cases(A)"
   ]
  },
  {
   "cell_type": "code",
   "execution_count": 53,
   "metadata": {},
   "outputs": [
    {
     "data": {
      "text/latex": [
       "$\\displaystyle - 2 a^{3} + 2 a^{2} b$"
      ],
      "text/plain": [
       "     3      2  \n",
       "- 2⋅a  + 2⋅a ⋅b"
      ]
     },
     "execution_count": 53,
     "metadata": {},
     "output_type": "execute_result"
    }
   ],
   "source": [
    "REF = A.row_join(B).echelon_form()\n",
    "REF[2, 2]"
   ]
  },
  {
   "cell_type": "code",
   "execution_count": 56,
   "metadata": {},
   "outputs": [
    {
     "data": {
      "text/latex": [
       "$\\displaystyle \\left[ \\left\\{ a : 0\\right\\}, \\  \\left\\{ b : a\\right\\}\\right]$"
      ],
      "text/plain": [
       "[{a: 0}, {b: a}]"
      ]
     },
     "execution_count": 56,
     "metadata": {},
     "output_type": "execute_result"
    }
   ],
   "source": [
    "sym.solve(REF[2, 2])"
   ]
  },
  {
   "cell_type": "code",
   "execution_count": 58,
   "metadata": {},
   "outputs": [
    {
     "data": {
      "text/latex": [
       "$\\displaystyle \\left[\\begin{matrix}0 & b + 2 & 3 & 3\\\\0 & 0 & - 3 b & 2 - 2 b\\\\0 & 0 & 0 & b^{2} + b - 2\\end{matrix}\\right]$"
      ],
      "text/plain": [
       "⎡0  b + 2   3        3     ⎤\n",
       "⎢                          ⎥\n",
       "⎢0    0    -3⋅b   2 - 2⋅b  ⎥\n",
       "⎢                          ⎥\n",
       "⎢                 2        ⎥\n",
       "⎣0    0     0    b  + b - 2⎦"
      ]
     },
     "execution_count": 58,
     "metadata": {},
     "output_type": "execute_result"
    }
   ],
   "source": [
    "tmp.echelon_form()"
   ]
  },
  {
   "cell_type": "code",
   "execution_count": 51,
   "metadata": {},
   "outputs": [
    {
     "data": {
      "text/latex": [
       "$\\displaystyle \\left[ \\left\\{ a : 0\\right\\}, \\  \\left\\{ a : b\\right\\}, \\  \\left\\{ a : \\frac{2 b}{b + 2}\\right\\}\\right]$"
      ],
      "text/plain": [
       "⎡                ⎧    2⋅b ⎫⎤\n",
       "⎢{a: 0}, {a: b}, ⎨a: ─────⎬⎥\n",
       "⎣                ⎩   b + 2⎭⎦"
      ]
     },
     "execution_count": 51,
     "metadata": {},
     "output_type": "execute_result"
    }
   ],
   "source": [
    "tmp = A.row_join(B).subs({a: 0, b: b})\n",
    "\n",
    "sym.solve(sym.Mul(*tmp.echelon_form().get_pivot_elements()))"
   ]
  },
  {
   "cell_type": "code",
   "execution_count": 36,
   "metadata": {},
   "outputs": [
    {
     "data": {
      "text/latex": [
       "$\\displaystyle \\left[\\begin{matrix}2 b & b + 2 & 3 & 3\\\\0 & - b^{3} & - b^{2} & - b^{2} + 2 b\\\\0 & 0 & 0 & - 2 b^{3}\\end{matrix}\\right]$"
      ],
      "text/plain": [
       "⎡2⋅b  b + 2   3       3     ⎤\n",
       "⎢                           ⎥\n",
       "⎢        3     2     2      ⎥\n",
       "⎢ 0    -b    -b   - b  + 2⋅b⎥\n",
       "⎢                           ⎥\n",
       "⎢                       3   ⎥\n",
       "⎣ 0     0     0     -2⋅b    ⎦"
      ]
     },
     "execution_count": 36,
     "metadata": {},
     "output_type": "execute_result"
    }
   ],
   "source": [
    "A.row_join(B).subs({a: b}).echelon_form()"
   ]
  },
  {
   "cell_type": "code",
   "execution_count": 14,
   "metadata": {},
   "outputs": [
    {
     "data": {
      "text/latex": [
       "$\\displaystyle \\left[ \\right]$"
      ],
      "text/plain": [
       "[]"
      ]
     },
     "execution_count": 14,
     "metadata": {},
     "output_type": "execute_result"
    }
   ],
   "source": [
    "C = A.row_join(B)\n",
    "find_all_cases(C)"
   ]
  },
  {
   "cell_type": "code",
   "execution_count": 80,
   "metadata": {},
   "outputs": [
    {
     "ename": "TypeError",
     "evalue": "super() argument 1 must be a type, not Matrix",
     "output_type": "error",
     "traceback": [
      "\u001b[1;31m---------------------------------------------------------------------------\u001b[0m",
      "\u001b[1;31mTypeError\u001b[0m                                 Traceback (most recent call last)",
      "Cell \u001b[1;32mIn[80], line 1\u001b[0m\n\u001b[1;32m----> 1\u001b[0m \u001b[43mA\u001b[49m\u001b[38;5;241;43m.\u001b[39;49m\u001b[43madj\u001b[49m\u001b[43m(\u001b[49m\u001b[43m)\u001b[49m\n",
      "File \u001b[1;32mc:\\Github\\linear-algebra\\ref_symbolic_mod.py:536\u001b[0m, in \u001b[0;36mMatrix.adj\u001b[1;34m(self)\u001b[0m\n\u001b[0;32m    534\u001b[0m \u001b[38;5;28;01mdef\u001b[39;00m \u001b[38;5;21madj\u001b[39m(\u001b[38;5;28mself\u001b[39m) \u001b[38;5;241m-\u001b[39m\u001b[38;5;241m>\u001b[39m sym\u001b[38;5;241m.\u001b[39mMatrix:\n\u001b[0;32m    535\u001b[0m     \u001b[38;5;66;03m# alias for adjoint\u001b[39;00m\n\u001b[1;32m--> 536\u001b[0m     \u001b[38;5;28;01mreturn\u001b[39;00m \u001b[38;5;28;43mself\u001b[39;49m\u001b[38;5;241;43m.\u001b[39;49m\u001b[43madjoint\u001b[49m\u001b[43m(\u001b[49m\u001b[43m)\u001b[49m\n",
      "File \u001b[1;32mc:\\Github\\linear-algebra\\ref_symbolic_mod.py:532\u001b[0m, in \u001b[0;36mMatrix.adjoint\u001b[1;34m(self, *args, **kwargs)\u001b[0m\n\u001b[0;32m    530\u001b[0m \u001b[38;5;28;01mdef\u001b[39;00m \u001b[38;5;21madjoint\u001b[39m(\u001b[38;5;28mself\u001b[39m, \u001b[38;5;241m*\u001b[39margs, \u001b[38;5;241m*\u001b[39m\u001b[38;5;241m*\u001b[39mkwargs) \u001b[38;5;241m-\u001b[39m\u001b[38;5;241m>\u001b[39m sym\u001b[38;5;241m.\u001b[39mMatrix:\n\u001b[0;32m    531\u001b[0m     \u001b[38;5;66;03m# point adjoint to classical adjoint (which is defined as adjugate in SymPy) to align with MA1522 Syllabus\u001b[39;00m\n\u001b[1;32m--> 532\u001b[0m     \u001b[38;5;28;01mreturn\u001b[39;00m \u001b[43mMatrix\u001b[49m\u001b[43m(\u001b[49m\u001b[38;5;28;43msuper\u001b[39;49m\u001b[43m(\u001b[49m\u001b[43m)\u001b[49m\u001b[38;5;241;43m.\u001b[39;49m\u001b[43madjugate\u001b[49m\u001b[43m(\u001b[49m\u001b[38;5;241;43m*\u001b[39;49m\u001b[43margs\u001b[49m\u001b[43m,\u001b[49m\u001b[43m \u001b[49m\u001b[38;5;241;43m*\u001b[39;49m\u001b[38;5;241;43m*\u001b[39;49m\u001b[43mkwargs\u001b[49m\u001b[43m)\u001b[49m\u001b[43m)\u001b[49m\n",
      "File \u001b[1;32mc:\\Github\\linear-algebra\\ref_symbolic_mod.py:188\u001b[0m, in \u001b[0;36mMatrix.__init__\u001b[1;34m(self, *args, **kwargs)\u001b[0m\n\u001b[0;32m    187\u001b[0m \u001b[38;5;28;01mdef\u001b[39;00m \u001b[38;5;21m__init__\u001b[39m(\u001b[38;5;28mself\u001b[39m, \u001b[38;5;241m*\u001b[39margs, \u001b[38;5;241m*\u001b[39m\u001b[38;5;241m*\u001b[39mkwargs) \u001b[38;5;241m-\u001b[39m\u001b[38;5;241m>\u001b[39m \u001b[38;5;28;01mNone\u001b[39;00m:\n\u001b[1;32m--> 188\u001b[0m     \u001b[38;5;28;43msuper\u001b[39;49m\u001b[43m(\u001b[49m\u001b[38;5;241;43m*\u001b[39;49m\u001b[43margs\u001b[49m\u001b[43m,\u001b[49m\u001b[43m \u001b[49m\u001b[38;5;241;43m*\u001b[39;49m\u001b[38;5;241;43m*\u001b[39;49m\u001b[43mkwargs\u001b[49m\u001b[43m)\u001b[49m\u001b[38;5;241m.\u001b[39m\u001b[38;5;21m__init__\u001b[39m()\n\u001b[0;32m    189\u001b[0m     \u001b[38;5;28mself\u001b[39m\u001b[38;5;241m.\u001b[39maugpos \u001b[38;5;241m=\u001b[39m []\n",
      "\u001b[1;31mTypeError\u001b[0m: super() argument 1 must be a type, not Matrix"
     ]
    }
   ],
   "source": [
    "A.adj()"
   ]
  },
  {
   "cell_type": "code",
   "execution_count": 20,
   "metadata": {},
   "outputs": [
    {
     "name": "stdout",
     "output_type": "stream",
     "text": [
      "Case 1: {}, not including [{a: c/(b*c - 2)}, {a: 1/b}]\n",
      "R_1 <-> R_2\n"
     ]
    },
    {
     "data": {
      "text/latex": [
       "$\\displaystyle \\left[\\begin{matrix}1 & b & 1 & 0 & 0 & 0\\\\a & 1 & 0 & 0 & 0 & 0\\\\0 & 1 & c & 1 & 0 & 0\\\\0 & 0 & 1 & b & 1 & 0\\\\0 & 0 & 0 & 1 & a & 0\\end{matrix}\\right]$"
      ],
      "text/plain": [
       "⎡1  b  1  0  0  0⎤\n",
       "⎢                ⎥\n",
       "⎢a  1  0  0  0  0⎥\n",
       "⎢                ⎥\n",
       "⎢0  1  c  1  0  0⎥\n",
       "⎢                ⎥\n",
       "⎢0  0  1  b  1  0⎥\n",
       "⎢                ⎥\n",
       "⎣0  0  0  1  a  0⎦"
      ]
     },
     "metadata": {},
     "output_type": "display_data"
    },
    {
     "name": "stdout",
     "output_type": "stream",
     "text": [
      "\n",
      "\n",
      "R_2 <- R_2 - (a)R_1\n"
     ]
    },
    {
     "data": {
      "text/latex": [
       "$\\displaystyle \\left[\\begin{matrix}1 & b & 1 & 0 & 0 & 0\\\\0 & - a b + 1 & - a & 0 & 0 & 0\\\\0 & 1 & c & 1 & 0 & 0\\\\0 & 0 & 1 & b & 1 & 0\\\\0 & 0 & 0 & 1 & a & 0\\end{matrix}\\right]$"
      ],
      "text/plain": [
       "⎡1     b      1   0  0  0⎤\n",
       "⎢                        ⎥\n",
       "⎢0  -a⋅b + 1  -a  0  0  0⎥\n",
       "⎢                        ⎥\n",
       "⎢0     1      c   1  0  0⎥\n",
       "⎢                        ⎥\n",
       "⎢0     0      1   b  1  0⎥\n",
       "⎢                        ⎥\n",
       "⎣0     0      0   1  a  0⎦"
      ]
     },
     "metadata": {},
     "output_type": "display_data"
    },
    {
     "name": "stdout",
     "output_type": "stream",
     "text": [
      "\n",
      "\n",
      "R_2 <-> R_3\n"
     ]
    },
    {
     "data": {
      "text/latex": [
       "$\\displaystyle \\left[\\begin{matrix}1 & b & 1 & 0 & 0 & 0\\\\0 & 1 & c & 1 & 0 & 0\\\\0 & - a b + 1 & - a & 0 & 0 & 0\\\\0 & 0 & 1 & b & 1 & 0\\\\0 & 0 & 0 & 1 & a & 0\\end{matrix}\\right]$"
      ],
      "text/plain": [
       "⎡1     b      1   0  0  0⎤\n",
       "⎢                        ⎥\n",
       "⎢0     1      c   1  0  0⎥\n",
       "⎢                        ⎥\n",
       "⎢0  -a⋅b + 1  -a  0  0  0⎥\n",
       "⎢                        ⎥\n",
       "⎢0     0      1   b  1  0⎥\n",
       "⎢                        ⎥\n",
       "⎣0     0      0   1  a  0⎦"
      ]
     },
     "metadata": {},
     "output_type": "display_data"
    },
    {
     "name": "stdout",
     "output_type": "stream",
     "text": [
      "\n",
      "\n",
      "R_3 <- R_3 - (1)R_2\n"
     ]
    },
    {
     "data": {
      "text/latex": [
       "$\\displaystyle \\left[\\begin{matrix}1 & b & 1 & 0 & 0 & 0\\\\0 & 1 & c & 1 & 0 & 0\\\\0 & - a b & - a - c & -1 & 0 & 0\\\\0 & 0 & 1 & b & 1 & 0\\\\0 & 0 & 0 & 1 & a & 0\\end{matrix}\\right]$"
      ],
      "text/plain": [
       "⎡1   b      1     0   0  0⎤\n",
       "⎢                         ⎥\n",
       "⎢0   1      c     1   0  0⎥\n",
       "⎢                         ⎥\n",
       "⎢0  -a⋅b  -a - c  -1  0  0⎥\n",
       "⎢                         ⎥\n",
       "⎢0   0      1     b   1  0⎥\n",
       "⎢                         ⎥\n",
       "⎣0   0      0     1   a  0⎦"
      ]
     },
     "metadata": {},
     "output_type": "display_data"
    },
    {
     "name": "stdout",
     "output_type": "stream",
     "text": [
      "\n",
      "\n",
      "R_3 <- R_3 - (-a*b)R_2\n"
     ]
    },
    {
     "data": {
      "text/latex": [
       "$\\displaystyle \\left[\\begin{matrix}1 & b & 1 & 0 & 0 & 0\\\\0 & 1 & c & 1 & 0 & 0\\\\0 & 0 & a b c - a - c & a b - 1 & 0 & 0\\\\0 & 0 & 1 & b & 1 & 0\\\\0 & 0 & 0 & 1 & a & 0\\end{matrix}\\right]$"
      ],
      "text/plain": [
       "⎡1  b        1           0     0  0⎤\n",
       "⎢                                  ⎥\n",
       "⎢0  1        c           1     0  0⎥\n",
       "⎢                                  ⎥\n",
       "⎢0  0  a⋅b⋅c - a - c  a⋅b - 1  0  0⎥\n",
       "⎢                                  ⎥\n",
       "⎢0  0        1           b     1  0⎥\n",
       "⎢                                  ⎥\n",
       "⎣0  0        0           1     a  0⎦"
      ]
     },
     "metadata": {},
     "output_type": "display_data"
    },
    {
     "name": "stdout",
     "output_type": "stream",
     "text": [
      "\n",
      "\n",
      "R_3 <-> R_4\n"
     ]
    },
    {
     "data": {
      "text/latex": [
       "$\\displaystyle \\left[\\begin{matrix}1 & b & 1 & 0 & 0 & 0\\\\0 & 1 & c & 1 & 0 & 0\\\\0 & 0 & 1 & b & 1 & 0\\\\0 & 0 & a b c - a - c & a b - 1 & 0 & 0\\\\0 & 0 & 0 & 1 & a & 0\\end{matrix}\\right]$"
      ],
      "text/plain": [
       "⎡1  b        1           0     0  0⎤\n",
       "⎢                                  ⎥\n",
       "⎢0  1        c           1     0  0⎥\n",
       "⎢                                  ⎥\n",
       "⎢0  0        1           b     1  0⎥\n",
       "⎢                                  ⎥\n",
       "⎢0  0  a⋅b⋅c - a - c  a⋅b - 1  0  0⎥\n",
       "⎢                                  ⎥\n",
       "⎣0  0        0           1     a  0⎦"
      ]
     },
     "metadata": {},
     "output_type": "display_data"
    },
    {
     "name": "stdout",
     "output_type": "stream",
     "text": [
      "\n",
      "\n",
      "R_4 <- R_4 - (-a)R_3\n"
     ]
    },
    {
     "data": {
      "text/latex": [
       "$\\displaystyle \\left[\\begin{matrix}1 & b & 1 & 0 & 0 & 0\\\\0 & 1 & c & 1 & 0 & 0\\\\0 & 0 & 1 & b & 1 & 0\\\\0 & 0 & a b c - c & 2 a b - 1 & a & 0\\\\0 & 0 & 0 & 1 & a & 0\\end{matrix}\\right]$"
      ],
      "text/plain": [
       "⎡1  b      1          0      0  0⎤\n",
       "⎢                                ⎥\n",
       "⎢0  1      c          1      0  0⎥\n",
       "⎢                                ⎥\n",
       "⎢0  0      1          b      1  0⎥\n",
       "⎢                                ⎥\n",
       "⎢0  0  a⋅b⋅c - c  2⋅a⋅b - 1  a  0⎥\n",
       "⎢                                ⎥\n",
       "⎣0  0      0          1      a  0⎦"
      ]
     },
     "metadata": {},
     "output_type": "display_data"
    },
    {
     "name": "stdout",
     "output_type": "stream",
     "text": [
      "\n",
      "\n",
      "R_4 <- R_4 - (-c)R_3\n"
     ]
    },
    {
     "data": {
      "text/latex": [
       "$\\displaystyle \\left[\\begin{matrix}1 & b & 1 & 0 & 0 & 0\\\\0 & 1 & c & 1 & 0 & 0\\\\0 & 0 & 1 & b & 1 & 0\\\\0 & 0 & a b c & 2 a b + b c - 1 & a + c & 0\\\\0 & 0 & 0 & 1 & a & 0\\end{matrix}\\right]$"
      ],
      "text/plain": [
       "⎡1  b    1           0           0    0⎤\n",
       "⎢                                      ⎥\n",
       "⎢0  1    c           1           0    0⎥\n",
       "⎢                                      ⎥\n",
       "⎢0  0    1           b           1    0⎥\n",
       "⎢                                      ⎥\n",
       "⎢0  0  a⋅b⋅c  2⋅a⋅b + b⋅c - 1  a + c  0⎥\n",
       "⎢                                      ⎥\n",
       "⎣0  0    0           1           a    0⎦"
      ]
     },
     "metadata": {},
     "output_type": "display_data"
    },
    {
     "name": "stdout",
     "output_type": "stream",
     "text": [
      "\n",
      "\n",
      "R_4 <- R_4 - (a*b*c)R_3\n"
     ]
    },
    {
     "data": {
      "text/latex": [
       "$\\displaystyle \\left[\\begin{matrix}1 & b & 1 & 0 & 0 & 0\\\\0 & 1 & c & 1 & 0 & 0\\\\0 & 0 & 1 & b & 1 & 0\\\\0 & 0 & 0 & - a b^{2} c + 2 a b + b c - 1 & - a b c + a + c & 0\\\\0 & 0 & 0 & 1 & a & 0\\end{matrix}\\right]$"
      ],
      "text/plain": [
       "⎡1  b  1              0                     0         0⎤\n",
       "⎢                                                      ⎥\n",
       "⎢0  1  c              1                     0         0⎥\n",
       "⎢                                                      ⎥\n",
       "⎢0  0  1              b                     1         0⎥\n",
       "⎢                                                      ⎥\n",
       "⎢              2                                       ⎥\n",
       "⎢0  0  0  - a⋅b ⋅c + 2⋅a⋅b + b⋅c - 1  -a⋅b⋅c + a + c  0⎥\n",
       "⎢                                                      ⎥\n",
       "⎣0  0  0              1                     a         0⎦"
      ]
     },
     "metadata": {},
     "output_type": "display_data"
    },
    {
     "name": "stdout",
     "output_type": "stream",
     "text": [
      "\n",
      "\n",
      "R_4 <-> R_5\n"
     ]
    },
    {
     "data": {
      "text/latex": [
       "$\\displaystyle \\left[\\begin{matrix}1 & b & 1 & 0 & 0 & 0\\\\0 & 1 & c & 1 & 0 & 0\\\\0 & 0 & 1 & b & 1 & 0\\\\0 & 0 & 0 & 1 & a & 0\\\\0 & 0 & 0 & - a b^{2} c + 2 a b + b c - 1 & - a b c + a + c & 0\\end{matrix}\\right]$"
      ],
      "text/plain": [
       "⎡1  b  1              0                     0         0⎤\n",
       "⎢                                                      ⎥\n",
       "⎢0  1  c              1                     0         0⎥\n",
       "⎢                                                      ⎥\n",
       "⎢0  0  1              b                     1         0⎥\n",
       "⎢                                                      ⎥\n",
       "⎢0  0  0              1                     a         0⎥\n",
       "⎢                                                      ⎥\n",
       "⎢              2                                       ⎥\n",
       "⎣0  0  0  - a⋅b ⋅c + 2⋅a⋅b + b⋅c - 1  -a⋅b⋅c + a + c  0⎦"
      ]
     },
     "metadata": {},
     "output_type": "display_data"
    },
    {
     "name": "stdout",
     "output_type": "stream",
     "text": [
      "\n",
      "\n",
      "R_5 <- R_5 - (-1)R_4\n"
     ]
    },
    {
     "data": {
      "text/latex": [
       "$\\displaystyle \\left[\\begin{matrix}1 & b & 1 & 0 & 0 & 0\\\\0 & 1 & c & 1 & 0 & 0\\\\0 & 0 & 1 & b & 1 & 0\\\\0 & 0 & 0 & 1 & a & 0\\\\0 & 0 & 0 & - a b^{2} c + 2 a b + b c & - a b c + 2 a + c & 0\\end{matrix}\\right]$"
      ],
      "text/plain": [
       "⎡1  b  1            0                    0          0⎤\n",
       "⎢                                                    ⎥\n",
       "⎢0  1  c            1                    0          0⎥\n",
       "⎢                                                    ⎥\n",
       "⎢0  0  1            b                    1          0⎥\n",
       "⎢                                                    ⎥\n",
       "⎢0  0  0            1                    a          0⎥\n",
       "⎢                                                    ⎥\n",
       "⎢              2                                     ⎥\n",
       "⎣0  0  0  - a⋅b ⋅c + 2⋅a⋅b + b⋅c  -a⋅b⋅c + 2⋅a + c  0⎦"
      ]
     },
     "metadata": {},
     "output_type": "display_data"
    },
    {
     "name": "stdout",
     "output_type": "stream",
     "text": [
      "\n",
      "\n",
      "R_5 <- R_5 - (b*c)R_4\n"
     ]
    },
    {
     "data": {
      "text/latex": [
       "$\\displaystyle \\left[\\begin{matrix}1 & b & 1 & 0 & 0 & 0\\\\0 & 1 & c & 1 & 0 & 0\\\\0 & 0 & 1 & b & 1 & 0\\\\0 & 0 & 0 & 1 & a & 0\\\\0 & 0 & 0 & - a b^{2} c + 2 a b & - 2 a b c + 2 a + c & 0\\end{matrix}\\right]$"
      ],
      "text/plain": [
       "⎡1  b  1         0                  0           0⎤\n",
       "⎢                                                ⎥\n",
       "⎢0  1  c         1                  0           0⎥\n",
       "⎢                                                ⎥\n",
       "⎢0  0  1         b                  1           0⎥\n",
       "⎢                                                ⎥\n",
       "⎢0  0  0         1                  a           0⎥\n",
       "⎢                                                ⎥\n",
       "⎢              2                                 ⎥\n",
       "⎣0  0  0  - a⋅b ⋅c + 2⋅a⋅b  -2⋅a⋅b⋅c + 2⋅a + c  0⎦"
      ]
     },
     "metadata": {},
     "output_type": "display_data"
    },
    {
     "name": "stdout",
     "output_type": "stream",
     "text": [
      "\n",
      "\n",
      "R_5 <- R_5 - (2*a*b)R_4\n"
     ]
    },
    {
     "data": {
      "text/latex": [
       "$\\displaystyle \\left[\\begin{matrix}1 & b & 1 & 0 & 0 & 0\\\\0 & 1 & c & 1 & 0 & 0\\\\0 & 0 & 1 & b & 1 & 0\\\\0 & 0 & 0 & 1 & a & 0\\\\0 & 0 & 0 & - a b^{2} c & - 2 a^{2} b - 2 a b c + 2 a + c & 0\\end{matrix}\\right]$"
      ],
      "text/plain": [
       "⎡1  b  1     0                  0                0⎤\n",
       "⎢                                                 ⎥\n",
       "⎢0  1  c     1                  0                0⎥\n",
       "⎢                                                 ⎥\n",
       "⎢0  0  1     b                  1                0⎥\n",
       "⎢                                                 ⎥\n",
       "⎢0  0  0     1                  a                0⎥\n",
       "⎢                                                 ⎥\n",
       "⎢             2         2                         ⎥\n",
       "⎣0  0  0  -a⋅b ⋅c  - 2⋅a ⋅b - 2⋅a⋅b⋅c + 2⋅a + c  0⎦"
      ]
     },
     "metadata": {},
     "output_type": "display_data"
    },
    {
     "name": "stdout",
     "output_type": "stream",
     "text": [
      "\n",
      "\n",
      "R_5 <- R_5 - (-a*b**2*c)R_4\n"
     ]
    },
    {
     "data": {
      "text/latex": [
       "$\\displaystyle \\left[\\begin{matrix}1 & b & 1 & 0 & 0 & 0\\\\0 & 1 & c & 1 & 0 & 0\\\\0 & 0 & 1 & b & 1 & 0\\\\0 & 0 & 0 & 1 & a & 0\\\\0 & 0 & 0 & 0 & a^{2} b^{2} c - 2 a^{2} b - 2 a b c + 2 a + c & 0\\end{matrix}\\right]$"
      ],
      "text/plain": [
       "⎡1  b  1  0                   0                    0⎤\n",
       "⎢                                                   ⎥\n",
       "⎢0  1  c  1                   0                    0⎥\n",
       "⎢                                                   ⎥\n",
       "⎢0  0  1  b                   1                    0⎥\n",
       "⎢                                                   ⎥\n",
       "⎢0  0  0  1                   a                    0⎥\n",
       "⎢                                                   ⎥\n",
       "⎢             2  2        2                         ⎥\n",
       "⎣0  0  0  0  a ⋅b ⋅c - 2⋅a ⋅b - 2⋅a⋅b⋅c + 2⋅a + c  0⎦"
      ]
     },
     "metadata": {},
     "output_type": "display_data"
    },
    {
     "name": "stdout",
     "output_type": "stream",
     "text": [
      "\n",
      "\n"
     ]
    },
    {
     "data": {
      "text/latex": [
       "$\\displaystyle \\left[\\begin{matrix}1 & b & 1 & 0 & 0 & 0\\\\0 & 1 & c & 1 & 0 & 0\\\\0 & 0 & 1 & b & 1 & 0\\\\0 & 0 & 0 & 1 & a & 0\\\\0 & 0 & 0 & 0 & a^{2} b^{2} c - 2 a^{2} b - 2 a b c + 2 a + c & 0\\end{matrix}\\right]$"
      ],
      "text/plain": [
       "⎡1  b  1  0                   0                    0⎤\n",
       "⎢                                                   ⎥\n",
       "⎢0  1  c  1                   0                    0⎥\n",
       "⎢                                                   ⎥\n",
       "⎢0  0  1  b                   1                    0⎥\n",
       "⎢                                                   ⎥\n",
       "⎢0  0  0  1                   a                    0⎥\n",
       "⎢                                                   ⎥\n",
       "⎢             2  2        2                         ⎥\n",
       "⎣0  0  0  0  a ⋅b ⋅c - 2⋅a ⋅b - 2⋅a⋅b⋅c + 2⋅a + c  0⎦"
      ]
     },
     "metadata": {},
     "output_type": "display_data"
    },
    {
     "name": "stdout",
     "output_type": "stream",
     "text": [
      "Case 2: {a: 1/b}, not including [{a: c/(b*c - 2)}]\n",
      "R_1 <-> R_2\n"
     ]
    },
    {
     "data": {
      "text/latex": [
       "$\\displaystyle \\left[\\begin{matrix}1 & b & 1 & 0 & 0 & 0\\\\\\frac{1}{b} & 1 & 0 & 0 & 0 & 0\\\\0 & 1 & c & 1 & 0 & 0\\\\0 & 0 & 1 & b & 1 & 0\\\\0 & 0 & 0 & 1 & \\frac{1}{b} & 0\\end{matrix}\\right]$"
      ],
      "text/plain": [
       "⎡1  b  1  0  0  0⎤\n",
       "⎢                ⎥\n",
       "⎢1               ⎥\n",
       "⎢─  1  0  0  0  0⎥\n",
       "⎢b               ⎥\n",
       "⎢                ⎥\n",
       "⎢0  1  c  1  0  0⎥\n",
       "⎢                ⎥\n",
       "⎢0  0  1  b  1  0⎥\n",
       "⎢                ⎥\n",
       "⎢            1   ⎥\n",
       "⎢0  0  0  1  ─  0⎥\n",
       "⎣            b   ⎦"
      ]
     },
     "metadata": {},
     "output_type": "display_data"
    },
    {
     "name": "stdout",
     "output_type": "stream",
     "text": [
      "\n",
      "\n",
      "ERROR: Max tries exceeded to reduce row 2 with row 1\n",
      "R_3 <- R_3 - (1)R_2\n"
     ]
    },
    {
     "data": {
      "text/latex": [
       "$\\displaystyle \\left[\\begin{matrix}1 & b & 1 & 0 & 0 & 0\\\\\\frac{1}{b} & 1 & 0 & 0 & 0 & 0\\\\- \\frac{1}{b} & 0 & c & 1 & 0 & 0\\\\0 & 0 & 1 & b & 1 & 0\\\\0 & 0 & 0 & 1 & \\frac{1}{b} & 0\\end{matrix}\\right]$"
      ],
      "text/plain": [
       "⎡ 1   b  1  0  0  0⎤\n",
       "⎢                  ⎥\n",
       "⎢ 1                ⎥\n",
       "⎢ ─   1  0  0  0  0⎥\n",
       "⎢ b                ⎥\n",
       "⎢                  ⎥\n",
       "⎢-1                ⎥\n",
       "⎢───  0  c  1  0  0⎥\n",
       "⎢ b                ⎥\n",
       "⎢                  ⎥\n",
       "⎢ 0   0  1  b  1  0⎥\n",
       "⎢                  ⎥\n",
       "⎢              1   ⎥\n",
       "⎢ 0   0  0  1  ─  0⎥\n",
       "⎣              b   ⎦"
      ]
     },
     "metadata": {},
     "output_type": "display_data"
    },
    {
     "name": "stdout",
     "output_type": "stream",
     "text": [
      "\n",
      "\n",
      "R_3 <-> R_4\n"
     ]
    },
    {
     "data": {
      "text/latex": [
       "$\\displaystyle \\left[\\begin{matrix}1 & b & 1 & 0 & 0 & 0\\\\\\frac{1}{b} & 1 & 0 & 0 & 0 & 0\\\\0 & 0 & 1 & b & 1 & 0\\\\- \\frac{1}{b} & 0 & c & 1 & 0 & 0\\\\0 & 0 & 0 & 1 & \\frac{1}{b} & 0\\end{matrix}\\right]$"
      ],
      "text/plain": [
       "⎡ 1   b  1  0  0  0⎤\n",
       "⎢                  ⎥\n",
       "⎢ 1                ⎥\n",
       "⎢ ─   1  0  0  0  0⎥\n",
       "⎢ b                ⎥\n",
       "⎢                  ⎥\n",
       "⎢ 0   0  1  b  1  0⎥\n",
       "⎢                  ⎥\n",
       "⎢-1                ⎥\n",
       "⎢───  0  c  1  0  0⎥\n",
       "⎢ b                ⎥\n",
       "⎢                  ⎥\n",
       "⎢              1   ⎥\n",
       "⎢ 0   0  0  1  ─  0⎥\n",
       "⎣              b   ⎦"
      ]
     },
     "metadata": {},
     "output_type": "display_data"
    },
    {
     "name": "stdout",
     "output_type": "stream",
     "text": [
      "\n",
      "\n",
      "R_4 <- R_4 - (c)R_3\n"
     ]
    },
    {
     "data": {
      "text/latex": [
       "$\\displaystyle \\left[\\begin{matrix}1 & b & 1 & 0 & 0 & 0\\\\\\frac{1}{b} & 1 & 0 & 0 & 0 & 0\\\\0 & 0 & 1 & b & 1 & 0\\\\- \\frac{1}{b} & 0 & 0 & - b c + 1 & - c & 0\\\\0 & 0 & 0 & 1 & \\frac{1}{b} & 0\\end{matrix}\\right]$"
      ],
      "text/plain": [
       "⎡ 1   b  1     0      0   0⎤\n",
       "⎢                          ⎥\n",
       "⎢ 1                        ⎥\n",
       "⎢ ─   1  0     0      0   0⎥\n",
       "⎢ b                        ⎥\n",
       "⎢                          ⎥\n",
       "⎢ 0   0  1     b      1   0⎥\n",
       "⎢                          ⎥\n",
       "⎢-1                        ⎥\n",
       "⎢───  0  0  -b⋅c + 1  -c  0⎥\n",
       "⎢ b                        ⎥\n",
       "⎢                          ⎥\n",
       "⎢                     1    ⎥\n",
       "⎢ 0   0  0     1      ─   0⎥\n",
       "⎣                     b    ⎦"
      ]
     },
     "metadata": {},
     "output_type": "display_data"
    },
    {
     "name": "stdout",
     "output_type": "stream",
     "text": [
      "\n",
      "\n",
      "R_4 <-> R_5\n"
     ]
    },
    {
     "data": {
      "text/latex": [
       "$\\displaystyle \\left[\\begin{matrix}1 & b & 1 & 0 & 0 & 0\\\\\\frac{1}{b} & 1 & 0 & 0 & 0 & 0\\\\0 & 0 & 1 & b & 1 & 0\\\\0 & 0 & 0 & 1 & \\frac{1}{b} & 0\\\\- \\frac{1}{b} & 0 & 0 & - b c + 1 & - c & 0\\end{matrix}\\right]$"
      ],
      "text/plain": [
       "⎡ 1   b  1     0      0   0⎤\n",
       "⎢                          ⎥\n",
       "⎢ 1                        ⎥\n",
       "⎢ ─   1  0     0      0   0⎥\n",
       "⎢ b                        ⎥\n",
       "⎢                          ⎥\n",
       "⎢ 0   0  1     b      1   0⎥\n",
       "⎢                          ⎥\n",
       "⎢                     1    ⎥\n",
       "⎢ 0   0  0     1      ─   0⎥\n",
       "⎢                     b    ⎥\n",
       "⎢                          ⎥\n",
       "⎢-1                        ⎥\n",
       "⎢───  0  0  -b⋅c + 1  -c  0⎥\n",
       "⎣ b                        ⎦"
      ]
     },
     "metadata": {},
     "output_type": "display_data"
    },
    {
     "name": "stdout",
     "output_type": "stream",
     "text": [
      "\n",
      "\n",
      "R_5 <- R_5 - (1)R_4\n"
     ]
    },
    {
     "data": {
      "text/latex": [
       "$\\displaystyle \\left[\\begin{matrix}1 & b & 1 & 0 & 0 & 0\\\\\\frac{1}{b} & 1 & 0 & 0 & 0 & 0\\\\0 & 0 & 1 & b & 1 & 0\\\\0 & 0 & 0 & 1 & \\frac{1}{b} & 0\\\\- \\frac{1}{b} & 0 & 0 & - b c & - c - \\frac{1}{b} & 0\\end{matrix}\\right]$"
      ],
      "text/plain": [
       "⎡ 1   b  1   0      0     0⎤\n",
       "⎢                          ⎥\n",
       "⎢ 1                        ⎥\n",
       "⎢ ─   1  0   0      0     0⎥\n",
       "⎢ b                        ⎥\n",
       "⎢                          ⎥\n",
       "⎢ 0   0  1   b      1     0⎥\n",
       "⎢                          ⎥\n",
       "⎢                   1      ⎥\n",
       "⎢ 0   0  0   1      ─     0⎥\n",
       "⎢                   b      ⎥\n",
       "⎢                          ⎥\n",
       "⎢-1                    1   ⎥\n",
       "⎢───  0  0  -b⋅c  -c - ─  0⎥\n",
       "⎣ b                    b   ⎦"
      ]
     },
     "metadata": {},
     "output_type": "display_data"
    },
    {
     "name": "stdout",
     "output_type": "stream",
     "text": [
      "\n",
      "\n",
      "R_5 <- R_5 - (-b*c)R_4\n"
     ]
    },
    {
     "data": {
      "text/latex": [
       "$\\displaystyle \\left[\\begin{matrix}1 & b & 1 & 0 & 0 & 0\\\\\\frac{1}{b} & 1 & 0 & 0 & 0 & 0\\\\0 & 0 & 1 & b & 1 & 0\\\\0 & 0 & 0 & 1 & \\frac{1}{b} & 0\\\\- \\frac{1}{b} & 0 & 0 & 0 & - \\frac{1}{b} & 0\\end{matrix}\\right]$"
      ],
      "text/plain": [
       "⎡ 1   b  1  0   0   0⎤\n",
       "⎢                    ⎥\n",
       "⎢ 1                  ⎥\n",
       "⎢ ─   1  0  0   0   0⎥\n",
       "⎢ b                  ⎥\n",
       "⎢                    ⎥\n",
       "⎢ 0   0  1  b   1   0⎥\n",
       "⎢                    ⎥\n",
       "⎢               1    ⎥\n",
       "⎢ 0   0  0  1   ─   0⎥\n",
       "⎢               b    ⎥\n",
       "⎢                    ⎥\n",
       "⎢-1            -1    ⎥\n",
       "⎢───  0  0  0  ───  0⎥\n",
       "⎣ b             b    ⎦"
      ]
     },
     "metadata": {},
     "output_type": "display_data"
    },
    {
     "name": "stdout",
     "output_type": "stream",
     "text": [
      "\n",
      "\n"
     ]
    },
    {
     "data": {
      "text/latex": [
       "$\\displaystyle \\left[\\begin{matrix}1 & b & 1 & 0 & 0 & 0\\\\\\frac{1}{b} & 1 & 0 & 0 & 0 & 0\\\\0 & 0 & 1 & b & 1 & 0\\\\0 & 0 & 0 & 1 & \\frac{1}{b} & 0\\\\- \\frac{1}{b} & 0 & 0 & 0 & - \\frac{1}{b} & 0\\end{matrix}\\right]$"
      ],
      "text/plain": [
       "⎡ 1   b  1  0   0   0⎤\n",
       "⎢                    ⎥\n",
       "⎢ 1                  ⎥\n",
       "⎢ ─   1  0  0   0   0⎥\n",
       "⎢ b                  ⎥\n",
       "⎢                    ⎥\n",
       "⎢ 0   0  1  b   1   0⎥\n",
       "⎢                    ⎥\n",
       "⎢               1    ⎥\n",
       "⎢ 0   0  0  1   ─   0⎥\n",
       "⎢               b    ⎥\n",
       "⎢                    ⎥\n",
       "⎢-1            -1    ⎥\n",
       "⎢───  0  0  0  ───  0⎥\n",
       "⎣ b             b    ⎦"
      ]
     },
     "metadata": {},
     "output_type": "display_data"
    },
    {
     "name": "stdout",
     "output_type": "stream",
     "text": [
      "Case 3: {a: c/(b*c - 2)}, not including [{a: 1/b}]\n",
      "R_1 <-> R_2\n"
     ]
    },
    {
     "data": {
      "text/latex": [
       "$\\displaystyle \\left[\\begin{matrix}1 & b & 1 & 0 & 0 & 0\\\\\\frac{c}{b c - 2} & 1 & 0 & 0 & 0 & 0\\\\0 & 1 & c & 1 & 0 & 0\\\\0 & 0 & 1 & b & 1 & 0\\\\0 & 0 & 0 & 1 & \\frac{c}{b c - 2} & 0\\end{matrix}\\right]$"
      ],
      "text/plain": [
       "⎡   1     b  1  0     0     0⎤\n",
       "⎢                            ⎥\n",
       "⎢   c                        ⎥\n",
       "⎢───────  1  0  0     0     0⎥\n",
       "⎢b⋅c - 2                     ⎥\n",
       "⎢                            ⎥\n",
       "⎢   0     1  c  1     0     0⎥\n",
       "⎢                            ⎥\n",
       "⎢   0     0  1  b     1     0⎥\n",
       "⎢                            ⎥\n",
       "⎢                     c      ⎥\n",
       "⎢   0     0  0  1  ───────  0⎥\n",
       "⎣                  b⋅c - 2   ⎦"
      ]
     },
     "metadata": {},
     "output_type": "display_data"
    },
    {
     "name": "stdout",
     "output_type": "stream",
     "text": [
      "\n",
      "\n",
      "ERROR: Max tries exceeded to reduce row 2 with row 1\n",
      "R_3 <- R_3 - (1)R_2\n"
     ]
    },
    {
     "data": {
      "text/latex": [
       "$\\displaystyle \\left[\\begin{matrix}1 & b & 1 & 0 & 0 & 0\\\\\\frac{c}{b c - 2} & 1 & 0 & 0 & 0 & 0\\\\- \\frac{c}{b c - 2} & 0 & c & 1 & 0 & 0\\\\0 & 0 & 1 & b & 1 & 0\\\\0 & 0 & 0 & 1 & \\frac{c}{b c - 2} & 0\\end{matrix}\\right]$"
      ],
      "text/plain": [
       "⎡   1     b  1  0     0     0⎤\n",
       "⎢                            ⎥\n",
       "⎢   c                        ⎥\n",
       "⎢───────  1  0  0     0     0⎥\n",
       "⎢b⋅c - 2                     ⎥\n",
       "⎢                            ⎥\n",
       "⎢  -c                        ⎥\n",
       "⎢───────  0  c  1     0     0⎥\n",
       "⎢b⋅c - 2                     ⎥\n",
       "⎢                            ⎥\n",
       "⎢   0     0  1  b     1     0⎥\n",
       "⎢                            ⎥\n",
       "⎢                     c      ⎥\n",
       "⎢   0     0  0  1  ───────  0⎥\n",
       "⎣                  b⋅c - 2   ⎦"
      ]
     },
     "metadata": {},
     "output_type": "display_data"
    },
    {
     "name": "stdout",
     "output_type": "stream",
     "text": [
      "\n",
      "\n",
      "R_3 <-> R_4\n"
     ]
    },
    {
     "data": {
      "text/latex": [
       "$\\displaystyle \\left[\\begin{matrix}1 & b & 1 & 0 & 0 & 0\\\\\\frac{c}{b c - 2} & 1 & 0 & 0 & 0 & 0\\\\0 & 0 & 1 & b & 1 & 0\\\\- \\frac{c}{b c - 2} & 0 & c & 1 & 0 & 0\\\\0 & 0 & 0 & 1 & \\frac{c}{b c - 2} & 0\\end{matrix}\\right]$"
      ],
      "text/plain": [
       "⎡   1     b  1  0     0     0⎤\n",
       "⎢                            ⎥\n",
       "⎢   c                        ⎥\n",
       "⎢───────  1  0  0     0     0⎥\n",
       "⎢b⋅c - 2                     ⎥\n",
       "⎢                            ⎥\n",
       "⎢   0     0  1  b     1     0⎥\n",
       "⎢                            ⎥\n",
       "⎢  -c                        ⎥\n",
       "⎢───────  0  c  1     0     0⎥\n",
       "⎢b⋅c - 2                     ⎥\n",
       "⎢                            ⎥\n",
       "⎢                     c      ⎥\n",
       "⎢   0     0  0  1  ───────  0⎥\n",
       "⎣                  b⋅c - 2   ⎦"
      ]
     },
     "metadata": {},
     "output_type": "display_data"
    },
    {
     "name": "stdout",
     "output_type": "stream",
     "text": [
      "\n",
      "\n",
      "R_4 <- R_4 - (c)R_3\n"
     ]
    },
    {
     "data": {
      "text/latex": [
       "$\\displaystyle \\left[\\begin{matrix}1 & b & 1 & 0 & 0 & 0\\\\\\frac{c}{b c - 2} & 1 & 0 & 0 & 0 & 0\\\\0 & 0 & 1 & b & 1 & 0\\\\- \\frac{c}{b c - 2} & 0 & 0 & - b c + 1 & - c & 0\\\\0 & 0 & 0 & 1 & \\frac{c}{b c - 2} & 0\\end{matrix}\\right]$"
      ],
      "text/plain": [
       "⎡   1     b  1     0         0     0⎤\n",
       "⎢                                   ⎥\n",
       "⎢   c                               ⎥\n",
       "⎢───────  1  0     0         0     0⎥\n",
       "⎢b⋅c - 2                            ⎥\n",
       "⎢                                   ⎥\n",
       "⎢   0     0  1     b         1     0⎥\n",
       "⎢                                   ⎥\n",
       "⎢  -c                               ⎥\n",
       "⎢───────  0  0  -b⋅c + 1    -c     0⎥\n",
       "⎢b⋅c - 2                            ⎥\n",
       "⎢                                   ⎥\n",
       "⎢                            c      ⎥\n",
       "⎢   0     0  0     1      ───────  0⎥\n",
       "⎣                         b⋅c - 2   ⎦"
      ]
     },
     "metadata": {},
     "output_type": "display_data"
    },
    {
     "name": "stdout",
     "output_type": "stream",
     "text": [
      "\n",
      "\n",
      "R_4 <-> R_5\n"
     ]
    },
    {
     "data": {
      "text/latex": [
       "$\\displaystyle \\left[\\begin{matrix}1 & b & 1 & 0 & 0 & 0\\\\\\frac{c}{b c - 2} & 1 & 0 & 0 & 0 & 0\\\\0 & 0 & 1 & b & 1 & 0\\\\0 & 0 & 0 & 1 & \\frac{c}{b c - 2} & 0\\\\- \\frac{c}{b c - 2} & 0 & 0 & - b c + 1 & - c & 0\\end{matrix}\\right]$"
      ],
      "text/plain": [
       "⎡   1     b  1     0         0     0⎤\n",
       "⎢                                   ⎥\n",
       "⎢   c                               ⎥\n",
       "⎢───────  1  0     0         0     0⎥\n",
       "⎢b⋅c - 2                            ⎥\n",
       "⎢                                   ⎥\n",
       "⎢   0     0  1     b         1     0⎥\n",
       "⎢                                   ⎥\n",
       "⎢                            c      ⎥\n",
       "⎢   0     0  0     1      ───────  0⎥\n",
       "⎢                         b⋅c - 2   ⎥\n",
       "⎢                                   ⎥\n",
       "⎢  -c                               ⎥\n",
       "⎢───────  0  0  -b⋅c + 1    -c     0⎥\n",
       "⎣b⋅c - 2                            ⎦"
      ]
     },
     "metadata": {},
     "output_type": "display_data"
    },
    {
     "name": "stdout",
     "output_type": "stream",
     "text": [
      "\n",
      "\n",
      "R_5 <- R_5 - (1)R_4\n"
     ]
    },
    {
     "data": {
      "text/latex": [
       "$\\displaystyle \\left[\\begin{matrix}1 & b & 1 & 0 & 0 & 0\\\\\\frac{c}{b c - 2} & 1 & 0 & 0 & 0 & 0\\\\0 & 0 & 1 & b & 1 & 0\\\\0 & 0 & 0 & 1 & \\frac{c}{b c - 2} & 0\\\\- \\frac{c}{b c - 2} & 0 & 0 & - b c & - \\frac{b c^{2}}{b c - 2} + \\frac{c}{b c - 2} & 0\\end{matrix}\\right]$"
      ],
      "text/plain": [
       "⎡   1     b  1   0             0           0⎤\n",
       "⎢                                           ⎥\n",
       "⎢   c                                       ⎥\n",
       "⎢───────  1  0   0             0           0⎥\n",
       "⎢b⋅c - 2                                    ⎥\n",
       "⎢                                           ⎥\n",
       "⎢   0     0  1   b             1           0⎥\n",
       "⎢                                           ⎥\n",
       "⎢                              c            ⎥\n",
       "⎢   0     0  0   1          ───────        0⎥\n",
       "⎢                           b⋅c - 2         ⎥\n",
       "⎢                                           ⎥\n",
       "⎢                           2               ⎥\n",
       "⎢  -c                    b⋅c         c      ⎥\n",
       "⎢───────  0  0  -b⋅c  - ─────── + ───────  0⎥\n",
       "⎣b⋅c - 2                b⋅c - 2   b⋅c - 2   ⎦"
      ]
     },
     "metadata": {},
     "output_type": "display_data"
    },
    {
     "name": "stdout",
     "output_type": "stream",
     "text": [
      "\n",
      "\n",
      "R_5 <- R_5 - (-b*c)R_4\n"
     ]
    },
    {
     "data": {
      "text/latex": [
       "$\\displaystyle \\left[\\begin{matrix}1 & b & 1 & 0 & 0 & 0\\\\\\frac{c}{b c - 2} & 1 & 0 & 0 & 0 & 0\\\\0 & 0 & 1 & b & 1 & 0\\\\0 & 0 & 0 & 1 & \\frac{c}{b c - 2} & 0\\\\- \\frac{c}{b c - 2} & 0 & 0 & 0 & \\frac{c}{b c - 2} & 0\\end{matrix}\\right]$"
      ],
      "text/plain": [
       "⎡   1     b  1  0     0     0⎤\n",
       "⎢                            ⎥\n",
       "⎢   c                        ⎥\n",
       "⎢───────  1  0  0     0     0⎥\n",
       "⎢b⋅c - 2                     ⎥\n",
       "⎢                            ⎥\n",
       "⎢   0     0  1  b     1     0⎥\n",
       "⎢                            ⎥\n",
       "⎢                     c      ⎥\n",
       "⎢   0     0  0  1  ───────  0⎥\n",
       "⎢                  b⋅c - 2   ⎥\n",
       "⎢                            ⎥\n",
       "⎢  -c                 c      ⎥\n",
       "⎢───────  0  0  0  ───────  0⎥\n",
       "⎣b⋅c - 2           b⋅c - 2   ⎦"
      ]
     },
     "metadata": {},
     "output_type": "display_data"
    },
    {
     "name": "stdout",
     "output_type": "stream",
     "text": [
      "\n",
      "\n"
     ]
    },
    {
     "data": {
      "text/latex": [
       "$\\displaystyle \\left[\\begin{matrix}1 & b & 1 & 0 & 0 & 0\\\\\\frac{c}{b c - 2} & 1 & 0 & 0 & 0 & 0\\\\0 & 0 & 1 & b & 1 & 0\\\\0 & 0 & 0 & 1 & \\frac{c}{b c - 2} & 0\\\\- \\frac{c}{b c - 2} & 0 & 0 & 0 & \\frac{c}{b c - 2} & 0\\end{matrix}\\right]$"
      ],
      "text/plain": [
       "⎡   1     b  1  0     0     0⎤\n",
       "⎢                            ⎥\n",
       "⎢   c                        ⎥\n",
       "⎢───────  1  0  0     0     0⎥\n",
       "⎢b⋅c - 2                     ⎥\n",
       "⎢                            ⎥\n",
       "⎢   0     0  1  b     1     0⎥\n",
       "⎢                            ⎥\n",
       "⎢                     c      ⎥\n",
       "⎢   0     0  0  1  ───────  0⎥\n",
       "⎢                  b⋅c - 2   ⎥\n",
       "⎢                            ⎥\n",
       "⎢  -c                 c      ⎥\n",
       "⎢───────  0  0  0  ───────  0⎥\n",
       "⎣b⋅c - 2           b⋅c - 2   ⎦"
      ]
     },
     "metadata": {},
     "output_type": "display_data"
    }
   ],
   "source": [
    "a, b, c = sym.symbols('a b c')\n",
    "evaluate_cases(Matrix([\n",
    "    [a,1,0,0,0],\n",
    "    [1,b,1,0,0],\n",
    "    [0,1,c,1,0],\n",
    "    [0,0,1,b,1],\n",
    "    [0,0,0,1,a]\n",
    "]), rhs=Matrix([0, 0, 0, 0, 0]))"
   ]
  },
  {
   "cell_type": "code",
   "execution_count": 77,
   "metadata": {},
   "outputs": [
    {
     "data": {
      "text/latex": [
       "$\\displaystyle \\left[\\begin{matrix}2 a & b + 2 & 3\\\\a^{2} & b & a\\\\a & b + 1 & 2\\end{matrix}\\right]$"
      ],
      "text/plain": [
       "⎡2⋅a  b + 2  3⎤\n",
       "⎢             ⎥\n",
       "⎢ 2           ⎥\n",
       "⎢a      b    a⎥\n",
       "⎢             ⎥\n",
       "⎣ a   b + 1  2⎦"
      ]
     },
     "execution_count": 77,
     "metadata": {},
     "output_type": "execute_result"
    }
   ],
   "source": [
    "A"
   ]
  },
  {
   "cell_type": "markdown",
   "metadata": {},
   "source": [
    "# REF"
   ]
  },
  {
   "cell_type": "code",
   "execution_count": 8,
   "metadata": {},
   "outputs": [
    {
     "data": {
      "text/latex": [
       "$\\displaystyle \\left[\\begin{matrix}a & 2 & a & a + b\\\\a & 2 & a & a\\\\3 & 3 & - b & 3\\\\a + 1 & 3 & a + 1 & a + 1\\end{matrix}\\right]$"
      ],
      "text/plain": [
       "⎡  a    2    a    a + b⎤\n",
       "⎢                      ⎥\n",
       "⎢  a    2    a      a  ⎥\n",
       "⎢                      ⎥\n",
       "⎢  3    3   -b      3  ⎥\n",
       "⎢                      ⎥\n",
       "⎣a + 1  3  a + 1  a + 1⎦"
      ]
     },
     "metadata": {},
     "output_type": "display_data"
    },
    {
     "data": {
      "text/latex": [
       "$\\displaystyle \\left[\\begin{matrix}a - b\\\\a - b\\\\- b\\\\a - b + 1\\end{matrix}\\right]$"
      ],
      "text/plain": [
       "⎡  a - b  ⎤\n",
       "⎢         ⎥\n",
       "⎢  a - b  ⎥\n",
       "⎢         ⎥\n",
       "⎢   -b    ⎥\n",
       "⎢         ⎥\n",
       "⎣a - b + 1⎦"
      ]
     },
     "metadata": {},
     "output_type": "display_data"
    },
    {
     "name": "stdout",
     "output_type": "stream",
     "text": [
      "Exception encountered: name 'is_zero' is not defined\n"
     ]
    },
    {
     "data": {
      "text/latex": [
       "$\\displaystyle \\left( \\left[\\begin{matrix}0 & 0 & 1 & 0\\\\0 & 1 & 0 & 0\\\\1 & 0 & 0 & 0\\\\0 & 0 & 0 & 1\\end{matrix}\\right], \\  \\left[\\begin{matrix}3 & 3 & - b & 3 & - b\\\\a & 2 & a & a & a - b\\\\a & 2 & a & a + b & a - b\\\\a + 1 & 3 & a + 1 & a + 1 & a - b + 1\\end{matrix}\\right]\\right)$"
      ],
      "text/plain": [
       "⎛⎡0  0  1  0⎤  ⎡  3    3   -b      3       -b    ⎤⎞\n",
       "⎜⎢          ⎥  ⎢                                 ⎥⎟\n",
       "⎜⎢0  1  0  0⎥  ⎢  a    2    a      a      a - b  ⎥⎟\n",
       "⎜⎢          ⎥, ⎢                                 ⎥⎟\n",
       "⎜⎢1  0  0  0⎥  ⎢  a    2    a    a + b    a - b  ⎥⎟\n",
       "⎜⎢          ⎥  ⎢                                 ⎥⎟\n",
       "⎝⎣0  0  0  1⎦  ⎣a + 1  3  a + 1  a + 1  a - b + 1⎦⎠"
      ]
     },
     "execution_count": 8,
     "metadata": {},
     "output_type": "execute_result"
    }
   ],
   "source": [
    "a, b = sym.symbols('a b')\n",
    "\n",
    "A = Matrix([[a,2,a,a+b],\n",
    "            [a,2,a,a],\n",
    "            [3,3,-b,3],\n",
    "            [a+1,3,a+1,a+1]])\n",
    "\n",
    "B = Matrix([a-b, a-b, -b, a-b+1])\n",
    "display(A, B)\n",
    "\n",
    "A.row_join(B).ref(verbosity=0)"
   ]
  },
  {
   "cell_type": "code",
   "execution_count": 12,
   "metadata": {},
   "outputs": [
    {
     "data": {
      "text/latex": [
       "$\\displaystyle \\left[\\begin{matrix}1 & a & b & a\\\\1 & 2 & b & a\\\\1 & a & 0 & 2 - b\\\\1 & 2 & - a + b & 0\\end{matrix}\\right]$"
      ],
      "text/plain": [
       "⎡1  a    b       a  ⎤\n",
       "⎢                   ⎥\n",
       "⎢1  2    b       a  ⎥\n",
       "⎢                   ⎥\n",
       "⎢1  a    0     2 - b⎥\n",
       "⎢                   ⎥\n",
       "⎣1  2  -a + b    0  ⎦"
      ]
     },
     "metadata": {},
     "output_type": "display_data"
    },
    {
     "data": {
      "text/latex": [
       "$\\displaystyle \\left[\\begin{matrix}1\\\\1\\\\1\\\\0\\end{matrix}\\right]$"
      ],
      "text/plain": [
       "⎡1⎤\n",
       "⎢ ⎥\n",
       "⎢1⎥\n",
       "⎢ ⎥\n",
       "⎢1⎥\n",
       "⎢ ⎥\n",
       "⎣0⎦"
      ]
     },
     "metadata": {},
     "output_type": "display_data"
    },
    {
     "name": "stdout",
     "output_type": "stream",
     "text": [
      "Exception encountered: name 'is_zero' is not defined\n"
     ]
    },
    {
     "data": {
      "text/latex": [
       "$\\displaystyle \\left( \\left[\\begin{matrix}1 & 0 & 0 & 0\\\\0 & 1 & 0 & 0\\\\0 & 0 & 1 & 0\\\\0 & 0 & 0 & 1\\end{matrix}\\right], \\  \\left[\\begin{matrix}1 & a & b & a & 1\\\\1 & 2 & b & a & 1\\\\1 & a & 0 & 2 - b & 1\\\\1 & 2 & - a + b & 0 & 0\\end{matrix}\\right]\\right)$"
      ],
      "text/plain": [
       "⎛⎡1  0  0  0⎤  ⎡1  a    b       a    1⎤⎞\n",
       "⎜⎢          ⎥  ⎢                      ⎥⎟\n",
       "⎜⎢0  1  0  0⎥  ⎢1  2    b       a    1⎥⎟\n",
       "⎜⎢          ⎥, ⎢                      ⎥⎟\n",
       "⎜⎢0  0  1  0⎥  ⎢1  a    0     2 - b  1⎥⎟\n",
       "⎜⎢          ⎥  ⎢                      ⎥⎟\n",
       "⎝⎣0  0  0  1⎦  ⎣1  2  -a + b    0    0⎦⎠"
      ]
     },
     "execution_count": 12,
     "metadata": {},
     "output_type": "execute_result"
    }
   ],
   "source": [
    "a, b = sym.symbols('a b')\n",
    "\n",
    "A = Matrix([[1, a, b, a],\n",
    "            [1, 2, b, a],\n",
    "            [1, a, 0, -(b-2)],\n",
    "            [1, 2, b-a, 0]])\n",
    "\n",
    "B = Matrix([1, 1, 1, 0])\n",
    "\n",
    "display(A, B)\n",
    "\n",
    "A.row_join(B).ref()"
   ]
  },
  {
   "cell_type": "code",
   "execution_count": 2,
   "metadata": {},
   "outputs": [
    {
     "data": {
      "text/latex": [
       "$\\displaystyle \\left[\\begin{matrix}2 a & b + 2 & 3\\\\a^{2} & b & a\\\\a & b + 1 & 2\\end{matrix}\\right]$"
      ],
      "text/plain": [
       "⎡2⋅a  b + 2  3⎤\n",
       "⎢             ⎥\n",
       "⎢ 2           ⎥\n",
       "⎢a      b    a⎥\n",
       "⎢             ⎥\n",
       "⎣ a   b + 1  2⎦"
      ]
     },
     "metadata": {},
     "output_type": "display_data"
    },
    {
     "data": {
      "text/latex": [
       "$\\displaystyle \\left[\\begin{matrix}3\\\\a + 1\\\\2\\end{matrix}\\right]$"
      ],
      "text/plain": [
       "⎡  3  ⎤\n",
       "⎢     ⎥\n",
       "⎢a + 1⎥\n",
       "⎢     ⎥\n",
       "⎣  2  ⎦"
      ]
     },
     "metadata": {},
     "output_type": "display_data"
    },
    {
     "name": "stdout",
     "output_type": "stream",
     "text": [
      "R_2 <- R_2 - (a/2)R_1\n"
     ]
    },
    {
     "data": {
      "text/latex": [
       "$\\displaystyle \\left[\\begin{matrix}2 a & b + 2 & 3 & 3\\\\0 & - \\frac{a b}{2} - a + b & - \\frac{a}{2} & 1 - \\frac{a}{2}\\\\a & b + 1 & 2 & 2\\end{matrix}\\right]$"
      ],
      "text/plain": [
       "⎡2⋅a      b + 2       3     3  ⎤\n",
       "⎢                              ⎥\n",
       "⎢       a⋅b          -a       a⎥\n",
       "⎢ 0   - ─── - a + b  ───  1 - ─⎥\n",
       "⎢        2            2       2⎥\n",
       "⎢                              ⎥\n",
       "⎣ a       b + 1       2     2  ⎦"
      ]
     },
     "metadata": {},
     "output_type": "display_data"
    },
    {
     "name": "stdout",
     "output_type": "stream",
     "text": [
      "\n",
      "\n",
      "R_3 <- R_3 - (1/2)R_1\n"
     ]
    },
    {
     "data": {
      "text/latex": [
       "$\\displaystyle \\left[\\begin{matrix}2 a & b + 2 & 3 & 3\\\\0 & - \\frac{a b}{2} - a + b & - \\frac{a}{2} & 1 - \\frac{a}{2}\\\\0 & \\frac{b}{2} & \\frac{1}{2} & \\frac{1}{2}\\end{matrix}\\right]$"
      ],
      "text/plain": [
       "⎡2⋅a      b + 2       3     3  ⎤\n",
       "⎢                              ⎥\n",
       "⎢       a⋅b          -a       a⎥\n",
       "⎢ 0   - ─── - a + b  ───  1 - ─⎥\n",
       "⎢        2            2       2⎥\n",
       "⎢                              ⎥\n",
       "⎢           b                  ⎥\n",
       "⎢ 0         ─        1/2   1/2 ⎥\n",
       "⎣           2                  ⎦"
      ]
     },
     "metadata": {},
     "output_type": "display_data"
    },
    {
     "name": "stdout",
     "output_type": "stream",
     "text": [
      "\n",
      "\n",
      "ERROR: Max tries exceeded to reduce row 3 with row 2\n"
     ]
    },
    {
     "data": {
      "text/latex": [
       "$\\displaystyle \\left[\\begin{matrix}2 a & b + 2 & 3 & 3\\\\0 & - \\frac{a b}{2} - a + b & - \\frac{a}{2} & 1 - \\frac{a}{2}\\\\0 & \\frac{b}{2} & \\frac{1}{2} & \\frac{1}{2}\\end{matrix}\\right]$"
      ],
      "text/plain": [
       "⎡2⋅a      b + 2       3     3  ⎤\n",
       "⎢                              ⎥\n",
       "⎢       a⋅b          -a       a⎥\n",
       "⎢ 0   - ─── - a + b  ───  1 - ─⎥\n",
       "⎢        2            2       2⎥\n",
       "⎢                              ⎥\n",
       "⎢           b                  ⎥\n",
       "⎢ 0         ─        1/2   1/2 ⎥\n",
       "⎣           2                  ⎦"
      ]
     },
     "execution_count": 2,
     "metadata": {},
     "output_type": "execute_result"
    }
   ],
   "source": [
    "a, b, = sym.symbols('a b', is_real=True)\n",
    "A = Matrix([[2*a, b+2, 3],\n",
    "            [a**2, b, a],\n",
    "            [a, b+1, 2]])\n",
    "B = Matrix([3, a+1, 2])\n",
    "\n",
    "display(A, B)\n",
    "\n",
    "_, my_ref = A.row_join(B).ref()\n",
    "my_ref"
   ]
  },
  {
   "cell_type": "code",
   "execution_count": 76,
   "metadata": {},
   "outputs": [
    {
     "name": "stdout",
     "output_type": "stream",
     "text": [
      "Case 1: {}, not including [{a: 0}, {a: b}]\n",
      "ERROR: Max tries exceeded to reduce row 3 with row 2\n"
     ]
    },
    {
     "data": {
      "text/latex": [
       "$\\displaystyle \\left[\\begin{matrix}2 a & b + 2 & 3 & 3\\\\0 & - \\frac{a b}{2} - a + b & - \\frac{a}{2} & 1 - \\frac{a}{2}\\\\0 & \\frac{b}{2} & \\frac{1}{2} & \\frac{1}{2}\\end{matrix}\\right]$"
      ],
      "text/plain": [
       "⎡2⋅a      b + 2       3     3  ⎤\n",
       "⎢                              ⎥\n",
       "⎢       a⋅b          -a       a⎥\n",
       "⎢ 0   - ─── - a + b  ───  1 - ─⎥\n",
       "⎢        2            2       2⎥\n",
       "⎢                              ⎥\n",
       "⎢           b                  ⎥\n",
       "⎢ 0         ─        1/2   1/2 ⎥\n",
       "⎣           2                  ⎦"
      ]
     },
     "metadata": {},
     "output_type": "display_data"
    },
    {
     "name": "stdout",
     "output_type": "stream",
     "text": [
      "Case 2: {a: 0}, not including [{a: b}]\n",
      "ERROR: Max tries exceeded to reduce row 2 with row 1\n",
      "ERROR: Max tries exceeded to reduce row 3 with row 1\n"
     ]
    },
    {
     "data": {
      "text/latex": [
       "$\\displaystyle \\left[\\begin{matrix}0 & b + 2 & 3 & 3\\\\0 & -2 & -3 & -2\\\\0 & - \\frac{1}{3} & 0 & - \\frac{1}{3}\\end{matrix}\\right]$"
      ],
      "text/plain": [
       "⎡0  b + 2  3    3  ⎤\n",
       "⎢                  ⎥\n",
       "⎢0   -2    -3   -2 ⎥\n",
       "⎢                  ⎥\n",
       "⎣0  -1/3   0   -1/3⎦"
      ]
     },
     "metadata": {},
     "output_type": "display_data"
    },
    {
     "name": "stdout",
     "output_type": "stream",
     "text": [
      "Case 3: {a: b}, not including [{a: 0}]\n",
      "ERROR: Max tries exceeded to reduce row 3 with row 2\n"
     ]
    },
    {
     "data": {
      "text/latex": [
       "$\\displaystyle \\left[\\begin{matrix}2 b & b + 2 & 3 & 3\\\\0 & - \\frac{b^{2}}{2} & - \\frac{b}{2} & 1 - \\frac{b}{2}\\\\0 & \\frac{b}{2} & \\frac{1}{2} & \\frac{1}{2}\\end{matrix}\\right]$"
      ],
      "text/plain": [
       "⎡2⋅b  b + 2   3     3  ⎤\n",
       "⎢                      ⎥\n",
       "⎢       2              ⎥\n",
       "⎢     -b     -b       b⎥\n",
       "⎢ 0   ────   ───  1 - ─⎥\n",
       "⎢      2      2       2⎥\n",
       "⎢                      ⎥\n",
       "⎢       b              ⎥\n",
       "⎢ 0     ─    1/2   1/2 ⎥\n",
       "⎣       2              ⎦"
      ]
     },
     "metadata": {},
     "output_type": "display_data"
    }
   ],
   "source": [
    "evaluate_cases(A, B)"
   ]
  },
  {
   "cell_type": "code",
   "execution_count": 9,
   "metadata": {},
   "outputs": [
    {
     "data": {
      "text/latex": [
       "$\\displaystyle \\left[\\begin{matrix}2 a & b + 2 & 3 & 3\\\\0 & - \\frac{a b}{2} - a + b & - \\frac{a}{2} & 1 - \\frac{a}{2}\\\\0 & \\frac{b}{2} & \\frac{1}{2} & \\frac{1}{2}\\end{matrix}\\right]$"
      ],
      "text/plain": [
       "⎡2⋅a      b + 2       3     3  ⎤\n",
       "⎢                              ⎥\n",
       "⎢       a⋅b          -a       a⎥\n",
       "⎢ 0   - ─── - a + b  ───  1 - ─⎥\n",
       "⎢        2            2       2⎥\n",
       "⎢                              ⎥\n",
       "⎢           b                  ⎥\n",
       "⎢ 0         ─        1/2   1/2 ⎥\n",
       "⎣           2                  ⎦"
      ]
     },
     "execution_count": 9,
     "metadata": {},
     "output_type": "execute_result"
    }
   ],
   "source": [
    "my_ref"
   ]
  },
  {
   "cell_type": "code",
   "execution_count": 10,
   "metadata": {},
   "outputs": [
    {
     "name": "stdout",
     "output_type": "stream",
     "text": [
      "R_3 <- R_3 - (2)R_2\n"
     ]
    },
    {
     "data": {
      "text/latex": [
       "$\\displaystyle \\left[\\begin{matrix}2 a & b + 2 & 3 & 3\\\\0 & \\frac{b}{2} & \\frac{1}{2} & \\frac{1}{2}\\\\0 & - \\frac{a b}{2} - a & - \\frac{a}{2} - 1 & - \\frac{a}{2}\\end{matrix}\\right]$"
      ],
      "text/plain": [
       "⎡2⋅a    b + 2       3      3 ⎤\n",
       "⎢                            ⎥\n",
       "⎢         b                  ⎥\n",
       "⎢ 0       ─        1/2    1/2⎥\n",
       "⎢         2                  ⎥\n",
       "⎢                            ⎥\n",
       "⎢       a⋅b        a      -a ⎥\n",
       "⎢ 0   - ─── - a  - ─ - 1  ───⎥\n",
       "⎣        2         2       2 ⎦"
      ]
     },
     "metadata": {},
     "output_type": "display_data"
    },
    {
     "name": "stdout",
     "output_type": "stream",
     "text": [
      "\n",
      "\n",
      "R_3 <- R_3 - (-a)R_2\n"
     ]
    },
    {
     "data": {
      "text/latex": [
       "$\\displaystyle \\left[\\begin{matrix}2 a & b + 2 & 3 & 3\\\\0 & \\frac{b}{2} & \\frac{1}{2} & \\frac{1}{2}\\\\0 & - a & -1 & 0\\end{matrix}\\right]$"
      ],
      "text/plain": [
       "⎡2⋅a  b + 2   3    3 ⎤\n",
       "⎢                    ⎥\n",
       "⎢       b            ⎥\n",
       "⎢ 0     ─    1/2  1/2⎥\n",
       "⎢       2            ⎥\n",
       "⎢                    ⎥\n",
       "⎣ 0    -a    -1    0 ⎦"
      ]
     },
     "metadata": {},
     "output_type": "display_data"
    },
    {
     "name": "stdout",
     "output_type": "stream",
     "text": [
      "\n",
      "\n",
      "ERROR: Max tries exceeded to reduce row 3 with row 2\n"
     ]
    },
    {
     "data": {
      "text/latex": [
       "$\\displaystyle \\left( \\left[\\begin{matrix}1 & 0 & 0\\\\0 & 1 & 0\\\\0 & 2 - a & 1\\end{matrix}\\right], \\  \\left[\\begin{matrix}2 a & b + 2 & 3 & 3\\\\0 & \\frac{b}{2} & \\frac{1}{2} & \\frac{1}{2}\\\\0 & - a & -1 & 0\\end{matrix}\\right]\\right)$"
      ],
      "text/plain": [
       "⎛               ⎡2⋅a  b + 2   3    3 ⎤⎞\n",
       "⎜⎡1    0    0⎤  ⎢                    ⎥⎟\n",
       "⎜⎢           ⎥  ⎢       b            ⎥⎟\n",
       "⎜⎢0    1    0⎥, ⎢ 0     ─    1/2  1/2⎥⎟\n",
       "⎜⎢           ⎥  ⎢       2            ⎥⎟\n",
       "⎜⎣0  2 - a  1⎦  ⎢                    ⎥⎟\n",
       "⎝               ⎣ 0    -a    -1    0 ⎦⎠"
      ]
     },
     "execution_count": 10,
     "metadata": {},
     "output_type": "execute_result"
    }
   ],
   "source": [
    "my_ref.copy().swap_row(1, 2).ref()"
   ]
  },
  {
   "cell_type": "code",
   "execution_count": 69,
   "metadata": {},
   "outputs": [
    {
     "data": {
      "text/latex": [
       "$\\displaystyle \\left[\\begin{matrix}0 & b + 2 & 3 & 3\\\\0 & b & 0 & 1\\\\0 & b + 1 & 2 & 2\\end{matrix}\\right]$"
      ],
      "text/plain": [
       "⎡0  b + 2  3  3⎤\n",
       "⎢              ⎥\n",
       "⎢0    b    0  1⎥\n",
       "⎢              ⎥\n",
       "⎣0  b + 1  2  2⎦"
      ]
     },
     "execution_count": 69,
     "metadata": {},
     "output_type": "execute_result"
    }
   ],
   "source": [
    "A.row_join(B).subs({a:0})"
   ]
  },
  {
   "cell_type": "code",
   "execution_count": 73,
   "metadata": {},
   "outputs": [
    {
     "name": "stdout",
     "output_type": "stream",
     "text": [
      "R_2 <- R_2 - (1)R_1\n",
      "⎡0    b    0  1⎤\n",
      "⎢              ⎥\n",
      "⎢0    2    3  2⎥\n",
      "⎢              ⎥\n",
      "⎣0  b + 1  2  2⎦\n",
      "\n",
      "\n",
      "ERROR: Max tries exceeded to reduce row 2 with row 1\n",
      "R_3 <- R_3 - (1)R_1\n",
      "⎡0  b  0  1⎤\n",
      "⎢          ⎥\n",
      "⎢0  2  3  2⎥\n",
      "⎢          ⎥\n",
      "⎣0  1  2  1⎦\n",
      "\n",
      "\n",
      "ERROR: Max tries exceeded to reduce row 3 with row 1\n",
      "R_3 <- R_3 - (2/3)R_2\n",
      "⎡0   b    0   1  ⎤\n",
      "⎢                ⎥\n",
      "⎢0   2    3   2  ⎥\n",
      "⎢                ⎥\n",
      "⎣0  -1/3  0  -1/3⎦\n",
      "\n",
      "\n"
     ]
    },
    {
     "data": {
      "text/latex": [
       "$\\displaystyle \\left( \\left[\\begin{matrix}1 & 0 & 0\\\\1 & 1 & 0\\\\1 & \\frac{2}{3} & 1\\end{matrix}\\right], \\  \\left[\\begin{matrix}0 & b & 0 & 1\\\\0 & 2 & 3 & 2\\\\0 & - \\frac{1}{3} & 0 & - \\frac{1}{3}\\end{matrix}\\right]\\right)$"
      ],
      "text/plain": [
       "⎛⎡1   0   0⎤  ⎡0   b    0   1  ⎤⎞\n",
       "⎜⎢         ⎥  ⎢                ⎥⎟\n",
       "⎜⎢1   1   0⎥, ⎢0   2    3   2  ⎥⎟\n",
       "⎜⎢         ⎥  ⎢                ⎥⎟\n",
       "⎝⎣1  2/3  1⎦  ⎣0  -1/3  0  -1/3⎦⎠"
      ]
     },
     "execution_count": 73,
     "metadata": {},
     "output_type": "execute_result"
    }
   ],
   "source": [
    "A.row_join(B).subs({a:0}).copy().swap_row(0, 1).ref()"
   ]
  },
  {
   "cell_type": "code",
   "execution_count": null,
   "metadata": {},
   "outputs": [],
   "source": [
    "a, b = sym.symbols('a b')\n",
    "\n",
    "A = Matrix([[1, 1, 3, 0],\n",
    "            [0, 2, 4, 1],\n",
    "            [2, 0, 4, a],\n",
    "            [1, a, 2, b]])\n",
    "\n",
    "B = Matrix([-1, b, a, 0])\n"
   ]
  },
  {
   "cell_type": "markdown",
   "metadata": {},
   "source": [
    "# SVD Test\n"
   ]
  },
  {
   "cell_type": "code",
   "execution_count": 2,
   "metadata": {},
   "outputs": [
    {
     "name": "stdout",
     "output_type": "stream",
     "text": [
      "A^T A\n"
     ]
    },
    {
     "data": {
      "text/latex": [
       "$\\displaystyle \\left[\\begin{matrix}9 & -9\\\\-9 & 9\\end{matrix}\\right]$"
      ],
      "text/plain": [
       "⎡9   -9⎤\n",
       "⎢      ⎥\n",
       "⎣-9  9 ⎦"
      ]
     },
     "metadata": {},
     "output_type": "display_data"
    },
    {
     "name": "stdout",
     "output_type": "stream",
     "text": [
      "Characteristic Polynomial\n"
     ]
    },
    {
     "data": {
      "text/latex": [
       "$\\displaystyle x \\left(x - 18\\right)$"
      ],
      "text/plain": [
       "x⋅(x - 18)"
      ]
     },
     "metadata": {},
     "output_type": "display_data"
    },
    {
     "name": "stdout",
     "output_type": "stream",
     "text": [
      "Original: (18)I - A\n"
     ]
    },
    {
     "data": {
      "text/latex": [
       "$\\displaystyle \\left[\\begin{matrix}9 & 9\\\\9 & 9\\end{matrix}\\right]$"
      ],
      "text/plain": [
       "⎡9  9⎤\n",
       "⎢    ⎥\n",
       "⎣9  9⎦"
      ]
     },
     "metadata": {},
     "output_type": "display_data"
    },
    {
     "name": "stdout",
     "output_type": "stream",
     "text": [
      "\n",
      "After RREF:\n"
     ]
    },
    {
     "data": {
      "text/latex": [
       "$\\displaystyle \\left( \\left[\\begin{matrix}1 & 1\\\\0 & 0\\end{matrix}\\right], \\  \\left( 0,\\right)\\right)$"
      ],
      "text/plain": [
       "⎛⎡1  1⎤      ⎞\n",
       "⎜⎢    ⎥, (0,)⎟\n",
       "⎝⎣0  0⎦      ⎠"
      ]
     },
     "metadata": {},
     "output_type": "display_data"
    },
    {
     "name": "stdout",
     "output_type": "stream",
     "text": [
      "\n",
      "Eigenvectors:\n"
     ]
    },
    {
     "data": {
      "text/latex": [
       "$\\displaystyle \\left[ \\left[\\begin{matrix}-1\\\\1\\end{matrix}\\right]\\right]$"
      ],
      "text/plain": [
       "⎡⎡-1⎤⎤\n",
       "⎢⎢  ⎥⎥\n",
       "⎣⎣1 ⎦⎦"
      ]
     },
     "metadata": {},
     "output_type": "display_data"
    },
    {
     "name": "stdout",
     "output_type": "stream",
     "text": [
      "\n",
      "\n",
      "Original: (0)I - A\n"
     ]
    },
    {
     "data": {
      "text/latex": [
       "$\\displaystyle \\left[\\begin{matrix}-9 & 9\\\\9 & -9\\end{matrix}\\right]$"
      ],
      "text/plain": [
       "⎡-9  9 ⎤\n",
       "⎢      ⎥\n",
       "⎣9   -9⎦"
      ]
     },
     "metadata": {},
     "output_type": "display_data"
    },
    {
     "name": "stdout",
     "output_type": "stream",
     "text": [
      "\n",
      "After RREF:\n"
     ]
    },
    {
     "data": {
      "text/latex": [
       "$\\displaystyle \\left( \\left[\\begin{matrix}1 & -1\\\\0 & 0\\end{matrix}\\right], \\  \\left( 0,\\right)\\right)$"
      ],
      "text/plain": [
       "⎛⎡1  -1⎤      ⎞\n",
       "⎜⎢     ⎥, (0,)⎟\n",
       "⎝⎣0  0 ⎦      ⎠"
      ]
     },
     "metadata": {},
     "output_type": "display_data"
    },
    {
     "name": "stdout",
     "output_type": "stream",
     "text": [
      "\n",
      "Eigenvectors:\n"
     ]
    },
    {
     "data": {
      "text/latex": [
       "$\\displaystyle \\left[ \\left[\\begin{matrix}1\\\\1\\end{matrix}\\right]\\right]$"
      ],
      "text/plain": [
       "⎡⎡1⎤⎤\n",
       "⎢⎢ ⎥⎥\n",
       "⎣⎣1⎦⎦"
      ]
     },
     "metadata": {},
     "output_type": "display_data"
    },
    {
     "name": "stdout",
     "output_type": "stream",
     "text": [
      "\n",
      "\n"
     ]
    },
    {
     "data": {
      "text/latex": [
       "$\\displaystyle u_1 = (1/3 \\sqrt{2})A\\left[\\begin{matrix}- \\frac{\\sqrt{2}}{2}\\\\\\frac{\\sqrt{2}}{2}\\end{matrix}\\right] = \\left[\\begin{matrix}- \\frac{1}{3}\\\\\\frac{2}{3}\\\\- \\frac{2}{3}\\end{matrix}\\right]$"
      ],
      "text/plain": [
       "<IPython.core.display.Math object>"
      ]
     },
     "metadata": {},
     "output_type": "display_data"
    },
    {
     "name": "stdout",
     "output_type": "stream",
     "text": [
      "\n",
      "Extending U with its orthogonal complement.\n"
     ]
    },
    {
     "data": {
      "text/latex": [
       "$\\displaystyle \\left( \\left[\\begin{matrix}1 & -2 & 2\\end{matrix}\\right], \\  \\left( 0,\\right)\\right)$"
      ],
      "text/plain": [
       "([1  -2  2], (0,))"
      ]
     },
     "metadata": {},
     "output_type": "display_data"
    },
    {
     "data": {
      "text/latex": [
       "$\\displaystyle v_1 = \\left[\\begin{matrix}2\\\\1\\\\0\\end{matrix}\\right]$"
      ],
      "text/plain": [
       "<IPython.core.display.Math object>"
      ]
     },
     "metadata": {},
     "output_type": "display_data"
    },
    {
     "data": {
      "text/latex": [
       "$\\displaystyle v_2 = \\left[\\begin{matrix}-2\\\\0\\\\1\\end{matrix}\\right]- (-4/5) \\left[\\begin{matrix}2\\\\1\\\\0\\end{matrix}\\right] = \\left(\\frac{1}{5}\\right) \\left[\\begin{matrix}-2\\\\4\\\\5\\end{matrix}\\right]$"
      ],
      "text/plain": [
       "<IPython.core.display.Math object>"
      ]
     },
     "metadata": {},
     "output_type": "display_data"
    },
    {
     "name": "stdout",
     "output_type": "stream",
     "text": [
      "U, S, V\n"
     ]
    },
    {
     "data": {
      "text/latex": [
       "$\\displaystyle \\left[ \\left[\\begin{matrix}- \\frac{1}{3} & \\frac{2 \\sqrt{5}}{5} & - \\frac{2 \\sqrt{5}}{15}\\\\\\frac{2}{3} & \\frac{\\sqrt{5}}{5} & \\frac{4 \\sqrt{5}}{15}\\\\- \\frac{2}{3} & 0 & \\frac{\\sqrt{5}}{3}\\end{matrix}\\right], \\  \\left[\\begin{matrix}3 \\sqrt{2} & 0\\\\0 & 0\\\\0 & 0\\end{matrix}\\right], \\  \\left[\\begin{matrix}- \\frac{\\sqrt{2}}{2} & \\frac{\\sqrt{2}}{2}\\\\\\frac{\\sqrt{2}}{2} & \\frac{\\sqrt{2}}{2}\\end{matrix}\\right]\\right]$"
      ],
      "text/plain": [
       "⎡⎡      2⋅√5  -2⋅√5 ⎤                       ⎤\n",
       "⎢⎢-1/3  ────  ──────⎥                       ⎥\n",
       "⎢⎢       5      15  ⎥             ⎡-√2   √2⎤⎥\n",
       "⎢⎢                  ⎥  ⎡3⋅√2  0⎤  ⎢────  ──⎥⎥\n",
       "⎢⎢       √5    4⋅√5 ⎥  ⎢       ⎥  ⎢ 2    2 ⎥⎥\n",
       "⎢⎢2/3    ──    ──── ⎥, ⎢ 0    0⎥, ⎢        ⎥⎥\n",
       "⎢⎢       5      15  ⎥  ⎢       ⎥  ⎢ √2   √2⎥⎥\n",
       "⎢⎢                  ⎥  ⎣ 0    0⎦  ⎢ ──   ──⎥⎥\n",
       "⎢⎢              √5  ⎥             ⎣ 2    2 ⎦⎥\n",
       "⎢⎢-2/3   0      ──  ⎥                       ⎥\n",
       "⎣⎣              3   ⎦                       ⎦"
      ]
     },
     "metadata": {},
     "output_type": "display_data"
    }
   ],
   "source": [
    "# A = Matrix.create_rand_matrix(3, 6)\n",
    "\n",
    "# A.fast_svd(option='sym')\n",
    "A = Matrix([[1, -1],\n",
    "            [-2, 2],\n",
    "            [2, -2]])\n",
    "\n",
    "# A = Matrix([\n",
    "#   [3, 2, 2],\n",
    "#   [2, 3, -2]\n",
    "# ])\n",
    "\n",
    "# A = Matrix([[3, 1, 1],\n",
    "#             [-1, 3, 1]])\n",
    "\n",
    "# A = Matrix([[1, -1, 3],\n",
    "#             [3, 1, 1]])\n",
    "\n",
    "# A = Matrix([[1, 0],\n",
    "#             [0, 1],\n",
    "#             [1, 1]])\n",
    "\n",
    "# A = Matrix([[3, 2],\n",
    "#             [2, 3],\n",
    "#             [2, -2]])\n",
    "\n",
    "\n",
    "# A = Matrix([[-18, 13, -4, 4],\n",
    "#             [2, 19, -4, 12],\n",
    "#             [-14, 11, -12, 8],\n",
    "#             [-2, 21, 4, 8]])\n",
    "\n",
    "\n",
    "# U, S, V = A.fast_svd(option='sym')\n",
    "U, S, V = A.singular_value_decomposition(1)\n",
    "assert A == U @ S @ V.T\n",
    "\n",
    "# U, S, V\n",
    "# U.applyfunc(lambda x: -x)\n",
    "# U\n",
    "# A.singular_value_decomposition()\n",
    "# (A.T @ A).eigenvects()"
   ]
  },
  {
   "cell_type": "code",
   "execution_count": 10,
   "metadata": {},
   "outputs": [
    {
     "name": "stdout",
     "output_type": "stream",
     "text": [
      "Characteristic Polynomial\n"
     ]
    },
    {
     "data": {
      "text/latex": [
       "$\\displaystyle x \\left(x - 1600\\right) \\left(x - 400\\right) \\left(x - 100\\right)$"
      ],
      "text/plain": [
       "x⋅(x - 1600)⋅(x - 400)⋅(x - 100)"
      ]
     },
     "metadata": {},
     "output_type": "display_data"
    },
    {
     "name": "stdout",
     "output_type": "stream",
     "text": [
      "Original: (1600)I - A\n"
     ]
    },
    {
     "data": {
      "text/latex": [
       "$\\displaystyle \\left[\\begin{matrix}1072 & 392 & -224 & 176\\\\392 & 508 & 176 & -536\\\\-224 & 176 & 1408 & 128\\\\176 & -536 & 128 & 1312\\end{matrix}\\right]$"
      ],
      "text/plain": [
       "⎡1072  392   -224  176 ⎤\n",
       "⎢                      ⎥\n",
       "⎢392   508   176   -536⎥\n",
       "⎢                      ⎥\n",
       "⎢-224  176   1408  128 ⎥\n",
       "⎢                      ⎥\n",
       "⎣176   -536  128   1312⎦"
      ]
     },
     "metadata": {},
     "output_type": "display_data"
    },
    {
     "name": "stdout",
     "output_type": "stream",
     "text": [
      "\n",
      "After RREF:\n"
     ]
    },
    {
     "data": {
      "text/latex": [
       "$\\displaystyle \\left( \\left[\\begin{matrix}1 & 0 & 0 & 1\\\\0 & 1 & 0 & -2\\\\0 & 0 & 1 & \\frac{1}{2}\\\\0 & 0 & 0 & 0\\end{matrix}\\right], \\  \\left( 0, \\  1, \\  2\\right)\\right)$"
      ],
      "text/plain": [
       "⎛⎡1  0  0   1 ⎤           ⎞\n",
       "⎜⎢            ⎥           ⎟\n",
       "⎜⎢0  1  0  -2 ⎥           ⎟\n",
       "⎜⎢            ⎥, (0, 1, 2)⎟\n",
       "⎜⎢0  0  1  1/2⎥           ⎟\n",
       "⎜⎢            ⎥           ⎟\n",
       "⎝⎣0  0  0   0 ⎦           ⎠"
      ]
     },
     "metadata": {},
     "output_type": "display_data"
    },
    {
     "name": "stdout",
     "output_type": "stream",
     "text": [
      "\n",
      "Eigenvectors:\n"
     ]
    },
    {
     "data": {
      "text/latex": [
       "$\\displaystyle \\left[ \\left[\\begin{matrix}-1\\\\2\\\\- \\frac{1}{2}\\\\1\\end{matrix}\\right]\\right]$"
      ],
      "text/plain": [
       "⎡⎡ -1 ⎤⎤\n",
       "⎢⎢    ⎥⎥\n",
       "⎢⎢ 2  ⎥⎥\n",
       "⎢⎢    ⎥⎥\n",
       "⎢⎢-1/2⎥⎥\n",
       "⎢⎢    ⎥⎥\n",
       "⎣⎣ 1  ⎦⎦"
      ]
     },
     "metadata": {},
     "output_type": "display_data"
    },
    {
     "name": "stdout",
     "output_type": "stream",
     "text": [
      "\n",
      "\n",
      "Original: (400)I - A\n"
     ]
    },
    {
     "data": {
      "text/latex": [
       "$\\displaystyle \\left[\\begin{matrix}-128 & 392 & -224 & 176\\\\392 & -692 & 176 & -536\\\\-224 & 176 & 208 & 128\\\\176 & -536 & 128 & 112\\end{matrix}\\right]$"
      ],
      "text/plain": [
       "⎡-128  392   -224  176 ⎤\n",
       "⎢                      ⎥\n",
       "⎢392   -692  176   -536⎥\n",
       "⎢                      ⎥\n",
       "⎢-224  176   208   128 ⎥\n",
       "⎢                      ⎥\n",
       "⎣176   -536  128   112 ⎦"
      ]
     },
     "metadata": {},
     "output_type": "display_data"
    },
    {
     "name": "stdout",
     "output_type": "stream",
     "text": [
      "\n",
      "After RREF:\n"
     ]
    },
    {
     "data": {
      "text/latex": [
       "$\\displaystyle \\left( \\left[\\begin{matrix}1 & 0 & 0 & -4\\\\0 & 1 & 0 & -2\\\\0 & 0 & 1 & -2\\\\0 & 0 & 0 & 0\\end{matrix}\\right], \\  \\left( 0, \\  1, \\  2\\right)\\right)$"
      ],
      "text/plain": [
       "⎛⎡1  0  0  -4⎤           ⎞\n",
       "⎜⎢           ⎥           ⎟\n",
       "⎜⎢0  1  0  -2⎥           ⎟\n",
       "⎜⎢           ⎥, (0, 1, 2)⎟\n",
       "⎜⎢0  0  1  -2⎥           ⎟\n",
       "⎜⎢           ⎥           ⎟\n",
       "⎝⎣0  0  0  0 ⎦           ⎠"
      ]
     },
     "metadata": {},
     "output_type": "display_data"
    },
    {
     "name": "stdout",
     "output_type": "stream",
     "text": [
      "\n",
      "Eigenvectors:\n"
     ]
    },
    {
     "data": {
      "text/latex": [
       "$\\displaystyle \\left[ \\left[\\begin{matrix}4\\\\2\\\\2\\\\1\\end{matrix}\\right]\\right]$"
      ],
      "text/plain": [
       "⎡⎡4⎤⎤\n",
       "⎢⎢ ⎥⎥\n",
       "⎢⎢2⎥⎥\n",
       "⎢⎢ ⎥⎥\n",
       "⎢⎢2⎥⎥\n",
       "⎢⎢ ⎥⎥\n",
       "⎣⎣1⎦⎦"
      ]
     },
     "metadata": {},
     "output_type": "display_data"
    },
    {
     "name": "stdout",
     "output_type": "stream",
     "text": [
      "\n",
      "\n",
      "Original: (100)I - A\n"
     ]
    },
    {
     "data": {
      "text/latex": [
       "$\\displaystyle \\left[\\begin{matrix}-428 & 392 & -224 & 176\\\\392 & -992 & 176 & -536\\\\-224 & 176 & -92 & 128\\\\176 & -536 & 128 & -188\\end{matrix}\\right]$"
      ],
      "text/plain": [
       "⎡-428  392   -224  176 ⎤\n",
       "⎢                      ⎥\n",
       "⎢392   -992  176   -536⎥\n",
       "⎢                      ⎥\n",
       "⎢-224  176   -92   128 ⎥\n",
       "⎢                      ⎥\n",
       "⎣176   -536  128   -188⎦"
      ]
     },
     "metadata": {},
     "output_type": "display_data"
    },
    {
     "name": "stdout",
     "output_type": "stream",
     "text": [
      "\n",
      "After RREF:\n"
     ]
    },
    {
     "data": {
      "text/latex": [
       "$\\displaystyle \\left( \\left[\\begin{matrix}1 & 0 & 0 & -1\\\\0 & 1 & 0 & \\frac{1}{2}\\\\0 & 0 & 1 & 2\\\\0 & 0 & 0 & 0\\end{matrix}\\right], \\  \\left( 0, \\  1, \\  2\\right)\\right)$"
      ],
      "text/plain": [
       "⎛⎡1  0  0  -1 ⎤           ⎞\n",
       "⎜⎢            ⎥           ⎟\n",
       "⎜⎢0  1  0  1/2⎥           ⎟\n",
       "⎜⎢            ⎥, (0, 1, 2)⎟\n",
       "⎜⎢0  0  1   2 ⎥           ⎟\n",
       "⎜⎢            ⎥           ⎟\n",
       "⎝⎣0  0  0   0 ⎦           ⎠"
      ]
     },
     "metadata": {},
     "output_type": "display_data"
    },
    {
     "name": "stdout",
     "output_type": "stream",
     "text": [
      "\n",
      "Eigenvectors:\n"
     ]
    },
    {
     "data": {
      "text/latex": [
       "$\\displaystyle \\left[ \\left[\\begin{matrix}1\\\\- \\frac{1}{2}\\\\-2\\\\1\\end{matrix}\\right]\\right]$"
      ],
      "text/plain": [
       "⎡⎡ 1  ⎤⎤\n",
       "⎢⎢    ⎥⎥\n",
       "⎢⎢-1/2⎥⎥\n",
       "⎢⎢    ⎥⎥\n",
       "⎢⎢ -2 ⎥⎥\n",
       "⎢⎢    ⎥⎥\n",
       "⎣⎣ 1  ⎦⎦"
      ]
     },
     "metadata": {},
     "output_type": "display_data"
    },
    {
     "name": "stdout",
     "output_type": "stream",
     "text": [
      "\n",
      "\n",
      "Original: (0)I - A\n"
     ]
    },
    {
     "data": {
      "text/latex": [
       "$\\displaystyle \\left[\\begin{matrix}-528 & 392 & -224 & 176\\\\392 & -1092 & 176 & -536\\\\-224 & 176 & -192 & 128\\\\176 & -536 & 128 & -288\\end{matrix}\\right]$"
      ],
      "text/plain": [
       "⎡-528   392   -224  176 ⎤\n",
       "⎢                       ⎥\n",
       "⎢392   -1092  176   -536⎥\n",
       "⎢                       ⎥\n",
       "⎢-224   176   -192  128 ⎥\n",
       "⎢                       ⎥\n",
       "⎣176   -536   128   -288⎦"
      ]
     },
     "metadata": {},
     "output_type": "display_data"
    },
    {
     "name": "stdout",
     "output_type": "stream",
     "text": [
      "\n",
      "After RREF:\n"
     ]
    },
    {
     "data": {
      "text/latex": [
       "$\\displaystyle \\left( \\left[\\begin{matrix}1 & 0 & 0 & \\frac{1}{4}\\\\0 & 1 & 0 & \\frac{1}{2}\\\\0 & 0 & 1 & - \\frac{1}{2}\\\\0 & 0 & 0 & 0\\end{matrix}\\right], \\  \\left( 0, \\  1, \\  2\\right)\\right)$"
      ],
      "text/plain": [
       "⎛⎡1  0  0  1/4 ⎤           ⎞\n",
       "⎜⎢             ⎥           ⎟\n",
       "⎜⎢0  1  0  1/2 ⎥           ⎟\n",
       "⎜⎢             ⎥, (0, 1, 2)⎟\n",
       "⎜⎢0  0  1  -1/2⎥           ⎟\n",
       "⎜⎢             ⎥           ⎟\n",
       "⎝⎣0  0  0   0  ⎦           ⎠"
      ]
     },
     "metadata": {},
     "output_type": "display_data"
    },
    {
     "name": "stdout",
     "output_type": "stream",
     "text": [
      "\n",
      "Eigenvectors:\n"
     ]
    },
    {
     "data": {
      "text/latex": [
       "$\\displaystyle \\left[ \\left[\\begin{matrix}- \\frac{1}{4}\\\\- \\frac{1}{2}\\\\\\frac{1}{2}\\\\1\\end{matrix}\\right]\\right]$"
      ],
      "text/plain": [
       "⎡⎡-1/4⎤⎤\n",
       "⎢⎢    ⎥⎥\n",
       "⎢⎢-1/2⎥⎥\n",
       "⎢⎢    ⎥⎥\n",
       "⎢⎢1/2 ⎥⎥\n",
       "⎢⎢    ⎥⎥\n",
       "⎣⎣ 1  ⎦⎦"
      ]
     },
     "metadata": {},
     "output_type": "display_data"
    },
    {
     "name": "stdout",
     "output_type": "stream",
     "text": [
      "\n",
      "\n"
     ]
    },
    {
     "data": {
      "text/latex": [
       "$\\displaystyle \\left( \\left[\\begin{matrix}- \\frac{1}{5} & \\frac{2}{5} & \\frac{4}{5} & - \\frac{2}{5}\\\\- \\frac{2}{5} & - \\frac{1}{5} & \\frac{2}{5} & \\frac{4}{5}\\\\\\frac{2}{5} & - \\frac{4}{5} & \\frac{2}{5} & - \\frac{1}{5}\\\\\\frac{4}{5} & \\frac{2}{5} & \\frac{1}{5} & \\frac{2}{5}\\end{matrix}\\right], \\  \\left[\\begin{matrix}0 & 0 & 0 & 0\\\\0 & 100 & 0 & 0\\\\0 & 0 & 400 & 0\\\\0 & 0 & 0 & 1600\\end{matrix}\\right]\\right)$"
      ],
      "text/plain": [
       "⎛⎡-1/5  2/5   4/5  -2/5⎤  ⎡0   0    0    0  ⎤⎞\n",
       "⎜⎢                     ⎥  ⎢                 ⎥⎟\n",
       "⎜⎢-2/5  -1/5  2/5  4/5 ⎥  ⎢0  100   0    0  ⎥⎟\n",
       "⎜⎢                     ⎥, ⎢                 ⎥⎟\n",
       "⎜⎢2/5   -4/5  2/5  -1/5⎥  ⎢0   0   400   0  ⎥⎟\n",
       "⎜⎢                     ⎥  ⎢                 ⎥⎟\n",
       "⎝⎣4/5   2/5   1/5  2/5 ⎦  ⎣0   0    0   1600⎦⎠"
      ]
     },
     "execution_count": 10,
     "metadata": {},
     "output_type": "execute_result"
    }
   ],
   "source": [
    "(A.T @ A).orthogonally_diagonalize()"
   ]
  },
  {
   "cell_type": "code",
   "execution_count": 6,
   "metadata": {},
   "outputs": [
    {
     "data": {
      "text/latex": [
       "$\\displaystyle \\left( \\left[\\begin{matrix}\\frac{\\sqrt{2}}{2} & - \\frac{\\sqrt{2}}{2}\\\\\\frac{\\sqrt{2}}{2} & \\frac{\\sqrt{2}}{2}\\end{matrix}\\right], \\  \\left[\\begin{matrix}5 & 0 & 0\\\\0 & 3 & 0\\end{matrix}\\right], \\  \\left[\\begin{matrix}\\frac{\\sqrt{2}}{2} & - \\frac{\\sqrt{2}}{6} & \\frac{2}{3}\\\\\\frac{\\sqrt{2}}{2} & \\frac{\\sqrt{2}}{6} & - \\frac{2}{3}\\\\0 & - \\frac{2 \\sqrt{2}}{3} & - \\frac{1}{3}\\end{matrix}\\right]\\right)$"
      ],
      "text/plain": [
       "⎛                       ⎡√2   -√2        ⎤⎞\n",
       "⎜                       ⎢──   ────   2/3 ⎥⎟\n",
       "⎜⎡√2  -√2 ⎤             ⎢2     6         ⎥⎟\n",
       "⎜⎢──  ────⎥             ⎢                ⎥⎟\n",
       "⎜⎢2    2  ⎥  ⎡5  0  0⎤  ⎢√2    √2        ⎥⎟\n",
       "⎜⎢        ⎥, ⎢       ⎥, ⎢──    ──    -2/3⎥⎟\n",
       "⎜⎢√2   √2 ⎥  ⎣0  3  0⎦  ⎢2     6         ⎥⎟\n",
       "⎜⎢──   ── ⎥             ⎢                ⎥⎟\n",
       "⎜⎣2    2  ⎦             ⎢    -2⋅√2       ⎥⎟\n",
       "⎜                       ⎢0   ──────  -1/3⎥⎟\n",
       "⎝                       ⎣      3         ⎦⎠"
      ]
     },
     "execution_count": 6,
     "metadata": {},
     "output_type": "execute_result"
    }
   ],
   "source": [
    "U, S, V"
   ]
  },
  {
   "cell_type": "markdown",
   "metadata": {},
   "source": [
    "# is_zero"
   ]
  },
  {
   "cell_type": "code",
   "execution_count": 107,
   "metadata": {},
   "outputs": [],
   "source": [
    "def is_zero(expr) -> bool:\n",
    "    # returns True if expr can be 0 for real values of unknowns\n",
    "    # use is_complex rather than is_real as symbol.is_complex and \n",
    "    # symbol.is_real returns None\n",
    "\n",
    "    def is_real_dict(case) -> bool:\n",
    "        for _, value in case.items():\n",
    "            # zero is considered complex\n",
    "            if value.is_complex and value != 0:\n",
    "                return False\n",
    "        return True\n",
    "\n",
    "    if (not isinstance(expr, sym.Expr)) or isinstance(expr, sym.Number):\n",
    "        return expr == 0\n",
    "    \n",
    "    # set symbols assumption to true\n",
    "    real_symbols = sym.symbols(f'x:{len(expr.free_symbols)}')\n",
    "    for symbol, real_symbol in zip(expr.free_symbols, real_symbols):\n",
    "        expr = expr.subs({symbol: real_symbol})\n",
    "\n",
    "    sol = sym.solve(sym.Eq(expr, 0), expr.free_symbols)\n",
    "    return len(sol) > 0\n",
    "    # display(f\"{sol=}\")\n",
    "    # for case in sol:\n",
    "    #     if isinstance(case, dict):\n",
    "    #         if is_real_dict(case):\n",
    "    #             return True\n",
    "    #         else:\n",
    "    #             continue\n",
    "    #     elif case.is_symbol or case.is_real:\n",
    "    #         return True\n",
    "    #     elif not case.is_complex:\n",
    "    #         return True\n",
    "    # return False\n",
    "\n",
    "# a, b = sym.symbols('a b', real=True)\n",
    "assert is_zero(-a*b/2-a+b) == True\n",
    "assert is_zero(a-b) == True\n",
    "assert is_zero(0) == True\n",
    "assert is_zero(a*b) == True\n",
    "assert is_zero(b) == True\n",
    "assert is_zero(1) == False\n",
    "\n",
    "n, d = sym.fraction(1)\n",
    "assert is_zero(d) == False\n",
    "\n",
    "# is_zero(a*b)"
   ]
  },
  {
   "cell_type": "code",
   "execution_count": 106,
   "metadata": {},
   "outputs": [
    {
     "data": {
      "text/latex": [
       "$\\displaystyle \\left[\\begin{matrix}x_{1,1} & x_{1,2} & x_{1,3} & x_{1,4}\\\\x_{2,1} & x_{2,2} & x_{2,3} & x_{2,4}\\\\x_{3,1} & x_{3,2} & x_{3,3} & x_{3,4}\\end{matrix}\\right]$"
      ],
      "text/plain": [
       "⎡x_1,1  x_1,2  x_1,3  x_1,4⎤\n",
       "⎢                          ⎥\n",
       "⎢x_2,1  x_2,2  x_2,3  x_2,4⎥\n",
       "⎢                          ⎥\n",
       "⎣x_3,1  x_3,2  x_3,3  x_3,4⎦"
      ]
     },
     "execution_count": 106,
     "metadata": {},
     "output_type": "execute_result"
    }
   ],
   "source": [
    "def create_unk_matrix(num_rows: int = 1,\n",
    "                        num_cols: int = 1,\n",
    "                        symbol: str = 'x',\n",
    "                        is_real: bool = True) -> sym.Matrix:\n",
    "    # Creates a matrix of size rows * cols with entries symbol_ij\n",
    "    entries = sym.symbols(f'{symbol}_(1:{num_rows+1})\\\\,(1:{num_cols+1})', is_real=is_real)\n",
    "    return Matrix(entries).reshape(num_rows, num_cols)\n",
    "\n",
    "create_unk_matrix(3, 4)"
   ]
  }
 ],
 "metadata": {
  "kernelspec": {
   "display_name": ".venv",
   "language": "python",
   "name": "python3"
  },
  "language_info": {
   "codemirror_mode": {
    "name": "ipython",
    "version": 3
   },
   "file_extension": ".py",
   "mimetype": "text/x-python",
   "name": "python",
   "nbconvert_exporter": "python",
   "pygments_lexer": "ipython3",
   "version": "3.12.7"
  }
 },
 "nbformat": 4,
 "nbformat_minor": 2
}
